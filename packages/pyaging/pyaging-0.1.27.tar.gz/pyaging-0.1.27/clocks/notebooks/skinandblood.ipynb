{
 "cells": [
  {
   "cell_type": "markdown",
   "id": "2f04eee0-5928-4e74-a754-6dc2e528810c",
   "metadata": {},
   "source": [
    "# SkinAndBlood"
   ]
  },
  {
   "cell_type": "markdown",
   "id": "a3f514a3-772c-4a14-afdf-5a8376851ff4",
   "metadata": {},
   "source": [
    "## Index\n",
    "1. [Instantiate model class](#Instantiate-model-class)\n",
    "2. [Define clock metadata](#Define-clock-metadata)\n",
    "3. [Download clock dependencies](#Download-clock-dependencies)\n",
    "5. [Load features](#Load-features)\n",
    "6. [Load weights into base model](#Load-weights-into-base-model)\n",
    "7. [Load reference values](#Load-reference-values)\n",
    "8. [Load preprocess and postprocess objects](#Load-preprocess-and-postprocess-objects)\n",
    "10. [Check all clock parameters](#Check-all-clock-parameters)\n",
    "10. [Basic test](#Basic-test)\n",
    "11. [Save torch model](#Save-torch-model)\n",
    "12. [Clear directory](#Clear-directory)"
   ]
  },
  {
   "cell_type": "markdown",
   "id": "d95fafdc-643a-40ea-a689-200bd132e90c",
   "metadata": {},
   "source": [
    "Let's first import some packages:"
   ]
  },
  {
   "cell_type": "code",
   "execution_count": 1,
   "id": "4adfb4de-cd79-4913-a1af-9e23e9e236c9",
   "metadata": {
    "execution": {
     "iopub.execute_input": "2024-03-05T21:23:22.072092Z",
     "iopub.status.busy": "2024-03-05T21:23:22.071242Z",
     "iopub.status.idle": "2024-03-05T21:23:23.395965Z",
     "shell.execute_reply": "2024-03-05T21:23:23.395603Z"
    }
   },
   "outputs": [],
   "source": [
    "import os\n",
    "import inspect\n",
    "import shutil\n",
    "import json\n",
    "import torch\n",
    "import pandas as pd\n",
    "import pyaging as pya"
   ]
  },
  {
   "cell_type": "markdown",
   "id": "145082e5-ced4-47ae-88c0-cb69773e3c5a",
   "metadata": {},
   "source": [
    "## Instantiate model class"
   ]
  },
  {
   "cell_type": "code",
   "execution_count": 2,
   "id": "8aa77372-7ed3-4da7-abc9-d30372106139",
   "metadata": {
    "execution": {
     "iopub.execute_input": "2024-03-05T21:23:23.397972Z",
     "iopub.status.busy": "2024-03-05T21:23:23.397802Z",
     "iopub.status.idle": "2024-03-05T21:23:23.406987Z",
     "shell.execute_reply": "2024-03-05T21:23:23.406735Z"
    }
   },
   "outputs": [
    {
     "name": "stdout",
     "output_type": "stream",
     "text": [
      "class SkinAndBlood(pyagingModel):\n",
      "    def __init__(self):\n",
      "        super().__init__()\n",
      "\n",
      "    def preprocess(self, x):\n",
      "        return x\n",
      "\n",
      "    def postprocess(self, x):\n",
      "        \"\"\"\n",
      "        Applies an anti-logarithmic linear transformation to a PyTorch tensor.\n",
      "        \"\"\"\n",
      "        adult_age = 20\n",
      "\n",
      "        # Create a mask for negative and non-negative values\n",
      "        mask_negative = x < 0\n",
      "        mask_non_negative = ~mask_negative\n",
      "\n",
      "        # Initialize the result tensor\n",
      "        age_tensor = torch.empty_like(x)\n",
      "\n",
      "        # Exponential transformation for negative values\n",
      "        age_tensor[mask_negative] = (1 + adult_age) * torch.exp(x[mask_negative]) - 1\n",
      "\n",
      "        # Linear transformation for non-negative values\n",
      "        age_tensor[mask_non_negative] = (1 + adult_age) * x[\n",
      "            mask_non_negative\n",
      "        ] + adult_age\n",
      "\n",
      "        return age_tensor\n",
      "\n"
     ]
    }
   ],
   "source": [
    "def print_entire_class(cls):\n",
    "    source = inspect.getsource(cls)\n",
    "    print(source)\n",
    "\n",
    "print_entire_class(pya.models.SkinAndBlood)"
   ]
  },
  {
   "cell_type": "code",
   "execution_count": 3,
   "id": "78536494-f1d9-44de-8583-c89a310d2307",
   "metadata": {
    "execution": {
     "iopub.execute_input": "2024-03-05T21:23:23.408454Z",
     "iopub.status.busy": "2024-03-05T21:23:23.408370Z",
     "iopub.status.idle": "2024-03-05T21:23:23.410092Z",
     "shell.execute_reply": "2024-03-05T21:23:23.409855Z"
    }
   },
   "outputs": [],
   "source": [
    "model = pya.models.SkinAndBlood()"
   ]
  },
  {
   "cell_type": "markdown",
   "id": "51f8615e-01fa-4aa5-b196-3ee2b35d261c",
   "metadata": {},
   "source": [
    "## Define clock metadata"
   ]
  },
  {
   "cell_type": "code",
   "execution_count": 4,
   "id": "6601da9e-8adc-44ee-9308-75e3cd31b816",
   "metadata": {
    "execution": {
     "iopub.execute_input": "2024-03-05T21:23:23.411647Z",
     "iopub.status.busy": "2024-03-05T21:23:23.411562Z",
     "iopub.status.idle": "2024-03-05T21:23:23.413407Z",
     "shell.execute_reply": "2024-03-05T21:23:23.413177Z"
    }
   },
   "outputs": [],
   "source": [
    "model.metadata[\"clock_name\"] = 'skinandblood'\n",
    "model.metadata[\"data_type\"] = 'methylation'\n",
    "model.metadata[\"species\"] = 'Homo sapiens'\n",
    "model.metadata[\"year\"] = 2018\n",
    "model.metadata[\"approved_by_author\"] = '⌛'\n",
    "model.metadata[\"citation\"] = \"Horvath, Steve, et al. \\\"Epigenetic clock for skin and blood cells applied to Hutchinson Gilford Progeria Syndrome and ex vivo studies.\\\" Aging (Albany NY) 10.7 (2018): 1758.\"\n",
    "model.metadata[\"doi\"] = \"https://doi.org/10.18632/aging.101508\"\n",
    "model.metadata[\"research_only\"] = None\n",
    "model.metadata[\"notes\"] = None"
   ]
  },
  {
   "cell_type": "markdown",
   "id": "74492239-5aae-4026-9d90-6bc9c574c110",
   "metadata": {},
   "source": [
    "## Download clock dependencies"
   ]
  },
  {
   "cell_type": "markdown",
   "id": "055fde0f-cf4a-4a6b-8f01-59302cf842eb",
   "metadata": {},
   "source": [
    "#### Download directly with curl"
   ]
  },
  {
   "cell_type": "code",
   "execution_count": 5,
   "id": "68a9dfe0-4b7d-4f95-9ff0-065a053e46f4",
   "metadata": {
    "execution": {
     "iopub.execute_input": "2024-03-05T21:23:23.414914Z",
     "iopub.status.busy": "2024-03-05T21:23:23.414833Z",
     "iopub.status.idle": "2024-03-05T21:23:23.981080Z",
     "shell.execute_reply": "2024-03-05T21:23:23.980182Z"
    }
   },
   "outputs": [
    {
     "data": {
      "text/plain": [
       "0"
      ]
     },
     "execution_count": 5,
     "metadata": {},
     "output_type": "execute_result"
    }
   ],
   "source": [
    "supplementary_url = \"https://www.aging-us.com/article/101508/supplementary/SD5/0/aging-v10i7-101508-supplementary-material-SD5.csv\"\n",
    "supplementary_file_name = \"coefficients.csv\"\n",
    "os.system(f\"curl -o {supplementary_file_name} {supplementary_url}\")"
   ]
  },
  {
   "cell_type": "markdown",
   "id": "5035b180-3d1b-4432-8ebe-b9c92bd93a7f",
   "metadata": {},
   "source": [
    "## Load features"
   ]
  },
  {
   "cell_type": "markdown",
   "id": "15f4af76-b93c-438c-b57f-f129d6e9ec99",
   "metadata": {},
   "source": [
    "#### From CSV file"
   ]
  },
  {
   "cell_type": "code",
   "execution_count": 6,
   "id": "8a3d5de6-6303-487a-8b4d-e6345792f7be",
   "metadata": {
    "execution": {
     "iopub.execute_input": "2024-03-05T21:23:23.986073Z",
     "iopub.status.busy": "2024-03-05T21:23:23.985762Z",
     "iopub.status.idle": "2024-03-05T21:23:23.998091Z",
     "shell.execute_reply": "2024-03-05T21:23:23.997387Z"
    }
   },
   "outputs": [],
   "source": [
    "df = pd.read_csv('coefficients.csv')\n",
    "df['feature'] = df['ID']\n",
    "df['coefficient'] = df['Coef']\n",
    "\n",
    "model.features = df['feature'][1:].tolist()"
   ]
  },
  {
   "cell_type": "markdown",
   "id": "ee6d8fa0-4767-4c45-9717-eb1c95e2ddc0",
   "metadata": {},
   "source": [
    "## Load weights into base model"
   ]
  },
  {
   "cell_type": "code",
   "execution_count": 7,
   "id": "e09b3463-4fd4-41b1-ac21-e63ddd223fe0",
   "metadata": {
    "execution": {
     "iopub.execute_input": "2024-03-05T21:23:24.001943Z",
     "iopub.status.busy": "2024-03-05T21:23:24.001660Z",
     "iopub.status.idle": "2024-03-05T21:23:24.006092Z",
     "shell.execute_reply": "2024-03-05T21:23:24.005536Z"
    }
   },
   "outputs": [],
   "source": [
    "weights = torch.tensor(df['coefficient'][1:].tolist()).unsqueeze(0)\n",
    "intercept = torch.tensor([df['coefficient'][0]])"
   ]
  },
  {
   "cell_type": "markdown",
   "id": "ad261636-5b00-4979-bb1d-67a851f7aa19",
   "metadata": {},
   "source": [
    "#### Linear model"
   ]
  },
  {
   "cell_type": "code",
   "execution_count": 8,
   "id": "d7f43b99-26f2-4622-9a76-316712058877",
   "metadata": {
    "execution": {
     "iopub.execute_input": "2024-03-05T21:23:24.009231Z",
     "iopub.status.busy": "2024-03-05T21:23:24.009017Z",
     "iopub.status.idle": "2024-03-05T21:23:24.012947Z",
     "shell.execute_reply": "2024-03-05T21:23:24.012386Z"
    }
   },
   "outputs": [],
   "source": [
    "base_model = pya.models.LinearModel(input_dim=len(model.features))\n",
    "\n",
    "base_model.linear.weight.data = weights.float()\n",
    "base_model.linear.bias.data = intercept.float()\n",
    "\n",
    "model.base_model = base_model"
   ]
  },
  {
   "cell_type": "markdown",
   "id": "ad8b4c1d-9d57-48b7-9a30-bcfea7b747b1",
   "metadata": {},
   "source": [
    "## Load reference values"
   ]
  },
  {
   "cell_type": "code",
   "execution_count": 9,
   "id": "ade0f4c9-2298-4fc3-bb72-d200907dd731",
   "metadata": {
    "execution": {
     "iopub.execute_input": "2024-03-05T21:23:24.015477Z",
     "iopub.status.busy": "2024-03-05T21:23:24.015320Z",
     "iopub.status.idle": "2024-03-05T21:23:24.017664Z",
     "shell.execute_reply": "2024-03-05T21:23:24.017222Z"
    }
   },
   "outputs": [],
   "source": [
    "model.reference_values = None"
   ]
  },
  {
   "cell_type": "markdown",
   "id": "af3bcf7b-74a8-4d21-9ccb-4de0c2b0516b",
   "metadata": {},
   "source": [
    "## Load preprocess and postprocess objects"
   ]
  },
  {
   "cell_type": "code",
   "execution_count": 10,
   "id": "7a22fb20-c605-424d-8efb-7620c2c0755c",
   "metadata": {
    "execution": {
     "iopub.execute_input": "2024-03-05T21:23:24.019925Z",
     "iopub.status.busy": "2024-03-05T21:23:24.019772Z",
     "iopub.status.idle": "2024-03-05T21:23:24.021817Z",
     "shell.execute_reply": "2024-03-05T21:23:24.021487Z"
    }
   },
   "outputs": [],
   "source": [
    "model.preprocess_name = None\n",
    "model.preprocess_dependencies = None"
   ]
  },
  {
   "cell_type": "code",
   "execution_count": 11,
   "id": "ff4a21cb-cf41-44dc-9ed1-95cf8aa15772",
   "metadata": {
    "execution": {
     "iopub.execute_input": "2024-03-05T21:23:24.023903Z",
     "iopub.status.busy": "2024-03-05T21:23:24.023757Z",
     "iopub.status.idle": "2024-03-05T21:23:24.025876Z",
     "shell.execute_reply": "2024-03-05T21:23:24.025526Z"
    }
   },
   "outputs": [],
   "source": [
    "model.postprocess_name = 'anti_log_linear'\n",
    "model.postprocess_dependencies = None"
   ]
  },
  {
   "cell_type": "markdown",
   "id": "86e3d6b1-e67e-4f3d-bd39-0ebec5726c3c",
   "metadata": {},
   "source": [
    "## Check all clock parameters"
   ]
  },
  {
   "cell_type": "code",
   "execution_count": 12,
   "id": "2168355c-47d9-475d-b816-49f65e74887c",
   "metadata": {
    "execution": {
     "iopub.execute_input": "2024-03-05T21:23:24.027942Z",
     "iopub.status.busy": "2024-03-05T21:23:24.027798Z",
     "iopub.status.idle": "2024-03-05T21:23:24.031998Z",
     "shell.execute_reply": "2024-03-05T21:23:24.031652Z"
    }
   },
   "outputs": [
    {
     "name": "stdout",
     "output_type": "stream",
     "text": [
      "\n",
      "%==================================== Model Details ====================================%\n",
      "Model Attributes:\n",
      "\n",
      "training: True\n",
      "metadata: {'approved_by_author': '⌛',\n",
      " 'citation': 'Horvath, Steve, et al. \"Epigenetic clock for skin and blood '\n",
      "             'cells applied to Hutchinson Gilford Progeria Syndrome and ex '\n",
      "             'vivo studies.\" Aging (Albany NY) 10.7 (2018): 1758.',\n",
      " 'clock_name': 'skinandblood',\n",
      " 'data_type': 'methylation',\n",
      " 'doi': 'https://doi.org/10.18632/aging.101508',\n",
      " 'notes': None,\n",
      " 'research_only': None,\n",
      " 'species': 'Homo sapiens',\n",
      " 'version': None,\n",
      " 'year': 2018}\n",
      "reference_values: None\n",
      "preprocess_name: None\n",
      "preprocess_dependencies: None\n",
      "postprocess_name: 'anti_log_linear'\n",
      "postprocess_dependencies: None\n",
      "features: ['cg12140144', 'cg26933021', 'cg20822990', 'cg07312601', 'cg09993145', 'cg23605843', 'cg25410668', 'cg17879376', 'cg14962509', 'cg24375409', 'cg22851420', 'cg24107728', 'cg14614643', 'cg00257455', 'cg23045908', 'cg15201877', 'cg18933331', 'cg05675373', 'cg19269039', 'cg16008966', 'cg14565725', 'cg05940231', 'cg03984502', 'cg25256723', 'cg16054275', 'cg01459453', 'cg16599143', 'cg02275294', 'cg21870884', 'cg10501210']... [Total elements: 391]\n",
      "base_model_features: None\n",
      "\n",
      "%==================================== Model Details ====================================%\n",
      "Model Structure:\n",
      "\n",
      "base_model: LinearModel(\n",
      "  (linear): Linear(in_features=391, out_features=1, bias=True)\n",
      ")\n",
      "\n",
      "%==================================== Model Details ====================================%\n",
      "Model Parameters and Weights:\n",
      "\n",
      "base_model.linear.weight: [0.3631811738014221, -0.09050008654594421, -0.007025233935564756, -0.13509239256381989, -0.042639341205358505, 0.07938723266124725, 0.2780052423477173, -0.2027093917131424, 0.1823105365037918, -0.02380458638072014, 0.09719781577587128, -0.10654273629188538, -0.04339298605918884, -0.1616985946893692, 0.13732706010341644, 0.3920976221561432, -0.2317628413438797, 0.024479255080223083, -0.017557984218001366, -0.20390775799751282, -0.03556407615542412, -0.10670483857393265, 0.22212129831314087, -0.12098140269517899, -0.23396819829940796, 0.041907940059900284, 0.1419801115989685, -0.14286929368972778, -0.012681434862315655, -0.3165263533592224]... [Tensor of shape torch.Size([1, 391])]\n",
      "base_model.linear.bias: tensor([-0.4471])\n",
      "\n",
      "%==================================== Model Details ====================================%\n",
      "\n"
     ]
    }
   ],
   "source": [
    "pya.utils.print_model_details(model)"
   ]
  },
  {
   "cell_type": "markdown",
   "id": "986d0262-e0c7-4036-b687-dee53ba392fb",
   "metadata": {},
   "source": [
    "## Basic test"
   ]
  },
  {
   "cell_type": "code",
   "execution_count": 13,
   "id": "936b9877-d076-4ced-99aa-e8d4c58c5caf",
   "metadata": {
    "execution": {
     "iopub.execute_input": "2024-03-05T21:23:24.034092Z",
     "iopub.status.busy": "2024-03-05T21:23:24.033979Z",
     "iopub.status.idle": "2024-03-05T21:23:24.038536Z",
     "shell.execute_reply": "2024-03-05T21:23:24.038222Z"
    }
   },
   "outputs": [
    {
     "data": {
      "text/plain": [
       "tensor([[-0.7403],\n",
       "        [-0.9991],\n",
       "        [-0.5375],\n",
       "        [48.3885],\n",
       "        [-0.1838],\n",
       "        [-0.3993],\n",
       "        [15.9029],\n",
       "        [58.4267],\n",
       "        [ 0.6595],\n",
       "        [22.1512]], dtype=torch.float64, grad_fn=<IndexPutBackward0>)"
      ]
     },
     "execution_count": 13,
     "metadata": {},
     "output_type": "execute_result"
    }
   ],
   "source": [
    "torch.manual_seed(42)\n",
    "input = torch.randn(10, len(model.features), dtype=float)\n",
    "model.eval()\n",
    "model.to(float)\n",
    "pred = model(input)\n",
    "pred"
   ]
  },
  {
   "cell_type": "markdown",
   "id": "fe8299d7-9285-4e22-82fd-b664434b4369",
   "metadata": {},
   "source": [
    "## Save torch model"
   ]
  },
  {
   "cell_type": "code",
   "execution_count": 14,
   "id": "5ef2fa8d-c80b-4fdd-8555-79c0d541788e",
   "metadata": {
    "execution": {
     "iopub.execute_input": "2024-03-05T21:23:24.040365Z",
     "iopub.status.busy": "2024-03-05T21:23:24.040242Z",
     "iopub.status.idle": "2024-03-05T21:23:24.044035Z",
     "shell.execute_reply": "2024-03-05T21:23:24.043713Z"
    }
   },
   "outputs": [],
   "source": [
    "torch.save(model, f\"../weights/{model.metadata['clock_name']}.pt\")"
   ]
  },
  {
   "cell_type": "markdown",
   "id": "bac6257b-8d08-4a90-8d0b-7f745dc11ac1",
   "metadata": {},
   "source": [
    "## Clear directory\n",
    "<a id=\"10\"></a>"
   ]
  },
  {
   "cell_type": "code",
   "execution_count": 15,
   "id": "11aeaa70-44c0-42f9-86d7-740e3849a7a6",
   "metadata": {
    "execution": {
     "iopub.execute_input": "2024-03-05T21:23:24.045786Z",
     "iopub.status.busy": "2024-03-05T21:23:24.045690Z",
     "iopub.status.idle": "2024-03-05T21:23:24.049094Z",
     "shell.execute_reply": "2024-03-05T21:23:24.048818Z"
    }
   },
   "outputs": [
    {
     "name": "stdout",
     "output_type": "stream",
     "text": [
      "Deleted file: coefficients.csv\n"
     ]
    }
   ],
   "source": [
    "# Function to remove a folder and all its contents\n",
    "def remove_folder(path):\n",
    "    try:\n",
    "        shutil.rmtree(path)\n",
    "        print(f\"Deleted folder: {path}\")\n",
    "    except Exception as e:\n",
    "        print(f\"Error deleting folder {path}: {e}\")\n",
    "\n",
    "# Get a list of all files and folders in the current directory\n",
    "all_items = os.listdir('.')\n",
    "\n",
    "# Loop through the items\n",
    "for item in all_items:\n",
    "    # Check if it's a file and does not end with .ipynb\n",
    "    if os.path.isfile(item) and not item.endswith('.ipynb'):\n",
    "        os.remove(item)\n",
    "        print(f\"Deleted file: {item}\")\n",
    "    # Check if it's a folder\n",
    "    elif os.path.isdir(item):\n",
    "        remove_folder(item)"
   ]
  }
 ],
 "metadata": {
  "kernelspec": {
   "display_name": "Python 3",
   "language": "python",
   "name": "python3"
  },
  "language_info": {
   "codemirror_mode": {
    "name": "ipython",
    "version": 3
   },
   "file_extension": ".py",
   "mimetype": "text/x-python",
   "name": "python",
   "nbconvert_exporter": "python",
   "pygments_lexer": "ipython3",
   "version": "3.9.17"
  }
 },
 "nbformat": 4,
 "nbformat_minor": 5
}
