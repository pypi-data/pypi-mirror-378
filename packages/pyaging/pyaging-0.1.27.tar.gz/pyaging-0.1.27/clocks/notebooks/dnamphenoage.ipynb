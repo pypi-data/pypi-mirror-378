{
 "cells": [
  {
   "cell_type": "markdown",
   "id": "2f04eee0-5928-4e74-a754-6dc2e528810c",
   "metadata": {},
   "source": [
    "# DNAmPhenoAge"
   ]
  },
  {
   "cell_type": "markdown",
   "id": "a3f514a3-772c-4a14-afdf-5a8376851ff4",
   "metadata": {},
   "source": [
    "## Index\n",
    "1. [Instantiate model class](#Instantiate-model-class)\n",
    "2. [Define clock metadata](#Define-clock-metadata)\n",
    "3. [Download clock dependencies](#Download-clock-dependencies)\n",
    "5. [Load features](#Load-features)\n",
    "6. [Load weights into base model](#Load-weights-into-base-model)\n",
    "7. [Load reference values](#Load-reference-values)\n",
    "8. [Load preprocess and postprocess objects](#Load-preprocess-and-postprocess-objects)\n",
    "10. [Check all clock parameters](#Check-all-clock-parameters)\n",
    "10. [Basic test](#Basic-test)\n",
    "11. [Save torch model](#Save-torch-model)\n",
    "12. [Clear directory](#Clear-directory)"
   ]
  },
  {
   "cell_type": "markdown",
   "id": "d95fafdc-643a-40ea-a689-200bd132e90c",
   "metadata": {},
   "source": [
    "Let's first import some packages:"
   ]
  },
  {
   "cell_type": "code",
   "execution_count": 1,
   "id": "4adfb4de-cd79-4913-a1af-9e23e9e236c9",
   "metadata": {
    "execution": {
     "iopub.execute_input": "2024-03-05T20:16:48.688944Z",
     "iopub.status.busy": "2024-03-05T20:16:48.688371Z",
     "iopub.status.idle": "2024-03-05T20:16:50.013311Z",
     "shell.execute_reply": "2024-03-05T20:16:50.013013Z"
    }
   },
   "outputs": [],
   "source": [
    "import os\n",
    "import inspect\n",
    "import shutil\n",
    "import json\n",
    "import torch\n",
    "import pandas as pd\n",
    "import pyaging as pya"
   ]
  },
  {
   "cell_type": "markdown",
   "id": "145082e5-ced4-47ae-88c0-cb69773e3c5a",
   "metadata": {},
   "source": [
    "## Instantiate model class"
   ]
  },
  {
   "cell_type": "code",
   "execution_count": 2,
   "id": "8aa77372-7ed3-4da7-abc9-d30372106139",
   "metadata": {
    "execution": {
     "iopub.execute_input": "2024-03-05T20:16:50.015225Z",
     "iopub.status.busy": "2024-03-05T20:16:50.015055Z",
     "iopub.status.idle": "2024-03-05T20:16:50.021910Z",
     "shell.execute_reply": "2024-03-05T20:16:50.021655Z"
    }
   },
   "outputs": [
    {
     "name": "stdout",
     "output_type": "stream",
     "text": [
      "class DNAmPhenoAge(pyagingModel):\n",
      "    def __init__(self):\n",
      "        super().__init__()\n",
      "\n",
      "    def preprocess(self, x):\n",
      "        return x\n",
      "\n",
      "    def postprocess(self, x):\n",
      "        return x\n",
      "\n"
     ]
    }
   ],
   "source": [
    "def print_entire_class(cls):\n",
    "    source = inspect.getsource(cls)\n",
    "    print(source)\n",
    "\n",
    "print_entire_class(pya.models.DNAmPhenoAge)"
   ]
  },
  {
   "cell_type": "code",
   "execution_count": 3,
   "id": "78536494-f1d9-44de-8583-c89a310d2307",
   "metadata": {
    "execution": {
     "iopub.execute_input": "2024-03-05T20:16:50.023301Z",
     "iopub.status.busy": "2024-03-05T20:16:50.023226Z",
     "iopub.status.idle": "2024-03-05T20:16:50.024787Z",
     "shell.execute_reply": "2024-03-05T20:16:50.024568Z"
    }
   },
   "outputs": [],
   "source": [
    "model = pya.models.DNAmPhenoAge()"
   ]
  },
  {
   "cell_type": "markdown",
   "id": "51f8615e-01fa-4aa5-b196-3ee2b35d261c",
   "metadata": {},
   "source": [
    "## Define clock metadata"
   ]
  },
  {
   "cell_type": "code",
   "execution_count": 4,
   "id": "6601da9e-8adc-44ee-9308-75e3cd31b816",
   "metadata": {
    "execution": {
     "iopub.execute_input": "2024-03-05T20:16:50.026415Z",
     "iopub.status.busy": "2024-03-05T20:16:50.026339Z",
     "iopub.status.idle": "2024-03-05T20:16:50.028293Z",
     "shell.execute_reply": "2024-03-05T20:16:50.028014Z"
    }
   },
   "outputs": [],
   "source": [
    "model.metadata[\"clock_name\"] = 'dnamphenoage'\n",
    "model.metadata[\"data_type\"] = 'methylation'\n",
    "model.metadata[\"species\"] = 'Homo sapiens'\n",
    "model.metadata[\"year\"] = 2018\n",
    "model.metadata[\"approved_by_author\"] = '⌛'\n",
    "model.metadata[\"citation\"] = \"Levine, Morgan E., et al. \\\"An epigenetic biomarker of aging for lifespan and healthspan.\\\" Aging (albany NY) 10.4 (2018): 573.\"\n",
    "model.metadata[\"doi\"] = 'https://doi.org/10.18632%2Faging.101414'\n",
    "model.metadata[\"research_only\"] = None\n",
    "model.metadata[\"notes\"] = None"
   ]
  },
  {
   "cell_type": "markdown",
   "id": "74492239-5aae-4026-9d90-6bc9c574c110",
   "metadata": {},
   "source": [
    "## Download clock dependencies"
   ]
  },
  {
   "cell_type": "markdown",
   "id": "830c25ae-69bb-4553-bb83-09138b508d99",
   "metadata": {},
   "source": [
    "#### Download directly with curl"
   ]
  },
  {
   "cell_type": "code",
   "execution_count": 5,
   "id": "7230f19a-fd67-4953-91df-6eaf6db44d69",
   "metadata": {
    "execution": {
     "iopub.execute_input": "2024-03-05T20:16:50.029794Z",
     "iopub.status.busy": "2024-03-05T20:16:50.029720Z",
     "iopub.status.idle": "2024-03-05T20:16:50.634381Z",
     "shell.execute_reply": "2024-03-05T20:16:50.633349Z"
    }
   },
   "outputs": [
    {
     "data": {
      "text/plain": [
       "0"
      ]
     },
     "execution_count": 5,
     "metadata": {},
     "output_type": "execute_result"
    }
   ],
   "source": [
    "supplementary_url = \"https://www.ncbi.nlm.nih.gov/pmc/articles/PMC5940111/bin/aging-10-101414-s002.csv\"\n",
    "supplementary_file_name = \"coefficients.csv\"\n",
    "os.system(f\"curl -o {supplementary_file_name} {supplementary_url}\")"
   ]
  },
  {
   "cell_type": "markdown",
   "id": "5035b180-3d1b-4432-8ebe-b9c92bd93a7f",
   "metadata": {},
   "source": [
    "## Load features"
   ]
  },
  {
   "cell_type": "markdown",
   "id": "15f4af76-b93c-438c-b57f-f129d6e9ec99",
   "metadata": {},
   "source": [
    "#### From CSV file"
   ]
  },
  {
   "cell_type": "code",
   "execution_count": 6,
   "id": "8a3d5de6-6303-487a-8b4d-e6345792f7be",
   "metadata": {
    "execution": {
     "iopub.execute_input": "2024-03-05T20:16:50.639617Z",
     "iopub.status.busy": "2024-03-05T20:16:50.639264Z",
     "iopub.status.idle": "2024-03-05T20:16:50.648455Z",
     "shell.execute_reply": "2024-03-05T20:16:50.647756Z"
    }
   },
   "outputs": [],
   "source": [
    "df = pd.read_csv('coefficients.csv')\n",
    "model.features = df['CpG'][1:].tolist()"
   ]
  },
  {
   "cell_type": "markdown",
   "id": "ee6d8fa0-4767-4c45-9717-eb1c95e2ddc0",
   "metadata": {},
   "source": [
    "## Load weights into base model"
   ]
  },
  {
   "cell_type": "code",
   "execution_count": 7,
   "id": "7f6187ed-fcff-4ff2-bcb1-b5bcef8190e8",
   "metadata": {
    "execution": {
     "iopub.execute_input": "2024-03-05T20:16:50.652398Z",
     "iopub.status.busy": "2024-03-05T20:16:50.652148Z",
     "iopub.status.idle": "2024-03-05T20:16:50.656482Z",
     "shell.execute_reply": "2024-03-05T20:16:50.655872Z"
    }
   },
   "outputs": [],
   "source": [
    "weights = torch.tensor(df['Weight'][1:].tolist()).unsqueeze(0).float()\n",
    "intercept = torch.tensor([df['Weight'][0]]).float()"
   ]
  },
  {
   "cell_type": "markdown",
   "id": "ad261636-5b00-4979-bb1d-67a851f7aa19",
   "metadata": {},
   "source": [
    "#### Linear model"
   ]
  },
  {
   "cell_type": "code",
   "execution_count": 8,
   "id": "d7f43b99-26f2-4622-9a76-316712058877",
   "metadata": {
    "execution": {
     "iopub.execute_input": "2024-03-05T20:16:50.659806Z",
     "iopub.status.busy": "2024-03-05T20:16:50.659571Z",
     "iopub.status.idle": "2024-03-05T20:16:50.663312Z",
     "shell.execute_reply": "2024-03-05T20:16:50.662782Z"
    }
   },
   "outputs": [],
   "source": [
    "base_model = pya.models.LinearModel(input_dim=len(model.features))\n",
    "\n",
    "base_model.linear.weight.data = weights.float()\n",
    "base_model.linear.bias.data = intercept.float()\n",
    "\n",
    "model.base_model = base_model"
   ]
  },
  {
   "cell_type": "markdown",
   "id": "ad8b4c1d-9d57-48b7-9a30-bcfea7b747b1",
   "metadata": {},
   "source": [
    "## Load reference values"
   ]
  },
  {
   "cell_type": "code",
   "execution_count": 9,
   "id": "ade0f4c9-2298-4fc3-bb72-d200907dd731",
   "metadata": {
    "execution": {
     "iopub.execute_input": "2024-03-05T20:16:50.666068Z",
     "iopub.status.busy": "2024-03-05T20:16:50.665903Z",
     "iopub.status.idle": "2024-03-05T20:16:50.668162Z",
     "shell.execute_reply": "2024-03-05T20:16:50.667733Z"
    }
   },
   "outputs": [],
   "source": [
    "model.reference_values = None"
   ]
  },
  {
   "cell_type": "markdown",
   "id": "af3bcf7b-74a8-4d21-9ccb-4de0c2b0516b",
   "metadata": {},
   "source": [
    "## Load preprocess and postprocess objects"
   ]
  },
  {
   "cell_type": "code",
   "execution_count": 10,
   "id": "7a22fb20-c605-424d-8efb-7620c2c0755c",
   "metadata": {
    "execution": {
     "iopub.execute_input": "2024-03-05T20:16:50.670730Z",
     "iopub.status.busy": "2024-03-05T20:16:50.670558Z",
     "iopub.status.idle": "2024-03-05T20:16:50.672549Z",
     "shell.execute_reply": "2024-03-05T20:16:50.672183Z"
    }
   },
   "outputs": [],
   "source": [
    "model.preprocess_name = None\n",
    "model.preprocess_dependencies = None"
   ]
  },
  {
   "cell_type": "code",
   "execution_count": 11,
   "id": "ff4a21cb-cf41-44dc-9ed1-95cf8aa15772",
   "metadata": {
    "execution": {
     "iopub.execute_input": "2024-03-05T20:16:50.674663Z",
     "iopub.status.busy": "2024-03-05T20:16:50.674517Z",
     "iopub.status.idle": "2024-03-05T20:16:50.676449Z",
     "shell.execute_reply": "2024-03-05T20:16:50.676072Z"
    }
   },
   "outputs": [],
   "source": [
    "model.postprocess_name = None\n",
    "model.postprocess_dependencies = None"
   ]
  },
  {
   "cell_type": "markdown",
   "id": "86e3d6b1-e67e-4f3d-bd39-0ebec5726c3c",
   "metadata": {},
   "source": [
    "## Check all clock parameters"
   ]
  },
  {
   "cell_type": "code",
   "execution_count": 12,
   "id": "2168355c-47d9-475d-b816-49f65e74887c",
   "metadata": {
    "execution": {
     "iopub.execute_input": "2024-03-05T20:16:50.678654Z",
     "iopub.status.busy": "2024-03-05T20:16:50.678509Z",
     "iopub.status.idle": "2024-03-05T20:16:50.682741Z",
     "shell.execute_reply": "2024-03-05T20:16:50.682339Z"
    }
   },
   "outputs": [
    {
     "name": "stdout",
     "output_type": "stream",
     "text": [
      "\n",
      "%==================================== Model Details ====================================%\n",
      "Model Attributes:\n",
      "\n",
      "training: True\n",
      "metadata: {'approved_by_author': '⌛',\n",
      " 'citation': 'Levine, Morgan E., et al. \"An epigenetic biomarker of aging for '\n",
      "             'lifespan and healthspan.\" Aging (albany NY) 10.4 (2018): 573.',\n",
      " 'clock_name': 'dnamphenoage',\n",
      " 'data_type': 'methylation',\n",
      " 'doi': 'https://doi.org/10.18632%2Faging.101414',\n",
      " 'notes': None,\n",
      " 'research_only': None,\n",
      " 'species': 'Homo sapiens',\n",
      " 'version': None,\n",
      " 'year': 2018}\n",
      "reference_values: None\n",
      "preprocess_name: None\n",
      "preprocess_dependencies: None\n",
      "postprocess_name: None\n",
      "postprocess_dependencies: None\n",
      "features: ['cg15611364', 'cg17605084', 'cg26382071', 'cg12743894', 'cg19287114', 'cg12985418', 'cg19398783', 'cg15963417', 'cg27187881', 'cg09892203', 'cg00943950', 'cg18996776', 'cg16340918', 'cg23832061', 'cg22736354', 'cg04084157', 'cg07265300', 'cg02503970', 'cg11426590', 'cg23710218', 'cg02802055', 'cg13631913', 'cg06493994', 'cg24304712', 'cg01131735', 'cg24208206', 'cg01930621', 'cg19104072', 'cg07850604', 'cg27493997']... [Total elements: 513]\n",
      "base_model_features: None\n",
      "\n",
      "%==================================== Model Details ====================================%\n",
      "Model Structure:\n",
      "\n",
      "base_model: LinearModel(\n",
      "  (linear): Linear(in_features=513, out_features=1, bias=True)\n",
      ")\n",
      "\n",
      "%==================================== Model Details ====================================%\n",
      "Model Parameters and Weights:\n",
      "\n",
      "base_model.linear.weight: [63.124149322509766, -44.00939178466797, 40.42085266113281, 36.788185119628906, -36.49384307861328, -35.900089263916016, 35.83308410644531, -34.698429107666016, -33.54555892944336, -33.48234558105469, 33.47697830200195, 33.05057144165039, 32.14665603637695, -31.902469635009766, 31.842193603515625, 31.62165641784668, 28.398008346557617, 25.585140228271484, -24.78579330444336, 24.158702850341797, -24.117156982421875, 23.838054656982422, 23.372079849243164, 23.300357818603516, -22.9146671295166, 22.540685653686523, -21.787927627563477, -21.598669052124023, 21.31021499633789, -21.20072364807129]... [Tensor of shape torch.Size([1, 513])]\n",
      "base_model.linear.bias: tensor([60.6640])\n",
      "\n",
      "%==================================== Model Details ====================================%\n",
      "\n"
     ]
    }
   ],
   "source": [
    "pya.utils.print_model_details(model)"
   ]
  },
  {
   "cell_type": "markdown",
   "id": "986d0262-e0c7-4036-b687-dee53ba392fb",
   "metadata": {},
   "source": [
    "## Basic test"
   ]
  },
  {
   "cell_type": "code",
   "execution_count": 13,
   "id": "936b9877-d076-4ced-99aa-e8d4c58c5caf",
   "metadata": {
    "execution": {
     "iopub.execute_input": "2024-03-05T20:16:50.684781Z",
     "iopub.status.busy": "2024-03-05T20:16:50.684666Z",
     "iopub.status.idle": "2024-03-05T20:16:50.689017Z",
     "shell.execute_reply": "2024-03-05T20:16:50.688717Z"
    }
   },
   "outputs": [
    {
     "data": {
      "text/plain": [
       "tensor([[ 134.9219],\n",
       "        [ 396.0094],\n",
       "        [-309.7721],\n",
       "        [  77.3113],\n",
       "        [-209.0913],\n",
       "        [-141.9328],\n",
       "        [ 424.4550],\n",
       "        [-125.9833],\n",
       "        [-119.9547],\n",
       "        [-250.8203]], dtype=torch.float64, grad_fn=<AddmmBackward0>)"
      ]
     },
     "execution_count": 13,
     "metadata": {},
     "output_type": "execute_result"
    }
   ],
   "source": [
    "torch.manual_seed(42)\n",
    "input = torch.randn(10, len(model.features), dtype=float)\n",
    "model.eval()\n",
    "model.to(float)\n",
    "pred = model(input)\n",
    "pred"
   ]
  },
  {
   "cell_type": "markdown",
   "id": "fe8299d7-9285-4e22-82fd-b664434b4369",
   "metadata": {},
   "source": [
    "## Save torch model"
   ]
  },
  {
   "cell_type": "code",
   "execution_count": 14,
   "id": "5ef2fa8d-c80b-4fdd-8555-79c0d541788e",
   "metadata": {
    "execution": {
     "iopub.execute_input": "2024-03-05T20:16:50.690868Z",
     "iopub.status.busy": "2024-03-05T20:16:50.690753Z",
     "iopub.status.idle": "2024-03-05T20:16:50.694863Z",
     "shell.execute_reply": "2024-03-05T20:16:50.694526Z"
    }
   },
   "outputs": [],
   "source": [
    "torch.save(model, f\"../weights/{model.metadata['clock_name']}.pt\")"
   ]
  },
  {
   "cell_type": "markdown",
   "id": "bac6257b-8d08-4a90-8d0b-7f745dc11ac1",
   "metadata": {},
   "source": [
    "## Clear directory\n",
    "<a id=\"10\"></a>"
   ]
  },
  {
   "cell_type": "code",
   "execution_count": 15,
   "id": "11aeaa70-44c0-42f9-86d7-740e3849a7a6",
   "metadata": {
    "execution": {
     "iopub.execute_input": "2024-03-05T20:16:50.696720Z",
     "iopub.status.busy": "2024-03-05T20:16:50.696618Z",
     "iopub.status.idle": "2024-03-05T20:16:50.699954Z",
     "shell.execute_reply": "2024-03-05T20:16:50.699670Z"
    }
   },
   "outputs": [
    {
     "name": "stdout",
     "output_type": "stream",
     "text": [
      "Deleted file: coefficients.csv\n"
     ]
    }
   ],
   "source": [
    "# Function to remove a folder and all its contents\n",
    "def remove_folder(path):\n",
    "    try:\n",
    "        shutil.rmtree(path)\n",
    "        print(f\"Deleted folder: {path}\")\n",
    "    except Exception as e:\n",
    "        print(f\"Error deleting folder {path}: {e}\")\n",
    "\n",
    "# Get a list of all files and folders in the current directory\n",
    "all_items = os.listdir('.')\n",
    "\n",
    "# Loop through the items\n",
    "for item in all_items:\n",
    "    # Check if it's a file and does not end with .ipynb\n",
    "    if os.path.isfile(item) and not item.endswith('.ipynb'):\n",
    "        os.remove(item)\n",
    "        print(f\"Deleted file: {item}\")\n",
    "    # Check if it's a folder\n",
    "    elif os.path.isdir(item):\n",
    "        remove_folder(item)"
   ]
  }
 ],
 "metadata": {
  "kernelspec": {
   "display_name": "Python 3",
   "language": "python",
   "name": "python3"
  },
  "language_info": {
   "codemirror_mode": {
    "name": "ipython",
    "version": 3
   },
   "file_extension": ".py",
   "mimetype": "text/x-python",
   "name": "python",
   "nbconvert_exporter": "python",
   "pygments_lexer": "ipython3",
   "version": "3.9.17"
  }
 },
 "nbformat": 4,
 "nbformat_minor": 5
}
