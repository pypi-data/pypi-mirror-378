{
 "cells": [
  {
   "cell_type": "markdown",
   "id": "2f04eee0-5928-4e74-a754-6dc2e528810c",
   "metadata": {},
   "source": [
    "# RepliTali"
   ]
  },
  {
   "cell_type": "markdown",
   "id": "a3f514a3-772c-4a14-afdf-5a8376851ff4",
   "metadata": {},
   "source": [
    "## Index\n",
    "1. [Instantiate model class](#Instantiate-model-class)\n",
    "2. [Define clock metadata](#Define-clock-metadata)\n",
    "3. [Download clock dependencies](#Download-clock-dependencies)\n",
    "5. [Load features](#Load-features)\n",
    "6. [Load weights into base model](#Load-weights-into-base-model)\n",
    "7. [Load reference values](#Load-reference-values)\n",
    "8. [Load preprocess and postprocess objects](#Load-preprocess-and-postprocess-objects)\n",
    "10. [Check all clock parameters](#Check-all-clock-parameters)\n",
    "10. [Basic test](#Basic-test)\n",
    "11. [Save torch model](#Save-torch-model)\n",
    "12. [Clear directory](#Clear-directory)"
   ]
  },
  {
   "cell_type": "markdown",
   "id": "d95fafdc-643a-40ea-a689-200bd132e90c",
   "metadata": {},
   "source": [
    "Let's first import some packages:"
   ]
  },
  {
   "cell_type": "code",
   "execution_count": 1,
   "id": "4adfb4de-cd79-4913-a1af-9e23e9e236c9",
   "metadata": {
    "execution": {
     "iopub.execute_input": "2024-03-05T21:23:17.878097Z",
     "iopub.status.busy": "2024-03-05T21:23:17.877688Z",
     "iopub.status.idle": "2024-03-05T21:23:19.187762Z",
     "shell.execute_reply": "2024-03-05T21:23:19.187450Z"
    }
   },
   "outputs": [],
   "source": [
    "import os\n",
    "import inspect\n",
    "import shutil\n",
    "import json\n",
    "import torch\n",
    "import pandas as pd\n",
    "import pyaging as pya"
   ]
  },
  {
   "cell_type": "markdown",
   "id": "145082e5-ced4-47ae-88c0-cb69773e3c5a",
   "metadata": {},
   "source": [
    "## Instantiate model class"
   ]
  },
  {
   "cell_type": "code",
   "execution_count": 2,
   "id": "8aa77372-7ed3-4da7-abc9-d30372106139",
   "metadata": {
    "execution": {
     "iopub.execute_input": "2024-03-05T21:23:19.189770Z",
     "iopub.status.busy": "2024-03-05T21:23:19.189598Z",
     "iopub.status.idle": "2024-03-05T21:23:19.198545Z",
     "shell.execute_reply": "2024-03-05T21:23:19.198290Z"
    }
   },
   "outputs": [
    {
     "name": "stdout",
     "output_type": "stream",
     "text": [
      "class RepliTali(pyagingModel):\n",
      "    def __init__(self):\n",
      "        super().__init__()\n",
      "\n",
      "    def preprocess(self, x):\n",
      "        return x\n",
      "\n",
      "    def postprocess(self, x):\n",
      "        return x\n",
      "\n"
     ]
    }
   ],
   "source": [
    "def print_entire_class(cls):\n",
    "    source = inspect.getsource(cls)\n",
    "    print(source)\n",
    "\n",
    "print_entire_class(pya.models.RepliTali)"
   ]
  },
  {
   "cell_type": "code",
   "execution_count": 3,
   "id": "78536494-f1d9-44de-8583-c89a310d2307",
   "metadata": {
    "execution": {
     "iopub.execute_input": "2024-03-05T21:23:19.200146Z",
     "iopub.status.busy": "2024-03-05T21:23:19.200045Z",
     "iopub.status.idle": "2024-03-05T21:23:19.201727Z",
     "shell.execute_reply": "2024-03-05T21:23:19.201489Z"
    }
   },
   "outputs": [],
   "source": [
    "model = pya.models.RepliTali()"
   ]
  },
  {
   "cell_type": "markdown",
   "id": "51f8615e-01fa-4aa5-b196-3ee2b35d261c",
   "metadata": {},
   "source": [
    "## Define clock metadata"
   ]
  },
  {
   "cell_type": "code",
   "execution_count": 4,
   "id": "6601da9e-8adc-44ee-9308-75e3cd31b816",
   "metadata": {
    "execution": {
     "iopub.execute_input": "2024-03-05T21:23:19.203290Z",
     "iopub.status.busy": "2024-03-05T21:23:19.203195Z",
     "iopub.status.idle": "2024-03-05T21:23:19.204958Z",
     "shell.execute_reply": "2024-03-05T21:23:19.204726Z"
    }
   },
   "outputs": [],
   "source": [
    "model.metadata[\"clock_name\"] = 'replitali'\n",
    "model.metadata[\"data_type\"] = 'methylation'\n",
    "model.metadata[\"species\"] = 'Homo sapiens'\n",
    "model.metadata[\"year\"] = 2022\n",
    "model.metadata[\"approved_by_author\"] = '⌛'\n",
    "model.metadata[\"citation\"] = \"Endicott, Jamie L., et al. \\\"Cell division drives DNA methylation loss in late-replicating domains in primary human cells.\\\" Nature Communications 13.1 (2022): 6659.\"\n",
    "model.metadata[\"doi\"] = \"https://doi.org/10.1038/s41467-022-34268-8\"\n",
    "model.metadata[\"research_only\"] = None\n",
    "model.metadata[\"notes\"] = None"
   ]
  },
  {
   "cell_type": "markdown",
   "id": "74492239-5aae-4026-9d90-6bc9c574c110",
   "metadata": {},
   "source": [
    "## Download clock dependencies"
   ]
  },
  {
   "cell_type": "markdown",
   "id": "b5a70f6a-5e93-4edc-bc18-61ac7e4ca5c4",
   "metadata": {},
   "source": [
    "#### Download GitHub repository"
   ]
  },
  {
   "cell_type": "code",
   "execution_count": 5,
   "id": "a3bfdc61-83c7-4cdc-a977-069dd0ff4f83",
   "metadata": {
    "execution": {
     "iopub.execute_input": "2024-03-05T21:23:19.206465Z",
     "iopub.status.busy": "2024-03-05T21:23:19.206367Z",
     "iopub.status.idle": "2024-03-05T21:23:20.034759Z",
     "shell.execute_reply": "2024-03-05T21:23:20.034305Z"
    }
   },
   "outputs": [
    {
     "data": {
      "text/plain": [
       "0"
      ]
     },
     "execution_count": 5,
     "metadata": {},
     "output_type": "execute_result"
    }
   ],
   "source": [
    "github_url = \"https://github.com/jamieendicott/Nature_Comm_2022.git\"\n",
    "github_folder_name = github_url.split('/')[-1].split('.')[0]\n",
    "os.system(f\"git clone {github_url}\")"
   ]
  },
  {
   "cell_type": "markdown",
   "id": "5035b180-3d1b-4432-8ebe-b9c92bd93a7f",
   "metadata": {},
   "source": [
    "## Load features"
   ]
  },
  {
   "cell_type": "markdown",
   "id": "15f4af76-b93c-438c-b57f-f129d6e9ec99",
   "metadata": {},
   "source": [
    "#### From CSV file"
   ]
  },
  {
   "cell_type": "code",
   "execution_count": 6,
   "id": "8a3d5de6-6303-487a-8b4d-e6345792f7be",
   "metadata": {
    "execution": {
     "iopub.execute_input": "2024-03-05T21:23:20.037514Z",
     "iopub.status.busy": "2024-03-05T21:23:20.037352Z",
     "iopub.status.idle": "2024-03-05T21:23:20.042602Z",
     "shell.execute_reply": "2024-03-05T21:23:20.042261Z"
    }
   },
   "outputs": [],
   "source": [
    "df = pd.read_csv('Nature_Comm_2022/RepliTali/RepliTali_coefs.csv')\n",
    "df['feature'] = df['Coefficient']\n",
    "df['coefficient'] = df['Value']\n",
    "\n",
    "model.features = df['feature'][1:].tolist()"
   ]
  },
  {
   "cell_type": "markdown",
   "id": "ee6d8fa0-4767-4c45-9717-eb1c95e2ddc0",
   "metadata": {},
   "source": [
    "## Load weights into base model"
   ]
  },
  {
   "cell_type": "code",
   "execution_count": 7,
   "id": "e09b3463-4fd4-41b1-ac21-e63ddd223fe0",
   "metadata": {
    "execution": {
     "iopub.execute_input": "2024-03-05T21:23:20.045055Z",
     "iopub.status.busy": "2024-03-05T21:23:20.044888Z",
     "iopub.status.idle": "2024-03-05T21:23:20.047654Z",
     "shell.execute_reply": "2024-03-05T21:23:20.047292Z"
    }
   },
   "outputs": [],
   "source": [
    "weights = torch.tensor(df['coefficient'][1:].tolist()).unsqueeze(0)\n",
    "intercept = torch.tensor([df['coefficient'][0]])"
   ]
  },
  {
   "cell_type": "markdown",
   "id": "ad261636-5b00-4979-bb1d-67a851f7aa19",
   "metadata": {},
   "source": [
    "#### Linear model"
   ]
  },
  {
   "cell_type": "code",
   "execution_count": 8,
   "id": "d7f43b99-26f2-4622-9a76-316712058877",
   "metadata": {
    "execution": {
     "iopub.execute_input": "2024-03-05T21:23:20.050232Z",
     "iopub.status.busy": "2024-03-05T21:23:20.050084Z",
     "iopub.status.idle": "2024-03-05T21:23:20.052993Z",
     "shell.execute_reply": "2024-03-05T21:23:20.052627Z"
    }
   },
   "outputs": [],
   "source": [
    "base_model = pya.models.LinearModel(input_dim=len(model.features))\n",
    "\n",
    "base_model.linear.weight.data = weights.float()\n",
    "base_model.linear.bias.data = intercept.float()\n",
    "\n",
    "model.base_model = base_model"
   ]
  },
  {
   "cell_type": "markdown",
   "id": "ad8b4c1d-9d57-48b7-9a30-bcfea7b747b1",
   "metadata": {},
   "source": [
    "## Load reference values"
   ]
  },
  {
   "cell_type": "code",
   "execution_count": 9,
   "id": "ade0f4c9-2298-4fc3-bb72-d200907dd731",
   "metadata": {
    "execution": {
     "iopub.execute_input": "2024-03-05T21:23:20.055112Z",
     "iopub.status.busy": "2024-03-05T21:23:20.054968Z",
     "iopub.status.idle": "2024-03-05T21:23:20.056852Z",
     "shell.execute_reply": "2024-03-05T21:23:20.056544Z"
    }
   },
   "outputs": [],
   "source": [
    "model.reference_values = None"
   ]
  },
  {
   "cell_type": "markdown",
   "id": "af3bcf7b-74a8-4d21-9ccb-4de0c2b0516b",
   "metadata": {},
   "source": [
    "## Load preprocess and postprocess objects"
   ]
  },
  {
   "cell_type": "code",
   "execution_count": 10,
   "id": "7a22fb20-c605-424d-8efb-7620c2c0755c",
   "metadata": {
    "execution": {
     "iopub.execute_input": "2024-03-05T21:23:20.058779Z",
     "iopub.status.busy": "2024-03-05T21:23:20.058652Z",
     "iopub.status.idle": "2024-03-05T21:23:20.060476Z",
     "shell.execute_reply": "2024-03-05T21:23:20.060200Z"
    }
   },
   "outputs": [],
   "source": [
    "model.preprocess_name = None\n",
    "model.preprocess_dependencies = None"
   ]
  },
  {
   "cell_type": "code",
   "execution_count": 11,
   "id": "ff4a21cb-cf41-44dc-9ed1-95cf8aa15772",
   "metadata": {
    "execution": {
     "iopub.execute_input": "2024-03-05T21:23:20.062384Z",
     "iopub.status.busy": "2024-03-05T21:23:20.062276Z",
     "iopub.status.idle": "2024-03-05T21:23:20.064009Z",
     "shell.execute_reply": "2024-03-05T21:23:20.063736Z"
    }
   },
   "outputs": [],
   "source": [
    "model.postprocess_name = None\n",
    "model.postprocess_dependencies = None"
   ]
  },
  {
   "cell_type": "markdown",
   "id": "86e3d6b1-e67e-4f3d-bd39-0ebec5726c3c",
   "metadata": {},
   "source": [
    "## Check all clock parameters"
   ]
  },
  {
   "cell_type": "code",
   "execution_count": 12,
   "id": "2168355c-47d9-475d-b816-49f65e74887c",
   "metadata": {
    "execution": {
     "iopub.execute_input": "2024-03-05T21:23:20.065766Z",
     "iopub.status.busy": "2024-03-05T21:23:20.065654Z",
     "iopub.status.idle": "2024-03-05T21:23:20.069055Z",
     "shell.execute_reply": "2024-03-05T21:23:20.068705Z"
    }
   },
   "outputs": [
    {
     "name": "stdout",
     "output_type": "stream",
     "text": [
      "\n",
      "%==================================== Model Details ====================================%\n",
      "Model Attributes:\n",
      "\n",
      "training: True\n",
      "metadata: {'approved_by_author': '⌛',\n",
      " 'citation': 'Endicott, Jamie L., et al. \"Cell division drives DNA methylation '\n",
      "             'loss in late-replicating domains in primary human cells.\" Nature '\n",
      "             'Communications 13.1 (2022): 6659.',\n",
      " 'clock_name': 'replitali',\n",
      " 'data_type': 'methylation',\n",
      " 'doi': 'https://doi.org/10.1038/s41467-022-34268-8',\n",
      " 'notes': None,\n",
      " 'research_only': None,\n",
      " 'species': 'Homo sapiens',\n",
      " 'version': None,\n",
      " 'year': 2022}\n",
      "reference_values: None\n",
      "preprocess_name: None\n",
      "preprocess_dependencies: None\n",
      "postprocess_name: None\n",
      "postprocess_dependencies: None\n",
      "features: ['cg00077044', 'cg00150168', 'cg00454443', 'cg00495856', 'cg01616440', 'cg02137583', 'cg02220491', 'cg02392915', 'cg02583589', 'cg03179540', 'cg03421046', 'cg03786165', 'cg03988540', 'cg04155630', 'cg04390831', 'cg04698728', 'cg05635798', 'cg05662956', 'cg05898730', 'cg06001519', 'cg06003656', 'cg06029627', 'cg06113963', 'cg06417611', 'cg06530442', 'cg06725108', 'cg06792538', 'cg06944758', 'cg07724309', 'cg08111618']... [Total elements: 87]\n",
      "base_model_features: None\n",
      "\n",
      "%==================================== Model Details ====================================%\n",
      "Model Structure:\n",
      "\n",
      "base_model: LinearModel(\n",
      "  (linear): Linear(in_features=87, out_features=1, bias=True)\n",
      ")\n",
      "\n",
      "%==================================== Model Details ====================================%\n",
      "Model Parameters and Weights:\n",
      "\n",
      "base_model.linear.weight: [-0.37647414207458496, -4.204704761505127, -1.413773775100708, -1.72621750831604, -0.07973441481590271, 8.181479454040527, -0.024885866791009903, -5.290876865386963, -0.03167755529284477, -2.6441094875335693, -0.7813723087310791, -0.9527625441551208, 3.7167017459869385, -0.09135447442531586, -0.024930506944656372, -6.9897050857543945, -1.5100187063217163, -0.06429270654916763, -2.511181354522705, 2.800859212875366, 2.344932794570923, -0.000938242010306567, -8.189630508422852, -2.3566792011260986, -3.3855528831481934, -4.197580814361572, -0.6439054608345032, -6.865860462188721, 0.1207914724946022, -0.00893024355173111]... [Tensor of shape torch.Size([1, 87])]\n",
      "base_model.linear.bias: tensor([101.5896])\n",
      "\n",
      "%==================================== Model Details ====================================%\n",
      "\n"
     ]
    }
   ],
   "source": [
    "pya.utils.print_model_details(model)"
   ]
  },
  {
   "cell_type": "markdown",
   "id": "986d0262-e0c7-4036-b687-dee53ba392fb",
   "metadata": {},
   "source": [
    "## Basic test"
   ]
  },
  {
   "cell_type": "code",
   "execution_count": 13,
   "id": "936b9877-d076-4ced-99aa-e8d4c58c5caf",
   "metadata": {
    "execution": {
     "iopub.execute_input": "2024-03-05T21:23:20.070702Z",
     "iopub.status.busy": "2024-03-05T21:23:20.070615Z",
     "iopub.status.idle": "2024-03-05T21:23:20.074057Z",
     "shell.execute_reply": "2024-03-05T21:23:20.073797Z"
    }
   },
   "outputs": [
    {
     "data": {
      "text/plain": [
       "tensor([[133.0796],\n",
       "        [204.0084],\n",
       "        [118.1621],\n",
       "        [ 37.6353],\n",
       "        [ 79.4020],\n",
       "        [134.4028],\n",
       "        [166.1542],\n",
       "        [ 18.4314],\n",
       "        [ 38.6508],\n",
       "        [100.6297]], dtype=torch.float64, grad_fn=<AddmmBackward0>)"
      ]
     },
     "execution_count": 13,
     "metadata": {},
     "output_type": "execute_result"
    }
   ],
   "source": [
    "torch.manual_seed(42)\n",
    "input = torch.randn(10, len(model.features), dtype=float)\n",
    "model.eval()\n",
    "model.to(float)\n",
    "pred = model(input)\n",
    "pred"
   ]
  },
  {
   "cell_type": "markdown",
   "id": "fe8299d7-9285-4e22-82fd-b664434b4369",
   "metadata": {},
   "source": [
    "## Save torch model"
   ]
  },
  {
   "cell_type": "code",
   "execution_count": 14,
   "id": "5ef2fa8d-c80b-4fdd-8555-79c0d541788e",
   "metadata": {
    "execution": {
     "iopub.execute_input": "2024-03-05T21:23:20.075679Z",
     "iopub.status.busy": "2024-03-05T21:23:20.075595Z",
     "iopub.status.idle": "2024-03-05T21:23:20.077901Z",
     "shell.execute_reply": "2024-03-05T21:23:20.077649Z"
    }
   },
   "outputs": [],
   "source": [
    "torch.save(model, f\"../weights/{model.metadata['clock_name']}.pt\")"
   ]
  },
  {
   "cell_type": "markdown",
   "id": "bac6257b-8d08-4a90-8d0b-7f745dc11ac1",
   "metadata": {},
   "source": [
    "## Clear directory\n",
    "<a id=\"10\"></a>"
   ]
  },
  {
   "cell_type": "code",
   "execution_count": 15,
   "id": "11aeaa70-44c0-42f9-86d7-740e3849a7a6",
   "metadata": {
    "execution": {
     "iopub.execute_input": "2024-03-05T21:23:20.079377Z",
     "iopub.status.busy": "2024-03-05T21:23:20.079303Z",
     "iopub.status.idle": "2024-03-05T21:23:20.085395Z",
     "shell.execute_reply": "2024-03-05T21:23:20.085133Z"
    }
   },
   "outputs": [
    {
     "name": "stdout",
     "output_type": "stream",
     "text": [
      "Deleted folder: Nature_Comm_2022\n"
     ]
    }
   ],
   "source": [
    "# Function to remove a folder and all its contents\n",
    "def remove_folder(path):\n",
    "    try:\n",
    "        shutil.rmtree(path)\n",
    "        print(f\"Deleted folder: {path}\")\n",
    "    except Exception as e:\n",
    "        print(f\"Error deleting folder {path}: {e}\")\n",
    "\n",
    "# Get a list of all files and folders in the current directory\n",
    "all_items = os.listdir('.')\n",
    "\n",
    "# Loop through the items\n",
    "for item in all_items:\n",
    "    # Check if it's a file and does not end with .ipynb\n",
    "    if os.path.isfile(item) and not item.endswith('.ipynb'):\n",
    "        os.remove(item)\n",
    "        print(f\"Deleted file: {item}\")\n",
    "    # Check if it's a folder\n",
    "    elif os.path.isdir(item):\n",
    "        remove_folder(item)"
   ]
  }
 ],
 "metadata": {
  "kernelspec": {
   "display_name": "Python 3",
   "language": "python",
   "name": "python3"
  },
  "language_info": {
   "codemirror_mode": {
    "name": "ipython",
    "version": 3
   },
   "file_extension": ".py",
   "mimetype": "text/x-python",
   "name": "python",
   "nbconvert_exporter": "python",
   "pygments_lexer": "ipython3",
   "version": "3.9.17"
  }
 },
 "nbformat": 4,
 "nbformat_minor": 5
}
