{
 "cells": [
  {
   "cell_type": "markdown",
   "id": "4e690b3c-4dec-450e-a7f8-f63987e60cdb",
   "metadata": {},
   "source": [
    "[![Open In Colab](https://colab.research.google.com/assets/colab-badge.svg)](https://colab.research.google.com/github/rsinghlab/pyaging/blob/main/tutorials/tutorial_dnam.ipynb) [![Open In nbviewer](https://img.shields.io/badge/View%20in-nbviewer-orange)](https://nbviewer.jupyter.org/github/rsinghlab/pyaging/blob/main/tutorials/tutorial_dnam.ipynb)"
   ]
  },
  {
   "cell_type": "markdown",
   "id": "62e1ac68-927d-4ca8-a2ab-bd99a7ee52ab",
   "metadata": {},
   "source": [
    "# Illumina Mammalian Methylation Arrays"
   ]
  },
  {
   "cell_type": "markdown",
   "id": "d8ddf439-0b19-4a1a-9491-3a0e1ee94447",
   "metadata": {},
   "source": [
    "We just need two packages for this tutorial."
   ]
  },
  {
   "cell_type": "code",
   "execution_count": 1,
   "id": "dc347ae0-41ae-46ac-ba50-08cacd4c9241",
   "metadata": {},
   "outputs": [],
   "source": [
    "import pandas as pd\n",
    "import pyaging as pya"
   ]
  },
  {
   "cell_type": "markdown",
   "id": "d5e6b7de-7f34-4ee5-935a-00a0e2fb8945",
   "metadata": {},
   "source": [
    "## Download and load example data"
   ]
  },
  {
   "cell_type": "markdown",
   "id": "8c6ba751-380e-4b91-b4a2-c20e05711380",
   "metadata": {},
   "source": [
    "Let's download the publicly avaiable dataset GSE223748 with Illumina's Mammalian Methylation array. The CpG coverage of the this array (~37k) spans highly conserved CpG sequences. Let's download a subset of that data."
   ]
  },
  {
   "cell_type": "code",
   "execution_count": 2,
   "id": "7a34a4cc-1756-485d-bec6-305693eea35b",
   "metadata": {},
   "outputs": [
    {
     "name": "stdout",
     "output_type": "stream",
     "text": [
      "|-----> 🏗️ Starting download_example_data function\n",
      "|-----------> Data found in pyaging_data/GSE223748_subset.pkl\n",
      "|-----> 🎉 Done! [0.5310s]\n"
     ]
    }
   ],
   "source": [
    "pya.data.download_example_data('GSE223748')"
   ]
  },
  {
   "cell_type": "code",
   "execution_count": 3,
   "id": "6e929219-e691-4171-911e-46143ae94898",
   "metadata": {},
   "outputs": [],
   "source": [
    "df = pd.read_pickle('pyaging_data/GSE223748_subset.pkl')"
   ]
  },
  {
   "cell_type": "code",
   "execution_count": 4,
   "id": "03141fc7-f175-4ad3-86ed-22d51db5cadd",
   "metadata": {},
   "outputs": [
    {
     "data": {
      "text/html": [
       "<div>\n",
       "<style scoped>\n",
       "    .dataframe tbody tr th:only-of-type {\n",
       "        vertical-align: middle;\n",
       "    }\n",
       "\n",
       "    .dataframe tbody tr th {\n",
       "        vertical-align: top;\n",
       "    }\n",
       "\n",
       "    .dataframe thead th {\n",
       "        text-align: right;\n",
       "    }\n",
       "</style>\n",
       "<table border=\"1\" class=\"dataframe\">\n",
       "  <thead>\n",
       "    <tr style=\"text-align: right;\">\n",
       "      <th></th>\n",
       "      <th>cg00000165</th>\n",
       "      <th>cg00001209</th>\n",
       "      <th>cg00001364</th>\n",
       "      <th>cg00001582</th>\n",
       "      <th>cg00002920</th>\n",
       "      <th>cg00003994</th>\n",
       "      <th>cg00004555</th>\n",
       "      <th>cg00005112</th>\n",
       "      <th>cg00005271</th>\n",
       "      <th>cg00006213</th>\n",
       "      <th>...</th>\n",
       "      <th>rs7746156_II_F_C_37550</th>\n",
       "      <th>rs798149_II_F_C_37528</th>\n",
       "      <th>rs845016_II_F_C_37529</th>\n",
       "      <th>rs877309_II_F_C_37552</th>\n",
       "      <th>rs9292570_I_F_C_37499</th>\n",
       "      <th>rs9363764_II_F_C_37541</th>\n",
       "      <th>rs939290_II_F_C_37535</th>\n",
       "      <th>rs951295_I_F_C_37507</th>\n",
       "      <th>rs966367_II_F_C_37551</th>\n",
       "      <th>rs9839873_II_F_C_37532</th>\n",
       "    </tr>\n",
       "  </thead>\n",
       "  <tbody>\n",
       "    <tr>\n",
       "      <th>204509080002_R01C02</th>\n",
       "      <td>0.094879</td>\n",
       "      <td>0.916154</td>\n",
       "      <td>0.890314</td>\n",
       "      <td>0.053583</td>\n",
       "      <td>0.490381</td>\n",
       "      <td>0.034852</td>\n",
       "      <td>0.159705</td>\n",
       "      <td>0.763959</td>\n",
       "      <td>0.973245</td>\n",
       "      <td>0.928975</td>\n",
       "      <td>...</td>\n",
       "      <td>0.488592</td>\n",
       "      <td>0.491361</td>\n",
       "      <td>0.480024</td>\n",
       "      <td>0.500000</td>\n",
       "      <td>0.484252</td>\n",
       "      <td>0.489448</td>\n",
       "      <td>0.505585</td>\n",
       "      <td>0.505335</td>\n",
       "      <td>0.485003</td>\n",
       "      <td>0.510081</td>\n",
       "    </tr>\n",
       "    <tr>\n",
       "      <th>202897220142_R04C02</th>\n",
       "      <td>0.497077</td>\n",
       "      <td>0.441263</td>\n",
       "      <td>0.915314</td>\n",
       "      <td>0.047339</td>\n",
       "      <td>0.651029</td>\n",
       "      <td>0.037774</td>\n",
       "      <td>0.082634</td>\n",
       "      <td>0.415800</td>\n",
       "      <td>0.702857</td>\n",
       "      <td>0.821715</td>\n",
       "      <td>...</td>\n",
       "      <td>0.508102</td>\n",
       "      <td>0.500299</td>\n",
       "      <td>0.507261</td>\n",
       "      <td>0.490684</td>\n",
       "      <td>0.499673</td>\n",
       "      <td>0.497256</td>\n",
       "      <td>0.564106</td>\n",
       "      <td>0.482151</td>\n",
       "      <td>0.486667</td>\n",
       "      <td>0.505236</td>\n",
       "    </tr>\n",
       "    <tr>\n",
       "      <th>204529320092_R01C02</th>\n",
       "      <td>0.321141</td>\n",
       "      <td>0.834158</td>\n",
       "      <td>0.881194</td>\n",
       "      <td>0.056124</td>\n",
       "      <td>0.688350</td>\n",
       "      <td>0.030225</td>\n",
       "      <td>0.086776</td>\n",
       "      <td>0.777588</td>\n",
       "      <td>0.974587</td>\n",
       "      <td>0.923934</td>\n",
       "      <td>...</td>\n",
       "      <td>0.520404</td>\n",
       "      <td>0.509568</td>\n",
       "      <td>0.507549</td>\n",
       "      <td>0.501659</td>\n",
       "      <td>0.492823</td>\n",
       "      <td>0.487243</td>\n",
       "      <td>0.516018</td>\n",
       "      <td>0.471244</td>\n",
       "      <td>0.491066</td>\n",
       "      <td>0.491759</td>\n",
       "    </tr>\n",
       "    <tr>\n",
       "      <th>202794570004_R02C01</th>\n",
       "      <td>0.495226</td>\n",
       "      <td>0.924121</td>\n",
       "      <td>0.915812</td>\n",
       "      <td>0.050866</td>\n",
       "      <td>0.688335</td>\n",
       "      <td>0.032344</td>\n",
       "      <td>0.113318</td>\n",
       "      <td>0.872094</td>\n",
       "      <td>0.969189</td>\n",
       "      <td>0.917076</td>\n",
       "      <td>...</td>\n",
       "      <td>0.499314</td>\n",
       "      <td>0.516132</td>\n",
       "      <td>0.487009</td>\n",
       "      <td>0.487146</td>\n",
       "      <td>0.469119</td>\n",
       "      <td>0.495125</td>\n",
       "      <td>0.548238</td>\n",
       "      <td>0.512283</td>\n",
       "      <td>0.514257</td>\n",
       "      <td>0.492520</td>\n",
       "    </tr>\n",
       "    <tr>\n",
       "      <th>203531420070_R05C02</th>\n",
       "      <td>0.183954</td>\n",
       "      <td>0.934332</td>\n",
       "      <td>0.924153</td>\n",
       "      <td>0.055032</td>\n",
       "      <td>0.717495</td>\n",
       "      <td>0.037108</td>\n",
       "      <td>0.098632</td>\n",
       "      <td>0.859614</td>\n",
       "      <td>0.973422</td>\n",
       "      <td>0.963446</td>\n",
       "      <td>...</td>\n",
       "      <td>0.501432</td>\n",
       "      <td>0.509412</td>\n",
       "      <td>0.485055</td>\n",
       "      <td>0.497272</td>\n",
       "      <td>0.480637</td>\n",
       "      <td>0.467502</td>\n",
       "      <td>0.494246</td>\n",
       "      <td>0.500924</td>\n",
       "      <td>0.531334</td>\n",
       "      <td>0.503709</td>\n",
       "    </tr>\n",
       "  </tbody>\n",
       "</table>\n",
       "<p>5 rows × 37554 columns</p>\n",
       "</div>"
      ],
      "text/plain": [
       "                     cg00000165  cg00001209  cg00001364  cg00001582  \\\n",
       "204509080002_R01C02    0.094879    0.916154    0.890314    0.053583   \n",
       "202897220142_R04C02    0.497077    0.441263    0.915314    0.047339   \n",
       "204529320092_R01C02    0.321141    0.834158    0.881194    0.056124   \n",
       "202794570004_R02C01    0.495226    0.924121    0.915812    0.050866   \n",
       "203531420070_R05C02    0.183954    0.934332    0.924153    0.055032   \n",
       "\n",
       "                     cg00002920  cg00003994  cg00004555  cg00005112  \\\n",
       "204509080002_R01C02    0.490381    0.034852    0.159705    0.763959   \n",
       "202897220142_R04C02    0.651029    0.037774    0.082634    0.415800   \n",
       "204529320092_R01C02    0.688350    0.030225    0.086776    0.777588   \n",
       "202794570004_R02C01    0.688335    0.032344    0.113318    0.872094   \n",
       "203531420070_R05C02    0.717495    0.037108    0.098632    0.859614   \n",
       "\n",
       "                     cg00005271  cg00006213  ...  rs7746156_II_F_C_37550  \\\n",
       "204509080002_R01C02    0.973245    0.928975  ...                0.488592   \n",
       "202897220142_R04C02    0.702857    0.821715  ...                0.508102   \n",
       "204529320092_R01C02    0.974587    0.923934  ...                0.520404   \n",
       "202794570004_R02C01    0.969189    0.917076  ...                0.499314   \n",
       "203531420070_R05C02    0.973422    0.963446  ...                0.501432   \n",
       "\n",
       "                     rs798149_II_F_C_37528  rs845016_II_F_C_37529  \\\n",
       "204509080002_R01C02               0.491361               0.480024   \n",
       "202897220142_R04C02               0.500299               0.507261   \n",
       "204529320092_R01C02               0.509568               0.507549   \n",
       "202794570004_R02C01               0.516132               0.487009   \n",
       "203531420070_R05C02               0.509412               0.485055   \n",
       "\n",
       "                     rs877309_II_F_C_37552  rs9292570_I_F_C_37499  \\\n",
       "204509080002_R01C02               0.500000               0.484252   \n",
       "202897220142_R04C02               0.490684               0.499673   \n",
       "204529320092_R01C02               0.501659               0.492823   \n",
       "202794570004_R02C01               0.487146               0.469119   \n",
       "203531420070_R05C02               0.497272               0.480637   \n",
       "\n",
       "                     rs9363764_II_F_C_37541  rs939290_II_F_C_37535  \\\n",
       "204509080002_R01C02                0.489448               0.505585   \n",
       "202897220142_R04C02                0.497256               0.564106   \n",
       "204529320092_R01C02                0.487243               0.516018   \n",
       "202794570004_R02C01                0.495125               0.548238   \n",
       "203531420070_R05C02                0.467502               0.494246   \n",
       "\n",
       "                     rs951295_I_F_C_37507  rs966367_II_F_C_37551  \\\n",
       "204509080002_R01C02              0.505335               0.485003   \n",
       "202897220142_R04C02              0.482151               0.486667   \n",
       "204529320092_R01C02              0.471244               0.491066   \n",
       "202794570004_R02C01              0.512283               0.514257   \n",
       "203531420070_R05C02              0.500924               0.531334   \n",
       "\n",
       "                     rs9839873_II_F_C_37532  \n",
       "204509080002_R01C02                0.510081  \n",
       "202897220142_R04C02                0.505236  \n",
       "204529320092_R01C02                0.491759  \n",
       "202794570004_R02C01                0.492520  \n",
       "203531420070_R05C02                0.503709  \n",
       "\n",
       "[5 rows x 37554 columns]"
      ]
     },
     "execution_count": 4,
     "metadata": {},
     "output_type": "execute_result"
    }
   ],
   "source": [
    "df.head()"
   ]
  },
  {
   "cell_type": "markdown",
   "id": "be02f82e-69b3-4534-88e2-5ee8851f9319",
   "metadata": {},
   "source": [
    "## Convert data to AnnData object"
   ]
  },
  {
   "cell_type": "markdown",
   "id": "3f7ddbab-c020-4a07-a95c-450f6f591e2f",
   "metadata": {},
   "source": [
    "AnnData objects are highly flexible and are thus our preferred method of organizing data for age prediction."
   ]
  },
  {
   "cell_type": "code",
   "execution_count": 5,
   "id": "cb628052-a992-4e41-8d56-eb932f1579eb",
   "metadata": {},
   "outputs": [
    {
     "name": "stdout",
     "output_type": "stream",
     "text": [
      "|-----> 🏗️ Starting df_to_adata function\n",
      "|-----> ⚙️ Create anndata object started\n",
      "|-----> ✅ Create anndata object finished [0.0119s]\n",
      "|-----> ⚙️ Add metadata to anndata started\n",
      "|-----------? No metadata provided. Leaving adata.obs empty\n",
      "|-----> ⚠️ Add metadata to anndata finished [0.0019s]\n",
      "|-----> ⚙️ Log data statistics started\n",
      "|-----------> There are 100 observations\n",
      "|-----------> There are 37554 features\n",
      "|-----------> Total missing values: 0\n",
      "|-----------> Percentage of missing values: 0.00%\n",
      "|-----> ✅ Log data statistics finished [0.0128s]\n",
      "|-----> ⚙️ Impute missing values started\n",
      "|-----------> No missing values found. No imputation necessary\n",
      "|-----> ✅ Impute missing values finished [0.0079s]\n",
      "|-----> 🎉 Done! [0.0404s]\n"
     ]
    }
   ],
   "source": [
    "adata = pya.pp.df_to_adata(df, imputer_strategy='knn')"
   ]
  },
  {
   "cell_type": "markdown",
   "id": "36b4dc99-1069-45da-a988-9493de817d99",
   "metadata": {},
   "source": [
    "This is what the `adata` object looks like:"
   ]
  },
  {
   "cell_type": "code",
   "execution_count": 6,
   "id": "e26459d3-276d-4cda-b3bf-a4147c397667",
   "metadata": {},
   "outputs": [
    {
     "data": {
      "text/plain": [
       "AnnData object with n_obs × n_vars = 100 × 37554\n",
       "    var: 'percent_na'\n",
       "    layers: 'X_original'"
      ]
     },
     "execution_count": 6,
     "metadata": {},
     "output_type": "execute_result"
    }
   ],
   "source": [
    "adata"
   ]
  },
  {
   "cell_type": "markdown",
   "id": "cc9c675d-6196-4274-b209-1487656acc9f",
   "metadata": {},
   "source": [
    "## Predict age"
   ]
  },
  {
   "cell_type": "markdown",
   "id": "30e82111-8c24-4a4d-8f28-22e0c4d35413",
   "metadata": {},
   "source": [
    "### Mammalian predictors without species declaration"
   ]
  },
  {
   "cell_type": "markdown",
   "id": "90eb1122-ce2e-49ec-919b-c47bd85643dc",
   "metadata": {},
   "source": [
    "We can either predict one clock at once or all at the same time. Let's first start with the mammalian clocks that do not need the species Latin name for the conversion of the output into units of years."
   ]
  },
  {
   "cell_type": "code",
   "execution_count": 7,
   "id": "4a3484b8-ea3c-49dc-a2b1-4fb831906e29",
   "metadata": {},
   "outputs": [
    {
     "name": "stdout",
     "output_type": "stream",
     "text": [
      "|-----> 🏗️ Starting predict_age function\n",
      "|-----> ⚙️ Set PyTorch device started\n",
      "|-----------> Using device: cpu\n",
      "|-----> ✅ Set PyTorch device finished [0.0013s]\n",
      "|-----> 🕒 Processing clock: mammalian1\n",
      "|-----------> ⚙️ Load clock started\n",
      "|-----------------> Data found in pyaging_data/mammalian1.pt\n",
      "|-----------> ✅ Load clock finished [0.5443s]\n",
      "|-----------> ⚙️ Check features in adata started\n",
      "|-----------------> All features are present in adata.var_names.\n",
      "|-----------------> Added prepared input matrix to adata.obsm[X_mammalian1]\n",
      "|-----------> ✅ Check features in adata finished [0.0318s]\n",
      "|-----------> ⚙️ Predict ages with model started\n",
      "|-----------------> There is no preprocessing necessary\n",
      "|-----------------> The postprocessing method is anti_logp2\n",
      "|-----------------> in progress: 100.0000%\n",
      "|-----------> ✅ Predict ages with model finished [0.0015s]\n",
      "|-----------> ⚙️ Add predicted ages and clock metadata to adata started\n",
      "|-----------> ✅ Add predicted ages and clock metadata to adata finished [0.0006s]\n",
      "|-----> 🕒 Processing clock: mammalianlifespan\n",
      "|-----------> ⚙️ Load clock started\n",
      "|-----------------> Data found in pyaging_data/mammalianlifespan.pt\n",
      "|-----------> ✅ Load clock finished [0.4468s]\n",
      "|-----------> ⚙️ Check features in adata started\n",
      "|-----------------> All features are present in adata.var_names.\n",
      "|-----------------> Added prepared input matrix to adata.obsm[X_mammalianlifespan]\n",
      "|-----------> ✅ Check features in adata finished [0.0127s]\n",
      "|-----------> ⚙️ Predict ages with model started\n",
      "|-----------------> There is no preprocessing necessary\n",
      "|-----------------> There is no postprocessing necessary\n",
      "|-----------------> in progress: 100.0000%\n",
      "|-----------> ✅ Predict ages with model finished [0.0006s]\n",
      "|-----------> ⚙️ Add predicted ages and clock metadata to adata started\n",
      "|-----------> ✅ Add predicted ages and clock metadata to adata finished [0.0007s]\n",
      "|-----> 🕒 Processing clock: mammalianfemale\n",
      "|-----------> ⚙️ Load clock started\n",
      "|-----------------> Data found in pyaging_data/mammalianfemale.pt\n",
      "|-----------> ✅ Load clock finished [0.4320s]\n",
      "|-----------> ⚙️ Check features in adata started\n",
      "|-----------------> All features are present in adata.var_names.\n",
      "|-----------------> Added prepared input matrix to adata.obsm[X_mammalianfemale]\n",
      "|-----------> ✅ Check features in adata finished [0.0095s]\n",
      "|-----------> ⚙️ Predict ages with model started\n",
      "|-----------------> There is no preprocessing necessary\n",
      "|-----------------> The postprocessing method is sigmoid\n",
      "|-----------------> in progress: 100.0000%\n",
      "|-----------> ✅ Predict ages with model finished [0.0015s]\n",
      "|-----------> ⚙️ Add predicted ages and clock metadata to adata started\n",
      "|-----------> ✅ Add predicted ages and clock metadata to adata finished [0.0005s]\n",
      "|-----> 🎉 Done! [1.6454s]\n"
     ]
    }
   ],
   "source": [
    "pya.pred.predict_age(adata, ['Mammalian1', 'MammalianLifespan', 'MammalianFemale'])"
   ]
  },
  {
   "cell_type": "code",
   "execution_count": 8,
   "id": "98fbdf4c-57c2-4885-bc4a-96b4771a638b",
   "metadata": {},
   "outputs": [
    {
     "data": {
      "text/html": [
       "<div>\n",
       "<style scoped>\n",
       "    .dataframe tbody tr th:only-of-type {\n",
       "        vertical-align: middle;\n",
       "    }\n",
       "\n",
       "    .dataframe tbody tr th {\n",
       "        vertical-align: top;\n",
       "    }\n",
       "\n",
       "    .dataframe thead th {\n",
       "        text-align: right;\n",
       "    }\n",
       "</style>\n",
       "<table border=\"1\" class=\"dataframe\">\n",
       "  <thead>\n",
       "    <tr style=\"text-align: right;\">\n",
       "      <th></th>\n",
       "      <th>mammalian1</th>\n",
       "      <th>mammalianlifespan</th>\n",
       "      <th>mammalianfemale</th>\n",
       "    </tr>\n",
       "  </thead>\n",
       "  <tbody>\n",
       "    <tr>\n",
       "      <th>204509080002_R01C02</th>\n",
       "      <td>26.372437</td>\n",
       "      <td>93.886067</td>\n",
       "      <td>0.994351</td>\n",
       "    </tr>\n",
       "    <tr>\n",
       "      <th>202897220142_R04C02</th>\n",
       "      <td>1.176586</td>\n",
       "      <td>6.999176</td>\n",
       "      <td>0.991473</td>\n",
       "    </tr>\n",
       "    <tr>\n",
       "      <th>204529320092_R01C02</th>\n",
       "      <td>18.776438</td>\n",
       "      <td>73.335119</td>\n",
       "      <td>0.008419</td>\n",
       "    </tr>\n",
       "    <tr>\n",
       "      <th>202794570004_R02C01</th>\n",
       "      <td>0.890973</td>\n",
       "      <td>5.332615</td>\n",
       "      <td>0.941965</td>\n",
       "    </tr>\n",
       "    <tr>\n",
       "      <th>203531420070_R05C02</th>\n",
       "      <td>10.371315</td>\n",
       "      <td>68.409331</td>\n",
       "      <td>0.009133</td>\n",
       "    </tr>\n",
       "  </tbody>\n",
       "</table>\n",
       "</div>"
      ],
      "text/plain": [
       "                     mammalian1  mammalianlifespan  mammalianfemale\n",
       "204509080002_R01C02   26.372437          93.886067         0.994351\n",
       "202897220142_R04C02    1.176586           6.999176         0.991473\n",
       "204529320092_R01C02   18.776438          73.335119         0.008419\n",
       "202794570004_R02C01    0.890973           5.332615         0.941965\n",
       "203531420070_R05C02   10.371315          68.409331         0.009133"
      ]
     },
     "execution_count": 8,
     "metadata": {},
     "output_type": "execute_result"
    }
   ],
   "source": [
    "adata.obs.head()"
   ]
  },
  {
   "cell_type": "markdown",
   "id": "9f6620b4-3a88-4cfd-9f4b-0cbc8047adf9",
   "metadata": {},
   "source": [
    "Having so much information printed can be overwhelming, particularly when running several clocks at once. In such cases, just set verbose to False."
   ]
  },
  {
   "cell_type": "code",
   "execution_count": 9,
   "id": "64035819-8dd0-4917-96ed-55c36ef34a66",
   "metadata": {},
   "outputs": [
    {
     "data": {
      "text/html": [
       "<div>\n",
       "<style scoped>\n",
       "    .dataframe tbody tr th:only-of-type {\n",
       "        vertical-align: middle;\n",
       "    }\n",
       "\n",
       "    .dataframe tbody tr th {\n",
       "        vertical-align: top;\n",
       "    }\n",
       "\n",
       "    .dataframe thead th {\n",
       "        text-align: right;\n",
       "    }\n",
       "</style>\n",
       "<table border=\"1\" class=\"dataframe\">\n",
       "  <thead>\n",
       "    <tr style=\"text-align: right;\">\n",
       "      <th></th>\n",
       "      <th>mammalian1</th>\n",
       "      <th>mammalianlifespan</th>\n",
       "      <th>mammalianfemale</th>\n",
       "    </tr>\n",
       "  </thead>\n",
       "  <tbody>\n",
       "    <tr>\n",
       "      <th>204509080002_R01C02</th>\n",
       "      <td>26.372437</td>\n",
       "      <td>93.886067</td>\n",
       "      <td>0.994351</td>\n",
       "    </tr>\n",
       "    <tr>\n",
       "      <th>202897220142_R04C02</th>\n",
       "      <td>1.176586</td>\n",
       "      <td>6.999176</td>\n",
       "      <td>0.991473</td>\n",
       "    </tr>\n",
       "    <tr>\n",
       "      <th>204529320092_R01C02</th>\n",
       "      <td>18.776438</td>\n",
       "      <td>73.335119</td>\n",
       "      <td>0.008419</td>\n",
       "    </tr>\n",
       "    <tr>\n",
       "      <th>202794570004_R02C01</th>\n",
       "      <td>0.890973</td>\n",
       "      <td>5.332615</td>\n",
       "      <td>0.941965</td>\n",
       "    </tr>\n",
       "    <tr>\n",
       "      <th>203531420070_R05C02</th>\n",
       "      <td>10.371315</td>\n",
       "      <td>68.409331</td>\n",
       "      <td>0.009133</td>\n",
       "    </tr>\n",
       "  </tbody>\n",
       "</table>\n",
       "</div>"
      ],
      "text/plain": [
       "                     mammalian1  mammalianlifespan  mammalianfemale\n",
       "204509080002_R01C02   26.372437          93.886067         0.994351\n",
       "202897220142_R04C02    1.176586           6.999176         0.991473\n",
       "204529320092_R01C02   18.776438          73.335119         0.008419\n",
       "202794570004_R02C01    0.890973           5.332615         0.941965\n",
       "203531420070_R05C02   10.371315          68.409331         0.009133"
      ]
     },
     "execution_count": 9,
     "metadata": {},
     "output_type": "execute_result"
    }
   ],
   "source": [
    "pya.data.download_example_data('GSE223748', verbose=False)\n",
    "df = pd.read_pickle('pyaging_data/GSE223748_subset.pkl')\n",
    "adata = pya.preprocess.df_to_adata(df, imputer_strategy='knn', verbose=False)\n",
    "pya.pred.predict_age(adata, ['Mammalian1', 'MammalianLifespan', 'MammalianFemale'], verbose=False)\n",
    "adata.obs.head()"
   ]
  },
  {
   "cell_type": "markdown",
   "id": "b5d3a683-2ff4-436b-9a90-34a138a98a14",
   "metadata": {},
   "source": [
    "After age prediction, the clocks are added to `adata.obs`. Moreover, the percent of missing values for each clock and other metadata are included in `adata.uns`."
   ]
  },
  {
   "cell_type": "code",
   "execution_count": 10,
   "id": "0d069189-1750-42f6-89d9-73039dd07a00",
   "metadata": {},
   "outputs": [
    {
     "data": {
      "text/plain": [
       "AnnData object with n_obs × n_vars = 100 × 37554\n",
       "    obs: 'mammalian1', 'mammalianlifespan', 'mammalianfemale'\n",
       "    var: 'percent_na'\n",
       "    uns: 'mammalian1_percent_na', 'mammalian1_missing_features', 'mammalian1_metadata', 'mammalianlifespan_percent_na', 'mammalianlifespan_missing_features', 'mammalianlifespan_metadata', 'mammalianfemale_percent_na', 'mammalianfemale_missing_features', 'mammalianfemale_metadata'\n",
       "    layers: 'X_original'"
      ]
     },
     "execution_count": 10,
     "metadata": {},
     "output_type": "execute_result"
    }
   ],
   "source": [
    "adata"
   ]
  },
  {
   "cell_type": "markdown",
   "id": "bd975ebd-88aa-49f5-889e-43c69eb79afc",
   "metadata": {},
   "source": [
    "### Mammalian predictors with species declaration"
   ]
  },
  {
   "cell_type": "markdown",
   "id": "1ec840ce-2286-45a3-989e-d7a36469e1cd",
   "metadata": {},
   "source": [
    "Mammalian2 and mammalian3 types of clocks require species declaration for the reverse transformation of the output into units of years. For the mammalian2 clocks, there are 1756 species in the dictionary with the available variables for reverse transformation; for the mammalian3, there are 1707 species. By default, Homo sapiens is the chosen species.\n",
    "\n",
    "Let's first have a look at the species that can be used for these clocks by loading the models themselves."
   ]
  },
  {
   "cell_type": "code",
   "execution_count": 11,
   "id": "be99c22b-dc46-419b-b415-1c024b5e35d0",
   "metadata": {},
   "outputs": [
    {
     "name": "stdout",
     "output_type": "stream",
     "text": [
      "|-----> ⚙️ Load clock started\n",
      "|-----------> Data found in pyaging_data/mammalian2.pt\n",
      "|-----> ✅ Load clock finished [0.4540s]\n",
      "|-----> ⚙️ Load clock started\n",
      "|-----------> Data found in pyaging_data/mammalian3.pt\n",
      "|-----> ✅ Load clock finished [0.4946s]\n"
     ]
    }
   ],
   "source": [
    "logger = pya.logger.Logger('test_logger')\n",
    "device = 'cpu'\n",
    "dir = 'pyaging_data'\n",
    "indent_level = 1\n",
    "\n",
    "mammalian2_model = pya.pred.load_clock('Mammalian2', device, dir, logger, indent_level=indent_level)\n",
    "mammalian3_model = pya.pred.load_clock('Mammalian3', device, dir, logger, indent_level=indent_level)"
   ]
  },
  {
   "cell_type": "markdown",
   "id": "2f6a5ec7-a9b2-44fc-af5e-d14ae910b935",
   "metadata": {},
   "source": [
    "We need to filter the features for the ones that are not CpG sites."
   ]
  },
  {
   "cell_type": "code",
   "execution_count": 12,
   "id": "a8e37387-a32f-4e2f-98b0-22000792c565",
   "metadata": {},
   "outputs": [
    {
     "name": "stdout",
     "output_type": "stream",
     "text": [
      "There are 1756 species Latin name features in mammalian2.\n",
      "There are 1707 species Latin name features in mammalian3.\n"
     ]
    }
   ],
   "source": [
    "mammalian2_species = [feature for feature in mammalian2_model.features if feature[0:2] != 'cg']\n",
    "mammalian3_species = [feature for feature in mammalian3_model.features if feature[0:2] != 'cg']\n",
    "print(f\"There are {len(mammalian2_species)} species Latin name features in mammalian2.\")\n",
    "print(f\"There are {len(mammalian3_species)} species Latin name features in mammalian3.\")"
   ]
  },
  {
   "cell_type": "code",
   "execution_count": 13,
   "id": "7a86f159-ccf2-4dbc-93b2-ea76558a1f81",
   "metadata": {},
   "outputs": [
    {
     "data": {
      "text/plain": [
       "['Anaxyrus americanus',\n",
       " 'Anaxyrus boreas',\n",
       " 'Anaxyrus canorus',\n",
       " 'Anaxyrus cognatus',\n",
       " 'Anaxyrus retiformis',\n",
       " 'Anaxyrus terrestris',\n",
       " 'Rhinella marina',\n",
       " 'Dendrobates auratus',\n",
       " 'Dendrobates leucomelas',\n",
       " 'Hyla chrysoscelis']"
      ]
     },
     "execution_count": 13,
     "metadata": {},
     "output_type": "execute_result"
    }
   ],
   "source": [
    "mammalian2_species[0:10]"
   ]
  },
  {
   "cell_type": "code",
   "execution_count": 14,
   "id": "8e125e7a-7f8f-4360-9d69-be6815404128",
   "metadata": {},
   "outputs": [
    {
     "data": {
      "text/plain": [
       "['Anaxyrus americanus',\n",
       " 'Anaxyrus boreas',\n",
       " 'Anaxyrus canorus',\n",
       " 'Anaxyrus cognatus',\n",
       " 'Rhinella marina',\n",
       " 'Dendrobates auratus',\n",
       " 'Dendrobates leucomelas',\n",
       " 'Phyllobates vittatus',\n",
       " 'Hyla chrysoscelis',\n",
       " 'Hyla versicolor']"
      ]
     },
     "execution_count": 14,
     "metadata": {},
     "output_type": "execute_result"
    }
   ],
   "source": [
    "mammalian3_species[0:10]"
   ]
  },
  {
   "cell_type": "markdown",
   "id": "498ca26d-ab18-48d8-96a5-4c3915433a05",
   "metadata": {},
   "source": [
    "To chose a species, simply add the Latin name as a feature with value 1. In this subset version of the GSE223748 dataset, the species names are not available. Therefore, let's use the naked mole rat (Heterocephalus glaber) as our species. \n",
    "\n",
    "Let's first check that it is available in the clocks."
   ]
  },
  {
   "cell_type": "code",
   "execution_count": 15,
   "id": "47908607-99b8-411e-a91c-e4829cb2781c",
   "metadata": {},
   "outputs": [
    {
     "data": {
      "text/plain": [
       "True"
      ]
     },
     "execution_count": 15,
     "metadata": {},
     "output_type": "execute_result"
    }
   ],
   "source": [
    "'Heterocephalus glaber' in  mammalian2_species"
   ]
  },
  {
   "cell_type": "code",
   "execution_count": 16,
   "id": "6bf84b35-2091-4297-892a-d7addb7badc6",
   "metadata": {},
   "outputs": [
    {
     "data": {
      "text/plain": [
       "True"
      ]
     },
     "execution_count": 16,
     "metadata": {},
     "output_type": "execute_result"
    }
   ],
   "source": [
    "'Heterocephalus glaber' in  mammalian3_species"
   ]
  },
  {
   "cell_type": "markdown",
   "id": "4f1e4c93-397a-401e-948f-b42fbb62f222",
   "metadata": {},
   "source": [
    "Then, let's add it as a feature to the pandas dataframe and create a new adata object."
   ]
  },
  {
   "cell_type": "code",
   "execution_count": 17,
   "id": "09259244-661c-475c-bc9d-2168788f6226",
   "metadata": {},
   "outputs": [
    {
     "name": "stdout",
     "output_type": "stream",
     "text": [
      "|-----> 🏗️ Starting df_to_adata function\n",
      "|-----> ⚙️ Create anndata object started\n",
      "|-----> ✅ Create anndata object finished [0.0291s]\n",
      "|-----> ⚙️ Add metadata to anndata started\n",
      "|-----------? No metadata provided. Leaving adata.obs empty\n",
      "|-----> ⚠️ Add metadata to anndata finished [0.0006s]\n",
      "|-----> ⚙️ Log data statistics started\n",
      "|-----------> There are 100 observations\n",
      "|-----------> There are 37555 features\n",
      "|-----------> Total missing values: 0\n",
      "|-----------> Percentage of missing values: 0.00%\n",
      "|-----> ✅ Log data statistics finished [0.0045s]\n",
      "|-----> ⚙️ Impute missing values started\n",
      "|-----------> No missing values found. No imputation necessary\n",
      "|-----> ✅ Impute missing values finished [0.0040s]\n",
      "|-----> 🎉 Done! [0.0415s]\n"
     ]
    }
   ],
   "source": [
    "df['Heterocephalus glaber'] = 1\n",
    "adata = pya.pp.df_to_adata(df, imputer_strategy='knn')"
   ]
  },
  {
   "cell_type": "markdown",
   "id": "bd588d20-a333-4775-9862-75c28cecff51",
   "metadata": {},
   "source": [
    "Finally, let's make the predictions using the multi-tissue mammalian2 and mammalian3 clocks plus the blood-specific and skin-specific versions."
   ]
  },
  {
   "cell_type": "code",
   "execution_count": 18,
   "id": "f3f2a5a2-e546-4cbb-97ad-df8714b138c4",
   "metadata": {},
   "outputs": [
    {
     "name": "stdout",
     "output_type": "stream",
     "text": [
      "|-----> 🏗️ Starting predict_age function\n",
      "|-----> ⚙️ Set PyTorch device started\n",
      "|-----------> Using device: cpu\n",
      "|-----> ✅ Set PyTorch device finished [0.0013s]\n",
      "|-----> 🕒 Processing clock: mammalian2\n",
      "|-----------> ⚙️ Load clock started\n",
      "|-----------------> Data found in pyaging_data/mammalian2.pt\n",
      "|-----------> ✅ Load clock finished [0.4827s]\n",
      "|-----------> ⚙️ Check features in adata started\n",
      "|-----------------? 1755 out of 2572 features (68.23%) are missing: ['Anaxyrus americanus', 'Anaxyrus boreas', 'Anaxyrus canorus'], etc.\n",
      "|-----------------> Using reference feature values for mammalian2\n",
      "|-----------------> Added prepared input matrix to adata.obsm[X_mammalian2]\n",
      "|-----------> ⚠️ Check features in adata finished [0.0556s]\n",
      "|-----------> ⚙️ Predict ages with model started\n",
      "|-----------------> There is no preprocessing necessary\n",
      "|-----------------> The postprocessing method is mammalian2\n",
      "|-----------------> in progress: 100.0000%\n",
      "|-----------> ✅ Predict ages with model finished [0.0042s]\n",
      "|-----------> ⚙️ Add predicted ages and clock metadata to adata started\n",
      "|-----------> ✅ Add predicted ages and clock metadata to adata finished [0.0007s]\n",
      "|-----> 🕒 Processing clock: mammalianskin2\n",
      "|-----------> ⚙️ Load clock started\n",
      "|-----------------> Data found in pyaging_data/mammalianskin2.pt\n",
      "|-----------> ✅ Load clock finished [0.4283s]\n",
      "|-----------> ⚙️ Check features in adata started\n",
      "|-----------------? 1755 out of 2240 features (78.35%) are missing: ['Anaxyrus americanus', 'Anaxyrus boreas', 'Anaxyrus canorus'], etc.\n",
      "|-----------------> Using reference feature values for mammalianskin2\n",
      "|-----------------> Added prepared input matrix to adata.obsm[X_mammalianskin2]\n",
      "|-----------> ⚠️ Check features in adata finished [0.0447s]\n",
      "|-----------> ⚙️ Predict ages with model started\n",
      "|-----------------> There is no preprocessing necessary\n",
      "|-----------------> The postprocessing method is mammalian2\n",
      "|-----------------> in progress: 100.0000%\n",
      "|-----------> ✅ Predict ages with model finished [0.0022s]\n",
      "|-----------> ⚙️ Add predicted ages and clock metadata to adata started\n",
      "|-----------> ✅ Add predicted ages and clock metadata to adata finished [0.0006s]\n",
      "|-----> 🕒 Processing clock: mammalianblood2\n",
      "|-----------> ⚙️ Load clock started\n",
      "|-----------------> Data found in pyaging_data/mammalianblood2.pt\n",
      "|-----------> ✅ Load clock finished [0.4847s]\n",
      "|-----------> ⚙️ Check features in adata started\n",
      "|-----------------? 1755 out of 2257 features (77.76%) are missing: ['Anaxyrus americanus', 'Anaxyrus boreas', 'Anaxyrus canorus'], etc.\n",
      "|-----------------> Using reference feature values for mammalianblood2\n",
      "|-----------------> Added prepared input matrix to adata.obsm[X_mammalianblood2]\n",
      "|-----------> ⚠️ Check features in adata finished [0.0799s]\n",
      "|-----------> ⚙️ Predict ages with model started\n",
      "|-----------------> There is no preprocessing necessary\n",
      "|-----------------> The postprocessing method is mammalian2\n",
      "|-----------------> in progress: 100.0000%\n",
      "|-----------> ✅ Predict ages with model finished [0.0013s]\n",
      "|-----------> ⚙️ Add predicted ages and clock metadata to adata started\n",
      "|-----------> ✅ Add predicted ages and clock metadata to adata finished [0.0005s]\n",
      "|-----> 🕒 Processing clock: mammalian3\n",
      "|-----------> ⚙️ Load clock started\n",
      "|-----------------> Data found in pyaging_data/mammalian3.pt\n",
      "|-----------> ✅ Load clock finished [0.5006s]\n",
      "|-----------> ⚙️ Check features in adata started\n",
      "|-----------------? 1706 out of 2467 features (69.15%) are missing: ['Anaxyrus americanus', 'Anaxyrus boreas', 'Anaxyrus canorus'], etc.\n",
      "|-----------------> Using reference feature values for mammalian3\n",
      "|-----------------> Added prepared input matrix to adata.obsm[X_mammalian3]\n",
      "|-----------> ⚠️ Check features in adata finished [0.1086s]\n",
      "|-----------> ⚙️ Predict ages with model started\n",
      "|-----------------> There is no preprocessing necessary\n",
      "|-----------------> The postprocessing method is mammalian3\n",
      "|-----------------> in progress: 100.0000%\n",
      "|-----------> ✅ Predict ages with model finished [0.0059s]\n",
      "|-----------> ⚙️ Add predicted ages and clock metadata to adata started\n",
      "|-----------> ✅ Add predicted ages and clock metadata to adata finished [0.0005s]\n",
      "|-----> 🕒 Processing clock: mammalianskin3\n",
      "|-----------> ⚙️ Load clock started\n",
      "|-----------------> Data found in pyaging_data/mammalianskin3.pt\n",
      "|-----------> ✅ Load clock finished [0.5248s]\n",
      "|-----------> ⚙️ Check features in adata started\n",
      "|-----------------? 1706 out of 2055 features (83.02%) are missing: ['Anaxyrus americanus', 'Anaxyrus boreas', 'Anaxyrus canorus'], etc.\n",
      "|-----------------> Using reference feature values for mammalianskin3\n",
      "|-----------------> Added prepared input matrix to adata.obsm[X_mammalianskin3]\n",
      "|-----------> ⚠️ Check features in adata finished [0.0743s]\n",
      "|-----------> ⚙️ Predict ages with model started\n",
      "|-----------------> There is no preprocessing necessary\n",
      "|-----------------> The postprocessing method is mammalian3\n",
      "|-----------------> in progress: 100.0000%\n",
      "|-----------> ✅ Predict ages with model finished [0.0024s]\n",
      "|-----------> ⚙️ Add predicted ages and clock metadata to adata started\n",
      "|-----------> ✅ Add predicted ages and clock metadata to adata finished [0.0007s]\n",
      "|-----> 🕒 Processing clock: mammalianblood3\n",
      "|-----------> ⚙️ Load clock started\n",
      "|-----------------> Data found in pyaging_data/mammalianblood3.pt\n",
      "|-----------> ✅ Load clock finished [0.4440s]\n",
      "|-----------> ⚙️ Check features in adata started\n",
      "|-----------------? 1706 out of 2097 features (81.35%) are missing: ['Anaxyrus americanus', 'Anaxyrus boreas', 'Anaxyrus canorus'], etc.\n",
      "|-----------------> Using reference feature values for mammalianblood3\n",
      "|-----------------> Added prepared input matrix to adata.obsm[X_mammalianblood3]\n",
      "|-----------> ⚠️ Check features in adata finished [0.0856s]\n",
      "|-----------> ⚙️ Predict ages with model started\n",
      "|-----------------> There is no preprocessing necessary\n",
      "|-----------------> The postprocessing method is mammalian3\n",
      "|-----------------> in progress: 100.0000%\n",
      "|-----------> ✅ Predict ages with model finished [0.0024s]\n",
      "|-----------> ⚙️ Add predicted ages and clock metadata to adata started\n",
      "|-----------> ✅ Add predicted ages and clock metadata to adata finished [0.0006s]\n",
      "|-----> 🎉 Done! [3.6574s]\n"
     ]
    }
   ],
   "source": [
    "pya.pred.predict_age(adata, ['Mammalian2', 'MammalianSkin2', 'MammalianBlood2', 'Mammalian3', 'MammalianSkin3', 'MammalianBlood3'])"
   ]
  },
  {
   "cell_type": "markdown",
   "id": "2b582309-e03a-4906-a35d-7bd556f9f5e7",
   "metadata": {},
   "source": [
    "During age prediction, if the other species are not present in the input data, they will show up as missing features and the value will be automatically replaced with 0. Therefore, those missing features are not necessarily CpG sites. To double check, one can simply go to the adata.uns to check for missing features."
   ]
  },
  {
   "cell_type": "code",
   "execution_count": 19,
   "id": "48d9c49e-ca16-43c8-8919-2e37ba092a56",
   "metadata": {},
   "outputs": [
    {
     "data": {
      "text/plain": [
       "['Anaxyrus americanus',\n",
       " 'Anaxyrus boreas',\n",
       " 'Anaxyrus canorus',\n",
       " 'Anaxyrus cognatus',\n",
       " 'Anaxyrus retiformis',\n",
       " 'Anaxyrus terrestris',\n",
       " 'Rhinella marina',\n",
       " 'Dendrobates auratus',\n",
       " 'Dendrobates leucomelas',\n",
       " 'Hyla chrysoscelis']"
      ]
     },
     "execution_count": 19,
     "metadata": {},
     "output_type": "execute_result"
    }
   ],
   "source": [
    "adata.uns['mammalian2_missing_features'][0:10]"
   ]
  },
  {
   "cell_type": "markdown",
   "id": "d6175d3a-c2a6-449f-b1c7-60e334b3cf7f",
   "metadata": {},
   "source": [
    "Finally, let's look at the predictions."
   ]
  },
  {
   "cell_type": "code",
   "execution_count": 20,
   "id": "bde7b46e-98ea-479c-a08c-f91483e60371",
   "metadata": {},
   "outputs": [
    {
     "data": {
      "text/html": [
       "<div>\n",
       "<style scoped>\n",
       "    .dataframe tbody tr th:only-of-type {\n",
       "        vertical-align: middle;\n",
       "    }\n",
       "\n",
       "    .dataframe tbody tr th {\n",
       "        vertical-align: top;\n",
       "    }\n",
       "\n",
       "    .dataframe thead th {\n",
       "        text-align: right;\n",
       "    }\n",
       "</style>\n",
       "<table border=\"1\" class=\"dataframe\">\n",
       "  <thead>\n",
       "    <tr style=\"text-align: right;\">\n",
       "      <th></th>\n",
       "      <th>mammalian2</th>\n",
       "      <th>mammalianskin2</th>\n",
       "      <th>mammalianblood2</th>\n",
       "      <th>mammalian3</th>\n",
       "      <th>mammalianskin3</th>\n",
       "      <th>mammalianblood3</th>\n",
       "    </tr>\n",
       "  </thead>\n",
       "  <tbody>\n",
       "    <tr>\n",
       "      <th>204509080002_R01C02</th>\n",
       "      <td>14.946335</td>\n",
       "      <td>6.562780</td>\n",
       "      <td>15.321810</td>\n",
       "      <td>9.211476</td>\n",
       "      <td>4.328208</td>\n",
       "      <td>13.111774</td>\n",
       "    </tr>\n",
       "    <tr>\n",
       "      <th>202897220142_R04C02</th>\n",
       "      <td>17.037182</td>\n",
       "      <td>3.966518</td>\n",
       "      <td>4.293048</td>\n",
       "      <td>17.737573</td>\n",
       "      <td>0.900470</td>\n",
       "      <td>4.240264</td>\n",
       "    </tr>\n",
       "    <tr>\n",
       "      <th>204529320092_R01C02</th>\n",
       "      <td>12.065347</td>\n",
       "      <td>13.392643</td>\n",
       "      <td>14.483315</td>\n",
       "      <td>5.950473</td>\n",
       "      <td>7.048246</td>\n",
       "      <td>5.498531</td>\n",
       "    </tr>\n",
       "    <tr>\n",
       "      <th>202794570004_R02C01</th>\n",
       "      <td>15.263569</td>\n",
       "      <td>19.451386</td>\n",
       "      <td>7.148743</td>\n",
       "      <td>15.870878</td>\n",
       "      <td>14.483290</td>\n",
       "      <td>11.685419</td>\n",
       "    </tr>\n",
       "    <tr>\n",
       "      <th>203531420070_R05C02</th>\n",
       "      <td>6.689490</td>\n",
       "      <td>6.809801</td>\n",
       "      <td>7.602141</td>\n",
       "      <td>4.106029</td>\n",
       "      <td>2.040104</td>\n",
       "      <td>6.293626</td>\n",
       "    </tr>\n",
       "    <tr>\n",
       "      <th>...</th>\n",
       "      <td>...</td>\n",
       "      <td>...</td>\n",
       "      <td>...</td>\n",
       "      <td>...</td>\n",
       "      <td>...</td>\n",
       "      <td>...</td>\n",
       "    </tr>\n",
       "    <tr>\n",
       "      <th>205128010037_R03C02</th>\n",
       "      <td>22.698138</td>\n",
       "      <td>22.948062</td>\n",
       "      <td>25.326321</td>\n",
       "      <td>14.432799</td>\n",
       "      <td>14.013267</td>\n",
       "      <td>21.264321</td>\n",
       "    </tr>\n",
       "    <tr>\n",
       "      <th>206116820044_R06C02</th>\n",
       "      <td>11.146012</td>\n",
       "      <td>9.927552</td>\n",
       "      <td>16.813175</td>\n",
       "      <td>5.092238</td>\n",
       "      <td>4.367878</td>\n",
       "      <td>6.303160</td>\n",
       "    </tr>\n",
       "    <tr>\n",
       "      <th>203203210055_R03C02</th>\n",
       "      <td>2.220405</td>\n",
       "      <td>3.114650</td>\n",
       "      <td>7.204062</td>\n",
       "      <td>1.323726</td>\n",
       "      <td>1.719778</td>\n",
       "      <td>6.897330</td>\n",
       "    </tr>\n",
       "    <tr>\n",
       "      <th>203203210003_R06C02</th>\n",
       "      <td>21.672136</td>\n",
       "      <td>28.800661</td>\n",
       "      <td>21.536502</td>\n",
       "      <td>16.231949</td>\n",
       "      <td>20.177062</td>\n",
       "      <td>24.678961</td>\n",
       "    </tr>\n",
       "    <tr>\n",
       "      <th>204027420026_R03C02</th>\n",
       "      <td>4.925257</td>\n",
       "      <td>6.656713</td>\n",
       "      <td>5.481918</td>\n",
       "      <td>4.350099</td>\n",
       "      <td>4.850269</td>\n",
       "      <td>3.033646</td>\n",
       "    </tr>\n",
       "  </tbody>\n",
       "</table>\n",
       "<p>100 rows × 6 columns</p>\n",
       "</div>"
      ],
      "text/plain": [
       "                     mammalian2  mammalianskin2  mammalianblood2  mammalian3  \\\n",
       "204509080002_R01C02   14.946335        6.562780        15.321810    9.211476   \n",
       "202897220142_R04C02   17.037182        3.966518         4.293048   17.737573   \n",
       "204529320092_R01C02   12.065347       13.392643        14.483315    5.950473   \n",
       "202794570004_R02C01   15.263569       19.451386         7.148743   15.870878   \n",
       "203531420070_R05C02    6.689490        6.809801         7.602141    4.106029   \n",
       "...                         ...             ...              ...         ...   \n",
       "205128010037_R03C02   22.698138       22.948062        25.326321   14.432799   \n",
       "206116820044_R06C02   11.146012        9.927552        16.813175    5.092238   \n",
       "203203210055_R03C02    2.220405        3.114650         7.204062    1.323726   \n",
       "203203210003_R06C02   21.672136       28.800661        21.536502   16.231949   \n",
       "204027420026_R03C02    4.925257        6.656713         5.481918    4.350099   \n",
       "\n",
       "                     mammalianskin3  mammalianblood3  \n",
       "204509080002_R01C02        4.328208        13.111774  \n",
       "202897220142_R04C02        0.900470         4.240264  \n",
       "204529320092_R01C02        7.048246         5.498531  \n",
       "202794570004_R02C01       14.483290        11.685419  \n",
       "203531420070_R05C02        2.040104         6.293626  \n",
       "...                             ...              ...  \n",
       "205128010037_R03C02       14.013267        21.264321  \n",
       "206116820044_R06C02        4.367878         6.303160  \n",
       "203203210055_R03C02        1.719778         6.897330  \n",
       "203203210003_R06C02       20.177062        24.678961  \n",
       "204027420026_R03C02        4.850269         3.033646  \n",
       "\n",
       "[100 rows x 6 columns]"
      ]
     },
     "execution_count": 20,
     "metadata": {},
     "output_type": "execute_result"
    }
   ],
   "source": [
    "adata.obs.head()"
   ]
  },
  {
   "cell_type": "markdown",
   "id": "333ff256-996c-4f41-8260-fffb5b248513",
   "metadata": {},
   "source": [
    "For curiosity let's check the correlation between the clocks."
   ]
  },
  {
   "cell_type": "code",
   "execution_count": 21,
   "id": "165d709e-73ce-4ccb-a0b2-25e485f16d92",
   "metadata": {},
   "outputs": [
    {
     "data": {
      "text/html": [
       "<div>\n",
       "<style scoped>\n",
       "    .dataframe tbody tr th:only-of-type {\n",
       "        vertical-align: middle;\n",
       "    }\n",
       "\n",
       "    .dataframe tbody tr th {\n",
       "        vertical-align: top;\n",
       "    }\n",
       "\n",
       "    .dataframe thead th {\n",
       "        text-align: right;\n",
       "    }\n",
       "</style>\n",
       "<table border=\"1\" class=\"dataframe\">\n",
       "  <thead>\n",
       "    <tr style=\"text-align: right;\">\n",
       "      <th></th>\n",
       "      <th>mammalian2</th>\n",
       "      <th>mammalianskin2</th>\n",
       "      <th>mammalianblood2</th>\n",
       "      <th>mammalian3</th>\n",
       "      <th>mammalianskin3</th>\n",
       "      <th>mammalianblood3</th>\n",
       "    </tr>\n",
       "  </thead>\n",
       "  <tbody>\n",
       "    <tr>\n",
       "      <th>mammalian2</th>\n",
       "      <td>1.000000</td>\n",
       "      <td>0.658934</td>\n",
       "      <td>0.609392</td>\n",
       "      <td>0.910119</td>\n",
       "      <td>0.611179</td>\n",
       "      <td>0.717135</td>\n",
       "    </tr>\n",
       "    <tr>\n",
       "      <th>mammalianskin2</th>\n",
       "      <td>0.658934</td>\n",
       "      <td>1.000000</td>\n",
       "      <td>0.418290</td>\n",
       "      <td>0.607472</td>\n",
       "      <td>0.900305</td>\n",
       "      <td>0.594863</td>\n",
       "    </tr>\n",
       "    <tr>\n",
       "      <th>mammalianblood2</th>\n",
       "      <td>0.609392</td>\n",
       "      <td>0.418290</td>\n",
       "      <td>1.000000</td>\n",
       "      <td>0.463504</td>\n",
       "      <td>0.388197</td>\n",
       "      <td>0.754871</td>\n",
       "    </tr>\n",
       "    <tr>\n",
       "      <th>mammalian3</th>\n",
       "      <td>0.910119</td>\n",
       "      <td>0.607472</td>\n",
       "      <td>0.463504</td>\n",
       "      <td>1.000000</td>\n",
       "      <td>0.675022</td>\n",
       "      <td>0.729099</td>\n",
       "    </tr>\n",
       "    <tr>\n",
       "      <th>mammalianskin3</th>\n",
       "      <td>0.611179</td>\n",
       "      <td>0.900305</td>\n",
       "      <td>0.388197</td>\n",
       "      <td>0.675022</td>\n",
       "      <td>1.000000</td>\n",
       "      <td>0.646473</td>\n",
       "    </tr>\n",
       "    <tr>\n",
       "      <th>mammalianblood3</th>\n",
       "      <td>0.717135</td>\n",
       "      <td>0.594863</td>\n",
       "      <td>0.754871</td>\n",
       "      <td>0.729099</td>\n",
       "      <td>0.646473</td>\n",
       "      <td>1.000000</td>\n",
       "    </tr>\n",
       "  </tbody>\n",
       "</table>\n",
       "</div>"
      ],
      "text/plain": [
       "                 mammalian2  mammalianskin2  mammalianblood2  mammalian3  \\\n",
       "mammalian2         1.000000        0.658934         0.609392    0.910119   \n",
       "mammalianskin2     0.658934        1.000000         0.418290    0.607472   \n",
       "mammalianblood2    0.609392        0.418290         1.000000    0.463504   \n",
       "mammalian3         0.910119        0.607472         0.463504    1.000000   \n",
       "mammalianskin3     0.611179        0.900305         0.388197    0.675022   \n",
       "mammalianblood3    0.717135        0.594863         0.754871    0.729099   \n",
       "\n",
       "                 mammalianskin3  mammalianblood3  \n",
       "mammalian2             0.611179         0.717135  \n",
       "mammalianskin2         0.900305         0.594863  \n",
       "mammalianblood2        0.388197         0.754871  \n",
       "mammalian3             0.675022         0.729099  \n",
       "mammalianskin3         1.000000         0.646473  \n",
       "mammalianblood3        0.646473         1.000000  "
      ]
     },
     "execution_count": 21,
     "metadata": {},
     "output_type": "execute_result"
    }
   ],
   "source": [
    "adata.obs.corr('pearson')"
   ]
  },
  {
   "cell_type": "markdown",
   "id": "7931df39-6108-408a-9214-829a8da9da9a",
   "metadata": {},
   "source": [
    "Again, having so much information printed can be overwhelming, particularly when running several clocks at once. In such cases, just set verbose to False."
   ]
  },
  {
   "cell_type": "code",
   "execution_count": 22,
   "id": "6f00d62f-2f2c-4e90-bd2b-bd409b0131de",
   "metadata": {},
   "outputs": [
    {
     "data": {
      "text/html": [
       "<div>\n",
       "<style scoped>\n",
       "    .dataframe tbody tr th:only-of-type {\n",
       "        vertical-align: middle;\n",
       "    }\n",
       "\n",
       "    .dataframe tbody tr th {\n",
       "        vertical-align: top;\n",
       "    }\n",
       "\n",
       "    .dataframe thead th {\n",
       "        text-align: right;\n",
       "    }\n",
       "</style>\n",
       "<table border=\"1\" class=\"dataframe\">\n",
       "  <thead>\n",
       "    <tr style=\"text-align: right;\">\n",
       "      <th></th>\n",
       "      <th>mammalian2</th>\n",
       "      <th>mammalianskin2</th>\n",
       "      <th>mammalianblood2</th>\n",
       "      <th>mammalian3</th>\n",
       "      <th>mammalianskin3</th>\n",
       "      <th>mammalianblood3</th>\n",
       "    </tr>\n",
       "  </thead>\n",
       "  <tbody>\n",
       "    <tr>\n",
       "      <th>204509080002_R01C02</th>\n",
       "      <td>14.946335</td>\n",
       "      <td>6.562780</td>\n",
       "      <td>15.321810</td>\n",
       "      <td>9.211476</td>\n",
       "      <td>4.328208</td>\n",
       "      <td>13.111774</td>\n",
       "    </tr>\n",
       "    <tr>\n",
       "      <th>202897220142_R04C02</th>\n",
       "      <td>17.037182</td>\n",
       "      <td>3.966518</td>\n",
       "      <td>4.293048</td>\n",
       "      <td>17.737573</td>\n",
       "      <td>0.900470</td>\n",
       "      <td>4.240264</td>\n",
       "    </tr>\n",
       "    <tr>\n",
       "      <th>204529320092_R01C02</th>\n",
       "      <td>12.065347</td>\n",
       "      <td>13.392643</td>\n",
       "      <td>14.483315</td>\n",
       "      <td>5.950473</td>\n",
       "      <td>7.048246</td>\n",
       "      <td>5.498531</td>\n",
       "    </tr>\n",
       "    <tr>\n",
       "      <th>202794570004_R02C01</th>\n",
       "      <td>15.263569</td>\n",
       "      <td>19.451386</td>\n",
       "      <td>7.148743</td>\n",
       "      <td>15.870878</td>\n",
       "      <td>14.483290</td>\n",
       "      <td>11.685419</td>\n",
       "    </tr>\n",
       "    <tr>\n",
       "      <th>203531420070_R05C02</th>\n",
       "      <td>6.689490</td>\n",
       "      <td>6.809801</td>\n",
       "      <td>7.602141</td>\n",
       "      <td>4.106029</td>\n",
       "      <td>2.040104</td>\n",
       "      <td>6.293626</td>\n",
       "    </tr>\n",
       "  </tbody>\n",
       "</table>\n",
       "</div>"
      ],
      "text/plain": [
       "                     mammalian2  mammalianskin2  mammalianblood2  mammalian3  \\\n",
       "204509080002_R01C02   14.946335        6.562780        15.321810    9.211476   \n",
       "202897220142_R04C02   17.037182        3.966518         4.293048   17.737573   \n",
       "204529320092_R01C02   12.065347       13.392643        14.483315    5.950473   \n",
       "202794570004_R02C01   15.263569       19.451386         7.148743   15.870878   \n",
       "203531420070_R05C02    6.689490        6.809801         7.602141    4.106029   \n",
       "\n",
       "                     mammalianskin3  mammalianblood3  \n",
       "204509080002_R01C02        4.328208        13.111774  \n",
       "202897220142_R04C02        0.900470         4.240264  \n",
       "204529320092_R01C02        7.048246         5.498531  \n",
       "202794570004_R02C01       14.483290        11.685419  \n",
       "203531420070_R05C02        2.040104         6.293626  "
      ]
     },
     "execution_count": 22,
     "metadata": {},
     "output_type": "execute_result"
    }
   ],
   "source": [
    "pya.data.download_example_data('GSE223748', verbose=False)\n",
    "df = pd.read_pickle('pyaging_data/GSE223748_subset.pkl')\n",
    "df['Heterocephalus glaber'] = 1\n",
    "adata = pya.preprocess.df_to_adata(df, imputer_strategy='knn', verbose=False)\n",
    "pya.pred.predict_age(adata, ['Mammalian2', 'MammalianSkin2', 'MammalianBlood2', 'Mammalian3', 'MammalianSkin3', 'MammalianBlood3'], verbose=False)\n",
    "adata.obs.head()"
   ]
  },
  {
   "cell_type": "markdown",
   "id": "61ad69dd-9e91-447a-80f9-95647a19a082",
   "metadata": {},
   "source": [
    "## Get citation"
   ]
  },
  {
   "cell_type": "markdown",
   "id": "f2fd36d5-c059-4680-b300-f8e9344186cd",
   "metadata": {},
   "source": [
    "The doi, citation, and some metadata are automatically added to the AnnData object under `adata.uns[CLOCKNAME_metadata]`."
   ]
  },
  {
   "cell_type": "code",
   "execution_count": 23,
   "id": "300b40ad-68e7-49b3-a7f8-66c64436c80f",
   "metadata": {},
   "outputs": [
    {
     "data": {
      "text/plain": [
       "{'clock_name': 'mammalian2',\n",
       " 'data_type': 'methylation',\n",
       " 'species': 'multi',\n",
       " 'year': 2023,\n",
       " 'approved_by_author': '⌛',\n",
       " 'citation': 'Lu, A. T., et al. \"Universal DNA methylation age across mammalian tissues.\" Nature aging 3.9 (2023): 1144-1166.',\n",
       " 'doi': 'https://doi.org/10.1038/s43587-023-00462-6',\n",
       " 'notes': None,\n",
       " 'version': None}"
      ]
     },
     "execution_count": 23,
     "metadata": {},
     "output_type": "execute_result"
    }
   ],
   "source": [
    "adata.uns['mammalian2_metadata']"
   ]
  }
 ],
 "metadata": {
  "kernelspec": {
   "display_name": "Python 3",
   "language": "python",
   "name": "python3"
  },
  "language_info": {
   "codemirror_mode": {
    "name": "ipython",
    "version": 3
   },
   "file_extension": ".py",
   "mimetype": "text/x-python",
   "name": "python",
   "nbconvert_exporter": "python",
   "pygments_lexer": "ipython3",
   "version": "3.9.17"
  }
 },
 "nbformat": 4,
 "nbformat_minor": 5
}
