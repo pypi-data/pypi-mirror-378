{
 "cells": [
  {
   "cell_type": "markdown",
   "id": "2f04eee0-5928-4e74-a754-6dc2e528810c",
   "metadata": {},
   "source": [
    "# PhenoAge"
   ]
  },
  {
   "cell_type": "markdown",
   "id": "a3f514a3-772c-4a14-afdf-5a8376851ff4",
   "metadata": {},
   "source": [
    "## Index\n",
    "1. [Instantiate model class](#Instantiate-model-class)\n",
    "2. [Define clock metadata](#Define-clock-metadata)\n",
    "3. [Download clock dependencies](#Download-clock-dependencies)\n",
    "5. [Load features](#Load-features)\n",
    "6. [Load weights into base model](#Load-weights-into-base-model)\n",
    "7. [Load reference values](#Load-reference-values)\n",
    "8. [Load preprocess and postprocess objects](#Load-preprocess-and-postprocess-objects)\n",
    "10. [Check all clock parameters](#Check-all-clock-parameters)\n",
    "10. [Basic test](#Basic-test)\n",
    "11. [Save torch model](#Save-torch-model)\n",
    "12. [Clear directory](#Clear-directory)"
   ]
  },
  {
   "cell_type": "markdown",
   "id": "d95fafdc-643a-40ea-a689-200bd132e90c",
   "metadata": {},
   "source": [
    "Let's first import some packages:"
   ]
  },
  {
   "cell_type": "code",
   "execution_count": 1,
   "id": "4adfb4de-cd79-4913-a1af-9e23e9e236c9",
   "metadata": {
    "execution": {
     "iopub.execute_input": "2024-03-05T21:23:14.557976Z",
     "iopub.status.busy": "2024-03-05T21:23:14.557331Z",
     "iopub.status.idle": "2024-03-05T21:23:15.842337Z",
     "shell.execute_reply": "2024-03-05T21:23:15.842037Z"
    }
   },
   "outputs": [],
   "source": [
    "import os\n",
    "import inspect\n",
    "import shutil\n",
    "import json\n",
    "import torch\n",
    "import pandas as pd\n",
    "import pyaging as pya"
   ]
  },
  {
   "cell_type": "markdown",
   "id": "145082e5-ced4-47ae-88c0-cb69773e3c5a",
   "metadata": {},
   "source": [
    "## Instantiate model class"
   ]
  },
  {
   "cell_type": "code",
   "execution_count": 2,
   "id": "8aa77372-7ed3-4da7-abc9-d30372106139",
   "metadata": {
    "execution": {
     "iopub.execute_input": "2024-03-05T21:23:15.844306Z",
     "iopub.status.busy": "2024-03-05T21:23:15.844136Z",
     "iopub.status.idle": "2024-03-05T21:23:15.853282Z",
     "shell.execute_reply": "2024-03-05T21:23:15.852990Z"
    }
   },
   "outputs": [
    {
     "name": "stdout",
     "output_type": "stream",
     "text": [
      "class PhenoAge(pyagingModel):\n",
      "    def __init__(self):\n",
      "        super().__init__()\n",
      "\n",
      "    def preprocess(self, x):\n",
      "        return x\n",
      "\n",
      "    def postprocess(self, x):\n",
      "        \"\"\"\n",
      "        Applies a convertion from a CDF of the mortality score from a Gompertz\n",
      "        distribution to phenotypic age.\n",
      "        \"\"\"\n",
      "        # lambda\n",
      "        l = torch.tensor(0.0192, device=x.device, dtype=x.dtype)\n",
      "        mortality_score = 1 - torch.exp(-torch.exp(x) * (torch.exp(120 * l) - 1) / l)\n",
      "        age = (\n",
      "            141.50225 + torch.log(-0.00553 * torch.log(1 - mortality_score)) / 0.090165\n",
      "        )\n",
      "        return age\n",
      "\n"
     ]
    }
   ],
   "source": [
    "def print_entire_class(cls):\n",
    "    source = inspect.getsource(cls)\n",
    "    print(source)\n",
    "\n",
    "print_entire_class(pya.models.PhenoAge)"
   ]
  },
  {
   "cell_type": "code",
   "execution_count": 3,
   "id": "78536494-f1d9-44de-8583-c89a310d2307",
   "metadata": {
    "execution": {
     "iopub.execute_input": "2024-03-05T21:23:15.854751Z",
     "iopub.status.busy": "2024-03-05T21:23:15.854674Z",
     "iopub.status.idle": "2024-03-05T21:23:15.856428Z",
     "shell.execute_reply": "2024-03-05T21:23:15.856167Z"
    }
   },
   "outputs": [],
   "source": [
    "model = pya.models.PhenoAge()"
   ]
  },
  {
   "cell_type": "markdown",
   "id": "51f8615e-01fa-4aa5-b196-3ee2b35d261c",
   "metadata": {},
   "source": [
    "## Define clock metadata"
   ]
  },
  {
   "cell_type": "code",
   "execution_count": 4,
   "id": "6601da9e-8adc-44ee-9308-75e3cd31b816",
   "metadata": {
    "execution": {
     "iopub.execute_input": "2024-03-05T21:23:15.857866Z",
     "iopub.status.busy": "2024-03-05T21:23:15.857772Z",
     "iopub.status.idle": "2024-03-05T21:23:15.859560Z",
     "shell.execute_reply": "2024-03-05T21:23:15.859336Z"
    }
   },
   "outputs": [],
   "source": [
    "model.metadata[\"clock_name\"] = 'phenoage'\n",
    "model.metadata[\"data_type\"] = 'blood chemistry'\n",
    "model.metadata[\"species\"] = 'Homo sapiens'\n",
    "model.metadata[\"year\"] = 2018\n",
    "model.metadata[\"approved_by_author\"] = '⌛'\n",
    "model.metadata[\"citation\"] = \"Levine, Morgan E., et al. \\\"An epigenetic biomarker of aging for lifespan and healthspan.\\\" Aging (albany NY) 10.4 (2018): 573.\"\n",
    "model.metadata[\"doi\"] = \"https://doi.org/10.18632%2Faging.101414\"\n",
    "model.metadata[\"research_only\"] = None\n",
    "model.metadata[\"notes\"] = None"
   ]
  },
  {
   "cell_type": "markdown",
   "id": "74492239-5aae-4026-9d90-6bc9c574c110",
   "metadata": {},
   "source": [
    "## Download clock dependencies"
   ]
  },
  {
   "cell_type": "code",
   "execution_count": 5,
   "id": "f1f9bbe4-cfc8-494c-b910-c96da88afb2b",
   "metadata": {
    "execution": {
     "iopub.execute_input": "2024-03-05T21:23:15.861009Z",
     "iopub.status.busy": "2024-03-05T21:23:15.860920Z",
     "iopub.status.idle": "2024-03-05T21:23:15.862762Z",
     "shell.execute_reply": "2024-03-05T21:23:15.862546Z"
    }
   },
   "outputs": [],
   "source": [
    "features = [\n",
    "    \"albumin\",\n",
    "    \"creatinine\",\n",
    "    \"glucose\",\n",
    "    \"log_crp\",\n",
    "    \"lymphocyte_percent\",\n",
    "    \"mean_cell_volume\",\n",
    "    \"red_cell_distribution_width\",\n",
    "    \"alkaline_phosphatase\",\n",
    "    \"white_blood_cell_count\",\n",
    "    \"age\"\n",
    "]\n",
    "\n",
    "coefs = [\n",
    "    -0.0336,\n",
    "    0.0095,\n",
    "    0.1953,\n",
    "    0.0954,\n",
    "    -0.0120,\n",
    "    0.0268,\n",
    "    0.3306,\n",
    "    0.0019,\n",
    "    0.0554,\n",
    "    0.0804,\n",
    "]"
   ]
  },
  {
   "cell_type": "markdown",
   "id": "5035b180-3d1b-4432-8ebe-b9c92bd93a7f",
   "metadata": {},
   "source": [
    "## Load features"
   ]
  },
  {
   "cell_type": "code",
   "execution_count": 6,
   "id": "110a5ded-d25f-4cef-8e84-4f51210dfc26",
   "metadata": {
    "execution": {
     "iopub.execute_input": "2024-03-05T21:23:15.864291Z",
     "iopub.status.busy": "2024-03-05T21:23:15.864200Z",
     "iopub.status.idle": "2024-03-05T21:23:15.865713Z",
     "shell.execute_reply": "2024-03-05T21:23:15.865500Z"
    }
   },
   "outputs": [],
   "source": [
    "model.features = features"
   ]
  },
  {
   "cell_type": "markdown",
   "id": "ee6d8fa0-4767-4c45-9717-eb1c95e2ddc0",
   "metadata": {},
   "source": [
    "## Load weights into base model"
   ]
  },
  {
   "cell_type": "code",
   "execution_count": 7,
   "id": "e09b3463-4fd4-41b1-ac21-e63ddd223fe0",
   "metadata": {
    "execution": {
     "iopub.execute_input": "2024-03-05T21:23:15.867082Z",
     "iopub.status.busy": "2024-03-05T21:23:15.867009Z",
     "iopub.status.idle": "2024-03-05T21:23:15.868820Z",
     "shell.execute_reply": "2024-03-05T21:23:15.868596Z"
    }
   },
   "outputs": [],
   "source": [
    "weights = torch.tensor(coefs).unsqueeze(0)\n",
    "intercept = torch.tensor([-19.9067])"
   ]
  },
  {
   "cell_type": "markdown",
   "id": "ad261636-5b00-4979-bb1d-67a851f7aa19",
   "metadata": {},
   "source": [
    "#### Linear model"
   ]
  },
  {
   "cell_type": "code",
   "execution_count": 8,
   "id": "d7f43b99-26f2-4622-9a76-316712058877",
   "metadata": {
    "execution": {
     "iopub.execute_input": "2024-03-05T21:23:15.870217Z",
     "iopub.status.busy": "2024-03-05T21:23:15.870146Z",
     "iopub.status.idle": "2024-03-05T21:23:15.872176Z",
     "shell.execute_reply": "2024-03-05T21:23:15.871948Z"
    }
   },
   "outputs": [],
   "source": [
    "base_model = pya.models.LinearModel(input_dim=len(model.features))\n",
    "\n",
    "base_model.linear.weight.data = weights.float()\n",
    "base_model.linear.bias.data = intercept.float()\n",
    "\n",
    "model.base_model = base_model"
   ]
  },
  {
   "cell_type": "markdown",
   "id": "ad8b4c1d-9d57-48b7-9a30-bcfea7b747b1",
   "metadata": {},
   "source": [
    "## Load reference values"
   ]
  },
  {
   "cell_type": "code",
   "execution_count": 9,
   "id": "ade0f4c9-2298-4fc3-bb72-d200907dd731",
   "metadata": {
    "execution": {
     "iopub.execute_input": "2024-03-05T21:23:15.873561Z",
     "iopub.status.busy": "2024-03-05T21:23:15.873484Z",
     "iopub.status.idle": "2024-03-05T21:23:15.874769Z",
     "shell.execute_reply": "2024-03-05T21:23:15.874543Z"
    }
   },
   "outputs": [],
   "source": [
    "model.reference_values = None"
   ]
  },
  {
   "cell_type": "markdown",
   "id": "af3bcf7b-74a8-4d21-9ccb-4de0c2b0516b",
   "metadata": {},
   "source": [
    "## Load preprocess and postprocess objects"
   ]
  },
  {
   "cell_type": "code",
   "execution_count": 10,
   "id": "7a22fb20-c605-424d-8efb-7620c2c0755c",
   "metadata": {
    "execution": {
     "iopub.execute_input": "2024-03-05T21:23:15.876120Z",
     "iopub.status.busy": "2024-03-05T21:23:15.876045Z",
     "iopub.status.idle": "2024-03-05T21:23:15.877584Z",
     "shell.execute_reply": "2024-03-05T21:23:15.877334Z"
    }
   },
   "outputs": [],
   "source": [
    "model.preprocess_name = None\n",
    "model.preprocess_dependencies = None"
   ]
  },
  {
   "cell_type": "code",
   "execution_count": 11,
   "id": "ff4a21cb-cf41-44dc-9ed1-95cf8aa15772",
   "metadata": {
    "execution": {
     "iopub.execute_input": "2024-03-05T21:23:15.878973Z",
     "iopub.status.busy": "2024-03-05T21:23:15.878887Z",
     "iopub.status.idle": "2024-03-05T21:23:15.880296Z",
     "shell.execute_reply": "2024-03-05T21:23:15.880074Z"
    }
   },
   "outputs": [],
   "source": [
    "model.postprocess_name = 'mortality_to_phenoage'\n",
    "model.postprocess_dependencies = None"
   ]
  },
  {
   "cell_type": "markdown",
   "id": "86e3d6b1-e67e-4f3d-bd39-0ebec5726c3c",
   "metadata": {},
   "source": [
    "## Check all clock parameters"
   ]
  },
  {
   "cell_type": "code",
   "execution_count": 12,
   "id": "2168355c-47d9-475d-b816-49f65e74887c",
   "metadata": {
    "execution": {
     "iopub.execute_input": "2024-03-05T21:23:15.881734Z",
     "iopub.status.busy": "2024-03-05T21:23:15.881656Z",
     "iopub.status.idle": "2024-03-05T21:23:15.884525Z",
     "shell.execute_reply": "2024-03-05T21:23:15.884305Z"
    }
   },
   "outputs": [
    {
     "name": "stdout",
     "output_type": "stream",
     "text": [
      "\n",
      "%==================================== Model Details ====================================%\n",
      "Model Attributes:\n",
      "\n",
      "training: True\n",
      "metadata: {'approved_by_author': '⌛',\n",
      " 'citation': 'Levine, Morgan E., et al. \"An epigenetic biomarker of aging for '\n",
      "             'lifespan and healthspan.\" Aging (albany NY) 10.4 (2018): 573.',\n",
      " 'clock_name': 'phenoage',\n",
      " 'data_type': 'blood chemistry',\n",
      " 'doi': 'https://doi.org/10.18632%2Faging.101414',\n",
      " 'notes': None,\n",
      " 'research_only': None,\n",
      " 'species': 'Homo sapiens',\n",
      " 'version': None,\n",
      " 'year': 2018}\n",
      "reference_values: None\n",
      "preprocess_name: None\n",
      "preprocess_dependencies: None\n",
      "postprocess_name: 'mortality_to_phenoage'\n",
      "postprocess_dependencies: None\n",
      "features: ['albumin',\n",
      " 'creatinine',\n",
      " 'glucose',\n",
      " 'log_crp',\n",
      " 'lymphocyte_percent',\n",
      " 'mean_cell_volume',\n",
      " 'red_cell_distribution_width',\n",
      " 'alkaline_phosphatase',\n",
      " 'white_blood_cell_count',\n",
      " 'age']\n",
      "base_model_features: None\n",
      "\n",
      "%==================================== Model Details ====================================%\n",
      "Model Structure:\n",
      "\n",
      "base_model: LinearModel(\n",
      "  (linear): Linear(in_features=10, out_features=1, bias=True)\n",
      ")\n",
      "\n",
      "%==================================== Model Details ====================================%\n",
      "Model Parameters and Weights:\n",
      "\n",
      "base_model.linear.weight: tensor([[-0.0336,  0.0095,  0.1953,  0.0954, -0.0120,  0.0268,  0.3306,  0.0019,\n",
      "          0.0554,  0.0804]])\n",
      "base_model.linear.bias: tensor([-19.9067])\n",
      "\n",
      "%==================================== Model Details ====================================%\n",
      "\n"
     ]
    }
   ],
   "source": [
    "pya.utils.print_model_details(model)"
   ]
  },
  {
   "cell_type": "markdown",
   "id": "986d0262-e0c7-4036-b687-dee53ba392fb",
   "metadata": {},
   "source": [
    "## Basic test"
   ]
  },
  {
   "cell_type": "code",
   "execution_count": 13,
   "id": "936b9877-d076-4ced-99aa-e8d4c58c5caf",
   "metadata": {
    "execution": {
     "iopub.execute_input": "2024-03-05T21:23:15.886025Z",
     "iopub.status.busy": "2024-03-05T21:23:15.885938Z",
     "iopub.status.idle": "2024-03-05T21:23:15.890286Z",
     "shell.execute_reply": "2024-03-05T21:23:15.890073Z"
    }
   },
   "outputs": [
    {
     "data": {
      "text/plain": [
       "tensor([[-74.5299],\n",
       "        [-69.6854],\n",
       "        [-69.2747],\n",
       "        [-59.3164],\n",
       "        [-64.4732],\n",
       "        [-62.6114],\n",
       "        [-72.9975],\n",
       "        [-65.8399],\n",
       "        [-69.8485],\n",
       "        [-69.8503]], dtype=torch.float64, grad_fn=<AddBackward0>)"
      ]
     },
     "execution_count": 13,
     "metadata": {},
     "output_type": "execute_result"
    }
   ],
   "source": [
    "torch.manual_seed(42)\n",
    "input = torch.randn(10, len(model.features), dtype=float)\n",
    "model.eval()\n",
    "model.to(float)\n",
    "pred = model(input)\n",
    "pred"
   ]
  },
  {
   "cell_type": "markdown",
   "id": "fe8299d7-9285-4e22-82fd-b664434b4369",
   "metadata": {},
   "source": [
    "## Save torch model"
   ]
  },
  {
   "cell_type": "code",
   "execution_count": 14,
   "id": "5ef2fa8d-c80b-4fdd-8555-79c0d541788e",
   "metadata": {
    "execution": {
     "iopub.execute_input": "2024-03-05T21:23:15.891738Z",
     "iopub.status.busy": "2024-03-05T21:23:15.891659Z",
     "iopub.status.idle": "2024-03-05T21:23:15.895220Z",
     "shell.execute_reply": "2024-03-05T21:23:15.894989Z"
    }
   },
   "outputs": [],
   "source": [
    "torch.save(model, f\"../weights/{model.metadata['clock_name']}.pt\")"
   ]
  },
  {
   "cell_type": "markdown",
   "id": "bac6257b-8d08-4a90-8d0b-7f745dc11ac1",
   "metadata": {},
   "source": [
    "## Clear directory\n",
    "<a id=\"10\"></a>"
   ]
  },
  {
   "cell_type": "code",
   "execution_count": 15,
   "id": "11aeaa70-44c0-42f9-86d7-740e3849a7a6",
   "metadata": {
    "execution": {
     "iopub.execute_input": "2024-03-05T21:23:15.896726Z",
     "iopub.status.busy": "2024-03-05T21:23:15.896653Z",
     "iopub.status.idle": "2024-03-05T21:23:15.899354Z",
     "shell.execute_reply": "2024-03-05T21:23:15.899111Z"
    }
   },
   "outputs": [],
   "source": [
    "# Function to remove a folder and all its contents\n",
    "def remove_folder(path):\n",
    "    try:\n",
    "        shutil.rmtree(path)\n",
    "        print(f\"Deleted folder: {path}\")\n",
    "    except Exception as e:\n",
    "        print(f\"Error deleting folder {path}: {e}\")\n",
    "\n",
    "# Get a list of all files and folders in the current directory\n",
    "all_items = os.listdir('.')\n",
    "\n",
    "# Loop through the items\n",
    "for item in all_items:\n",
    "    # Check if it's a file and does not end with .ipynb\n",
    "    if os.path.isfile(item) and not item.endswith('.ipynb'):\n",
    "        os.remove(item)\n",
    "        print(f\"Deleted file: {item}\")\n",
    "    # Check if it's a folder\n",
    "    elif os.path.isdir(item):\n",
    "        remove_folder(item)"
   ]
  }
 ],
 "metadata": {
  "kernelspec": {
   "display_name": "Python 3",
   "language": "python",
   "name": "python3"
  },
  "language_info": {
   "codemirror_mode": {
    "name": "ipython",
    "version": 3
   },
   "file_extension": ".py",
   "mimetype": "text/x-python",
   "name": "python",
   "nbconvert_exporter": "python",
   "pygments_lexer": "ipython3",
   "version": "3.9.17"
  }
 },
 "nbformat": 4,
 "nbformat_minor": 5
}
