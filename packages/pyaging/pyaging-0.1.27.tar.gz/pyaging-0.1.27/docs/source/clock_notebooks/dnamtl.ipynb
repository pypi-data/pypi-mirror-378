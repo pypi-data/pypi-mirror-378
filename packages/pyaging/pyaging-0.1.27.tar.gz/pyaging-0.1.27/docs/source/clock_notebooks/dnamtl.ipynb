{
 "cells": [
  {
   "cell_type": "markdown",
   "id": "2f04eee0-5928-4e74-a754-6dc2e528810c",
   "metadata": {},
   "source": [
    "# DNAmTL"
   ]
  },
  {
   "cell_type": "markdown",
   "id": "a3f514a3-772c-4a14-afdf-5a8376851ff4",
   "metadata": {},
   "source": [
    "## Index\n",
    "1. [Instantiate model class](#Instantiate-model-class)\n",
    "2. [Define clock metadata](#Define-clock-metadata)\n",
    "3. [Download clock dependencies](#Download-clock-dependencies)\n",
    "5. [Load features](#Load-features)\n",
    "6. [Load weights into base model](#Load-weights-into-base-model)\n",
    "7. [Load reference values](#Load-reference-values)\n",
    "8. [Load preprocess and postprocess objects](#Load-preprocess-and-postprocess-objects)\n",
    "10. [Check all clock parameters](#Check-all-clock-parameters)\n",
    "10. [Basic test](#Basic-test)\n",
    "11. [Save torch model](#Save-torch-model)\n",
    "12. [Clear directory](#Clear-directory)"
   ]
  },
  {
   "cell_type": "markdown",
   "id": "d95fafdc-643a-40ea-a689-200bd132e90c",
   "metadata": {},
   "source": [
    "Let's first import some packages:"
   ]
  },
  {
   "cell_type": "code",
   "execution_count": 1,
   "id": "4adfb4de-cd79-4913-a1af-9e23e9e236c9",
   "metadata": {
    "execution": {
     "iopub.execute_input": "2024-03-05T20:16:52.672190Z",
     "iopub.status.busy": "2024-03-05T20:16:52.671672Z",
     "iopub.status.idle": "2024-03-05T20:16:53.985159Z",
     "shell.execute_reply": "2024-03-05T20:16:53.984861Z"
    }
   },
   "outputs": [],
   "source": [
    "import os\n",
    "import inspect\n",
    "import shutil\n",
    "import json\n",
    "import torch\n",
    "import pandas as pd\n",
    "import pyaging as pya"
   ]
  },
  {
   "cell_type": "markdown",
   "id": "145082e5-ced4-47ae-88c0-cb69773e3c5a",
   "metadata": {},
   "source": [
    "## Instantiate model class"
   ]
  },
  {
   "cell_type": "code",
   "execution_count": 2,
   "id": "8aa77372-7ed3-4da7-abc9-d30372106139",
   "metadata": {
    "execution": {
     "iopub.execute_input": "2024-03-05T20:16:53.987198Z",
     "iopub.status.busy": "2024-03-05T20:16:53.987026Z",
     "iopub.status.idle": "2024-03-05T20:16:53.993902Z",
     "shell.execute_reply": "2024-03-05T20:16:53.993654Z"
    }
   },
   "outputs": [
    {
     "name": "stdout",
     "output_type": "stream",
     "text": [
      "class DNAmTL(pyagingModel):\n",
      "    def __init__(self):\n",
      "        super().__init__()\n",
      "\n",
      "    def preprocess(self, x):\n",
      "        return x\n",
      "\n",
      "    def postprocess(self, x):\n",
      "        return x\n",
      "\n"
     ]
    }
   ],
   "source": [
    "def print_entire_class(cls):\n",
    "    source = inspect.getsource(cls)\n",
    "    print(source)\n",
    "\n",
    "print_entire_class(pya.models.DNAmTL)"
   ]
  },
  {
   "cell_type": "code",
   "execution_count": 3,
   "id": "78536494-f1d9-44de-8583-c89a310d2307",
   "metadata": {
    "execution": {
     "iopub.execute_input": "2024-03-05T20:16:53.995398Z",
     "iopub.status.busy": "2024-03-05T20:16:53.995310Z",
     "iopub.status.idle": "2024-03-05T20:16:53.996887Z",
     "shell.execute_reply": "2024-03-05T20:16:53.996634Z"
    }
   },
   "outputs": [],
   "source": [
    "model = pya.models.DNAmTL()"
   ]
  },
  {
   "cell_type": "markdown",
   "id": "51f8615e-01fa-4aa5-b196-3ee2b35d261c",
   "metadata": {},
   "source": [
    "## Define clock metadata"
   ]
  },
  {
   "cell_type": "code",
   "execution_count": 4,
   "id": "6601da9e-8adc-44ee-9308-75e3cd31b816",
   "metadata": {
    "execution": {
     "iopub.execute_input": "2024-03-05T20:16:53.998322Z",
     "iopub.status.busy": "2024-03-05T20:16:53.998245Z",
     "iopub.status.idle": "2024-03-05T20:16:54.000117Z",
     "shell.execute_reply": "2024-03-05T20:16:53.999888Z"
    }
   },
   "outputs": [],
   "source": [
    "model.metadata[\"clock_name\"] = 'dnamtl'\n",
    "model.metadata[\"data_type\"] = 'methylation'\n",
    "model.metadata[\"species\"] = 'Homo sapiens'\n",
    "model.metadata[\"year\"] = 2019\n",
    "model.metadata[\"approved_by_author\"] = '⌛'\n",
    "model.metadata[\"citation\"] = \"Lu, Ake T., et al. \\\"DNA methylation-based estimator of telomere length.\\\" Aging (Albany NY) 11.16 (2019): 5895.\"\n",
    "model.metadata[\"doi\"] = 'https://doi.org/10.18632/aging.102173'\n",
    "model.metadata[\"research_only\"] = None\n",
    "model.metadata[\"notes\"] = None"
   ]
  },
  {
   "cell_type": "markdown",
   "id": "74492239-5aae-4026-9d90-6bc9c574c110",
   "metadata": {},
   "source": [
    "## Download clock dependencies"
   ]
  },
  {
   "cell_type": "markdown",
   "id": "3a134f95-062f-4f6f-ad5c-a088f07d4ecc",
   "metadata": {},
   "source": [
    "#### Download directly with curl"
   ]
  },
  {
   "cell_type": "code",
   "execution_count": 5,
   "id": "40edcd18-89a0-4d98-ab1e-4a12e6c6017a",
   "metadata": {
    "execution": {
     "iopub.execute_input": "2024-03-05T20:16:54.001576Z",
     "iopub.status.busy": "2024-03-05T20:16:54.001503Z",
     "iopub.status.idle": "2024-03-05T20:16:54.464541Z",
     "shell.execute_reply": "2024-03-05T20:16:54.463458Z"
    }
   },
   "outputs": [
    {
     "data": {
      "text/plain": [
       "0"
      ]
     },
     "execution_count": 5,
     "metadata": {},
     "output_type": "execute_result"
    }
   ],
   "source": [
    "supplementary_url = \"https://www.aging-us.com/article/102173/supplementary/SD7/0/aging-v11i16-102173-supplementary-material-SD7.xlsx\"\n",
    "supplementary_file_name = \"coefficients.xlsx\"\n",
    "os.system(f\"curl -o {supplementary_file_name} {supplementary_url}\")"
   ]
  },
  {
   "cell_type": "markdown",
   "id": "5035b180-3d1b-4432-8ebe-b9c92bd93a7f",
   "metadata": {},
   "source": [
    "## Load features"
   ]
  },
  {
   "cell_type": "markdown",
   "id": "793d7b24-b1ef-4dd2-ac26-079f7b67fba7",
   "metadata": {},
   "source": [
    "#### From Excel file"
   ]
  },
  {
   "cell_type": "code",
   "execution_count": 6,
   "id": "110a5ded-d25f-4cef-8e84-4f51210dfc26",
   "metadata": {
    "execution": {
     "iopub.execute_input": "2024-03-05T20:16:54.470022Z",
     "iopub.status.busy": "2024-03-05T20:16:54.469736Z",
     "iopub.status.idle": "2024-03-05T20:16:54.620659Z",
     "shell.execute_reply": "2024-03-05T20:16:54.620381Z"
    }
   },
   "outputs": [],
   "source": [
    "df = pd.read_excel('coefficients.xlsx', skiprows=5)\n",
    "model.features = df['Variable'][1:].tolist()"
   ]
  },
  {
   "cell_type": "markdown",
   "id": "ee6d8fa0-4767-4c45-9717-eb1c95e2ddc0",
   "metadata": {},
   "source": [
    "## Load weights into base model"
   ]
  },
  {
   "cell_type": "code",
   "execution_count": 7,
   "id": "e09b3463-4fd4-41b1-ac21-e63ddd223fe0",
   "metadata": {
    "execution": {
     "iopub.execute_input": "2024-03-05T20:16:54.622343Z",
     "iopub.status.busy": "2024-03-05T20:16:54.622259Z",
     "iopub.status.idle": "2024-03-05T20:16:54.624293Z",
     "shell.execute_reply": "2024-03-05T20:16:54.624024Z"
    }
   },
   "outputs": [],
   "source": [
    "weights = torch.tensor(df['Coefficient'][1:].tolist()).unsqueeze(0).float()\n",
    "intercept = torch.tensor([df['Coefficient'][0]]).float()"
   ]
  },
  {
   "cell_type": "markdown",
   "id": "ad261636-5b00-4979-bb1d-67a851f7aa19",
   "metadata": {},
   "source": [
    "#### Linear model"
   ]
  },
  {
   "cell_type": "code",
   "execution_count": 8,
   "id": "d7f43b99-26f2-4622-9a76-316712058877",
   "metadata": {
    "execution": {
     "iopub.execute_input": "2024-03-05T20:16:54.625773Z",
     "iopub.status.busy": "2024-03-05T20:16:54.625694Z",
     "iopub.status.idle": "2024-03-05T20:16:54.627580Z",
     "shell.execute_reply": "2024-03-05T20:16:54.627360Z"
    }
   },
   "outputs": [],
   "source": [
    "base_model = pya.models.LinearModel(input_dim=len(model.features))\n",
    "\n",
    "base_model.linear.weight.data = weights.float()\n",
    "base_model.linear.bias.data = intercept.float()\n",
    "\n",
    "model.base_model = base_model"
   ]
  },
  {
   "cell_type": "markdown",
   "id": "ad8b4c1d-9d57-48b7-9a30-bcfea7b747b1",
   "metadata": {},
   "source": [
    "## Load reference values"
   ]
  },
  {
   "cell_type": "code",
   "execution_count": 9,
   "id": "ade0f4c9-2298-4fc3-bb72-d200907dd731",
   "metadata": {
    "execution": {
     "iopub.execute_input": "2024-03-05T20:16:54.628921Z",
     "iopub.status.busy": "2024-03-05T20:16:54.628842Z",
     "iopub.status.idle": "2024-03-05T20:16:54.630287Z",
     "shell.execute_reply": "2024-03-05T20:16:54.630036Z"
    }
   },
   "outputs": [],
   "source": [
    "model.reference_values = None"
   ]
  },
  {
   "cell_type": "markdown",
   "id": "af3bcf7b-74a8-4d21-9ccb-4de0c2b0516b",
   "metadata": {},
   "source": [
    "## Load preprocess and postprocess objects"
   ]
  },
  {
   "cell_type": "code",
   "execution_count": 10,
   "id": "7a22fb20-c605-424d-8efb-7620c2c0755c",
   "metadata": {
    "execution": {
     "iopub.execute_input": "2024-03-05T20:16:54.631740Z",
     "iopub.status.busy": "2024-03-05T20:16:54.631663Z",
     "iopub.status.idle": "2024-03-05T20:16:54.633075Z",
     "shell.execute_reply": "2024-03-05T20:16:54.632860Z"
    }
   },
   "outputs": [],
   "source": [
    "model.preprocess_name = None\n",
    "model.preprocess_dependencies = None"
   ]
  },
  {
   "cell_type": "code",
   "execution_count": 11,
   "id": "ff4a21cb-cf41-44dc-9ed1-95cf8aa15772",
   "metadata": {
    "execution": {
     "iopub.execute_input": "2024-03-05T20:16:54.634482Z",
     "iopub.status.busy": "2024-03-05T20:16:54.634376Z",
     "iopub.status.idle": "2024-03-05T20:16:54.635863Z",
     "shell.execute_reply": "2024-03-05T20:16:54.635655Z"
    }
   },
   "outputs": [],
   "source": [
    "model.postprocess_name = None\n",
    "model.postprocess_dependencies = None"
   ]
  },
  {
   "cell_type": "markdown",
   "id": "86e3d6b1-e67e-4f3d-bd39-0ebec5726c3c",
   "metadata": {},
   "source": [
    "## Check all clock parameters"
   ]
  },
  {
   "cell_type": "code",
   "execution_count": 12,
   "id": "2168355c-47d9-475d-b816-49f65e74887c",
   "metadata": {
    "execution": {
     "iopub.execute_input": "2024-03-05T20:16:54.637289Z",
     "iopub.status.busy": "2024-03-05T20:16:54.637208Z",
     "iopub.status.idle": "2024-03-05T20:16:54.640087Z",
     "shell.execute_reply": "2024-03-05T20:16:54.639876Z"
    }
   },
   "outputs": [
    {
     "name": "stdout",
     "output_type": "stream",
     "text": [
      "\n",
      "%==================================== Model Details ====================================%\n",
      "Model Attributes:\n",
      "\n",
      "training: True\n",
      "metadata: {'approved_by_author': '⌛',\n",
      " 'citation': 'Lu, Ake T., et al. \"DNA methylation-based estimator of telomere '\n",
      "             'length.\" Aging (Albany NY) 11.16 (2019): 5895.',\n",
      " 'clock_name': 'dnamtl',\n",
      " 'data_type': 'methylation',\n",
      " 'doi': 'https://doi.org/10.18632/aging.102173',\n",
      " 'notes': None,\n",
      " 'research_only': None,\n",
      " 'species': 'Homo sapiens',\n",
      " 'version': None,\n",
      " 'year': 2019}\n",
      "reference_values: None\n",
      "preprocess_name: None\n",
      "preprocess_dependencies: None\n",
      "postprocess_name: None\n",
      "postprocess_dependencies: None\n",
      "features: ['cg05528516', 'cg00060374', 'cg12711627', 'cg06853416', 'cg01901101', 'cg21393163', 'cg22866430', 'cg16047567', 'cg18768612', 'cg24049493', 'cg08893087', 'cg03984502', 'cg19233405', 'cg05694771', 'cg24739596', 'cg06370057', 'cg24457743', 'cg18148156', 'cg19935065', 'cg10549018', 'cg24903144', 'cg17782974', 'cg13357922', 'cg23908305', 'cg15742496', 'cg27639942', 'cg27312916', 'cg02121547', 'cg26827653', 'cg16593899']... [Total elements: 140]\n",
      "base_model_features: None\n",
      "\n",
      "%==================================== Model Details ====================================%\n",
      "Model Structure:\n",
      "\n",
      "base_model: LinearModel(\n",
      "  (linear): Linear(in_features=140, out_features=1, bias=True)\n",
      ")\n",
      "\n",
      "%==================================== Model Details ====================================%\n",
      "Model Parameters and Weights:\n",
      "\n",
      "base_model.linear.weight: [-0.034901853650808334, 0.19265501201152802, 0.17826975882053375, 0.05488372966647148, -0.2881372272968292, 0.23130665719509125, -0.1323840469121933, 0.27831143140792847, 0.03168892487883568, -0.14803270995616913, 0.16454507410526276, -1.5903596878051758, -0.23612754046916962, -0.1190737932920456, -0.06489834934473038, -0.04797552898526192, 0.04501348361372948, -0.3370150625705719, -0.07192609459161758, -0.10779186338186264, -0.028722835704684258, -0.24827733635902405, 0.11593383550643921, 0.19950832426548004, 0.06547325104475021, -0.031409118324518204, -0.3067828118801117, 0.053266491740942, 0.06589461863040924, 0.3522004783153534]... [Tensor of shape torch.Size([1, 140])]\n",
      "base_model.linear.bias: tensor([7.9248])\n",
      "\n",
      "%==================================== Model Details ====================================%\n",
      "\n"
     ]
    }
   ],
   "source": [
    "pya.utils.print_model_details(model)"
   ]
  },
  {
   "cell_type": "markdown",
   "id": "986d0262-e0c7-4036-b687-dee53ba392fb",
   "metadata": {},
   "source": [
    "## Basic test"
   ]
  },
  {
   "cell_type": "code",
   "execution_count": 13,
   "id": "936b9877-d076-4ced-99aa-e8d4c58c5caf",
   "metadata": {
    "execution": {
     "iopub.execute_input": "2024-03-05T20:16:54.641688Z",
     "iopub.status.busy": "2024-03-05T20:16:54.641533Z",
     "iopub.status.idle": "2024-03-05T20:16:54.644751Z",
     "shell.execute_reply": "2024-03-05T20:16:54.644511Z"
    }
   },
   "outputs": [
    {
     "data": {
      "text/plain": [
       "tensor([[ 8.6703],\n",
       "        [10.1749],\n",
       "        [ 5.3619],\n",
       "        [ 8.5101],\n",
       "        [ 5.2568],\n",
       "        [ 6.5989],\n",
       "        [ 6.2494],\n",
       "        [10.8052],\n",
       "        [ 8.0483],\n",
       "        [10.3405]], dtype=torch.float64, grad_fn=<AddmmBackward0>)"
      ]
     },
     "execution_count": 13,
     "metadata": {},
     "output_type": "execute_result"
    }
   ],
   "source": [
    "torch.manual_seed(42)\n",
    "input = torch.randn(10, len(model.features), dtype=float)\n",
    "model.eval()\n",
    "model.to(float)\n",
    "pred = model(input)\n",
    "pred"
   ]
  },
  {
   "cell_type": "markdown",
   "id": "fe8299d7-9285-4e22-82fd-b664434b4369",
   "metadata": {},
   "source": [
    "## Save torch model"
   ]
  },
  {
   "cell_type": "code",
   "execution_count": 14,
   "id": "5ef2fa8d-c80b-4fdd-8555-79c0d541788e",
   "metadata": {
    "execution": {
     "iopub.execute_input": "2024-03-05T20:16:54.646217Z",
     "iopub.status.busy": "2024-03-05T20:16:54.646142Z",
     "iopub.status.idle": "2024-03-05T20:16:54.648738Z",
     "shell.execute_reply": "2024-03-05T20:16:54.648503Z"
    }
   },
   "outputs": [],
   "source": [
    "torch.save(model, f\"../weights/{model.metadata['clock_name']}.pt\")"
   ]
  },
  {
   "cell_type": "markdown",
   "id": "bac6257b-8d08-4a90-8d0b-7f745dc11ac1",
   "metadata": {},
   "source": [
    "## Clear directory\n",
    "<a id=\"10\"></a>"
   ]
  },
  {
   "cell_type": "code",
   "execution_count": 15,
   "id": "11aeaa70-44c0-42f9-86d7-740e3849a7a6",
   "metadata": {
    "execution": {
     "iopub.execute_input": "2024-03-05T20:16:54.650224Z",
     "iopub.status.busy": "2024-03-05T20:16:54.650146Z",
     "iopub.status.idle": "2024-03-05T20:16:54.653052Z",
     "shell.execute_reply": "2024-03-05T20:16:54.652811Z"
    }
   },
   "outputs": [
    {
     "name": "stdout",
     "output_type": "stream",
     "text": [
      "Deleted file: coefficients.xlsx\n"
     ]
    }
   ],
   "source": [
    "# Function to remove a folder and all its contents\n",
    "def remove_folder(path):\n",
    "    try:\n",
    "        shutil.rmtree(path)\n",
    "        print(f\"Deleted folder: {path}\")\n",
    "    except Exception as e:\n",
    "        print(f\"Error deleting folder {path}: {e}\")\n",
    "\n",
    "# Get a list of all files and folders in the current directory\n",
    "all_items = os.listdir('.')\n",
    "\n",
    "# Loop through the items\n",
    "for item in all_items:\n",
    "    # Check if it's a file and does not end with .ipynb\n",
    "    if os.path.isfile(item) and not item.endswith('.ipynb'):\n",
    "        os.remove(item)\n",
    "        print(f\"Deleted file: {item}\")\n",
    "    # Check if it's a folder\n",
    "    elif os.path.isdir(item):\n",
    "        remove_folder(item)"
   ]
  }
 ],
 "metadata": {
  "kernelspec": {
   "display_name": "Python 3",
   "language": "python",
   "name": "python3"
  },
  "language_info": {
   "codemirror_mode": {
    "name": "ipython",
    "version": 3
   },
   "file_extension": ".py",
   "mimetype": "text/x-python",
   "name": "python",
   "nbconvert_exporter": "python",
   "pygments_lexer": "ipython3",
   "version": "3.9.17"
  }
 },
 "nbformat": 4,
 "nbformat_minor": 5
}
