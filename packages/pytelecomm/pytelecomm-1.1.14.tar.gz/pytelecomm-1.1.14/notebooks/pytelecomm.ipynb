{
 "cells": [
  {
   "cell_type": "markdown",
   "id": "b40e6c6f-8433-4d04-bf77-86670b20176d",
   "metadata": {},
   "source": [
    "# _PyTeleComm_ Main Notebook\n",
    "\n",
    "Original author: David Banas <capn.freako@gmail.com>  \n",
    "Original date: September 20, 2025\n",
    "\n",
    "Copyright &copy; 2025 David Banas; all rights reserved World wide."
   ]
  },
  {
   "cell_type": "markdown",
   "id": "a9801ddf-b9b2-4f6b-83b3-4293893f335e",
   "metadata": {},
   "source": [
    "## Introduction\n",
    "\n",
    "This [_Jupyter_](https://jupyter.org) notebook is run when a user executes the `pytelecomm` command after having installed the [_PyTeleComm_ Python package]()."
   ]
  },
  {
   "cell_type": "markdown",
   "id": "3e32cb56-047f-460f-af49-abc1ec14d174",
   "metadata": {},
   "source": [
    "### Installation\n",
    "\n",
    "To install the _PyTeleComm_ Python package, follow these steps:\n",
    "\n",
    "1. Create a virtual Python environment to protect your system/OS native Python environment from destabilization:\n",
    "\n",
    "    `python3 -m venv ~/.venv/pytelecomm`\n",
    "\n",
    "2. Activate your new virtual Python environment:\n",
    "\n",
    "    - **Windows:** `. ~/.venv/pytelecomm/Scripts/activate`\n",
    "    - **MacOS** / **Linux:** `. ~/.venv/pytelecomm/bin/activate`\n",
    "\n",
    "3. Install the _PyTeleComm_ package into your new virtual Python environment:\n",
    "\n",
    "    `pip install --upgrade pytelecomm`\n"
   ]
  },
  {
   "cell_type": "markdown",
   "id": "67b21c51-cb27-4f31-845e-0541776a45d5",
   "metadata": {},
   "source": [
    "### Launch This Notebook\n",
    "\n",
    "To launch this notebook: after installing the _PyTeleComm_ Python package and with the appropriate virtual Python environment activated, execute the following command:\n",
    "\n",
    "`pytelecomm`\n"
   ]
  },
  {
   "cell_type": "code",
   "execution_count": null,
   "id": "2f806f38-32ae-4cdb-aadb-a9995711cfdb",
   "metadata": {},
   "outputs": [],
   "source": []
  }
 ],
 "metadata": {
  "kernelspec": {
   "display_name": "Python 3 (ipykernel)",
   "language": "python",
   "name": "python3"
  },
  "language_info": {
   "codemirror_mode": {
    "name": "ipython",
    "version": 3
   },
   "file_extension": ".py",
   "mimetype": "text/x-python",
   "name": "python",
   "nbconvert_exporter": "python",
   "pygments_lexer": "ipython3",
   "version": "3.12.11"
  }
 },
 "nbformat": 4,
 "nbformat_minor": 5
}
