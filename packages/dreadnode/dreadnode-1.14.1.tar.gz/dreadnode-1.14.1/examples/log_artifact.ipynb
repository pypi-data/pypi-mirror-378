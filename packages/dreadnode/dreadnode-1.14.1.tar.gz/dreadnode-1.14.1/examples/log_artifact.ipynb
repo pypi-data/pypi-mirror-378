{
 "cells": [
  {
   "cell_type": "markdown",
   "metadata": {},
   "source": [
    "## Dreadnode Artifact Logging\n",
    "\n",
    "This notebook demonstrates how to log artifacts (files and directories) to your Dreadnode platform projects. Artifacts are preserved with their original structure and can be used to track assets.\n"
   ]
  },
  {
   "cell_type": "code",
   "execution_count": null,
   "metadata": {},
   "outputs": [],
   "source": [
    "import dreadnode as dn\n",
    "\n",
    "dn.configure(\n",
    "    token=\"<YOUR API KEY>\", # Replace with your token\n",
    "    project=\"log-artifact\"\n",
    ")"
   ]
  },
  {
   "cell_type": "markdown",
   "metadata": {},
   "source": [
    "### Logging Entire Directory as an Artifact\n",
    "\n",
    "When you log a directory, Dreadnode SDK will preserve the entire directory structure and all files within it. This could be useful for keeping track of datasets, model checkpoints, or collections of related files in a project.\n"
   ]
  },
  {
   "cell_type": "code",
   "execution_count": null,
   "metadata": {},
   "outputs": [],
   "source": [
    "# Path to the directory we want to log\n",
    "dir_path = \"../../../data\" # Replace with your directory path\n",
    "\n",
    "# Log the directory as an artifact\n",
    "with dn.run() as r:\n",
    "    dn.log_artifact(dir_path)"
   ]
  },
  {
   "cell_type": "markdown",
   "metadata": {},
   "source": [
    "### Logging a Single File as an Artifact\n",
    "\n",
    "For individual files like pkl, image, or standalone models, you can log them directly:\n"
   ]
  },
  {
   "cell_type": "code",
   "execution_count": null,
   "metadata": {},
   "outputs": [],
   "source": [
    "# Path to an individual file\n",
    "file_path = \"../../../data/model.pkl\" # Replace with your file path\n",
    "\n",
    "# Log the file as an artifact\n",
    "with dn.run() as r:\n",
    "    dn.log_artifact(file_path)\n",
    "    "
   ]
  },
  {
   "cell_type": "markdown",
   "metadata": {},
   "source": [
    "### Example of logging multiple artifacts in the same run\n",
    "\n",
    "Dreadnode's artifact logging intelligently handles overlapping directories. This is particularly useful when logging multiple related directories in the same run.\n",
    "\n",
    "Let's consider a file structure like this:\n",
    "\n",
    "```bash\n",
    "data/\n",
    "└── audio/\n",
    "    ├── subaudio/\n",
    "    │   ├── file_example_MP3_2MG.mp3\n",
    "    │   └── file_example_WAV_2MG.wav\n",
    "    ├── subaudio2/\n",
    "    │   └── file_example_OOG_2MG.ogg\n",
    "    └── copied/\n",
    "        ├── subaudio/\n",
    "        │   ├── file_example_MP3_2MG.mp3\n",
    "        │   └── file_example_WAV_2MG.wav\n",
    "        └── subaudio2/\n",
    "            └── file_example_OOG_2MG.ogg\n",
    "```\n",
    "\n",
    "When logging these directories, Dreadnode intelligently merges and deduplicates:\n"
   ]
  },
  {
   "cell_type": "code",
   "execution_count": null,
   "metadata": {},
   "outputs": [],
   "source": [
    "import json\n",
    "\n",
    "# Define our paths\n",
    "file_path_subaudio2 = \"../../../data/audio/subaudio2\"\n",
    "file_path_subaudio = \"../../../data/audio/subaudio\"\n",
    "file_path_audio = \"../../../data/audio\"\n",
    "file_path_copied = \"../../../data/audio/copied\"\n",
    "\n",
    "# Log in different orders to see the intelligent merging\n",
    "with dn.run(\"Smart Directory Merging\") as r:\n",
    "    # First log sub-directories, then parent directory\n",
    "    artifact1 = dn.log_artifact(file_path_subaudio2)\n",
    "    artifact2 = dn.log_artifact(file_path_subaudio)\n",
    "    artifact3 = dn.log_artifact(file_path_audio)    # Will merge previous two artifacts\n",
    "    artifact4 = dn.log_artifact(file_path_copied)   # Will be merged as a subdirectory\n",
    "    \n",
    "    # Get the final artifact trees\n",
    "    print(f\"Number of root artifacts: {len(r._artifacts)}\")\n",
    "    \n",
    "    # Print first level of directories\n",
    "    for artifact in r._artifacts:\n",
    "        children = [child[\"dir_path\"].split(\"/\")[-1] if child[\"type\"] == \"dir\" \n",
    "                  else child[\"final_real_path\"].split(\"/\")[-1] \n",
    "                  for child in artifact[\"children\"]]\n",
    "        print(f\"Root directory: {artifact['dir_path']}\")\n",
    "        print(f\"Children: {', '.join(children)}\")"
   ]
  },
  {
   "cell_type": "markdown",
   "metadata": {},
   "source": [
    "### Examining the Order-Dependent Scenario\n",
    "\n",
    "Let's look more closely at our example of logging subdirectories before parent directories:\n"
   ]
  },
  {
   "cell_type": "code",
   "execution_count": null,
   "metadata": {},
   "outputs": [],
   "source": [
    "# Example 3: Mixed independent directories\n",
    "with dn.run(\"Mixed Directories\") as r:\n",
    "    dn.log_artifact(file_path_subaudio)  # Independent subdirectory\n",
    "    dn.log_artifact(file_path_copied)    # Independent different subdirectory\n",
    "    \n",
    "    # Result: Two separate trees, no merging\n",
    "    "
   ]
  }
 ],
 "metadata": {
  "kernelspec": {
   "display_name": ".venv",
   "language": "python",
   "name": "python3"
  },
  "language_info": {
   "codemirror_mode": {
    "name": "ipython",
    "version": 3
   },
   "file_extension": ".py",
   "mimetype": "text/x-python",
   "name": "python",
   "nbconvert_exporter": "python",
   "pygments_lexer": "ipython3",
   "version": "3.12.7"
  }
 },
 "nbformat": 4,
 "nbformat_minor": 2
}
