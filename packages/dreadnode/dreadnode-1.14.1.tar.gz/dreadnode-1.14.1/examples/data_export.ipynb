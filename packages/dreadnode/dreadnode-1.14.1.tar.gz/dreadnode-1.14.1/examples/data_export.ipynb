{
 "cells": [
  {
   "cell_type": "markdown",
   "metadata": {},
   "source": [
    "## Data Export\n",
    "\n",
    "It's easy to export historical run data from Dreadnode. You can collect Run objects, full traces of run execution, and export dataframes of run data from a project.\n"
   ]
  },
  {
   "cell_type": "code",
   "execution_count": null,
   "metadata": {},
   "outputs": [],
   "source": [
    "import dreadnode as dn\n",
    "\n",
    "dn.configure(\n",
    "    token=\"<YOUR API KEY>\", # Replace with your token\n",
    ")\n",
    "\n",
    "PROJECT = \"<YOUR PROJECT>\" # Replace with your project name"
   ]
  },
  {
   "cell_type": "markdown",
   "metadata": {},
   "source": [
    "### Collect Run Data\n"
   ]
  },
  {
   "cell_type": "code",
   "execution_count": null,
   "metadata": {},
   "outputs": [],
   "source": [
    "runs = dn.api().list_runs(PROJECT)\n",
    "\n",
    "for run in runs:\n",
    "    print(run.name, run.status, run.start_time, run.end_time)"
   ]
  },
  {
   "cell_type": "code",
   "execution_count": null,
   "metadata": {},
   "outputs": [],
   "source": [
    "# Get the tasks for the first run\n",
    "\n",
    "tasks = dn.api().get_run_tasks(runs[0].id)\n",
    "\n",
    "for task in sorted(tasks, key=lambda x: x.timestamp):\n",
    "    print(task.name, task.status, task.duration)"
   ]
  },
  {
   "cell_type": "code",
   "execution_count": null,
   "metadata": {},
   "outputs": [],
   "source": [
    "# Get the full trace for the first run\n",
    "\n",
    "trace = dn.api().get_run_trace(runs[0].id)\n",
    "\n",
    "for span in sorted(trace, key=lambda x: x.timestamp):\n",
    "    print(span.name, span.status, span.duration)"
   ]
  },
  {
   "cell_type": "markdown",
   "metadata": {},
   "source": [
    "### Export Analysis Dataframes\n"
   ]
  },
  {
   "cell_type": "code",
   "execution_count": null,
   "metadata": {},
   "outputs": [],
   "source": [
    "runs_df = dn.api().export_runs(PROJECT, status=\"all\")\n",
    "runs_df.info()"
   ]
  },
  {
   "cell_type": "code",
   "execution_count": null,
   "metadata": {},
   "outputs": [],
   "source": [
    "metrics_df = dn.api().export_metrics(PROJECT, status=\"all\")\n",
    "metrics_df.info()"
   ]
  },
  {
   "cell_type": "code",
   "execution_count": null,
   "metadata": {},
   "outputs": [],
   "source": [
    "params_df = dn.api().export_parameters(PROJECT, status=\"all\")\n",
    "params_df.info()"
   ]
  }
 ],
 "metadata": {
  "kernelspec": {
   "display_name": ".venv",
   "language": "python",
   "name": "python3"
  },
  "language_info": {
   "codemirror_mode": {
    "name": "ipython",
    "version": 3
   },
   "file_extension": ".py",
   "mimetype": "text/x-python",
   "name": "python",
   "nbconvert_exporter": "python",
   "pygments_lexer": "ipython3",
   "version": "3.10.14"
  }
 },
 "nbformat": 4,
 "nbformat_minor": 2
}
