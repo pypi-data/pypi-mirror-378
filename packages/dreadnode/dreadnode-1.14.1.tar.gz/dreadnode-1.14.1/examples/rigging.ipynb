{
 "cells": [
  {
   "cell_type": "markdown",
   "metadata": {},
   "source": [
    "## Rigging Example\n",
    "\n",
    "It's easy to add `dreadnode` to existing `rigging` code and track prompts, tool calls, and outputs.\n"
   ]
  },
  {
   "cell_type": "code",
   "execution_count": null,
   "metadata": {},
   "outputs": [],
   "source": [
    "import dreadnode as dn\n",
    "\n",
    "dn.configure(\n",
    "    token=\"<YOUR API KEY>\", # Replace with your token\n",
    "    project=\"log-artifact\"\n",
    ")"
   ]
  },
  {
   "cell_type": "code",
   "execution_count": null,
   "metadata": {},
   "outputs": [],
   "source": [
    "from typing import Annotated\n",
    "\n",
    "import rigging as rg\n",
    "\n",
    "MODEL_A = \"gpt-4o\"\n",
    "MODEL_B = \"gpt-4o-mini\"\n",
    "\n",
    "\n",
    "Joke = Annotated[str, rg.Ctx(\"joke\")]\n",
    "\n",
    "async def count_jokes(jokes: list[Joke]) -> float:\n",
    "    return len(jokes)\n",
    "\n",
    "\n",
    "@dn.task(scorers=[count_jokes], log_params={\"count\"}, log_inputs={\"topic\"})\n",
    "@rg.prompt(generator_id=MODEL_B)\n",
    "async def generate_jokes(count: int, topic: str) -> list[Joke]:\n",
    "    \"Write {{count}} short hilarious jokes about {{topic}}.\"\n",
    "\n",
    "\n",
    "@dn.task(log_inputs=True)\n",
    "@rg.prompt(generator_id=MODEL_A, tools=[generate_jokes])\n",
    "async def write_joke(topic: str) -> rg.Chat:\n",
    "    \"\"\"\n",
    "    Generate some jokes, then choose the best.\n",
    "    You must return just a single joke.\n",
    "    \"\"\"\n",
    "\n",
    "\n",
    "with dn.run():\n",
    "    dn.log_params(\n",
    "        modela=MODEL_A,\n",
    "        modelb=MODEL_B,\n",
    "        prompt_variant=\"write_joke\"\n",
    "    )\n",
    "    \n",
    "    joke = await write_joke(\"cats\")\n",
    "\n",
    "print(joke)"
   ]
  }
 ],
 "metadata": {
  "kernelspec": {
   "display_name": ".venv",
   "language": "python",
   "name": "python3"
  },
  "language_info": {
   "codemirror_mode": {
    "name": "ipython",
    "version": 3
   },
   "file_extension": ".py",
   "mimetype": "text/x-python",
   "name": "python",
   "nbconvert_exporter": "python",
   "pygments_lexer": "ipython3",
   "version": "3.10.14"
  }
 },
 "nbformat": 4,
 "nbformat_minor": 2
}
