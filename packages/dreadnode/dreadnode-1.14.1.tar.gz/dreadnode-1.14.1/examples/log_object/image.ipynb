{
 "cells": [
  {
   "cell_type": "markdown",
   "metadata": {},
   "source": [
    "# Dreadnode Image Logging\n",
    "\n",
    "This notebook demonstrates how to log images using Dreadnode's `Image` data type. The examples cover various image formats and sources including file paths, PIL images, numpy arrays, and base64 encoded strings.\n",
    "\n",
    "## Features\n",
    "\n",
    "- Log images from file paths (JPG, PNG, etc.)\n",
    "- Convert and log PIL Image objects\n",
    "- Transform numpy arrays into images\n",
    "- Handle raw bytes and base64 encoded images\n",
    "- Convert between image modes (RGB, RGBA, grayscale)\n",
    "\n",
    "⚠️ Note: Ensure you have installed the multimodal extras to use the Video data type:\n",
    "`pip install dreadnode[multimodal]`"
   ]
  },
  {
   "cell_type": "code",
   "execution_count": null,
   "metadata": {},
   "outputs": [],
   "source": [
    "import dreadnode as dn\n",
    "\n",
    "dn.configure(\n",
    "    server=\"Your Dreadnode API\", # Replace with your server address\n",
    "    token=\"Your Dreadnode API Key\", # Replace with your token\n",
    "    project=\"image-examples\"\n",
    ")"
   ]
  },
  {
   "cell_type": "markdown",
   "metadata": {},
   "source": [
    "## 1. File Path Examples\n",
    "\n",
    "Let's first look at logging images directly from file paths. We'll create a temporary image file to use in our examples."
   ]
  },
  {
   "cell_type": "code",
   "execution_count": null,
   "metadata": {},
   "outputs": [],
   "source": [
    "from dreadnode import Image\n",
    "from PIL import Image as PILImage\n",
    "import numpy as np\n",
    "import tempfile\n",
    "import os\n",
    "\n",
    "temp_file = tempfile.NamedTemporaryFile(suffix=\".png\", delete=False)\n",
    "temp_file.close()\n",
    "image_file_path = temp_file.name\n",
    "\n",
    "# Generate a simple gradient test image\n",
    "width, height = 300, 200\n",
    "img_array = np.zeros((height, width, 3), dtype=np.uint8)\n",
    "for x in range(width):\n",
    "    for y in range(height):\n",
    "        r = int(255 * x / width)\n",
    "        g = int(255 * y / height)\n",
    "        b = int(255 * (x + y) / (width + height))\n",
    "        img_array[y, x] = [r, g, b]\n",
    "        \n",
    "# Save the generated image\n",
    "test_img = PILImage.fromarray(img_array)\n",
    "test_img.save(image_file_path)\n",
    "\n",
    "print(f\"Created test image at: {image_file_path}\")\n",
    "\n",
    "with dn.run(\"file_path_example\") as r:\n",
    "    # Basic file path logging\n",
    "    dn.log_input(\"image_file\", Image(image_file_path, caption=\"RGB Gradient Example\"))\n",
    "    \n",
    "    # Load and convert to grayscale\n",
    "    dn.log_input(\"grayscale_image\", Image(image_file_path, mode=\"L\", caption=\"Grayscale Conversion\"))\n",
    "    \n",
    "    # Explicit format override\n",
    "    dn.log_input(\"format_override\", Image(image_file_path, format=\"jpg\", caption=\"Format override to JPG\"))"
   ]
  },
  {
   "cell_type": "markdown",
   "metadata": {},
   "source": [
    "## 2. PIL Image Objects\n",
    "\n",
    "Dreadnode can directly log PIL Image objects, which allows you to perform image processing before logging."
   ]
  },
  {
   "cell_type": "code",
   "execution_count": null,
   "metadata": {},
   "outputs": [],
   "source": [
    "with dn.run(\"pil_image_example\") as r:\n",
    "    \n",
    "    pil_img = PILImage.open(image_file_path)\n",
    "    \n",
    "    # Log the original PIL image\n",
    "    dn.log_input(\"original_pil\", Image(pil_img, caption=\"Original PIL Image\"))\n",
    "    \n",
    "    # Convert to grayscale\n",
    "    grayscale = pil_img.convert(\"L\")\n",
    "    dn.log_input(\"pil_grayscale\", Image(grayscale, caption=\"Grayscale PIL Image\"))\n",
    "    \n",
    "    # Apply rotation\n",
    "    rotated = pil_img.rotate(45, expand=True)\n",
    "    dn.log_input(\"pil_rotated\", Image(rotated, caption=\"Rotated 45 degrees\"))\n",
    "    \n",
    "    # Resize\n",
    "    resized = pil_img.resize((150, 100))\n",
    "    dn.log_input(\"pil_resized\", Image(resized, caption=\"Resized to 150×100\"))\n",
    "    \n",
    "    # Convert to RGBA (with transparency)\n",
    "    rgba = pil_img.convert(\"RGBA\")\n",
    "    # Add transparency to the top half\n",
    "    data = np.array(rgba)\n",
    "    data[:data.shape[0]//2, :, 3] = 128  # 50% transparency to top half\n",
    "    rgba_modified = PILImage.fromarray(data)\n",
    "    dn.log_input(\"pil_rgba\", Image(rgba_modified, format=\"png\", caption=\"RGBA with transparency\"))"
   ]
  },
  {
   "cell_type": "markdown",
   "metadata": {},
   "source": [
    "## 3. Numpy Arrays\n",
    "\n",
    "Numpy arrays are commonly used for image representation in machine learning. Dreadnode can log numpy arrays as images in various formats."
   ]
  },
  {
   "cell_type": "code",
   "execution_count": null,
   "metadata": {},
   "outputs": [],
   "source": [
    "with dn.run(\"image_numpy_test\") as r:\n",
    "    \n",
    "    # 3.1 RGB Array (channels last - HWC format)\n",
    "    rgb_array = np.random.randint(0, 255, (200, 200, 3), dtype=np.uint8)\n",
    "    dn.log_input(\"numpy_rgb\", Image(rgb_array, caption=\"Random RGB Array (200×200×3)\"))\n",
    "    \n",
    "    # 3.2 Grayscale Array (2D)\n",
    "    gray_array = np.random.randint(0, 255, (200, 200), dtype=np.uint8)\n",
    "    dn.log_input(\"numpy_gray\", Image(gray_array, caption=\"Random Grayscale Array (200×200)\"))\n",
    "    \n",
    "    # 3.3 RGBA Array with transparency\n",
    "    rgba_array = np.zeros((200, 200, 4), dtype=np.uint8)\n",
    "    # Create a red square with 50% transparency\n",
    "    rgba_array[50:150, 50:150, 0] = 255  # Red channel\n",
    "    rgba_array[50:150, 50:150, 3] = 128  # Alpha channel (50%)\n",
    "    dn.log_input(\"numpy_rgba\", Image(rgba_array, format=\"png\", caption=\"RGBA with transparent red square\"))\n",
    "    \n",
    "    # 3.4 Float array [0-1] range\n",
    "    float_array = np.zeros((200, 200, 3), dtype=np.float32)\n",
    "    # Make a color gradient\n",
    "    for i in range(200):\n",
    "        float_array[:, i, 0] = i / 200.0  # Red increases from left to right\n",
    "        float_array[i, :, 1] = i / 200.0  # Green increases from top to bottom\n",
    "    dn.log_input(\"numpy_float\", Image(float_array, caption=\"Float gradient (0-1 range)\"))\n",
    "    \n",
    "    # 3.5 Channels first format (PyTorch style - CHW)\n",
    "    chw_array = np.random.randint(0, 255, (3, 200, 200), dtype=np.uint8)\n",
    "    dn.log_input(\"numpy_chw\", Image(chw_array, caption=\"Channels-first array (3×200×200)\"))"
   ]
  },
  {
   "cell_type": "markdown",
   "metadata": {},
   "source": [
    "## 4. Raw Bytes and Binary Data\n",
    "\n",
    "Images can also be logged from raw bytes, which is useful when working with image data from APIs or databases."
   ]
  },
  {
   "cell_type": "code",
   "execution_count": null,
   "metadata": {},
   "outputs": [],
   "source": [
    "import io\n",
    "\n",
    "with dn.run(\"bytes_test\") as r:\n",
    "    # Create a simple test image to use for our examples\n",
    "    pil_img = PILImage.new(\"RGB\", (100, 100), color=\"red\")\n",
    "    \n",
    "    # 4.1 Basic PNG bytes\n",
    "    buffer = io.BytesIO()\n",
    "    pil_img.save(buffer, format=\"PNG\")\n",
    "    png_bytes = buffer.getvalue()\n",
    "    dn.log_input(\"bytes_png\", Image(png_bytes, format=\"png\", caption=\"PNG bytes (red square)\"))\n",
    "    \n",
    "    # 4.2 JPEG bytes\n",
    "    buffer = io.BytesIO()\n",
    "    pil_img.save(buffer, format=\"JPEG\", quality=90)\n",
    "    jpeg_bytes = buffer.getvalue()\n",
    "    dn.log_input(\"bytes_jpeg\", Image(jpeg_bytes, format=\"jpeg\", caption=\"JPEG bytes (red square)\"))\n",
    "    \n",
    "    # 4.3 Bytes with mode conversion\n",
    "    dn.log_input(\"bytes_grayscale\", Image(png_bytes, format=\"png\", mode=\"L\", caption=\"PNG bytes converted to grayscale\"))"
   ]
  },
  {
   "cell_type": "markdown",
   "metadata": {},
   "source": [
    "## 5. Base64 Encoded Images\n",
    "\n",
    "Base64 encoded images are common in web applications and APIs. Dreadnode supports Data URLs and raw base64 strings."
   ]
  },
  {
   "cell_type": "code",
   "execution_count": null,
   "metadata": {},
   "outputs": [],
   "source": [
    "import base64\n",
    "\n",
    "with dn.run(\"base64_test\") as r:\n",
    "    pil_img = PILImage.new(\"RGB\", (100, 100), color=\"blue\")\n",
    "    \n",
    "    # Save as PNG\n",
    "    buffer = io.BytesIO()\n",
    "    pil_img.save(buffer, format=\"PNG\")\n",
    "    png_bytes = buffer.getvalue()\n",
    "    \n",
    "    # Create base64 string with data URL\n",
    "    png_base64 = base64.b64encode(png_bytes).decode('utf-8')\n",
    "    png_data_url = f\"data:image/png;base64,{png_base64}\"\n",
    "    \n",
    "    # 5.1 Log with data URL format\n",
    "    dn.log_input(\"base64_dataurl\", Image(png_data_url, caption=\"Data URL format (blue square)\"))\n",
    "    \n",
    "    # 5.2 Log with grayscale conversion\n",
    "    dn.log_input(\"base64_grayscale\", Image(png_data_url, mode=\"L\", caption=\"Data URL converted to grayscale\"))"
   ]
  },
  {
   "cell_type": "markdown",
   "metadata": {},
   "source": [
    "## Summary\n",
    "\n",
    "In this notebook, we've demonstrated how to log images in Dreadnode from various sources:\n",
    "\n",
    "1. File paths (e.g., JPG, PNG files)\n",
    "2. PIL Image objects\n",
    "3. Numpy arrays in different formats\n",
    "4. Raw bytes and binary data\n",
    "5. Base64 encoded strings\n",
    "\n",
    "We've also shown how to apply transformations like format conversion, grayscale conversion, and resizing before logging.\n"
   ]
  }
 ],
 "metadata": {
  "kernelspec": {
   "display_name": "Python 3",
   "language": "python",
   "name": "python3"
  },
  "language_info": {
   "codemirror_mode": {
    "name": "ipython",
    "version": 3
   },
   "file_extension": ".py",
   "mimetype": "text/x-python",
   "name": "python",
   "nbconvert_exporter": "python",
   "pygments_lexer": "ipython3",
   "version": "3.12.7"
  }
 },
 "nbformat": 4,
 "nbformat_minor": 2
}
