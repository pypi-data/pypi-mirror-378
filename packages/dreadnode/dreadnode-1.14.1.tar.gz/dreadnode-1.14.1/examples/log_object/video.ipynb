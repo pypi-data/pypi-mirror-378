{
 "cells": [
  {
   "cell_type": "markdown",
   "metadata": {},
   "source": [
    "# Dreadnode Video Logging\n",
    "\n",
    "This notebook demonstrates how to log video data using Dreadnode's `Video` data type. The examples cover various video sources including file paths, numpy arrays for frame sequences, and MoviePy video clips.\n",
    "\n",
    "## Features\n",
    "\n",
    "- Log videos from file paths (MP4, MOV, etc.)\n",
    "- Create and log videos from sequences of numpy array frames\n",
    "- Log MoviePy video clip objects\n",
    "- Control video properties like frame rate, dimensions and format\n",
    "\n",
    "⚠️ Note: Ensure you have installed the multimodal extras to use the Video data type:\n",
    "`pip install dreadnode[multimodal]`"
   ]
  },
  {
   "cell_type": "code",
   "execution_count": null,
   "metadata": {},
   "outputs": [],
   "source": [
    "import dreadnode as dn\n",
    "\n",
    "dn.configure(\n",
    "    server=\"Your Dreadnode API\", # Replace with your server address\n",
    "    token=\"Your Dreadnode API Key\", # Replace with your token\n",
    "    project=\"video-examples\"\n",
    ")"
   ]
  },
  {
   "cell_type": "markdown",
   "metadata": {},
   "source": [
    "## 1. File Path Examples\n",
    "\n",
    "The simplest way to log video is directly from file paths. Dreadnode supports common video formats like MP4, MOV, and others."
   ]
  },
  {
   "cell_type": "code",
   "execution_count": null,
   "metadata": {},
   "outputs": [],
   "source": [
    "import numpy as np\n",
    "from PIL import Image, ImageDraw\n",
    "import tempfile\n",
    "import imageio\n",
    "\n",
    "def create_sample_mov(duration=3, fps=30, width=320, height=240):\n",
    "    \"\"\"Creates a simple 3-second .mov test video with a moving rectangle.\"\"\"\n",
    "    \n",
    "    frames = []\n",
    "    total_frames = int(duration * fps)\n",
    "    \n",
    "    for i in range(total_frames):\n",
    "        img = Image.new('RGB', (width, height), color=(0, 0, 0))\n",
    "        draw = ImageDraw.Draw(img)\n",
    "        \n",
    "        x_pos = int((i / total_frames) * (width - 60))\n",
    "        y_pos = int((i / total_frames) * (height - 60))\n",
    "        r = int(255 * (1 - i / total_frames))\n",
    "        b = int(255 * (i / total_frames))\n",
    "        \n",
    "        draw.rectangle([x_pos, y_pos, x_pos + 60, y_pos + 60], fill=(r, 100, b))\n",
    "        draw.text((10, 10), f\"Frame {i}\", fill=(255, 255, 255))\n",
    "        \n",
    "        frames.append(np.array(img))\n",
    "    \n",
    "    temp_file = tempfile.NamedTemporaryFile(suffix='.mov', delete=False)\n",
    "    temp_file.close()\n",
    "    \n",
    "    imageio.mimwrite(temp_file.name, frames, fps=fps, codec='libx264', \n",
    "                    quality=7, pixelformat='yuv420p')\n",
    "    \n",
    "    return temp_file.name\n",
    "\n",
    "\n",
    "video_file_path = create_sample_mov()\n",
    "print(f\"Sample MOV created at: {video_file_path}\")"
   ]
  },
  {
   "cell_type": "code",
   "execution_count": null,
   "metadata": {},
   "outputs": [],
   "source": [
    "import dreadnode as dn\n",
    "from dreadnode import Video\n",
    "\n",
    "with dn.run(\"video_file_examples\") as r:\n",
    "    dn.log_input(\"video_file\", Video(\n",
    "        video_file_path,\n",
    "        caption=\"Basic video file example\"\n",
    "    ))\n",
    "    \n",
    "    dn.log_input(\"format_override\", Video(\n",
    "        video_file_path,\n",
    "        format=\"mp4\",\n",
    "        caption=\"MOV file with MP4 format override\"\n",
    "    ))\n",
    "    \n",
    "    dn.log_input(\"dimension_override\", Video(\n",
    "        video_file_path,\n",
    "        width=1280,\n",
    "        height=720,\n",
    "        caption=\"Video with dimension specifications\"\n",
    "    ))"
   ]
  },
  {
   "cell_type": "markdown",
   "metadata": {},
   "source": [
    "## 2. Numpy Array Frames\n",
    "\n",
    "You can create videos from numpy arrays representing individual frames. This is useful for visualizing generated content, simulations, or processing results."
   ]
  },
  {
   "cell_type": "code",
   "execution_count": null,
   "metadata": {},
   "outputs": [],
   "source": [
    "import numpy as np\n",
    "\n",
    "with dn.run(\"video_numpy_examples\") as r:\n",
    "    frame = np.ones((120, 160, 3), dtype=np.uint8) * 200  # Gray background\n",
    "    \n",
    "    frame[40:80, 60:100] = [255, 0, 0]  # Red rectangle\n",
    "    \n",
    "    static_frames = [frame.copy() for _ in range(3)]\n",
    "    \n",
    "    dn.log_input(\"static_video\", Video(\n",
    "        static_frames,\n",
    "        fps=5,  # 5 frames per second\n",
    "        format=\"mp4\",\n",
    "        caption=\"Static video with 3 identical frames\"\n",
    "    ))"
   ]
  },
  {
   "cell_type": "markdown",
   "metadata": {},
   "source": [
    "## 3. MoviePy Video Clips\n",
    "\n",
    "MoviePy is a popular library for video editing in Python. Dreadnode supports logging VideoClip objects directly."
   ]
  },
  {
   "cell_type": "code",
   "execution_count": null,
   "metadata": {},
   "outputs": [],
   "source": [
    "from moviepy.video.io.VideoFileClip import VideoFileClip\n",
    "\n",
    "with dn.run(\"video_moviepy_examples\") as r:\n",
    "    video_clip = VideoFileClip(video_file_path)\n",
    "    \n",
    "    dn.log_input(\"moviepy_full\", Video(\n",
    "        video_clip,\n",
    "        caption=\"Full video loaded with MoviePy\"\n",
    "    ))\n",
    "    \n",
    "    try:\n",
    "        if hasattr(video_clip, 'subclip'):\n",
    "            first_5_seconds = video_clip.subclip(0, 5)\n",
    "            dn.log_input(\"moviepy_clip\", Video(\n",
    "                first_5_seconds,\n",
    "                caption=\"First 5 seconds of video\"\n",
    "            ))\n",
    "    except Exception as e:\n",
    "        print(f\"Subclip not supported in this MoviePy version: {e}\")\n",
    "    \n",
    "    # Clean up resources\n",
    "    video_clip.close()"
   ]
  },
  {
   "cell_type": "markdown",
   "metadata": {},
   "source": [
    "## Clean it up"
   ]
  },
  {
   "cell_type": "code",
   "execution_count": null,
   "metadata": {},
   "outputs": [],
   "source": [
    "import os\n",
    "os.unlink(video_file_path)"
   ]
  },
  {
   "cell_type": "markdown",
   "metadata": {},
   "source": [
    "## Summary\n",
    "\n",
    "This notebook demonstrated how to log videos in Dreadnode from various sources:\n",
    "\n",
    "1. Direct file paths (MP4, MOV, etc.)\n",
    "2. Numpy arrays representing frame sequences\n",
    "3. MoviePy VideoClip objects\n"
   ]
  }
 ],
 "metadata": {
  "kernelspec": {
   "display_name": "dreadnode-py3.12",
   "language": "python",
   "name": "python3"
  },
  "language_info": {
   "codemirror_mode": {
    "name": "ipython",
    "version": 3
   },
   "file_extension": ".py",
   "mimetype": "text/x-python",
   "name": "python",
   "nbconvert_exporter": "python",
   "pygments_lexer": "ipython3",
   "version": "3.12.7"
  }
 },
 "nbformat": 4,
 "nbformat_minor": 2
}
