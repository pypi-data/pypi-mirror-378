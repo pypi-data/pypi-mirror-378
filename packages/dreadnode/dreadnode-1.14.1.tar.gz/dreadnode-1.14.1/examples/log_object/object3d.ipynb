{
 "cells": [
  {
   "cell_type": "markdown",
   "metadata": {},
   "source": [
    "# Dreadnode 3D Object Logging\n",
    "\n",
    "This notebook demonstrates how to log 3D object data using Dreadnode's `Object3D` data type."
   ]
  },
  {
   "cell_type": "code",
   "execution_count": null,
   "metadata": {},
   "outputs": [],
   "source": [
    "import dreadnode as dn\n",
    "\n",
    "dn.configure(\n",
    "    server=\"Your Dreadnode API\", # Replace with your server address\n",
    "    token=\"Your Dreadnode API Key\", # Replace with your token\n",
    "    project=\"object3d-examples\"\n",
    ")"
   ]
  },
  {
   "cell_type": "code",
   "execution_count": null,
   "metadata": {},
   "outputs": [],
   "source": [
    "import dreadnode as dn\n",
    "from dreadnode.data_types import Object3D\n",
    "import numpy as np\n",
    "import tempfile\n",
    "import os\n",
    "import struct\n",
    "\n",
    "\n",
    "def create_sample_glb():\n",
    "    temp_glb = tempfile.NamedTemporaryFile(suffix=\".glb\", delete=False)\n",
    "    temp_glb.close()\n",
    "    glb_path = temp_glb.name\n",
    "    magic = b'glTF'\n",
    "    version = struct.pack('<I', 2)\n",
    "    \n",
    "    json_data = b'{\"asset\":{\"version\":\"2.0\"}}'\n",
    "    json_length = struct.pack('<I', len(json_data))\n",
    "    json_type = b'JSON'\n",
    "    \n",
    "    total_length = struct.pack('<I', 12 + 8 + len(json_data))\n",
    "    \n",
    "    with open(glb_path, 'wb') as f:\n",
    "        f.write(magic)\n",
    "        f.write(version)\n",
    "        f.write(total_length)\n",
    "        \n",
    "        f.write(json_length)\n",
    "        f.write(json_type)\n",
    "        \n",
    "        f.write(json_data)\n",
    "    \n",
    "    return glb_path\n",
    "\n",
    "model_path = create_sample_glb()\n",
    "\n",
    "with dn.run(\"object3d_test\") as r:\n",
    "    # Log from file path\n",
    "    dn.log_input(\"file_model\", Object3D(\n",
    "        model_path,\n",
    "        caption=\"3D Model from generated file\"\n",
    "    ))\n",
    "    \n",
    "    # Also test with raw bytes\n",
    "    model_bytes = open(model_path, 'rb').read()\n",
    "    dn.log_input(\"bytes_model\", Object3D(\n",
    "        model_bytes,\n",
    "        format=\"glb\",\n",
    "        caption=\"3D Model from raw bytes\"\n",
    "    ))\n",
    "\n",
    "\n",
    "os.unlink(model_path)"
   ]
  }
 ],
 "metadata": {
  "kernelspec": {
   "display_name": ".venv",
   "language": "python",
   "name": "python3"
  },
  "language_info": {
   "codemirror_mode": {
    "name": "ipython",
    "version": 3
   },
   "file_extension": ".py",
   "mimetype": "text/x-python",
   "name": "python",
   "nbconvert_exporter": "python",
   "pygments_lexer": "ipython3",
   "version": "3.12.7"
  }
 },
 "nbformat": 4,
 "nbformat_minor": 2
}
