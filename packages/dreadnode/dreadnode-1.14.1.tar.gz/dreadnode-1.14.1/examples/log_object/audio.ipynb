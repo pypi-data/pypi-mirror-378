{
 "cells": [
  {
   "cell_type": "markdown",
   "metadata": {},
   "source": [
    "# Dreadnode Audio Logging\n",
    "\n",
    "This notebook demonstrates how to log audio data using Dreadnode's `Audio` data type. The examples cover various audio formats and sources including file paths, and numpy arrays.\n",
    "\n",
    "## Features\n",
    "\n",
    "- Log audio files directly from disk (WAV, MP3, etc.)\n",
    "- Convert and log numpy arrays as audio\n",
    "- Add captions and metadata to audio logs\n",
    "\n",
    "⚠️ Note: Ensure you have installed the multimodal extras to use the Audio data type:\n",
    "`pip install dreadnode[multimodal]`"
   ]
  },
  {
   "cell_type": "code",
   "execution_count": null,
   "metadata": {},
   "outputs": [],
   "source": [
    "import dreadnode as dn\n",
    "\n",
    "dn.configure(\n",
    "    server=\"Your Dreadnode API\", # Replace with your server address\n",
    "    token=\"Your Dreadnode API Key\", # Replace with your token\n",
    "    project=\"audio-examples\"\n",
    ")"
   ]
  },
  {
   "cell_type": "markdown",
   "metadata": {},
   "source": [
    "## 1. File Path Examples\n",
    "\n",
    "The simplest way to log audio is directly from file paths. Dreadnode supports common audio formats like WAV, MP3, OGG, and more."
   ]
  },
  {
   "cell_type": "code",
   "execution_count": null,
   "metadata": {},
   "outputs": [],
   "source": [
    "import dreadnode as dn\n",
    "import numpy as np\n",
    "from dreadnode import Audio\n",
    "import tempfile\n",
    "import os\n",
    "import soundfile as sf\n",
    "\n",
    "# Create a test audio file - a simple sine wave\n",
    "sample_rate = 44100\n",
    "duration = 2.0     \n",
    "frequency = 440\n",
    "\n",
    "# Generate the sine wave\n",
    "t = np.linspace(0, duration, int(sample_rate * duration), endpoint=False)\n",
    "sine_wave = np.sin(2 * np.pi * frequency * t) * 0.5\n",
    "\n",
    "# Create a temporary WAV file\n",
    "temp_wav = tempfile.NamedTemporaryFile(suffix=\".wav\", delete=False)\n",
    "temp_wav.close()\n",
    "audio_file_path = temp_wav.name\n",
    "\n",
    "sf.write(audio_file_path, sine_wave, sample_rate)\n",
    "print(f\"Created test audio file at: {audio_file_path}\")\n",
    "\n",
    "# Log examples from file paths\n",
    "with dn.run(\"audio_file_examples\") as r:\n",
    "    # Basic file logging\n",
    "    dn.log_input(\"audio_file\", Audio(audio_file_path, caption=\"440 Hz sine wave - WAV format\"))\n",
    "    \n",
    "    # With explicit format override\n",
    "    dn.log_input(\"format_override\", Audio(audio_file_path, format=\"wav\", caption=\"With explicit format\"))"
   ]
  },
  {
   "cell_type": "markdown",
   "metadata": {},
   "source": [
    "## 2. Numpy Array Examples\n",
    "\n",
    "Numpy arrays are commonly used for audio processing in Python. When logging numpy arrays, a sample rate must be provided."
   ]
  },
  {
   "cell_type": "code",
   "execution_count": null,
   "metadata": {},
   "outputs": [],
   "source": [
    "with dn.run(\"audio_numpy_examples\") as r:\n",
    "    sample_rate = 44100\n",
    "    \n",
    "    # Single frequency (A4 - 440 Hz) for 3 seconds\n",
    "    duration = 3.0\n",
    "    t = np.linspace(0, duration, int(sample_rate * duration), endpoint=False)\n",
    "    sine_440hz = np.sin(2 * np.pi * 440 * t) * 0.5\n",
    "    dn.log_input(\"sine_wave_440hz\", Audio(sine_440hz, sample_rate=sample_rate, caption=\"A4 note (440 Hz)\"))\n",
    "    \n",
    "    # Frequency sweep (100 Hz to 10000 Hz)\n",
    "    duration = 5.0\n",
    "    t = np.linspace(0, duration, int(sample_rate * duration), endpoint=False)\n",
    "    frequency = np.logspace(np.log10(100), np.log10(10000), len(t))\n",
    "    sweep = np.sin(2 * np.pi * frequency * t / sample_rate * frequency) * 0.5\n",
    "    dn.log_input(\"freq_sweep\", Audio(sweep, sample_rate=sample_rate, caption=\"Frequency sweep (100 Hz to 10 kHz)\"))\n",
    "    \n",
    "    # Chord - multiple frequencies combined\n",
    "    duration = 2.0\n",
    "    t = np.linspace(0, duration, int(sample_rate * duration), endpoint=False)\n",
    "    c4 = np.sin(2 * np.pi * 261.63 * t) * 0.3\n",
    "    e4 = np.sin(2 * np.pi * 329.63 * t) * 0.3\n",
    "    g4 = np.sin(2 * np.pi * 392.00 * t) * 0.3\n",
    "    chord = c4 + e4 + g4\n",
    "    dn.log_input(\"chord\", Audio(chord, sample_rate=sample_rate, caption=\"C major chord\"))\n",
    "    \n",
    "    # Stereo audio (two channels)\n",
    "    duration = 3.0\n",
    "    t = np.linspace(0, duration, int(sample_rate * duration), endpoint=False)\n",
    "    left = np.sin(2 * np.pi * 440 * t) * 0.5\n",
    "    right = np.sin(2 * np.pi * 880 * t) * 0.5\n",
    "    stereo = np.column_stack((left, right))\n",
    "    dn.log_input(\"stereo_sine\", Audio(stereo, sample_rate=sample_rate, caption=\"Stereo audio (440 Hz left, 880 Hz right)\"))"
   ]
  },
  {
   "cell_type": "markdown",
   "metadata": {},
   "source": [
    "## Clean it up"
   ]
  },
  {
   "cell_type": "code",
   "execution_count": null,
   "metadata": {},
   "outputs": [],
   "source": [
    "import os\n",
    "os.unlink(audio_file_path)"
   ]
  },
  {
   "cell_type": "markdown",
   "metadata": {},
   "source": [
    "## Summary\n",
    "\n",
    "In this notebook, we demonstrated how to log audio in Dreadnode from various sources:\n",
    "\n",
    "1. Audio files (e.g., WAV, MP3 files)\n",
    "2. Numpy arrays with sample rate\n",
    "4. Audio with custom metadata and captions\n",
    "\n",
    "We also showed more advanced audio processing techniques including:\n",
    "- Generating various audio signals (sine waves, chords, sweeps)\n",
    "- Audio manipulations (volume changes, fades, reversing)\n",
    "\n",
    "The `Audio` data type in Dreadnode provides a flexible way to track and analyze audio data throughout your projects and workflows."
   ]
  }
 ],
 "metadata": {
  "kernelspec": {
   "display_name": "dreadnode-py3.12",
   "language": "python",
   "name": "python3"
  },
  "language_info": {
   "codemirror_mode": {
    "name": "ipython",
    "version": 3
   },
   "file_extension": ".py",
   "mimetype": "text/x-python",
   "name": "python",
   "nbconvert_exporter": "python",
   "pygments_lexer": "ipython3",
   "version": "3.12.7"
  }
 },
 "nbformat": 4,
 "nbformat_minor": 2
}
