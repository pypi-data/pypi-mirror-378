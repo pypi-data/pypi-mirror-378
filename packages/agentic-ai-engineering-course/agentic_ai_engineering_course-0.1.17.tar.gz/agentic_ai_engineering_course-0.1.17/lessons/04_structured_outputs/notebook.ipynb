{
 "cells": [
  {
   "cell_type": "markdown",
   "metadata": {},
   "source": [
    "# Lesson 4: Structured Outputs\n",
    "\n",
    "This notebook explores **Structured Outputs** for guiding LLM outputs.\n",
    "\n",
    "We will use the `google-genai` library to interact with Google's Gemini models.\n",
    "\n",
    "**Learning Objectives:**\n",
    "\n",
    "1.  **Understand structured outputs** and why they are crucial for reliable data extraction from LLMs.\n",
    "2.  **Enforce structured data formats (JSON)** from an LLM using prompt engineering techniques.\n",
    "3.  **Leverage Pydantic models** to define and manage complex data structures for structured outputs, improving code robustness and clarity.\n",
    "4.  **Use Gemini's native structured output capabilities** for the most reliable and efficient approach."
   ]
  },
  {
   "cell_type": "markdown",
   "metadata": {},
   "source": [
    "## 1. Setup\n",
    "\n",
    "First, we define some standard Magic Python commands to autoreload Python packages whenever they change:"
   ]
  },
  {
   "cell_type": "code",
   "execution_count": 1,
   "metadata": {},
   "outputs": [],
   "source": [
    "%load_ext autoreload\n",
    "%autoreload 2"
   ]
  },
  {
   "cell_type": "markdown",
   "metadata": {},
   "source": [
    "### Set Up Python Environment\n",
    "\n",
    "To set up your Python virtual environment using `uv` and load it into the Notebook, follow the step-by-step instructions from the `Course Admin` lesson from the beginning of the course.\n",
    "\n",
    "**TL;DR:** Be sure the correct kernel pointing to your `uv` virtual environment is selected."
   ]
  },
  {
   "cell_type": "markdown",
   "metadata": {},
   "source": [
    "### Configure Gemini API\n",
    "\n",
    "To configure the Gemini API, follow the step-by-step instructions from the `Course Admin` lesson.\n",
    "\n",
    "But here is a quick check on what you need to run this Notebook:\n",
    "\n",
    "1.  Get your key from [Google AI Studio](https://aistudio.google.com/app/apikey).\n",
    "2.  From the root of your project, run: `cp .env.example .env` \n",
    "3.  Within the `.env` file, fill in the `GOOGLE_API_KEY` variable:\n",
    "\n",
    "Now, the code below will load the key from the `.env` file:"
   ]
  },
  {
   "cell_type": "code",
   "execution_count": 2,
   "metadata": {},
   "outputs": [
    {
     "name": "stdout",
     "output_type": "stream",
     "text": [
      "Trying to load environment variables from `/Users/fabio/Desktop/course-ai-agents/.env`\n",
      "Environment variables loaded successfully.\n"
     ]
    }
   ],
   "source": [
    "from utils import env\n",
    "\n",
    "env.load(required_env_vars=[\"GOOGLE_API_KEY\"])"
   ]
  },
  {
   "cell_type": "markdown",
   "metadata": {},
   "source": [
    "### Import Key Packages"
   ]
  },
  {
   "cell_type": "code",
   "execution_count": 3,
   "metadata": {},
   "outputs": [],
   "source": [
    "import json\n",
    "\n",
    "from google import genai\n",
    "from google.genai import types\n",
    "from pydantic import BaseModel, Field\n",
    "\n",
    "from utils import pretty_print"
   ]
  },
  {
   "cell_type": "markdown",
   "metadata": {},
   "source": [
    "### Initialize the Gemini Client"
   ]
  },
  {
   "cell_type": "code",
   "execution_count": 4,
   "metadata": {},
   "outputs": [],
   "source": [
    "client = genai.Client()"
   ]
  },
  {
   "cell_type": "markdown",
   "metadata": {},
   "source": [
    "### Define Constants\n",
    "\n",
    "We will use the `gemini-2.5-flash` model, which is fast and cost-effective:"
   ]
  },
  {
   "cell_type": "code",
   "execution_count": 5,
   "metadata": {},
   "outputs": [],
   "source": [
    "MODEL_ID = \"gemini-2.5-flash\""
   ]
  },
  {
   "cell_type": "markdown",
   "metadata": {},
   "source": [
    "## 2. Implementing structured outputs from scratch using JSON\n",
    "\n",
    "Sometimes, you don't need the LLM to take an action, but you need its output in a specific, machine-readable format. Forcing the output to be JSON is a common way to achieve this.\n",
    "\n",
    "We can instruct the model to do this by **prompting** clearly describing the desired JSON structure in the prompt."
   ]
  },
  {
   "cell_type": "markdown",
   "metadata": {},
   "source": [
    "### Example: Extracting Metadata from a Document\n",
    "\n",
    "Let's imagine we have a markdown document and we want to extract key information like a summary, tags, and keywords into a clean JSON object."
   ]
  },
  {
   "cell_type": "code",
   "execution_count": 6,
   "metadata": {},
   "outputs": [
    {
     "name": "stdout",
     "output_type": "stream",
     "text": [
      "\u001b[93m------------------------------------------ Raw LLM Output ------------------------------------------\u001b[0m\n",
      "  ```json\n",
      "{\n",
      "    \"summary\": \"The Q3 2023 financial report highlights a strong performance with a 20% increase in revenue and 15% growth in user engagement, surpassing market expectations. This success is attributed to a robust product strategy, effective market positioning, and successful expansion into new markets, leading to improved customer retention and reduced acquisition costs.\",\n",
      "    \"tags\": [\n",
      "        \"financials\",\n",
      "        \"earnings report\",\n",
      "        \"business performance\",\n",
      "        \"revenue growth\",\n",
      "        \"market expansion\",\n",
      "        \"Q3 2023\"\n",
      "    ],\n",
      "    \"keywords\": [\n",
      "        \"Q3 2023\",\n",
      "        \"revenue\",\n",
      "        \"user engagement\",\n",
      "        \"market expectations\",\n",
      "        \"product strategy\",\n",
      "        \"market positioning\",\n",
      "        \"digital services\",\n",
      "        \"new markets\",\n",
      "        \"customer acquisition costs\",\n",
      "        \"retention rates\",\n",
      "        \"cash flow\"\n",
      "    ],\n",
      "    \"quarter\": \"Q3 2023\",\n",
      "    \"growth_rate\": \"20%\"\n",
      "}\n",
      "```\n",
      "\u001b[93m----------------------------------------------------------------------------------------------------\u001b[0m\n"
     ]
    }
   ],
   "source": [
    "DOCUMENT = \"\"\"\n",
    "# Q3 2023 Financial Performance Analysis\n",
    "\n",
    "The Q3 earnings report shows a 20% increase in revenue and a 15% growth in user engagement, \n",
    "beating market expectations. These impressive results reflect our successful product strategy \n",
    "and strong market positioning.\n",
    "\n",
    "Our core business segments demonstrated remarkable resilience, with digital services leading \n",
    "the growth at 25% year-over-year. The expansion into new markets has proven particularly \n",
    "successful, contributing to 30% of the total revenue increase.\n",
    "\n",
    "Customer acquisition costs decreased by 10% while retention rates improved to 92%, \n",
    "marking our best performance to date. These metrics, combined with our healthy cash flow \n",
    "position, provide a strong foundation for continued growth into Q4 and beyond.\n",
    "\"\"\"\n",
    "\n",
    "prompt = f\"\"\"\n",
    "Analyze the following document and extract metadata from it. \n",
    "The output must be a single, valid JSON object with the following structure:\n",
    "<json>\n",
    "{{ \n",
    "    \"summary\": \"A concise summary of the article.\", \n",
    "    \"tags\": [\"list\", \"of\", \"relevant\", \"tags\"], \n",
    "    \"keywords\": [\"list\", \"of\", \"key\", \"concepts\"],\n",
    "    \"quarter\": \"Q...\",\n",
    "    \"growth_rate\": \"...%\",\n",
    "}}\n",
    "</json>\n",
    "\n",
    "Here is the document:\n",
    "<document>\n",
    "{DOCUMENT}\n",
    "</document>\n",
    "\"\"\"\n",
    "\n",
    "response = client.models.generate_content(model=MODEL_ID, contents=prompt)\n",
    "\n",
    "pretty_print.wrapped(text=response.text, title=\"Raw LLM Output\", indent=2)"
   ]
  },
  {
   "cell_type": "code",
   "execution_count": 7,
   "metadata": {},
   "outputs": [],
   "source": [
    "def extract_json_from_response(response: str) -> dict:\n",
    "    \"\"\"\n",
    "    Extracts JSON from a response string that is wrapped in <json> or ```json tags.\n",
    "    \"\"\"\n",
    "\n",
    "    response = response.replace(\"<json>\", \"\").replace(\"</json>\", \"\")\n",
    "    response = response.replace(\"```json\", \"\").replace(\"```\", \"\")\n",
    "\n",
    "    return json.loads(response)"
   ]
  },
  {
   "cell_type": "markdown",
   "metadata": {},
   "source": [
    "You can now reliably parse the JSON string:"
   ]
  },
  {
   "cell_type": "code",
   "execution_count": 8,
   "metadata": {},
   "outputs": [
    {
     "name": "stdout",
     "output_type": "stream",
     "text": [
      "\u001b[93m---------------------------------------- Parsed JSON Object ----------------------------------------\u001b[0m\n",
      "  Type of the parsed response: `<class 'dict'>`\n",
      "\u001b[93m----------------------------------------------------------------------------------------------------\u001b[0m\n",
      "  {\n",
      "  \"summary\": \"The Q3 2023 financial report highlights a strong performance with a 20% increase in revenue and 15% growth in user engagement, surpassing market expectations. This success is attributed to a robust product strategy, effective market positioning, and successful expansion into new markets, leading to improved customer retention and reduced acquisition costs.\",\n",
      "  \"tags\": [\n",
      "    \"financials\",\n",
      "    \"earnings report\",\n",
      "    \"business performance\",\n",
      "    \"revenue growth\",\n",
      "    \"market expansion\",\n",
      "    \"Q3 2023\"\n",
      "  ],\n",
      "  \"keywords\": [\n",
      "    \"Q3 2023\",\n",
      "    \"revenue\",\n",
      "    \"user engagement\",\n",
      "    \"market expectations\",\n",
      "    \"product strategy\",\n",
      "    \"market positioning\",\n",
      "    \"digital services\",\n",
      "    \"new markets\",\n",
      "    \"customer acquisition costs\",\n",
      "    \"retention rates\",\n",
      "    \"cash flow\"\n",
      "  ],\n",
      "  \"quarter\": \"Q3 2023\",\n",
      "  \"growth_rate\": \"20%\"\n",
      "}\n",
      "\u001b[93m----------------------------------------------------------------------------------------------------\u001b[0m\n"
     ]
    }
   ],
   "source": [
    "parsed_response = extract_json_from_response(response.text)\n",
    "pretty_print.wrapped(\n",
    "    text=[f\"Type of the parsed response: `{type(parsed_response)}`\", json.dumps(parsed_response, indent=2)],\n",
    "    title=\"Parsed JSON Object\",\n",
    "    indent=2,\n",
    ")"
   ]
  },
  {
   "cell_type": "markdown",
   "metadata": {},
   "source": [
    "## 3. Implementing structured outputs from scratch using Pydantic\n",
    "\n",
    "While prompting for JSON is effective, it can be fragile. A more robust and modern approach is to use **Pydantic**. Pydantic allows you to define data structures as Python classes. This gives you:\n",
    "\n",
    "- **A single source of truth**: The Pydantic model defines the structure.\n",
    "- **Automatic schema generation**: You can easily generate a JSON Schema from the model.\n",
    "- **Data validation**: You can validate the LLM's output against the model to ensure it conforms to the expected structure and types.\n",
    "\n",
    "Let's recreate the previous example using Pydantic."
   ]
  },
  {
   "cell_type": "code",
   "execution_count": 9,
   "metadata": {},
   "outputs": [],
   "source": [
    "class DocumentMetadata(BaseModel):\n",
    "    \"\"\"A class to hold structured metadata for a document.\"\"\"\n",
    "\n",
    "    summary: str = Field(description=\"A concise, 1-2 sentence summary of the document.\")\n",
    "    tags: list[str] = Field(description=\"A list of 3-5 high-level tags relevant to the document.\")\n",
    "    keywords: list[str] = Field(description=\"A list of specific keywords or concepts mentioned.\")\n",
    "    quarter: str = Field(description=\"The quarter of the financial year described in the document (e.g, Q3 2023).\")\n",
    "    growth_rate: str = Field(description=\"The growth rate of the company described in the document (e.g, 10%).\")"
   ]
  },
  {
   "cell_type": "markdown",
   "metadata": {},
   "source": [
    "### Injecting Pydantic Schema into the Prompt\n",
    "\n",
    "We can generate a JSON Schema from our Pydantic model and inject it directly into the prompt. This is a more formal way of telling the LLM what structure to follow.\n",
    "\n",
    "Note how, along with the field type, we can leverage the Field description automatically to clearly specify to the LLM what each field means."
   ]
  },
  {
   "cell_type": "code",
   "execution_count": 10,
   "metadata": {},
   "outputs": [
    {
     "data": {
      "text/plain": [
       "{'description': 'A class to hold structured metadata for a document.',\n",
       " 'properties': {'summary': {'description': 'A concise, 1-2 sentence summary of the document.',\n",
       "   'title': 'Summary',\n",
       "   'type': 'string'},\n",
       "  'tags': {'description': 'A list of 3-5 high-level tags relevant to the document.',\n",
       "   'items': {'type': 'string'},\n",
       "   'title': 'Tags',\n",
       "   'type': 'array'},\n",
       "  'keywords': {'description': 'A list of specific keywords or concepts mentioned.',\n",
       "   'items': {'type': 'string'},\n",
       "   'title': 'Keywords',\n",
       "   'type': 'array'},\n",
       "  'quarter': {'description': 'The quarter of the financial year described in the document (e.g, Q3 2023).',\n",
       "   'title': 'Quarter',\n",
       "   'type': 'string'},\n",
       "  'growth_rate': {'description': 'The growth rate of the company described in the document (e.g, 10%).',\n",
       "   'title': 'Growth Rate',\n",
       "   'type': 'string'}},\n",
       " 'required': ['summary', 'tags', 'keywords', 'quarter', 'growth_rate'],\n",
       " 'title': 'DocumentMetadata',\n",
       " 'type': 'object'}"
      ]
     },
     "execution_count": 10,
     "metadata": {},
     "output_type": "execute_result"
    }
   ],
   "source": [
    "schema = DocumentMetadata.model_json_schema()\n",
    "schema"
   ]
  },
  {
   "cell_type": "code",
   "execution_count": 11,
   "metadata": {},
   "outputs": [
    {
     "name": "stdout",
     "output_type": "stream",
     "text": [
      "\u001b[93m---------------------------------------- Parsed JSON Object ----------------------------------------\u001b[0m\n",
      "  Type of the parsed response: `<class 'dict'>`\n",
      "\u001b[93m----------------------------------------------------------------------------------------------------\u001b[0m\n",
      "  {\n",
      "  \"summary\": \"The Q3 2023 earnings report indicates strong financial performance with a 20% increase in revenue and 15% growth in user engagement, driven by successful product strategy, market expansion, and improved customer retention.\",\n",
      "  \"tags\": [\n",
      "    \"Financial Performance\",\n",
      "    \"Earnings Report\",\n",
      "    \"Business Growth\",\n",
      "    \"Market Expansion\",\n",
      "    \"Customer Metrics\"\n",
      "  ],\n",
      "  \"keywords\": [\n",
      "    \"Q3 2023\",\n",
      "    \"revenue increase\",\n",
      "    \"user engagement\",\n",
      "    \"digital services\",\n",
      "    \"new markets\",\n",
      "    \"customer acquisition costs\",\n",
      "    \"retention rates\",\n",
      "    \"cash flow\"\n",
      "  ],\n",
      "  \"quarter\": \"Q3 2023\",\n",
      "  \"growth_rate\": \"20%\"\n",
      "}\n",
      "\u001b[93m----------------------------------------------------------------------------------------------------\u001b[0m\n"
     ]
    }
   ],
   "source": [
    "prompt = f\"\"\"\n",
    "Please analyze the following document and extract metadata from it. \n",
    "The output must be a single, valid JSON object that conforms to the following JSON Schema:\n",
    "<json>\n",
    "{json.dumps(schema, indent=2)}\n",
    "</json>\n",
    "\n",
    "Here is the document:\n",
    "<document>\n",
    "{DOCUMENT}\n",
    "</document>\n",
    "\"\"\"\n",
    "\n",
    "response = client.models.generate_content(model=MODEL_ID, contents=prompt)\n",
    "\n",
    "parsed_response = extract_json_from_response(response.text)\n",
    "\n",
    "pretty_print.wrapped(\n",
    "    text=[f\"Type of the parsed response: `{type(parsed_response)}`\", json.dumps(parsed_response, indent=2)],\n",
    "    title=\"Parsed JSON Object\",\n",
    "    indent=2,\n",
    ")"
   ]
  },
  {
   "cell_type": "markdown",
   "metadata": {},
   "source": [
    "As you can see, conceptually, the results are the same. But now, we can easily validate the output with Pydantic:"
   ]
  },
  {
   "cell_type": "code",
   "execution_count": 12,
   "metadata": {},
   "outputs": [
    {
     "name": "stdout",
     "output_type": "stream",
     "text": [
      "\n",
      "Validation successful!\n",
      "\u001b[93m------------------------------------ Pydantic Validated Object ------------------------------------\u001b[0m\n",
      "  Type of the validated response: `{type(document_metadata)}`\n",
      "\u001b[93m----------------------------------------------------------------------------------------------------\u001b[0m\n",
      "  {\n",
      "  \"summary\": \"The Q3 2023 earnings report indicates strong financial performance with a 20% increase in revenue and 15% growth in user engagement, driven by successful product strategy, market expansion, and improved customer retention.\",\n",
      "  \"tags\": [\n",
      "    \"Financial Performance\",\n",
      "    \"Earnings Report\",\n",
      "    \"Business Growth\",\n",
      "    \"Market Expansion\",\n",
      "    \"Customer Metrics\"\n",
      "  ],\n",
      "  \"keywords\": [\n",
      "    \"Q3 2023\",\n",
      "    \"revenue increase\",\n",
      "    \"user engagement\",\n",
      "    \"digital services\",\n",
      "    \"new markets\",\n",
      "    \"customer acquisition costs\",\n",
      "    \"retention rates\",\n",
      "    \"cash flow\"\n",
      "  ],\n",
      "  \"quarter\": \"Q3 2023\",\n",
      "  \"growth_rate\": \"20%\"\n",
      "}\n",
      "\u001b[93m----------------------------------------------------------------------------------------------------\u001b[0m\n"
     ]
    }
   ],
   "source": [
    "try:\n",
    "    document_metadata = DocumentMetadata.model_validate(parsed_response)\n",
    "    print(\"\\nValidation successful!\")\n",
    "\n",
    "    pretty_print.wrapped(\n",
    "        [\"Type of the validated response: `{type(document_metadata)}`\", document_metadata.model_dump_json(indent=2)],\n",
    "        title=\"Pydantic Validated Object\",\n",
    "        indent=2,\n",
    "    )\n",
    "except Exception as e:\n",
    "    print(f\"\\nValidation failed: {e}\")"
   ]
  },
  {
   "cell_type": "markdown",
   "metadata": {},
   "source": [
    "## 4. Implementing structured outputs using Gemini and Pydantic\n",
    "\n",
    "Using Gemini's `GenerateContentConfig` we can enforce the output as a Pydantic object without any special prompt engineering.\n",
    "\n",
    "We can instruct the model to do this by setting `response_mime_type` to `\"application/json\"` in the generation configuration, which forces the model's output to be a valid JSON object and the `response_schema` to our Pydantic object.\n",
    "\n",
    "**Note:** If you use only the `response_mime_type=\"application/json\"` setting you can output raw JSON formats."
   ]
  },
  {
   "cell_type": "code",
   "execution_count": 13,
   "metadata": {},
   "outputs": [
    {
     "name": "stdout",
     "output_type": "stream",
     "text": [
      "\u001b[93m------------------------------------ Pydantic Validated Object ------------------------------------\u001b[0m\n",
      "  Type of the response: `<class '__main__.DocumentMetadata'>`\n",
      "\u001b[93m----------------------------------------------------------------------------------------------------\u001b[0m\n",
      "  {\n",
      "  \"summary\": \"The Q3 2023 earnings report shows a 20% increase in revenue and 15% growth in user engagement, exceeding market expectations due to successful product strategy and market expansion. Customer acquisition costs decreased by 10% and retention improved to 92%, indicating a strong foundation for continued growth.\",\n",
      "  \"tags\": [\n",
      "    \"Financial Performance\",\n",
      "    \"Earnings Report\",\n",
      "    \"Revenue Growth\",\n",
      "    \"Market Expansion\",\n",
      "    \"User Engagement\"\n",
      "  ],\n",
      "  \"keywords\": [\n",
      "    \"Q3 2023\",\n",
      "    \"revenue increase\",\n",
      "    \"user engagement\",\n",
      "    \"product strategy\",\n",
      "    \"market positioning\",\n",
      "    \"digital services\",\n",
      "    \"new markets\",\n",
      "    \"customer acquisition costs\",\n",
      "    \"retention rates\",\n",
      "    \"cash flow\"\n",
      "  ],\n",
      "  \"quarter\": \"Q3 2023\",\n",
      "  \"growth_rate\": \"20%\"\n",
      "}\n",
      "\u001b[93m----------------------------------------------------------------------------------------------------\u001b[0m\n"
     ]
    }
   ],
   "source": [
    "config = types.GenerateContentConfig(response_mime_type=\"application/json\", response_schema=DocumentMetadata)\n",
    "\n",
    "prompt = f\"\"\"\n",
    "Analyze the following document and extract its metadata.\n",
    "\n",
    "Here is the document:\n",
    "<document>\n",
    "{DOCUMENT}\n",
    "</document>\n",
    "\"\"\"\n",
    "\n",
    "response = client.models.generate_content(model=MODEL_ID, contents=prompt, config=config)\n",
    "pretty_print.wrapped(\n",
    "    [f\"Type of the response: `{type(response.parsed)}`\", response.parsed.model_dump_json(indent=2)],\n",
    "    title=\"Pydantic Validated Object\",\n",
    "    indent=2,\n",
    ")"
   ]
  },
  {
   "cell_type": "markdown",
   "metadata": {},
   "source": [
    "From now on, throughout this course, we will utilize this native Gemini approach to generate structured outputs, aiming to achieve the most reliable and efficient results. Additionally, when using LangChain or LangGraph, we will utilize their abstractions on top of the same logic."
   ]
  }
 ],
 "metadata": {
  "kernelspec": {
   "display_name": ".venv",
   "language": "python",
   "name": "python3"
  },
  "language_info": {
   "codemirror_mode": {
    "name": "ipython",
    "version": 3
   },
   "file_extension": ".py",
   "mimetype": "text/x-python",
   "name": "python",
   "nbconvert_exporter": "python",
   "pygments_lexer": "ipython3",
   "version": "3.12.11"
  }
 },
 "nbformat": 4,
 "nbformat_minor": 2
}
