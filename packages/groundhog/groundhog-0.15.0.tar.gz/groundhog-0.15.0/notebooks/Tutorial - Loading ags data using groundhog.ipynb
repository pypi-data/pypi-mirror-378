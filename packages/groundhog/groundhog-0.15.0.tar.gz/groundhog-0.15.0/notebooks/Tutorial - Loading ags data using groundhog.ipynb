{
 "cells": [
  {
   "cell_type": "markdown",
   "metadata": {},
   "source": [
    "# Tutorial - Loading AGS data using ```groundhog```\n",
    "\n",
    "This tutorial outlines how an AGS 4.0 file can be converted to Python-compatible data structures (Pandas Dataframes) using ```groundhog```.\n",
    "\n",
    "A file with geotechnical data from the Borssele I offshore wind farm is used to demonstrate the principles. This file is used under a Creative Commons 4.0 license.\n",
    "\n",
    "## 1. Importing libraries\n",
    "\n",
    "We can import the ```AGSConverter``` class. This class will convert the AGS data to Pandas dataframes which can be used for further data processing."
   ]
  },
  {
   "cell_type": "code",
   "execution_count": 1,
   "metadata": {},
   "outputs": [],
   "source": [
    "from groundhog.general.agsconversion import AGSConverter"
   ]
  },
  {
   "cell_type": "markdown",
   "metadata": {},
   "source": [
    "## 2. Reading data\n",
    "\n",
    "We can read data from an AGS file by creating an ```AGSConverter``` object. We will use the file ```N6016_BH-WFS1-2A_AGS4_150703.AGS```. ```groundhog``` performs some initial processing on the file. The AGS groupnames are extracted and any double-quotes which would hinder import (e.g. in latitude or longitude values) are removed."
   ]
  },
  {
   "cell_type": "code",
   "execution_count": 2,
   "metadata": {},
   "outputs": [],
   "source": [
    "agsdata = AGSConverter(path='Data/N6016_BH-WFS1-2A_AGS4_150703.AGS')"
   ]
  },
  {
   "cell_type": "markdown",
   "metadata": {},
   "source": [
    "We can check which groupnames are available by printing the ```groupnames``` property of the ```AGSConverter``` object."
   ]
  },
  {
   "cell_type": "code",
   "execution_count": 3,
   "metadata": {},
   "outputs": [
    {
     "data": {
      "text/plain": [
       "['PROJ',\n",
       " 'UNIT',\n",
       " 'TYPE',\n",
       " 'ABBR',\n",
       " 'User-defined data group',\n",
       " 'DICT',\n",
       " 'LOCA',\n",
       " 'GEOL',\n",
       " 'DETL',\n",
       " 'SAMP',\n",
       " 'CONG',\n",
       " 'GCHM',\n",
       " 'GRAG',\n",
       " 'GRAT',\n",
       " 'LDEN',\n",
       " 'LLPL',\n",
       " 'LNMC',\n",
       " 'LPDN',\n",
       " 'LPEN',\n",
       " 'TREG',\n",
       " 'TRIG',\n",
       " 'TRIT']"
      ]
     },
     "execution_count": 3,
     "metadata": {},
     "output_type": "execute_result"
    }
   ],
   "source": [
    "agsdata.groupnames"
   ]
  },
  {
   "cell_type": "markdown",
   "metadata": {},
   "source": [
    "The groupnames are four character abbreviations which defines which data the group contains. We can convert these groupnames to a more verbose format using the ```GROUP_NAMES``` dictionary."
   ]
  },
  {
   "cell_type": "code",
   "execution_count": 4,
   "metadata": {},
   "outputs": [],
   "source": [
    "from groundhog.general.agsconversion import GROUP_NAMES"
   ]
  },
  {
   "cell_type": "markdown",
   "metadata": {},
   "source": [
    "Currently, only the most common group names for geotechnical tests in the AGS 4.0 standard are encoded. Different group names can easily be added in the future."
   ]
  },
  {
   "cell_type": "code",
   "execution_count": 5,
   "metadata": {},
   "outputs": [
    {
     "data": {
      "text/plain": [
       "{'PROJ': 'Project Information',\n",
       " 'ABBR': 'Abbreviation Definitions',\n",
       " 'DICT': 'User Defined Groups and Headings',\n",
       " 'FILE': 'Associated Files',\n",
       " 'TRAN': 'Data File Transmission Information / Data Status',\n",
       " 'TYPE': 'Definition of Data Types',\n",
       " 'UNIT': 'Definition of Units',\n",
       " 'CLSS': 'Classification tests',\n",
       " 'CONG': 'Consolidation Tests - General',\n",
       " 'CONS': 'Consolidation Tests - Data',\n",
       " 'CORE': 'Coring Information',\n",
       " 'GEOL': 'Field Geological Descriptions',\n",
       " 'GRAG': 'Particle Size Distribution Analysis - General',\n",
       " 'GRAT': 'Particle Size Distribution Analysis - Data',\n",
       " 'SCPG': 'Static Cone Penetration Tests - General',\n",
       " 'SCPT': 'Static Cone Penetration Tests - Data',\n",
       " 'SCPP': 'Static Cone Penetration Tests - Derived Parameters',\n",
       " 'LOCA': 'Location Details',\n",
       " 'DETL': 'Stratum Detail Descriptions',\n",
       " 'SAMP': 'Sample Information',\n",
       " 'GCHM': 'Geotechnical Chemistry Testing',\n",
       " 'LDEN': 'Density tests',\n",
       " 'LLPL': 'Liquid and Plastic Limit Tests',\n",
       " 'LNMC': 'Water/Moisture Content Tests',\n",
       " 'LPDN': 'Particle Density Tests',\n",
       " 'LPEN': 'Laboratory Hand Penetrometer Tests',\n",
       " 'TREG': 'Triaxial Tests - Effective Stress - General',\n",
       " 'TRET': 'Triaxial Tests - Effective Stress - Data',\n",
       " 'TRIG': 'Triaxial Tests - Total Stress - General',\n",
       " 'TRIT': 'Triaxial Tests - Total Stress - Data',\n",
       " 'GRAD': 'Particle size distribution data',\n",
       " 'RELD': 'Relative density test',\n",
       " 'STCN': 'Static cone penetration test'}"
      ]
     },
     "execution_count": 5,
     "metadata": {},
     "output_type": "execute_result"
    }
   ],
   "source": [
    "GROUP_NAMES"
   ]
  },
  {
   "cell_type": "markdown",
   "metadata": {},
   "source": [
    "## 3. Converting AGS data to Pandas dataframes\n",
    "\n",
    "### 3.1. Converting all groups\n",
    "\n",
    "Converting the AGS data to Pandas dataframes is a matter of running the ```create_dataframes``` method. This creates a dictionary of dataframes for all group names. If groups cannot be converted, a warning will be raised but the code will continue. Dataframe creation for this group is simply skipped."
   ]
  },
  {
   "cell_type": "code",
   "execution_count": 13,
   "metadata": {},
   "outputs": [
    {
     "name": "stderr",
     "output_type": "stream",
     "text": [
      "/Users/profound/opt/anaconda3/lib/python3.7/site-packages/groundhog-0.2.0-py3.7.egg/groundhog/general/agsconversion.py:1025: UserWarning: Group User-defined data group could not be converted - index 0 is out of bounds for axis 0 with size 0\n",
      "  warnings.warn(\"Group %s could not be converted - %s\" % (_groupname, str(err)))\n"
     ]
    }
   ],
   "source": [
    "agsdata.create_dataframes()"
   ]
  },
  {
   "cell_type": "markdown",
   "metadata": {},
   "source": [
    "We now have a dictionary of dataframes in the ```data``` attribute. The keys of this dictionary are the groupnames."
   ]
  },
  {
   "cell_type": "code",
   "execution_count": 14,
   "metadata": {},
   "outputs": [
    {
     "data": {
      "text/plain": [
       "dict_keys(['PROJ', 'UNIT', 'TYPE', 'ABBR', 'DICT', 'LOCA', 'GEOL', 'DETL', 'SAMP', 'CONG', 'GCHM', 'GRAG', 'GRAT', 'LDEN', 'LLPL', 'LNMC', 'LPDN', 'LPEN', 'TREG', 'TRIG', 'TRIT'])"
      ]
     },
     "execution_count": 14,
     "metadata": {},
     "output_type": "execute_result"
    }
   ],
   "source": [
    "agsdata.data.keys()"
   ]
  },
  {
   "cell_type": "markdown",
   "metadata": {},
   "source": [
    "We can check the data for the density tests (we only print the first five rows using the ```head()``` method)."
   ]
  },
  {
   "cell_type": "code",
   "execution_count": 16,
   "metadata": {},
   "outputs": [
    {
     "data": {
      "text/html": [
       "<div>\n",
       "<style scoped>\n",
       "    .dataframe tbody tr th:only-of-type {\n",
       "        vertical-align: middle;\n",
       "    }\n",
       "\n",
       "    .dataframe tbody tr th {\n",
       "        vertical-align: top;\n",
       "    }\n",
       "\n",
       "    .dataframe thead th {\n",
       "        text-align: right;\n",
       "    }\n",
       "</style>\n",
       "<table border=\"1\" class=\"dataframe\">\n",
       "  <thead>\n",
       "    <tr style=\"text-align: right;\">\n",
       "      <th></th>\n",
       "      <th>LOCA_ID</th>\n",
       "      <th>SAMP_TOP [m]</th>\n",
       "      <th>SAMP_REF</th>\n",
       "      <th>SAMP_TYPE</th>\n",
       "      <th>SAMP_ID</th>\n",
       "      <th>SPEC_REF</th>\n",
       "      <th>SPEC_DPTH [m]</th>\n",
       "      <th>LDEN_MC [%]</th>\n",
       "      <th>LDEN_BDEN [kN/m3]</th>\n",
       "      <th>LDEN_DDEN [kN/m3]</th>\n",
       "      <th>LDEN_LAB</th>\n",
       "    </tr>\n",
       "  </thead>\n",
       "  <tbody>\n",
       "    <tr>\n",
       "      <th>0</th>\n",
       "      <td>BH-WFS1-2A</td>\n",
       "      <td>1.0</td>\n",
       "      <td>W2</td>\n",
       "      <td>W</td>\n",
       "      <td>NaN</td>\n",
       "      <td>6</td>\n",
       "      <td>1.15</td>\n",
       "      <td>24</td>\n",
       "      <td>19.4</td>\n",
       "      <td>15.7</td>\n",
       "      <td>NaN</td>\n",
       "    </tr>\n",
       "    <tr>\n",
       "      <th>1</th>\n",
       "      <td>BH-WFS1-2A</td>\n",
       "      <td>1.0</td>\n",
       "      <td>W2</td>\n",
       "      <td>W</td>\n",
       "      <td>NaN</td>\n",
       "      <td>7</td>\n",
       "      <td>1.50</td>\n",
       "      <td>23</td>\n",
       "      <td>NaN</td>\n",
       "      <td>NaN</td>\n",
       "      <td>NaN</td>\n",
       "    </tr>\n",
       "    <tr>\n",
       "      <th>2</th>\n",
       "      <td>BH-WFS1-2A</td>\n",
       "      <td>2.0</td>\n",
       "      <td>W3</td>\n",
       "      <td>W</td>\n",
       "      <td>NaN</td>\n",
       "      <td>10</td>\n",
       "      <td>2.15</td>\n",
       "      <td>25</td>\n",
       "      <td>19.3</td>\n",
       "      <td>15.4</td>\n",
       "      <td>NaN</td>\n",
       "    </tr>\n",
       "    <tr>\n",
       "      <th>3</th>\n",
       "      <td>BH-WFS1-2A</td>\n",
       "      <td>2.0</td>\n",
       "      <td>W3</td>\n",
       "      <td>W</td>\n",
       "      <td>NaN</td>\n",
       "      <td>11</td>\n",
       "      <td>2.45</td>\n",
       "      <td>24</td>\n",
       "      <td>19.2</td>\n",
       "      <td>15.5</td>\n",
       "      <td>NaN</td>\n",
       "    </tr>\n",
       "    <tr>\n",
       "      <th>4</th>\n",
       "      <td>BH-WFS1-2A</td>\n",
       "      <td>3.0</td>\n",
       "      <td>W4</td>\n",
       "      <td>W</td>\n",
       "      <td>NaN</td>\n",
       "      <td>19</td>\n",
       "      <td>3.15</td>\n",
       "      <td>24</td>\n",
       "      <td>20.3</td>\n",
       "      <td>16.4</td>\n",
       "      <td>NaN</td>\n",
       "    </tr>\n",
       "  </tbody>\n",
       "</table>\n",
       "</div>"
      ],
      "text/plain": [
       "      LOCA_ID  SAMP_TOP [m] SAMP_REF  ... LDEN_BDEN [kN/m3] LDEN_DDEN [kN/m3] LDEN_LAB\n",
       "0  BH-WFS1-2A           1.0       W2  ...              19.4              15.7      NaN\n",
       "1  BH-WFS1-2A           1.0       W2  ...               NaN               NaN      NaN\n",
       "2  BH-WFS1-2A           2.0       W3  ...              19.3              15.4      NaN\n",
       "3  BH-WFS1-2A           2.0       W3  ...              19.2              15.5      NaN\n",
       "4  BH-WFS1-2A           3.0       W4  ...              20.3              16.4      NaN\n",
       "\n",
       "[5 rows x 11 columns]"
      ]
     },
     "execution_count": 16,
     "metadata": {},
     "output_type": "execute_result"
    }
   ],
   "source": [
    "agsdata.data['LDEN'].head()"
   ]
  },
  {
   "cell_type": "markdown",
   "metadata": {},
   "source": [
    "The resulting dataframe has AGS codes as column headers, with the accompanying units. These column keys are not verbose, but the ```create_dataframes``` method can fix this as explained in the next section."
   ]
  },
  {
   "cell_type": "markdown",
   "metadata": {},
   "source": [
    "### 3.2. Converting selected groups\n",
    "\n",
    "#### 3.2.1. Using AGS column headers\n",
    "\n",
    "We often don't need all groups in the AGS file. We can only import selected groups by specifying a list of groupnames we want to convert in the keyword argument ```selectedgroups```.\n",
    "\n",
    "As an example, we will convert only the sample information (```SAMP``` group). The resulting dictionary only contains one element."
   ]
  },
  {
   "cell_type": "code",
   "execution_count": 17,
   "metadata": {},
   "outputs": [
    {
     "data": {
      "text/plain": [
       "dict_keys(['SAMP'])"
      ]
     },
     "execution_count": 17,
     "metadata": {},
     "output_type": "execute_result"
    }
   ],
   "source": [
    "agsdata.create_dataframes(selectedgroups=['SAMP',])\n",
    "agsdata.data.keys()"
   ]
  },
  {
   "cell_type": "markdown",
   "metadata": {},
   "source": [
    "We can visualise the content of the resulting dataframe. This dataframe has the AGS codes as the column headers."
   ]
  },
  {
   "cell_type": "code",
   "execution_count": 18,
   "metadata": {},
   "outputs": [
    {
     "data": {
      "text/html": [
       "<div>\n",
       "<style scoped>\n",
       "    .dataframe tbody tr th:only-of-type {\n",
       "        vertical-align: middle;\n",
       "    }\n",
       "\n",
       "    .dataframe tbody tr th {\n",
       "        vertical-align: top;\n",
       "    }\n",
       "\n",
       "    .dataframe thead th {\n",
       "        text-align: right;\n",
       "    }\n",
       "</style>\n",
       "<table border=\"1\" class=\"dataframe\">\n",
       "  <thead>\n",
       "    <tr style=\"text-align: right;\">\n",
       "      <th></th>\n",
       "      <th>LOCA_ID</th>\n",
       "      <th>SAMP_TOP [m]</th>\n",
       "      <th>SAMP_REF</th>\n",
       "      <th>SAMP_TYPE</th>\n",
       "      <th>SAMP_ID</th>\n",
       "      <th>SAMP_BASE [m]</th>\n",
       "      <th>SAMP_DTIM [yyyy-mm-dd]</th>\n",
       "      <th>SAMP_UBLO</th>\n",
       "      <th>SAMP_CONT</th>\n",
       "      <th>SAMP_SDIA [mm]</th>\n",
       "      <th>SAMP_RECV [%]</th>\n",
       "      <th>SAMP_TECH</th>\n",
       "      <th>SAMP_WHY</th>\n",
       "      <th>SAMP_DESD [yyyy-mm-dd]</th>\n",
       "      <th>SAMP_LOG</th>\n",
       "      <th>SAMP_COND</th>\n",
       "    </tr>\n",
       "  </thead>\n",
       "  <tbody>\n",
       "    <tr>\n",
       "      <th>0</th>\n",
       "      <td>BH-WFS1-2A</td>\n",
       "      <td>0.0</td>\n",
       "      <td>W1</td>\n",
       "      <td>W</td>\n",
       "      <td>NaN</td>\n",
       "      <td>0.32</td>\n",
       "      <td>2015-04-10</td>\n",
       "      <td>NaN</td>\n",
       "      <td>NaN</td>\n",
       "      <td>NaN</td>\n",
       "      <td>43.0</td>\n",
       "      <td>NaN</td>\n",
       "      <td>NaN</td>\n",
       "      <td>2015-04-10</td>\n",
       "      <td>TAD</td>\n",
       "      <td>Undisturbed</td>\n",
       "    </tr>\n",
       "    <tr>\n",
       "      <th>1</th>\n",
       "      <td>BH-WFS1-2A</td>\n",
       "      <td>1.0</td>\n",
       "      <td>W2</td>\n",
       "      <td>W</td>\n",
       "      <td>NaN</td>\n",
       "      <td>1.65</td>\n",
       "      <td>2015-04-10</td>\n",
       "      <td>NaN</td>\n",
       "      <td>NaN</td>\n",
       "      <td>NaN</td>\n",
       "      <td>70.0</td>\n",
       "      <td>NaN</td>\n",
       "      <td>NaN</td>\n",
       "      <td>2015-04-10</td>\n",
       "      <td>TAD</td>\n",
       "      <td>Undisturbed</td>\n",
       "    </tr>\n",
       "    <tr>\n",
       "      <th>2</th>\n",
       "      <td>BH-WFS1-2A</td>\n",
       "      <td>2.0</td>\n",
       "      <td>W3</td>\n",
       "      <td>W</td>\n",
       "      <td>NaN</td>\n",
       "      <td>2.60</td>\n",
       "      <td>2015-04-10</td>\n",
       "      <td>NaN</td>\n",
       "      <td>NaN</td>\n",
       "      <td>NaN</td>\n",
       "      <td>67.0</td>\n",
       "      <td>NaN</td>\n",
       "      <td>NaN</td>\n",
       "      <td>2015-04-10</td>\n",
       "      <td>TAD</td>\n",
       "      <td>Undisturbed</td>\n",
       "    </tr>\n",
       "    <tr>\n",
       "      <th>3</th>\n",
       "      <td>BH-WFS1-2A</td>\n",
       "      <td>3.0</td>\n",
       "      <td>W4</td>\n",
       "      <td>W</td>\n",
       "      <td>NaN</td>\n",
       "      <td>3.65</td>\n",
       "      <td>2015-04-10</td>\n",
       "      <td>NaN</td>\n",
       "      <td>NaN</td>\n",
       "      <td>NaN</td>\n",
       "      <td>68.0</td>\n",
       "      <td>NaN</td>\n",
       "      <td>NaN</td>\n",
       "      <td>2015-04-10</td>\n",
       "      <td>TAD</td>\n",
       "      <td>Undisturbed</td>\n",
       "    </tr>\n",
       "    <tr>\n",
       "      <th>4</th>\n",
       "      <td>BH-WFS1-2A</td>\n",
       "      <td>4.0</td>\n",
       "      <td>W5</td>\n",
       "      <td>W</td>\n",
       "      <td>NaN</td>\n",
       "      <td>4.60</td>\n",
       "      <td>2015-04-10</td>\n",
       "      <td>NaN</td>\n",
       "      <td>NaN</td>\n",
       "      <td>NaN</td>\n",
       "      <td>63.0</td>\n",
       "      <td>NaN</td>\n",
       "      <td>NaN</td>\n",
       "      <td>2015-04-10</td>\n",
       "      <td>TAD</td>\n",
       "      <td>Undisturbed</td>\n",
       "    </tr>\n",
       "  </tbody>\n",
       "</table>\n",
       "</div>"
      ],
      "text/plain": [
       "      LOCA_ID  SAMP_TOP [m] SAMP_REF SAMP_TYPE  ... SAMP_WHY  SAMP_DESD [yyyy-mm-dd] SAMP_LOG    SAMP_COND\n",
       "0  BH-WFS1-2A           0.0       W1         W  ...      NaN              2015-04-10      TAD  Undisturbed\n",
       "1  BH-WFS1-2A           1.0       W2         W  ...      NaN              2015-04-10      TAD  Undisturbed\n",
       "2  BH-WFS1-2A           2.0       W3         W  ...      NaN              2015-04-10      TAD  Undisturbed\n",
       "3  BH-WFS1-2A           3.0       W4         W  ...      NaN              2015-04-10      TAD  Undisturbed\n",
       "4  BH-WFS1-2A           4.0       W5         W  ...      NaN              2015-04-10      TAD  Undisturbed\n",
       "\n",
       "[5 rows x 16 columns]"
      ]
     },
     "execution_count": 18,
     "metadata": {},
     "output_type": "execute_result"
    }
   ],
   "source": [
    "agsdata.data['SAMP'].head()"
   ]
  },
  {
   "cell_type": "markdown",
   "metadata": {},
   "source": [
    "#### 3.2.2. Long verbose column headers\n",
    "\n",
    "We can automatically convert AGS column headers by setting the ```verbose_keys``` boolean to True. The ```AGSConverter``` class will make use of the dictionary ```AGS_TABLES``` to perform the conversion. Currently, not all AGS groups are encoded in ```groundhog``` but this is expanded with each release."
   ]
  },
  {
   "cell_type": "code",
   "execution_count": 19,
   "metadata": {},
   "outputs": [],
   "source": [
    "agsdata.create_dataframes(selectedgroups=['SAMP',], verbose_keys=True)"
   ]
  },
  {
   "cell_type": "markdown",
   "metadata": {},
   "source": [
    "The resulting dataframe now has readable column headers. The downside for further coding is that these headers are rather long. "
   ]
  },
  {
   "cell_type": "code",
   "execution_count": 21,
   "metadata": {},
   "outputs": [
    {
     "data": {
      "text/html": [
       "<div>\n",
       "<style scoped>\n",
       "    .dataframe tbody tr th:only-of-type {\n",
       "        vertical-align: middle;\n",
       "    }\n",
       "\n",
       "    .dataframe tbody tr th {\n",
       "        vertical-align: top;\n",
       "    }\n",
       "\n",
       "    .dataframe thead th {\n",
       "        text-align: right;\n",
       "    }\n",
       "</style>\n",
       "<table border=\"1\" class=\"dataframe\">\n",
       "  <thead>\n",
       "    <tr style=\"text-align: right;\">\n",
       "      <th></th>\n",
       "      <th>Location identifier</th>\n",
       "      <th>Depth to top of sample [m]</th>\n",
       "      <th>Sample reference</th>\n",
       "      <th>Sample type</th>\n",
       "      <th>Sample unique identifier</th>\n",
       "      <th>Depth to base of sample [m]</th>\n",
       "      <th>Date and time sample taken [yyyy-mm-dd]</th>\n",
       "      <th>Number of blows required to drive sampler</th>\n",
       "      <th>Sample container</th>\n",
       "      <th>Sample diameter [mm]</th>\n",
       "      <th>Percentage of sample recovered [%]</th>\n",
       "      <th>Sampling technique/method</th>\n",
       "      <th>Reason for sampling</th>\n",
       "      <th>Date sample described [yyyy-mm-dd]</th>\n",
       "      <th>Person responsible for sample/specimen description</th>\n",
       "      <th>Condition and representativeness of sample</th>\n",
       "    </tr>\n",
       "  </thead>\n",
       "  <tbody>\n",
       "    <tr>\n",
       "      <th>0</th>\n",
       "      <td>BH-WFS1-2A</td>\n",
       "      <td>0.0</td>\n",
       "      <td>W1</td>\n",
       "      <td>W</td>\n",
       "      <td>NaN</td>\n",
       "      <td>0.32</td>\n",
       "      <td>2015-04-10</td>\n",
       "      <td>NaN</td>\n",
       "      <td>NaN</td>\n",
       "      <td>NaN</td>\n",
       "      <td>43.0</td>\n",
       "      <td>NaN</td>\n",
       "      <td>NaN</td>\n",
       "      <td>2015-04-10</td>\n",
       "      <td>TAD</td>\n",
       "      <td>Undisturbed</td>\n",
       "    </tr>\n",
       "    <tr>\n",
       "      <th>1</th>\n",
       "      <td>BH-WFS1-2A</td>\n",
       "      <td>1.0</td>\n",
       "      <td>W2</td>\n",
       "      <td>W</td>\n",
       "      <td>NaN</td>\n",
       "      <td>1.65</td>\n",
       "      <td>2015-04-10</td>\n",
       "      <td>NaN</td>\n",
       "      <td>NaN</td>\n",
       "      <td>NaN</td>\n",
       "      <td>70.0</td>\n",
       "      <td>NaN</td>\n",
       "      <td>NaN</td>\n",
       "      <td>2015-04-10</td>\n",
       "      <td>TAD</td>\n",
       "      <td>Undisturbed</td>\n",
       "    </tr>\n",
       "    <tr>\n",
       "      <th>2</th>\n",
       "      <td>BH-WFS1-2A</td>\n",
       "      <td>2.0</td>\n",
       "      <td>W3</td>\n",
       "      <td>W</td>\n",
       "      <td>NaN</td>\n",
       "      <td>2.60</td>\n",
       "      <td>2015-04-10</td>\n",
       "      <td>NaN</td>\n",
       "      <td>NaN</td>\n",
       "      <td>NaN</td>\n",
       "      <td>67.0</td>\n",
       "      <td>NaN</td>\n",
       "      <td>NaN</td>\n",
       "      <td>2015-04-10</td>\n",
       "      <td>TAD</td>\n",
       "      <td>Undisturbed</td>\n",
       "    </tr>\n",
       "    <tr>\n",
       "      <th>3</th>\n",
       "      <td>BH-WFS1-2A</td>\n",
       "      <td>3.0</td>\n",
       "      <td>W4</td>\n",
       "      <td>W</td>\n",
       "      <td>NaN</td>\n",
       "      <td>3.65</td>\n",
       "      <td>2015-04-10</td>\n",
       "      <td>NaN</td>\n",
       "      <td>NaN</td>\n",
       "      <td>NaN</td>\n",
       "      <td>68.0</td>\n",
       "      <td>NaN</td>\n",
       "      <td>NaN</td>\n",
       "      <td>2015-04-10</td>\n",
       "      <td>TAD</td>\n",
       "      <td>Undisturbed</td>\n",
       "    </tr>\n",
       "    <tr>\n",
       "      <th>4</th>\n",
       "      <td>BH-WFS1-2A</td>\n",
       "      <td>4.0</td>\n",
       "      <td>W5</td>\n",
       "      <td>W</td>\n",
       "      <td>NaN</td>\n",
       "      <td>4.60</td>\n",
       "      <td>2015-04-10</td>\n",
       "      <td>NaN</td>\n",
       "      <td>NaN</td>\n",
       "      <td>NaN</td>\n",
       "      <td>63.0</td>\n",
       "      <td>NaN</td>\n",
       "      <td>NaN</td>\n",
       "      <td>2015-04-10</td>\n",
       "      <td>TAD</td>\n",
       "      <td>Undisturbed</td>\n",
       "    </tr>\n",
       "  </tbody>\n",
       "</table>\n",
       "</div>"
      ],
      "text/plain": [
       "  Location identifier  ...  Condition and representativeness of sample\n",
       "0          BH-WFS1-2A  ...                                 Undisturbed\n",
       "1          BH-WFS1-2A  ...                                 Undisturbed\n",
       "2          BH-WFS1-2A  ...                                 Undisturbed\n",
       "3          BH-WFS1-2A  ...                                 Undisturbed\n",
       "4          BH-WFS1-2A  ...                                 Undisturbed\n",
       "\n",
       "[5 rows x 16 columns]"
      ]
     },
     "execution_count": 21,
     "metadata": {},
     "output_type": "execute_result"
    }
   ],
   "source": [
    "agsdata.data['SAMP'].head()"
   ]
  },
  {
   "cell_type": "markdown",
   "metadata": {},
   "source": [
    "#### 3.2.3. Short verbose headers\n",
    "\n",
    "Column header conversion using short verbose names is also possible using the ```use_shorthands``` boolean. This will still provide some verbosity to the column headers while keeping the columns short. The dictionary ```AGS_TABLES_SHORTHANDS``` contains the conversion keys."
   ]
  },
  {
   "cell_type": "code",
   "execution_count": 22,
   "metadata": {},
   "outputs": [],
   "source": [
    "agsdata.create_dataframes(selectedgroups=['SAMP',], verbose_keys=True, use_shorthands=True)"
   ]
  },
  {
   "cell_type": "markdown",
   "metadata": {},
   "source": [
    "The resulting dataframe now has shorter readable column headers."
   ]
  },
  {
   "cell_type": "code",
   "execution_count": 23,
   "metadata": {},
   "outputs": [
    {
     "data": {
      "text/html": [
       "<div>\n",
       "<style scoped>\n",
       "    .dataframe tbody tr th:only-of-type {\n",
       "        vertical-align: middle;\n",
       "    }\n",
       "\n",
       "    .dataframe tbody tr th {\n",
       "        vertical-align: top;\n",
       "    }\n",
       "\n",
       "    .dataframe thead th {\n",
       "        text-align: right;\n",
       "    }\n",
       "</style>\n",
       "<table border=\"1\" class=\"dataframe\">\n",
       "  <thead>\n",
       "    <tr style=\"text-align: right;\">\n",
       "      <th></th>\n",
       "      <th>Location identifier</th>\n",
       "      <th>Depth from [m]</th>\n",
       "      <th>Sample reference</th>\n",
       "      <th>Sample type</th>\n",
       "      <th>Sample ID</th>\n",
       "      <th>Depth to [m]</th>\n",
       "      <th>Date and time sample taken [yyyy-mm-dd]</th>\n",
       "      <th>No blows</th>\n",
       "      <th>Sample container</th>\n",
       "      <th>Sample diameter [mm]</th>\n",
       "      <th>Recovery [%]</th>\n",
       "      <th>Sample technique</th>\n",
       "      <th>Reason for sampling</th>\n",
       "      <th>Date described [yyyy-mm-dd]</th>\n",
       "      <th>Logged by</th>\n",
       "      <th>Condition and representativeness of sample</th>\n",
       "    </tr>\n",
       "  </thead>\n",
       "  <tbody>\n",
       "    <tr>\n",
       "      <th>0</th>\n",
       "      <td>BH-WFS1-2A</td>\n",
       "      <td>0.0</td>\n",
       "      <td>W1</td>\n",
       "      <td>W</td>\n",
       "      <td>NaN</td>\n",
       "      <td>0.32</td>\n",
       "      <td>2015-04-10</td>\n",
       "      <td>NaN</td>\n",
       "      <td>NaN</td>\n",
       "      <td>NaN</td>\n",
       "      <td>43.0</td>\n",
       "      <td>NaN</td>\n",
       "      <td>NaN</td>\n",
       "      <td>2015-04-10</td>\n",
       "      <td>TAD</td>\n",
       "      <td>Undisturbed</td>\n",
       "    </tr>\n",
       "    <tr>\n",
       "      <th>1</th>\n",
       "      <td>BH-WFS1-2A</td>\n",
       "      <td>1.0</td>\n",
       "      <td>W2</td>\n",
       "      <td>W</td>\n",
       "      <td>NaN</td>\n",
       "      <td>1.65</td>\n",
       "      <td>2015-04-10</td>\n",
       "      <td>NaN</td>\n",
       "      <td>NaN</td>\n",
       "      <td>NaN</td>\n",
       "      <td>70.0</td>\n",
       "      <td>NaN</td>\n",
       "      <td>NaN</td>\n",
       "      <td>2015-04-10</td>\n",
       "      <td>TAD</td>\n",
       "      <td>Undisturbed</td>\n",
       "    </tr>\n",
       "    <tr>\n",
       "      <th>2</th>\n",
       "      <td>BH-WFS1-2A</td>\n",
       "      <td>2.0</td>\n",
       "      <td>W3</td>\n",
       "      <td>W</td>\n",
       "      <td>NaN</td>\n",
       "      <td>2.60</td>\n",
       "      <td>2015-04-10</td>\n",
       "      <td>NaN</td>\n",
       "      <td>NaN</td>\n",
       "      <td>NaN</td>\n",
       "      <td>67.0</td>\n",
       "      <td>NaN</td>\n",
       "      <td>NaN</td>\n",
       "      <td>2015-04-10</td>\n",
       "      <td>TAD</td>\n",
       "      <td>Undisturbed</td>\n",
       "    </tr>\n",
       "    <tr>\n",
       "      <th>3</th>\n",
       "      <td>BH-WFS1-2A</td>\n",
       "      <td>3.0</td>\n",
       "      <td>W4</td>\n",
       "      <td>W</td>\n",
       "      <td>NaN</td>\n",
       "      <td>3.65</td>\n",
       "      <td>2015-04-10</td>\n",
       "      <td>NaN</td>\n",
       "      <td>NaN</td>\n",
       "      <td>NaN</td>\n",
       "      <td>68.0</td>\n",
       "      <td>NaN</td>\n",
       "      <td>NaN</td>\n",
       "      <td>2015-04-10</td>\n",
       "      <td>TAD</td>\n",
       "      <td>Undisturbed</td>\n",
       "    </tr>\n",
       "    <tr>\n",
       "      <th>4</th>\n",
       "      <td>BH-WFS1-2A</td>\n",
       "      <td>4.0</td>\n",
       "      <td>W5</td>\n",
       "      <td>W</td>\n",
       "      <td>NaN</td>\n",
       "      <td>4.60</td>\n",
       "      <td>2015-04-10</td>\n",
       "      <td>NaN</td>\n",
       "      <td>NaN</td>\n",
       "      <td>NaN</td>\n",
       "      <td>63.0</td>\n",
       "      <td>NaN</td>\n",
       "      <td>NaN</td>\n",
       "      <td>2015-04-10</td>\n",
       "      <td>TAD</td>\n",
       "      <td>Undisturbed</td>\n",
       "    </tr>\n",
       "  </tbody>\n",
       "</table>\n",
       "</div>"
      ],
      "text/plain": [
       "  Location identifier  Depth from [m]  ... Logged by Condition and representativeness of sample\n",
       "0          BH-WFS1-2A             0.0  ...       TAD                                Undisturbed\n",
       "1          BH-WFS1-2A             1.0  ...       TAD                                Undisturbed\n",
       "2          BH-WFS1-2A             2.0  ...       TAD                                Undisturbed\n",
       "3          BH-WFS1-2A             3.0  ...       TAD                                Undisturbed\n",
       "4          BH-WFS1-2A             4.0  ...       TAD                                Undisturbed\n",
       "\n",
       "[5 rows x 16 columns]"
      ]
     },
     "execution_count": 23,
     "metadata": {},
     "output_type": "execute_result"
    }
   ],
   "source": [
    "agsdata.data['SAMP'].head()"
   ]
  },
  {
   "cell_type": "code",
   "execution_count": null,
   "metadata": {},
   "outputs": [],
   "source": []
  }
 ],
 "metadata": {
  "hide_input": false,
  "kernelspec": {
   "display_name": "Python 3 (ipykernel)",
   "language": "python",
   "name": "python3"
  },
  "language_info": {
   "codemirror_mode": {
    "name": "ipython",
    "version": 3
   },
   "file_extension": ".py",
   "mimetype": "text/x-python",
   "name": "python",
   "nbconvert_exporter": "python",
   "pygments_lexer": "ipython3",
   "version": "3.10.9"
  },
  "toc": {
   "base_numbering": 1,
   "nav_menu": {},
   "number_sections": true,
   "sideBar": true,
   "skip_h1_title": true,
   "title_cell": "Table of Contents",
   "title_sidebar": "Contents",
   "toc_cell": false,
   "toc_position": {},
   "toc_section_display": true,
   "toc_window_display": false
  },
  "varInspector": {
   "cols": {
    "lenName": 16,
    "lenType": 16,
    "lenVar": 40
   },
   "kernels_config": {
    "python": {
     "delete_cmd_postfix": "",
     "delete_cmd_prefix": "del ",
     "library": "var_list.py",
     "varRefreshCmd": "print(var_dic_list())"
    },
    "r": {
     "delete_cmd_postfix": ") ",
     "delete_cmd_prefix": "rm(",
     "library": "var_list.r",
     "varRefreshCmd": "cat(var_dic_list()) "
    }
   },
   "types_to_exclude": [
    "module",
    "function",
    "builtin_function_or_method",
    "instance",
    "_Feature"
   ],
   "window_display": false
  }
 },
 "nbformat": 4,
 "nbformat_minor": 4
}
