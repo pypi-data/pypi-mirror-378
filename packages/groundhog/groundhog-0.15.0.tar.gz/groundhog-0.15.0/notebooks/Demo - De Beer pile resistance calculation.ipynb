{
 "cells": [
  {
   "cell_type": "markdown",
   "metadata": {},
   "source": [
    "# Demo - De Beer pile resistance calculation\n",
    "\n",
    "In this demo, the pile shaft and base resistance is calculation according to De Beer's method (Belgian practice)."
   ]
  },
  {
   "cell_type": "markdown",
   "metadata": {},
   "source": [
    "## Library imports\n",
    "\n",
    "We will import the necessary libraries first."
   ]
  },
  {
   "cell_type": "code",
   "execution_count": null,
   "metadata": {},
   "outputs": [],
   "source": [
    "import numpy as np\n",
    "import os\n",
    "from IPython.display import HTML\n",
    "import pandas as pd"
   ]
  },
  {
   "cell_type": "code",
   "execution_count": null,
   "metadata": {},
   "outputs": [],
   "source": [
    "from plotly import tools, subplots\n",
    "import plotly.express as px\n",
    "import plotly.graph_objs as go\n",
    "import plotly.io as pio\n",
    "import plotly.figure_factory as ff\n",
    "from plotly.colors import DEFAULT_PLOTLY_COLORS\n",
    "from plotly.offline import init_notebook_mode\n",
    "init_notebook_mode()\n",
    "pio.templates.default = 'plotly_white'"
   ]
  },
  {
   "cell_type": "code",
   "execution_count": null,
   "metadata": {},
   "outputs": [],
   "source": [
    "from groundhog.deepfoundations.axialcapacity.debeer import DeBeerCalculation\n",
    "from groundhog.siteinvestigation.insitutests.pcpt_processing import PCPTProcessing\n",
    "from groundhog.general.soilprofile import SoilProfile"
   ]
  },
  {
   "cell_type": "markdown",
   "metadata": {},
   "source": [
    "## Pile capacity\n",
    "\n",
    "Eurocode 7 in Belgium is applied with pile capacity calculated with De Beer's method. We can apply this method to provide the entry values for the Eurocode 7 factoring procedure. With need to calculate the pile capacity for each CPT trace."
   ]
  },
  {
   "cell_type": "markdown",
   "metadata": {},
   "source": [
    "### Pile base capacity\n",
    "\n",
    "#### Unit end bearing\n",
    "\n",
    "The unit end bearing is calculated by processing the CPT trace using the De Beer end bearing calculation encoded in the Python package ```groundhog```.\n",
    "\n",
    "De Beer's method accounts for scaling from a CPT to a pile in a rigorous manner. The CPT is treated as a model pile and the following effects are corrected for:\n",
    "\n",
    "   - The pile \"feels\" the presence of the free surface up to deeper depths\n",
    "   - The stress level on the failure surface induced by the pile is higher than on that for the CPT\n",
    "   - The pile \"feels\" the effects of stronger and weaker layers before the CPT does\n",
    "\n",
    "We can run the calculation and derive the value of unit end bearing $ q_{DeBeer} $ at 12m depth.\n",
    "\n",
    "First, we can load the CPT data."
   ]
  },
  {
   "cell_type": "code",
   "execution_count": null,
   "metadata": {},
   "outputs": [],
   "source": [
    "cpt = PCPTProcessing(title=\"CPT\")\n",
    "cpt.load_excel(\"Data/Koppejan_DeBeer_demo.xlsx\")"
   ]
  },
  {
   "cell_type": "markdown",
   "metadata": {},
   "source": [
    "The CPT data can be plotted:"
   ]
  },
  {
   "cell_type": "code",
   "execution_count": null,
   "metadata": {},
   "outputs": [],
   "source": [
    "cpt.plot_raw_pcpt(qc_range=(0, 20), qc_tick=2)"
   ]
  },
  {
   "cell_type": "markdown",
   "metadata": {},
   "source": [
    "We can now create a De Beer calculation for a 0.4m diameter pile:"
   ]
  },
  {
   "cell_type": "code",
   "execution_count": null,
   "metadata": {},
   "outputs": [],
   "source": [
    "debeer_cpt = DeBeerCalculation(\n",
    "    depth=cpt.data[\"z [m]\"],\n",
    "    qc=cpt.data[\"qc [MPa]\"],\n",
    "    diameter_pile=0.4)"
   ]
  },
  {
   "cell_type": "markdown",
   "metadata": {},
   "source": [
    "We shouldn't forget to resample the data to a 20cm grid, since De Beer's method is based on data obtained with the mechanical cone."
   ]
  },
  {
   "cell_type": "code",
   "execution_count": null,
   "metadata": {},
   "outputs": [],
   "source": [
    "debeer_cpt.resample_data(spacing=0.2)"
   ]
  },
  {
   "cell_type": "markdown",
   "metadata": {},
   "source": [
    "Based on the CPT visualisation, a layering can be assigned to both traces. Note that the soil types have to be the ones defined in Table 4 of the paper <i>Design of piles - Belgian practice</i>."
   ]
  },
  {
   "cell_type": "code",
   "execution_count": null,
   "metadata": {},
   "outputs": [],
   "source": [
    "soilprofile = SoilProfile({\n",
    "    \"Depth from [m]\": [0, 2, 8.5],\n",
    "    \"Depth to [m]\": [2, 8.5, 14],\n",
    "    'Soil type': ['Sand', 'Clay', 'Sand']\n",
    "})\n",
    "debeer_cpt.set_soil_layers(soilprofile)"
   ]
  },
  {
   "cell_type": "markdown",
   "metadata": {},
   "source": [
    "De Beer's algorithm is then simply executed using the ```groundhog``` code:"
   ]
  },
  {
   "cell_type": "code",
   "execution_count": null,
   "metadata": {},
   "outputs": [],
   "source": [
    "debeer_cpt.calculate_base_resistance()"
   ]
  },
  {
   "cell_type": "markdown",
   "metadata": {},
   "source": [
    "The unit base resistance at 12m depth can be interpolated from the results:"
   ]
  },
  {
   "cell_type": "code",
   "execution_count": null,
   "metadata": {},
   "outputs": [],
   "source": [
    "qb = np.interp(12, debeer_cpt.depth_qb, debeer_cpt.qb)"
   ]
  },
  {
   "cell_type": "markdown",
   "metadata": {},
   "source": [
    "The construction can be plotted:"
   ]
  },
  {
   "cell_type": "code",
   "execution_count": null,
   "metadata": {},
   "outputs": [],
   "source": [
    "debeer_cpt.plot_base_resistance(selected_depth=12)"
   ]
  },
  {
   "cell_type": "code",
   "execution_count": null,
   "metadata": {},
   "outputs": [],
   "source": [
    "HTML(\"\"\"\n",
    "The unit end bearing is %.2fMPa.\"\"\" % (qb))"
   ]
  },
  {
   "cell_type": "markdown",
   "metadata": {},
   "source": [
    "#### Pile base area\n",
    "\n",
    "The pile is an open-ended tubular pile and the questions arises whether the pile is plugged or unplugged. Because the pile terminates in sand and research has shows that arching effects lead to plugging in sand, we can assume that the pile will be plugged. Therefore the base area is simply the full cross-sectional area of the pile."
   ]
  },
  {
   "cell_type": "code",
   "execution_count": null,
   "metadata": {},
   "outputs": [],
   "source": [
    "DIAMETER = 0.4  # m\n",
    "area_base = 0.25 * np.pi * (DIAMETER ** 2.0)\n",
    "HTML(\"The base area $ A_{base} $ = %.3fm$^2$\" % area_base)"
   ]
  },
  {
   "cell_type": "markdown",
   "metadata": {},
   "source": [
    "#### Toe quality and soil type\n",
    "\n",
    "The pile terminates in sand, which is not the tertiary clay mentioned in the table with values for $ \\alpha_b $. \n",
    "\n",
    "We have a steel open-ended pile with plugging. We can read from the table that $ \\alpha_b $ = 1, both for tertiary clay and other soil types. For this pile type, the shaft factor $ \\alpha_s $ = 0.6 for all soil types. We can set these factors for the pile calculations:"
   ]
  },
  {
   "cell_type": "code",
   "execution_count": null,
   "metadata": {},
   "outputs": [],
   "source": [
    "alpha_b = 1\n",
    "debeer_cpt.set_shaft_base_factors(\n",
    "    alpha_b_tertiary_clay=alpha_b, alpha_b_other=alpha_b,\n",
    "    alpha_s_tertiary_clay=0.6, alpha_s_other=0.6)"
   ]
  },
  {
   "cell_type": "markdown",
   "metadata": {},
   "source": [
    "#### Scale-dependent soil shear strength\n",
    "\n",
    "We are not in tertiary overconsolidated clay, so we can take $ \\epsilon_b $ = 1. The methods of ```DeBeerCalculation``` check for this in each layer automatically."
   ]
  },
  {
   "cell_type": "code",
   "execution_count": null,
   "metadata": {},
   "outputs": [],
   "source": [
    "epsilon_b = 1.0"
   ]
  },
  {
   "cell_type": "markdown",
   "metadata": {},
   "source": [
    "#### Toe shape in the horizontal plane\n",
    "\n",
    "The toe shape is circular, so the coefficient $ \\beta $ is also equal to 1."
   ]
  },
  {
   "cell_type": "code",
   "execution_count": null,
   "metadata": {},
   "outputs": [],
   "source": [
    "beta_b = 1.0"
   ]
  },
  {
   "cell_type": "markdown",
   "metadata": {},
   "source": [
    "#### Toe shape in the vertical plane\n",
    "\n",
    "The pile does not have an enlarged base and therefore the coefficient $ \\lambda $ is simply equal to 1."
   ]
  },
  {
   "cell_type": "code",
   "execution_count": null,
   "metadata": {},
   "outputs": [],
   "source": [
    "lambda_b = 1.0"
   ]
  },
  {
   "cell_type": "markdown",
   "metadata": {},
   "source": [
    "#### Base capacity\n",
    "\n",
    "With all coefficients being defined, we can calculate the base capacity for each pile:\n",
    "\n",
    "$$ R_b = \\alpha_b \\cdot \\epsilon_b \\cdot \\beta \\cdot \\lambda \\cdot A_b \\cdot q_{DeBeer} $$\n",
    "\n",
    "We can calculate the base resistance."
   ]
  },
  {
   "cell_type": "code",
   "execution_count": null,
   "metadata": {},
   "outputs": [],
   "source": [
    "Rb = alpha_b * epsilon_b * beta_b * lambda_b * area_base * (1000.0 * qb) # kN\n",
    "\n",
    "HTML(\"\"\"\n",
    "The base resistance from the CPT trace $ R_{b} $ = %.1fkN\"\"\" % (Rb))"
   ]
  },
  {
   "cell_type": "markdown",
   "metadata": {},
   "source": [
    "### Shaft capacity\n",
    "\n",
    "The shaft capacity can be calculated with the following formula:\n",
    "\n",
    "$$ R_s = \\chi_s \\cdot \\sum \\alpha_s \\cdot \\Delta h_i \\cdot q_s $$\n",
    "\n",
    "To apply this formula, we need to subdivide the $ q_c $ trace in layers with thicknesses $ \\Delta h_i $ and determine the average $ q_c $ in each layer. We can then apply the conversion from $ q_c $ to unit skin friction $ q_c $ according to Table 1.\n",
    "\n",
    "<br><center><b>Table 1: Conversion from $ q_c $ to $ q_s $</b></center>\n",
    "<img src=\"Images/skin_friction_DeBeer.png\" width=600>"
   ]
  },
  {
   "cell_type": "markdown",
   "metadata": {},
   "source": [
    "#### Layering and cone resistance averaging\n",
    "\n",
    "The layering is already included in the ```DeBeerCalculation``` objects. We can simply execute the ```calculate_average_qc``` method. For, a correction of the cone resistance values for the cone type is carried out (See Table 1 of the publication <i>Design of piles - Belgian practice</i>).\n",
    "\n",
    "Note that we will automate the calculations by looping over the ```DeBeerCalculation``` objects and executing the calculations for each one. This prevents us from having to write this code twice. This becomes especially useful when a large number of CPTs are being considered for the pile resistance calculation."
   ]
  },
  {
   "cell_type": "code",
   "execution_count": null,
   "metadata": {},
   "outputs": [],
   "source": [
    "debeer_cpt.correct_shaft_qc(cone_type='E')\n",
    "debeer_cpt.calculate_average_qc()\n",
    "debeer_cpt.calculate_unit_shaft_friction()"
   ]
  },
  {
   "cell_type": "markdown",
   "metadata": {},
   "source": [
    "The unit shaft friction can be plotted vs depth."
   ]
  },
  {
   "cell_type": "code",
   "execution_count": null,
   "metadata": {},
   "outputs": [],
   "source": [
    "debeer_cpt.plot_unit_shaft_friction()"
   ]
  },
  {
   "cell_type": "markdown",
   "metadata": {},
   "source": [
    "The shaft capacity is now obtained by integrating the unit shaft friction in each layer over the depth and the circumference.\n",
    "\n",
    "The method ```calculate_pile_resistance``` performs this automatically and returns the pile resistance."
   ]
  },
  {
   "cell_type": "code",
   "execution_count": null,
   "metadata": {},
   "outputs": [],
   "source": [
    "debeer_cpt.calculate_pile_resistance(\n",
    "    pile_penetration=12,\n",
    "    base_area=area_base,\n",
    "    circumference=np.pi * DIAMETER,\n",
    "    beta_base=beta_b, lambda_base=lambda_b)"
   ]
  },
  {
   "cell_type": "markdown",
   "metadata": {},
   "source": [
    "To verify the calculation numerically, we can show the calculation table for each CPT. The attribute ```layering``` contains the calculation of shaft resistance per layer. "
   ]
  },
  {
   "cell_type": "code",
   "execution_count": null,
   "metadata": {},
   "outputs": [],
   "source": [
    "debeer_cpt.layering"
   ]
  },
  {
   "cell_type": "markdown",
   "metadata": {},
   "source": [
    "The pile base, shaft and total calculated capacity can then be obtained from the calculation objects and printed to a table."
   ]
  },
  {
   "cell_type": "code",
   "execution_count": null,
   "metadata": {},
   "outputs": [],
   "source": [
    "HTML(\n",
    "\"\"\"\n",
    "Calculated shaft resistance is %.1fkN, Calculated base resistance is %.1fkN,\n",
    "Calculated total resistance is %.1fkN, \n",
    "\"\"\" % (debeer_cpt.Rs, debeer_cpt.Rb, debeer_cpt.Rc))"
   ]
  },
  {
   "cell_type": "code",
   "execution_count": null,
   "metadata": {},
   "outputs": [],
   "source": []
  }
 ],
 "metadata": {
  "hide_input": false,
  "kernelspec": {
   "display_name": "Python 3 (ipykernel)",
   "language": "python",
   "name": "python3"
  },
  "language_info": {
   "codemirror_mode": {
    "name": "ipython",
    "version": 3
   },
   "file_extension": ".py",
   "mimetype": "text/x-python",
   "name": "python",
   "nbconvert_exporter": "python",
   "pygments_lexer": "ipython3",
   "version": "3.8.15"
  },
  "toc": {
   "base_numbering": 1,
   "nav_menu": {},
   "number_sections": true,
   "sideBar": true,
   "skip_h1_title": true,
   "title_cell": "Table of Contents",
   "title_sidebar": "Contents",
   "toc_cell": false,
   "toc_position": {},
   "toc_section_display": true,
   "toc_window_display": true
  }
 },
 "nbformat": 4,
 "nbformat_minor": 2
}
