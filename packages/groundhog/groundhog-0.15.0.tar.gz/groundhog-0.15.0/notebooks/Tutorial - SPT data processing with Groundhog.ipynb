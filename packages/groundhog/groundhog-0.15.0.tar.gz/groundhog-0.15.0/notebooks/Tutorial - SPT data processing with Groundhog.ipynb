{
 "cells": [
  {
   "cell_type": "markdown",
   "metadata": {},
   "source": [
    "# Tutorial - SPT data processing with Groundhog\n",
    "\n",
    "Since version v0.6.0 an SPT processing tool has been created within the ```groundhog``` package. This tool is made available to allow rapid import of SPT data, basic processing and checking of the sensitivity to processing parameters. Moreover, correlations between SPT properties and other soil mechanical parameters can easily be applied.\n",
    "\n",
    "In this tutorial, the processing of SPT data is covered. This consists of stress and energy corrections and application of soil parameter correlations."
   ]
  },
  {
   "cell_type": "code",
   "execution_count": null,
   "metadata": {},
   "outputs": [],
   "source": [
    "from plotly import tools, subplots\n",
    "import plotly.express as px\n",
    "import plotly.graph_objs as go\n",
    "import plotly.io as pio\n",
    "import plotly.figure_factory as ff\n",
    "from plotly.colors import DEFAULT_PLOTLY_COLORS\n",
    "from plotly.offline import download_plotlyjs, init_notebook_mode, plot, iplot\n",
    "init_notebook_mode()\n",
    "pio.templates.default = 'plotly_white'\n",
    "pio.templates['plotly'].layout['autosize'] = False\n",
    "for key in pio.templates.keys():\n",
    "    pio.templates[key].layout['autosize'] = False"
   ]
  },
  {
   "cell_type": "markdown",
   "metadata": {},
   "source": [
    "In this tutorial, we will also make use of the ```SoilProfile``` class which encodes functionality for soil profile processing."
   ]
  },
  {
   "cell_type": "code",
   "execution_count": null,
   "metadata": {},
   "outputs": [],
   "source": [
    "from groundhog.siteinvestigation.insitutests.spt_processing import SPTProcessing\n",
    "from groundhog.general.soilprofile import SoilProfile"
   ]
  },
  {
   "cell_type": "markdown",
   "metadata": {},
   "source": [
    "## SPT import\n",
    "\n",
    "We will work with SPT data specified in an Excel file. This is the result of data imported from gINT. See ```Tutorial - gINT data import```.\n",
    "\n",
    "The data is loaded using the ```load_excel``` method. A dataframe is created from Excel data and added as the ```.data``` attribute of the ```SPTProcessing``` object.\n",
    "\n",
    "Note that the depth column is expected as ```'z [m]'``` by default. If this is not the case, the column key of the column containing depth values needs to be supplied (```'Depth'```) in this case. Depths are given in ft in this case. To convert to meters, a multiplier of 0.3048 needs to be specified for ```z_multiplier```.\n",
    "\n",
    "The raw SPT N number (uncorrected) is expected as ```'N [-]'```. If this is not the case, the argument ```N_key``` can be specified to tell ```groundhog``` where to find the SPT N number."
   ]
  },
  {
   "cell_type": "code",
   "execution_count": null,
   "metadata": {},
   "outputs": [],
   "source": [
    "spt = SPTProcessing(title=\"Example SPT\")"
   ]
  },
  {
   "cell_type": "code",
   "execution_count": null,
   "metadata": {},
   "outputs": [],
   "source": [
    "spt.load_excel(path=\"Output/spt_example.xlsx\", z_key='Depth', z_multiplier=0.3048, N_key='SPT N')\n",
    "spt.data.head()"
   ]
  },
  {
   "cell_type": "markdown",
   "metadata": {},
   "source": [
    "The raw SPT data can be visualized with the ```plot_raw_spt``` method."
   ]
  },
  {
   "cell_type": "code",
   "execution_count": null,
   "metadata": {},
   "outputs": [],
   "source": [
    "spt.plot_raw_spt()"
   ]
  },
  {
   "cell_type": "markdown",
   "metadata": {},
   "source": [
    "## Setting SPT sampler and layer properties\n",
    "\n",
    "The SPT sampler and layer properties can be set based on the SPT system used and the layering identified. A ```SoilProfile``` object can be created for these properties. A basic structure with SPT sampler properties is available in the ```groundhog``` package."
   ]
  },
  {
   "cell_type": "code",
   "execution_count": null,
   "metadata": {},
   "outputs": [],
   "source": [
    "from groundhog.siteinvestigation.insitutests.spt_processing import DEFAULT_SPT_PROPERTIES\n",
    "DEFAULT_SPT_PROPERTIES"
   ]
  },
  {
   "cell_type": "markdown",
   "metadata": {},
   "source": [
    "The SPT sampler properties can be customised or an entirely new ```SoilProfile``` object can be defined. Here, we will keep the default properties.\n",
    "\n",
    "Note that direct specification of the factor $ \\eta_H, \\ \\eta_B, \\ \\eta_S $ and $ \\eta_R $ will override the rule-based selection described in the documentation of the function ```spt_N60_correction```."
   ]
  },
  {
   "cell_type": "markdown",
   "metadata": {},
   "source": [
    "A layering definition also needs to be defined through a ```SoilProfile``` object. The total unit weight needs to be specified for the vertical stress calculation. Note that linear variations over the layers are possible through the use of ```from``` and ```to``` in the column keys.\n",
    "\n",
    "Note that we need to specify the unit used in case of a ```SoilProfile``` with depths defined in feet."
   ]
  },
  {
   "cell_type": "code",
   "execution_count": null,
   "metadata": {},
   "outputs": [],
   "source": [
    "from groundhog.general.soilprofile import read_excel"
   ]
  },
  {
   "cell_type": "code",
   "execution_count": null,
   "metadata": {},
   "outputs": [],
   "source": [
    "layering = read_excel('Data/spt_example_layering.xlsx', unit='ft')\n",
    "layering"
   ]
  },
  {
   "cell_type": "markdown",
   "metadata": {},
   "source": [
    "The depth reference needs to be changed to meters. This is easily done using the method ```.convert_depth_reference``` for which the new unit (meters in this case) and the conversion factor needs to be specified."
   ]
  },
  {
   "cell_type": "code",
   "execution_count": null,
   "metadata": {},
   "outputs": [],
   "source": [
    "layering.convert_depth_reference(newunit='m', multiplier=0.3048)\n",
    "layering"
   ]
  },
  {
   "cell_type": "markdown",
   "metadata": {},
   "source": [
    "The spt sampler and layer properties can be mapped to the cone data grid using the ```map_properties``` method:"
   ]
  },
  {
   "cell_type": "code",
   "execution_count": null,
   "metadata": {},
   "outputs": [],
   "source": [
    "spt.map_properties(layer_profile=layering, spt_profile=DEFAULT_SPT_PROPERTIES)"
   ]
  },
  {
   "cell_type": "markdown",
   "metadata": {},
   "source": [
    "Following mapping of the layering, the plot with raw SPT data will also include the selected layers."
   ]
  },
  {
   "cell_type": "code",
   "execution_count": null,
   "metadata": {},
   "outputs": [],
   "source": [
    "spt.plot_raw_spt()"
   ]
  },
  {
   "cell_type": "markdown",
   "metadata": {},
   "source": [
    "The data also contains vertical total and effective stress."
   ]
  },
  {
   "cell_type": "code",
   "execution_count": null,
   "metadata": {},
   "outputs": [],
   "source": [
    "spt.data"
   ]
  },
  {
   "cell_type": "markdown",
   "metadata": {},
   "source": [
    "## Correcting SPT data\n",
    "\n",
    "SPT can be corrected using two different corrections:\n",
    "\n",
    "   - Corrections for vertical effective stress in granular soils ($ N_1 $). The correction according to Liao & Whitman  (1986) is encoded.\n",
    "   - Corrections for energy ratio: If a different energy ratio is used, the measured values are corrected to an SPT number for an energy ratio of 60 ($ N_{60} $). Recommendations according to Seed et al. (1985) and Skempton (1986) are calculated based on the properties of the SPT testing. However, the correction factors can also be specified directly.\n",
    "   \n",
    "Note that the energy correction is applied after the correction for vertical effective stress in granular soils. The resulting quantity is calculated as $ (N_1)_{60} $.\n",
    "\n",
    "These corrections are applied as correlations using the ```.apply_correlation``` method."
   ]
  },
  {
   "cell_type": "markdown",
   "metadata": {},
   "source": [
    "### Correction for stress level according to Liao & Whitman (1986)\n",
    "\n",
    "The correction is defined as:\n",
    "\n",
    "$$ N_1 = C_N \\cdot N $$\n",
    "\n",
    "$$ C_N = \\left[ \\frac{1}{ \\left( \\frac{\\sigma_{vo}^{\\prime}}{P_a} \\right) } \\right]^{0.5} $$\n",
    "\n",
    "We will save both $ N_1 $ and $ C_N $ in the ```.data``` attribute. We will only apply this for the granular soil (silt and possibly siltstone in this case)."
   ]
  },
  {
   "cell_type": "code",
   "execution_count": null,
   "metadata": {},
   "outputs": [],
   "source": [
    "spt.apply_correlation(\n",
    "    name='Overburden correction Liao and Whitman (1986)',\n",
    "    outputs={'CN [-]': 'CN [-]', 'N1 [-]': 'N1 [-]'}, apply_for_soiltypes=['SILT', 'SILTSTONE'])\n",
    "spt.data[['z [m]', 'Soil type', 'N [-]', 'CN [-]', 'N1 [-]']]"
   ]
  },
  {
   "cell_type": "markdown",
   "metadata": {},
   "source": [
    "We can see that the biggest corrections happen for the shallowest data."
   ]
  },
  {
   "cell_type": "markdown",
   "metadata": {},
   "source": [
    "### Energy corrections\n",
    "\n",
    "The energy correctios happen according to the following formula:\n",
    "\n",
    "$$ N_{60} = \\frac{N \\cdot \\eta_H \\cdot \\eta_B \\cdot \\eta_S \\cdot \\eta_R}{60} $$\n",
    "\n",
    "The $ \\eta $ factors can either be derived from the properties of the SPT system or by direct specification of the factors in the SPT properties profile.\n",
    "\n",
    "The energy correction is again applied using the ```.apply_correlation``` method."
   ]
  },
  {
   "cell_type": "code",
   "execution_count": null,
   "metadata": {},
   "outputs": [],
   "source": [
    "spt.apply_correlation(\n",
    "    name='N60 correction',\n",
    "    outputs={'N60 [-]': 'N60 [-]'})\n",
    "spt.data[['z [m]', 'Soil type', 'N [-]', 'CN [-]', 'N1 [-]', 'N60 [-]']]"
   ]
  },
  {
   "cell_type": "markdown",
   "metadata": {},
   "source": [
    "The data shows that the correction is mainly influenced by the rod length.\n",
    "\n",
    "We can also calculate $ (N_1)_{60} $ according to the following formula:\n",
    "\n",
    "$$ (N_1)_{60} = C_N \\cdot N_{60} $$"
   ]
  },
  {
   "cell_type": "code",
   "execution_count": null,
   "metadata": {},
   "outputs": [],
   "source": [
    "spt.data['N1_60 [-]'] = spt.data['CN [-]'] * spt.data['N60 [-]']\n",
    "spt.data[['z [m]', 'Soil type', 'N [-]', 'CN [-]', 'N1 [-]', 'N60 [-]', 'N1_60 [-]']]"
   ]
  },
  {
   "cell_type": "markdown",
   "metadata": {},
   "source": [
    "## Applying correlations to SPT data"
   ]
  },
  {
   "cell_type": "markdown",
   "metadata": {},
   "source": [
    "Correlations can be applied to the processed SPT data using method ```apply_correlation``` with the keys outlined in the documentation. For example ```'Relative density Kulhawy and Mayne (1990)'``` calculates the relative density of granular soil according to Kulhawy & Mayne (1990). ```'Undrained shear strength Salgado (2008)'``` calculates undrained shear strength according to Salgado (2008). \n",
    "\n",
    "Note that these correlations often take into account an index property measured in the laboratory (e.g. $ d_{50} $ for relative density and plasticity index for undrained shear strength). These properties can be specified either in the Excel file with data which is imported. \n",
    "\n",
    "The method argument ```outkey``` is the name of the column in the resulting dataframe. The method argument ```resultkey``` is the key in the output dictionary of the function which needs to be taken. For example, the function ```relativedensity_spt_kulhawymayne``` has the key ```Dr [pct]``` in the result dictionary. This key needs to be selected.\n",
    "\n",
    "Using the ```apply_for_soiltypes``` keyword arguments, we can limit the application of the correlation to specific soil types. Here, we will apply the correlation of the undrained shear strength correlation to clay and the relative density correlation to silt and siltstone.\n",
    "\n",
    "Full explanation on the different correlations is provided in the ```groundhog``` documentation. We can list the available correlations. More correlations are being added to ```groundhog``` with each new release."
   ]
  },
  {
   "cell_type": "code",
   "execution_count": null,
   "metadata": {},
   "outputs": [],
   "source": [
    "from groundhog.siteinvestigation.insitutests.spt_processing import CORRELATIONS\n",
    "list(CORRELATIONS.keys())"
   ]
  },
  {
   "cell_type": "markdown",
   "metadata": {},
   "source": [
    "We will first specify $ d_{50} $ and plasticity index."
   ]
  },
  {
   "cell_type": "code",
   "execution_count": null,
   "metadata": {},
   "outputs": [],
   "source": [
    "spt.data.loc[1, 'PI [%]'] = 30\n",
    "spt.data.loc[2:, 'd50 [mm]'] = 0.01\n",
    "\n",
    "spt.data"
   ]
  },
  {
   "cell_type": "markdown",
   "metadata": {},
   "source": [
    "We can now apply the relative density correlation."
   ]
  },
  {
   "cell_type": "code",
   "execution_count": null,
   "metadata": {},
   "outputs": [],
   "source": [
    "spt.apply_correlation(\n",
    "    'Relative density Kulhawy and Mayne (1990)', outputs={'Dr [pct]': 'Dr [pct]'},\n",
    "    apply_for_soiltypes=['SILT', 'SILTSTONE'])\n",
    "spt.apply_correlation(\n",
    "    'Undrained shear strength Salgado (2008)', outputs={'Su [kPa]': 'Su [kPa]'},\n",
    "    apply_for_soiltypes=['CLAY',])"
   ]
  },
  {
   "cell_type": "markdown",
   "metadata": {},
   "source": [
    "The calculated properties can be visualized with a ```LogPlot```. The keys to be plotted in each panel need to be provided in the ``add_trace`` method. In the example below, the first panel contains ```N [-]```, ```N60 [-]``` and ``N1_60 [-]``, the second ```Dr [pct]```. The third panel contains $ S_{u} $."
   ]
  },
  {
   "cell_type": "code",
   "execution_count": null,
   "metadata": {},
   "outputs": [],
   "source": [
    "from groundhog.general.plotting import LogPlot"
   ]
  },
  {
   "cell_type": "code",
   "execution_count": null,
   "metadata": {},
   "outputs": [],
   "source": [
    "spt_processed_plot = LogPlot(layering, no_panels=3, fillcolordict={\n",
    "        'Asphalt': 'black', 'GRAVEL': 'lightgray', 'CLAY': 'brown', 'SILT': 'lightyellow', 'SILTSTONE': 'grey'})\n",
    "spt_processed_plot.add_trace(\n",
    "    x=spt.data['N [-]'],\n",
    "    z=spt.data['z [m]'],\n",
    "    name='N',\n",
    "    showlegend=True,\n",
    "    mode='markers',\n",
    "    panel_no=1)\n",
    "spt_processed_plot.add_trace(\n",
    "    x=spt.data['N60 [-]'],\n",
    "    z=spt.data['z [m]'],\n",
    "    name='N60',\n",
    "    showlegend=True,\n",
    "    mode='markers',\n",
    "    panel_no=1)\n",
    "spt_processed_plot.add_trace(\n",
    "    x=spt.data['N1_60 [-]'],\n",
    "    z=spt.data['z [m]'],\n",
    "    name='N1_60',\n",
    "    showlegend=True,\n",
    "    mode='markers',\n",
    "    panel_no=1)\n",
    "spt_processed_plot.add_trace(\n",
    "    x=spt.data['Dr [pct]'],\n",
    "    z=spt.data['z [m]'],\n",
    "    name='Dr',\n",
    "    showlegend=False,\n",
    "    mode='markers',\n",
    "    panel_no=2)\n",
    "spt_processed_plot.add_trace(\n",
    "    x=spt.data['Su [kPa]'],\n",
    "    z=spt.data['z [m]'],\n",
    "    name='Su',\n",
    "    showlegend=False,\n",
    "    mode='markers',\n",
    "    panel_no=3)\n",
    "spt_processed_plot.set_xaxis(title=r'$ N, \\ N_{60} \\ \\text{[-]} $', panel_no=1)\n",
    "spt_processed_plot.set_xaxis(title=r'$ D_r \\ \\text{[%]} $', panel_no=2)\n",
    "spt_processed_plot.set_xaxis(title=r'$ S_u \\ \\text{[kPa]} $', panel_no=3)\n",
    "spt_processed_plot.set_zaxis(title=r'$ z \\ \\text{[m]} $', range=(11, 0))\n",
    "spt_processed_plot.show()"
   ]
  },
  {
   "cell_type": "markdown",
   "metadata": {},
   "source": [
    "## Conclusions and outlook\n",
    "\n",
    "The ```groundhog``` package allows processing of SPT data. In the future, more correlations will be added. Feel free to suggest additional functionality by contacting the package the author."
   ]
  },
  {
   "cell_type": "code",
   "execution_count": null,
   "metadata": {},
   "outputs": [],
   "source": []
  }
 ],
 "metadata": {
  "hide_input": false,
  "kernelspec": {
   "display_name": "Python 3 (ipykernel)",
   "language": "python",
   "name": "python3"
  },
  "language_info": {
   "codemirror_mode": {
    "name": "ipython",
    "version": 3
   },
   "file_extension": ".py",
   "mimetype": "text/x-python",
   "name": "python",
   "nbconvert_exporter": "python",
   "pygments_lexer": "ipython3",
   "version": "3.10.9"
  },
  "toc": {
   "base_numbering": 1,
   "nav_menu": {},
   "number_sections": true,
   "sideBar": true,
   "skip_h1_title": true,
   "title_cell": "Table of Contents",
   "title_sidebar": "Contents",
   "toc_cell": false,
   "toc_position": {},
   "toc_section_display": true,
   "toc_window_display": true
  }
 },
 "nbformat": 4,
 "nbformat_minor": 4
}
