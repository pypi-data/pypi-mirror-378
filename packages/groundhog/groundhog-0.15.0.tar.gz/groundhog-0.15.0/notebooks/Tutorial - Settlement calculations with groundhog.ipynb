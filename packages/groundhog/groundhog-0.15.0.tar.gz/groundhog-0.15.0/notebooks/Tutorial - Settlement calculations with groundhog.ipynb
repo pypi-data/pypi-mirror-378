{
 "cells": [
  {
   "cell_type": "markdown",
   "metadata": {},
   "source": [
    "# Tutorial - Settlement calculations with ```groundhog```\n",
    "\n",
    "```groundhog``` contains functionality to analyse the settlement of foundations under applied loads. Elastic stress solutions are available for strip foundation, circular foundations and rectangular foundations.\n",
    "\n",
    "Moreover, the basic functionality of ```groundhog``` for working with soil profiles and rapidly deriving correlations can be illustrated in this tutorial.\n",
    "\n",
    "In this example, we will derive the compression index $ C_c $ and the recompression index $ C_r $ based on measured unit weights for a saturated cohesive soil. We will use these values to calculate the primary consolidation settlement beneath a strip footing, circular footing and rectangular footing."
   ]
  },
  {
   "cell_type": "markdown",
   "metadata": {},
   "source": [
    "## Library imports"
   ]
  },
  {
   "cell_type": "code",
   "execution_count": null,
   "metadata": {},
   "outputs": [],
   "source": [
    "import pandas as pd\n",
    "import numpy as np\n",
    "import warnings\n",
    "warnings.filterwarnings('ignore')"
   ]
  },
  {
   "cell_type": "code",
   "execution_count": null,
   "metadata": {},
   "outputs": [],
   "source": [
    "import plotly.graph_objs as go\n",
    "from plotly.offline import init_notebook_mode\n",
    "init_notebook_mode()"
   ]
  },
  {
   "cell_type": "markdown",
   "metadata": {},
   "source": [
    "## Selection of soil parameters\n",
    "\n",
    "### Loading unit weight data\n",
    "\n",
    "Two data files are provided to specify a distribution of unit weight vs depth. Bulk unit weight $ \\gamma $ has been derived from a volume mass calculation and has also been derived from water content (for a saturated soil) using the following relation:\n",
    "\n",
    "$$ \\gamma = \\left( \\frac{G_s \\cdot (1 + w)}{1 + w \\cdot G_s} \\right) \\cdot \\gamma_w $$"
   ]
  },
  {
   "cell_type": "code",
   "execution_count": null,
   "metadata": {},
   "outputs": [],
   "source": [
    "uw_data = pd.read_excel(\"Data/demo_settlement_uw.xlsx\")"
   ]
  },
  {
   "cell_type": "markdown",
   "metadata": {},
   "source": [
    "We can plot this data vs depth. We can see there is a reasonable amount of scatter in the first 0.5m."
   ]
  },
  {
   "cell_type": "code",
   "execution_count": null,
   "metadata": {},
   "outputs": [],
   "source": [
    "import plotly.express as px\n",
    "fig = px.scatter(uw_data, x='Bulk unit weight [kN/m3]', y='z [m]', color='Method')\n",
    "fig['layout']['xaxis1'].update(title='Bulk unit weight [kN/m3]', side='top', anchor='y', range=(12, 20))\n",
    "fig['layout']['yaxis1'].update(title='Depth below mudline [m]', autorange='reversed')\n",
    "fig.show()"
   ]
  },
  {
   "cell_type": "markdown",
   "metadata": {},
   "source": [
    "### Definition of a soil profile and bulk unit weight selection\n",
    "\n",
    "```groundhog``` allows soil profile manipulations through the ```SoilProfile``` object. We can create a ```SoilProfile``` for soil parameter selection.\n",
    "\n",
    "Initially, we will model a profile with a 1m thick top layer overlying a layer extending to 2m depth. Below 2m, the unit weight increases further, so another layer transition is selected at 2m depth."
   ]
  },
  {
   "cell_type": "code",
   "execution_count": null,
   "metadata": {},
   "outputs": [],
   "source": [
    "from groundhog.general.soilprofile import SoilProfile"
   ]
  },
  {
   "cell_type": "markdown",
   "metadata": {},
   "source": [
    "We can define the soil profile from a Python dictionary containing an array with the depths of the top of each layer, an array with the bottom of each layer and an array with the soil type of each layer."
   ]
  },
  {
   "cell_type": "code",
   "execution_count": null,
   "metadata": {},
   "outputs": [],
   "source": [
    "sp = SoilProfile({\n",
    "    \"Depth from [m]\": [0, 0.5, 2],\n",
    "    \"Depth to [m]\": [0.5, 2, 3.5],\n",
    "    \"Soil type\": [\"CLAY\", \"CLAY\", \"CLAY\"]\n",
    "})\n",
    "sp"
   ]
  },
  {
   "cell_type": "markdown",
   "metadata": {},
   "source": [
    "The ```SoilProfile``` object has a ```selection_soilparameter``` which allows an automatic first eastimate of soil parameters in a profile. \n",
    "\n",
    "We will make an estimate based on the test data provided. By default, the average trend will be selected."
   ]
  },
  {
   "cell_type": "code",
   "execution_count": null,
   "metadata": {},
   "outputs": [],
   "source": [
    "sp.selection_soilparameter(\n",
    "    'Total unit weight [kN/m3]', depths=uw_data['z [m]'], values=uw_data['Bulk unit weight [kN/m3]'])"
   ]
  },
  {
   "cell_type": "markdown",
   "metadata": {},
   "source": [
    "The selection provided by the software can be used as an initial guess and the engineer can then modify the selected values.\n",
    "\n",
    "The choice of the program looks reasonable in the first layer. However, as this is normally consolidated clay, decreases of unit weight with depth are unlikely. So we will amend the first guess."
   ]
  },
  {
   "cell_type": "code",
   "execution_count": null,
   "metadata": {},
   "outputs": [],
   "source": [
    "from groundhog.general.plotting import LogPlot"
   ]
  },
  {
   "cell_type": "code",
   "execution_count": null,
   "metadata": {},
   "outputs": [],
   "source": [
    "uw_fig = LogPlot(sp, no_panels=1, fillcolordict={'SAND': 'yellow', 'CLAY': 'brown'})\n",
    "uw_fig.add_trace(\n",
    "    x=uw_data['Bulk unit weight [kN/m3]'],\n",
    "    z=uw_data['z [m]'],\n",
    "    mode='markers',\n",
    "    name='data',\n",
    "    showlegend=False,\n",
    "    panel_no=1)\n",
    "uw_fig.add_trace(\n",
    "    x=sp.soilparameter_series('Total unit weight [kN/m3]')[1],\n",
    "    z=sp.soilparameter_series('Total unit weight [kN/m3]')[0],\n",
    "    name='selection',\n",
    "    showlegend=False,\n",
    "    panel_no=1)\n",
    "uw_fig.set_xaxis(title=r'$ \\gamma \\ \\text{[kN/m} ^3 \\text{]} $', panel_no=1, range=(12, 20))\n",
    "uw_fig.set_zaxis(title=r'$ z \\ \\text{[m]} $', range=(3.5, 0))\n",
    "uw_fig.show()"
   ]
  },
  {
   "cell_type": "markdown",
   "metadata": {},
   "source": [
    "We can have a look at the selected values:"
   ]
  },
  {
   "cell_type": "code",
   "execution_count": null,
   "metadata": {},
   "outputs": [],
   "source": [
    "sp"
   ]
  },
  {
   "cell_type": "markdown",
   "metadata": {},
   "source": [
    "We can modify the unit weight in the layers. The syntax for this is Pandas syntax. Several tutorials are available online to start working with Pandas. The code below modifies the unit weight in the deepest layer by specifying a new user-defined bulk unit weight."
   ]
  },
  {
   "cell_type": "code",
   "execution_count": null,
   "metadata": {},
   "outputs": [],
   "source": [
    "sp['Total unit weight [kN/m3]'].iloc[2] = 17.5"
   ]
  },
  {
   "cell_type": "markdown",
   "metadata": {},
   "source": [
    "We can replot the selection. This shows that this is a reasonable selection."
   ]
  },
  {
   "cell_type": "code",
   "execution_count": null,
   "metadata": {},
   "outputs": [],
   "source": [
    "uw_fig = LogPlot(sp, no_panels=1, fillcolordict={'SAND': 'yellow', 'CLAY': 'brown'})\n",
    "uw_fig.add_trace(\n",
    "    x=uw_data['Bulk unit weight [kN/m3]'],\n",
    "    z=uw_data['z [m]'],\n",
    "    mode='markers',\n",
    "    name='data',\n",
    "    showlegend=False,\n",
    "    panel_no=1)\n",
    "uw_fig.add_trace(\n",
    "    x=sp.soilparameter_series('Total unit weight [kN/m3]')[1],\n",
    "    z=sp.soilparameter_series('Total unit weight [kN/m3]')[0],\n",
    "    name='selection',\n",
    "    showlegend=False,\n",
    "    panel_no=1)\n",
    "uw_fig.set_xaxis(title=r'$ \\gamma \\ \\text{[kN/m} ^3 \\text{]} $', panel_no=1, range=(12, 20))\n",
    "uw_fig.set_zaxis(title=r'$ z \\ \\text{[m]} $', range=(3.5, 0))\n",
    "uw_fig.show()"
   ]
  },
  {
   "cell_type": "markdown",
   "metadata": {},
   "source": [
    "### Calculation of initial void ratio and water content\n",
    "\n",
    "The initial void ratio and water content can be derived from the bulk unit weight using the function ```voidratio_bulkunitweight``` in ```groundhog```. This function calculates the void ratio and water content from bulk unit weight for a saturated soil using the following formulae.\n",
    "\n",
    "$$ \\gamma = \\left( \\frac{G_s + S e}{1 + e} \\right) \\gamma_w $$\n",
    "\n",
    "$$ \\implies e = \\frac{\\gamma_w G_s - \\gamma}{\\gamma - S \\gamma_w} $$\n",
    "\n",
    "$$ w = \\frac{S e}{G_s} $$\n",
    "\n",
    "```SoilProfile``` objects in ```groundhog``` have a method ```applyfunction``` which can apply any function to the rows of a soil profile. The parameters of the function are mapped to soil parameters in the dictionary ```parametermapping```.\n",
    "\n",
    "We can apply this function twice, once for the calculation of void ratio (result key ```'e [-]'``` in the result of ```voidratio_bulkunitweight```) and once for the calculation of water content (result key ```'w [-]'``` in the result of ```voidratio_bulkunitweight```).\n",
    "\n",
    "We can print the resulting soil profile to the notebook."
   ]
  },
  {
   "cell_type": "code",
   "execution_count": null,
   "metadata": {},
   "outputs": [],
   "source": [
    "from groundhog.siteinvestigation.classification.phaserelations import voidratio_bulkunitweight"
   ]
  },
  {
   "cell_type": "code",
   "execution_count": null,
   "metadata": {},
   "outputs": [],
   "source": [
    "?voidratio_bulkunitweight"
   ]
  },
  {
   "cell_type": "code",
   "execution_count": null,
   "metadata": {},
   "outputs": [],
   "source": [
    "sp.applyfunction(\n",
    "    function=voidratio_bulkunitweight,\n",
    "    outputkey=\"Void ratio [-]\", resultkey=\"e [-]\",\n",
    "    parametermapping={\n",
    "        'bulkunitweight': \"Total unit weight [kN/m3]\"\n",
    "    })\n",
    "sp.applyfunction(\n",
    "    function=voidratio_bulkunitweight,\n",
    "    outputkey=\"Water content [-]\", resultkey=\"w [-]\",\n",
    "    parametermapping={\n",
    "        'bulkunitweight': \"Total unit weight [kN/m3]\"\n",
    "    })\n",
    "sp"
   ]
  },
  {
   "cell_type": "markdown",
   "metadata": {},
   "source": [
    "The initial void ratio is required to calculate the settlements."
   ]
  },
  {
   "cell_type": "markdown",
   "metadata": {},
   "source": [
    "### Selection of $ C_c $ and $ C_r $\n",
    "\n",
    "The compression index $ C_c $ and recompression index $ C_r $ describe the slope of the virgin compression line and the recompression line respectively in $ e - \\log_{10} ( \\sigma_v^{\\prime} ) $ space:\n",
    "\n",
    "$$ C_c = - \\frac{e_2 - e_1}{\\log_{10} \\left( \\frac{\\sigma^{\\prime}_{v,2}}{\\sigma^{\\prime}_{v,1}} \\right)} \\quad \\text{Virgin compression line} \\\\ C_r = - \\frac{e_2 - e_1}{\\log_{10} \\left( \\frac{\\sigma^{\\prime}_{v,2}}{\\sigma^{\\prime}_{v,1}} \\right)} \\quad \\text{Recompression line}\n",
    "$$\n",
    "\n",
    "Several correlations exist which correlate the compression and recompression indices with water content, void ratio, ...\n",
    "\n",
    "```groundhog``` implements the correlation ```compressionindex_watercontent_koppula``` which is based on a study by Koppula (1981) which found a direct relation between the compression index $ C_c $ and the natural water content $ w $. The compression index is between 5 and 10 times higher than the recompression index $ C_r $. Here, we assume a ratio of 7.5 between both indices.\n",
    "\n",
    "We can again determine the indices using the ```applyfunction``` method on the ```SoilProfile``` object."
   ]
  },
  {
   "cell_type": "code",
   "execution_count": null,
   "metadata": {},
   "outputs": [],
   "source": [
    "from groundhog.siteinvestigation.correlations.cohesive import compressionindex_watercontent_koppula"
   ]
  },
  {
   "cell_type": "code",
   "execution_count": null,
   "metadata": {},
   "outputs": [],
   "source": [
    "sp.applyfunction(\n",
    "    function=compressionindex_watercontent_koppula,\n",
    "    outputkey=\"Cc [-]\", resultkey=\"Cc [-]\",\n",
    "    parametermapping={\n",
    "        'water_content': \"Water content [-]\"\n",
    "    })\n",
    "sp.applyfunction(\n",
    "    function=compressionindex_watercontent_koppula,\n",
    "    outputkey=\"Cr [-]\", resultkey=\"Cr [-]\",\n",
    "    parametermapping={\n",
    "        'water_content': \"Water content [-]\"\n",
    "    })\n",
    "sp"
   ]
  },
  {
   "cell_type": "markdown",
   "metadata": {},
   "source": [
    "Note that this choice of indices should be benchmarked against or replaced by values obtained from oedometer tests."
   ]
  },
  {
   "cell_type": "markdown",
   "metadata": {},
   "source": [
    "### Selection of OCR\n",
    "\n",
    "For the settlement calculation, an OCR also needs to be selected. Here, we will just assume a slightly overconsolidated clay (OCR=3) throughout the profile."
   ]
  },
  {
   "cell_type": "code",
   "execution_count": null,
   "metadata": {},
   "outputs": [],
   "source": [
    "sp.loc[:, 'OCR [-]'] = 3"
   ]
  },
  {
   "cell_type": "markdown",
   "metadata": {},
   "source": [
    "## Settlement calculation\n",
    "\n",
    "Settlement calculations can be performed in `` groundhog`` using the ``SettlementCalculation`` class. This class implements the necessary functionality to set up the calculation, calculate the additional total stress due to the imposed surcharge and compute the settlements.\n",
    "\n",
    "### Calculation setup\n",
    "\n",
    "The starting point of the calculation is the soil profile."
   ]
  },
  {
   "cell_type": "code",
   "execution_count": null,
   "metadata": {},
   "outputs": [],
   "source": [
    "sp"
   ]
  },
  {
   "cell_type": "markdown",
   "metadata": {},
   "source": [
    "The calculation can be set up using this soil profile:"
   ]
  },
  {
   "cell_type": "code",
   "execution_count": null,
   "metadata": {},
   "outputs": [],
   "source": [
    "from groundhog.shallowfoundations.settlement import SettlementCalculation"
   ]
  },
  {
   "cell_type": "code",
   "execution_count": null,
   "metadata": {},
   "outputs": [],
   "source": [
    "calc = SettlementCalculation(sp)"
   ]
  },
  {
   "cell_type": "markdown",
   "metadata": {},
   "source": [
    "### Calculation of the initial stress state\n",
    "\n",
    "To initiate the calculation, the overburden stress needs to be calculated. This can be done by selecting the position of the watertable. Here, we selected a water table at surface (depth=0m)."
   ]
  },
  {
   "cell_type": "code",
   "execution_count": null,
   "metadata": {},
   "outputs": [],
   "source": [
    "calc.calculate_initial_state(waterlevel=0)"
   ]
  },
  {
   "cell_type": "markdown",
   "metadata": {},
   "source": [
    "We can plot this initial state:"
   ]
  },
  {
   "cell_type": "code",
   "execution_count": null,
   "metadata": {},
   "outputs": [],
   "source": [
    "calc.plot_initial_state(fillcolordict={'SAND': 'yellow', 'CLAY': 'brown'})"
   ]
  },
  {
   "cell_type": "markdown",
   "metadata": {},
   "source": [
    "### Calculation discretisation\n",
    "\n",
    "To perform the settlement calculation, a grid needs to be set up with a certain node spacing. Here, we will set a node spacing of 0.1m."
   ]
  },
  {
   "cell_type": "code",
   "execution_count": null,
   "metadata": {},
   "outputs": [],
   "source": [
    "calc.create_grid(dz=0.1)"
   ]
  },
  {
   "cell_type": "markdown",
   "metadata": {},
   "source": [
    "The properties are automatically mapped to the grid. We can check the nodal properties:"
   ]
  },
  {
   "cell_type": "code",
   "execution_count": null,
   "metadata": {},
   "outputs": [],
   "source": [
    "calc.grid.nodes.head()"
   ]
  },
  {
   "cell_type": "markdown",
   "metadata": {},
   "source": [
    "### Foundation shape and dimensions\n",
    "\n",
    "The shape and dimensions of the foundation can be set. Here a circular foundation with 1m diameter is specified."
   ]
  },
  {
   "cell_type": "code",
   "execution_count": null,
   "metadata": {},
   "outputs": [],
   "source": [
    "calc.set_foundation(shape='circular', width=1)"
   ]
  },
  {
   "cell_type": "markdown",
   "metadata": {},
   "source": [
    "### Stress increase\n",
    "\n",
    "The vertical effective stress increases for elastic halfspaces can be obtained using the formulae derived by Boussinesq.\n",
    "\n",
    "```groundhog``` implements the calculation of vertical effective stress increases below strip footings, the center of circular footings and the corner of a rectangular footing. The module ```groundhog.shallowfoundations.stressdistribution``` contains the necessary functions.\n",
    "\n",
    "The functions are applied to the selected grid with the foundation shape parameters as specified above by running the ``calculate_foundation_stress`` method. Here, a stress increase of 10kPa is imposed."
   ]
  },
  {
   "cell_type": "code",
   "execution_count": null,
   "metadata": {},
   "outputs": [],
   "source": [
    "calc.calculate_foundation_stress(applied_stress=10)"
   ]
  },
  {
   "cell_type": "markdown",
   "metadata": {},
   "source": [
    "### Settlement calculation\n",
    "\n",
    "When the initial and final stress state are known, the calculation can be executed. The settlement of each element is computed and is summed to provide the surface settlement."
   ]
  },
  {
   "cell_type": "code",
   "execution_count": null,
   "metadata": {},
   "outputs": [],
   "source": [
    "calc.calculate()"
   ]
  },
  {
   "cell_type": "markdown",
   "metadata": {},
   "source": [
    "The calculation output can be tabulated for checking:"
   ]
  },
  {
   "cell_type": "code",
   "execution_count": null,
   "metadata": {},
   "outputs": [],
   "source": [
    "calc.grid.elements.head()"
   ]
  },
  {
   "cell_type": "markdown",
   "metadata": {},
   "source": [
    "However, plotting results is always more instructive. The results plot has two panels, the leftmost one showing the vertical effective stress at the start and end of the consolidation, the second showing the cumulative settlement in the soil. At the surface, the settlement value is the sum of settlements computed in each element. "
   ]
  },
  {
   "cell_type": "code",
   "execution_count": null,
   "metadata": {},
   "outputs": [],
   "source": [
    "calc.plot_result()"
   ]
  },
  {
   "cell_type": "code",
   "execution_count": null,
   "metadata": {},
   "outputs": [],
   "source": []
  }
 ],
 "metadata": {
  "hide_input": false,
  "kernelspec": {
   "display_name": "Python 3 (ipykernel)",
   "language": "python",
   "name": "python3"
  },
  "language_info": {
   "codemirror_mode": {
    "name": "ipython",
    "version": 3
   },
   "file_extension": ".py",
   "mimetype": "text/x-python",
   "name": "python",
   "nbconvert_exporter": "python",
   "pygments_lexer": "ipython3",
   "version": "3.10.9"
  },
  "toc": {
   "base_numbering": 1,
   "nav_menu": {},
   "number_sections": true,
   "sideBar": true,
   "skip_h1_title": true,
   "title_cell": "Table of Contents",
   "title_sidebar": "Contents",
   "toc_cell": false,
   "toc_position": {},
   "toc_section_display": true,
   "toc_window_display": true
  }
 },
 "nbformat": 4,
 "nbformat_minor": 4
}
