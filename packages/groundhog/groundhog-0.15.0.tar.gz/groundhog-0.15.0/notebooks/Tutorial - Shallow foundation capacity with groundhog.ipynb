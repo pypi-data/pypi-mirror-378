{
 "cells": [
  {
   "cell_type": "markdown",
   "metadata": {},
   "source": [
    "# Tutorial - Shallow foundation capacity with groundhog\n",
    "\n",
    "The analysis of shallow foundation is a recurring task for geotechnical engineers. While the problem at hand is rather simple (estimating the ultimate capacity of a foundation on soil) the governing equations contain several factors to account for foundation shape, depth, inclination and load inclination. Moreover, the interaction between horizontal and vertical load adds some complexity to the problem, especially for eccentrically loaded footings.\n",
    "\n",
    "``groundhog`` contains a robust implementation of the bearing capacity equations and allows for rapid sensitivity analysis of VH capacity for shallow foundations. The code was developed based on the implementation in the API RP2 GEO standard which is aimed at offshore shallow foundations.\n",
    "\n",
    "``groundhog`` has classes for drained and undrained analysis of shallow foundations (``ShallowFoundationCapacityDrained`` and ``ShallowFoundationCapacityUndrained`` respectively) which allows a rapid an efficient definition of a shallow foundation analysis.\n",
    "\n",
    "We can import these classes:"
   ]
  },
  {
   "cell_type": "code",
   "execution_count": null,
   "metadata": {},
   "outputs": [],
   "source": [
    "from groundhog.shallowfoundations.capacity import ShallowFoundationCapacityDrained, ShallowFoundationCapacityUndrained"
   ]
  },
  {
   "cell_type": "markdown",
   "metadata": {},
   "source": [
    "In this tutorial, we will explore the capabilities of ``groundhog``. First, the VH envelope for centrically loaded foundations at the surface will be developed for drained and undrained conditions. Subsequently, an eccentrically loaded foundation will be analysed."
   ]
  },
  {
   "cell_type": "markdown",
   "metadata": {},
   "source": [
    "We can also set the style of Plotly to have a white background."
   ]
  },
  {
   "cell_type": "code",
   "execution_count": null,
   "metadata": {},
   "outputs": [],
   "source": [
    "import plotly.io as pio\n",
    "from plotly.offline import init_notebook_mode\n",
    "init_notebook_mode()\n",
    "pio.templates.default = 'plotly_white'"
   ]
  },
  {
   "cell_type": "markdown",
   "metadata": {},
   "source": [
    "## Centrically loaded foundation\n",
    "\n",
    "When loads are applied to the center of the foundation, the maximum vertical bearing capacity can be mobilised. Any eccentricity will reduce the effective area of the foundation and this the available bearing capacity.\n",
    "\n",
    "Here, we will analyse a mudmat of 8m long and 5m wide (typical dimensions for pipeline end terminations in deepwater)."
   ]
  },
  {
   "cell_type": "code",
   "execution_count": null,
   "metadata": {},
   "outputs": [],
   "source": [
    "LENGTH = 8 # m\n",
    "WIDTH = 5 # m"
   ]
  },
  {
   "cell_type": "markdown",
   "metadata": {},
   "source": [
    "### Undrained conditions\n",
    "\n",
    "Undrained soil behaviour occurs when excess pore water pressures generated during loading cannot dissipate fast enough. This will apply for short-term loading on most clays but also for rapid loading on sands with significant fines content. The rate of loading needs to be assessed in relation to the permeability of the soil to assess where a drained or undrained calculation should be performed.\n",
    "\n",
    "#### Setting up the analysis\n",
    "\n",
    "We can create a ``ShallowFoundationCapacityUndrained`` to define the analysis. We can give a title to the analysis."
   ]
  },
  {
   "cell_type": "code",
   "execution_count": null,
   "metadata": {},
   "outputs": [],
   "source": [
    "undrained_centric = ShallowFoundationCapacityUndrained(title=\"Undrained capacity for centric loading\")"
   ]
  },
  {
   "cell_type": "markdown",
   "metadata": {},
   "source": [
    "#### Specifying foundation dimensions\n",
    "\n",
    "The foundation dimensions are easily specified using the ```set_geometry``` method. The default geometrical parameter are for rectangles but ``groundhog`` also encodes bearing capacity calculations for circular foundations.\n",
    "\n",
    "The ``set_geometry`` method calculates the foundation area."
   ]
  },
  {
   "cell_type": "code",
   "execution_count": null,
   "metadata": {},
   "outputs": [],
   "source": [
    "undrained_centric.set_geometry(length=LENGTH, width=WIDTH)\n",
    "undrained_centric.full_area"
   ]
  },
  {
   "cell_type": "markdown",
   "metadata": {},
   "source": [
    "#### Specifying soil parameters\n",
    "\n",
    "For undrained conditions, total stress analysis is performed and the undrained shear strength of the soil is the governing strength parameter. ``groundhog`` implements bearing capacity equations for both constant and linearly increasing shear strength profiles with depth.\n",
    "\n",
    "Here, we will analyse a soil with a constant undrained shear strength $ S_u $ = 10kPa. We also need to specify the total unit weight $ \\gamma $ of the soil. This is only used when the foundation is embedded. We will specify a total unit weight of 16kN/m$^3$.\n",
    "\n",
    "For embedded foundations (e.g. skirted mudmats), the average undrained shear strength above the base can also be specified."
   ]
  },
  {
   "cell_type": "code",
   "execution_count": null,
   "metadata": {},
   "outputs": [],
   "source": [
    "undrained_centric.set_soilparameters_undrained(unit_weight=16, su_base=10, su_increase=0)"
   ]
  },
  {
   "cell_type": "markdown",
   "metadata": {},
   "source": [
    "#### Specifying load eccentricity\n",
    "\n",
    "The eccentricity of the load can be specified by measuring the offset between the center of the foundation and the load application point along the length and width axis. Here, we are analysing a centrically loaded foundation, so both eccentricities are zero."
   ]
  },
  {
   "cell_type": "code",
   "execution_count": null,
   "metadata": {},
   "outputs": [],
   "source": [
    "undrained_centric.set_eccentricity(eccentricity_width=0, eccentricity_length=0)"
   ]
  },
  {
   "cell_type": "markdown",
   "metadata": {},
   "source": [
    "#### Undrained vertical bearing capacity\n",
    "\n",
    "The ultimate net bearing pressure is given by the following equation:\n",
    "\n",
    "$$ q_u = N_c \\cdot S_u \\cdot K_c $$\n",
    "\n",
    "The factor $ K_c $ combines the different bearing capacity factors. For this analysis case, only the shape factor is non-zero. The formula for the shape factor is as follows:\n",
    "\n",
    "$$ s_c = 0.18 \\cdot (1 - 2 \\cdot i_c) \\cdot (B^{\\prime} / L^{\\prime}) $$ \n",
    "\n",
    "with the inclination factor $ i_c $ being zero. So for this case, $ K_c $ is given by:\n",
    "\n",
    "$$ K_c = 1 + s_c = 1 + 0.18 \\cdot (B^{\\prime} / L^{\\prime}) $$ "
   ]
  },
  {
   "cell_type": "code",
   "execution_count": null,
   "metadata": {},
   "outputs": [],
   "source": [
    "5.14 * 10 * (1 + 0.18 * 5 / 8)"
   ]
  },
  {
   "cell_type": "markdown",
   "metadata": {},
   "source": [
    "The ultimate net bearing pressure $ q_u $ calculated with ``groundhog`` gives the exact same result. This hand-calc check is also included in the unit test suite for ``groundhog``."
   ]
  },
  {
   "cell_type": "code",
   "execution_count": null,
   "metadata": {},
   "outputs": [],
   "source": [
    "undrained_centric.calculate_bearing_capacity()\n",
    "undrained_centric.net_bearing_pressure"
   ]
  },
  {
   "cell_type": "markdown",
   "metadata": {},
   "source": [
    "We can also print the full output for the capacity analysis:"
   ]
  },
  {
   "cell_type": "code",
   "execution_count": null,
   "metadata": {},
   "outputs": [],
   "source": [
    "undrained_centric.capacity"
   ]
  },
  {
   "cell_type": "markdown",
   "metadata": {},
   "source": [
    "#### Ultimate sliding capacity\n",
    "\n",
    "The ultimate sliding capacity is obtained by simply multiplying the undrained shear strength at the base of the foundation by the base area. The attribute ```sliding_full``` gives the full sliding capacity (base resistance + possible contribution from embedded area of the foundation). In this case, the contribution from the embedded area is zero."
   ]
  },
  {
   "cell_type": "code",
   "execution_count": null,
   "metadata": {},
   "outputs": [],
   "source": [
    "undrained_centric.calculate_sliding_capacity()\n",
    "undrained_centric.sliding_full"
   ]
  },
  {
   "cell_type": "markdown",
   "metadata": {},
   "source": [
    "#### Bearing capacity envelope\n",
    "\n",
    "The interaction between vertical and horizontal load is described through a capacity envelope. The area inside this envelope shows the load combinations which can be carried by the foundation.\n",
    "\n",
    "Safety factors are also applied to the envelope. By default, a safety factor of 2 is used for bearing and 1.5 for sliding. This means that all vertical loads are divided by 2 and all horizontal loads by 1.5 resulting in a factored envelope."
   ]
  },
  {
   "cell_type": "code",
   "execution_count": null,
   "metadata": {},
   "outputs": [],
   "source": [
    "undrained_centric.calculate_envelope()"
   ]
  },
  {
   "cell_type": "markdown",
   "metadata": {},
   "source": [
    "The envelope can be plotted using the ```plot_envelope``` method."
   ]
  },
  {
   "cell_type": "code",
   "execution_count": null,
   "metadata": {},
   "outputs": [],
   "source": [
    "undrained_centric_plot = undrained_centric.plot_envelope()"
   ]
  },
  {
   "cell_type": "markdown",
   "metadata": {},
   "source": [
    "### Drained conditions\n",
    "\n",
    "Drained soil behaviour occurs when excess pore water pressures generated during loading can dissipate fast enough. This will apply for long-term loading. The rate of loading needs again to be assessed in relation to the permeability of the soil to assess where a drained or undrained calculation should be performed.\n",
    "\n",
    "#### Analysis setup\n",
    "\n",
    "This is done by creating an object from the ```ShallowFoundationCapacityDrained``` class."
   ]
  },
  {
   "cell_type": "code",
   "execution_count": null,
   "metadata": {},
   "outputs": [],
   "source": [
    "drained_centric = ShallowFoundationCapacityDrained(title=\"Drained capacity for centric loading\")"
   ]
  },
  {
   "cell_type": "markdown",
   "metadata": {},
   "source": [
    "#### Geometry\n",
    "\n",
    "The same geometry is used:"
   ]
  },
  {
   "cell_type": "code",
   "execution_count": null,
   "metadata": {},
   "outputs": [],
   "source": [
    "drained_centric.set_geometry(length=LENGTH, width=WIDTH)\n",
    "drained_centric.full_area"
   ]
  },
  {
   "cell_type": "markdown",
   "metadata": {},
   "source": [
    "#### Soil parameters\n",
    "\n",
    "For drained analysis, we need to specify the effective unit weight, the effective friction angle of the soil beneath the base and the effective stress at base level. Here, we will model a surface foundation so this effective stress is zero."
   ]
  },
  {
   "cell_type": "code",
   "execution_count": null,
   "metadata": {},
   "outputs": [],
   "source": [
    "drained_centric.set_soilparameters_drained(effective_unit_weight=9, friction_angle=38, effective_stress_base=0)"
   ]
  },
  {
   "cell_type": "markdown",
   "metadata": {},
   "source": [
    "#### Specifying load eccentricity\n",
    "\n",
    "The eccentricity of the load can be specified as for the undrained case."
   ]
  },
  {
   "cell_type": "code",
   "execution_count": null,
   "metadata": {},
   "outputs": [],
   "source": [
    "drained_centric.set_eccentricity(eccentricity_length=0, eccentricity_width=0)"
   ]
  },
  {
   "cell_type": "markdown",
   "metadata": {},
   "source": [
    "#### Drained vertical bearing capacity\n",
    "\n",
    "The ultimate net bearing pressure is given by the following equation:\n",
    "\n",
    "$$ q_u = \\left [ p_o^{\\prime} (N_q - 1) K_q + 0.5 \\gamma^{\\prime} B^{\\prime} N_{\\gamma} K_{\\gamma} \\right ] $$\n",
    "\n",
    "For a surface foundation, $ p_o^{\\prime} $ is zero and only the second term is evaluated.\n",
    "\n",
    "The factors $ K_q $ and $ K_{\\gamma} $ combine the different bearing capacity factors. For this analysis case, only the shape factor is non-zero. The formula for the shape factor is as follows:\n",
    "\n",
    "$$ s_{\\gamma} = 1 - \\left( 0.4 \\cdot i_{\\gamma} \\cdot (B^{\\prime} / L^{\\prime}) \\right) $$ \n",
    "\n",
    "with the inclination factor $ i_{\\gamma} $ being zero. So for this case, $ K_{\\gamma} $ is given by:\n",
    "\n",
    "$$ K_{\\gamma} = s_{\\gamma} $$ "
   ]
  },
  {
   "cell_type": "code",
   "execution_count": null,
   "metadata": {},
   "outputs": [],
   "source": [
    "0.5 * 9 * 5 * 56.17 * (1 - 0.4 * (5 / 8))"
   ]
  },
  {
   "cell_type": "markdown",
   "metadata": {},
   "source": [
    "The ultimate net bearing pressure $ q_u $ calculated with ``groundhog`` gives almost the same result. The difference is due to the number of digits in the calculation of $ N_{\\gamma} $. This hand-calc check is also included in the unit test suite for ``groundhog``."
   ]
  },
  {
   "cell_type": "code",
   "execution_count": null,
   "metadata": {},
   "outputs": [],
   "source": [
    "drained_centric.calculate_bearing_capacity()\n",
    "drained_centric.net_bearing_pressure"
   ]
  },
  {
   "cell_type": "markdown",
   "metadata": {},
   "source": [
    "The full output of the capacity calculation can be printed."
   ]
  },
  {
   "cell_type": "code",
   "execution_count": null,
   "metadata": {},
   "outputs": [],
   "source": [
    "drained_centric.capacity"
   ]
  },
  {
   "cell_type": "markdown",
   "metadata": {},
   "source": [
    "#### Ultimate sliding capacity\n",
    "\n",
    "The ultimate sliding capacity is dependent on the vertical load on the foundation. Therefore, this vertical load is specified. The base resistance is then obtained as the multiplication of this load with the tangent of the interface friction angle. If the interface friction angle is not specified, 5° is subtracted from the soil effective friction angle.\n",
    "\n",
    "The attribute ```sliding_full``` gives the full sliding capacity (base resistance + possible contribution from embedded area of the foundation). In this case, the contribution from the embedded area is zero."
   ]
  },
  {
   "cell_type": "code",
   "execution_count": null,
   "metadata": {},
   "outputs": [],
   "source": [
    "import numpy as np\n",
    "1000 * np.tan(np.radians(38 - 5))"
   ]
  },
  {
   "cell_type": "markdown",
   "metadata": {},
   "source": [
    "This corresponds exactly with the ```groundhog``` solution."
   ]
  },
  {
   "cell_type": "code",
   "execution_count": null,
   "metadata": {},
   "outputs": [],
   "source": [
    "drained_centric.calculate_sliding_capacity(vertical_load=1000)\n",
    "drained_centric.sliding_full"
   ]
  },
  {
   "cell_type": "markdown",
   "metadata": {},
   "source": [
    "#### Bearing capacity envelope\n",
    "\n",
    "The interaction between vertical and horizontal load is described through a capacity envelope. The area inside this envelope shows the load combinations which can be carried by the foundation.\n",
    "\n",
    "Safety factors are also applied to the envelope. By default, a safety factor of 2 is used for bearing and 1.5 for sliding. This means that all vertical loads are divided by 2 and all horizontal loads by 1.5 resulting in a factored envelope.\n",
    "\n",
    "Note that the failure envelope has a different shape to the undrained envelope. A sliding cut-off is also included."
   ]
  },
  {
   "cell_type": "code",
   "execution_count": null,
   "metadata": {},
   "outputs": [],
   "source": [
    "drained_centric.calculate_envelope()"
   ]
  },
  {
   "cell_type": "markdown",
   "metadata": {},
   "source": [
    "The envelope is plotted with the ```plot_envelope``` method."
   ]
  },
  {
   "cell_type": "code",
   "execution_count": null,
   "metadata": {},
   "outputs": [],
   "source": [
    "drained_centric_plot = drained_centric.plot_envelope()"
   ]
  },
  {
   "cell_type": "markdown",
   "metadata": {},
   "source": [
    "## Eccentrically loaded foundation\n",
    "\n",
    "When a foundation is loaded eccentrically (e.g. due to moment loading of non-symmetric weight distribution), the failure envelope will shrink and the effective area needs to be taken into account.\n",
    "\n",
    "By specifying eccentricity along the lenght and width axes, ```groundhog``` can calculate the effective bearing area and take into account these eccentric loads to calculate the resulting bearing capacity envelope. \n",
    "\n",
    "We can repeat the undrained and drained example for a load which is applied 1m from the center in the length direction and 0.5m from the center in the width direction."
   ]
  },
  {
   "cell_type": "markdown",
   "metadata": {},
   "source": [
    "### Undrained conditions\n",
    "\n",
    "The analysis is reperformed using the same inputs except for the eccentricity.\n",
    "\n",
    "The effective area is calculated as:\n",
    "\n",
    "$$ A^{\\prime} = L^{\\prime} \\cdot B^{\\prime} = (L - 2 \\cdot e_L) \\cdot (B - 2 \\cdot e_B) $$"
   ]
  },
  {
   "cell_type": "code",
   "execution_count": null,
   "metadata": {},
   "outputs": [],
   "source": [
    "undrained_eccentric = ShallowFoundationCapacityUndrained(title=\"Undrained capacity for eccentric loading\")\n",
    "undrained_eccentric.set_geometry(length=LENGTH, width=WIDTH)\n",
    "undrained_eccentric.set_soilparameters_undrained(unit_weight=16, su_base=10, su_increase=0)\n",
    "undrained_eccentric.set_eccentricity(eccentricity_width=0.5, eccentricity_length=1)\n",
    "undrained_eccentric.effective_area"
   ]
  },
  {
   "cell_type": "markdown",
   "metadata": {},
   "source": [
    "We can see that the effective area is indeed correctly calculated."
   ]
  },
  {
   "cell_type": "code",
   "execution_count": null,
   "metadata": {},
   "outputs": [],
   "source": [
    "undrained_eccentric.calculate_envelope()\n",
    "undrained_eccentric_plot = undrained_eccentric.plot_envelope(show_uncorrected=True)"
   ]
  },
  {
   "cell_type": "markdown",
   "metadata": {},
   "source": [
    "The maximum vertical bearing capacity is now significantly lower then for the centric case.\n",
    "\n",
    "We can also see that the envelope now has a horizontal portion. This is because the effective area is used for the vertical capacity calculation, while the full base area is used for the sliding capacity. Indeed, due to this horizontal capacity from the area outside the effective area, the full vertical capacity will be available until a certain horizontal load is achieved."
   ]
  },
  {
   "cell_type": "markdown",
   "metadata": {},
   "source": [
    "### Drained conditions\n",
    "\n",
    "The analysis is reperformed using the same inputs except for the eccentricity."
   ]
  },
  {
   "cell_type": "code",
   "execution_count": null,
   "metadata": {},
   "outputs": [],
   "source": [
    "drained_eccentric = ShallowFoundationCapacityDrained(title=\"Drained capacity for eccentric loading\")\n",
    "drained_eccentric.set_geometry(length=LENGTH, width=WIDTH)\n",
    "drained_eccentric.set_soilparameters_drained(effective_unit_weight=9, friction_angle=38, effective_stress_base=0)\n",
    "drained_eccentric.set_eccentricity(eccentricity_length=1, eccentricity_width=0.5)\n",
    "drained_eccentric.calculate_envelope()\n",
    "drained_eccentric_plot = drained_eccentric.plot_envelope()"
   ]
  },
  {
   "cell_type": "code",
   "execution_count": null,
   "metadata": {},
   "outputs": [],
   "source": [
    "import plotly.io as pio\n",
    "pio.write_image(drained_eccentric_plot, 'Images/drained_envelope_2.png', scale=5)"
   ]
  },
  {
   "cell_type": "markdown",
   "metadata": {},
   "source": [
    "The envelopes again show a significantly lower bearing capacity due to the eccentric loading. The fact that there is sliding capacity available outside the effective area again results in a horizontal portion of the envelope for the maximum vertical capacity."
   ]
  },
  {
   "cell_type": "markdown",
   "metadata": {},
   "source": [
    "## Skirted foundation\n",
    "\n",
    "```groundhog``` can also calculate the capacity envelope for skirted or base-embedded foundations.\n",
    "\n",
    "### Undrained capacity\n",
    "\n",
    "The calculation for a surface foundation will be modified as follows:\n",
    "\n",
    "   - A depth factor is added the the vertical bearing capacity calculation\n",
    "   - For non-skirted, base embedded foundations a contribution from the total vertical stress at base level is taken into account\n",
    "   - For sliding resistance, the passive resistance on the embedded area of the skirt is taken into account\n",
    "   - The additional load eccentricity due to the embedment is taken into account.\n",
    "   \n",
    "We can specify this analysis and calculate the bearing capacity envelope."
   ]
  },
  {
   "cell_type": "code",
   "execution_count": null,
   "metadata": {},
   "outputs": [],
   "source": [
    "undrained_embedded = ShallowFoundationCapacityUndrained(title=\"Undrained capacity for embedded foundation\")\n",
    "undrained_embedded.set_geometry(length=LENGTH, width=WIDTH, depth=1, skirted=True)\n",
    "undrained_embedded.set_soilparameters_undrained(unit_weight=16, su_base=10, su_increase=0)\n",
    "undrained_embedded.set_eccentricity(eccentricity_width=0, eccentricity_length=0)\n",
    "undrained_embedded.calculate_sliding_capacity()\n",
    "undrained_embedded.sliding"
   ]
  },
  {
   "cell_type": "markdown",
   "metadata": {},
   "source": [
    "The sliding calculation shows the additional contribution from passive resistance on the skirts.\n",
    "\n",
    "For the load inclination, the contribution from horizontal skirt resistance and base resistance outside the effective area are subtracted. Because of this, additional horizontal resistance is available for high vertical load levels compared to the surface footing case."
   ]
  },
  {
   "cell_type": "code",
   "execution_count": null,
   "metadata": {},
   "outputs": [],
   "source": [
    "undrained_embedded.calculate_envelope()\n",
    "undrained_embedded_plot = undrained_embedded.plot_envelope(\n",
    "    plot_title=\"Undrained bearing capacity envelope for skirted foundation\")"
   ]
  },
  {
   "cell_type": "markdown",
   "metadata": {},
   "source": [
    "### Drained capacity\n",
    "\n",
    "The drained capacity is modified by the following aspects:\n",
    "\n",
    "   - Non-zero vertical effective stress at base level $ p_o^{\\prime} $ results in non-zero $ N_q $ term\n",
    "   - A depth factor is applied in the vertical capacity calculation\n",
    "   - Passive resistance on the embedded skirt area is taken into account for the sliding resistance\n",
    "   \n",
    "We can specify this analysis and calculate the bearing capacity envelope."
   ]
  },
  {
   "cell_type": "code",
   "execution_count": null,
   "metadata": {},
   "outputs": [],
   "source": [
    "drained_embedded = ShallowFoundationCapacityDrained(title=\"Drained capacity for embedded foundation\")\n",
    "drained_embedded.set_geometry(length=LENGTH, width=WIDTH, depth=1, skirted=True)\n",
    "drained_embedded.set_soilparameters_drained(effective_unit_weight=9, friction_angle=38, effective_stress_base=9)\n",
    "drained_embedded.set_eccentricity(eccentricity_width=0, eccentricity_length=0)\n",
    "drained_embedded.calculate_sliding_capacity(vertical_load=1000)\n",
    "drained_embedded.sliding"
   ]
  },
  {
   "cell_type": "markdown",
   "metadata": {},
   "source": [
    "The sliding calculation shows the additional contribution from the passive resistance on the skirts.\n",
    "\n",
    "Calculating and plotting the drained bearing capacity envelope shows the additional vertical resistance due to the increased stresses at base level and the additional horizontal resistance due to the passive resistance on the skirts."
   ]
  },
  {
   "cell_type": "code",
   "execution_count": null,
   "metadata": {},
   "outputs": [],
   "source": [
    "drained_embedded.calculate_envelope()\n",
    "drained_embedded_plot = drained_embedded.plot_envelope(\n",
    "    plot_title=\"Drained bearing capacity envelope for skirted foundation\")"
   ]
  },
  {
   "cell_type": "code",
   "execution_count": null,
   "metadata": {},
   "outputs": [],
   "source": []
  }
 ],
 "metadata": {
  "hide_input": false,
  "kernelspec": {
   "display_name": "Python 3",
   "language": "python",
   "name": "python3"
  },
  "language_info": {
   "codemirror_mode": {
    "name": "ipython",
    "version": 3
   },
   "file_extension": ".py",
   "mimetype": "text/x-python",
   "name": "python",
   "nbconvert_exporter": "python",
   "pygments_lexer": "ipython3",
   "version": "3.7.6"
  },
  "toc": {
   "base_numbering": 1,
   "nav_menu": {},
   "number_sections": true,
   "sideBar": true,
   "skip_h1_title": true,
   "title_cell": "Table of Contents",
   "title_sidebar": "Contents",
   "toc_cell": false,
   "toc_position": {},
   "toc_section_display": true,
   "toc_window_display": true
  }
 },
 "nbformat": 4,
 "nbformat_minor": 4
}
