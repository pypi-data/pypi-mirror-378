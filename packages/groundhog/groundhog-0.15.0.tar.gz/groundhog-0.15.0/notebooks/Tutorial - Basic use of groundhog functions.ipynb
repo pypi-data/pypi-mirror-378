{
 "cells": [
  {
   "cell_type": "markdown",
   "metadata": {},
   "source": [
    "# Tutorial - Basic use of groundhog functions\n",
    "\n",
    "The ```groundhog``` library contains geotechnical functions was built around the following core principles:\n",
    "\n",
    "   - Transparency: Each function needs to be documented extensively and the user should always know which parameters to enter\n",
    "   - Validation: When expert knowledge or calibration to experiments dictates that parameters cannot vary outside a certain range, the calculation should be prevented. At the same time, the user should be able to override this behaviour when extrapolation is required\n",
    "   - Testing: Each function should be checked before being released. When new versions are released, the unit test suite is reperformed to ensure that code changes don't break previous functionality\n",
    "   - Convergence: Contributions to ```groundhog``` are essential, both in terms of introducing new functions as in comments, checks and feedback on the previous ones. For this reason, ```groundhog``` is managed on Github. \n",
    "   \n",
    "This notebook contains a short introduction to ```groundhog``` and shows how these core principles are reflected in the code."
   ]
  },
  {
   "cell_type": "markdown",
   "metadata": {},
   "source": [
    "## Importing ```groundhog```\n",
    "\n",
    "```groundhog``` is a Python library and thus it needs to be imported like any other Python library. \n",
    "\n",
    "To check which version of ```groundhog``` you have. You can import the package and check the version as follows:"
   ]
  },
  {
   "cell_type": "code",
   "execution_count": null,
   "metadata": {},
   "outputs": [],
   "source": [
    "from groundhog.__version__ import __version__\n",
    "__version__"
   ]
  },
  {
   "cell_type": "markdown",
   "metadata": {},
   "source": [
    "```groundhog``` contains several subpackages for a variety of applications (e.g. ```siteinvestigation``` contains functions related to geotechnical investigations. We can import specific functions using the following syntax:"
   ]
  },
  {
   "cell_type": "code",
   "execution_count": null,
   "metadata": {},
   "outputs": [],
   "source": [
    "from groundhog.siteinvestigation.insitutests.pcpt_correlations import relativedensity_sand_jamiolkowski"
   ]
  },
  {
   "cell_type": "markdown",
   "metadata": {},
   "source": [
    "This imports the function ```relativedensity_sand_jamiolkowski``` from the ```pcpt_correlations``` module of the ```siteinvestigation.insitutests``` subpackage.\n",
    "\n",
    "We can check the function documentation in the notebook as follows:"
   ]
  },
  {
   "cell_type": "code",
   "execution_count": null,
   "metadata": {},
   "outputs": [],
   "source": [
    "?relativedensity_sand_jamiolkowski"
   ]
  },
  {
   "cell_type": "markdown",
   "metadata": {},
   "source": [
    "The documentation shows that the relative density of sand from cone resistance data based on calibration chamber test results (Jamiolkowski et al, 2003). A formula for dry and saturated sand is provided.\n",
    "\n",
    "$$ D_{r,dry} = \\frac{1}{2.96} \\cdot \\ln \\left[ \\frac{q_c / P_a}{24.94 \\cdot \\left( \\frac{\\sigma_{m}^{\\prime}}{P_a} \\right)^{0.46} } \\right] $$\n",
    "\n",
    "$$ D_{r,sat} = \\left(  \\frac{-1.87 + 2.32 \\cdot \\ln \\left[ \\frac{q_c}{\\sqrt{P_a + \\sigma_{vo}^{\\prime}}} \\right] }{100} \\right) \\cdot \\frac{D_{r,dry}}{100} $$\n",
    "\n",
    "The formula is fully parametric with all coefficients of the equations being modifiable as optional keyword arguments."
   ]
  },
  {
   "cell_type": "markdown",
   "metadata": {},
   "source": [
    "## Transparency\n",
    "\n",
    "```groundhog``` has with extensive documentation. The documentation is available here: https://www.snakesonabrain.com/docs/groundhog."
   ]
  },
  {
   "cell_type": "markdown",
   "metadata": {},
   "source": [
    "Each function has a docstring contains a description of the function, a list of its input parameters with units, equations and images, a description of the output and one or more references. In almost all cases, the output of ```groundhog``` functions is a dictionary with keys containing the main output and intermediate outputs. These keys also show the unit of the outputs.\n",
    "\n",
    "We can apply this on the function ```relativedensity_sand_jamiolkowski```. We will calculate the relative density for a vertical effective stress of 100kPa, a coefficient of lateral earth pressure of 0.8 and a cone resistance of 20MPa. Note that the docstring contains the units of these input parameters and recommendations on the acceptable ranges. All optional parameters are left at their defaults."
   ]
  },
  {
   "cell_type": "code",
   "execution_count": null,
   "metadata": {},
   "outputs": [],
   "source": [
    "relativedensity_sand_jamiolkowski(qc=20, sigma_vo_eff=100, k0=0.8)"
   ]
  },
  {
   "cell_type": "markdown",
   "metadata": {},
   "source": [
    "The result is a dictionary containing two outputs; the relative density for dry and saturated soil (unitless).\n",
    "\n",
    "If we are just interested in the relative density for saturated soil, we can simply retrieve this value from the dictionary using the corresponding key."
   ]
  },
  {
   "cell_type": "code",
   "execution_count": null,
   "metadata": {},
   "outputs": [],
   "source": [
    "result = relativedensity_sand_jamiolkowski(qc=20, sigma_vo_eff=100, k0=0.8)\n",
    "result['Dr sat [-]']"
   ]
  },
  {
   "cell_type": "markdown",
   "metadata": {},
   "source": [
    "## Validation\n",
    "\n",
    "Our docstring already shows that unit and acceptable ranges are given in the docs. It is good to know what happens when we go outside acceptable ranges and how we can make ```groundhog``` return the behaviour we want.\n",
    "\n",
    "### Default behaviour - Failing silently\n",
    "\n",
    "By default, ```groundhog``` will not raise errors when parameters are outside validation ranges. This choice was consciously made to prevent errors from manifesting themselves too often and having to write error catching clauses in all code.\n",
    "\n",
    "Instead, when a parameter is outside a validation range, ```groundhog``` will return ```np.nan``` for a scalar and ```None``` for a list by default, however the outputs in case of errors can be changed.\n",
    "\n",
    "We can illustrate this behaviour by working with vertical effectice stresses ranging from 10kPa to 500kPa, with $ \\sigma_{vo}^{\\prime} $ < 50kPa and $ \\sigma_{vo}^{\\prime} $ > 400kPa being outside the validation range according to the data originally used to develop this correlation. The cone resistance is kept constant at 20MPa."
   ]
  },
  {
   "cell_type": "code",
   "execution_count": null,
   "metadata": {},
   "outputs": [],
   "source": [
    "import numpy as np\n",
    "sigma_vo_eff = np.linspace(10, 500, 20)\n",
    "dr_sat = list(map(lambda _sigma_v_eff: relativedensity_sand_jamiolkowski(\n",
    "    qc=20, sigma_vo_eff=_sigma_v_eff, k0=0.8)['Dr sat [-]'], sigma_vo_eff))"
   ]
  },
  {
   "cell_type": "code",
   "execution_count": null,
   "metadata": {},
   "outputs": [],
   "source": [
    "dr_sat"
   ]
  },
  {
   "cell_type": "markdown",
   "metadata": {},
   "source": [
    "```groundhog``` will issue warnings but the calculation will still go ahead. For long lists, the warnings could be annoying. We can hide warnings with the following syntax:"
   ]
  },
  {
   "cell_type": "code",
   "execution_count": null,
   "metadata": {},
   "outputs": [],
   "source": [
    "import warnings\n",
    "warnings.filterwarnings('ignore')"
   ]
  },
  {
   "cell_type": "markdown",
   "metadata": {},
   "source": [
    "<div class=\"alert alert-block alert-danger\">\n",
    "<b>Caution:</b> This will suppress all warnings so use it carefully!\n",
    "</div>"
   ]
  },
  {
   "cell_type": "markdown",
   "metadata": {},
   "source": [
    "Let's check the value of the last friction factor to see what was returned."
   ]
  },
  {
   "cell_type": "code",
   "execution_count": null,
   "metadata": {},
   "outputs": [],
   "source": [
    "dr_sat[-1]"
   ]
  },
  {
   "cell_type": "markdown",
   "metadata": {},
   "source": [
    "Because the value return is ```np.nan```, plots can still be created of the results. We can create a basic Plotly plot of the result (import the necessary Plotly modules and functions first)."
   ]
  },
  {
   "cell_type": "code",
   "execution_count": null,
   "metadata": {},
   "outputs": [],
   "source": [
    "from plotly import subplots\n",
    "import plotly.graph_objs as go\n",
    "from plotly.offline import init_notebook_mode\n",
    "import plotly.io as pio\n",
    "init_notebook_mode()\n",
    "pio.templates.default = 'plotly_white'"
   ]
  },
  {
   "cell_type": "code",
   "execution_count": null,
   "metadata": {},
   "outputs": [],
   "source": [
    "fig = subplots.make_subplots(rows=1, cols=1, print_grid=False)\n",
    "_data = go.Scatter(x=sigma_vo_eff, y=dr_sat, showlegend=False, mode='lines',name='Dr')\n",
    "fig.append_trace(_data, 1, 1)\n",
    "fig['layout']['xaxis1'].update(title='Vertical effective stress [kPa]')\n",
    "fig['layout']['yaxis1'].update(title='Relative density [-]')\n",
    "fig['layout'].update(height=400, width=600)\n",
    "fig.show()"
   ]
  },
  {
   "cell_type": "markdown",
   "metadata": {},
   "source": [
    "The plot only shows the results for vertical effective stresses which are inside the validation range (50 - 400kPa)"
   ]
  },
  {
   "cell_type": "markdown",
   "metadata": {},
   "source": [
    "### Overriding validation ranges\n",
    "\n",
    "In certain cases, equations will still apply, even when the input parameters are outside of the validation ranges. ```groundhog``` allows us to override the default validation ranges. If we add ```<parametername>__min=``` and/or ```<parametername>__max``` to the function arguments, we are overriding the validation ranges. Let's see this in action:"
   ]
  },
  {
   "cell_type": "code",
   "execution_count": null,
   "metadata": {},
   "outputs": [],
   "source": [
    "dr_sat_withoverride = list(map(lambda _sigma_v_eff: relativedensity_sand_jamiolkowski(\n",
    "    qc=20, sigma_vo_eff=_sigma_v_eff, k0=0.8,\n",
    "    sigma_vo_eff__min=10, sigma_vo_eff__max=500)['Dr sat [-]'], sigma_vo_eff))"
   ]
  },
  {
   "cell_type": "markdown",
   "metadata": {},
   "source": [
    "The calculation now returns values for $ \\sigma_{vo}^{\\prime} $ outside the default range and at the same time, it is clear for a code reviewer that a validation range was manipulated here! The resulting plot is shown below."
   ]
  },
  {
   "cell_type": "code",
   "execution_count": null,
   "metadata": {},
   "outputs": [],
   "source": [
    "fig = subplots.make_subplots(rows=1, cols=1, print_grid=False)\n",
    "_data = go.Scatter(x=sigma_vo_eff, y=dr_sat_withoverride, showlegend=False, mode='lines',name='Dr')\n",
    "fig.append_trace(_data, 1, 1)\n",
    "fig['layout']['xaxis1'].update(title='Vertical effective stress [kPa]')\n",
    "fig['layout']['yaxis1'].update(title='Relative density [-]')\n",
    "fig['layout'].update(height=400, width=600)\n",
    "fig.show()"
   ]
  },
  {
   "cell_type": "markdown",
   "metadata": {},
   "source": [
    "### Overriding the values returned when exceeding validation ranges\n",
    "\n",
    "```groundhog``` knows which values to return when a validation range is exceeded because it uses a dictionary which defines these values. This dictionary can also be imported and printed. The name is defined as follows:\n",
    "\n",
    "```\n",
    "<functionnameuppercase>_ERRORRETURN\n",
    "```\n",
    "\n",
    "We can override this dictionary to control what ```groundhog``` returns when the validation is not met or when there are errors during function execution."
   ]
  },
  {
   "cell_type": "code",
   "execution_count": null,
   "metadata": {},
   "outputs": [],
   "source": [
    "from groundhog.siteinvestigation.insitutests.pcpt_correlations import RELATIVEDENSITY_SAND_JAMIOLKOWSKI_ERRORRETURN\n",
    "RELATIVEDENSITY_SAND_JAMIOLKOWSKI_ERRORRETURN"
   ]
  },
  {
   "cell_type": "markdown",
   "metadata": {},
   "source": [
    "If we modify this dictionary and pass it to the function, we can obtain another output when exceeding the validation ranges. For instance, let's return a relative density of 0 when the input is not valid:"
   ]
  },
  {
   "cell_type": "code",
   "execution_count": null,
   "metadata": {},
   "outputs": [],
   "source": [
    "new_error_return= RELATIVEDENSITY_SAND_JAMIOLKOWSKI_ERRORRETURN\n",
    "new_error_return['Dr sat [-]'] = 0.0\n",
    "new_error_return"
   ]
  },
  {
   "cell_type": "markdown",
   "metadata": {},
   "source": [
    "We need to add this dictionary to the function call by specifying the keyword argument ```customerroroutput```."
   ]
  },
  {
   "cell_type": "code",
   "execution_count": null,
   "metadata": {},
   "outputs": [],
   "source": [
    "dr_sat_zeroonerror = list(map(lambda _sigma_v_eff: relativedensity_sand_jamiolkowski(\n",
    "    qc=20, sigma_vo_eff=_sigma_v_eff, k0=0.8,\n",
    "    customerroroutput=new_error_return)['Dr sat [-]'], sigma_vo_eff))"
   ]
  },
  {
   "cell_type": "markdown",
   "metadata": {},
   "source": [
    "If we plot the result, we can see that the function returns a relative density of 0 when the parameter is outside of the validation ranges."
   ]
  },
  {
   "cell_type": "code",
   "execution_count": null,
   "metadata": {},
   "outputs": [],
   "source": [
    "fig = subplots.make_subplots(rows=1, cols=1, print_grid=False)\n",
    "_data = go.Scatter(x=sigma_vo_eff, y=dr_sat_zeroonerror, showlegend=False, mode='lines',name='Dr')\n",
    "fig.append_trace(_data, 1, 1)\n",
    "fig['layout']['xaxis1'].update(title='Vertical effective stress [kPa]')\n",
    "fig['layout']['yaxis1'].update(title='Relative density [-]')\n",
    "fig['layout'].update(height=400, width=600)\n",
    "fig.show()"
   ]
  },
  {
   "cell_type": "markdown",
   "metadata": {},
   "source": [
    "### Raising errors\n",
    "\n",
    "In certain cases, you do not want the function to fail silently. To trigger raising of errors, just include the keyword argument ```fail_silently=False```.\n",
    "\n",
    "Let's demonstrates how this raises an error which stops code execution."
   ]
  },
  {
   "cell_type": "code",
   "execution_count": null,
   "metadata": {},
   "outputs": [],
   "source": [
    "relativedensity_sand_jamiolkowski(qc=20, sigma_vo_eff=20, k0=0.8, fail_silently=False)"
   ]
  },
  {
   "cell_type": "markdown",
   "metadata": {},
   "source": [
    "### Disabling validation - NOT RECOMMENDED\n",
    "\n",
    "```groundhog``` allows you to disable all validation but this is not recommended. To disable all validation, just include the keyword argument ```validate=False```.\n",
    "\n",
    "When entering this, no validation is performed whatsoever and physically meaningless entries (such as negative diameters are possible).\n",
    "\n",
    "Needless to say that this should only be used in very exceptional cases."
   ]
  },
  {
   "cell_type": "code",
   "execution_count": null,
   "metadata": {},
   "outputs": [],
   "source": [
    "relativedensity_sand_jamiolkowski(qc=20, sigma_vo_eff=-20, k0=0.8, validate=False)"
   ]
  },
  {
   "cell_type": "markdown",
   "metadata": {},
   "source": [
    "## Testing\n",
    "\n",
    "Each ```groundhog``` function has one or more unit tests written for it during development. A common unit test is to perform a hand-calc for a certain combination of input parameters and assert that the calculated value from the function is equal to the result of the hand-calc.\n",
    "\n",
    "The unit tests are hardcoded in the ```groundhog``` source code and reperformed for any release. So there will never be a function in ```groundhog``` which does not meet its unit tests and this already reduces the margin for error considerably.\n",
    "\n",
    "Nevertheless, we cannot test all possible combinations of input parameters so if you do find an error, please report it asap. A new unit test will then be developed to prevent this error from occuring in the future."
   ]
  },
  {
   "cell_type": "markdown",
   "metadata": {},
   "source": [
    "## International collaboration\n",
    "\n",
    "Currently, several geotechnical researchers and professionals are already using Python in their daily practice. ```groundhog``` aims to bring together different initiatives and provide a multi-purpose toolset for the geotechnical engineer.\n",
    "\n",
    "The growth of ```groundhog``` will be the result of collaborative development. If you have functions which you regularly use, they can be included in ```groundhog```. You can contact the developers of the package, even if you have code in another language which you would like to be transformed into Python code for ```groundhog```."
   ]
  },
  {
   "cell_type": "code",
   "execution_count": null,
   "metadata": {},
   "outputs": [],
   "source": []
  }
 ],
 "metadata": {
  "hide_input": false,
  "kernelspec": {
   "display_name": "Python 3",
   "language": "python",
   "name": "python3"
  },
  "language_info": {
   "codemirror_mode": {
    "name": "ipython",
    "version": 3
   },
   "file_extension": ".py",
   "mimetype": "text/x-python",
   "name": "python",
   "nbconvert_exporter": "python",
   "pygments_lexer": "ipython3",
   "version": "3.7.6"
  },
  "toc": {
   "base_numbering": 1,
   "nav_menu": {},
   "number_sections": true,
   "sideBar": true,
   "skip_h1_title": true,
   "title_cell": "Table of Contents",
   "title_sidebar": "Contents",
   "toc_cell": false,
   "toc_position": {},
   "toc_section_display": true,
   "toc_window_display": true
  }
 },
 "nbformat": 4,
 "nbformat_minor": 2
}
