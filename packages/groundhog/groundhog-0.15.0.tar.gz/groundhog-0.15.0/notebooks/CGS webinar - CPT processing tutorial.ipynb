{
 "cells": [
  {
   "cell_type": "markdown",
   "metadata": {},
   "source": [
    "<img class='pull-right' src='Images/cgs.png'>"
   ]
  },
  {
   "cell_type": "markdown",
   "metadata": {},
   "source": [
    "# CGS webinar - CPT processing tutorial\n",
    "\n",
    "This notebook presents the workflow for CPT processing with ```groundhog```, presented during a webinar of the Canadian Geotechnical Society eduction committee on the Future of Geotechnical Engineering Education.\n",
    "\n",
    "This notebook shows how ```groundhog``` functionality can be used to easily load, process and present CPT data. The abilities of Python and ```groundhog``` to automate processing and present results from several CPTs are also illustrated.\n",
    "\n",
    "The CPT information used in this tutorial is from the [Borssele offshore windfarm site](https://offshorewind.rvo.nl/studiesborsseleI) which is used under a Creative Commons 4.0 license."
   ]
  },
  {
   "cell_type": "markdown",
   "metadata": {},
   "source": [
    "## User inputs"
   ]
  },
  {
   "cell_type": "code",
   "execution_count": null,
   "metadata": {},
   "outputs": [],
   "source": [
    "NKT = 15"
   ]
  },
  {
   "cell_type": "markdown",
   "metadata": {},
   "source": [
    "## Loading libraries\n",
    "\n",
    "For the processing of CPT data, we will need the ```PCPTProcessing``` class from ```groundhog```. This class encodes all required functionality to perform CPT processing. We can import it as follows:"
   ]
  },
  {
   "cell_type": "code",
   "execution_count": null,
   "metadata": {},
   "outputs": [],
   "source": [
    "from groundhog.siteinvestigation.insitutests.pcpt_processing import PCPTProcessing"
   ]
  },
  {
   "cell_type": "markdown",
   "metadata": {},
   "source": [
    "We will also import the Pandas library for data processing."
   ]
  },
  {
   "cell_type": "code",
   "execution_count": null,
   "metadata": {},
   "outputs": [],
   "source": [
    "import pandas as pd"
   ]
  },
  {
   "cell_type": "markdown",
   "metadata": {},
   "source": [
    "The Plotly libraries can also be loaded."
   ]
  },
  {
   "cell_type": "code",
   "execution_count": null,
   "metadata": {},
   "outputs": [],
   "source": [
    "from plotly import tools, subplots\n",
    "import plotly.express as px\n",
    "import plotly.graph_objs as go\n",
    "import plotly.io as pio\n",
    "import plotly.figure_factory as ff\n",
    "from plotly.colors import DEFAULT_PLOTLY_COLORS\n",
    "from plotly.offline import download_plotlyjs, init_notebook_mode, plot, iplot\n",
    "init_notebook_mode()\n",
    "pio.templates.default = 'plotly_white'\n",
    "pio.templates['plotly'].layout['autosize'] = False\n",
    "for key in pio.templates.keys():\n",
    "    pio.templates[key].layout['autosize'] = False"
   ]
  },
  {
   "cell_type": "markdown",
   "metadata": {},
   "source": [
    "## Data loading\n",
    "\n",
    "We will process CPT data for test location WFS1-2 at the Borssele offshore wind farm site. The data for this CPT is provided in AGS 4.0 format, a common data transfer format in geotechnical engineering.\n",
    "\n",
    "```groundhog``` allows import of CPT data from many different sources. We will start be creating a ```PCPTProcessing``` object for the selected PCPT."
   ]
  },
  {
   "cell_type": "code",
   "execution_count": null,
   "metadata": {},
   "outputs": [],
   "source": [
    "cpt = PCPTProcessing(title=\"WFS1-2\")"
   ]
  },
  {
   "cell_type": "markdown",
   "metadata": {},
   "source": [
    "Loading the data can happen using the ```load_ags``` method. Internally, this makes use of the AGS conversion functionality in ```groundhog``` which generates a dataframe from an AGS file.\n",
    "\n",
    "When looking at the AGS file, you can see that the headers are not very straightforward. When loading CPT data, ```groundhog``` expects the following columns:\n",
    "\n",
    "   - Depth in m - Default column key = ```z [m]```\n",
    "   - Cone tip resistance in MPa - Default column key = ```qc [MPa]```\n",
    "   - Sleeve friction in MPa (optional) - Default column key = ```fs [MPa]```\n",
    "   - Pore pressure at the shoulder in MPa (optional) - Default column key = ```u2 [MPa]```\n",
    "   \n",
    "For CPTs with multiple pushes, we also need to tell ```groundhog``` which column contains the identifier for the push. Here, there is only one push.\n",
    "   \n",
    "The AGS files has different names for these required keys, so we need to tell ```groundhog``` what they are. Moreover, $ f_s $ and $ u_2 $ have units of kPa so we need to convert to MPa by specifying the appropriate multiplier."
   ]
  },
  {
   "cell_type": "code",
   "execution_count": null,
   "metadata": {},
   "outputs": [],
   "source": [
    "cpt.load_ags(\n",
    "    path=\"Data/N6016_BH_WFS1-2_AGS4_150909.ags\",\n",
    "    z_key=\"SCPT_DPTH [m]\", qc_key=\"SCPT_RES [MN/m2]\", fs_key=\"SCPT_FRES [kN/m2]\", u2_key=\"SCPT_PWP2 [kN/m2]\",\n",
    "    fs_multiplier=0.001, u2_multiplier=0.001,\n",
    "    push_key=\"SCPG_TESN\")"
   ]
  },
  {
   "cell_type": "markdown",
   "metadata": {},
   "source": [
    "Plotting the raw CPT data is then simply achieved using the ```plot_raw_pcpt``` methods. Note that plotting ranges and tick mark intervals can be customised (as shown here for the pore pressure)."
   ]
  },
  {
   "cell_type": "code",
   "execution_count": null,
   "metadata": {},
   "outputs": [],
   "source": [
    "cpt.plot_raw_pcpt(u2_range=(-0.5, 2), u2_tick=0.25)"
   ]
  },
  {
   "cell_type": "markdown",
   "metadata": {},
   "source": [
    "The CPT data itself is contained in the ```.data``` attribute, which we can print to the notebook (```.head()``` only plots the first five rows)."
   ]
  },
  {
   "cell_type": "code",
   "execution_count": null,
   "metadata": {},
   "outputs": [],
   "source": [
    "cpt.data.head()"
   ]
  },
  {
   "cell_type": "markdown",
   "metadata": {},
   "source": [
    "## Data correction and normalisation\n",
    "\n",
    "Since the CPT data has a pore pressure sensor at the shoulder, we need to correct for the unequal area effect. Since the pore water is also pushing on the rear of the cone, the total cone resistance $ q_t $ is less than the measured cone tip resistance $ q_c $.\n",
    "\n",
    "### Cone properties\n",
    "\n",
    "To apply this correction, we need to know the cone properties. ```groundhog``` expects the cone properties in a standard format, which we can load:"
   ]
  },
  {
   "cell_type": "code",
   "execution_count": null,
   "metadata": {},
   "outputs": [],
   "source": [
    "from groundhog.siteinvestigation.insitutests.pcpt_processing import DEFAULT_CONE_PROPERTIES\n",
    "DEFAULT_CONE_PROPERTIES"
   ]
  },
  {
   "cell_type": "markdown",
   "metadata": {},
   "source": [
    "This table contains the required cone properties. We can either create a similar table in Excel and load it, or replace the values in the dataframe.\n",
    "\n",
    "The AGS file also contains the cone properties, so we can load them."
   ]
  },
  {
   "cell_type": "code",
   "execution_count": null,
   "metadata": {},
   "outputs": [],
   "source": [
    "from groundhog.general.agsconversion import AGSConverter\n",
    "converter = AGSConverter(path=\"Data/N6016_BH_WFS1-2_AGS4_150909.ags\")\n",
    "converter.create_dataframes(selectedgroups=['SCPG'], verbose_keys=True, use_shorthands=True)\n",
    "converter.data['SCPG'].head()"
   ]
  },
  {
   "cell_type": "code",
   "execution_count": null,
   "metadata": {},
   "outputs": [],
   "source": [
    "from groundhog.general.soilprofile import read_excel"
   ]
  },
  {
   "cell_type": "markdown",
   "metadata": {},
   "source": [
    "The cone properties can either be converted from the dataframe above, or they can be read from an Excel file. Note that the cone properties need to be loaded as a ```groundhog``` ```SoilProfile``` object to make use of the functionality embedded in the object."
   ]
  },
  {
   "cell_type": "code",
   "execution_count": null,
   "metadata": {},
   "outputs": [],
   "source": [
    "cone_props = read_excel(\"Data/WFS1-2_cone_props.xlsx\")\n",
    "cone_props"
   ]
  },
  {
   "cell_type": "markdown",
   "metadata": {},
   "source": [
    "### Layering\n",
    "\n",
    "We also need to specify a (preliminary) layering with the associated total unit weights and soil types. We can encode this programmatically or load from Excel. "
   ]
  },
  {
   "cell_type": "code",
   "execution_count": null,
   "metadata": {},
   "outputs": [],
   "source": [
    "layering = read_excel(\"Data/WFS1-2_layering_b.xlsx\")\n",
    "layering"
   ]
  },
  {
   "cell_type": "markdown",
   "metadata": {},
   "source": [
    "### Mapping cone properties and layering\n",
    "\n",
    "Once the layering and cone properties are known, we can map them to the cone data. This means that each data point (i.e. each depth) will get a cone properties and a layer assigned to it. This will allow us to do further calculations.\n",
    "\n",
    "In addition to the mapping, a vertical stress calculation is also performed. By default, the water level is assumed at the surface, but we can put it at another level to represent a soil profile where the phreatic surface is some distance below the ground. Since this is an offshore CPT, the water level is indeed at 0m."
   ]
  },
  {
   "cell_type": "code",
   "execution_count": null,
   "metadata": {},
   "outputs": [],
   "source": [
    "cpt.map_properties(layer_profile=layering, cone_profile=cone_props, waterlevel=0)"
   ]
  },
  {
   "cell_type": "code",
   "execution_count": null,
   "metadata": {},
   "outputs": [],
   "source": [
    "cpt.data.head()"
   ]
  },
  {
   "cell_type": "code",
   "execution_count": null,
   "metadata": {},
   "outputs": [],
   "source": [
    "cpt.plot_raw_pcpt(u2_range=(-0.5, 2), u2_tick=0.25)"
   ]
  },
  {
   "cell_type": "markdown",
   "metadata": {},
   "source": [
    "### Normalisation\n",
    "\n",
    "With the cone properties and stresses being known for each depth, the normalisation formulae can be applied. These formulae are encoded in ```groundhog``` and explained in the documentation. The method ```normalise_pcpt``` applies them all at once.\n",
    "\n",
    "Columns with the normalised properties are added to the ```.data``` attribute of our ```PCPTProcessing``` object."
   ]
  },
  {
   "cell_type": "code",
   "execution_count": null,
   "metadata": {},
   "outputs": [],
   "source": [
    "cpt.normalise_pcpt()"
   ]
  },
  {
   "cell_type": "code",
   "execution_count": null,
   "metadata": {},
   "outputs": [],
   "source": [
    "cpt.data.head()"
   ]
  },
  {
   "cell_type": "markdown",
   "metadata": {},
   "source": [
    "We can also plot the normalised properties and check the validity of our layering selection."
   ]
  },
  {
   "cell_type": "code",
   "execution_count": null,
   "metadata": {},
   "outputs": [],
   "source": [
    "cpt.plot_normalised_pcpt()"
   ]
  },
  {
   "cell_type": "markdown",
   "metadata": {},
   "source": [
    "### Data export\n",
    "\n",
    "The processing we have just done can be saved in an Excel file which contains the CPT data, selected layering, cone properties and the location of the CPT."
   ]
  },
  {
   "cell_type": "code",
   "execution_count": null,
   "metadata": {},
   "outputs": [],
   "source": [
    "cpt.to_excel(output_path=\"Data/Excel export.xlsx\")"
   ]
  },
  {
   "cell_type": "markdown",
   "metadata": {},
   "source": [
    "## Soil type classification\n",
    "\n",
    "### Robertson charts\n",
    "\n",
    "The Robertson chart allows us to classify soil types based on the combination of normalised cone tip resistance and normalised friction ratio or pore pressure ratio.\n",
    "\n",
    "```groundhog``` does this automatically and plots the combinations for the selected layers into a Robertson chart. This also shows that this data is often scattered and judgement needs to be applied."
   ]
  },
  {
   "cell_type": "code",
   "execution_count": null,
   "metadata": {},
   "outputs": [],
   "source": [
    "cpt.plot_robertson_chart()"
   ]
  },
  {
   "cell_type": "markdown",
   "metadata": {},
   "source": [
    "## Soil parameter correlations\n",
    "\n",
    "Correlation between CPT properties and other soil mechanics parameters can be applied to obtain parameters for geotechnical calculation. \n",
    "\n",
    "A common example is to derive the relative density for sand and the undrained shear strength for cohesive soils.\n",
    "\n",
    "```groundhog``` implements a number of soil parameter correlations and provides a standard interface for applying them.\n",
    "\n",
    "Each soil parameter correlation is implemented as a Python function in the module ```groundhog.siteinvestigation.insitutests.pcpt_correlations```. Each function is fully documented and validation is applied. We can check which correlations are available:"
   ]
  },
  {
   "cell_type": "code",
   "execution_count": null,
   "metadata": {},
   "outputs": [],
   "source": [
    "from groundhog.siteinvestigation.insitutests.pcpt_processing import CORRELATIONS\n",
    "CORRELATIONS.keys()"
   ]
  },
  {
   "cell_type": "markdown",
   "metadata": {},
   "source": [
    "Here, we will apply the following correlations:\n",
    "\n",
    "   - ```'Dr Jamiolkowski et al (2003)'``` for relative density in cohesionless soils\n",
    "   - ```'Su Rad and Lunne (1988)'``` for undrained shear strength of cohesive soils\n",
    "   \n",
    "When looking at our layering, we can see that we have a interbedded ```SAND/CLAY``` layer for which we need to determine whether the behaviour will be cohesionless or cohesive. Due to the excess pore pressures measured, we will treat the layer as cohesive."
   ]
  },
  {
   "cell_type": "markdown",
   "metadata": {},
   "source": [
    "### Relative density\n",
    "\n",
    "The relative density is calculated with the following formulae (see docs):\n",
    "\n",
    "$$ D_{r,dry} = \\frac{1}{2.96} \\cdot \\ln \\left[ \\frac{q_c / P_a}{24.94 \\cdot \\left( \\frac{\\sigma_{m}^{\\prime}}{P_a} \\right)^{0.46} } \\right]\\\\D_{r,sat} = \\left(  \\frac{-1.87 + 2.32 \\cdot \\ln \\left[ \\frac{q_c}{\\sqrt{P_a + \\sigma_{vo}^{\\prime}}} \\right] }{100} \\right) \\cdot \\frac{D_{r,dry}}{100} $$\n",
    "\n",
    "The function requires cone tip resistance $ q_c $, vertical effective stress $ \\sigma_{vo}^{\\prime} $ and also the coefficient of lateral earth pressure $ K_0 $ to calculate the mean effective stress $ \\sigma_m^{\\prime} $\n",
    "\n",
    "The function returns a dictionary with the keys ```Dr dry [-]``` for relative density in dry soil and ```Dr sat [-]``` for relative density in saturated soil.\n",
    "\n",
    "We can apply the correlation with the ```apply_correlation``` method and then need to enter the following information:\n",
    "\n",
    "   - The title of the correlation to be used (```'Dr Jamiolkowski et al (2003)'```)\n",
    "   - A dictionary containing the keys in the function output as keys (```'Dr sat [-]'```) and the desired column names (```'Dr [-]'```) as values\n",
    "   - The coefficient of lateral earth pressure (```k0```) which is an argument for the correlation\n",
    "   - Which soil types to apply the correlation to. Here, we will only apply it to ```SAND```. Note that we need to supply a Python list here.\n",
    "   \n",
    "Note that ```groundhog``` will issue warnings when we go outside the validation ranges of the function, but the calculation will not break down."
   ]
  },
  {
   "cell_type": "code",
   "execution_count": null,
   "metadata": {},
   "outputs": [],
   "source": [
    "cpt.apply_correlation('Dr Jamiolkowski et al (2003)', outputs={'Dr sat [-]': 'Dr [-]'},\n",
    "                      k0=0.8,\n",
    "                      apply_for_soiltypes=['SAND',])"
   ]
  },
  {
   "cell_type": "markdown",
   "metadata": {},
   "source": [
    "We can check the numerical output:"
   ]
  },
  {
   "cell_type": "code",
   "execution_count": null,
   "metadata": {},
   "outputs": [],
   "source": [
    "cpt.data.head()"
   ]
  },
  {
   "cell_type": "markdown",
   "metadata": {},
   "source": [
    "### Undrained shear strength\n",
    "\n",
    "The undrained shear strength can be derived from the net cone resistance ($ q_{net} = q_t - \\sigma_{vo} $) as follows:\n",
    "\n",
    "$$ S_u = \\frac{q_{net}}{N_k} $$\n",
    "\n",
    "The factor $ N_k $ is usually determined based on correlations between the CPT and laboratory measurements. For North Sea soils, this value is typically between 15 and 20. We will apply an average factor of 17.5 here.\n",
    "\n",
    "The correlation is applied using the same syntax as for the relative density, but here we will apply it to ```CLAY``` and ```SAND/CLAY```."
   ]
  },
  {
   "cell_type": "code",
   "execution_count": null,
   "metadata": {},
   "outputs": [],
   "source": [
    "cpt.apply_correlation('Su Rad and Lunne (1988)', outputs={'Su [kPa]': 'Su [kPa]'},\n",
    "                      Nk=NKT,\n",
    "                      apply_for_soiltypes=['CLAY', 'SAND/CLAY'])"
   ]
  },
  {
   "cell_type": "markdown",
   "metadata": {},
   "source": [
    "### Visualising soil parameter correlations\n",
    "\n",
    "```groundhog``` contains functionality for visualising CPT data using a relatively simple syntax. It is always instructive to show a color-coded soil profile next to soil parameter plots and that's what the class ```LogPlot``` does.\n",
    "\n",
    "We first need to defined a Python dictionary with the colors for each soil type:"
   ]
  },
  {
   "cell_type": "code",
   "execution_count": null,
   "metadata": {},
   "outputs": [],
   "source": [
    "fillcolors = {\n",
    "    \"SAND\": \"yellow\",\n",
    "    \"CLAY\": \"brown\",\n",
    "    \"SAND/CLAY\": \"orange\",\n",
    "    \"SILT\": \"green\"\n",
    "}"
   ]
  },
  {
   "cell_type": "markdown",
   "metadata": {},
   "source": [
    "Then we need to tell the method which parameters to plot. The argument ```prop_keys``` takes a list of soil parameter title lists. In the example, we will plot three panels, one for $ q_c $, one for $ D_r $ and one for $ S_u $. Each panel only contains one trace, so we have lists of one element.\n",
    "\n",
    "We can specify whether to show the legend or not (```showlegends``` argument), what the ranges for our X-axes are (```plot_ranges``` argument) and the tick intervals on our X-axes (```plot_ticks``` argument). The X-axis titles can be specified (```axis_titles``` argument, note the $ \\LaTeX $ syntax).\n",
    "\n",
    "Finally, we set the z-range of our plot (```zrange``` argument) and can customise the layout using Plotly syntax (```layout``` argument). The colors for the soil profile are passed in the ```fillcolordict``` argument."
   ]
  },
  {
   "cell_type": "code",
   "execution_count": null,
   "metadata": {},
   "outputs": [],
   "source": [
    "from groundhog.general.plotting import LogPlot"
   ]
  },
  {
   "cell_type": "code",
   "execution_count": null,
   "metadata": {},
   "outputs": [],
   "source": [
    "cpt_processed_plot = LogPlot(layering, no_panels=3, fillcolordict=fillcolors)\n",
    "cpt_processed_plot.add_trace(\n",
    "    x=cpt.data['qc [MPa]'],\n",
    "    z=cpt.data['z [m]'],\n",
    "    name='qc',\n",
    "    showlegend=True,\n",
    "    panel_no=1)\n",
    "cpt_processed_plot.add_trace(\n",
    "    x=cpt.data['qt [MPa]'],\n",
    "    z=cpt.data['z [m]'],\n",
    "    name='qt',\n",
    "    showlegend=True,\n",
    "    panel_no=1)\n",
    "cpt_processed_plot.add_trace(\n",
    "    x=cpt.data['Dr [-]'],\n",
    "    z=cpt.data['z [m]'],\n",
    "    name='Dr',\n",
    "    showlegend=False,\n",
    "    panel_no=2)\n",
    "cpt_processed_plot.add_trace(\n",
    "    x=cpt.data['Su [kPa]'],\n",
    "    z=cpt.data['z [m]'],\n",
    "    name='Su',\n",
    "    showlegend=False,\n",
    "    panel_no=3)\n",
    "cpt_processed_plot.set_xaxis(title=r'$ q_c, \\ q_t \\ \\text{[MPa]} $', panel_no=1)\n",
    "cpt_processed_plot.set_xaxis(title=r'$ D_r \\ \\text{[-]} $', panel_no=2, range=(0, 1.2))\n",
    "cpt_processed_plot.set_xaxis(title=r'$ S_u \\ \\text{[kPa]} $', panel_no=3)\n",
    "cpt_processed_plot.set_zaxis(title=r'$ z \\ \\text{[m]} $', range=(30, 0))\n",
    "cpt_processed_plot.show()"
   ]
  },
  {
   "cell_type": "markdown",
   "metadata": {},
   "source": [
    "## Visualising spatial variability\n",
    "\n",
    "```groundhog``` allows the rapid creation of profile lines which plot multiple CPT traces along a profile. For this purpose, we need to set the position of the CPTs using the ```set_position``` method.\n",
    "\n",
    "We will load 4 CPTs from their AGS files and plot the CPT traces on one profile.\n",
    "\n",
    "This example also demonstrates the automation possibilities of Python and ```groundhog```. We can first create a list of the locations for the profile."
   ]
  },
  {
   "cell_type": "code",
   "execution_count": null,
   "metadata": {},
   "outputs": [],
   "source": [
    "locations = ['WFS1-3', 'WFS1-2A', 'WFS1-5A', 'WFS1-6']"
   ]
  },
  {
   "cell_type": "markdown",
   "metadata": {},
   "source": [
    "We will create an empty list to store the CPTs:"
   ]
  },
  {
   "cell_type": "code",
   "execution_count": null,
   "metadata": {},
   "outputs": [],
   "source": [
    "profile_cpts = []"
   ]
  },
  {
   "cell_type": "markdown",
   "metadata": {},
   "source": [
    "We can then loop over the locations and create ```PCPTProcessing``` objects for each. The path is made parametric to allow reading the different files.\n",
    "\n",
    "Once the data is read, the ```PCPTProcessing``` object is appended to the list ```profile_cpts```."
   ]
  },
  {
   "cell_type": "code",
   "execution_count": null,
   "metadata": {},
   "outputs": [],
   "source": [
    "for _loc in locations:\n",
    "    _profile_cpt = PCPTProcessing(title=_loc)\n",
    "    _profile_cpt.load_ags(\n",
    "        path=\"Data/N6016_BH_%s_AGS4_150909.ags\" % _loc,\n",
    "        z_key=\"SCPT_DPTH [m]\", qc_key=\"SCPT_RES [MN/m2]\", fs_key=\"SCPT_FRES [kN/m2]\", u2_key=\"SCPT_PWP2 [kN/m2]\",\n",
    "        push_key=\"SCPG_TESN\",\n",
    "        fs_multiplier=0.001, u2_multiplier=0.001)\n",
    "    profile_cpts.append(_profile_cpt)"
   ]
  },
  {
   "cell_type": "markdown",
   "metadata": {},
   "source": [
    "We can of course check the output for an individual CPT by using Python's syntax for accessing list elements."
   ]
  },
  {
   "cell_type": "code",
   "execution_count": null,
   "metadata": {},
   "outputs": [],
   "source": [
    "profile_cpts[0].plot_raw_pcpt()"
   ]
  },
  {
   "cell_type": "markdown",
   "metadata": {},
   "source": [
    "We then need to fix the locations of our CPTs in space. Coordinates and elevations can be retrieved from survey reports. It is important to add the correct coordinate system. Note that the longitudinale profiles will not work with latitude and longitude information."
   ]
  },
  {
   "cell_type": "code",
   "execution_count": null,
   "metadata": {},
   "outputs": [],
   "source": [
    "eastings = [499081.02, 502763.64, 505926.68, 508454.6]\n",
    "northings = [5732354.88, 5732537.58, 5730101.12, 5728133.69]\n",
    "elevations = [-32.8, -24.6, -25.5, -31.6]\n",
    "SRID = 25831"
   ]
  },
  {
   "cell_type": "markdown",
   "metadata": {},
   "source": [
    "We can loop over each CPT and set its position. The ```enumerate``` operator is very handy in this respect."
   ]
  },
  {
   "cell_type": "code",
   "execution_count": null,
   "metadata": {},
   "outputs": [],
   "source": [
    "for i, _cpt in enumerate(profile_cpts):\n",
    "    _cpt.set_position(easting=eastings[i], northing=northings[i], elevation=elevations[i], srid=SRID)"
   ]
  },
  {
   "cell_type": "markdown",
   "metadata": {},
   "source": [
    "Plotting of the longitudinal profile is done by the ```plot_longitudinal_profile``` method. This method returns a Plotly figure and visualizes the CPT information along the profile."
   ]
  },
  {
   "cell_type": "code",
   "execution_count": null,
   "metadata": {},
   "outputs": [],
   "source": [
    "from groundhog.siteinvestigation.insitutests.pcpt_processing import plot_longitudinal_profile"
   ]
  },
  {
   "cell_type": "markdown",
   "metadata": {},
   "source": [
    "We need to determine the start and the end point of the profile and the band in which the algorithm will search for locations. The offset from the profile line is rendered in the plot. The CPT trace can be made bigger or smaller using the ```scale_factor``` argument."
   ]
  },
  {
   "cell_type": "code",
   "execution_count": null,
   "metadata": {},
   "outputs": [],
   "source": [
    "pcpt_fig = plot_longitudinal_profile(\n",
    "    cpts=profile_cpts,\n",
    "    start='WFS1-3', end='WFS1-6',\n",
    "    band=2000, scale_factor=10\n",
    "    )"
   ]
  },
  {
   "cell_type": "markdown",
   "metadata": {},
   "source": [
    "<img src=\"Images/groundhog_banner_wide.png\">"
   ]
  },
  {
   "cell_type": "code",
   "execution_count": null,
   "metadata": {},
   "outputs": [],
   "source": []
  }
 ],
 "metadata": {
  "hide_input": false,
  "kernelspec": {
   "display_name": "Python 3 (ipykernel)",
   "language": "python",
   "name": "python3"
  },
  "language_info": {
   "codemirror_mode": {
    "name": "ipython",
    "version": 3
   },
   "file_extension": ".py",
   "mimetype": "text/x-python",
   "name": "python",
   "nbconvert_exporter": "python",
   "pygments_lexer": "ipython3",
   "version": "3.10.9"
  },
  "toc": {
   "base_numbering": 1,
   "nav_menu": {},
   "number_sections": true,
   "sideBar": true,
   "skip_h1_title": true,
   "title_cell": "Table of Contents",
   "title_sidebar": "Contents",
   "toc_cell": false,
   "toc_position": {
    "height": "calc(100% - 180px)",
    "left": "10px",
    "top": "150px",
    "width": "336px"
   },
   "toc_section_display": true,
   "toc_window_display": true
  }
 },
 "nbformat": 4,
 "nbformat_minor": 4
}
