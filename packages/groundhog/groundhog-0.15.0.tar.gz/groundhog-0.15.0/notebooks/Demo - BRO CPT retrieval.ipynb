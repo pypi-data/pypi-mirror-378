{
 "cells": [
  {
   "cell_type": "markdown",
   "metadata": {},
   "source": [
    "# CPT retrieval from BRO (DINOLoket)"
   ]
  },
  {
   "cell_type": "code",
   "execution_count": null,
   "metadata": {},
   "outputs": [],
   "source": [
    "import numpy as np\n",
    "import os\n",
    "import re\n",
    "from IPython.display import HTML\n",
    "import pandas as pd\n",
    "#import xmltodict\n",
    "import requests\n",
    "pd.options.display.max_columns = 200\n",
    "pd.options.display.max_rows = 1000"
   ]
  },
  {
   "cell_type": "code",
   "execution_count": null,
   "metadata": {},
   "outputs": [],
   "source": [
    "from plotly import tools, subplots\n",
    "import plotly.express as px\n",
    "import plotly.graph_objs as go\n",
    "import plotly.io as pio\n",
    "import plotly.figure_factory as ff\n",
    "from plotly.colors import DEFAULT_PLOTLY_COLORS\n",
    "from plotly.offline import init_notebook_mode\n",
    "init_notebook_mode()\n",
    "pio.templates.default = 'plotly_white'"
   ]
  },
  {
   "cell_type": "code",
   "execution_count": null,
   "metadata": {},
   "outputs": [],
   "source": [
    "import xml.etree.ElementTree as ET"
   ]
  },
  {
   "cell_type": "markdown",
   "metadata": {},
   "source": [
    "## Location-based query\n",
    "\n",
    "First, all CPTs around a certain point can be retrieved (in lat/lon)."
   ]
  },
  {
   "cell_type": "code",
   "execution_count": null,
   "metadata": {},
   "outputs": [],
   "source": [
    "url = \"https://publiek.broservices.nl/sr/cpt/v1/characteristics/searches?requestReference=request\""
   ]
  },
  {
   "cell_type": "code",
   "execution_count": null,
   "metadata": {},
   "outputs": [],
   "source": [
    "# setup the query params (literal copy of the bro example in the docs)\n",
    "my_obj = {\n",
    "    \"registrationPeriod\": {\"beginDate\": \"2017-01-01\", \"endDate\": \"2021-01-01\"},\n",
    "    \"area\": {\n",
    "        \"enclosingCircle\": {\n",
    "            \"center\": {\"lat\": 52.038297852, \"lon\": 5.31447958948},\n",
    "            \"radius\": 0.5,\n",
    "        }\n",
    "    },\n",
    "}\n",
    "\n",
    "# get it..\n",
    "x = requests.post(url, json=my_obj)"
   ]
  },
  {
   "cell_type": "markdown",
   "metadata": {},
   "source": [
    "The XML response contains information on the CPTs found in the area. Multiple CPTs can be returned. Note that detailed CPT data is not included in the response."
   ]
  },
  {
   "cell_type": "code",
   "execution_count": null,
   "metadata": {},
   "outputs": [],
   "source": [
    "x.text"
   ]
  },
  {
   "cell_type": "markdown",
   "metadata": {},
   "source": [
    "The response can be parsed to get to IDs for the CPTs found."
   ]
  },
  {
   "cell_type": "code",
   "execution_count": null,
   "metadata": {},
   "outputs": [],
   "source": [
    "root = ET.fromstring(x.text)"
   ]
  },
  {
   "cell_type": "markdown",
   "metadata": {},
   "source": [
    "The names of the CPTs and the locations are parsed from the XML response."
   ]
  },
  {
   "cell_type": "code",
   "execution_count": null,
   "metadata": {},
   "outputs": [],
   "source": [
    "broIds = []\n",
    "srids = []\n",
    "eastings = []\n",
    "northings = []\n",
    "for child in root:\n",
    "    if child.tag == \"{http://www.broservices.nl/xsd/dscpt/1.1}dispatchDocument\":\n",
    "        for elem in child:\n",
    "            for e in elem.findall(\"{http://www.broservices.nl/xsd/brocommon/3.0}broId\"):\n",
    "                broIds.append(e.text)\n",
    "            for e in elem.findall(\"{http://www.broservices.nl/xsd/brocommon/3.0}deliveredLocation\"):\n",
    "                srids.append(e.attrib['srsName'][-5:])\n",
    "                for _t in e:\n",
    "                    eastings.append(float(re.split(' ', _t.text)[0]))\n",
    "                    northings.append(float(re.split(' ', _t.text)[1]))\n",
    "            \n",
    "broIds, srids, eastings, northings"
   ]
  },
  {
   "cell_type": "markdown",
   "metadata": {},
   "source": [
    "For plotting purposes, the coordinates are converted to lat/lon pairs and stored in a Pandas dataframe."
   ]
  },
  {
   "cell_type": "code",
   "execution_count": null,
   "metadata": {},
   "outputs": [],
   "source": [
    "from pyproj import Transformer\n",
    "location_data = pd.DataFrame()\n",
    "for i, _test in enumerate(broIds):\n",
    "    transformer = Transformer.from_crs('epsg:%s' % (srids[i]), 'epsg:4326')\n",
    "    lat, lon = transformer.transform(eastings[i], northings[i])\n",
    "    location_data.loc[i, \"Location\"]  = _test\n",
    "    location_data.loc[i, \"easting\"] = lon\n",
    "    location_data.loc[i, \"northing\"] = lat"
   ]
  },
  {
   "cell_type": "markdown",
   "metadata": {},
   "source": [
    "A map with the retrieved CPTs can be plotted."
   ]
  },
  {
   "cell_type": "code",
   "execution_count": null,
   "metadata": {},
   "outputs": [],
   "source": [
    "fig = px.scatter_mapbox(location_data, lat='northing', lon='easting', hover_name='Location',\n",
    "    hover_data=['Location'], zoom=15, height=500)\n",
    "fig.update_layout(mapbox_style='open-street-map')\n",
    "fig.update_layout(margin={'r': 0, 't': 0, 'l': 0, 'b': 0})\n",
    "fig.show()"
   ]
  },
  {
   "cell_type": "markdown",
   "metadata": {},
   "source": [
    "## Retrieval of detailed CPT data\n",
    "\n",
    "We can select one of the CPTs in the response and retrieve the details using the ```geotexxx``` library developed by Thomas van der Linden.\n",
    "\n",
    "We can first load the ``Cpt`` class."
   ]
  },
  {
   "cell_type": "code",
   "execution_count": null,
   "metadata": {},
   "outputs": [],
   "source": [
    "from geotexxx.gefxml_reader import Cpt"
   ]
  },
  {
   "cell_type": "markdown",
   "metadata": {},
   "source": [
    "Next, the URL for retrieving the CPT data is built up using the ``broId`` of the CPT under consideration:"
   ]
  },
  {
   "cell_type": "code",
   "execution_count": null,
   "metadata": {},
   "outputs": [],
   "source": [
    "detail_url = f\"https://publiek.broservices.nl/sr/cpt/v1/objects/%s\" % broIds[1]\n",
    "detail_url"
   ]
  },
  {
   "cell_type": "markdown",
   "metadata": {},
   "source": [
    "A ``GET`` request to this URL is performed to retrieve the XML data:"
   ]
  },
  {
   "cell_type": "code",
   "execution_count": null,
   "metadata": {},
   "outputs": [],
   "source": [
    "resp = requests.get(detail_url)"
   ]
  },
  {
   "cell_type": "markdown",
   "metadata": {},
   "source": [
    "The XML is stored in the ``.text`` attribute:"
   ]
  },
  {
   "cell_type": "code",
   "execution_count": null,
   "metadata": {},
   "outputs": [],
   "source": [
    "resp.text"
   ]
  },
  {
   "cell_type": "markdown",
   "metadata": {},
   "source": [
    "We can instantiate a ``Cpt`` object and load the XML data using the ``load_xml`` method."
   ]
  },
  {
   "cell_type": "code",
   "execution_count": null,
   "metadata": {},
   "outputs": [],
   "source": [
    "cpt_detail = Cpt()\n",
    "\n",
    "cpt_detail.load_xml(resp.text, fromFile=False)"
   ]
  },
  {
   "cell_type": "markdown",
   "metadata": {},
   "source": [
    "The CPT data is stored in the ``.data`` attribute."
   ]
  },
  {
   "cell_type": "code",
   "execution_count": null,
   "metadata": {},
   "outputs": [],
   "source": [
    "cpt_detail.data.head()"
   ]
  },
  {
   "cell_type": "markdown",
   "metadata": {},
   "source": [
    "## Loading data into ``groundhog``\n",
    "\n",
    "The CPT processing functionality in ``groundhog`` can be used with the BRO CPT data. \n",
    "\n",
    "``groundhog`` expects a pore pressure column ``'u2 [MPa]'``. This data is not present in the XML response, so an additional column with NaN values is created:"
   ]
  },
  {
   "cell_type": "code",
   "execution_count": null,
   "metadata": {},
   "outputs": [],
   "source": [
    "cpt_detail.data.loc[:, 'u2 [MPa]'] = np.nan"
   ]
  },
  {
   "cell_type": "markdown",
   "metadata": {},
   "source": [
    "We can instantiate a ``PCPTProcessing`` object:"
   ]
  },
  {
   "cell_type": "code",
   "execution_count": null,
   "metadata": {},
   "outputs": [],
   "source": [
    "from groundhog.siteinvestigation.insitutests.pcpt_processing import PCPTProcessing\n",
    "groundhogcpt = PCPTProcessing(\"BRO CPT\")"
   ]
  },
  {
   "cell_type": "markdown",
   "metadata": {},
   "source": [
    "As the CPT data is already available in a dataframe, we can use the ``.load_pandas`` method to load this data into the ``PCPTProcessing`` object."
   ]
  },
  {
   "cell_type": "code",
   "execution_count": null,
   "metadata": {},
   "outputs": [],
   "source": [
    "groundhogcpt.load_pandas(cpt_detail.data, z_key=\"penetrationLength\", qc_key=\"coneResistance\", fs_key=\"localFriction\")"
   ]
  },
  {
   "cell_type": "markdown",
   "metadata": {},
   "source": [
    "The CPT data can be plotted:"
   ]
  },
  {
   "cell_type": "code",
   "execution_count": null,
   "metadata": {},
   "outputs": [],
   "source": [
    "groundhogcpt.plot_raw_pcpt(plot_friction_ratio=True)"
   ]
  },
  {
   "cell_type": "code",
   "execution_count": null,
   "metadata": {},
   "outputs": [],
   "source": []
  }
 ],
 "metadata": {
  "hide_input": false,
  "kernelspec": {
   "display_name": "Python 3 (ipykernel)",
   "language": "python",
   "name": "python3"
  },
  "language_info": {
   "codemirror_mode": {
    "name": "ipython",
    "version": 3
   },
   "file_extension": ".py",
   "mimetype": "text/x-python",
   "name": "python",
   "nbconvert_exporter": "python",
   "pygments_lexer": "ipython3",
   "version": "3.10.9"
  },
  "toc": {
   "base_numbering": 1,
   "nav_menu": {},
   "number_sections": true,
   "sideBar": true,
   "skip_h1_title": true,
   "title_cell": "Table of Contents",
   "title_sidebar": "Contents",
   "toc_cell": false,
   "toc_position": {},
   "toc_section_display": true,
   "toc_window_display": true
  }
 },
 "nbformat": 4,
 "nbformat_minor": 4
}
