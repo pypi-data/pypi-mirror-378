{
 "cells": [
  {
   "cell_type": "markdown",
   "metadata": {},
   "source": [
    "<img class='pull-right' src='Images/cgs.png'>"
   ]
  },
  {
   "cell_type": "markdown",
   "metadata": {},
   "source": [
    "# CGS webinar - De Beer method for unit base resistance\n",
    "\n",
    "This notebook presents the workflow for calculating unit base resistance according to De Beer's method, which is the method in the Belgian National Annex of Eurocode 7. Calculating unit base resistance from penetrometer results is also described in the Canadian Foundation Engineering Manual using the method by Bustamante and Gianselli (1982).\n",
    "\n",
    "This notebook shows how ```groundhog``` greatly simplifies the fairly complex unit base resistance algorithm by De Beer, allowing students to focus on the interpretation of results and sensitivity studies.\n",
    "\n",
    "The CPT information used in this tutorial is from [Databank Ondergrond Vlaanderen](https://dov.vlaanderen.be/)."
   ]
  },
  {
   "cell_type": "markdown",
   "metadata": {},
   "source": [
    "## Loading libraries\n",
    "\n",
    "For the processing of CPT data, we will need the ```DeBeerCalculation``` class from ```groundhog```. This class encodes all required functionality to perform unit base resistance calculations. We can import it as follows:"
   ]
  },
  {
   "cell_type": "code",
   "execution_count": null,
   "metadata": {},
   "outputs": [],
   "source": [
    "from groundhog.deepfoundations.axialcapacity.debeer import DeBeerCalculation"
   ]
  },
  {
   "cell_type": "markdown",
   "metadata": {},
   "source": [
    "We will also import the ```PCPTProcessing``` and ```SoilProfile``` objects."
   ]
  },
  {
   "cell_type": "code",
   "execution_count": null,
   "metadata": {},
   "outputs": [],
   "source": [
    "from groundhog.siteinvestigation.insitutests.pcpt_processing import PCPTProcessing\n",
    "from groundhog.general.soilprofile import SoilProfile"
   ]
  },
  {
   "cell_type": "markdown",
   "metadata": {},
   "source": [
    "## Data loading\n",
    "\n",
    "We will calculate unit base resistance based on an example PCPT from the Ghent area (Belgium). This CPT is given in Excel format.\n",
    "\n",
    "```groundhog``` allows import of CPT data from many different sources, of which Excel is one of the most straightforward."
   ]
  },
  {
   "cell_type": "code",
   "execution_count": null,
   "metadata": {},
   "outputs": [],
   "source": [
    "cpt = PCPTProcessing(title=\"CPT\")\n",
    "cpt.load_excel(\"Data/Koppejan_DeBeer_demo.xlsx\")"
   ]
  },
  {
   "cell_type": "markdown",
   "metadata": {},
   "source": [
    "We can inspect the data numerically. This shows that only cone resistance was measured. This is because many CPT investigations in Belgium are still carried out with the M1 mechanical cone. "
   ]
  },
  {
   "cell_type": "code",
   "execution_count": null,
   "metadata": {},
   "outputs": [],
   "source": [
    "cpt.data.head()"
   ]
  },
  {
   "cell_type": "markdown",
   "metadata": {},
   "source": [
    "We can visualise the data using the ```plot_raw_pcpt``` method and customise the $ q_c $ axis."
   ]
  },
  {
   "cell_type": "code",
   "execution_count": null,
   "metadata": {},
   "outputs": [],
   "source": [
    "cpt.plot_raw_pcpt(qc_range=(0,20), qc_tick=2)"
   ]
  },
  {
   "cell_type": "markdown",
   "metadata": {},
   "source": [
    "## Unit end bearing\n",
    "\n",
    "### Unit end bearing algorithm\n",
    "\n",
    "The unit end bearing is calculated by processing the CPT trace using the De Beer end bearing calculation encoded in the Python package ```groundhog```.\n",
    "\n",
    "De Beer's method accounts for scaling from a CPT to a pile in a rigorous manner. The CPT is treated as a model pile and the following effects are corrected for:\n",
    "\n",
    "   - The pile \"feels\" the presence of the free surface up to deeper depths\n",
    "   - The stress level on the failure surface induced by the pile is higher than on that for the CPT\n",
    "   - The pile \"feels\" the effects of stronger and weaker layers before the CPT does\n",
    "\n",
    "We can run the calculation and derive the value of unit end bearing $ q_{DeBeer} $ at a selected depth.\n",
    "\n",
    "The full algorithm is described in the ```groundhog``` documentation and applies the following algorithm:\n",
    "\n",
    "$$ \\text{Step 1 - Surface correction:  } q_{p,(1)} = \\frac{q_c}{\\exp \\left( 2 \\cdot ( \\beta_c - \\beta_p ) \\cdot \\tan \\varphi \\right) } \\\\ \\text{Step 2 - Stress level correction:  }  A = \\frac{1 + \\frac{\\gamma \\cdot h_{crit}^{\\prime}}{2 \\cdot p_o}}{1 + \\frac{\\gamma \\cdot h_{crit}}{2 \\cdot p_o}},  \\text{ if } A \\cdot q_{p,(1)} > q_c  \\implies A \\cdot q_{p,(1)} = q_c \\\\ \\text{Step 3 - Downward correction:  } q_{p,j+1} = q_{p,j} + \\left[ A \\cdot q_{p,(1),j+1} - q_{p,j} \\right] \\cdot \\frac{d}{D}\n",
    " , \\text{ if } q_{p,j+1} > q_{p,(1),j+1} \\implies q_{p,j+1} = q_{p,(1),j+1} \\\\ \\text{Step 4 - Upward correction:  } q_{p,q+1} = q_{p,q} + \\left[ (q_{p,j+1})_{q+1} - q_{p,q} \\right] \\cdot \\frac{d}{D},  \\text{ if } q_{p,q+1} > (q_{p,j+1})_{q+1} \\implies q_{p,q+1} = (q_{p,j+1})_{q+1} $$\n",
    " \n",
    "This is a complex and iterative algorithm which is clearly beyond the scope of basic geotechnical courses. However, the sound physical principles reflected in this algorithm deserve use in courses.\n",
    "\n",
    "This is why ```groundhog``` implements this algorithm. The students only need to supply the cone resistance trace and the diameter of the pile.\n",
    "\n",
    "### Calculation initialisation\n",
    "\n",
    "As an example, we can set up this calculation for a 0.4m outer diameter pile. We can create a ```DeBeerCalculation``` object by telling it where to find depth data (```depth``` argument) and cone tip resistance data (```qc``` argument). We then specify the pile diameter (```diameter_pile``` argument). This diameter is required for the averaging procedure."
   ]
  },
  {
   "cell_type": "code",
   "execution_count": null,
   "metadata": {},
   "outputs": [],
   "source": [
    "debeer_cpt = DeBeerCalculation(\n",
    "    depth=cpt.data[\"z [m]\"],\n",
    "    qc=cpt.data[\"qc [MPa]\"],\n",
    "    diameter_pile=0.8)"
   ]
  },
  {
   "cell_type": "markdown",
   "metadata": {},
   "source": [
    "### Resampling\n",
    "\n",
    "At this point, the algorithm has not been executed yet. We still need to perform two additional steps. The first is to resample the data to a 0.2m grid. This is because De Beer's method was based on mechanical cone penetration tests which have a push of 20cm.\n",
    "\n",
    "We can simply carry out this resampling using the ```resample_data``` method."
   ]
  },
  {
   "cell_type": "code",
   "execution_count": null,
   "metadata": {},
   "outputs": [],
   "source": [
    "debeer_cpt.resample_data(spacing=0.2)"
   ]
  },
  {
   "cell_type": "markdown",
   "metadata": {},
   "source": [
    "### Soil profile specification\n",
    "\n",
    "De Beer's algorithm also needs a basic definition of the layering. Although this is not strictly required for the unit base resistance calculation, this is included in the workflow at an early stage. This is because the overburden calculation is also performed when the soil profile is set using the ```set_soil_layers``` method. The water table level can also be set in this step."
   ]
  },
  {
   "cell_type": "code",
   "execution_count": null,
   "metadata": {},
   "outputs": [],
   "source": [
    "soilprofile = SoilProfile({\n",
    "    \"Depth from [m]\": [0, 2, 8.5],\n",
    "    \"Depth to [m]\": [2, 8.5, 14],\n",
    "    'Soil type': ['Sand', 'Clay', 'Sand']\n",
    "})\n",
    "debeer_cpt.set_soil_layers(soilprofile, water_level=0)"
   ]
  },
  {
   "cell_type": "markdown",
   "metadata": {},
   "source": [
    "We can inspect the attributes ```layering``` and ```calculation_data``` of the ```DeBeerCalculation``` object after the mapping of the soil profile."
   ]
  },
  {
   "cell_type": "code",
   "execution_count": null,
   "metadata": {},
   "outputs": [],
   "source": [
    "debeer_cpt.layering"
   ]
  },
  {
   "cell_type": "markdown",
   "metadata": {},
   "source": [
    "### Unit end bearing calculation\n",
    "\n",
    "Everything is now ready for the unit end bearing calculation which is executed by calling the method ```calculate_base_resistance```."
   ]
  },
  {
   "cell_type": "code",
   "execution_count": null,
   "metadata": {},
   "outputs": [],
   "source": [
    "debeer_cpt.calculate_base_resistance()"
   ]
  },
  {
   "cell_type": "markdown",
   "metadata": {},
   "source": [
    "We can inspect the calculation details which are included in the ```calc_1``` attribute."
   ]
  },
  {
   "cell_type": "code",
   "execution_count": null,
   "metadata": {},
   "outputs": [],
   "source": [
    "debeer_cpt.calc_1.head()"
   ]
  },
  {
   "cell_type": "markdown",
   "metadata": {},
   "source": [
    "Visualising the results is more instructive. The method ```plot_base_resistance``` visualizes the unit base resistance. The averaging effect is clearly visible and the point with highest unit end bearing $ q_b $ can be identified from the plot."
   ]
  },
  {
   "cell_type": "code",
   "execution_count": null,
   "metadata": {},
   "outputs": [],
   "source": [
    "debeer_cpt.plot_base_resistance()"
   ]
  },
  {
   "cell_type": "markdown",
   "metadata": {},
   "source": [
    "The workflow above allows students to explore the influence of the settings of De Beer's method on the calculated unit end bearing $ q_b $. This allows sensitivity studies. The results can also be carried further into a full axial pile resistance calculation according to Eurocode 7."
   ]
  },
  {
   "cell_type": "markdown",
   "metadata": {},
   "source": [
    "<img src=\"Images/groundhog_banner_wide.png\">"
   ]
  },
  {
   "cell_type": "code",
   "execution_count": null,
   "metadata": {},
   "outputs": [],
   "source": []
  }
 ],
 "metadata": {
  "hide_input": false,
  "kernelspec": {
   "display_name": "Python 3 (ipykernel)",
   "language": "python",
   "name": "python3"
  },
  "language_info": {
   "codemirror_mode": {
    "name": "ipython",
    "version": 3
   },
   "file_extension": ".py",
   "mimetype": "text/x-python",
   "name": "python",
   "nbconvert_exporter": "python",
   "pygments_lexer": "ipython3",
   "version": "3.10.9"
  },
  "toc": {
   "base_numbering": 1,
   "nav_menu": {},
   "number_sections": true,
   "sideBar": true,
   "skip_h1_title": true,
   "title_cell": "Table of Contents",
   "title_sidebar": "Contents",
   "toc_cell": false,
   "toc_position": {},
   "toc_section_display": true,
   "toc_window_display": true
  }
 },
 "nbformat": 4,
 "nbformat_minor": 4
}
