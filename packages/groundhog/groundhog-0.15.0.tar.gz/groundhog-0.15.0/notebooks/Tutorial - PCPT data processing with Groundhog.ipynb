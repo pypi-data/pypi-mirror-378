{
 "cells": [
  {
   "cell_type": "markdown",
   "metadata": {},
   "source": [
    "# Tutorial - PCPT data processing with Groundhog\n",
    "\n",
    "A PCPT processing tool has been created within the ```groundhog``` package. This tool is made available to allow rapid import of PCPT data, basic processing and checking of the sensitivity to processing parameters. Moreover, correlations between PCPT properties and other soil mechanical parameters an easily be applied.\n",
    "\n",
    "In this tutorial, the processing of PCPT data is covered."
   ]
  },
  {
   "cell_type": "code",
   "execution_count": null,
   "metadata": {},
   "outputs": [],
   "source": [
    "from plotly import tools, subplots\n",
    "import plotly.express as px\n",
    "import plotly.graph_objs as go\n",
    "import plotly.io as pio\n",
    "import plotly.figure_factory as ff\n",
    "from plotly.colors import DEFAULT_PLOTLY_COLORS\n",
    "from plotly.offline import download_plotlyjs, init_notebook_mode, plot, iplot\n",
    "init_notebook_mode()\n",
    "pio.templates.default = 'plotly_white'\n",
    "pio.templates['plotly'].layout['autosize'] = False\n",
    "for key in pio.templates.keys():\n",
    "    pio.templates[key].layout['autosize'] = False"
   ]
  },
  {
   "cell_type": "markdown",
   "metadata": {},
   "source": [
    "In this tutorial, we will also make use of the ```SoilProfile``` class which encodes functionality for soil profile processing."
   ]
  },
  {
   "cell_type": "code",
   "execution_count": null,
   "metadata": {},
   "outputs": [],
   "source": [
    "from groundhog.siteinvestigation.insitutests.pcpt_processing import PCPTProcessing\n",
    "from groundhog.general.soilprofile import SoilProfile"
   ]
  },
  {
   "cell_type": "markdown",
   "metadata": {},
   "source": [
    "## PCPT import\n",
    "\n",
    "We will work with PCPT data specified in an Excel file.\n",
    "\n",
    "The data is loaded using the ```load_excel``` method. A dataframe is be created from Excel data and added as the ```.data``` attribute of the PCPTProcessing object. Note that $ q_c $, $ f_s $ and $ u_2 $ need to have the dimension MPa. If they don't multipliers can be specified to convert them to these dimensions."
   ]
  },
  {
   "cell_type": "code",
   "execution_count": null,
   "metadata": {},
   "outputs": [],
   "source": [
    "pcpt = PCPTProcessing(title=\"Example PCPT Excel\")"
   ]
  },
  {
   "cell_type": "code",
   "execution_count": null,
   "metadata": {},
   "outputs": [],
   "source": [
    "pcpt.load_excel(path=\"Data/excel_example.xlsx\",\n",
    "    u2_key=\"u [kPa]\", u2_multiplier=0.001)\n",
    "pcpt.data.head()"
   ]
  },
  {
   "cell_type": "markdown",
   "metadata": {},
   "source": [
    "The raw PCPT data can be visualized with the ```plot_raw_pcpt``` method."
   ]
  },
  {
   "cell_type": "code",
   "execution_count": null,
   "metadata": {},
   "outputs": [],
   "source": [
    "pcpt.plot_raw_pcpt()"
   ]
  },
  {
   "cell_type": "markdown",
   "metadata": {},
   "source": [
    "## Setting cone and layer properties\n",
    "\n",
    "The cone and layer properties can be set based on the cone used and the layering identified. A ```SoilProfile``` object can be created for these properties. A basic structure with cone properties is available in the ```groundhog``` package."
   ]
  },
  {
   "cell_type": "code",
   "execution_count": null,
   "metadata": {},
   "outputs": [],
   "source": [
    "from groundhog.siteinvestigation.insitutests.pcpt_processing import DEFAULT_CONE_PROPERTIES\n",
    "DEFAULT_CONE_PROPERTIES"
   ]
  },
  {
   "cell_type": "markdown",
   "metadata": {},
   "source": [
    "The cone properties can be customised or an entirely new ```SoilProfile``` object can be defined. Here, we will keep the default properties."
   ]
  },
  {
   "cell_type": "markdown",
   "metadata": {},
   "source": [
    "A layering definition also needs to be defined through a ```SoilProfile``` object. The total unit weight needs to be specified for the vertical stress calculation. Note that linear variations over the layers are possible through the use of ```from``` and ```to``` in the column keys."
   ]
  },
  {
   "cell_type": "code",
   "execution_count": null,
   "metadata": {},
   "outputs": [],
   "source": [
    "layering = SoilProfile({\n",
    "    \"Depth from [m]\": [0, 3.16, 5.9, 14.86, 15.7],\n",
    "    \"Depth to [m]\": [3.16, 5.9, 14.86, 15.7, 20],\n",
    "    \"Total unit weight [kN/m3]\": [18, 17, 19.5, 20, 20],\n",
    "    'Soil type': ['SAND', 'CLAY', 'SAND', 'SAND', 'SAND']\n",
    "})\n",
    "layering.to_excel(\"Data/WFS1-2_layering.xlsx\")"
   ]
  },
  {
   "cell_type": "markdown",
   "metadata": {},
   "source": [
    "The cone and layer properties can be mapped to the cone data grid using the ```map_properties``` method:"
   ]
  },
  {
   "cell_type": "code",
   "execution_count": null,
   "metadata": {},
   "outputs": [],
   "source": [
    "pcpt.map_properties(layer_profile=layering, cone_profile=DEFAULT_CONE_PROPERTIES)"
   ]
  },
  {
   "cell_type": "markdown",
   "metadata": {},
   "source": [
    "Following mapping of the layering, the plot with raw cone data will also include the selected layers."
   ]
  },
  {
   "cell_type": "code",
   "execution_count": null,
   "metadata": {},
   "outputs": [],
   "source": [
    "pcpt.plot_raw_pcpt()"
   ]
  },
  {
   "cell_type": "markdown",
   "metadata": {},
   "source": [
    "## 3. Normalising PCPT data\n",
    "\n",
    "PCPT can be normalised using the equations for normalised cone resistance $ Q_t $, normalised sleeve friction $ F_r $ and the pore pressure parameter $ B_q $. The ```normalise_pcpt``` method of the ```PCPTProcessing``` class allows this normalisation to happen in one calculation step:"
   ]
  },
  {
   "cell_type": "code",
   "execution_count": null,
   "metadata": {},
   "outputs": [],
   "source": [
    "pcpt.normalise_pcpt()"
   ]
  },
  {
   "cell_type": "markdown",
   "metadata": {},
   "source": [
    "Plotting of the resulting properties can be executed with the ```plot_normalised_pcpt``` method."
   ]
  },
  {
   "cell_type": "code",
   "execution_count": null,
   "metadata": {},
   "outputs": [],
   "source": [
    "pcpt.plot_normalised_pcpt()"
   ]
  },
  {
   "cell_type": "markdown",
   "metadata": {},
   "source": [
    "The data points can also be plotted in the Robertson chart per layer. \n",
    "\n",
    "We can see that the data points in the second layer are classified as overconsolidated cohesive material."
   ]
  },
  {
   "cell_type": "code",
   "execution_count": null,
   "metadata": {},
   "outputs": [],
   "source": [
    "pcpt.plot_robertson_chart()"
   ]
  },
  {
   "cell_type": "markdown",
   "metadata": {},
   "source": [
    "## 5. Applying correlations to PCPT data"
   ]
  },
  {
   "cell_type": "markdown",
   "metadata": {},
   "source": [
    "Correlations can be applied to the processed PCPT data using method ```apply_correlation``` with the keys outlined in the documentation. For example ```'Robertson and Wride (1998)'``` calculates the soil behaviour type index. The method argument ```outputs``` is a dictionary containing the keys from the function output as keys and the target column names as values. For example, the function ```gmax_clay_maynerix``` has the key ```Gmax [kPa]``` in the result dictionary. This key needs to be selected and can be assigned to the column ```Gmax clay [kPa]```.\n",
    "\n",
    "Using the ```apply_for_soiltypes``` keyword arguments, we can limit the application of the correlation to specific soil types. Here, we will apply the correlation of Mayne & Rix to clay and Rix & Stokoe to sand.\n",
    "\n",
    "Full explanation on the different correlations is provided in the ```groundhog``` documentation. We can list the available correlations. More correlations are being added to ```groundhog``` with each new release."
   ]
  },
  {
   "cell_type": "code",
   "execution_count": null,
   "metadata": {},
   "outputs": [],
   "source": [
    "from groundhog.siteinvestigation.insitutests.pcpt_processing import CORRELATIONS\n",
    "list(CORRELATIONS.keys())"
   ]
  },
  {
   "cell_type": "markdown",
   "metadata": {},
   "source": [
    "For the example, we can calculate the soil behaviour type index and the small-strain shear modulus."
   ]
  },
  {
   "cell_type": "code",
   "execution_count": null,
   "metadata": {},
   "outputs": [],
   "source": [
    "pcpt.apply_correlation('Ic Robertson and Wride (1998)', outputs={'Ic [-]':'Ic [-]'})\n",
    "\n",
    "\n",
    "pcpt.apply_correlation(\n",
    "    'Gmax Rix and Stokoe (1991)', outputs={'Gmax [kPa]': 'Gmax sand [kPa]'},\n",
    "    apply_for_soiltypes=['SAND',])\n",
    "pcpt.apply_correlation(\n",
    "    'Gmax Mayne and Rix (1993)', outputs={'Gmax [kPa]': 'Gmax clay [kPa]'},\n",
    "    apply_for_soiltypes=['CLAY',])"
   ]
  },
  {
   "cell_type": "markdown",
   "metadata": {},
   "source": [
    "The calculated properties can be visualized with a ```LogPlot```. The keys to be plotted in each panel need to be provided in the ``add_trace`` method. In the example below, the first panel only contains ```qc [MPa]``` and the second ```Ic [-]```. The third panel contains $ G_{max} $ in sand and clay."
   ]
  },
  {
   "cell_type": "code",
   "execution_count": null,
   "metadata": {},
   "outputs": [],
   "source": [
    "from groundhog.general.plotting import LogPlot"
   ]
  },
  {
   "cell_type": "code",
   "execution_count": null,
   "metadata": {},
   "outputs": [],
   "source": [
    "cpt_processed_plot = LogPlot(layering, no_panels=3, fillcolordict={'SAND': 'yellow', 'CLAY': 'brown'})\n",
    "cpt_processed_plot.add_trace(\n",
    "    x=pcpt.data['qc [MPa]'],\n",
    "    z=pcpt.data['z [m]'],\n",
    "    name='qc',\n",
    "    showlegend=False,\n",
    "    panel_no=1)\n",
    "cpt_processed_plot.add_trace(\n",
    "    x=pcpt.data['Ic [-]'],\n",
    "    z=pcpt.data['z [m]'],\n",
    "    name='Ic',\n",
    "    showlegend=False,\n",
    "    panel_no=2)\n",
    "cpt_processed_plot.add_trace(\n",
    "    x=pcpt.data['Gmax sand [kPa]'],\n",
    "    z=pcpt.data['z [m]'],\n",
    "    name='Gmax SAND',\n",
    "    showlegend=True,\n",
    "    panel_no=3)\n",
    "cpt_processed_plot.add_trace(\n",
    "    x=pcpt.data['Gmax clay [kPa]'],\n",
    "    z=pcpt.data['z [m]'],\n",
    "    name='Gmax CLAY',\n",
    "    showlegend=True,\n",
    "    panel_no=3)\n",
    "cpt_processed_plot.set_xaxis(title=r'$ q_c \\ \\text{[MPa]} $', panel_no=1)\n",
    "cpt_processed_plot.set_xaxis(title=r'$ I_c \\ \\text{[-]} $', panel_no=2, range=(1, 3.5))\n",
    "cpt_processed_plot.set_xaxis(title=r'$ G_{max} \\ \\text{[kPa]} $', panel_no=3, range=(0, 200e3))\n",
    "cpt_processed_plot.set_zaxis(title=r'$ z \\ \\text{[m]} $', range=(20, 0))\n",
    "cpt_processed_plot.show()"
   ]
  }
 ],
 "metadata": {
  "hide_input": false,
  "kernelspec": {
   "display_name": "Python 3 (ipykernel)",
   "language": "python",
   "name": "python3"
  },
  "language_info": {
   "codemirror_mode": {
    "name": "ipython",
    "version": 3
   },
   "file_extension": ".py",
   "mimetype": "text/x-python",
   "name": "python",
   "nbconvert_exporter": "python",
   "pygments_lexer": "ipython3",
   "version": "3.10.9"
  },
  "toc": {
   "base_numbering": 1,
   "nav_menu": {},
   "number_sections": true,
   "sideBar": true,
   "skip_h1_title": true,
   "title_cell": "Table of Contents",
   "title_sidebar": "Contents",
   "toc_cell": false,
   "toc_position": {},
   "toc_section_display": true,
   "toc_window_display": false
  }
 },
 "nbformat": 4,
 "nbformat_minor": 4
}
