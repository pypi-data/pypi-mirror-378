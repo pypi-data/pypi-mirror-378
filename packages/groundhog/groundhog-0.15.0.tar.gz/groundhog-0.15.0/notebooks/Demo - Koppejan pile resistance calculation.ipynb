{
 "cells": [
  {
   "cell_type": "markdown",
   "metadata": {},
   "source": [
    "# Demo - Koppejan's pile resistance calculation method\n",
    "\n",
    "A tutorial for the application of the Koppejan method is given in this notebook. This notebook can be used to apply to other CPT profiles and possibly make modifications to gain further insight in the data and solutions."
   ]
  },
  {
   "cell_type": "markdown",
   "metadata": {},
   "source": [
    "## Loading Python libraries\n",
    "\n",
    "This notebook makes use of the ```groundhog``` Python library to load and manipulate data, visualise data and execute geotechnical calculations. The installation of these libraries is described in the [groundhog installation guide](http://snakesonabrain.com/docs/groundhog/gettingstarted.html)."
   ]
  },
  {
   "cell_type": "code",
   "execution_count": null,
   "metadata": {},
   "outputs": [],
   "source": [
    "# Import of standard libraries for data manipulation\n",
    "import numpy as np\n",
    "import os\n",
    "from IPython.display import HTML\n",
    "import pandas as pd"
   ]
  },
  {
   "cell_type": "code",
   "execution_count": null,
   "metadata": {},
   "outputs": [],
   "source": [
    "# Import of plotting libraries\n",
    "from plotly import tools\n",
    "import plotly.graph_objs as go\n",
    "import plotly.io as pio\n",
    "import plotly.figure_factory as ff\n",
    "from plotly.colors import DEFAULT_PLOTLY_COLORS\n",
    "from plotly.offline import init_notebook_mode\n",
    "init_notebook_mode()"
   ]
  },
  {
   "cell_type": "code",
   "execution_count": null,
   "metadata": {},
   "outputs": [],
   "source": [
    "# Import of geotechnical libraries\n",
    "from groundhog.siteinvestigation.insitutests.pcpt_processing import PCPTProcessing\n",
    "from groundhog.general.soilprofile import SoilProfile"
   ]
  },
  {
   "cell_type": "markdown",
   "metadata": {},
   "source": [
    "### 1. CPT data loading\n",
    "\n",
    "The CPT data can be loaded from the Excel file ```Koppejan_DeBeer_demo.xlsx```. A ```PCPTProcessing``` object can be created. The data has no sleeve friction and pore pressure data but can be plotted nonetheless. The data suggests sandy material until 2m followed by a clay layer. Underneath this clay layer, another sand layer can be found which provides more pile capacity."
   ]
  },
  {
   "cell_type": "code",
   "execution_count": null,
   "metadata": {},
   "outputs": [],
   "source": [
    "cpt = PCPTProcessing(title='Koppejan CPT')\n",
    "cpt.load_excel(\"Data/Koppejan_DeBeer_demo.xlsx\")\n",
    "cpt.plot_raw_pcpt(qc_range=(0, 20))"
   ]
  },
  {
   "cell_type": "markdown",
   "metadata": {},
   "source": [
    "### 2. Pile resistance calculation\n",
    "\n",
    "The Koppejan method uses the cone tip resistance $ q_c $ to derive shaft resistance $ F_{r,s} $ and base resistance $ F_{r,b} $. The Python package ```groundhog``` implements a ```KoppejanCalculation``` class which contains the necessary methods."
   ]
  },
  {
   "cell_type": "code",
   "execution_count": null,
   "metadata": {},
   "outputs": [],
   "source": [
    "from groundhog.deepfoundations.axialcapacity.koppejan import KoppejanCalculation"
   ]
  },
  {
   "cell_type": "markdown",
   "metadata": {},
   "source": [
    "### 2.1. Shaft resistance\n",
    "\n",
    "The shaft resistance calculation modifies the cone resistance to account for the effect of the installation method. The factor $ \\alpha_s $ is highest for driven closed ended piles and lower for the other pile types. Figure 2 shows the values for the different pile types.\n",
    "\n",
    "<br><center><b>Figure 2: $ \\alpha_s $ and $ \\alpha_p $ according to Koppejan</b></center>\n",
    "<img src=\"Images/koppejan_alphas.png\" width=600>\n",
    "\n",
    "The maximum cone resistance to be used depends on the layer thickness, for layers less than 1m thick, $ q_{c,lim} = 12 \\text{MPa} $ is taken. If the layer thickness is greater than 1m $ q_{c,lim} = 15 \\text{MPa} $ is used.\n",
    "\n",
    "In the profile given above, there are no layers of less than 1m thickness so $ q_{c,lim} = 15 \\text{MPa} $ is used.\n",
    "\n",
    "The maximum shaft friction is then given by the following formula:\n",
    "\n",
    "$$ \\tau_{s,max} = \\alpha_s \\cdot \\min(q_c, q_{c,lim})  $$\n",
    "\n",
    "Note that $ \\tau_{s,max} $ is given in kPa so a conversion factor from MPa to kPa is required.\n",
    "\n",
    "The shaft resistance is then obtained by integrating the maximum shaft friction over the pile length and the outer shaft perimeter:\n",
    "\n",
    "$$ F_{r,s} = \\int_{0}^{L} dT = \\int_{0}^{L} \\tau_{s,max}(z) \\cdot \\pi \\cdot D \\cdot dz $$\n",
    "\n",
    "This equation can easily be discretised to numerical calculation of the shaft resistance. \n",
    "\n",
    "In our example, a closed ended tubular pile with a diameter of 0.4m is driven into the soil to a depth of 12m. \n",
    "\n",
    "First, we will create a ```KoppejanCalculation``` object which loads the CPT data and the pile properties:"
   ]
  },
  {
   "cell_type": "code",
   "execution_count": null,
   "metadata": {},
   "outputs": [],
   "source": [
    "koppejanpile = KoppejanCalculation(\n",
    "    depth=cpt.data['z [m]'],\n",
    "    qc=cpt.data['qc [MPa]'],\n",
    "    diameter=0.4,\n",
    "    penetration=12)"
   ]
  },
  {
   "cell_type": "markdown",
   "metadata": {},
   "source": [
    "We also need to provide a layering to the calculation. The layering is specified as a Pandas dataframe:"
   ]
  },
  {
   "cell_type": "code",
   "execution_count": null,
   "metadata": {},
   "outputs": [],
   "source": [
    "layering = pd.DataFrame({\n",
    "    'z from [m]': [0, 2, 8.5],\n",
    "    'z to [m]': [2, 8.5, 14],\n",
    "    'Total unit weight [kN/m3]': [20, 17, 20]\n",
    "})"
   ]
  },
  {
   "cell_type": "markdown",
   "metadata": {},
   "source": [
    "We can assign the layering to our calculation:"
   ]
  },
  {
   "cell_type": "code",
   "execution_count": null,
   "metadata": {},
   "outputs": [],
   "source": [
    "koppejanpile.set_layer_properties(layering)"
   ]
  },
  {
   "cell_type": "markdown",
   "metadata": {},
   "source": [
    "The method ```calculate_side_friction``` performs the side friction calculation described above. The factor $ \\alpha_s $ needs to be read from the table. For a driven, closed-ended tubular pile, $ \\alpha_s $ = 0.01."
   ]
  },
  {
   "cell_type": "code",
   "execution_count": null,
   "metadata": {},
   "outputs": [],
   "source": [
    "koppejanpile.calculate_side_friction(alpha_s=0.01)"
   ]
  },
  {
   "cell_type": "markdown",
   "metadata": {},
   "source": [
    "The results of this shaft resistance calculation can be plotted. The plot shows the selected cone tip resistance for the calculation, the calculated unit shaft friction, the shaft friction increments (unit shaft resistance integrated over the pile circumference) and the cumulative shaft resistance with depth.\n",
    "\n",
    "The calculated shaft resistance $ F_{rs} $ is plotted as a red dot."
   ]
  },
  {
   "cell_type": "code",
   "execution_count": null,
   "metadata": {},
   "outputs": [],
   "source": [
    "koppejanpile.plot_shaft_resistance()"
   ]
  },
  {
   "cell_type": "code",
   "execution_count": null,
   "metadata": {},
   "outputs": [],
   "source": [
    "HTML(\"\"\"\n",
    "The calculated shaft resistance for the pile penetration of %.1fm is $ F_{r,s} = $ %.0fkN.\n",
    "\"\"\" % (koppejanpile.penetration, koppejanpile.Frs))"
   ]
  },
  {
   "cell_type": "markdown",
   "metadata": {},
   "source": [
    "### 2.2. Base resistance\n",
    "\n",
    "#### 2.2.1. Cone resistance averaging\n",
    "\n",
    "The base resistance is slightly more complex because the pile has a larger diameter than the CPT rod. It therefore mobilises soil resistance in a larger zone. The sketch in Figure 4 shows that the zone in which resistance is mobilised according to Koppejan extends up to 8 diameters above the pile tip and 0.7 to 4 diameters below the pile tip.\n",
    "\n",
    "<br><center><b>Figure 4: Zone of influence of pile base</b></center>\n",
    "<img src=\"Images/koppejan_base_theory.png\" width=400>\n",
    "\n",
    "The tip resistance of the pile is derived by averaging the tip resistance $ q_c $ of the CPT in certain averaging windows above and below the pile.\n",
    "\n",
    "$$ q_{c,avg} = \\frac{0.5 \\cdot (q_{cI} + q_{cII}) + q_{cIII}}{2} $$\n",
    "\n",
    "The different parts of this formula are developed below. The ```KoppejanCalculation``` class implements a method ```calculate_base_resistance``` to calculate this construction for any given CPT trace. We again need to select a factor to account to the pile type and installation method ($ \\alpha_p $) according to Koppejan's table."
   ]
  },
  {
   "cell_type": "code",
   "execution_count": null,
   "metadata": {},
   "outputs": [],
   "source": [
    "koppejanpile.calculate_base_resistance(alpha_p=1)"
   ]
  },
  {
   "cell_type": "markdown",
   "metadata": {},
   "source": [
    "##### 2.2.1.1 $ q_{cII} $\n",
    "\n",
    "$ q_{cII} $ is obtained by taking the average cone resistance in a window varying from $ 0.7D $ to $ 4D $. The size of this window is chosen such that $ q_{cII} $ is minimized. The reason for varying the maximum depth of this window is that weaker layers up to a certain depth below the pile tip will have an influence on the pile resistance. A weaker layer at a certain depth below the pile tip will lead to a lower value for $ q_{cII} $ as the averaging window expands."
   ]
  },
  {
   "cell_type": "markdown",
   "metadata": {},
   "source": [
    "The method ```calculate_base_resistance``` simply selects all data in an averaging window, with the size of the averaging window varying between $ 0.7D $  and $ 4D $, calculates the average and then determines the minimum for all window sizes."
   ]
  },
  {
   "cell_type": "code",
   "execution_count": null,
   "metadata": {},
   "outputs": [],
   "source": [
    "HTML(\"\"\"\n",
    "The value of $ q_{cII} $ is %.2fMPa corresponding to a depth below the tip of %.1f $ D $ .\"\"\" % (\n",
    "    koppejanpile.qcII, (koppejanpile.qcIIz - koppejanpile.penetration) / koppejanpile.diameter))"
   ]
  },
  {
   "cell_type": "markdown",
   "metadata": {},
   "source": [
    "These averages can be plotted. We can see the influence of the slightly weaker layer below our tip on the value of $ q_{cII} $. It is not surprising that the averaging window is 4$ D $ in this case."
   ]
  },
  {
   "cell_type": "markdown",
   "metadata": {},
   "source": [
    "##### 2.2.1.2. $ q_{cI} $\n",
    "\n",
    "The value of $ q_{c,I} $ is obtained by taking the average along the same path as $ q_{c,II} $ but the cone resistance can never increase as one moves up from the cone resistance at the bottom of the averaging window."
   ]
  },
  {
   "cell_type": "markdown",
   "metadata": {},
   "source": [
    "The method ```calculate_base_resistance``` loops over the different cone resistance values from bottom to top and check if the cone resistance increases. If it does, we set the value used for averaging to the previous value.\n",
    "\n",
    "This can be illustrated in the plot but first the construction for $ q_{cIII} $ is explained."
   ]
  },
  {
   "cell_type": "code",
   "execution_count": null,
   "metadata": {},
   "outputs": [],
   "source": [
    "HTML(\"\"\"\n",
    "$ q_{c,I} $ = %.2fMPa\"\"\" % (koppejanpile.qcI))"
   ]
  },
  {
   "cell_type": "markdown",
   "metadata": {},
   "source": [
    "##### 2.2.1.3. $ q_{cIII} $\n",
    "\n",
    "$ q_{cIII} $ accounts for the averaging effect in the soil above the pile tip. The averaging window ranges from the pile tip to $ 8D $ above the pile tip.\n",
    "\n",
    "Similar to $ q_{cI} $, the cone resistance should never increase as one moves up through the averaging window."
   ]
  },
  {
   "cell_type": "markdown",
   "metadata": {},
   "source": [
    "```calculate_base_resistance``` again runs through the different cone resistace values from the bottom up and ensures that the values used for the averaging do not increase. Note that we do not start from the cone resistance at tip depth but rather from the value of $ q_{cI} $ at tip depth."
   ]
  },
  {
   "cell_type": "code",
   "execution_count": null,
   "metadata": {},
   "outputs": [],
   "source": [
    "HTML(\"\"\"\n",
    "$ q_{c,III} $ = %.2fMPa\"\"\" % (koppejanpile.qcIII))"
   ]
  },
  {
   "cell_type": "markdown",
   "metadata": {},
   "source": [
    "We can plot the final construction to illustrate this:"
   ]
  },
  {
   "cell_type": "code",
   "execution_count": null,
   "metadata": {},
   "outputs": [],
   "source": [
    "koppejanpile.plot_baseconstruction()"
   ]
  },
  {
   "cell_type": "markdown",
   "metadata": {},
   "source": [
    "#### 2.2.2. Effect of increased base dimensions\n",
    "\n",
    "The execution method of the pile determines the base dimension. Depending on how the drilling or driving was done, an increased base length and area can be used. Figure 8 shows the geometric properties which can be used in the lookup chart in Figure 9 to determine the coefficient $ \\beta $.\n",
    "\n",
    "<br><center><b>Figure 8: Pile base dimensions</b></center>\n",
    "<img src=\"Images/base_increase.png\" width=400>\n",
    "\n",
    "<br><center><b>Figure 9: Coefficient for pile base dimension</b></center>\n",
    "<img src=\"Images/base_coefficient.png\" width=400>\n",
    "\n",
    "If the pile does not have an enlarged shape, then the coeffient $ \\beta $ is equal to 1.\n",
    "\n",
    "####  2.2.3. Effect of non-circular pile cross-section\n",
    "\n",
    "If the pile has a non-circular cross-section, a correction needs to be made for this. The coefficient $ s $ can be determined from Figure 10 where the ratio $ b/a $ is the ratio of the longest dimension to the shortest dimension of the pile cross-section.\n",
    "\n",
    "<br><center><b>Figure 10: Coefficient for pile base cross-section</b></center>\n",
    "<img src=\"Images/crosssection_coefficient.png\" width=400>\n",
    "\n",
    "If the pile has a circular shape, then the coeffient $ s $ is equal to 1.\n",
    "\n",
    "If the pile is non-uniform along its length or has a non-uniform circumference, we can use the optional arguments ```base_coefficient``` and ```crosssection_coefficient``` of the method ```calculate_base_resistance```. These are equal=1 by default."
   ]
  },
  {
   "cell_type": "markdown",
   "metadata": {},
   "source": [
    "#### 2.2.4. Base resistance\n",
    "\n",
    "The unit end bearing base resistance is then determined using the following formulae:\n",
    "\n",
    "$$ q_{c,avg} = \\frac{0.5 \\cdot (q_{cI} + q_{cII}) + q_{cIII}}{2} $$\n",
    "\n",
    "$$ q_{b,max} = \\alpha_p \\cdot \\beta \\cdot s \\cdot q_{c,avg} \\leq 15 \\text{MPa} $$\n",
    "\n",
    "The value of $ \\alpha_p $ can be read from the chart in Figure 2.\n",
    "\n",
    "For the driven pile in the example, $ \\alpha_p $, $ \\beta $ and $ s $ are all equal to 1."
   ]
  },
  {
   "cell_type": "code",
   "execution_count": null,
   "metadata": {},
   "outputs": [],
   "source": [
    "HTML(\"\"\"\n",
    "$ q_{c,avg} = $ %.1f MPa\"\"\" % (koppejanpile.qcavg))"
   ]
  },
  {
   "cell_type": "code",
   "execution_count": null,
   "metadata": {},
   "outputs": [],
   "source": [
    "HTML(\"\"\"\n",
    "$ q_{b,max} = $ %.1f MPa\"\"\" % (koppejanpile.qbmax))"
   ]
  },
  {
   "cell_type": "markdown",
   "metadata": {},
   "source": [
    "The base resistance is obtained by multiplying the maximum unit end bearing by the tip area. Note that coring tubular piles can also be calculated by setting the argument ```coring=True``` and specifying a ```wall_thickness``` in mm for the ```calculate_base_resistance``` calculation.\n",
    "\n",
    "In this example, we have a closed-ended pile, so we don't need to change anything."
   ]
  },
  {
   "cell_type": "code",
   "execution_count": null,
   "metadata": {},
   "outputs": [],
   "source": [
    "HTML(\"\"\"\n",
    "$ F_{rb} = $ %.0f kN\"\"\" % (koppejanpile.Frb))"
   ]
  },
  {
   "cell_type": "code",
   "execution_count": null,
   "metadata": {},
   "outputs": [],
   "source": []
  }
 ],
 "metadata": {
  "hide_input": false,
  "kernelspec": {
   "display_name": "Python 3",
   "language": "python",
   "name": "python3"
  },
  "language_info": {
   "codemirror_mode": {
    "name": "ipython",
    "version": 3
   },
   "file_extension": ".py",
   "mimetype": "text/x-python",
   "name": "python",
   "nbconvert_exporter": "python",
   "pygments_lexer": "ipython3",
   "version": "3.8.8"
  },
  "toc": {
   "base_numbering": 1,
   "nav_menu": {},
   "number_sections": true,
   "sideBar": true,
   "skip_h1_title": false,
   "title_cell": "Table of Contents",
   "title_sidebar": "Contents",
   "toc_cell": false,
   "toc_position": {},
   "toc_section_display": true,
   "toc_window_display": false
  }
 },
 "nbformat": 4,
 "nbformat_minor": 2
}
