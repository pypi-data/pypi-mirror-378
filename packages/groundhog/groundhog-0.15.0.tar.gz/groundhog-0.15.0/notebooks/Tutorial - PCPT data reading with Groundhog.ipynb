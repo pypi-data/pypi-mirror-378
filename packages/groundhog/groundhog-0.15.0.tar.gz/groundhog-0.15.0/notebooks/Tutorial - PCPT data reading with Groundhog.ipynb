{
 "cells": [
  {
   "cell_type": "markdown",
   "metadata": {},
   "source": [
    "# Tutorial - PCPT data reading with Groundhog\n",
    "\n",
    "A PCPT processing tool has been created within the ```groundhog``` package. This tool is made available to allow rapid import of PCPT data, basic processing and checking of the sensitivity to processing parameters. Moreover, correlations between PCPT properties and other soil mechanical parameters an easily be applied.\n",
    "\n",
    "In this tutorial, the import of PCPT data is covered for different file formats.\n",
    "\n",
    "We need to import the ```PCPTProcessing``` class from ```groundhog```."
   ]
  },
  {
   "cell_type": "code",
   "execution_count": null,
   "metadata": {},
   "outputs": [],
   "source": [
    "from groundhog.siteinvestigation.insitutests.pcpt_processing import PCPTProcessing"
   ]
  },
  {
   "cell_type": "markdown",
   "metadata": {},
   "source": [
    "```groundhog``` uses Plotly as plotting backend, we will load Plotly in notebook mode:"
   ]
  },
  {
   "cell_type": "code",
   "execution_count": null,
   "metadata": {},
   "outputs": [],
   "source": [
    "from plotly.offline import init_notebook_mode\n",
    "init_notebook_mode()"
   ]
  },
  {
   "cell_type": "markdown",
   "metadata": {},
   "source": [
    "## Excel import\n",
    "\n",
    "The first way to load data is from a Pandas dataframe using the ```load_excel``` method. A dataframe is be created from Excel data and added as the ```.data``` attribute of the PCPTProcessing object. Note that $ q_c $, $ f_s $ and $ u_2 $ need to have the dimension MPa. If they don't multipliers can be specified to convert them to these dimensions."
   ]
  },
  {
   "cell_type": "code",
   "execution_count": null,
   "metadata": {},
   "outputs": [],
   "source": [
    "pcpt_excel = PCPTProcessing(title=\"Example PCPT Excel\")"
   ]
  },
  {
   "cell_type": "code",
   "execution_count": null,
   "metadata": {},
   "outputs": [],
   "source": [
    "pcpt_excel.load_excel(path=\"Data/excel_example.xlsx\",\n",
    "    u2_key=\"u [kPa]\", u2_multiplier=0.001)\n",
    "pcpt_excel.data.tail()"
   ]
  },
  {
   "cell_type": "markdown",
   "metadata": {},
   "source": [
    "The raw PCPT data can be visualized with the ```plot_raw_pcpt``` method."
   ]
  },
  {
   "cell_type": "code",
   "execution_count": null,
   "metadata": {},
   "outputs": [],
   "source": [
    "pcpt_excel.plot_raw_pcpt()"
   ]
  },
  {
   "cell_type": "markdown",
   "metadata": {},
   "source": [
    "## Reading .asc data\n",
    "\n",
    "The class also has the function ```load_asc``` for loading .asc data."
   ]
  },
  {
   "cell_type": "code",
   "execution_count": null,
   "metadata": {},
   "outputs": [],
   "source": [
    "pcpt_asc = PCPTProcessing(title=\"ASC PCPT\")\n",
    "pcpt_asc.load_asc(path=\"Data/acs_example.asc\",\n",
    "    column_widths=[5, 9, 10, 11, 11, 11, 11],\n",
    "    z_key=\"Depth [m]\", qc_key=\"Cone [MPa]\", fs_key=\"Friction [MPa]\", u2_key=\"Pore 2 [MPa]\")\n",
    "pcpt_asc.data.head()"
   ]
  },
  {
   "cell_type": "code",
   "execution_count": null,
   "metadata": {},
   "outputs": [],
   "source": [
    "pcpt_asc.plot_raw_pcpt(u2_range=(-0.2, 2), u2_tick=0.2)"
   ]
  },
  {
   "cell_type": "markdown",
   "metadata": {},
   "source": [
    "## Reading AGS data\n",
    "\n",
    "AGS is a common data transfer for geotechnical data. Rapidly importing PCPT data from this format is useful to allow further processing.\n",
    "\n",
    "The method  ```load_ags``` is available from the ```PCPTProcessing``` class in ```groundhog```. The CPT data is available in the ```SCPT``` group and the following keys are used in AGS 4.0:\n",
    "\n",
    "   - $ q_c $: ```SCPT_RES [MN/m2]```\n",
    "   - $ f_s $: ```SCPT_FRES [kN/m2]```\n",
    "   - $ u_2 $: ```SCPT_PWP2 [kN/m2]```\n",
    "   - $ z $: ```SCPT_DPTH [m]```\n",
    "   \n",
    "As $ f_s $ and $ u_2 $ are given in kPa, a multiplier of 0.001 needs to be specified to convert them to MPa.\n",
    "\n",
    "For general processing of AGS files, the ```AGSConverter``` converter is available."
   ]
  },
  {
   "cell_type": "code",
   "execution_count": null,
   "metadata": {},
   "outputs": [],
   "source": [
    "pcpt_ags = PCPTProcessing(title=\"AGS example\")\n",
    "pcpt_ags.load_ags(\n",
    "    path=\"Data/N6016_BH_WFS1-2A_AGS4_150909.ags\",\n",
    "    z_key=\"SCPT_DPTH [m]\", qc_key=\"SCPT_RES [MN/m2]\", fs_key=\"SCPT_FRES [kN/m2]\", u2_key=\"SCPT_PWP2 [kN/m2]\",\n",
    "    fs_multiplier=0.001, u2_multiplier=0.001,\n",
    "    push_key=\"SCPG_TESN\")"
   ]
  },
  {
   "cell_type": "markdown",
   "metadata": {},
   "source": [
    "We can plot the raw PCPT data."
   ]
  },
  {
   "cell_type": "code",
   "execution_count": null,
   "metadata": {},
   "outputs": [],
   "source": [
    "pcpt_ags.plot_raw_pcpt(u2_range=(-0.5, 2), u2_tick=0.5)"
   ]
  },
  {
   "cell_type": "markdown",
   "metadata": {},
   "source": [
    "A full tutorial notebook on the use of the ```AGSConverter``` class is also available in the notebooks folder of the ```groundhog``` project."
   ]
  },
  {
   "cell_type": "markdown",
   "metadata": {},
   "source": [
    "## Reading from Databank Ondergrond Vlaanderen\n",
    "\n",
    "Databank Ondergrond Vlaanderen contains all CPT data collected by the Flemish government. The ```pydov``` package allows direct access to this CPT data. The ```pydov``` package can be installed as follows:\n",
    "\n",
    "```pip install pydov```\n",
    "\n",
    "To import CPT data, all that is required is the name of the CPT. We can import CPT: GEO-13/147-S1. The name of the CPT can easily be retrieved from dov.vlaanderen.be."
   ]
  },
  {
   "cell_type": "code",
   "execution_count": null,
   "metadata": {},
   "outputs": [],
   "source": [
    "dov_cpt = PCPTProcessing(title=\"DOV CPT\")\n",
    "dov_cpt.load_pydov(\"GEO-13/147-S1\")\n",
    "dov_cpt.plot_raw_pcpt()"
   ]
  },
  {
   "cell_type": "markdown",
   "metadata": {},
   "source": [
    "## Combining PCPT data\n",
    "\n",
    "We can combine data from multiple sources (e.g. seabed PCPT + downhole PCPT) into one ```PCPTProcessing``` object. We do this using the ```combine_pcpt``` method. This method takes another ```PCPTProcessing``` object and merges its data into the ```data``` attribute of the original ```PCPTProcessing``` object. The user can select what to do in the areas where overlap exists using the ```keep``` keyword argument.\n",
    "\n",
    "We can demonstrate this with an example where we load the seabed PCPT corresponding to the downhole PCPT loaded above."
   ]
  },
  {
   "cell_type": "code",
   "execution_count": null,
   "metadata": {},
   "outputs": [],
   "source": [
    "from groundhog.general.agsconversion import AGSConverter\n",
    "converter_seabed = AGSConverter(path=\"Data/N6016_BH_WFS1-2_AGS4_150909.ags\")\n",
    "converter_seabed.create_dataframes(selectedgroups=['SCPT'], verbose_keys=True, use_shorthands=True)\n",
    "converter_seabed.data['SCPT'].head()"
   ]
  },
  {
   "cell_type": "markdown",
   "metadata": {},
   "source": [
    "Creation of a ```PCPTProcessing``` object happens as before."
   ]
  },
  {
   "cell_type": "code",
   "execution_count": null,
   "metadata": {},
   "outputs": [],
   "source": [
    "pcpt_ags_seabed = PCPTProcessing(title=\"AGS CPT\")\n",
    "pcpt_ags_seabed.load_pandas(\n",
    "    df=converter_seabed.data['SCPT'],\n",
    "    z_key=\"Depth [m]\",\n",
    "    qc_key=\"qc [MN/m2]\",\n",
    "    fs_key=\"fs [kN/m2]\",\n",
    "    u2_key=\"u2 [kN/m2]\",\n",
    "    push_key=\"Test reference or push number\",\n",
    "    fs_multiplier=0.001, u2_multiplier=0.001)\n",
    "pcpt_ags.data.head(15)"
   ]
  },
  {
   "cell_type": "markdown",
   "metadata": {},
   "source": [
    "We can plot the raw PCPT data for the seabed CPT. This data provides coverage in the shallow region where no data is availabl from the downhole PCPT, but it has a lower final penetration."
   ]
  },
  {
   "cell_type": "code",
   "execution_count": null,
   "metadata": {},
   "outputs": [],
   "source": [
    "pcpt_ags_seabed.plot_raw_pcpt(u2_range=(-0.5, 2), u2_tick=0.5)"
   ]
  },
  {
   "cell_type": "markdown",
   "metadata": {},
   "source": [
    "Combining the PCPT data is simply done by apply the ```combine_pcpt``` method on one of the ```PCPTProcessing``` objects. In the region where there is overlap, we need to decide which data to keep. The default behaviour is to keep the data from the ```PCPTProcessing``` object on which the ```combine_pcpt``` method is applied (```keep='first'```)."
   ]
  },
  {
   "cell_type": "code",
   "execution_count": null,
   "metadata": {},
   "outputs": [],
   "source": [
    "pcpt_ags_seabed.combine_pcpt(obj=pcpt_ags, keep='first')"
   ]
  },
  {
   "cell_type": "markdown",
   "metadata": {},
   "source": [
    "We can plot the combined profile which now gives a more global picture of the soil profile."
   ]
  },
  {
   "cell_type": "code",
   "execution_count": null,
   "metadata": {},
   "outputs": [],
   "source": [
    "pcpt_ags_seabed.plot_raw_pcpt(u2_range=(-1, 5), u2_tick=0.5)"
   ]
  },
  {
   "cell_type": "markdown",
   "metadata": {},
   "source": [
    "## Loading a00 data\n",
    "\n",
    "The ```PCPTProcessing``` class has a method ```load_a00``` for loading .a00 files, another common PCPT data transfer format."
   ]
  },
  {
   "cell_type": "code",
   "execution_count": null,
   "metadata": {},
   "outputs": [],
   "source": [
    "a00_pcpt = PCPTProcessing(title='A00 example')\n",
    "a00_pcpt.load_a00(\n",
    "    path=\"Data/a00 example.A00\",\n",
    "    column_widths=[8, 10, 11, 11, 11, 11, 11],\n",
    "    z_key='Depth [m]', qc_key='Cone [MPa]', fs_key='Friction [MPa]', u2_key='Pore 2 [MPa]')"
   ]
  },
  {
   "cell_type": "code",
   "execution_count": null,
   "metadata": {},
   "outputs": [],
   "source": [
    "a00_pcpt.plot_raw_pcpt(u2_range=(-0.5, 1), u2_tick=0.25)"
   ]
  },
  {
   "cell_type": "markdown",
   "metadata": {},
   "source": [
    "## Other file formats\n",
    "\n",
    "```groundhog``` is under constant development. Participate in the development by developping a method for importing other formats or create a feature request and provide example files to the package authors."
   ]
  },
  {
   "cell_type": "code",
   "execution_count": null,
   "metadata": {},
   "outputs": [],
   "source": []
  }
 ],
 "metadata": {
  "hide_input": false,
  "kernelspec": {
   "display_name": "Python 3",
   "language": "python",
   "name": "python3"
  },
  "language_info": {
   "codemirror_mode": {
    "name": "ipython",
    "version": 3
   },
   "file_extension": ".py",
   "mimetype": "text/x-python",
   "name": "python",
   "nbconvert_exporter": "python",
   "pygments_lexer": "ipython3",
   "version": "3.8.8"
  },
  "toc": {
   "base_numbering": 1,
   "nav_menu": {},
   "number_sections": true,
   "sideBar": true,
   "skip_h1_title": true,
   "title_cell": "Table of Contents",
   "title_sidebar": "Contents",
   "toc_cell": false,
   "toc_position": {},
   "toc_section_display": true,
   "toc_window_display": false
  }
 },
 "nbformat": 4,
 "nbformat_minor": 2
}
