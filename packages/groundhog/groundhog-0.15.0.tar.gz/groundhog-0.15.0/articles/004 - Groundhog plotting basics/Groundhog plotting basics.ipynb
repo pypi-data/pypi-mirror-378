{
 "cells": [
  {
   "cell_type": "markdown",
   "id": "a46f7008-8084-41c8-b730-e87fe35052fb",
   "metadata": {},
   "source": [
    "# Groundhog plotting basics\n",
    "\n",
    "The geotechnical Python library ``groundhog`` (https://github.com/snakesonabrain/groundhog) is a general-purpose toolkit for geotechnical engineering. As communication about geotechnical test data and parameter profiles is one of the key tasks for geotechnical engineers, ``groundhog`` has a number of plotting routines which make this task easier. Built on top of the open-source Plotly library (https://plotly.com/python/), these plots are interactive and easy to create with just a few lines of code.\n",
    "\n",
    "In this article, three basic plotting types are introduced:\n",
    "\n",
    "   - Cumulative grain size plot\n",
    "   - Plasticity chart\n",
    "   - Mini-log soil profile plot"
   ]
  },
  {
   "cell_type": "markdown",
   "id": "1f4a71b3-9704-42f2-94e3-5cc9b9efb525",
   "metadata": {},
   "source": [
    "## Cumulative grain size plot\n",
    "\n",
    "Plotting the result of sieving or hydrometer analysis tells the engineer a lot about the composition of a soil sample. In ``groundhog``, this is achieved with the ``PSDChart`` class which provides a plotting template for granulometric results with indication of the grain size classes according to the ISO 14688-1 standard.\n",
    "\n",
    "We can first import the class from ``groundhog``."
   ]
  },
  {
   "cell_type": "code",
   "execution_count": null,
   "id": "adf9f480-1c2d-4b47-9b19-c82a176213b8",
   "metadata": {},
   "outputs": [],
   "source": [
    "from groundhog.siteinvestigation.labtesting.indextests import PSDChart"
   ]
  },
  {
   "cell_type": "markdown",
   "id": "35c2151b-bd95-40d4-90e0-5815c4fd309c",
   "metadata": {},
   "source": [
    "Next, we generate some grain sizes (in mm) with corresponding % passing values:"
   ]
  },
  {
   "cell_type": "code",
   "execution_count": null,
   "id": "4a990265-30df-45c4-acc0-1da8053caf2c",
   "metadata": {},
   "outputs": [],
   "source": [
    "d = [2.500, 2.000, 1.250, 1.000, 0.630, 0.500, 0.315, 0.250, 0.160, 0.125, 0.080, 0.063]\n",
    "pct_passing = [99.9, 99.8, 98.4, 96.9, 90.8, 83.8, 62.7, 48.8, 26.8, 14.0, 4.0, 2.9]"
   ]
  },
  {
   "cell_type": "markdown",
   "id": "777530a2-3e38-417c-a9e4-1831c4b50390",
   "metadata": {},
   "source": [
    "Creating the plot is just a matter of creating a ``PSDChart`` object (called ``psdplot`` here) and adding the data using the ``add_trace`` method. You can add as many traces as you want by repeating the ``.add_trace`` method."
   ]
  },
  {
   "cell_type": "code",
   "execution_count": null,
   "id": "6366b2bc-818c-43f9-bf15-246d1a945f81",
   "metadata": {},
   "outputs": [],
   "source": [
    "psdplot = PSDChart(plot_title=\"Example PSD chart\")\n",
    "psdplot.add_trace(grainsize=d, pctpassing=pct_passing, name=\"Soil 1\", showlegend=True)\n",
    "psdplot.show()"
   ]
  },
  {
   "cell_type": "markdown",
   "id": "4005035d-5e8e-4243-9fa8-8ec0e9807f59",
   "metadata": {},
   "source": [
    "## Plasticity chart\n",
    "\n",
    "A plasticity chart summarises the results from Atterberg limit tests and show how a soil can be classified in terms of its plasticity.\n",
    "\n",
    "A plasticity chart can easily be created in ``groundhog`` using the ``PlasticityChart`` class. We can import this class first:"
   ]
  },
  {
   "cell_type": "code",
   "execution_count": null,
   "id": "59d011b9-b9f0-4c6e-8989-2733b2b8db06",
   "metadata": {},
   "outputs": [],
   "source": [
    "from groundhog.siteinvestigation.labtesting.indextests import PlasticityChart"
   ]
  },
  {
   "cell_type": "markdown",
   "id": "4fa79a7c-ccd5-42db-8add-209caea5bc93",
   "metadata": {},
   "source": [
    "We can then create a number of generic plasticity test results. The liquid limit (water content at which the soil starts to behave as a liquid) and the plasticity index (the water content range in which the soil behaves plastically) are defined:"
   ]
  },
  {
   "cell_type": "code",
   "execution_count": null,
   "id": "5a9bf5f0-898f-46d5-84bb-ec18827de5c2",
   "metadata": {},
   "outputs": [],
   "source": [
    "liquidlimits = [40, 70, 60]\n",
    "plastictyindices = [10, 40, 30]"
   ]
  },
  {
   "cell_type": "markdown",
   "id": "3df9628d-8e4b-4c0c-a2b9-b0650dae2dd0",
   "metadata": {},
   "source": [
    "The syntax for creating the plasticity chart is again straightforward. An object of the ``PlasticityChart`` class is first created and the the data is added using the ``.add_trace`` method."
   ]
  },
  {
   "cell_type": "code",
   "execution_count": null,
   "id": "18b8054c-9750-4826-84d7-11fbc49ffee6",
   "metadata": {},
   "outputs": [],
   "source": [
    "plasticityplot = PlasticityChart(plot_title=\"Example plasticity chart\")\n",
    "plasticityplot.add_trace(ll=liquidlimits, pi=plastictyindices, name=\"Campaign 1\")\n",
    "plasticityplot.show()"
   ]
  },
  {
   "cell_type": "markdown",
   "id": "d03c030d-661e-494e-90df-fcb930bd53e8",
   "metadata": {},
   "source": [
    "The chart shows two lines. The A-line is an empirical line separating the clays and the silts with clays plotting above the A-line and silts below. The second line is called the U-line and is an upper bound for plasticity measurements.\n",
    "\n",
    "The abbreviations shown in the chart are the Unified Soil Classification System (USCS) acronyms. Their verbose version is also included in ``groundhog``. A function which gives the verbose name for a given abbreviation (``uscs_categories``) can be imported. The Python dictionary linking the acronyms with the verbose descriptions (``USCS_DICTIONARY``) can also be used."
   ]
  },
  {
   "cell_type": "code",
   "execution_count": null,
   "id": "b0fc55df-6d67-4f58-81b0-c4134db78a10",
   "metadata": {},
   "outputs": [],
   "source": [
    "from groundhog.siteinvestigation.classification.categories import uscs_categories, USCS_DICTIONARY"
   ]
  },
  {
   "cell_type": "code",
   "execution_count": null,
   "id": "ac987b99-af57-4927-af14-ada8304f7e9c",
   "metadata": {},
   "outputs": [],
   "source": [
    "USCS_DICTIONARY"
   ]
  },
  {
   "cell_type": "code",
   "execution_count": null,
   "id": "e49a896e-0b6b-45d6-9bb1-36146561da3f",
   "metadata": {},
   "outputs": [],
   "source": [
    "uscs_categories('ML')"
   ]
  },
  {
   "cell_type": "markdown",
   "id": "7d218b77-d37f-4535-8349-ebdd5f2928c9",
   "metadata": {},
   "source": [
    "## Mini-log soil profile plot\n",
    "\n",
    "Whenever in-situ or laboratory test results are plotted against depth, it is instructive to also display the soil stratigraphy. We can first import some CPT data and a definition of the stratigraphy from an Excel file. The example data is from the Borssele offshore wind farm (https://offshorewind.rvo.nl/). The data is used under a Creative Commons license."
   ]
  },
  {
   "cell_type": "code",
   "execution_count": null,
   "id": "b3a2f356-7c61-4d82-a458-4886428a1927",
   "metadata": {},
   "outputs": [],
   "source": [
    "import pandas as pd"
   ]
  },
  {
   "cell_type": "markdown",
   "id": "8cae653d-43bf-4c5d-8299-d0ee6c13e504",
   "metadata": {},
   "source": [
    "The CPT data is found in the tab ``'Data'``:"
   ]
  },
  {
   "cell_type": "code",
   "execution_count": null,
   "id": "3ad16221-da65-4a13-ba72-21683a691f02",
   "metadata": {},
   "outputs": [],
   "source": [
    "cpt_df = pd.read_excel('Data/Seabed CPT excel export.xlsx', sheet_name='Data')\n",
    "cpt_df.head()"
   ]
  },
  {
   "cell_type": "markdown",
   "id": "46cf5406-2343-476c-a238-07ae3f8d3e95",
   "metadata": {},
   "source": [
    "The definition of the stratigraphy is found in the tab ``'Layering'``. The layering can be imported as a ``groundhog`` ``SoilProfile`` object. This inherits from the Pandas dataframe but offers additional functionality for dealing with geotechnical profiles. To import data from Excel into a ``SoilProfile`` object, the ``read_excel`` method for ``groundhog`` ``SoilProfile`` objects needs to be imported:"
   ]
  },
  {
   "cell_type": "code",
   "execution_count": null,
   "id": "7d966180-54ca-4163-9c89-d14cbe4946b5",
   "metadata": {},
   "outputs": [],
   "source": [
    "from groundhog.general.soilprofile import read_excel"
   ]
  },
  {
   "cell_type": "markdown",
   "id": "190eafc8-d64c-45be-96ee-c36330fc73e1",
   "metadata": {},
   "source": [
    "The layering has four columns, one for the top and one for the bottom of each layer, a descriptor of the soil type and a column with the total (bulk) unit weight."
   ]
  },
  {
   "cell_type": "code",
   "execution_count": null,
   "id": "cc39859b-03f5-481a-8a0f-9da07cbaac89",
   "metadata": {},
   "outputs": [],
   "source": [
    "layering = read_excel('Data/Seabed CPT excel export.xlsx', sheet_name='Layering')\n",
    "layering"
   ]
  },
  {
   "cell_type": "markdown",
   "id": "e0424745-ee15-482a-9424-165dba755000",
   "metadata": {},
   "source": [
    "``SoilProfile`` objects contain the necessary stratigraphical information for plotting. The ``LogPlot`` objects creates plots with one or more panels from such ``SoilProfile`` objects and allows the user to add data to those plots. First the ``LogPlot`` can be imported."
   ]
  },
  {
   "cell_type": "code",
   "execution_count": null,
   "id": "8d425ab3-4576-40de-adbe-79c638105ce2",
   "metadata": {},
   "outputs": [],
   "source": [
    "from groundhog.general.plotting import LogPlot"
   ]
  },
  {
   "cell_type": "markdown",
   "id": "008a0914-e540-4b9d-9cba-5fd4c69711b4",
   "metadata": {},
   "source": [
    "For those using JupyterLab, Plotly plots may sometimes render with an awkward heigth. I hope the JupyterLab people fix this soon, bit in the meantime, the code below fixes things."
   ]
  },
  {
   "cell_type": "code",
   "execution_count": null,
   "id": "b82d7fdc-ce8e-4323-883b-dca3b2bdc5b8",
   "metadata": {},
   "outputs": [],
   "source": [
    "import plotly.io as pio\n",
    "pio.templates['plotly'].layout['autosize'] = False\n",
    "for key in pio.templates.keys():\n",
    "    pio.templates[key].layout['autosize'] = False"
   ]
  },
  {
   "cell_type": "markdown",
   "id": "a0611ca9-1cf5-4bb9-af23-fcfa80762ace",
   "metadata": {},
   "source": [
    "Next, we need to define which color to connect to which soil type (from the ``'Soil type'`` column). We can create a Python dictionary for this mapping:"
   ]
  },
  {
   "cell_type": "code",
   "execution_count": null,
   "id": "1c3db0f2-4420-4eda-8279-21718014ed5f",
   "metadata": {},
   "outputs": [],
   "source": [
    "colordict = {\n",
    "    'SAND': 'yellow',\n",
    "    'CLAY': 'brown',\n",
    "    'SILT': 'wheat'\n",
    "}"
   ]
  },
  {
   "cell_type": "markdown",
   "id": "cea18734-8113-49ae-9a9f-d19827bacbe2",
   "metadata": {},
   "source": [
    "We can now create a plot showing the cone tip resistance, sleeve friction and pore pressure at the shoulder next to the stratigraphic log. We start out by declaring which soil profile we want to create the ``LogPlot``, then specifying the number and panels and adding the color mapping."
   ]
  },
  {
   "cell_type": "code",
   "execution_count": null,
   "id": "97214022-1a76-434b-a1b7-f5e0c7f4c2a6",
   "metadata": {},
   "outputs": [],
   "source": [
    "cptplot = LogPlot(soilprofile=layering, no_panels=3, fillcolordict=colordict)"
   ]
  },
  {
   "cell_type": "markdown",
   "id": "6b57503b-d59f-4edd-b688-c37accfce11e",
   "metadata": {},
   "source": [
    "To add data to the plot. The ``.add_trace`` method is used. The ``x`` and ``z`` arguments are arrays (or Pandas dataframe columns) of equal length which give the values and depths to be plotted. A name can be given to each trace and the ``showlegend`` keyword defines whether the name needs to be shown in the legend or not. The keyword argument ``panel_no`` defines in which panel the plotted trace is shown."
   ]
  },
  {
   "cell_type": "code",
   "execution_count": null,
   "id": "0114606d-8418-405a-84c9-faa96e91644a",
   "metadata": {},
   "outputs": [],
   "source": [
    "cptplot.add_trace(x=cpt_df['qc [MPa]'], z=cpt_df['z [m]'], name='qc', showlegend=False, panel_no=1)\n",
    "cptplot.add_trace(x=cpt_df['fs [MPa]'], z=cpt_df['z [m]'], name='fs', showlegend=False, panel_no=2)\n",
    "cptplot.add_trace(x=cpt_df['u2 [MPa]'], z=cpt_df['z [m]'], name='u2', showlegend=False, panel_no=3)"
   ]
  },
  {
   "cell_type": "markdown",
   "id": "bea21aac-96c0-4614-bfbc-d61e0ec7cc23",
   "metadata": {},
   "source": [
    "At this point, we are still preparing the plot for display. We now have to add the titles, ranges and tick intervals of the axes. For the x-axes, this needs to be set for each panel. The z-axis only needs to be set once as this axis is shared between all panels."
   ]
  },
  {
   "cell_type": "code",
   "execution_count": null,
   "id": "252871c3-8e0f-4a10-8505-e9418202f09a",
   "metadata": {},
   "outputs": [],
   "source": [
    "cptplot.set_xaxis(title='qc [MPa]', panel_no=1, range=(0, 100), dtick=10)\n",
    "cptplot.set_xaxis(title='fs [MPa]', panel_no=2, range=(0, 1), dtick=0.1)\n",
    "cptplot.set_xaxis(title='u2 [MPa]', panel_no=3, range=(-0.5, 2.5), dtick=0.5)\n",
    "cptplot.set_zaxis(title='z [m]')"
   ]
  },
  {
   "cell_type": "markdown",
   "id": "e9adad5a-6c03-46fc-b245-d726d373cab0",
   "metadata": {},
   "source": [
    "Finally, the ``.show()`` method displays the plot. The position of the deepest clay layer is clearly confirmed by the CPT results. For the shallowest clay layer, the CPT data suggests a thinner layer. Such differences may arise because of offsets between CPT tests and sample boreholes."
   ]
  },
  {
   "cell_type": "code",
   "execution_count": null,
   "id": "bab0b5ab-0dc2-468a-8410-3ffa1a4277c9",
   "metadata": {},
   "outputs": [],
   "source": [
    "cptplot.show()"
   ]
  },
  {
   "cell_type": "markdown",
   "id": "b4b04cbb-0fec-4759-a51e-f3043e6b3ed5",
   "metadata": {},
   "source": [
    "When parameters are defined in the ``SoilProfile`` object (as is the case for the total unit weight from the ``layering`` soil profile), we can add those to the plot using another method. We will plot the cone tip resistance and the total (bulk) unit weight in a second chart. First, we can add the cone tip resistance trace. The example below also shows how the line can be formatted using the standard Plotly syntax."
   ]
  },
  {
   "cell_type": "code",
   "execution_count": null,
   "id": "d5cda39f-ceef-4450-b91d-30a3b6f18808",
   "metadata": {},
   "outputs": [],
   "source": [
    "qc_uw_plot = LogPlot(soilprofile=layering, no_panels=2, fillcolordict=colordict)\n",
    "qc_uw_plot.add_trace(x=cpt_df['qc [MPa]'], z=cpt_df['z [m]'], name='qc', showlegend=False, panel_no=1, line=dict(color='black'))"
   ]
  },
  {
   "cell_type": "markdown",
   "id": "39a44de0-aa08-4722-ae7d-4a5c0f7e1f9e",
   "metadata": {},
   "source": [
    "To now add data from a ``SoilProfile`` object, we can use the method ``.add_soilparameter_trace`` and specify the parameter name (column header) from the ``SoilProfile`` object. Note that when parameters vary linearly, the parameter name is the column header without ``from`` or ``to``."
   ]
  },
  {
   "cell_type": "code",
   "execution_count": null,
   "id": "fa5ca7da-51da-45b5-85b3-24a244680cbd",
   "metadata": {},
   "outputs": [],
   "source": [
    "qc_uw_plot.add_soilparameter_trace(\n",
    "    parametername='Total unit weight [kN/m3]', panel_no=2, legendname='Bulk unit weight', showlegend=False,\n",
    "    line=dict(color='red', dash='dot'))"
   ]
  },
  {
   "cell_type": "markdown",
   "id": "50e6049a-5bb6-4de9-9cb5-e4886f893076",
   "metadata": {},
   "source": [
    "We can then again set the axes. Here, we restrict the depth axis to a range where there is CPT data."
   ]
  },
  {
   "cell_type": "code",
   "execution_count": null,
   "id": "184e2a88-e5ac-4fed-bb30-bbcac89e8494",
   "metadata": {},
   "outputs": [],
   "source": [
    "qc_uw_plot.set_xaxis(title='qc [MPa]', panel_no=1, range=(0, 100), dtick=10)\n",
    "qc_uw_plot.set_xaxis(title='Bulk unit weight [kN/m3]', panel_no=2, range=(13, 22), dtick=1)\n",
    "qc_uw_plot.set_zaxis(title='z [m]', range=(35, 0))"
   ]
  },
  {
   "cell_type": "markdown",
   "id": "395a75c0-c71f-464e-806d-27a89003a5a1",
   "metadata": {},
   "source": [
    "Finally the plot is displayed. The specified bulk unit weight is nicely displayed alongside the cone tip resistance."
   ]
  },
  {
   "cell_type": "code",
   "execution_count": null,
   "id": "ac484c88-6123-43d0-91e5-3c8601a443c6",
   "metadata": {},
   "outputs": [],
   "source": [
    "qc_uw_plot.show()"
   ]
  },
  {
   "cell_type": "markdown",
   "id": "fcc803c2-8c8a-41b4-bf39-1e3693f7c47b",
   "metadata": {},
   "source": [
    "## Conclusions\n",
    "\n",
    "The ``groundhog`` library has a number of useful plotting routines which create instructive plots allowing interpretation of geotechnical data. If you have any suggestions for plots to include in ``groundhog`` don't hesitate to reach out."
   ]
  },
  {
   "cell_type": "code",
   "execution_count": null,
   "id": "1fb920ea-2db6-432f-b35d-371962862d02",
   "metadata": {},
   "outputs": [],
   "source": []
  }
 ],
 "metadata": {
  "kernelspec": {
   "display_name": "Python 3 (ipykernel)",
   "language": "python",
   "name": "python3"
  },
  "language_info": {
   "codemirror_mode": {
    "name": "ipython",
    "version": 3
   },
   "file_extension": ".py",
   "mimetype": "text/x-python",
   "name": "python",
   "nbconvert_exporter": "python",
   "pygments_lexer": "ipython3",
   "version": "3.10.9"
  }
 },
 "nbformat": 4,
 "nbformat_minor": 5
}
