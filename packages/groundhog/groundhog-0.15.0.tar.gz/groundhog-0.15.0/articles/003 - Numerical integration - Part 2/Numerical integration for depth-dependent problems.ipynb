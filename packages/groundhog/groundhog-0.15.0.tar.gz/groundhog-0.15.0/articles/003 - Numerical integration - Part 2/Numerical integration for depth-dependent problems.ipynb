{
 "cells": [
  {
   "cell_type": "markdown",
   "id": "43ed11c4-1e97-4ea5-898a-35f78c0b2351",
   "metadata": {},
   "source": [
    "# Numerical integration for depth-dependent problems\n",
    "\n",
    "In geotechnical engineering, we are often interested in how certain properties accumulate over depth. Examples are the calculation of vertical effective stress from effective unit weight, pile shaft resistance from unit skin friction, ...\n",
    "\n",
    "These problems can be written as integral expressions:\n",
    "\n",
    "$$ I(z) = \\int_{z_0}^{z_1} f(z) dz $$\n",
    "\n",
    "When the soil is uniform, evaluating the integral analytically is still possible and the solution is straightforward. However, when the soil is layered, or the function $ f(z) $ shows complex variations with depth, this problem becomes hard to solve analytically. Furthermore, we are often interested to know the value of the integral as the depth increases (e.g. for knowing when the pile tip is deep enough to have sufficient shaft resistance).\n",
    "\n",
    "## Theory\n",
    "\n",
    "We this need to have a calculation method for evaluating the integral which returns the numerical value of the integral at a large number of depths. To achieve this, we can approximate the function $ f(z)$ in a given interval $ (a, b) $ with a linear function as shown in Figure 1. The integral in that interval can then be expressed as:\n",
    "\n",
    "$$ \\int_{a}^{b} f(z)dz \\approx \\frac{(b-a)}{2} \\left(f(a) + f(b) \\right) $$\n",
    "\n",
    "This is effectively the formula for the area of the trapezoid formed by the linear approximation. Hence, this approximation is called the trapezoid rule.\n",
    "\n",
    "<center><img src=\"Images/Trapezoidal_rule_illustration.png\" width=300>\n",
    "<br><b>Figure 1: Illustration of the trapeziod rule (image source: Wikimedia Commons)</b></center>"
   ]
  },
  {
   "cell_type": "markdown",
   "id": "fa7390fa-48f9-4d17-9378-e678dd4c8b1d",
   "metadata": {},
   "source": [
    "When this approximation is performed over a large number ($ N $) of intervals (i.e. a small depth increment $ \\Delta z $), we get the following expression for the integral:\n",
    "\n",
    "$$  \\int_{z_0}^{z_1} f(z)dz \\approx \\sum_{i=1}^N \\frac{f(z_{k-1}) - f(z_k)}{2} \\Delta z_k $$ \n",
    "\n",
    "Note that we use $ \\Delta z_k $ in the notation here as the size of the increments may vary.\n",
    "\n",
    "This approximation becomes more accurate as the number of increments increases or, in other words, when $ \\Delta z_k $ decreases."
   ]
  },
  {
   "cell_type": "markdown",
   "id": "25ea94b0-bf26-4a35-87df-c53219dee95d",
   "metadata": {},
   "source": [
    "## Implementation\n",
    "\n",
    "We can implement the recipe from the equation above using a Python loop but we can also use SciPy's ``scipy.integrate.cumulative_trapezoid`` function (https://docs.scipy.org/doc/scipy/reference/generated/scipy.integrate.cumulative_trapezoid.html).\n",
    "\n",
    "This function will apply the trapezoid rule specified array of $ f(z) $ and $ z $ values to return the cumulative quantity with depth.\n",
    "\n",
    "When looking at the function documentation, we can see that the following arguments are expected:\n",
    "\n",
    "```Python\n",
    "scipy.integrate.cumulative_trapezoid(y, x=None, dx=1.0, axis=-1, initial=None)\n",
    "```\n",
    "\n",
    "   - ``y``: These are the values of $ f(z) $\n",
    "   - ``x``: These are the values of $ z $\n",
    "   - ``dx``: This can be used instead of ``x`` if $ \\Delta z $ is equal for all depths\n",
    "   - ``axis``: For one-dimensional arrays, this is just left at the default\n",
    "   - ``initial``: If an initial value (e.g. non-zero vertical effective stress) is needed, this can be specified here"
   ]
  },
  {
   "cell_type": "markdown",
   "id": "ffbb52b6-60d7-40a3-93d9-7bc4359a6665",
   "metadata": {},
   "source": [
    "## Basic example: Vertical effective stress profile\n",
    "\n",
    "Let's consider a 10m thick layer of soil with a uniform effective unit weight of 9kN/m$^3$ and a hydrostatic pore pressure distribution. When we want to calculate the vertical effective stress, we need to evaluate the following integral:\n",
    "\n",
    "$$ \\sigma_{v0}^{\\prime} = \\int_{z=0}^{z_1} \\gamma^{\\prime} dz $$\n",
    "\n",
    "It is easy to see that the vertical effective stress function is $ \\sigma_{v0}^{\\prime} = 9 z $ and that the vertical effective stress at 10m depth is this 90kPa. We can also calculate this with the ``cumulative_trapeziod`` function.\n",
    "\n",
    "Let's create a Numpy array for the depths with 50 equally spaced depths between 0 and 10m (using ``linspace``). We can also create an array with the same length for the effective unit weight (using ``np.ones``)."
   ]
  },
  {
   "cell_type": "code",
   "execution_count": null,
   "id": "d612031d-728d-4663-bf2f-e81fc07423f3",
   "metadata": {},
   "outputs": [],
   "source": [
    "import numpy as np\n",
    "z = np.linspace(0, 10, 50) # 50 equally spaced depths between 0m and 10m\n",
    "gamma_eff = 9 * np.ones(50) # Numpy array with 50 elements, each with value 9"
   ]
  },
  {
   "cell_type": "markdown",
   "id": "325b1942-3457-4ae7-80e9-329a92a006e7",
   "metadata": {},
   "source": [
    "Calculating the vertical effective stress can then be done using the analytical expression. Note that NumPy performs the calculation in a vectorized manner, multiplying each element of effective unit weight by the corresponding depth and storing the results in a Numpy array. This is very effective when performing computations with arrays!"
   ]
  },
  {
   "cell_type": "code",
   "execution_count": null,
   "id": "fdc65af1-d120-4630-a7e5-69106e625c44",
   "metadata": {},
   "outputs": [],
   "source": [
    "sigma_vo_eff = gamma_eff * z\n",
    "sigma_vo_eff"
   ]
  },
  {
   "cell_type": "markdown",
   "id": "d418991c-7ae3-4707-948b-9b07257a4162",
   "metadata": {},
   "source": [
    "The same can be achieved using the Scipy function ``cumulative_trapezoid`` by filling in the arguments appropriately."
   ]
  },
  {
   "cell_type": "code",
   "execution_count": null,
   "id": "f9f53c25-3a34-4733-bee0-0af74143e10a",
   "metadata": {},
   "outputs": [],
   "source": [
    "from scipy.integrate import cumulative_trapezoid"
   ]
  },
  {
   "cell_type": "code",
   "execution_count": null,
   "id": "29cc0583-294d-422d-b39f-bdee485b2dae",
   "metadata": {},
   "outputs": [],
   "source": [
    "cumulative_trapezoid(y=gamma_eff, x=z)"
   ]
  },
  {
   "cell_type": "markdown",
   "id": "dd3a8b12-e740-4ad6-9f29-d8a8f3d46bf7",
   "metadata": {},
   "source": [
    "We can see that the result is exactly the same, except that the first element (zero vertical effective stress for $ z=0$) is missing. This can be mitigated by specifying the ``initial`` keyword argument. In the absence of surcharge, the vertical effective stress is 0kPa at $ z =0 $."
   ]
  },
  {
   "cell_type": "code",
   "execution_count": null,
   "id": "2d0be21c-0721-4456-88e9-5f1cefd6329d",
   "metadata": {},
   "outputs": [],
   "source": [
    "cumulative_trapezoid(y=gamma_eff, x=z, initial=0)"
   ]
  },
  {
   "cell_type": "markdown",
   "id": "b6f6c5f7-840d-43ad-ab87-fac4c797e5a1",
   "metadata": {},
   "source": [
    "Now, the direct evaluation using the analytical formula and the numerical integration using the trapezoid rule give the same result!"
   ]
  },
  {
   "cell_type": "markdown",
   "id": "54676d7c-e688-4d6b-a618-0c3ebe381a31",
   "metadata": {},
   "source": [
    "## Gridding for geotechnical calculations\n",
    "\n",
    "Numerical integration for geotechnical problems involves using the trapezoid rule on a depth axis which includes a given layering. To prevent writing functions with many ``if`` statements, we can make use of the functionality in the ``groundhog`` library.\n",
    "\n",
    "``groundhog`` contains the ``SoilProfile`` class which defines a layering. This is done by specifying the depths of the tops of each layer and the depths of layer bottoms. Soil parameters (both numerical and text-based) can then be added as additional columns. ``SoilProfile`` inherits from the Pandas ``DataFrame`` so all ``DataFrame`` functionality can also be used on ``SoilProfile`` objects. In addition to that, the ``SoilProfile`` class includes a number of functions which are specific for geotechnical profiles.\n",
    "\n",
    "Here, we will declare a three-layer soil profile (sand overlying clay, with silt below). We can assign an effective unit weight to each layer."
   ]
  },
  {
   "cell_type": "code",
   "execution_count": null,
   "id": "5c9c75a1-1d3d-414e-afa0-e5c5d4614549",
   "metadata": {},
   "outputs": [],
   "source": [
    "from groundhog.general.soilprofile import SoilProfile"
   ]
  },
  {
   "cell_type": "code",
   "execution_count": null,
   "id": "95d3f2fe-0801-4b42-9e14-fac8536f0886",
   "metadata": {},
   "outputs": [],
   "source": [
    "sp = SoilProfile({\n",
    "    'Depth from [m]': [0, 5, 10],\n",
    "    'Depth to [m]': [5, 10, 20],\n",
    "    'Soil type': ['SAND', 'CLAY', 'SILT'],\n",
    "    'Effective unit weight [kN/m3]': [10, 7, 8]})\n",
    "sp"
   ]
  },
  {
   "cell_type": "markdown",
   "id": "23209a6d-3020-4d9a-aeff-7016f8009509",
   "metadata": {},
   "source": [
    "The soilprofile contains all the information for the layering but to actually perform numerical integration, we need a finer grid. In ``groundhog`` this is achieved by creating a ``CalculationGrid`` from the ``SoilProfile`` object.\n",
    "\n",
    "When creating the grid, nodes are added in between the layer interfaces using a regular node spacing (``dz`` argument). When layer interfaces do not correspond to the nodal coordinates, the layer interfaces are added to the nodal coordinate list. "
   ]
  },
  {
   "cell_type": "code",
   "execution_count": null,
   "id": "8072331e-d450-42d8-9581-2a18338248f3",
   "metadata": {},
   "outputs": [],
   "source": [
    "from groundhog.general.soilprofile import CalculationGrid\n",
    "grid = CalculationGrid(soilprofile=sp, dz=0.3)"
   ]
  },
  {
   "cell_type": "markdown",
   "id": "1ac74cca-4d70-467f-bccc-2c726d532748",
   "metadata": {},
   "source": [
    "The ``CalculationGrid`` has a ``nodes`` attribute which contains the nodal coordinates. When creating the ``CalculationGrid`` object from a ``SoilProfile`` object, the properties of the ``SoilProfile`` object are interpolated to the ``CalculationGrid`` object. The ``nodes`` attribute is a Pandas ``DataFrame``.\n",
    "\n",
    "We can print the ``nodes`` attribute."
   ]
  },
  {
   "cell_type": "code",
   "execution_count": null,
   "id": "5fddad0e-4fd7-44f5-bc31-a140c535078f",
   "metadata": {},
   "outputs": [],
   "source": [
    "grid.nodes"
   ]
  },
  {
   "cell_type": "markdown",
   "id": "ed657101-0af0-41a9-a691-6cfdfb4ca3d2",
   "metadata": {},
   "source": [
    "For certain operations, it is useful to work with the elements between individual nodes. To achieve this, the ``CalculationGrid`` object also has a ``elements`` attribute which provides a listing of all elements with the top and bottom coordinate and the interpolated properties. \n",
    "\n",
    "The ``elements`` attribute of a ``CalculationGrid`` object is a ``SoilProfile`` object so all methods defined for ``SoilProfile`` objects can also be used on this attribute.\n",
    "\n",
    "We can print the ``elements`` attribute:"
   ]
  },
  {
   "cell_type": "code",
   "execution_count": null,
   "id": "3c554c7f-6d2e-41e8-891e-f23f2985aba2",
   "metadata": {},
   "outputs": [],
   "source": [
    "grid.elements"
   ]
  },
  {
   "cell_type": "markdown",
   "id": "d95826a1-1e96-4f60-81ea-7dcd0db4d405",
   "metadata": {},
   "source": [
    "The calculation of the vertical effective stress from effective unit weight can be done on the ``grid.nodes`` dataframe. We just need to call ``cumulative_trapezoid`` with the appropriate column names to supply the ``y`` and ``x`` arguments to the routine. To ensure that the output has the correct length, we also specify the initial value.\n",
    "\n",
    "The result is assigned to the column ``'Vertical effective stress [kPa]'``."
   ]
  },
  {
   "cell_type": "code",
   "execution_count": null,
   "id": "5de6e0f0-a56a-4944-955b-657e873ebc5f",
   "metadata": {},
   "outputs": [],
   "source": [
    "grid.nodes['Vertical effective stress [kPa]'] = cumulative_trapezoid(\n",
    "    y=grid.nodes['Effective unit weight [kN/m3]'], x=grid.nodes['z [m]'], initial=0)"
   ]
  },
  {
   "cell_type": "markdown",
   "id": "1437afb8-49d2-4f3b-a7c7-05d5baaf6c91",
   "metadata": {},
   "source": [
    "To visualise the results, we can make use of the ``LogPlot`` in ``groundhog``. This class allows creation of plots of geotechnical parameters with a miniature log of the stratigraphy alongside it."
   ]
  },
  {
   "cell_type": "code",
   "execution_count": null,
   "id": "1d6821b5-7848-4d24-9141-c47ccb766d84",
   "metadata": {},
   "outputs": [],
   "source": [
    "from groundhog.general.plotting import LogPlot"
   ]
  },
  {
   "cell_type": "markdown",
   "id": "3be5d184-b022-4257-9f00-bca53b652c2f",
   "metadata": {},
   "source": [
    "The ``LogPlot`` is defined by supplying a ``SoilProfile`` and determining how many panels there are. Here, we will create a panel for the effective unit weight and one for the vertical effective stress. The colors for the stratigraphic log are defined in a Python dictionary (``fillcolordict``) which maps each entry in the ``'Soil type'`` column to a color.\n",
    "\n",
    "Data is added to the plot using the ``.add_trace`` method. This method takes an array (or dataframe column) for the ``x`` and ``z`` arguments and the user needs to decide on which panel to plot the trace (``panel_no`` argument). A name is also defined for each trace which is used in the legend.\n",
    "\n",
    "The axes are set with the ``.set_xaxis`` (which takes the ``panel_no`` as argument) and ``.set_zaxis`` methods. Here, we set the title for each axis and define the range for the effective unit weight axis."
   ]
  },
  {
   "cell_type": "code",
   "execution_count": null,
   "id": "7945a2d1-5525-428c-83c2-36822dc6a645",
   "metadata": {},
   "outputs": [],
   "source": [
    "resultplot = LogPlot(\n",
    "    soilprofile=sp, no_panels=2,\n",
    "    fillcolordict={'SAND': 'yellow', 'CLAY': 'brown', 'SILT': 'orange'})\n",
    "resultplot.add_trace(\n",
    "    x=grid.nodes['Effective unit weight [kN/m3]'],\n",
    "    z=grid.nodes['z [m]'],\n",
    "    name='Effective unit weight',\n",
    "    panel_no=1)\n",
    "resultplot.add_trace(\n",
    "    x=grid.nodes['Vertical effective stress [kPa]'],\n",
    "    z=grid.nodes['z [m]'],\n",
    "    name='Vertical effective stress',\n",
    "    panel_no=2)\n",
    "resultplot.set_xaxis(title='Effective unit weight [kN/m3]', panel_no=1, range=(0, 12))\n",
    "resultplot.set_xaxis(title='Vertical effective stress [kPa]', panel_no=2)\n",
    "resultplot.set_zaxis(title='z [m]')\n",
    "resultplot.show()"
   ]
  },
  {
   "cell_type": "markdown",
   "id": "cd414948-0397-4115-99ff-52ea9f2abf63",
   "metadata": {},
   "source": [
    "When inspecting the plot, we can see that the effective unit weight changes at layer transitions are not immediate. This is because a layer interface node cannot have two values of effective unit weigth. It will always take the value of the underlying layer.\n",
    "\n",
    "This is why we can also calculate the vertical effective stress based on the element definitions. For this, we can use the ``depth_integration`` method of the ``SoilProfile`` object. We need to supply the column name a the parameter which will be integrated (``'Effective unit weight [kN/m3]'``) and provide a name for the output. As the integration of a constant value will lead to a linear variation over the element, the output will be two columns, one giving the value at the top of the element (``'Vertical effective stress from [kPa]'``) and one with the value of the bottom of the element (``'Vertical effective stress to [kPa]'``)."
   ]
  },
  {
   "cell_type": "code",
   "execution_count": null,
   "id": "189ba188-fa2c-4ef8-b94c-88275160618a",
   "metadata": {},
   "outputs": [],
   "source": [
    "grid.elements.depth_integration(\n",
    "    parameter='Effective unit weight [kN/m3]', outputparameter='Vertical effective stress [kPa]')\n",
    "grid.elements.head()"
   ]
  },
  {
   "cell_type": "markdown",
   "id": "1132e4b9-3269-4841-b285-c99df0a1976d",
   "metadata": {},
   "source": [
    "We can use ``LogPlot`` again to visualise the results but instead of using ``add_trace``, we use ``add_soilparameter_trace``which just needs the name of the soil parameter to be plotted and the panel number. If a parameter shows a linear variation, we supply the name without ``'from'`` or ``'to'``."
   ]
  },
  {
   "cell_type": "code",
   "execution_count": null,
   "id": "afff6527-3012-407e-9d76-fe7bb7670319",
   "metadata": {},
   "outputs": [],
   "source": [
    "resultplot = LogPlot(\n",
    "    soilprofile=grid.elements, no_panels=2,\n",
    "    fillcolordict={'SAND': 'yellow', 'CLAY': 'brown', 'SILT': 'orange'})\n",
    "resultplot.add_soilparameter_trace(\n",
    "    parametername='Effective unit weight [kN/m3]', panel_no=1)\n",
    "resultplot.add_soilparameter_trace(\n",
    "    parametername='Vertical effective stress [kPa]', panel_no=2)\n",
    "resultplot.add_trace(\n",
    "    x=grid.nodes['Vertical effective stress [kPa]'],\n",
    "    z=grid.nodes['z [m]'],\n",
    "    name='Nodal vertical effective stress ',\n",
    "    line=dict(dash='dot'),\n",
    "    panel_no=2)\n",
    "resultplot.set_xaxis(title='Effective unit weight [kN/m3]', panel_no=1, range=(0, 12))\n",
    "resultplot.set_xaxis(title='Vertical effective stress [kPa]', panel_no=2)\n",
    "resultplot.set_zaxis(title='z [m]')\n",
    "resultplot.show()"
   ]
  },
  {
   "cell_type": "markdown",
   "id": "9b9e863d-6a5d-4063-8bd8-29c7bc05759c",
   "metadata": {},
   "source": [
    "We can see that results are identical between the nodes and elements. The transitions between unit weights at layer interfaces are now also sharp because an element is either fully above or fully below a layer interface.\n",
    "\n",
    "Currently, ``groundhog`` leaves it up to the user to decide whether to operate on nodes or elements.\n",
    "\n",
    "When a non-zero vertical effective stress is necessary (e.g. when a surcharge is present), the initial value can be specified using the ``start_value`` argument. Here, we can work with a surcharge of 40kPa:"
   ]
  },
  {
   "cell_type": "code",
   "execution_count": null,
   "id": "02d5ab9f-9c3f-4376-9076-cb95ad8fa00d",
   "metadata": {},
   "outputs": [],
   "source": [
    "grid.elements['Vertical effective stress [kPa]'] = grid.elements.depth_integration(\n",
    "    parameter='Effective unit weight [kN/m3]', outputparameter='Vertical effective stress [kPa]', start_value=40)"
   ]
  },
  {
   "cell_type": "markdown",
   "id": "4a6c7845-a1ae-4881-a218-99b9e4454043",
   "metadata": {},
   "source": [
    "When visualising the results, the vertical effective stresses should shift to the right by 40kPa."
   ]
  },
  {
   "cell_type": "code",
   "execution_count": null,
   "id": "2790d88b-3557-4556-899d-8522c28b94f0",
   "metadata": {},
   "outputs": [],
   "source": [
    "resultplot = LogPlot(\n",
    "    soilprofile=grid.elements, no_panels=2,\n",
    "    fillcolordict={'SAND': 'yellow', 'CLAY': 'brown', 'SILT': 'orange'})\n",
    "resultplot.add_soilparameter_trace(\n",
    "    parametername='Effective unit weight [kN/m3]', panel_no=1)\n",
    "resultplot.add_soilparameter_trace(\n",
    "    parametername='Vertical effective stress [kPa]', panel_no=2)\n",
    "resultplot.set_xaxis(title='Effective unit weight [kN/m3]', panel_no=1, range=(0, 12))\n",
    "resultplot.set_xaxis(title='Vertical effective stress [kPa]', panel_no=2)\n",
    "resultplot.set_zaxis(title='z [m]')\n",
    "resultplot.show()"
   ]
  },
  {
   "cell_type": "markdown",
   "id": "16944e34-1e51-405b-beab-ac301b68434e",
   "metadata": {},
   "source": [
    "## Conclusions\n",
    "\n",
    "Being able to apply the trapezoid rules to arrays of depth values and corresponding geotechnical parameters at those depths is very useful in geotechnical calculations. While the standard SciPy syntax can always be used, the ``CalculationGrid`` in ``groundhog`` uses the same functionality to quickly apply numerical integration to soil profiles. Using this syntax, advanced geotechnical workflows can be created with just a few lines of code.\n",
    "\n",
    "In the next post, I will show you how the ``groundhog`` library can be used to create nice and instructive charts for grain size and plasticity results (thanks @Joe Seery for the suggestion)."
   ]
  },
  {
   "cell_type": "code",
   "execution_count": null,
   "id": "1309133f-2b5a-4615-807b-dbd97858a49b",
   "metadata": {},
   "outputs": [],
   "source": []
  }
 ],
 "metadata": {
  "kernelspec": {
   "display_name": "Python 3 (ipykernel)",
   "language": "python",
   "name": "python3"
  },
  "language_info": {
   "codemirror_mode": {
    "name": "ipython",
    "version": 3
   },
   "file_extension": ".py",
   "mimetype": "text/x-python",
   "name": "python",
   "nbconvert_exporter": "python",
   "pygments_lexer": "ipython3",
   "version": "3.10.9"
  }
 },
 "nbformat": 4,
 "nbformat_minor": 5
}
