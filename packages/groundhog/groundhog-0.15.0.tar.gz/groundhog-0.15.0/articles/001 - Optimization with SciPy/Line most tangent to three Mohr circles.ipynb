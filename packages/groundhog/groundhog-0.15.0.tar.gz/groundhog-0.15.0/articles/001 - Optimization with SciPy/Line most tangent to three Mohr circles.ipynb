{
 "cells": [
  {
   "cell_type": "markdown",
   "id": "bcfc9e24",
   "metadata": {},
   "source": [
    "# Line most tangent to three Mohr circles\n",
    "\n",
    "This notebook develops the math for drawing the line which is most tangent to three or more different Mohr circles (as is needed for derivation of drained parameters from a CU test with three subsamples."
   ]
  },
  {
   "cell_type": "code",
   "execution_count": null,
   "id": "520b48eb",
   "metadata": {},
   "outputs": [],
   "source": [
    "import numpy as np\n",
    "import os\n",
    "from copy import deepcopy\n",
    "import pandas as pd\n",
    "pd.options.display.max_columns = 200\n",
    "pd.options.display.max_rows = 1000"
   ]
  },
  {
   "cell_type": "code",
   "execution_count": null,
   "id": "6763fad9",
   "metadata": {},
   "outputs": [],
   "source": [
    "from plotly import tools, subplots\n",
    "import plotly.express as px\n",
    "import plotly.graph_objs as go\n",
    "import plotly.io as pio\n",
    "import plotly.figure_factory as ff\n",
    "from plotly.colors import DEFAULT_PLOTLY_COLORS\n",
    "from plotly.offline import init_notebook_mode\n",
    "init_notebook_mode()\n",
    "pio.templates.default = 'plotly_white'"
   ]
  },
  {
   "cell_type": "code",
   "execution_count": null,
   "id": "192b7b22",
   "metadata": {},
   "outputs": [],
   "source": [
    "sigma3s = np.array([100, 200, 400])\n",
    "sigma1s = np.array([400, 650, 1000])"
   ]
  },
  {
   "cell_type": "code",
   "execution_count": null,
   "id": "1e564480",
   "metadata": {},
   "outputs": [],
   "source": [
    "radii = 0.5 * (sigma1s - sigma3s)\n",
    "centers = 0.5 * (sigma1s + sigma3s)\n",
    "thetas = np.linspace(0, np.pi, 250)"
   ]
  },
  {
   "cell_type": "code",
   "execution_count": null,
   "id": "dd329392",
   "metadata": {},
   "outputs": [],
   "source": [
    "fig = subplots.make_subplots(rows=1, cols=1, print_grid=False)\n",
    "for i, _r in enumerate(radii):\n",
    "    _data = go.Scatter(\n",
    "        x=centers[i] + _r * np.cos(thetas),\n",
    "        y=_r * np.sin(thetas), showlegend=False, mode='lines',name='Legend name')\n",
    "    fig.append_trace(_data, 1, 1)\n",
    "fig['layout']['xaxis1'].update(title=r'$ \\sigma \\ \\text{[kPa]}$', range=(0, 1000), dtick=100)\n",
    "fig['layout']['yaxis1'].update(title=r'$ \\tau \\ \\text{[kPa]}$', scaleanchor='x', scaleratio=1.0, range=(0, 450))\n",
    "fig['layout'].update(height=500, width=900)\n",
    "fig.show()"
   ]
  },
  {
   "cell_type": "markdown",
   "id": "221c266f",
   "metadata": {},
   "source": [
    "The failure criterion can be written as:\n",
    "\n",
    "$$ \\tau = c^{\\prime} + \\sigma^{\\prime} \\tan \\varphi^{\\prime} $$\n",
    "\n",
    "or in $ ax +by + c=0$ form:\n",
    "\n",
    "$$ \\tan \\varphi^{\\prime} \\sigma^{\\prime} - \\tau + c^{\\prime} = 0 $$\n",
    "\n",
    "where $ a = \\tan \\varphi^{\\prime} $, $ b = -1 $ and $ c = c^{\\prime} $."
   ]
  },
  {
   "cell_type": "markdown",
   "id": "2791df65",
   "metadata": {},
   "source": [
    "The aim is to minimise the distance from the center of each Mohr circle to the failure criterion for each of the three circles. The distance from a point ($x_0, y_0$) to a line can be expressed as:\n",
    "\n",
    "$$ d = \\frac{\\left| a x_0 + b y_0 + c\\right|}{\\sqrt{a^2 + b^2}} $$ "
   ]
  },
  {
   "cell_type": "markdown",
   "id": "b7ec578f",
   "metadata": {},
   "source": [
    "For our problem, this can be written as:\n",
    "\n",
    "$$ d = \\frac{\\left| \\tan \\varphi^{\\prime} \\frac{\\sigma_1^{\\prime} + \\sigma_3^{\\prime}}{2} + c^{\\prime} \\right|}{\\sqrt{\\tan^2 \\varphi^{\\prime} + 1}} $$ \n",
    "\n",
    "This distance needs to be as close to the radius of each circle as possible. The difference can be expressed by subtracting this radius ($ \\frac{\\sigma_1^{\\prime} - \\sigma_3^{\\prime}}{2} $)"
   ]
  },
  {
   "cell_type": "code",
   "execution_count": null,
   "id": "9cf09e58",
   "metadata": {},
   "outputs": [],
   "source": [
    "from scipy.optimize import minimize"
   ]
  },
  {
   "cell_type": "code",
   "execution_count": null,
   "id": "9bb4d57e",
   "metadata": {},
   "outputs": [],
   "source": [
    "def distance_func(x, sigma1_effs, sigma3_effs):\n",
    "    \"\"\"\n",
    "    Defines the distance function, x[0] = tan phi and x[1] = c'\n",
    "    Returns the sum of all distances\n",
    "    \"\"\"\n",
    "    ds = np.zeros(sigma1_effs.__len__())\n",
    "    for i, (_sigma1, _sigma3) in enumerate(zip(sigma1_effs, sigma3_effs)):\n",
    "        ds[i] = (np.abs(x[0] * 0.5 * (_sigma1 + _sigma3) + x[1]) / \\\n",
    "            np.sqrt(x[0] ** 2 + 1) - (0.5 * (_sigma1 - _sigma3))) ** 2\n",
    "        \n",
    "    return ds.sum()"
   ]
  },
  {
   "cell_type": "code",
   "execution_count": null,
   "id": "6779305c",
   "metadata": {},
   "outputs": [],
   "source": [
    "result = distance_func(np.array([np.tan(np.radians(25)), 5]), sigma1s, sigma3s)\n",
    "result.sum()"
   ]
  },
  {
   "cell_type": "code",
   "execution_count": null,
   "id": "9669c0da",
   "metadata": {},
   "outputs": [],
   "source": [
    "np.tan(np.radians(15)), np.tan(np.radians(40))"
   ]
  },
  {
   "cell_type": "code",
   "execution_count": null,
   "id": "a41a5df0",
   "metadata": {},
   "outputs": [],
   "source": [
    "minimised_params = minimize(\n",
    "    distance_func, # A function of one of more variables\n",
    "    x0=np.array([np.tan(np.radians(25)), 50]), # Initial guess for the values which minimise the function\n",
    "    method='SLSQP', # Method used for the minimisation\n",
    "    args=(sigma1s, sigma3s), # Function arguments, two arguments in this case\n",
    "    bounds=((np.tan(np.radians(15)), np.tan(np.radians(40))), (0, None)) # Bounds between which the parameters may vary (tuple of (min, max) values)\n",
    ")\n",
    "\n",
    "minimised_params"
   ]
  },
  {
   "cell_type": "code",
   "execution_count": null,
   "id": "d55c1ebe",
   "metadata": {},
   "outputs": [],
   "source": [
    "np.rad2deg(np.arctan(minimised_params.x[0]))"
   ]
  },
  {
   "cell_type": "code",
   "execution_count": null,
   "id": "0a80ab96",
   "metadata": {},
   "outputs": [],
   "source": [
    "effective_friction_angle = round(np.rad2deg(np.arctan(minimised_params.x[0])), 1)\n",
    "effective_cohesion = round(minimised_params.x[1], 1)\n",
    "print(effective_friction_angle, effective_cohesion)"
   ]
  },
  {
   "cell_type": "code",
   "execution_count": null,
   "id": "029a416e",
   "metadata": {},
   "outputs": [],
   "source": [
    "fig = subplots.make_subplots(rows=1, cols=1, print_grid=False)\n",
    "for i, _r in enumerate(radii):\n",
    "    _data = go.Scatter(\n",
    "        x=centers[i] + _r * np.cos(thetas),\n",
    "        y=_r * np.sin(thetas), showlegend=False, mode='lines',name='Legend name')\n",
    "    fig.append_trace(_data, 1, 1)\n",
    "_data = go.Scatter(\n",
    "    x=np.linspace(0, 1000, 250),\n",
    "    y=minimised_params.x[1] + np.linspace(0, 1000, 250) * minimised_params.x[0],\n",
    "    showlegend=False, mode='lines',name='Legend name', line=dict(color='black', dash='dot'))\n",
    "fig.append_trace(_data, 1, 1)\n",
    "fig['layout']['xaxis1'].update(title=r'$ \\sigma \\ \\text{[kPa]}$', dtick=100)\n",
    "fig['layout']['yaxis1'].update(title=r'$ \\tau \\ \\text{[kPa]}$', scaleanchor='x', scaleratio=1.0)\n",
    "fig['layout'].update(height=500, width=900)\n",
    "fig.show()"
   ]
  },
  {
   "cell_type": "code",
   "execution_count": null,
   "id": "cd04057c",
   "metadata": {},
   "outputs": [],
   "source": []
  }
 ],
 "metadata": {
  "kernelspec": {
   "display_name": "Python 3 (ipykernel)",
   "language": "python",
   "name": "python3"
  },
  "language_info": {
   "codemirror_mode": {
    "name": "ipython",
    "version": 3
   },
   "file_extension": ".py",
   "mimetype": "text/x-python",
   "name": "python",
   "nbconvert_exporter": "python",
   "pygments_lexer": "ipython3",
   "version": "3.10.9"
  },
  "toc": {
   "base_numbering": 1,
   "nav_menu": {},
   "number_sections": true,
   "sideBar": true,
   "skip_h1_title": true,
   "title_cell": "Table of Contents",
   "title_sidebar": "Contents",
   "toc_cell": false,
   "toc_position": {},
   "toc_section_display": true,
   "toc_window_display": false
  },
  "varInspector": {
   "cols": {
    "lenName": 16,
    "lenType": 16,
    "lenVar": 40
   },
   "kernels_config": {
    "python": {
     "delete_cmd_postfix": "",
     "delete_cmd_prefix": "del ",
     "library": "var_list.py",
     "varRefreshCmd": "print(var_dic_list())"
    },
    "r": {
     "delete_cmd_postfix": ") ",
     "delete_cmd_prefix": "rm(",
     "library": "var_list.r",
     "varRefreshCmd": "cat(var_dic_list()) "
    }
   },
   "types_to_exclude": [
    "module",
    "function",
    "builtin_function_or_method",
    "instance",
    "_Feature"
   ],
   "window_display": false
  }
 },
 "nbformat": 4,
 "nbformat_minor": 5
}
