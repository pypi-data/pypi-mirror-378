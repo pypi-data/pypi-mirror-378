{
  "nbformat": 4,
  "nbformat_minor": 0,
  "metadata": {
    "colab": {
      "provenance": []
    },
    "kernelspec": {
      "name": "python3",
      "display_name": "Python 3"
    },
    "language_info": {
      "name": "python"
    }
  },
  "cells": [
    {
      "cell_type": "markdown",
      "source": [
        "# Small Tutorial Using Fracnetics\n",
        "\n",
        "## Summary 🔭\n",
        "\n",
        "This notebook demonstrates how to use the **Fracnetics** library to solve the CartPole environment problem from Gymnasium (fork from OpenAI Gym).\n",
        "\n",
        "Fractnetics is a Python library for **Genetic Network Programming (GNP)** enhanced with fractal geometry, which means it a subfield of Evolutionary Algorithms.\n",
        "\n",
        "## Cart Pole\n",
        "\n",
        "A pole is attached by an un-actuated joint to a cart, which moves along a frictionless track. The pendulum is placed upright on the cart and the goal is to balance the pole by applying forces in the left and right direction on the cart.\n",
        "\n",
        "![Beschreibung](https://gymnasium.farama.org/_images/cart_pole.gif)\n",
        "\n",
        "## Evolutionary Aglortihms 🧬\n",
        "\n",
        "Evolutionary Algorithms are a family of optimization techniques inspired by the process of natural evolution. They work by maintaining a **population** of candidate solutions, which evolve over time through operations such as **selection, mutation, and crossover**. The idea is to iteratively improve solutions by mimicking survival of the fittest, where better solutions are more likely to be chosen and combined to form new ones. EAs are especially useful for solving complex, nonlinear, and high-dimensional problems where traditional optimization methods may fail.\n",
        "\n",
        "## Genetic Network Programming 🦾\n",
        "\n",
        "Genetic Network Programming is a branch of evolutionary computation that represents solutions as **networks** of nodes rather than as linear strings (like in Genetic Algorithms). Each node corresponds to a function, decision, or action, and the network’s structure allows for recurrent flows of control. This enables GNP to model adaptive, flexible, and memory-dependent behaviors. It has been applied successfully in areas such as robotics, decision-making systems, and dynamic optimization tasks.\n",
        "\n",
        "## Next 🔥\n",
        "In this tutorial we will initialize a population, train it, validate it, and finally record a run.  \n",
        "\n",
        "Checkout Fracnetics and Gymnasium here:\n",
        "\n",
        "- Fracnetics: https://github.com/FabianKoehnke/fracnetics\n",
        "- Gymnasium: https://gymnasium.farama.org/\n",
        "\n"
      ],
      "metadata": {
        "id": "SuKPW8i0SF1u"
      }
    },
    {
      "cell_type": "markdown",
      "source": [
        "## Install and Load Packages"
      ],
      "metadata": {
        "id": "ndNbgIKzSSzX"
      }
    },
    {
      "cell_type": "code",
      "source": [
        "!pip install --upgrade fracnetics\n",
        "import fracnetics as fn\n",
        "import gymnasium as gym\n",
        "from matplotlib import pyplot as plt\n",
        "import statistics\n",
        "from gymnasium.wrappers import RecordVideo"
      ],
      "metadata": {
        "id": "kQpZa6pZj8qI",
        "colab": {
          "base_uri": "https://localhost:8080/"
        },
        "outputId": "42ba89bd-caa2-443f-94f7-78362beb0994"
      },
      "execution_count": 14,
      "outputs": [
        {
          "output_type": "stream",
          "name": "stdout",
          "text": [
            "Requirement already satisfied: fracnetics in /usr/local/lib/python3.12/dist-packages (0.2.11)\n",
            "Requirement already satisfied: pybind11>=2.10.0 in /usr/local/lib/python3.12/dist-packages (from fracnetics) (3.0.1)\n"
          ]
        }
      ]
    },
    {
      "cell_type": "markdown",
      "source": [
        "## Initializing the Population\n",
        "\n",
        "Here we initialize the population for Fracnetics to solve the cartpole problem.\n",
        "\n",
        "Key parameters:\n",
        "- `seed`: random seed for reproducibility  \n",
        "- `ni`: number of individuals  \n",
        "- `jn` / `jnf`: judgment nodes and functions  \n",
        "- `pn` / `pnf`: perceptron nodes and functions  \n",
        "- `fractalJudgment`: enables/disables fractal-based judgment (not relevant in this tutorial)"
      ],
      "metadata": {
        "id": "3tQ4V33vScyI"
      }
    },
    {
      "cell_type": "code",
      "source": [
        "# Initialize the population\n",
        "pop = fn.Population(\n",
        "    seed=42,\n",
        "    ni=200,       # number of individuals\n",
        "    jn=1,         # judgment nodes\n",
        "    jnf=4,        # judgment node functions\n",
        "    pn=2,         # perceptron nodes\n",
        "    pnf=2,        # perceptron node functions\n",
        "    fractalJudgment=False\n",
        ")"
      ],
      "metadata": {
        "id": "-ugd2YbpkVev"
      },
      "execution_count": 15,
      "outputs": []
    },
    {
      "cell_type": "markdown",
      "source": [
        "Hints:\n",
        "\n",
        "- We just initialized one jn and two pn because networks can grow and shrink and therefore can add judgment nodes during the evolution. See also our paper: https://link.springer.com/chapter/10.1007/978-3-031-90062-4_18\n",
        "- We initialized 4 judgment nodes functions (jnf) because the observation is a ndarray with shape (4,)\n",
        "- We initializes 2 processing node functions (2) because the action is a ndarray with shape (1,) which can take values {0, 1}\n"
      ],
      "metadata": {
        "id": "hkF6tTjrTwv3"
      }
    },
    {
      "cell_type": "code",
      "source": [
        "# Set input feature boundaries (based on CartPole state space)\n",
        "minFeatures = [-4.8, -5, -0.418, -10]\n",
        "maxFeatures = [4.8, 5, 0.418, 10]\n",
        "pop.setAllNodeBoundaries(minFeatures, maxFeatures)"
      ],
      "metadata": {
        "id": "PU0yhH5CU3U3",
        "collapsed": true
      },
      "execution_count": 16,
      "outputs": []
    },
    {
      "cell_type": "markdown",
      "source": [
        "## Training the Population\n",
        "\n",
        "The population is trained over 300 generations.  \n",
        "Each generation involves:\n",
        "1. Fitness evaluation in the Gym environment  \n",
        "2. Selection (Tournament Selection)  \n",
        "3. Mutation (edges)  \n",
        "4. Crossover  \n",
        "5. Adding/Deleting nodes  \n",
        "\n",
        "The best fitness score from each generation is stored and plotted.  \n"
      ],
      "metadata": {
        "id": "UUpcNy_mVZbC"
      }
    },
    {
      "cell_type": "code",
      "source": [
        "# Training environment\n",
        "env = gym.make(\"CartPole-v1\")\n",
        "fitnessProgess = []\n",
        "\n",
        "for g in range(300):  # 300 generations\n",
        "    pop.gymnasium(\n",
        "        env,\n",
        "        dMax=10,\n",
        "        penalty=2,\n",
        "        maxSteps=500,\n",
        "        maxConsecutiveP=10,\n",
        "        worstFitness=0\n",
        "    )\n",
        "    # Selection\n",
        "    pop.tournamentSelection(\n",
        "        N=2, # tournament size\n",
        "        E=1 # number of safed elite\n",
        "        )\n",
        "    # Mutations\n",
        "    pop.callEdgeMutation(\n",
        "        probInnerNodes=0.03, # probability of changing an edge of jn or pn\n",
        "        probStartNode = 0.03 # probability of changing an edge of the start node\n",
        "        )\n",
        "    # Crossover (recombination)\n",
        "    pop.crossover(probability=0.05)\n",
        "    # Add/Delete nodes\n",
        "    pop.callAddDelNodes(minFeatures, maxFeatures)\n",
        "\n",
        "    maxFitness = pop.bestFit\n",
        "    print(f\"Generation: {g} | Maximal Fitness: {maxFitness}\")\n",
        "    fitnessProgess.append(maxFitness)\n",
        "\n",
        "# Plot fitness progression\n",
        "plt.plot(fitnessProgess)\n",
        "plt.title(\"Fitness Progress\")\n",
        "plt.xlabel(\"Generation\")\n",
        "plt.ylabel(\"Fitness\")"
      ],
      "metadata": {
        "id": "4T4FuLCuYgeq",
        "colab": {
          "base_uri": "https://localhost:8080/",
          "height": 1000
        },
        "outputId": "2a3b9c37-de11-407d-9907-402d85af5d76"
      },
      "execution_count": 17,
      "outputs": [
        {
          "output_type": "stream",
          "name": "stdout",
          "text": [
            "Generation: 0 | Maximal Fitness: 92.0\n",
            "Generation: 1 | Maximal Fitness: 200.0\n",
            "Generation: 2 | Maximal Fitness: 141.0\n",
            "Generation: 3 | Maximal Fitness: 99.0\n",
            "Generation: 4 | Maximal Fitness: 156.0\n",
            "Generation: 5 | Maximal Fitness: 225.0\n",
            "Generation: 6 | Maximal Fitness: 252.0\n",
            "Generation: 7 | Maximal Fitness: 330.0\n",
            "Generation: 8 | Maximal Fitness: 294.0\n",
            "Generation: 9 | Maximal Fitness: 306.0\n",
            "Generation: 10 | Maximal Fitness: 312.0\n",
            "Generation: 11 | Maximal Fitness: 326.0\n",
            "Generation: 12 | Maximal Fitness: 304.0\n",
            "Generation: 13 | Maximal Fitness: 301.0\n",
            "Generation: 14 | Maximal Fitness: 301.0\n",
            "Generation: 15 | Maximal Fitness: 315.0\n",
            "Generation: 16 | Maximal Fitness: 295.0\n",
            "Generation: 17 | Maximal Fitness: 290.0\n",
            "Generation: 18 | Maximal Fitness: 343.0\n",
            "Generation: 19 | Maximal Fitness: 307.0\n",
            "Generation: 20 | Maximal Fitness: 314.0\n",
            "Generation: 21 | Maximal Fitness: 290.0\n",
            "Generation: 22 | Maximal Fitness: 298.0\n",
            "Generation: 23 | Maximal Fitness: 277.0\n",
            "Generation: 24 | Maximal Fitness: 302.0\n",
            "Generation: 25 | Maximal Fitness: 302.0\n",
            "Generation: 26 | Maximal Fitness: 286.0\n",
            "Generation: 27 | Maximal Fitness: 293.0\n",
            "Generation: 28 | Maximal Fitness: 310.0\n",
            "Generation: 29 | Maximal Fitness: 316.0\n",
            "Generation: 30 | Maximal Fitness: 316.0\n",
            "Generation: 31 | Maximal Fitness: 292.0\n",
            "Generation: 32 | Maximal Fitness: 319.0\n",
            "Generation: 33 | Maximal Fitness: 312.0\n",
            "Generation: 34 | Maximal Fitness: 293.0\n",
            "Generation: 35 | Maximal Fitness: 310.0\n",
            "Generation: 36 | Maximal Fitness: 327.0\n",
            "Generation: 37 | Maximal Fitness: 349.0\n",
            "Generation: 38 | Maximal Fitness: 356.0\n",
            "Generation: 39 | Maximal Fitness: 332.0\n",
            "Generation: 40 | Maximal Fitness: 297.0\n",
            "Generation: 41 | Maximal Fitness: 289.0\n",
            "Generation: 42 | Maximal Fitness: 311.0\n",
            "Generation: 43 | Maximal Fitness: 306.0\n",
            "Generation: 44 | Maximal Fitness: 297.0\n",
            "Generation: 45 | Maximal Fitness: 389.0\n",
            "Generation: 46 | Maximal Fitness: 352.0\n",
            "Generation: 47 | Maximal Fitness: 303.0\n",
            "Generation: 48 | Maximal Fitness: 309.0\n",
            "Generation: 49 | Maximal Fitness: 304.0\n",
            "Generation: 50 | Maximal Fitness: 325.0\n",
            "Generation: 51 | Maximal Fitness: 293.0\n",
            "Generation: 52 | Maximal Fitness: 319.0\n",
            "Generation: 53 | Maximal Fitness: 336.0\n",
            "Generation: 54 | Maximal Fitness: 312.0\n",
            "Generation: 55 | Maximal Fitness: 420.0\n",
            "Generation: 56 | Maximal Fitness: 290.0\n",
            "Generation: 57 | Maximal Fitness: 374.0\n",
            "Generation: 58 | Maximal Fitness: 377.0\n",
            "Generation: 59 | Maximal Fitness: 387.0\n",
            "Generation: 60 | Maximal Fitness: 331.0\n",
            "Generation: 61 | Maximal Fitness: 369.0\n",
            "Generation: 62 | Maximal Fitness: 382.0\n",
            "Generation: 63 | Maximal Fitness: 346.0\n",
            "Generation: 64 | Maximal Fitness: 375.0\n",
            "Generation: 65 | Maximal Fitness: 382.0\n",
            "Generation: 66 | Maximal Fitness: 418.0\n",
            "Generation: 67 | Maximal Fitness: 378.0\n",
            "Generation: 68 | Maximal Fitness: 393.0\n",
            "Generation: 69 | Maximal Fitness: 421.0\n",
            "Generation: 70 | Maximal Fitness: 413.0\n",
            "Generation: 71 | Maximal Fitness: 383.0\n",
            "Generation: 72 | Maximal Fitness: 415.0\n",
            "Generation: 73 | Maximal Fitness: 370.0\n",
            "Generation: 74 | Maximal Fitness: 426.0\n",
            "Generation: 75 | Maximal Fitness: 457.0\n",
            "Generation: 76 | Maximal Fitness: 423.0\n",
            "Generation: 77 | Maximal Fitness: 439.0\n",
            "Generation: 78 | Maximal Fitness: 416.0\n",
            "Generation: 79 | Maximal Fitness: 482.0\n",
            "Generation: 80 | Maximal Fitness: 424.0\n",
            "Generation: 81 | Maximal Fitness: 393.0\n",
            "Generation: 82 | Maximal Fitness: 431.0\n",
            "Generation: 83 | Maximal Fitness: 386.0\n",
            "Generation: 84 | Maximal Fitness: 372.0\n",
            "Generation: 85 | Maximal Fitness: 388.0\n",
            "Generation: 86 | Maximal Fitness: 371.0\n",
            "Generation: 87 | Maximal Fitness: 426.0\n",
            "Generation: 88 | Maximal Fitness: 472.0\n",
            "Generation: 89 | Maximal Fitness: 389.0\n",
            "Generation: 90 | Maximal Fitness: 410.0\n",
            "Generation: 91 | Maximal Fitness: 421.0\n",
            "Generation: 92 | Maximal Fitness: 360.0\n",
            "Generation: 93 | Maximal Fitness: 383.0\n",
            "Generation: 94 | Maximal Fitness: 374.0\n",
            "Generation: 95 | Maximal Fitness: 400.0\n",
            "Generation: 96 | Maximal Fitness: 388.0\n",
            "Generation: 97 | Maximal Fitness: 427.0\n",
            "Generation: 98 | Maximal Fitness: 407.0\n",
            "Generation: 99 | Maximal Fitness: 407.0\n",
            "Generation: 100 | Maximal Fitness: 433.0\n",
            "Generation: 101 | Maximal Fitness: 397.0\n",
            "Generation: 102 | Maximal Fitness: 414.0\n",
            "Generation: 103 | Maximal Fitness: 387.0\n",
            "Generation: 104 | Maximal Fitness: 445.0\n",
            "Generation: 105 | Maximal Fitness: 389.0\n",
            "Generation: 106 | Maximal Fitness: 403.0\n",
            "Generation: 107 | Maximal Fitness: 398.0\n",
            "Generation: 108 | Maximal Fitness: 420.0\n",
            "Generation: 109 | Maximal Fitness: 394.0\n",
            "Generation: 110 | Maximal Fitness: 376.0\n",
            "Generation: 111 | Maximal Fitness: 379.0\n",
            "Generation: 112 | Maximal Fitness: 433.0\n",
            "Generation: 113 | Maximal Fitness: 395.0\n",
            "Generation: 114 | Maximal Fitness: 389.0\n",
            "Generation: 115 | Maximal Fitness: 367.0\n",
            "Generation: 116 | Maximal Fitness: 398.0\n",
            "Generation: 117 | Maximal Fitness: 407.0\n",
            "Generation: 118 | Maximal Fitness: 393.0\n",
            "Generation: 119 | Maximal Fitness: 401.0\n",
            "Generation: 120 | Maximal Fitness: 351.0\n",
            "Generation: 121 | Maximal Fitness: 403.0\n",
            "Generation: 122 | Maximal Fitness: 439.0\n",
            "Generation: 123 | Maximal Fitness: 420.0\n",
            "Generation: 124 | Maximal Fitness: 493.0\n",
            "Generation: 125 | Maximal Fitness: 424.0\n",
            "Generation: 126 | Maximal Fitness: 412.0\n",
            "Generation: 127 | Maximal Fitness: 392.0\n",
            "Generation: 128 | Maximal Fitness: 391.0\n",
            "Generation: 129 | Maximal Fitness: 431.0\n",
            "Generation: 130 | Maximal Fitness: 375.0\n",
            "Generation: 131 | Maximal Fitness: 343.0\n",
            "Generation: 132 | Maximal Fitness: 423.0\n",
            "Generation: 133 | Maximal Fitness: 404.0\n",
            "Generation: 134 | Maximal Fitness: 359.0\n",
            "Generation: 135 | Maximal Fitness: 414.0\n",
            "Generation: 136 | Maximal Fitness: 376.0\n",
            "Generation: 137 | Maximal Fitness: 401.0\n",
            "Generation: 138 | Maximal Fitness: 361.0\n",
            "Generation: 139 | Maximal Fitness: 336.0\n",
            "Generation: 140 | Maximal Fitness: 367.0\n",
            "Generation: 141 | Maximal Fitness: 378.0\n",
            "Generation: 142 | Maximal Fitness: 345.0\n",
            "Generation: 143 | Maximal Fitness: 366.0\n",
            "Generation: 144 | Maximal Fitness: 368.0\n",
            "Generation: 145 | Maximal Fitness: 336.0\n",
            "Generation: 146 | Maximal Fitness: 331.0\n",
            "Generation: 147 | Maximal Fitness: 352.0\n",
            "Generation: 148 | Maximal Fitness: 325.0\n",
            "Generation: 149 | Maximal Fitness: 372.0\n",
            "Generation: 150 | Maximal Fitness: 352.0\n",
            "Generation: 151 | Maximal Fitness: 324.0\n",
            "Generation: 152 | Maximal Fitness: 332.0\n",
            "Generation: 153 | Maximal Fitness: 323.0\n",
            "Generation: 154 | Maximal Fitness: 322.0\n",
            "Generation: 155 | Maximal Fitness: 425.0\n",
            "Generation: 156 | Maximal Fitness: 317.0\n",
            "Generation: 157 | Maximal Fitness: 349.0\n",
            "Generation: 158 | Maximal Fitness: 326.0\n",
            "Generation: 159 | Maximal Fitness: 354.0\n",
            "Generation: 160 | Maximal Fitness: 329.0\n",
            "Generation: 161 | Maximal Fitness: 321.0\n",
            "Generation: 162 | Maximal Fitness: 326.0\n",
            "Generation: 163 | Maximal Fitness: 349.0\n",
            "Generation: 164 | Maximal Fitness: 380.0\n",
            "Generation: 165 | Maximal Fitness: 330.0\n",
            "Generation: 166 | Maximal Fitness: 500.0\n",
            "Generation: 167 | Maximal Fitness: 500.0\n",
            "Generation: 168 | Maximal Fitness: 500.0\n",
            "Generation: 169 | Maximal Fitness: 500.0\n",
            "Generation: 170 | Maximal Fitness: 500.0\n",
            "Generation: 171 | Maximal Fitness: 500.0\n",
            "Generation: 172 | Maximal Fitness: 500.0\n",
            "Generation: 173 | Maximal Fitness: 500.0\n",
            "Generation: 174 | Maximal Fitness: 500.0\n",
            "Generation: 175 | Maximal Fitness: 500.0\n",
            "Generation: 176 | Maximal Fitness: 500.0\n",
            "Generation: 177 | Maximal Fitness: 500.0\n",
            "Generation: 178 | Maximal Fitness: 500.0\n",
            "Generation: 179 | Maximal Fitness: 500.0\n",
            "Generation: 180 | Maximal Fitness: 500.0\n",
            "Generation: 181 | Maximal Fitness: 500.0\n",
            "Generation: 182 | Maximal Fitness: 500.0\n",
            "Generation: 183 | Maximal Fitness: 500.0\n",
            "Generation: 184 | Maximal Fitness: 500.0\n",
            "Generation: 185 | Maximal Fitness: 500.0\n",
            "Generation: 186 | Maximal Fitness: 500.0\n",
            "Generation: 187 | Maximal Fitness: 500.0\n",
            "Generation: 188 | Maximal Fitness: 500.0\n",
            "Generation: 189 | Maximal Fitness: 500.0\n",
            "Generation: 190 | Maximal Fitness: 500.0\n",
            "Generation: 191 | Maximal Fitness: 500.0\n",
            "Generation: 192 | Maximal Fitness: 500.0\n",
            "Generation: 193 | Maximal Fitness: 500.0\n",
            "Generation: 194 | Maximal Fitness: 500.0\n",
            "Generation: 195 | Maximal Fitness: 500.0\n",
            "Generation: 196 | Maximal Fitness: 500.0\n",
            "Generation: 197 | Maximal Fitness: 500.0\n",
            "Generation: 198 | Maximal Fitness: 500.0\n",
            "Generation: 199 | Maximal Fitness: 500.0\n",
            "Generation: 200 | Maximal Fitness: 500.0\n",
            "Generation: 201 | Maximal Fitness: 500.0\n",
            "Generation: 202 | Maximal Fitness: 500.0\n",
            "Generation: 203 | Maximal Fitness: 500.0\n",
            "Generation: 204 | Maximal Fitness: 500.0\n",
            "Generation: 205 | Maximal Fitness: 500.0\n",
            "Generation: 206 | Maximal Fitness: 500.0\n",
            "Generation: 207 | Maximal Fitness: 500.0\n",
            "Generation: 208 | Maximal Fitness: 500.0\n",
            "Generation: 209 | Maximal Fitness: 500.0\n",
            "Generation: 210 | Maximal Fitness: 500.0\n",
            "Generation: 211 | Maximal Fitness: 500.0\n",
            "Generation: 212 | Maximal Fitness: 500.0\n",
            "Generation: 213 | Maximal Fitness: 500.0\n",
            "Generation: 214 | Maximal Fitness: 500.0\n",
            "Generation: 215 | Maximal Fitness: 500.0\n",
            "Generation: 216 | Maximal Fitness: 500.0\n",
            "Generation: 217 | Maximal Fitness: 500.0\n",
            "Generation: 218 | Maximal Fitness: 500.0\n",
            "Generation: 219 | Maximal Fitness: 500.0\n",
            "Generation: 220 | Maximal Fitness: 500.0\n",
            "Generation: 221 | Maximal Fitness: 500.0\n",
            "Generation: 222 | Maximal Fitness: 500.0\n",
            "Generation: 223 | Maximal Fitness: 500.0\n",
            "Generation: 224 | Maximal Fitness: 500.0\n",
            "Generation: 225 | Maximal Fitness: 500.0\n",
            "Generation: 226 | Maximal Fitness: 500.0\n",
            "Generation: 227 | Maximal Fitness: 500.0\n",
            "Generation: 228 | Maximal Fitness: 500.0\n",
            "Generation: 229 | Maximal Fitness: 500.0\n",
            "Generation: 230 | Maximal Fitness: 500.0\n",
            "Generation: 231 | Maximal Fitness: 500.0\n",
            "Generation: 232 | Maximal Fitness: 500.0\n",
            "Generation: 233 | Maximal Fitness: 500.0\n",
            "Generation: 234 | Maximal Fitness: 500.0\n",
            "Generation: 235 | Maximal Fitness: 500.0\n",
            "Generation: 236 | Maximal Fitness: 500.0\n",
            "Generation: 237 | Maximal Fitness: 500.0\n",
            "Generation: 238 | Maximal Fitness: 500.0\n",
            "Generation: 239 | Maximal Fitness: 500.0\n",
            "Generation: 240 | Maximal Fitness: 500.0\n",
            "Generation: 241 | Maximal Fitness: 500.0\n",
            "Generation: 242 | Maximal Fitness: 500.0\n",
            "Generation: 243 | Maximal Fitness: 500.0\n",
            "Generation: 244 | Maximal Fitness: 500.0\n",
            "Generation: 245 | Maximal Fitness: 500.0\n",
            "Generation: 246 | Maximal Fitness: 500.0\n",
            "Generation: 247 | Maximal Fitness: 500.0\n",
            "Generation: 248 | Maximal Fitness: 500.0\n",
            "Generation: 249 | Maximal Fitness: 500.0\n",
            "Generation: 250 | Maximal Fitness: 500.0\n",
            "Generation: 251 | Maximal Fitness: 500.0\n",
            "Generation: 252 | Maximal Fitness: 500.0\n",
            "Generation: 253 | Maximal Fitness: 500.0\n",
            "Generation: 254 | Maximal Fitness: 500.0\n",
            "Generation: 255 | Maximal Fitness: 500.0\n",
            "Generation: 256 | Maximal Fitness: 500.0\n",
            "Generation: 257 | Maximal Fitness: 500.0\n",
            "Generation: 258 | Maximal Fitness: 500.0\n",
            "Generation: 259 | Maximal Fitness: 500.0\n",
            "Generation: 260 | Maximal Fitness: 500.0\n",
            "Generation: 261 | Maximal Fitness: 500.0\n",
            "Generation: 262 | Maximal Fitness: 500.0\n",
            "Generation: 263 | Maximal Fitness: 500.0\n",
            "Generation: 264 | Maximal Fitness: 500.0\n",
            "Generation: 265 | Maximal Fitness: 500.0\n",
            "Generation: 266 | Maximal Fitness: 500.0\n",
            "Generation: 267 | Maximal Fitness: 500.0\n",
            "Generation: 268 | Maximal Fitness: 500.0\n",
            "Generation: 269 | Maximal Fitness: 500.0\n",
            "Generation: 270 | Maximal Fitness: 500.0\n",
            "Generation: 271 | Maximal Fitness: 500.0\n",
            "Generation: 272 | Maximal Fitness: 500.0\n",
            "Generation: 273 | Maximal Fitness: 500.0\n",
            "Generation: 274 | Maximal Fitness: 500.0\n",
            "Generation: 275 | Maximal Fitness: 500.0\n",
            "Generation: 276 | Maximal Fitness: 500.0\n",
            "Generation: 277 | Maximal Fitness: 500.0\n",
            "Generation: 278 | Maximal Fitness: 500.0\n",
            "Generation: 279 | Maximal Fitness: 500.0\n",
            "Generation: 280 | Maximal Fitness: 500.0\n",
            "Generation: 281 | Maximal Fitness: 500.0\n",
            "Generation: 282 | Maximal Fitness: 500.0\n",
            "Generation: 283 | Maximal Fitness: 500.0\n",
            "Generation: 284 | Maximal Fitness: 500.0\n",
            "Generation: 285 | Maximal Fitness: 500.0\n",
            "Generation: 286 | Maximal Fitness: 500.0\n",
            "Generation: 287 | Maximal Fitness: 500.0\n",
            "Generation: 288 | Maximal Fitness: 500.0\n",
            "Generation: 289 | Maximal Fitness: 500.0\n",
            "Generation: 290 | Maximal Fitness: 500.0\n",
            "Generation: 291 | Maximal Fitness: 500.0\n",
            "Generation: 292 | Maximal Fitness: 500.0\n",
            "Generation: 293 | Maximal Fitness: 500.0\n",
            "Generation: 294 | Maximal Fitness: 500.0\n",
            "Generation: 295 | Maximal Fitness: 500.0\n",
            "Generation: 296 | Maximal Fitness: 500.0\n",
            "Generation: 297 | Maximal Fitness: 500.0\n",
            "Generation: 298 | Maximal Fitness: 500.0\n",
            "Generation: 299 | Maximal Fitness: 500.0\n"
          ]
        },
        {
          "output_type": "execute_result",
          "data": {
            "text/plain": [
              "Text(0, 0.5, 'Fitness')"
            ]
          },
          "metadata": {},
          "execution_count": 17
        },
        {
          "output_type": "display_data",
          "data": {
            "text/plain": [
              "<Figure size 640x480 with 1 Axes>"
            ],
            "image/png": "[encoded data removed]"
          },
          "metadata": {}
        }
      ]
    },
    {
      "cell_type": "markdown",
      "source": [
        "## Inspecting the Best Individual\n",
        "\n",
        "Now we inspect the best individual:  \n",
        "- Start node and its edges  \n",
        "- Inner node types, functions, edges, and boundaries  \n",
        "\n",
        "Because the Genetic Network Programming is **not** a Blackbox-Model\n"
      ],
      "metadata": {
        "id": "o0oTgoFOeEx5"
      }
    },
    {
      "cell_type": "code",
      "source": [
        "pop.individuals[-1].fitness\n",
        "print(f\"Start Node: {pop.individuals[-1].startNode.edges}\")\n",
        "for node in pop.individuals[-1].innerNodes:\n",
        "  print(f\"Type: {node.type} | Function: {node.f} Edges: {node.edges} | Boundaries: {node.boundaries}\")"
      ],
      "metadata": {
        "colab": {
          "base_uri": "https://localhost:8080/"
        },
        "id": "XT5L-ty8pXYE",
        "outputId": "2246b8cb-9cb3-4db4-d9bb-1b433e67431d"
      },
      "execution_count": 18,
      "outputs": [
        {
          "output_type": "stream",
          "name": "stdout",
          "text": [
            "Start Node: [1]\n",
            "Type: J | Function: 3 Edges: [2, 6] | Boundaries: [-10.0, 0.0, 10.0]\n",
            "Type: P | Function: 1 Edges: [4] | Boundaries: []\n",
            "Type: P | Function: 0 Edges: [5] | Boundaries: []\n",
            "Type: P | Function: 1 Edges: [0] | Boundaries: []\n",
            "Type: J | Function: 2 Edges: [2, 3] | Boundaries: [-0.4180000126361847, 0.0, 0.4180000126361847]\n",
            "Type: J | Function: 2 Edges: [8, 7, 6, 0] | Boundaries: [-0.4180000126361847, -0.20900000631809235, 0.0, 0.20900000631809235, 0.4180000126361847]\n",
            "Type: P | Function: 1 Edges: [4] | Boundaries: []\n",
            "Type: P | Function: 0 Edges: [0] | Boundaries: []\n",
            "Type: J | Function: 2 Edges: [6, 6] | Boundaries: [-0.4180000126361847, 0.0, 0.4180000126361847]\n"
          ]
        }
      ]
    },
    {
      "cell_type": "markdown",
      "source": [
        "## Validation of the Best Individual\n",
        "\n",
        "The best individual is validated in a fresh environment.  \n",
        "We compute the average fitness across multiple runs.  \n"
      ],
      "metadata": {
        "id": "Z4--eOeWeuYH"
      }
    },
    {
      "cell_type": "code",
      "source": [
        "env = gym.make(\"CartPole-v1\")\n",
        "validationResults = []\n",
        "for v in range(10):\n",
        "    pop.gymnasium(\n",
        "          env,\n",
        "          dMax=10,\n",
        "          penalty=2,\n",
        "          maxSteps=500,\n",
        "          maxConsecutiveP=10,\n",
        "          worstFitness=0)\n",
        "    validationResults.append(pop.bestFit)\n",
        "print(f\"Average Fitnes of Validations: {statistics.mean(validationResults)}\")"
      ],
      "metadata": {
        "colab": {
          "base_uri": "https://localhost:8080/"
        },
        "id": "GZz_jKLHGy3m",
        "outputId": "cb27a34f-02a0-46ee-92bf-ddceb882a556"
      },
      "execution_count": 19,
      "outputs": [
        {
          "output_type": "stream",
          "name": "stdout",
          "text": [
            "Average Fitnes in Validation: 500.0\n"
          ]
        }
      ]
    },
    {
      "cell_type": "markdown",
      "source": [
        "## Rendering and Recording the Best Run\n",
        "\n",
        "Finally, we run the environment in `rgb_array` mode and use `RecordVideo`  \n",
        "to save a video of the best individual playing CartPole. You can find the video in the nodebook folder \"videos\".\n"
      ],
      "metadata": {
        "id": "mvy_giy5fXC-"
      }
    },
    {
      "cell_type": "code",
      "source": [
        "env = gym.make(\"CartPole-v1\", render_mode=\"rgb_array\")\n",
        "env = RecordVideo(env, video_folder=\"videos\", name_prefix=\"cartpole\")\n",
        "\n",
        "# Keep only the best individual\n",
        "pop.individuals = [pop.individuals[-1]]\n",
        "\n",
        "# Record a run\n",
        "pop.gymnasium(\n",
        "    env,\n",
        "    dMax=10,\n",
        "    penalty=1,\n",
        "    maxSteps=500,\n",
        "    maxConsecutiveP=5,\n",
        "    worstFitness=0\n",
        ")\n",
        "env.close()"
      ],
      "metadata": {
        "id": "sbKhQQrqfbwy"
      },
      "execution_count": 20,
      "outputs": []
    }
  ]
}