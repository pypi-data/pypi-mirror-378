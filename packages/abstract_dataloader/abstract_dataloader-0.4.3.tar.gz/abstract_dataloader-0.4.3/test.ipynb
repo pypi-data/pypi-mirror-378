{
 "cells": [
  {
   "cell_type": "code",
   "execution_count": 1,
   "id": "ac289c49",
   "metadata": {},
   "outputs": [],
   "source": [
    "from typing import Sequence\n",
    "from abstract_dataloader import spec\n",
    "from typing import Generic\n",
    "\n",
    "\n",
    "class _Sequential(spec.Pipeline):\n",
    "    def __init__(\n",
    "        self, steps: Sequence[spec.Pipeline | spec.Transform]\n",
    "    ) -> None:\n",
    "\n",
    "        self._sample = []\n",
    "        self._batch = []\n",
    "        _collated = False\n",
    "\n",
    "        for step in steps:\n",
    "            if not _collated:\n",
    "                if isinstance(step, spec.Pipeline):\n",
    "                    self._sample.append(step.sample)\n",
    "                    self.collate = step.collate\n",
    "                    self._batch.append(step.batch)\n",
    "                    _collated = True\n",
    "                else:\n",
    "                    self._batch.append(step)\n",
    "            else:\n",
    "                if isinstance(step, spec.Pipeline):\n",
    "                    raise TypeError(\n",
    "                        \"Cannot collate multiple times in a sequential \"\n",
    "                        f\"pipeline: {[type(s).__name__ for s in steps]}.\")\n",
    "                self._batch.append(step)\n",
    "\n",
    "    def sample(self, data):\n",
    "        for step in self._sample:\n",
    "            data = step(data)\n",
    "        return data\n",
    "\n",
    "    def batch(self, data):\n",
    "        for step in self._batch:\n",
    "            data = step(data)\n",
    "        return data\n"
   ]
  },
  {
   "cell_type": "code",
   "execution_count": 2,
   "id": "05568a79",
   "metadata": {},
   "outputs": [],
   "source": [
    "from collections.abc import Mapping, Sequence\n",
    "from typing import cast\n",
    "\n",
    "from abstract_dataloader import abstract, generic, spec\n",
    "\n",
    "NestedSpec = (\n",
    "    spec.Pipeline | spec.Transform\n",
    "    | Sequence['NestedSpec'] | Mapping[str, 'NestedSpec'])\n",
    "\n",
    "\n",
    "def _compose(transforms: NestedSpec) -> spec.Pipeline | spec.Transform:\n",
    "\n",
    "    if isinstance(transforms, Sequence):\n",
    "        transforms = [_compose(t) for t in transforms]\n",
    "        if any(isinstance(t, spec.Pipeline) for t in transforms):\n",
    "            return _Sequential(transforms)\n",
    "        else:\n",
    "            transforms = cast(Sequence[spec.Transform], transforms)\n",
    "            return abstract.Transform(transforms)\n",
    "    elif isinstance(transforms, Mapping):\n",
    "        transforms = {k: _compose(v) for k, v in transforms.items()}\n",
    "\n",
    "        if all(isinstance(v, spec.Pipeline) for v in transforms.values()):\n",
    "            transforms = cast(Mapping[str, spec.Pipeline], transforms)\n",
    "            return generic.ParallelPipelines(**transforms)\n",
    "        elif all(isinstance(v, spec.Transform) for v in transforms.values()):\n",
    "            transforms = cast(Mapping[str, spec.Transform], transforms)\n",
    "            return generic.ParallelTransforms(**transforms)\n",
    "        else:\n",
    "            type_desc = {k: type(v).__name__ for k, v in transforms.items()}\n",
    "            raise TypeError(\n",
    "                \"Parallel transforms have mixed types: \"\n",
    "                f\"{type_desc}.\")\n",
    "    else:\n",
    "        return transforms\n"
   ]
  },
  {
   "cell_type": "code",
   "execution_count": 3,
   "id": "7c4dc7b6",
   "metadata": {},
   "outputs": [],
   "source": [
    "class TestTransform:\n",
    "    def __init__(self, name: str):\n",
    "        self.name = name\n",
    "\n",
    "    def __call__(self, data):\n",
    "            return data\n",
    "\n",
    "    def __repr__(self) -> str:\n",
    "        return self.name\n",
    "\n",
    "\n",
    "class TestPipeline:\n",
    "    def __init__(self, name: str):\n",
    "        self.name = name\n",
    "\n",
    "    def sample(self, data):\n",
    "        return data\n",
    "\n",
    "    def batch(self, data):\n",
    "        return data\n",
    "\n",
    "    def collate(self, data):\n",
    "        return data\n",
    "\n",
    "    def __repr__(self) -> str:\n",
    "        return self.name\n",
    "\n"
   ]
  },
  {
   "cell_type": "code",
   "execution_count": 22,
   "id": "4e7c748a",
   "metadata": {},
   "outputs": [
    {
     "data": {
      "text/plain": [
       "{'a': [1, 1], 'b': [2, 2]}"
      ]
     },
     "execution_count": 22,
     "metadata": {},
     "output_type": "execute_result"
    }
   ],
   "source": [
    "_compose({\"a\": [TestTransform(\"t1\"), TestPipeline(\"p1\")], \"b\": TestPipeline(\"p2\")}).collate([{\"a\": 1, \"b\": 2}, {\"a\": 1, \"b\": 2}])"
   ]
  }
 ],
 "metadata": {
  "kernelspec": {
   "display_name": ".venv",
   "language": "python",
   "name": "python3"
  },
  "language_info": {
   "codemirror_mode": {
    "name": "ipython",
    "version": 3
   },
   "file_extension": ".py",
   "mimetype": "text/x-python",
   "name": "python",
   "nbconvert_exporter": "python",
   "pygments_lexer": "ipython3",
   "version": "3.10.17"
  }
 },
 "nbformat": 4,
 "nbformat_minor": 5
}
