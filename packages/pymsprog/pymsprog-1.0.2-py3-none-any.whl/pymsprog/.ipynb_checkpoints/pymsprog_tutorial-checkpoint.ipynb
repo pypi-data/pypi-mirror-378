{
 "cells": [
  {
   "cell_type": "markdown",
   "id": "79f84242",
   "metadata": {},
   "source": [
    "This tutorial illustrates how to use the `msprog` package to study the progression of disability in multiple sclerosis (MS) based on repeated assessments of an outcome measure (EDSS, NHPT, T25FW, or SDMT) through time, and on the dates of acute episodes (if present)."
   ]
  },
  {
   "cell_type": "code",
   "execution_count": null,
   "id": "e3622c75",
   "metadata": {},
   "outputs": [],
   "source": [
    "from pymsprog import compute_delta, MSprog"
   ]
  },
  {
   "cell_type": "markdown",
   "id": "b6502382",
   "metadata": {},
   "source": [
    "## Input data\n",
    "\n",
    "The data must be organised in a `pandas` `DataFrame` containing (at least) the following columns:\n",
    "\n",
    "* Subject IDs;\n",
    "* Visit dates;\n",
    "* Outcome values.\n",
    "\n",
    "The visits should be listed in chronological order (if they are not, `MSprog` will sort them).\n",
    "\n",
    "For relapsing-remitting MS patients, an additional `DataFrame` with the dates of relapses is needed to correctly assess progression and characterise progression events as relapse-associated or relapse-independent. The dataset should contain (at least) the following columns:\n",
    "\n",
    "* Subject IDs;\n",
    "* Visit dates."
   ]
  },
  {
   "cell_type": "markdown",
   "id": "bbde9683",
   "metadata": {},
   "source": [
    "In this tutorial, we will use toy data with artificially generated EDSS and SDMT assessments and relapse dates for four patients:"
   ]
  },
  {
   "cell_type": "code",
   "execution_count": null,
   "id": "f10d5f6e",
   "metadata": {},
   "outputs": [],
   "source": [
    "toydata_visits = pd.read_excel('MSprog_toydata.xlsx', sheet_name='visits')\n",
    "print(toydata_visits.head())\n",
    "\n",
    "toydata_relapses = pd.read_excel('MSprog_toydata.xlsx', sheet_name='relapses')\n",
    "print(toydata_relapses.head())"
   ]
  }
 ],
 "metadata": {
  "kernelspec": {
   "display_name": "Python 3",
   "language": "python",
   "name": "python3"
  },
  "language_info": {
   "codemirror_mode": {
    "name": "ipython",
    "version": 3
   },
   "file_extension": ".py",
   "mimetype": "text/x-python",
   "name": "python",
   "nbconvert_exporter": "python",
   "pygments_lexer": "ipython3",
   "version": "3.7.3"
  }
 },
 "nbformat": 4,
 "nbformat_minor": 5
}
