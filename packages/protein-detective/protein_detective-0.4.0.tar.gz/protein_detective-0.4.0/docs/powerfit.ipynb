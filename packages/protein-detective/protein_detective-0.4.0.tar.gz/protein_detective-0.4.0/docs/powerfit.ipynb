{
 "cells": [
  {
   "cell_type": "markdown",
   "id": "27970dca",
   "metadata": {},
   "source": [
    "# Powerfit\n",
    "\n",
    "You can run powerfit by letting protein detetective print the commands, see [worklfow notebook](worklfow.ipynb#run-powerfit).\n",
    "\n",
    "In this notebook we will run powerfit using API."
   ]
  },
  {
   "cell_type": "code",
   "execution_count": 1,
   "id": "ef1603b5",
   "metadata": {},
   "outputs": [],
   "source": [
    "from pathlib import Path\n",
    "\n",
    "from rich import print as pprint\n",
    "\n",
    "from protein_detective.powerfit.options import PowerfitOptions"
   ]
  },
  {
   "cell_type": "code",
   "execution_count": 2,
   "id": "61c97921",
   "metadata": {},
   "outputs": [
    {
     "data": {
      "text/plain": [
       "PosixPath('session1')"
      ]
     },
     "execution_count": 2,
     "metadata": {},
     "output_type": "execute_result"
    }
   ],
   "source": [
    "session_dir = Path(\"session1\")\n",
    "session_dir"
   ]
  },
  {
   "cell_type": "markdown",
   "id": "bcf7a24e",
   "metadata": {},
   "source": [
    "To run you must have cloned the https://github.com/haddocking/powerfit-tutorial repository in '../../powerfit-tutorial'."
   ]
  },
  {
   "cell_type": "code",
   "execution_count": 3,
   "id": "bf0ad61e",
   "metadata": {},
   "outputs": [
    {
     "data": {
      "text/html": [
       "<pre style=\"white-space:pre;overflow-x:auto;line-height:normal;font-family:Menlo,'DejaVu Sans Mono',consolas,'Courier New',monospace\"><span style=\"color: #800080; text-decoration-color: #800080; font-weight: bold\">PowerfitOptions</span><span style=\"font-weight: bold\">(</span>\n",
       "    <span style=\"color: #808000; text-decoration-color: #808000\">target</span>=<span style=\"color: #800080; text-decoration-color: #800080; font-weight: bold\">PosixPath</span><span style=\"font-weight: bold\">(</span><span style=\"color: #008000; text-decoration-color: #008000\">'../../powerfit-tutorial/ribosome-KsgA.map'</span><span style=\"font-weight: bold\">)</span>,\n",
       "    <span style=\"color: #808000; text-decoration-color: #808000\">resolution</span>=<span style=\"color: #008080; text-decoration-color: #008080; font-weight: bold\">13</span>,\n",
       "    <span style=\"color: #808000; text-decoration-color: #808000\">angle</span>=<span style=\"color: #008080; text-decoration-color: #008080; font-weight: bold\">20</span>,\n",
       "    <span style=\"color: #808000; text-decoration-color: #808000\">laplace</span>=<span style=\"color: #00ff00; text-decoration-color: #00ff00; font-style: italic\">True</span>,\n",
       "    <span style=\"color: #808000; text-decoration-color: #808000\">core_weighted</span>=<span style=\"color: #ff0000; text-decoration-color: #ff0000; font-style: italic\">False</span>,\n",
       "    <span style=\"color: #808000; text-decoration-color: #808000\">no_resampling</span>=<span style=\"color: #ff0000; text-decoration-color: #ff0000; font-style: italic\">False</span>,\n",
       "    <span style=\"color: #808000; text-decoration-color: #808000\">resampling_rate</span>=<span style=\"color: #008080; text-decoration-color: #008080; font-weight: bold\">2</span>,\n",
       "    <span style=\"color: #808000; text-decoration-color: #808000\">no_trimming</span>=<span style=\"color: #ff0000; text-decoration-color: #ff0000; font-style: italic\">False</span>,\n",
       "    <span style=\"color: #808000; text-decoration-color: #808000\">trimming_cutoff</span>=<span style=\"color: #800080; text-decoration-color: #800080; font-style: italic\">None</span>,\n",
       "    <span style=\"color: #808000; text-decoration-color: #808000\">gpu</span>=<span style=\"color: #ff0000; text-decoration-color: #ff0000; font-style: italic\">False</span>,\n",
       "    <span style=\"color: #808000; text-decoration-color: #808000\">nproc</span>=<span style=\"color: #008080; text-decoration-color: #008080; font-weight: bold\">1</span>\n",
       "<span style=\"font-weight: bold\">)</span>\n",
       "</pre>\n"
      ],
      "text/plain": [
       "\u001b[1;35mPowerfitOptions\u001b[0m\u001b[1m(\u001b[0m\n",
       "    \u001b[33mtarget\u001b[0m=\u001b[1;35mPosixPath\u001b[0m\u001b[1m(\u001b[0m\u001b[32m'../../powerfit-tutorial/ribosome-KsgA.map'\u001b[0m\u001b[1m)\u001b[0m,\n",
       "    \u001b[33mresolution\u001b[0m=\u001b[1;36m13\u001b[0m,\n",
       "    \u001b[33mangle\u001b[0m=\u001b[1;36m20\u001b[0m,\n",
       "    \u001b[33mlaplace\u001b[0m=\u001b[3;92mTrue\u001b[0m,\n",
       "    \u001b[33mcore_weighted\u001b[0m=\u001b[3;91mFalse\u001b[0m,\n",
       "    \u001b[33mno_resampling\u001b[0m=\u001b[3;91mFalse\u001b[0m,\n",
       "    \u001b[33mresampling_rate\u001b[0m=\u001b[1;36m2\u001b[0m,\n",
       "    \u001b[33mno_trimming\u001b[0m=\u001b[3;91mFalse\u001b[0m,\n",
       "    \u001b[33mtrimming_cutoff\u001b[0m=\u001b[3;35mNone\u001b[0m,\n",
       "    \u001b[33mgpu\u001b[0m=\u001b[3;91mFalse\u001b[0m,\n",
       "    \u001b[33mnproc\u001b[0m=\u001b[1;36m1\u001b[0m\n",
       "\u001b[1m)\u001b[0m\n"
      ]
     },
     "metadata": {},
     "output_type": "display_data"
    }
   ],
   "source": [
    "options = PowerfitOptions(\n",
    "    target=Path(\"../../powerfit-tutorial/ribosome-KsgA.map\"),\n",
    "    resolution=13,\n",
    "    angle=20,\n",
    "    laplace=True,\n",
    ")\n",
    "pprint(options)"
   ]
  },
  {
   "cell_type": "code",
   "execution_count": 4,
   "id": "cf7ce386",
   "metadata": {},
   "outputs": [],
   "source": [
    "from protein_detective.powerfit.workflow import powerfit_runs"
   ]
  },
  {
   "cell_type": "code",
   "execution_count": 5,
   "id": "4d70f940",
   "metadata": {},
   "outputs": [
    {
     "data": {
      "application/vnd.jupyter.widget-view+json": {
       "model_id": "9c9b97aa2ea44c0ba30c8c30d6fc69fa",
       "version_major": 2,
       "version_minor": 0
      },
      "text/plain": [
       "Running PowerFit:   0%|          | 0/121 [00:00<?, ?structure/s]"
      ]
     },
     "metadata": {},
     "output_type": "display_data"
    },
    {
     "data": {
      "application/vnd.jupyter.widget-view+json": {
       "model_id": "392b49824f5b4349a0e797be79e9c9c2",
       "version_major": 2,
       "version_minor": 0
      },
      "text/plain": [
       "Processing rotations:   0%|          | 0/648 [00:00<?, ?rot/s]"
      ]
     },
     "metadata": {},
     "output_type": "display_data"
    },
    {
     "data": {
      "application/vnd.jupyter.widget-view+json": {
       "model_id": "095e2303e81a496bb77dfbd92b6c6c0a",
       "version_major": 2,
       "version_minor": 0
      },
      "text/plain": [
       "Processing rotations:   0%|          | 0/648 [00:00<?, ?rot/s]"
      ]
     },
     "metadata": {},
     "output_type": "display_data"
    },
    {
     "data": {
      "application/vnd.jupyter.widget-view+json": {
       "model_id": "8d182f979a124e6fa6b1be3291ff2a2d",
       "version_major": 2,
       "version_minor": 0
      },
      "text/plain": [
       "Processing rotations:   0%|          | 0/648 [00:00<?, ?rot/s]"
      ]
     },
     "metadata": {},
     "output_type": "display_data"
    },
    {
     "data": {
      "application/vnd.jupyter.widget-view+json": {
       "model_id": "2bfe861d05cd4349a5836f8a78d16ae1",
       "version_major": 2,
       "version_minor": 0
      },
      "text/plain": [
       "Processing rotations:   0%|          | 0/648 [00:00<?, ?rot/s]"
      ]
     },
     "metadata": {},
     "output_type": "display_data"
    },
    {
     "data": {
      "application/vnd.jupyter.widget-view+json": {
       "model_id": "93b0f9bebfad4c48a984c29c4745a4e3",
       "version_major": 2,
       "version_minor": 0
      },
      "text/plain": [
       "Processing rotations:   0%|          | 0/648 [00:00<?, ?rot/s]"
      ]
     },
     "metadata": {},
     "output_type": "display_data"
    },
    {
     "data": {
      "application/vnd.jupyter.widget-view+json": {
       "model_id": "859de1f33194499283244ad967e19fb3",
       "version_major": 2,
       "version_minor": 0
      },
      "text/plain": [
       "Processing rotations:   0%|          | 0/648 [00:00<?, ?rot/s]"
      ]
     },
     "metadata": {},
     "output_type": "display_data"
    },
    {
     "data": {
      "application/vnd.jupyter.widget-view+json": {
       "model_id": "8866976197c3412b91f9fcb46f7dfbfa",
       "version_major": 2,
       "version_minor": 0
      },
      "text/plain": [
       "Processing rotations:   0%|          | 0/648 [00:00<?, ?rot/s]"
      ]
     },
     "metadata": {},
     "output_type": "display_data"
    },
    {
     "data": {
      "application/vnd.jupyter.widget-view+json": {
       "model_id": "5fa85a15e5754edb84fe77fcf6f41c31",
       "version_major": 2,
       "version_minor": 0
      },
      "text/plain": [
       "Processing rotations:   0%|          | 0/648 [00:00<?, ?rot/s]"
      ]
     },
     "metadata": {},
     "output_type": "display_data"
    },
    {
     "data": {
      "application/vnd.jupyter.widget-view+json": {
       "model_id": "9404cff05faa4e94b2016578f812f8ce",
       "version_major": 2,
       "version_minor": 0
      },
      "text/plain": [
       "Processing rotations:   0%|          | 0/648 [00:00<?, ?rot/s]"
      ]
     },
     "metadata": {},
     "output_type": "display_data"
    },
    {
     "data": {
      "application/vnd.jupyter.widget-view+json": {
       "model_id": "b262ef35e22f4864bff39715c0c0d809",
       "version_major": 2,
       "version_minor": 0
      },
      "text/plain": [
       "Processing rotations:   0%|          | 0/648 [00:00<?, ?rot/s]"
      ]
     },
     "metadata": {},
     "output_type": "display_data"
    },
    {
     "data": {
      "application/vnd.jupyter.widget-view+json": {
       "model_id": "02dc9548dadd4b0ba8d72b7ee81703fa",
       "version_major": 2,
       "version_minor": 0
      },
      "text/plain": [
       "Processing rotations:   0%|          | 0/648 [00:00<?, ?rot/s]"
      ]
     },
     "metadata": {},
     "output_type": "display_data"
    },
    {
     "data": {
      "application/vnd.jupyter.widget-view+json": {
       "model_id": "46532290078546b68922158de19c2c73",
       "version_major": 2,
       "version_minor": 0
      },
      "text/plain": [
       "Processing rotations:   0%|          | 0/648 [00:00<?, ?rot/s]"
      ]
     },
     "metadata": {},
     "output_type": "display_data"
    },
    {
     "data": {
      "application/vnd.jupyter.widget-view+json": {
       "model_id": "728aa5996dca4a7f8bfd2d324e0944c5",
       "version_major": 2,
       "version_minor": 0
      },
      "text/plain": [
       "Processing rotations:   0%|          | 0/648 [00:00<?, ?rot/s]"
      ]
     },
     "metadata": {},
     "output_type": "display_data"
    },
    {
     "data": {
      "application/vnd.jupyter.widget-view+json": {
       "model_id": "4a0cdaeae15e4dfda66a3cf58911ef5c",
       "version_major": 2,
       "version_minor": 0
      },
      "text/plain": [
       "Processing rotations:   0%|          | 0/648 [00:00<?, ?rot/s]"
      ]
     },
     "metadata": {},
     "output_type": "display_data"
    },
    {
     "data": {
      "application/vnd.jupyter.widget-view+json": {
       "model_id": "4b2717b06aea45a3942a50ab1aa6e985",
       "version_major": 2,
       "version_minor": 0
      },
      "text/plain": [
       "Processing rotations:   0%|          | 0/648 [00:00<?, ?rot/s]"
      ]
     },
     "metadata": {},
     "output_type": "display_data"
    },
    {
     "data": {
      "application/vnd.jupyter.widget-view+json": {
       "model_id": "a44743ab41984decafb06714718587a2",
       "version_major": 2,
       "version_minor": 0
      },
      "text/plain": [
       "Processing rotations:   0%|          | 0/648 [00:00<?, ?rot/s]"
      ]
     },
     "metadata": {},
     "output_type": "display_data"
    },
    {
     "data": {
      "application/vnd.jupyter.widget-view+json": {
       "model_id": "a071e3698521460a955dc430bbd3772a",
       "version_major": 2,
       "version_minor": 0
      },
      "text/plain": [
       "Processing rotations:   0%|          | 0/648 [00:00<?, ?rot/s]"
      ]
     },
     "metadata": {},
     "output_type": "display_data"
    },
    {
     "data": {
      "application/vnd.jupyter.widget-view+json": {
       "model_id": "843109aa4c3640b9986d982e3c490473",
       "version_major": 2,
       "version_minor": 0
      },
      "text/plain": [
       "Processing rotations:   0%|          | 0/648 [00:00<?, ?rot/s]"
      ]
     },
     "metadata": {},
     "output_type": "display_data"
    },
    {
     "data": {
      "application/vnd.jupyter.widget-view+json": {
       "model_id": "cbf39866948f45e597fd918d57acac7c",
       "version_major": 2,
       "version_minor": 0
      },
      "text/plain": [
       "Processing rotations:   0%|          | 0/648 [00:00<?, ?rot/s]"
      ]
     },
     "metadata": {},
     "output_type": "display_data"
    },
    {
     "data": {
      "application/vnd.jupyter.widget-view+json": {
       "model_id": "2794e0e076c644f6b61e32b8f4a3908f",
       "version_major": 2,
       "version_minor": 0
      },
      "text/plain": [
       "Processing rotations:   0%|          | 0/648 [00:00<?, ?rot/s]"
      ]
     },
     "metadata": {},
     "output_type": "display_data"
    },
    {
     "data": {
      "application/vnd.jupyter.widget-view+json": {
       "model_id": "4abe47cf4f2e485986c304e7a3ab18d7",
       "version_major": 2,
       "version_minor": 0
      },
      "text/plain": [
       "Processing rotations:   0%|          | 0/648 [00:00<?, ?rot/s]"
      ]
     },
     "metadata": {},
     "output_type": "display_data"
    },
    {
     "data": {
      "application/vnd.jupyter.widget-view+json": {
       "model_id": "3a89eb7d836747a1a80dadfdd22e5424",
       "version_major": 2,
       "version_minor": 0
      },
      "text/plain": [
       "Processing rotations:   0%|          | 0/648 [00:00<?, ?rot/s]"
      ]
     },
     "metadata": {},
     "output_type": "display_data"
    },
    {
     "data": {
      "application/vnd.jupyter.widget-view+json": {
       "model_id": "e52e902a5db8426f82b32f9a9cc75c7c",
       "version_major": 2,
       "version_minor": 0
      },
      "text/plain": [
       "Processing rotations:   0%|          | 0/648 [00:00<?, ?rot/s]"
      ]
     },
     "metadata": {},
     "output_type": "display_data"
    },
    {
     "data": {
      "application/vnd.jupyter.widget-view+json": {
       "model_id": "e41494f5dd25443185a123c816e1e677",
       "version_major": 2,
       "version_minor": 0
      },
      "text/plain": [
       "Processing rotations:   0%|          | 0/648 [00:00<?, ?rot/s]"
      ]
     },
     "metadata": {},
     "output_type": "display_data"
    },
    {
     "data": {
      "application/vnd.jupyter.widget-view+json": {
       "model_id": "644cf4c911fe416d982b2f47b1d1499d",
       "version_major": 2,
       "version_minor": 0
      },
      "text/plain": [
       "Processing rotations:   0%|          | 0/648 [00:00<?, ?rot/s]"
      ]
     },
     "metadata": {},
     "output_type": "display_data"
    },
    {
     "data": {
      "application/vnd.jupyter.widget-view+json": {
       "model_id": "a3eb3dd6f7b643b290cc1b5f4ee41daf",
       "version_major": 2,
       "version_minor": 0
      },
      "text/plain": [
       "Processing rotations:   0%|          | 0/648 [00:00<?, ?rot/s]"
      ]
     },
     "metadata": {},
     "output_type": "display_data"
    },
    {
     "data": {
      "application/vnd.jupyter.widget-view+json": {
       "model_id": "2c6d898d9f1b4c498b79fa6743d7492f",
       "version_major": 2,
       "version_minor": 0
      },
      "text/plain": [
       "Processing rotations:   0%|          | 0/648 [00:00<?, ?rot/s]"
      ]
     },
     "metadata": {},
     "output_type": "display_data"
    },
    {
     "data": {
      "application/vnd.jupyter.widget-view+json": {
       "model_id": "3290b9afeb0f4baeae5d27e837783727",
       "version_major": 2,
       "version_minor": 0
      },
      "text/plain": [
       "Processing rotations:   0%|          | 0/648 [00:00<?, ?rot/s]"
      ]
     },
     "metadata": {},
     "output_type": "display_data"
    },
    {
     "data": {
      "application/vnd.jupyter.widget-view+json": {
       "model_id": "f9ef2d3c051a41a5baad90f6fc762113",
       "version_major": 2,
       "version_minor": 0
      },
      "text/plain": [
       "Processing rotations:   0%|          | 0/648 [00:00<?, ?rot/s]"
      ]
     },
     "metadata": {},
     "output_type": "display_data"
    },
    {
     "data": {
      "application/vnd.jupyter.widget-view+json": {
       "model_id": "e53cb75779254290b7c5187124ea6e83",
       "version_major": 2,
       "version_minor": 0
      },
      "text/plain": [
       "Processing rotations:   0%|          | 0/648 [00:00<?, ?rot/s]"
      ]
     },
     "metadata": {},
     "output_type": "display_data"
    },
    {
     "data": {
      "application/vnd.jupyter.widget-view+json": {
       "model_id": "29cce53bdeb9423287aa515704b17c57",
       "version_major": 2,
       "version_minor": 0
      },
      "text/plain": [
       "Processing rotations:   0%|          | 0/648 [00:00<?, ?rot/s]"
      ]
     },
     "metadata": {},
     "output_type": "display_data"
    },
    {
     "data": {
      "application/vnd.jupyter.widget-view+json": {
       "model_id": "818d7e217e2c4edf97aaff7a04cff9ab",
       "version_major": 2,
       "version_minor": 0
      },
      "text/plain": [
       "Processing rotations:   0%|          | 0/648 [00:00<?, ?rot/s]"
      ]
     },
     "metadata": {},
     "output_type": "display_data"
    },
    {
     "data": {
      "application/vnd.jupyter.widget-view+json": {
       "model_id": "3bc9dee62d954273abe4399448721869",
       "version_major": 2,
       "version_minor": 0
      },
      "text/plain": [
       "Processing rotations:   0%|          | 0/648 [00:00<?, ?rot/s]"
      ]
     },
     "metadata": {},
     "output_type": "display_data"
    },
    {
     "data": {
      "application/vnd.jupyter.widget-view+json": {
       "model_id": "6665b3f3df194db0a22b919a0c09b5f4",
       "version_major": 2,
       "version_minor": 0
      },
      "text/plain": [
       "Processing rotations:   0%|          | 0/648 [00:00<?, ?rot/s]"
      ]
     },
     "metadata": {},
     "output_type": "display_data"
    },
    {
     "data": {
      "application/vnd.jupyter.widget-view+json": {
       "model_id": "5840bd2325c8462ca7ec413c147d082b",
       "version_major": 2,
       "version_minor": 0
      },
      "text/plain": [
       "Processing rotations:   0%|          | 0/648 [00:00<?, ?rot/s]"
      ]
     },
     "metadata": {},
     "output_type": "display_data"
    },
    {
     "data": {
      "application/vnd.jupyter.widget-view+json": {
       "model_id": "b401423b47b24447a3a30b71846875f3",
       "version_major": 2,
       "version_minor": 0
      },
      "text/plain": [
       "Processing rotations:   0%|          | 0/648 [00:00<?, ?rot/s]"
      ]
     },
     "metadata": {},
     "output_type": "display_data"
    },
    {
     "data": {
      "application/vnd.jupyter.widget-view+json": {
       "model_id": "28a0eb2ccd5d43699d06ecbacd0888d7",
       "version_major": 2,
       "version_minor": 0
      },
      "text/plain": [
       "Processing rotations:   0%|          | 0/648 [00:00<?, ?rot/s]"
      ]
     },
     "metadata": {},
     "output_type": "display_data"
    },
    {
     "data": {
      "application/vnd.jupyter.widget-view+json": {
       "model_id": "ca578a51ef904e1b8dee05a5642bcf6f",
       "version_major": 2,
       "version_minor": 0
      },
      "text/plain": [
       "Processing rotations:   0%|          | 0/648 [00:00<?, ?rot/s]"
      ]
     },
     "metadata": {},
     "output_type": "display_data"
    },
    {
     "data": {
      "application/vnd.jupyter.widget-view+json": {
       "model_id": "17906989e39944d48121e3fee596b14e",
       "version_major": 2,
       "version_minor": 0
      },
      "text/plain": [
       "Processing rotations:   0%|          | 0/648 [00:00<?, ?rot/s]"
      ]
     },
     "metadata": {},
     "output_type": "display_data"
    },
    {
     "data": {
      "application/vnd.jupyter.widget-view+json": {
       "model_id": "ad37f7e0af6a4bfc85b2cf00382dfcef",
       "version_major": 2,
       "version_minor": 0
      },
      "text/plain": [
       "Processing rotations:   0%|          | 0/648 [00:00<?, ?rot/s]"
      ]
     },
     "metadata": {},
     "output_type": "display_data"
    },
    {
     "data": {
      "application/vnd.jupyter.widget-view+json": {
       "model_id": "3858b89ef72443b48aaedc2ac5f0b4ed",
       "version_major": 2,
       "version_minor": 0
      },
      "text/plain": [
       "Processing rotations:   0%|          | 0/648 [00:00<?, ?rot/s]"
      ]
     },
     "metadata": {},
     "output_type": "display_data"
    },
    {
     "data": {
      "application/vnd.jupyter.widget-view+json": {
       "model_id": "9506a85a65fa40dfa886d4d687002c3a",
       "version_major": 2,
       "version_minor": 0
      },
      "text/plain": [
       "Processing rotations:   0%|          | 0/648 [00:00<?, ?rot/s]"
      ]
     },
     "metadata": {},
     "output_type": "display_data"
    },
    {
     "data": {
      "application/vnd.jupyter.widget-view+json": {
       "model_id": "4eb677d78af842dba5f2196abb02115a",
       "version_major": 2,
       "version_minor": 0
      },
      "text/plain": [
       "Processing rotations:   0%|          | 0/648 [00:00<?, ?rot/s]"
      ]
     },
     "metadata": {},
     "output_type": "display_data"
    },
    {
     "data": {
      "application/vnd.jupyter.widget-view+json": {
       "model_id": "eb7e7b96d3cc4406802eca9f7985f0a5",
       "version_major": 2,
       "version_minor": 0
      },
      "text/plain": [
       "Processing rotations:   0%|          | 0/648 [00:00<?, ?rot/s]"
      ]
     },
     "metadata": {},
     "output_type": "display_data"
    },
    {
     "data": {
      "application/vnd.jupyter.widget-view+json": {
       "model_id": "02b06ae3e8ce43f2bbba74717f33574e",
       "version_major": 2,
       "version_minor": 0
      },
      "text/plain": [
       "Processing rotations:   0%|          | 0/648 [00:00<?, ?rot/s]"
      ]
     },
     "metadata": {},
     "output_type": "display_data"
    },
    {
     "data": {
      "application/vnd.jupyter.widget-view+json": {
       "model_id": "88bb85fec6a04d42a46a27aa3fba7c15",
       "version_major": 2,
       "version_minor": 0
      },
      "text/plain": [
       "Processing rotations:   0%|          | 0/648 [00:00<?, ?rot/s]"
      ]
     },
     "metadata": {},
     "output_type": "display_data"
    },
    {
     "data": {
      "application/vnd.jupyter.widget-view+json": {
       "model_id": "516195b26808492299c2a554b88b0ab9",
       "version_major": 2,
       "version_minor": 0
      },
      "text/plain": [
       "Processing rotations:   0%|          | 0/648 [00:00<?, ?rot/s]"
      ]
     },
     "metadata": {},
     "output_type": "display_data"
    },
    {
     "data": {
      "application/vnd.jupyter.widget-view+json": {
       "model_id": "59ce00af0a854a76b9c474d57aa20753",
       "version_major": 2,
       "version_minor": 0
      },
      "text/plain": [
       "Processing rotations:   0%|          | 0/648 [00:00<?, ?rot/s]"
      ]
     },
     "metadata": {},
     "output_type": "display_data"
    },
    {
     "data": {
      "application/vnd.jupyter.widget-view+json": {
       "model_id": "e161eece0ee7470ca8b7cbbd842430af",
       "version_major": 2,
       "version_minor": 0
      },
      "text/plain": [
       "Processing rotations:   0%|          | 0/648 [00:00<?, ?rot/s]"
      ]
     },
     "metadata": {},
     "output_type": "display_data"
    },
    {
     "data": {
      "application/vnd.jupyter.widget-view+json": {
       "model_id": "7fcc30b58de24b6b945873a5f305718f",
       "version_major": 2,
       "version_minor": 0
      },
      "text/plain": [
       "Processing rotations:   0%|          | 0/648 [00:00<?, ?rot/s]"
      ]
     },
     "metadata": {},
     "output_type": "display_data"
    },
    {
     "data": {
      "application/vnd.jupyter.widget-view+json": {
       "model_id": "bdb568f8f0ee4901acbc75903689b645",
       "version_major": 2,
       "version_minor": 0
      },
      "text/plain": [
       "Processing rotations:   0%|          | 0/648 [00:00<?, ?rot/s]"
      ]
     },
     "metadata": {},
     "output_type": "display_data"
    },
    {
     "data": {
      "application/vnd.jupyter.widget-view+json": {
       "model_id": "911a2be80cb1460086c2b647539cbeac",
       "version_major": 2,
       "version_minor": 0
      },
      "text/plain": [
       "Processing rotations:   0%|          | 0/648 [00:00<?, ?rot/s]"
      ]
     },
     "metadata": {},
     "output_type": "display_data"
    },
    {
     "data": {
      "application/vnd.jupyter.widget-view+json": {
       "model_id": "9eec0ca1e9f04607b8d6c27f5dea013a",
       "version_major": 2,
       "version_minor": 0
      },
      "text/plain": [
       "Processing rotations:   0%|          | 0/648 [00:00<?, ?rot/s]"
      ]
     },
     "metadata": {},
     "output_type": "display_data"
    },
    {
     "data": {
      "application/vnd.jupyter.widget-view+json": {
       "model_id": "ce8d6c3b4996421eb36c7ef00669442c",
       "version_major": 2,
       "version_minor": 0
      },
      "text/plain": [
       "Processing rotations:   0%|          | 0/648 [00:00<?, ?rot/s]"
      ]
     },
     "metadata": {},
     "output_type": "display_data"
    },
    {
     "data": {
      "application/vnd.jupyter.widget-view+json": {
       "model_id": "8fffd0e8e2ae41459c535a2de0956b3f",
       "version_major": 2,
       "version_minor": 0
      },
      "text/plain": [
       "Processing rotations:   0%|          | 0/648 [00:00<?, ?rot/s]"
      ]
     },
     "metadata": {},
     "output_type": "display_data"
    },
    {
     "data": {
      "application/vnd.jupyter.widget-view+json": {
       "model_id": "81372b9b96ce478f895515fb5e1547e5",
       "version_major": 2,
       "version_minor": 0
      },
      "text/plain": [
       "Processing rotations:   0%|          | 0/648 [00:00<?, ?rot/s]"
      ]
     },
     "metadata": {},
     "output_type": "display_data"
    },
    {
     "data": {
      "application/vnd.jupyter.widget-view+json": {
       "model_id": "acc289f2cca849d2afe62fa05cd8311d",
       "version_major": 2,
       "version_minor": 0
      },
      "text/plain": [
       "Processing rotations:   0%|          | 0/648 [00:00<?, ?rot/s]"
      ]
     },
     "metadata": {},
     "output_type": "display_data"
    },
    {
     "data": {
      "application/vnd.jupyter.widget-view+json": {
       "model_id": "ee38d2cd117f4b969e872d13b61f440e",
       "version_major": 2,
       "version_minor": 0
      },
      "text/plain": [
       "Processing rotations:   0%|          | 0/648 [00:00<?, ?rot/s]"
      ]
     },
     "metadata": {},
     "output_type": "display_data"
    },
    {
     "data": {
      "application/vnd.jupyter.widget-view+json": {
       "model_id": "57ff686ac6584ee69f164d4c78b519c4",
       "version_major": 2,
       "version_minor": 0
      },
      "text/plain": [
       "Processing rotations:   0%|          | 0/648 [00:00<?, ?rot/s]"
      ]
     },
     "metadata": {},
     "output_type": "display_data"
    },
    {
     "data": {
      "application/vnd.jupyter.widget-view+json": {
       "model_id": "3fb31aa5ef324d7ab8e99fb60fc0fd27",
       "version_major": 2,
       "version_minor": 0
      },
      "text/plain": [
       "Processing rotations:   0%|          | 0/648 [00:00<?, ?rot/s]"
      ]
     },
     "metadata": {},
     "output_type": "display_data"
    },
    {
     "data": {
      "application/vnd.jupyter.widget-view+json": {
       "model_id": "21518d2e6d724822b2bacedecf1ca6dd",
       "version_major": 2,
       "version_minor": 0
      },
      "text/plain": [
       "Processing rotations:   0%|          | 0/648 [00:00<?, ?rot/s]"
      ]
     },
     "metadata": {},
     "output_type": "display_data"
    },
    {
     "data": {
      "application/vnd.jupyter.widget-view+json": {
       "model_id": "796a72587d574de8b13d080f1b2ee245",
       "version_major": 2,
       "version_minor": 0
      },
      "text/plain": [
       "Processing rotations:   0%|          | 0/648 [00:00<?, ?rot/s]"
      ]
     },
     "metadata": {},
     "output_type": "display_data"
    },
    {
     "data": {
      "application/vnd.jupyter.widget-view+json": {
       "model_id": "e811e66ad3bf4f3d82f2c399289f2899",
       "version_major": 2,
       "version_minor": 0
      },
      "text/plain": [
       "Processing rotations:   0%|          | 0/648 [00:00<?, ?rot/s]"
      ]
     },
     "metadata": {},
     "output_type": "display_data"
    },
    {
     "data": {
      "application/vnd.jupyter.widget-view+json": {
       "model_id": "bc868a80e58b43ab81a9839f2e23fb91",
       "version_major": 2,
       "version_minor": 0
      },
      "text/plain": [
       "Processing rotations:   0%|          | 0/648 [00:00<?, ?rot/s]"
      ]
     },
     "metadata": {},
     "output_type": "display_data"
    },
    {
     "data": {
      "application/vnd.jupyter.widget-view+json": {
       "model_id": "0115086735d8415fb3c756f381e1b47f",
       "version_major": 2,
       "version_minor": 0
      },
      "text/plain": [
       "Processing rotations:   0%|          | 0/648 [00:00<?, ?rot/s]"
      ]
     },
     "metadata": {},
     "output_type": "display_data"
    },
    {
     "data": {
      "application/vnd.jupyter.widget-view+json": {
       "model_id": "ce43d8a1c27841d2b266586ac675fea2",
       "version_major": 2,
       "version_minor": 0
      },
      "text/plain": [
       "Processing rotations:   0%|          | 0/648 [00:00<?, ?rot/s]"
      ]
     },
     "metadata": {},
     "output_type": "display_data"
    },
    {
     "data": {
      "application/vnd.jupyter.widget-view+json": {
       "model_id": "26285f295df848438348a0627a9d98d7",
       "version_major": 2,
       "version_minor": 0
      },
      "text/plain": [
       "Processing rotations:   0%|          | 0/648 [00:00<?, ?rot/s]"
      ]
     },
     "metadata": {},
     "output_type": "display_data"
    },
    {
     "data": {
      "application/vnd.jupyter.widget-view+json": {
       "model_id": "04b7543aab84410db0e51dfed2df477a",
       "version_major": 2,
       "version_minor": 0
      },
      "text/plain": [
       "Processing rotations:   0%|          | 0/648 [00:00<?, ?rot/s]"
      ]
     },
     "metadata": {},
     "output_type": "display_data"
    },
    {
     "data": {
      "application/vnd.jupyter.widget-view+json": {
       "model_id": "a9321ca4b0b845aa961513946fc70b78",
       "version_major": 2,
       "version_minor": 0
      },
      "text/plain": [
       "Processing rotations:   0%|          | 0/648 [00:00<?, ?rot/s]"
      ]
     },
     "metadata": {},
     "output_type": "display_data"
    },
    {
     "data": {
      "application/vnd.jupyter.widget-view+json": {
       "model_id": "59b2038edd874ce09bd3ee4b9e70cf79",
       "version_major": 2,
       "version_minor": 0
      },
      "text/plain": [
       "Processing rotations:   0%|          | 0/648 [00:00<?, ?rot/s]"
      ]
     },
     "metadata": {},
     "output_type": "display_data"
    },
    {
     "data": {
      "application/vnd.jupyter.widget-view+json": {
       "model_id": "f15d7083c0a44e7996efa78c0ff6e05b",
       "version_major": 2,
       "version_minor": 0
      },
      "text/plain": [
       "Processing rotations:   0%|          | 0/648 [00:00<?, ?rot/s]"
      ]
     },
     "metadata": {},
     "output_type": "display_data"
    },
    {
     "data": {
      "application/vnd.jupyter.widget-view+json": {
       "model_id": "edb4164b4bc34f2a82c4ac3938e54d80",
       "version_major": 2,
       "version_minor": 0
      },
      "text/plain": [
       "Processing rotations:   0%|          | 0/648 [00:00<?, ?rot/s]"
      ]
     },
     "metadata": {},
     "output_type": "display_data"
    },
    {
     "data": {
      "application/vnd.jupyter.widget-view+json": {
       "model_id": "e4664ae7bc8c4b9e89c501f52dde7913",
       "version_major": 2,
       "version_minor": 0
      },
      "text/plain": [
       "Processing rotations:   0%|          | 0/648 [00:00<?, ?rot/s]"
      ]
     },
     "metadata": {},
     "output_type": "display_data"
    },
    {
     "data": {
      "application/vnd.jupyter.widget-view+json": {
       "model_id": "5414292f872944e09c8c61cd06fcdbda",
       "version_major": 2,
       "version_minor": 0
      },
      "text/plain": [
       "Processing rotations:   0%|          | 0/648 [00:00<?, ?rot/s]"
      ]
     },
     "metadata": {},
     "output_type": "display_data"
    },
    {
     "data": {
      "application/vnd.jupyter.widget-view+json": {
       "model_id": "9060aae41926480ebae3eaf3449e1570",
       "version_major": 2,
       "version_minor": 0
      },
      "text/plain": [
       "Processing rotations:   0%|          | 0/648 [00:00<?, ?rot/s]"
      ]
     },
     "metadata": {},
     "output_type": "display_data"
    },
    {
     "data": {
      "application/vnd.jupyter.widget-view+json": {
       "model_id": "0ee9d688df0d44ffbbd968d156456429",
       "version_major": 2,
       "version_minor": 0
      },
      "text/plain": [
       "Processing rotations:   0%|          | 0/648 [00:00<?, ?rot/s]"
      ]
     },
     "metadata": {},
     "output_type": "display_data"
    },
    {
     "data": {
      "application/vnd.jupyter.widget-view+json": {
       "model_id": "16e0b1255d1b47678ec85c954d623d8d",
       "version_major": 2,
       "version_minor": 0
      },
      "text/plain": [
       "Processing rotations:   0%|          | 0/648 [00:00<?, ?rot/s]"
      ]
     },
     "metadata": {},
     "output_type": "display_data"
    },
    {
     "data": {
      "application/vnd.jupyter.widget-view+json": {
       "model_id": "44712edb26d944828df185cf10473838",
       "version_major": 2,
       "version_minor": 0
      },
      "text/plain": [
       "Processing rotations:   0%|          | 0/648 [00:00<?, ?rot/s]"
      ]
     },
     "metadata": {},
     "output_type": "display_data"
    },
    {
     "data": {
      "application/vnd.jupyter.widget-view+json": {
       "model_id": "b5906965ad1f492c8a245818901dfd2e",
       "version_major": 2,
       "version_minor": 0
      },
      "text/plain": [
       "Processing rotations:   0%|          | 0/648 [00:00<?, ?rot/s]"
      ]
     },
     "metadata": {},
     "output_type": "display_data"
    },
    {
     "data": {
      "application/vnd.jupyter.widget-view+json": {
       "model_id": "73aec8b41e6f4762b14c883d76584c91",
       "version_major": 2,
       "version_minor": 0
      },
      "text/plain": [
       "Processing rotations:   0%|          | 0/648 [00:00<?, ?rot/s]"
      ]
     },
     "metadata": {},
     "output_type": "display_data"
    },
    {
     "data": {
      "application/vnd.jupyter.widget-view+json": {
       "model_id": "688973e5a96e4d66aafc8164fd715f72",
       "version_major": 2,
       "version_minor": 0
      },
      "text/plain": [
       "Processing rotations:   0%|          | 0/648 [00:00<?, ?rot/s]"
      ]
     },
     "metadata": {},
     "output_type": "display_data"
    },
    {
     "data": {
      "application/vnd.jupyter.widget-view+json": {
       "model_id": "d3da11c95a79486d820f8e427bf9715f",
       "version_major": 2,
       "version_minor": 0
      },
      "text/plain": [
       "Processing rotations:   0%|          | 0/648 [00:00<?, ?rot/s]"
      ]
     },
     "metadata": {},
     "output_type": "display_data"
    },
    {
     "data": {
      "application/vnd.jupyter.widget-view+json": {
       "model_id": "5bec1fdceebe47d8926261d152acb633",
       "version_major": 2,
       "version_minor": 0
      },
      "text/plain": [
       "Processing rotations:   0%|          | 0/648 [00:00<?, ?rot/s]"
      ]
     },
     "metadata": {},
     "output_type": "display_data"
    },
    {
     "data": {
      "application/vnd.jupyter.widget-view+json": {
       "model_id": "c18fa1c30975477e8f220be4772efc8f",
       "version_major": 2,
       "version_minor": 0
      },
      "text/plain": [
       "Processing rotations:   0%|          | 0/648 [00:00<?, ?rot/s]"
      ]
     },
     "metadata": {},
     "output_type": "display_data"
    },
    {
     "data": {
      "application/vnd.jupyter.widget-view+json": {
       "model_id": "2d68584509f246b397f77c9621c58071",
       "version_major": 2,
       "version_minor": 0
      },
      "text/plain": [
       "Processing rotations:   0%|          | 0/648 [00:00<?, ?rot/s]"
      ]
     },
     "metadata": {},
     "output_type": "display_data"
    },
    {
     "data": {
      "application/vnd.jupyter.widget-view+json": {
       "model_id": "43f026161f854c8e82170e8194c5aa51",
       "version_major": 2,
       "version_minor": 0
      },
      "text/plain": [
       "Processing rotations:   0%|          | 0/648 [00:00<?, ?rot/s]"
      ]
     },
     "metadata": {},
     "output_type": "display_data"
    },
    {
     "data": {
      "application/vnd.jupyter.widget-view+json": {
       "model_id": "fe8ae39f228941609736e7a00cc4410f",
       "version_major": 2,
       "version_minor": 0
      },
      "text/plain": [
       "Processing rotations:   0%|          | 0/648 [00:00<?, ?rot/s]"
      ]
     },
     "metadata": {},
     "output_type": "display_data"
    },
    {
     "data": {
      "application/vnd.jupyter.widget-view+json": {
       "model_id": "eaaf2c92c15c4f08b426be5d3d3029b6",
       "version_major": 2,
       "version_minor": 0
      },
      "text/plain": [
       "Processing rotations:   0%|          | 0/648 [00:00<?, ?rot/s]"
      ]
     },
     "metadata": {},
     "output_type": "display_data"
    },
    {
     "data": {
      "application/vnd.jupyter.widget-view+json": {
       "model_id": "193fb1fcb7d9454dbde7b8e9459250e2",
       "version_major": 2,
       "version_minor": 0
      },
      "text/plain": [
       "Processing rotations:   0%|          | 0/648 [00:00<?, ?rot/s]"
      ]
     },
     "metadata": {},
     "output_type": "display_data"
    },
    {
     "data": {
      "application/vnd.jupyter.widget-view+json": {
       "model_id": "785196262134433d9966dbd8bca1d3c0",
       "version_major": 2,
       "version_minor": 0
      },
      "text/plain": [
       "Processing rotations:   0%|          | 0/648 [00:00<?, ?rot/s]"
      ]
     },
     "metadata": {},
     "output_type": "display_data"
    },
    {
     "data": {
      "application/vnd.jupyter.widget-view+json": {
       "model_id": "79b40eee77ed48c59d7a39edb3c34b32",
       "version_major": 2,
       "version_minor": 0
      },
      "text/plain": [
       "Processing rotations:   0%|          | 0/648 [00:00<?, ?rot/s]"
      ]
     },
     "metadata": {},
     "output_type": "display_data"
    },
    {
     "data": {
      "application/vnd.jupyter.widget-view+json": {
       "model_id": "558818811c1042f9995546a7c3056934",
       "version_major": 2,
       "version_minor": 0
      },
      "text/plain": [
       "Processing rotations:   0%|          | 0/648 [00:00<?, ?rot/s]"
      ]
     },
     "metadata": {},
     "output_type": "display_data"
    },
    {
     "data": {
      "application/vnd.jupyter.widget-view+json": {
       "model_id": "0cf3f5c26d314d8d9f7c1c640f98f238",
       "version_major": 2,
       "version_minor": 0
      },
      "text/plain": [
       "Processing rotations:   0%|          | 0/648 [00:00<?, ?rot/s]"
      ]
     },
     "metadata": {},
     "output_type": "display_data"
    },
    {
     "data": {
      "application/vnd.jupyter.widget-view+json": {
       "model_id": "bba482976a144deb937e0f3e14cf071b",
       "version_major": 2,
       "version_minor": 0
      },
      "text/plain": [
       "Processing rotations:   0%|          | 0/648 [00:00<?, ?rot/s]"
      ]
     },
     "metadata": {},
     "output_type": "display_data"
    },
    {
     "data": {
      "application/vnd.jupyter.widget-view+json": {
       "model_id": "c15ee0d3ecd741c0bc07eb3279d3c1c7",
       "version_major": 2,
       "version_minor": 0
      },
      "text/plain": [
       "Processing rotations:   0%|          | 0/648 [00:00<?, ?rot/s]"
      ]
     },
     "metadata": {},
     "output_type": "display_data"
    },
    {
     "data": {
      "application/vnd.jupyter.widget-view+json": {
       "model_id": "aa6b989e074d48cd91c8ae9f538c891d",
       "version_major": 2,
       "version_minor": 0
      },
      "text/plain": [
       "Processing rotations:   0%|          | 0/648 [00:00<?, ?rot/s]"
      ]
     },
     "metadata": {},
     "output_type": "display_data"
    },
    {
     "data": {
      "application/vnd.jupyter.widget-view+json": {
       "model_id": "7c71251251b846b9be0ab3e487a1d181",
       "version_major": 2,
       "version_minor": 0
      },
      "text/plain": [
       "Processing rotations:   0%|          | 0/648 [00:00<?, ?rot/s]"
      ]
     },
     "metadata": {},
     "output_type": "display_data"
    },
    {
     "data": {
      "application/vnd.jupyter.widget-view+json": {
       "model_id": "228c9ce1a373454cba7506edcd020fe2",
       "version_major": 2,
       "version_minor": 0
      },
      "text/plain": [
       "Processing rotations:   0%|          | 0/648 [00:00<?, ?rot/s]"
      ]
     },
     "metadata": {},
     "output_type": "display_data"
    },
    {
     "data": {
      "application/vnd.jupyter.widget-view+json": {
       "model_id": "90c3a571cbb2421dbc17089f3405b957",
       "version_major": 2,
       "version_minor": 0
      },
      "text/plain": [
       "Processing rotations:   0%|          | 0/648 [00:00<?, ?rot/s]"
      ]
     },
     "metadata": {},
     "output_type": "display_data"
    },
    {
     "data": {
      "application/vnd.jupyter.widget-view+json": {
       "model_id": "4bd74e71c82d4fe9a057d172bd6f4b79",
       "version_major": 2,
       "version_minor": 0
      },
      "text/plain": [
       "Processing rotations:   0%|          | 0/648 [00:00<?, ?rot/s]"
      ]
     },
     "metadata": {},
     "output_type": "display_data"
    },
    {
     "data": {
      "application/vnd.jupyter.widget-view+json": {
       "model_id": "311058568dbc4ac2919f31e09a176e68",
       "version_major": 2,
       "version_minor": 0
      },
      "text/plain": [
       "Processing rotations:   0%|          | 0/648 [00:00<?, ?rot/s]"
      ]
     },
     "metadata": {},
     "output_type": "display_data"
    },
    {
     "data": {
      "application/vnd.jupyter.widget-view+json": {
       "model_id": "be0177004ba540b5b02edd302b368641",
       "version_major": 2,
       "version_minor": 0
      },
      "text/plain": [
       "Processing rotations:   0%|          | 0/648 [00:00<?, ?rot/s]"
      ]
     },
     "metadata": {},
     "output_type": "display_data"
    },
    {
     "data": {
      "application/vnd.jupyter.widget-view+json": {
       "model_id": "c6f745606e2d4453b27d93c98ec2257b",
       "version_major": 2,
       "version_minor": 0
      },
      "text/plain": [
       "Processing rotations:   0%|          | 0/648 [00:00<?, ?rot/s]"
      ]
     },
     "metadata": {},
     "output_type": "display_data"
    },
    {
     "data": {
      "application/vnd.jupyter.widget-view+json": {
       "model_id": "a116a015265b4f3bab571f6079c45447",
       "version_major": 2,
       "version_minor": 0
      },
      "text/plain": [
       "Processing rotations:   0%|          | 0/648 [00:00<?, ?rot/s]"
      ]
     },
     "metadata": {},
     "output_type": "display_data"
    },
    {
     "data": {
      "application/vnd.jupyter.widget-view+json": {
       "model_id": "9c99326ebea34455bf7eca46ff3079ba",
       "version_major": 2,
       "version_minor": 0
      },
      "text/plain": [
       "Processing rotations:   0%|          | 0/648 [00:00<?, ?rot/s]"
      ]
     },
     "metadata": {},
     "output_type": "display_data"
    },
    {
     "data": {
      "application/vnd.jupyter.widget-view+json": {
       "model_id": "b9f9e283b9f64d1ea0c84c1c7c5634fd",
       "version_major": 2,
       "version_minor": 0
      },
      "text/plain": [
       "Processing rotations:   0%|          | 0/648 [00:00<?, ?rot/s]"
      ]
     },
     "metadata": {},
     "output_type": "display_data"
    },
    {
     "data": {
      "application/vnd.jupyter.widget-view+json": {
       "model_id": "0c7b79aa9e5d4783b022cac07d780fa5",
       "version_major": 2,
       "version_minor": 0
      },
      "text/plain": [
       "Processing rotations:   0%|          | 0/648 [00:00<?, ?rot/s]"
      ]
     },
     "metadata": {},
     "output_type": "display_data"
    },
    {
     "data": {
      "application/vnd.jupyter.widget-view+json": {
       "model_id": "a013301ee16f488cae102f2def87a75c",
       "version_major": 2,
       "version_minor": 0
      },
      "text/plain": [
       "Processing rotations:   0%|          | 0/648 [00:00<?, ?rot/s]"
      ]
     },
     "metadata": {},
     "output_type": "display_data"
    },
    {
     "data": {
      "application/vnd.jupyter.widget-view+json": {
       "model_id": "0574a7775b03484b8c8c3e1166f6fe38",
       "version_major": 2,
       "version_minor": 0
      },
      "text/plain": [
       "Processing rotations:   0%|          | 0/648 [00:00<?, ?rot/s]"
      ]
     },
     "metadata": {},
     "output_type": "display_data"
    },
    {
     "data": {
      "application/vnd.jupyter.widget-view+json": {
       "model_id": "f0b267c679e943168ed4f3fa5fffc889",
       "version_major": 2,
       "version_minor": 0
      },
      "text/plain": [
       "Processing rotations:   0%|          | 0/648 [00:00<?, ?rot/s]"
      ]
     },
     "metadata": {},
     "output_type": "display_data"
    },
    {
     "data": {
      "application/vnd.jupyter.widget-view+json": {
       "model_id": "cd092902b2724278a25bb79a3793e40a",
       "version_major": 2,
       "version_minor": 0
      },
      "text/plain": [
       "Processing rotations:   0%|          | 0/648 [00:00<?, ?rot/s]"
      ]
     },
     "metadata": {},
     "output_type": "display_data"
    },
    {
     "data": {
      "application/vnd.jupyter.widget-view+json": {
       "model_id": "10acb5c67f2141ef9f3b033cb1a85760",
       "version_major": 2,
       "version_minor": 0
      },
      "text/plain": [
       "Processing rotations:   0%|          | 0/648 [00:00<?, ?rot/s]"
      ]
     },
     "metadata": {},
     "output_type": "display_data"
    },
    {
     "data": {
      "application/vnd.jupyter.widget-view+json": {
       "model_id": "eab2b9b294734585b11cdb2ace935395",
       "version_major": 2,
       "version_minor": 0
      },
      "text/plain": [
       "Processing rotations:   0%|          | 0/648 [00:00<?, ?rot/s]"
      ]
     },
     "metadata": {},
     "output_type": "display_data"
    },
    {
     "data": {
      "application/vnd.jupyter.widget-view+json": {
       "model_id": "7268a18529c64ec0a2db36a8be5ac043",
       "version_major": 2,
       "version_minor": 0
      },
      "text/plain": [
       "Processing rotations:   0%|          | 0/648 [00:00<?, ?rot/s]"
      ]
     },
     "metadata": {},
     "output_type": "display_data"
    },
    {
     "data": {
      "application/vnd.jupyter.widget-view+json": {
       "model_id": "8746c959e9bc4e53af306f802ac317a3",
       "version_major": 2,
       "version_minor": 0
      },
      "text/plain": [
       "Processing rotations:   0%|          | 0/648 [00:00<?, ?rot/s]"
      ]
     },
     "metadata": {},
     "output_type": "display_data"
    },
    {
     "data": {
      "application/vnd.jupyter.widget-view+json": {
       "model_id": "1fe3f29dec974d03ab298d50a5b6db4e",
       "version_major": 2,
       "version_minor": 0
      },
      "text/plain": [
       "Processing rotations:   0%|          | 0/648 [00:00<?, ?rot/s]"
      ]
     },
     "metadata": {},
     "output_type": "display_data"
    },
    {
     "data": {
      "application/vnd.jupyter.widget-view+json": {
       "model_id": "d5a283b5493945a29d5e7e6c42fb287b",
       "version_major": 2,
       "version_minor": 0
      },
      "text/plain": [
       "Processing rotations:   0%|          | 0/648 [00:00<?, ?rot/s]"
      ]
     },
     "metadata": {},
     "output_type": "display_data"
    },
    {
     "data": {
      "application/vnd.jupyter.widget-view+json": {
       "model_id": "0039050a83ab4b87936afe10bdd4c3b0",
       "version_major": 2,
       "version_minor": 0
      },
      "text/plain": [
       "Processing rotations:   0%|          | 0/648 [00:00<?, ?rot/s]"
      ]
     },
     "metadata": {},
     "output_type": "display_data"
    },
    {
     "data": {
      "text/plain": [
       "1"
      ]
     },
     "execution_count": 5,
     "metadata": {},
     "output_type": "execute_result"
    }
   ],
   "source": [
    "powerfit_run_id = powerfit_runs(session_dir, options)\n",
    "powerfit_run_id"
   ]
  },
  {
   "cell_type": "code",
   "execution_count": null,
   "id": "ff01908a",
   "metadata": {},
   "outputs": [],
   "source": []
  }
 ],
 "metadata": {
  "kernelspec": {
   "display_name": "protein-detective",
   "language": "python",
   "name": "python3"
  },
  "language_info": {
   "codemirror_mode": {
    "name": "ipython",
    "version": 3
   },
   "file_extension": ".py",
   "mimetype": "text/x-python",
   "name": "python",
   "nbconvert_exporter": "python",
   "pygments_lexer": "ipython3",
   "version": "3.13.2"
  }
 },
 "nbformat": 4,
 "nbformat_minor": 5
}
