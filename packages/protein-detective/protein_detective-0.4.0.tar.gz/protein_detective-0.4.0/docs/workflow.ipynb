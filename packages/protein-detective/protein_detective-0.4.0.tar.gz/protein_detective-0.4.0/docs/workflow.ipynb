{
 "cells": [
  {
   "cell_type": "markdown",
   "id": "8664b8a5",
   "metadata": {},
   "source": [
    "# Run workflow using API"
   ]
  },
  {
   "cell_type": "code",
   "execution_count": 4,
   "id": "d7265a43",
   "metadata": {},
   "outputs": [],
   "source": [
    "from pathlib import Path\n",
    "\n",
    "from rich import print as pprint"
   ]
  },
  {
   "cell_type": "code",
   "execution_count": 5,
   "id": "b5a4649f",
   "metadata": {},
   "outputs": [],
   "source": [
    "import logging\n",
    "\n",
    "logging.basicConfig(level=logging.WARNING)\n",
    "# Set to WARNING to see only warnings\n",
    "# Set to INFO to see sparql queries\n",
    "# Set to DEBUG to see raw results"
   ]
  },
  {
   "cell_type": "code",
   "execution_count": 6,
   "id": "72222410",
   "metadata": {},
   "outputs": [
    {
     "name": "stdout",
     "output_type": "stream",
     "text": [
      "Updated [logging.distributed] to [warning], config saved to /home/stefanv/.config/dask/dask.yaml\n"
     ]
    }
   ],
   "source": [
    "# Silence dask logging\n",
    "!dask config set logging.distributed warning"
   ]
  },
  {
   "cell_type": "markdown",
   "id": "432800f1",
   "metadata": {},
   "source": [
    "## Setup session directory\n",
    "\n",
    "In this directory files like structure files are stored and a DuckDB database for meta data."
   ]
  },
  {
   "cell_type": "code",
   "execution_count": 7,
   "id": "c049dc09",
   "metadata": {},
   "outputs": [
    {
     "data": {
      "text/plain": [
       "PosixPath('session1')"
      ]
     },
     "execution_count": 7,
     "metadata": {},
     "output_type": "execute_result"
    }
   ],
   "source": [
    "session_dir = Path(\"session1\")\n",
    "session_dir"
   ]
  },
  {
   "cell_type": "markdown",
   "id": "9cebded1",
   "metadata": {},
   "source": [
    "## Search Uniprot for structures"
   ]
  },
  {
   "cell_type": "code",
   "execution_count": 4,
   "id": "2bd9767b",
   "metadata": {},
   "outputs": [],
   "source": [
    "from protein_quest.uniprot import Query\n",
    "\n",
    "from protein_detective.workflow import search_structures_in_uniprot"
   ]
  },
  {
   "cell_type": "code",
   "execution_count": 5,
   "id": "d38ca4bd",
   "metadata": {},
   "outputs": [],
   "source": [
    "query = Query(\n",
    "    taxon_id=\"9606\",\n",
    "    reviewed=True,\n",
    "    subcellular_location_uniprot=\"nucleus\",\n",
    "    subcellular_location_go=[\"GO:0005634\"],  # Cellular component - Nucleus\n",
    "    molecular_function_go=[\"GO:0003677\"],  # Molecular function - DNA binding\n",
    ")"
   ]
  },
  {
   "cell_type": "code",
   "execution_count": 6,
   "id": "5a834a4c",
   "metadata": {},
   "outputs": [
    {
     "name": "stderr",
     "output_type": "stream",
     "text": [
      "WARNING:protein_quest.uniprot:Search for uniprot accessions returned 100 results. There may be more results available, but they are not returned due to the limit of 100. Consider increasing the limit to get more results.\n",
      "WARNING:protein_quest.uniprot:Search for pdbs on uniprot returned 100 results. There may be more results available, but they are not returned due to the limit of 100. Consider increasing the limit to get more results.\n",
      "WARNING:protein_quest.uniprot:Search for alphafold entries on uniprot returned 100 results. There may be more results available, but they are not returned due to the limit of 100. Consider increasing the limit to get more results.\n"
     ]
    },
    {
     "data": {
      "text/plain": [
       "(100, 100, 100, 100)"
      ]
     },
     "execution_count": 6,
     "metadata": {},
     "output_type": "execute_result"
    }
   ],
   "source": [
    "nr_uniprot, nr_pdbe, nr_pdb_uniprot, nr_af = search_structures_in_uniprot(query, session_dir, limit=100)\n",
    "nr_uniprot, nr_pdbe, nr_pdb_uniprot, nr_af"
   ]
  },
  {
   "cell_type": "markdown",
   "id": "9898ed41",
   "metadata": {},
   "source": [
    "Use [database queries](#query-session-database) to see what was found."
   ]
  },
  {
   "cell_type": "markdown",
   "id": "befbfa91",
   "metadata": {},
   "source": [
    "## Fetch structures from PDBe and Alphafold found in Uniprot\n"
   ]
  },
  {
   "cell_type": "code",
   "execution_count": 7,
   "id": "83e0961c",
   "metadata": {},
   "outputs": [],
   "source": [
    "from protein_detective.workflow import async_retrieve_structures"
   ]
  },
  {
   "cell_type": "code",
   "execution_count": 8,
   "id": "397cc198",
   "metadata": {},
   "outputs": [
    {
     "name": "stderr",
     "output_type": "stream",
     "text": [
      "Downloading PDBe mmCIF files: 100%|██████████| 100/100 [00:01<00:00, 62.86it/s]\n",
      "Fetching Alphafold summaries: 100%|██████████| 100/100 [00:03<00:00, 30.30it/s]\n",
      "Downloading AlphaFold files: 100%|██████████| 100/100 [00:00<00:00, 284.82it/s]\n"
     ]
    },
    {
     "data": {
      "text/plain": [
       "(PosixPath('session1/downloads'), 100, 100)"
      ]
     },
     "execution_count": 8,
     "metadata": {},
     "output_type": "execute_result"
    }
   ],
   "source": [
    "# Allow asyncio to be nested (needed for jupyter notebooks)\n",
    "download_path, nr_pdbs, nr_alphafolds = await async_retrieve_structures(session_dir)\n",
    "download_path, nr_pdbs, nr_alphafolds"
   ]
  },
  {
   "cell_type": "markdown",
   "id": "16c57a9f",
   "metadata": {},
   "source": [
    "## Filter structures\n",
    "\n",
    "Prepare structures for powerfitting by filtering them based on confidence and nr of residues."
   ]
  },
  {
   "cell_type": "code",
   "execution_count": 8,
   "id": "45fbaaf7",
   "metadata": {},
   "outputs": [],
   "source": [
    "from protein_detective.filter import ConfidenceFilterQuery, FilterOptions, SecondaryStructureFilterQuery\n",
    "from protein_detective.workflow import filter_structures"
   ]
  },
  {
   "cell_type": "code",
   "execution_count": 9,
   "id": "bf8459c2",
   "metadata": {},
   "outputs": [],
   "source": [
    "options = FilterOptions(\n",
    "    confidence=ConfidenceFilterQuery(confidence=70, min_residues=100, max_residues=1000),\n",
    "    secondary_structure=SecondaryStructureFilterQuery(),\n",
    ")"
   ]
  },
  {
   "cell_type": "code",
   "execution_count": 10,
   "id": "3bc620e4",
   "metadata": {},
   "outputs": [
    {
     "data": {
      "application/vnd.jupyter.widget-view+json": {
       "model_id": "ba0ae7a1f039407f83bfc99c66ff11c6",
       "version_major": 2,
       "version_minor": 0
      },
      "text/plain": [
       "  0%|          | 0/100 [00:00<?, ?file/s]"
      ]
     },
     "metadata": {},
     "output_type": "display_data"
    },
    {
     "data": {
      "text/html": [
       "<pre style=\"white-space:pre;overflow-x:auto;line-height:normal;font-family:Menlo,'DejaVu Sans Mono',consolas,'Courier New',monospace\"><span style=\"font-weight: bold\">[</span>\n",
       "    <span style=\"color: #800080; text-decoration-color: #800080; font-weight: bold\">FilteredStructure</span><span style=\"font-weight: bold\">(</span>\n",
       "        <span style=\"color: #808000; text-decoration-color: #808000\">uniprot_accession</span>=<span style=\"color: #008000; text-decoration-color: #008000\">'A0A087WUV0'</span>,\n",
       "        <span style=\"color: #808000; text-decoration-color: #808000\">pdb_id</span>=<span style=\"color: #800080; text-decoration-color: #800080; font-style: italic\">None</span>,\n",
       "        <span style=\"color: #808000; text-decoration-color: #808000\">confidence</span>=<span style=\"color: #800080; text-decoration-color: #800080; font-weight: bold\">ConfidenceFilterResult</span><span style=\"font-weight: bold\">(</span>\n",
       "            <span style=\"color: #808000; text-decoration-color: #808000\">input_file</span>=<span style=\"color: #008000; text-decoration-color: #008000\">'AF-A0A087WUV0-F1-model_v4.cif'</span>,\n",
       "            <span style=\"color: #808000; text-decoration-color: #808000\">count</span>=<span style=\"color: #008080; text-decoration-color: #008080; font-weight: bold\">283</span>,\n",
       "            <span style=\"color: #808000; text-decoration-color: #808000\">filtered_file</span>=<span style=\"color: #800080; text-decoration-color: #800080; font-weight: bold\">PosixPath</span><span style=\"font-weight: bold\">(</span><span style=\"color: #008000; text-decoration-color: #008000\">'filtered/AF-A0A087WUV0-F1-model_v4.cif'</span><span style=\"font-weight: bold\">)</span>\n",
       "        <span style=\"font-weight: bold\">)</span>,\n",
       "        <span style=\"color: #808000; text-decoration-color: #808000\">chain</span>=<span style=\"color: #800080; text-decoration-color: #800080; font-style: italic\">None</span>,\n",
       "        <span style=\"color: #808000; text-decoration-color: #808000\">residue</span>=<span style=\"color: #800080; text-decoration-color: #800080; font-style: italic\">None</span>,\n",
       "        <span style=\"color: #808000; text-decoration-color: #808000\">secondary_structure</span>=<span style=\"color: #800080; text-decoration-color: #800080; font-style: italic\">None</span>\n",
       "    <span style=\"font-weight: bold\">)</span>,\n",
       "    <span style=\"color: #800080; text-decoration-color: #800080; font-weight: bold\">FilteredStructure</span><span style=\"font-weight: bold\">(</span>\n",
       "        <span style=\"color: #808000; text-decoration-color: #808000\">uniprot_accession</span>=<span style=\"color: #008000; text-decoration-color: #008000\">'A0A0C5B5G6'</span>,\n",
       "        <span style=\"color: #808000; text-decoration-color: #808000\">pdb_id</span>=<span style=\"color: #800080; text-decoration-color: #800080; font-style: italic\">None</span>,\n",
       "        <span style=\"color: #808000; text-decoration-color: #808000\">confidence</span>=<span style=\"color: #800080; text-decoration-color: #800080; font-weight: bold\">ConfidenceFilterResult</span><span style=\"font-weight: bold\">(</span>\n",
       "            <span style=\"color: #808000; text-decoration-color: #808000\">input_file</span>=<span style=\"color: #008000; text-decoration-color: #008000\">'AF-A0A0C5B5G6-F1-model_v4.cif'</span>,\n",
       "            <span style=\"color: #808000; text-decoration-color: #808000\">count</span>=<span style=\"color: #008080; text-decoration-color: #008080; font-weight: bold\">10</span>,\n",
       "            <span style=\"color: #808000; text-decoration-color: #808000\">filtered_file</span>=<span style=\"color: #800080; text-decoration-color: #800080; font-style: italic\">None</span>\n",
       "        <span style=\"font-weight: bold\">)</span>,\n",
       "        <span style=\"color: #808000; text-decoration-color: #808000\">chain</span>=<span style=\"color: #800080; text-decoration-color: #800080; font-style: italic\">None</span>,\n",
       "        <span style=\"color: #808000; text-decoration-color: #808000\">residue</span>=<span style=\"color: #800080; text-decoration-color: #800080; font-style: italic\">None</span>,\n",
       "        <span style=\"color: #808000; text-decoration-color: #808000\">secondary_structure</span>=<span style=\"color: #800080; text-decoration-color: #800080; font-style: italic\">None</span>\n",
       "    <span style=\"font-weight: bold\">)</span>\n",
       "<span style=\"font-weight: bold\">]</span>\n",
       "</pre>\n"
      ],
      "text/plain": [
       "\u001b[1m[\u001b[0m\n",
       "    \u001b[1;35mFilteredStructure\u001b[0m\u001b[1m(\u001b[0m\n",
       "        \u001b[33muniprot_accession\u001b[0m=\u001b[32m'A0A087WUV0'\u001b[0m,\n",
       "        \u001b[33mpdb_id\u001b[0m=\u001b[3;35mNone\u001b[0m,\n",
       "        \u001b[33mconfidence\u001b[0m=\u001b[1;35mConfidenceFilterResult\u001b[0m\u001b[1m(\u001b[0m\n",
       "            \u001b[33minput_file\u001b[0m=\u001b[32m'AF-A0A087WUV0-F1-model_v4.cif'\u001b[0m,\n",
       "            \u001b[33mcount\u001b[0m=\u001b[1;36m283\u001b[0m,\n",
       "            \u001b[33mfiltered_file\u001b[0m=\u001b[1;35mPosixPath\u001b[0m\u001b[1m(\u001b[0m\u001b[32m'filtered/AF-A0A087WUV0-F1-model_v4.cif'\u001b[0m\u001b[1m)\u001b[0m\n",
       "        \u001b[1m)\u001b[0m,\n",
       "        \u001b[33mchain\u001b[0m=\u001b[3;35mNone\u001b[0m,\n",
       "        \u001b[33mresidue\u001b[0m=\u001b[3;35mNone\u001b[0m,\n",
       "        \u001b[33msecondary_structure\u001b[0m=\u001b[3;35mNone\u001b[0m\n",
       "    \u001b[1m)\u001b[0m,\n",
       "    \u001b[1;35mFilteredStructure\u001b[0m\u001b[1m(\u001b[0m\n",
       "        \u001b[33muniprot_accession\u001b[0m=\u001b[32m'A0A0C5B5G6'\u001b[0m,\n",
       "        \u001b[33mpdb_id\u001b[0m=\u001b[3;35mNone\u001b[0m,\n",
       "        \u001b[33mconfidence\u001b[0m=\u001b[1;35mConfidenceFilterResult\u001b[0m\u001b[1m(\u001b[0m\n",
       "            \u001b[33minput_file\u001b[0m=\u001b[32m'AF-A0A0C5B5G6-F1-model_v4.cif'\u001b[0m,\n",
       "            \u001b[33mcount\u001b[0m=\u001b[1;36m10\u001b[0m,\n",
       "            \u001b[33mfiltered_file\u001b[0m=\u001b[3;35mNone\u001b[0m\n",
       "        \u001b[1m)\u001b[0m,\n",
       "        \u001b[33mchain\u001b[0m=\u001b[3;35mNone\u001b[0m,\n",
       "        \u001b[33mresidue\u001b[0m=\u001b[3;35mNone\u001b[0m,\n",
       "        \u001b[33msecondary_structure\u001b[0m=\u001b[3;35mNone\u001b[0m\n",
       "    \u001b[1m)\u001b[0m\n",
       "\u001b[1m]\u001b[0m\n"
      ]
     },
     "metadata": {},
     "output_type": "display_data"
    },
    {
     "data": {
      "text/html": [
       "<pre style=\"white-space:pre;overflow-x:auto;line-height:normal;font-family:Menlo,'DejaVu Sans Mono',consolas,'Courier New',monospace\"><span style=\"font-weight: bold\">[</span>\n",
       "    <span style=\"color: #800080; text-decoration-color: #800080; font-weight: bold\">FilteredStructure</span><span style=\"font-weight: bold\">(</span>\n",
       "        <span style=\"color: #808000; text-decoration-color: #808000\">uniprot_accession</span>=<span style=\"color: #008000; text-decoration-color: #008000\">'O14646'</span>,\n",
       "        <span style=\"color: #808000; text-decoration-color: #808000\">pdb_id</span>=<span style=\"color: #008000; text-decoration-color: #008000\">'4NW2'</span>,\n",
       "        <span style=\"color: #808000; text-decoration-color: #808000\">confidence</span>=<span style=\"color: #800080; text-decoration-color: #800080; font-style: italic\">None</span>,\n",
       "        <span style=\"color: #808000; text-decoration-color: #808000\">chain</span>=<span style=\"color: #800080; text-decoration-color: #800080; font-weight: bold\">ChainFilterStatistics</span><span style=\"font-weight: bold\">(</span>\n",
       "            <span style=\"color: #808000; text-decoration-color: #808000\">input_file</span>=<span style=\"color: #800080; text-decoration-color: #800080; font-weight: bold\">PosixPath</span><span style=\"font-weight: bold\">(</span><span style=\"color: #008000; text-decoration-color: #008000\">'session1/downloads/pdbe/4nw2.cif.gz'</span><span style=\"font-weight: bold\">)</span>,\n",
       "            <span style=\"color: #808000; text-decoration-color: #808000\">chain_id</span>=<span style=\"color: #008000; text-decoration-color: #008000\">'A'</span>,\n",
       "            <span style=\"color: #808000; text-decoration-color: #808000\">passed</span>=<span style=\"color: #00ff00; text-decoration-color: #00ff00; font-style: italic\">True</span>,\n",
       "            <span style=\"color: #808000; text-decoration-color: #808000\">output_file</span>=<span style=\"color: #800080; text-decoration-color: #800080; font-weight: bold\">PosixPath</span><span style=\"font-weight: bold\">(</span><span style=\"color: #008000; text-decoration-color: #008000\">'pdb_chain_filtered/4nw2_A2A.cif.gz'</span><span style=\"font-weight: bold\">)</span>,\n",
       "            <span style=\"color: #808000; text-decoration-color: #808000\">discard_reason</span>=<span style=\"color: #800080; text-decoration-color: #800080; font-style: italic\">None</span>\n",
       "        <span style=\"font-weight: bold\">)</span>,\n",
       "        <span style=\"color: #808000; text-decoration-color: #808000\">residue</span>=<span style=\"color: #800080; text-decoration-color: #800080; font-weight: bold\">ResidueFilterStatistics</span><span style=\"font-weight: bold\">(</span>\n",
       "            <span style=\"color: #808000; text-decoration-color: #808000\">input_file</span>=<span style=\"color: #800080; text-decoration-color: #800080; font-weight: bold\">PosixPath</span><span style=\"font-weight: bold\">(</span><span style=\"color: #008000; text-decoration-color: #008000\">'session1/pdb_chain_filtered/4nw2_A2A.cif.gz'</span><span style=\"font-weight: bold\">)</span>,\n",
       "            <span style=\"color: #808000; text-decoration-color: #808000\">residue_count</span>=<span style=\"color: #008080; text-decoration-color: #008080; font-weight: bold\">173</span>,\n",
       "            <span style=\"color: #808000; text-decoration-color: #808000\">passed</span>=<span style=\"color: #00ff00; text-decoration-color: #00ff00; font-style: italic\">True</span>,\n",
       "            <span style=\"color: #808000; text-decoration-color: #808000\">output_file</span>=<span style=\"color: #800080; text-decoration-color: #800080; font-weight: bold\">PosixPath</span><span style=\"font-weight: bold\">(</span><span style=\"color: #008000; text-decoration-color: #008000\">'filtered/4nw2_A2A.cif'</span><span style=\"font-weight: bold\">)</span>\n",
       "        <span style=\"font-weight: bold\">)</span>,\n",
       "        <span style=\"color: #808000; text-decoration-color: #808000\">secondary_structure</span>=<span style=\"color: #800080; text-decoration-color: #800080; font-style: italic\">None</span>\n",
       "    <span style=\"font-weight: bold\">)</span>,\n",
       "    <span style=\"color: #800080; text-decoration-color: #800080; font-weight: bold\">FilteredStructure</span><span style=\"font-weight: bold\">(</span>\n",
       "        <span style=\"color: #808000; text-decoration-color: #808000\">uniprot_accession</span>=<span style=\"color: #008000; text-decoration-color: #008000\">'O00257'</span>,\n",
       "        <span style=\"color: #808000; text-decoration-color: #808000\">pdb_id</span>=<span style=\"color: #008000; text-decoration-color: #008000\">'3I8Z'</span>,\n",
       "        <span style=\"color: #808000; text-decoration-color: #808000\">confidence</span>=<span style=\"color: #800080; text-decoration-color: #800080; font-style: italic\">None</span>,\n",
       "        <span style=\"color: #808000; text-decoration-color: #808000\">chain</span>=<span style=\"color: #800080; text-decoration-color: #800080; font-weight: bold\">ChainFilterStatistics</span><span style=\"font-weight: bold\">(</span>\n",
       "            <span style=\"color: #808000; text-decoration-color: #808000\">input_file</span>=<span style=\"color: #800080; text-decoration-color: #800080; font-weight: bold\">PosixPath</span><span style=\"font-weight: bold\">(</span><span style=\"color: #008000; text-decoration-color: #008000\">'session1/downloads/pdbe/3i8z.cif.gz'</span><span style=\"font-weight: bold\">)</span>,\n",
       "            <span style=\"color: #808000; text-decoration-color: #808000\">chain_id</span>=<span style=\"color: #008000; text-decoration-color: #008000\">'A'</span>,\n",
       "            <span style=\"color: #808000; text-decoration-color: #808000\">passed</span>=<span style=\"color: #00ff00; text-decoration-color: #00ff00; font-style: italic\">True</span>,\n",
       "            <span style=\"color: #808000; text-decoration-color: #808000\">output_file</span>=<span style=\"color: #800080; text-decoration-color: #800080; font-weight: bold\">PosixPath</span><span style=\"font-weight: bold\">(</span><span style=\"color: #008000; text-decoration-color: #008000\">'pdb_chain_filtered/3i8z_A2A.cif.gz'</span><span style=\"font-weight: bold\">)</span>,\n",
       "            <span style=\"color: #808000; text-decoration-color: #808000\">discard_reason</span>=<span style=\"color: #800080; text-decoration-color: #800080; font-style: italic\">None</span>\n",
       "        <span style=\"font-weight: bold\">)</span>,\n",
       "        <span style=\"color: #808000; text-decoration-color: #808000\">residue</span>=<span style=\"color: #800080; text-decoration-color: #800080; font-weight: bold\">ResidueFilterStatistics</span><span style=\"font-weight: bold\">(</span>\n",
       "            <span style=\"color: #808000; text-decoration-color: #808000\">input_file</span>=<span style=\"color: #800080; text-decoration-color: #800080; font-weight: bold\">PosixPath</span><span style=\"font-weight: bold\">(</span><span style=\"color: #008000; text-decoration-color: #008000\">'session1/pdb_chain_filtered/3i8z_A2A.cif.gz'</span><span style=\"font-weight: bold\">)</span>,\n",
       "            <span style=\"color: #808000; text-decoration-color: #808000\">residue_count</span>=<span style=\"color: #008080; text-decoration-color: #008080; font-weight: bold\">109</span>,\n",
       "            <span style=\"color: #808000; text-decoration-color: #808000\">passed</span>=<span style=\"color: #00ff00; text-decoration-color: #00ff00; font-style: italic\">True</span>,\n",
       "            <span style=\"color: #808000; text-decoration-color: #808000\">output_file</span>=<span style=\"color: #800080; text-decoration-color: #800080; font-weight: bold\">PosixPath</span><span style=\"font-weight: bold\">(</span><span style=\"color: #008000; text-decoration-color: #008000\">'filtered/3i8z_A2A.cif'</span><span style=\"font-weight: bold\">)</span>\n",
       "        <span style=\"font-weight: bold\">)</span>,\n",
       "        <span style=\"color: #808000; text-decoration-color: #808000\">secondary_structure</span>=<span style=\"color: #800080; text-decoration-color: #800080; font-style: italic\">None</span>\n",
       "    <span style=\"font-weight: bold\">)</span>\n",
       "<span style=\"font-weight: bold\">]</span>\n",
       "</pre>\n"
      ],
      "text/plain": [
       "\u001b[1m[\u001b[0m\n",
       "    \u001b[1;35mFilteredStructure\u001b[0m\u001b[1m(\u001b[0m\n",
       "        \u001b[33muniprot_accession\u001b[0m=\u001b[32m'O14646'\u001b[0m,\n",
       "        \u001b[33mpdb_id\u001b[0m=\u001b[32m'4NW2'\u001b[0m,\n",
       "        \u001b[33mconfidence\u001b[0m=\u001b[3;35mNone\u001b[0m,\n",
       "        \u001b[33mchain\u001b[0m=\u001b[1;35mChainFilterStatistics\u001b[0m\u001b[1m(\u001b[0m\n",
       "            \u001b[33minput_file\u001b[0m=\u001b[1;35mPosixPath\u001b[0m\u001b[1m(\u001b[0m\u001b[32m'session1/downloads/pdbe/4nw2.cif.gz'\u001b[0m\u001b[1m)\u001b[0m,\n",
       "            \u001b[33mchain_id\u001b[0m=\u001b[32m'A'\u001b[0m,\n",
       "            \u001b[33mpassed\u001b[0m=\u001b[3;92mTrue\u001b[0m,\n",
       "            \u001b[33moutput_file\u001b[0m=\u001b[1;35mPosixPath\u001b[0m\u001b[1m(\u001b[0m\u001b[32m'pdb_chain_filtered/4nw2_A2A.cif.gz'\u001b[0m\u001b[1m)\u001b[0m,\n",
       "            \u001b[33mdiscard_reason\u001b[0m=\u001b[3;35mNone\u001b[0m\n",
       "        \u001b[1m)\u001b[0m,\n",
       "        \u001b[33mresidue\u001b[0m=\u001b[1;35mResidueFilterStatistics\u001b[0m\u001b[1m(\u001b[0m\n",
       "            \u001b[33minput_file\u001b[0m=\u001b[1;35mPosixPath\u001b[0m\u001b[1m(\u001b[0m\u001b[32m'session1/pdb_chain_filtered/4nw2_A2A.cif.gz'\u001b[0m\u001b[1m)\u001b[0m,\n",
       "            \u001b[33mresidue_count\u001b[0m=\u001b[1;36m173\u001b[0m,\n",
       "            \u001b[33mpassed\u001b[0m=\u001b[3;92mTrue\u001b[0m,\n",
       "            \u001b[33moutput_file\u001b[0m=\u001b[1;35mPosixPath\u001b[0m\u001b[1m(\u001b[0m\u001b[32m'filtered/4nw2_A2A.cif'\u001b[0m\u001b[1m)\u001b[0m\n",
       "        \u001b[1m)\u001b[0m,\n",
       "        \u001b[33msecondary_structure\u001b[0m=\u001b[3;35mNone\u001b[0m\n",
       "    \u001b[1m)\u001b[0m,\n",
       "    \u001b[1;35mFilteredStructure\u001b[0m\u001b[1m(\u001b[0m\n",
       "        \u001b[33muniprot_accession\u001b[0m=\u001b[32m'O00257'\u001b[0m,\n",
       "        \u001b[33mpdb_id\u001b[0m=\u001b[32m'3I8Z'\u001b[0m,\n",
       "        \u001b[33mconfidence\u001b[0m=\u001b[3;35mNone\u001b[0m,\n",
       "        \u001b[33mchain\u001b[0m=\u001b[1;35mChainFilterStatistics\u001b[0m\u001b[1m(\u001b[0m\n",
       "            \u001b[33minput_file\u001b[0m=\u001b[1;35mPosixPath\u001b[0m\u001b[1m(\u001b[0m\u001b[32m'session1/downloads/pdbe/3i8z.cif.gz'\u001b[0m\u001b[1m)\u001b[0m,\n",
       "            \u001b[33mchain_id\u001b[0m=\u001b[32m'A'\u001b[0m,\n",
       "            \u001b[33mpassed\u001b[0m=\u001b[3;92mTrue\u001b[0m,\n",
       "            \u001b[33moutput_file\u001b[0m=\u001b[1;35mPosixPath\u001b[0m\u001b[1m(\u001b[0m\u001b[32m'pdb_chain_filtered/3i8z_A2A.cif.gz'\u001b[0m\u001b[1m)\u001b[0m,\n",
       "            \u001b[33mdiscard_reason\u001b[0m=\u001b[3;35mNone\u001b[0m\n",
       "        \u001b[1m)\u001b[0m,\n",
       "        \u001b[33mresidue\u001b[0m=\u001b[1;35mResidueFilterStatistics\u001b[0m\u001b[1m(\u001b[0m\n",
       "            \u001b[33minput_file\u001b[0m=\u001b[1;35mPosixPath\u001b[0m\u001b[1m(\u001b[0m\u001b[32m'session1/pdb_chain_filtered/3i8z_A2A.cif.gz'\u001b[0m\u001b[1m)\u001b[0m,\n",
       "            \u001b[33mresidue_count\u001b[0m=\u001b[1;36m109\u001b[0m,\n",
       "            \u001b[33mpassed\u001b[0m=\u001b[3;92mTrue\u001b[0m,\n",
       "            \u001b[33moutput_file\u001b[0m=\u001b[1;35mPosixPath\u001b[0m\u001b[1m(\u001b[0m\u001b[32m'filtered/3i8z_A2A.cif'\u001b[0m\u001b[1m)\u001b[0m\n",
       "        \u001b[1m)\u001b[0m,\n",
       "        \u001b[33msecondary_structure\u001b[0m=\u001b[3;35mNone\u001b[0m\n",
       "    \u001b[1m)\u001b[0m\n",
       "\u001b[1m]\u001b[0m\n"
      ]
     },
     "metadata": {},
     "output_type": "display_data"
    },
    {
     "data": {
      "text/plain": [
       "PosixPath('session1/filtered')"
      ]
     },
     "execution_count": 10,
     "metadata": {},
     "output_type": "execute_result"
    }
   ],
   "source": [
    "filtered_dir, filtered_results = filter_structures(session_dir, options)\n",
    "pprint(filtered_results[:2])\n",
    "pprint(filtered_results[-2:])\n",
    "filtered_dir"
   ]
  },
  {
   "cell_type": "code",
   "execution_count": 12,
   "id": "073f2357",
   "metadata": {},
   "outputs": [
    {
     "data": {
      "text/html": [
       "<pre style=\"white-space:pre;overflow-x:auto;line-height:normal;font-family:Menlo,'DejaVu Sans Mono',consolas,'Courier New',monospace\">Total entries: <span style=\"color: #008080; text-decoration-color: #008080; font-weight: bold\">200</span>, passed: <span style=\"color: #008080; text-decoration-color: #008080; font-weight: bold\">132</span>, discarded: <span style=\"color: #008080; text-decoration-color: #008080; font-weight: bold\">68</span>\n",
       "</pre>\n"
      ],
      "text/plain": [
       "Total entries: \u001b[1;36m200\u001b[0m, passed: \u001b[1;36m132\u001b[0m, discarded: \u001b[1;36m68\u001b[0m\n"
      ]
     },
     "metadata": {},
     "output_type": "display_data"
    }
   ],
   "source": [
    "total_nr = len(filtered_results)\n",
    "total_nr_passed = sum(1 for r in filtered_results if r.passed)\n",
    "total_nr_discarded = total_nr - total_nr_passed\n",
    "pprint(f\"Total entries: {total_nr}, passed: {total_nr_passed}, discarded: {total_nr_discarded}\")"
   ]
  },
  {
   "cell_type": "markdown",
   "id": "1a409c95",
   "metadata": {},
   "source": [
    "## Powerfit\n"
   ]
  },
  {
   "cell_type": "code",
   "execution_count": 13,
   "id": "5de52e86",
   "metadata": {},
   "outputs": [],
   "source": [
    "from protein_detective.powerfit.options import PowerfitOptions\n",
    "from protein_detective.powerfit.workflow import powerfit_commands"
   ]
  },
  {
   "cell_type": "markdown",
   "id": "67a38d05",
   "metadata": {},
   "source": [
    "To run you must have cloned the https://github.com/haddocking/powerfit-tutorial repository in '../../powerfit-tutorial'."
   ]
  },
  {
   "cell_type": "code",
   "execution_count": 14,
   "id": "899ec746",
   "metadata": {},
   "outputs": [],
   "source": [
    "options = PowerfitOptions(\n",
    "    target=Path(\"../../powerfit-tutorial/ribosome-KsgA.map\"),\n",
    "    resolution=13,\n",
    "    angle=20,\n",
    "    laplace=True,\n",
    ")"
   ]
  },
  {
   "cell_type": "markdown",
   "id": "ae69579b",
   "metadata": {},
   "source": [
    "### Run\n",
    "\n",
    "Here we use printed commands to run powerfit, see [powerfit.ipynb](powerfit.ipynb) for running powerfits using the API."
   ]
  },
  {
   "cell_type": "code",
   "execution_count": 15,
   "id": "52655c1f",
   "metadata": {},
   "outputs": [],
   "source": [
    "commands, powerfit_run_id = powerfit_commands(session_dir, options)"
   ]
  },
  {
   "cell_type": "code",
   "execution_count": 16,
   "id": "c7b91642",
   "metadata": {},
   "outputs": [
    {
     "data": {
      "text/plain": [
       "1"
      ]
     },
     "execution_count": 16,
     "metadata": {},
     "output_type": "execute_result"
    }
   ],
   "source": [
    "powerfit_run_id"
   ]
  },
  {
   "cell_type": "code",
   "execution_count": 17,
   "id": "a7e7c368",
   "metadata": {},
   "outputs": [
    {
     "data": {
      "text/html": [
       "<pre style=\"white-space:pre;overflow-x:auto;line-height:normal;font-family:Menlo,'DejaVu Sans Mono',consolas,'Courier New',monospace\"><span style=\"font-weight: bold\">[</span>\n",
       "    <span style=\"color: #008000; text-decoration-color: #008000\">'powerfit ./session1/powerfit/1/ribosome-KsgA.map 13 ./session1/filtered/AF-A0A087WUV0-F1-model_v4.cif </span>\n",
       "<span style=\"color: #008000; text-decoration-color: #008000\">--laplace --resampling-rate 2 --num 0 --nproc 1 --directory ./session1/powerfit/1/AF-A0A087WUV0-F1-model_v4 </span>\n",
       "<span style=\"color: #008000; text-decoration-color: #008000\">--delimiter , --angle 20'</span>,\n",
       "    <span style=\"color: #008000; text-decoration-color: #008000\">'powerfit ./session1/powerfit/1/ribosome-KsgA.map 13 ./session1/filtered/AF-A0A0U1RQI7-F1-model_v4.cif </span>\n",
       "<span style=\"color: #008000; text-decoration-color: #008000\">--laplace --resampling-rate 2 --num 0 --nproc 1 --directory ./session1/powerfit/1/AF-A0A0U1RQI7-F1-model_v4 </span>\n",
       "<span style=\"color: #008000; text-decoration-color: #008000\">--delimiter , --angle 20'</span>,\n",
       "    <span style=\"color: #008000; text-decoration-color: #008000\">'powerfit ./session1/powerfit/1/ribosome-KsgA.map 13 ./session1/filtered/AF-A0A1B0GTS1-F1-model_v4.cif </span>\n",
       "<span style=\"color: #008000; text-decoration-color: #008000\">--laplace --resampling-rate 2 --num 0 --nproc 1 --directory ./session1/powerfit/1/AF-A0A1B0GTS1-F1-model_v4 </span>\n",
       "<span style=\"color: #008000; text-decoration-color: #008000\">--delimiter , --angle 20'</span>,\n",
       "    <span style=\"color: #008000; text-decoration-color: #008000\">'powerfit ./session1/powerfit/1/ribosome-KsgA.map 13 ./session1/filtered/AF-A0A1B0GWH4-F1-model_v4.cif </span>\n",
       "<span style=\"color: #008000; text-decoration-color: #008000\">--laplace --resampling-rate 2 --num 0 --nproc 1 --directory ./session1/powerfit/1/AF-A0A1B0GWH4-F1-model_v4 </span>\n",
       "<span style=\"color: #008000; text-decoration-color: #008000\">--delimiter , --angle 20'</span>,\n",
       "    <span style=\"color: #008000; text-decoration-color: #008000\">'powerfit ./session1/powerfit/1/ribosome-KsgA.map 13 ./session1/filtered/AF-A0A1W2PPF3-F1-model_v4.cif </span>\n",
       "<span style=\"color: #008000; text-decoration-color: #008000\">--laplace --resampling-rate 2 --num 0 --nproc 1 --directory ./session1/powerfit/1/AF-A0A1W2PPF3-F1-model_v4 </span>\n",
       "<span style=\"color: #008000; text-decoration-color: #008000\">--delimiter , --angle 20'</span>,\n",
       "    <span style=\"color: #008000; text-decoration-color: #008000\">'powerfit ./session1/powerfit/1/ribosome-KsgA.map 13 ./session1/filtered/AF-A0A1W2PQL4-F1-model_v4.cif </span>\n",
       "<span style=\"color: #008000; text-decoration-color: #008000\">--laplace --resampling-rate 2 --num 0 --nproc 1 --directory ./session1/powerfit/1/AF-A0A1W2PQL4-F1-model_v4 </span>\n",
       "<span style=\"color: #008000; text-decoration-color: #008000\">--delimiter , --angle 20'</span>,\n",
       "    <span style=\"color: #008000; text-decoration-color: #008000\">'powerfit ./session1/powerfit/1/ribosome-KsgA.map 13 ./session1/filtered/AF-A1YPR0-F1-model_v4.cif --laplace </span>\n",
       "<span style=\"color: #008000; text-decoration-color: #008000\">--resampling-rate 2 --num 0 --nproc 1 --directory ./session1/powerfit/1/AF-A1YPR0-F1-model_v4 --delimiter , --angle</span>\n",
       "<span style=\"color: #008000; text-decoration-color: #008000\">20'</span>,\n",
       "    <span style=\"color: #008000; text-decoration-color: #008000\">'powerfit ./session1/powerfit/1/ribosome-KsgA.map 13 ./session1/filtered/AF-A2RRD8-F1-model_v4.cif --laplace </span>\n",
       "<span style=\"color: #008000; text-decoration-color: #008000\">--resampling-rate 2 --num 0 --nproc 1 --directory ./session1/powerfit/1/AF-A2RRD8-F1-model_v4 --delimiter , --angle</span>\n",
       "<span style=\"color: #008000; text-decoration-color: #008000\">20'</span>,\n",
       "    <span style=\"color: #008000; text-decoration-color: #008000\">'powerfit ./session1/powerfit/1/ribosome-KsgA.map 13 ./session1/filtered/AF-A3KN83-F1-model_v4.cif --laplace </span>\n",
       "<span style=\"color: #008000; text-decoration-color: #008000\">--resampling-rate 2 --num 0 --nproc 1 --directory ./session1/powerfit/1/AF-A3KN83-F1-model_v4 --delimiter , --angle</span>\n",
       "<span style=\"color: #008000; text-decoration-color: #008000\">20'</span>,\n",
       "    <span style=\"color: #008000; text-decoration-color: #008000\">'powerfit ./session1/powerfit/1/ribosome-KsgA.map 13 ./session1/filtered/AF-A6NDX5-F1-model_v4.cif --laplace </span>\n",
       "<span style=\"color: #008000; text-decoration-color: #008000\">--resampling-rate 2 --num 0 --nproc 1 --directory ./session1/powerfit/1/AF-A6NDX5-F1-model_v4 --delimiter , --angle</span>\n",
       "<span style=\"color: #008000; text-decoration-color: #008000\">20'</span>\n",
       "<span style=\"font-weight: bold\">]</span>\n",
       "</pre>\n"
      ],
      "text/plain": [
       "\u001b[1m[\u001b[0m\n",
       "    \u001b[32m'powerfit ./session1/powerfit/1/ribosome-KsgA.map 13 ./session1/filtered/AF-A0A087WUV0-F1-model_v4.cif \u001b[0m\n",
       "\u001b[32m--laplace --resampling-rate 2 --num 0 --nproc 1 --directory ./session1/powerfit/1/AF-A0A087WUV0-F1-model_v4 \u001b[0m\n",
       "\u001b[32m--delimiter , --angle 20'\u001b[0m,\n",
       "    \u001b[32m'powerfit ./session1/powerfit/1/ribosome-KsgA.map 13 ./session1/filtered/AF-A0A0U1RQI7-F1-model_v4.cif \u001b[0m\n",
       "\u001b[32m--laplace --resampling-rate 2 --num 0 --nproc 1 --directory ./session1/powerfit/1/AF-A0A0U1RQI7-F1-model_v4 \u001b[0m\n",
       "\u001b[32m--delimiter , --angle 20'\u001b[0m,\n",
       "    \u001b[32m'powerfit ./session1/powerfit/1/ribosome-KsgA.map 13 ./session1/filtered/AF-A0A1B0GTS1-F1-model_v4.cif \u001b[0m\n",
       "\u001b[32m--laplace --resampling-rate 2 --num 0 --nproc 1 --directory ./session1/powerfit/1/AF-A0A1B0GTS1-F1-model_v4 \u001b[0m\n",
       "\u001b[32m--delimiter , --angle 20'\u001b[0m,\n",
       "    \u001b[32m'powerfit ./session1/powerfit/1/ribosome-KsgA.map 13 ./session1/filtered/AF-A0A1B0GWH4-F1-model_v4.cif \u001b[0m\n",
       "\u001b[32m--laplace --resampling-rate 2 --num 0 --nproc 1 --directory ./session1/powerfit/1/AF-A0A1B0GWH4-F1-model_v4 \u001b[0m\n",
       "\u001b[32m--delimiter , --angle 20'\u001b[0m,\n",
       "    \u001b[32m'powerfit ./session1/powerfit/1/ribosome-KsgA.map 13 ./session1/filtered/AF-A0A1W2PPF3-F1-model_v4.cif \u001b[0m\n",
       "\u001b[32m--laplace --resampling-rate 2 --num 0 --nproc 1 --directory ./session1/powerfit/1/AF-A0A1W2PPF3-F1-model_v4 \u001b[0m\n",
       "\u001b[32m--delimiter , --angle 20'\u001b[0m,\n",
       "    \u001b[32m'powerfit ./session1/powerfit/1/ribosome-KsgA.map 13 ./session1/filtered/AF-A0A1W2PQL4-F1-model_v4.cif \u001b[0m\n",
       "\u001b[32m--laplace --resampling-rate 2 --num 0 --nproc 1 --directory ./session1/powerfit/1/AF-A0A1W2PQL4-F1-model_v4 \u001b[0m\n",
       "\u001b[32m--delimiter , --angle 20'\u001b[0m,\n",
       "    \u001b[32m'powerfit ./session1/powerfit/1/ribosome-KsgA.map 13 ./session1/filtered/AF-A1YPR0-F1-model_v4.cif --laplace \u001b[0m\n",
       "\u001b[32m--resampling-rate 2 --num 0 --nproc 1 --directory ./session1/powerfit/1/AF-A1YPR0-F1-model_v4 --delimiter , --angle\u001b[0m\n",
       "\u001b[32m20'\u001b[0m,\n",
       "    \u001b[32m'powerfit ./session1/powerfit/1/ribosome-KsgA.map 13 ./session1/filtered/AF-A2RRD8-F1-model_v4.cif --laplace \u001b[0m\n",
       "\u001b[32m--resampling-rate 2 --num 0 --nproc 1 --directory ./session1/powerfit/1/AF-A2RRD8-F1-model_v4 --delimiter , --angle\u001b[0m\n",
       "\u001b[32m20'\u001b[0m,\n",
       "    \u001b[32m'powerfit ./session1/powerfit/1/ribosome-KsgA.map 13 ./session1/filtered/AF-A3KN83-F1-model_v4.cif --laplace \u001b[0m\n",
       "\u001b[32m--resampling-rate 2 --num 0 --nproc 1 --directory ./session1/powerfit/1/AF-A3KN83-F1-model_v4 --delimiter , --angle\u001b[0m\n",
       "\u001b[32m20'\u001b[0m,\n",
       "    \u001b[32m'powerfit ./session1/powerfit/1/ribosome-KsgA.map 13 ./session1/filtered/AF-A6NDX5-F1-model_v4.cif --laplace \u001b[0m\n",
       "\u001b[32m--resampling-rate 2 --num 0 --nproc 1 --directory ./session1/powerfit/1/AF-A6NDX5-F1-model_v4 --delimiter , --angle\u001b[0m\n",
       "\u001b[32m20'\u001b[0m\n",
       "\u001b[1m]\u001b[0m\n"
      ]
     },
     "metadata": {},
     "output_type": "display_data"
    }
   ],
   "source": [
    "cwd = str(Path.cwd())\n",
    "rel_commands = [c.replace(cwd, \".\") for c in commands]\n",
    "pprint(rel_commands[:10])"
   ]
  },
  {
   "cell_type": "markdown",
   "id": "ddfe7dc7",
   "metadata": {},
   "source": [
    "These commands should be run on a cluster. Here we will just run a couple of them to show how it works."
   ]
  },
  {
   "cell_type": "code",
   "execution_count": 18,
   "id": "f5fb4a60",
   "metadata": {},
   "outputs": [
    {
     "name": "stdout",
     "output_type": "stream",
     "text": [
      "Target file read from:                                                          \n",
      "\u001b[35m/home/stefanv/git/protein-detective/protein-detective/docs/session1/powerfit/1/\u001b[0m\u001b[95mr\u001b[0m\n",
      "\u001b[95mibosome-KsgA.map\u001b[0m                                                                \n",
      "Target resolution: \u001b[1;36m13.00\u001b[0m                                                        \n",
      "Initial shape of density: \u001b[1;36m128\u001b[0m \u001b[1;36m128\u001b[0m \u001b[1;36m128\u001b[0m                                           \n",
      "Shape after trimming: \u001b[1;36m60\u001b[0m \u001b[1;36m73\u001b[0m \u001b[1;36m67\u001b[0m                                                  \n",
      "Shape after extending: \u001b[1;36m60\u001b[0m \u001b[1;36m75\u001b[0m \u001b[1;36m70\u001b[0m                                                 \n",
      "Template file read from:                                                        \n",
      "\u001b[35m/home/stefanv/git/protein-detective/protein-detective/docs/session1/filtered/\u001b[0m\u001b[95mAF-\u001b[0m\n",
      "\u001b[95mA1YPR0-F1-model_v4.cif\u001b[0m                                                          \n",
      "Reading in rotations.                                                           \n",
      "Requested rotational sampling density: \u001b[1;36m20.00\u001b[0m                                    \n",
      "Real rotational sampling density: \u001b[1;36m20.83\u001b[0m                                         \n",
      "Requested number of processors: \u001b[1;36m1\u001b[0m                                               \n",
      "Starting search                                                                 \n",
      "\u001b[2KProcessing rotations\u001b[35m 100%\u001b[0m \u001b[90m━━━━━━━━━━━━\u001b[0m \u001b[32m648/648 \u001b[0m [ \u001b[33m0:00:08\u001b[0m < \u001b[36m0:00:00\u001b[0m , \u001b[31m78 rot/s\u001b[0m ]t/s\u001b[0m ]t/s\u001b[0m ]\n",
      "\u001b[?25hTime for search: \u001b[1;36m8.298\u001b[0m s                                                        \n",
      "Analyzing results                                                               \n",
      "Writing solutions to file.                                                      \n",
      "Writing PDBs to file.                                                           \n",
      "Total time: 0m 8s                                                               \n"
     ]
    }
   ],
   "source": [
    "!{rel_commands[6]}"
   ]
  },
  {
   "cell_type": "code",
   "execution_count": 19,
   "id": "adedebcb",
   "metadata": {},
   "outputs": [
    {
     "name": "stdout",
     "output_type": "stream",
     "text": [
      "Target file read from:                                                          \n",
      "\u001b[35m/home/stefanv/git/protein-detective/protein-detective/docs/session1/powerfit/1/\u001b[0m\u001b[95mr\u001b[0m\n",
      "\u001b[95mibosome-KsgA.map\u001b[0m                                                                \n",
      "Target resolution: \u001b[1;36m13.00\u001b[0m                                                        \n",
      "Initial shape of density: \u001b[1;36m128\u001b[0m \u001b[1;36m128\u001b[0m \u001b[1;36m128\u001b[0m                                           \n",
      "Shape after trimming: \u001b[1;36m60\u001b[0m \u001b[1;36m73\u001b[0m \u001b[1;36m67\u001b[0m                                                  \n",
      "Shape after extending: \u001b[1;36m60\u001b[0m \u001b[1;36m75\u001b[0m \u001b[1;36m70\u001b[0m                                                 \n",
      "Template file read from:                                                        \n",
      "\u001b[35m/home/stefanv/git/protein-detective/protein-detective/docs/session1/filtered/\u001b[0m\u001b[95mAF-\u001b[0m\n",
      "\u001b[95mA0A087WUV0-F1-model_v4.cif\u001b[0m                                                      \n",
      "Reading in rotations.                                                           \n",
      "Requested rotational sampling density: \u001b[1;36m20.00\u001b[0m                                    \n",
      "Real rotational sampling density: \u001b[1;36m20.83\u001b[0m                                         \n",
      "Requested number of processors: \u001b[1;36m1\u001b[0m                                               \n",
      "Starting search                                                                 \n",
      "\u001b[2KProcessing rotations\u001b[35m 100%\u001b[0m \u001b[90m━━━━━━━━━━━━\u001b[0m \u001b[32m648/648 \u001b[0m [ \u001b[33m0:00:08\u001b[0m < \u001b[36m0:00:00\u001b[0m , \u001b[31m76 rot/s\u001b[0m ]t/s\u001b[0m ]t/s\u001b[0m ]\n",
      "\u001b[?25hTime for search: \u001b[1;36m8.581\u001b[0m s                                                        \n",
      "Analyzing results                                                               \n",
      "Writing solutions to file.                                                      \n",
      "Writing PDBs to file.                                                           \n",
      "Total time: 0m 9s                                                               \n"
     ]
    }
   ],
   "source": [
    "!{rel_commands[0]}"
   ]
  },
  {
   "cell_type": "code",
   "execution_count": 20,
   "id": "e22376af",
   "metadata": {},
   "outputs": [
    {
     "name": "stdout",
     "output_type": "stream",
     "text": [
      "Target file read from:                                                          \n",
      "\u001b[35m/home/stefanv/git/protein-detective/protein-detective/docs/session1/powerfit/1/\u001b[0m\u001b[95mr\u001b[0m\n",
      "\u001b[95mibosome-KsgA.map\u001b[0m                                                                \n",
      "Target resolution: \u001b[1;36m13.00\u001b[0m                                                        \n",
      "Initial shape of density: \u001b[1;36m128\u001b[0m \u001b[1;36m128\u001b[0m \u001b[1;36m128\u001b[0m                                           \n",
      "Shape after trimming: \u001b[1;36m60\u001b[0m \u001b[1;36m73\u001b[0m \u001b[1;36m67\u001b[0m                                                  \n",
      "Shape after extending: \u001b[1;36m60\u001b[0m \u001b[1;36m75\u001b[0m \u001b[1;36m70\u001b[0m                                                 \n",
      "Template file read from:                                                        \n",
      "\u001b[35m/home/stefanv/git/protein-detective/protein-detective/docs/session1/filtered/\u001b[0m\u001b[95m5db\u001b[0m\n",
      "\u001b[95m2_A2A.cif\u001b[0m                                                                       \n",
      "Reading in rotations.                                                           \n",
      "Requested rotational sampling density: \u001b[1;36m20.00\u001b[0m                                    \n",
      "Real rotational sampling density: \u001b[1;36m20.83\u001b[0m                                         \n",
      "Requested number of processors: \u001b[1;36m1\u001b[0m                                               \n",
      "Starting search                                                                 \n",
      "\u001b[2KProcessing rotations\u001b[35m 100%\u001b[0m \u001b[90m━━━━━━━━━━━━\u001b[0m \u001b[32m648/648 \u001b[0m [ \u001b[33m0:00:08\u001b[0m < \u001b[36m0:00:00\u001b[0m , \u001b[31m74 rot/s\u001b[0m ]t/s\u001b[0m ]t/s\u001b[0m ]\n",
      "\u001b[?25hTime for search: 0m 12s                                                         \n",
      "Analyzing results                                                               \n",
      "Writing solutions to file.                                                      \n",
      "Writing PDBs to file.                                                           \n",
      "Total time: 0m 13s                                                              \n"
     ]
    }
   ],
   "source": [
    "!{rel_commands[-1]}"
   ]
  },
  {
   "cell_type": "markdown",
   "id": "32927cf4",
   "metadata": {},
   "source": [
    "See [powerfit.ipynb](powerfit.ipynb) for running all powerfits using the API."
   ]
  },
  {
   "cell_type": "markdown",
   "id": "b97fd69d",
   "metadata": {},
   "source": [
    "### Report\n",
    "\n",
    "Once all powerfit jobs are done the results can be parsed and reported.\n"
   ]
  },
  {
   "cell_type": "code",
   "execution_count": 21,
   "id": "95cd6916",
   "metadata": {},
   "outputs": [],
   "source": [
    "from protein_detective.powerfit.workflow import powerfit_report"
   ]
  },
  {
   "cell_type": "code",
   "execution_count": 22,
   "id": "ee416246",
   "metadata": {},
   "outputs": [],
   "source": [
    "solutions = powerfit_report(session_dir)"
   ]
  },
  {
   "cell_type": "code",
   "execution_count": 23,
   "id": "c1669d58",
   "metadata": {},
   "outputs": [
    {
     "data": {
      "text/plain": [
       "4812"
      ]
     },
     "execution_count": 23,
     "metadata": {},
     "output_type": "execute_result"
    }
   ],
   "source": [
    "len(solutions)"
   ]
  },
  {
   "cell_type": "code",
   "execution_count": 24,
   "id": "afda9122",
   "metadata": {},
   "outputs": [
    {
     "data": {
      "text/html": [
       "<div>\n",
       "<style scoped>\n",
       "    .dataframe tbody tr th:only-of-type {\n",
       "        vertical-align: middle;\n",
       "    }\n",
       "\n",
       "    .dataframe tbody tr th {\n",
       "        vertical-align: top;\n",
       "    }\n",
       "\n",
       "    .dataframe thead th {\n",
       "        text-align: right;\n",
       "    }\n",
       "</style>\n",
       "<table border=\"1\" class=\"dataframe\">\n",
       "  <thead>\n",
       "    <tr style=\"text-align: right;\">\n",
       "      <th></th>\n",
       "      <th>powerfit_run_id</th>\n",
       "      <th>structure</th>\n",
       "      <th>rank</th>\n",
       "      <th>cc</th>\n",
       "      <th>fishz</th>\n",
       "      <th>relz</th>\n",
       "      <th>translation</th>\n",
       "      <th>rotation</th>\n",
       "      <th>pdb_file</th>\n",
       "      <th>uniprot_acc</th>\n",
       "      <th>pdb_id</th>\n",
       "    </tr>\n",
       "  </thead>\n",
       "  <tbody>\n",
       "    <tr>\n",
       "      <th>0</th>\n",
       "      <td>1</td>\n",
       "      <td>AF-A1YPR0-F1-model_v4</td>\n",
       "      <td>1</td>\n",
       "      <td>0.280</td>\n",
       "      <td>0.288</td>\n",
       "      <td>11.087</td>\n",
       "      <td>[162.71, 132.01, 181.13]</td>\n",
       "      <td>[-1.0, 0.0, 0.0, 0.0, 1.0, 0.0, 0.0, 0.0, -1.0]</td>\n",
       "      <td>session1/filtered/AF-A1YPR0-F1-model_v4.cif</td>\n",
       "      <td>A1YPR0</td>\n",
       "      <td>None</td>\n",
       "    </tr>\n",
       "    <tr>\n",
       "      <th>1</th>\n",
       "      <td>1</td>\n",
       "      <td>AF-A1YPR0-F1-model_v4</td>\n",
       "      <td>2</td>\n",
       "      <td>0.279</td>\n",
       "      <td>0.287</td>\n",
       "      <td>11.049</td>\n",
       "      <td>[156.57, 156.57, 135.08]</td>\n",
       "      <td>[-0.548, 0.184, 0.816, -0.548, -0.816, -0.184,...</td>\n",
       "      <td>session1/filtered/AF-A1YPR0-F1-model_v4.cif</td>\n",
       "      <td>A1YPR0</td>\n",
       "      <td>None</td>\n",
       "    </tr>\n",
       "    <tr>\n",
       "      <th>2</th>\n",
       "      <td>1</td>\n",
       "      <td>AF-A1YPR0-F1-model_v4</td>\n",
       "      <td>3</td>\n",
       "      <td>0.275</td>\n",
       "      <td>0.282</td>\n",
       "      <td>10.870</td>\n",
       "      <td>[165.78, 153.5, 141.22]</td>\n",
       "      <td>[-0.632, 0.548, 0.548, -0.548, -0.816, 0.184, ...</td>\n",
       "      <td>session1/filtered/AF-A1YPR0-F1-model_v4.cif</td>\n",
       "      <td>A1YPR0</td>\n",
       "      <td>None</td>\n",
       "    </tr>\n",
       "    <tr>\n",
       "      <th>3</th>\n",
       "      <td>1</td>\n",
       "      <td>AF-A1YPR0-F1-model_v4</td>\n",
       "      <td>4</td>\n",
       "      <td>0.266</td>\n",
       "      <td>0.273</td>\n",
       "      <td>10.518</td>\n",
       "      <td>[257.88, 270.16, 178.06]</td>\n",
       "      <td>[0.0, -0.797, -0.604, 0.0, -0.604, 0.797, -1.0...</td>\n",
       "      <td>session1/filtered/AF-A1YPR0-F1-model_v4.cif</td>\n",
       "      <td>A1YPR0</td>\n",
       "      <td>None</td>\n",
       "    </tr>\n",
       "    <tr>\n",
       "      <th>4</th>\n",
       "      <td>1</td>\n",
       "      <td>AF-A1YPR0-F1-model_v4</td>\n",
       "      <td>5</td>\n",
       "      <td>0.265</td>\n",
       "      <td>0.272</td>\n",
       "      <td>10.484</td>\n",
       "      <td>[141.22, 159.64, 205.69]</td>\n",
       "      <td>[0.548, -0.816, -0.184, -0.548, -0.184, -0.816...</td>\n",
       "      <td>session1/filtered/AF-A1YPR0-F1-model_v4.cif</td>\n",
       "      <td>A1YPR0</td>\n",
       "      <td>None</td>\n",
       "    </tr>\n",
       "    <tr>\n",
       "      <th>...</th>\n",
       "      <td>...</td>\n",
       "      <td>...</td>\n",
       "      <td>...</td>\n",
       "      <td>...</td>\n",
       "      <td>...</td>\n",
       "      <td>...</td>\n",
       "      <td>...</td>\n",
       "      <td>...</td>\n",
       "      <td>...</td>\n",
       "      <td>...</td>\n",
       "      <td>...</td>\n",
       "    </tr>\n",
       "    <tr>\n",
       "      <th>4807</th>\n",
       "      <td>1</td>\n",
       "      <td>5db2_A2A</td>\n",
       "      <td>1814</td>\n",
       "      <td>0.081</td>\n",
       "      <td>0.081</td>\n",
       "      <td>4.472</td>\n",
       "      <td>[233.32, 202.62, 159.64]</td>\n",
       "      <td>[-0.548, -0.548, -0.632, 0.184, -0.816, 0.548,...</td>\n",
       "      <td>session1/filtered/5db2_A2A.cif</td>\n",
       "      <td>O00255</td>\n",
       "      <td>5DB2</td>\n",
       "    </tr>\n",
       "    <tr>\n",
       "      <th>4808</th>\n",
       "      <td>1</td>\n",
       "      <td>5db2_A2A</td>\n",
       "      <td>1813</td>\n",
       "      <td>0.081</td>\n",
       "      <td>0.081</td>\n",
       "      <td>4.475</td>\n",
       "      <td>[150.43, 168.85, 141.22]</td>\n",
       "      <td>[0.258, -0.362, 0.896, 0.362, 0.896, 0.258, -0...</td>\n",
       "      <td>session1/filtered/5db2_A2A.cif</td>\n",
       "      <td>O00255</td>\n",
       "      <td>5DB2</td>\n",
       "    </tr>\n",
       "    <tr>\n",
       "      <th>4809</th>\n",
       "      <td>1</td>\n",
       "      <td>5db2_A2A</td>\n",
       "      <td>1812</td>\n",
       "      <td>0.081</td>\n",
       "      <td>0.081</td>\n",
       "      <td>4.475</td>\n",
       "      <td>[125.87, 168.85, 214.9]</td>\n",
       "      <td>[-0.362, 0.258, 0.896, -0.258, 0.896, -0.362, ...</td>\n",
       "      <td>session1/filtered/5db2_A2A.cif</td>\n",
       "      <td>O00255</td>\n",
       "      <td>5DB2</td>\n",
       "    </tr>\n",
       "    <tr>\n",
       "      <th>4810</th>\n",
       "      <td>1</td>\n",
       "      <td>5db2_A2A</td>\n",
       "      <td>1811</td>\n",
       "      <td>0.081</td>\n",
       "      <td>0.081</td>\n",
       "      <td>4.488</td>\n",
       "      <td>[125.87, 162.71, 217.97]</td>\n",
       "      <td>[-0.632, 0.548, 0.548, 0.548, -0.184, 0.816, 0...</td>\n",
       "      <td>session1/filtered/5db2_A2A.cif</td>\n",
       "      <td>O00255</td>\n",
       "      <td>5DB2</td>\n",
       "    </tr>\n",
       "    <tr>\n",
       "      <th>4811</th>\n",
       "      <td>1</td>\n",
       "      <td>5db2_A2A</td>\n",
       "      <td>1810</td>\n",
       "      <td>0.081</td>\n",
       "      <td>0.082</td>\n",
       "      <td>4.494</td>\n",
       "      <td>[221.04, 153.5, 260.95]</td>\n",
       "      <td>[-1.0, 0.0, 0.0, 0.0, 0.604, 0.797, 0.0, 0.797...</td>\n",
       "      <td>session1/filtered/5db2_A2A.cif</td>\n",
       "      <td>O00255</td>\n",
       "      <td>5DB2</td>\n",
       "    </tr>\n",
       "  </tbody>\n",
       "</table>\n",
       "<p>4812 rows × 11 columns</p>\n",
       "</div>"
      ],
      "text/plain": [
       "     powerfit_run_id              structure  rank     cc  fishz    relz  \\\n",
       "0                  1  AF-A1YPR0-F1-model_v4     1  0.280  0.288  11.087   \n",
       "1                  1  AF-A1YPR0-F1-model_v4     2  0.279  0.287  11.049   \n",
       "2                  1  AF-A1YPR0-F1-model_v4     3  0.275  0.282  10.870   \n",
       "3                  1  AF-A1YPR0-F1-model_v4     4  0.266  0.273  10.518   \n",
       "4                  1  AF-A1YPR0-F1-model_v4     5  0.265  0.272  10.484   \n",
       "...              ...                    ...   ...    ...    ...     ...   \n",
       "4807               1               5db2_A2A  1814  0.081  0.081   4.472   \n",
       "4808               1               5db2_A2A  1813  0.081  0.081   4.475   \n",
       "4809               1               5db2_A2A  1812  0.081  0.081   4.475   \n",
       "4810               1               5db2_A2A  1811  0.081  0.081   4.488   \n",
       "4811               1               5db2_A2A  1810  0.081  0.082   4.494   \n",
       "\n",
       "                   translation  \\\n",
       "0     [162.71, 132.01, 181.13]   \n",
       "1     [156.57, 156.57, 135.08]   \n",
       "2      [165.78, 153.5, 141.22]   \n",
       "3     [257.88, 270.16, 178.06]   \n",
       "4     [141.22, 159.64, 205.69]   \n",
       "...                        ...   \n",
       "4807  [233.32, 202.62, 159.64]   \n",
       "4808  [150.43, 168.85, 141.22]   \n",
       "4809   [125.87, 168.85, 214.9]   \n",
       "4810  [125.87, 162.71, 217.97]   \n",
       "4811   [221.04, 153.5, 260.95]   \n",
       "\n",
       "                                               rotation  \\\n",
       "0       [-1.0, 0.0, 0.0, 0.0, 1.0, 0.0, 0.0, 0.0, -1.0]   \n",
       "1     [-0.548, 0.184, 0.816, -0.548, -0.816, -0.184,...   \n",
       "2     [-0.632, 0.548, 0.548, -0.548, -0.816, 0.184, ...   \n",
       "3     [0.0, -0.797, -0.604, 0.0, -0.604, 0.797, -1.0...   \n",
       "4     [0.548, -0.816, -0.184, -0.548, -0.184, -0.816...   \n",
       "...                                                 ...   \n",
       "4807  [-0.548, -0.548, -0.632, 0.184, -0.816, 0.548,...   \n",
       "4808  [0.258, -0.362, 0.896, 0.362, 0.896, 0.258, -0...   \n",
       "4809  [-0.362, 0.258, 0.896, -0.258, 0.896, -0.362, ...   \n",
       "4810  [-0.632, 0.548, 0.548, 0.548, -0.184, 0.816, 0...   \n",
       "4811  [-1.0, 0.0, 0.0, 0.0, 0.604, 0.797, 0.0, 0.797...   \n",
       "\n",
       "                                         pdb_file uniprot_acc pdb_id  \n",
       "0     session1/filtered/AF-A1YPR0-F1-model_v4.cif      A1YPR0   None  \n",
       "1     session1/filtered/AF-A1YPR0-F1-model_v4.cif      A1YPR0   None  \n",
       "2     session1/filtered/AF-A1YPR0-F1-model_v4.cif      A1YPR0   None  \n",
       "3     session1/filtered/AF-A1YPR0-F1-model_v4.cif      A1YPR0   None  \n",
       "4     session1/filtered/AF-A1YPR0-F1-model_v4.cif      A1YPR0   None  \n",
       "...                                           ...         ...    ...  \n",
       "4807               session1/filtered/5db2_A2A.cif      O00255   5DB2  \n",
       "4808               session1/filtered/5db2_A2A.cif      O00255   5DB2  \n",
       "4809               session1/filtered/5db2_A2A.cif      O00255   5DB2  \n",
       "4810               session1/filtered/5db2_A2A.cif      O00255   5DB2  \n",
       "4811               session1/filtered/5db2_A2A.cif      O00255   5DB2  \n",
       "\n",
       "[4812 rows x 11 columns]"
      ]
     },
     "execution_count": 24,
     "metadata": {},
     "output_type": "execute_result"
    }
   ],
   "source": [
    "solutions"
   ]
  },
  {
   "cell_type": "markdown",
   "id": "633ebe4d",
   "metadata": {},
   "source": [
    "### Fit model to solution\n",
    "\n",
    "Rotate/translate the input model PDB files to the top 5 powerfit solutions."
   ]
  },
  {
   "cell_type": "code",
   "execution_count": 14,
   "id": "49978915",
   "metadata": {},
   "outputs": [],
   "source": [
    "from protein_detective.powerfit.workflow import powerfit_fit_models"
   ]
  },
  {
   "cell_type": "code",
   "execution_count": 15,
   "id": "d93c6a04",
   "metadata": {},
   "outputs": [
    {
     "name": "stderr",
     "output_type": "stream",
     "text": [
      "Writing fitted model PDB files: 100%|██████████| 5/5 [00:00<00:00, 90.13it/s]\n"
     ]
    },
    {
     "data": {
      "text/html": [
       "<div>\n",
       "<style scoped>\n",
       "    .dataframe tbody tr th:only-of-type {\n",
       "        vertical-align: middle;\n",
       "    }\n",
       "\n",
       "    .dataframe tbody tr th {\n",
       "        vertical-align: top;\n",
       "    }\n",
       "\n",
       "    .dataframe thead th {\n",
       "        text-align: right;\n",
       "    }\n",
       "</style>\n",
       "<table border=\"1\" class=\"dataframe\">\n",
       "  <thead>\n",
       "    <tr style=\"text-align: right;\">\n",
       "      <th></th>\n",
       "      <th>powerfit_run_id</th>\n",
       "      <th>structure</th>\n",
       "      <th>rank</th>\n",
       "      <th>fitted_model_file</th>\n",
       "      <th>unfitted_model_file</th>\n",
       "    </tr>\n",
       "    <tr>\n",
       "      <th>index</th>\n",
       "      <th></th>\n",
       "      <th></th>\n",
       "      <th></th>\n",
       "      <th></th>\n",
       "      <th></th>\n",
       "    </tr>\n",
       "  </thead>\n",
       "  <tbody>\n",
       "    <tr>\n",
       "      <th>0</th>\n",
       "      <td>1</td>\n",
       "      <td>AF-A1YPR0-F1-model_v4</td>\n",
       "      <td>1</td>\n",
       "      <td>session1/powerfit/1/AF-A1YPR0-F1-model_v4/fit_...</td>\n",
       "      <td>session1/filtered/AF-A1YPR0-F1-model_v4.cif</td>\n",
       "    </tr>\n",
       "    <tr>\n",
       "      <th>1</th>\n",
       "      <td>1</td>\n",
       "      <td>AF-A1YPR0-F1-model_v4</td>\n",
       "      <td>1</td>\n",
       "      <td>session1/powerfit/1/AF-A1YPR0-F1-model_v4/fit_...</td>\n",
       "      <td>session1/filtered/AF-A1YPR0-F1-model_v4.cif</td>\n",
       "    </tr>\n",
       "    <tr>\n",
       "      <th>2</th>\n",
       "      <td>1</td>\n",
       "      <td>AF-A1YPR0-F1-model_v4</td>\n",
       "      <td>1</td>\n",
       "      <td>session1/powerfit/1/AF-A1YPR0-F1-model_v4/fit_...</td>\n",
       "      <td>session1/filtered/AF-A1YPR0-F1-model_v4.cif</td>\n",
       "    </tr>\n",
       "    <tr>\n",
       "      <th>3</th>\n",
       "      <td>1</td>\n",
       "      <td>AF-A1YPR0-F1-model_v4</td>\n",
       "      <td>1</td>\n",
       "      <td>session1/powerfit/1/AF-A1YPR0-F1-model_v4/fit_...</td>\n",
       "      <td>session1/filtered/AF-A1YPR0-F1-model_v4.cif</td>\n",
       "    </tr>\n",
       "    <tr>\n",
       "      <th>4</th>\n",
       "      <td>1</td>\n",
       "      <td>AF-A1YPR0-F1-model_v4</td>\n",
       "      <td>1</td>\n",
       "      <td>session1/powerfit/1/AF-A1YPR0-F1-model_v4/fit_...</td>\n",
       "      <td>session1/filtered/AF-A1YPR0-F1-model_v4.cif</td>\n",
       "    </tr>\n",
       "  </tbody>\n",
       "</table>\n",
       "</div>"
      ],
      "text/plain": [
       "      powerfit_run_id              structure  rank  \\\n",
       "index                                                \n",
       "0                   1  AF-A1YPR0-F1-model_v4     1   \n",
       "1                   1  AF-A1YPR0-F1-model_v4     1   \n",
       "2                   1  AF-A1YPR0-F1-model_v4     1   \n",
       "3                   1  AF-A1YPR0-F1-model_v4     1   \n",
       "4                   1  AF-A1YPR0-F1-model_v4     1   \n",
       "\n",
       "                                       fitted_model_file  \\\n",
       "index                                                      \n",
       "0      session1/powerfit/1/AF-A1YPR0-F1-model_v4/fit_...   \n",
       "1      session1/powerfit/1/AF-A1YPR0-F1-model_v4/fit_...   \n",
       "2      session1/powerfit/1/AF-A1YPR0-F1-model_v4/fit_...   \n",
       "3      session1/powerfit/1/AF-A1YPR0-F1-model_v4/fit_...   \n",
       "4      session1/powerfit/1/AF-A1YPR0-F1-model_v4/fit_...   \n",
       "\n",
       "                               unfitted_model_file  \n",
       "index                                               \n",
       "0      session1/filtered/AF-A1YPR0-F1-model_v4.cif  \n",
       "1      session1/filtered/AF-A1YPR0-F1-model_v4.cif  \n",
       "2      session1/filtered/AF-A1YPR0-F1-model_v4.cif  \n",
       "3      session1/filtered/AF-A1YPR0-F1-model_v4.cif  \n",
       "4      session1/filtered/AF-A1YPR0-F1-model_v4.cif  "
      ]
     },
     "execution_count": 15,
     "metadata": {},
     "output_type": "execute_result"
    }
   ],
   "source": [
    "fitted = powerfit_fit_models(session_dir, top=5)\n",
    "fitted"
   ]
  },
  {
   "cell_type": "code",
   "execution_count": null,
   "id": "eadd22b3",
   "metadata": {},
   "outputs": [],
   "source": []
  }
 ],
 "metadata": {
  "kernelspec": {
   "display_name": "protein-detective",
   "language": "python",
   "name": "python3"
  },
  "language_info": {
   "codemirror_mode": {
    "name": "ipython",
    "version": 3
   },
   "file_extension": ".py",
   "mimetype": "text/x-python",
   "name": "python",
   "nbconvert_exporter": "python",
   "pygments_lexer": "ipython3",
   "version": "3.13.2"
  }
 },
 "nbformat": 4,
 "nbformat_minor": 5
}
