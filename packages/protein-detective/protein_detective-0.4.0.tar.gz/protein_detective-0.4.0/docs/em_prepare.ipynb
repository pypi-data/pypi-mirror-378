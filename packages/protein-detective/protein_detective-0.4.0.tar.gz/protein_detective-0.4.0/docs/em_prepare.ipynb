{
 "cells": [
  {
   "cell_type": "markdown",
   "id": "31305582",
   "metadata": {},
   "source": [
    "# Prepare Electron Microscopy Data\n",
    "\n",
    "The powerfit program requires a EM density of a unknown structure where it can fit structures into.\n",
    "\n",
    "Most of the the entries on EMDB contains multiple structures, so we want to pretent that we do not know one of structures.\n",
    "\n",
    "For this example we will use [EMD-33292](https://www.ebi.ac.uk/emdb/EMD-33292), a sodium channel, with fitted model [7xm9](https://www.ebi.ac.uk/pdbe/entry/pdb/7xm9).\n",
    "\n",
    "The fitted model consist of following chains:\n",
    "- A: Isoform 3 of Sodium channel protein type 9 subunit alpha\n",
    "- B: Sodium channel subunit beta-1\n",
    "- C: Sodium channel subunit beta-2\n",
    "\n",
    "We will use the B chain, the sodium channel subunit beta-1, as the unknown structure."
   ]
  },
  {
   "cell_type": "markdown",
   "id": "8f8759da",
   "metadata": {},
   "source": [
    "Lets start by downloading the density map and the fitted model."
   ]
  },
  {
   "cell_type": "code",
   "execution_count": 1,
   "id": "b0cc778c",
   "metadata": {},
   "outputs": [
    {
     "name": "stdout",
     "output_type": "stream",
     "text": [
      "--2025-07-10 15:24:27--  https://ftp.ebi.ac.uk/pub/databases/emdb/structures/EMD-33292/map/emd_33292.map.gz\n",
      "Resolving ftp.ebi.ac.uk (ftp.ebi.ac.uk)... 193.62.193.165\n",
      "Connecting to ftp.ebi.ac.uk (ftp.ebi.ac.uk)|193.62.193.165|:443... connected.\n",
      "HTTP request sent, awaiting response... 200 OK\n",
      "Length: 62515467 (60M) [application/x-gzip]\n",
      "Saving to: ‘emd_33292.map.gz’\n",
      "\n",
      "emd_33292.map.gz    100%[===================>]  59.62M  75.4MB/s    in 0.8s    \n",
      "\n",
      "2025-07-10 15:24:28 (75.4 MB/s) - ‘emd_33292.map.gz’ saved [62515467/62515467]\n",
      "\n",
      "File ‘7xm9.cif’ already there; not retrieving.\n",
      "\n"
     ]
    }
   ],
   "source": [
    "!wget -nc https://ftp.ebi.ac.uk/pub/databases/emdb/structures/EMD-33292/map/emd_33292.map.gz\n",
    "!gunzip -kf emd_33292.map.gz\n",
    "!wget -nc https://www.ebi.ac.uk/pdbe/entry-files/download/7xm9.cif"
   ]
  },
  {
   "cell_type": "markdown",
   "id": "54715a10",
   "metadata": {},
   "source": [
    "## Prepare density using Chimerax\n",
    "\n",
    "Let us use [ChimeraX](https://www.rbvi.ucsf.edu/chimerax/) to prepare the EM density.\n",
    "\n",
    "\n",
    "Write a ChimeraX command script (.cxc) to mask everything but the B chain in the denstiy map from EMDB."
   ]
  },
  {
   "cell_type": "code",
   "execution_count": null,
   "id": "7fb27b941602401d91542211134fc71a",
   "metadata": {},
   "outputs": [
    {
     "data": {
      "text/plain": [
       "148"
      ]
     },
     "execution_count": 3,
     "metadata": {},
     "output_type": "execute_result"
    }
   ],
   "source": [
    "from pathlib import Path\n",
    "\n",
    "in_density = Path(\"emd_33292.map\")\n",
    "pdb = Path(\"7xm9.cif\")\n",
    "unknown_chain = \"B\"\n",
    "resolution = 3.48\n",
    "masked_density = Path(f\"{in_density.stem}-{pdb.stem}-{unknown_chain}-{resolution}.mrc\")\n",
    "script = masked_density.with_suffix(\".cxc\")\n",
    "script.write_text(f\"\"\"\\\n",
    "open {in_density};\n",
    "open {pdb};\n",
    "delete #2/{unknown_chain};\n",
    "molmap #2 {resolution};\n",
    "volume mask #1 surfaces #3 invertMask true;\n",
    "save {masked_density} #4;\n",
    "exit\n",
    "\"\"\")"
   ]
  },
  {
   "cell_type": "code",
   "execution_count": 2,
   "id": "d0e6311d",
   "metadata": {},
   "outputs": [
    {
     "data": {
      "text/plain": [
       "146"
      ]
     },
     "execution_count": 2,
     "metadata": {},
     "output_type": "execute_result"
    }
   ],
   "source": [
    "# Because sodium channel is in the membrane the EM density has a donut of small density around the protein.\n",
    "# This make fitting slow, because powerfit has to try to fit the template in the membrane density as well.\n",
    "# We can cheat by taking just density of chain B with a bit of padding around it.\n",
    "# This works when you want to try powerfit on a fitted model, but if you do not know the structure you want to fit, you can not do this.\n",
    "from pathlib import Path\n",
    "\n",
    "in_density = Path(\"emd_33292.map\")\n",
    "pdb = Path(\"7xm9.cif\")\n",
    "unknown_chain = \"B\"\n",
    "resolution = 3.48\n",
    "masked_density = Path(f\"{in_density.stem}-{pdb.stem}-{unknown_chain}-{resolution}.cheated.mrc\")\n",
    "\n",
    "script = masked_density.with_suffix(\".cxc\")\n",
    "script.write_text(f\"\"\"\\\n",
    "open {in_density};\n",
    "open {pdb};\n",
    "molmap #2/{unknown_chain} {resolution} balls true;\n",
    "volume mask #1 surfaces #3 pad 4;\n",
    "save {masked_density} #4;\n",
    "exit\n",
    "\"\"\")"
   ]
  },
  {
   "cell_type": "code",
   "execution_count": 3,
   "id": "12f0bce7",
   "metadata": {},
   "outputs": [
    {
     "name": "stdout",
     "output_type": "stream",
     "text": [
      "\u001b[32mavailable bundle cache has not been initialized yet\n",
      "\u001b[37m\u001b[32mExecuting: runscript emd_33292-7xm9-B-3.48.cheated.cxc\n",
      "\u001b[37m\u001b[32mExecuting: open emd_33292.map\n",
      "\u001b[37m\u001b[35mComputing emd_33292.map surface, level 0.293\u001b[37m\n",
      "\u001b[35mCalculated emd_33292.map surface, level 0.293, with 805008 triangles\u001b[37m\n",
      "\u001b[32mOpened emd_33292.map as #1, grid size 256,256,256, pixel 1.04, shown at level 0.293, step 1, values float32\n",
      "\u001b[37m\u001b[32mExecuting: open 7xm9.cif\n",
      "\u001b[37m\u001b[35mFetching CCD 6OU, 0.0195 of 0.0195 Mbytes received\u001b[37m\n",
      "\u001b[35mFetching CCD G2E, 0.00888 of 0.00888 Mbytes received\u001b[37m\n",
      "\u001b[35mFetching CCD NAG, 0.0108 of 0.0108 Mbytes received\u001b[37m\n",
      "\u001b[32mSummary of feedback from opening 7xm9.cif  \n",
      "---  \n",
      "_notes_ | Fetching CCD 6OU from https://files.wwpdb.org/pub/pdb/refdata/chem_comp/U/6OU/6OU.cif  \n",
      "Fetching CCD G2E from\n",
      "https://files.wwpdb.org/pub/pdb/refdata/chem_comp/E/G2E/G2E.cif  \n",
      "Fetching CCD NAG from\n",
      "https://files.wwpdb.org/pub/pdb/refdata/chem_comp/G/NAG/NAG.cif  \n",
      "  \n",
      "\n",
      "\u001b[37m\u001b[32m_7xm9.cif_ title:  \n",
      "**Cryo-EM structure of human NaV1.7/beta1/beta2-XEN907**\n",
      "[[more info...]](cxcmd:log metadata #2)  \n",
      "  \n",
      "\n",
      "\u001b[37m\u001b[32mChain information for 7xm9.cif #2  \n",
      "---  \n",
      "Chain | Description | UniProt  \n",
      "[A](cxcmd:select /A:7-1769 \"Select chain\") | [Isoform 3 of Sodium channel protein type 9 subunit alpha,Green fluorescent protein](cxcmd:sequence chain #2/A \"Show sequence\") | [SCN9A_HUMAN](cxcmd:open Q15858 from uniprot associate #2/A \"Show annotations\") [1-1988](cxcmd:select #2/A:1-1988 \"Select sequence\")  \n",
      "[B](cxcmd:select /B:20-192 \"Select chain\") | [Sodium channel subunit beta-1,Green fluorescent protein](cxcmd:sequence chain #2/B \"Show sequence\") | [SCN1B_HUMAN](cxcmd:open Q07699 from uniprot associate #2/B \"Show annotations\") [1-218](cxcmd:select #2/B:1-218 \"Select sequence\")  \n",
      "[C](cxcmd:select /C:29-148 \"Select chain\") | [Sodium channel subunit beta-2](cxcmd:sequence chain #2/C \"Show sequence\") | [SCN2B_HUMAN](cxcmd:open O60939 from uniprot associate #2/C \"Show annotations\") [1-215](cxcmd:select #2/C:1-215 \"Select sequence\")  \n",
      "  \n",
      "\n",
      "\u001b[37m\u001b[32mNon-standard residues in 7xm9.cif #2  \n",
      "---  \n",
      "[6OU](cxcmd:sel :6OU \"select residue\") —\n",
      "[[(2~{R})-1-[2-azanylethoxy(oxidanyl)phosphoryl]oxy-3-hexadecanoyloxy-\n",
      "propan-2-yl] (~{Z})-octadec-9-enoate](http://www.rcsb.org/ligand/6OU \"show\n",
      "residue info\")  \n",
      "[G2E](cxcmd:sel :G2E \"select residue\") —\n",
      "[(7~{R})-1'-pentylspiro[6~{H}-furo[3,2-f][1,3]benzodioxole-7,3'-indole]-2'-one](http://www.rcsb.org/ligand/G2E\n",
      "\"show residue info\")  \n",
      "[NAG](cxcmd:sel :NAG \"select residue\") — [2-acetamido-2-deoxy-beta-D-\n",
      "glucopyranose](http://www.rcsb.org/ligand/NAG \"show residue info\") (N-acetyl-\n",
      "beta-D-glucosamine; 2-acetamido-2-deoxy-beta-D-glucose; 2-acetamido-2-deoxy-D-\n",
      "glucose; 2-acetamido-2-deoxy-glucose; N-ACETYL-D-GLUCOSAMINE)  \n",
      "  \n",
      "\n",
      "\u001b[37m\u001b[32mExecuting: molmap #2/B 3.48 balls true\n",
      "\u001b[37m\u001b[32mOpened 7xm9.cif map 3.48 as #3, grid size 61,70,94, pixel 1.16, shown at level 0.636, step 1, values float32\n",
      "\u001b[37m\u001b[32mExecuting: volume mask #1 surfaces #3 pad 4\n",
      "\u001b[37m\u001b[32mOpened emd_33292.map masked as #4, grid size 61,71,99, pixel 1.04, shown at step 1, values float32\n",
      "\u001b[37m\u001b[32mExecuting: save emd_33292-7xm9-B-3.48.cheated.mrc #4\n",
      "\u001b[37m\u001b[35mWrote file emd_33292-7xm9-B-3.48.cheated.mrc\u001b[37m\n",
      "\u001b[32mExecuting: exit\n",
      "\u001b[37m\u001b[35mExiting ...\u001b[37m\n",
      "\u001b[0m"
     ]
    }
   ],
   "source": [
    "!chimerax --nogui --script $script"
   ]
  },
  {
   "cell_type": "code",
   "execution_count": 12,
   "id": "48d87c55",
   "metadata": {},
   "outputs": [],
   "source": [
    "# Clean after ourselves\n",
    "script.unlink()"
   ]
  },
  {
   "cell_type": "code",
   "execution_count": 4,
   "id": "7239ff3c",
   "metadata": {},
   "outputs": [
    {
     "data": {
      "text/plain": [
       "(PosixPath('emd_33292-7xm9-B-3.48.cheated.mrc'), PosixPath('7xm9.cif'))"
      ]
     },
     "execution_count": 4,
     "metadata": {},
     "output_type": "execute_result"
    }
   ],
   "source": [
    "masked_density, pdb"
   ]
  },
  {
   "cell_type": "markdown",
   "id": "800c3323",
   "metadata": {},
   "source": [
    "Open the `masked_density` file in a viewer to verify that densities of chain A and C from `pdb` file have been removed."
   ]
  },
  {
   "cell_type": "markdown",
   "id": "f0166e9f",
   "metadata": {},
   "source": [
    "To check that the created density can be used by powerfit we can run powerfit with it.\n",
    "\n",
    "## Create a re-oriented template structure\n",
    "\n",
    "We could just fit chain B from 7xm9.cif, but as it is already in the correct position and orientation this feels a bit like cheating.\n",
    "we can make a new template structure that has incorrect position and orientation.\n",
    "\n",
    "Let us use the [atomium](https://atomium.bio/) to apply a rotation and translation to the B chain of 7xm9.cif.\n"
   ]
  },
  {
   "cell_type": "code",
   "execution_count": null,
   "id": "82f615ba",
   "metadata": {},
   "outputs": [],
   "source": [
    "from typing import cast\n",
    "\n",
    "import atomium\n",
    "import atomium.data\n",
    "\n",
    "p = cast(\"atomium.data.File\", atomium.open(str(pdb)))\n",
    "m = cast(\"atomium.Model\", p.model)\n",
    "chains = cast(\"set[atomium.Chain]\", m.chains())\n",
    "chain = cast(\"atomium.Chain\", [c for c in list(chains) if c.id == unknown_chain])\n",
    "chain.rotate(0.5, \"x\")\n",
    "chain.rotate(0.1, \"y\")\n",
    "chain.rotate(0.2, \"z\")\n",
    "chain.translate(40, 50, 60)\n",
    "template = pdb.with_suffix(\".B-reoriented.pdb\")\n",
    "chain.save(str(template))"
   ]
  },
  {
   "cell_type": "markdown",
   "id": "1ce731b9",
   "metadata": {},
   "source": [
    "## Fit with powerfit"
   ]
  },
  {
   "cell_type": "code",
   "execution_count": 6,
   "id": "a68da9f2",
   "metadata": {},
   "outputs": [],
   "source": [
    "powerfit_result_dir = Path(f\"powerfit-{masked_density.stem}\")"
   ]
  },
  {
   "cell_type": "code",
   "execution_count": 9,
   "id": "a86aa508",
   "metadata": {},
   "outputs": [
    {
     "name": "stdout",
     "output_type": "stream",
     "text": [
      "Target file read from:                                                          \n",
      "\u001b[35m/home/stefanv/git/protein-detective/protein-detective/docs/\u001b[0m\u001b[95memd_33292-7xm9-B-3.48\u001b[0m\n",
      "\u001b[95m.cheated.mrc\u001b[0m                                                                    \n",
      "Target resolution: \u001b[1;36m3.48\u001b[0m                                                         \n",
      "Initial shape of density: \u001b[1;36m99\u001b[0m \u001b[1;36m71\u001b[0m \u001b[1;36m61\u001b[0m                                              \n",
      "Shape after trimming: \u001b[1;36m94\u001b[0m \u001b[1;36m71\u001b[0m \u001b[1;36m59\u001b[0m                                                  \n",
      "Shape after extending: \u001b[1;36m96\u001b[0m \u001b[1;36m72\u001b[0m \u001b[1;36m60\u001b[0m                                                 \n",
      "Template file read from:                                                        \n",
      "\u001b[35m/home/stefanv/git/protein-detective/protein-detective/docs/\u001b[0m\u001b[95m7xm9.B-reoriented.pdb\u001b[0m\n",
      "Reading in rotations.                                                           \n",
      "Requested rotational sampling density: \u001b[1;36m10.00\u001b[0m                                    \n",
      "Real rotational sampling density: \u001b[1;36m9.72\u001b[0m                                          \n",
      "Requested number of processors: \u001b[1;36m1\u001b[0m                                               \n",
      "Starting search                                                                 \n",
      "\u001b[2KProcessing rotations\u001b[35m 100%\u001b[0m \u001b[90m━━━━━━━━━━\u001b[0m \u001b[32m7,416/7,4…\u001b[0m [ \u001b[33m0:01:47\u001b[0m < \u001b[36m0:00:00\u001b[0m , \u001b[31m68 rot/s\u001b[0m ]t/s\u001b[0m ]t/s\u001b[0m ]\n",
      "\u001b[?25hTime for search: 1m 57s                                                         \n",
      "Analyzing results                                                               \n",
      "Writing solutions to file.                                                      \n",
      "Writing PDBs to file.                                                           \n",
      "Total time: 1m 57s                                                              \n"
     ]
    }
   ],
   "source": [
    "!powerfit $masked_density $resolution $template -d $powerfit_result_dir --laplace --delimiter , -p 1"
   ]
  },
  {
   "cell_type": "code",
   "execution_count": 10,
   "id": "ca1e58c1",
   "metadata": {},
   "outputs": [],
   "source": [
    "powerfit_results = powerfit_result_dir / \"solutions.out\""
   ]
  },
  {
   "cell_type": "code",
   "execution_count": 11,
   "id": "391888b3",
   "metadata": {},
   "outputs": [
    {
     "name": "stdout",
     "output_type": "stream",
     "text": [
      "rank,cc,Fish-z,rel-z,x,y,z,a11,a12,a13,a21,a22,a23,a31,a32,a33\n",
      "1,0.228,0.232,15.399,123.760,101.920,169.520,0.978,0.176,-0.109,-0.109,0.886,0.450,0.176,-0.429,0.886\n"
     ]
    }
   ],
   "source": [
    "!head $powerfit_results"
   ]
  },
  {
   "cell_type": "markdown",
   "id": "62154e13",
   "metadata": {},
   "source": [
    "# Visualize fit\n",
    "\n",
    "![Mol* screenshot of best fit and masked density, optimized using https://squoosh.app/](./em-prepare.jpg)"
   ]
  },
  {
   "cell_type": "code",
   "execution_count": null,
   "id": "86f137be",
   "metadata": {},
   "outputs": [],
   "source": [
    "# To visualize interactively run this cell\n",
    "from protein_detective.visualization import show_structure_and_density\n",
    "\n",
    "best_fit = powerfit_result_dir / \"fit_1.pdb\"\n",
    "show_structure_and_density(best_fit, masked_density)"
   ]
  }
 ],
 "metadata": {
  "kernelspec": {
   "display_name": "protein-detective",
   "language": "python",
   "name": "python3"
  },
  "language_info": {
   "codemirror_mode": {
    "name": "ipython",
    "version": 3
   },
   "file_extension": ".py",
   "mimetype": "text/x-python",
   "name": "python",
   "nbconvert_exporter": "python",
   "pygments_lexer": "ipython3",
   "version": "3.13.2"
  }
 },
 "nbformat": 4,
 "nbformat_minor": 5
}
