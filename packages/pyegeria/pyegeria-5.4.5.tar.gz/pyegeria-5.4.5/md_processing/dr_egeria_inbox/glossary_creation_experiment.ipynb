{
 "cells": [
  {
   "cell_type": "markdown",
   "id": "f211c1736f87555",
   "metadata": {},
   "source": [
    "# This notebook contains experimental Freddie commands\n",
    "## Lets see if this is parsed\n",
    "meow"
   ]
  },
  {
   "metadata": {
    "ExecuteTime": {
     "end_time": "2025-03-06T01:43:38.278089Z",
     "start_time": "2025-03-06T01:43:38.276538Z"
    }
   },
   "cell_type": "code",
   "source": "",
   "id": "2716f0b6c001136a",
   "outputs": [],
   "execution_count": null
  },
  {
   "cell_type": "markdown",
   "id": "3b321563-4977-496a-963b-9b9dd75de968",
   "metadata": {},
   "source": [
    "# Create Glossary\n",
    "## Glossary Name\n",
    "\n",
    "Egeria-Markdown\n",
    "\n",
    "## Language\n",
    "English\n",
    "\n",
    "## Description\n",
    "\n",
    "Glossary to describe the vocabulary of Freddie - an Egeria Markdown language to support the exchange of metadata in a Markdown form.\n",
    "Freddie allows users to input metadata using any text entry system that supports the entry of standard Markdown characters and through post-processing\n",
    "commands, validates the Egeria content and allows the requests to be sent to Egeria. This is an update\n",
    "\n",
    "\n",
    "## Usage\n",
    "1) (optional) load an example or template for the type of object from Egeria.\n",
    "2) Create a new document (perhaps from the template) and edit it, adding in the content with the Freddie controlled Markdown language.\n",
    "3) Process the document to validate and display it before you submit it, Validation may annotate your document with recommendations and potential issues.\n",
    "4) Submit the document to Egeria using the Freddie_sings command.\n",
    "5) anything?\n",
    "\n",
    "## <Qualified Name>\n",
    "\n",
    "\n",
    "## <GUID>\n",
    "\n"
   ]
  },
  {
   "cell_type": "code",
   "id": "a7295df2-5afb-46ba-889a-94881d883678",
   "metadata": {
    "execution": {
     "iopub.execute_input": "2025-02-27T15:23:58.820592Z",
     "iopub.status.busy": "2025-02-27T15:23:58.820416Z",
     "iopub.status.idle": "2025-02-27T15:24:00.802861Z",
     "shell.execute_reply": "2025-02-27T15:24:00.802425Z",
     "shell.execute_reply.started": "2025-02-27T15:23:58.820583Z"
    },
    "ExecuteTime": {
     "end_time": "2025-03-06T01:43:44.148760Z",
     "start_time": "2025-03-06T01:43:42.291143Z"
    }
   },
   "source": [
    "%pip install jupyter-notebook-parser\n",
    "%pip install marko"
   ],
   "outputs": [
    {
     "name": "stdout",
     "output_type": "stream",
     "text": [
      "Requirement already satisfied: jupyter-notebook-parser in /Users/dwolfson/Library/Caches/pypoetry/virtualenvs/pyegeria-EE3A6T0J-py3.12/lib/python3.12/site-packages (0.1.4)\r\n",
      "Note: you may need to restart the kernel to use updated packages.\n",
      "Collecting marko\r\n",
      "  Downloading marko-2.1.2-py3-none-any.whl.metadata (4.5 kB)\r\n",
      "Downloading marko-2.1.2-py3-none-any.whl (42 kB)\r\n",
      "Installing collected packages: marko\r\n",
      "Successfully installed marko-2.1.2\r\n",
      "Note: you may need to restart the kernel to use updated packages.\n"
     ]
    }
   ],
   "execution_count": 1
  },
  {
   "cell_type": "code",
   "id": "d02383df-f617-48f7-be54-e930b6275a7e",
   "metadata": {
    "execution": {
     "iopub.execute_input": "2025-02-27T15:25:33.155175Z",
     "iopub.status.busy": "2025-02-27T15:25:33.154695Z",
     "iopub.status.idle": "2025-02-27T15:25:33.162801Z",
     "shell.execute_reply": "2025-02-27T15:25:33.162362Z",
     "shell.execute_reply.started": "2025-02-27T15:25:33.155158Z"
    },
    "ExecuteTime": {
     "end_time": "2025-03-06T01:44:09.244223Z",
     "start_time": "2025-03-06T01:44:09.242117Z"
    }
   },
   "source": [
    "import json\n",
    "import marko\n",
    "from jupyter_notebook_parser import JupyterNotebookParser"
   ],
   "outputs": [],
   "execution_count": 3
  },
  {
   "cell_type": "code",
   "id": "b5560fcd-afe4-4133-8204-8f2535feb9b6",
   "metadata": {
    "execution": {
     "iopub.execute_input": "2025-02-27T15:25:34.354443Z",
     "iopub.status.busy": "2025-02-27T15:25:34.354300Z",
     "iopub.status.idle": "2025-02-27T15:25:34.358702Z",
     "shell.execute_reply": "2025-02-27T15:25:34.358236Z",
     "shell.execute_reply.started": "2025-02-27T15:25:34.354435Z"
    },
    "ExecuteTime": {
     "end_time": "2025-03-06T01:44:10.183573Z",
     "start_time": "2025-03-06T01:44:10.180327Z"
    }
   },
   "source": [
    "parsed = JupyterNotebookParser('glossary_creation_experiment.ipynb')\n",
    "\n",
    "parsed.get_all_cells()  # returns List[Dict], each Dict is a notebook cell\n",
    "\n",
    "cells = parsed.get_markdown_cells()  # returns List[Dict], each Dict is a markdown cel\n",
    "indices = parsed.get_markdown_cell_indices()  # returns List[int], each is a markdown cell's index\n",
    "cell_sources = parsed.get_markdown_cell_sources()  # returns List[str], each is a markdown cell's text\n",
    "print(json.dumps(cell_sources, indent = 4))"
   ],
   "outputs": [
    {
     "name": "stdout",
     "output_type": "stream",
     "text": [
      "[\n",
      "    \"# This notebook contains experimental Freddie commands\\n## Lets see if this is parsed\\nmeow\",\n",
      "    \"# Update Glossary\\n## Glossary Name\\n\\nEgeria-Markdown\\n\\n## Language\\nEnglish\\n\\n## Description\\n\\nGlossary to describe the vocabulary of Freddie - an Egeria Markdown language to support the exchange of metadata in a Markdown form.\\nFreddie allows users to input metadata using any text entry system that supports the entry of standard Markdown characters and through post-processing\\ncommands, validates the Egeria content and allows the requests to be sent to Egeria. This is an update\\n\\n\\n## Usage\\n1) (optional) load an example or template for the type of object from Egeria.\\n2) Create a new document (perhaps from the template) and edit it, adding in the content with the Freddie controlled Markdown language.\\n3) Process the document to validate and display it before you submit it, Validation may annotate your document with recommendations and potential issues.\\n4) Submit the document to Egeria using the Freddie_sings command.\\n5) anything?\\n\\n## <Qualified Name>\\n\\n## <GUID>\\n\\n\",\n",
      "    \"# Create Term\\n\\n## Glossary Name\\n\\nEgeria-Markdown\\n\\n## Term Name\\n\\nCommand\\n\\n## Summary\\n\\nCommands are how a user of the Freddie markdown language requests an action.\\n## Description\\n\\nCommands are how a user can request Egeria to take an action such as Create or Update an Egeria element. Freddie provides\\na limited (but growing) set of commands. Freddie commands align with the pyegeria 'hey-egeria' command line interface.\\n\\n## Abbreviation\\n\\n## Examples\\nCreate Glossary or\\nUpdate Glossary or\\nCreate Term or\\nUpdate Term\\n## Usage\\n\\nCommands are used in the Freddie Egeria markdown language.\\n## Version\\n0.2\\n## Status\\nDRAFT\\n\\n## Qualified Name\\n\\nGlossaryTerm:Command:20250301101716\\n\\n\",\n",
      "    \"# Create Term\\n\\n## Glossary Name\\n\\nEgeria-Markdown\\n\\n## Term Name\\n\\nSource\\n\\n## Summary\\n\\nSource of the markdown content.\\n## Description\\n\\nSource of the markdown content - could be jupter or plain markdown file.\\n\\n## Abbreviation\\n\\n## Examples\\n\\n## Usage\\n\\n\\n## Version\\n0.1\\n## Status\\nDRAFT\\n\\n## Update Description\\n\\n\",\n",
      "    \"# Create Glossary\\n## Glossary Name\\n\\nAnother Test\\n\\n## Language\\nEnglish\\n\\n## Description\\n\\nAnother quick test\\n\\n## Usage\\nAlternate sundays\\n\\n## <Qualified Name>\\n\\n## <GUID>\"\n",
      "]\n"
     ]
    }
   ],
   "execution_count": 4
  },
  {
   "cell_type": "code",
   "id": "79dffa96-7e2a-40e3-a0d7-ba363d87b70c",
   "metadata": {
    "execution": {
     "iopub.execute_input": "2025-02-27T15:42:47.354237Z",
     "iopub.status.busy": "2025-02-27T15:42:47.353238Z",
     "iopub.status.idle": "2025-02-27T15:42:47.360634Z",
     "shell.execute_reply": "2025-02-27T15:42:47.360090Z",
     "shell.execute_reply.started": "2025-02-27T15:42:47.354193Z"
    },
    "ExecuteTime": {
     "end_time": "2025-03-06T01:44:13.510939Z",
     "start_time": "2025-03-06T01:44:13.507934Z"
    }
   },
   "source": [
    "parsed_markdown = marko.parse(cell_sources[0])\n",
    "print(type(parsed_markdown))"
   ],
   "outputs": [
    {
     "name": "stdout",
     "output_type": "stream",
     "text": [
      "<class 'marko.block.Document'>\n"
     ]
    }
   ],
   "execution_count": 5
  },
  {
   "cell_type": "code",
   "execution_count": null,
   "id": "e967897d83588f86",
   "metadata": {},
   "outputs": [],
   "source": []
  },
  {
   "metadata": {},
   "cell_type": "markdown",
   "source": [
    "# Create Term\n",
    "\n",
    "## Glossary Name\n",
    "\n",
    "Egeria-Markdown\n",
    "\n",
    "## Term Name\n",
    "\n",
    "Command\n",
    "\n",
    "## Summary\n",
    "\n",
    "Commands are how a user of the Freddie markdown language requests an action.\n",
    "## Description\n",
    "\n",
    "Commands are how a user can request Egeria to take an action such as Create or Update an Egeria element. Freddie provides\n",
    "a limited (but growing) set of commands. Freddie commands align with the pyegeria 'hey-egeria' command line interface.\n",
    "\n",
    "## Abbreviation\n",
    "\n",
    "## Examples\n",
    "Create Glossary or\n",
    "Update Glossary or\n",
    "Create Term or\n",
    "Update Term\n",
    "## Usage\n",
    "\n",
    "Commands are used in the Freddie Egeria markdown language.\n",
    "## Version\n",
    "0.2\n",
    "## Status\n",
    "DRAFT\n",
    "\n",
    "## Qualified Name\n",
    "\n",
    "GlossaryTerm:Command:20250301101716\n",
    "\n"
   ],
   "id": "12bee9ed12b3762a"
  },
  {
   "metadata": {},
   "cell_type": "markdown",
   "source": [
    "# Create Term\n",
    "\n",
    "## Glossary Name\n",
    "\n",
    "Egeria-Markdown\n",
    "\n",
    "## Term Name\n",
    "\n",
    "Source\n",
    "\n",
    "## Summary\n",
    "\n",
    "Source of the markdown content.\n",
    "## Description\n",
    "\n",
    "Source of the markdown content - could be jupter or plain markdown file.\n",
    "\n",
    "## Abbreviation\n",
    "\n",
    "## Examples\n",
    "\n",
    "## Usage\n",
    "\n",
    "\n",
    "## Version\n",
    "0.1\n",
    "## Status\n",
    "DRAFT\n",
    "\n",
    "## Update Description\n",
    "\n"
   ],
   "id": "d2eafeb21facfe57"
  },
  {
   "cell_type": "markdown",
   "id": "ed29f0e5d46a7c20",
   "metadata": {},
   "source": [
    "# Update Glossary\n",
    "## Glossary Name\n",
    "\n",
    "Another Test\n",
    "\n",
    "## Language\n",
    "English\n",
    "\n",
    "## Description\n",
    "\n",
    "Another quick test - more description\n",
    "\n",
    "## Usage\n",
    "Alternate sundays\n",
    "\n",
    "## <Qualified Name>\n",
    "\n",
    "## <GUID>"
   ]
  },
  {
   "cell_type": "code",
   "execution_count": null,
   "id": "e36a5074b9a94c1a",
   "metadata": {},
   "outputs": [],
   "source": []
  }
 ],
 "metadata": {
  "kernelspec": {
   "display_name": "Python 3 (ipykernel)",
   "language": "python",
   "name": "python3"
  },
  "language_info": {
   "codemirror_mode": {
    "name": "ipython",
    "version": 3
   },
   "file_extension": ".py",
   "mimetype": "text/x-python",
   "name": "python",
   "nbconvert_exporter": "python",
   "pygments_lexer": "ipython3",
   "version": "3.12.9"
  }
 },
 "nbformat": 4,
 "nbformat_minor": 5
}
