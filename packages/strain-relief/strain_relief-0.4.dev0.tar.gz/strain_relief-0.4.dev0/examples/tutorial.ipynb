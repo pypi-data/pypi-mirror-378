{
 "cells": [
  {
   "cell_type": "code",
   "execution_count": null,
   "metadata": {},
   "outputs": [],
   "source": [
    "from hydra import compose, initialize\n",
    "from omegaconf import OmegaConf\n",
    "from rdkit import Chem\n",
    "from rdkit.Chem import rdDetermineBonds\n",
    "from rdkit.Chem.Draw import IPythonConsole\n",
    "IPythonConsole.ipython_3d = True\n",
    "import pandas as pd\n",
    "\n",
    "from strain_relief.cmdline import strain_relief as sr"
   ]
  },
  {
   "cell_type": "code",
   "execution_count": null,
   "metadata": {},
   "outputs": [],
   "source": [
    "! pip install py3Dmol\n",
    "import py3Dmol"
   ]
  },
  {
   "cell_type": "markdown",
   "metadata": {},
   "source": [
    "To run the StrainReleif tool you will need your docked poses in a parquet file. The parquet must contain two columns: your molecule's poses as RDKit.Mol binary strings and a unique ID for each pose.\n",
    "\n",
    "You likely don't have your poses in this format to begin with so below is a handy function that converts sdfs to this format."
   ]
  },
  {
   "cell_type": "code",
   "execution_count": null,
   "metadata": {},
   "outputs": [],
   "source": [
    "def sdf_to_parquet(sdf_file, parquet_file):\n",
    "    suppl = Chem.SDMolSupplier(sdf_file, sanitize=False, removeHs=False)\n",
    "    mols = [mol for mol in suppl if mol is not None]\n",
    "    \n",
    "    df = pd.DataFrame([{\"mol_bytes\": mol.ToBinary(), **mol.GetPropsAsDict()} for mol in mols])\n",
    "    df = df.reset_index(drop=False, names='id')\n",
    "    df.to_parquet(parquet_file)\n",
    "\n",
    "sdf_path = '../data/example_ligboundconf.sdf'\n",
    "parquet_path = '../data/example_ligboundconf_input.parquet'\n",
    "\n",
    "sdf_to_parquet(sdf_path, parquet_path)"
   ]
  },
  {
   "cell_type": "markdown",
   "metadata": {},
   "source": [
    "Now that we have our poses in the correct format, lets create a hydra config for StrainRelief."
   ]
  },
  {
   "cell_type": "code",
   "execution_count": null,
   "metadata": {},
   "outputs": [],
   "source": [
    "with initialize(version_base=\"1.1\", config_path=\"../src/strain_relief/hydra_config\"):\n",
    "    cfg = compose(\n",
    "        config_name=\"default\", \n",
    "        overrides=[\n",
    "            \"experiment=mmff94s\",\n",
    "            f\"io.input.parquet_path={parquet_path}\"\n",
    "            ]\n",
    "        )\n",
    "\n",
    "print(OmegaConf.to_yaml(cfg))"
   ]
  },
  {
   "cell_type": "markdown",
   "metadata": {},
   "source": [
    "Now we can run the tool! (This should take less than a minute)\n",
    "\n",
    "(There are more example scripts in `StrainRelief/examples/`. These can be executed from the command line using the `strain-relief` command or replicate them in the cell above with hydra.)"
   ]
  },
  {
   "cell_type": "code",
   "execution_count": null,
   "metadata": {},
   "outputs": [],
   "source": [
    "results = sr(cfg)\n",
    "results.head()"
   ]
  },
  {
   "cell_type": "markdown",
   "metadata": {},
   "source": [
    "The `results` dataframe contains all input columns (in this case `id`, `ligand_id`, `some_property` and `mol_bytes`) and all calculated columns:\n",
    "- `charge`: RDKit's formal charge. StrainRelief only calculates strains of neutral molecules\n",
    "- `local_min_mol`: the coordinates of the local minimum\n",
    "- `local_min_e`: the energy of the local minimum (in kcal/mol)\n",
    "- `global_min_mol`: the coordinates of the global minimum\n",
    "- `global_min_e`: the energy of the global minimum (in kcal/mol)\n",
    "- `ligand_strain`: difference between local and global minima\n",
    "- `passes_strain_filter`: whether `ligand_strain` is lower than the config threshold\n",
    "- `nconfs_converged`: the number of conformers that convereged when searching for the global minimum "
   ]
  },
  {
   "cell_type": "markdown",
   "metadata": {},
   "source": [
    "Lets have a look at the three poses from ligand 3Q4_3QD0_A_370. "
   ]
  },
  {
   "cell_type": "code",
   "execution_count": null,
   "metadata": {},
   "outputs": [],
   "source": [
    "docked = Chem.Mol(results.mol_bytes[0])\n",
    "local_min = Chem.Mol(results.local_min_mol[0])\n",
    "global_min = Chem.Mol(results.global_min_mol[0])"
   ]
  },
  {
   "cell_type": "code",
   "execution_count": null,
   "metadata": {},
   "outputs": [],
   "source": [
    "rdDetermineBonds.DetermineBonds(docked)\n",
    "rdDetermineBonds.DetermineBonds(local_min)\n",
    "rdDetermineBonds.DetermineBonds(global_min)"
   ]
  },
  {
   "cell_type": "code",
   "execution_count": null,
   "metadata": {},
   "outputs": [],
   "source": [
    "IPythonConsole.drawMol3D(docked)"
   ]
  },
  {
   "cell_type": "code",
   "execution_count": null,
   "metadata": {},
   "outputs": [],
   "source": [
    "IPythonConsole.drawMol3D(local_min)"
   ]
  },
  {
   "cell_type": "code",
   "execution_count": null,
   "metadata": {},
   "outputs": [],
   "source": [
    "IPythonConsole.drawMol3D(global_min)"
   ]
  },
  {
   "cell_type": "markdown",
   "metadata": {},
   "source": [
    "The original and local minimum conformers look very similar to the eye. This is because local minimisation has a loose convergence criteria and is simply to clean up any high energy artifacts left my docking. The global minimum is noticably different, with all aromatic rings having relaxed into similar planes."
   ]
  },
  {
   "cell_type": "markdown",
   "metadata": {},
   "source": [
    "You may again want to convert your results back into an sdf. You can do this with the function below:"
   ]
  },
  {
   "cell_type": "code",
   "execution_count": null,
   "metadata": {},
   "outputs": [],
   "source": [
    "def set_properties(mol, properties, row, pose):\n",
    "    mol.SetProp(\"pose\", pose)\n",
    "    for p in properties:\n",
    "        mol.SetProp(p, str(row[p]))\n",
    "    return mol\n",
    "\n",
    "def dataframe_to_sdf(df, sdf_file):\n",
    "    properties = [p for p in df.columns if p not in {\"mol_bytes\", \"local_min_mol\", \"global_min_mol\"}]\n",
    "    sdf = Chem.SDWriter(sdf_file)\n",
    "\n",
    "    for _, row in df.iterrows():\n",
    "        mol = set_properties(Chem.Mol(row.mol_bytes), properties, row, \"docked\")\n",
    "        sdf.write(mol)\n",
    "\n",
    "        local_min = set_properties(Chem.Mol(row.local_min_mol), properties, row, \"local_min\")\n",
    "        sdf.write(local_min)\n",
    "\n",
    "        global_min = set_properties(Chem.Mol(row.global_min_mol), properties, row, \"global_min\")\n",
    "        sdf.write(global_min)\n",
    "    \n",
    "    sdf.close()\n",
    "\n",
    "dataframe_to_sdf(results, '../data/example_ligboundconf_output.sdf')"
   ]
  },
  {
   "cell_type": "markdown",
   "metadata": {},
   "source": [
    "Hopefully you now have a good grasp on how to run the StrainRelief tool! I hope you find it as useful as we have.\n",
    "\n",
    "Ewan"
   ]
  }
 ],
 "metadata": {
  "kernelspec": {
   "display_name": "strain",
   "language": "python",
   "name": "python3"
  },
  "language_info": {
   "codemirror_mode": {
    "name": "ipython",
    "version": 3
   },
   "file_extension": ".py",
   "mimetype": "text/x-python",
   "name": "python",
   "nbconvert_exporter": "python",
   "pygments_lexer": "ipython3",
   "version": "3.11.0"
  }
 },
 "nbformat": 4,
 "nbformat_minor": 2
}
