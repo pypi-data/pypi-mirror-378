{
 "cells": [
  {
   "cell_type": "markdown",
   "id": "504025f5",
   "metadata": {},
   "source": [
    "# Calcular el IC\n",
    "\n",
    "- El valor del IC no coincidía con los valores de goatools para los mismos términos.\n",
    "\n",
    "$$\n",
    "IC = -\\log\\left(\\frac{tcnts}{total}\\right)\n",
    "$$\n",
    "\n",
    "A partir de las anotaciones .gaf.\n",
    "\n",
    "En estas anotaciones, cada fila tiene: **ID de la anotacion** (\"P12345\"), **GO Term**, **Evidence** (\"IEA\").\n",
    "\n",
    "## ¿Cómo lo hace goatools?\n",
    "\n",
    "- Las anotaciones **se propagan** hacia los ancestros. Si un término está anotado con una cierta anotacion (P12345), todos sus ancestros se anotan también.\n",
    "\n",
    "        Supongamos que el término A tiene ancestros B y C:\n",
    "        •\tSi tienes una anotación en A, entonces:\n",
    "        •\ttcnt[A] += 1\n",
    "        •\ttcnt[B] += 1\n",
    "        •\ttcnt[C] += 1\n",
    "\n",
    "- No se divide por el total de anotaciones, si no por el **total del namespace** correspondiente: BP, MF o CC.\n",
    "\n",
    "        Cómo funciona esto con la propagación de anotaciones? Yo he contado cada anotación propagada como una nueva anotación tanto para el counts como para el total.\n",
    "\n",
    "- Aun así no me daba el mismo IC.\n",
    "\n",
    "## Problemas que había.\n",
    "\n",
    "- Los archivos de anotación GAF tienen filas con IDs de anotación repetidos.\n",
    "\n",
    "        Supongamos que tenemos el db_object_id = \"P12345\" con dos anotaciones:\n",
    "            •\tGO:0006397 (con ancestros A, B, C)\n",
    "            •\tGO:0006396 (que también comparte B, C)\n",
    "\n",
    "        El código actual suma así:\n",
    "            •\tB: 2 veces (una por cada anotación)\n",
    "            •\tC: 2 veces\n",
    "\n",
    "        Pero Goatools sólo cuenta:\n",
    "            •\tB: 1 vez para ese objeto\n",
    "            •\tC: 1 vez\n",
    "\n",
    "\n",
    "- Primero hay que agrupar por ``db_object_id``. Luego acumular los términos + ancestros y contar una única vez por objeto.\n",
    "\n",
    "- Para el total por namespace, cada ``db_object_id`` cuenta una única vez para el ``total_by_ns``.\n"
   ]
  },
  {
   "cell_type": "code",
   "execution_count": 1,
   "id": "ee67354e",
   "metadata": {},
   "outputs": [],
   "source": [
    "import go3\n",
    "\n",
    "go3.load_go_terms()\n",
    "annots = go3.load_gaf(\"../src/goa_human.gaf\")\n",
    "tc_rust = go3.build_term_counter(annots)"
   ]
  },
  {
   "cell_type": "code",
   "execution_count": 8,
   "id": "51da9519",
   "metadata": {},
   "outputs": [
    {
     "name": "stdout",
     "output_type": "stream",
     "text": [
      "go-basic.obo: fmt(1.2) rel(2025-03-16) 43,544 Terms\n",
      "HMS:0:00:10.880900 969,176 annotations READ: goa_human.gaf \n",
      "36411 IDs in loaded association branch, BP\n"
     ]
    }
   ],
   "source": [
    "from goatools.obo_parser import GODag\n",
    "from goatools.associations import dnld_assc\n",
    "from goatools.semantic import TermCounts, resnik_sim\n",
    "\n",
    "obo_path = \"go-basic.obo\"\n",
    "gaf_path = \"goa_human.gaf\"\n",
    "godag = GODag(obo_path)\n",
    "assocs = dnld_assc(gaf_path, godag)\n",
    "termcounts = TermCounts(godag, assocs)"
   ]
  },
  {
   "cell_type": "code",
   "execution_count": 5,
   "id": "73fd35b5",
   "metadata": {},
   "outputs": [
    {
     "name": "stdout",
     "output_type": "stream",
     "text": [
      "4.272783893072207\n",
      "4.570337714003141\n",
      "0.4734022960071144\n",
      "Counts: 509\n",
      "IC: 4.272783893072207\n",
      "0.2948069841169292\n"
     ]
    }
   ],
   "source": [
    "go_id_1, go_id_2 = \"GO:0006397\", \"GO:0008380\"\n",
    "print(go3.term_ic(go_id_1, tc_rust))\n",
    "print(go3.term_ic(go_id_2, tc_rust))\n",
    "resnik = go3.semantic_similarity(go_id_1, go_id_2, 'lin', tc_rust)\n",
    "print(resnik)\n",
    "print(\"Counts:\", tc_rust.counts[go_id_1])\n",
    "#print(\"Total by namespace:\", tc_rust.total_by_ns[\"BP\"])\n",
    "print(\"IC:\", tc_rust.ic[go_id_1])\n",
    "\n",
    "sim = go3.compare_genes(\n",
    "    \"WDFY1\",\n",
    "    \"TFAM\",\n",
    "    ontology=\"MF\",\n",
    "    similarity=\"resnik\",\n",
    "    groupwise=\"max\",\n",
    "    counter=tc_rust\n",
    ")\n",
    "print(sim)"
   ]
  },
  {
   "cell_type": "code",
   "execution_count": 5,
   "id": "cc1bbebe",
   "metadata": {},
   "outputs": [
    {
     "name": "stdout",
     "output_type": "stream",
     "text": [
      "[0.2852970814034799, 0.0, 0.0]\n"
     ]
    }
   ],
   "source": [
    "pairs = [(\"WDFY1\", \"TFAM\"), (\"Q8N158\", \"Q8N158\"), (\"P12345\", \"Q8N158\")]\n",
    "\n",
    "sims = go3.compare_gene_pairs_batch(\n",
    "    pairs,\n",
    "    ontology=\"MF\",\n",
    "    method=\"resnik\",\n",
    "    combine=\"bma\",\n",
    "    counter=tc_rust\n",
    ")\n",
    "\n",
    "print(sims)"
   ]
  },
  {
   "cell_type": "code",
   "execution_count": 10,
   "id": "9c6b0dba",
   "metadata": {},
   "outputs": [
    {
     "name": "stdout",
     "output_type": "stream",
     "text": [
      "4.270178189223948\n",
      "4.5677320101548835\n",
      "Counts for GO:0006397: 509\n"
     ]
    }
   ],
   "source": [
    "from goatools.semantic import get_info_content\n",
    "\n",
    "print(get_info_content(go_id_1, termcounts=termcounts))\n",
    "print(get_info_content(go_id_2, termcounts=termcounts))\n",
    "resnik_sim(go_id_1, go_id_2, termcounts=termcounts, godag=godag)\n",
    "print(f\"Counts for {go_id_1}: {termcounts.get_count(go_id_1)}\")"
   ]
  }
 ],
 "metadata": {
  "kernelspec": {
   "display_name": "base",
   "language": "python",
   "name": "python3"
  },
  "language_info": {
   "codemirror_mode": {
    "name": "ipython",
    "version": 3
   },
   "file_extension": ".py",
   "mimetype": "text/x-python",
   "name": "python",
   "nbconvert_exporter": "python",
   "pygments_lexer": "ipython3",
   "version": "3.12.2"
  }
 },
 "nbformat": 4,
 "nbformat_minor": 5
}
