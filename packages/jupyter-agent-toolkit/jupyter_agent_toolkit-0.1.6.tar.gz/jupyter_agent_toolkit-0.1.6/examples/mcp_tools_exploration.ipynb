{
 "cells": [
  {
   "cell_type": "code",
   "execution_count": 1,
   "id": "7d68bfeb",
   "metadata": {},
   "outputs": [
    {
     "data": {
      "text/plain": [
       "True"
      ]
     },
     "execution_count": 1,
     "metadata": {},
     "output_type": "execute_result"
    }
   ],
   "source": [
    "import os\n",
    "import uuid\n",
    "import logging\n",
    "from dotenv import load_dotenv\n",
    "\n",
    "from dapr_agents.tool.mcp import MCPClient\n",
    "\n",
    "logging.basicConfig(level=logging.INFO)\n",
    "load_dotenv()"
   ]
  },
  {
   "cell_type": "code",
   "execution_count": 2,
   "id": "09fad9a6",
   "metadata": {},
   "outputs": [],
   "source": [
    "# ---- MCP Jupyter server env (REMOTE) ----\n",
    "NOTEBOOK_NAME = f\"mcp_{uuid.uuid4().hex[:8]}.ipynb\"\n",
    "\n",
    "ENV = {\n",
    "    **os.environ,\n",
    "    \"MCP_JUPYTER_SESSION_MODE\": \"server\",\n",
    "    \"MCP_JUPYTER_BASE_URL\": os.getenv(\"JUPYTER_BASE_URL\"),\n",
    "    \"MCP_JUPYTER_TOKEN\": os.getenv(\"JUPYTER_TOKEN\"),\n",
    "    \"MCP_JUPYTER_KERNEL_NAME\": os.getenv(\"JUPYTER_KERNEL_NAME\", \"python3\"),\n",
    "    \"MCP_JUPYTER_NOTEBOOK_PATH\": os.getenv(\"JUPYTER_NOTEBOOK_PATH\", NOTEBOOK_NAME),\n",
    "}"
   ]
  },
  {
   "cell_type": "code",
   "execution_count": 3,
   "id": "7ce9a318",
   "metadata": {},
   "outputs": [
    {
     "name": "stderr",
     "output_type": "stream",
     "text": [
      "INFO:dapr_agents.tool.mcp.client:Loaded 3 tools from server 'local'\n",
      "INFO:dapr_agents.tool.mcp.client:Loaded 0 prompts from server 'local': \n",
      "INFO:dapr_agents.tool.mcp.client:Successfully connected to MCP server 'local' (ephemeral mode)\n"
     ]
    }
   ],
   "source": [
    "client = MCPClient()\n",
    "\n",
    "await client.connect_stdio(\n",
    "    server_name=\"local\",\n",
    "    command=\"uvx\",\n",
    "    args=[\"mcp-jupyter-notebook\", \"--transport\", \"stdio\"],\n",
    "    env=ENV,\n",
    ")"
   ]
  },
  {
   "cell_type": "code",
   "execution_count": 6,
   "id": "82e5044c",
   "metadata": {},
   "outputs": [
    {
     "name": "stdout",
     "output_type": "stream",
     "text": [
      "🔧 Available tools: ['LocalNotebook.Markdown.Add', 'LocalNotebook.Code.Run', 'LocalNotebook.Packages.Add']\n"
     ]
    }
   ],
   "source": [
    "from dapr_agents.tool import AgentTool\n",
    "from typing import List\n",
    "\n",
    "tools: List[AgentTool] = client.get_all_tools()\n",
    "print(\"🔧 Available tools:\", [t.name for t in tools])"
   ]
  },
  {
   "cell_type": "code",
   "execution_count": 10,
   "id": "6d1f47e6",
   "metadata": {},
   "outputs": [
    {
     "data": {
      "text/plain": [
       "{'type': 'function',\n",
       " 'function': {'name': 'LocalNotebook.Markdown.Add',\n",
       "  'description': 'Append a markdown cell and return its index. (from MCP server: local)',\n",
       "  'parameters': {'properties': {'content': {'description': '',\n",
       "     'type': 'string'}},\n",
       "   'required': ['content'],\n",
       "   'type': 'object'}}}"
      ]
     },
     "execution_count": 10,
     "metadata": {},
     "output_type": "execute_result"
    }
   ],
   "source": [
    "tools[0].to_function_call()"
   ]
  },
  {
   "cell_type": "code",
   "execution_count": null,
   "id": "59fdc35d",
   "metadata": {},
   "outputs": [],
   "source": []
  }
 ],
 "metadata": {
  "kernelspec": {
   "display_name": ".venv",
   "language": "python",
   "name": "python3"
  },
  "language_info": {
   "codemirror_mode": {
    "name": "ipython",
    "version": 3
   },
   "file_extension": ".py",
   "mimetype": "text/x-python",
   "name": "python",
   "nbconvert_exporter": "python",
   "pygments_lexer": "ipython3",
   "version": "3.13.3"
  }
 },
 "nbformat": 4,
 "nbformat_minor": 5
}
