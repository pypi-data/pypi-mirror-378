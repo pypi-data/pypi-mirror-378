{
 "cells": [
  {
   "cell_type": "code",
   "execution_count": 3,
   "metadata": {},
   "outputs": [],
   "source": [
    "import pandas as pd\n",
    "import re\n",
    "\n",
    "def remove_leading_zeros(cas_number):\n",
    "    \"\"\"\n",
    "    Removes leading zeros from a CAS number.\n",
    "\n",
    "    Parameters:\n",
    "    - cas_number (str): The original CAS number (e.g., '000071-41-0').\n",
    "\n",
    "    Returns:\n",
    "    - str: The CAS number without leading zeros (e.g., '71-41-0').\n",
    "    \"\"\"\n",
    "    # Use regex to replace leading zeros before the first hyphen\n",
    "    return re.sub(r'^0+(\\d+-\\d+-\\d+)$', r'\\1', cas_number)\n",
    "\n",
    "# read Henry_PhysProp_Data.xls\n",
    "df = pd.read_excel('Henry_PhysProp_Data.xls', sheet_name='PhysProp Data')\n",
    "# remove the leading zeros from the cas numbers 000050-00-0 -> 50-00-0\n",
    "df['CAS Number'] = df['CAS Number'].apply(remove_leading_zeros)\n",
    "\n",
    "# save it to a csv file\n",
    "df.to_csv('Henry_PhysProp_Data.csv', index=False)"
   ]
  }
 ],
 "metadata": {
  "kernelspec": {
   "display_name": "physchem",
   "language": "python",
   "name": "python3"
  },
  "language_info": {
   "codemirror_mode": {
    "name": "ipython",
    "version": 3
   },
   "file_extension": ".py",
   "mimetype": "text/x-python",
   "name": "python",
   "nbconvert_exporter": "python",
   "pygments_lexer": "ipython3",
   "version": "3.11.9"
  }
 },
 "nbformat": 4,
 "nbformat_minor": 2
}
