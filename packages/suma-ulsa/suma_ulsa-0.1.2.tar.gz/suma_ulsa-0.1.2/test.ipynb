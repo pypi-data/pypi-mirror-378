{
 "cells": [
  {
   "cell_type": "code",
   "execution_count": 5,
   "id": "d872343a",
   "metadata": {},
   "outputs": [
    {
     "name": "stdout",
     "output_type": "stream",
     "text": [
      "[False, False]\n",
      "[False, True]\n",
      "[True, False]\n",
      "[True, True]\n"
     ]
    }
   ],
   "source": [
    "import suma_ulsa\n",
    "\n",
    "# Lista de variables\n",
    "variables = [\"A\", \"B\"]\n",
    "\n",
    "# Generar tabla de verdad\n",
    "tabla = suma_ulsa.boolean_algebra.generate_truth_table(variables)\n",
    "\n",
    "for fila in tabla:\n",
    "    print(fila)\n"
   ]
  }
 ],
 "metadata": {
  "kernelspec": {
   "display_name": "Python 3",
   "language": "python",
   "name": "python3"
  },
  "language_info": {
   "codemirror_mode": {
    "name": "ipython",
    "version": 3
   },
   "file_extension": ".py",
   "mimetype": "text/x-python",
   "name": "python",
   "nbconvert_exporter": "python",
   "pygments_lexer": "ipython3",
   "version": "3.13.6"
  }
 },
 "nbformat": 4,
 "nbformat_minor": 5
}
