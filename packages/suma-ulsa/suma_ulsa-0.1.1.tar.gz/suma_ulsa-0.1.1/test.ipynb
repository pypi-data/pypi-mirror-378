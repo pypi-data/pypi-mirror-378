{
 "cells": [
  {
   "cell_type": "code",
   "execution_count": 2,
   "id": "d872343a",
   "metadata": {},
   "outputs": [
    {
     "ename": "ImportError",
     "evalue": "dynamic module does not define module export function (PyInit_suma_ulsa)",
     "output_type": "error",
     "traceback": [
      "\u001b[31m---------------------------------------------------------------------------\u001b[39m",
      "\u001b[31mImportError\u001b[39m                               Traceback (most recent call last)",
      "\u001b[36mCell\u001b[39m\u001b[36m \u001b[39m\u001b[32mIn[2]\u001b[39m\u001b[32m, line 1\u001b[39m\n\u001b[32m----> \u001b[39m\u001b[32m1\u001b[39m \u001b[38;5;28;01mimport\u001b[39;00m\u001b[38;5;250m \u001b[39m\u001b[34;01msuma_ulsa\u001b[39;00m\n\u001b[32m      3\u001b[39m \u001b[38;5;66;03m# Lista de variables\u001b[39;00m\n\u001b[32m      4\u001b[39m variables = [\u001b[33m\"\u001b[39m\u001b[33mA\u001b[39m\u001b[33m\"\u001b[39m, \u001b[33m\"\u001b[39m\u001b[33mB\u001b[39m\u001b[33m\"\u001b[39m]\n",
      "\u001b[36mFile \u001b[39m\u001b[32mc:\\Users\\void\\Documents\\programming\\github\\suma\\.venv\\Lib\\site-packages\\suma_ulsa\\__init__.py:1\u001b[39m\n\u001b[32m----> \u001b[39m\u001b[32m1\u001b[39m \u001b[38;5;28;01mfrom\u001b[39;00m\u001b[38;5;250m \u001b[39m\u001b[34;01m.\u001b[39;00m\u001b[34;01msuma_ulsa\u001b[39;00m\u001b[38;5;250m \u001b[39m\u001b[38;5;28;01mimport\u001b[39;00m *\n\u001b[32m      3\u001b[39m \u001b[34m__doc__\u001b[39m = suma_ulsa.\u001b[34m__doc__\u001b[39m\n\u001b[32m      4\u001b[39m \u001b[38;5;28;01mif\u001b[39;00m \u001b[38;5;28mhasattr\u001b[39m(suma_ulsa, \u001b[33m\"\u001b[39m\u001b[33m__all__\u001b[39m\u001b[33m\"\u001b[39m):\n",
      "\u001b[31mImportError\u001b[39m: dynamic module does not define module export function (PyInit_suma_ulsa)"
     ]
    }
   ],
   "source": [
    "import suma_ulsa\n",
    "\n",
    "# Lista de variables\n",
    "variables = [\"A\", \"B\"]\n",
    "\n",
    "# Generar tabla de verdad\n",
    "tabla = suma_ulsa.boolean_algebra.generate_truth_table(variables)\n",
    "\n",
    "for fila in tabla:\n",
    "    print(fila)\n"
   ]
  }
 ],
 "metadata": {
  "kernelspec": {
   "display_name": ".venv",
   "language": "python",
   "name": "python3"
  },
  "language_info": {
   "codemirror_mode": {
    "name": "ipython",
    "version": 3
   },
   "file_extension": ".py",
   "mimetype": "text/x-python",
   "name": "python",
   "nbconvert_exporter": "python",
   "pygments_lexer": "ipython3",
   "version": "3.13.6"
  }
 },
 "nbformat": 4,
 "nbformat_minor": 5
}
