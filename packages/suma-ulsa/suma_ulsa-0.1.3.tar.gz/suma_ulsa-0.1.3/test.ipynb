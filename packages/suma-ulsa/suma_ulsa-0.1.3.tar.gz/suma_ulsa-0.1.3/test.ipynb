{
 "cells": [
  {
   "cell_type": "code",
   "execution_count": 2,
   "id": "d872343a",
   "metadata": {},
   "outputs": [
    {
     "ename": "ModuleNotFoundError",
     "evalue": "No module named 'suma_ulsa.boolean_algebra.boolean_algebra'",
     "output_type": "error",
     "traceback": [
      "\u001b[31m---------------------------------------------------------------------------\u001b[39m",
      "\u001b[31mModuleNotFoundError\u001b[39m                       Traceback (most recent call last)",
      "\u001b[36mCell\u001b[39m\u001b[36m \u001b[39m\u001b[32mIn[2]\u001b[39m\u001b[32m, line 1\u001b[39m\n\u001b[32m----> \u001b[39m\u001b[32m1\u001b[39m \u001b[38;5;28;01mimport\u001b[39;00m\u001b[38;5;250m \u001b[39m\u001b[34;01msuma_ulsa\u001b[39;00m\n\u001b[32m      3\u001b[39m \u001b[38;5;66;03m# Lista de variables\u001b[39;00m\n\u001b[32m      4\u001b[39m variables = [\u001b[33m\"\u001b[39m\u001b[33mA\u001b[39m\u001b[33m\"\u001b[39m, \u001b[33m\"\u001b[39m\u001b[33mB\u001b[39m\u001b[33m\"\u001b[39m]\n",
      "\u001b[36mFile \u001b[39m\u001b[32mc:\\Users\\void\\Documents\\programming\\github\\suma\\suma_ulsa\\__init__.py:2\u001b[39m\n\u001b[32m      1\u001b[39m \u001b[38;5;66;03m# suma_ulsa/__init__.py\u001b[39;00m\n\u001b[32m----> \u001b[39m\u001b[32m2\u001b[39m \u001b[38;5;28;01mfrom\u001b[39;00m\u001b[38;5;250m \u001b[39m\u001b[34;01m.\u001b[39;00m\u001b[38;5;250m \u001b[39m\u001b[38;5;28;01mimport\u001b[39;00m boolean_algebra\n",
      "\u001b[36mFile \u001b[39m\u001b[32mc:\\Users\\void\\Documents\\programming\\github\\suma\\suma_ulsa\\boolean_algebra\\__init__.py:2\u001b[39m\n\u001b[32m      1\u001b[39m \u001b[38;5;66;03m# suma_ulsa/boolean_algebra/__init__.py\u001b[39;00m\n\u001b[32m----> \u001b[39m\u001b[32m2\u001b[39m \u001b[38;5;28;01mfrom\u001b[39;00m\u001b[38;5;250m \u001b[39m\u001b[34;01m.\u001b[39;00m\u001b[34;01mboolean_algebra\u001b[39;00m\u001b[38;5;250m \u001b[39m\u001b[38;5;28;01mimport\u001b[39;00m generate_truth_table\n",
      "\u001b[31mModuleNotFoundError\u001b[39m: No module named 'suma_ulsa.boolean_algebra.boolean_algebra'"
     ]
    }
   ],
   "source": [
    "import suma_ulsa\n",
    "\n",
    "# Lista de variables\n",
    "variables = [\"A\", \"B\"]\n",
    "\n",
    "# Generar tabla de verdad\n",
    "tabla = suma_ulsa.boolean_algebra.generate_truth_table(variables)\n",
    "\n",
    "for fila in tabla:\n",
    "    print(fila)\n"
   ]
  }
 ],
 "metadata": {
  "kernelspec": {
   "display_name": "Python 3",
   "language": "python",
   "name": "python3"
  },
  "language_info": {
   "codemirror_mode": {
    "name": "ipython",
    "version": 3
   },
   "file_extension": ".py",
   "mimetype": "text/x-python",
   "name": "python",
   "nbconvert_exporter": "python",
   "pygments_lexer": "ipython3",
   "version": "3.13.6"
  }
 },
 "nbformat": 4,
 "nbformat_minor": 5
}
