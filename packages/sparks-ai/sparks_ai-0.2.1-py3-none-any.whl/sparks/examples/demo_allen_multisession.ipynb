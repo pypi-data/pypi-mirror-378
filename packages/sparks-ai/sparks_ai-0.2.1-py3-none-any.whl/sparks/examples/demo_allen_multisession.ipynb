{
 "cells": [
  {
   "cell_type": "code",
   "execution_count": 1,
   "id": "1fbd268b",
   "metadata": {},
   "outputs": [],
   "source": [
    "import warnings\n",
    "warnings.simplefilter(action='ignore', category=FutureWarning) # to ignore some warnings from the allen sdk\n",
    "\n",
    "import os\n",
    "import matplotlib.pyplot as plt\n",
    "import numpy as np\n",
    "import torch\n",
    "import tqdm\n",
    "from typing import List, Any\n",
    "\n",
    "from sparks.data.allen.movies_multisess import make_allen_movies_dataset\n",
    "from sparks.data.misc import LongCycler\n",
    "from sparks.utils.test import test_on_batch\n",
    "from sparks.utils.train import train_on_batch\n",
    "from sparks.data.providers import AllenMoviesTargetProvider\n",
    "from sparks.models.sparks import SPARKS\n",
    "from sparks.models.dataclasses import HebbianAttentionConfig, AttentionConfig"
   ]
  },
  {
   "cell_type": "markdown",
   "id": "1e498505cc7aacf3",
   "metadata": {
    "collapsed": false
   },
   "source": [
    "# Multi-session training on the Allen visual dataset "
   ]
  },
  {
   "cell_type": "markdown",
   "id": "648c9adf5a0f61d3",
   "metadata": {
    "collapsed": false
   },
   "source": [
    "SPARKS allows to train a single model to embed recordings from multiple sessions and animals within the same latent space. <br>\n",
    "\n",
    "This notebook relies on the `allensdk`, which has incompatibility issues with recent python distributions. Because of this, we've chosen to remove it from the required dependencies of this library. <br>\n",
    "The easiest way to install this sdk is to: <br>\n",
    "- clone the GitHub repo from `https://github.com/AllenInstitute/AllenSDK/tree/master`\n",
    "- edit the `requirements.txt` file at the root of the project to remove all versions requirements\n",
    "- for numpy only, change the requirements to `numpy<2`\n",
    "- install from source (from the command line, `cd AllenSDK && pip install -e .`)"
   ]
  },
  {
   "cell_type": "markdown",
   "id": "47701261",
   "metadata": {},
   "source": [
    "Let's start by loading the data in the form of lists of train/test datasets and corresponding Pytorch dataloaders. <br>\n",
    "This assume you've already downloaded the Allen visual data. "
   ]
  },
  {
   "cell_type": "code",
   "execution_count": null,
   "id": "5222df49",
   "metadata": {},
   "outputs": [],
   "source": [
    "path_to_data = os.path.join(\"/path/to/allen_visual/\")\n",
    "\n",
    "(train_datasets, test_datasets,\n",
    "    train_dls, test_dls) = make_allen_movies_dataset(path_to_data,\n",
    "                                                    session_idxs=np.arange(2), # which sessions to load, indexed from 0\n",
    "                                                    dt=0.01, # time bin size (in seconds), speeds up training at the cost of accuracy for the demo\n",
    "                                                    batch_size=10,\n",
    "                                                    mode='prediction', # frame ID prediction\n",
    "                                                    )"
   ]
  },
  {
   "cell_type": "markdown",
   "id": "5298c8c1",
   "metadata": {},
   "source": [
    "## Initialise model"
   ]
  },
  {
   "cell_type": "code",
   "execution_count": null,
   "id": "922175b2",
   "metadata": {},
   "outputs": [],
   "source": [
    "embed_dim = 128  # attention embedding dimension\n",
    "latent_dim = 64  # latent dimension\n",
    "tau_s = 1.  # STDP decay period (in seconds)\n",
    "tau_p = 5  # past time-steps window\n",
    "tau_f = 1  # future time-steps window\n",
    "n_layers = 0  # number of conventional attention layers\n",
    "n_heads = 1  # number of attention heads\n",
    "beta = 1e-6  # KDL regularisation strength\n",
    "\n",
    "# if a gpu is available\n",
    "if torch.cuda.is_available():\n",
    "    device = torch.device('cuda')\n",
    "# If on a recent macbook\n",
    "elif torch.backends.mps.is_available():\n",
    "    device = torch.device('mps:0')\n",
    "else:\n",
    "    device = torch.device('cpu')\n",
    "\n",
    "input_sizes = [len(train_dataset.good_units_ids) for train_dataset in train_datasets]\n",
    "output_size = 900\n",
    "\n",
    "hebbian_config = HebbianAttentionConfig(tau_s=tau_s, dt=0.01) # Hebbian attention config\n",
    "attention_config = AttentionConfig() # conventional attention config\n",
    "model = SPARKS(n_neurons_per_session=input_sizes,\n",
    "               embed_dim=embed_dim,\n",
    "               latent_dim=latent_dim,\n",
    "               tau_p=tau_p,\n",
    "               tau_f=tau_f,\n",
    "               hebbian_config=hebbian_config,\n",
    "               attention_config=attention_config,\n",
    "               output_dim_per_session=output_size,\n",
    "               joint_decoder=True, # use a single decoder for all sessions\n",
    "               device=device)\n",
    "\n",
    "lr = 0.001\n",
    "optimizer = torch.optim.Adam(model.parameters(), lr=0.001)\n",
    "scheduler = torch.optim.lr_scheduler.StepLR(optimizer, step_size=100, gamma=0.5)\n",
    "loss_fn = torch.nn.CrossEntropyLoss()"
   ]
  },
  {
   "cell_type": "markdown",
   "id": "01a342fc",
   "metadata": {},
   "source": [
    "## Training and testing\n",
    "\n",
    "Below, we implement helper functions for the train/test loops with the Allen visual dataset - these exist because memory requirements for reconstruction of the frames are very heavy and frames are loaded on-the-fly. "
   ]
  },
  {
   "cell_type": "code",
   "execution_count": 4,
   "id": "ffba3837",
   "metadata": {},
   "outputs": [],
   "source": [
    "def train(sparks: SPARKS,\n",
    "          train_dls: List,\n",
    "          loss_fn: Any,\n",
    "          optimizer: torch.optim.Optimizer,\n",
    "          beta: float = 0.,\n",
    "          dt=0.01,\n",
    "          **kwargs):\n",
    "    \"\"\"\n",
    "    Trains the model on a batch of inputs.\n",
    "\n",
    "    Args:\n",
    "        sparks (SPARKS): The SPARKS model instance.\n",
    "        train_dls (List): List of Dataloaders to train on, typically one per session.\n",
    "        loss_fn (Any): The loss function used to evaluate the model's predictions.\n",
    "        optimizer (torch.optim.Optimizer): The optimizer algorithm used to update the model's parameters.\n",
    "        latent_dim (int): The dimensionality of the latent space.\n",
    "        tau_p (int): The size of the past window for the model to consider.\n",
    "        tau_f (int): The size of the future window for the model to predict.\n",
    "        beta (float, optional): The regularization strength of the Kullback–Leibler divergence in the loss function.\n",
    "                                Default is 0.\n",
    "        device (torch.device, optional): The device where the tensors will be allocated. Default is 'cpu'.\n",
    "        **kwargs: Additional keyword arguments.\n",
    "\n",
    "        Optional arguments include:\n",
    "            - session_ids (np.ndarray): Array of session identifiers when training with multiple sessions. Default: np.arange(len(train_dls)).\n",
    "            - online (bool): If True, updates the model parameters at every time-step. Default is False.\n",
    "            - burnin (int): The number of initial steps to exclude from training. Default is 0.\n",
    "\n",
    "    Returns:\n",
    "        None. The model parameters are updated inline.\n",
    "    \"\"\"\n",
    "\n",
    "    session_ids = kwargs.get('session_ids', np.arange(len(train_dls)))\n",
    "    random_order = np.random.choice(np.arange(len(train_dls)), size=len(train_dls), replace=False)\n",
    "    train_iterator = LongCycler([train_dls[i] for i in random_order])\n",
    "\n",
    "    for i, (inputs, _) in enumerate(train_iterator):\n",
    "        target_provider = AllenMoviesTargetProvider(frames=None,\n",
    "                                                    mode='prediction',\n",
    "                                                    dt=dt)\n",
    "        train_on_batch(sparks=sparks,\n",
    "                       inputs=inputs,\n",
    "                       target_provider=target_provider,\n",
    "                       loss_fn=loss_fn,\n",
    "                       optimizer=optimizer,\n",
    "                       beta=beta,\n",
    "                       session_id=session_ids[random_order[i % len(train_dls)]],\n",
    "                       **kwargs)\n",
    "\n",
    "\n",
    "@torch.no_grad()\n",
    "def test(sparks: SPARKS,\n",
    "         test_dls: List,\n",
    "         loss_fn: Any = None,\n",
    "         device: torch.device = 'cpu',\n",
    "         dt=0.01,\n",
    "         **kwargs):\n",
    "    \"\"\"\n",
    "    Tests the model on a dataset represented by a dataloader and computes the loss.\n",
    "\n",
    "    Args:\n",
    "        sparks (SPARKS): The SPARKS model instance.\n",
    "        test_dls  (List[torch.utils.data.DataLoader]): Dataloaders for the testing data.\n",
    "        latent_dim (int): The dimensionality of the latent space.\n",
    "        tau_p (int): The size of the past window for the model to consider.\n",
    "        tau_f (int, optional): The size of the future window for the model to predict. Default is 1.\n",
    "        loss_fn (Any, optional): The loss function used to evaluate the model's predictions. Default is None.\n",
    "        device (torch.device, optional): The device where the tensors will be allocated. Default is 'cpu'.\n",
    "        **kwargs (dict, optional): Additional keyword arguments for advanced configurations.\n",
    "\n",
    "        Optional arguments include:\n",
    "            - session_ids (np.ndarray): Array of session identifiers when training with multiple sessions. Default: np.arange(len(test_dls)).\n",
    "            - online (bool): If True, updates the model parameters at every time-step. Default is False.\n",
    "            - burnin (int): The number of initial steps to exclude from training. Default is 0.\n",
    "            - act (callable): Activation function to apply to the decoder outputs. Default is identity.\n",
    "\n",
    "    Returns:\n",
    "        test_loss (float): The computed loss for the test dataset.\n",
    "        encoder_outputs (torch.tensor): The outputs from the encoder.\n",
    "        decoder_outputs (torch.tensor): The outputs from the decoder.\n",
    "    \"\"\"\n",
    "\n",
    "    encoder_outputs = torch.Tensor()\n",
    "    decoder_outputs = torch.Tensor()\n",
    "    test_loss = 0\n",
    "\n",
    "    session_ids = kwargs.get('session_ids', np.arange(len(test_dls)))\n",
    "    \n",
    "    target_provider = AllenMoviesTargetProvider(frames=None, mode='prediction', dt=dt)\n",
    "\n",
    "    for i, test_dl in enumerate(test_dls):\n",
    "        test_iterator = iter(test_dl)\n",
    "        for inputs, _ in test_iterator:\n",
    "            test_loss, encoder_outputs_batch, decoder_outputs_batch = test_on_batch(sparks=sparks,\n",
    "                                                                                    inputs=inputs,\n",
    "                                                                                    target_provider=target_provider,\n",
    "                                                                                    test_loss=test_loss,\n",
    "                                                                                    loss_fn=loss_fn,\n",
    "                                                                                    device=device,\n",
    "                                                                                    session_id=session_ids[i],\n",
    "                                                                                    **kwargs)\n",
    "\n",
    "            encoder_outputs = torch.cat((encoder_outputs, encoder_outputs_batch), dim=0)\n",
    "            decoder_outputs = torch.cat((decoder_outputs, decoder_outputs_batch), dim=0)\n",
    "\n",
    "    test_acc = calculate_test_acc(decoder_outputs, targets=target_provider.targets)\n",
    "\n",
    "    return test_acc, encoder_outputs, decoder_outputs\n",
    "\n",
    "\n",
    "@torch.no_grad()\n",
    "def calculate_test_acc(decoder_outputs: torch.tensor, targets: torch.tensor, tol: int = 30):\n",
    "    \"\"\"\n",
    "    Calculate 1s-test accuracy for the Allen movies datasets\n",
    "    Args:\n",
    "        decoder_outputs (torch.tensor): SPARKS predictions.\n",
    "        frames (torch.tensor): Targets.\n",
    "        tol (int, optional): Tolerance in number of frames, defaults to 30 (corresponding to 1s).\n",
    "\n",
    "    Returns:\n",
    "        test_acc (float): The testing accuracy on this batch.\n",
    "                          Accuracy is computed as the fraction of time-steps for which the predicted frame was within\n",
    "                          1s of the correct one.\n",
    "        encoder_outputs_batch (torch.Tensor): The outputs of the encoder.\n",
    "        decoder_outputs_batch (torch.Tensor): The outputs of the decoder.\n",
    "    \"\"\"\n",
    "\n",
    "    target_windows = [np.arange(t - tol, t + tol)[None, :] for t in targets.numpy()]\n",
    "    test_acc = np.mean(np.array([[np.isin(decoder_outputs[k, :, t].cpu().argmax(dim=-1), target_windows[t])\n",
    "                                  for t in range(decoder_outputs.shape[-1])]\n",
    "                                 for k in range(decoder_outputs.shape[0])]))\n",
    "\n",
    "    return test_acc"
   ]
  },
  {
   "cell_type": "markdown",
   "id": "fd088740",
   "metadata": {},
   "source": [
    "We can now run the training loop. Note that this will be very slow if not run on a decent GPU."
   ]
  },
  {
   "cell_type": "code",
   "execution_count": 5,
   "id": "f35290d5",
   "metadata": {},
   "outputs": [
    {
     "name": "stderr",
     "output_type": "stream",
     "text": [
      "  0%|          | 0/1 [00:00<?, ?it/s]"
     ]
    },
    {
     "name": "stderr",
     "output_type": "stream",
     "text": [
      "Epoch 0, acc: 0.077: 100%|██████████| 1/1 [00:15<00:00, 15.85s/it]\n"
     ]
    }
   ],
   "source": [
    "test_period = 1\n",
    "n_epochs = 1  # Number of training epochs\n",
    "\n",
    "pbar = tqdm.tqdm(range(n_epochs))\n",
    "for epoch in pbar:\n",
    "    train(sparks=model,\n",
    "            train_dls=train_dls,\n",
    "            loss_fn=loss_fn,\n",
    "            optimizer=optimizer,\n",
    "            beta=beta,\n",
    "            device=device)\n",
    "    scheduler.step()\n",
    "\n",
    "    if (epoch + 1) % test_period == 0:\n",
    "        test_acc, encoder_outputs, decoder_outputs = test(sparks=model,\n",
    "                                                            test_dls=test_dls,\n",
    "                                                            loss_fn=loss_fn)\n",
    "\n",
    "        pbar.set_description(\"Epoch %d, acc: %.3f\" % (epoch, test_acc))"
   ]
  },
  {
   "cell_type": "markdown",
   "id": "211c1531",
   "metadata": {},
   "source": [
    "After training, a new session can be embedded into the existing latent space by adding a new Hebbian attention head and finetuning the model using the new data."
   ]
  },
  {
   "cell_type": "code",
   "execution_count": 6,
   "id": "2594b2ec",
   "metadata": {},
   "outputs": [],
   "source": [
    "session_idxs = [2] # new session\n",
    "(new_train_datasets, new_test_datasets,\n",
    "    new_train_dls, new_test_dls) = make_allen_movies_dataset(path_to_data,\n",
    "                                                    session_idxs=session_idxs, # new session\n",
    "                                                    dt=0.01, # time bin size (in seconds), speeds up training at the cost of accuracy for the demo\n",
    "                                                    batch_size=10,\n",
    "                                                    mode='prediction', # frame ID prediction\n",
    "                                                    )\n",
    "\n",
    "# Add a new Hebbian attention head for the new session\n",
    "for i, train_dataset in enumerate(new_train_datasets):\n",
    "    model.add_session(n_neurons=len(train_dataset.good_units_ids),\n",
    "                      hebbian_config=hebbian_config,\n",
    "                      session_id=session_idxs[i]) # session_id allows the model to keep track of which attention head to use for which session"
   ]
  },
  {
   "cell_type": "markdown",
   "id": "5f1218cb",
   "metadata": {},
   "source": [
    "And we can now finetune on the new session"
   ]
  },
  {
   "cell_type": "code",
   "execution_count": 7,
   "id": "2dda916a",
   "metadata": {},
   "outputs": [
    {
     "name": "stderr",
     "output_type": "stream",
     "text": [
      "Epoch 0, acc: 0.074: 100%|██████████| 1/1 [00:07<00:00,  7.59s/it]\n"
     ]
    }
   ],
   "source": [
    "pbar = tqdm.tqdm(range(n_epochs))\n",
    "for epoch in pbar:\n",
    "    train(sparks=model,\n",
    "            train_dls=new_train_dls,\n",
    "            loss_fn=loss_fn,\n",
    "            optimizer=optimizer,\n",
    "            beta=beta,\n",
    "            session_ids=np.array([2]), # session_ids allows to keep track of the session IDs when training with multiple sessions\n",
    "            device=device)\n",
    "    scheduler.step()\n",
    "\n",
    "    if (epoch + 1) % test_period == 0:\n",
    "        test_acc, encoder_outputs, decoder_outputs = test(sparks=model,\n",
    "                                                            test_dls=new_test_dls,\n",
    "                                                            loss_fn=loss_fn,\n",
    "                                                            session_ids=np.array([2]))\n",
    "\n",
    "        pbar.set_description(\"Epoch %d, acc: %.3f\" % (epoch, test_acc))\n"
   ]
  },
  {
   "cell_type": "markdown",
   "id": "2bace91c",
   "metadata": {},
   "source": [
    "# Visualising results"
   ]
  },
  {
   "cell_type": "markdown",
   "id": "13880cc5",
   "metadata": {},
   "source": [
    "Training on the Allen visual dataset can be quite long, so let us download results from a pre-trained model by running the following cell to visualise the latent embeddings of the sessions."
   ]
  },
  {
   "cell_type": "code",
   "execution_count": 8,
   "id": "93cc3996",
   "metadata": {},
   "outputs": [],
   "source": [
    "res_path = os.path.join(os.getcwd(), 'results/allen_results') # path to where the data is located.\n",
    "# by default where the notebook is located, if the data isn't found it will be downloaded from \n",
    "# https://github.com/Iacaruso-lab/sparks-figures/results/allen_results\n",
    "\n",
    "if not os.path.exists(os.path.join(res_path, 'test_enc_outputs_best.npy')):\n",
    "    # create the directory\n",
    "    if not os.path.exists(res_path):\n",
    "        os.makedirs(res_path)\n",
    "    # download the data\n",
    "    import urllib.request\n",
    "    urllib.request.urlretrieve(\"https://github.com/Iacaruso-lab/sparks-figures/raw/refs/heads/main/results/allen_results/test_enc_outputs_best.npy\",\n",
    "                               os.path.join(res_path, 'test_enc_outputs_best.npy'))"
   ]
  },
  {
   "cell_type": "code",
   "execution_count": 9,
   "id": "8df841b0",
   "metadata": {},
   "outputs": [
    {
     "data": {
      "text/plain": [
       "(-21.309731940428414,\n",
       " 33.963160971800484,\n",
       " -19.133969446023304,\n",
       " 28.91392817099889,\n",
       " -33.36809300879638,\n",
       " 0.25833320120970416)"
      ]
     },
     "execution_count": 9,
     "metadata": {},
     "output_type": "execute_result"
    },
    {
     "data": {
      "image/png": "[encoded data removed]",
      "text/plain": [
       "<Figure size 1200x500 with 1 Axes>"
      ]
     },
     "metadata": {},
     "output_type": "display_data"
    }
   ],
   "source": [
    "fig = plt.figure(figsize = (12,5))\n",
    "plt.rcParams['axes.facecolor'] = 'white'\n",
    "\n",
    "dt = 0.006\n",
    "time_bin_edges = np.concatenate((np.arange(0, 30., dt), np.array([30.])))\n",
    "frames_bin_edges = np.concatenate((np.arange(1/30, 30, 1/30), np.array([30.])))\n",
    "targets = np.array([np.where(time_bin_edges[i] <= frames_bin_edges)[0][0] for i in range(1, len(time_bin_edges))])\n",
    "\n",
    "tau_p = 6\n",
    "encs = np.load(os.path.join(res_path, 'test_enc_outputs_best.npy'))[..., tau_p:].transpose(0, 2, 1)\n",
    "\n",
    "ax1 = plt.subplot(111, projection='3d')\n",
    "\n",
    "for i in range(5):\n",
    "    encs_sess = np.mean(encs[i:i+1, :, :], axis=0)\n",
    "    a = ax1.scatter(encs_sess[:, 0], encs_sess[:, 1], encs_sess[:, 2], cmap = 'magma', c=targets, s=50, label='block 1')\n",
    "ax1.axis('off')\n"
   ]
  },
  {
   "cell_type": "markdown",
   "id": "8525980f",
   "metadata": {},
   "source": [
    "All the trajectories of the different datasets align in the latent space!"
   ]
  },
  {
   "cell_type": "code",
   "execution_count": 10,
   "id": "471ee3b4cc4d7c98",
   "metadata": {
    "ExecuteTime": {
     "end_time": "2024-08-02T14:23:48.930983Z",
     "start_time": "2024-08-02T14:23:46.859852Z"
    }
   },
   "outputs": [
    {
     "name": "stdout",
     "output_type": "stream",
     "text": [
      "[NbConvertApp] Converting notebook demo_allen_multisession.ipynb to html\n",
      "[NbConvertApp] WARNING | Alternative text is missing on 1 image(s).\n",
      "[NbConvertApp] Writing 480407 bytes to demo_allen_multisession.html\n"
     ]
    }
   ],
   "source": [
    "!jupyter nbconvert --to html demo_allen_multisession.ipynb"
   ]
  }
 ],
 "metadata": {
  "kernelspec": {
   "display_name": "sparks-new",
   "language": "python",
   "name": "python3"
  },
  "language_info": {
   "codemirror_mode": {
    "name": "ipython",
    "version": 3
   },
   "file_extension": ".py",
   "mimetype": "text/x-python",
   "name": "python",
   "nbconvert_exporter": "python",
   "pygments_lexer": "ipython3",
   "version": "3.12.11"
  }
 },
 "nbformat": 4,
 "nbformat_minor": 5
}
