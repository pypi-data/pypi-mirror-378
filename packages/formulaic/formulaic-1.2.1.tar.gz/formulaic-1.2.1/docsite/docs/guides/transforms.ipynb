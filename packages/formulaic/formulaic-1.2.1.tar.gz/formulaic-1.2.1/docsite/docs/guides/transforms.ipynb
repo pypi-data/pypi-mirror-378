{
 "cells": [
  {
   "attachments": {},
   "cell_type": "markdown",
   "metadata": {},
   "source": [
    "A transform in Formulaic is any function that is called to modify factor values\n",
    "during the evaluation of a `Factor` (see the [How it works](../formulae/)\n",
    "documentation). Any function can be used as a transform, so long as it is \n",
    "present in the evaluation context (see below).\n",
    "\n",
    "There are two types of transform:\n",
    "\n",
    "1. **Regular transforms:** These are just normal functions that are applied to \n",
    "    features prior to encoding. For example, you could apply the `numpy.cumsum`\n",
    "    function to any vector being fed into the model matrix materialization\n",
    "    procedure.\n",
    "2. **Stateful transforms:** These are functions that keep track of the transform\n",
    "    state so that they can be reapplied in the future with the same state. This\n",
    "    is useful if the transform does something data specific that has to be \n",
    "    replicated in future materializations (such as subtracting the mean of the\n",
    "    dataset; subsequent materializations should use the mean of the training \n",
    "    dataset rather than the mean of the current data).\n",
    "\n",
    "In the below we describe how to make a function available for use as a transform\n",
    "during materialization, demonstrate this for regular transforms, and then \n",
    "introduce how to use already implemented stateful transforms and/or write your\n",
    "own.\n"
   ]
  },
  {
   "attachments": {},
   "cell_type": "markdown",
   "metadata": {},
   "source": [
    "## Adding transforms to the evaluation context\n",
    "\n",
    "The only requirement for using a transform in formula is making it available in\n",
    "the execution context. The evaluation context is always pre-seeded with:\n",
    "\n",
    "* Regular transforms (and modules):\n",
    "    * **np**: The top-level `numpy` module.\n",
    "    * **log**: `numpy.log`.\n",
    "    * **log10**: `numpy.log10`.\n",
    "    * **log2**: `numpy.log2`.\n",
    "    * **exp**: `numpy.exp`.\n",
    "    * **exp10**: `numpy.exp10`.\n",
    "    * **exp2**: `numpy.exp2`.\n",
    "    * **I**: Identity/null transform (alternative to `{<expr>}` syntax).\n",
    "    * **lag**: Generate lagging or leading columns (useful for datasets collected at regular intervals).\n",
    "* Stateful transforms (documented below):\n",
    "    * **bs**: Basis spline coding.\n",
    "    * **center**: Subtraction of the mean.\n",
    "    * **hashed**: Categorical coding of a deterministically hashed representation.\n",
    "    * **poly**: Polynomial spline coding.\n",
    "    * **scale**: Centering and renormalization.\n",
    "    * **C**: Categorical coding.\n",
    "        * **contr.<encoding>**: An R-like interface to specification of contrast\n",
    "            coding.\n",
    "\n",
    "The evaluation context can be extended to include arbitrary additional\n",
    "functions. If you are using the top-level `model_matrix` function then the local\n",
    "context in which `model_matrix` is called is automatically added to the\n",
    "execution context, otherwise you need to manually specify this context. For\n",
    "example:"
   ]
  },
  {
   "cell_type": "code",
   "execution_count": 1,
   "metadata": {},
   "outputs": [],
   "source": [
    "import pandas\n",
    "\n",
    "from formulaic import Formula, model_matrix\n",
    "\n",
    "\n",
    "def my_transform(col: pandas.Series) -> pandas.Series:\n",
    "    return col**2"
   ]
  },
  {
   "cell_type": "code",
   "execution_count": 2,
   "metadata": {},
   "outputs": [
    {
     "data": {
      "text/html": [
       "<div>\n",
       "<style scoped>\n",
       "    .dataframe tbody tr th:only-of-type {\n",
       "        vertical-align: middle;\n",
       "    }\n",
       "\n",
       "    .dataframe tbody tr th {\n",
       "        vertical-align: top;\n",
       "    }\n",
       "\n",
       "    .dataframe thead th {\n",
       "        text-align: right;\n",
       "    }\n",
       "</style>\n",
       "<table border=\"1\" class=\"dataframe\">\n",
       "  <thead>\n",
       "    <tr style=\"text-align: right;\">\n",
       "      <th></th>\n",
       "      <th>Intercept</th>\n",
       "      <th>a</th>\n",
       "      <th>my_transform(a)</th>\n",
       "    </tr>\n",
       "  </thead>\n",
       "  <tbody>\n",
       "    <tr>\n",
       "      <th>0</th>\n",
       "      <td>1.0</td>\n",
       "      <td>1</td>\n",
       "      <td>1</td>\n",
       "    </tr>\n",
       "    <tr>\n",
       "      <th>1</th>\n",
       "      <td>1.0</td>\n",
       "      <td>2</td>\n",
       "      <td>4</td>\n",
       "    </tr>\n",
       "    <tr>\n",
       "      <th>2</th>\n",
       "      <td>1.0</td>\n",
       "      <td>3</td>\n",
       "      <td>9</td>\n",
       "    </tr>\n",
       "  </tbody>\n",
       "</table>\n",
       "</div>"
      ],
      "text/plain": [
       "   Intercept  a  my_transform(a)\n",
       "0        1.0  1                1\n",
       "1        1.0  2                4\n",
       "2        1.0  3                9"
      ]
     },
     "execution_count": 2,
     "metadata": {},
     "output_type": "execute_result"
    }
   ],
   "source": [
    "# Local context is automatically added\n",
    "model_matrix(\"a + my_transform(a)\", pandas.DataFrame({\"a\": [1, 2, 3]}))"
   ]
  },
  {
   "cell_type": "code",
   "execution_count": 3,
   "metadata": {},
   "outputs": [
    {
     "data": {
      "text/html": [
       "<div>\n",
       "<style scoped>\n",
       "    .dataframe tbody tr th:only-of-type {\n",
       "        vertical-align: middle;\n",
       "    }\n",
       "\n",
       "    .dataframe tbody tr th {\n",
       "        vertical-align: top;\n",
       "    }\n",
       "\n",
       "    .dataframe thead th {\n",
       "        text-align: right;\n",
       "    }\n",
       "</style>\n",
       "<table border=\"1\" class=\"dataframe\">\n",
       "  <thead>\n",
       "    <tr style=\"text-align: right;\">\n",
       "      <th></th>\n",
       "      <th>Intercept</th>\n",
       "      <th>a</th>\n",
       "      <th>my_transform(a)</th>\n",
       "    </tr>\n",
       "  </thead>\n",
       "  <tbody>\n",
       "    <tr>\n",
       "      <th>0</th>\n",
       "      <td>1.0</td>\n",
       "      <td>1</td>\n",
       "      <td>1</td>\n",
       "    </tr>\n",
       "    <tr>\n",
       "      <th>1</th>\n",
       "      <td>1.0</td>\n",
       "      <td>2</td>\n",
       "      <td>4</td>\n",
       "    </tr>\n",
       "    <tr>\n",
       "      <th>2</th>\n",
       "      <td>1.0</td>\n",
       "      <td>3</td>\n",
       "      <td>9</td>\n",
       "    </tr>\n",
       "  </tbody>\n",
       "</table>\n",
       "</div>"
      ],
      "text/plain": [
       "   Intercept  a  my_transform(a)\n",
       "0        1.0  1                1\n",
       "1        1.0  2                4\n",
       "2        1.0  3                9"
      ]
     },
     "execution_count": 3,
     "metadata": {},
     "output_type": "execute_result"
    }
   ],
   "source": [
    "# Manually add `my_transform` to the context\n",
    "Formula(\"a + my_transform(a)\").get_model_matrix(\n",
    "    pandas.DataFrame({\"a\": [1, 2, 3]}),\n",
    "    context={\"my_transform\": my_transform},  # could also use: context=locals()\n",
    ")"
   ]
  },
  {
   "attachments": {},
   "cell_type": "markdown",
   "metadata": {},
   "source": [
    "## Stateful transforms\n",
    "\n",
    "In Formulaic, a stateful transform is just a regular callable object (typically\n",
    "a function) that has an attribute `__is_stateful_transform__` that is set to\n",
    "`True`. Such callables will be passed up to three additional arguments by\n",
    "formulaic if they are present in the callable signature:\n",
    "\n",
    "* `_state`: The existing state or an empty dictionary that should be mutated\n",
    "    to record any additional state.\n",
    "* `_metadata`: An additional metadata dictionary passed on about the factor or \n",
    "    `None`. Will typically only be present if the `Factor` metadata is\n",
    "    populated.\n",
    "* `_spec`: The current model spec being evaluated (or an empty `ModelSpec` if\n",
    "    being called outside of Formulaic's materialization routines).\n",
    "\n",
    "Only `_state` is required, `_metadata` and `_spec` will only be passed in by \n",
    "Formulaic if they are present in the callable signature."
   ]
  },
  {
   "attachments": {},
   "cell_type": "markdown",
   "metadata": {},
   "source": [
    "### Provided stateful transforms\n",
    "\n",
    "Formulaic comes preloaded with some useful stateful transforms, which are \n",
    "outlined below."
   ]
  },
  {
   "attachments": {},
   "cell_type": "markdown",
   "metadata": {},
   "source": [
    "#### Scaling and Centering\n",
    "\n",
    "There are two provided scaling transforms: `scale(...)` and `center(...)`.\n",
    "\n",
    "`scale` rescales the data such that it is centered around zero with a standard\n",
    "deviation of 1. The centering and variance standardisation can be independently\n",
    "disabled as necessary. `center` is a simple wrapper around `scale` that only \n",
    "does the centering. For more details, refer to inline documentation: \n",
    "`help(scale)`.\n",
    "\n",
    "Example usage is shown below:"
   ]
  },
  {
   "cell_type": "code",
   "execution_count": 4,
   "metadata": {},
   "outputs": [
    {
     "data": {
      "text/plain": [
       "array([-1.42886902, -1.02062073, -0.61237244, -0.20412415,  0.20412415,\n",
       "        0.61237244,  1.02062073,  1.42886902])"
      ]
     },
     "execution_count": 4,
     "metadata": {},
     "output_type": "execute_result"
    }
   ],
   "source": [
    "from formulaic.transforms import center, scale\n",
    "\n",
    "scale(pandas.Series([1, 2, 3, 4, 5, 6, 7, 8]))"
   ]
  },
  {
   "cell_type": "code",
   "execution_count": 5,
   "metadata": {},
   "outputs": [
    {
     "data": {
      "text/plain": [
       "array([-3.5, -2.5, -1.5, -0.5,  0.5,  1.5,  2.5,  3.5])"
      ]
     },
     "execution_count": 5,
     "metadata": {},
     "output_type": "execute_result"
    }
   ],
   "source": [
    "center(pandas.Series([1, 2, 3, 4, 5, 6, 7, 8]))"
   ]
  },
  {
   "attachments": {},
   "cell_type": "markdown",
   "metadata": {},
   "source": [
    "#### Categorical Encoding\n",
    "\n",
    "Formulaic provides a rich family of categorical stateful transforms. These are \n",
    "perhaps the most commonly used transforms, and are used to encode\n",
    "categorical/factor data into a form suitable for numerical analysis. Use of \n",
    "these transforms is separately documented in the\n",
    "[Categorical Encoding](../contrasts/) section."
   ]
  },
  {
   "attachments": {},
   "cell_type": "markdown",
   "metadata": {},
   "source": [
    "#### Spline Encoding\n",
    "\n",
    "Spline coding is used to enable non-linear dependence on numerical features in\n",
    "linear models. Formulaic currently provides two spline transforms: `bs` for\n",
    "basis splines, and `poly` for polynomial splines. These are separately\n",
    "documented in the [Spline Encoding](../splines/) section."
   ]
  },
  {
   "attachments": {},
   "cell_type": "markdown",
   "metadata": {},
   "source": [
    "\n",
    "### Implementing custom stateful transforms\n",
    "\n",
    "You can either implement the above interface directly, or leverage the\n",
    "`stateful_transform` decorator provided by Formulaic, which then also updates\n",
    "your function into a single dispatch function, allowing multiple implementations\n",
    "that depend on the currently materialized type. A simple centering example is\n",
    "explored below."
   ]
  },
  {
   "cell_type": "code",
   "execution_count": 6,
   "metadata": {},
   "outputs": [
    {
     "name": "stdout",
     "output_type": "stream",
     "text": [
      "state {}\n",
      "metadata None\n",
      "spec ModelSpec(formula=, materializer=None, materializer_params=None, ensure_full_rank=True, na_action=<NAAction.DROP: 'drop'>, output=None, structure=None, transform_state={}, encoder_state={})\n"
     ]
    },
    {
     "data": {
      "text/plain": [
       "0   -1.0\n",
       "1    0.0\n",
       "2    1.0\n",
       "dtype: float64"
      ]
     },
     "execution_count": 6,
     "metadata": {},
     "output_type": "execute_result"
    }
   ],
   "source": [
    "import numpy\n",
    "\n",
    "from formulaic.transforms import stateful_transform\n",
    "\n",
    "\n",
    "@stateful_transform\n",
    "def center(data, _state=None, _metadata=None, _spec=None):\n",
    "    print(\"state\", _state)\n",
    "    print(\"metadata\", _metadata)\n",
    "    print(\"spec\", _spec)\n",
    "    if \"mean\" not in _state:\n",
    "        _state[\"mean\"] = numpy.mean(data)\n",
    "    return data - _state[\"mean\"]\n",
    "\n",
    "\n",
    "state = {}\n",
    "center(pandas.Series([1, 2, 3]), _state=state)"
   ]
  },
  {
   "cell_type": "code",
   "execution_count": 7,
   "metadata": {},
   "outputs": [
    {
     "data": {
      "text/plain": [
       "{'mean': 2.0}"
      ]
     },
     "execution_count": 7,
     "metadata": {},
     "output_type": "execute_result"
    }
   ],
   "source": [
    "state"
   ]
  },
  {
   "attachments": {},
   "cell_type": "markdown",
   "metadata": {},
   "source": [
    "The mutated state object is then stored by formulaic automatically into the \n",
    "right context in the appropriate `ModelSpec` instance for reuse as necessary.\n",
    "\n",
    "If you wanted to leverage the single dispatch functionality, you could do \n",
    "something like:"
   ]
  },
  {
   "cell_type": "code",
   "execution_count": 8,
   "metadata": {},
   "outputs": [],
   "source": [
    "from formulaic.transforms import stateful_transform\n",
    "\n",
    "\n",
    "@stateful_transform\n",
    "def center(data, _state=None, _metadata=None, _spec=None):\n",
    "    raise ValueError(f\"No implementation for data of type {repr(type(data))}\")\n",
    "\n",
    "\n",
    "@center.register(pandas.Series)\n",
    "def _(data, _state=None, _metadata=None, _spec=None):\n",
    "    if \"mean\" not in _state:\n",
    "        _state[\"mean\"] = numpy.mean(data)\n",
    "    return data - _state[\"mean\"]"
   ]
  },
  {
   "attachments": {},
   "cell_type": "markdown",
   "metadata": {},
   "source": [
    "<div class=\"admonition note\">\n",
    "    <p class=\"admonition-title\">Note</p>\n",
    "    <p>\n",
    "        If taking advantage of the single dispatch functionality, it is\n",
    "        important that the top-level function has exactly the same signature as\n",
    "        the type specific implementations.\n",
    "    </p>\n",
    "</div>"
   ]
  }
 ],
 "metadata": {
  "kernelspec": {
   "display_name": "Python 3",
   "language": "python",
   "name": "python3"
  },
  "language_info": {
   "codemirror_mode": {
    "name": "ipython",
    "version": 3
   },
   "file_extension": ".py",
   "mimetype": "text/x-python",
   "name": "python",
   "nbconvert_exporter": "python",
   "pygments_lexer": "ipython3",
   "version": "3.11.2"
  },
  "orig_nbformat": 4,
  "vscode": {
   "interpreter": {
    "hash": "47dead3f41f007c145e1b6a3a3236d0073529fa0f84becc646efdc563d7d1d7c"
   }
  }
 },
 "nbformat": 4,
 "nbformat_minor": 2
}
