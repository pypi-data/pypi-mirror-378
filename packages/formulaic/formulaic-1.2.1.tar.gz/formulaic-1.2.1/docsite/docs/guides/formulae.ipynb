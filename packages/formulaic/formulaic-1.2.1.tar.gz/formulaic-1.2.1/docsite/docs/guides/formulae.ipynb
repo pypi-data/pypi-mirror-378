{
 "cells": [
  {
   "cell_type": "markdown",
   "metadata": {},
   "source": [
    "This section of the documentation is intended to provide a high-level overview\n",
    "of the way in which formulae are interpreted and materialized by Formulaic.\n",
    "\n",
    "Recall that the goal of a formula is to act as a recipe for building a \"model\n",
    "matrix\" (also known as a \"design matrix\") from an existing dataset. Following\n",
    "the recipe should result in a dataset that consists only of numerical columns\n",
    "that can be linearly combined to model an outcome/response of interest (the\n",
    "coefficients of which typically being estimated using linear regression). As\n",
    "such, this process will bake in any desired non-linearity via interactions or\n",
    "transforms, and will encode nominal/categorical/factor data as a collection of\n",
    "numerical contrasts.\n",
    "\n",
    "The ingredients of each formula are the columns of the original dataset, and\n",
    "each operator acting on these columns in the formula should be thought of as\n",
    "inclusion/exclusion of the column in the resulting model matrix, or as a\n",
    "transformation on the column(s) prior to inclusion. Thus, a `+` operator does\n",
    "not act in its usual algebraic manner, but rather acts as set union, indicating\n",
    "that both the left- and right-hand arguments should be included in the model\n",
    "matrix; a `-` operator acts like a set difference; and so on."
   ]
  },
  {
   "attachments": {},
   "cell_type": "markdown",
   "metadata": {},
   "source": [
    "## Anatomy of a Formula"
   ]
  },
  {
   "attachments": {},
   "cell_type": "markdown",
   "metadata": {},
   "source": [
    "Formulas in Formulaic are represented by (subclasses of) the `Formula` class. Instances of `Formula` subclasses are a ultimately containers for sets of `Term` instances, which in turn are a container for a set of `Factor` instances. Let's start our dissection at the bottom, and work our way up."
   ]
  },
  {
   "attachments": {},
   "cell_type": "markdown",
   "metadata": {},
   "source": [
    "\n",
    "### Factor\n",
    "\n",
    "`Factor` instances are the atomic unit of a formula, and represent the output \n",
    "of a single expression evaluation. Typically this will be one vector of data, \n",
    "but could also be more than one column (especially common with [categorically\n",
    "encoded data](../contrasts/)).\n",
    "\n",
    "A `Factor` instance's expression can be evaluated in one of three ways:\n",
    "\n",
    "1. As a literal; in which case the expression is taken as number or string, and \n",
    "    repeated over all rows in the resulting model matrix.\n",
    "2. As a lookup: in which case the expression is treated as a name to be looked\n",
    "    up in the data context provided during materialization.\n",
    "3. As a Python expression: in which case it is executed in the data context \n",
    "    provided.\n",
    "\n",
    "**Note:** Factor instances act as metadata only, and are not directly\n",
    "responsible for doing the evaluation. This is handled in a backend specific\n",
    "way by the appropriate `Materializer` instance.\n",
    "\n",
    "In code, instantiating a factor looks like:"
   ]
  },
  {
   "cell_type": "code",
   "execution_count": 1,
   "metadata": {},
   "outputs": [
    {
     "data": {
      "text/plain": [
       "a + b"
      ]
     },
     "execution_count": 1,
     "metadata": {},
     "output_type": "execute_result"
    }
   ],
   "source": [
    "from formulaic.parser.types import Factor\n",
    "\n",
    "Factor(\n",
    "    \"1\", eval_method=\"literal\"\n",
    ")  # a factor that represents the numerical constant of 1\n",
    "Factor(\"a\")  # a factor that will be looked up from the data context\n",
    "Factor(\n",
    "    \"a + b\", eval_method=\"python\"\n",
    ")  # a factor that will return the sum of `a` and `b`"
   ]
  },
  {
   "attachments": {},
   "cell_type": "markdown",
   "metadata": {},
   "source": [
    "### Term\n",
    "\n",
    "`Term` instances are a thin wrapper around a set of `Factor` instances, and \n",
    "represent the Cartesian (or Kronecker) product of the factors. If all of the \n",
    "`Factor` instances evaluate to single columns, then the `Term` represents the\n",
    "product of all of the factor columns.\n",
    "\n",
    "Instantiating a `Term` looks like:\n"
   ]
  },
  {
   "cell_type": "code",
   "execution_count": 2,
   "metadata": {},
   "outputs": [
    {
     "data": {
      "text/plain": [
       "b:a:c"
      ]
     },
     "execution_count": 2,
     "metadata": {},
     "output_type": "execute_result"
    }
   ],
   "source": [
    "from formulaic.parser.types import Term\n",
    "\n",
    "Term(factors=[Factor(\"b\"), Factor(\"a\"), Factor(\"c\")])"
   ]
  },
  {
   "attachments": {},
   "cell_type": "markdown",
   "metadata": {},
   "source": [
    "Note that to ensure uniqueness in the representation, the factor instances are\n",
    "sorted."
   ]
  },
  {
   "attachments": {},
   "cell_type": "markdown",
   "metadata": {},
   "source": [
    "### Formula\n",
    "\n",
    "`Formula` instances are (potentially nested) wrappers around collections of\n",
    "`Term` instances. During materialization into a model matrix, each `Term`\n",
    "instance will have its columns independently inserted into the resulting matrix.\n",
    "\n",
    "`Formula` instances can consist of a single \"list\" of `Term` instances, or may\n",
    "be \"structured\"; for example, we may want a separate collection of terms for the\n",
    "left- and right-hand side of a formula; or to simultaneously construct multiple\n",
    "model matrices for different parts of our modeling process.\n",
    "\n",
    "For example, an unstructured formula might look like:"
   ]
  },
  {
   "cell_type": "code",
   "execution_count": 3,
   "metadata": {},
   "outputs": [
    {
     "data": {
      "text/plain": [
       "a:b + c:d:e"
      ]
     },
     "execution_count": 3,
     "metadata": {},
     "output_type": "execute_result"
    }
   ],
   "source": [
    "from formulaic import Formula\n",
    "\n",
    "# Unstructured formula (a simple list of terms)\n",
    "f = Formula(\n",
    "    [\n",
    "        Term(factors=[Factor(\"c\"), Factor(\"d\"), Factor(\"e\")]),\n",
    "        Term(factors=[Factor(\"a\"), Factor(\"b\")]),\n",
    "    ]\n",
    ")\n",
    "f"
   ]
  },
  {
   "attachments": {},
   "cell_type": "markdown",
   "metadata": {},
   "source": [
    "Note that unstructured formulae are actually instances of `SimpleFormula` (a `Formula` subclass that acts like a mutable list of `Term` instances):\n"
   ]
  },
  {
   "cell_type": "code",
   "execution_count": 4,
   "metadata": {},
   "outputs": [
    {
     "data": {
      "text/plain": [
       "(formulaic.formula.SimpleFormula, [a:b, c:d:e])"
      ]
     },
     "execution_count": 4,
     "metadata": {},
     "output_type": "execute_result"
    }
   ],
   "source": [
    "type(f), list(f)"
   ]
  },
  {
   "cell_type": "markdown",
   "metadata": {},
   "source": [
    "Also note that in its standard representation, the terms are separated by \"+\"\n",
    "which is interpreted as the set union in this context, and that (as we have seen\n",
    "for `Term` instances) `Formula` instances are sorted (the default is to sort \n",
    "terms only by interaction order, but this can be customized and/or disabled, as\n",
    "described below).\n",
    "\n",
    "Structured formula are constructed similary:"
   ]
  },
  {
   "cell_type": "code",
   "execution_count": 5,
   "metadata": {},
   "outputs": [
    {
     "data": {
      "text/plain": [
       "root:\n",
       "    root_col\n",
       ".my_substructure:\n",
       "    sub_col\n",
       ".nested:\n",
       "    root:\n",
       "        nested_col + another_nested_col\n",
       "    .really_nested:\n",
       "        really_nested_col"
      ]
     },
     "execution_count": 5,
     "metadata": {},
     "output_type": "execute_result"
    }
   ],
   "source": [
    "f = Formula(\n",
    "    [\n",
    "        Term(factors=[Factor(\"root_col\")]),\n",
    "    ],\n",
    "    my_substructure=[\n",
    "        Term(factors=[Factor(\"sub_col\")]),\n",
    "    ],\n",
    "    nested=Formula(\n",
    "        [\n",
    "            Term(factors=[Factor(\"nested_col\")]),\n",
    "            Term(factors=[Factor(\"another_nested_col\")]),\n",
    "        ],\n",
    "        really_nested=[\n",
    "            Term(factors=[Factor(\"really_nested_col\")]),\n",
    "        ],\n",
    "    ),\n",
    ")\n",
    "f"
   ]
  },
  {
   "cell_type": "markdown",
   "metadata": {},
   "source": [
    "Structured formulae are instances of `StructuredFormula`:"
   ]
  },
  {
   "cell_type": "code",
   "execution_count": 6,
   "metadata": {},
   "outputs": [
    {
     "data": {
      "text/plain": [
       "formulaic.formula.StructuredFormula"
      ]
     },
     "execution_count": 6,
     "metadata": {},
     "output_type": "execute_result"
    }
   ],
   "source": [
    "type(f)"
   ]
  },
  {
   "attachments": {},
   "cell_type": "markdown",
   "metadata": {},
   "source": [
    "And the sub-formula can be selected using:"
   ]
  },
  {
   "cell_type": "code",
   "execution_count": 7,
   "metadata": {},
   "outputs": [
    {
     "data": {
      "text/plain": [
       "root_col"
      ]
     },
     "execution_count": 7,
     "metadata": {},
     "output_type": "execute_result"
    }
   ],
   "source": [
    "f.root"
   ]
  },
  {
   "cell_type": "code",
   "execution_count": 8,
   "metadata": {},
   "outputs": [
    {
     "data": {
      "text/plain": [
       "root:\n",
       "    nested_col + another_nested_col\n",
       ".really_nested:\n",
       "    really_nested_col"
      ]
     },
     "execution_count": 8,
     "metadata": {},
     "output_type": "execute_result"
    }
   ],
   "source": [
    "f.nested"
   ]
  },
  {
   "attachments": {},
   "cell_type": "markdown",
   "metadata": {},
   "source": [
    "Formulae can also have different ordering conventions applied to them. By\n",
    "default, Formulaic follows R conventions around ordering whereby terms are\n",
    "sorted by their interaction degree (number of factors) and then by the order in\n",
    "which they were present in the the term list. This behaviour can be modified to\n",
    "perform no ordering or full lexical sorting of terms and factors by passing\n",
    "`_ordering=\"none\"` or `_ordering=\"sort\"` respectively to the `Formula`\n",
    "constructor. The default ordering is equivalent to passing `_ordering=\"degree\"`.\n",
    "For example:"
   ]
  },
  {
   "cell_type": "code",
   "execution_count": 9,
   "metadata": {},
   "outputs": [
    {
     "data": {
      "text/plain": [
       "{'degree': 1 + z + g + z:a + z:b:a,\n",
       " 'none': 1 + z + z:a + z:b:a + g,\n",
       " 'sort': 1 + g + z + a:z + a:b:z}"
      ]
     },
     "execution_count": 9,
     "metadata": {},
     "output_type": "execute_result"
    }
   ],
   "source": [
    "{\n",
    "    \"degree\": Formula(\"z + z:a + z:b:a + g\"),\n",
    "    \"none\": Formula(\"z + z:a + z:b:a + g\", _ordering=\"none\"),\n",
    "    \"sort\": Formula(\"z + z:a + z:b:a + g\", _ordering=\"sort\"),\n",
    "}"
   ]
  },
  {
   "attachments": {},
   "cell_type": "markdown",
   "metadata": {},
   "source": [
    "## Parsed Formulae\n",
    "\n",
    "While it would be possible to always manually construct `Formula` instances in\n",
    "this way, it would quickly grow tedious. As you might have guessed from reading\n",
    "the quickstart or via other implementations, this is where Wilkinson formulae\n",
    "come in. Formulaic has a rich extensible formula parser that converts string\n",
    "expressions into the formula structures you see above. Where functionality and\n",
    "grammar overlap, it tries to conform to existing patterns found in R and patsy.\n",
    "\n",
    "Formula parsing happens in three phases:\n",
    "\n",
    "1. tokenization of the formula string;\n",
    "2. conversion of the tokens into an abstract syntax tree (AST); and\n",
    "2. evaluation of the AST into (potentially structured) lists of `Term`\n",
    "   instances.\n",
    "\n",
    "In the sections below these phases are described in more detail."
   ]
  },
  {
   "attachments": {},
   "cell_type": "markdown",
   "metadata": {},
   "source": [
    "### Tokenization"
   ]
  },
  {
   "attachments": {},
   "cell_type": "markdown",
   "metadata": {},
   "source": [
    "Formulaic intentionally makes the tokenization phase as unopinionated and\n",
    "unstructured as possible. This allows formula grammars to be extended via\n",
    "plugins only high-level APIs (usually `Operator`s).\n",
    "\n",
    "The tokenizer's role is to take an arbitrary string representation of a formula\n",
    "and convert it into a series of `Token` instances. The tokenization phase knows\n",
    "very little about formula grammar except that whitespace doesn't matter, that we\n",
    "distinguish non-word characters as operators or context indicators.\n",
    "Interpretation of these tokens is left to the AST generation phase. There are\n",
    "five different kinds of tokens:\n",
    "\n",
    "1. Context: Symbol pairs representing he opening or closing of nested contexts.\n",
    "    This applies to parentheses `()` and square brackets `[]`.\n",
    "2. Operator: Symbol(s) representing a operation on other tokens in the string\n",
    "    (interpreted during AST creation).\n",
    "3. Name: A character sequence representing variable/data-column name.\n",
    "4. Python: A character sequence representing executable Python code.\n",
    "5. Value: A character sequence representing a Python literal.\n",
    "    \n",
    "The tokenizer treats text quoted with ``` ` ``` characters as a name token, and\n",
    "`{}` are used to quote Python operations.\n",
    "\n",
    "An example of the tokens generated can be seen below:"
   ]
  },
  {
   "cell_type": "code",
   "execution_count": 10,
   "metadata": {},
   "outputs": [
    {
     "data": {
      "text/plain": [
       "['y : name',\n",
       " '~ : operator',\n",
       " '1 : value',\n",
       " '+ : operator',\n",
       " 'b : name',\n",
       " ': : operator',\n",
       " 'log(c) : python',\n",
       " '| : operator',\n",
       " 'd$in^df : name',\n",
       " '+ : operator',\n",
       " 'e + f : python']"
      ]
     },
     "execution_count": 10,
     "metadata": {},
     "output_type": "execute_result"
    }
   ],
   "source": [
    "from formulaic.parser import DefaultFormulaParser\n",
    "\n",
    "[\n",
    "    f\"{token.token} : {token.kind.value}\"\n",
    "    for token in (\n",
    "        DefaultFormulaParser(include_intercept=False).get_tokens(\n",
    "            \"y ~ 1 + b:log(c) | `d$in^df` + {e + f}\"\n",
    "        )\n",
    "    )\n",
    "]"
   ]
  },
  {
   "attachments": {},
   "cell_type": "markdown",
   "metadata": {},
   "source": [
    "### Abstract Syntax Tree (AST)"
   ]
  },
  {
   "attachments": {},
   "cell_type": "markdown",
   "metadata": {},
   "source": [
    "The next phase is to assemble an abstract syntax tree (AST) from the tokens\n",
    "output from the above that when evaluated will generate the `Term` instances we\n",
    "need to build a formula. This is done by using an enriched [shunting yard\n",
    "algorithm](https://en.wikipedia.org/wiki/Shunting-yard_algorithm) which\n",
    "determines how to interpret each operator token based on the symbol used, the\n",
    "number and position of the non-operator arguments, and the current context (i.e.\n",
    "how many parentheses deep we are). This allows us to disambiguate between, for\n",
    "example, unary and binary addition operators. The available operators and their\n",
    "implementation are described in more detail in the [Formula\n",
    "Grammar](../grammar/) section of this documentation. It is worth noting that the\n",
    "available operators can be easily modified at runtime, and is typically all that\n",
    "needs to be modified in order to add new formula grammars.\n",
    "\n",
    "The result is an AST that look something like:"
   ]
  },
  {
   "cell_type": "code",
   "execution_count": 11,
   "metadata": {},
   "outputs": [
    {
     "data": {
      "text/plain": [
       "<ASTNode ~: [y, <ASTNode +: [<ASTNode +: [1, a]>, <ASTNode :: [b, c]>]>]>"
      ]
     },
     "execution_count": 11,
     "metadata": {},
     "output_type": "execute_result"
    }
   ],
   "source": [
    "DefaultFormulaParser().get_ast(\"y ~ a + b:c\")"
   ]
  },
  {
   "attachments": {},
   "cell_type": "markdown",
   "metadata": {},
   "source": [
    "### Evaluation"
   ]
  },
  {
   "attachments": {},
   "cell_type": "markdown",
   "metadata": {},
   "source": [
    "Now that we have the AST, we can readily evaluate it to generate the `Term` \n",
    "instances we need to pass to our `Formula` constructor. For example:"
   ]
  },
  {
   "cell_type": "code",
   "execution_count": 12,
   "metadata": {},
   "outputs": [
    {
     "data": {
      "text/plain": [
       ".lhs:\n",
       "    {y}\n",
       ".rhs:\n",
       "    {a, b:c}"
      ]
     },
     "execution_count": 12,
     "metadata": {},
     "output_type": "execute_result"
    }
   ],
   "source": [
    "terms = DefaultFormulaParser(include_intercept=False).get_terms(\"y ~ a + b:c\")\n",
    "terms"
   ]
  },
  {
   "cell_type": "code",
   "execution_count": 13,
   "metadata": {},
   "outputs": [
    {
     "data": {
      "text/plain": [
       ".lhs:\n",
       "    y\n",
       ".rhs:\n",
       "    a + b:c"
      ]
     },
     "execution_count": 13,
     "metadata": {},
     "output_type": "execute_result"
    }
   ],
   "source": [
    "Formula(terms)"
   ]
  },
  {
   "attachments": {},
   "cell_type": "markdown",
   "metadata": {},
   "source": [
    "Of course, manually building the terms and passing them to the formula \n",
    "constructor is a bit annoying, and so instead we allow passing the string \n",
    "directly to the `Formula` constructor; and allow you to override the default\n",
    "parser if you so desire (though 99.9% of the time this wouldn't be necessary).\n",
    "\n",
    "Thus, we can generate the same formula from above using:"
   ]
  },
  {
   "cell_type": "code",
   "execution_count": 14,
   "metadata": {},
   "outputs": [
    {
     "data": {
      "text/plain": [
       ".lhs:\n",
       "    y\n",
       ".rhs:\n",
       "    a + b:c"
      ]
     },
     "execution_count": 14,
     "metadata": {},
     "output_type": "execute_result"
    }
   ],
   "source": [
    "Formula(\"y ~ a + b:c\", _parser=DefaultFormulaParser(include_intercept=False))"
   ]
  },
  {
   "attachments": {},
   "cell_type": "markdown",
   "metadata": {},
   "source": [
    "## Materialization"
   ]
  },
  {
   "attachments": {},
   "cell_type": "markdown",
   "metadata": {},
   "source": [
    "Once you have `Formula` instance, the next logical step is to use it to\n",
    "materialize a model matrix. This is usually as simple passing the raw data as\n",
    "an argument to `.get_model_matrix()`:"
   ]
  },
  {
   "cell_type": "code",
   "execution_count": 15,
   "metadata": {},
   "outputs": [
    {
     "data": {
      "text/html": [
       "<div>\n",
       "<style scoped>\n",
       "    .dataframe tbody tr th:only-of-type {\n",
       "        vertical-align: middle;\n",
       "    }\n",
       "\n",
       "    .dataframe tbody tr th {\n",
       "        vertical-align: top;\n",
       "    }\n",
       "\n",
       "    .dataframe thead th {\n",
       "        text-align: right;\n",
       "    }\n",
       "</style>\n",
       "<table border=\"1\" class=\"dataframe\">\n",
       "  <thead>\n",
       "    <tr style=\"text-align: right;\">\n",
       "      <th></th>\n",
       "      <th>Intercept</th>\n",
       "      <th>a</th>\n",
       "      <th>b:c</th>\n",
       "    </tr>\n",
       "  </thead>\n",
       "  <tbody>\n",
       "    <tr>\n",
       "      <th>0</th>\n",
       "      <td>1.0</td>\n",
       "      <td>1</td>\n",
       "      <td>28</td>\n",
       "    </tr>\n",
       "    <tr>\n",
       "      <th>1</th>\n",
       "      <td>1.0</td>\n",
       "      <td>2</td>\n",
       "      <td>40</td>\n",
       "    </tr>\n",
       "    <tr>\n",
       "      <th>2</th>\n",
       "      <td>1.0</td>\n",
       "      <td>3</td>\n",
       "      <td>54</td>\n",
       "    </tr>\n",
       "  </tbody>\n",
       "</table>\n",
       "</div>"
      ],
      "text/plain": [
       "   Intercept  a  b:c\n",
       "0        1.0  1   28\n",
       "1        1.0  2   40\n",
       "2        1.0  3   54"
      ]
     },
     "execution_count": 15,
     "metadata": {},
     "output_type": "execute_result"
    }
   ],
   "source": [
    "import pandas\n",
    "\n",
    "data = pandas.DataFrame(\n",
    "    {\"a\": [1, 2, 3], \"b\": [4, 5, 6], \"c\": [7, 8, 9], \"A\": [\"a\", \"b\", \"c\"]}\n",
    ")\n",
    "Formula(\"a + b:c\").get_model_matrix(data)"
   ]
  },
  {
   "attachments": {},
   "cell_type": "markdown",
   "metadata": {},
   "source": [
    "Just as for formulae, the model matrices can be structured, and will be structured\n",
    "in the same way as the original formula. For example:"
   ]
  },
  {
   "cell_type": "code",
   "execution_count": 16,
   "metadata": {},
   "outputs": [
    {
     "data": {
      "text/plain": [
       "root:\n",
       "       Intercept  a\n",
       "    0        1.0  1\n",
       "    1        1.0  2\n",
       "    2        1.0  3\n",
       ".group:\n",
       "       b  c\n",
       "    0  4  7\n",
       "    1  5  8\n",
       "    2  6  9"
      ]
     },
     "execution_count": 16,
     "metadata": {},
     "output_type": "execute_result"
    }
   ],
   "source": [
    "Formula(\"a\", group=\"b+c\").get_model_matrix(data)"
   ]
  },
  {
   "attachments": {},
   "cell_type": "markdown",
   "metadata": {},
   "source": [
    "Under the hood, both of these calls have looked at the type of the data\n",
    "(`pandas.DataFrame` here) and then looked up the `FormulaMaterializer` \n",
    "associated with that type (`PandasMaterializer` here), and then passed the \n",
    "formula and data along to the materializer for materialization. It is also \n",
    "possible to request a specific output type that varies by materializer \n",
    "(`PandasMaterializer` supports \"pandas\", \"numpy\", and \"sparse\"). If one is not \n",
    "selected, the first available output type is selected for you. Thus, the above\n",
    "code is equivalent to:"
   ]
  },
  {
   "cell_type": "code",
   "execution_count": 17,
   "metadata": {},
   "outputs": [
    {
     "data": {
      "text/html": [
       "<div>\n",
       "<style scoped>\n",
       "    .dataframe tbody tr th:only-of-type {\n",
       "        vertical-align: middle;\n",
       "    }\n",
       "\n",
       "    .dataframe tbody tr th {\n",
       "        vertical-align: top;\n",
       "    }\n",
       "\n",
       "    .dataframe thead th {\n",
       "        text-align: right;\n",
       "    }\n",
       "</style>\n",
       "<table border=\"1\" class=\"dataframe\">\n",
       "  <thead>\n",
       "    <tr style=\"text-align: right;\">\n",
       "      <th></th>\n",
       "      <th>Intercept</th>\n",
       "      <th>a</th>\n",
       "      <th>b:c</th>\n",
       "    </tr>\n",
       "  </thead>\n",
       "  <tbody>\n",
       "    <tr>\n",
       "      <th>0</th>\n",
       "      <td>1.0</td>\n",
       "      <td>1</td>\n",
       "      <td>28</td>\n",
       "    </tr>\n",
       "    <tr>\n",
       "      <th>1</th>\n",
       "      <td>1.0</td>\n",
       "      <td>2</td>\n",
       "      <td>40</td>\n",
       "    </tr>\n",
       "    <tr>\n",
       "      <th>2</th>\n",
       "      <td>1.0</td>\n",
       "      <td>3</td>\n",
       "      <td>54</td>\n",
       "    </tr>\n",
       "  </tbody>\n",
       "</table>\n",
       "</div>"
      ],
      "text/plain": [
       "   Intercept  a  b:c\n",
       "0        1.0  1   28\n",
       "1        1.0  2   40\n",
       "2        1.0  3   54"
      ]
     },
     "execution_count": 17,
     "metadata": {},
     "output_type": "execute_result"
    }
   ],
   "source": [
    "from formulaic.materializers import PandasMaterializer\n",
    "\n",
    "PandasMaterializer(data).get_model_matrix(Formula(\"a + b:c\"), output=\"pandas\")"
   ]
  },
  {
   "attachments": {},
   "cell_type": "markdown",
   "metadata": {},
   "source": [
    "The return type of `.get_model_matrix()` is either a `ModelMatrix` instance if\n",
    "the original formula was unstructured, or a `ModelMatrices` instance that is \n",
    "just a structured container for `ModelMatrix` instances. However, `ModelMatrix`\n",
    "is an [ObjectProxy](https://wrapt.readthedocs.io/en/latest/wrappers.html)\n",
    "subclass, and so it *also* acts like the type of object requested. For example:"
   ]
  },
  {
   "cell_type": "code",
   "execution_count": 18,
   "metadata": {},
   "outputs": [
    {
     "data": {
      "text/plain": [
       "(True, True)"
      ]
     },
     "execution_count": 18,
     "metadata": {},
     "output_type": "execute_result"
    }
   ],
   "source": [
    "import numpy\n",
    "\n",
    "from formulaic import ModelMatrix\n",
    "\n",
    "mm = Formula(\"a + b:c\").get_model_matrix(data, output=\"numpy\")\n",
    "isinstance(mm, ModelMatrix), isinstance(mm, numpy.ndarray)"
   ]
  },
  {
   "attachments": {},
   "cell_type": "markdown",
   "metadata": {},
   "source": [
    "The main purpose of this additional proxy layer is to expose the `ModelSpec`\n",
    "instance associated with the materialization, which retains all of the encoding\n",
    "choices made during materialization (for reuse in subsequent materializations),\n",
    "as well as metadata about the feature names of the current model matrix (which\n",
    "is very useful when your model matrix output type doesn't have column names,\n",
    "like numpy or sparse arrays). This `ModelSpec` instance is always available via\n",
    "`.model_spec`, and is introduced in more detail in the [Model\n",
    "Specs](../model_specs/) section of this documentation."
   ]
  },
  {
   "cell_type": "code",
   "execution_count": 19,
   "metadata": {},
   "outputs": [
    {
     "data": {
      "text/plain": [
       "ModelSpec(formula=1 + a + b:c, materializer='pandas', materializer_params={}, ensure_full_rank=True, na_action=<NAAction.DROP: 'drop'>, output='numpy', cluster_by=<ClusterBy.NONE: 'none'>, structure=[EncodedTermStructure(term=1, scoped_terms=[1], columns=['Intercept']), EncodedTermStructure(term=a, scoped_terms=[a], columns=['a']), EncodedTermStructure(term=b:c, scoped_terms=[b:c], columns=['b:c'])], transform_state={}, encoder_state={'a': (<Kind.NUMERICAL: 'numerical'>, {}), 'b': (<Kind.NUMERICAL: 'numerical'>, {}), 'c': (<Kind.NUMERICAL: 'numerical'>, {})})"
      ]
     },
     "execution_count": 19,
     "metadata": {},
     "output_type": "execute_result"
    }
   ],
   "source": [
    "mm.model_spec"
   ]
  },
  {
   "attachments": {},
   "cell_type": "markdown",
   "metadata": {},
   "source": [
    "It is sometimes convenient to have the columns in the final model matrix \n",
    "be clustered by numerical factors included in the terms. This means that in \n",
    "regression reports, for example, all of the columns related to a particular\n",
    "feature of interest (including its interactions with various categorical\n",
    "features) are contiguously clustered. This is the default behaviour in patsy.\n",
    "You can perform this clustering in Formulaic by passing the\n",
    "`cluster_by=\"numerical_factors\"` argument to `model_matrix` or any of the \n",
    "`.get_model_matrix(...)` methods. For example:"
   ]
  },
  {
   "cell_type": "code",
   "execution_count": 20,
   "metadata": {},
   "outputs": [
    {
     "data": {
      "text/html": [
       "<div>\n",
       "<style scoped>\n",
       "    .dataframe tbody tr th:only-of-type {\n",
       "        vertical-align: middle;\n",
       "    }\n",
       "\n",
       "    .dataframe tbody tr th {\n",
       "        vertical-align: top;\n",
       "    }\n",
       "\n",
       "    .dataframe thead th {\n",
       "        text-align: right;\n",
       "    }\n",
       "</style>\n",
       "<table border=\"1\" class=\"dataframe\">\n",
       "  <thead>\n",
       "    <tr style=\"text-align: right;\">\n",
       "      <th></th>\n",
       "      <th>Intercept</th>\n",
       "      <th>a</th>\n",
       "      <th>a:A[T.b]</th>\n",
       "      <th>a:A[T.c]</th>\n",
       "      <th>b</th>\n",
       "      <th>A[T.b]:b</th>\n",
       "      <th>A[T.c]:b</th>\n",
       "    </tr>\n",
       "  </thead>\n",
       "  <tbody>\n",
       "    <tr>\n",
       "      <th>0</th>\n",
       "      <td>1.0</td>\n",
       "      <td>1</td>\n",
       "      <td>0</td>\n",
       "      <td>0</td>\n",
       "      <td>4</td>\n",
       "      <td>0</td>\n",
       "      <td>0</td>\n",
       "    </tr>\n",
       "    <tr>\n",
       "      <th>1</th>\n",
       "      <td>1.0</td>\n",
       "      <td>2</td>\n",
       "      <td>2</td>\n",
       "      <td>0</td>\n",
       "      <td>5</td>\n",
       "      <td>5</td>\n",
       "      <td>0</td>\n",
       "    </tr>\n",
       "    <tr>\n",
       "      <th>2</th>\n",
       "      <td>1.0</td>\n",
       "      <td>3</td>\n",
       "      <td>0</td>\n",
       "      <td>3</td>\n",
       "      <td>6</td>\n",
       "      <td>0</td>\n",
       "      <td>6</td>\n",
       "    </tr>\n",
       "  </tbody>\n",
       "</table>\n",
       "</div>"
      ],
      "text/plain": [
       "   Intercept  a  a:A[T.b]  a:A[T.c]  b  A[T.b]:b  A[T.c]:b\n",
       "0        1.0  1         0         0  4         0         0\n",
       "1        1.0  2         2         0  5         5         0\n",
       "2        1.0  3         0         3  6         0         6"
      ]
     },
     "execution_count": 20,
     "metadata": {},
     "output_type": "execute_result"
    }
   ],
   "source": [
    "Formula(\"a + b + a:A + A:b\").get_model_matrix(data, cluster_by=\"numerical_factors\")"
   ]
  }
 ],
 "metadata": {
  "kernelspec": {
   "display_name": "venv",
   "language": "python",
   "name": "python3"
  },
  "language_info": {
   "codemirror_mode": {
    "name": "ipython",
    "version": 3
   },
   "file_extension": ".py",
   "mimetype": "text/x-python",
   "name": "python",
   "nbconvert_exporter": "python",
   "pygments_lexer": "ipython3",
   "version": "3.12.5"
  },
  "orig_nbformat": 4
 },
 "nbformat": 4,
 "nbformat_minor": 2
}
