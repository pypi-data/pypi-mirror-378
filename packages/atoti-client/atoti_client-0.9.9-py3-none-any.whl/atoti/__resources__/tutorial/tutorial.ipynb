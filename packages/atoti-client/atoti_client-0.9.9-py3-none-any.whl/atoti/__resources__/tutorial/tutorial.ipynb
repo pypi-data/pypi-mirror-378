{
 "cells": [
  {
   "cell_type": "markdown",
   "metadata": {},
   "source": [
    "# Tutorial\n",
    "\n",
    "This tutorial will walk you through the main features of Atoti by creating an application to analyze the sales of a company.\n",
    "\n",
    "We'll see how to:\n",
    "\n",
    "- Load normalized data in multiple tables to create a multidimensional cube.\n",
    "- Define aggregated measures to provide application-specific and high-level insights.\n",
    "- Build no-code interactive charts and tables in JupyterLab.\n",
    "- Create dashboards in the built-in web app.\n",
    "\n",
    "We encourage you to play this notebook in JupyterLab:\n",
    "\n",
    "- Copy the tutorial: `python -m atoti.copy_tutorial tutorial`\n",
    "- Open JupyterLab: `jupyter lab`\n",
    "- Open the created **tutorial** directory and start playing its notebook.\n",
    "\n",
    "For more information about a functionality, you can use the API reference or <kbd>Shift ⇧</kbd> + <kbd>Tab ⇥</kbd> on a Python symbol in JupyterLab."
   ]
  },
  {
   "cell_type": "markdown",
   "metadata": {},
   "source": [
    "## Getting started\n",
    "\n",
    "### From CSV to Cube\n",
    "\n",
    "In this part of the tutorial, you will create your first cube from a CSV file and learn multidimensional concepts such as _cube_, _dimension_, _hierarchy_, _measure_.\n",
    "\n",
    "Let's begin by starting a new _session_:"
   ]
  },
  {
   "cell_type": "code",
   "execution_count": 1,
   "metadata": {},
   "outputs": [],
   "source": [
    "import atoti as tt"
   ]
  },
  {
   "cell_type": "code",
   "execution_count": 2,
   "metadata": {},
   "outputs": [],
   "source": [
    "session = tt.Session.start()"
   ]
  },
  {
   "cell_type": "markdown",
   "metadata": {},
   "source": [
    "We can now load the data from a CSV file into an in-memory table called a _table_:"
   ]
  },
  {
   "cell_type": "code",
   "execution_count": null,
   "metadata": {},
   "outputs": [],
   "source": [
    "sales_table = session.read_csv(\"data/sales.csv\", keys={\"Sale ID\"}, table_name=\"Sales\")"
   ]
  },
  {
   "cell_type": "markdown",
   "metadata": {},
   "source": [
    "We can have a look at the loaded data.\n",
    "They are sales from a company:"
   ]
  },
  {
   "cell_type": "code",
   "execution_count": 4,
   "metadata": {
    "_atoti_test": {
     "snapshot_ignore": true
    }
   },
   "outputs": [
    {
     "data": {
      "text/html": [
       "<div>\n",
       "<style scoped>\n",
       "    .dataframe tbody tr th:only-of-type {\n",
       "        vertical-align: middle;\n",
       "    }\n",
       "\n",
       "    .dataframe tbody tr th {\n",
       "        vertical-align: top;\n",
       "    }\n",
       "\n",
       "    .dataframe thead th {\n",
       "        text-align: right;\n",
       "    }\n",
       "</style>\n",
       "<table border=\"1\" class=\"dataframe\">\n",
       "  <thead>\n",
       "    <tr style=\"text-align: right;\">\n",
       "      <th></th>\n",
       "      <th>Date</th>\n",
       "      <th>Shop</th>\n",
       "      <th>Product</th>\n",
       "      <th>Quantity</th>\n",
       "      <th>Unit price</th>\n",
       "    </tr>\n",
       "    <tr>\n",
       "      <th>Sale ID</th>\n",
       "      <th></th>\n",
       "      <th></th>\n",
       "      <th></th>\n",
       "      <th></th>\n",
       "      <th></th>\n",
       "    </tr>\n",
       "  </thead>\n",
       "  <tbody>\n",
       "    <tr>\n",
       "      <th>S000000004</th>\n",
       "      <td>2021-01-31</td>\n",
       "      <td>shop_4</td>\n",
       "      <td>BED_4</td>\n",
       "      <td>3.0</td>\n",
       "      <td>300.0</td>\n",
       "    </tr>\n",
       "    <tr>\n",
       "      <th>S000002861</th>\n",
       "      <td>2021-01-24</td>\n",
       "      <td>shop_21</td>\n",
       "      <td>HOO_55</td>\n",
       "      <td>1.0</td>\n",
       "      <td>48.0</td>\n",
       "    </tr>\n",
       "    <tr>\n",
       "      <th>S000002865</th>\n",
       "      <td>2021-01-20</td>\n",
       "      <td>shop_25</td>\n",
       "      <td>SHO_59</td>\n",
       "      <td>1.0</td>\n",
       "      <td>60.0</td>\n",
       "    </tr>\n",
       "    <tr>\n",
       "      <th>S000000010</th>\n",
       "      <td>2021-01-25</td>\n",
       "      <td>shop_10</td>\n",
       "      <td>TSH_10</td>\n",
       "      <td>1.0</td>\n",
       "      <td>24.0</td>\n",
       "    </tr>\n",
       "    <tr>\n",
       "      <th>S000004295</th>\n",
       "      <td>2021-01-30</td>\n",
       "      <td>shop_15</td>\n",
       "      <td>BED_25</td>\n",
       "      <td>1.0</td>\n",
       "      <td>300.0</td>\n",
       "    </tr>\n",
       "  </tbody>\n",
       "</table>\n",
       "</div>"
      ],
      "text/plain": [
       "                 Date     Shop Product  Quantity  Unit price\n",
       "Sale ID                                                     \n",
       "S000000004 2021-01-31   shop_4   BED_4       3.0       300.0\n",
       "S000002861 2021-01-24  shop_21  HOO_55       1.0        48.0\n",
       "S000002865 2021-01-20  shop_25  SHO_59       1.0        60.0\n",
       "S000000010 2021-01-25  shop_10  TSH_10       1.0        24.0\n",
       "S000004295 2021-01-30  shop_15  BED_25       1.0       300.0"
      ]
     },
     "execution_count": 4,
     "metadata": {},
     "output_type": "execute_result"
    }
   ],
   "source": [
    "sales_table.head()"
   ]
  },
  {
   "cell_type": "markdown",
   "metadata": {},
   "source": [
    "We will come back to tables in details later, for now we will use the one we have to create a _cube_:"
   ]
  },
  {
   "cell_type": "code",
   "execution_count": 5,
   "metadata": {},
   "outputs": [],
   "source": [
    "cube = session.create_cube(sales_table)"
   ]
  },
  {
   "cell_type": "markdown",
   "metadata": {},
   "source": [
    "That's it, you have created your first cube!\n",
    "But what's a cube exactly and how to use it?"
   ]
  },
  {
   "cell_type": "markdown",
   "metadata": {},
   "source": [
    "### Multidimensional concepts\n",
    "\n",
    "A _cube_ is a multidimensional view of some data, making it easy to explore, aggregate, filter and compare.\n",
    "It's called a cube because each attribute of the data can be represented as a dimension of the cube:\n",
    "\n",
    "<img alt=\"Multidimensional cube concept\" src=\"images/cube-concept.svg\" width=\"400\" />\n",
    "\n",
    "The axes of the cube are called _hierarchies_.\n",
    "The purpose of multidimensional analysis is to visualize some numeric indicators at specific coordinates of the cube.\n",
    "These indicators are called _measures_.\n",
    "An example of measure would be the quantity of products sold.\n",
    "\n",
    "We can list the hierarchies in our cube:"
   ]
  },
  {
   "cell_type": "code",
   "execution_count": 6,
   "metadata": {},
   "outputs": [
    {
     "data": {
      "application/json": {
       "Sales": {
        "Date": [
         "Date"
        ],
        "Product": [
         "Product"
        ],
        "Sale ID": [
         "Sale ID"
        ],
        "Shop": [
         "Shop"
        ]
       }
      },
      "text/html": [
       "<ul>\n",
       "<li>Dimensions\n",
       "  <ul>\n",
       "  <li>Sales\n",
       "    <ul>\n",
       "    <li>Date\n",
       "      <ol>\n",
       "      <li>Date</li>\n",
       "      </ol>    </li>\n",
       "    <li>Product\n",
       "      <ol>\n",
       "      <li>Product</li>\n",
       "      </ol>    </li>\n",
       "    <li>Sale ID\n",
       "      <ol>\n",
       "      <li>Sale ID</li>\n",
       "      </ol>    </li>\n",
       "    <li>Shop\n",
       "      <ol>\n",
       "      <li>Shop</li>\n",
       "      </ol>    </li>\n",
       "    </ul>\n",
       "  </li>\n",
       "  </ul>\n",
       "</li>\n",
       "</ul>\n"
      ],
      "text/plain": [
       "{('Sales', 'Shop'): <atoti.hierarchy.Hierarchy object at 0x1189e1930>, ('Sales', 'Date'): <atoti.hierarchy.Hierarchy object at 0x1189e1900>, ('Sales', 'Product'): <atoti.hierarchy.Hierarchy object at 0x1189e0cd0>, ('Sales', 'Sale ID'): <atoti.hierarchy.Hierarchy object at 0x1189e0d00>}"
      ]
     },
     "execution_count": 6,
     "metadata": {
      "application/json": {
       "expanded": true,
       "root": "Dimensions"
      }
     },
     "output_type": "execute_result"
    }
   ],
   "source": [
    "# Aliasing the hierarchies property to a shorter variable name because we will use it a lot.\n",
    "h = cube.hierarchies\n",
    "h"
   ]
  },
  {
   "cell_type": "markdown",
   "metadata": {},
   "source": [
    "The cube has automatically created a hierarchy for each non numeric column: **Date**, **Product**, **Sale ID** and **Shop**.\n",
    "\n",
    "You can see that the hierarchy are grouped into dimensions.\n",
    "Here we have a single dimension called **Sales**, which is the name of the table the columns come from. We will see how to move hierarchies between dimensions later.\n",
    "\n",
    "Hierarchies are also made of _levels_.\n",
    "Levels of the same hierarchy are attributes with a parent-child relationship.\n",
    "For instance, a city belongs to a country so **Country** and **City** could be the two levels of a **Geography** hierarchy.\n",
    "\n",
    "At the moment, we only have single-level hierarchies."
   ]
  },
  {
   "cell_type": "code",
   "execution_count": 7,
   "metadata": {},
   "outputs": [],
   "source": [
    "l = cube.levels"
   ]
  },
  {
   "cell_type": "markdown",
   "metadata": {},
   "source": [
    "Let's have a look at the measures of the cube that have been inferred from the data:"
   ]
  },
  {
   "cell_type": "code",
   "execution_count": 8,
   "metadata": {},
   "outputs": [
    {
     "data": {
      "application/json": {
       "Quantity.MEAN": {
        "formatter": "DOUBLE[#,###.00]"
       },
       "Quantity.SUM": {
        "formatter": "DOUBLE[#,###.00]"
       },
       "Unit price.MEAN": {
        "formatter": "DOUBLE[#,###.00]"
       },
       "Unit price.SUM": {
        "formatter": "DOUBLE[#,###.00]"
       },
       "contributors.COUNT": {
        "formatter": "INT[#,###]"
       }
      },
      "text/html": [
       "<ul>\n",
       "<li>Measures\n",
       "  <ul>\n",
       "  <li>Quantity.MEAN\n",
       "    <ul>\n",
       "    <li>formatter: DOUBLE[#,###.00]</li>\n",
       "    </ul>\n",
       "  </li>\n",
       "  <li>Quantity.SUM\n",
       "    <ul>\n",
       "    <li>formatter: DOUBLE[#,###.00]</li>\n",
       "    </ul>\n",
       "  </li>\n",
       "  <li>Unit price.MEAN\n",
       "    <ul>\n",
       "    <li>formatter: DOUBLE[#,###.00]</li>\n",
       "    </ul>\n",
       "  </li>\n",
       "  <li>Unit price.SUM\n",
       "    <ul>\n",
       "    <li>formatter: DOUBLE[#,###.00]</li>\n",
       "    </ul>\n",
       "  </li>\n",
       "  <li>contributors.COUNT\n",
       "    <ul>\n",
       "    <li>formatter: INT[#,###]</li>\n",
       "    </ul>\n",
       "  </li>\n",
       "  </ul>\n",
       "</li>\n",
       "</ul>\n"
      ],
      "text/plain": [
       "{'Unit price.SUM': <atoti.measure.Measure object at 0x1189e17b0>, 'contributors.COUNT': <atoti.measure.Measure object at 0x11895b490>, 'Quantity.SUM': <atoti.measure.Measure object at 0x11895b8e0>, 'Unit price.MEAN': <atoti.measure.Measure object at 0x11895b760>, 'Quantity.MEAN': <atoti.measure.Measure object at 0x11895b6a0>, 'update.TIMESTAMP': <atoti.measure.Measure object at 0x11895b4f0>}"
      ]
     },
     "execution_count": 8,
     "metadata": {
      "application/json": {
       "expanded": false,
       "root": "Measures"
      }
     },
     "output_type": "execute_result"
    }
   ],
   "source": [
    "m = cube.measures\n",
    "m"
   ]
  },
  {
   "cell_type": "markdown",
   "metadata": {},
   "source": [
    "The cube has automatically created the _sum_ and _mean_ aggregations for all the numeric columns of the dataset.\n",
    "\n",
    "Note that a measure isn't a single result number, it's more a formula that can be evaluated for any coordinates of the cube.\n",
    "\n",
    "For instance, we can query the _grand total_ of **Quantity.SUM**, which means summing the sold quantities over the whole dataset:\n",
    "\n",
    "<img alt=\"Grand total\" src=\"images/grand-total.svg\" width=\"400\" />"
   ]
  },
  {
   "cell_type": "code",
   "execution_count": 9,
   "metadata": {},
   "outputs": [
    {
     "data": {
      "application/vnd.atoti.convert-mdx-query-result-to-widget.v0+json": {
       "mdx": "SELECT {[Measures].[Quantity.SUM]} ON COLUMNS FROM [Sales]",
       "sessionId": "1722814558_W35D5Y",
       "widgetCreationCode": "session.widget"
      },
      "text/html": [
       "<div>\n",
       "<style scoped>\n",
       "    .dataframe tbody tr th:only-of-type {\n",
       "        vertical-align: middle;\n",
       "    }\n",
       "\n",
       "    .dataframe tbody tr th {\n",
       "        vertical-align: top;\n",
       "    }\n",
       "\n",
       "    .dataframe thead th {\n",
       "        text-align: right;\n",
       "    }\n",
       "</style>\n",
       "<table border=\"1\" class=\"dataframe\">\n",
       "  <thead>\n",
       "    <tr style=\"text-align: right;\">\n",
       "      <th></th>\n",
       "      <th>Quantity.SUM</th>\n",
       "    </tr>\n",
       "  </thead>\n",
       "  <tbody>\n",
       "    <tr>\n",
       "      <th>0</th>\n",
       "      <td>8,077.00</td>\n",
       "    </tr>\n",
       "  </tbody>\n",
       "</table>\n",
       "</div>"
      ],
      "text/plain": [
       "  Quantity.SUM\n",
       "0     8,077.00"
      ]
     },
     "execution_count": 9,
     "metadata": {},
     "output_type": "execute_result"
    }
   ],
   "source": [
    "cube.query(m[\"Quantity.SUM\"])"
   ]
  },
  {
   "cell_type": "markdown",
   "metadata": {},
   "source": [
    "But we can also _dice_ the cube to get the quantity for each **Shop**, which means taking one _slice_ of the cube for each **Shop**:\n",
    "\n",
    "<img alt=\"Dicing the cube\" src=\"images/slices.svg\" width=\"400\" />"
   ]
  },
  {
   "cell_type": "code",
   "execution_count": 10,
   "metadata": {},
   "outputs": [
    {
     "data": {
      "application/vnd.atoti.convert-mdx-query-result-to-widget.v0+json": {
       "mdx": "SELECT {[Measures].[Quantity.SUM]} ON COLUMNS, NON EMPTY Hierarchize(Descendants({[Sales].[Shop].[ALL].[AllMember]}, 1, SELF_AND_BEFORE)) ON ROWS FROM [Sales]",
       "sessionId": "1722814558_W35D5Y",
       "widgetCreationCode": "session.widget"
      },
      "text/html": [
       "<div>\n",
       "<style scoped>\n",
       "    .dataframe tbody tr th:only-of-type {\n",
       "        vertical-align: middle;\n",
       "    }\n",
       "\n",
       "    .dataframe tbody tr th {\n",
       "        vertical-align: top;\n",
       "    }\n",
       "\n",
       "    .dataframe thead th {\n",
       "        text-align: right;\n",
       "    }\n",
       "</style>\n",
       "<table border=\"1\" class=\"dataframe\">\n",
       "  <thead>\n",
       "    <tr style=\"text-align: right;\">\n",
       "      <th></th>\n",
       "      <th>Quantity.SUM</th>\n",
       "    </tr>\n",
       "    <tr>\n",
       "      <th>Shop</th>\n",
       "      <th></th>\n",
       "    </tr>\n",
       "  </thead>\n",
       "  <tbody>\n",
       "    <tr>\n",
       "      <th>shop_0</th>\n",
       "      <td>202.00</td>\n",
       "    </tr>\n",
       "    <tr>\n",
       "      <th>shop_1</th>\n",
       "      <td>202.00</td>\n",
       "    </tr>\n",
       "    <tr>\n",
       "      <th>shop_10</th>\n",
       "      <td>203.00</td>\n",
       "    </tr>\n",
       "    <tr>\n",
       "      <th>shop_11</th>\n",
       "      <td>203.00</td>\n",
       "    </tr>\n",
       "    <tr>\n",
       "      <th>shop_12</th>\n",
       "      <td>201.00</td>\n",
       "    </tr>\n",
       "    <tr>\n",
       "      <th>shop_13</th>\n",
       "      <td>202.00</td>\n",
       "    </tr>\n",
       "    <tr>\n",
       "      <th>shop_14</th>\n",
       "      <td>202.00</td>\n",
       "    </tr>\n",
       "    <tr>\n",
       "      <th>shop_15</th>\n",
       "      <td>202.00</td>\n",
       "    </tr>\n",
       "    <tr>\n",
       "      <th>shop_16</th>\n",
       "      <td>201.00</td>\n",
       "    </tr>\n",
       "    <tr>\n",
       "      <th>shop_17</th>\n",
       "      <td>204.00</td>\n",
       "    </tr>\n",
       "    <tr>\n",
       "      <th>shop_18</th>\n",
       "      <td>202.00</td>\n",
       "    </tr>\n",
       "    <tr>\n",
       "      <th>shop_19</th>\n",
       "      <td>202.00</td>\n",
       "    </tr>\n",
       "    <tr>\n",
       "      <th>shop_2</th>\n",
       "      <td>202.00</td>\n",
       "    </tr>\n",
       "    <tr>\n",
       "      <th>shop_20</th>\n",
       "      <td>201.00</td>\n",
       "    </tr>\n",
       "    <tr>\n",
       "      <th>shop_21</th>\n",
       "      <td>201.00</td>\n",
       "    </tr>\n",
       "    <tr>\n",
       "      <th>shop_22</th>\n",
       "      <td>201.00</td>\n",
       "    </tr>\n",
       "    <tr>\n",
       "      <th>shop_23</th>\n",
       "      <td>203.00</td>\n",
       "    </tr>\n",
       "    <tr>\n",
       "      <th>shop_24</th>\n",
       "      <td>203.00</td>\n",
       "    </tr>\n",
       "    <tr>\n",
       "      <th>shop_25</th>\n",
       "      <td>201.00</td>\n",
       "    </tr>\n",
       "    <tr>\n",
       "      <th>shop_26</th>\n",
       "      <td>202.00</td>\n",
       "    </tr>\n",
       "    <tr>\n",
       "      <th>shop_27</th>\n",
       "      <td>202.00</td>\n",
       "    </tr>\n",
       "    <tr>\n",
       "      <th>shop_28</th>\n",
       "      <td>202.00</td>\n",
       "    </tr>\n",
       "    <tr>\n",
       "      <th>shop_29</th>\n",
       "      <td>201.00</td>\n",
       "    </tr>\n",
       "    <tr>\n",
       "      <th>shop_3</th>\n",
       "      <td>201.00</td>\n",
       "    </tr>\n",
       "    <tr>\n",
       "      <th>shop_30</th>\n",
       "      <td>204.00</td>\n",
       "    </tr>\n",
       "    <tr>\n",
       "      <th>shop_31</th>\n",
       "      <td>202.00</td>\n",
       "    </tr>\n",
       "    <tr>\n",
       "      <th>shop_32</th>\n",
       "      <td>202.00</td>\n",
       "    </tr>\n",
       "    <tr>\n",
       "      <th>shop_33</th>\n",
       "      <td>201.00</td>\n",
       "    </tr>\n",
       "    <tr>\n",
       "      <th>shop_34</th>\n",
       "      <td>201.00</td>\n",
       "    </tr>\n",
       "    <tr>\n",
       "      <th>shop_35</th>\n",
       "      <td>201.00</td>\n",
       "    </tr>\n",
       "    <tr>\n",
       "      <th>shop_36</th>\n",
       "      <td>203.00</td>\n",
       "    </tr>\n",
       "    <tr>\n",
       "      <th>shop_37</th>\n",
       "      <td>203.00</td>\n",
       "    </tr>\n",
       "    <tr>\n",
       "      <th>shop_38</th>\n",
       "      <td>201.00</td>\n",
       "    </tr>\n",
       "    <tr>\n",
       "      <th>shop_39</th>\n",
       "      <td>202.00</td>\n",
       "    </tr>\n",
       "    <tr>\n",
       "      <th>shop_4</th>\n",
       "      <td>204.00</td>\n",
       "    </tr>\n",
       "    <tr>\n",
       "      <th>shop_5</th>\n",
       "      <td>202.00</td>\n",
       "    </tr>\n",
       "    <tr>\n",
       "      <th>shop_6</th>\n",
       "      <td>202.00</td>\n",
       "    </tr>\n",
       "    <tr>\n",
       "      <th>shop_7</th>\n",
       "      <td>201.00</td>\n",
       "    </tr>\n",
       "    <tr>\n",
       "      <th>shop_8</th>\n",
       "      <td>201.00</td>\n",
       "    </tr>\n",
       "    <tr>\n",
       "      <th>shop_9</th>\n",
       "      <td>201.00</td>\n",
       "    </tr>\n",
       "  </tbody>\n",
       "</table>\n",
       "</div>"
      ],
      "text/plain": [
       "        Quantity.SUM\n",
       "Shop                \n",
       "shop_0        202.00\n",
       "shop_1        202.00\n",
       "shop_10       203.00\n",
       "shop_11       203.00\n",
       "shop_12       201.00\n",
       "shop_13       202.00\n",
       "shop_14       202.00\n",
       "shop_15       202.00\n",
       "shop_16       201.00\n",
       "shop_17       204.00\n",
       "shop_18       202.00\n",
       "shop_19       202.00\n",
       "shop_2        202.00\n",
       "shop_20       201.00\n",
       "shop_21       201.00\n",
       "shop_22       201.00\n",
       "shop_23       203.00\n",
       "shop_24       203.00\n",
       "shop_25       201.00\n",
       "shop_26       202.00\n",
       "shop_27       202.00\n",
       "shop_28       202.00\n",
       "shop_29       201.00\n",
       "shop_3        201.00\n",
       "shop_30       204.00\n",
       "shop_31       202.00\n",
       "shop_32       202.00\n",
       "shop_33       201.00\n",
       "shop_34       201.00\n",
       "shop_35       201.00\n",
       "shop_36       203.00\n",
       "shop_37       203.00\n",
       "shop_38       201.00\n",
       "shop_39       202.00\n",
       "shop_4        204.00\n",
       "shop_5        202.00\n",
       "shop_6        202.00\n",
       "shop_7        201.00\n",
       "shop_8        201.00\n",
       "shop_9        201.00"
      ]
     },
     "execution_count": 10,
     "metadata": {},
     "output_type": "execute_result"
    }
   ],
   "source": [
    "cube.query(m[\"Quantity.SUM\"], levels=[l[\"Shop\"]])"
   ]
  },
  {
   "cell_type": "markdown",
   "metadata": {},
   "source": [
    "We can _slice_ on a single **Shop**:\n",
    "\n",
    "<img alt=\"Slicing the cube\" src=\"images/slice.svg\" width=\"400\" />"
   ]
  },
  {
   "cell_type": "code",
   "execution_count": 11,
   "metadata": {},
   "outputs": [
    {
     "data": {
      "application/vnd.atoti.convert-mdx-query-result-to-widget.v0+json": {
       "mdx": "SELECT {[Measures].[Quantity.SUM]} ON COLUMNS FROM [Sales] WHERE [Sales].[Shop].[ALL].[AllMember].[shop_0]",
       "sessionId": "1722814558_W35D5Y",
       "widgetCreationCode": "session.widget"
      },
      "text/html": [
       "<div>\n",
       "<style scoped>\n",
       "    .dataframe tbody tr th:only-of-type {\n",
       "        vertical-align: middle;\n",
       "    }\n",
       "\n",
       "    .dataframe tbody tr th {\n",
       "        vertical-align: top;\n",
       "    }\n",
       "\n",
       "    .dataframe thead th {\n",
       "        text-align: right;\n",
       "    }\n",
       "</style>\n",
       "<table border=\"1\" class=\"dataframe\">\n",
       "  <thead>\n",
       "    <tr style=\"text-align: right;\">\n",
       "      <th></th>\n",
       "      <th>Quantity.SUM</th>\n",
       "    </tr>\n",
       "  </thead>\n",
       "  <tbody>\n",
       "    <tr>\n",
       "      <th>0</th>\n",
       "      <td>202.00</td>\n",
       "    </tr>\n",
       "  </tbody>\n",
       "</table>\n",
       "</div>"
      ],
      "text/plain": [
       "  Quantity.SUM\n",
       "0       202.00"
      ]
     },
     "execution_count": 11,
     "metadata": {},
     "output_type": "execute_result"
    }
   ],
   "source": [
    "cube.query(\n",
    "    m[\"Quantity.SUM\"],\n",
    "    filter=l[\"Shop\"] == \"shop_0\",\n",
    ")"
   ]
  },
  {
   "cell_type": "markdown",
   "metadata": {},
   "source": [
    "We can dice along 2 different axes and take the quantity per product and date.\n",
    "\n",
    "<img alt=\"Pivot table\" src=\"images/pivot-table.svg\" width=\"400\" />"
   ]
  },
  {
   "cell_type": "code",
   "execution_count": 12,
   "metadata": {},
   "outputs": [
    {
     "data": {
      "application/vnd.atoti.convert-mdx-query-result-to-widget.v0+json": {
       "mdx": "SELECT {[Measures].[Quantity.SUM]} ON COLUMNS, NON EMPTY Crossjoin(Hierarchize(Descendants({[Sales].[Date].[ALL].[AllMember]}, 1, SELF_AND_BEFORE)), Hierarchize(Descendants({[Sales].[Product].[ALL].[AllMember]}, 1, SELF_AND_BEFORE))) ON ROWS FROM [Sales]",
       "sessionId": "1722814558_W35D5Y",
       "widgetCreationCode": "session.widget"
      },
      "text/html": [
       "<div>\n",
       "<style scoped>\n",
       "    .dataframe tbody tr th:only-of-type {\n",
       "        vertical-align: middle;\n",
       "    }\n",
       "\n",
       "    .dataframe tbody tr th {\n",
       "        vertical-align: top;\n",
       "    }\n",
       "\n",
       "    .dataframe thead th {\n",
       "        text-align: right;\n",
       "    }\n",
       "</style>\n",
       "<table border=\"1\" class=\"dataframe\">\n",
       "  <thead>\n",
       "    <tr style=\"text-align: right;\">\n",
       "      <th></th>\n",
       "      <th></th>\n",
       "      <th>Quantity.SUM</th>\n",
       "    </tr>\n",
       "    <tr>\n",
       "      <th>Date</th>\n",
       "      <th>Product</th>\n",
       "      <th></th>\n",
       "    </tr>\n",
       "  </thead>\n",
       "  <tbody>\n",
       "    <tr>\n",
       "      <th rowspan=\"5\" valign=\"top\">2021-01-06</th>\n",
       "      <th>BED_24</th>\n",
       "      <td>8.00</td>\n",
       "    </tr>\n",
       "    <tr>\n",
       "      <th>BED_25</th>\n",
       "      <td>4.00</td>\n",
       "    </tr>\n",
       "    <tr>\n",
       "      <th>BED_26</th>\n",
       "      <td>6.00</td>\n",
       "    </tr>\n",
       "    <tr>\n",
       "      <th>BED_27</th>\n",
       "      <td>4.00</td>\n",
       "    </tr>\n",
       "    <tr>\n",
       "      <th>BED_3</th>\n",
       "      <td>2.00</td>\n",
       "    </tr>\n",
       "    <tr>\n",
       "      <th>...</th>\n",
       "      <th>...</th>\n",
       "      <td>...</td>\n",
       "    </tr>\n",
       "    <tr>\n",
       "      <th rowspan=\"5\" valign=\"top\">2021-02-04</th>\n",
       "      <th>TSH_52</th>\n",
       "      <td>6.00</td>\n",
       "    </tr>\n",
       "    <tr>\n",
       "      <th>TSH_53</th>\n",
       "      <td>4.00</td>\n",
       "    </tr>\n",
       "    <tr>\n",
       "      <th>TSH_7</th>\n",
       "      <td>3.00</td>\n",
       "    </tr>\n",
       "    <tr>\n",
       "      <th>TSH_8</th>\n",
       "      <td>5.00</td>\n",
       "    </tr>\n",
       "    <tr>\n",
       "      <th>TSH_9</th>\n",
       "      <td>3.00</td>\n",
       "    </tr>\n",
       "  </tbody>\n",
       "</table>\n",
       "<p>1830 rows × 1 columns</p>\n",
       "</div>"
      ],
      "text/plain": [
       "                   Quantity.SUM\n",
       "Date       Product             \n",
       "2021-01-06 BED_24          8.00\n",
       "           BED_25          4.00\n",
       "           BED_26          6.00\n",
       "           BED_27          4.00\n",
       "           BED_3           2.00\n",
       "...                         ...\n",
       "2021-02-04 TSH_52          6.00\n",
       "           TSH_53          4.00\n",
       "           TSH_7           3.00\n",
       "           TSH_8           5.00\n",
       "           TSH_9           3.00\n",
       "\n",
       "[1830 rows x 1 columns]"
      ]
     },
     "execution_count": 12,
     "metadata": {},
     "output_type": "execute_result"
    }
   ],
   "source": [
    "cube.query(m[\"Quantity.SUM\"], levels=[l[\"Date\"], l[\"Product\"]])"
   ]
  },
  {
   "cell_type": "markdown",
   "metadata": {},
   "source": [
    "We can even combine these operations to slice on one hierarchy and dice on the two others:\n",
    "\n",
    "<img alt=\"Slice and dice\" src=\"images/slice-and-dice.svg\" width=\"400\" />"
   ]
  },
  {
   "cell_type": "code",
   "execution_count": 13,
   "metadata": {},
   "outputs": [
    {
     "data": {
      "application/vnd.atoti.convert-mdx-query-result-to-widget.v0+json": {
       "mdx": "SELECT {[Measures].[Quantity.SUM]} ON COLUMNS, NON EMPTY Crossjoin(Hierarchize(Descendants({[Sales].[Date].[ALL].[AllMember]}, 1, SELF_AND_BEFORE)), Hierarchize(Descendants({[Sales].[Product].[ALL].[AllMember]}, 1, SELF_AND_BEFORE))) ON ROWS FROM [Sales] WHERE [Sales].[Shop].[ALL].[AllMember].[shop_0]",
       "sessionId": "1722814558_W35D5Y",
       "widgetCreationCode": "session.widget"
      },
      "text/html": [
       "<div>\n",
       "<style scoped>\n",
       "    .dataframe tbody tr th:only-of-type {\n",
       "        vertical-align: middle;\n",
       "    }\n",
       "\n",
       "    .dataframe tbody tr th {\n",
       "        vertical-align: top;\n",
       "    }\n",
       "\n",
       "    .dataframe thead th {\n",
       "        text-align: right;\n",
       "    }\n",
       "</style>\n",
       "<table border=\"1\" class=\"dataframe\">\n",
       "  <thead>\n",
       "    <tr style=\"text-align: right;\">\n",
       "      <th></th>\n",
       "      <th></th>\n",
       "      <th>Quantity.SUM</th>\n",
       "    </tr>\n",
       "    <tr>\n",
       "      <th>Date</th>\n",
       "      <th>Product</th>\n",
       "      <th></th>\n",
       "    </tr>\n",
       "  </thead>\n",
       "  <tbody>\n",
       "    <tr>\n",
       "      <th rowspan=\"5\" valign=\"top\">2021-01-15</th>\n",
       "      <th>BED_24</th>\n",
       "      <td>1.00</td>\n",
       "    </tr>\n",
       "    <tr>\n",
       "      <th>BED_26</th>\n",
       "      <td>1.00</td>\n",
       "    </tr>\n",
       "    <tr>\n",
       "      <th>BED_3</th>\n",
       "      <td>1.00</td>\n",
       "    </tr>\n",
       "    <tr>\n",
       "      <th>BED_4</th>\n",
       "      <td>1.00</td>\n",
       "    </tr>\n",
       "    <tr>\n",
       "      <th>BED_46</th>\n",
       "      <td>1.00</td>\n",
       "    </tr>\n",
       "    <tr>\n",
       "      <th>...</th>\n",
       "      <th>...</th>\n",
       "      <td>...</td>\n",
       "    </tr>\n",
       "    <tr>\n",
       "      <th rowspan=\"5\" valign=\"top\">2021-02-04</th>\n",
       "      <th>TSH_51</th>\n",
       "      <td>2.00</td>\n",
       "    </tr>\n",
       "    <tr>\n",
       "      <th>TSH_52</th>\n",
       "      <td>1.00</td>\n",
       "    </tr>\n",
       "    <tr>\n",
       "      <th>TSH_53</th>\n",
       "      <td>1.00</td>\n",
       "    </tr>\n",
       "    <tr>\n",
       "      <th>TSH_7</th>\n",
       "      <td>1.00</td>\n",
       "    </tr>\n",
       "    <tr>\n",
       "      <th>TSH_9</th>\n",
       "      <td>1.00</td>\n",
       "    </tr>\n",
       "  </tbody>\n",
       "</table>\n",
       "<p>125 rows × 1 columns</p>\n",
       "</div>"
      ],
      "text/plain": [
       "                   Quantity.SUM\n",
       "Date       Product             \n",
       "2021-01-15 BED_24          1.00\n",
       "           BED_26          1.00\n",
       "           BED_3           1.00\n",
       "           BED_4           1.00\n",
       "           BED_46          1.00\n",
       "...                         ...\n",
       "2021-02-04 TSH_51          2.00\n",
       "           TSH_52          1.00\n",
       "           TSH_53          1.00\n",
       "           TSH_7           1.00\n",
       "           TSH_9           1.00\n",
       "\n",
       "[125 rows x 1 columns]"
      ]
     },
     "execution_count": 13,
     "metadata": {},
     "output_type": "execute_result"
    }
   ],
   "source": [
    "cube.query(\n",
    "    m[\"Quantity.SUM\"],\n",
    "    levels=[l[\"Date\"], l[\"Product\"]],\n",
    "    filter=l[\"Shop\"] == \"shop_0\",\n",
    ")"
   ]
  },
  {
   "cell_type": "markdown",
   "metadata": {},
   "source": [
    "### Interactive widget\n",
    "\n",
    "So far we have used [cube.query()](../../api/atoti.Cube.query.rst) which returns a pandas DataFrame but a better way to visualize multidimensional data is a pivot table.\n",
    "With Atoti's JupyterLab extension, you can create interactive widgets such as pivot tables and charts directly into your notebook.\n",
    "\n",
    "This will create a widget and open the Atoti tab on the left with tools to manipulate the widget.\n",
    "\n",
    "Let's start by creating a pivot table:\n",
    "\n",
    "- Run [session.widget](../../api/atoti.Session.widget.rst).\n",
    "- In the left panel, click on a measure such as **Quantity.SUM** to add it.\n",
    "- Click on a hierarchy such as **Date** to get the quantity per date.\n",
    "- Drag and drop another hierarchy such as **Product** to the **Columns** section to get the quantity sold per day and per product.\n",
    "\n",
    "![First pivot table](images/first-pivot-table.gif)"
   ]
  },
  {
   "cell_type": "code",
   "execution_count": 14,
   "metadata": {},
   "outputs": [
    {
     "data": {
      "application/vnd.atoti.widget.v0+json": {
       "sessionId": "1722814558_W35D5Y",
       "sessionLocation": {
        "https": false,
        "port": 52301
       },
       "widgetCreationCode": "session.widget"
      },
      "text/plain": [
       "Open the notebook in JupyterLab with the Atoti JupyterLab extension enabled to build this widget."
      ]
     },
     "metadata": {},
     "output_type": "display_data"
    }
   ],
   "source": [
    "session.widget"
   ]
  },
  {
   "cell_type": "markdown",
   "metadata": {},
   "source": [
    "Tables can be switched to charts.\n",
    "\n",
    "For instance let's switch to a line chart.\n",
    "\n",
    "![First chart](images/first-chart.gif)"
   ]
  },
  {
   "cell_type": "code",
   "execution_count": 15,
   "metadata": {},
   "outputs": [
    {
     "data": {
      "application/vnd.atoti.widget.v0+json": {
       "sessionId": "1722814558_W35D5Y",
       "sessionLocation": {
        "https": false,
        "port": 52301
       },
       "widgetCreationCode": "session.widget"
      },
      "text/plain": [
       "Open the notebook in JupyterLab with the Atoti JupyterLab extension enabled to build this widget."
      ]
     },
     "metadata": {},
     "output_type": "display_data"
    }
   ],
   "source": [
    "session.widget"
   ]
  },
  {
   "cell_type": "markdown",
   "metadata": {},
   "source": [
    "### Drilldown and filters\n",
    "\n",
    "Multidimensional analysis is meant to be done from top to bottom: start by visualizing the indicators at the top level then drilldown to explain the top figures with more details.\n",
    "\n",
    "For instance, we can visualize some measures per date then drilldown on **Shop** for a specific date, then see the products sold by a specific shop on this date.\n",
    "\n",
    "Using the previous cube representation, this is like zooming more and more on a part of the cube.\n",
    "\n",
    "<img alt=\"Drilldown the cube\" src=\"images/drilldown.svg\" width=\"1200\" />\n",
    "\n",
    "![Drilldown](images/drilldown.gif)"
   ]
  },
  {
   "cell_type": "code",
   "execution_count": 16,
   "metadata": {},
   "outputs": [
    {
     "data": {
      "application/vnd.atoti.widget.v0+json": {
       "sessionId": "1722814558_W35D5Y",
       "sessionLocation": {
        "https": false,
        "port": 52301
       },
       "widgetCreationCode": "session.widget"
      },
      "text/plain": [
       "Open the notebook in JupyterLab with the Atoti JupyterLab extension enabled to build this widget."
      ]
     },
     "metadata": {},
     "output_type": "display_data"
    }
   ],
   "source": [
    "session.widget"
   ]
  },
  {
   "cell_type": "markdown",
   "metadata": {},
   "source": [
    "Hierarchies can be filtered when building widgets.\n",
    "Let's apply a filter on the previous chart and only visualize the quantity for a group of selected products.\n",
    "\n",
    "![Chart filter](images/filter-chart.gif)"
   ]
  },
  {
   "cell_type": "code",
   "execution_count": 17,
   "metadata": {},
   "outputs": [
    {
     "data": {
      "application/vnd.atoti.widget.v0+json": {
       "sessionId": "1722814558_W35D5Y",
       "sessionLocation": {
        "https": false,
        "port": 52301
       },
       "widgetCreationCode": "session.widget"
      },
      "text/plain": [
       "Open the notebook in JupyterLab with the Atoti JupyterLab extension enabled to build this widget."
      ]
     },
     "metadata": {},
     "output_type": "display_data"
    }
   ],
   "source": [
    "session.widget"
   ]
  },
  {
   "cell_type": "markdown",
   "metadata": {},
   "source": [
    "### Dashboarding app\n",
    "\n",
    "Being able to quickly build widgets inside a notebook without coding is nice to rapidly explore the data, iterate on your model and share some results.\n",
    "However, to provide richer insights, dashboards are even better.\n",
    "That's why Atoti comes with a web app that can be accessed outside of the notebook and where widgets can be laid out to form dashboards.\n",
    "\n",
    "The app can be accessed with this link:"
   ]
  },
  {
   "cell_type": "code",
   "execution_count": 18,
   "metadata": {},
   "outputs": [
    {
     "data": {
      "application/vnd.atoti.link.v0+json": {
       "path": "",
       "sessionLocation": {
        "https": false,
        "port": 52301
       }
      },
      "text/plain": [
       "http://localhost:52301"
      ]
     },
     "execution_count": 18,
     "metadata": {},
     "output_type": "execute_result"
    }
   ],
   "source": [
    "session.link"
   ]
  },
  {
   "cell_type": "markdown",
   "metadata": {},
   "source": [
    "Widgets built in the notebook can be saved in the app by right clicking on them and selecting **Save widget in app**.\n",
    "They will then be available in the **Saved widgets** section.\n",
    "\n",
    "![Saving widget in app](images/save-in-app.gif)"
   ]
  },
  {
   "cell_type": "markdown",
   "metadata": {},
   "source": [
    "## Enriching the cube\n",
    "\n",
    "In the previous section, you have learned how to create a basic cube and manipulate it.\n",
    "We will now enrich this cube with additional attributes and more interesting measures."
   ]
  },
  {
   "cell_type": "markdown",
   "metadata": {},
   "source": [
    "### Join\n",
    "\n",
    "Currently, we have very limited information about our products: only the ID.\n",
    "We can load a CSV containing more details into a new table:"
   ]
  },
  {
   "cell_type": "code",
   "execution_count": null,
   "metadata": {},
   "outputs": [],
   "source": [
    "products_table = session.read_csv(\n",
    "    \"data/products.csv\", keys={\"Product\"}, table_name=\"Products\"\n",
    ")"
   ]
  },
  {
   "cell_type": "markdown",
   "metadata": {},
   "source": [
    "Note that a table can have a set of keys.\n",
    "These keys are the columns which make each line unique.\n",
    "Here, it's the product ID.\n",
    "\n",
    "If you try to insert a new row with the same keys as an existing row, it will override the existing one."
   ]
  },
  {
   "cell_type": "code",
   "execution_count": 20,
   "metadata": {
    "_atoti_test": {
     "snapshot_ignore": true
    }
   },
   "outputs": [
    {
     "data": {
      "text/html": [
       "<div>\n",
       "<style scoped>\n",
       "    .dataframe tbody tr th:only-of-type {\n",
       "        vertical-align: middle;\n",
       "    }\n",
       "\n",
       "    .dataframe tbody tr th {\n",
       "        vertical-align: top;\n",
       "    }\n",
       "\n",
       "    .dataframe thead th {\n",
       "        text-align: right;\n",
       "    }\n",
       "</style>\n",
       "<table border=\"1\" class=\"dataframe\">\n",
       "  <thead>\n",
       "    <tr style=\"text-align: right;\">\n",
       "      <th></th>\n",
       "      <th>Category</th>\n",
       "      <th>Sub category</th>\n",
       "      <th>Size</th>\n",
       "      <th>Purchase price</th>\n",
       "      <th>Color</th>\n",
       "      <th>Brand</th>\n",
       "    </tr>\n",
       "    <tr>\n",
       "      <th>Product</th>\n",
       "      <th></th>\n",
       "      <th></th>\n",
       "      <th></th>\n",
       "      <th></th>\n",
       "      <th></th>\n",
       "      <th></th>\n",
       "    </tr>\n",
       "  </thead>\n",
       "  <tbody>\n",
       "    <tr>\n",
       "      <th>HOO_12</th>\n",
       "      <td>Cloth</td>\n",
       "      <td>Hoodie</td>\n",
       "      <td>S</td>\n",
       "      <td>35.0</td>\n",
       "      <td>blue</td>\n",
       "      <td>Basic</td>\n",
       "    </tr>\n",
       "    <tr>\n",
       "      <th>BED_26</th>\n",
       "      <td>Furniture</td>\n",
       "      <td>Bed</td>\n",
       "      <td>Queen</td>\n",
       "      <td>333.0</td>\n",
       "      <td>white</td>\n",
       "      <td>Basic</td>\n",
       "    </tr>\n",
       "    <tr>\n",
       "      <th>SHO_40</th>\n",
       "      <td>Cloth</td>\n",
       "      <td>Shoes</td>\n",
       "      <td>11</td>\n",
       "      <td>48.0</td>\n",
       "      <td>black</td>\n",
       "      <td>Basic</td>\n",
       "    </tr>\n",
       "    <tr>\n",
       "      <th>HOO_54</th>\n",
       "      <td>Cloth</td>\n",
       "      <td>Hoodie</td>\n",
       "      <td>S</td>\n",
       "      <td>35.0</td>\n",
       "      <td>brown</td>\n",
       "      <td>Over</td>\n",
       "    </tr>\n",
       "    <tr>\n",
       "      <th>HOO_13</th>\n",
       "      <td>Cloth</td>\n",
       "      <td>Hoodie</td>\n",
       "      <td>M</td>\n",
       "      <td>38.0</td>\n",
       "      <td>red</td>\n",
       "      <td>Mega</td>\n",
       "    </tr>\n",
       "  </tbody>\n",
       "</table>\n",
       "</div>"
      ],
      "text/plain": [
       "          Category Sub category   Size  Purchase price  Color  Brand\n",
       "Product                                                             \n",
       "HOO_12       Cloth       Hoodie      S            35.0   blue  Basic\n",
       "BED_26   Furniture          Bed  Queen           333.0  white  Basic\n",
       "SHO_40       Cloth        Shoes     11            48.0  black  Basic\n",
       "HOO_54       Cloth       Hoodie      S            35.0  brown   Over\n",
       "HOO_13       Cloth       Hoodie      M            38.0    red   Mega"
      ]
     },
     "execution_count": 20,
     "metadata": {},
     "output_type": "execute_result"
    }
   ],
   "source": [
    "products_table.head()"
   ]
  },
  {
   "cell_type": "markdown",
   "metadata": {},
   "source": [
    "This table contains the category, subcategory, size, color, purchase price and brand of the product.\n",
    "Both tables have a **Product** column we can use to [join](../../api/atoti.Table.join.rst) them."
   ]
  },
  {
   "cell_type": "code",
   "execution_count": 21,
   "metadata": {},
   "outputs": [],
   "source": [
    "sales_table.join(products_table, sales_table[\"Product\"] == products_table[\"Product\"])"
   ]
  },
  {
   "cell_type": "markdown",
   "metadata": {},
   "source": [
    "Note that this is a database-like join and not a pandas-like join.\n",
    "All the details from `products_table` won't be inlined into `sales_table`.\n",
    "Instead, this just declares a reference between these two tables that the cube can use to provide more analytical axes.\n",
    "\n",
    "You can visualize the structure of the session's tables:"
   ]
  },
  {
   "cell_type": "code",
   "execution_count": 22,
   "metadata": {},
   "outputs": [
    {
     "data": {
      "text/html": [
       "<div class=\"mermaid\">erDiagram\n",
       "  \"Sales\" {\n",
       "    non-null String PK \"Sale ID\"\n",
       "    non-null LocalDate \"Date\"\n",
       "    non-null String \"Shop\"\n",
       "    non-null String \"Product\"\n",
       "    nullable double \"Quantity\"\n",
       "    nullable double \"Unit price\"\n",
       "  }\n",
       "  \"Products\" {\n",
       "    non-null String PK \"Product\"\n",
       "    non-null String \"Category\"\n",
       "    non-null String \"Sub category\"\n",
       "    non-null String \"Size\"\n",
       "    nullable double \"Purchase price\"\n",
       "    non-null String \"Color\"\n",
       "    non-null String \"Brand\"\n",
       "  }\n",
       "  \"Sales\" }o--o| \"Products\" : \"Product == Product\"\n",
       "</div>"
      ],
      "text/plain": [
       "erDiagram\n",
       "  \"Sales\" {\n",
       "    non-null String PK \"Sale ID\"\n",
       "    non-null LocalDate \"Date\"\n",
       "    non-null String \"Shop\"\n",
       "    non-null String \"Product\"\n",
       "    nullable double \"Quantity\"\n",
       "    nullable double \"Unit price\"\n",
       "  }\n",
       "  \"Products\" {\n",
       "    non-null String PK \"Product\"\n",
       "    non-null String \"Category\"\n",
       "    non-null String \"Sub category\"\n",
       "    non-null String \"Size\"\n",
       "    nullable double \"Purchase price\"\n",
       "    non-null String \"Color\"\n",
       "    non-null String \"Brand\"\n",
       "  }\n",
       "  \"Sales\" }o--o| \"Products\" : \"Product == Product\""
      ]
     },
     "execution_count": 22,
     "metadata": {},
     "output_type": "execute_result"
    }
   ],
   "source": [
    "session.tables.schema"
   ]
  },
  {
   "cell_type": "markdown",
   "metadata": {},
   "source": [
    "The new columns have been automatically added to the cube as hierarchies, in a dimension with the same name as the new table:"
   ]
  },
  {
   "cell_type": "code",
   "execution_count": 23,
   "metadata": {},
   "outputs": [
    {
     "data": {
      "application/json": {
       "Products": {
        "Brand": [
         "Brand"
        ],
        "Category": [
         "Category"
        ],
        "Color": [
         "Color"
        ],
        "Size": [
         "Size"
        ],
        "Sub category": [
         "Sub category"
        ]
       },
       "Sales": {
        "Date": [
         "Date"
        ],
        "Product": [
         "Product"
        ],
        "Sale ID": [
         "Sale ID"
        ],
        "Shop": [
         "Shop"
        ]
       }
      },
      "text/html": [
       "<ul>\n",
       "<li>Dimensions\n",
       "  <ul>\n",
       "  <li>Products\n",
       "    <ul>\n",
       "    <li>Brand\n",
       "      <ol>\n",
       "      <li>Brand</li>\n",
       "      </ol>    </li>\n",
       "    <li>Category\n",
       "      <ol>\n",
       "      <li>Category</li>\n",
       "      </ol>    </li>\n",
       "    <li>Color\n",
       "      <ol>\n",
       "      <li>Color</li>\n",
       "      </ol>    </li>\n",
       "    <li>Size\n",
       "      <ol>\n",
       "      <li>Size</li>\n",
       "      </ol>    </li>\n",
       "    <li>Sub category\n",
       "      <ol>\n",
       "      <li>Sub category</li>\n",
       "      </ol>    </li>\n",
       "    </ul>\n",
       "  </li>\n",
       "  <li>Sales\n",
       "    <ul>\n",
       "    <li>Date\n",
       "      <ol>\n",
       "      <li>Date</li>\n",
       "      </ol>    </li>\n",
       "    <li>Product\n",
       "      <ol>\n",
       "      <li>Product</li>\n",
       "      </ol>    </li>\n",
       "    <li>Sale ID\n",
       "      <ol>\n",
       "      <li>Sale ID</li>\n",
       "      </ol>    </li>\n",
       "    <li>Shop\n",
       "      <ol>\n",
       "      <li>Shop</li>\n",
       "      </ol>    </li>\n",
       "    </ul>\n",
       "  </li>\n",
       "  </ul>\n",
       "</li>\n",
       "</ul>\n"
      ],
      "text/plain": [
       "{('Products', 'Category'): <atoti.hierarchy.Hierarchy object at 0x1189e3760>, ('Products', 'Size'): <atoti.hierarchy.Hierarchy object at 0x11860aaa0>, ('Products', 'Color'): <atoti.hierarchy.Hierarchy object at 0x118d3fb20>, ('Products', 'Sub category'): <atoti.hierarchy.Hierarchy object at 0x118d3e7a0>, ('Products', 'Brand'): <atoti.hierarchy.Hierarchy object at 0x118d3e6b0>, ('Sales', 'Shop'): <atoti.hierarchy.Hierarchy object at 0x118d3dab0>, ('Sales', 'Date'): <atoti.hierarchy.Hierarchy object at 0x118d3ec20>, ('Sales', 'Product'): <atoti.hierarchy.Hierarchy object at 0x118d3ef50>, ('Sales', 'Sale ID'): <atoti.hierarchy.Hierarchy object at 0x118d3ea40>}"
      ]
     },
     "execution_count": 23,
     "metadata": {
      "application/json": {
       "expanded": true,
       "root": "Dimensions"
      }
     },
     "output_type": "execute_result"
    }
   ],
   "source": [
    "h"
   ]
  },
  {
   "cell_type": "markdown",
   "metadata": {},
   "source": [
    "You can use them directly in a new widget.\n",
    "For instance, let's create a bar chart to visualize the mean price per subcategory of product:\n",
    "\n",
    "![Price per category](images/price-per-category.png)"
   ]
  },
  {
   "cell_type": "code",
   "execution_count": 24,
   "metadata": {},
   "outputs": [
    {
     "data": {
      "application/vnd.atoti.widget.v0+json": {
       "sessionId": "1722814558_W35D5Y",
       "sessionLocation": {
        "https": false,
        "port": 52301
       },
       "widgetCreationCode": "session.widget"
      },
      "text/plain": [
       "Open the notebook in JupyterLab with the Atoti JupyterLab extension enabled to build this widget."
      ]
     },
     "metadata": {},
     "output_type": "display_data"
    }
   ],
   "source": [
    "session.widget"
   ]
  },
  {
   "cell_type": "markdown",
   "metadata": {},
   "source": [
    "We can also make a donut chart to see how all the sales are distributed between brands:\n",
    "\n",
    "![Donut chart brands](images/donut-chart.png)"
   ]
  },
  {
   "cell_type": "code",
   "execution_count": 25,
   "metadata": {},
   "outputs": [
    {
     "data": {
      "application/vnd.atoti.widget.v0+json": {
       "sessionId": "1722814558_W35D5Y",
       "sessionLocation": {
        "https": false,
        "port": 52301
       },
       "widgetCreationCode": "session.widget"
      },
      "text/plain": [
       "Open the notebook in JupyterLab with the Atoti JupyterLab extension enabled to build this widget."
      ]
     },
     "metadata": {},
     "output_type": "display_data"
    }
   ],
   "source": [
    "session.widget"
   ]
  },
  {
   "cell_type": "markdown",
   "metadata": {},
   "source": [
    "Note that after the join we can add a new measure called **Purchase price.VALUE** based on the corresponding column of the joined table.\n",
    "This measure represents the value of the column so it is only defined when all the keys of the joined table are expressed in the query."
   ]
  },
  {
   "cell_type": "code",
   "execution_count": 26,
   "metadata": {},
   "outputs": [],
   "source": [
    "m[\"Purchase price.VALUE\"] = tt.agg.single_value(products_table[\"Purchase price\"])"
   ]
  },
  {
   "cell_type": "markdown",
   "metadata": {},
   "source": [
    "For instance we can check the purchase price per **Product**:"
   ]
  },
  {
   "cell_type": "code",
   "execution_count": 27,
   "metadata": {},
   "outputs": [
    {
     "data": {
      "application/vnd.atoti.convert-mdx-query-result-to-widget.v0+json": {
       "mdx": "SELECT {[Measures].[Purchase price.VALUE]} ON COLUMNS, NON EMPTY Hierarchize(Descendants({[Sales].[Product].[ALL].[AllMember]}, 1, SELF_AND_BEFORE)) ON ROWS FROM [Sales]",
       "sessionId": "1722814558_W35D5Y",
       "widgetCreationCode": "session.widget"
      },
      "text/html": [
       "<div>\n",
       "<style scoped>\n",
       "    .dataframe tbody tr th:only-of-type {\n",
       "        vertical-align: middle;\n",
       "    }\n",
       "\n",
       "    .dataframe tbody tr th {\n",
       "        vertical-align: top;\n",
       "    }\n",
       "\n",
       "    .dataframe thead th {\n",
       "        text-align: right;\n",
       "    }\n",
       "</style>\n",
       "<table border=\"1\" class=\"dataframe\">\n",
       "  <thead>\n",
       "    <tr style=\"text-align: right;\">\n",
       "      <th></th>\n",
       "      <th>Purchase price.VALUE</th>\n",
       "    </tr>\n",
       "    <tr>\n",
       "      <th>Product</th>\n",
       "      <th></th>\n",
       "    </tr>\n",
       "  </thead>\n",
       "  <tbody>\n",
       "    <tr>\n",
       "      <th>BED_24</th>\n",
       "      <td>127.00</td>\n",
       "    </tr>\n",
       "    <tr>\n",
       "      <th>BED_25</th>\n",
       "      <td>252.00</td>\n",
       "    </tr>\n",
       "    <tr>\n",
       "      <th>BED_26</th>\n",
       "      <td>333.00</td>\n",
       "    </tr>\n",
       "    <tr>\n",
       "      <th>BED_27</th>\n",
       "      <td>375.00</td>\n",
       "    </tr>\n",
       "    <tr>\n",
       "      <th>BED_3</th>\n",
       "      <td>127.00</td>\n",
       "    </tr>\n",
       "    <tr>\n",
       "      <th>...</th>\n",
       "      <td>...</td>\n",
       "    </tr>\n",
       "    <tr>\n",
       "      <th>TSH_52</th>\n",
       "      <td>20.00</td>\n",
       "    </tr>\n",
       "    <tr>\n",
       "      <th>TSH_53</th>\n",
       "      <td>21.00</td>\n",
       "    </tr>\n",
       "    <tr>\n",
       "      <th>TSH_7</th>\n",
       "      <td>17.00</td>\n",
       "    </tr>\n",
       "    <tr>\n",
       "      <th>TSH_8</th>\n",
       "      <td>18.00</td>\n",
       "    </tr>\n",
       "    <tr>\n",
       "      <th>TSH_9</th>\n",
       "      <td>19.00</td>\n",
       "    </tr>\n",
       "  </tbody>\n",
       "</table>\n",
       "<p>61 rows × 1 columns</p>\n",
       "</div>"
      ],
      "text/plain": [
       "        Purchase price.VALUE\n",
       "Product                     \n",
       "BED_24                127.00\n",
       "BED_25                252.00\n",
       "BED_26                333.00\n",
       "BED_27                375.00\n",
       "BED_3                 127.00\n",
       "...                      ...\n",
       "TSH_52                 20.00\n",
       "TSH_53                 21.00\n",
       "TSH_7                  17.00\n",
       "TSH_8                  18.00\n",
       "TSH_9                  19.00\n",
       "\n",
       "[61 rows x 1 columns]"
      ]
     },
     "execution_count": 27,
     "metadata": {},
     "output_type": "execute_result"
    }
   ],
   "source": [
    "cube.query(m[\"Purchase price.VALUE\"], levels=[l[\"Product\"]])"
   ]
  },
  {
   "cell_type": "markdown",
   "metadata": {},
   "source": [
    "In a similar way, we can enrich the data about the shops:"
   ]
  },
  {
   "cell_type": "code",
   "execution_count": null,
   "metadata": {
    "_atoti_test": {
     "snapshot_ignore": true
    }
   },
   "outputs": [
    {
     "data": {
      "text/html": [
       "<div>\n",
       "<style scoped>\n",
       "    .dataframe tbody tr th:only-of-type {\n",
       "        vertical-align: middle;\n",
       "    }\n",
       "\n",
       "    .dataframe tbody tr th {\n",
       "        vertical-align: top;\n",
       "    }\n",
       "\n",
       "    .dataframe thead th {\n",
       "        text-align: right;\n",
       "    }\n",
       "</style>\n",
       "<table border=\"1\" class=\"dataframe\">\n",
       "  <thead>\n",
       "    <tr style=\"text-align: right;\">\n",
       "      <th></th>\n",
       "      <th>City</th>\n",
       "      <th>State or region</th>\n",
       "      <th>Country</th>\n",
       "      <th>Shop size</th>\n",
       "    </tr>\n",
       "    <tr>\n",
       "      <th>Shop ID</th>\n",
       "      <th></th>\n",
       "      <th></th>\n",
       "      <th></th>\n",
       "      <th></th>\n",
       "    </tr>\n",
       "  </thead>\n",
       "  <tbody>\n",
       "    <tr>\n",
       "      <th>shop_12</th>\n",
       "      <td>Saint-Étienne</td>\n",
       "      <td>Auvergne-Rhône-Alpes</td>\n",
       "      <td>France</td>\n",
       "      <td>medium</td>\n",
       "    </tr>\n",
       "    <tr>\n",
       "      <th>shop_26</th>\n",
       "      <td>New York</td>\n",
       "      <td>New York</td>\n",
       "      <td>USA</td>\n",
       "      <td>small</td>\n",
       "    </tr>\n",
       "    <tr>\n",
       "      <th>shop_13</th>\n",
       "      <td>New York</td>\n",
       "      <td>New York</td>\n",
       "      <td>USA</td>\n",
       "      <td>small</td>\n",
       "    </tr>\n",
       "    <tr>\n",
       "      <th>shop_27</th>\n",
       "      <td>Los Angeles</td>\n",
       "      <td>California</td>\n",
       "      <td>USA</td>\n",
       "      <td>big</td>\n",
       "    </tr>\n",
       "    <tr>\n",
       "      <th>shop_0</th>\n",
       "      <td>New York</td>\n",
       "      <td>New York</td>\n",
       "      <td>USA</td>\n",
       "      <td>big</td>\n",
       "    </tr>\n",
       "  </tbody>\n",
       "</table>\n",
       "</div>"
      ],
      "text/plain": [
       "                  City       State or region Country Shop size\n",
       "Shop ID                                                       \n",
       "shop_12  Saint-Étienne  Auvergne-Rhône-Alpes  France    medium\n",
       "shop_26       New York              New York     USA     small\n",
       "shop_13       New York              New York     USA     small\n",
       "shop_27    Los Angeles            California     USA       big\n",
       "shop_0        New York              New York     USA       big"
      ]
     },
     "execution_count": 28,
     "metadata": {},
     "output_type": "execute_result"
    }
   ],
   "source": [
    "shops_table = session.read_csv(\"data/shops.csv\", keys={\"Shop ID\"}, table_name=\"Shops\")\n",
    "shops_table.head()"
   ]
  },
  {
   "cell_type": "code",
   "execution_count": 29,
   "metadata": {},
   "outputs": [
    {
     "data": {
      "text/html": [
       "<div class=\"mermaid\">erDiagram\n",
       "  \"Sales\" {\n",
       "    non-null String PK \"Sale ID\"\n",
       "    non-null LocalDate \"Date\"\n",
       "    non-null String \"Shop\"\n",
       "    non-null String \"Product\"\n",
       "    nullable double \"Quantity\"\n",
       "    nullable double \"Unit price\"\n",
       "  }\n",
       "  \"Products\" {\n",
       "    non-null String PK \"Product\"\n",
       "    non-null String \"Category\"\n",
       "    non-null String \"Sub category\"\n",
       "    non-null String \"Size\"\n",
       "    nullable double \"Purchase price\"\n",
       "    non-null String \"Color\"\n",
       "    non-null String \"Brand\"\n",
       "  }\n",
       "  \"Shops\" {\n",
       "    non-null String PK \"Shop ID\"\n",
       "    non-null String \"City\"\n",
       "    non-null String \"State or region\"\n",
       "    non-null String \"Country\"\n",
       "    non-null String \"Shop size\"\n",
       "  }\n",
       "  \"Sales\" }o--o| \"Products\" : \"Product == Product\"\n",
       "  \"Sales\" }o--o| \"Shops\" : \"Shop == “Shop ID”\"\n",
       "</div>"
      ],
      "text/plain": [
       "erDiagram\n",
       "  \"Sales\" {\n",
       "    non-null String PK \"Sale ID\"\n",
       "    non-null LocalDate \"Date\"\n",
       "    non-null String \"Shop\"\n",
       "    non-null String \"Product\"\n",
       "    nullable double \"Quantity\"\n",
       "    nullable double \"Unit price\"\n",
       "  }\n",
       "  \"Products\" {\n",
       "    non-null String PK \"Product\"\n",
       "    non-null String \"Category\"\n",
       "    non-null String \"Sub category\"\n",
       "    non-null String \"Size\"\n",
       "    nullable double \"Purchase price\"\n",
       "    non-null String \"Color\"\n",
       "    non-null String \"Brand\"\n",
       "  }\n",
       "  \"Shops\" {\n",
       "    non-null String PK \"Shop ID\"\n",
       "    non-null String \"City\"\n",
       "    non-null String \"State or region\"\n",
       "    non-null String \"Country\"\n",
       "    non-null String \"Shop size\"\n",
       "  }\n",
       "  \"Sales\" }o--o| \"Products\" : \"Product == Product\"\n",
       "  \"Sales\" }o--o| \"Shops\" : \"Shop == “Shop ID”\""
      ]
     },
     "execution_count": 29,
     "metadata": {},
     "output_type": "execute_result"
    }
   ],
   "source": [
    "sales_table.join(shops_table, sales_table[\"Shop\"] == shops_table[\"Shop ID\"])\n",
    "session.tables.schema"
   ]
  },
  {
   "cell_type": "markdown",
   "metadata": {},
   "source": [
    "### New measures\n",
    "\n",
    "So far we have only used the default measures which are basic aggregations of the numeric columns.\n",
    "We can add new custom measures to our cube."
   ]
  },
  {
   "cell_type": "markdown",
   "metadata": {},
   "source": [
    "#### Max\n",
    "\n",
    "We'll start with an aggregation taking the maximum price of the sales table:"
   ]
  },
  {
   "cell_type": "code",
   "execution_count": 30,
   "metadata": {},
   "outputs": [],
   "source": [
    "m[\"Max price\"] = tt.agg.max(sales_table[\"Unit price\"])"
   ]
  },
  {
   "cell_type": "markdown",
   "metadata": {},
   "source": [
    "This new measure is directly available:"
   ]
  },
  {
   "cell_type": "code",
   "execution_count": 31,
   "metadata": {},
   "outputs": [
    {
     "data": {
      "application/vnd.atoti.convert-mdx-query-result-to-widget.v0+json": {
       "mdx": "SELECT {[Measures].[Max price]} ON COLUMNS, NON EMPTY Hierarchize(Descendants({[Products].[Category].[ALL].[AllMember]}, 1, SELF_AND_BEFORE)) ON ROWS FROM [Sales]",
       "sessionId": "1722814558_W35D5Y",
       "widgetCreationCode": "session.widget"
      },
      "text/html": [
       "<div>\n",
       "<style scoped>\n",
       "    .dataframe tbody tr th:only-of-type {\n",
       "        vertical-align: middle;\n",
       "    }\n",
       "\n",
       "    .dataframe tbody tr th {\n",
       "        vertical-align: top;\n",
       "    }\n",
       "\n",
       "    .dataframe thead th {\n",
       "        text-align: right;\n",
       "    }\n",
       "</style>\n",
       "<table border=\"1\" class=\"dataframe\">\n",
       "  <thead>\n",
       "    <tr style=\"text-align: right;\">\n",
       "      <th></th>\n",
       "      <th>Max price</th>\n",
       "    </tr>\n",
       "    <tr>\n",
       "      <th>Category</th>\n",
       "      <th></th>\n",
       "    </tr>\n",
       "  </thead>\n",
       "  <tbody>\n",
       "    <tr>\n",
       "      <th>Total</th>\n",
       "      <td>440.00</td>\n",
       "    </tr>\n",
       "    <tr>\n",
       "      <th>Cloth</th>\n",
       "      <td>60.00</td>\n",
       "    </tr>\n",
       "    <tr>\n",
       "      <th>Furniture</th>\n",
       "      <td>440.00</td>\n",
       "    </tr>\n",
       "  </tbody>\n",
       "</table>\n",
       "</div>"
      ],
      "text/plain": [
       "          Max price\n",
       "Category           \n",
       "Total        440.00\n",
       "Cloth         60.00\n",
       "Furniture    440.00"
      ]
     },
     "execution_count": 31,
     "metadata": {},
     "output_type": "execute_result"
    }
   ],
   "source": [
    "cube.query(m[\"Max price\"], include_totals=True, levels=[l[\"Category\"]])"
   ]
  },
  {
   "cell_type": "markdown",
   "metadata": {},
   "source": [
    "#### Fact-level operations\n",
    "\n",
    "To compute aggregates based of data which comes directly from the columns of a table, you can pass the calculation directly to the desired aggregation function. This is more efficient than first converting the columns to measures before the aggregation.\n",
    "\n",
    "Let's use this to compute the total amount earned from the sale of the products, as well as the average."
   ]
  },
  {
   "cell_type": "code",
   "execution_count": 32,
   "metadata": {},
   "outputs": [],
   "source": [
    "m[\"Amount.SUM\"] = tt.agg.sum(sales_table[\"Quantity\"] * sales_table[\"Unit price\"])\n",
    "m[\"Amount.MEAN\"] = tt.agg.mean(\n",
    "    sales_table[\"Quantity\"] * sales_table[\"Unit price\"],\n",
    ")"
   ]
  },
  {
   "cell_type": "markdown",
   "metadata": {},
   "source": [
    "We can now plot the evolution of the sales per country over time:\n",
    "\n",
    "![Amount per country over time](images/split-by-country.png)"
   ]
  },
  {
   "cell_type": "code",
   "execution_count": 33,
   "metadata": {},
   "outputs": [
    {
     "data": {
      "application/vnd.atoti.widget.v0+json": {
       "sessionId": "1722814558_W35D5Y",
       "sessionLocation": {
        "https": false,
        "port": 52301
       },
       "widgetCreationCode": "session.widget"
      },
      "text/plain": [
       "Open the notebook in JupyterLab with the Atoti JupyterLab extension enabled to build this widget."
      ]
     },
     "metadata": {},
     "output_type": "display_data"
    }
   ],
   "source": [
    "session.widget"
   ]
  },
  {
   "cell_type": "markdown",
   "metadata": {},
   "source": [
    "#### Margin\n",
    "\n",
    "Now that the price of each product is available from the products table, we can compute the margin.\n",
    "\n",
    "We use the [OriginScope](../../api/atoti.scope.origin_scope.rst) to perform the multiplication of the quantity sold by the purchase price for each **Product** and then do the sum."
   ]
  },
  {
   "cell_type": "code",
   "execution_count": 34,
   "metadata": {},
   "outputs": [],
   "source": [
    "cost = tt.agg.sum(\n",
    "    m[\"Quantity.SUM\"] * tt.agg.single_value(products_table[\"Purchase price\"]),\n",
    "    scope=tt.OriginScope({l[\"Product\"]}),\n",
    ")"
   ]
  },
  {
   "cell_type": "code",
   "execution_count": 35,
   "metadata": {},
   "outputs": [],
   "source": [
    "m[\"Margin\"] = m[\"Amount.SUM\"] - cost"
   ]
  },
  {
   "cell_type": "markdown",
   "metadata": {},
   "source": [
    "We can also define the margin rate which is the ratio of the margin by the the sold amount:"
   ]
  },
  {
   "cell_type": "code",
   "execution_count": 36,
   "metadata": {},
   "outputs": [],
   "source": [
    "m[\"Margin rate\"] = m[\"Margin\"] / m[\"Amount.SUM\"]"
   ]
  },
  {
   "cell_type": "code",
   "execution_count": 37,
   "metadata": {},
   "outputs": [
    {
     "data": {
      "application/vnd.atoti.convert-mdx-query-result-to-widget.v0+json": {
       "mdx": "SELECT {[Measures].[Margin], [Measures].[Margin rate]} ON COLUMNS, NON EMPTY Hierarchize(Descendants({[Sales].[Product].[ALL].[AllMember]}, 1, SELF_AND_BEFORE)) ON ROWS FROM [Sales]",
       "sessionId": "1722814558_W35D5Y",
       "widgetCreationCode": "session.widget"
      },
      "text/html": [
       "<div>\n",
       "<style scoped>\n",
       "    .dataframe tbody tr th:only-of-type {\n",
       "        vertical-align: middle;\n",
       "    }\n",
       "\n",
       "    .dataframe tbody tr th {\n",
       "        vertical-align: top;\n",
       "    }\n",
       "\n",
       "    .dataframe thead th {\n",
       "        text-align: right;\n",
       "    }\n",
       "</style>\n",
       "<table border=\"1\" class=\"dataframe\">\n",
       "  <thead>\n",
       "    <tr style=\"text-align: right;\">\n",
       "      <th></th>\n",
       "      <th>Margin</th>\n",
       "      <th>Margin rate</th>\n",
       "    </tr>\n",
       "    <tr>\n",
       "      <th>Product</th>\n",
       "      <th></th>\n",
       "      <th></th>\n",
       "    </tr>\n",
       "  </thead>\n",
       "  <tbody>\n",
       "    <tr>\n",
       "      <th>BED_24</th>\n",
       "      <td>3,082.00</td>\n",
       "      <td>.15</td>\n",
       "    </tr>\n",
       "    <tr>\n",
       "      <th>BED_25</th>\n",
       "      <td>6,336.00</td>\n",
       "      <td>.16</td>\n",
       "    </tr>\n",
       "    <tr>\n",
       "      <th>BED_26</th>\n",
       "      <td>8,060.00</td>\n",
       "      <td>.16</td>\n",
       "    </tr>\n",
       "    <tr>\n",
       "      <th>BED_27</th>\n",
       "      <td>8,580.00</td>\n",
       "      <td>.15</td>\n",
       "    </tr>\n",
       "    <tr>\n",
       "      <th>BED_3</th>\n",
       "      <td>3,036.00</td>\n",
       "      <td>.15</td>\n",
       "    </tr>\n",
       "    <tr>\n",
       "      <th>...</th>\n",
       "      <td>...</td>\n",
       "      <td>...</td>\n",
       "    </tr>\n",
       "    <tr>\n",
       "      <th>TSH_52</th>\n",
       "      <td>520.00</td>\n",
       "      <td>.17</td>\n",
       "    </tr>\n",
       "    <tr>\n",
       "      <th>TSH_53</th>\n",
       "      <td>396.00</td>\n",
       "      <td>.12</td>\n",
       "    </tr>\n",
       "    <tr>\n",
       "      <th>TSH_7</th>\n",
       "      <td>393.00</td>\n",
       "      <td>.15</td>\n",
       "    </tr>\n",
       "    <tr>\n",
       "      <th>TSH_8</th>\n",
       "      <td>264.00</td>\n",
       "      <td>.10</td>\n",
       "    </tr>\n",
       "    <tr>\n",
       "      <th>TSH_9</th>\n",
       "      <td>390.00</td>\n",
       "      <td>.14</td>\n",
       "    </tr>\n",
       "  </tbody>\n",
       "</table>\n",
       "<p>61 rows × 2 columns</p>\n",
       "</div>"
      ],
      "text/plain": [
       "           Margin Margin rate\n",
       "Product                      \n",
       "BED_24   3,082.00         .15\n",
       "BED_25   6,336.00         .16\n",
       "BED_26   8,060.00         .16\n",
       "BED_27   8,580.00         .15\n",
       "BED_3    3,036.00         .15\n",
       "...           ...         ...\n",
       "TSH_52     520.00         .17\n",
       "TSH_53     396.00         .12\n",
       "TSH_7      393.00         .15\n",
       "TSH_8      264.00         .10\n",
       "TSH_9      390.00         .14\n",
       "\n",
       "[61 rows x 2 columns]"
      ]
     },
     "execution_count": 37,
     "metadata": {},
     "output_type": "execute_result"
    }
   ],
   "source": [
    "cube.query(m[\"Margin\"], m[\"Margin rate\"], levels=[l[\"Product\"]])"
   ]
  },
  {
   "cell_type": "markdown",
   "metadata": {},
   "source": [
    "Let's use this margin rate to do a _Top 10_ filter to see the products with the best rate.\n",
    "\n",
    "Note that you don't need to put the rate measure and the product level in the pivot table to apply the filter.\n",
    "\n",
    "![top10 filter on the margin rate](images/top10-margin-rate.gif)"
   ]
  },
  {
   "cell_type": "code",
   "execution_count": 38,
   "metadata": {},
   "outputs": [
    {
     "data": {
      "application/vnd.atoti.widget.v0+json": {
       "sessionId": "1722814558_W35D5Y",
       "sessionLocation": {
        "https": false,
        "port": 52301
       },
       "widgetCreationCode": "session.widget"
      },
      "text/plain": [
       "Open the notebook in JupyterLab with the Atoti JupyterLab extension enabled to build this widget."
      ]
     },
     "metadata": {},
     "output_type": "display_data"
    }
   ],
   "source": [
    "session.widget"
   ]
  },
  {
   "cell_type": "markdown",
   "metadata": {},
   "source": [
    "#### Cumulative sum over time"
   ]
  },
  {
   "cell_type": "markdown",
   "metadata": {},
   "source": [
    "A cumulative sum is the partial sum of the data up to the current value.\n",
    "For instance, a cumulative sum over time can be used to show how some measure changes over time."
   ]
  },
  {
   "cell_type": "code",
   "execution_count": 39,
   "metadata": {},
   "outputs": [],
   "source": [
    "m[\"Cumulative amount\"] = tt.agg.sum(\n",
    "    m[\"Amount.SUM\"],\n",
    "    scope=tt.CumulativeScope(l[\"Date\"]),\n",
    ")"
   ]
  },
  {
   "cell_type": "markdown",
   "metadata": {},
   "source": [
    "![Cumulative amount](images/cumulative-amount.png)"
   ]
  },
  {
   "cell_type": "code",
   "execution_count": 40,
   "metadata": {},
   "outputs": [
    {
     "data": {
      "application/vnd.atoti.widget.v0+json": {
       "sessionId": "1722814558_W35D5Y",
       "sessionLocation": {
        "https": false,
        "port": 52301
       },
       "widgetCreationCode": "session.widget"
      },
      "text/plain": [
       "Open the notebook in JupyterLab with the Atoti JupyterLab extension enabled to build this widget."
      ]
     },
     "metadata": {},
     "output_type": "display_data"
    }
   ],
   "source": [
    "session.widget"
   ]
  },
  {
   "cell_type": "markdown",
   "metadata": {},
   "source": [
    "#### Average per shop"
   ]
  },
  {
   "cell_type": "markdown",
   "metadata": {},
   "source": [
    "Aggregations can also be combined.\n",
    "For instance, we can sum inside a **Shop**: then take the average of this to see how much a table sales on average:"
   ]
  },
  {
   "cell_type": "code",
   "execution_count": 41,
   "metadata": {},
   "outputs": [],
   "source": [
    "m[\"Average amount per shop\"] = tt.agg.mean(\n",
    "    m[\"Amount.SUM\"],\n",
    "    scope=tt.OriginScope({l[\"Shop\"]}),\n",
    ")"
   ]
  },
  {
   "cell_type": "code",
   "execution_count": 42,
   "metadata": {},
   "outputs": [
    {
     "data": {
      "application/vnd.atoti.convert-mdx-query-result-to-widget.v0+json": {
       "mdx": "SELECT {[Measures].[Average amount per shop]} ON COLUMNS, NON EMPTY Hierarchize(Descendants({[Products].[Sub category].[ALL].[AllMember]}, 1, SELF_AND_BEFORE)) ON ROWS FROM [Sales]",
       "sessionId": "1722814558_W35D5Y",
       "widgetCreationCode": "session.widget"
      },
      "text/html": [
       "<div>\n",
       "<style scoped>\n",
       "    .dataframe tbody tr th:only-of-type {\n",
       "        vertical-align: middle;\n",
       "    }\n",
       "\n",
       "    .dataframe tbody tr th {\n",
       "        vertical-align: top;\n",
       "    }\n",
       "\n",
       "    .dataframe thead th {\n",
       "        text-align: right;\n",
       "    }\n",
       "</style>\n",
       "<table border=\"1\" class=\"dataframe\">\n",
       "  <thead>\n",
       "    <tr style=\"text-align: right;\">\n",
       "      <th></th>\n",
       "      <th>Average amount per shop</th>\n",
       "    </tr>\n",
       "    <tr>\n",
       "      <th>Sub category</th>\n",
       "      <th></th>\n",
       "    </tr>\n",
       "  </thead>\n",
       "  <tbody>\n",
       "    <tr>\n",
       "      <th>Total</th>\n",
       "      <td>24,036.58</td>\n",
       "    </tr>\n",
       "    <tr>\n",
       "      <th>Bed</th>\n",
       "      <td>12,728.88</td>\n",
       "    </tr>\n",
       "    <tr>\n",
       "      <th>Chair</th>\n",
       "      <td>601.50</td>\n",
       "    </tr>\n",
       "    <tr>\n",
       "      <th>Hoodie</th>\n",
       "      <td>1,403.20</td>\n",
       "    </tr>\n",
       "    <tr>\n",
       "      <th>Shoes</th>\n",
       "      <td>3,184.50</td>\n",
       "    </tr>\n",
       "    <tr>\n",
       "      <th>T-shirt</th>\n",
       "      <td>1,095.00</td>\n",
       "    </tr>\n",
       "    <tr>\n",
       "      <th>Table</th>\n",
       "      <td>5,023.50</td>\n",
       "    </tr>\n",
       "  </tbody>\n",
       "</table>\n",
       "</div>"
      ],
      "text/plain": [
       "             Average amount per shop\n",
       "Sub category                        \n",
       "Total                      24,036.58\n",
       "Bed                        12,728.88\n",
       "Chair                         601.50\n",
       "Hoodie                      1,403.20\n",
       "Shoes                       3,184.50\n",
       "T-shirt                     1,095.00\n",
       "Table                       5,023.50"
      ]
     },
     "execution_count": 42,
     "metadata": {},
     "output_type": "execute_result"
    }
   ],
   "source": [
    "cube.query(\n",
    "    m[\"Average amount per shop\"],\n",
    "    include_totals=True,\n",
    "    levels=[l[\"Sub category\"]],\n",
    ")"
   ]
  },
  {
   "cell_type": "markdown",
   "metadata": {},
   "source": [
    "### Multilevel hierarchies"
   ]
  },
  {
   "cell_type": "markdown",
   "metadata": {},
   "source": [
    "So far, all our hierarchies only had one level but it's best to regroup attributes with a parent-child relationship in the same hierarchy.\n",
    "\n",
    "For example, we can group the **Category**, **SubCategory** and **Product ID** levels into a **Product** hierarchy:"
   ]
  },
  {
   "cell_type": "code",
   "execution_count": 43,
   "metadata": {},
   "outputs": [],
   "source": [
    "h[\"Product\"] = [l[\"Category\"], l[\"Sub category\"], l[\"Product\"]]"
   ]
  },
  {
   "cell_type": "markdown",
   "metadata": {},
   "source": [
    "And let's remove the old hierarchies:"
   ]
  },
  {
   "cell_type": "code",
   "execution_count": 44,
   "metadata": {},
   "outputs": [],
   "source": [
    "del h[\"Category\"]\n",
    "del h[\"Sub category\"]"
   ]
  },
  {
   "cell_type": "code",
   "execution_count": 45,
   "metadata": {},
   "outputs": [
    {
     "data": {
      "application/json": {
       "Products": {
        "Brand": [
         "Brand"
        ],
        "Color": [
         "Color"
        ],
        "Product": [
         "Category",
         "Sub category",
         "Product"
        ],
        "Size": [
         "Size"
        ]
       },
       "Sales": {
        "Date": [
         "Date"
        ],
        "Product": [
         "Product"
        ],
        "Sale ID": [
         "Sale ID"
        ],
        "Shop": [
         "Shop"
        ]
       },
       "Shops": {
        "City": [
         "City"
        ],
        "Country": [
         "Country"
        ],
        "Shop size": [
         "Shop size"
        ],
        "State or region": [
         "State or region"
        ]
       }
      },
      "text/html": [
       "<ul>\n",
       "<li>Dimensions\n",
       "  <ul>\n",
       "  <li>Products\n",
       "    <ul>\n",
       "    <li>Brand\n",
       "      <ol>\n",
       "      <li>Brand</li>\n",
       "      </ol>    </li>\n",
       "    <li>Color\n",
       "      <ol>\n",
       "      <li>Color</li>\n",
       "      </ol>    </li>\n",
       "    <li>Product\n",
       "      <ol>\n",
       "      <li>Category</li>\n",
       "      <li>Sub category</li>\n",
       "      <li>Product</li>\n",
       "      </ol>    </li>\n",
       "    <li>Size\n",
       "      <ol>\n",
       "      <li>Size</li>\n",
       "      </ol>    </li>\n",
       "    </ul>\n",
       "  </li>\n",
       "  <li>Sales\n",
       "    <ul>\n",
       "    <li>Date\n",
       "      <ol>\n",
       "      <li>Date</li>\n",
       "      </ol>    </li>\n",
       "    <li>Product\n",
       "      <ol>\n",
       "      <li>Product</li>\n",
       "      </ol>    </li>\n",
       "    <li>Sale ID\n",
       "      <ol>\n",
       "      <li>Sale ID</li>\n",
       "      </ol>    </li>\n",
       "    <li>Shop\n",
       "      <ol>\n",
       "      <li>Shop</li>\n",
       "      </ol>    </li>\n",
       "    </ul>\n",
       "  </li>\n",
       "  <li>Shops\n",
       "    <ul>\n",
       "    <li>City\n",
       "      <ol>\n",
       "      <li>City</li>\n",
       "      </ol>    </li>\n",
       "    <li>Country\n",
       "      <ol>\n",
       "      <li>Country</li>\n",
       "      </ol>    </li>\n",
       "    <li>Shop size\n",
       "      <ol>\n",
       "      <li>Shop size</li>\n",
       "      </ol>    </li>\n",
       "    <li>State or region\n",
       "      <ol>\n",
       "      <li>State or region</li>\n",
       "      </ol>    </li>\n",
       "    </ul>\n",
       "  </li>\n",
       "  </ul>\n",
       "</li>\n",
       "</ul>\n"
      ],
      "text/plain": [
       "{('Products', 'Size'): <atoti.hierarchy.Hierarchy object at 0x118d45fc0>, ('Products', 'Color'): <atoti.hierarchy.Hierarchy object at 0x118d46950>, ('Products', 'Brand'): <atoti.hierarchy.Hierarchy object at 0x118d47b50>, ('Products', 'Product'): <atoti.hierarchy.Hierarchy object at 0x118d46d40>, ('Sales', 'Shop'): <atoti.hierarchy.Hierarchy object at 0x118d47190>, ('Sales', 'Date'): <atoti.hierarchy.Hierarchy object at 0x118d46e30>, ('Sales', 'Product'): <atoti.hierarchy.Hierarchy object at 0x118d47c70>, ('Sales', 'Sale ID'): <atoti.hierarchy.Hierarchy object at 0x118d478b0>, ('Shops', 'Shop size'): <atoti.hierarchy.Hierarchy object at 0x118d44c70>, ('Shops', 'City'): <atoti.hierarchy.Hierarchy object at 0x118d443d0>, ('Shops', 'State or region'): <atoti.hierarchy.Hierarchy object at 0x118d458d0>, ('Shops', 'Country'): <atoti.hierarchy.Hierarchy object at 0x118d45e70>}"
      ]
     },
     "execution_count": 45,
     "metadata": {
      "application/json": {
       "expanded": true,
       "root": "Dimensions"
      }
     },
     "output_type": "execute_result"
    }
   ],
   "source": [
    "h"
   ]
  },
  {
   "cell_type": "markdown",
   "metadata": {},
   "source": [
    "We can also do it with **City**, **State or Region** and **Country** to build a **Geography** hierarchy.\n",
    "\n",
    "Note that instead of using existing levels you can also define a hierarchy with the columns of the table the levels will be based on:"
   ]
  },
  {
   "cell_type": "code",
   "execution_count": 46,
   "metadata": {},
   "outputs": [],
   "source": [
    "h[\"Geography\"] = [\n",
    "    shops_table[\"Country\"],\n",
    "    shops_table[\"State or region\"],\n",
    "    shops_table[\"City\"],\n",
    "]\n",
    "del h[\"Country\"]\n",
    "del h[\"State or region\"]\n",
    "del h[\"City\"]"
   ]
  },
  {
   "cell_type": "markdown",
   "metadata": {},
   "source": [
    "As we are restructuring the hierarchies, let's use this opportunity to also change the dimensions.\n",
    "\n",
    "A dimension regroups hierarchies of the same concept.\n",
    "\n",
    "We can move the new **Geography** hierarchy to its own dimension:"
   ]
  },
  {
   "cell_type": "code",
   "execution_count": 47,
   "metadata": {},
   "outputs": [
    {
     "data": {
      "application/json": {
       "Location": {
        "Geography": [
         "Country",
         "State or region",
         "City"
        ]
       },
       "Products": {
        "Brand": [
         "Brand"
        ],
        "Color": [
         "Color"
        ],
        "Product": [
         "Category",
         "Sub category",
         "Product"
        ],
        "Size": [
         "Size"
        ]
       },
       "Sales": {
        "Date": [
         "Date"
        ],
        "Product": [
         "Product"
        ],
        "Sale ID": [
         "Sale ID"
        ],
        "Shop": [
         "Shop"
        ]
       },
       "Shops": {
        "Shop size": [
         "Shop size"
        ]
       }
      },
      "text/html": [
       "<ul>\n",
       "<li>Dimensions\n",
       "  <ul>\n",
       "  <li>Location\n",
       "    <ul>\n",
       "    <li>Geography\n",
       "      <ol>\n",
       "      <li>Country</li>\n",
       "      <li>State or region</li>\n",
       "      <li>City</li>\n",
       "      </ol>    </li>\n",
       "    </ul>\n",
       "  </li>\n",
       "  <li>Products\n",
       "    <ul>\n",
       "    <li>Brand\n",
       "      <ol>\n",
       "      <li>Brand</li>\n",
       "      </ol>    </li>\n",
       "    <li>Color\n",
       "      <ol>\n",
       "      <li>Color</li>\n",
       "      </ol>    </li>\n",
       "    <li>Product\n",
       "      <ol>\n",
       "      <li>Category</li>\n",
       "      <li>Sub category</li>\n",
       "      <li>Product</li>\n",
       "      </ol>    </li>\n",
       "    <li>Size\n",
       "      <ol>\n",
       "      <li>Size</li>\n",
       "      </ol>    </li>\n",
       "    </ul>\n",
       "  </li>\n",
       "  <li>Sales\n",
       "    <ul>\n",
       "    <li>Date\n",
       "      <ol>\n",
       "      <li>Date</li>\n",
       "      </ol>    </li>\n",
       "    <li>Product\n",
       "      <ol>\n",
       "      <li>Product</li>\n",
       "      </ol>    </li>\n",
       "    <li>Sale ID\n",
       "      <ol>\n",
       "      <li>Sale ID</li>\n",
       "      </ol>    </li>\n",
       "    <li>Shop\n",
       "      <ol>\n",
       "      <li>Shop</li>\n",
       "      </ol>    </li>\n",
       "    </ul>\n",
       "  </li>\n",
       "  <li>Shops\n",
       "    <ul>\n",
       "    <li>Shop size\n",
       "      <ol>\n",
       "      <li>Shop size</li>\n",
       "      </ol>    </li>\n",
       "    </ul>\n",
       "  </li>\n",
       "  </ul>\n",
       "</li>\n",
       "</ul>\n"
      ],
      "text/plain": [
       "{('Products', 'Size'): <atoti.hierarchy.Hierarchy object at 0x118d3a410>, ('Products', 'Color'): <atoti.hierarchy.Hierarchy object at 0x118d3b5b0>, ('Products', 'Brand'): <atoti.hierarchy.Hierarchy object at 0x118d3b3a0>, ('Products', 'Product'): <atoti.hierarchy.Hierarchy object at 0x118d39ff0>, ('Sales', 'Shop'): <atoti.hierarchy.Hierarchy object at 0x118d3bfd0>, ('Sales', 'Date'): <atoti.hierarchy.Hierarchy object at 0x118d3b190>, ('Sales', 'Product'): <atoti.hierarchy.Hierarchy object at 0x118d39420>, ('Sales', 'Sale ID'): <atoti.hierarchy.Hierarchy object at 0x11867bb20>, ('Location', 'Geography'): <atoti.hierarchy.Hierarchy object at 0x11867b460>, ('Shops', 'Shop size'): <atoti.hierarchy.Hierarchy object at 0x11867a7d0>}"
      ]
     },
     "execution_count": 47,
     "metadata": {
      "application/json": {
       "expanded": true,
       "root": "Dimensions"
      }
     },
     "output_type": "execute_result"
    }
   ],
   "source": [
    "h[\"Geography\"].dimension = \"Location\"\n",
    "h"
   ]
  },
  {
   "cell_type": "markdown",
   "metadata": {},
   "source": [
    "With that, we can define new measures taking advantage of the multilevel structure.\n",
    "For instance, we can create a measure indicating how much a product contributes to its subcategory:"
   ]
  },
  {
   "cell_type": "code",
   "execution_count": 48,
   "metadata": {},
   "outputs": [],
   "source": [
    "m[\"Parent category amount\"] = tt.parent_value(\n",
    "    m[\"Amount.SUM\"],\n",
    "    degrees={h[\"Products\", \"Product\"]: 1},\n",
    ")"
   ]
  },
  {
   "cell_type": "code",
   "execution_count": 49,
   "metadata": {},
   "outputs": [],
   "source": [
    "m[\"Percent of parent amount\"] = m[\"Amount.SUM\"] / m[\"Parent category amount\"]"
   ]
  },
  {
   "cell_type": "markdown",
   "metadata": {},
   "source": [
    "![Percent of parent](images/percent-of-parent.gif)"
   ]
  },
  {
   "cell_type": "code",
   "execution_count": 50,
   "metadata": {},
   "outputs": [
    {
     "data": {
      "application/vnd.atoti.widget.v0+json": {
       "sessionId": "1722814558_W35D5Y",
       "sessionLocation": {
        "https": false,
        "port": 52301
       },
       "widgetCreationCode": "session.widget"
      },
      "text/plain": [
       "Open the notebook in JupyterLab with the Atoti JupyterLab extension enabled to build this widget."
      ]
     },
     "metadata": {},
     "output_type": "display_data"
    }
   ],
   "source": [
    "session.widget"
   ]
  },
  {
   "cell_type": "markdown",
   "metadata": {},
   "source": [
    "## Polishing the cube"
   ]
  },
  {
   "cell_type": "markdown",
   "metadata": {},
   "source": [
    "### Deleting or hiding measures\n",
    "\n",
    "Some measures have been automatically created from numeric columns but are not useful.\n",
    "For instance, **Unit Price.SUM** does not really make sense as we never want to sum the unit prices.\n",
    "We can delete it:"
   ]
  },
  {
   "cell_type": "code",
   "execution_count": 51,
   "metadata": {},
   "outputs": [],
   "source": [
    "del m[\"Unit price.SUM\"]"
   ]
  },
  {
   "cell_type": "markdown",
   "metadata": {},
   "source": [
    "Other measures have been used while building the project only as intermediary steps but are not useful to the end users in the app.\n",
    "We can hide them from the UI (they will remain accessible in Python):"
   ]
  },
  {
   "cell_type": "code",
   "execution_count": 52,
   "metadata": {},
   "outputs": [],
   "source": [
    "m[\"Parent category amount\"].visible = False"
   ]
  },
  {
   "cell_type": "markdown",
   "metadata": {},
   "source": [
    "### Measure folders\n",
    "\n",
    "Measures can be rearranged into folders."
   ]
  },
  {
   "cell_type": "code",
   "execution_count": 53,
   "metadata": {},
   "outputs": [],
   "source": [
    "for measure in [\n",
    "    m[\"Amount.MEAN\"],\n",
    "    m[\"Amount.SUM\"],\n",
    "    m[\"Average amount per shop\"],\n",
    "    m[\"Cumulative amount\"],\n",
    "    m[\"Percent of parent amount\"],\n",
    "]:\n",
    "    measure.folder = \"Amount\""
   ]
  },
  {
   "cell_type": "code",
   "execution_count": 54,
   "metadata": {},
   "outputs": [
    {
     "data": {
      "application/json": {
       "Margin": {
        "formatter": "DOUBLE[#,###.00]"
       },
       "Margin rate": {
        "formatter": "DOUBLE[#,###.00]"
       },
       "Max price": {
        "formatter": "DOUBLE[#,###.00]"
       },
       "Purchase price.VALUE": {
        "formatter": "DOUBLE[#,###.00]"
       },
       "Quantity.MEAN": {
        "formatter": "DOUBLE[#,###.00]"
       },
       "Quantity.SUM": {
        "formatter": "DOUBLE[#,###.00]"
       },
       "Unit price.MEAN": {
        "formatter": "DOUBLE[#,###.00]"
       },
       "contributors.COUNT": {
        "formatter": "INT[#,###]"
       },
       "📁 Amount": {
        "Amount.MEAN": {
         "formatter": "DOUBLE[#,###.00]"
        },
        "Amount.SUM": {
         "formatter": "DOUBLE[#,###.00]"
        },
        "Average amount per shop": {
         "formatter": "DOUBLE[#,###.00]"
        },
        "Cumulative amount": {
         "formatter": "DOUBLE[#,###.00]"
        },
        "Percent of parent amount": {
         "formatter": "DOUBLE[#,###.00]"
        }
       }
      },
      "text/html": [
       "<ul>\n",
       "<li>Measures\n",
       "  <ul>\n",
       "  <li>📁 Amount\n",
       "    <ul>\n",
       "    <li>Amount.MEAN\n",
       "      <ul>\n",
       "      <li>formatter: DOUBLE[#,###.00]</li>\n",
       "      </ul>\n",
       "    </li>\n",
       "    <li>Amount.SUM\n",
       "      <ul>\n",
       "      <li>formatter: DOUBLE[#,###.00]</li>\n",
       "      </ul>\n",
       "    </li>\n",
       "    <li>Average amount per shop\n",
       "      <ul>\n",
       "      <li>formatter: DOUBLE[#,###.00]</li>\n",
       "      </ul>\n",
       "    </li>\n",
       "    <li>Cumulative amount\n",
       "      <ul>\n",
       "      <li>formatter: DOUBLE[#,###.00]</li>\n",
       "      </ul>\n",
       "    </li>\n",
       "    <li>Percent of parent amount\n",
       "      <ul>\n",
       "      <li>formatter: DOUBLE[#,###.00]</li>\n",
       "      </ul>\n",
       "    </li>\n",
       "    </ul>\n",
       "  </li>\n",
       "  <li>Margin\n",
       "    <ul>\n",
       "    <li>formatter: DOUBLE[#,###.00]</li>\n",
       "    </ul>\n",
       "  </li>\n",
       "  <li>Margin rate\n",
       "    <ul>\n",
       "    <li>formatter: DOUBLE[#,###.00]</li>\n",
       "    </ul>\n",
       "  </li>\n",
       "  <li>Max price\n",
       "    <ul>\n",
       "    <li>formatter: DOUBLE[#,###.00]</li>\n",
       "    </ul>\n",
       "  </li>\n",
       "  <li>Purchase price.VALUE\n",
       "    <ul>\n",
       "    <li>formatter: DOUBLE[#,###.00]</li>\n",
       "    </ul>\n",
       "  </li>\n",
       "  <li>Quantity.MEAN\n",
       "    <ul>\n",
       "    <li>formatter: DOUBLE[#,###.00]</li>\n",
       "    </ul>\n",
       "  </li>\n",
       "  <li>Quantity.SUM\n",
       "    <ul>\n",
       "    <li>formatter: DOUBLE[#,###.00]</li>\n",
       "    </ul>\n",
       "  </li>\n",
       "  <li>Unit price.MEAN\n",
       "    <ul>\n",
       "    <li>formatter: DOUBLE[#,###.00]</li>\n",
       "    </ul>\n",
       "  </li>\n",
       "  <li>contributors.COUNT\n",
       "    <ul>\n",
       "    <li>formatter: INT[#,###]</li>\n",
       "    </ul>\n",
       "  </li>\n",
       "  </ul>\n",
       "</li>\n",
       "</ul>\n"
      ],
      "text/plain": [
       "{'Margin': <atoti.measure.Measure object at 0x11a28b6a0>, 'Purchase price.VALUE': <atoti.measure.Measure object at 0x11a3418d0>, 'Unit price.MEAN': <atoti.measure.Measure object at 0x11a3427d0>, 'Max price': <atoti.measure.Measure object at 0x11a342320>, 'λ(SUM.(Amount.SUM).over(Window[Hierarchy : Hierarchy[dimension=S...__#__1': <atoti.measure.Measure object at 0x11a340400>, 'Quantity.MEAN': <atoti.measure.Measure object at 0x11a3425f0>, '__hidden_4_COMPARABLE_MAX': <atoti.measure.Measure object at 0x11a3409d0>, 'SUM.(Amount.SUM).over(Window[Hierarchy : Hierarchy[dimension=Sal...__#__0': <atoti.measure.Measure object at 0x11a3413f0>, 'update.TIMESTAMP': <atoti.measure.Measure object at 0x11a341cc0>, 'Parent category amount': <atoti.measure.Measure object at 0x11a342980>, 'λ(SUM.(Amount.SUM).over(Window[Hierarchy : Hierarchy[dimension=S...__#__0': <atoti.measure.Measure object at 0x11a341900>, 'Percent of parent amount': <atoti.measure.Measure object at 0x11a3411b0>, 'contributors.COUNT': <atoti.measure.Measure object at 0x11a340f40>, 'Quantity.SUM': <atoti.measure.Measure object at 0x11a342b00>, 'MULTIPLY(Quantity.SUM;Products.Purchase price.SINGLE_VALUE_NULLA...__#__1': <atoti.measure.Measure object at 0x11a340be0>, 'Amount.MEAN': <atoti.measure.Measure object at 0x11a3439a0>, 'MULTIPLY(Quantity.SUM;Products.Purchase price.SINGLE_VALUE_NULLA...__#__0': <atoti.measure.Measure object at 0x11a341c60>, 'Cumulative amount': <atoti.measure.Measure object at 0x11a341f30>, 'Average amount per shop': <atoti.measure.Measure object at 0x11a3432e0>, 'Amount.SUM': <atoti.measure.Measure object at 0x11a340d30>, 'Margin rate': <atoti.measure.Measure object at 0x11a340100>}"
      ]
     },
     "execution_count": 54,
     "metadata": {
      "application/json": {
       "expanded": false,
       "root": "Measures"
      }
     },
     "output_type": "execute_result"
    }
   ],
   "source": [
    "m"
   ]
  },
  {
   "cell_type": "markdown",
   "metadata": {},
   "source": [
    "### Measure formatters\n",
    "\n",
    "Some measures can be formatted for a nicer display.\n",
    "Classic examples of this is changing the number of decimals or adding a percent or a currency symbol.\n",
    "\n",
    "Let's do this for our percent of parent amount and margin rate:\n",
    "\n",
    "#### Before"
   ]
  },
  {
   "cell_type": "code",
   "execution_count": 55,
   "metadata": {},
   "outputs": [
    {
     "data": {
      "application/vnd.atoti.convert-mdx-query-result-to-widget.v0+json": {
       "mdx": "SELECT {[Measures].[Percent of parent amount], [Measures].[Margin rate]} ON COLUMNS, NON EMPTY Hierarchize(Descendants({[Products].[Product].[ALL].[AllMember]}, 1, SELF_AND_BEFORE)) ON ROWS FROM [Sales]",
       "sessionId": "1722814558_W35D5Y",
       "widgetCreationCode": "session.widget"
      },
      "text/html": [
       "<div>\n",
       "<style scoped>\n",
       "    .dataframe tbody tr th:only-of-type {\n",
       "        vertical-align: middle;\n",
       "    }\n",
       "\n",
       "    .dataframe tbody tr th {\n",
       "        vertical-align: top;\n",
       "    }\n",
       "\n",
       "    .dataframe thead th {\n",
       "        text-align: right;\n",
       "    }\n",
       "</style>\n",
       "<table border=\"1\" class=\"dataframe\">\n",
       "  <thead>\n",
       "    <tr style=\"text-align: right;\">\n",
       "      <th></th>\n",
       "      <th>Percent of parent amount</th>\n",
       "      <th>Margin rate</th>\n",
       "    </tr>\n",
       "    <tr>\n",
       "      <th>Category</th>\n",
       "      <th></th>\n",
       "      <th></th>\n",
       "    </tr>\n",
       "  </thead>\n",
       "  <tbody>\n",
       "    <tr>\n",
       "      <th>Cloth</th>\n",
       "      <td>.24</td>\n",
       "      <td>.23</td>\n",
       "    </tr>\n",
       "    <tr>\n",
       "      <th>Furniture</th>\n",
       "      <td>.76</td>\n",
       "      <td>.13</td>\n",
       "    </tr>\n",
       "  </tbody>\n",
       "</table>\n",
       "</div>"
      ],
      "text/plain": [
       "          Percent of parent amount Margin rate\n",
       "Category                                      \n",
       "Cloth                          .24         .23\n",
       "Furniture                      .76         .13"
      ]
     },
     "execution_count": 55,
     "metadata": {},
     "output_type": "execute_result"
    }
   ],
   "source": [
    "cube.query(m[\"Percent of parent amount\"], m[\"Margin rate\"], levels=[l[\"Category\"]])"
   ]
  },
  {
   "cell_type": "code",
   "execution_count": 56,
   "metadata": {},
   "outputs": [],
   "source": [
    "m[\"Percent of parent amount\"].formatter = \"DOUBLE[0.00%]\"\n",
    "m[\"Margin rate\"].formatter = \"DOUBLE[0.00%]\""
   ]
  },
  {
   "cell_type": "markdown",
   "metadata": {},
   "source": [
    "#### After"
   ]
  },
  {
   "cell_type": "code",
   "execution_count": 57,
   "metadata": {},
   "outputs": [
    {
     "data": {
      "application/vnd.atoti.convert-mdx-query-result-to-widget.v0+json": {
       "mdx": "SELECT {[Measures].[Percent of parent amount], [Measures].[Margin rate]} ON COLUMNS, NON EMPTY Hierarchize(Descendants({[Products].[Product].[ALL].[AllMember]}, 1, SELF_AND_BEFORE)) ON ROWS FROM [Sales]",
       "sessionId": "1722814558_W35D5Y",
       "widgetCreationCode": "session.widget"
      },
      "text/html": [
       "<div>\n",
       "<style scoped>\n",
       "    .dataframe tbody tr th:only-of-type {\n",
       "        vertical-align: middle;\n",
       "    }\n",
       "\n",
       "    .dataframe tbody tr th {\n",
       "        vertical-align: top;\n",
       "    }\n",
       "\n",
       "    .dataframe thead th {\n",
       "        text-align: right;\n",
       "    }\n",
       "</style>\n",
       "<table border=\"1\" class=\"dataframe\">\n",
       "  <thead>\n",
       "    <tr style=\"text-align: right;\">\n",
       "      <th></th>\n",
       "      <th>Percent of parent amount</th>\n",
       "      <th>Margin rate</th>\n",
       "    </tr>\n",
       "    <tr>\n",
       "      <th>Category</th>\n",
       "      <th></th>\n",
       "      <th></th>\n",
       "    </tr>\n",
       "  </thead>\n",
       "  <tbody>\n",
       "    <tr>\n",
       "      <th>Cloth</th>\n",
       "      <td>23.64%</td>\n",
       "      <td>22.56%</td>\n",
       "    </tr>\n",
       "    <tr>\n",
       "      <th>Furniture</th>\n",
       "      <td>76.36%</td>\n",
       "      <td>13.49%</td>\n",
       "    </tr>\n",
       "  </tbody>\n",
       "</table>\n",
       "</div>"
      ],
      "text/plain": [
       "          Percent of parent amount Margin rate\n",
       "Category                                      \n",
       "Cloth                       23.64%      22.56%\n",
       "Furniture                   76.36%      13.49%"
      ]
     },
     "execution_count": 57,
     "metadata": {},
     "output_type": "execute_result"
    }
   ],
   "source": [
    "cube.query(m[\"Percent of parent amount\"], m[\"Margin rate\"], levels=[l[\"Category\"]])"
   ]
  },
  {
   "cell_type": "markdown",
   "metadata": {},
   "source": [
    "## Simulations\n",
    "\n",
    "Simulations are a way to compare several scenarios and do what-if analysis.\n",
    "This helps understanding how changing the source data or a piece of the model impact the key indicators.\n",
    "\n",
    "In Atoti, the data model is made of measures chained together.\n",
    "A simulation can be seen as changing one part of the model, either its source data or one of its measure definitions, and then evaluating how it impacts the following measures.\n",
    "\n",
    "### Source simulation\n",
    "\n",
    "Let's start by changing the source.\n",
    "With pandas or Spark, if you want to compare two results for a different versions of the entry dataset you have to reapply all the transformations to your dataset.\n",
    "With Atoti, you only have to provide the new data and all the measures will be automatically available for both versions of the data.\n",
    "\n",
    "We will create a new scenario using pandas to modify the original dataset."
   ]
  },
  {
   "cell_type": "code",
   "execution_count": 58,
   "metadata": {},
   "outputs": [],
   "source": [
    "import pandas as pd"
   ]
  },
  {
   "cell_type": "markdown",
   "metadata": {},
   "source": [
    "For instance, we can simulate what would happen if we had managed to purchase some products at a cheaper price."
   ]
  },
  {
   "cell_type": "code",
   "execution_count": 59,
   "metadata": {
    "_atoti_test": {
     "snapshot_ignore": true
    }
   },
   "outputs": [
    {
     "data": {
      "text/html": [
       "<div>\n",
       "<style scoped>\n",
       "    .dataframe tbody tr th:only-of-type {\n",
       "        vertical-align: middle;\n",
       "    }\n",
       "\n",
       "    .dataframe tbody tr th {\n",
       "        vertical-align: top;\n",
       "    }\n",
       "\n",
       "    .dataframe thead th {\n",
       "        text-align: right;\n",
       "    }\n",
       "</style>\n",
       "<table border=\"1\" class=\"dataframe\">\n",
       "  <thead>\n",
       "    <tr style=\"text-align: right;\">\n",
       "      <th></th>\n",
       "      <th>Product</th>\n",
       "      <th>Category</th>\n",
       "      <th>Sub category</th>\n",
       "      <th>Size</th>\n",
       "      <th>Purchase price</th>\n",
       "      <th>Color</th>\n",
       "      <th>Brand</th>\n",
       "    </tr>\n",
       "  </thead>\n",
       "  <tbody>\n",
       "    <tr>\n",
       "      <th>0</th>\n",
       "      <td>TAB_0</td>\n",
       "      <td>Furniture</td>\n",
       "      <td>Table</td>\n",
       "      <td>1m80</td>\n",
       "      <td>190.0</td>\n",
       "      <td>black</td>\n",
       "      <td>Basic</td>\n",
       "    </tr>\n",
       "    <tr>\n",
       "      <th>1</th>\n",
       "      <td>TAB_1</td>\n",
       "      <td>Furniture</td>\n",
       "      <td>Table</td>\n",
       "      <td>2m40</td>\n",
       "      <td>280.0</td>\n",
       "      <td>white</td>\n",
       "      <td>Mega</td>\n",
       "    </tr>\n",
       "    <tr>\n",
       "      <th>2</th>\n",
       "      <td>CHA_2</td>\n",
       "      <td>Furniture</td>\n",
       "      <td>Chair</td>\n",
       "      <td>NaN</td>\n",
       "      <td>48.0</td>\n",
       "      <td>blue</td>\n",
       "      <td>Basic</td>\n",
       "    </tr>\n",
       "    <tr>\n",
       "      <th>3</th>\n",
       "      <td>BED_3</td>\n",
       "      <td>Furniture</td>\n",
       "      <td>Bed</td>\n",
       "      <td>Single</td>\n",
       "      <td>127.0</td>\n",
       "      <td>red</td>\n",
       "      <td>Mega</td>\n",
       "    </tr>\n",
       "    <tr>\n",
       "      <th>4</th>\n",
       "      <td>BED_4</td>\n",
       "      <td>Furniture</td>\n",
       "      <td>Bed</td>\n",
       "      <td>Double</td>\n",
       "      <td>252.0</td>\n",
       "      <td>brown</td>\n",
       "      <td>Basic</td>\n",
       "    </tr>\n",
       "  </tbody>\n",
       "</table>\n",
       "</div>"
      ],
      "text/plain": [
       "  Product   Category Sub category    Size  Purchase price  Color  Brand\n",
       "0   TAB_0  Furniture        Table    1m80           190.0  black  Basic\n",
       "1   TAB_1  Furniture        Table    2m40           280.0  white   Mega\n",
       "2   CHA_2  Furniture        Chair     NaN            48.0   blue  Basic\n",
       "3   BED_3  Furniture          Bed  Single           127.0    red   Mega\n",
       "4   BED_4  Furniture          Bed  Double           252.0  brown  Basic"
      ]
     },
     "execution_count": 59,
     "metadata": {},
     "output_type": "execute_result"
    }
   ],
   "source": [
    "products_df = pd.read_csv(\"data/products.csv\")\n",
    "products_df.head()"
   ]
  },
  {
   "cell_type": "code",
   "execution_count": 60,
   "metadata": {},
   "outputs": [],
   "source": [
    "better_prices = {\n",
    "    \"TAB_0\": 180.0,\n",
    "    \"TAB_1\": 250.0,\n",
    "    \"CHA_2\": 40.0,\n",
    "    \"BED_3\": 110.0,\n",
    "    \"BED_4\": 210.0,\n",
    "}"
   ]
  },
  {
   "cell_type": "code",
   "execution_count": 61,
   "metadata": {
    "_atoti_test": {
     "snapshot_ignore": true
    }
   },
   "outputs": [
    {
     "data": {
      "text/html": [
       "<div>\n",
       "<style scoped>\n",
       "    .dataframe tbody tr th:only-of-type {\n",
       "        vertical-align: middle;\n",
       "    }\n",
       "\n",
       "    .dataframe tbody tr th {\n",
       "        vertical-align: top;\n",
       "    }\n",
       "\n",
       "    .dataframe thead th {\n",
       "        text-align: right;\n",
       "    }\n",
       "</style>\n",
       "<table border=\"1\" class=\"dataframe\">\n",
       "  <thead>\n",
       "    <tr style=\"text-align: right;\">\n",
       "      <th></th>\n",
       "      <th>Product</th>\n",
       "      <th>Category</th>\n",
       "      <th>Sub category</th>\n",
       "      <th>Size</th>\n",
       "      <th>Purchase price</th>\n",
       "      <th>Color</th>\n",
       "      <th>Brand</th>\n",
       "    </tr>\n",
       "  </thead>\n",
       "  <tbody>\n",
       "    <tr>\n",
       "      <th>0</th>\n",
       "      <td>TAB_0</td>\n",
       "      <td>Furniture</td>\n",
       "      <td>Table</td>\n",
       "      <td>1m80</td>\n",
       "      <td>180.0</td>\n",
       "      <td>black</td>\n",
       "      <td>Basic</td>\n",
       "    </tr>\n",
       "    <tr>\n",
       "      <th>1</th>\n",
       "      <td>TAB_1</td>\n",
       "      <td>Furniture</td>\n",
       "      <td>Table</td>\n",
       "      <td>2m40</td>\n",
       "      <td>250.0</td>\n",
       "      <td>white</td>\n",
       "      <td>Mega</td>\n",
       "    </tr>\n",
       "    <tr>\n",
       "      <th>2</th>\n",
       "      <td>CHA_2</td>\n",
       "      <td>Furniture</td>\n",
       "      <td>Chair</td>\n",
       "      <td>NaN</td>\n",
       "      <td>40.0</td>\n",
       "      <td>blue</td>\n",
       "      <td>Basic</td>\n",
       "    </tr>\n",
       "    <tr>\n",
       "      <th>3</th>\n",
       "      <td>BED_3</td>\n",
       "      <td>Furniture</td>\n",
       "      <td>Bed</td>\n",
       "      <td>Single</td>\n",
       "      <td>110.0</td>\n",
       "      <td>red</td>\n",
       "      <td>Mega</td>\n",
       "    </tr>\n",
       "    <tr>\n",
       "      <th>4</th>\n",
       "      <td>BED_4</td>\n",
       "      <td>Furniture</td>\n",
       "      <td>Bed</td>\n",
       "      <td>Double</td>\n",
       "      <td>210.0</td>\n",
       "      <td>brown</td>\n",
       "      <td>Basic</td>\n",
       "    </tr>\n",
       "  </tbody>\n",
       "</table>\n",
       "</div>"
      ],
      "text/plain": [
       "  Product   Category Sub category    Size  Purchase price  Color  Brand\n",
       "0   TAB_0  Furniture        Table    1m80           180.0  black  Basic\n",
       "1   TAB_1  Furniture        Table    2m40           250.0  white   Mega\n",
       "2   CHA_2  Furniture        Chair     NaN            40.0   blue  Basic\n",
       "3   BED_3  Furniture          Bed  Single           110.0    red   Mega\n",
       "4   BED_4  Furniture          Bed  Double           210.0  brown  Basic"
      ]
     },
     "execution_count": 61,
     "metadata": {},
     "output_type": "execute_result"
    }
   ],
   "source": [
    "for product, purchase_price in better_prices.items():\n",
    "    products_df.loc[products_df[\"Product\"] == product, \"Purchase price\"] = (\n",
    "        purchase_price\n",
    "    )\n",
    "products_df.head()"
   ]
  },
  {
   "cell_type": "markdown",
   "metadata": {},
   "source": [
    "We can now load this new dataframe into a new scenarios of the products table."
   ]
  },
  {
   "cell_type": "code",
   "execution_count": null,
   "metadata": {},
   "outputs": [],
   "source": [
    "products_table.scenarios[\"Cheaper purchase prices\"].load(products_df)"
   ]
  },
  {
   "cell_type": "markdown",
   "metadata": {},
   "source": [
    "The session now has two scenarios and the only differences between them are the lines corresponding to the products with better prices, everything else is shared between the scenarios and has not been duplicated: source scenarios in Atoti are memory-efficient.\n",
    "\n",
    "<img alt=\"Source simulation\" src=\"images/source-simulation.svg\" width=\"750\" />\n",
    "\n",
    "Using the **Source Simulation** hierarchy we can display the margin of the scenario and compare it to the base case.\n",
    "\n",
    "![Source simulation comparison](images/source-simulation.gif)"
   ]
  },
  {
   "cell_type": "code",
   "execution_count": 63,
   "metadata": {},
   "outputs": [
    {
     "data": {
      "application/vnd.atoti.widget.v0+json": {
       "sessionId": "1722814558_W35D5Y",
       "sessionLocation": {
        "https": false,
        "port": 52301
       },
       "widgetCreationCode": "session.widget"
      },
      "text/plain": [
       "Open the notebook in JupyterLab with the Atoti JupyterLab extension enabled to build this widget."
      ]
     },
     "metadata": {},
     "output_type": "display_data"
    }
   ],
   "source": [
    "session.widget"
   ]
  },
  {
   "cell_type": "markdown",
   "metadata": {},
   "source": [
    "Note that all the existing measures are immediately available on the new data.\n",
    "For instance, the margin rate still exists, and we can see that in this scenario we would have a better margin for the Furniture products.\n",
    "\n",
    "![Margin rate per product category and scenario](images/margin-rate-per-scenario.gif)"
   ]
  },
  {
   "cell_type": "code",
   "execution_count": 64,
   "metadata": {},
   "outputs": [
    {
     "data": {
      "application/vnd.atoti.widget.v0+json": {
       "sessionId": "1722814558_W35D5Y",
       "sessionLocation": {
        "https": false,
        "port": 52301
       },
       "widgetCreationCode": "session.widget"
      },
      "text/plain": [
       "Open the notebook in JupyterLab with the Atoti JupyterLab extension enabled to build this widget."
      ]
     },
     "metadata": {},
     "output_type": "display_data"
    }
   ],
   "source": [
    "session.widget"
   ]
  },
  {
   "cell_type": "markdown",
   "metadata": {},
   "source": [
    "### Parameter simulations\n",
    "\n",
    "The other simulation technique is to create a parameter measure whose value can be changed for some coordinates.\n",
    "\n",
    "When creating the simulation, you can choose at which granularity the modification applies.\n",
    "For instance we can create a parameter measure whose value will change depending on the country.\n",
    "Doing that, we can answer questions such as \"What happens if there is a crisis in France and we sell 20% less?\""
   ]
  },
  {
   "cell_type": "code",
   "execution_count": 65,
   "metadata": {},
   "outputs": [],
   "source": [
    "country_simulation = cube.create_parameter_simulation(\n",
    "    \"Country Simulation\",\n",
    "    levels=[l[\"Country\"]],\n",
    "    measures={\"Country parameter\": 1.0},\n",
    ")"
   ]
  },
  {
   "cell_type": "markdown",
   "metadata": {},
   "source": [
    "This has created a measure named **Country parameter** and added it to the cube. For now, its value is `1` everywhere, but using the `country_simulation` we can change that.\n",
    "\n",
    "By adding values in the table you can change the value of the parameter measure depending on the levels used in the simulation and the scenario."
   ]
  },
  {
   "cell_type": "code",
   "execution_count": 66,
   "metadata": {},
   "outputs": [
    {
     "data": {
      "text/html": [
       "<div>\n",
       "<style scoped>\n",
       "    .dataframe tbody tr th:only-of-type {\n",
       "        vertical-align: middle;\n",
       "    }\n",
       "\n",
       "    .dataframe tbody tr th {\n",
       "        vertical-align: top;\n",
       "    }\n",
       "\n",
       "    .dataframe thead th {\n",
       "        text-align: right;\n",
       "    }\n",
       "</style>\n",
       "<table border=\"1\" class=\"dataframe\">\n",
       "  <thead>\n",
       "    <tr style=\"text-align: right;\">\n",
       "      <th></th>\n",
       "      <th></th>\n",
       "      <th>Country parameter</th>\n",
       "    </tr>\n",
       "    <tr>\n",
       "      <th>Scenario</th>\n",
       "      <th>Country</th>\n",
       "      <th></th>\n",
       "    </tr>\n",
       "  </thead>\n",
       "  <tbody>\n",
       "    <tr>\n",
       "      <th>France Crisis</th>\n",
       "      <th>France</th>\n",
       "      <td>0.8</td>\n",
       "    </tr>\n",
       "  </tbody>\n",
       "</table>\n",
       "</div>"
      ],
      "text/plain": [
       "                       Country parameter\n",
       "Scenario      Country                   \n",
       "France Crisis France                 0.8"
      ]
     },
     "execution_count": 66,
     "metadata": {},
     "output_type": "execute_result"
    }
   ],
   "source": [
    "country_simulation += (\"France Crisis\", \"France\", 0.80)\n",
    "country_simulation.head()"
   ]
  },
  {
   "cell_type": "markdown",
   "metadata": {},
   "source": [
    "Let's replace the existing **Quantity.SUM** and **Amount.SUM** measures with new ones using the parameter measure from the simulation."
   ]
  },
  {
   "cell_type": "code",
   "execution_count": 67,
   "metadata": {},
   "outputs": [],
   "source": [
    "m[\"Quantity.SUM\"] = tt.agg.sum(\n",
    "    tt.agg.sum(sales_table[\"Quantity\"]) * m[\"Country parameter\"],\n",
    "    scope=tt.OriginScope({l[\"Country\"]}),\n",
    ")\n",
    "m[\"Amount.SUM\"] = tt.agg.sum(\n",
    "    tt.agg.sum(sales_table[\"Unit price\"] * sales_table[\"Quantity\"])\n",
    "    * m[\"Country parameter\"],\n",
    "    scope=tt.OriginScope({l[\"Country\"]}),\n",
    ")"
   ]
  },
  {
   "cell_type": "markdown",
   "metadata": {},
   "source": [
    "We can query the cube using the new **Country Simulation** level to compare the quantity and amount between the base case and our new scenario:"
   ]
  },
  {
   "cell_type": "code",
   "execution_count": 68,
   "metadata": {},
   "outputs": [
    {
     "data": {
      "application/vnd.atoti.convert-mdx-query-result-to-widget.v0+json": {
       "mdx": "SELECT {[Measures].[Quantity.SUM], [Measures].[Amount.SUM]} ON COLUMNS, NON EMPTY Crossjoin([Country Simulation].[Country Simulation].[Country Simulation].Members, Hierarchize(Descendants({[Location].[Geography].[ALL].[AllMember]}, 1, SELF_AND_BEFORE))) ON ROWS FROM [Sales]",
       "sessionId": "1722814558_W35D5Y",
       "widgetCreationCode": "session.widget"
      },
      "text/html": [
       "<div>\n",
       "<style scoped>\n",
       "    .dataframe tbody tr th:only-of-type {\n",
       "        vertical-align: middle;\n",
       "    }\n",
       "\n",
       "    .dataframe tbody tr th {\n",
       "        vertical-align: top;\n",
       "    }\n",
       "\n",
       "    .dataframe thead th {\n",
       "        text-align: right;\n",
       "    }\n",
       "</style>\n",
       "<table border=\"1\" class=\"dataframe\">\n",
       "  <thead>\n",
       "    <tr style=\"text-align: right;\">\n",
       "      <th></th>\n",
       "      <th></th>\n",
       "      <th>Quantity.SUM</th>\n",
       "      <th>Amount.SUM</th>\n",
       "    </tr>\n",
       "    <tr>\n",
       "      <th>Country Simulation</th>\n",
       "      <th>Country</th>\n",
       "      <th></th>\n",
       "      <th></th>\n",
       "    </tr>\n",
       "  </thead>\n",
       "  <tbody>\n",
       "    <tr>\n",
       "      <th rowspan=\"3\" valign=\"top\">Base</th>\n",
       "      <th></th>\n",
       "      <td>8,077.00</td>\n",
       "      <td>961,463.00</td>\n",
       "    </tr>\n",
       "    <tr>\n",
       "      <th>France</th>\n",
       "      <td>3,027.00</td>\n",
       "      <td>358,042.00</td>\n",
       "    </tr>\n",
       "    <tr>\n",
       "      <th>USA</th>\n",
       "      <td>5,050.00</td>\n",
       "      <td>603,421.00</td>\n",
       "    </tr>\n",
       "    <tr>\n",
       "      <th rowspan=\"3\" valign=\"top\">France Crisis</th>\n",
       "      <th></th>\n",
       "      <td>7,471.60</td>\n",
       "      <td>889,854.60</td>\n",
       "    </tr>\n",
       "    <tr>\n",
       "      <th>France</th>\n",
       "      <td>2,421.60</td>\n",
       "      <td>286,433.60</td>\n",
       "    </tr>\n",
       "    <tr>\n",
       "      <th>USA</th>\n",
       "      <td>5,050.00</td>\n",
       "      <td>603,421.00</td>\n",
       "    </tr>\n",
       "  </tbody>\n",
       "</table>\n",
       "</div>"
      ],
      "text/plain": [
       "                           Quantity.SUM  Amount.SUM\n",
       "Country Simulation Country                         \n",
       "Base                           8,077.00  961,463.00\n",
       "                   France      3,027.00  358,042.00\n",
       "                   USA         5,050.00  603,421.00\n",
       "France Crisis                  7,471.60  889,854.60\n",
       "                   France      2,421.60  286,433.60\n",
       "                   USA         5,050.00  603,421.00"
      ]
     },
     "execution_count": 68,
     "metadata": {},
     "output_type": "execute_result"
    }
   ],
   "source": [
    "cube.query(\n",
    "    m[\"Quantity.SUM\"],\n",
    "    m[\"Amount.SUM\"],\n",
    "    include_totals=True,\n",
    "    levels=[l[\"Country Simulation\"], l[\"Country\"]],\n",
    ")"
   ]
  },
  {
   "cell_type": "markdown",
   "metadata": {},
   "source": [
    "Here for example, as the amount has been modified, the measures depending on it such as the cumulative amount are also impacted:"
   ]
  },
  {
   "cell_type": "code",
   "execution_count": 69,
   "metadata": {},
   "outputs": [
    {
     "data": {
      "application/vnd.atoti.convert-mdx-query-result-to-widget.v0+json": {
       "mdx": "SELECT {[Measures].[Cumulative amount]} ON COLUMNS, NON EMPTY Crossjoin([Country Simulation].[Country Simulation].[Country Simulation].Members, Hierarchize(Descendants({[Location].[Geography].[ALL].[AllMember]}, 1, SELF_AND_BEFORE))) ON ROWS FROM [Sales]",
       "sessionId": "1722814558_W35D5Y",
       "widgetCreationCode": "session.widget"
      },
      "text/html": [
       "<div>\n",
       "<style scoped>\n",
       "    .dataframe tbody tr th:only-of-type {\n",
       "        vertical-align: middle;\n",
       "    }\n",
       "\n",
       "    .dataframe tbody tr th {\n",
       "        vertical-align: top;\n",
       "    }\n",
       "\n",
       "    .dataframe thead th {\n",
       "        text-align: right;\n",
       "    }\n",
       "</style>\n",
       "<table border=\"1\" class=\"dataframe\">\n",
       "  <thead>\n",
       "    <tr style=\"text-align: right;\">\n",
       "      <th></th>\n",
       "      <th></th>\n",
       "      <th>Cumulative amount</th>\n",
       "    </tr>\n",
       "    <tr>\n",
       "      <th>Country Simulation</th>\n",
       "      <th>Country</th>\n",
       "      <th></th>\n",
       "    </tr>\n",
       "  </thead>\n",
       "  <tbody>\n",
       "    <tr>\n",
       "      <th rowspan=\"2\" valign=\"top\">Base</th>\n",
       "      <th>France</th>\n",
       "      <td>358,042.00</td>\n",
       "    </tr>\n",
       "    <tr>\n",
       "      <th>USA</th>\n",
       "      <td>603,421.00</td>\n",
       "    </tr>\n",
       "    <tr>\n",
       "      <th rowspan=\"2\" valign=\"top\">France Crisis</th>\n",
       "      <th>France</th>\n",
       "      <td>286,433.60</td>\n",
       "    </tr>\n",
       "    <tr>\n",
       "      <th>USA</th>\n",
       "      <td>603,421.00</td>\n",
       "    </tr>\n",
       "  </tbody>\n",
       "</table>\n",
       "</div>"
      ],
      "text/plain": [
       "                           Cumulative amount\n",
       "Country Simulation Country                  \n",
       "Base               France         358,042.00\n",
       "                   USA            603,421.00\n",
       "France Crisis      France         286,433.60\n",
       "                   USA            603,421.00"
      ]
     },
     "execution_count": 69,
     "metadata": {},
     "output_type": "execute_result"
    }
   ],
   "source": [
    "cube.query(m[\"Cumulative amount\"], levels=[l[\"Country Simulation\"], l[\"Country\"]])"
   ]
  },
  {
   "cell_type": "markdown",
   "metadata": {},
   "source": [
    "Let's try adding a different scenario:"
   ]
  },
  {
   "cell_type": "code",
   "execution_count": 70,
   "metadata": {},
   "outputs": [],
   "source": [
    "country_simulation += (\"US boost\", \"USA\", 1.15)"
   ]
  },
  {
   "cell_type": "code",
   "execution_count": 71,
   "metadata": {},
   "outputs": [
    {
     "data": {
      "application/vnd.atoti.convert-mdx-query-result-to-widget.v0+json": {
       "mdx": "SELECT {[Measures].[Quantity.SUM]} ON COLUMNS, NON EMPTY Crossjoin([Country Simulation].[Country Simulation].[Country Simulation].Members, Hierarchize(Descendants({[Location].[Geography].[ALL].[AllMember]}, 1, SELF_AND_BEFORE))) ON ROWS FROM [Sales]",
       "sessionId": "1722814558_W35D5Y",
       "widgetCreationCode": "session.widget"
      },
      "text/html": [
       "<div>\n",
       "<style scoped>\n",
       "    .dataframe tbody tr th:only-of-type {\n",
       "        vertical-align: middle;\n",
       "    }\n",
       "\n",
       "    .dataframe tbody tr th {\n",
       "        vertical-align: top;\n",
       "    }\n",
       "\n",
       "    .dataframe thead th {\n",
       "        text-align: right;\n",
       "    }\n",
       "</style>\n",
       "<table border=\"1\" class=\"dataframe\">\n",
       "  <thead>\n",
       "    <tr style=\"text-align: right;\">\n",
       "      <th></th>\n",
       "      <th></th>\n",
       "      <th>Quantity.SUM</th>\n",
       "    </tr>\n",
       "    <tr>\n",
       "      <th>Country Simulation</th>\n",
       "      <th>Country</th>\n",
       "      <th></th>\n",
       "    </tr>\n",
       "  </thead>\n",
       "  <tbody>\n",
       "    <tr>\n",
       "      <th rowspan=\"2\" valign=\"top\">Base</th>\n",
       "      <th>France</th>\n",
       "      <td>3,027.00</td>\n",
       "    </tr>\n",
       "    <tr>\n",
       "      <th>USA</th>\n",
       "      <td>5,050.00</td>\n",
       "    </tr>\n",
       "    <tr>\n",
       "      <th rowspan=\"2\" valign=\"top\">France Crisis</th>\n",
       "      <th>France</th>\n",
       "      <td>2,421.60</td>\n",
       "    </tr>\n",
       "    <tr>\n",
       "      <th>USA</th>\n",
       "      <td>5,050.00</td>\n",
       "    </tr>\n",
       "    <tr>\n",
       "      <th rowspan=\"2\" valign=\"top\">US boost</th>\n",
       "      <th>France</th>\n",
       "      <td>3,027.00</td>\n",
       "    </tr>\n",
       "    <tr>\n",
       "      <th>USA</th>\n",
       "      <td>5,807.50</td>\n",
       "    </tr>\n",
       "  </tbody>\n",
       "</table>\n",
       "</div>"
      ],
      "text/plain": [
       "                           Quantity.SUM\n",
       "Country Simulation Country             \n",
       "Base               France      3,027.00\n",
       "                   USA         5,050.00\n",
       "France Crisis      France      2,421.60\n",
       "                   USA         5,050.00\n",
       "US boost           France      3,027.00\n",
       "                   USA         5,807.50"
      ]
     },
     "execution_count": 71,
     "metadata": {},
     "output_type": "execute_result"
    }
   ],
   "source": [
    "cube.query(m[\"Quantity.SUM\"], levels=[l[\"Country Simulation\"], l[\"Country\"]])"
   ]
  },
  {
   "cell_type": "markdown",
   "metadata": {},
   "source": [
    "The two scenarios can be visualized in the same widget:\n",
    "\n",
    "![Cumulative amount per scenario](images/cumulative-amount-per-scenario.gif)"
   ]
  },
  {
   "cell_type": "code",
   "execution_count": 72,
   "metadata": {},
   "outputs": [
    {
     "data": {
      "application/vnd.atoti.widget.v0+json": {
       "sessionId": "1722814558_W35D5Y",
       "sessionLocation": {
        "https": false,
        "port": 52301
       },
       "widgetCreationCode": "session.widget"
      },
      "text/plain": [
       "Open the notebook in JupyterLab with the Atoti JupyterLab extension enabled to build this widget."
      ]
     },
     "metadata": {},
     "output_type": "display_data"
    }
   ],
   "source": [
    "session.widget"
   ]
  },
  {
   "cell_type": "markdown",
   "metadata": {},
   "source": [
    "Finally, we can even combine the different simulations (the source one and the measure one) to create a matrix of scenarios:\n",
    "\n",
    "![Matrix of scenarios](images/scenarios-matrix.gif)"
   ]
  },
  {
   "cell_type": "code",
   "execution_count": 73,
   "metadata": {},
   "outputs": [
    {
     "data": {
      "application/vnd.atoti.widget.v0+json": {
       "sessionId": "1722814558_W35D5Y",
       "sessionLocation": {
        "https": false,
        "port": 52301
       },
       "widgetCreationCode": "session.widget"
      },
      "text/plain": [
       "Open the notebook in JupyterLab with the Atoti JupyterLab extension enabled to build this widget."
      ]
     },
     "metadata": {},
     "output_type": "display_data"
    }
   ],
   "source": [
    "session.widget"
   ]
  },
  {
   "cell_type": "markdown",
   "metadata": {},
   "source": [
    "## Going further\n",
    "\n",
    "You've learned all the basics to build a project with Atoti, from the concept of multidimensional analysis to powerful simulations.\n",
    "\n",
    "We now encourage you to try the library with your own data.\n",
    "You can also start to learn more advanced features such as [session config](../../api/atoti.config.session_config.rst), [custom endpoints](../../api/atoti.Session.endpoint.rst), and [arrays](../../api/atoti.array.rst)."
   ]
  }
 ],
 "metadata": {
  "language_info": {
   "name": "python"
  },
  "orig_nbformat": 4
 },
 "nbformat": 4,
 "nbformat_minor": 4
}
