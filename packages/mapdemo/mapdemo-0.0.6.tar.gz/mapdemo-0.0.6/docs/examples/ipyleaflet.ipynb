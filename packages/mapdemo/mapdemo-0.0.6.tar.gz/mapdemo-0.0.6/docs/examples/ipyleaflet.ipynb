{
 "cells": [
  {
   "cell_type": "code",
   "execution_count": 1,
   "id": "203a099c",
   "metadata": {},
   "outputs": [],
   "source": [
    "import mapdemo"
   ]
  },
  {
   "cell_type": "code",
   "execution_count": 7,
   "id": "07abae85",
   "metadata": {},
   "outputs": [],
   "source": [
    "from ipyleaflet import basemaps"
   ]
  },
  {
   "cell_type": "code",
   "execution_count": 9,
   "id": "469992e7",
   "metadata": {},
   "outputs": [],
   "source": [
    "url =eval(\"basemaps.OpenTopoMap\").build_url()"
   ]
  },
  {
   "cell_type": "code",
   "execution_count": null,
   "id": "fcc6c5ea",
   "metadata": {},
   "outputs": [],
   "source": [
    "m = mapdemo.Map()\n",
    "m.add_basemap(\"NASAGIBS.ViirsEarthAtNight2012\")\n",
    "m"
   ]
  }
 ],
 "metadata": {
  "kernelspec": {
   "display_name": "geo",
   "language": "python",
   "name": "python3"
  },
  "language_info": {
   "codemirror_mode": {
    "name": "ipython",
    "version": 3
   },
   "file_extension": ".py",
   "mimetype": "text/x-python",
   "name": "python",
   "nbconvert_exporter": "python",
   "pygments_lexer": "ipython3",
   "version": "3.11.13"
  }
 },
 "nbformat": 4,
 "nbformat_minor": 5
}
