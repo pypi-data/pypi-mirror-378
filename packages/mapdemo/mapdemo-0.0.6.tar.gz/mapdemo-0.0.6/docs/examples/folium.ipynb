{
 "cells": [
  {
   "cell_type": "code",
   "execution_count": null,
   "id": "a74740c3",
   "metadata": {},
   "outputs": [],
   "source": [
    "import folium\n",
    "\n",
    "m=folium.Map(location=(45.5236, -122.6750), zoom_start=5)"
   ]
  },
  {
   "cell_type": "code",
   "execution_count": null,
   "id": "5c7c1145",
   "metadata": {},
   "outputs": [],
   "source": [
    "m"
   ]
  },
  {
   "cell_type": "code",
   "execution_count": null,
   "id": "34c43bfa",
   "metadata": {},
   "outputs": [],
   "source": [
    "import mapdemo.foliummap as mapdem"
   ]
  },
  {
   "cell_type": "code",
   "execution_count": null,
   "id": "7890fe07",
   "metadata": {},
   "outputs": [],
   "source": [
    "m=mapdem.Map(center=[40,-100],zoom= 4)\n",
    "m"
   ]
  },
  {
   "cell_type": "code",
   "execution_count": null,
   "id": "0693cd52",
   "metadata": {},
   "outputs": [],
   "source": [
    "from localtileserver import TileClient, get_leaflet_tile_layer, get_folium_tile_layer, examples\n",
    "from folium import Map"
   ]
  },
  {
   "cell_type": "code",
   "execution_count": null,
   "id": "5b8ddf4a",
   "metadata": {},
   "outputs": [],
   "source": [
    "client= examples.get_san_francisco()\n",
    "\n",
    "t=get_folium_tile_layer(client)\n",
    "\n",
    "m = Map(location=client.center(), zoom_start=client.default_zoom)\n",
    "t.add_to(m)\n",
    "m"
   ]
  },
  {
   "cell_type": "code",
   "execution_count": null,
   "id": "de4fdee8",
   "metadata": {},
   "outputs": [],
   "source": [
    "import mapdemo.foliummap as mapdem"
   ]
  },
  {
   "cell_type": "code",
   "execution_count": null,
   "id": "68624729",
   "metadata": {},
   "outputs": [],
   "source": [
    "m = mapdem.Map(center=[40,-100],zoom= 4)\n",
    "url=\"https://github.com/opengeos/datasets/releases/download/raster/srtm90.tif\"\n",
    "m.add_raster(url, colormap=\"terrain\", name=\"srtm\")\n",
    "m\n"
   ]
  },
  {
   "cell_type": "code",
   "execution_count": null,
   "id": "639b82df",
   "metadata": {},
   "outputs": [],
   "source": [
    "m =mapdem.Map()\n",
    "m.add_basemap(\"OpenTopoMap\")"
   ]
  },
  {
   "cell_type": "code",
   "execution_count": null,
   "id": "88c47632",
   "metadata": {},
   "outputs": [],
   "source": [
    "m"
   ]
  }
 ],
 "metadata": {
  "kernelspec": {
   "display_name": "geo",
   "language": "python",
   "name": "python3"
  },
  "language_info": {
   "codemirror_mode": {
    "name": "ipython",
    "version": 3
   },
   "file_extension": ".py",
   "mimetype": "text/x-python",
   "name": "python",
   "nbconvert_exporter": "python",
   "pygments_lexer": "ipython3",
   "version": "3.11.13"
  }
 },
 "nbformat": 4,
 "nbformat_minor": 5
}
