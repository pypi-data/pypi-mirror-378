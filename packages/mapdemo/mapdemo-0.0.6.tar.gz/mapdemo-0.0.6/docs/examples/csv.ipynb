{
 "cells": [
  {
   "cell_type": "code",
   "execution_count": null,
   "id": "6ca48997",
   "metadata": {},
   "outputs": [],
   "source": [
    "import mapdemo"
   ]
  },
  {
   "cell_type": "code",
   "execution_count": null,
   "id": "f05d85be",
   "metadata": {},
   "outputs": [],
   "source": [
    "from mapdemo import utils"
   ]
  },
  {
   "cell_type": "code",
   "execution_count": null,
   "id": "7dc39e77",
   "metadata": {},
   "outputs": [],
   "source": [
    "csv=\"https://github.com/opengeos/datasets/releases/download/us/us_states.csv \"\n",
    "df=utils.csv_to_df(csv)\n",
    "df"
   ]
  }
 ],
 "metadata": {
  "kernelspec": {
   "display_name": "geo",
   "language": "python",
   "name": "python3"
  },
  "language_info": {
   "codemirror_mode": {
    "name": "ipython",
    "version": 3
   },
   "file_extension": ".py",
   "mimetype": "text/x-python",
   "name": "python",
   "nbconvert_exporter": "python",
   "pygments_lexer": "ipython3",
   "version": "3.11.13"
  }
 },
 "nbformat": 4,
 "nbformat_minor": 5
}
