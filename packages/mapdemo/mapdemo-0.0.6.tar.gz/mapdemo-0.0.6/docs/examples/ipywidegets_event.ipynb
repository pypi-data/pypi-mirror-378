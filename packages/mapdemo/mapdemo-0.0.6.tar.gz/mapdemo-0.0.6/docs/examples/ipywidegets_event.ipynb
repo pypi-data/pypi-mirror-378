{
 "cells": [
  {
   "cell_type": "code",
   "execution_count": null,
   "id": "5f19e3ad",
   "metadata": {},
   "outputs": [],
   "source": [
    "import ipywidgets as widgets"
   ]
  },
  {
   "cell_type": "code",
   "execution_count": null,
   "id": "263e66d5",
   "metadata": {},
   "outputs": [],
   "source": [
    "inst_slider=widgets.IntSlider(\n",
    "    value=2000, min=1984, max=2025, step=1, description=\"year:\"\n",
    ")\n",
    "inst_slider"
   ]
  },
  {
   "cell_type": "code",
   "execution_count": null,
   "id": "260eee1b",
   "metadata": {},
   "outputs": [],
   "source": [
    "inst_slider.value"
   ]
  },
  {
   "cell_type": "code",
   "execution_count": null,
   "id": "89ecd3e4",
   "metadata": {},
   "outputs": [],
   "source": [
    "float_slider=widgets.FloatSlider(\n",
    "    value=0, min=0, max=1, step=0.1, description=\"Opacity:\"\n",
    ")\n",
    "float_slider"
   ]
  },
  {
   "cell_type": "code",
   "execution_count": null,
   "id": "9298595b",
   "metadata": {},
   "outputs": [],
   "source": [
    "float_slider.value"
   ]
  },
  {
   "cell_type": "code",
   "execution_count": null,
   "id": "91aa9cd8",
   "metadata": {},
   "outputs": [],
   "source": [
    "output=widgets.Output()\n",
    "output"
   ]
  },
  {
   "cell_type": "code",
   "execution_count": null,
   "id": "c85835ca",
   "metadata": {},
   "outputs": [],
   "source": [
    "int_range =widgets.IntSlider()\n",
    "\n",
    "def on_value_change(change):\n",
    "    with output:\n",
    "        output.clear_output()\n",
    "        print(f\"old value: {change['old']}\")\n",
    "        print(f\"new value: {change['new']}\")\n",
    "\n",
    "int_range.observe(on_value_change, names='value')\n",
    "int_range"
   ]
  },
  {
   "cell_type": "code",
   "execution_count": null,
   "id": "e07bd7ad",
   "metadata": {},
   "outputs": [],
   "source": [
    "import mapdemo\n",
    "m=mapdemo.Map()\n",
    "m"
   ]
  },
  {
   "cell_type": "code",
   "execution_count": null,
   "id": "ae94fe9c",
   "metadata": {},
   "outputs": [],
   "source": [
    "int_range =widgets.FloatSlider(value=1, min=0, max=1, stsp=0.1,description=\"Opacity\")\n",
    "\n",
    "def on_value_change(change):\n",
    "   m.layers[-1].opacity=change['new']\n",
    "\n",
    "int_range.observe(on_value_change, names='value')\n",
    "int_range"
   ]
  },
  {
   "cell_type": "code",
   "execution_count": null,
   "id": "ed3bb1af",
   "metadata": {},
   "outputs": [],
   "source": [
    "m.add_widget(int_range)"
   ]
  },
  {
   "cell_type": "code",
   "execution_count": null,
   "id": "886608e5",
   "metadata": {},
   "outputs": [],
   "source": [
    "import mapdemo"
   ]
  },
  {
   "cell_type": "code",
   "execution_count": null,
   "id": "35cc858f",
   "metadata": {},
   "outputs": [],
   "source": [
    "m=mapdemo.Map()\n",
    "m.add_basemap('OpenTopoMap')\n",
    "m.add_opacity_slider()\n",
    "m"
   ]
  },
  {
   "cell_type": "code",
   "execution_count": null,
   "id": "20405210",
   "metadata": {},
   "outputs": [],
   "source": [
    "m.layers[-1].opacity=0.5"
   ]
  },
  {
   "cell_type": "code",
   "execution_count": null,
   "id": "bf60d263",
   "metadata": {},
   "outputs": [],
   "source": [
    "m.add_opacity_slider(layer_index=0)"
   ]
  },
  {
   "cell_type": "code",
   "execution_count": null,
   "id": "cd38e92f",
   "metadata": {},
   "outputs": [],
   "source": [
    "m=mapdemo.Map()\n",
    "m.add_basemap_gui()\n",
    "m"
   ]
  },
  {
   "cell_type": "code",
   "execution_count": null,
   "id": "7727cd87",
   "metadata": {},
   "outputs": [],
   "source": [
    "int_progress=widgets.IntProgress(\n",
    "    value=7,\n",
    "    min=0,\n",
    "    max=10,\n",
    "    step=1,\n",
    "    description=\"Loading:\",\n",
    "    bar_style=\"\",# \"success,\"info\",\"warning\",\"danger\"\n",
    "    orientation=\"horizontal\",\n",
    ")\n",
    "int_progress"
   ]
  },
  {
   "cell_type": "code",
   "execution_count": null,
   "id": "389827b5",
   "metadata": {},
   "outputs": [],
   "source": [
    "int_text=widgets.IntText(\n",
    "    value=7,\n",
    "    description=\"Any\",\n",
    ")\n",
    "int_text"
   ]
  },
  {
   "cell_type": "code",
   "execution_count": null,
   "id": "e56513b7",
   "metadata": {},
   "outputs": [],
   "source": [
    "float_text= widgets.FloatText(\n",
    "    value=7.5,\n",
    "    step=2.0,\n",
    "    description=\"any\",\n",
    ")\n",
    "float_text"
   ]
  },
  {
   "cell_type": "code",
   "execution_count": null,
   "id": "bf1184ae",
   "metadata": {},
   "outputs": [],
   "source": [
    "toggle_button=widgets.ToggleButton(\n",
    "    value=False,\n",
    "    description=\"click me\",\n",
    "    disable=False,\n",
    "    button_style=\"success\",\n",
    "    tooltip=\"Description\",\n",
    "    icon='check',\n",
    ")\n",
    "toggle_button"
   ]
  },
  {
   "cell_type": "code",
   "execution_count": null,
   "id": "1e4e0f8f",
   "metadata": {},
   "outputs": [],
   "source": [
    "checkbox=widgets.Checkbox(\n",
    "    value=False, description=\"check me\", disabled=False,indent=False\n",
    ")\n",
    "checkbox"
   ]
  },
  {
   "cell_type": "code",
   "execution_count": null,
   "id": "f5b2e3d0",
   "metadata": {},
   "outputs": [],
   "source": [
    "dropdown = widgets.Dropdown(\n",
    "   options= [\"USA\",\"Canada\",\"Mexico\"], value=\"Canada\", description=\"country:\",\n",
    ")\n",
    "dropdown"
   ]
  },
  {
   "cell_type": "code",
   "execution_count": null,
   "id": "fd8cf588",
   "metadata": {},
   "outputs": [],
   "source": [
    "radio_button = widgets.RadioButtons(\n",
    "    options=[\"USA\",\"Canada\", \"Mexico\"], value=\"Canada\", description=\"Country:\"\n",
    ")\n",
    "radio_button"
   ]
  },
  {
   "cell_type": "code",
   "execution_count": null,
   "id": "961a828f",
   "metadata": {},
   "outputs": [],
   "source": [
    "text=widgets.Text(\n",
    "    value=\"\",\n",
    "    placeholder=\"Enter acountry Name\",\n",
    "    description=\"Country:\",\n",
    "    disable=False,\n",
    ")\n",
    "text"
   ]
  },
  {
   "cell_type": "code",
   "execution_count": null,
   "id": "af228438",
   "metadata": {},
   "outputs": [],
   "source": [
    "text_arae=widgets.Textarea(\n",
    "    value=\"\",\n",
    "    placeholder=\"Enter acountry Name\",\n",
    "    description=\"String:\",\n",
    "    disable=False,\n",
    ")\n",
    "text_arae   "
   ]
  },
  {
   "cell_type": "code",
   "execution_count": null,
   "id": "f54b7b7a",
   "metadata": {},
   "outputs": [],
   "source": [
    "widgets.HTML(\n",
    "    value=\"Hello <b> world </b>\",\n",
    "    placeholder=\"some HTML\",\n",
    "    description=\"some HTML\",\n",
    ")"
   ]
  },
  {
   "cell_type": "code",
   "execution_count": null,
   "id": "83390c17",
   "metadata": {},
   "outputs": [],
   "source": [
    "widgets.HTML(\n",
    "    value=\"\"\n",
    ")# image"
   ]
  },
  {
   "cell_type": "code",
   "execution_count": null,
   "id": "e0f586ef",
   "metadata": {},
   "outputs": [],
   "source": [
    "button = widgets.Button(\n",
    "    description=\"click me\",\n",
    "    button_style=\"primary\",\n",
    "    tooltip=\"click me\",\n",
    "    icon=\"check\"\n",
    ")\n",
    "button"
   ]
  },
  {
   "cell_type": "code",
   "execution_count": null,
   "id": "38bc750b",
   "metadata": {},
   "outputs": [],
   "source": [
    "date_picker=widgets.DatePicker(description=\"pick a date\",disable=False)\n",
    "date_picker"
   ]
  },
  {
   "cell_type": "code",
   "execution_count": null,
   "id": "746ad7e0",
   "metadata": {},
   "outputs": [],
   "source": [
    "color=widgets.ColorPicker(\n",
    "    concise=False, description=\"pick a color\", value=\"blue\", disabled=False\n",
    ")\n",
    "color"
   ]
  },
  {
   "cell_type": "code",
   "execution_count": null,
   "id": "c8e3f167",
   "metadata": {},
   "outputs": [],
   "source": [
    "output =widgets.Output(layout={\"border\":\"1px solod black\"})\n",
    "output"
   ]
  },
  {
   "cell_type": "code",
   "execution_count": null,
   "id": "a8279a76",
   "metadata": {},
   "outputs": [],
   "source": [
    "with output:\n",
    "    output.clear_output()\n",
    "    for i in range(10):\n",
    "        print(i,'Hello world')\n",
    "\n",
    "        "
   ]
  },
  {
   "cell_type": "code",
   "execution_count": null,
   "id": "0d22d01e",
   "metadata": {},
   "outputs": [],
   "source": [
    "from ipyleaflet import WidgetControl\n",
    "import ipywidgets as widgets"
   ]
  },
  {
   "cell_type": "code",
   "execution_count": null,
   "id": "3e8d67d6",
   "metadata": {},
   "outputs": [],
   "source": [
    "import mapdemo"
   ]
  },
  {
   "cell_type": "code",
   "execution_count": null,
   "id": "fad3d78b",
   "metadata": {},
   "outputs": [],
   "source": [
    "m= mapdemo.Map()\n",
    "m"
   ]
  },
  {
   "cell_type": "code",
   "execution_count": null,
   "id": "de86b015",
   "metadata": {},
   "outputs": [],
   "source": [
    "output_widget=widgets.Output(layout={\"border\": \"1px solid black\"})\n",
    "output_control =WidgetControl(widget=output_widget,position=\"bottomright\")\n",
    "m.add_control(output_control)"
   ]
  },
  {
   "cell_type": "code",
   "execution_count": null,
   "id": "a47b94b7",
   "metadata": {},
   "outputs": [],
   "source": [
    "with output_widget:\n",
    "    print(\"Nice map\")"
   ]
  },
  {
   "cell_type": "code",
   "execution_count": null,
   "id": "0b7af984",
   "metadata": {},
   "outputs": [],
   "source": [
    "output_widget.clear_output()\n",
    "logo=widgets.HTML(\n",
    "    value='<img src=\"https://earthengine.google.com/static/images/earth_engine_icon.png\" width=\"100\" height=\"100\">'\n",
    ")\n",
    "with output_widget:\n",
    "    display(logo)"
   ]
  },
  {
   "cell_type": "code",
   "execution_count": null,
   "id": "d4423f51",
   "metadata": {},
   "outputs": [],
   "source": [
    "def handle_interaction(**kwargs):\n",
    "    latlon = kwargs.get('coordinates')\n",
    "    # latlon =[round(x,2) for x in latlon]\n",
    "    if kwargs.get('type')=='click':\n",
    "        with output_widget:\n",
    "            output_widget.clear_output()\n",
    "            print('you clicked at: {}'.format(latlon))\n",
    "\n",
    "m.on_interaction(handle_interaction)            "
   ]
  },
  {
   "cell_type": "code",
   "execution_count": null,
   "id": "90372102",
   "metadata": {},
   "outputs": [],
   "source": [
    "item=[widgets.Button(description=str(i+1)) for i in range(4)]\n",
    "widgets.VBox(item)"
   ]
  }
 ],
 "metadata": {
  "kernelspec": {
   "display_name": "geo",
   "language": "python",
   "name": "python3"
  },
  "language_info": {
   "codemirror_mode": {
    "name": "ipython",
    "version": 3
   },
   "file_extension": ".py",
   "mimetype": "text/x-python",
   "name": "python",
   "nbconvert_exporter": "python",
   "pygments_lexer": "ipython3",
   "version": "3.11.13"
  }
 },
 "nbformat": 4,
 "nbformat_minor": 5
}
