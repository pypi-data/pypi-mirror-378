{
 "cells": [
  {
   "cell_type": "code",
   "execution_count": null,
   "id": "9890bb44",
   "metadata": {},
   "outputs": [],
   "source": [
    "from ipyleaflet import Map, ImageOverlay\n",
    "\n",
    "m = Map(center=(25, -115), zoom=4)\n",
    "\n",
    "image = ImageOverlay(\n",
    "    url=\"https://i.imgur.com/06Q1fSz.png\",\n",
    "    # url='../06Q1fSz.png',\n",
    "    bounds=((13, -130), (32, -100))\n",
    ")\n",
    "\n",
    "m.add(image);\n",
    "m"
   ]
  },
  {
   "cell_type": "code",
   "execution_count": null,
   "id": "f9c5fc8e",
   "metadata": {},
   "outputs": [],
   "source": [
    "import mapdemo"
   ]
  },
  {
   "cell_type": "code",
   "execution_count": null,
   "id": "58c3cb26",
   "metadata": {},
   "outputs": [],
   "source": [
    "m=mapdemo.Map()\n",
    "url=\"https://i.imgur.com/06Q1fSz.png\"\n",
    "    # url='../06Q1fSz.png',\n",
    "bounds=((13, -130), (32, -100))\n",
    "m.add_image(url, bounds)\n",
    "m.add_layers_control()\n",
    "\n",
    "m"
   ]
  },
  {
   "cell_type": "code",
   "execution_count": null,
   "id": "ec7e4550",
   "metadata": {},
   "outputs": [],
   "source": [
    "from localtileserver import TileClient, get_leaflet_tile_layer, examples\n",
    "from ipyleaflet import Map\n"
   ]
  },
  {
   "cell_type": "code",
   "execution_count": null,
   "id": "798e1123",
   "metadata": {},
   "outputs": [],
   "source": [
    "\n",
    "# Create a TileClient from a raster file\n",
    "# client = TileClient('path/to/geo.tif')\n",
    "client = examples.get_san_francisco()  # use example data\n",
    "\n",
    "# Create ipyleaflet TileLayer from that server\n",
    "t = get_leaflet_tile_layer(client)\n",
    "# Create ipyleaflet map, add tile layer, and display\n",
    "m = Map(center=client.center(), zoom=client.default_zoom)\n",
    "m.add(t)\n",
    "m"
   ]
  },
  {
   "cell_type": "code",
   "execution_count": null,
   "id": "36411f7e",
   "metadata": {},
   "outputs": [],
   "source": [
    "\n",
    "# Create a TileClient from a raster file\n",
    "# client = TileClient('strm90.tif')\n",
    "client = TileClient('https://github.com/opengeos/datasets/releases/download/raster/srtm90.tif')\n",
    "# Create ipyleaflet TileLayer from that server\n",
    "t = get_leaflet_tile_layer(client, colormap='terrain')\n",
    "# Create ipyleaflet map, add tile layer, and display\n",
    "m=Map()\n",
    "m.add(t)\n",
    "m.center=client.center()\n",
    "m.zoom=client.default_zoom\n",
    "m"
   ]
  },
  {
   "cell_type": "code",
   "execution_count": null,
   "id": "51561db6",
   "metadata": {},
   "outputs": [],
   "source": [
    "import mapdemo"
   ]
  },
  {
   "cell_type": "code",
   "execution_count": null,
   "id": "bf4c1a36",
   "metadata": {},
   "outputs": [],
   "source": [
    "m=mapdemo.Map()\n",
    "data='https://github.com/opengeos/datasets/releases/download/raster/srtm90.tif'\n",
    "m.add_raster(data, colormap='terrain',name=\"STRM_dem\")\n",
    "m.add_raster(data, colormap='terrain',name=\"STRM_dem\")\n",
    "\n",
    "m"
   ]
  },
  {
   "cell_type": "code",
   "execution_count": null,
   "id": "fd602dc8",
   "metadata": {},
   "outputs": [],
   "source": [
    "m=mapdemo.Map()"
   ]
  },
  {
   "cell_type": "code",
   "execution_count": null,
   "id": "8769d90c",
   "metadata": {},
   "outputs": [],
   "source": [
    "m"
   ]
  },
  {
   "cell_type": "code",
   "execution_count": null,
   "id": "a7ecee4d",
   "metadata": {},
   "outputs": [],
   "source": [
    "m.add_layers_control()"
   ]
  }
 ],
 "metadata": {
  "kernelspec": {
   "display_name": "geo",
   "language": "python",
   "name": "python3"
  },
  "language_info": {
   "codemirror_mode": {
    "name": "ipython",
    "version": 3
   },
   "file_extension": ".py",
   "mimetype": "text/x-python",
   "name": "python",
   "nbconvert_exporter": "python",
   "pygments_lexer": "ipython3",
   "version": "3.11.13"
  }
 },
 "nbformat": 4,
 "nbformat_minor": 5
}
