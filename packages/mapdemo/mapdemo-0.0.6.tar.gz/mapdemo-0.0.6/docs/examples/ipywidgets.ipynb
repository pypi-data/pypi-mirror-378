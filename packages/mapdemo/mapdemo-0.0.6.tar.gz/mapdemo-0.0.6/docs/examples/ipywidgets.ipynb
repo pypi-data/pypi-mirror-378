{
 "cells": [
  {
   "cell_type": "code",
   "execution_count": null,
   "id": "d628b435",
   "metadata": {},
   "outputs": [],
   "source": [
    "from ipyleaflet import basemaps, WidgetControl, Map\n",
    "from ipywidgets import IntSlider, ColorPicker, jslink ,Output\n",
    "\n",
    "m= Map(center=(46.01, 6.16), zoom=12, basemap=basemaps.OpenTopoMap)\n",
    "zoom_slider = IntSlider(description=\"zoom level:\", min=0, max=15, value=7)\n",
    "jslink((zoom_slider, 'value'), (m, \"zoom\"))\n",
    "widget_control1= WidgetControl(widget=zoom_slider,position=\"topright\")\n",
    "m.add(widget_control1)\n",
    "\n",
    "color_picker = ColorPicker(description=\"pick a color:\")\n",
    "widget_control2 =WidgetControl(widget=color_picker,position=\"bottomright\")\n",
    "\n",
    "m.add(widget_control2)"
   ]
  },
  {
   "cell_type": "code",
   "execution_count": null,
   "id": "5edb6714",
   "metadata": {},
   "outputs": [],
   "source": [
    "import mapdemo"
   ]
  },
  {
   "cell_type": "code",
   "execution_count": null,
   "id": "610d779c",
   "metadata": {},
   "outputs": [],
   "source": [
    "m=mapdemo.Map(center=(46.01, 6.16), zoom=12, basemap=basemaps.OpenTopoMap)\n",
    "zoom_slider = IntSlider(description=\"zoom level:\", min=0, max=18, value=7)\n",
    "jslink((zoom_slider, 'value'), (m, \"zoom\"))\n",
    "widget_control1= WidgetControl(widget=zoom_slider,position=\"topright\")\n",
    "m.add(widget_control1)"
   ]
  },
  {
   "cell_type": "code",
   "execution_count": null,
   "id": "a5f2e024",
   "metadata": {},
   "outputs": [],
   "source": [
    "m=mapdemo.Map()\n",
    "m.add_zoom_slider()\n",
    "m"
   ]
  },
  {
   "cell_type": "code",
   "execution_count": null,
   "id": "e847efe5",
   "metadata": {},
   "outputs": [],
   "source": [
    "import ipywidgets as widgets"
   ]
  },
  {
   "cell_type": "code",
   "execution_count": null,
   "id": "ed398515",
   "metadata": {},
   "outputs": [],
   "source": [
    "m = mapdemo.Map()\n",
    "\n",
    "date_widget=widgets.DatePicker(\n",
    "    description=\"pick a date\",\n",
    "    disabled=False\n",
    ")\n",
    "m.add_widget(date_widget)\n",
    "\n",
    "m"
   ]
  }
 ],
 "metadata": {
  "kernelspec": {
   "display_name": "geo",
   "language": "python",
   "name": "python3"
  },
  "language_info": {
   "codemirror_mode": {
    "name": "ipython",
    "version": 3
   },
   "file_extension": ".py",
   "mimetype": "text/x-python",
   "name": "python",
   "nbconvert_exporter": "python",
   "pygments_lexer": "ipython3",
   "version": "3.11.13"
  }
 },
 "nbformat": 4,
 "nbformat_minor": 5
}
