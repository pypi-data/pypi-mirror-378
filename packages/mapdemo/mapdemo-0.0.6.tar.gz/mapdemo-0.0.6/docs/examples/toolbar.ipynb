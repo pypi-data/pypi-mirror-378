{
 "cells": [
  {
   "cell_type": "code",
   "execution_count": null,
   "id": "5883a9cb",
   "metadata": {},
   "outputs": [],
   "source": [
    "import mapdemo\n",
    "import ipywidgets as widgets\n",
    "from ipyleaflet import WidgetControl"
   ]
  },
  {
   "cell_type": "code",
   "execution_count": null,
   "id": "62f7d63f",
   "metadata": {},
   "outputs": [],
   "source": [
    "widget_width=\"250px\"\n",
    "padding=\"0px 0px 0px 4px\"\n",
    "\n",
    "toolbar_button= widgets.ToggleButton(\n",
    "    value=False,\n",
    "    tooltip=\"Toolbar\",\n",
    "    icon=\"wrench\",\n",
    "    layout=widgets.Layout(height='28px',width='28px', padding=padding),\n",
    ")\n",
    "\n",
    "close_button=widgets.ToggleButton(\n",
    "    value=False,\n",
    "    tooltip=\"Close the tool\",\n",
    "    icon=\"times\",\n",
    "    button_style='primary',\n",
    "    layout=widgets.Layout(height='28px', width='28px', padding=padding),\n",
    ")\n"
   ]
  },
  {
   "cell_type": "code",
   "execution_count": null,
   "id": "38e93e18",
   "metadata": {},
   "outputs": [],
   "source": [
    "toolbar =widgets.HBox([toolbar_button])\n",
    "toolbar"
   ]
  },
  {
   "cell_type": "code",
   "execution_count": null,
   "id": "4ca1da49",
   "metadata": {},
   "outputs": [],
   "source": [
    "def toolbar_click(change):\n",
    "    if change['new']:\n",
    "        toolbar.children=[toolbar_button, close_button]\n",
    "    else:\n",
    "        toolbar.children =[toolbar_button]\n",
    "        \n",
    "\n",
    "toolbar_button.observe(toolbar_click,'value')"
   ]
  },
  {
   "cell_type": "code",
   "execution_count": null,
   "id": "69a0660a",
   "metadata": {},
   "outputs": [],
   "source": [
    "def close_click(change):\n",
    "    if change['new']:\n",
    "        toolbar_button.close()\n",
    "        close_button.close()\n",
    "        toolbar.close()\n",
    "\n",
    "close_button.observe(close_click,'value')\n",
    "toolbar        "
   ]
  },
  {
   "cell_type": "code",
   "execution_count": null,
   "id": "80306b56",
   "metadata": {},
   "outputs": [],
   "source": [
    "rows = 2\n",
    "cols = 2\n",
    "grid = widgets.GridspecLayout(\n",
    "    rows,cols, grid_gap=\"0px\", layout=widgets.Layout(width='65px')\n",
    ")"
   ]
  },
  {
   "cell_type": "code",
   "execution_count": null,
   "id": "4377e854",
   "metadata": {},
   "outputs": [],
   "source": [
    "icon = ['folder-open','map','info','question']\n",
    "\n",
    "for i in range(rows):\n",
    "    for j in range (cols):\n",
    "        grid[i,j] = widgets.Button(\n",
    "            description=\"\",\n",
    "            button_style='primary',\n",
    "            icon=icon[i* rows + j],\n",
    "            layout=widgets.Layout(width='28px', padding='0px'),\n",
    "        )\n",
    "\n",
    "grid        "
   ]
  },
  {
   "cell_type": "code",
   "execution_count": null,
   "id": "d5318641",
   "metadata": {},
   "outputs": [],
   "source": [
    "toolbar = widgets.VBox([toolbar_button])"
   ]
  },
  {
   "cell_type": "code",
   "execution_count": null,
   "id": "dae02eb8",
   "metadata": {},
   "outputs": [],
   "source": [
    "def toolbar_click(change):\n",
    "    if change ['new']:\n",
    "        toolbar.children=[widgets.HBox([close_button,toolbar_button]),grid]\n",
    "    else:\n",
    "        toolbar.children = [toolbar_button]\n",
    "\n",
    "toolbar_button.observe(toolbar_click,'value')\n",
    "toolbar"
   ]
  },
  {
   "cell_type": "code",
   "execution_count": null,
   "id": "d233d03c",
   "metadata": {},
   "outputs": [],
   "source": [
    "tlbar_ctrl = WidgetControl(widget=toolbar, position =\"topright\")"
   ]
  },
  {
   "cell_type": "code",
   "execution_count": null,
   "id": "26a174ae",
   "metadata": {},
   "outputs": [],
   "source": [
    "m=mapdemo.Map()\n",
    "m.add(tlbar_ctrl)\n",
    "m"
   ]
  },
  {
   "cell_type": "code",
   "execution_count": null,
   "id": "7fdf1cff",
   "metadata": {},
   "outputs": [],
   "source": [
    "import mapdemo"
   ]
  },
  {
   "cell_type": "code",
   "execution_count": null,
   "id": "7f7f5da2",
   "metadata": {},
   "outputs": [],
   "source": [
    "m=mapdemo.Map()\n",
    "m.add_toolbar() \n",
    "m"
   ]
  }
 ],
 "metadata": {
  "kernelspec": {
   "display_name": "geo",
   "language": "python",
   "name": "python3"
  },
  "language_info": {
   "codemirror_mode": {
    "name": "ipython",
    "version": 3
   },
   "file_extension": ".py",
   "mimetype": "text/x-python",
   "name": "python",
   "nbconvert_exporter": "python",
   "pygments_lexer": "ipython3",
   "version": "3.11.13"
  }
 },
 "nbformat": 4,
 "nbformat_minor": 5
}
