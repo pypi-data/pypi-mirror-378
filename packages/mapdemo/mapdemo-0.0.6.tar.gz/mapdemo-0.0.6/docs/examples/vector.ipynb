{
 "cells": [
  {
   "cell_type": "code",
   "execution_count": null,
   "id": "6081a4b5",
   "metadata": {},
   "outputs": [],
   "source": [
    "import json\n",
    "\n",
    "from ipyleaflet import Map, GeoJSON\n",
    "\n",
    "with open(\"file.geojson\", 'r') as f:\n",
    "    data = json.load(f)\n",
    "\n",
    "m = Map(center=(50.6252978589571, 0.345809993652344), zoom=3)\n",
    "\n",
    "geo_json =GeoJSON(\n",
    "    data=data,\n",
    ")\n",
    "m.add(geo_json)\n",
    "\n",
    "m"
   ]
  },
  {
   "cell_type": "code",
   "execution_count": 1,
   "id": "70e2fc4d",
   "metadata": {},
   "outputs": [],
   "source": [
    "import mapdemo"
   ]
  },
  {
   "cell_type": "code",
   "execution_count": 2,
   "id": "3a600ca9",
   "metadata": {},
   "outputs": [],
   "source": [
    "m=mapdemo.Map()\n",
    "m.add_geojson(\"file.geojson\")"
   ]
  },
  {
   "cell_type": "code",
   "execution_count": null,
   "id": "e1f7d0ab",
   "metadata": {},
   "outputs": [],
   "source": [
    "style={\n",
    "    'opacity':1, 'dashArray':\"9\", 'fillOpacity':0.1, 'weight': 1\n",
    "}\n",
    "hover_style={\n",
    "    'color': 'blue','dashArray': '0', 'fillOpacity': 0.5\n",
    "}\n",
    "\n",
    "m.add_geojson('file.geojson',name='counrties',style=style,hover_style=hover_style)\n",
    "m.add_layers_control()\n",
    "m"
   ]
  }
 ],
 "metadata": {
  "kernelspec": {
   "display_name": "geo",
   "language": "python",
   "name": "python3"
  },
  "language_info": {
   "codemirror_mode": {
    "name": "ipython",
    "version": 3
   },
   "file_extension": ".py",
   "mimetype": "text/x-python",
   "name": "python",
   "nbconvert_exporter": "python",
   "pygments_lexer": "ipython3",
   "version": "3.11.13"
  }
 },
 "nbformat": 4,
 "nbformat_minor": 5
}
