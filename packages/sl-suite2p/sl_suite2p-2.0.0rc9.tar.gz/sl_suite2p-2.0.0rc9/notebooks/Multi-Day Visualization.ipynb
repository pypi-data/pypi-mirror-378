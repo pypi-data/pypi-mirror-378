{
 "cells": [
  {
   "cell_type": "code",
   "id": "initial_id",
   "metadata": {
    "collapsed": true
   },
   "source": [
    "%load_ext autoreload\n",
    "%autoreload 2\n",
    "# Imports necessary libraries\n",
    "from pathlib import Path\n",
    "\n",
    "import numpy as np\n",
    "from natsort import natsorted\n",
    "import matplotlib.pyplot as plt\n",
    "\n",
    "import suite2p"
   ],
   "outputs": [],
   "execution_count": null
  },
  {
   "metadata": {
    "jupyter": {
     "is_executing": true
    }
   },
   "cell_type": "code",
   "source": [
    "# Figure Style settings for the notebook.\n",
    "import matplotlib as mpl\n",
    "\n",
    "mpl.rcParams.update(\n",
    "    {\n",
    "        \"axes.spines.left\": False,\n",
    "        \"axes.spines.bottom\": False,\n",
    "        \"axes.spines.top\": False,\n",
    "        \"axes.spines.right\": False,\n",
    "        \"legend.frameon\": False,\n",
    "        \"figure.subplot.wspace\": 0.01,\n",
    "        \"figure.subplot.hspace\": 0.01,\n",
    "        \"figure.figsize\": (18, 13),\n",
    "        \"ytick.major.left\": False,\n",
    "    }\n",
    ")\n",
    "jet = mpl.colormaps.get_cmap(\"jet\")\n",
    "jet.set_bad(color=\"k\")"
   ],
   "id": "edbd580585f7bfd4",
   "outputs": [],
   "execution_count": null
  },
  {
   "metadata": {},
   "cell_type": "markdown",
   "source": [
    "# Visualizing Multi-Day Pipeline Outputs\n",
    "This notebook contains the same data-plotting code as the 'Multi-Day Pipeline' notebook. It is designed to visualize the\n",
    "data processing with the multi-day pipeline, without running the pipeline itself. Use it to evaluate the output of the\n",
    "multi-day pipeline on your data.\n",
    "\n",
    "**Note!** The single-day pipeline does not require a visualization notebook, as all single-day data can be evaluated\n",
    "using the suite2p GUI. To call the GUI, use the `ss2p-gui` command from the terminal after activating the python\n",
    "environment where the sl-suite2p library is installed. In the future, the multi-day visualization will also be\n",
    "integrated into the suite2p GUI."
   ],
   "id": "7f0d6acb7881ba37"
  },
  {
   "metadata": {},
   "cell_type": "markdown",
   "source": [
    " ## Selecting the data to visualize\n",
    "\n",
    "All functions below are designed to load all necessary data via the multi-day 'ops.npy' file. Therefore, to configure\n",
    "this notebook to run on specific pipeline output, you need to provide the path to the 'ops.npy' file of the target\n",
    "multi-day runtime. This file is stored under the root output folder used by that runtime, defined via the\n",
    "'multiday_save_folder' field of the MultiDayS2PConfiguration class or 'ops' dictionary."
   ],
   "id": "3d1fad8ceab234ab"
  },
  {
   "metadata": {},
   "cell_type": "code",
   "source": [
    "ops_path = Path(\"/home/cyberaxolotl/Desktop/Data/11/ops.npy\")\n",
    "\n",
    "# Also loads the 'ops.npy' as a dictionary to be used by the ROI activity visualizer below\n",
    "ops = np.load(ops_path, allow_pickle=True).item()"
   ],
   "id": "92feb8eadf2b7e9f",
   "outputs": [],
   "execution_count": null
  },
  {
   "metadata": {},
   "cell_type": "markdown",
   "source": [
    "## Registration Visualization\n",
    "\n",
    "The interactive widget below is used to visualize and assess the quality of all across-day registration steps.\n",
    "It works similar to the general suite2p gui image and mask overlay visualizer, but works with the data generated\n",
    "by the multi-day pipeline."
   ],
   "id": "3d55534814faa396"
  },
  {
   "metadata": {},
   "cell_type": "code",
   "source": [
    "%matplotlib widget\n",
    "suite2p.show_images_with_masks(ops_path=ops_path);"
   ],
   "id": "e3c8d2a6d6aeab2",
   "outputs": [],
   "execution_count": null
  },
  {
   "metadata": {},
   "cell_type": "markdown",
   "source": [
    "## Cell Activity Visualization\n",
    "\n",
    "The plotting code below visualizes the activity of a single ROI (cell) across all processed sessions. Change the target\n",
    "ROI index and re-render the figure to evaluate different cells."
   ],
   "id": "c28b4731bf6c2d37"
  },
  {
   "metadata": {},
   "cell_type": "code",
   "source": [
    "# Change the ROI index here and re-run the cell below to visualize different ROIs\n",
    "roi_index = 10"
   ],
   "id": "ff7d97d18d79d6ea",
   "outputs": [],
   "execution_count": null
  },
  {
   "metadata": {},
   "cell_type": "code",
   "source": [
    "# Clears the widget figure from the previous code cell\n",
    "plt.close(\"all\")\n",
    "\n",
    "%matplotlib inline\n",
    "\n",
    "# Precreates temporary storage lists for fluorescence data\n",
    "f_cells_sessions = []\n",
    "f_neuropils_sessions = []\n",
    "spks_sessions = []\n",
    "\n",
    "# Root multi-day output folder is expected to be the parent of the ops.npy file\n",
    "output_folder = ops_path.parent\n",
    "\n",
    "# The output folder contains .npy and .yaml files and directories named after each processed session ID.\n",
    "# This re-generates the list of session IDs from the directories stored in the output folder.\n",
    "session_ids = [folder.stem for folder in output_folder.glob(\"*\") if folder.is_dir()]\n",
    "\n",
    "# Sorts session IDs for consistency\n",
    "session_ids = natsorted(session_ids)\n",
    "\n",
    "# Resolves paths to the multi-day output for each session\n",
    "session_directories = [output_folder.joinpath(session_id) for session_id in session_ids]\n",
    "\n",
    "# Loops over processed sessions and loads the data to be visualized below\n",
    "for session in session_directories:\n",
    "    f_cells_sessions.append(np.load(session.joinpath(\"F.npy\")))\n",
    "    f_neuropils_sessions.append(np.load(session.joinpath(\"Fneu.npy\")))\n",
    "    spks_sessions.append(np.load(session.joinpath(\"spks.npy\")))\n",
    "\n",
    "plt.figure(figsize=(20.0, 20.0))\n",
    "plt.suptitle(f\"Fluorescence and Deconvolved Traces for ROI {roi_index} Across Sessions\", y=0.92)\n",
    "\n",
    "# Assigns distinct color to visualized traces\n",
    "colors = [\"#1f77b4\", \"#2ca02c\", \"#d62728\"]  # Blue, Green, Red\n",
    "\n",
    "# Loops over sessions, extracts the fluorescence data for the specified cell from each session, and plots it\n",
    "# on the canvas.\n",
    "for i, (f_cells, f_neuropils, spks, session_name) in enumerate(\n",
    "    zip(f_cells_sessions, f_neuropils_sessions, spks_sessions, session_ids)\n",
    "):\n",
    "    plt.subplot(len(f_cells_sessions), 1, i + 1)\n",
    "\n",
    "    # Extracts data for the specific ROI from this session\n",
    "    f = f_cells[roi_index]\n",
    "    f_neu = f_neuropils[roi_index]\n",
    "    sp = spks[roi_index]\n",
    "\n",
    "    # Adjust range to match fluorescence traces\n",
    "    fmax = np.maximum(f.max(), f_neu.max())\n",
    "    fmin = np.minimum(f.min(), f_neu.min())\n",
    "    frange = fmax - fmin\n",
    "\n",
    "    # Normalizes spikes\n",
    "    if sp.max() > 0:\n",
    "        sp = sp / sp.max() * frange + fmin\n",
    "    else:\n",
    "        sp = np.zeros_like(sp) + fmin\n",
    "\n",
    "    plt.plot(f, color=colors[0], label=\"Cell Fluorescence\")\n",
    "    plt.plot(f_neu, color=colors[1], label=\"Neuropil Fluorescence\")\n",
    "    plt.plot(sp, color=colors[2], label=\"Deconvolved\")\n",
    "\n",
    "    plt.xticks(np.arange(0, f.shape[0], f.shape[0] // 10))\n",
    "\n",
    "    # Add title for session name above each plot\n",
    "    plt.title(f\"Session {session_name}\")\n",
    "\n",
    "    # Add y-axis label for fluorescence/pixel intensity\n",
    "    plt.ylabel(\"fluorescence\")\n",
    "\n",
    "    plt.xlabel(\"frame\")\n",
    "    plt.grid(True, linestyle=\":\", alpha=0.6)\n",
    "\n",
    "    if i == 0:\n",
    "        plt.legend(bbox_to_anchor=(1.01, 1), loc=\"upper left\")\n",
    "\n",
    "plt.tight_layout()\n",
    "plt.subplots_adjust(top=0.9)"
   ],
   "id": "bb4d3f48b259542f",
   "outputs": [],
   "execution_count": null
  }
 ],
 "metadata": {
  "kernelspec": {
   "display_name": "Python 3",
   "language": "python",
   "name": "python3"
  },
  "language_info": {
   "codemirror_mode": {
    "name": "ipython",
    "version": 2
   },
   "file_extension": ".py",
   "mimetype": "text/x-python",
   "name": "python",
   "nbconvert_exporter": "python",
   "pygments_lexer": "ipython2",
   "version": "2.7.6"
  }
 },
 "nbformat": 4,
 "nbformat_minor": 5
}
