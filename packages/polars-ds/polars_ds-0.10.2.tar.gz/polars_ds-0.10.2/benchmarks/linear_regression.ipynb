{
 "cells": [
  {
   "cell_type": "code",
   "execution_count": 1,
   "metadata": {},
   "outputs": [
    {
     "name": "stdout",
     "output_type": "stream",
     "text": [
      "0.7.0\n"
     ]
    }
   ],
   "source": [
    "import polars as pl\n",
    "import pandas as pd\n",
    "import polars_ds as pds\n",
    "import polars_ds.linear_models as pds_linear\n",
    "# Requires version >= v0.5.1\n",
    "print(pds.__version__)"
   ]
  },
  {
   "cell_type": "code",
   "execution_count": 2,
   "metadata": {},
   "outputs": [
    {
     "data": {
      "text/html": [
       "<div><style>\n",
       ".dataframe > thead > tr,\n",
       ".dataframe > tbody > tr {\n",
       "  text-align: right;\n",
       "  white-space: pre-wrap;\n",
       "}\n",
       "</style>\n",
       "<small>shape: (5, 8)</small><table border=\"1\" class=\"dataframe\"><thead><tr><th>x1</th><th>x2</th><th>x3</th><th>x4</th><th>x5</th><th>code</th><th>id</th><th>y</th></tr><tr><td>f64</td><td>f64</td><td>f64</td><td>f64</td><td>f64</td><td>i32</td><td>i64</td><td>f64</td></tr></thead><tbody><tr><td>0.023153</td><td>0.218893</td><td>0.165474</td><td>0.065297</td><td>0.437636</td><td>1</td><td>0</td><td>-0.002283</td></tr><tr><td>0.212167</td><td>0.821121</td><td>0.726689</td><td>0.484775</td><td>0.97551</td><td>3</td><td>1</td><td>0.172509</td></tr><tr><td>0.587599</td><td>0.432226</td><td>0.825491</td><td>0.14475</td><td>0.80575</td><td>1</td><td>2</td><td>0.202238</td></tr><tr><td>0.278052</td><td>0.547404</td><td>0.544241</td><td>0.78111</td><td>0.119928</td><td>3</td><td>3</td><td>0.334958</td></tr><tr><td>0.65751</td><td>0.111454</td><td>0.767859</td><td>0.661847</td><td>0.278934</td><td>2</td><td>4</td><td>0.337549</td></tr></tbody></table></div>"
      ],
      "text/plain": [
       "shape: (5, 8)\n",
       "┌──────────┬──────────┬──────────┬──────────┬──────────┬──────┬─────┬───────────┐\n",
       "│ x1       ┆ x2       ┆ x3       ┆ x4       ┆ x5       ┆ code ┆ id  ┆ y         │\n",
       "│ ---      ┆ ---      ┆ ---      ┆ ---      ┆ ---      ┆ ---  ┆ --- ┆ ---       │\n",
       "│ f64      ┆ f64      ┆ f64      ┆ f64      ┆ f64      ┆ i32  ┆ i64 ┆ f64       │\n",
       "╞══════════╪══════════╪══════════╪══════════╪══════════╪══════╪═════╪═══════════╡\n",
       "│ 0.023153 ┆ 0.218893 ┆ 0.165474 ┆ 0.065297 ┆ 0.437636 ┆ 1    ┆ 0   ┆ -0.002283 │\n",
       "│ 0.212167 ┆ 0.821121 ┆ 0.726689 ┆ 0.484775 ┆ 0.97551  ┆ 3    ┆ 1   ┆ 0.172509  │\n",
       "│ 0.587599 ┆ 0.432226 ┆ 0.825491 ┆ 0.14475  ┆ 0.80575  ┆ 1    ┆ 2   ┆ 0.202238  │\n",
       "│ 0.278052 ┆ 0.547404 ┆ 0.544241 ┆ 0.78111  ┆ 0.119928 ┆ 3    ┆ 3   ┆ 0.334958  │\n",
       "│ 0.65751  ┆ 0.111454 ┆ 0.767859 ┆ 0.661847 ┆ 0.278934 ┆ 2    ┆ 4   ┆ 0.337549  │\n",
       "└──────────┴──────────┴──────────┴──────────┴──────────┴──────┴─────┴───────────┘"
      ]
     },
     "execution_count": 2,
     "metadata": {},
     "output_type": "execute_result"
    }
   ],
   "source": [
    "size = 50_000\n",
    "df = pds.frame(size=size).select(\n",
    "    pds.random(0.0, 1.0).alias(\"x1\"),\n",
    "    pds.random(0.0, 1.0).alias(\"x2\"),\n",
    "    pds.random(0.0, 1.0).alias(\"x3\"),\n",
    "    pds.random(0.0, 1.0).alias(\"x4\"),\n",
    "    pds.random(0.0, 1.0).alias(\"x5\"),\n",
    "    pds.random_int(0,4).alias(\"code\"),\n",
    "    pl.Series(name = \"id\", values = range(size))\n",
    ").with_columns(\n",
    "    y = pl.col(\"x1\") * 0.5 + pl.col(\"x2\") * 0.25 - pl.col(\"x3\") * 0.15 + pl.col(\"x4\") *0.2 - pl.col(\"x5\") * 0.13 + pds.random() * 0.0001,\n",
    ")\n",
    "df.head()"
   ]
  },
  {
   "cell_type": "code",
   "execution_count": 3,
   "metadata": {},
   "outputs": [],
   "source": [
    "# Prepare data for Scikit-learn. We assume the Scikit-learn + NumPy combination. \n",
    "# One can simply replace to_numpy() by to_pandas() to test the Scikit-learn + Pandas combination\n",
    "from sklearn.linear_model import Lasso, Ridge, LinearRegression\n",
    "X = df.select(\"x1\", \"x2\", \"x3\", \"x4\", \"x5\").to_numpy()\n",
    "y = df.select(\"y\").to_numpy()"
   ]
  },
  {
   "cell_type": "markdown",
   "metadata": {},
   "source": [
    "# Benchmarks \n",
    "\n",
    "I did not invent any of the algorithms that solves the linear regression problem. Not did I make any improvement to existing algorithms. I only rewrote them in Rust, using Faer, and brought the algorithms alive with Polars.\n",
    "\n",
    "1. Polars DS In-DataFrame Linear Regression vs. Polars DS + NumPy LinearRegression vs. Scikit learn + NumPy LinearRegression"
   ]
  },
  {
   "cell_type": "code",
   "execution_count": 8,
   "metadata": {},
   "outputs": [
    {
     "name": "stdout",
     "output_type": "stream",
     "text": [
      "Polars DS:  shape: (5,)\n",
      "Series: '' [f64]\n",
      "[\n",
      "\t0.500019\n",
      "\t0.250019\n",
      "\t-0.149981\n",
      "\t0.200018\n",
      "\t-0.129981\n",
      "]\n",
      "PDS LR:  <bound method LR.coeffs of Linear Regression Model\n",
      "Coefficients: [np.float64(0.50002), np.float64(0.25002), np.float64(-0.14998), np.float64(0.20002), np.float64(-0.12998)]\n",
      "Bias/Intercept: 0.0\n",
      ">\n",
      "Sklearn:  [[ 0.50001865  0.25001948 -0.14998127  0.20001819 -0.12998134]]\n"
     ]
    }
   ],
   "source": [
    "# Polars DS way\n",
    "print(\n",
    "    \"Polars DS: \",\n",
    "    df.select(\n",
    "        pds.lin_reg(\n",
    "            \"x1\", \"x2\", \"x3\", \"x4\", \"x5\",\n",
    "            target = \"y\",\n",
    "        )\n",
    "    ).item(0, 0)\n",
    ")\n",
    "\n",
    "# Fit is done implicitly because X and y are passed at initialization\n",
    "# You can also don't put X and y here and do a lr.fit(X,y) later.\n",
    "lr = pds_linear.LR(\n",
    "    fit_bias=False\n",
    ") \n",
    "lr.fit(X, y)\n",
    "print(\"PDS LR: \", lr.coeffs)\n",
    "\n",
    "# Sklearn\n",
    "reg = LinearRegression(fit_intercept=False)\n",
    "reg.fit(X, y)\n",
    "print(\"Sklearn: \", reg.coef_)"
   ]
  },
  {
   "cell_type": "code",
   "execution_count": 9,
   "metadata": {},
   "outputs": [
    {
     "name": "stdout",
     "output_type": "stream",
     "text": [
      "787 μs ± 10.3 μs per loop (mean ± std. dev. of 7 runs, 1,000 loops each)\n"
     ]
    }
   ],
   "source": [
    "%%timeit \n",
    "df.select(\n",
    "    pds.lin_reg(\n",
    "        \"x1\", \"x2\", \"x3\", \"x4\", \"x5\",\n",
    "        target = \"y\",\n",
    "    )\n",
    ")"
   ]
  },
  {
   "cell_type": "code",
   "execution_count": 10,
   "metadata": {},
   "outputs": [
    {
     "name": "stdout",
     "output_type": "stream",
     "text": [
      "631 μs ± 1.89 μs per loop (mean ± std. dev. of 7 runs, 1,000 loops each)\n"
     ]
    }
   ],
   "source": [
    "%%timeit\n",
    "lr = pds_linear.LR(\n",
    "    fit_bias=False,\n",
    ")\n",
    "lr.fit(X, y)"
   ]
  },
  {
   "cell_type": "code",
   "execution_count": 11,
   "metadata": {},
   "outputs": [
    {
     "name": "stdout",
     "output_type": "stream",
     "text": [
      "1.42 ms ± 2.87 μs per loop (mean ± std. dev. of 7 runs, 1,000 loops each)\n"
     ]
    }
   ],
   "source": [
    "%%timeit\n",
    "reg = LinearRegression(fit_intercept=False, copy_X=False)\n",
    "reg.fit(X, y)"
   ]
  },
  {
   "cell_type": "code",
   "execution_count": null,
   "metadata": {},
   "outputs": [],
   "source": []
  }
 ],
 "metadata": {
  "kernelspec": {
   "display_name": ".venv",
   "language": "python",
   "name": "python3"
  },
  "language_info": {
   "codemirror_mode": {
    "name": "ipython",
    "version": 3
   },
   "file_extension": ".py",
   "mimetype": "text/x-python",
   "name": "python",
   "nbconvert_exporter": "python",
   "pygments_lexer": "ipython3",
   "version": "3.12.7"
  }
 },
 "nbformat": 4,
 "nbformat_minor": 2
}
