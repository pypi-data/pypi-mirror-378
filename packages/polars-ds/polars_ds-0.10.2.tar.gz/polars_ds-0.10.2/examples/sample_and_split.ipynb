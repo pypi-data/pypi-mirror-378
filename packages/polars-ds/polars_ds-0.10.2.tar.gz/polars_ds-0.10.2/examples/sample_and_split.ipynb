{
 "cells": [
  {
   "cell_type": "markdown",
   "metadata": {},
   "source": [
    "# Sampling and Splitting"
   ]
  },
  {
   "cell_type": "markdown",
   "metadata": {},
   "source": [
    "## Sampling\n",
    "\n",
    "Sampling for basic tabular datasets. (Not designed for time series as of now.)"
   ]
  },
  {
   "cell_type": "code",
   "execution_count": 1,
   "metadata": {},
   "outputs": [],
   "source": [
    "import polars as pl\n",
    "import polars_ds as pds\n",
    "import polars_ds.sample_and_split as ss"
   ]
  },
  {
   "cell_type": "code",
   "execution_count": 2,
   "metadata": {},
   "outputs": [
    {
     "data": {
      "text/html": [
       "<div><style>\n",
       ".dataframe > thead > tr,\n",
       ".dataframe > tbody > tr {\n",
       "  text-align: right;\n",
       "  white-space: pre-wrap;\n",
       "}\n",
       "</style>\n",
       "<small>shape: (5, 8)</small><table border=\"1\" class=\"dataframe\"><thead><tr><th>row_num</th><th>uniform_1</th><th>uniform_2</th><th>exp</th><th>normal</th><th>fat_normal</th><th>flags</th><th>category</th></tr><tr><td>i64</td><td>f64</td><td>f64</td><td>f64</td><td>f64</td><td>f64</td><td>i32</td><td>str</td></tr></thead><tbody><tr><td>0</td><td>2.375698</td><td>0.306533</td><td>4.211196</td><td>0.867607</td><td>-739.840101</td><td>2</td><td>&quot;A&quot;</td></tr><tr><td>1</td><td>10.704956</td><td>0.710361</td><td>0.061798</td><td>-0.090433</td><td>-1281.037206</td><td>1</td><td>&quot;A&quot;</td></tr><tr><td>2</td><td>6.569019</td><td>0.424319</td><td>0.31042</td><td>0.53873</td><td>1272.196366</td><td>1</td><td>&quot;A&quot;</td></tr><tr><td>3</td><td>9.460909</td><td>0.178204</td><td>0.108187</td><td>0.483564</td><td>-302.587195</td><td>1</td><td>&quot;A&quot;</td></tr><tr><td>4</td><td>0.472411</td><td>0.797066</td><td>0.574556</td><td>0.84752</td><td>-675.503736</td><td>2</td><td>&quot;A&quot;</td></tr></tbody></table></div>"
      ],
      "text/plain": [
       "shape: (5, 8)\n",
       "┌─────────┬───────────┬───────────┬──────────┬───────────┬──────────────┬───────┬──────────┐\n",
       "│ row_num ┆ uniform_1 ┆ uniform_2 ┆ exp      ┆ normal    ┆ fat_normal   ┆ flags ┆ category │\n",
       "│ ---     ┆ ---       ┆ ---       ┆ ---      ┆ ---       ┆ ---          ┆ ---   ┆ ---      │\n",
       "│ i64     ┆ f64       ┆ f64       ┆ f64      ┆ f64       ┆ f64          ┆ i32   ┆ str      │\n",
       "╞═════════╪═══════════╪═══════════╪══════════╪═══════════╪══════════════╪═══════╪══════════╡\n",
       "│ 0       ┆ 2.375698  ┆ 0.306533  ┆ 4.211196 ┆ 0.867607  ┆ -739.840101  ┆ 2     ┆ A        │\n",
       "│ 1       ┆ 10.704956 ┆ 0.710361  ┆ 0.061798 ┆ -0.090433 ┆ -1281.037206 ┆ 1     ┆ A        │\n",
       "│ 2       ┆ 6.569019  ┆ 0.424319  ┆ 0.31042  ┆ 0.53873   ┆ 1272.196366  ┆ 1     ┆ A        │\n",
       "│ 3       ┆ 9.460909  ┆ 0.178204  ┆ 0.108187 ┆ 0.483564  ┆ -302.587195  ┆ 1     ┆ A        │\n",
       "│ 4       ┆ 0.472411  ┆ 0.797066  ┆ 0.574556 ┆ 0.84752   ┆ -675.503736  ┆ 2     ┆ A        │\n",
       "└─────────┴───────────┴───────────┴──────────┴───────────┴──────────────┴───────┴──────────┘"
      ]
     },
     "execution_count": 2,
     "metadata": {},
     "output_type": "execute_result"
    }
   ],
   "source": [
    "df = pds.frame(size=100_000).with_columns(\n",
    "    pds.random(0.0, 12.0).alias(\"uniform_1\"),\n",
    "    pds.random(0.0, 1.0).alias(\"uniform_2\"),\n",
    "    pds.random_exp(0.5).alias(\"exp\"),\n",
    "    pds.random_normal(0.0, 1.0).alias(\"normal\"),\n",
    "    pds.random_normal(0.0, 1000.0).alias(\"fat_normal\"),\n",
    "    (pds.random_int(0, 3)).alias(\"flags\"),\n",
    "    pl.Series([\"A\"] * 30_000 + [\"B\"] * 30_000 + [\"C\"] * 40_000).alias(\"category\"),\n",
    ")\n",
    "df.head()"
   ]
  },
  {
   "cell_type": "code",
   "execution_count": 3,
   "metadata": {},
   "outputs": [
    {
     "data": {
      "text/plain": [
       "['row_num', 'normal', 'category']"
      ]
     },
     "execution_count": 3,
     "metadata": {},
     "output_type": "execute_result"
    }
   ],
   "source": [
    "ss.random_cols(df.columns, 2, keep = [\"row_num\"])"
   ]
  },
  {
   "cell_type": "code",
   "execution_count": 4,
   "metadata": {},
   "outputs": [
    {
     "data": {
      "text/html": [
       "<div><style>\n",
       ".dataframe > thead > tr,\n",
       ".dataframe > tbody > tr {\n",
       "  text-align: right;\n",
       "  white-space: pre-wrap;\n",
       "}\n",
       "</style>\n",
       "<small>shape: (60_000, 8)</small><table border=\"1\" class=\"dataframe\"><thead><tr><th>row_num</th><th>uniform_1</th><th>uniform_2</th><th>exp</th><th>normal</th><th>fat_normal</th><th>flags</th><th>category</th></tr><tr><td>i64</td><td>f64</td><td>f64</td><td>f64</td><td>f64</td><td>f64</td><td>i32</td><td>str</td></tr></thead><tbody><tr><td>1</td><td>10.704956</td><td>0.710361</td><td>0.061798</td><td>-0.090433</td><td>-1281.037206</td><td>1</td><td>&quot;A&quot;</td></tr><tr><td>2</td><td>6.569019</td><td>0.424319</td><td>0.31042</td><td>0.53873</td><td>1272.196366</td><td>1</td><td>&quot;A&quot;</td></tr><tr><td>3</td><td>9.460909</td><td>0.178204</td><td>0.108187</td><td>0.483564</td><td>-302.587195</td><td>1</td><td>&quot;A&quot;</td></tr><tr><td>4</td><td>0.472411</td><td>0.797066</td><td>0.574556</td><td>0.84752</td><td>-675.503736</td><td>2</td><td>&quot;A&quot;</td></tr><tr><td>6</td><td>8.959549</td><td>0.582041</td><td>4.157775</td><td>-0.617712</td><td>484.235326</td><td>2</td><td>&quot;A&quot;</td></tr><tr><td>&hellip;</td><td>&hellip;</td><td>&hellip;</td><td>&hellip;</td><td>&hellip;</td><td>&hellip;</td><td>&hellip;</td><td>&hellip;</td></tr><tr><td>99994</td><td>2.443397</td><td>0.005157</td><td>0.629397</td><td>-0.696746</td><td>1807.499997</td><td>0</td><td>&quot;C&quot;</td></tr><tr><td>99995</td><td>3.808145</td><td>0.033321</td><td>3.928965</td><td>0.155838</td><td>738.475897</td><td>1</td><td>&quot;C&quot;</td></tr><tr><td>99996</td><td>5.196431</td><td>0.567853</td><td>2.630441</td><td>1.422917</td><td>-408.294107</td><td>1</td><td>&quot;C&quot;</td></tr><tr><td>99998</td><td>3.155122</td><td>0.667723</td><td>5.467898</td><td>1.153467</td><td>746.408392</td><td>1</td><td>&quot;C&quot;</td></tr><tr><td>99999</td><td>10.782581</td><td>0.67974</td><td>0.703246</td><td>-0.365203</td><td>796.731234</td><td>0</td><td>&quot;C&quot;</td></tr></tbody></table></div>"
      ],
      "text/plain": [
       "shape: (60_000, 8)\n",
       "┌─────────┬───────────┬───────────┬──────────┬───────────┬──────────────┬───────┬──────────┐\n",
       "│ row_num ┆ uniform_1 ┆ uniform_2 ┆ exp      ┆ normal    ┆ fat_normal   ┆ flags ┆ category │\n",
       "│ ---     ┆ ---       ┆ ---       ┆ ---      ┆ ---       ┆ ---          ┆ ---   ┆ ---      │\n",
       "│ i64     ┆ f64       ┆ f64       ┆ f64      ┆ f64       ┆ f64          ┆ i32   ┆ str      │\n",
       "╞═════════╪═══════════╪═══════════╪══════════╪═══════════╪══════════════╪═══════╪══════════╡\n",
       "│ 1       ┆ 10.704956 ┆ 0.710361  ┆ 0.061798 ┆ -0.090433 ┆ -1281.037206 ┆ 1     ┆ A        │\n",
       "│ 2       ┆ 6.569019  ┆ 0.424319  ┆ 0.31042  ┆ 0.53873   ┆ 1272.196366  ┆ 1     ┆ A        │\n",
       "│ 3       ┆ 9.460909  ┆ 0.178204  ┆ 0.108187 ┆ 0.483564  ┆ -302.587195  ┆ 1     ┆ A        │\n",
       "│ 4       ┆ 0.472411  ┆ 0.797066  ┆ 0.574556 ┆ 0.84752   ┆ -675.503736  ┆ 2     ┆ A        │\n",
       "│ 6       ┆ 8.959549  ┆ 0.582041  ┆ 4.157775 ┆ -0.617712 ┆ 484.235326   ┆ 2     ┆ A        │\n",
       "│ …       ┆ …         ┆ …         ┆ …        ┆ …         ┆ …            ┆ …     ┆ …        │\n",
       "│ 99994   ┆ 2.443397  ┆ 0.005157  ┆ 0.629397 ┆ -0.696746 ┆ 1807.499997  ┆ 0     ┆ C        │\n",
       "│ 99995   ┆ 3.808145  ┆ 0.033321  ┆ 3.928965 ┆ 0.155838  ┆ 738.475897   ┆ 1     ┆ C        │\n",
       "│ 99996   ┆ 5.196431  ┆ 0.567853  ┆ 2.630441 ┆ 1.422917  ┆ -408.294107  ┆ 1     ┆ C        │\n",
       "│ 99998   ┆ 3.155122  ┆ 0.667723  ┆ 5.467898 ┆ 1.153467  ┆ 746.408392   ┆ 1     ┆ C        │\n",
       "│ 99999   ┆ 10.782581 ┆ 0.67974   ┆ 0.703246 ┆ -0.365203 ┆ 796.731234   ┆ 0     ┆ C        │\n",
       "└─────────┴───────────┴───────────┴──────────┴───────────┴──────────────┴───────┴──────────┘"
      ]
     },
     "execution_count": 4,
     "metadata": {},
     "output_type": "execute_result"
    }
   ],
   "source": [
    "# Random Sample\n",
    "ss.sample(df, 0.6) # by ratio"
   ]
  },
  {
   "cell_type": "code",
   "execution_count": 5,
   "metadata": {},
   "outputs": [
    {
     "data": {
      "text/html": [
       "<div><style>\n",
       ".dataframe > thead > tr,\n",
       ".dataframe > tbody > tr {\n",
       "  text-align: right;\n",
       "  white-space: pre-wrap;\n",
       "}\n",
       "</style>\n",
       "<small>shape: (30_000, 8)</small><table border=\"1\" class=\"dataframe\"><thead><tr><th>row_num</th><th>uniform_1</th><th>uniform_2</th><th>exp</th><th>normal</th><th>fat_normal</th><th>flags</th><th>category</th></tr><tr><td>i64</td><td>f64</td><td>f64</td><td>f64</td><td>f64</td><td>f64</td><td>i32</td><td>str</td></tr></thead><tbody><tr><td>6</td><td>8.959549</td><td>0.582041</td><td>4.157775</td><td>-0.617712</td><td>484.235326</td><td>2</td><td>&quot;A&quot;</td></tr><tr><td>7</td><td>6.399035</td><td>0.959055</td><td>0.781183</td><td>0.983751</td><td>-1225.996629</td><td>2</td><td>&quot;A&quot;</td></tr><tr><td>11</td><td>5.631642</td><td>0.437399</td><td>0.509954</td><td>1.553941</td><td>877.710016</td><td>2</td><td>&quot;A&quot;</td></tr><tr><td>12</td><td>0.713898</td><td>0.26459</td><td>0.232114</td><td>-0.308523</td><td>-1690.6116</td><td>1</td><td>&quot;A&quot;</td></tr><tr><td>14</td><td>5.208092</td><td>0.981489</td><td>0.387223</td><td>-1.128713</td><td>575.710573</td><td>2</td><td>&quot;A&quot;</td></tr><tr><td>&hellip;</td><td>&hellip;</td><td>&hellip;</td><td>&hellip;</td><td>&hellip;</td><td>&hellip;</td><td>&hellip;</td><td>&hellip;</td></tr><tr><td>99976</td><td>4.484445</td><td>0.819104</td><td>0.479851</td><td>0.217143</td><td>-299.902301</td><td>0</td><td>&quot;C&quot;</td></tr><tr><td>99983</td><td>5.41788</td><td>0.885326</td><td>1.96973</td><td>-0.039258</td><td>-463.50322</td><td>2</td><td>&quot;C&quot;</td></tr><tr><td>99988</td><td>1.326043</td><td>0.862608</td><td>0.067416</td><td>-0.098538</td><td>-775.818205</td><td>2</td><td>&quot;C&quot;</td></tr><tr><td>99990</td><td>0.392468</td><td>0.575246</td><td>1.844403</td><td>2.281576</td><td>-2783.843463</td><td>1</td><td>&quot;C&quot;</td></tr><tr><td>99994</td><td>2.443397</td><td>0.005157</td><td>0.629397</td><td>-0.696746</td><td>1807.499997</td><td>0</td><td>&quot;C&quot;</td></tr></tbody></table></div>"
      ],
      "text/plain": [
       "shape: (30_000, 8)\n",
       "┌─────────┬───────────┬───────────┬──────────┬───────────┬──────────────┬───────┬──────────┐\n",
       "│ row_num ┆ uniform_1 ┆ uniform_2 ┆ exp      ┆ normal    ┆ fat_normal   ┆ flags ┆ category │\n",
       "│ ---     ┆ ---       ┆ ---       ┆ ---      ┆ ---       ┆ ---          ┆ ---   ┆ ---      │\n",
       "│ i64     ┆ f64       ┆ f64       ┆ f64      ┆ f64       ┆ f64          ┆ i32   ┆ str      │\n",
       "╞═════════╪═══════════╪═══════════╪══════════╪═══════════╪══════════════╪═══════╪══════════╡\n",
       "│ 6       ┆ 8.959549  ┆ 0.582041  ┆ 4.157775 ┆ -0.617712 ┆ 484.235326   ┆ 2     ┆ A        │\n",
       "│ 7       ┆ 6.399035  ┆ 0.959055  ┆ 0.781183 ┆ 0.983751  ┆ -1225.996629 ┆ 2     ┆ A        │\n",
       "│ 11      ┆ 5.631642  ┆ 0.437399  ┆ 0.509954 ┆ 1.553941  ┆ 877.710016   ┆ 2     ┆ A        │\n",
       "│ 12      ┆ 0.713898  ┆ 0.26459   ┆ 0.232114 ┆ -0.308523 ┆ -1690.6116   ┆ 1     ┆ A        │\n",
       "│ 14      ┆ 5.208092  ┆ 0.981489  ┆ 0.387223 ┆ -1.128713 ┆ 575.710573   ┆ 2     ┆ A        │\n",
       "│ …       ┆ …         ┆ …         ┆ …        ┆ …         ┆ …            ┆ …     ┆ …        │\n",
       "│ 99976   ┆ 4.484445  ┆ 0.819104  ┆ 0.479851 ┆ 0.217143  ┆ -299.902301  ┆ 0     ┆ C        │\n",
       "│ 99983   ┆ 5.41788   ┆ 0.885326  ┆ 1.96973  ┆ -0.039258 ┆ -463.50322   ┆ 2     ┆ C        │\n",
       "│ 99988   ┆ 1.326043  ┆ 0.862608  ┆ 0.067416 ┆ -0.098538 ┆ -775.818205  ┆ 2     ┆ C        │\n",
       "│ 99990   ┆ 0.392468  ┆ 0.575246  ┆ 1.844403 ┆ 2.281576  ┆ -2783.843463 ┆ 1     ┆ C        │\n",
       "│ 99994   ┆ 2.443397  ┆ 0.005157  ┆ 0.629397 ┆ -0.696746 ┆ 1807.499997  ┆ 0     ┆ C        │\n",
       "└─────────┴───────────┴───────────┴──────────┴───────────┴──────────────┴───────┴──────────┘"
      ]
     },
     "execution_count": 5,
     "metadata": {},
     "output_type": "execute_result"
    }
   ],
   "source": [
    "ss.sample(df, 30_000) # by count"
   ]
  },
  {
   "cell_type": "code",
   "execution_count": 6,
   "metadata": {},
   "outputs": [
    {
     "data": {
      "text/html": [
       "<div><style>\n",
       ".dataframe > thead > tr,\n",
       ".dataframe > tbody > tr {\n",
       "  text-align: right;\n",
       "  white-space: pre-wrap;\n",
       "}\n",
       "</style>\n",
       "<small>shape: (3, 2)</small><table border=\"1\" class=\"dataframe\"><thead><tr><th>flags</th><th>len</th></tr><tr><td>i32</td><td>u32</td></tr></thead><tbody><tr><td>0</td><td>33597</td></tr><tr><td>1</td><td>33200</td></tr><tr><td>2</td><td>33203</td></tr></tbody></table></div>"
      ],
      "text/plain": [
       "shape: (3, 2)\n",
       "┌───────┬───────┐\n",
       "│ flags ┆ len   │\n",
       "│ ---   ┆ ---   │\n",
       "│ i32   ┆ u32   │\n",
       "╞═══════╪═══════╡\n",
       "│ 0     ┆ 33597 │\n",
       "│ 1     ┆ 33200 │\n",
       "│ 2     ┆ 33203 │\n",
       "└───────┴───────┘"
      ]
     },
     "execution_count": 6,
     "metadata": {},
     "output_type": "execute_result"
    }
   ],
   "source": [
    "df.group_by(\"flags\").len().sort(\"flags\")"
   ]
  },
  {
   "cell_type": "code",
   "execution_count": 7,
   "metadata": {},
   "outputs": [
    {
     "data": {
      "text/html": [
       "<div><style>\n",
       ".dataframe > thead > tr,\n",
       ".dataframe > tbody > tr {\n",
       "  text-align: right;\n",
       "  white-space: pre-wrap;\n",
       "}\n",
       "</style>\n",
       "<small>shape: (3, 2)</small><table border=\"1\" class=\"dataframe\"><thead><tr><th>flags</th><th>len</th></tr><tr><td>i32</td><td>u32</td></tr></thead><tbody><tr><td>0</td><td>16798</td></tr><tr><td>1</td><td>33200</td></tr><tr><td>2</td><td>33203</td></tr></tbody></table></div>"
      ],
      "text/plain": [
       "shape: (3, 2)\n",
       "┌───────┬───────┐\n",
       "│ flags ┆ len   │\n",
       "│ ---   ┆ ---   │\n",
       "│ i32   ┆ u32   │\n",
       "╞═══════╪═══════╡\n",
       "│ 0     ┆ 16798 │\n",
       "│ 1     ┆ 33200 │\n",
       "│ 2     ┆ 33203 │\n",
       "└───────┴───────┘"
      ]
     },
     "execution_count": 7,
     "metadata": {},
     "output_type": "execute_result"
    }
   ],
   "source": [
    "# Downsample on one group\n",
    "sa1 = ss.downsample(\n",
    "    df, \n",
    "    (pl.col(\"flags\") == 0, 0.5)\n",
    ")\n",
    "sa1.group_by(\"flags\").len().sort(\"flags\")"
   ]
  },
  {
   "cell_type": "code",
   "execution_count": 8,
   "metadata": {},
   "outputs": [
    {
     "data": {
      "text/html": [
       "<div><style>\n",
       ".dataframe > thead > tr,\n",
       ".dataframe > tbody > tr {\n",
       "  text-align: right;\n",
       "  white-space: pre-wrap;\n",
       "}\n",
       "</style>\n",
       "<small>shape: (3, 2)</small><table border=\"1\" class=\"dataframe\"><thead><tr><th>flags</th><th>len</th></tr><tr><td>i32</td><td>u32</td></tr></thead><tbody><tr><td>0</td><td>16798</td></tr><tr><td>1</td><td>9960</td></tr><tr><td>2</td><td>13281</td></tr></tbody></table></div>"
      ],
      "text/plain": [
       "shape: (3, 2)\n",
       "┌───────┬───────┐\n",
       "│ flags ┆ len   │\n",
       "│ ---   ┆ ---   │\n",
       "│ i32   ┆ u32   │\n",
       "╞═══════╪═══════╡\n",
       "│ 0     ┆ 16798 │\n",
       "│ 1     ┆ 9960  │\n",
       "│ 2     ┆ 13281 │\n",
       "└───────┴───────┘"
      ]
     },
     "execution_count": 8,
     "metadata": {},
     "output_type": "execute_result"
    }
   ],
   "source": [
    "# Downsample on multiple groups\n",
    "sa2 = ss.downsample(\n",
    "    df, \n",
    "    (pl.col(\"flags\") == 0, 0.5),\n",
    "    (pl.col(\"flags\") == 1, 0.3),\n",
    "    (pl.col(\"flags\") == 2, 0.4),\n",
    ")\n",
    "sa2.group_by(\"flags\").len().sort(\"flags\")"
   ]
  },
  {
   "cell_type": "code",
   "execution_count": 9,
   "metadata": {},
   "outputs": [
    {
     "data": {
      "text/html": [
       "<div><style>\n",
       ".dataframe > thead > tr,\n",
       ".dataframe > tbody > tr {\n",
       "  text-align: right;\n",
       "  white-space: pre-wrap;\n",
       "}\n",
       "</style>\n",
       "<small>shape: (3, 2)</small><table border=\"1\" class=\"dataframe\"><thead><tr><th>category</th><th>len</th></tr><tr><td>str</td><td>u32</td></tr></thead><tbody><tr><td>&quot;A&quot;</td><td>30000</td></tr><tr><td>&quot;B&quot;</td><td>30000</td></tr><tr><td>&quot;C&quot;</td><td>40000</td></tr></tbody></table></div>"
      ],
      "text/plain": [
       "shape: (3, 2)\n",
       "┌──────────┬───────┐\n",
       "│ category ┆ len   │\n",
       "│ ---      ┆ ---   │\n",
       "│ str      ┆ u32   │\n",
       "╞══════════╪═══════╡\n",
       "│ A        ┆ 30000 │\n",
       "│ B        ┆ 30000 │\n",
       "│ C        ┆ 40000 │\n",
       "└──────────┴───────┘"
      ]
     },
     "execution_count": 9,
     "metadata": {},
     "output_type": "execute_result"
    }
   ],
   "source": [
    "df.group_by(\"category\").len().sort(\"category\")"
   ]
  },
  {
   "cell_type": "code",
   "execution_count": 10,
   "metadata": {},
   "outputs": [
    {
     "data": {
      "text/html": [
       "<div><style>\n",
       ".dataframe > thead > tr,\n",
       ".dataframe > tbody > tr {\n",
       "  text-align: right;\n",
       "  white-space: pre-wrap;\n",
       "}\n",
       "</style>\n",
       "<small>shape: (3, 2)</small><table border=\"1\" class=\"dataframe\"><thead><tr><th>category</th><th>len</th></tr><tr><td>str</td><td>u32</td></tr></thead><tbody><tr><td>&quot;A&quot;</td><td>30000</td></tr><tr><td>&quot;B&quot;</td><td>30000</td></tr><tr><td>&quot;C&quot;</td><td>30000</td></tr></tbody></table></div>"
      ],
      "text/plain": [
       "shape: (3, 2)\n",
       "┌──────────┬───────┐\n",
       "│ category ┆ len   │\n",
       "│ ---      ┆ ---   │\n",
       "│ str      ┆ u32   │\n",
       "╞══════════╪═══════╡\n",
       "│ A        ┆ 30000 │\n",
       "│ B        ┆ 30000 │\n",
       "│ C        ┆ 30000 │\n",
       "└──────────┴───────┘"
      ]
     },
     "execution_count": 10,
     "metadata": {},
     "output_type": "execute_result"
    }
   ],
   "source": [
    "# Volume neutral by each category, will take the greatest possible value so that we get neutral volume.\n",
    "vn = ss.volume_neutral(\n",
    "    df,\n",
    "    by = pl.col(\"category\"),\n",
    ")\n",
    "vn.group_by(\"category\").len().sort(\"category\")"
   ]
  },
  {
   "cell_type": "code",
   "execution_count": 11,
   "metadata": {},
   "outputs": [
    {
     "data": {
      "text/html": [
       "<div><style>\n",
       ".dataframe > thead > tr,\n",
       ".dataframe > tbody > tr {\n",
       "  text-align: right;\n",
       "  white-space: pre-wrap;\n",
       "}\n",
       "</style>\n",
       "<small>shape: (3, 2)</small><table border=\"1\" class=\"dataframe\"><thead><tr><th>category</th><th>len</th></tr><tr><td>str</td><td>u32</td></tr></thead><tbody><tr><td>&quot;A&quot;</td><td>10000</td></tr><tr><td>&quot;B&quot;</td><td>10000</td></tr><tr><td>&quot;C&quot;</td><td>10000</td></tr></tbody></table></div>"
      ],
      "text/plain": [
       "shape: (3, 2)\n",
       "┌──────────┬───────┐\n",
       "│ category ┆ len   │\n",
       "│ ---      ┆ ---   │\n",
       "│ str      ┆ u32   │\n",
       "╞══════════╪═══════╡\n",
       "│ A        ┆ 10000 │\n",
       "│ B        ┆ 10000 │\n",
       "│ C        ┆ 10000 │\n",
       "└──────────┴───────┘"
      ]
     },
     "execution_count": 11,
     "metadata": {},
     "output_type": "execute_result"
    }
   ],
   "source": [
    "# Volume neutral (10_000) by each category\n",
    "vn = ss.volume_neutral(\n",
    "    df,\n",
    "    by = pl.col(\"category\"),\n",
    "    target_volume = 10_000\n",
    ")\n",
    "vn.group_by(\"category\").len().sort(\"category\")"
   ]
  },
  {
   "cell_type": "code",
   "execution_count": 12,
   "metadata": {},
   "outputs": [
    {
     "data": {
      "text/html": [
       "<div><style>\n",
       ".dataframe > thead > tr,\n",
       ".dataframe > tbody > tr {\n",
       "  text-align: right;\n",
       "  white-space: pre-wrap;\n",
       "}\n",
       "</style>\n",
       "<small>shape: (3, 2)</small><table border=\"1\" class=\"dataframe\"><thead><tr><th>category</th><th>len</th></tr><tr><td>str</td><td>u32</td></tr></thead><tbody><tr><td>&quot;A&quot;</td><td>10000</td></tr><tr><td>&quot;B&quot;</td><td>4301</td></tr><tr><td>&quot;C&quot;</td><td>5699</td></tr></tbody></table></div>"
      ],
      "text/plain": [
       "shape: (3, 2)\n",
       "┌──────────┬───────┐\n",
       "│ category ┆ len   │\n",
       "│ ---      ┆ ---   │\n",
       "│ str      ┆ u32   │\n",
       "╞══════════╪═══════╡\n",
       "│ A        ┆ 10000 │\n",
       "│ B        ┆ 4301  │\n",
       "│ C        ┆ 5699  │\n",
       "└──────────┴───────┘"
      ]
     },
     "execution_count": 12,
     "metadata": {},
     "output_type": "execute_result"
    }
   ],
   "source": [
    "# Volume neutral (10_000) by a more complicated condition\n",
    "vn = ss.volume_neutral(\n",
    "    df,\n",
    "    by = pl.col(\"category\") == \"A\",\n",
    "    target_volume = 10_000\n",
    ") # This makes sense because count for B + count for C = 10_000\n",
    "vn.group_by(\"category\").len().sort(\"category\")"
   ]
  },
  {
   "cell_type": "code",
   "execution_count": 13,
   "metadata": {},
   "outputs": [
    {
     "data": {
      "text/html": [
       "<div><style>\n",
       ".dataframe > thead > tr,\n",
       ".dataframe > tbody > tr {\n",
       "  text-align: right;\n",
       "  white-space: pre-wrap;\n",
       "}\n",
       "</style>\n",
       "<small>shape: (9, 3)</small><table border=\"1\" class=\"dataframe\"><thead><tr><th>category</th><th>flags</th><th>len</th></tr><tr><td>str</td><td>i32</td><td>u32</td></tr></thead><tbody><tr><td>&quot;A&quot;</td><td>0</td><td>9860</td></tr><tr><td>&quot;A&quot;</td><td>1</td><td>9860</td></tr><tr><td>&quot;A&quot;</td><td>2</td><td>9860</td></tr><tr><td>&quot;B&quot;</td><td>0</td><td>9953</td></tr><tr><td>&quot;B&quot;</td><td>1</td><td>9953</td></tr><tr><td>&quot;B&quot;</td><td>2</td><td>9953</td></tr><tr><td>&quot;C&quot;</td><td>0</td><td>13203</td></tr><tr><td>&quot;C&quot;</td><td>1</td><td>13203</td></tr><tr><td>&quot;C&quot;</td><td>2</td><td>13203</td></tr></tbody></table></div>"
      ],
      "text/plain": [
       "shape: (9, 3)\n",
       "┌──────────┬───────┬───────┐\n",
       "│ category ┆ flags ┆ len   │\n",
       "│ ---      ┆ ---   ┆ ---   │\n",
       "│ str      ┆ i32   ┆ u32   │\n",
       "╞══════════╪═══════╪═══════╡\n",
       "│ A        ┆ 0     ┆ 9860  │\n",
       "│ A        ┆ 1     ┆ 9860  │\n",
       "│ A        ┆ 2     ┆ 9860  │\n",
       "│ B        ┆ 0     ┆ 9953  │\n",
       "│ B        ┆ 1     ┆ 9953  │\n",
       "│ B        ┆ 2     ┆ 9953  │\n",
       "│ C        ┆ 0     ┆ 13203 │\n",
       "│ C        ┆ 1     ┆ 13203 │\n",
       "│ C        ┆ 2     ┆ 13203 │\n",
       "└──────────┴───────┴───────┘"
      ]
     },
     "execution_count": 13,
     "metadata": {},
     "output_type": "execute_result"
    }
   ],
   "source": [
    "# Volume neutral sample with a control level. Volume neutral happens under the category level, meaning\n",
    "# the volume for each flag in each category is neutral.\n",
    "vn = ss.volume_neutral(\n",
    "    df,\n",
    "    by = pl.col(\"flags\"),\n",
    "    control = pl.col(\"category\")\n",
    ") \n",
    "vn.group_by([\"category\", \"flags\"]).len().sort([\"category\", \"flags\"])"
   ]
  },
  {
   "cell_type": "code",
   "execution_count": 14,
   "metadata": {},
   "outputs": [
    {
     "data": {
      "text/html": [
       "<div><style>\n",
       ".dataframe > thead > tr,\n",
       ".dataframe > tbody > tr {\n",
       "  text-align: right;\n",
       "  white-space: pre-wrap;\n",
       "}\n",
       "</style>\n",
       "<small>shape: (9, 3)</small><table border=\"1\" class=\"dataframe\"><thead><tr><th>category</th><th>flags</th><th>len</th></tr><tr><td>str</td><td>i32</td><td>u32</td></tr></thead><tbody><tr><td>&quot;A&quot;</td><td>0</td><td>9860</td></tr><tr><td>&quot;A&quot;</td><td>1</td><td>9860</td></tr><tr><td>&quot;A&quot;</td><td>2</td><td>9860</td></tr><tr><td>&quot;B&quot;</td><td>0</td><td>9953</td></tr><tr><td>&quot;B&quot;</td><td>1</td><td>9953</td></tr><tr><td>&quot;B&quot;</td><td>2</td><td>9953</td></tr><tr><td>&quot;C&quot;</td><td>0</td><td>10000</td></tr><tr><td>&quot;C&quot;</td><td>1</td><td>10000</td></tr><tr><td>&quot;C&quot;</td><td>2</td><td>10000</td></tr></tbody></table></div>"
      ],
      "text/plain": [
       "shape: (9, 3)\n",
       "┌──────────┬───────┬───────┐\n",
       "│ category ┆ flags ┆ len   │\n",
       "│ ---      ┆ ---   ┆ ---   │\n",
       "│ str      ┆ i32   ┆ u32   │\n",
       "╞══════════╪═══════╪═══════╡\n",
       "│ A        ┆ 0     ┆ 9860  │\n",
       "│ A        ┆ 1     ┆ 9860  │\n",
       "│ A        ┆ 2     ┆ 9860  │\n",
       "│ B        ┆ 0     ┆ 9953  │\n",
       "│ B        ┆ 1     ┆ 9953  │\n",
       "│ B        ┆ 2     ┆ 9953  │\n",
       "│ C        ┆ 0     ┆ 10000 │\n",
       "│ C        ┆ 1     ┆ 10000 │\n",
       "│ C        ┆ 2     ┆ 10000 │\n",
       "└──────────┴───────┴───────┘"
      ]
     },
     "execution_count": 14,
     "metadata": {},
     "output_type": "execute_result"
    }
   ],
   "source": [
    "# We may not meet the target volume for all categories.\n",
    "vn = ss.volume_neutral(\n",
    "    df,\n",
    "    by = pl.col(\"flags\"),\n",
    "    control = pl.col(\"category\"),\n",
    "    target_volume= 10_000\n",
    ") # \n",
    "vn.group_by([\"category\", \"flags\"]).len().sort([\"category\", \"flags\"])"
   ]
  },
  {
   "cell_type": "markdown",
   "metadata": {},
   "source": [
    "## Splitting\n",
    "\n",
    "Split by ratios."
   ]
  },
  {
   "cell_type": "code",
   "execution_count": 15,
   "metadata": {},
   "outputs": [
    {
     "data": {
      "text/html": [
       "<div><style>\n",
       ".dataframe > thead > tr,\n",
       ".dataframe > tbody > tr {\n",
       "  text-align: right;\n",
       "  white-space: pre-wrap;\n",
       "}\n",
       "</style>\n",
       "<small>shape: (2, 2)</small><table border=\"1\" class=\"dataframe\"><thead><tr><th>my_splits</th><th>cnt</th></tr><tr><td>str</td><td>u32</td></tr></thead><tbody><tr><td>&quot;test&quot;</td><td>40000</td></tr><tr><td>&quot;train&quot;</td><td>60000</td></tr></tbody></table></div>"
      ],
      "text/plain": [
       "shape: (2, 2)\n",
       "┌───────────┬───────┐\n",
       "│ my_splits ┆ cnt   │\n",
       "│ ---       ┆ ---   │\n",
       "│ str       ┆ u32   │\n",
       "╞═══════════╪═══════╡\n",
       "│ test      ┆ 40000 │\n",
       "│ train     ┆ 60000 │\n",
       "└───────────┴───────┘"
      ]
     },
     "execution_count": 15,
     "metadata": {},
     "output_type": "execute_result"
    }
   ],
   "source": [
    "df_with_splits = ss.split_by_ratio(\n",
    "    df,\n",
    "    split_ratio = 0.6,\n",
    "    split_col = \"my_splits\"\n",
    ")\n",
    "df_with_splits.group_by(\"my_splits\").agg(\n",
    "    cnt = pl.len()\n",
    ")\n"
   ]
  },
  {
   "cell_type": "code",
   "execution_count": 16,
   "metadata": {},
   "outputs": [
    {
     "data": {
      "text/html": [
       "<div><style>\n",
       ".dataframe > thead > tr,\n",
       ".dataframe > tbody > tr {\n",
       "  text-align: right;\n",
       "  white-space: pre-wrap;\n",
       "}\n",
       "</style>\n",
       "<small>shape: (4, 2)</small><table border=\"1\" class=\"dataframe\"><thead><tr><th>my_splits</th><th>cnt</th></tr><tr><td>str</td><td>u32</td></tr></thead><tbody><tr><td>&quot;split_0&quot;</td><td>25000</td></tr><tr><td>&quot;split_1&quot;</td><td>40000</td></tr><tr><td>&quot;split_2&quot;</td><td>10000</td></tr><tr><td>&quot;split_3&quot;</td><td>25000</td></tr></tbody></table></div>"
      ],
      "text/plain": [
       "shape: (4, 2)\n",
       "┌───────────┬───────┐\n",
       "│ my_splits ┆ cnt   │\n",
       "│ ---       ┆ ---   │\n",
       "│ str       ┆ u32   │\n",
       "╞═══════════╪═══════╡\n",
       "│ split_0   ┆ 25000 │\n",
       "│ split_1   ┆ 40000 │\n",
       "│ split_2   ┆ 10000 │\n",
       "│ split_3   ┆ 25000 │\n",
       "└───────────┴───────┘"
      ]
     },
     "execution_count": 16,
     "metadata": {},
     "output_type": "execute_result"
    }
   ],
   "source": [
    "df_with_splits = ss.split_by_ratio(\n",
    "    df, \n",
    "    split_ratio = [0.25, 0.4, 0.10, 0.25],\n",
    "    split_col = \"my_splits\"\n",
    ")\n",
    "df_with_splits.group_by(\"my_splits\").agg(\n",
    "    cnt = pl.len()\n",
    ").sort(\"my_splits\")"
   ]
  },
  {
   "cell_type": "code",
   "execution_count": 17,
   "metadata": {},
   "outputs": [
    {
     "data": {
      "text/html": [
       "<div><style>\n",
       ".dataframe > thead > tr,\n",
       ".dataframe > tbody > tr {\n",
       "  text-align: right;\n",
       "  white-space: pre-wrap;\n",
       "}\n",
       "</style>\n",
       "<small>shape: (4, 2)</small><table border=\"1\" class=\"dataframe\"><thead><tr><th>my_splits</th><th>cnt</th></tr><tr><td>str</td><td>u32</td></tr></thead><tbody><tr><td>&quot;test&quot;</td><td>30000</td></tr><tr><td>&quot;train&quot;</td><td>60000</td></tr><tr><td>&quot;validation1&quot;</td><td>5000</td></tr><tr><td>&quot;validation2&quot;</td><td>5000</td></tr></tbody></table></div>"
      ],
      "text/plain": [
       "shape: (4, 2)\n",
       "┌─────────────┬───────┐\n",
       "│ my_splits   ┆ cnt   │\n",
       "│ ---         ┆ ---   │\n",
       "│ str         ┆ u32   │\n",
       "╞═════════════╪═══════╡\n",
       "│ test        ┆ 30000 │\n",
       "│ train       ┆ 60000 │\n",
       "│ validation1 ┆ 5000  │\n",
       "│ validation2 ┆ 5000  │\n",
       "└─────────────┴───────┘"
      ]
     },
     "execution_count": 17,
     "metadata": {},
     "output_type": "execute_result"
    }
   ],
   "source": [
    "df_with_splits = ss.split_by_ratio(\n",
    "    df, \n",
    "    split_ratio = {'train': 0.6, 'test': 0.3, 'validation1': 0.05, 'validation2': 0.05},\n",
    "    split_col = \"my_splits\"\n",
    ")\n",
    "\n",
    "df_with_splits.group_by(\"my_splits\").agg(\n",
    "    cnt = pl.len()\n",
    ").sort(\"my_splits\")"
   ]
  },
  {
   "cell_type": "code",
   "execution_count": 18,
   "metadata": {},
   "outputs": [
    {
     "data": {
      "text/html": [
       "<div><style>\n",
       ".dataframe > thead > tr,\n",
       ".dataframe > tbody > tr {\n",
       "  text-align: right;\n",
       "  white-space: pre-wrap;\n",
       "}\n",
       "</style>\n",
       "<small>shape: (5, 9)</small><table border=\"1\" class=\"dataframe\"><thead><tr><th>my_splits</th><th>row_num</th><th>uniform_1</th><th>uniform_2</th><th>exp</th><th>normal</th><th>fat_normal</th><th>flags</th><th>category</th></tr><tr><td>str</td><td>i64</td><td>f64</td><td>f64</td><td>f64</td><td>f64</td><td>f64</td><td>i32</td><td>str</td></tr></thead><tbody><tr><td>&quot;train&quot;</td><td>10311</td><td>4.147665</td><td>0.907098</td><td>4.370451</td><td>0.130662</td><td>-75.323041</td><td>1</td><td>&quot;A&quot;</td></tr><tr><td>&quot;train&quot;</td><td>8991</td><td>5.71963</td><td>0.588056</td><td>3.670106</td><td>-0.051855</td><td>1234.284869</td><td>1</td><td>&quot;A&quot;</td></tr><tr><td>&quot;train&quot;</td><td>63140</td><td>6.902809</td><td>0.885146</td><td>2.477001</td><td>0.692887</td><td>-583.215671</td><td>1</td><td>&quot;C&quot;</td></tr><tr><td>&quot;train&quot;</td><td>72456</td><td>0.944483</td><td>0.984328</td><td>0.607009</td><td>-0.828894</td><td>-2269.310795</td><td>1</td><td>&quot;C&quot;</td></tr><tr><td>&quot;train&quot;</td><td>92763</td><td>5.747988</td><td>0.286253</td><td>3.47296</td><td>0.078784</td><td>-763.826196</td><td>2</td><td>&quot;C&quot;</td></tr></tbody></table></div>"
      ],
      "text/plain": [
       "shape: (5, 9)\n",
       "┌───────────┬─────────┬───────────┬───────────┬───┬───────────┬──────────────┬───────┬──────────┐\n",
       "│ my_splits ┆ row_num ┆ uniform_1 ┆ uniform_2 ┆ … ┆ normal    ┆ fat_normal   ┆ flags ┆ category │\n",
       "│ ---       ┆ ---     ┆ ---       ┆ ---       ┆   ┆ ---       ┆ ---          ┆ ---   ┆ ---      │\n",
       "│ str       ┆ i64     ┆ f64       ┆ f64       ┆   ┆ f64       ┆ f64          ┆ i32   ┆ str      │\n",
       "╞═══════════╪═════════╪═══════════╪═══════════╪═══╪═══════════╪══════════════╪═══════╪══════════╡\n",
       "│ train     ┆ 10311   ┆ 4.147665  ┆ 0.907098  ┆ … ┆ 0.130662  ┆ -75.323041   ┆ 1     ┆ A        │\n",
       "│ train     ┆ 8991    ┆ 5.71963   ┆ 0.588056  ┆ … ┆ -0.051855 ┆ 1234.284869  ┆ 1     ┆ A        │\n",
       "│ train     ┆ 63140   ┆ 6.902809  ┆ 0.885146  ┆ … ┆ 0.692887  ┆ -583.215671  ┆ 1     ┆ C        │\n",
       "│ train     ┆ 72456   ┆ 0.944483  ┆ 0.984328  ┆ … ┆ -0.828894 ┆ -2269.310795 ┆ 1     ┆ C        │\n",
       "│ train     ┆ 92763   ┆ 5.747988  ┆ 0.286253  ┆ … ┆ 0.078784  ┆ -763.826196  ┆ 2     ┆ C        │\n",
       "└───────────┴─────────┴───────────┴───────────┴───┴───────────┴──────────────┴───────┴──────────┘"
      ]
     },
     "execution_count": 18,
     "metadata": {},
     "output_type": "execute_result"
    }
   ],
   "source": [
    "df_with_splits.head()"
   ]
  },
  {
   "cell_type": "code",
   "execution_count": 19,
   "metadata": {},
   "outputs": [
    {
     "data": {
      "text/html": [
       "<div><style>\n",
       ".dataframe > thead > tr,\n",
       ".dataframe > tbody > tr {\n",
       "  text-align: right;\n",
       "  white-space: pre-wrap;\n",
       "}\n",
       "</style>\n",
       "<small>shape: (6, 4)</small><table border=\"1\" class=\"dataframe\"><thead><tr><th>category</th><th>my_splits</th><th>cnt</th><th>pct_in_category</th></tr><tr><td>str</td><td>str</td><td>u32</td><td>f64</td></tr></thead><tbody><tr><td>&quot;A&quot;</td><td>&quot;test&quot;</td><td>12000</td><td>0.4</td></tr><tr><td>&quot;A&quot;</td><td>&quot;train&quot;</td><td>18000</td><td>0.6</td></tr><tr><td>&quot;B&quot;</td><td>&quot;test&quot;</td><td>12000</td><td>0.4</td></tr><tr><td>&quot;B&quot;</td><td>&quot;train&quot;</td><td>18000</td><td>0.6</td></tr><tr><td>&quot;C&quot;</td><td>&quot;test&quot;</td><td>16000</td><td>0.4</td></tr><tr><td>&quot;C&quot;</td><td>&quot;train&quot;</td><td>24000</td><td>0.6</td></tr></tbody></table></div>"
      ],
      "text/plain": [
       "shape: (6, 4)\n",
       "┌──────────┬───────────┬───────┬─────────────────┐\n",
       "│ category ┆ my_splits ┆ cnt   ┆ pct_in_category │\n",
       "│ ---      ┆ ---       ┆ ---   ┆ ---             │\n",
       "│ str      ┆ str       ┆ u32   ┆ f64             │\n",
       "╞══════════╪═══════════╪═══════╪═════════════════╡\n",
       "│ A        ┆ test      ┆ 12000 ┆ 0.4             │\n",
       "│ A        ┆ train     ┆ 18000 ┆ 0.6             │\n",
       "│ B        ┆ test      ┆ 12000 ┆ 0.4             │\n",
       "│ B        ┆ train     ┆ 18000 ┆ 0.6             │\n",
       "│ C        ┆ test      ┆ 16000 ┆ 0.4             │\n",
       "│ C        ┆ train     ┆ 24000 ┆ 0.6             │\n",
       "└──────────┴───────────┴───────┴─────────────────┘"
      ]
     },
     "execution_count": 19,
     "metadata": {},
     "output_type": "execute_result"
    }
   ],
   "source": [
    "# Split with stratify\n",
    "df_with_splits = ss.split_by_ratio(\n",
    "    df,\n",
    "    split_ratio = 0.6,\n",
    "    split_col = \"my_splits\",\n",
    "    by = \"category\",\n",
    "    default_split_1 = \"train\",\n",
    "    default_split_2 = \"test\"\n",
    ")\n",
    "df_with_splits.group_by([\"category\", \"my_splits\"]).agg(\n",
    "    cnt = pl.len()\n",
    ").with_columns(\n",
    "    pct_in_category = pl.col(\"cnt\") / pl.col(\"cnt\").sum().over(\"category\")\n",
    ").sort([\"category\", \"my_splits\"])\n",
    "\n"
   ]
  },
  {
   "cell_type": "code",
   "execution_count": null,
   "metadata": {},
   "outputs": [],
   "source": []
  },
  {
   "cell_type": "code",
   "execution_count": 20,
   "metadata": {},
   "outputs": [],
   "source": [
    "# If you need to do work with the splits individually\n",
    "# you can filter, or use .partition_by(\"my_splits\") to get separated dataframes"
   ]
  }
 ],
 "metadata": {
  "kernelspec": {
   "display_name": ".venv (3.13.3)",
   "language": "python",
   "name": "python3"
  },
  "language_info": {
   "codemirror_mode": {
    "name": "ipython",
    "version": 3
   },
   "file_extension": ".py",
   "mimetype": "text/x-python",
   "name": "python",
   "nbconvert_exporter": "python",
   "pygments_lexer": "ipython3",
   "version": "3.13.3"
  }
 },
 "nbformat": 4,
 "nbformat_minor": 2
}
