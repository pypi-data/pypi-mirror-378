{
 "cells": [
  {
   "cell_type": "markdown",
   "id": "2057c607",
   "metadata": {},
   "source": [
    "# Ariel data challenge model evaluation"
   ]
  }
 ],
 "metadata": {
  "language_info": {
   "name": "python"
  }
 },
 "nbformat": 4,
 "nbformat_minor": 5
}
