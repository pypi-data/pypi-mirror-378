{
 "cells": [
  {
   "cell_type": "markdown",
   "id": "880ec6e0",
   "metadata": {
    "papermill": {
     "duration": 0.002389,
     "end_time": "2025-09-21T13:08:30.566063",
     "exception": false,
     "start_time": "2025-09-21T13:08:30.563674",
     "status": "completed"
    },
    "tags": []
   },
   "source": [
    "# Ariel data challenge model training\n",
    "\n",
    "## 1. Notebooks set up"
   ]
  },
  {
   "cell_type": "code",
   "execution_count": 1,
   "id": "14e6ffc9",
   "metadata": {
    "execution": {
     "iopub.execute_input": "2025-09-21T13:08:30.571348Z",
     "iopub.status.busy": "2025-09-21T13:08:30.570940Z",
     "iopub.status.idle": "2025-09-21T13:08:33.867775Z",
     "shell.execute_reply": "2025-09-21T13:08:33.866508Z"
    },
    "papermill": {
     "duration": 3.302377,
     "end_time": "2025-09-21T13:08:33.870430",
     "exception": false,
     "start_time": "2025-09-21T13:08:30.568053",
     "status": "completed"
    },
    "tags": []
   },
   "outputs": [],
   "source": [
    "# Standard library imports\n",
    "import random\n",
    "import time\n",
    "\n",
    "# Project imports\n",
    "from ariel_data_preprocessing.data_preprocessing import DataProcessor\n",
    "\n",
    "# Globals\n",
    "MODE = 'train'\n",
    "INPUT_DIRECTORY = '/kaggle/input/ariel-data-challenge-2025'\n",
    "WORKING_DIRECTORY = '/kaggle/working'\n",
    "DATA_FILE = 'train.h5'\n",
    "WAVELENGTHS = 283 # Number of wavelength indicies\n",
    "SAMPLE_SIZE = 883 # Number of captures per sample\n",
    "SAMPLES = 10      # Number of sample to draw per planet\n",
    "N_CPUS = 3\n",
    "N_PLANETS = -1"
   ]
  },
  {
   "cell_type": "markdown",
   "id": "2bd6866e",
   "metadata": {
    "papermill": {
     "duration": 0.001428,
     "end_time": "2025-09-21T13:08:33.874029",
     "exception": false,
     "start_time": "2025-09-21T13:08:33.872601",
     "status": "completed"
    },
    "tags": []
   },
   "source": [
    "## 2. Data preparation¶\n",
    "### 2.1. Preprocess the raw data"
   ]
  },
  {
   "cell_type": "code",
   "execution_count": 2,
   "id": "16054e67",
   "metadata": {
    "execution": {
     "iopub.execute_input": "2025-09-21T13:08:33.879091Z",
     "iopub.status.busy": "2025-09-21T13:08:33.878655Z",
     "iopub.status.idle": "2025-09-21T18:07:12.873431Z",
     "shell.execute_reply": "2025-09-21T18:07:12.868094Z"
    },
    "papermill": {
     "duration": 17919.049584,
     "end_time": "2025-09-21T18:07:12.925381",
     "exception": false,
     "start_time": "2025-09-21T13:08:33.875797",
     "status": "completed"
    },
    "tags": []
   },
   "outputs": [
    {
     "name": "stdout",
     "output_type": "stream",
     "text": [
      "Finished data preprocessing in 4.98 hours\n"
     ]
    }
   ],
   "source": [
    "start_time = time.time()\n",
    "\n",
    "data_processor = DataProcessor(\n",
    "    input_data_path=INPUT_DIRECTORY,\n",
    "    output_data_path=WORKING_DIRECTORY,\n",
    "    output_filename=DATA_FILE,\n",
    "    n_cpus=N_CPUS,\n",
    "    downsample_fgs=True,\n",
    "    n_planets=N_PLANETS,\n",
    "    mode=MODE\n",
    ")\n",
    "\n",
    "data_processor.run()\n",
    "\n",
    "print(f'Finished data preprocessing in {(time.time() - start_time) / (60 * 60):.2f} hours')"
   ]
  }
 ],
 "metadata": {
  "kaggle": {
   "accelerator": "none",
   "dataSources": [
    {
     "databundleVersionId": 13093295,
     "sourceId": 101849,
     "sourceType": "competition"
    }
   ],
   "dockerImageVersionId": 31089,
   "isGpuEnabled": false,
   "isInternetEnabled": true,
   "language": "python",
   "sourceType": "notebook"
  },
  "kernelspec": {
   "display_name": "Python 3",
   "language": "python",
   "name": "python3"
  },
  "language_info": {
   "codemirror_mode": {
    "name": "ipython",
    "version": 3
   },
   "file_extension": ".py",
   "mimetype": "text/x-python",
   "name": "python",
   "nbconvert_exporter": "python",
   "pygments_lexer": "ipython3",
   "version": "3.11.13"
  },
  "papermill": {
   "default_parameters": {},
   "duration": 17931.983624,
   "end_time": "2025-09-21T18:07:16.017211",
   "environment_variables": {},
   "exception": null,
   "input_path": "__notebook__.ipynb",
   "output_path": "__notebook__.ipynb",
   "parameters": {},
   "start_time": "2025-09-21T13:08:24.033587",
   "version": "2.6.0"
  }
 },
 "nbformat": 4,
 "nbformat_minor": 5
}
