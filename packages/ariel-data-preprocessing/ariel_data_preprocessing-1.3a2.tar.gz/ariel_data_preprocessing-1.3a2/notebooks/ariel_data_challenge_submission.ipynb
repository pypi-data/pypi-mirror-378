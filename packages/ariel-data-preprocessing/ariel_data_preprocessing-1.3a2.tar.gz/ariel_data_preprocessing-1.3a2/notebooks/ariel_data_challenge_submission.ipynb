{
 "cells": [
  {
   "cell_type": "markdown",
   "id": "7ab9b32b",
   "metadata": {},
   "source": [
    "# Ariel data challenge submission"
   ]
  }
 ],
 "metadata": {
  "language_info": {
   "name": "python"
  }
 },
 "nbformat": 4,
 "nbformat_minor": 5
}
