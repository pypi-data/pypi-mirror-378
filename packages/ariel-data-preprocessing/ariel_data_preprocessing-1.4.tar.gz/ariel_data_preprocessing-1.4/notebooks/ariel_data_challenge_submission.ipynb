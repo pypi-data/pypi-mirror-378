{
 "cells": [
  {
   "cell_type": "markdown",
   "id": "7ab9b32b",
   "metadata": {},
   "source": [
    "# Ariel data challenge submission\n",
    "\n",
    "## 1. Notebook set up"
   ]
  },
  {
   "cell_type": "code",
   "execution_count": null,
   "id": "0ff23202-ae87-4f5c-8c0a-486570d42d58",
   "metadata": {
    "execution": {
     "iopub.execute_input": "2025-09-21T03:31:38.752880Z",
     "iopub.status.busy": "2025-09-21T03:31:38.752326Z",
     "iopub.status.idle": "2025-09-21T03:31:38.761520Z",
     "shell.execute_reply": "2025-09-21T03:31:38.760078Z",
     "shell.execute_reply.started": "2025-09-21T03:31:38.752835Z"
    },
    "trusted": true
   },
   "outputs": [
    {
     "name": "stdout",
     "output_type": "stream",
     "text": [
      "Working directory: /mnt/arkk/kaggle/ariel-data-challenge\n"
     ]
    }
   ],
   "source": [
    "# Set notebook root to project root\n",
    "from helper_functions import set_project_root\n",
    "set_project_root()\n",
    "\n",
    "# Standard library imports\n",
    "import os\n",
    "import time\n",
    "\n",
    "# Third party imports\n",
    "import numpy as np\n",
    "import pandas as pd\n",
    "import tensorflow as tf\n",
    "\n",
    "# Project imports\n",
    "from ariel_data_preprocessing.data_preprocessing import DataProcessor\n",
    "\n",
    "mode = 'testing'\n",
    "\n",
    "if mode == 'testing':\n",
    "    os.environ['CUDA_VISIBLE_DEVICES'] = '0'\n",
    "    INPUT_DIRECTORY = 'data/raw'\n",
    "    OUTPUT_DIRECTORY = 'data/processed'\n",
    "    REBUILD_DATA = True\n",
    "    N_PLANETS = 10\n",
    "    MODEL = 'data/models/ariel-cnn-8.1M-2ksteps-tf2.11.keras'"
   ]
  },
  {
   "cell_type": "markdown",
   "id": "a9ea7cf3-07c1-4455-9f5d-7edd0aba475c",
   "metadata": {},
   "source": [
    "## 2. Data preparation\n",
    "\n",
    "### 2.1. Preprocess the raw data"
   ]
  },
  {
   "cell_type": "code",
   "execution_count": 2,
   "id": "9e3e8e70-6752-4ed1-85d7-9dab6171fc97",
   "metadata": {
    "execution": {
     "iopub.execute_input": "2025-09-21T03:05:51.251396Z",
     "iopub.status.busy": "2025-09-21T03:05:51.250803Z",
     "iopub.status.idle": "2025-09-21T03:26:58.694143Z",
     "shell.execute_reply": "2025-09-21T03:26:58.688390Z",
     "shell.execute_reply.started": "2025-09-21T03:05:51.251366Z"
    },
    "trusted": true
   },
   "outputs": [],
   "source": [
    "data_processor = DataProcessor(\n",
    "    input_data_path=INPUT_DIRECTORY,\n",
    "    output_data_path=OUTPUT_DIRECTORY,\n",
    "    output_filename='test.h5',\n",
    "    n_cpus=4,\n",
    "    downsample_fgs=True,\n",
    "    n_planets=N_PLANETS,\n",
    "    mode='test'\n",
    ")"
   ]
  },
  {
   "cell_type": "code",
   "execution_count": 3,
   "id": "6581bf6d",
   "metadata": {},
   "outputs": [
    {
     "name": "stdout",
     "output_type": "stream",
     "text": [
      "Data preprocessing completed in 1.25 minutes\n"
     ]
    }
   ],
   "source": [
    "if REBUILD_DATA:\n",
    "    start_time = time.time()\n",
    "    data_processor.run()\n",
    "    end_time = time.time()\n",
    "\n",
    "    print(f'Data preprocessing completed in {(end_time - start_time)/60:.2f} minutes')"
   ]
  },
  {
   "cell_type": "code",
   "execution_count": 4,
   "id": "add9b78c",
   "metadata": {},
   "outputs": [
    {
     "name": "stdout",
     "output_type": "stream",
     "text": [
      "Total test planets: 10\n"
     ]
    }
   ],
   "source": [
    "print(f'Total test planets: {len(data_processor.planet_list)}')"
   ]
  },
  {
   "cell_type": "markdown",
   "id": "00475a7f-5a15-400d-a6ec-09cf0830e615",
   "metadata": {},
   "source": [
    "### 2.2. Initialize data generator"
   ]
  },
  {
   "cell_type": "code",
   "execution_count": 5,
   "id": "c9d0a8b2-4ef5-48bd-9f89-6ca3d64d26c0",
   "metadata": {
    "trusted": true
   },
   "outputs": [
    {
     "name": "stderr",
     "output_type": "stream",
     "text": [
      "2025-09-22 18:30:05.180365: I tensorflow/core/common_runtime/gpu/gpu_device.cc:1613] Created device /job:localhost/replica:0/task:0/device:GPU:0 with 6669 MB memory:  -> device: 0, name: NVIDIA GeForce GTX 1070, pci bus id: 0000:07:00.0, compute capability: 6.1\n"
     ]
    }
   ],
   "source": [
    "data_processor.initialize_data_generators(\n",
    "    sample_size=372,\n",
    "    n_samples=10\n",
    ")"
   ]
  },
  {
   "cell_type": "markdown",
   "id": "9f1e8c9b",
   "metadata": {},
   "source": [
    "### 2.3. Create dataset"
   ]
  },
  {
   "cell_type": "code",
   "execution_count": 6,
   "id": "1e204970",
   "metadata": {},
   "outputs": [
    {
     "name": "stdout",
     "output_type": "stream",
     "text": [
      "Signals shape: (10, 10, 372, 283)\n"
     ]
    }
   ],
   "source": [
    "testing_data = data_processor.testing.take(len(data_processor.planet_list))\n",
    "signals = np.array([element.numpy() for element in testing_data])\n",
    "\n",
    "print(f'Signals shape: {signals.shape}')"
   ]
  },
  {
   "cell_type": "markdown",
   "id": "738865de-fcb1-409a-9fd0-c485ade40ae1",
   "metadata": {},
   "source": [
    "## 3. Predictions"
   ]
  },
  {
   "cell_type": "code",
   "execution_count": 7,
   "id": "d55ed0cc-9393-435e-9785-3712532cd835",
   "metadata": {
    "trusted": true
   },
   "outputs": [
    {
     "name": "stderr",
     "output_type": "stream",
     "text": [
      "2025-09-22 18:30:07.106924: I tensorflow/compiler/xla/stream_executor/cuda/cuda_dnn.cc:428] Loaded cuDNN version 8200\n"
     ]
    },
    {
     "name": "stdout",
     "output_type": "stream",
     "text": [
      "Spectrum predictions shape: (10, 10, 283)\n",
      "Spectrum predictions avg shape: (10, 283)\n",
      "Spectrum predictions std shape: (10, 283)\n"
     ]
    }
   ],
   "source": [
    "model = tf.keras.models.load_model(MODEL)\n",
    "\n",
    "spectrum_predictions = []\n",
    "\n",
    "for planet in signals:\n",
    "    spectrum_predictions.append(model.predict(planet, batch_size=10, verbose=0))\n",
    "\n",
    "spectrum_predictions = np.array(spectrum_predictions)\n",
    "spectrum_predictions_avg = np.mean(spectrum_predictions, axis=1)\n",
    "spectrum_predictions_std = np.std(spectrum_predictions, axis=1)\n",
    "\n",
    "print(f'Spectrum predictions shape: {spectrum_predictions.shape}')\n",
    "print(f'Spectrum predictions avg shape: {spectrum_predictions_avg.shape}')\n",
    "print(f'Spectrum predictions std shape: {spectrum_predictions_std.shape}')"
   ]
  },
  {
   "cell_type": "markdown",
   "id": "ad8fcef7",
   "metadata": {},
   "source": [
    "## 4. Submission file"
   ]
  },
  {
   "cell_type": "code",
   "execution_count": null,
   "id": "7b0eeaa8",
   "metadata": {},
   "outputs": [
    {
     "name": "stdout",
     "output_type": "stream",
     "text": [
      "Submission shape: (10, 566)\n"
     ]
    }
   ],
   "source": [
    "submission = np.concatenate(\n",
    "    (spectrum_predictions_avg, spectrum_predictions_std),\n",
    "    axis=1\n",
    ")\n",
    "\n",
    "submission_df = pd.DataFrame(submission)\n",
    "submission_df.index = data_processor.planet_list\n",
    "submission_df.to_csv('data/submission.csv', header=False)\n",
    "\n",
    "print(f'Submission shape: {submission.shape}')"
   ]
  }
 ],
 "metadata": {
  "kernelspec": {
   "display_name": ".venv (3.8.10)",
   "language": "python",
   "name": "python3"
  },
  "language_info": {
   "codemirror_mode": {
    "name": "ipython",
    "version": 3
   },
   "file_extension": ".py",
   "mimetype": "text/x-python",
   "name": "python",
   "nbconvert_exporter": "python",
   "pygments_lexer": "ipython3",
   "version": "3.8.10"
  }
 },
 "nbformat": 4,
 "nbformat_minor": 5
}
