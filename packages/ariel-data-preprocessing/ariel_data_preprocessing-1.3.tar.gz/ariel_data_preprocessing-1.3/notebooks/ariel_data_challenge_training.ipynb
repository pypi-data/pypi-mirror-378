{
 "cells": [
  {
   "cell_type": "markdown",
   "id": "53616dc8",
   "metadata": {},
   "source": [
    "## Ariel data challenge model training"
   ]
  }
 ],
 "metadata": {
  "language_info": {
   "name": "python"
  }
 },
 "nbformat": 4,
 "nbformat_minor": 5
}
