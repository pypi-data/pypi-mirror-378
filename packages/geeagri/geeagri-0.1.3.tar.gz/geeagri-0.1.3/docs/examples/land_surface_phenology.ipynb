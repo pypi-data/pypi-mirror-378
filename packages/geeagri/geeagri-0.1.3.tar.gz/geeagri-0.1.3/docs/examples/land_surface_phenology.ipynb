{
 "cells": [
  {
   "cell_type": "markdown",
   "metadata": {},
   "source": [
    "<a href=\"https://githubtocolab.com/geonextgis/geeagri/blob/main/docs/examples/image_scaling.ipynb\" target=\"_parent\"><img src=\"https://colab.research.google.com/assets/colab-badge.svg\" alt=\"Open in Colab\"/></a>\n",
    "\n",
    "Uncomment the following line to install the latest version of [geeagri](https://geonextgis.github.io/geeagri) if needed."
   ]
  },
  {
   "cell_type": "code",
   "execution_count": null,
   "metadata": {},
   "outputs": [],
   "source": [
    "# !pip install -U geeagri"
   ]
  },
  {
   "cell_type": "markdown",
   "metadata": {},
   "source": [
    "## Import Libraries"
   ]
  },
  {
   "cell_type": "code",
   "execution_count": null,
   "metadata": {},
   "outputs": [],
   "source": [
    "import ee\n",
    "import geemap\n",
    "from geeagri.preprocessing import Sentinel2CloudMask, RegularTimeseries\n",
    "from geeagri.phenology import SavitzkyGolayEE, Phenometrics\n",
    "from geeagri.extract import extract_timeseries_to_point\n",
    "import matplotlib.cm as cm\n",
    "from matplotlib.colors import to_hex"
   ]
  },
  {
   "cell_type": "markdown",
   "metadata": {},
   "source": [
    "## Initialize a Map object\n",
    "Authenticate and initialize Earth Engine. If it doesn't work, specify a project name"
   ]
  },
  {
   "cell_type": "code",
   "execution_count": null,
   "metadata": {},
   "outputs": [],
   "source": [
    "# ee.Authenticate()\n",
    "# ee.Initialize(project='your-project-id')\n",
    "\n",
    "Map = geemap.Map(basemap=\"SATELLITE\")\n",
    "Map"
   ]
  },
  {
   "cell_type": "markdown",
   "metadata": {},
   "source": [
    "## Import region of interest"
   ]
  },
  {
   "cell_type": "code",
   "execution_count": null,
   "metadata": {},
   "outputs": [],
   "source": [
    "bbox = [-93.79303, 43.009668, -93.753891, 43.038031]\n",
    "region = ee.Geometry.BBox(*bbox)\n",
    "region_style = {\"color\": \"red\", \"width\": 1}\n",
    "Map.addLayer(region, region_style, \"Region\")\n",
    "Map.centerObject(region, 14)"
   ]
  },
  {
   "cell_type": "markdown",
   "metadata": {},
   "source": [
    "## Import Cropland Data Layer (CDL)"
   ]
  },
  {
   "cell_type": "code",
   "execution_count": null,
   "metadata": {},
   "outputs": [],
   "source": [
    "croplandcover = (\n",
    "    ee.ImageCollection(\"USDA/NASS/CDL\")\n",
    "    .filterDate(\"2020-01-01\", \"2021-01-01\")\n",
    "    .first()\n",
    "    .clip(region)\n",
    ")\n",
    "\n",
    "cultivated = croplandcover.select(\"cultivated\").eq(2).selfMask()\n",
    "croplandcover = croplandcover.select(\"cropland\")\n",
    "Map.addLayer(cultivated, {\"palette\": \"yellow\"}, \"Cultivated\")\n",
    "Map.addLayer(croplandcover, {}, \"Crop Landcover\")"
   ]
  },
  {
   "cell_type": "markdown",
   "metadata": {},
   "source": [
    "## Load Sentinel-2 image collection and mask clouds and shadows"
   ]
  },
  {
   "cell_type": "code",
   "execution_count": null,
   "metadata": {},
   "outputs": [],
   "source": [
    "s2_cloud_masker = Sentinel2CloudMask(\n",
    "    region=region,\n",
    "    start_date=\"2020-01-01\",\n",
    "    end_date=\"2021-01-01\",\n",
    "    cloud_filter=60,\n",
    "    cloud_prob_threshold=50,\n",
    "    nir_dark_threshold=0.15,\n",
    "    shadow_proj_dist=1,\n",
    "    buffer=50,\n",
    ")\n",
    "\n",
    "s2_cloud_masked = s2_cloud_masker.get_cloudfree_collection()"
   ]
  },
  {
   "cell_type": "markdown",
   "metadata": {},
   "source": [
    "## Calculate Green Chlorophyll Vegetation Index (GCVI)"
   ]
  },
  {
   "cell_type": "code",
   "execution_count": null,
   "metadata": {},
   "outputs": [],
   "source": [
    "def calculateGCVI(image):\n",
    "    gcvi = image.expression(\n",
    "        \"(NIR/Green) - 1\", {\"NIR\": image.select(\"B8\"), \"Green\": image.select(\"B3\")}\n",
    "    ).copyProperties(image, [\"system:time_start\"])\n",
    "\n",
    "    gcvi = ee.Image(gcvi).rename(\"gcvi\").clip(region)\n",
    "\n",
    "    return gcvi\n",
    "\n",
    "\n",
    "gcvi_col = s2_cloud_masked.map(calculateGCVI)"
   ]
  },
  {
   "cell_type": "markdown",
   "metadata": {},
   "source": [
    "## Smooth the timeseries and extract the phenometrics"
   ]
  },
  {
   "cell_type": "code",
   "execution_count": null,
   "metadata": {},
   "outputs": [],
   "source": [
    "# Instantiate an object of 'RegularTimeseries'\n",
    "reg_timeseries = RegularTimeseries(gcvi_col, interval=5, window=45)\n",
    "\n",
    "# Get the regular timeseries\n",
    "gcvi_col_regular = reg_timeseries.get_regular_timeseries()"
   ]
  },
  {
   "cell_type": "code",
   "execution_count": null,
   "metadata": {},
   "outputs": [],
   "source": [
    "sg = SavitzkyGolayEE(\n",
    "    image_collection=gcvi_col, window_length=11, polyorder=2, band_name=\"gcvi\"\n",
    ")\n",
    "\n",
    "coeff = sg.coefficients()\n",
    "\n",
    "phenometrics = Phenometrics(coeff)\n",
    "metrics = phenometrics.metrics()"
   ]
  },
  {
   "cell_type": "markdown",
   "metadata": {},
   "source": [
    "## Plot the land surface phenology"
   ]
  },
  {
   "cell_type": "code",
   "execution_count": null,
   "metadata": {},
   "outputs": [],
   "source": [
    "cmap = cm.get_cmap(\"gist_rainbow\", 20)\n",
    "cmap"
   ]
  },
  {
   "cell_type": "code",
   "execution_count": null,
   "metadata": {},
   "outputs": [],
   "source": [
    "cmap = cm.get_cmap(\"gist_rainbow\", 20)\n",
    "cmap = [to_hex(cmap(i)) for i in range(cmap.N)]\n",
    "\n",
    "vis = {\"min\": 100, \"max\": 330, \"palette\": cmap}\n",
    "\n",
    "Map.addLayer(metrics.select(\"SOS\"), vis, \"SOS\")\n",
    "Map.addLayer(metrics.select(\"POS\"), vis, \"POS\")\n",
    "Map.addLayer(metrics.select(\"EOS\"), vis, \"EOS\")"
   ]
  },
  {
   "cell_type": "markdown",
   "metadata": {},
   "source": [
    "## Apply on MODIS Data"
   ]
  },
  {
   "cell_type": "code",
   "execution_count": null,
   "metadata": {},
   "outputs": [],
   "source": [
    "modis = (\n",
    "    ee.ImageCollection(\"MODIS/061/MOD13Q1\")\n",
    "    .filterDate(\"2020-01-01\", \"2021-01-01\")\n",
    "    .map(lambda img: img.clip(region))\n",
    ")\n",
    "\n",
    "sg = SavitzkyGolayEE(\n",
    "    image_collection=modis, window_length=15, polyorder=2, band_name=\"NDVI\"\n",
    ")\n",
    "\n",
    "coeff = sg.coefficients()\n",
    "\n",
    "phenometrics = Phenometrics(coeff)\n",
    "metrics = phenometrics.metrics()\n",
    "\n",
    "cmap = cm.get_cmap(\"gist_rainbow\", 20)\n",
    "cmap = [to_hex(cmap(i)) for i in range(cmap.N)]\n",
    "\n",
    "vis = {\"min\": 100, \"max\": 330, \"palette\": cmap}\n",
    "\n",
    "Map.addLayer(metrics.select(\"SOS\"), vis, \"SOS (MODIS)\")\n",
    "Map.addLayer(metrics.select(\"POS\"), vis, \"POS (MODIS)\")\n",
    "Map.addLayer(metrics.select(\"EOS\"), vis, \"EOS (MODIS)\")"
   ]
  },
  {
   "cell_type": "code",
   "execution_count": null,
   "metadata": {},
   "outputs": [],
   "source": []
  },
  {
   "cell_type": "code",
   "execution_count": null,
   "metadata": {},
   "outputs": [],
   "source": []
  }
 ],
 "metadata": {
  "kernelspec": {
   "display_name": "geo",
   "language": "python",
   "name": "geo"
  },
  "language_info": {
   "codemirror_mode": {
    "name": "ipython",
    "version": 3
   },
   "file_extension": ".py",
   "mimetype": "text/x-python",
   "name": "python",
   "nbconvert_exporter": "python",
   "pygments_lexer": "ipython3",
   "version": "3.12.11"
  }
 },
 "nbformat": 4,
 "nbformat_minor": 2
}
