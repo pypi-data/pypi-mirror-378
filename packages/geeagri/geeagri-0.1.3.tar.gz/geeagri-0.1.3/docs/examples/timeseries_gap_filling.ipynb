{
 "cells": [
  {
   "cell_type": "markdown",
   "metadata": {},
   "source": [
    "<a href=\"https://githubtocolab.com/geonextgis/geeagri/blob/main/docs/examples/timeseries_gap_filling.ipynb\" target=\"_parent\"><img src=\"https://colab.research.google.com/assets/colab-badge.svg\" alt=\"Open in Colab\"/></a>\n",
    "\n",
    "Uncomment the following line to install the latest version of [geeagri](https://geonextgis.github.io/geeagri) if needed."
   ]
  },
  {
   "cell_type": "code",
   "execution_count": null,
   "metadata": {},
   "outputs": [],
   "source": [
    "# !pip install -U geeagri"
   ]
  },
  {
   "cell_type": "code",
   "execution_count": null,
   "metadata": {},
   "outputs": [],
   "source": [
    "import ee\n",
    "import geemap\n",
    "from geeagri.preprocessing import Sentinel2CloudMask, TemporalInterpolation\n",
    "from geeagri.extract import extract_timeseries_to_point\n",
    "\n",
    "import matplotlib.pyplot as plt\n",
    "import seaborn as sns\n",
    "\n",
    "from datetime import datetime\n",
    "from PIL import Image, ImageDraw, ImageFont, ImageSequence\n",
    "\n",
    "plt.rcParams[\"font.family\"] = \"DeJavu Serif\"\n",
    "plt.rcParams[\"font.serif\"] = \"Times New Roman\""
   ]
  },
  {
   "cell_type": "markdown",
   "metadata": {},
   "source": [
    "## Initialize a Map object\n",
    "Authenticate and initialize Earth Engine. If it doesn't work, specify a project name"
   ]
  },
  {
   "cell_type": "code",
   "execution_count": null,
   "metadata": {},
   "outputs": [],
   "source": [
    "# ee.Authenticate()\n",
    "# ee.Initialize(project='your-project-id')\n",
    "\n",
    "Map = geemap.Map(basemap=\"SATELLITE\")\n",
    "Map"
   ]
  },
  {
   "cell_type": "markdown",
   "metadata": {},
   "source": [
    "## Import region of interest"
   ]
  },
  {
   "cell_type": "code",
   "execution_count": null,
   "metadata": {},
   "outputs": [],
   "source": [
    "bbox = [-98.451233, 38.430732, -98.274765, 38.523996]\n",
    "region = ee.Geometry.BBox(*bbox)\n",
    "region_style = {\"color\": \"red\", \"width\": 1}\n",
    "Map.addLayer(region, region_style, \"Region\")\n",
    "Map.centerObject(region, 13)"
   ]
  },
  {
   "cell_type": "markdown",
   "metadata": {},
   "source": [
    "## Import Cropland Data Layer (CDL)"
   ]
  },
  {
   "cell_type": "code",
   "execution_count": null,
   "metadata": {},
   "outputs": [],
   "source": [
    "croplandcover = (\n",
    "    ee.ImageCollection(\"USDA/NASS/CDL\")\n",
    "    .filterDate(\"2020-01-01\", \"2021-01-01\")\n",
    "    .first()\n",
    "    .clip(region)\n",
    ")\n",
    "\n",
    "cultivated = croplandcover.select(\"cultivated\").eq(2).selfMask()\n",
    "croplandcover = croplandcover.select(\"cropland\")\n",
    "Map.addLayer(cultivated, {}, \"Cultivated\")\n",
    "Map.addLayer(croplandcover, {}, \"Crop Landcover\")"
   ]
  },
  {
   "cell_type": "markdown",
   "metadata": {},
   "source": [
    "## Load Sentinel-2 image collection and mask clouds and shadows"
   ]
  },
  {
   "cell_type": "code",
   "execution_count": null,
   "metadata": {},
   "outputs": [],
   "source": [
    "s2_cloud_masker = Sentinel2CloudMask(\n",
    "    region=region,\n",
    "    start_date=\"2020-01-01\",\n",
    "    end_date=\"2021-01-01\",\n",
    "    cloud_filter=60,  # maximum scene-level cloudiness allowed (%)\n",
    "    cloud_prob_threshold=50,  # cloud probability threshold (values above are considered clouds)\n",
    "    nir_dark_threshold=0.15,  # NIR reflectance threshold (values below considered potential shadows)\n",
    "    shadow_proj_dist=1,  # maximum distance (km) to search for shadows from clouds.\n",
    "    buffer=50,  # buffer distance (m) to dilate cloud/shadow masks.\n",
    ")\n",
    "\n",
    "s2_cloud_masked = s2_cloud_masker.get_cloudfree_collection()"
   ]
  },
  {
   "cell_type": "markdown",
   "metadata": {},
   "source": [
    "## Calculate Normalized Difference Vegetation Index (NDVI)"
   ]
  },
  {
   "cell_type": "code",
   "execution_count": null,
   "metadata": {},
   "outputs": [],
   "source": [
    "def calculateNDVI(image):\n",
    "    ndvi = image.expression(\n",
    "        \"(NIR - Red) / (NIR + Red)\",\n",
    "        {\"NIR\": image.select(\"B8\"), \"Red\": image.select(\"B4\")},\n",
    "    ).copyProperties(image, [\"system:time_start\"])\n",
    "\n",
    "    ndvi = ee.Image(ndvi).rename(\"ndvi\").clip(region)\n",
    "\n",
    "    return ndvi\n",
    "\n",
    "ndvi_col = s2_cloud_masked.map(calculateNDVI)"
   ]
  },
  {
   "cell_type": "markdown",
   "metadata": {},
   "source": [
    "## Timeseries gap filling using Temporal Interpolation"
   ]
  },
  {
   "cell_type": "code",
   "execution_count": null,
   "metadata": {},
   "outputs": [],
   "source": [
    "# Initialize a 'TemporalInterpolation' object\n",
    "temp_interp = TemporalInterpolation(\n",
    "    image_collection=ndvi_col,  # ee.ImageCollection of NDVI\n",
    "    window=45,  # Temporal window in days\n",
    ")\n",
    "\n",
    "# Get the interpolation collection\n",
    "ndvi_interpolated = temp_interp.get_interpolated_collection()"
   ]
  },
  {
   "cell_type": "markdown",
   "metadata": {},
   "source": [
    "## Extract timelapse for raw and interpolated NDVI image collection"
   ]
  },
  {
   "cell_type": "code",
   "execution_count": null,
   "metadata": {},
   "outputs": [],
   "source": [
    "# Function to add timestamp of gif frames\n",
    "def add_dates_to_gif(\n",
    "    input_gif: str,\n",
    "    output_gif: str,\n",
    "    dates: list[str],\n",
    "    font_path: str = \"DejaVuSans-Bold.ttf\",\n",
    "    font_size: int = 20,\n",
    "    position: tuple = (20, 20),\n",
    "    color: str = \"red\",\n",
    "):\n",
    "    \"\"\"\n",
    "    Overlay a list of dates onto each frame of an animated GIF.\n",
    "\n",
    "    Args:\n",
    "        input_gif (str): Path to the input GIF file.\n",
    "        output_gif (str): Path where the output GIF will be saved.\n",
    "        dates (list[str]): List of date strings (one per frame).\n",
    "        font_path (str, optional): Path to a .ttf font file. Defaults to \"DejaVuSans-Bold.ttf\".\n",
    "        font_size (int, optional): Font size. Defaults to 40.\n",
    "        position (tuple, optional): (x, y) position of the text. Defaults to (20, 20).\n",
    "        color (str, optional): Text color. Defaults to \"black\".\n",
    "    \"\"\"\n",
    "    font = ImageFont.truetype(font_path, font_size)\n",
    "\n",
    "    with Image.open(input_gif) as im:\n",
    "        frames = []\n",
    "\n",
    "        for i, frame in enumerate(ImageSequence.Iterator(im)):\n",
    "            frame = frame.convert(\"RGB\")\n",
    "            draw = ImageDraw.Draw(frame)\n",
    "\n",
    "            if i < len(dates):\n",
    "                draw.text(position, dates[i], fill=color, font=font)\n",
    "\n",
    "            frames.append(frame)\n",
    "\n",
    "        # Save the annotated frames as a new GIF\n",
    "        frames[0].save(\n",
    "            output_gif,\n",
    "            save_all=True,\n",
    "            append_images=frames[1:],\n",
    "            duration=im.info.get(\"duration\", 200),  # default 200ms if not found\n",
    "            loop=0,\n",
    "        )"
   ]
  },
  {
   "cell_type": "code",
   "execution_count": null,
   "metadata": {},
   "outputs": [],
   "source": [
    "# Get the image dates\n",
    "dates = ndvi_col.aggregate_array(\"system:time_start\").getInfo()\n",
    "dates_str = [datetime.fromtimestamp(d / 1000).strftime(\"%d %b %Y\") for d in dates]\n",
    "\n",
    "video_args = {\n",
    "    \"dimensions\": 1000,\n",
    "    \"region\": region,\n",
    "    \"framesPerSecond\": 2,\n",
    "    \"crs\": \"EPSG:4326\",\n",
    "    \"min\": -1,\n",
    "    \"max\": 1,\n",
    "    \"palette\": [\n",
    "        \"#a50026\",\n",
    "        \"#d73027\",\n",
    "        \"#f46d43\",\n",
    "        \"#fdae61\",\n",
    "        \"#fee08b\",\n",
    "        \"#d9ef8b\",\n",
    "        \"#a6d96a\",\n",
    "        \"#66bd63\",\n",
    "        \"#1a9850\",\n",
    "        \"#006837\",\n",
    "    ],\n",
    "}\n",
    "\n",
    "saved_ndvi_gif = \"ndvi.gif\"\n",
    "geemap.download_ee_video(ndvi_col, video_args, saved_ndvi_gif)\n",
    "\n",
    "# add timestamps and plot the timelapse of raw NDVI\n",
    "add_dates_to_gif(saved_ndvi_gif, saved_ndvi_gif, dates_str)\n",
    "geemap.show_image(saved_ndvi_gif)"
   ]
  },
  {
   "cell_type": "code",
   "execution_count": null,
   "metadata": {},
   "outputs": [],
   "source": [
    "saved_ndvi_interpolated_gif = \"ndvi_interpolated.gif\"\n",
    "geemap.download_ee_video(ndvi_interpolated, video_args, saved_ndvi_interpolated_gif)\n",
    "\n",
    "# add timestamps and plot the timelapse of interpolated NDVI\n",
    "add_dates_to_gif(saved_ndvi_interpolated_gif, saved_ndvi_interpolated_gif, dates_str)\n",
    "geemap.show_image(saved_ndvi_interpolated_gif)"
   ]
  },
  {
   "cell_type": "markdown",
   "metadata": {},
   "source": [
    "## Plot the raw and interpolated NDVI for three crop samples"
   ]
  },
  {
   "cell_type": "code",
   "execution_count": null,
   "metadata": {},
   "outputs": [],
   "source": [
    "wheat_loc = (-98.39630126953126, 38.46931531751283)\n",
    "soybean_loc = (-98.34480285644533, 38.50008653288019)\n",
    "corn_loc = (-98.3169937133789, 38.49645916887533)\n",
    "\n",
    "wheat_ndvi = extract_timeseries_to_point(\n",
    "    lat=wheat_loc[1], lon=wheat_loc[0], image_collection=ndvi_col, scale=10\n",
    ")\n",
    "soybean_ndvi = extract_timeseries_to_point(\n",
    "    lat=soybean_loc[1], lon=soybean_loc[0], image_collection=ndvi_col, scale=10\n",
    ")\n",
    "corn_ndvi = extract_timeseries_to_point(\n",
    "    lat=corn_loc[1], lon=corn_loc[0], image_collection=ndvi_col, scale=10\n",
    ")\n",
    "wheat_ndvi_interpolated = extract_timeseries_to_point(\n",
    "    lat=wheat_loc[1], lon=wheat_loc[0], image_collection=ndvi_interpolated, scale=10\n",
    ")\n",
    "soybean_ndvi_interpolated = extract_timeseries_to_point(\n",
    "    lat=soybean_loc[1], lon=soybean_loc[0], image_collection=ndvi_interpolated, scale=10\n",
    ")\n",
    "corn_ndvi_interpolated = extract_timeseries_to_point(\n",
    "    lat=corn_loc[1], lon=corn_loc[0], image_collection=ndvi_interpolated, scale=10\n",
    ")"
   ]
  },
  {
   "cell_type": "code",
   "execution_count": null,
   "metadata": {},
   "outputs": [],
   "source": [
    "# Define datasets and colors\n",
    "datasets = {\n",
    "    \"Wheat\": (\"#a87000\", wheat_ndvi, wheat_ndvi_interpolated),\n",
    "    \"Soybean\": (\"#267300\", soybean_ndvi, soybean_ndvi_interpolated),\n",
    "    \"Corn\": (\"#ffd400\", corn_ndvi, corn_ndvi_interpolated),\n",
    "}\n",
    "\n",
    "fig, axes = plt.subplots(2, 1, figsize=(10, 7), sharey=True)\n",
    "\n",
    "# Raw NDVI\n",
    "for crop, (color, raw, interp) in datasets.items():\n",
    "    sns.lineplot(\n",
    "        data=raw,\n",
    "        x=\"time\",\n",
    "        y=\"ndvi\",\n",
    "        label=f\"{crop} NDVI\",\n",
    "        c=color,\n",
    "        marker=\"o\",\n",
    "        ax=axes[0],\n",
    "    )\n",
    "\n",
    "    # plot NaNs as crosses\n",
    "    nan_points = raw[raw[\"ndvi\"].isna()]\n",
    "    axes[0].scatter(\n",
    "        nan_points[\"time\"],\n",
    "        [0] * len(nan_points),\n",
    "        marker=\"x\",\n",
    "        c=color,\n",
    "        label=f\"{crop} NaN\",\n",
    "    )\n",
    "\n",
    "axes[0].set_title(\"Raw NDVI (with gaps)\")\n",
    "axes[0].set_ylabel(\"NDVI\")\n",
    "\n",
    "# Interpolated NDVI\n",
    "for crop, (color, raw, interp) in datasets.items():\n",
    "    sns.lineplot(\n",
    "        data=interp,\n",
    "        x=\"time\",\n",
    "        y=\"ndvi\",\n",
    "        label=f\"{crop} NDVI Interpolated\",\n",
    "        c=color,\n",
    "        marker=\"o\",\n",
    "        markersize=5,\n",
    "        ax=axes[1],\n",
    "    )\n",
    "\n",
    "axes[1].set_title(\"Interpolated NDVI\")\n",
    "axes[1].set_ylabel(\"NDVI\")\n",
    "\n",
    "plt.tight_layout()\n",
    "plt.show()"
   ]
  }
 ],
 "metadata": {
  "kernelspec": {
   "display_name": "geo",
   "language": "python",
   "name": "geo"
  },
  "language_info": {
   "codemirror_mode": {
    "name": "ipython",
    "version": 3
   },
   "file_extension": ".py",
   "mimetype": "text/x-python",
   "name": "python",
   "nbconvert_exporter": "python",
   "pygments_lexer": "ipython3",
   "version": "3.12.11"
  }
 },
 "nbformat": 4,
 "nbformat_minor": 2
}
