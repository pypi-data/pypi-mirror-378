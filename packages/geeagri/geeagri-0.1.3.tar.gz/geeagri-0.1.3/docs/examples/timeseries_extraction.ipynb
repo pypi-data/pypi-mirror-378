{
 "cells": [
  {
   "cell_type": "markdown",
   "metadata": {},
   "source": [
    "<a href=\"https://githubtocolab.com/geonextgis/geeagri/blob/main/docs/examples/timeseries_extraction.ipynb\" target=\"_parent\"><img src=\"https://colab.research.google.com/assets/colab-badge.svg\" alt=\"Open in Colab\"/></a>\n",
    "\n",
    "Uncomment the following line to install [geeagri](https://geonextgis.github.io/geeagri) if needed."
   ]
  },
  {
   "cell_type": "code",
   "execution_count": null,
   "metadata": {},
   "outputs": [],
   "source": [
    "# !pip install geeagri"
   ]
  },
  {
   "cell_type": "markdown",
   "metadata": {},
   "source": [
    "## Import libraries"
   ]
  },
  {
   "cell_type": "code",
   "execution_count": null,
   "metadata": {},
   "outputs": [],
   "source": [
    "import ee\n",
    "import geemap\n",
    "from geeagri.extract import (\n",
    "    extract_timeseries_to_point,\n",
    "    extract_timeseries_to_polygon,\n",
    "    TimeseriesExtractor,\n",
    ")\n",
    "\n",
    "import matplotlib.pyplot as plt\n",
    "import seaborn as sns\n",
    "\n",
    "plt.rcParams[\"font.family\"] = \"DeJavu Serif\"\n",
    "plt.rcParams[\"font.serif\"] = \"Times New Roman\""
   ]
  },
  {
   "cell_type": "markdown",
   "metadata": {},
   "source": [
    "## Initialize a Map object\n",
    "Authenticate and initialize Earth Engine. If it doesn't work, specify a project name"
   ]
  },
  {
   "cell_type": "code",
   "execution_count": null,
   "metadata": {},
   "outputs": [],
   "source": [
    "# ee.Authenticate()\n",
    "# ee.Initialize(project='your-project-id')\n",
    "\n",
    "Map = geemap.Map()\n",
    "Map"
   ]
  },
  {
   "cell_type": "markdown",
   "metadata": {},
   "source": [
    "## Import region of interest"
   ]
  },
  {
   "cell_type": "code",
   "execution_count": null,
   "metadata": {},
   "outputs": [],
   "source": [
    "bbox = [-100.612793, 29.084977, -95.679932, 31.896214]\n",
    "polygon = ee.Geometry.BBox(*bbox)\n",
    "polygon_style = {\"color\": \"red\", \"width\": 1}\n",
    "Map.addLayer(polygon, polygon_style, \"Polygon\")\n",
    "Map.centerObject(polygon, 8)\n",
    "\n",
    "lon, lat = -98.15, 30.50\n",
    "point = ee.Geometry.Point([lon, lat])\n",
    "Map.addLayer(point, {\"color\": \"blue\"}, \"Point\")"
   ]
  },
  {
   "cell_type": "markdown",
   "metadata": {},
   "source": [
    "## Parallel export of timeseries for large sample sets with `TimeseriesExtractor`"
   ]
  },
  {
   "cell_type": "code",
   "execution_count": null,
   "metadata": {},
   "outputs": [],
   "source": [
    "era5_land = ee.ImageCollection(\"ECMWF/ERA5_LAND/DAILY_AGGR\")\n",
    "\n",
    "# Generate or load sample points\n",
    "sample = (\n",
    "    era5_land.first()\n",
    "    .select(\"temperature_2m_min\")\n",
    "    .sample(\n",
    "        region=polygon,\n",
    "        scale=11132,  # ~11 km\n",
    "        numPixels=100,  # number of samples\n",
    "        seed=42,\n",
    "        dropNulls=True,\n",
    "        tileScale=16,\n",
    "        geometries=True,\n",
    "    )\n",
    ")\n",
    "\n",
    "# Convert samples to GeoDataFrame\n",
    "sample_gdf = geemap.ee_to_gdf(sample)\n",
    "sample_gdf[\"ID\"] = sample_gdf.index\n",
    "sample_gdf = sample_gdf[[\"ID\", \"geometry\"]]\n",
    "\n",
    "print(f\"Sample size: {sample_gdf.shape[0]}\")\n",
    "sample_gdf.head()"
   ]
  },
  {
   "cell_type": "code",
   "execution_count": null,
   "metadata": {},
   "outputs": [],
   "source": [
    "# Extract timeseries in parallel for all samples\n",
    "ts_extractor = TimeseriesExtractor(\n",
    "    image_collection=era5_land,\n",
    "    sample_gdf=sample_gdf,\n",
    "    identifier=\"ID\",\n",
    "    out_dir=\"test\",  # output directory\n",
    "    selectors=[\n",
    "        \"temperature_2m_min\",\n",
    "        \"temperature_2m_max\",\n",
    "        \"total_precipitation_sum\",\n",
    "        \"surface_solar_radiation_downwards_sum\",\n",
    "    ],\n",
    "    scale=11132,\n",
    "    num_processes=20,  # parallel processes\n",
    "    start_date=\"2000-01-01\",\n",
    "    end_date=\"2010-01-01\",\n",
    ")\n",
    "\n",
    "# Run extraction\n",
    "ts_extractor.extract_timeseries()"
   ]
  },
  {
   "cell_type": "markdown",
   "metadata": {},
   "source": [
    "## Export single timeseries from climate data (ERA5-Land Daily)"
   ]
  },
  {
   "cell_type": "code",
   "execution_count": null,
   "metadata": {},
   "outputs": [],
   "source": [
    "era5_land = ee.ImageCollection(\"ECMWF/ERA5_LAND/DAILY_AGGR\")\n",
    "\n",
    "era5_land_point_ts = extract_timeseries_to_point(\n",
    "    lat=lat,\n",
    "    lon=lon,\n",
    "    image_collection=era5_land,\n",
    "    start_date=\"2010-01-01\",\n",
    "    end_date=\"2015-01-01\",\n",
    "    band_names=[\n",
    "        \"temperature_2m_min\",\n",
    "        \"temperature_2m_max\",\n",
    "        \"total_precipitation_sum\",\n",
    "        \"surface_solar_radiation_downwards_sum\",\n",
    "    ],\n",
    "    scale=11132,\n",
    ")\n",
    "\n",
    "era5_land_polygon_ts = extract_timeseries_to_polygon(\n",
    "    polygon=polygon,\n",
    "    image_collection=era5_land,\n",
    "    start_date=\"2010-01-01\",\n",
    "    end_date=\"2015-01-01\",\n",
    "    band_names=[\n",
    "        \"temperature_2m_min\",\n",
    "        \"temperature_2m_max\",\n",
    "        \"total_precipitation_sum\",\n",
    "        \"surface_solar_radiation_downwards_sum\",\n",
    "    ],\n",
    "    scale=11132,\n",
    "    reducer=\"MEAN\",\n",
    ")"
   ]
  },
  {
   "cell_type": "code",
   "execution_count": null,
   "metadata": {},
   "outputs": [],
   "source": [
    "# Plot the data\n",
    "fig, axes = plt.subplots(nrows=2, ncols=1, figsize=(12, 6))\n",
    "axes = axes.flatten()\n",
    "\n",
    "sns.lineplot(\n",
    "    data=era5_land_point_ts,\n",
    "    x=\"time\",\n",
    "    y=\"temperature_2m_max\",\n",
    "    c=\"r\",\n",
    "    linewidth=0.5,\n",
    "    ax=axes[0],\n",
    "    label=\"Tmax\",\n",
    ")\n",
    "sns.lineplot(\n",
    "    data=era5_land_point_ts,\n",
    "    x=\"time\",\n",
    "    y=\"temperature_2m_min\",\n",
    "    c=\"b\",\n",
    "    linewidth=0.5,\n",
    "    ax=axes[0],\n",
    "    label=\"Tmax\",\n",
    ")\n",
    "axes[0].set_ylabel(\"Values\")\n",
    "axes[0].legend()\n",
    "axes[0].set_title(\"Daily timeseries of climate data based on point\")\n",
    "\n",
    "sns.lineplot(\n",
    "    data=era5_land_polygon_ts,\n",
    "    x=\"time\",\n",
    "    y=\"temperature_2m_max\",\n",
    "    c=\"r\",\n",
    "    linewidth=0.5,\n",
    "    ax=axes[1],\n",
    "    label=\"Tmax\",\n",
    ")\n",
    "sns.lineplot(\n",
    "    data=era5_land_polygon_ts,\n",
    "    x=\"time\",\n",
    "    y=\"temperature_2m_min\",\n",
    "    c=\"b\",\n",
    "    linewidth=0.5,\n",
    "    ax=axes[1],\n",
    "    label=\"Tmax\",\n",
    ")\n",
    "axes[1].set_ylabel(\"Values\")\n",
    "axes[1].legend()\n",
    "axes[1].set_title(\"Daily timeseries of climate data based on polygon\")\n",
    "\n",
    "plt.tight_layout()\n",
    "plt.show()"
   ]
  },
  {
   "cell_type": "markdown",
   "metadata": {},
   "source": [
    "## Export single timeseries from NDVI data (MOD13Q1.061 Terra Vegetation Indices 16-Day)"
   ]
  },
  {
   "cell_type": "code",
   "execution_count": null,
   "metadata": {},
   "outputs": [],
   "source": [
    "modis_ndvi = ee.ImageCollection(\"MODIS/061/MOD13Q1\")\n",
    "\n",
    "modis_ndvi_point_ts = extract_timeseries_to_point(\n",
    "    lat=lat,\n",
    "    lon=lon,\n",
    "    image_collection=modis_ndvi,\n",
    "    start_date=\"2010-01-01\",\n",
    "    end_date=\"2015-01-01\",\n",
    "    band_names=[\"NDVI\", \"EVI\"],\n",
    "    scale=250,\n",
    ")\n",
    "\n",
    "modis_ndvi_polygon_ts = extract_timeseries_to_polygon(\n",
    "    polygon=polygon,\n",
    "    image_collection=modis_ndvi,\n",
    "    start_date=\"2010-01-01\",\n",
    "    end_date=\"2015-01-01\",\n",
    "    band_names=[\"NDVI\", \"EVI\"],\n",
    "    scale=250,\n",
    "    reducer=\"MEAN\",\n",
    ")\n",
    "\n",
    "# Apply scale factors\n",
    "modis_ndvi_point_ts[[\"NDVI\", \"EVI\"]] = modis_ndvi_point_ts[[\"NDVI\", \"EVI\"]] * 0.0001\n",
    "modis_ndvi_polygon_ts[[\"NDVI\", \"EVI\"]] = modis_ndvi_polygon_ts[[\"NDVI\", \"EVI\"]] * 0.0001"
   ]
  },
  {
   "cell_type": "code",
   "execution_count": null,
   "metadata": {},
   "outputs": [],
   "source": [
    "# Plot the data\n",
    "fig, axes = plt.subplots(nrows=2, ncols=1, figsize=(12, 6))\n",
    "axes = axes.flatten()\n",
    "\n",
    "sns.lineplot(\n",
    "    data=modis_ndvi_point_ts,\n",
    "    x=\"time\",\n",
    "    y=\"NDVI\",\n",
    "    c=\"green\",\n",
    "    marker=\"o\",\n",
    "    markersize=5,\n",
    "    linewidth=1,\n",
    "    ax=axes[0],\n",
    "    label=\"NDVI\",\n",
    ")\n",
    "sns.lineplot(\n",
    "    data=modis_ndvi_point_ts,\n",
    "    x=\"time\",\n",
    "    y=\"EVI\",\n",
    "    c=\"orange\",\n",
    "    marker=\"o\",\n",
    "    markersize=5,\n",
    "    linewidth=1,\n",
    "    ax=axes[0],\n",
    "    label=\"EVI\",\n",
    ")\n",
    "axes[0].set_ylabel(\"Values\")\n",
    "axes[0].legend()\n",
    "axes[0].set_title(\"Daily timeseries of NDVI and EVI data based on point\")\n",
    "\n",
    "sns.lineplot(\n",
    "    data=modis_ndvi_polygon_ts,\n",
    "    x=\"time\",\n",
    "    y=\"NDVI\",\n",
    "    c=\"green\",\n",
    "    marker=\"o\",\n",
    "    markersize=5,\n",
    "    linewidth=1,\n",
    "    ax=axes[1],\n",
    "    label=\"NDVI\",\n",
    ")\n",
    "sns.lineplot(\n",
    "    data=modis_ndvi_polygon_ts,\n",
    "    x=\"time\",\n",
    "    y=\"EVI\",\n",
    "    c=\"orange\",\n",
    "    marker=\"o\",\n",
    "    markersize=5,\n",
    "    linewidth=1,\n",
    "    ax=axes[1],\n",
    "    label=\"EVI\",\n",
    ")\n",
    "axes[1].set_ylabel(\"Values\")\n",
    "axes[1].legend()\n",
    "axes[1].set_title(\"Daily timeseries of NDVI and EVI data based on polygon\")\n",
    "\n",
    "plt.tight_layout()\n",
    "plt.show()"
   ]
  }
 ],
 "metadata": {
  "kernelspec": {
   "display_name": "geo",
   "language": "python",
   "name": "geo"
  },
  "language_info": {
   "codemirror_mode": {
    "name": "ipython",
    "version": 3
   },
   "file_extension": ".py",
   "mimetype": "text/x-python",
   "name": "python",
   "nbconvert_exporter": "python",
   "pygments_lexer": "ipython3",
   "version": "3.12.11"
  }
 },
 "nbformat": 4,
 "nbformat_minor": 2
}
