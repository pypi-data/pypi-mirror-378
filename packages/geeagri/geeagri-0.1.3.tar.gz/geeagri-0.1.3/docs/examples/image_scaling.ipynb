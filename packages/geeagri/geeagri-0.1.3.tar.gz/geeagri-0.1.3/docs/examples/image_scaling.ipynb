{
 "cells": [
  {
   "cell_type": "markdown",
   "metadata": {},
   "source": [
    "<a href=\"https://githubtocolab.com/geonextgis/geeagri/blob/main/docs/examples/image_scaling.ipynb\" target=\"_parent\"><img src=\"https://colab.research.google.com/assets/colab-badge.svg\" alt=\"Open in Colab\"/></a>\n",
    "\n",
    "Uncomment the following line to install the latest version of [geeagri](https://geonextgis.github.io/geeagri) if needed."
   ]
  },
  {
   "cell_type": "code",
   "execution_count": null,
   "metadata": {},
   "outputs": [],
   "source": [
    "# !pip install -U geeagri"
   ]
  },
  {
   "cell_type": "markdown",
   "metadata": {},
   "source": [
    "## Import libraries"
   ]
  },
  {
   "cell_type": "code",
   "execution_count": null,
   "metadata": {},
   "outputs": [],
   "source": [
    "import ee\n",
    "import geemap\n",
    "from geeagri.preprocessing import (\n",
    "    MeanCentering,\n",
    "    StandardScaler,\n",
    "    MinMaxScaler,\n",
    "    RobustScaler,\n",
    ")"
   ]
  },
  {
   "cell_type": "markdown",
   "metadata": {},
   "source": [
    "## Initialize a Map object\n",
    "Authenticate and initialize Earth Engine. If it doesn't work, specify a project name"
   ]
  },
  {
   "cell_type": "code",
   "execution_count": null,
   "metadata": {},
   "outputs": [],
   "source": [
    "# ee.Authenticate()\n",
    "# ee.Initialize(project='your-project-id')\n",
    "\n",
    "Map = geemap.Map()\n",
    "Map"
   ]
  },
  {
   "cell_type": "markdown",
   "metadata": {},
   "source": [
    "## Import region of interest"
   ]
  },
  {
   "cell_type": "code",
   "execution_count": null,
   "metadata": {},
   "outputs": [],
   "source": [
    "bbox = [-120.398369, 37.006574, -120.208168, 37.101924]\n",
    "region = ee.Geometry.BBox(*bbox)\n",
    "region_style = {\"color\": \"red\", \"width\": 1}\n",
    "Map.addLayer(region, region_style, \"Region\")\n",
    "Map.centerObject(region, 12)"
   ]
  },
  {
   "cell_type": "markdown",
   "metadata": {},
   "source": [
    "## Load Sentinel-2 data and create a median composite"
   ]
  },
  {
   "cell_type": "code",
   "execution_count": null,
   "metadata": {},
   "outputs": [],
   "source": [
    "image = (\n",
    "    ee.ImageCollection(\"COPERNICUS/S2_SR_HARMONIZED\")\n",
    "    .filterBounds(region)\n",
    "    .filterDate(\"2024-01-01\", \"2025-01-01\")\n",
    "    .filterMetadata(\"CLOUDY_PIXEL_PERCENTAGE\", \"less_than\", 10)\n",
    "    .select([\"B8\", \"B4\", \"B3\"])\n",
    "    .median()\n",
    "    .multiply(0.0001)\n",
    "    .clip(region)\n",
    ")\n",
    "\n",
    "image_vis = {\"bands\": [\"B8\", \"B4\", \"B3\"], \"min\": 0, \"max\": 0.3}\n",
    "\n",
    "Map.addLayer(image, image_vis, \"Sentinel 2 FCC\")"
   ]
  },
  {
   "cell_type": "markdown",
   "metadata": {},
   "source": [
    "## MeanCentering\n",
    "\n",
    "Subtracts the mean from each band to center values around zero:\n",
    "\n",
    "$$\n",
    "X_\\text{centered} = X - \\mu\n",
    "$$\n",
    "\n",
    "Where:\n",
    "- $X$: original pixel value  \n",
    "- $\\mu$: mean of the band computed over the given region\n"
   ]
  },
  {
   "cell_type": "code",
   "execution_count": null,
   "metadata": {},
   "outputs": [],
   "source": [
    "scaler = MeanCentering(image, region)\n",
    "centered_image = scaler.transform()\n",
    "\n",
    "# Adjust visualization range around 0 to reflect centered values\n",
    "centered_image_vis = {\"bands\": [\"B8\", \"B4\", \"B3\"], \"min\": -0.09, \"max\": 0.09}\n",
    "Map.addLayer(centered_image, centered_image_vis, \"MeanCentering\")"
   ]
  },
  {
   "cell_type": "markdown",
   "metadata": {},
   "source": [
    "## MinMaxScaler\n",
    "Normalizes each band using the min and max values over the region:\n",
    "\n",
    "$$\n",
    "X_\\text{scaled} = \\frac{X - \\min}{\\max - \\min}, \\quad X_\\text{scaled} \\in [0, 1]\n",
    "$$\n",
    "\n",
    "Where:\n",
    "- $\\min$, $\\max$: band-wise minimum and maximum values over the region."
   ]
  },
  {
   "cell_type": "code",
   "execution_count": null,
   "metadata": {},
   "outputs": [],
   "source": [
    "scaler = MinMaxScaler(image, region)\n",
    "scaled_image = scaler.transform()\n",
    "\n",
    "scaled_image_vis = {\"bands\": [\"B8\", \"B4\", \"B3\"], \"min\": 0, \"max\": 1}\n",
    "Map.addLayer(scaled_image, scaled_image_vis, \"MinMaxScaler\")"
   ]
  },
  {
   "cell_type": "markdown",
   "metadata": {},
   "source": [
    "## StandardScaler\n",
    "\n",
    "Standardizes each band using z-score normalization (mean and standard deviation):\n",
    "\n",
    "$$\n",
    "X_\\text{standardized} = \\frac{X - \\mu}{\\sigma}\n",
    "$$\n",
    "\n",
    "Where:\n",
    "- $X$: original pixel value  \n",
    "- $\\mu$: mean of the band over the specified region  \n",
    "- $\\sigma$: standard deviation of the band over the specified region\n"
   ]
  },
  {
   "cell_type": "code",
   "execution_count": null,
   "metadata": {},
   "outputs": [],
   "source": [
    "scaler = StandardScaler(image, region)\n",
    "standardized_image = scaler.transform()\n",
    "\n",
    "# You may want to visualize within a reasonable range\n",
    "standardized_image_vis = {\"bands\": [\"B8\", \"B4\", \"B3\"], \"min\": -2, \"max\": 2}\n",
    "Map.addLayer(standardized_image, standardized_image_vis, \"StandardScaler\")"
   ]
  },
  {
   "cell_type": "markdown",
   "metadata": {},
   "source": [
    "## RobustScaler\n",
    "\n",
    "Scales each band using robust percentiles (e.g., 1st and 99th) to reduce the influence of outliers:\n",
    "\n",
    "$$\n",
    "X_\\text{scaled} = \\frac{X - P_\\text{lower}}{P_\\text{upper} - P_\\text{lower}}, \\quad X_\\text{scaled} \\in [0, 1]\n",
    "$$\n",
    "\n",
    "Where:\n",
    "- $X$: original pixel value  \n",
    "- $P_{\\\\text{lower}}$: lower percentile value (e.g., 25th percentile)  \n",
    "- $P_{\\\\text{upper}}$: upper percentile value (e.g., 75th percentile)"
   ]
  },
  {
   "cell_type": "code",
   "execution_count": null,
   "metadata": {},
   "outputs": [],
   "source": [
    "scaler = RobustScaler(image, region, lower=1, upper=99)\n",
    "scaled_image = scaler.transform()\n",
    "\n",
    "scaled_image_vis = {\"bands\": [\"B8\", \"B4\", \"B3\"], \"min\": 0, \"max\": 1}\n",
    "Map.addLayer(scaled_image, scaled_image_vis, \"RobustScaler\")"
   ]
  },
  {
   "cell_type": "markdown",
   "metadata": {},
   "source": [
    "> 💡 **Tips for Efficient Processing**\n",
    ">\n",
    "> * **Increase the `scale`** parameter to reduce computation time. Calculating statistics (e.g., mean, percentiles) over high-resolution images (like Sentinel-2 at 10 m) can be time-consuming or cause timeouts. Try `scale=100` or higher when possible.\n",
    ">\n",
    "> * **Use simpler geometries.** Avoid complex shapes like administrative boundaries or large regions. Instead, use simplified or bounding box geometries.\n",
    ">\n",
    "> * You can **simplify any geometry** by converting it to a bounding rectangle using:\n",
    ">\n",
    ">   ```python\n",
    ">   simple_region = complex_region.bounds()\n",
    ">   ```\n",
    ">\n",
    ">   This can drastically speed up reduceRegion operations while still capturing spatial context."
   ]
  }
 ],
 "metadata": {
  "kernelspec": {
   "display_name": "geo",
   "language": "python",
   "name": "python3"
  },
  "language_info": {
   "codemirror_mode": {
    "name": "ipython",
    "version": 3
   },
   "file_extension": ".py",
   "mimetype": "text/x-python",
   "name": "python",
   "nbconvert_exporter": "python",
   "pygments_lexer": "ipython3",
   "version": "3.12.11"
  }
 },
 "nbformat": 4,
 "nbformat_minor": 2
}
