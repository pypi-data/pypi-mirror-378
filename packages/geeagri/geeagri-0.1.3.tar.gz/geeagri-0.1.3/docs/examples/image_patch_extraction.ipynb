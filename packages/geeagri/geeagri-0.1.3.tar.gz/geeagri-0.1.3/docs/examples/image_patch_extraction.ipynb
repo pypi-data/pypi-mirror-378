{
 "cells": [
  {
   "cell_type": "markdown",
   "id": "0",
   "metadata": {},
   "source": [
    "<a href=\"https://githubtocolab.com/geonextgis/geeagri/blob/main/docs/examples/image_patch_extraction.ipynb\" target=\"_parent\"><img src=\"https://colab.research.google.com/assets/colab-badge.svg\" alt=\"Open in Colab\"/></a>\n",
    "\n",
    "Uncomment the following line to install the latest version of [geeagri](https://geonextgis.github.io/geeagri) if needed."
   ]
  },
  {
   "cell_type": "code",
   "execution_count": null,
   "id": "1",
   "metadata": {},
   "outputs": [],
   "source": [
    "# !pip install -U geeagri"
   ]
  },
  {
   "cell_type": "markdown",
   "id": "2",
   "metadata": {},
   "source": [
    "## Import libraries"
   ]
  },
  {
   "cell_type": "code",
   "execution_count": null,
   "id": "3",
   "metadata": {},
   "outputs": [],
   "source": [
    "import os\n",
    "import random\n",
    "import numpy as np\n",
    "import matplotlib.pyplot as plt\n",
    "import rasterio as rio\n",
    "import ee\n",
    "import geemap\n",
    "from geeagri.extract import ImagePatchExtractor"
   ]
  },
  {
   "cell_type": "markdown",
   "id": "4",
   "metadata": {},
   "source": [
    "## Initialize a Map object\n",
    "Authenticate and initialize Earth Engine. Replace 'your-project-id' with your actual Google Cloud project ID if needed.\n",
    "If you're working with high-volume data or large-scale exports, use the highvolume endpoint shown above."
   ]
  },
  {
   "cell_type": "code",
   "execution_count": null,
   "id": "5",
   "metadata": {},
   "outputs": [],
   "source": [
    "# ee.Authenticate()\n",
    "# ee.Initialize(opt_url=\"https://earthengine-highvolume.googleapis.com\", project='your-project-id')\n",
    "\n",
    "Map = geemap.Map()\n",
    "Map"
   ]
  },
  {
   "cell_type": "markdown",
   "id": "6",
   "metadata": {},
   "source": [
    "## Import region of interest"
   ]
  },
  {
   "cell_type": "code",
   "execution_count": null,
   "id": "7",
   "metadata": {},
   "outputs": [],
   "source": [
    "bbox = [-119.9875, 35.6004, -114.5383, 38.6995]\n",
    "region = ee.Geometry.BBox(*bbox)\n",
    "region_style = {\"color\": \"red\", \"width\": 1}\n",
    "Map.addLayer(region, region_style, \"Region\")\n",
    "Map.centerObject(region, 7)"
   ]
  },
  {
   "cell_type": "markdown",
   "id": "8",
   "metadata": {},
   "source": [
    "## Load Sentinel-2 data and create a median composite"
   ]
  },
  {
   "cell_type": "code",
   "execution_count": null,
   "id": "9",
   "metadata": {},
   "outputs": [],
   "source": [
    "image = (\n",
    "    ee.ImageCollection(\"COPERNICUS/S2_SR_HARMONIZED\")\n",
    "    .filterBounds(region)\n",
    "    .filterDate(\"2024-01-01\", \"2025-01-01\")\n",
    "    .filterMetadata(\"CLOUDY_PIXEL_PERCENTAGE\", \"less_than\", 10)\n",
    "    .select([\"B8\", \"B4\", \"B3\"])\n",
    "    .median()\n",
    "    .multiply(0.0001)\n",
    "    .clip(region)\n",
    ")\n",
    "\n",
    "image_vis = {\"bands\": [\"B8\", \"B4\", \"B3\"], \"min\": 0, \"max\": 0.3}\n",
    "\n",
    "Map.addLayer(image, image_vis, \"Sentinel 2 FCC\")"
   ]
  },
  {
   "cell_type": "markdown",
   "id": "10",
   "metadata": {},
   "source": [
    "## Sampling points from Earth Engine and converting to GeoDataFrame\n",
    "📝 **Note**: You can also skip the sampling step entirely and use your own point samples by loading a GeoDataFrame from local storage (e.g., a GeoJSON or shapefile).\n",
    "Just make sure the GeoDataFrame includes a unique identifier column (e.g., \"ID\") that can be used to name the extracted patches."
   ]
  },
  {
   "cell_type": "code",
   "execution_count": null,
   "id": "11",
   "metadata": {},
   "outputs": [],
   "source": [
    "# Sample random points from the image\n",
    "sample = image.sample(\n",
    "    region=region.buffer(-2000),\n",
    "    scale=100,\n",
    "    numPixels=100,\n",
    "    seed=42,\n",
    "    dropNulls=True,\n",
    "    tileScale=16,\n",
    "    geometries=True,\n",
    ")\n",
    "sample_style = {\"color\": \"blue\", \"width\": 2}\n",
    "Map.addLayer(sample.style(**sample_style), {}, \"Samples\")\n",
    "\n",
    "# Convert the Earth Engine FeatureCollection to a GeoDataFrame\n",
    "sample_gdf = geemap.ee_to_gdf(sample)\n",
    "sample_gdf[\"ID\"] = sample_gdf.index  # identifier\n",
    "print(sample_gdf.shape)\n",
    "sample_gdf.head()"
   ]
  },
  {
   "cell_type": "markdown",
   "id": "12",
   "metadata": {},
   "source": [
    "## ImagePatchExtractor"
   ]
  },
  {
   "cell_type": "code",
   "execution_count": null,
   "id": "13",
   "metadata": {},
   "outputs": [],
   "source": [
    "# Create an instance of the patch extractor\n",
    "patch_extractor = ImagePatchExtractor(\n",
    "    image=image,  # Earth Engine image to extract from\n",
    "    sample_gdf=sample_gdf,  # GeoDataFrame of sample points\n",
    "    identifier=\"ID\",  # Column name for naming output files\n",
    "    out_dir=\"images\",  # Output directory for patches\n",
    "    buffer=1270,  # Buffer (in meters) around each point\n",
    "    dimensions=\"256x256\",  # Output image size (width x height)\n",
    "    format=\"GEO_TIFF\",  # Output format: e.g., 'GEO_TIFF', 'png', 'jpg'\n",
    "    num_processes=20,  # Number of parallel processes to use\n",
    ")\n",
    "\n",
    "# Start extracting patches\n",
    "patch_extractor.extract_patches()"
   ]
  },
  {
   "cell_type": "markdown",
   "id": "14",
   "metadata": {},
   "source": [
    " ## Visualizing random image patches (RGB)"
   ]
  },
  {
   "cell_type": "code",
   "execution_count": null,
   "id": "15",
   "metadata": {},
   "outputs": [],
   "source": [
    "# Directory where image patches are saved\n",
    "patch_dir = \"images\"  # Update if needed\n",
    "\n",
    "# List of available GeoTIFF files\n",
    "tif_files = [f for f in os.listdir(patch_dir) if f.endswith(\".tif\")]\n",
    "\n",
    "# Randomly select 9 files\n",
    "selected_files = random.sample(tif_files, min(36, len(tif_files)))\n",
    "\n",
    "# Plot setup\n",
    "fig, axes = plt.subplots(6, 6, figsize=(12, 12))\n",
    "axes = axes.flatten()\n",
    "\n",
    "for ax, file in zip(axes, selected_files):\n",
    "    file_path = os.path.join(patch_dir, file)\n",
    "\n",
    "    with rio.open(file_path) as src:\n",
    "        img = src.read([1, 2, 3])  # (3, H, W)\n",
    "        img = np.transpose(img, (1, 2, 0))  # (H, W, 3)\n",
    "\n",
    "    # Percentile clipping to remove outliers\n",
    "    p_low, p_high = np.percentile(img, (2, 98))\n",
    "    img = np.clip(img, p_low, p_high)\n",
    "\n",
    "    # Normalize to 0–255\n",
    "    img = ((img - p_low) / (p_high - p_low)) * 255\n",
    "    img = np.clip(img, 0, 255).astype(np.uint8)\n",
    "\n",
    "    ax.imshow(img)\n",
    "    ax.set_title(file, fontsize=10)\n",
    "    ax.axis(\"off\")\n",
    "\n",
    "# Hide extra axes if fewer than 9 images\n",
    "for ax in axes[len(selected_files) :]:\n",
    "    ax.axis(\"off\")\n",
    "\n",
    "plt.tight_layout()\n",
    "plt.show()"
   ]
  }
 ],
 "metadata": {
  "kernelspec": {
   "display_name": "geo",
   "language": "python",
   "name": "geo"
  },
  "language_info": {
   "codemirror_mode": {
    "name": "ipython",
    "version": 3
   },
   "file_extension": ".py",
   "mimetype": "text/x-python",
   "name": "python",
   "nbconvert_exporter": "python",
   "pygments_lexer": "ipython3",
   "version": "3.12.11"
  }
 },
 "nbformat": 4,
 "nbformat_minor": 5
}
