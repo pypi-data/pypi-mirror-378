{
 "cells": [
  {
   "cell_type": "markdown",
   "id": "640ba1d5",
   "metadata": {},
   "source": [
    "# Line Plot\n",
    "\n",
    "![VueCore logo][vuecore_logo]\n",
    "\n",
    "[![Open In Colab][colab_badge]][colab_link]\n",
    "\n",
    "[VueCore][vuecore_repo] is a Python package for creating interactive and static visualizations of multi-omics data.\n",
    "It is part of a broader ecosystem of tools—including [ACore][acore_repo] for data processing and [VueGen][vuegen_repo] for automated reporting—that together enable end-to-end workflows for omics analysis.\n",
    "\n",
    "This notebook demonstrates how to generate line plots using plotting functions from VueCore. We showcase basic and\n",
    "advanced plot configurations, highlighting key customization options such as grouping, color mapping, text annotations, and export to multiple file formats.\n",
    "\n",
    "## Notebook structure\n",
    "\n",
    "First, we will set up the work environment by installing the necessary packages and importing the required libraries. Next, we will create basic and advanced line plots.\n",
    "\n",
    "0. [Work environment setup](#0-work-environment-setup)\n",
    "1. [Basic line plot](#1-basic-line-plot)\n",
    "2. [Advanced line plot](#2-advanced-line-plot)\n",
    "\n",
    "## Credits and Contributors\n",
    "- This notebook was created by Sebastián Ayala-Ruano under the supervision of Henry Webel and Alberto Santos, head of the [Multiomics Network Analytics Group (MoNA)][Mona] at the [Novo Nordisk Foundation Center for Biosustainability (DTU Biosustain)][Biosustain].\n",
    "- You can find more details about the project in this [GitHub repository][vuecore_repo].\n",
    "\n",
    "[colab_badge]: https://colab.research.google.com/assets/colab-badge.svg\n",
    "[colab_link]: https://colab.research.google.com/github/Multiomics-Analytics-Group/vuecore/blob/main/docs/api_examples/line_plot.ipynb\n",
    "[vuecore_logo]: https://raw.githubusercontent.com/Multiomics-Analytics-Group/vuecore/main/docs/images/logo/vuecore_logo.svg\n",
    "[Mona]: https://multiomics-analytics-group.github.io/\n",
    "[Biosustain]: https://www.biosustain.dtu.dk/\n",
    "[vuecore_repo]: https://github.com/Multiomics-Analytics-Group/vuecore\n",
    "[vuegen_repo]: https://github.com/Multiomics-Analytics-Group/vuegen\n",
    "[acore_repo]: https://github.com/Multiomics-Analytics-Group/acore"
   ]
  },
  {
   "cell_type": "markdown",
   "id": "3b504dfb",
   "metadata": {},
   "source": [
    "## 0. Work environment setup"
   ]
  },
  {
   "cell_type": "markdown",
   "id": "f0c056a7",
   "metadata": {},
   "source": [
    "### 0.1. Installing libraries and creating global variables for platform and working directory\n",
    "\n",
    "To run this notebook locally, you should create a virtual environment\n",
    "with the required libraries. If you are running this notebook on Google\n",
    "Colab, everything should be set."
   ]
  },
  {
   "cell_type": "code",
   "execution_count": null,
   "id": "36246ed6",
   "metadata": {
    "tags": [
     "hide-output"
    ]
   },
   "outputs": [],
   "source": [
    "# VueCore library\n",
    "%pip install vuecore"
   ]
  },
  {
   "cell_type": "code",
   "execution_count": null,
   "id": "963a9529",
   "metadata": {
    "tags": [
     "hide-cell"
    ]
   },
   "outputs": [],
   "source": [
    "import os\n",
    "\n",
    "IN_COLAB = \"COLAB_GPU\" in os.environ\n",
    "\n",
    "# Create a directory for outputs\n",
    "output_dir = \"./outputs\"\n",
    "os.makedirs(output_dir, exist_ok=True)"
   ]
  },
  {
   "cell_type": "markdown",
   "id": "31638f9a",
   "metadata": {},
   "source": [
    "### 0.2. Importing libraries"
   ]
  },
  {
   "cell_type": "code",
   "execution_count": null,
   "id": "06dbf6a2",
   "metadata": {},
   "outputs": [],
   "source": [
    "from pathlib import Path\n",
    "\n",
    "import pandas as pd\n",
    "\n",
    "from vuecore.plots.basic.line import create_line_plot"
   ]
  },
  {
   "cell_type": "markdown",
   "id": "5cc60050",
   "metadata": {},
   "source": [
    "### 0.3. Create sample data\n",
    "We create a synthetic dataset showing measurements over five days for\n",
    "two experiments (A, B), each tested under Control and Treatment\n",
    "conditions, with associated measurement errors."
   ]
  },
  {
   "cell_type": "code",
   "execution_count": null,
   "id": "ac2db647",
   "metadata": {
    "tags": [
     "hide-input"
    ]
   },
   "outputs": [],
   "source": [
    "sample_df = pd.DataFrame(\n",
    "    {\n",
    "        \"day\": list(range(1, 6)) * 4,  # 5 days\n",
    "        \"experiment\": [\"A\"] * 10 + [\"B\"] * 10,  # 2 experiments\n",
    "        \"condition\": ([\"Control\"] * 5 + [\"Treatment\"] * 5) * 2,  # 2 conditions\n",
    "        \"value\": [\n",
    "            11,  # A - Control\n",
    "            13,  # A - Control\n",
    "            15,  # A - Control\n",
    "            17,  # A - Control\n",
    "            18,  # A - Control\n",
    "            10,  # A - Treatment\n",
    "            12,  # A - Treatment\n",
    "            14,  # A - Treatment\n",
    "            15,  # A - Treatment\n",
    "            16,  # A - Treatment\n",
    "            19,  # B - Control\n",
    "            20,  # B - Control\n",
    "            21,  # B - Control\n",
    "            22,  # B - Control\n",
    "            23,  # B - Control\n",
    "            20,  # B - Treatment\n",
    "            22,  # B - Treatment\n",
    "            21,  # B - Treatment\n",
    "            23,  # B - Treatment\n",
    "            22,  # B - Treatment\n",
    "        ],\n",
    "        \"value_error\": [\n",
    "            1.0,\n",
    "            1.2,\n",
    "            0.9,\n",
    "            1.1,\n",
    "            1.0,\n",
    "            1.3,\n",
    "            1.0,\n",
    "            1.2,\n",
    "            1.4,\n",
    "            1.1,\n",
    "            2.0,\n",
    "            1.8,\n",
    "            2.1,\n",
    "            1.5,\n",
    "            2.3,\n",
    "            1.7,\n",
    "            2.0,\n",
    "            1.8,\n",
    "            2.1,\n",
    "            2.2,\n",
    "        ],\n",
    "    }\n",
    ")\n",
    "\n",
    "sample_df.head()"
   ]
  },
  {
   "cell_type": "markdown",
   "id": "ade445fe",
   "metadata": {},
   "source": [
    "## 1. Basic Line Plot\n",
    "A basic line plot can be created by simply providing the `x`, `y`, and\n",
    "`color` columns from the DataFrame\n",
    "using [`create_line_plot`](vuecore.plots.basic.line.create_line_plot)."
   ]
  },
  {
   "cell_type": "code",
   "execution_count": null,
   "id": "d0d34455",
   "metadata": {},
   "outputs": [],
   "source": [
    "# Define output path for the basic png plot\n",
    "file_path_basic_png = Path(output_dir) / \"line_plot_basic.png\"\n",
    "\n",
    "# Generate the basic bar plot\n",
    "line_plot_basic = create_line_plot(\n",
    "    data=sample_df,\n",
    "    x=\"day\",\n",
    "    y=\"value\",\n",
    "    color=\"experiment\",\n",
    "    line_dash=\"condition\",\n",
    "    file_path=file_path_basic_png,\n",
    ")\n",
    "\n",
    "line_plot_basic.show()"
   ]
  },
  {
   "cell_type": "markdown",
   "id": "f5e16637",
   "metadata": {},
   "source": [
    "## 2. Advanced Line Plot\n",
    "Here is an example of an advanced line plot with more descriptive\n",
    "parameters, including `error bars`, `line styles`, `markers`, and\n",
    "`custom colors`."
   ]
  },
  {
   "cell_type": "code",
   "execution_count": null,
   "id": "f9307e85",
   "metadata": {},
   "outputs": [],
   "source": [
    "# Define output file path for the HTML plot\n",
    "file_path_adv_html = Path(output_dir) / \"line_plot_advanced.html\"\n",
    "\n",
    "# Generate advanced line plot\n",
    "line_plot_adv = create_line_plot(\n",
    "    data=sample_df,\n",
    "    x=\"day\",\n",
    "    y=\"value\",\n",
    "    color=\"experiment\",\n",
    "    line_dash=\"condition\",\n",
    "    error_y=\"value_error\",\n",
    "    title=\"Experiment & Condition Trends\",\n",
    "    subtitle=\"Measurements over 5 days for two experiments (A, B) under Control and Treatment conditions.\",\n",
    "    labels={\n",
    "        \"day\": \"Day\",\n",
    "        \"value\": \"Response\",\n",
    "        \"condition\": \"Condition\",\n",
    "        \"experiment\": \"Experiment\",\n",
    "    },\n",
    "    color_discrete_map={\"A\": \"#508AA8\", \"B\": \"#A8505E\"},\n",
    "    line_dash_map={\"Control\": \"solid\", \"Treatment\": \"dot\"},\n",
    "    markers=True,\n",
    "    line_shape=\"spline\",\n",
    "    file_path=file_path_adv_html,\n",
    ")\n",
    "\n",
    "line_plot_adv.show()"
   ]
  }
 ],
 "metadata": {
  "kernelspec": {
   "display_name": "vuecore-dev",
   "language": "python",
   "name": "python3"
  },
  "language_info": {
   "codemirror_mode": {
    "name": "ipython",
    "version": 3
   },
   "file_extension": ".py",
   "mimetype": "text/x-python",
   "name": "python",
   "nbconvert_exporter": "python",
   "pygments_lexer": "ipython3",
   "version": "3.11.10"
  }
 },
 "nbformat": 4,
 "nbformat_minor": 5
}
