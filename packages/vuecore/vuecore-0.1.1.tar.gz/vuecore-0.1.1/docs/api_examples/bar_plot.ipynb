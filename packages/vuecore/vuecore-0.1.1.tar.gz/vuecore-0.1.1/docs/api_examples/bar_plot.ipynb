{
 "cells": [
  {
   "cell_type": "markdown",
   "id": "640ba1d5",
   "metadata": {},
   "source": [
    "# Bar Plot\n",
    "\n",
    "![VueCore logo][vuecore_logo]\n",
    "\n",
    "[![Open In Colab][colab_badge]][colab_link]\n",
    "\n",
    "[VueCore][vuecore_repo] is a Python package for creating interactive and static visualizations of multi-omics data.\n",
    "It is part of a broader ecosystem of tools—including [ACore][acore_repo] for data processing and [VueGen][vuegen_repo] for automated reporting—that together enable end-to-end workflows for omics analysis.\n",
    "\n",
    "This notebook demonstrates how to generate bar plots using plotting functions from VueCore. We showcase basic and advanced plot configurations, highlighting key customization options such as grouping, color mapping, text annotations, and export to multiple file formats.\n",
    "\n",
    "## Notebook structure\n",
    "\n",
    "First, we will set up the work environment by installing the necessary packages and importing the required libraries. Next, we will create basic and advanced bar plots.\n",
    "\n",
    "0. [Work environment setup](#0-work-environment-setup)\n",
    "1. [Basic bar plot](#1-basic-bar-plot)\n",
    "2. [Advanced bar plot](#2-advanced-bar-plot)\n",
    "\n",
    "## Credits and Contributors\n",
    "- This notebook was created by Sebastián Ayala-Ruano under the supervision of Henry Webel and Alberto Santos, head of the [Multiomics Network Analytics Group (MoNA)][Mona] at the [Novo Nordisk Foundation Center for Biosustainability (DTU Biosustain)][Biosustain].\n",
    "- You can find more details about the project in this [GitHub repository][vuecore_repo].\n",
    "\n",
    "[colab_badge]: https://colab.research.google.com/assets/colab-badge.svg\n",
    "[colab_link]: https://colab.research.google.com/github/Multiomics-Analytics-Group/vuecore/blob/main/docs/api_examples/bar_plot.ipynb\n",
    "[vuecore_logo]: https://raw.githubusercontent.com/Multiomics-Analytics-Group/vuecore/main/docs/images/logo/vuecore_logo.svg\n",
    "[Mona]: https://multiomics-analytics-group.github.io/\n",
    "[Biosustain]: https://www.biosustain.dtu.dk/\n",
    "[vuecore_repo]: https://github.com/Multiomics-Analytics-Group/vuecore\n",
    "[vuegen_repo]: https://github.com/Multiomics-Analytics-Group/vuegen\n",
    "[acore_repo]: https://github.com/Multiomics-Analytics-Group/acore"
   ]
  },
  {
   "cell_type": "markdown",
   "id": "3b504dfb",
   "metadata": {},
   "source": [
    "## 0. Work environment setup"
   ]
  },
  {
   "cell_type": "markdown",
   "id": "f0c056a7",
   "metadata": {},
   "source": [
    "### 0.1. Installing libraries and creating global variables for platform and working directory\n",
    "\n",
    "To run this notebook locally, you should create a virtual environment with the required libraries. If you are running this notebook on Google Colab, everything should be set."
   ]
  },
  {
   "cell_type": "code",
   "execution_count": null,
   "id": "36246ed6",
   "metadata": {
    "tags": [
     "hide-output"
    ]
   },
   "outputs": [],
   "source": [
    "# VueCore library\n",
    "%pip install vuecore"
   ]
  },
  {
   "cell_type": "code",
   "execution_count": null,
   "id": "963a9529",
   "metadata": {
    "tags": [
     "hide-cell"
    ]
   },
   "outputs": [],
   "source": [
    "import os\n",
    "\n",
    "IN_COLAB = \"COLAB_GPU\" in os.environ\n",
    "\n",
    "# Create a directory for outputs\n",
    "output_dir = \"./outputs\"\n",
    "os.makedirs(output_dir, exist_ok=True)"
   ]
  },
  {
   "cell_type": "markdown",
   "id": "31638f9a",
   "metadata": {},
   "source": [
    "### 0.2. Importing libraries"
   ]
  },
  {
   "cell_type": "code",
   "execution_count": null,
   "id": "06dbf6a2",
   "metadata": {},
   "outputs": [],
   "source": [
    "from pathlib import Path\n",
    "\n",
    "import numpy as np\n",
    "import pandas as pd\n",
    "\n",
    "from vuecore.plots.basic.bar import create_bar_plot"
   ]
  },
  {
   "cell_type": "markdown",
   "id": "5cc60050",
   "metadata": {},
   "source": [
    "### 0.3. Create sample data\n",
    "We create a synthetic dataset representing the relative abundances of common bacterial genera across various environmental samples."
   ]
  },
  {
   "cell_type": "code",
   "execution_count": null,
   "id": "ac2db647",
   "metadata": {
    "tags": [
     "hide-input"
    ]
   },
   "outputs": [],
   "source": [
    "# Set a random seed for reproducibility of the synthetic data\n",
    "np.random.seed(42)\n",
    "\n",
    "# Sample types and bacterial genera\n",
    "sample_types = [\"Soil\", \"Freshwater\", \"Ocean\", \"Sediment\", \"Wastewater\"]\n",
    "genera = [\n",
    "    \"Pseudomonas\",\n",
    "    \"Bacillus\",\n",
    "    \"Escherichia\",\n",
    "    \"Streptococcus\",\n",
    "    \"Lactobacillus\",\n",
    "    \"Bacteroides\",\n",
    "    \"Clostridium\",\n",
    "    \"Staphylococcus\",\n",
    "    \"Enterobacter\",\n",
    "    \"Klebsiella\",\n",
    "    \"Salmonella\",\n",
    "    \"Shigella\",\n",
    "    \"Vibrio\",\n",
    "]\n",
    "\n",
    "\n",
    "def make_sample(sample: str, genera: list[str]) -> list[dict]:\n",
    "    \"\"\"\n",
    "    Generate synthetic microbial abundance data for a single sample.\n",
    "\n",
    "    Parameters\n",
    "    ----------\n",
    "    sample : str\n",
    "        The sample type (e.g., 'Soil', 'Ocean', etc).\n",
    "    genera : list[str]\n",
    "        List of all possible bacterial genera.\n",
    "\n",
    "    Returns\n",
    "    -------\n",
    "    list[dict]\n",
    "        A list of dictionaries, each containing: Sample name, Genus,\n",
    "        Relative abundance, and Genera count.\n",
    "    \"\"\"\n",
    "    # Randomly pick a subset of genera present in this sample\n",
    "    selected = np.random.choice(\n",
    "        genera, np.random.randint(5, len(genera) + 1), replace=False\n",
    "    )\n",
    "\n",
    "    # Generate random raw abundances (shifted by +0.1 to avoid zeros)\n",
    "    raw = np.random.rand(len(selected)) + 0.1\n",
    "\n",
    "    # Normalize abundances so they sum to exactly 100%\n",
    "    abundances = (raw / raw.sum()) * 100\n",
    "\n",
    "    # Count how many genera are present\n",
    "    genera_count = len(selected)\n",
    "\n",
    "    # Store results into list of dicts\n",
    "    return [\n",
    "        {\n",
    "            \"Sample\": sample,\n",
    "            \"Genus\": genus,\n",
    "            \"Relative_Abundance\": abund,\n",
    "            \"Genera_Count\": genera_count,\n",
    "        }\n",
    "        for genus, abund in zip(selected, abundances)\n",
    "    ]\n",
    "\n",
    "\n",
    "# Generate full dataset by combining all samples\n",
    "abund_df = pd.DataFrame(\n",
    "    [row for sample in sample_types for row in make_sample(sample, genera)]\n",
    ")\n",
    "abund_df.head()"
   ]
  },
  {
   "cell_type": "markdown",
   "id": "ade445fe",
   "metadata": {},
   "source": [
    "## 1. Basic Bar Plot\n",
    "A basic bar plot can be created by simply providing the `x` and `y` columns from the DataFrame,\n",
    "along with style options like `title`\n",
    "using [`create_bar_plot`](vuecore.plots.basic.bar.create_bar_plot)."
   ]
  },
  {
   "cell_type": "code",
   "execution_count": null,
   "id": "d0d34455",
   "metadata": {},
   "outputs": [],
   "source": [
    "# Create a df with unique samples and their genera counts\n",
    "bar_plot_basic_df = abund_df.drop_duplicates(subset=\"Sample\")[\n",
    "    [\"Sample\", \"Genera_Count\"]\n",
    "]\n",
    "\n",
    "# Define output path for the basic png plot\n",
    "file_path_basic_png = Path(output_dir) / \"bar_plot_basic.png\"\n",
    "\n",
    "# Generate the basic bar plot\n",
    "bar_plot_basic = create_bar_plot(\n",
    "    data=bar_plot_basic_df,\n",
    "    x=\"Sample\",\n",
    "    y=\"Genera_Count\",\n",
    "    title=\"Genera Count by Sample Type\",\n",
    "    file_path=file_path_basic_png,\n",
    ")\n",
    "\n",
    "bar_plot_basic.show()"
   ]
  },
  {
   "cell_type": "markdown",
   "id": "f5e16637",
   "metadata": {},
   "source": [
    "## 2. Advanced Bar Plot\n",
    "Here is an example of an advanced `stacked bar plot` with more descriptive parameters, including `color grouping`, `text annotations`, `hover tooltips`, and export to `HTML`."
   ]
  },
  {
   "cell_type": "code",
   "execution_count": null,
   "id": "358e45fe",
   "metadata": {},
   "outputs": [],
   "source": [
    "# Define the output file path for the HTML plot\n",
    "file_path_adv_html = Path(output_dir) / \"bar_plot_advanced.html\"\n",
    "\n",
    "# Generate the advanced stacked bar plot\n",
    "bar_plot_adv = create_bar_plot(\n",
    "    data=abund_df,\n",
    "    x=\"Sample\",\n",
    "    y=\"Relative_Abundance\",\n",
    "    color=\"Genus\",\n",
    "    barmode=\"stack\",\n",
    "    title=\"Taxonomic Profile of Environmental Samples\",\n",
    "    subtitle=\"Relative Abundance of Bacterial Genera\",\n",
    "    labels={\n",
    "        \"Sample\": \"Environmental Sample Type\",\n",
    "        \"Relative_Abundance\": \"Relative Abundance (%)\",\n",
    "        \"Genus\": \"Genus\",\n",
    "    },\n",
    "    hover_name=\"Genus\",\n",
    "    hover_data=[\"Relative_Abundance\"],\n",
    "    opacity=0.9,\n",
    "    file_path=file_path_adv_html,\n",
    ")\n",
    "\n",
    "bar_plot_adv.show()"
   ]
  }
 ],
 "metadata": {
  "kernelspec": {
   "display_name": "vuecore-dev",
   "language": "python",
   "name": "python3"
  },
  "language_info": {
   "codemirror_mode": {
    "name": "ipython",
    "version": 3
   },
   "file_extension": ".py",
   "mimetype": "text/x-python",
   "name": "python",
   "nbconvert_exporter": "python",
   "pygments_lexer": "ipython3",
   "version": "3.12.11"
  }
 },
 "nbformat": 4,
 "nbformat_minor": 5
}
