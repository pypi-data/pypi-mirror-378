{
 "cells": [
  {
   "cell_type": "code",
   "execution_count": null,
   "id": "3775908f-ca36-4846-8f38-5adca39217f2",
   "metadata": {
    "collapsed": false,
    "language": "python",
    "name": "cell1"
   },
   "outputs": [],
   "source": [
    "import sys\n",
    "import zipfile\n",
    "\n",
    "\n",
    "def clear_modules(prefix):\n",
    "    \"\"\"Removes modules with the specified prefix from sys.modules.\"\"\"\n",
    "    for module_name in list(sys.modules.keys()):\n",
    "        if module_name.startswith(prefix) and (module_name != \"snowflake.connector.nanoarrow_arrow_iterator\"):\n",
    "            del sys.modules[module_name]\n",
    "\n",
    "\n",
    "clear_modules(\"snowflake.core\")\n",
    "\n",
    "snowlfake_core_zip_file_name = \"snowflake_core.zip\"\n",
    "stage_name = \"STAGE_PYTHON_TEST_NOTEBOOK\"\n",
    "\n",
    "from snowflake.snowpark.context import get_active_session\n",
    "\n",
    "session = get_active_session()\n",
    "\n",
    "get_status = session.file.get(f\"@{stage_name}/zip/{snowlfake_core_zip_file_name}\", \"/tmp/zip\")\n",
    "if len(get_status) != 1:\n",
    "    raise Exception(\"not able to load the snowflake_core\")\n",
    "\n",
    "with zipfile.ZipFile(f\"/tmp/zip/{snowlfake_core_zip_file_name}\", \"r\") as zip_ref:\n",
    "    zip_ref.extractall(\"/tmp/expanded/snowflake_core\")\n",
    "sys.path.insert(0, \"/tmp/expanded/snowflake_core/src\")\n",
    "\n",
    "def get_snowflake_version(cursor):\n",
    "    return cursor.execute(\"SELECT CURRENT_VERSION()\").fetchone()[0].strip()\n",
    "\n",
    "def is_prod_version(version_str) -> bool:\n",
    "    # Check if version string is all digits or decimals, because non-prod versions contain\n",
    "    # letters or other symbols.\n",
    "    return version_str and all(character.isdigit() or character == '.' for character in version_str)\n",
    "\n",
    "if is_prod_version(get_snowflake_version(session.connection.cursor())):\n",
    "    compute_pool_instance_family = \"CPU_X64_XS\"\n",
    "else:\n",
    "    compute_pool_instance_family = \"FAKE\""
   ]
  },
  {
   "cell_type": "code",
   "execution_count": null,
   "id": "ecbf9003-6b49-4b65-9554-28b1dad5b1d1",
   "metadata": {
    "collapsed": false,
    "language": "python",
    "name": "cell2"
   },
   "outputs": [],
   "source": [
    "from datetime import timedelta\n",
    "# from typing import List\n",
    "\n",
    "from snowflake.snowpark import Session\n",
    "from snowflake.snowpark.functions import col\n",
    "from snowflake.core import Root, CreateMode\n",
    "from snowflake.core.database import Database\n",
    "from snowflake.core.schema import Schema\n",
    "from snowflake.core.stage import Stage\n",
    "from snowflake.core.table import Table, TableColumn, PrimaryKey\n",
    "from snowflake.core.task import StoredProcedureCall, Task\n",
    "from snowflake.core.task.dagv1 import DAGOperation, DAG, DAGTask\n",
    "from snowflake.core.warehouse import Warehouse\n",
    "from snowflake.core._common import CreateMode\n",
    "\n",
    "from snowflake.core import Root\n",
    "\n",
    "root = Root(session)\n",
    "root.connection.cursor().execute(\"USE ROLE ACCOUNTADMIN\")"
   ]
  },
  {
   "cell_type": "code",
   "execution_count": null,
   "id": "4bffcaf0-51d7-4b3d-ae77-0a1a062e6831",
   "metadata": {
    "language": "python",
    "name": "cell75"
   },
   "outputs": [],
   "source": [
    "database = root.databases.create(Database(name=\"PYTHON_API_DB\"), mode=CreateMode.or_replace)\n",
    "\n",
    "schema = database.schemas.create(\n",
    "    Schema(name=\"PYTHON_API_SCHEMA\"),\n",
    "    mode=CreateMode.or_replace,\n",
    ")"
   ]
  },
  {
   "cell_type": "code",
   "execution_count": null,
   "id": "93c8b938-3b44-4549-8629-da9dbd71fd3b",
   "metadata": {
    "language": "python",
    "name": "cell3"
   },
   "outputs": [],
   "source": [
    "table = schema.tables.create(\n",
    "    Table(\n",
    "        name=\"PYTHON_API_TABLE\",\n",
    "        columns=[\n",
    "            TableColumn(\n",
    "                name=\"TEMPERATURE\",\n",
    "                datatype=\"int\",\n",
    "                nullable=False,\n",
    "            ),\n",
    "            TableColumn(\n",
    "                name=\"LOCATION\",\n",
    "                datatype=\"string\",\n",
    "            ),\n",
    "        ],\n",
    "    ),\n",
    "    mode=CreateMode.or_replace,\n",
    ")"
   ]
  },
  {
   "cell_type": "code",
   "execution_count": null,
   "id": "3cd53bdf-d6ec-4c3d-a0aa-db4084fd3fce",
   "metadata": {
    "language": "python",
    "name": "cell4"
   },
   "outputs": [],
   "source": [
    "table_details = table.fetch()"
   ]
  },
  {
   "cell_type": "code",
   "execution_count": null,
   "id": "de03f202-ebed-4fe2-88a4-19f339d64ca4",
   "metadata": {
    "language": "python",
    "name": "cell5"
   },
   "outputs": [],
   "source": [
    "table_details.to_dict()"
   ]
  },
  {
   "cell_type": "code",
   "execution_count": null,
   "id": "2346113d-e8ca-4989-8090-e84f27175323",
   "metadata": {
    "language": "python",
    "name": "cell6"
   },
   "outputs": [],
   "source": [
    "table_details.columns.append(\n",
    "    TableColumn(\n",
    "        name=\"elevation\",\n",
    "        datatype=\"int\",\n",
    "        nullable=False,\n",
    "        constraints=[PrimaryKey()],\n",
    "    )\n",
    ")"
   ]
  },
  {
   "cell_type": "code",
   "execution_count": null,
   "id": "1c7abeea-a912-4e28-8387-f6d9f13690b7",
   "metadata": {
    "language": "python",
    "name": "cell7"
   },
   "outputs": [],
   "source": [
    "table.create_or_update(table_details)"
   ]
  },
  {
   "cell_type": "code",
   "execution_count": null,
   "id": "14237ed5-6148-4029-9ace-93ead8b22632",
   "metadata": {
    "language": "python",
    "name": "cell8"
   },
   "outputs": [],
   "source": [
    "table.fetch().to_dict()"
   ]
  },
  {
   "cell_type": "code",
   "execution_count": null,
   "id": "3792fb23-dbd2-4213-b42d-fb379ccc9886",
   "metadata": {
    "language": "python",
    "name": "cell9"
   },
   "outputs": [],
   "source": [
    "warehouses = root.warehouses"
   ]
  },
  {
   "cell_type": "code",
   "execution_count": null,
   "id": "533ab0b0-533a-4971-ada8-5d862155da7b",
   "metadata": {
    "language": "python",
    "name": "cell10"
   },
   "outputs": [],
   "source": [
    "python_api_wh = Warehouse(\n",
    "    name=\"PYTHON_API_WH\",\n",
    "    warehouse_size=\"SMALL\",\n",
    "    auto_suspend=500,\n",
    ")\n",
    "\n",
    "warehouse = warehouses.create(python_api_wh, mode=CreateMode.or_replace)\n",
    "root.session.use_warehouse(\"PYTHON_API_WH\")"
   ]
  },
  {
   "cell_type": "code",
   "execution_count": null,
   "id": "27b9ef1c-bc5f-4607-8648-59c24bd0d712",
   "metadata": {
    "language": "python",
    "name": "cell11"
   },
   "outputs": [],
   "source": [
    "warehouse_details = warehouse.fetch()\n",
    "warehouse_details.to_dict()"
   ]
  },
  {
   "cell_type": "code",
   "execution_count": null,
   "id": "7c354553-8df3-4181-afcf-fe9ca77af3a5",
   "metadata": {
    "language": "python",
    "name": "cell12"
   },
   "outputs": [],
   "source": [
    "warehouse_list = warehouses.iter(like=\"PYTHON_API_WH\")\n",
    "result = next(warehouse_list)\n",
    "result.to_dict()"
   ]
  },
  {
   "cell_type": "code",
   "execution_count": null,
   "id": "0ba5e135-92dd-424e-b0e0-54dc5be0fb58",
   "metadata": {
    "language": "python",
    "name": "cell13"
   },
   "outputs": [],
   "source": [
    "warehouse = root.warehouses.create(\n",
    "    Warehouse(\n",
    "        name=\"PYTHON_API_WH\",\n",
    "        warehouse_size=\"LARGE\",\n",
    "        auto_suspend=500,\n",
    "    ),\n",
    "    mode=CreateMode.or_replace,\n",
    ")"
   ]
  },
  {
   "cell_type": "code",
   "execution_count": null,
   "id": "bc0d14da-556a-4503-8f39-279679b931b4",
   "metadata": {
    "language": "python",
    "name": "cell14"
   },
   "outputs": [],
   "source": [
    "warehouse.fetch().size"
   ]
  },
  {
   "cell_type": "code",
   "execution_count": null,
   "id": "c7f70fab-aab9-480b-b767-6ae77f82536d",
   "metadata": {
    "language": "python",
    "name": "cell16"
   },
   "outputs": [],
   "source": [
    "from snowflake.core import Root\n",
    "from snowflake.core.database import Database\n",
    "\n",
    "my_db = Database(name=\"my_db\")\n",
    "root.databases.create(my_db, mode=CreateMode.or_replace)"
   ]
  },
  {
   "cell_type": "code",
   "execution_count": null,
   "id": "d0d46f95-4581-407d-9b28-e2043410118d",
   "metadata": {
    "language": "python",
    "name": "cell17"
   },
   "outputs": [],
   "source": [
    "from snowflake.core import Root\n",
    "from snowflake.core.database import Database\n",
    "\n",
    "my_db = root.databases[\"my_db\"].fetch()\n",
    "print(my_db.to_dict())"
   ]
  },
  {
   "cell_type": "code",
   "execution_count": null,
   "id": "21d9a439-9151-4258-b37d-784dc163abe1",
   "metadata": {
    "language": "python",
    "name": "cell18"
   },
   "outputs": [],
   "source": [
    "from snowflake.core import Root\n",
    "\n",
    "databases = root.databases.iter(like=\"my%\")\n",
    "for database_temp in databases:\n",
    "    print(database_temp.name)"
   ]
  },
  {
   "cell_type": "code",
   "execution_count": null,
   "id": "9fac9ffb-5351-4345-bdcc-13ce96c6edfe",
   "metadata": {
    "language": "python",
    "name": "cell20"
   },
   "outputs": [],
   "source": [
    "from snowflake.core import Root\n",
    "from snowflake.core.schema import Schema\n",
    "\n",
    "my_schema = Schema(name=\"my_schema\")\n",
    "root.databases[\"my_db\"].schemas.create(my_schema, mode=CreateMode.or_replace)"
   ]
  },
  {
   "cell_type": "code",
   "execution_count": null,
   "id": "e61933ca-946e-488e-bb8c-b5a02516ef4c",
   "metadata": {
    "language": "python",
    "name": "cell21"
   },
   "outputs": [],
   "source": [
    "from snowflake.core import Root\n",
    "from snowflake.core.schema import Schema\n",
    "\n",
    "my_schema = root.databases[\"my_db\"].schemas[\"my_schema\"].fetch()\n",
    "print(my_schema.to_dict())"
   ]
  },
  {
   "cell_type": "code",
   "execution_count": null,
   "id": "c55da932-5241-4325-84c0-7178ee8f174d",
   "metadata": {
    "language": "python",
    "name": "cell22"
   },
   "outputs": [],
   "source": [
    "from snowflake.core import Root\n",
    "\n",
    "schema_list = root.databases[\"my_db\"].schemas.iter()\n",
    "for schema_obj in schema_list:\n",
    "    print(schema_obj.name)"
   ]
  },
  {
   "cell_type": "code",
   "execution_count": null,
   "id": "b22f9d2b-0902-4bd9-bd37-c5540b34a484",
   "metadata": {
    "language": "python",
    "name": "cell24"
   },
   "outputs": [],
   "source": [
    "from snowflake.core import Root\n",
    "from snowflake.core.table import Table, TableColumn\n",
    "\n",
    "my_table = Table(\n",
    "    name=\"my_table\",\n",
    "    columns=[TableColumn(name=\"c1\", datatype=\"int\", nullable=False), TableColumn(name=\"c2\", datatype=\"string\")],\n",
    ")\n",
    "root.databases[\"my_db\"].schemas[\"my_schema\"].tables.create(my_table, mode=CreateMode.or_replace)"
   ]
  },
  {
   "cell_type": "code",
   "execution_count": null,
   "id": "94150161-9c0e-4a26-bbed-ab284114c38d",
   "metadata": {
    "language": "python",
    "name": "cell25"
   },
   "outputs": [],
   "source": [
    "from snowflake.core import Root\n",
    "from snowflake.core.table import Table\n",
    "\n",
    "my_table = root.databases[\"my_db\"].schemas[\"my_schema\"].tables[\"my_table\"].fetch()\n",
    "my_table.to_dict()"
   ]
  },
  {
   "cell_type": "code",
   "execution_count": null,
   "id": "76c683f7-a3af-498a-b9b1-c434a45841a2",
   "metadata": {
    "language": "python",
    "name": "cell26"
   },
   "outputs": [],
   "source": [
    "from snowflake.core import Root\n",
    "from snowflake.core.table import PrimaryKey, Table, TableColumn\n",
    "\n",
    "my_table = root.databases[\"my_db\"].schemas[\"my_schema\"].tables[\"my_table\"].fetch()\n",
    "my_table.columns.append(TableColumn(name=\"c3\", datatype=\"int\", nullable=False, constraints=[PrimaryKey()]))\n",
    "\n",
    "my_table_res = root.databases[\"my_db\"].schemas[\"my_schema\"].tables[\"my_table\"]\n",
    "my_table_res.create_or_update(my_table)"
   ]
  },
  {
   "cell_type": "code",
   "execution_count": null,
   "id": "6d6bd050-d1cb-4c9a-b189-4126b7aca8ca",
   "metadata": {
    "language": "python",
    "name": "cell27"
   },
   "outputs": [],
   "source": [
    "from snowflake.core import Root\n",
    "\n",
    "tables = root.databases[\"my_db\"].schemas[\"my_schema\"].tables.iter(like=\"my%\")\n",
    "for table_obj in tables:\n",
    "    print(table_obj.name)"
   ]
  },
  {
   "cell_type": "code",
   "execution_count": null,
   "id": "891414c1-f987-4a4e-8286-95f9ebf5dd0d",
   "metadata": {
    "language": "python",
    "name": "cell28"
   },
   "outputs": [],
   "source": [
    "from snowflake.core import Root\n",
    "from snowflake.core.table import Table\n",
    "\n",
    "my_table_res = root.databases[\"my_db\"].schemas[\"my_schema\"].tables[\"my_table\"]\n",
    "# my_table_res.delete()"
   ]
  },
  {
   "cell_type": "code",
   "execution_count": null,
   "id": "6e8ba4cc-a5c0-475d-8942-4c6ed3a8cf01",
   "metadata": {
    "collapsed": false,
    "language": "python",
    "name": "cell29"
   },
   "outputs": [],
   "source": [
    "from snowflake.core import Root\n",
    "from snowflake.core.warehouse import Warehouse\n",
    "\n",
    "my_wh = Warehouse(\n",
    "    name=\"my_wh\",\n",
    "    warehouse_size=\"SMALL\",\n",
    "    auto_suspend=600,\n",
    ")\n",
    "warehouses = root.warehouses\n",
    "warehouses.create(my_wh, mode=CreateMode.or_replace)"
   ]
  },
  {
   "cell_type": "code",
   "execution_count": null,
   "id": "3921dba8-3793-4c20-b11b-9e6e4ddb46f2",
   "metadata": {
    "language": "python",
    "name": "cell30"
   },
   "outputs": [],
   "source": [
    "from snowflake.core import Root\n",
    "from snowflake.core.warehouse import Warehouse\n",
    "\n",
    "my_wh = root.warehouses[\"my_wh\"].fetch()\n",
    "print(my_wh.to_dict())"
   ]
  },
  {
   "cell_type": "code",
   "execution_count": null,
   "id": "16ff0f5d-89b6-4cf7-af1a-4fcbff07ce9a",
   "metadata": {
    "language": "python",
    "name": "cell31"
   },
   "outputs": [],
   "source": [
    "from snowflake.core import Root\n",
    "from snowflake.core.warehouse import Warehouse, WarehouseCollection\n",
    "\n",
    "warehouses: WarehouseCollection = root.warehouses\n",
    "wh_iter = warehouses.iter(like=\"my%\")  # returns a PagedIter[Warehouse]\n",
    "for wh_obj in wh_iter:\n",
    "    print(wh_obj.name)"
   ]
  },
  {
   "cell_type": "code",
   "execution_count": null,
   "id": "bc611159-4915-4f2e-836e-0e37f289d700",
   "metadata": {
    "language": "python",
    "name": "cell32"
   },
   "outputs": [],
   "source": [
    "from snowflake.core import Root\n",
    "from snowflake.core.warehouse import Warehouse\n",
    "\n",
    "my_wh_res = root.warehouses[\"my_wh\"]\n",
    "\n",
    "my_wh_res.suspend()\n",
    "my_wh_res.resume()\n",
    "my_wh_res.abort_all_queries()\n",
    "# my_wh_res.delete()"
   ]
  },
  {
   "cell_type": "code",
   "execution_count": null,
   "id": "3df15ca8-abc6-4d3f-9faf-d64c4b78a181",
   "metadata": {
    "language": "python",
    "name": "cell33"
   },
   "outputs": [],
   "source": [
    "from snowflake.core.user import User\n",
    "\n",
    "my_user = User(name=\"my_user\")\n",
    "root.users.create(my_user, mode=CreateMode.or_replace)"
   ]
  },
  {
   "cell_type": "code",
   "execution_count": null,
   "id": "51e50f12-d903-41f6-bdf9-0d98e9881803",
   "metadata": {
    "language": "python",
    "name": "cell34"
   },
   "outputs": [],
   "source": [
    "from snowflake.core.user import User\n",
    "\n",
    "my_user = root.users[\"my_user\"].fetch()\n",
    "my_user.to_dict()"
   ]
  },
  {
   "cell_type": "code",
   "execution_count": null,
   "id": "1ecd1c1c-c6b7-4e48-ac27-97b895c8d40e",
   "metadata": {
    "language": "python",
    "name": "cell35"
   },
   "outputs": [],
   "source": [
    "users = root.users.iter(like=\"my%\")\n",
    "for user in users:\n",
    "    print(user.name)"
   ]
  },
  {
   "cell_type": "code",
   "execution_count": null,
   "id": "6397359d-8a66-4d5f-967a-f7866646b663",
   "metadata": {
    "language": "python",
    "name": "cell36"
   },
   "outputs": [],
   "source": [
    "my_user_res = root.users[\"my_user\"]\n",
    "# my_user_res.delete()"
   ]
  },
  {
   "cell_type": "code",
   "execution_count": null,
   "id": "8c8fe2bb-bb3b-45ae-b22a-7cc4bd206185",
   "metadata": {
    "language": "python",
    "name": "cell37"
   },
   "outputs": [],
   "source": [
    "from snowflake.core.role import Role\n",
    "\n",
    "my_role = Role(name=\"my_role\")\n",
    "root.roles.create(my_role, mode=CreateMode.or_replace)"
   ]
  },
  {
   "cell_type": "code",
   "execution_count": null,
   "id": "06dbbc4c-a61e-4fe7-8e54-bb07b17e1f5d",
   "metadata": {
    "language": "python",
    "name": "cell38"
   },
   "outputs": [],
   "source": [
    "from snowflake.core.grant import Grant\n",
    "from snowflake.core.grant._grantee import Grantees\n",
    "from snowflake.core.grant._privileges import Privileges\n",
    "from snowflake.core.grant._securables import Securables\n",
    "\n",
    "root.grants.grant(Grant(grantee=Grantees.role(name=\"my_role\"), securable=Securables.role(\"accountadmin\")))\n",
    "\n",
    "root.grants.grant(\n",
    "    Grant(grantee=Grantees.user(name=session.get_current_user()), securable=Securables.role(name=\"my_role\"))\n",
    ")\n",
    "\n",
    "current_role = session.get_current_role()\n",
    "root.session.use_role(\"my_role\")"
   ]
  },
  {
   "cell_type": "code",
   "execution_count": null,
   "id": "a72865d7-7cb0-4623-8066-b62579487f58",
   "metadata": {
    "language": "python",
    "name": "cell39"
   },
   "outputs": [],
   "source": [
    "role_list = root.roles.iter()\n",
    "for role_obj in role_list:\n",
    "    print(role_obj.name)"
   ]
  },
  {
   "cell_type": "code",
   "execution_count": null,
   "id": "48c22e2f-0c90-4a9c-a8b4-3e52752c31b6",
   "metadata": {
    "language": "python",
    "name": "cell41"
   },
   "outputs": [],
   "source": [
    "from snowflake.core.grant import Grant\n",
    "from snowflake.core.grant._grantee import Grantees\n",
    "from snowflake.core.grant._privileges import Privileges\n",
    "from snowflake.core.grant._securables import Securables\n",
    "\n",
    "root.grants.grant(\n",
    "    Grant(\n",
    "        grantee=Grantees.role(name=\"my_role\"),\n",
    "        securable=Securables.current_account,\n",
    "        privileges=[Privileges.create_database, Privileges.create_warehouse],\n",
    "    )\n",
    ")"
   ]
  },
  {
   "cell_type": "code",
   "execution_count": null,
   "id": "dbc063e2-c703-4db2-8913-1e57c1412e3e",
   "metadata": {
    "language": "python",
    "name": "cell44"
   },
   "outputs": [],
   "source": [
    "from snowflake.core.stage import Stage, StageEncryption\n",
    "\n",
    "my_stage = Stage(name=\"my_stage\", encryption=StageEncryption(type=\"SNOWFLAKE_SSE\"))\n",
    "stages = root.databases[\"my_db\"].schemas[\"my_schema\"].stages\n",
    "stages.create(my_stage, mode=CreateMode.or_replace)"
   ]
  },
  {
   "cell_type": "code",
   "execution_count": null,
   "id": "81a7c293-9148-477c-8010-e2093941a967",
   "metadata": {
    "language": "python",
    "name": "cell45"
   },
   "outputs": [],
   "source": [
    "from snowflake.core.stage import Stage\n",
    "\n",
    "my_stage = root.databases[\"my_db\"].schemas[\"my_schema\"].stages[\"my_stage\"].fetch()\n",
    "my_stage.to_dict()"
   ]
  },
  {
   "cell_type": "code",
   "execution_count": null,
   "id": "0076cd09-609d-4135-b066-4075cebab03c",
   "metadata": {
    "language": "python",
    "name": "cell46"
   },
   "outputs": [],
   "source": [
    "from snowflake.core.stage import Stage, StageCollection\n",
    "\n",
    "stages: StageCollection = root.databases[\"my_db\"].schemas[\"my_schema\"].stages\n",
    "stage_iter = stages.iter(like=\"my%\")  # returns a PagedIter[Stage]\n",
    "for stage_obj in stage_iter:\n",
    "    print(stage_obj.name)"
   ]
  },
  {
   "cell_type": "code",
   "execution_count": null,
   "id": "b95bc53c-6a20-4bcc-b934-29bc13d86e75",
   "metadata": {
    "language": "python",
    "name": "cell48"
   },
   "outputs": [],
   "source": [
    "from snowflake.core.compute_pool import ComputePool\n",
    "\n",
    "compute_pool = ComputePool(\n",
    "    name=\"my_compute_pool\", min_nodes=1, max_nodes=1, instance_family=compute_pool_instance_family, auto_resume=False\n",
    ")\n",
    "root.compute_pools.create(compute_pool, mode=\"ifNotExists\")"
   ]
  },
  {
   "cell_type": "code",
   "execution_count": null,
   "id": "2e808805-5276-4d2c-8b75-8f10097e105b",
   "metadata": {
    "language": "python",
    "name": "cell49"
   },
   "outputs": [],
   "source": [
    "from snowflake.core.compute_pool import ComputePool\n",
    "\n",
    "compute_pool = root.compute_pools[\"my_compute_pool\"].fetch()\n",
    "compute_pool.to_dict()"
   ]
  },
  {
   "cell_type": "code",
   "execution_count": null,
   "id": "b55c7308-e6de-432d-9ad6-640a2bf1faa1",
   "metadata": {
    "language": "python",
    "name": "cell50"
   },
   "outputs": [],
   "source": [
    "compute_pools = root.compute_pools.iter(like=\"my%\")\n",
    "for compute_pool in compute_pools:\n",
    "    print(compute_pool.name)"
   ]
  },
  {
   "cell_type": "code",
   "execution_count": null,
   "id": "23410539-4be3-43e2-ac19-e57be176f08f",
   "metadata": {
    "language": "python",
    "name": "cell51"
   },
   "outputs": [],
   "source": [
    "from snowflake.core.compute_pool import ComputePoolResource\n",
    "\n",
    "compute_pool_res = root.compute_pools[\"my_compute_pool\"]\n",
    "compute_pool_res.suspend()\n",
    "compute_pool_res.resume()\n",
    "compute_pool_res.stop_all_services()"
   ]
  },
  {
   "cell_type": "code",
   "execution_count": null,
   "id": "fea4d890-3f58-4e09-b050-908c3b673b1e",
   "metadata": {
    "language": "python",
    "name": "cell52"
   },
   "outputs": [],
   "source": [
    "from snowflake.core.image_repository import ImageRepository\n",
    "\n",
    "my_repo = ImageRepository(\"my_repo\")\n",
    "root.databases[\"my_db\"].schemas[\"my_schema\"].image_repositories.create(my_repo, mode=CreateMode.or_replace)"
   ]
  },
  {
   "cell_type": "code",
   "execution_count": null,
   "id": "41b117f3-f3f3-48de-9cfe-459b712ff54b",
   "metadata": {
    "language": "python",
    "name": "cell53"
   },
   "outputs": [],
   "source": [
    "from snowflake.core.image_repository import ImageRepository\n",
    "\n",
    "my_repo_res = root.databases[\"my_db\"].schemas[\"my_schema\"].image_repositories[\"my_repo\"]\n",
    "my_repo = my_repo_res.fetch()\n",
    "print(my_repo.owner)"
   ]
  },
  {
   "cell_type": "code",
   "execution_count": null,
   "id": "0447c497-bd8c-4d96-a02f-c9a3923b6870",
   "metadata": {
    "language": "python",
    "name": "cell54"
   },
   "outputs": [],
   "source": [
    "repo_list = root.databases[\"my_db\"].schemas[\"my_schema\"].image_repositories.iter()\n",
    "for repo_obj in repo_list:\n",
    "    print(repo_obj.name)"
   ]
  },
  {
   "cell_type": "code",
   "execution_count": null,
   "id": "e9529c32-e5d4-45e9-8f39-d5560288db44",
   "metadata": {
    "language": "python",
    "name": "cell55"
   },
   "outputs": [],
   "source": [
    "from snowflake.core.image_repository import ImageRepositoryResource\n",
    "\n",
    "my_repo_res = root.databases[\"my_db\"].schemas[\"my_schema\"].image_repositories[\"my_repo\"]\n",
    "# my_repo_res.delete()"
   ]
  },
  {
   "cell_type": "code",
   "execution_count": null,
   "id": "4e2fd9ca-5765-407a-ab43-7130f781d37e",
   "metadata": {
    "language": "python",
    "name": "cell56"
   },
   "outputs": [],
   "source": [
    "# from snowflake.core.service import Service, ServiceSpec\n",
    "\n",
    "# my_service = Service(name=\"my_service\", min_instances=1, max_instances=2, compute_pool=\"my_compute_pool\", spec=ServiceSpec(\"@my_stage/my_service_spec.yaml\"))\n",
    "# root.databases[\"my_db\"].schemas[\"my_schema\"].services.create(my_service)"
   ]
  },
  {
   "cell_type": "code",
   "execution_count": null,
   "id": "f18e1879-eebe-424f-bfc4-54ae4eaae8f4",
   "metadata": {
    "language": "python",
    "name": "cell57"
   },
   "outputs": [],
   "source": [
    "# from textwrap import dedent\n",
    "# from snowflake.core.service import Service, ServiceSpec\n",
    "\n",
    "# spec_text = dedent(f\"\"\"\\\n",
    "#     spec:\n",
    "#       containers:\n",
    "#       - name: hello-world\n",
    "#         image: repo/hello-world:latest\n",
    "#       endpoints:\n",
    "#       - name: hello-world-endpoint\n",
    "#         port: 8080\n",
    "#         public: true\n",
    "#     \"\"\")\n",
    "\n",
    "# my_service = Service(name=\"my_service\", min_instances=1, max_instances=2, compute_pool=\"my_compute_pool\", spec=ServiceSpec(spec_text))\n",
    "# root.databases[\"my_db\"].schemas[\"my_schema\"].services.create(my_service)"
   ]
  },
  {
   "cell_type": "code",
   "execution_count": null,
   "id": "64749ce4-ae41-4c67-8d9a-3ba88c390e27",
   "metadata": {
    "language": "python",
    "name": "cell58"
   },
   "outputs": [],
   "source": [
    "# from snowflake.core.function import FunctionArgument, ServiceFunction\n",
    "\n",
    "# root.databases[\"my_db\"].schemas[\"my_schema\"].functions.create(\n",
    "#   ServiceFunction(\n",
    "#     name=\"my-udf\",\n",
    "#     arguments=[\n",
    "#         FunctionArgument(name=\"input\", datatype=\"TEXT\")\n",
    "#     ],\n",
    "#     returns=\"TEXT\",\n",
    "#     service=\"hello-world\",\n",
    "#     endpoint=\"'hello-world-endpoint'\",\n",
    "#     path=\"/hello-world-path\",\n",
    "#     max_batch_rows=5,\n",
    "#   ),\n",
    "#   mode = CreateMode.or_replace\n",
    "# )"
   ]
  },
  {
   "cell_type": "code",
   "execution_count": null,
   "id": "748c5a24-0323-4a7a-9084-9d7258d0a2bc",
   "metadata": {
    "language": "python",
    "name": "cell59"
   },
   "outputs": [],
   "source": [
    "# result = root.databases[\"my_db\"].schemas[\"my_schema\"].functions[\"my-udf(TEXT)\"].execute_function([\"test\"])\n",
    "# print(result)"
   ]
  },
  {
   "cell_type": "code",
   "execution_count": null,
   "id": "949e3705-ea3a-456e-9fe7-a40c224325fe",
   "metadata": {
    "language": "python",
    "name": "cell60"
   },
   "outputs": [],
   "source": [
    "# from snowflake.core.service import Service\n",
    "\n",
    "# my_service = root.databases[\"my_db\"].schemas[\"my_schema\"].services[\"my_service\"].fetch()"
   ]
  },
  {
   "cell_type": "code",
   "execution_count": null,
   "id": "c1d59dc2-af57-4a7f-9926-0d54e901cdc6",
   "metadata": {
    "language": "python",
    "name": "cell61"
   },
   "outputs": [],
   "source": [
    "services = root.databases[\"my_db\"].schemas[\"my_schema\"].services.iter(like=\"abc%\")\n",
    "for service_obj in services:\n",
    "    print(service_obj.name)"
   ]
  },
  {
   "cell_type": "code",
   "execution_count": null,
   "id": "dd1138d4-beb4-48ec-8534-9f07cb1d135d",
   "metadata": {
    "language": "python",
    "name": "cell62"
   },
   "outputs": [],
   "source": [
    "# from snowflake.core.service import ServiceResource\n",
    "\n",
    "# my_service_res = root.databases[\"my_db\"].schemas[\"my_schema\"].services[\"my_service\"]\n",
    "\n",
    "# my_service_res.suspend()\n",
    "# my_service_res.resume()\n",
    "# status = my_service_res.get_service_status(10)"
   ]
  },
  {
   "cell_type": "code",
   "execution_count": null,
   "id": "4c86790d-240b-4a14-b39f-f36e15ee0e8f",
   "metadata": {
    "language": "python",
    "name": "cell63"
   },
   "outputs": [],
   "source": [
    "stages = root.databases[database.name].schemas[schema.name].stages\n",
    "stages.create(Stage(name=\"TASKS_STAGE\"), mode=CreateMode.or_replace)"
   ]
  },
  {
   "cell_type": "code",
   "execution_count": null,
   "id": "fbdb42ba-4b4e-49a1-b30f-4a895c7225c9",
   "metadata": {
    "language": "python",
    "name": "cell64"
   },
   "outputs": [],
   "source": [
    "def trunc(session: Session, from_table: str, to_table: str, count: int) -> str:\n",
    "    (session.table(from_table).limit(count).write.save_as_table(to_table))\n",
    "    return \"Truncated table successfully created!\"\n",
    "\n",
    "\n",
    "def filter_by_shipmode(session: Session, mode: str) -> str:\n",
    "    (\n",
    "        session.table(\"snowflake_sample_data.tpch_sf100.lineitem\")\n",
    "        .filter(col(\"L_SHIPMODE\") == mode)\n",
    "        .limit(10)\n",
    "        .write.save_as_table(\"filter_table\")\n",
    "    )\n",
    "    return \"Filter table successfully created!\""
   ]
  },
  {
   "cell_type": "code",
   "execution_count": null,
   "id": "54733bfa-7dd7-4f67-a48a-4160cbe38dcf",
   "metadata": {
    "language": "python",
    "name": "cell65"
   },
   "outputs": [],
   "source": [
    "tasks_stage_name = f\"{database.name}.{schema.name}.TASKS_STAGE\"\n",
    "\n",
    "task1 = Task(\n",
    "    name=\"task_python_api_trunc\",\n",
    "    definition=StoredProcedureCall(\n",
    "        func=trunc,\n",
    "        stage_location=f\"@{tasks_stage_name}\",\n",
    "        packages=[\"snowflake-snowpark-python\"],\n",
    "    ),\n",
    "    warehouse=\"PYTHON_API_WH\",\n",
    "    schedule=timedelta(minutes=1),\n",
    ")\n",
    "\n",
    "task2 = Task(\n",
    "    name=\"task_python_api_filter\",\n",
    "    definition=StoredProcedureCall(\n",
    "        func=filter_by_shipmode,\n",
    "        stage_location=f\"@{tasks_stage_name}\",\n",
    "        packages=[\"snowflake-snowpark-python\"],\n",
    "    ),\n",
    "    warehouse=\"PYTHON_API_WH\",\n",
    ")"
   ]
  },
  {
   "cell_type": "code",
   "execution_count": null,
   "id": "edbebe67-a7f7-4606-b836-a815bd8203ce",
   "metadata": {
    "language": "python",
    "name": "cell66"
   },
   "outputs": [],
   "source": [
    "# create the task in the Snowflake database\n",
    "tasks = schema.tasks\n",
    "root.session.use_warehouse(\"PYTHON_API_WH\")\n",
    "\n",
    "trunc_task = tasks.create(task1, mode=CreateMode.or_replace)\n",
    "\n",
    "# should be the fully qualified name\n",
    "# task2.predecessors = [f\"{trunc_task.database.name}.{trunc_task.schema.name}.{trunc_task.name}\"]\n",
    "task2.predecessors = [trunc_task.name]\n",
    "filter_task = tasks.create(task2, mode=CreateMode.or_replace)"
   ]
  },
  {
   "cell_type": "code",
   "execution_count": null,
   "id": "ba772967-213a-4e13-8a4c-480652f6e2fa",
   "metadata": {
    "language": "python",
    "name": "cell67"
   },
   "outputs": [],
   "source": [
    "trunc_task.resume()"
   ]
  },
  {
   "cell_type": "code",
   "execution_count": null,
   "id": "98a4b046-f77c-45c9-b279-869481363df4",
   "metadata": {
    "language": "python",
    "name": "cell68"
   },
   "outputs": [],
   "source": [
    "taskiter = tasks.iter()\n",
    "for t in taskiter:\n",
    "    print(\"Name: \", t.name, \"| State: \", t.state)"
   ]
  },
  {
   "cell_type": "code",
   "execution_count": null,
   "id": "b08c6463-dc26-470c-ba3a-8f87e440dd39",
   "metadata": {
    "language": "python",
    "name": "cell69"
   },
   "outputs": [],
   "source": [
    "trunc_task.suspend()"
   ]
  },
  {
   "cell_type": "code",
   "execution_count": null,
   "id": "879514dd-c4ed-483a-8ef4-65dc48941d5d",
   "metadata": {
    "language": "python",
    "name": "cell70"
   },
   "outputs": [],
   "source": [
    "# trunc_task.delete()\n",
    "# filter_task.delete()"
   ]
  },
  {
   "cell_type": "code",
   "execution_count": null,
   "id": "c4eea704-aaac-4cf7-8392-916b25812279",
   "metadata": {
    "language": "python",
    "name": "cell71"
   },
   "outputs": [],
   "source": [
    "dag_name = \"python_api_dag\"\n",
    "dag = DAG(name=dag_name, schedule=timedelta(days=1))\n",
    "with dag:\n",
    "    dag_task1 = DAGTask(\n",
    "        name=\"task_python_api_trunc\",\n",
    "        definition=StoredProcedureCall(\n",
    "            func=trunc, stage_location=f\"@{tasks_stage_name}\", packages=[\"snowflake-snowpark-python\"]\n",
    "        ),\n",
    "        warehouse=\"PYTHON_API_WH\",\n",
    "    )\n",
    "    dag_task2 = DAGTask(\n",
    "        name=\"task_python_api_filter\",\n",
    "        definition=StoredProcedureCall(\n",
    "            func=filter_by_shipmode, stage_location=f\"@{tasks_stage_name}\", packages=[\"snowflake-snowpark-python\"]\n",
    "        ),\n",
    "        warehouse=\"PYTHON_API_WH\",\n",
    "    )\n",
    "    dag_task1 >> dag_task2\n",
    "dag_op = DAGOperation(schema)\n",
    "dag_op.deploy(dag, mode=CreateMode.or_replace)"
   ]
  },
  {
   "cell_type": "code",
   "execution_count": null,
   "id": "1df4f261-2a9f-4741-bc16-fba6e7a810ce",
   "metadata": {
    "language": "python",
    "name": "cell72"
   },
   "outputs": [],
   "source": [
    "dag_op.run(dag)"
   ]
  },
  {
   "cell_type": "code",
   "execution_count": null,
   "id": "d12a6c25-56c6-4a49-8dc0-3583305921cf",
   "metadata": {
    "language": "python",
    "name": "cell73"
   },
   "outputs": [],
   "source": [
    "# dag_op.delete(dag)"
   ]
  },
  {
   "cell_type": "code",
   "execution_count": null,
   "id": "cb6c73e0-0204-4a21-9733-525bc485f988",
   "metadata": {
    "language": "python",
    "name": "cell15"
   },
   "outputs": [],
   "source": [
    "# warehouse.delete()"
   ]
  },
  {
   "cell_type": "code",
   "execution_count": null,
   "id": "23f9775a",
   "metadata": {},
   "outputs": [],
   "source": [
    "from snowflake.core.stage import Stage\n",
    "\n",
    "my_stage_res = root.databases[\"my_db\"].schemas[\"my_schema\"].stages[\"my_stage\"]\n",
    "# my_stage_res.delete()"
   ]
  },
  {
   "cell_type": "code",
   "execution_count": null,
   "id": "555af4e7",
   "metadata": {},
   "outputs": [],
   "source": [
    "root.session.use_role(current_role)\n",
    "my_role_res = root.roles[\"my_role\"]\n",
    "# my_role_res.delete()"
   ]
  },
  {
   "cell_type": "code",
   "execution_count": null,
   "id": "640a4f6e",
   "metadata": {},
   "outputs": [],
   "source": [
    "from snowflake.core import Root\n",
    "from snowflake.core.schema import Schema\n",
    "\n",
    "my_schema_res = root.databases[\"my_db\"].schemas[\"my_schema\"]\n",
    "# my_schema_res.delete()"
   ]
  },
  {
   "cell_type": "code",
   "execution_count": null,
   "id": "184b7968",
   "metadata": {},
   "outputs": [],
   "source": [
    "from snowflake.core import Root\n",
    "from snowflake.core.database import Database\n",
    "\n",
    "my_db_res = root.databases[\"my_db\"]\n",
    "# my_db_res.delete()"
   ]
  },
  {
   "cell_type": "code",
   "execution_count": null,
   "id": "1c55fa07-1560-4f1e-aec3-1eabccb6b1e2",
   "metadata": {
    "language": "python",
    "name": "cell74"
   },
   "outputs": [],
   "source": [
    "# database.delete()"
   ]
  }
 ],
 "metadata": {
  "kernelspec": {
   "display_name": "Streamlit Notebook",
   "name": "streamlit"
  }
 },
 "nbformat": 4,
 "nbformat_minor": 5
}
