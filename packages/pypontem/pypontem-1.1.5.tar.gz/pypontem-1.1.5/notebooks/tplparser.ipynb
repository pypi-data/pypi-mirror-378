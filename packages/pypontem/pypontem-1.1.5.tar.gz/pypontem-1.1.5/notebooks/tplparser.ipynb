{
 "cells": [
  {
   "cell_type": "markdown",
   "metadata": {},
   "source": [
    "<h2 style=\"text-align:center;font-weight:bolder\">TPL Parsing</h2>"
   ]
  },
  {
   "cell_type": "markdown",
   "metadata": {},
   "source": [
    "<h3><b>1. pypontem tpl parsing code examples</b></h3>\n",
    "<h4 ><span class=\"caption-text\">tplParser: a class which holds the tpl parser functions</span></h4>\n",
    "  "
   ]
  },
  {
   "cell_type": "markdown",
   "metadata": {},
   "source": [
    "<p>Importing pypontem package</p>"
   ]
  },
  {
   "cell_type": "code",
   "execution_count": 1,
   "metadata": {},
   "outputs": [],
   "source": [
    "from pypontem.tpl.tplparser import tplParser"
   ]
  },
  {
   "cell_type": "markdown",
   "metadata": {},
   "source": [
    "<p>Instantiating a tplParser object</p>"
   ]
  },
  {
   "cell_type": "code",
   "execution_count": 2,
   "metadata": {},
   "outputs": [],
   "source": [
    "tpl = tplParser('data/example_tpl.tpl')"
   ]
  },
  {
   "cell_type": "markdown",
   "metadata": {},
   "source": [
    "<dl class=\"py property\">\n",
    "  <dt class=\"sig sig-object py\" id=\"pypontem.tpl.tplparser.tplParser.metadata\">\n",
    "    <p class=\"caption\" role=\"heading\"><span class=\"caption-text\"><b>metadata</b></span></p>\n",
    "  <dd><p>Extracts metadata from the content stored in the object and returns it as a pandas DataFrame.</p>\n",
    "    </dl>"
   ]
  },
  {
   "cell_type": "code",
   "execution_count": 3,
   "metadata": {},
   "outputs": [
    {
     "name": "stdout",
     "output_type": "stream",
     "text": [
      "                version         Input file                pvt  \\\n",
      "0  OLGA 2015.3.1.142077  Simulation.genkey  ./Fluid_Tuned.tab   \n",
      "\n",
      "                time project       title            author geometry  \n",
      "0  24-05-10 17:49:57    OLGA  Basic Case  Pontem Analytics        M  \n"
     ]
    }
   ],
   "source": [
    "metadata = tpl.metadata\n",
    "print(metadata)"
   ]
  },
  {
   "cell_type": "markdown",
   "metadata": {},
   "source": [
    "  <dl class=\"py property\">\n",
    "    <dt class=\"sig sig-object py\" id=\"pypontem.tpl.tplparser.tplParser.branch_names\">\n",
    "      <p class=\"caption\" role=\"heading\"><span class=\"caption-text\"><b>branch_names</b></dl>\n",
    "    <dd><p>Extracts branch names from the content stored in the tpl file.</p>\n",
    "    </dl>"
   ]
  },
  {
   "cell_type": "code",
   "execution_count": 4,
   "metadata": {},
   "outputs": [
    {
     "name": "stdout",
     "output_type": "stream",
     "text": [
      "[\"'JUMPER-1'\", \"'FLOWLINE-1'\", \"'FLOWLINE-2'\", \"'JUMPER-2'\", \"'FLOWLINE-3'\", \"'COILEDTUBING'\"]\n"
     ]
    }
   ],
   "source": [
    "branch_names = tpl.branch_names\n",
    "print(branch_names)"
   ]
  },
  {
   "cell_type": "markdown",
   "metadata": {},
   "source": [
    "<dl class=\"py property\">\n",
    "    <dt class=\"sig sig-object py\" id=\"pypontem.tpl.tplparser.tplParser.branch_profiles\">\n",
    "    <p class=\"caption\" role=\"heading\"><span class=\"caption-text\"><b>branch_profiles</b></span></p>\n",
    "    <dd><p>Extracts and displays elevation for a specific branch or all branches in the file.</p>\n",
    "    </dl>"
   ]
  },
  {
   "cell_type": "code",
   "execution_count": 5,
   "metadata": {},
   "outputs": [
    {
     "name": "stdout",
     "output_type": "stream",
     "text": [
      "{'JUMPER-1':    Lengths_(m)  Elevations_(m)\n",
      "0         0.00             0.0\n",
      "1        15.24             0.0\n",
      "2        30.48             0.0, 'FLOWLINE-1':    Lengths_(m)  Elevations_(m)\n",
      "0     0.000000      -1911.0960\n",
      "1   311.211373      -1912.9248\n",
      "2   622.422747      -1914.7536\n",
      "3   933.634120      -1916.5824\n",
      "4  1244.845494      -1918.4112\n",
      "5  1556.056867      -1920.2400, 'FLOWLINE-2':    Lengths_(m)  Elevations_(m)\n",
      "0     0.000000    -1920.240000\n",
      "1   453.518520    -1912.620000\n",
      "2   907.037040    -1905.000000\n",
      "3  1213.865904    -1901.189991\n",
      "4  1520.694768    -1897.380000\n",
      "5  1962.662832    -1895.475001\n",
      "6  2404.630897    -1893.570003\n",
      "7  2846.598961    -1891.665004\n",
      "8  3288.567026    -1889.760005, 'JUMPER-2':    Lengths_(m)  Elevations_(m)\n",
      "0         0.00             0.0\n",
      "1        15.24             0.0\n",
      "2        30.48             0.0, 'FLOWLINE-3':      Lengths_(m)  Elevations_(m)\n",
      "0       0.000000    -1889.760000\n",
      "1     248.946061    -1887.219999\n",
      "2     497.892122    -1884.679998\n",
      "3     746.838183    -1882.140000\n",
      "4     906.949506    -1878.329977\n",
      "5    1067.060829    -1874.520000\n",
      "6    1221.776333    -1871.472002\n",
      "7    1376.491838    -1868.424005\n",
      "8    1531.207342    -1865.376007\n",
      "9    1685.922847    -1862.328010\n",
      "10   1840.638351    -1859.280000\n",
      "11   1921.370688    -1851.660007\n",
      "12   2002.103026    -1844.040000\n",
      "13   2056.520923    -1836.419965\n",
      "14   2110.938820    -1828.800000\n",
      "15   2195.495399    -1826.260007\n",
      "16   2280.051977    -1823.720015\n",
      "17   2364.608556    -1821.180022\n",
      "18   2449.165134    -1818.640030\n",
      "19   2533.721713    -1816.100037\n",
      "20   2618.278291    -1813.560000\n",
      "21   2699.011126    -1805.939913\n",
      "22   2779.743961    -1798.320000\n",
      "23   2886.966552    -1790.700037\n",
      "24   2994.189142    -1783.080000\n",
      "25   3061.654625    -1775.459969\n",
      "26   3129.120108    -1767.840000\n",
      "27   3183.538006    -1760.219965\n",
      "28   3237.955903    -1752.600000\n",
      "29   3318.688240    -1744.980007\n",
      "30   3399.420577    -1737.360000\n",
      "31   3453.838475    -1729.739965\n",
      "32   3508.256372    -1722.120000\n",
      "33   3588.988709    -1714.500007\n",
      "34   3669.721047    -1706.880000\n",
      "35   3711.225178    -1699.260066\n",
      "36   3752.729309    -1691.640000\n",
      "37   3781.494370    -1684.019893\n",
      "38   3810.259432    -1676.400000\n",
      "39   3839.024011    -1668.780149\n",
      "40   3867.788591    -1661.160000\n",
      "41   3896.553652    -1653.539893\n",
      "42   3925.318714    -1645.920000\n",
      "43   3950.591436    -1638.299972\n",
      "44   3975.864158    -1630.680000\n",
      "45   4004.628737    -1623.060149\n",
      "46   4033.393316    -1615.440000\n",
      "47   4065.722291    -1607.819973\n",
      "48   4098.051266    -1600.200000\n",
      "49   4130.380240    -1592.579973\n",
      "50   4162.709215    -1584.960000\n",
      "51   4187.981937    -1577.339972\n",
      "52   4213.254659    -1569.720000\n",
      "53   4242.019238    -1562.100149\n",
      "54   4270.783818    -1554.480000\n",
      "55   4287.869927    -1546.859867\n",
      "56   4304.956036    -1539.240000\n",
      "57   4333.721097    -1531.619893\n",
      "58   4362.486159    -1524.000000\n",
      "59   4394.814647    -1516.380202\n",
      "60   4427.143136    -1508.760000\n",
      "61   4459.472111    -1501.139973\n",
      "62   4491.801085    -1493.520000\n",
      "63   4536.877999    -1488.439991\n",
      "64   4581.954912    -1483.359981\n",
      "65   4627.031826    -1478.280000\n",
      "66   4694.497309    -1470.659969\n",
      "67   4761.962792    -1463.040000\n",
      "68   4829.578162    -1455.419986\n",
      "69   4897.193533    -1447.800000\n",
      "70   4977.925870    -1440.180007\n",
      "71   5058.658207    -1432.560000\n",
      "72   5179.080305    -1424.940015\n",
      "73   5299.502402    -1417.320000\n",
      "74   5459.683973    -1412.239979\n",
      "75   5619.865544    -1407.159958\n",
      "76   5780.047115    -1402.080000\n",
      "77   5887.269705    -1394.460037\n",
      "78   5994.492296    -1386.840000\n",
      "79   6083.682440    -1381.759980\n",
      "80   6172.872584    -1376.679960\n",
      "81   6262.062728    -1371.600000\n",
      "82   6316.480625    -1363.979965\n",
      "83   6370.898522    -1356.360000\n",
      "84   6460.088666    -1351.279980\n",
      "85   6549.278810    -1346.199960\n",
      "86   6638.468954    -1341.120000\n",
      "87   6702.323731    -1338.580017\n",
      "88   6766.178508    -1336.040034\n",
      "89   6830.033284    -1333.500051\n",
      "90   6893.888061    -1330.960068\n",
      "91   6957.742838    -1328.420085\n",
      "92   7021.597615    -1325.880000\n",
      "93   7061.097597    -1324.355997\n",
      "94   7100.597579    -1322.831994\n",
      "95   7140.097561    -1321.307992\n",
      "96   7179.597543    -1319.783989\n",
      "97   7219.097525    -1318.259986\n",
      "98   7258.597507    -1316.735983\n",
      "99   7298.097489    -1315.211981\n",
      "100  7337.597471    -1313.687978\n",
      "101  7377.097453    -1312.163975\n",
      "102  7416.597435    -1310.640000\n",
      "103  7437.909680    -1308.201624\n",
      "104  7459.221924    -1305.763200\n",
      "105  7481.278806    -1300.733917\n",
      "106  7503.335688    -1295.704800\n",
      "107  7526.967155    -1288.084887\n",
      "108  7550.598622    -1280.464800\n",
      "109  7576.107484    -1270.101627\n",
      "110  7601.616346    -1259.738400\n",
      "111  7629.649978    -1246.631926\n",
      "112  7657.683610    -1233.525600\n",
      "113  7689.054243    -1217.066392\n",
      "114  7720.424876    -1200.607200\n",
      "115  7755.367358    -1180.794961\n",
      "116  7790.309841    -1160.983200\n",
      "117  7829.967659    -1137.208818\n",
      "118  7869.625476    -1113.434400\n",
      "119  7914.824324    -1085.088312\n",
      "120  7960.023172    -1056.741600\n",
      "121  8012.090911    -1023.061234\n",
      "122  8064.158649     -989.380800\n",
      "123  8125.172574     -948.842028\n",
      "124  8186.186499     -908.304000\n",
      "125  8258.702817     -859.231023\n",
      "126  8331.219135     -810.158400\n",
      "127  8419.748041     -749.351149\n",
      "128  8508.276946     -688.543200\n",
      "129  8620.372365     -610.666748\n",
      "130  8732.467785     -532.790400\n",
      "131  8883.300685     -427.177372\n",
      "132  9034.133585     -321.564000\n",
      "133  9262.470216     -160.782031\n",
      "134  9490.806847       -0.000061, 'COILEDTUBING':      Lengths_(m)  Elevations_(m)\n",
      "0       0.000000        0.000000\n",
      "1     228.399660     -160.847561\n",
      "2     456.799319     -321.564000\n",
      "3     607.675473     -427.177416\n",
      "4     758.551627     -532.790400\n",
      "5     870.641646     -610.666548\n",
      "6     982.731664     -688.543200\n",
      "7    1071.239118     -749.350291\n",
      "8    1159.746572     -810.158400\n",
      "9    1232.223736     -859.229537\n",
      "10   1304.700900     -908.304000\n",
      "11   1365.803564     -948.841614\n",
      "12   1426.906227     -989.380800\n",
      "13   1478.912038    -1023.062281\n",
      "14   1530.917849    -1056.741600\n",
      "15   1576.117333    -1085.088869\n",
      "16   1621.316818    -1113.434400\n",
      "17   1660.940818    -1137.208800\n",
      "18   1700.564818    -1160.983200\n",
      "19   1735.526494    -1180.796465\n",
      "20   1770.488170    -1200.607200\n",
      "21   1801.959601    -1217.067268\n",
      "22   1833.431031    -1233.525600\n",
      "23   1861.385442    -1246.633128\n",
      "24   1889.339854    -1259.738400\n",
      "25   1914.845218    -1270.091459\n",
      "26   1940.350582    -1280.464800\n",
      "27   1963.987958    -1288.084800\n",
      "28   1987.625335    -1295.704800\n",
      "29   2009.681853    -1300.734000\n",
      "30   2031.738371    -1305.763200\n",
      "31   2053.050821    -1308.201600\n",
      "32   2074.363271    -1310.640000\n",
      "33   2271.862825    -1318.260000\n",
      "34   2469.362378    -1325.880000\n",
      "35   2660.927991    -1333.500000\n",
      "36   2852.493604    -1341.120000\n",
      "37   2986.278286    -1348.740000\n",
      "38   3120.062969    -1356.360000\n",
      "39   3174.480617    -1363.980000\n",
      "40   3228.898265    -1371.600000\n",
      "41   3362.682949    -1379.220000\n",
      "42   3496.467633    -1386.840000\n",
      "43   3603.690741    -1394.460000\n",
      "44   3710.913848    -1402.080000\n",
      "45   3951.185209    -1409.700000\n",
      "46   4191.456570    -1417.320000\n",
      "47   4311.878899    -1424.940000\n",
      "48   4432.301227    -1432.560000\n",
      "49   4513.033642    -1440.180000\n",
      "50   4593.766057    -1447.800000\n",
      "51   4661.381302    -1455.420000\n",
      "52   4728.996547    -1463.040000\n",
      "53   4796.461756    -1470.660000\n",
      "54   4863.926965    -1478.280000\n",
      "55   4931.542212    -1485.900000\n",
      "56   4999.157458    -1493.520000\n",
      "57   5031.486317    -1501.140000\n",
      "58   5063.815177    -1508.760000\n",
      "59   5096.144521    -1516.380000\n",
      "60   5128.473865    -1524.000000\n",
      "61   5157.238523    -1531.620000\n",
      "62   5186.003181    -1539.240000\n",
      "63   5203.088993    -1546.860000\n",
      "64   5220.174805    -1554.480000\n",
      "65   5248.939946    -1562.100000\n",
      "66   5277.705088    -1569.720000\n",
      "67   5302.977714    -1577.340000\n",
      "68   5328.250341    -1584.960000\n",
      "69   5360.579201    -1592.580000\n",
      "70   5392.908060    -1600.200000\n",
      "71   5425.236918    -1607.820000\n",
      "72   5457.565777    -1615.440000\n",
      "73   5486.330918    -1623.060000\n",
      "74   5515.096059    -1630.680000\n",
      "75   5540.368686    -1638.300000\n",
      "76   5565.641313    -1645.920000\n",
      "77   5594.405972    -1653.540000\n",
      "78   5623.170632    -1661.160000\n",
      "79   5651.935772    -1668.780000\n",
      "80   5680.700912    -1676.400000\n",
      "81   5709.465570    -1684.020000\n",
      "82   5738.230228    -1691.640000\n",
      "83   5779.734720    -1699.260000\n",
      "84   5821.239212    -1706.880000\n",
      "85   5901.971626    -1714.500000\n",
      "86   5982.704039    -1722.120000\n",
      "87   6037.121688    -1729.740000\n",
      "88   6091.539336    -1737.360000\n",
      "89   6172.271751    -1744.980000\n",
      "90   6253.004166    -1752.600000\n",
      "91   6307.421814    -1760.220000\n",
      "92   6361.839463    -1767.840000\n",
      "93   6429.304672    -1775.460000\n",
      "94   6496.769881    -1783.080000\n",
      "95   6603.992989    -1790.700000\n",
      "96   6711.216097    -1798.320000\n",
      "97   6791.948014    -1805.940000\n",
      "98   6872.679931    -1813.560000\n",
      "99   7126.350405    -1821.180000\n",
      "100  7380.020880    -1828.800000\n",
      "101  7434.438528    -1836.420000\n",
      "102  7488.856176    -1844.040000\n",
      "103  7569.588591    -1851.660000\n",
      "104  7650.321006    -1859.280000\n",
      "105  8037.110072    -1866.900000\n",
      "106  8423.899137    -1874.520000\n",
      "107  8584.009476    -1878.330000\n",
      "108  8744.119815    -1882.140000\n",
      "109  9117.539192    -1885.950000\n",
      "110  9490.958569    -1889.760000}\n"
     ]
    }
   ],
   "source": [
    "branch_profiles = tpl.branch_profiles\n",
    "print(branch_profiles)"
   ]
  },
  {
   "cell_type": "markdown",
   "metadata": {},
   "source": [
    "<dl class=\"py property\">\n",
    "        <dt class=\"sig sig-object py\" id=\"pypontem.tpl.tplparser.tplParser.n_vars\">\n",
    "          <p class=\"caption\" role=\"heading\"><span class=\"caption-text\"><b>n_vars</b></span></p>\n",
    "          </dt>\n",
    "        <dd><p>Parses the number of variables from a given file path.</p>\n",
    "        </dd></dl>"
   ]
  },
  {
   "cell_type": "code",
   "execution_count": 7,
   "metadata": {},
   "outputs": [
    {
     "name": "stdout",
     "output_type": "stream",
     "text": [
      "140\n"
     ]
    }
   ],
   "source": [
    "n_vars = tpl.n_vars\n",
    "print(n_vars)"
   ]
  },
  {
   "cell_type": "markdown",
   "metadata": {},
   "source": [
    "<dl class=\"py property\">\n",
    "    <dt class=\"sig sig-object py\" id=\"pypontem.tpl.tplparser.tplParser.catalog\">\n",
    "    <p class=\"caption\" role=\"heading\"><span class=\"caption-text\"><b>catalog</b></span></p>\n",
    "         <dd><p>Extracts variable information from the provided content using a regular expression pattern.</p>\n",
    "        </dd></dl>"
   ]
  },
  {
   "cell_type": "code",
   "execution_count": 8,
   "metadata": {},
   "outputs": [
    {
     "name": "stdout",
     "output_type": "stream",
     "text": [
      "  varname Locator Type   locname pipename out_unit  \\\n",
      "0    QLST    BOUNDARY:  JUMPER-1   PIPE-1    sm3_s   \n",
      "1    QOST    BOUNDARY:  JUMPER-1   PIPE-1    sm3_s   \n",
      "2    QWST    BOUNDARY:  JUMPER-1   PIPE-1    sm3_s   \n",
      "3    QGST    BOUNDARY:  JUMPER-1   PIPE-1    sm3_s   \n",
      "4      GT    BOUNDARY:  JUMPER-1   PIPE-1     kg_s   \n",
      "\n",
      "                                 Description  \n",
      "0  Liquid volume flow at standard conditions  \n",
      "1     Oil volume flow at standard conditions  \n",
      "2   Water volume flow at standard conditions  \n",
      "3     Gas volume flow at standard conditions  \n",
      "4                            Total mass flow  \n"
     ]
    }
   ],
   "source": [
    "catalog = tpl.catalog\n",
    "print(catalog.head())"
   ]
  },
  {
   "cell_type": "markdown",
   "metadata": {},
   "source": [
    "<dl class=\"py property\">\n",
    "          <dt class=\"sig sig-object py\" id=\"pypontem.tpl.tplparser.tplParser.search_catalog\">\n",
    "            <p class=\"caption\" role=\"heading\"><span class=\"caption-text\"><b>search_catalog:</b></span></p>\n",
    "            </dt>\n",
    "          <dd><p>Searches for variables containing a keyword in their names within a DataFrame.</p>\n",
    "         </dd></dl>"
   ]
  },
  {
   "cell_type": "code",
   "execution_count": 9,
   "metadata": {},
   "outputs": [
    {
     "name": "stdout",
     "output_type": "stream",
     "text": [
      "   varname Locator Type     locname pipename out_unit  \\\n",
      "0     QLST    BOUNDARY:    JUMPER-1   PIPE-1    sm3_s   \n",
      "13    QLST    BOUNDARY:  FLOWLINE-1    LPL-4    sm3_s   \n",
      "25    QLST    BOUNDARY:  FLOWLINE-2    LPL-5    sm3_s   \n",
      "26    QLST    BOUNDARY:  FLOWLINE-2    LPL-6    sm3_s   \n",
      "27    QLST    BOUNDARY:  FLOWLINE-2    LPL-7    sm3_s   \n",
      "\n",
      "                                  Description  \n",
      "0   Liquid volume flow at standard conditions  \n",
      "13  Liquid volume flow at standard conditions  \n",
      "25  Liquid volume flow at standard conditions  \n",
      "26  Liquid volume flow at standard conditions  \n",
      "27  Liquid volume flow at standard conditions  \n"
     ]
    }
   ],
   "source": [
    "search_catalog = tpl.search_catalog('QLST')\n",
    "print(search_catalog.head())"
   ]
  },
  {
   "cell_type": "markdown",
   "metadata": {},
   "source": [
    " <dl class=\"py method\">\n",
    "            <dt class=\"sig sig-object py\" id=\"pypontem.tpl.tplparser.tplParser.extract_trend\">\n",
    "              <p class=\"caption\" role=\"heading\"><span class=\"caption-text\"><b>extract_trends</b></span></p>\n",
    "              </dt>\n",
    "            <dd><p>Search for variables in the DataFrame based on variable names, branches, and pipe names, and display their information.</p>\n",
    "            </dd></dl>"
   ]
  },
  {
   "cell_type": "markdown",
   "metadata": {},
   "source": [
    "<p>1. Extracting trends from a DataFrame created using a csv  file for use in a TPL file.</p>"
   ]
  },
  {
   "cell_type": "code",
   "execution_count": 10,
   "metadata": {},
   "outputs": [
    {
     "name": "stdout",
     "output_type": "stream",
     "text": [
      "             PT_psig_JUMPER-1  TM_degK_FLOWLINE-1\n",
      "Time_(hour)                                      \n",
      "0.0                  1442.121             304.671\n",
      "2.0                  1468.391             304.671\n",
      "4.0                  1465.278             304.667\n",
      "6.0                  1463.820             304.669\n",
      "8.0                  1464.741             304.668\n"
     ]
    }
   ],
   "source": [
    "import pandas as pd\n",
    "input_data = pd.read_csv('data/test_inputs.csv')\n",
    "trends = tpl.extract_trend(input_data)\n",
    "print(trends.head())"
   ]
  },
  {
   "cell_type": "markdown",
   "metadata": {},
   "source": [
    "<p>2. Extracting trends from a DataFrame created using a dictionary for use in a TPL file.</p> "
   ]
  },
  {
   "cell_type": "code",
   "execution_count": 11,
   "metadata": {},
   "outputs": [
    {
     "name": "stdout",
     "output_type": "stream",
     "text": [
      "          PT_psig_JUMPER-1\n",
      "Time_(h)                  \n",
      "0.0               1442.121\n",
      "2.0               1468.391\n",
      "4.0               1465.278\n"
     ]
    }
   ],
   "source": [
    "matrix = {\"varname\":\"PT\",\n",
    "          \"locname\":\"JUMPER-1\",\n",
    "          \"pipename\":None,\n",
    "          \"row_number\":None ,\n",
    "          \"out_unit\":\"psig\",\n",
    "          \"time_unit\":\"h\"}\n",
    "\n",
    "matrix_pd = pd.DataFrame(matrix, index=[0])\n",
    "trends = tpl.extract_trend(matrix_pd)\n",
    "print(trends.head(3))"
   ]
  },
  {
   "cell_type": "markdown",
   "metadata": {},
   "source": [
    "<dl class=\"py method\">\n",
    "              <dt class=\"sig sig-object py\" id=\"pypontem.tpl.tplparser.tplParser.calc_average\">\n",
    "                <p class=\"caption\" role=\"heading\"><span class=\"caption-text\"><b>calc_average</b></span></p>\n",
    "                </dt>\n",
    "              <dd><p>Calculate the average of values in the DataFrame between the specified start and end indices.</p>\n",
    "              </dd></dl>"
   ]
  },
  {
   "cell_type": "markdown",
   "metadata": {},
   "source": [
    "<p>1. calculating averages from a DataFrame created using a csv file for use in a TPL file.</p>"
   ]
  },
  {
   "cell_type": "code",
   "execution_count": 12,
   "metadata": {},
   "outputs": [
    {
     "name": "stdout",
     "output_type": "stream",
     "text": [
      "PT_psig_JUMPER-1      1459.9025\n",
      "TM_degK_FLOWLINE-1     304.6695\n",
      "dtype: float64\n"
     ]
    }
   ],
   "source": [
    "average = tpl.calc_average(input_data,start_index=1,end_index=4)\n",
    "print(average)"
   ]
  },
  {
   "cell_type": "markdown",
   "metadata": {},
   "source": [
    "<p>2. calculating averages from a DataFrame created using a dictionary for use in a TPL file.</p>"
   ]
  },
  {
   "cell_type": "code",
   "execution_count": 13,
   "metadata": {},
   "outputs": [
    {
     "name": "stdout",
     "output_type": "stream",
     "text": [
      "PT_psig_JUMPER-1    1458.596667\n",
      "dtype: float64\n"
     ]
    }
   ],
   "source": [
    "average_dict = tpl.calc_average(matrix_pd,n_rows=3)\n",
    "print(average_dict)"
   ]
  },
  {
   "cell_type": "markdown",
   "metadata": {},
   "source": [
    "<p>3. Calculating the average based on the first n times, in our case first four hours and starts counting  using python based indexing (the first element takes an index of 0)"
   ]
  },
  {
   "cell_type": "code",
   "execution_count": 18,
   "metadata": {},
   "outputs": [
    {
     "name": "stdout",
     "output_type": "stream",
     "text": [
      "The average of the first 4 hours is:\n",
      "PT_psig_JUMPER-1    1458.596667\n",
      "dtype: float64\n",
      "The average of the last 4 hours is:\n",
      "PT_psig_JUMPER-1    1464.553667\n",
      "dtype: float64\n"
     ]
    }
   ],
   "source": [
    "average_first_n_hours = tpl.calc_average(matrix_pd, n_timeunits=4)\n",
    "average_last_n_hours = tpl.calc_average(matrix_pd, n_timeunits=-4)\n",
    "print(\"The average of the first 4 hours is:\")\n",
    "print(average_first_n_hours)\n",
    "print(\"The average of the last 4 hours is:\")\n",
    "print(average_last_n_hours)"
   ]
  },
  {
   "cell_type": "markdown",
   "metadata": {},
   "source": [
    "<h3><b>2. pypontem tpl batch parsing code examples</b></h3>\n",
    "<dd><h3>tplBatchParser: a class to handle batches of tpl files</h3>\n",
    "</dd>\n",
    "</dl>"
   ]
  },
  {
   "cell_type": "markdown",
   "metadata": {},
   "source": [
    "<p>Importing tpl batch parser class</p>"
   ]
  },
  {
   "cell_type": "code",
   "execution_count": 19,
   "metadata": {},
   "outputs": [],
   "source": [
    "from pypontem.tpl.tplparser import tplBatchParser"
   ]
  },
  {
   "cell_type": "markdown",
   "metadata": {},
   "source": [
    "<p>instantiating an object with a list of tpl files </p>"
   ]
  },
  {
   "cell_type": "code",
   "execution_count": 21,
   "metadata": {},
   "outputs": [
    {
     "name": "stdout",
     "output_type": "stream",
     "text": [
      "<pypontem.tpl.tplparser.tplBatchParser object at 0x00000272435FFB00>\n"
     ]
    }
   ],
   "source": [
    "files = ['data/example_tpl.tpl','data/example_tpl.tpl']\n",
    "tplbatch = tplBatchParser(files)\n",
    "print(tplbatch)"
   ]
  },
  {
   "cell_type": "markdown",
   "metadata": {},
   "source": [
    "<dl class=\"py method\">\n",
    "  <dt class=\"sig sig-object py\" id=\"pypontem.tpl.tplparser.tplBatchParser.extract_trends\">\n",
    "    <p><b>extract_trends:</b></span></p>\n",
    "  <dd><p>Function to extract trends from a batch of tpl files</p>\n",
    "  </dd></dl>"
   ]
  },
  {
   "cell_type": "markdown",
   "metadata": {},
   "source": [
    "<p>1. Extracting trends from a DataFrame created using a csv file for use in a batch of TPL files.</p>"
   ]
  },
  {
   "cell_type": "code",
   "execution_count": 15,
   "metadata": {},
   "outputs": [
    {
     "name": "stdout",
     "output_type": "stream",
     "text": [
      "             PT_psig_JUMPER-1_example_tpl.tpl_x  \\\n",
      "Time_(hour)                                       \n",
      "0.0                                    1442.121   \n",
      "2.0                                    1468.391   \n",
      "4.0                                    1465.278   \n",
      "\n",
      "             TM_degK_FLOWLINE-1_example_tpl.tpl_x  \\\n",
      "Time_(hour)                                         \n",
      "0.0                                       304.671   \n",
      "2.0                                       304.671   \n",
      "4.0                                       304.667   \n",
      "\n",
      "             PT_psig_JUMPER-1_example_tpl.tpl_y  \\\n",
      "Time_(hour)                                       \n",
      "0.0                                    1442.121   \n",
      "2.0                                    1468.391   \n",
      "4.0                                    1465.278   \n",
      "\n",
      "             TM_degK_FLOWLINE-1_example_tpl.tpl_y  \n",
      "Time_(hour)                                        \n",
      "0.0                                       304.671  \n",
      "2.0                                       304.671  \n",
      "4.0                                       304.667  \n"
     ]
    }
   ],
   "source": [
    "batch_trends = tplbatch.extract_trends(input_data)\n",
    "print(batch_trends.head(3))"
   ]
  },
  {
   "cell_type": "markdown",
   "metadata": {},
   "source": [
    "<p>2. Extracting trends from a DataFrame created using a dictionary for use in a batch of TPL files.</p>"
   ]
  },
  {
   "cell_type": "code",
   "execution_count": 16,
   "metadata": {},
   "outputs": [
    {
     "name": "stdout",
     "output_type": "stream",
     "text": [
      "          PT_psig_JUMPER-1_example_tpl.tpl_x  \\\n",
      "Time_(h)                                       \n",
      "0.0                                 1442.121   \n",
      "2.0                                 1468.391   \n",
      "4.0                                 1465.278   \n",
      "\n",
      "          PT_psig_JUMPER-1_example_tpl.tpl_y  \n",
      "Time_(h)                                      \n",
      "0.0                                 1442.121  \n",
      "2.0                                 1468.391  \n",
      "4.0                                 1465.278  \n"
     ]
    }
   ],
   "source": [
    "batch_trends_dict = tplbatch.extract_trends(matrix_pd)\n",
    "print(batch_trends_dict.head(3))"
   ]
  },
  {
   "cell_type": "markdown",
   "metadata": {},
   "source": [
    "<dl class=\"py method\">\n",
    "<dt class=\"sig sig-object py\" id=\"pypontem.tpl.tplparser.tplBatchParser.calc_averages\">\n",
    "  <p><b>calc_averages</b></span></p>\n",
    "<dd><p>Calculates the average of values in the DataFrame up to the specified index or of the last n values.</p>\n",
    "</dd></dl>"
   ]
  },
  {
   "cell_type": "markdown",
   "metadata": {},
   "source": [
    "<p>1. calculating averages from a DataFrame created using a csv file for use in a batch of TPL files.</p>"
   ]
  },
  {
   "cell_type": "code",
   "execution_count": 25,
   "metadata": {},
   "outputs": [
    {
     "name": "stdout",
     "output_type": "stream",
     "text": [
      "                                        Average\n",
      "PT_psig_JUMPER-1_example_tpl.tpl_x    1459.9025\n",
      "TM_degK_FLOWLINE-1_example_tpl.tpl_x   304.6695\n",
      "PT_psig_JUMPER-1_example_tpl.tpl_y    1459.9025\n",
      "TM_degK_FLOWLINE-1_example_tpl.tpl_y   304.6695\n"
     ]
    }
   ],
   "source": [
    "batch_average = tplbatch.calc_averages(input_data,start_index=1,end_index=4)\n",
    "print(batch_average)"
   ]
  },
  {
   "cell_type": "markdown",
   "metadata": {},
   "source": [
    "<p>2. Calculating averages from a DataFrame created using a dictionary for use in a batch of TPL files.</p>"
   ]
  },
  {
   "cell_type": "code",
   "execution_count": 17,
   "metadata": {},
   "outputs": [
    {
     "name": "stdout",
     "output_type": "stream",
     "text": [
      "                                      Average\n",
      "PT_psig_JUMPER-1_example_tpl.tpl_x  1459.9025\n",
      "PT_psig_JUMPER-1_example_tpl.tpl_y  1459.9025\n"
     ]
    }
   ],
   "source": [
    "batch_average = tplbatch.calc_averages(matrix_pd,start_index=1,end_index=4)\n",
    "print(batch_average)"
   ]
  }
 ],
 "metadata": {
  "kernelspec": {
   "display_name": "pypontem_env",
   "language": "python",
   "name": "python3"
  },
  "language_info": {
   "codemirror_mode": {
    "name": "ipython",
    "version": 3
   },
   "file_extension": ".py",
   "mimetype": "text/x-python",
   "name": "python",
   "nbconvert_exporter": "python",
   "pygments_lexer": "ipython3",
   "version": "3.12.3"
  }
 },
 "nbformat": 4,
 "nbformat_minor": 2
}
