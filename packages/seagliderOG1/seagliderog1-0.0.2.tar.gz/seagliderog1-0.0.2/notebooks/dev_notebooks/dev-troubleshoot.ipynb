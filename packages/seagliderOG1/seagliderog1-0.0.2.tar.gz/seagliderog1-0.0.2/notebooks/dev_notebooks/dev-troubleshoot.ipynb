{
 "cells": [
  {
   "cell_type": "markdown",
   "metadata": {},
   "source": [
    "# Troubleshooting\n",
    "\n",
    "To help with troubleshooting when the loader or converter breaks, this notebook breaks down some of the wrapper functions into their individual steps."
   ]
  },
  {
   "cell_type": "code",
   "execution_count": null,
   "metadata": {},
   "outputs": [],
   "source": [
    "# This cell imports for development work\n",
    "import sys\n",
    "import importlib\n",
    "sys.path.append('/Users/eddifying/Cloudfree/gitlab-cloudfree/seagliderOG1')\n",
    "import warnings\n",
    "warnings.simplefilter(\"ignore\", category=Warning)"
   ]
  },
  {
   "cell_type": "code",
   "execution_count": null,
   "metadata": {},
   "outputs": [],
   "source": [
    "from seagliderOG1 import readers, writers, plotters, utilities\n",
    "from seagliderOG1 import convertOG1\n",
    "import xarray as xr\n",
    "import os"
   ]
  },
  {
   "cell_type": "markdown",
   "metadata": {},
   "source": [
    "## Load Seaglider data in basestation format\n",
    "\n",
    "Test case build on a file which was written in 2013 by basestation v2.8 into nodc format template v0.9.\n",
    "\n",
    "This is the same process as above (contained in `convertOG1.convert_to_OG1`), but breaking out to access the sub-functions individually.  This way you can inspect the process as it goes along, and also inspect some of the data which did not make it into the final dataset:\n",
    "\n",
    "- `sg_cal` - details from `sg_calib_constants.m`, \n",
    "- `dc_log` - log events, and \n",
    "- `dc_other` - random other variables that were in the basestation file)."
   ]
  },
  {
   "cell_type": "code",
   "execution_count": null,
   "metadata": {},
   "outputs": [],
   "source": [
    "# Specify the server where data are located\n",
    "if 1:\n",
    "    input_loc = \"https://www.ncei.noaa.gov/data/oceans/glider/seaglider/uw/015/20040924/\"\n",
    "    input_loc = \"https://www.ncei.noaa.gov/data/oceans/glider/seaglider/uw/033/20100729/\"\n",
    "else:\n",
    "    input_loc = '/Users/eddifying/Dropbox/data/sg015-ncei-download/'\n",
    "\n",
    "# Load datasets from the server, optionally specifying the range of profiles to load\n",
    "start_dive = 1\n",
    "end_dive = 10\n",
    "\n",
    "# --- List the data\n",
    "list_datasets = readers.read_basestation(input_loc, 1, 10)\n",
    "\n",
    "# Pick one basestation xarray dataset to work with\n",
    "ds1 = list_datasets[1]\n",
    "\n",
    "# --- Convert the data\n",
    "#ds_single_OG1 = convertOG1.convert_to_OG1(list_datasets, contrib_to_append)\n",
    "# Convert the dataset and output also variables not included\n",
    "ds_OG1, attr_warnings, sg_cal, dc_other, dc_log = convertOG1.process_dataset(ds1)\n",
    "\n",
    "# Create the list of attributes in order\n",
    "ordered_attributes = convertOG1.update_dataset_attributes(ds1, contrib_to_append)\n",
    "\n",
    "for key, value in ordered_attributes.items():\n",
    "    ds_OG1.attrs[key] = value\n",
    "\n",
    "# Construct the platform serial number\n",
    "PLATFORM_SERIAL_NUMBER = 'sg' + ds_OG1.attrs['id'][1:4]\n",
    "ds_OG1['PLATFORM_SERIAL_NUMBER'] = PLATFORM_SERIAL_NUMBER\n",
    "ds_OG1['PLATFORM_SERIAL_NUMBER'].attrs['long_name'] = \"glider serial number\"\n",
    "\n",
    "# Construct the unique identifier attribute\n",
    "id = f\"{PLATFORM_SERIAL_NUMBER}_{ds_OG1.start_date}_delayed\"\n",
    "ds_OG1.attrs['id'] = id\n",
    "\n",
    "\n",
    "# --- Output file\n",
    "# Check a location for the output file\n",
    "output_file = os.path.join('../data', 'demo_single_test.nc')\n",
    "# If it's already there, remove it first\n",
    "if os.path.exists(output_file):\n",
    "    os.remove(output_file)\n",
    "\n",
    "# Write the file\n",
    "# This writer catches errors in data types (DType errors) when using xr.to_netcdf()\n",
    "# The solution is to convert them to strings, which may be undesired behaviour\n",
    "writers.save_dataset(ds_OG1, output_file)"
   ]
  },
  {
   "cell_type": "code",
   "execution_count": null,
   "metadata": {},
   "outputs": [],
   "source": [
    "plotters.show_attributes(ds1)"
   ]
  },
  {
   "cell_type": "code",
   "execution_count": null,
   "metadata": {},
   "outputs": [],
   "source": [
    "input_locations = [\n",
    "    # Either Iceland, Faroes or RAPID/MOCHA\n",
    "    \"https://www.ncei.noaa.gov/data/oceans/glider/seaglider/uw/005/20090829/\", # done\n",
    "    \"https://www.ncei.noaa.gov/data/oceans/glider/seaglider/uw/005/20080606/\", # done\n",
    "    \"https://www.ncei.noaa.gov/data/oceans/glider/seaglider/uw/005/20081106/\", # done\n",
    "    \"https://www.ncei.noaa.gov/data/oceans/glider/seaglider/uw/012/20070831/\", # done\n",
    "    \"https://www.ncei.noaa.gov/data/oceans/glider/seaglider/uw/014/20080214/\",  # done\n",
    "    \"https://www.ncei.noaa.gov/data/oceans/glider/seaglider/uw/014/20080222/\", # done\n",
    "    \"https://www.ncei.noaa.gov/data/oceans/glider/seaglider/uw/016/20061112/\",  # done\n",
    "    \"https://www.ncei.noaa.gov/data/oceans/glider/seaglider/uw/016/20090605/\", # done\n",
    "    \"https://www.ncei.noaa.gov/data/oceans/glider/seaglider/uw/016/20071113/\", # done\n",
    "    \"https://www.ncei.noaa.gov/data/oceans/glider/seaglider/uw/016/20080607/\",  # done\n",
    "    \"https://www.ncei.noaa.gov/data/oceans/glider/seaglider/uw/033/20100518/\", # failed - ok after update to save_dataset\n",
    "    \"https://www.ncei.noaa.gov/data/oceans/glider/seaglider/uw/033/20100903/\",\n",
    "    \"https://www.ncei.noaa.gov/data/oceans/glider/seaglider/uw/101/20081108/\",\n",
    "    \"https://www.ncei.noaa.gov/data/oceans/glider/seaglider/uw/101/20061112/\",\n",
    "    \"https://www.ncei.noaa.gov/data/oceans/glider/seaglider/uw/101/20070609/\",\n",
    "    \"https://www.ncei.noaa.gov/data/oceans/glider/seaglider/uw/102/20061112/\",\n",
    "    # Labrador Sea\n",
    "    \"https://www.ncei.noaa.gov/data/oceans/glider/seaglider/uw/015/20040924/\",\n",
    "    \"https://www.ncei.noaa.gov/data/oceans/glider/seaglider/uw/014/20040924/\",\n",
    "    \"https://www.ncei.noaa.gov/data/oceans/glider/seaglider/uw/008/20031002/\",\n",
    "    \"https://www.ncei.noaa.gov/data/oceans/glider/seaglider/uw/004/20031002/\",\n",
    "    \"https://www.ncei.noaa.gov/data/oceans/glider/seaglider/uw/016/20050406/\",\n",
    "    # RAPID/MOCHA\n",
    "    \"https://www.ncei.noaa.gov/data/oceans/glider/seaglider/uw/033/20100729/\",\n",
    "    \"https://www.ncei.noaa.gov/data/oceans/glider/seaglider/uw/034/20110128/\",\n",
    "]"
   ]
  },
  {
   "cell_type": "markdown",
   "metadata": {},
   "source": [
    "# Cells below are for troubleshooting the loading"
   ]
  },
  {
   "cell_type": "markdown",
   "metadata": {},
   "source": [
    "## Break down the loading functions to see where it's going wrong. \n",
    "\n",
    "Update the `input_loc` to the directory where the `p*nc` files are stored.\n",
    "\n",
    "Example of a problematic mission: https://www.ncei.noaa.gov/data/oceans/glider/seaglider/uw/016/20050406/"
   ]
  },
  {
   "cell_type": "code",
   "execution_count": null,
   "metadata": {},
   "outputs": [],
   "source": [
    "importlib.reload(utilities)\n",
    "input_loc =  \"https://www.ncei.noaa.gov/data/oceans/glider/seaglider/uw/016/20050406/\"\n",
    "save = True\n",
    "\n",
    "# Troubleshooting - run outside a function\n",
    "# Load and concatenate all datasets from the server\n",
    "list_datasets = readers.read_basestation(input_loc)\n",
    "\n",
    "datasets = list_datasets\n",
    "# Convert the list of datasets to OG1\n",
    "processed_datasets = []\n",
    "for ds in datasets:\n",
    "    ds_new, attr_warnings, sg_cal, dc_other, dc_log = convertOG1.convert_to_OG1_dataset(ds)\n",
    "    if ds_new:\n",
    "        processed_datasets.append(ds_new)\n",
    "    else:\n",
    "        print(f\"Failed to convert {ds.attrs['id']} - skipping\")\n",
    "\n",
    "concatenated_ds = xr.concat(processed_datasets, dim='N_MEASUREMENTS')\n",
    "concatenated_ds = concatenated_ds.sortby('TIME')\n",
    "\n",
    "# Apply attributes\n",
    "ordered_attributes = convertOG1.update_dataset_attributes(datasets[0], contrib_to_append)\n",
    "for key, value in ordered_attributes.items():\n",
    "    concatenated_ds.attrs[key] = value\n",
    "\n",
    "# Construct the platform serial number\n",
    "PLATFORM_SERIAL_NUMBER = 'sg' + concatenated_ds.attrs['id'][1:4]\n",
    "print(PLATFORM_SERIAL_NUMBER)\n",
    "concatenated_ds['PLATFORM_SERIAL_NUMBER'] = PLATFORM_SERIAL_NUMBER\n",
    "concatenated_ds['PLATFORM_SERIAL_NUMBER'].attrs['long_name'] = \"glider serial number\"\n",
    "\n",
    "# Construct the unique identifier attribute\n",
    "id = f\"{PLATFORM_SERIAL_NUMBER}_{concatenated_ds.start_date}_delayed\"\n",
    "concatenated_ds.attrs['id'] = id\n",
    "\n",
    "if save:\n",
    "    output_file = os.path.join('../data', 'run_mission_test.nc')\n",
    "    # Save the dataset to a NetCDF file\n",
    "    writers.save_dataset(concatenated_ds, output_file)"
   ]
  },
  {
   "cell_type": "markdown",
   "metadata": {},
   "source": [
    "## Dealing with missing coordinates"
   ]
  },
  {
   "cell_type": "code",
   "execution_count": null,
   "metadata": {},
   "outputs": [],
   "source": [
    "processed_datasets # The list of xarray datasets, one for each `p*nc` file\n",
    "coordinates_dict = {i: list(ds.coords) for i, ds in enumerate(processed_datasets)}\n",
    "coordinates_dict\n",
    "\n",
    "missing_longitude = [i for i, coords in coordinates_dict.items() if 'LONGITUDE' not in coords]\n",
    "missing_longitude\n",
    "\n",
    "datasets_with_longitude = [i for i, coords in coordinates_dict.items() if 'LONGITUDE' in coords]\n",
    "datasets_with_longitude\n"
   ]
  }
 ],
 "metadata": {
  "kernelspec": {
   "display_name": "Python 3",
   "language": "python",
   "name": "python3"
  },
  "language_info": {
   "codemirror_mode": {
    "name": "ipython",
    "version": 3
   },
   "file_extension": ".py",
   "mimetype": "text/x-python",
   "name": "python",
   "nbconvert_exporter": "python",
   "pygments_lexer": "ipython3",
   "version": "3.12.7"
  }
 },
 "nbformat": 4,
 "nbformat_minor": 2
}
