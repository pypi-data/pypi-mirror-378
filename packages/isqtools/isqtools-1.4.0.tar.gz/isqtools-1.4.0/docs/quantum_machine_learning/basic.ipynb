{
 "cells": [
  {
   "cell_type": "markdown",
   "id": "b01c0f65",
   "metadata": {},
   "source": [
    "# Quantum Machine Learning Basics\n",
    "\n",
    "## Using the PyTorch Backend Simulator\n",
    "\n",
    "The isq simulator uses PyTorch as its backend, making it easy to simulate quantum machine learning tasks.\n",
    "\n",
    "First, import the necessary packages. To ensure the reproducibility of the experiment, we fix the random seed."
   ]
  },
  {
   "cell_type": "code",
   "execution_count": 1,
   "id": "e7f1a8ac",
   "metadata": {},
   "outputs": [],
   "source": [
    "import random\n",
    "\n",
    "import numpy as np\n",
    "import torch\n",
    "import torch.optim as optim\n",
    "\n",
    "from isqtools import IsqCircuit\n",
    "from isqtools.backend import TorchBackend\n",
    "from isqtools.neural_networks import TorchLayer\n",
    "\n",
    "\n",
    "def setup_seed(seed):\n",
    "    torch.manual_seed(seed)\n",
    "    torch.cuda.manual_seed_all(seed)\n",
    "    np.random.seed(seed)\n",
    "    random.seed(seed)\n",
    "\n",
    "\n",
    "setup_seed(222)"
   ]
  },
  {
   "cell_type": "markdown",
   "id": "df001e95",
   "metadata": {},
   "source": [
    "## Define param Variables for Automatic Differentiation\n",
    "\n",
    "For quantum machine learning tasks, we need to define arrays of parameterized variables in the `.isq` file using the syntax param `inputs[];` and param `weights[];`. We recommend defining two such variables. If more parameter arrays are required, you may need to implement the gradient computation logic yourself in the `TorchLayer` or `TorchWrapper`.\n",
    "\n",
    "Currently, the param variables defined in `isq` support three types of rotation gates: `RX`, `RY`, and `RZ`.\n",
    "\n",
    "Refer to the `.isq` file below for the specific definition. The file is named `nn_basic.isq`."
   ]
  },
  {
   "cell_type": "markdown",
   "id": "c575f5c2",
   "metadata": {},
   "source": [
    "```c++\n",
    "import std;\n",
    "\n",
    "\n",
    "param inputs[], weights[];\n",
    "qbit q[4];\n",
    "int pauli_inx[] = {2, 2, 3, 3}; // this means Z0Z1I2I3\n",
    "\n",
    "// using arrays for pauli measurement, \n",
    "// X:0, Y:1, Z:2, I:3\n",
    "\n",
    "procedure single_h(qbit q[]) {\n",
    "    for i in 0:q.length {\n",
    "        H(q[i]);\n",
    "    }\n",
    "}\n",
    "\n",
    "procedure adjacent_cz(qbit q[]) {\n",
    "    for i in 0:q.length-1 {\n",
    "        CZ(q[i], q[i+1]);\n",
    "    }\n",
    "}\n",
    "\n",
    "procedure encode_inputs(qbit q[], int start_idx) {\n",
    "    for i in 0:q.length {\n",
    "        Rz(inputs[i+start_idx], q[i]);\n",
    "    }\n",
    "}\n",
    "\n",
    "procedure encode_weights(qbit q[], int start_idx) {\n",
    "    for i in 0:q.length {\n",
    "        Ry(weights[i+start_idx], q[i]);\n",
    "    }\n",
    "    for i in 0:q.length {\n",
    "        Rx(weights[i+start_idx+4], q[i]);\n",
    "    }\n",
    "}\n",
    "\n",
    "procedure pauli(int puali_idx[], qbit q[]) {\n",
    "    for i in 0:q.length {\n",
    "        if (puali_idx[i] == 0) {\n",
    "            H(q[i]);\n",
    "            M(q[i]);\n",
    "        }\n",
    "        if (puali_idx[i] == 1) {\n",
    "            X2P(q[i]);\n",
    "            M(q[i]);\n",
    "        }\n",
    "        if (puali_idx[i] == 2) {\n",
    "            M(q[i]);\n",
    "        }\n",
    "        if (puali_idx[i] == 3) {\n",
    "            continue;\n",
    "        }\n",
    "    }\n",
    "}\n",
    "\n",
    "procedure main() {\n",
    "\n",
    "    single_h(q);\n",
    "    encode_inputs(q, 0);\n",
    "    adjacent_cz(q);\n",
    "\n",
    "    encode_weights(q, 0);\n",
    "    adjacent_cz(q);\n",
    "\n",
    "    encode_weights(q, 8);\n",
    "    adjacent_cz(q);\n",
    "\n",
    "    encode_weights(q, 16);\n",
    "    adjacent_cz(q);\n",
    "\n",
    "    pauli(pauli_inx, q);\n",
    "}\n",
    "```"
   ]
  },
  {
   "cell_type": "markdown",
   "id": "cdec2fc7",
   "metadata": {},
   "source": [
    "We use `tempfile`to simulate here."
   ]
  },
  {
   "cell_type": "code",
   "execution_count": 2,
   "id": "0d89d6bd",
   "metadata": {},
   "outputs": [],
   "source": [
    "FILE_CONTENT = \"\"\"\\\n",
    "import std;\n",
    "\n",
    "\n",
    "param inputs[], weights[];\n",
    "qbit q[4];\n",
    "int pauli_inx[] = [2, 2, 3, 3]; // this means Z0Z1I2I3\n",
    "\n",
    "// using arrays for pauli measurement, \n",
    "// X:0, Y:1, Z:2, I:3\n",
    "\n",
    "procedure single_h(qbit q[]) {\n",
    "    for i in 0:q.length {\n",
    "        H(q[i]);\n",
    "    }\n",
    "}\n",
    "\n",
    "procedure adjacent_cz(qbit q[]) {\n",
    "    for i in 0:q.length-1 {\n",
    "        CZ(q[i], q[i+1]);\n",
    "    }\n",
    "}\n",
    "\n",
    "procedure encode_inputs(qbit q[], int start_idx) {\n",
    "    for i in 0:q.length {\n",
    "        Rz(inputs[i+start_idx], q[i]);\n",
    "    }\n",
    "}\n",
    "\n",
    "procedure encode_weights(qbit q[], int start_idx) {\n",
    "    for i in 0:q.length {\n",
    "        Ry(weights[i+start_idx], q[i]);\n",
    "    }\n",
    "    for i in 0:q.length {\n",
    "        Rx(weights[i+start_idx+4], q[i]);\n",
    "    }\n",
    "}\n",
    "\n",
    "procedure pauli(int puali_idx[], qbit q[]) {\n",
    "    for i in 0:q.length {\n",
    "        if (puali_idx[i] == 0) {\n",
    "            H(q[i]);\n",
    "            M(q[i]);\n",
    "        }\n",
    "        if (puali_idx[i] == 1) {\n",
    "            X2P(q[i]);\n",
    "            M(q[i]);\n",
    "        }\n",
    "        if (puali_idx[i] == 2) {\n",
    "            M(q[i]);\n",
    "        }\n",
    "        if (puali_idx[i] == 3) {\n",
    "            continue;\n",
    "        }\n",
    "    }\n",
    "}\n",
    "\n",
    "procedure main() {\n",
    "\n",
    "    single_h(q);\n",
    "    encode_inputs(q, 0);\n",
    "    adjacent_cz(q);\n",
    "\n",
    "    encode_weights(q, 0);\n",
    "    adjacent_cz(q);\n",
    "\n",
    "    encode_weights(q, 8);\n",
    "    adjacent_cz(q);\n",
    "\n",
    "    encode_weights(q, 16);\n",
    "    adjacent_cz(q);\n",
    "\n",
    "    pauli(pauli_inx, q);\n",
    "}\"\"\""
   ]
  },
  {
   "cell_type": "markdown",
   "id": "40a0c2d6",
   "metadata": {},
   "source": [
    "For quantum machine learning simulation tasks, we highly recommend using PyTorch as the simulation backend. PyTorch supports automatic differentiation, making it easy to compute the gradients of parameterized circuits. It also supports parallelism and GPU acceleration, offering high computational efficiency. Additionally, with `torch.vmap` (available in PyTorch version 2.0 and above), you can efficiently perform batched circuit simulations, which is significantly faster than using a simple for-loop."
   ]
  },
  {
   "cell_type": "code",
   "execution_count": 3,
   "id": "6da0d6f3",
   "metadata": {},
   "outputs": [
    {
     "data": {
      "image/png": "[encoded data removed]",
      "text/plain": [
       "<Figure size 1215x325 with 1 Axes>"
      ]
     },
     "metadata": {},
     "output_type": "display_data"
    }
   ],
   "source": [
    "import tempfile\n",
    "from pathlib import Path\n",
    "\n",
    "from isqtools.draw import Drawer\n",
    "\n",
    "backend = TorchBackend()\n",
    "\n",
    "with tempfile.TemporaryDirectory() as temp_dir:\n",
    "    temp_dir_path = Path(temp_dir)\n",
    "    temp_file_path = temp_dir_path / \"nn_basic.isq\"\n",
    "    with open(temp_file_path, \"w\") as temp_file:\n",
    "        temp_file.write(FILE_CONTENT)\n",
    "    qc = IsqCircuit(\n",
    "        file=str(temp_file_path),\n",
    "        backend=backend,\n",
    "        sample=False,\n",
    "    )\n",
    "    dr = Drawer()\n",
    "    dr.plot(qc.qcis)"
   ]
  },
  {
   "cell_type": "markdown",
   "id": "06d3af8a",
   "metadata": {},
   "source": [
    "## Create a Quantum Circuit\n",
    "\n",
    "To build a quantum circuit for quantum machine learning, we first need to define a function. Below is an example using a function named `circuit`.\n",
    "\n",
    "This function takes two arguments: `inputs` and `weights`. Here, inputs represents the data to be encoded. The circuit simulation and measurement are performed using the `pauli_measure()` method. When using `pauli_measure()`, a basis transformation must be implemented in the `.isq` file. We have provided an example of this in `nn_basic.isq` with the procedure `procedure pauli(int pauli_idx[], qbit q[])`.\n",
    "\n",
    "Advanced users may define custom measurement procedures if needed. When using parameterized circuits, parameters should be passed in key-value form. The syntax `**param` unpacks a Python dictionary, which is equivalent to passing arguments in key-value pairs. Each key should match the parameter names defined in the `.isq` file (e.g., `param inputs[]`, `param weights[]` in `nn_basic.isq`), and each value corresponds to the input arguments of the Python function `def circuit(inputs, weights)`."
   ]
  },
  {
   "cell_type": "code",
   "execution_count": 4,
   "id": "8c362937",
   "metadata": {},
   "outputs": [],
   "source": [
    "def circuit(inputs, weights):\n",
    "\n",
    "    param = {\n",
    "        \"inputs\": inputs,\n",
    "        \"weights\": weights,\n",
    "    }\n",
    "\n",
    "    return qc.pauli_measure(**param)"
   ]
  },
  {
   "cell_type": "markdown",
   "id": "325957f5",
   "metadata": {},
   "source": [
    "## Forward Measurement Circuit\n",
    "\n",
    "When using PyTorch as the simulation backend, we define the parameters as `torch.Tensor` objects.\n",
    "\n",
    "In this example, we randomly generate `inputs` and `weights`, then pass them to the `circuit` function. This will return the result of the Pauli measurement."
   ]
  },
  {
   "cell_type": "code",
   "execution_count": 5,
   "id": "b7029240",
   "metadata": {},
   "outputs": [
    {
     "name": "stdout",
     "output_type": "stream",
     "text": [
      "inputs=tensor([-0.4248,  1.1523, -2.1342,  0.5376])\n",
      "weights=tensor([ 0.3889, -0.7956, -0.4133, -0.2245, -1.3118,  0.4663, -0.9789,  1.3999,\n",
      "         1.6718,  0.1663, -0.4762, -1.0917,  0.5813, -0.1228, -0.0768, -0.7945,\n",
      "        -0.8038, -0.1344, -0.9184, -0.3778,  0.4568,  0.7652,  0.4885, -2.1489])\n",
      "Result: tensor(-0.1275)\n"
     ]
    }
   ],
   "source": [
    "inputs = torch.randn(4)\n",
    "weights = torch.randn(24)\n",
    "weights_backup = weights.clone()\n",
    "inputs_backup = inputs.clone()\n",
    "print(f\"{inputs=}\")\n",
    "print(f\"{weights=}\")\n",
    "print(\"Result:\", circuit(inputs, weights))"
   ]
  },
  {
   "cell_type": "markdown",
   "id": "55337728",
   "metadata": {},
   "source": [
    "## Create a Quantum Machine Learning Layer\n",
    "\n",
    "By using `TorchLayer` and passing in the previously defined `circuit` function along with some necessary parameters, we can obtain a `qnn` object that inherits from `torch.nn.Module`.\n",
    "\n",
    "`is_vmap=False` indicates that `vmap` is not used.\n",
    "\n",
    "`num_weights` specifies the length of the weights parameter.\n",
    "\n",
    "`initial_weights` allows you to provide a custom initialization for the weights; if not specified, the parameters will be initialized automatically.\n",
    "\n",
    "We can compare the outputs of `circuit` and `qnn` to observe the difference. Pay attention to how the parameters are passed. Thanks to the use of `torch.nn.Module`, gradient information is automatically constructed for the `qnn` layer."
   ]
  },
  {
   "cell_type": "code",
   "execution_count": 6,
   "id": "af1be836",
   "metadata": {},
   "outputs": [
    {
     "name": "stdout",
     "output_type": "stream",
     "text": [
      "TorchLayer(num_weights=24, is_vmap=False)\n",
      "(<class 'torch.nn.modules.module.Module'>,)\n",
      "\n",
      "Run circuit: tensor(-0.1275)\n",
      "Run qnn: tensor(-0.1275, grad_fn=<DotBackward0>)\n"
     ]
    }
   ],
   "source": [
    "qnn = TorchLayer(\n",
    "    circuit=circuit,\n",
    "    is_vmap=False,\n",
    "    num_weights=24,\n",
    "    initial_weights=weights,\n",
    ")\n",
    "\n",
    "print(qnn)\n",
    "print(qnn.__class__.__bases__)\n",
    "print()\n",
    "print(\"Run circuit:\", circuit(inputs, weights))\n",
    "print(\"Run qnn:\", qnn(inputs))"
   ]
  },
  {
   "cell_type": "markdown",
   "id": "34883258",
   "metadata": {},
   "source": [
    "## Optimize the Quantum Circuit\n",
    "\n",
    "Since qnn inherits from `torch.nn.Module`, we can conveniently use PyTorch's optimizers to optimize it.\n",
    "\n",
    "In this example, we apply SGD (Stochastic Gradient Descent) to update the weights while keeping inputs fixed, aiming to minimize the output of `qnn`, which corresponds to the result of the Pauli measurement.\n",
    "\n",
    "After 50 optimization steps, the Pauli measurement value converges to its minimum, which is -1."
   ]
  },
  {
   "cell_type": "code",
   "execution_count": 7,
   "id": "a30bef82",
   "metadata": {},
   "outputs": [
    {
     "name": "stdout",
     "output_type": "stream",
     "text": [
      "tensor(-0.1275, grad_fn=<DotBackward0>)\n",
      "tensor(-0.3230, grad_fn=<DotBackward0>)\n",
      "tensor(-0.4942, grad_fn=<DotBackward0>)\n",
      "tensor(-0.6281, grad_fn=<DotBackward0>)\n",
      "tensor(-0.7245, grad_fn=<DotBackward0>)\n",
      "tensor(-0.7911, grad_fn=<DotBackward0>)\n",
      "tensor(-0.8372, grad_fn=<DotBackward0>)\n",
      "tensor(-0.8697, grad_fn=<DotBackward0>)\n",
      "tensor(-0.8935, grad_fn=<DotBackward0>)\n",
      "tensor(-0.9115, grad_fn=<DotBackward0>)\n"
     ]
    }
   ],
   "source": [
    "optimizer = optim.SGD(qnn.parameters(), lr=0.05)\n",
    "\n",
    "for i in range(50):\n",
    "    measurement = qnn(inputs)\n",
    "    measurement.backward()\n",
    "    optimizer.step()\n",
    "    optimizer.zero_grad()\n",
    "    if i % 5 == 0:\n",
    "        print(measurement)"
   ]
  },
  {
   "cell_type": "markdown",
   "id": "c97d4a0c",
   "metadata": {},
   "source": [
    "You can print the optimized `inputs` and `weights` after the training process.\n",
    "\n",
    "As `inputs` serve as the fixed input data, they remain unchanged throughout the optimization. In contrast, `weights` are gradually updated and optimized toward their optimal values, causing the Pauli measurement output to approach -1."
   ]
  },
  {
   "cell_type": "code",
   "execution_count": 8,
   "id": "cc69e2f7",
   "metadata": {},
   "outputs": [
    {
     "name": "stdout",
     "output_type": "stream",
     "text": [
      "tensor([-0.4248,  1.1523, -2.1342,  0.5376])\n",
      "tensor([-0.4248,  1.1523, -2.1342,  0.5376])\n",
      "Optimized weights: tensor([ 0.3963, -0.4383, -0.5218, -0.2149, -1.5535,  1.0736, -0.9547,  1.4377,\n",
      "         2.3391, -0.0104, -0.1606, -1.0917,  0.4081, -0.2264, -0.2291, -0.7945,\n",
      "        -1.0293, -0.6749, -0.9184, -0.3778,  0.4045,  0.9554,  0.4885, -2.1489])\n",
      "weights_backup=tensor([ 0.3889, -0.7956, -0.4133, -0.2245, -1.3118,  0.4663, -0.9789,  1.3999,\n",
      "         1.6718,  0.1663, -0.4762, -1.0917,  0.5813, -0.1228, -0.0768, -0.7945,\n",
      "        -0.8038, -0.1344, -0.9184, -0.3778,  0.4568,  0.7652,  0.4885, -2.1489])\n"
     ]
    }
   ],
   "source": [
    "print(f\"{inputs}\")\n",
    "print(f\"{inputs_backup}\")\n",
    "print(\"Optimized weights:\", weights)\n",
    "print(f\"{weights_backup=}\")"
   ]
  },
  {
   "cell_type": "markdown",
   "id": "2f6134cc",
   "metadata": {},
   "source": [
    "## Environment Information\n",
    "\n",
    "The following versions of software and libraries are used in this tutorial:"
   ]
  },
  {
   "cell_type": "code",
   "execution_count": 9,
   "id": "303513b4",
   "metadata": {},
   "outputs": [
    {
     "name": "stdout",
     "output_type": "stream",
     "text": [
      "Python version used in this tutorial: 3.13.5\n",
      "Execution environment: Linux 6.12.41\n",
      "\n",
      "isqc version: isQ Compiler 0.2.5\n",
      "isqtools version: 1.3.0\n",
      "NumPy version: 1.3.0\n",
      "Torch version: 2.7.1\n"
     ]
    }
   ],
   "source": [
    "import platform\n",
    "import subprocess\n",
    "from importlib.metadata import version\n",
    "\n",
    "print(f\"Python version used in this tutorial: {platform.python_version()}\")\n",
    "print(f\"Execution environment: {platform.system()} {platform.release()}\\n\")\n",
    "\n",
    "\n",
    "isqc_version = subprocess.check_output(\n",
    "    [\"isqc\", \"-V\"], stderr=subprocess.STDOUT, text=True\n",
    ").strip()\n",
    "print(f\"isqc version: {isqc_version}\")\n",
    "\n",
    "isqtools_version = version(\"isqtools\")\n",
    "print(f\"isqtools version: {isqtools_version}\")\n",
    "\n",
    "numpy_version = version(\"numpy\")\n",
    "print(f\"NumPy version: {isqtools_version}\")\n",
    "\n",
    "torch_version = version(\"torch\")\n",
    "print(f\"Torch version: {torch_version}\")"
   ]
  }
 ],
 "metadata": {
  "kernelspec": {
   "display_name": "Python 3",
   "language": "python",
   "name": "python3"
  },
  "language_info": {
   "codemirror_mode": {
    "name": "ipython",
    "version": 3
   },
   "file_extension": ".py",
   "mimetype": "text/x-python",
   "name": "python",
   "nbconvert_exporter": "python",
   "pygments_lexer": "ipython3",
   "version": "3.13.5"
  }
 },
 "nbformat": 4,
 "nbformat_minor": 5
}
