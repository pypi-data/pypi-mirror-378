{
 "cells": [
  {
   "cell_type": "markdown",
   "id": "3ba39304",
   "metadata": {},
   "source": [
    "# Quantum-Classical Hybrid Neural Network\n",
    "\n",
    "## Basic Parameter Setup\n",
    "\n",
    "We fix the random seed to ensure reproducibility."
   ]
  },
  {
   "cell_type": "code",
   "execution_count": 1,
   "id": "d739c960",
   "metadata": {},
   "outputs": [],
   "source": [
    "import random\n",
    "\n",
    "import matplotlib.pyplot as plt\n",
    "import numpy as np\n",
    "import torch\n",
    "import torch.nn as nn\n",
    "import torch.optim as optim\n",
    "import torchvision\n",
    "from torch.utils.data import DataLoader\n",
    "\n",
    "from isqtools import IsqCircuit\n",
    "from isqtools.backend import TorchBackend\n",
    "from isqtools.neural_networks import TorchLayer\n",
    "\n",
    "\n",
    "def setup_seed(seed):\n",
    "    torch.manual_seed(seed)\n",
    "    torch.cuda.manual_seed_all(seed)\n",
    "    np.random.seed(seed)\n",
    "    random.seed(seed)\n",
    "\n",
    "\n",
    "setup_seed(222)"
   ]
  },
  {
   "cell_type": "markdown",
   "id": "d268d838",
   "metadata": {},
   "source": [
    "Set the hyperparameters."
   ]
  },
  {
   "cell_type": "code",
   "execution_count": 2,
   "id": "f72af3c3",
   "metadata": {},
   "outputs": [],
   "source": [
    "epochs = 1\n",
    "train_samples = 200\n",
    "batch_size_train = 10\n",
    "\n",
    "test_samples = 100\n",
    "batch_size_test = 10\n",
    "\n",
    "device = \"cpu\""
   ]
  },
  {
   "cell_type": "markdown",
   "id": "4dd00bb9",
   "metadata": {},
   "source": [
    "## Data Loading\n",
    "\n",
    "Download the **MNIST** dataset. For simplicity, we extract only the samples labeled as digits 0 and 1."
   ]
  },
  {
   "cell_type": "code",
   "execution_count": 3,
   "id": "025ce8e1",
   "metadata": {},
   "outputs": [],
   "source": [
    "train_data = torchvision.datasets.MNIST(\n",
    "    \"./data/\",\n",
    "    train=True,\n",
    "    download=True,\n",
    "    transform=torchvision.transforms.Compose(\n",
    "        [\n",
    "            torchvision.transforms.ToTensor(),\n",
    "            torchvision.transforms.Normalize(\n",
    "                (0.1307,),\n",
    "                (0.3081,),\n",
    "            ),\n",
    "        ]\n",
    "    ),\n",
    ")\n",
    "test_data = torchvision.datasets.MNIST(\n",
    "    \"./data/\",\n",
    "    train=False,\n",
    "    download=True,\n",
    "    transform=torchvision.transforms.Compose(\n",
    "        [\n",
    "            torchvision.transforms.ToTensor(),\n",
    "            torchvision.transforms.Normalize(\n",
    "                (0.1307,),\n",
    "                (0.3081,),\n",
    "            ),\n",
    "        ]\n",
    "    ),\n",
    ")\n",
    "\n",
    "idx = np.append(\n",
    "    np.where(train_data.targets == 0)[0][:train_samples],\n",
    "    np.where(train_data.targets == 1)[0][:train_samples],\n",
    ")\n",
    "\n",
    "train_data.data = train_data.data[idx]\n",
    "train_data.targets = train_data.targets[idx]\n",
    "\n",
    "train_dataloader = DataLoader(\n",
    "    train_data,\n",
    "    batch_size=batch_size_train,\n",
    "    shuffle=True,\n",
    ")\n",
    "# label X_train， y_train\n",
    "\n",
    "\n",
    "idx = np.append(\n",
    "    np.where(test_data.targets == 0)[0][:test_samples],\n",
    "    np.where(test_data.targets == 1)[0][:test_samples],\n",
    ")\n",
    "\n",
    "test_data.data = test_data.data[idx]\n",
    "test_data.targets = test_data.targets[idx]\n",
    "\n",
    "test_dataloader = DataLoader(test_data, batch_size=batch_size_test, shuffle=True)\n",
    "\n",
    "# label X_test， y_test"
   ]
  },
  {
   "cell_type": "markdown",
   "id": "6ede1c1e",
   "metadata": {},
   "source": [
    "## Inspect the Dataset\n",
    "\n",
    "We visualize a few samples from the filtered **MNIST** dataset (digits 0 and 1) to verify the data loading process and confirm that the input images and corresponding labels are correct."
   ]
  },
  {
   "cell_type": "code",
   "execution_count": 4,
   "id": "8527caf7",
   "metadata": {},
   "outputs": [
    {
     "data": {
      "image/png": "[encoded data removed]",
      "text/plain": [
       "<Figure size 1000x300 with 8 Axes>"
      ]
     },
     "metadata": {},
     "output_type": "display_data"
    }
   ],
   "source": [
    "test_plot_data, test_plot_targets = next(iter(test_dataloader))\n",
    "\n",
    "_, axes = plt.subplots(1, 8, figsize=(10, 3))\n",
    "for i in range(8):\n",
    "    axes[i].imshow(test_plot_data[i][0], cmap=\"gray\", interpolation=\"none\")\n",
    "    axes[i].set_title(f\"Number: {test_plot_targets[i]}\")\n",
    "    axes[i].set_xticks([])\n",
    "    axes[i].set_yticks([])"
   ]
  },
  {
   "cell_type": "markdown",
   "id": "dce8ef54",
   "metadata": {},
   "source": [
    "## Create the Quantum Circuit for the Hybrid Model\n",
    "\n",
    "The quantum circuit is defined in the `hybrid.isq` file. We use `tempfile`to simulate here"
   ]
  },
  {
   "cell_type": "code",
   "execution_count": 5,
   "id": "e97d077f",
   "metadata": {},
   "outputs": [],
   "source": [
    "FILE_CONTENT = \"\"\"\\\n",
    "import std;\n",
    "\n",
    "\n",
    "param inputs[], weights[];\n",
    "qbit q[2];\n",
    "\n",
    "procedure single_h(qbit q[]) {\n",
    "    for i in 0:q.length {\n",
    "        H(q[i]);\n",
    "    }\n",
    "}\n",
    "\n",
    "procedure adjacent_cz(qbit q[]) {\n",
    "    for i in 0:q.length-1 {\n",
    "        CZ(q[i], q[i+1]);\n",
    "    }\n",
    "}\n",
    "\n",
    "procedure encode_inputs(qbit q[], int start_idx) {\n",
    "    for i in 0:q.length {\n",
    "        Rz(inputs[i+start_idx], q[i]);\n",
    "    }\n",
    "}\n",
    "\n",
    "procedure encode_weights(qbit q[], int start_idx) {\n",
    "    for i in 0:q.length {\n",
    "        Rx(weights[i+start_idx], q[i]);\n",
    "    }\n",
    "    for i in 0:q.length {\n",
    "        Ry(weights[i+start_idx+q.length], q[i]);\n",
    "    }\n",
    "    for i in 0:q.length {\n",
    "        Rz(weights[i+start_idx+q.length*2], q[i]);\n",
    "    }\n",
    "}\n",
    "\n",
    "\n",
    "procedure main() {\n",
    "\n",
    "    single_h(q);\n",
    "    encode_inputs(q, 0);\n",
    "    adjacent_cz(q);\n",
    "\n",
    "    encode_weights(q, 0);\n",
    "    adjacent_cz(q);\n",
    "\n",
    "    encode_weights(q, 6);\n",
    "    adjacent_cz(q);\n",
    "\n",
    "    M(q[0]);\n",
    "    M(q[1]);\n",
    "}\"\"\""
   ]
  },
  {
   "cell_type": "markdown",
   "id": "09325cbc",
   "metadata": {},
   "source": [
    "Create the quantum machine learning circuit using Python."
   ]
  },
  {
   "cell_type": "code",
   "execution_count": 6,
   "id": "8cfae0d3",
   "metadata": {},
   "outputs": [
    {
     "data": {
      "image/png": "[encoded data removed]",
      "text/plain": [
       "<Figure size 890x195 with 1 Axes>"
      ]
     },
     "metadata": {},
     "output_type": "display_data"
    }
   ],
   "source": [
    "import tempfile\n",
    "from pathlib import Path\n",
    "\n",
    "from isqtools.draw import Drawer\n",
    "\n",
    "backend = TorchBackend()\n",
    "with tempfile.TemporaryDirectory() as temp_dir:\n",
    "    temp_dir_path = Path(temp_dir)\n",
    "    temp_file_path = temp_dir_path / \"hybrid.isq\"\n",
    "    with open(temp_file_path, \"w\") as temp_file:\n",
    "        temp_file.write(FILE_CONTENT)\n",
    "\n",
    "    qc = IsqCircuit(\n",
    "        file=str(temp_file_path),\n",
    "        backend=backend,\n",
    "        sample=False,\n",
    "    )\n",
    "\n",
    "\n",
    "def circuit(inputs, weights):\n",
    "    param = {\n",
    "        \"inputs\": inputs,\n",
    "        \"weights\": weights,\n",
    "    }\n",
    "    result = qc.measure(**param)\n",
    "    return torch.cat((result[0].view(-1), result[2].view(-1)))\n",
    "\n",
    "\n",
    "qnn = TorchLayer(\n",
    "    circuit=circuit,\n",
    "    num_weights=12,\n",
    "    is_vmap=True,\n",
    ")\n",
    "\n",
    "dr = Drawer()\n",
    "dr.plot(qc.qcis)"
   ]
  },
  {
   "cell_type": "markdown",
   "id": "3caaaa4c",
   "metadata": {},
   "source": [
    "## Build the Classical-Quantum Hybrid Network\n",
    "\n",
    "Since `qnn` inherits from `torch.nn.Module`, it can be easily integrated into a classical neural network to form a classical-quantum hybrid model.\n",
    "\n",
    "Here, we use a convolutional neural network (CNN) followed by fully connected layers to process image data. The `qnn` is inserted into the fully connected part of the network, forming the hybrid architecture.\n",
    "\n",
    "In this setup:\n",
    "\n",
    "- The `inputs` to `qnn` have dimension 2.\n",
    "- The `qnn` returns a measurement output of dimension 2.\n",
    "\n",
    "Thus, `qnn` is placed between two linear layers that match this shape.\n",
    "\n",
    "**Important**: Always ensure the input and output dimensions of `qnn` are compatible with the surrounding classical layers. Otherwise, the hybrid network cannot be constructed properly."
   ]
  },
  {
   "cell_type": "code",
   "execution_count": 7,
   "id": "763525cb",
   "metadata": {},
   "outputs": [],
   "source": [
    "class HybridNet(nn.Module):\n",
    "    def __init__(self, qnn):\n",
    "        super().__init__()\n",
    "        self.conv = nn.Sequential(\n",
    "            nn.Conv2d(1, 10, kernel_size=5),\n",
    "            nn.MaxPool2d(2),\n",
    "            nn.ReLU(),\n",
    "            nn.Conv2d(10, 20, kernel_size=5),\n",
    "            nn.Dropout2d(),\n",
    "            nn.MaxPool2d(2),\n",
    "            nn.ReLU(),\n",
    "            nn.Flatten(),\n",
    "        )\n",
    "\n",
    "        self.fc = nn.Sequential(\n",
    "            nn.Linear(320, 50),\n",
    "            nn.ReLU(),\n",
    "            nn.Linear(50, 2),\n",
    "            qnn,\n",
    "            nn.Linear(2, 2),\n",
    "        )\n",
    "\n",
    "    def forward(self, x):\n",
    "        x = self.conv(x)\n",
    "        x = self.fc(x)\n",
    "        return x"
   ]
  },
  {
   "cell_type": "code",
   "execution_count": 8,
   "id": "f930e2bc",
   "metadata": {},
   "outputs": [],
   "source": [
    "hybrid_net = HybridNet(qnn)\n",
    "loss_fn = nn.CrossEntropyLoss()\n",
    "optimizer = optim.Adam(hybrid_net.parameters(), lr=0.001)"
   ]
  },
  {
   "cell_type": "code",
   "execution_count": 9,
   "id": "b2e34a93",
   "metadata": {},
   "outputs": [],
   "source": [
    "def train(dataloader, model, loss_fn, optimizer):\n",
    "    size = len(dataloader.dataset)\n",
    "    model.train()\n",
    "    for batch, (X, y) in enumerate(dataloader):\n",
    "        X, y = X.to(device), y.to(device)\n",
    "        # Compute prediction error\n",
    "        pred = model(X)\n",
    "        loss = loss_fn(pred, y)\n",
    "        # Backpropagation\n",
    "        loss.backward()\n",
    "        optimizer.step()\n",
    "        optimizer.zero_grad()\n",
    "\n",
    "        if batch % 10 == 0:\n",
    "            loss, current = loss.item(), (batch + 1) * len(X)\n",
    "            print(f\"loss: {loss:>7f}  [{current:>5d}/{size:>5d}]\")\n",
    "\n",
    "\n",
    "def test(dataloader, model, loss_fn):\n",
    "    size = len(dataloader.dataset)\n",
    "\n",
    "    num_batches = len(dataloader)\n",
    "    model.eval()\n",
    "    test_loss, correct = 0, 0\n",
    "    with torch.no_grad():\n",
    "        for X, y in dataloader:\n",
    "            X, y = X.to(device), y.to(device)\n",
    "            pred = model(X)\n",
    "            test_loss += loss_fn(pred, y).item()\n",
    "            correct += (pred.argmax(1) == y).type(torch.float).sum().item()\n",
    "    test_loss /= num_batches\n",
    "    correct /= size\n",
    "    print(\n",
    "        f\"Test Error: \\n Accuracy: {(100*correct):>0.1f}%, Avg loss: {test_loss:>8f} \\n\"\n",
    "    )"
   ]
  },
  {
   "cell_type": "markdown",
   "id": "469a75a0",
   "metadata": {},
   "source": [
    "## Train the Neural Network\n",
    "\n",
    "Train the classical-quantum hybrid neural network for 5 epochs. During training, use standard PyTorch procedures — including forward pass, loss computation, backpropagation, and parameter updates — to optimize both classical and quantum components."
   ]
  },
  {
   "cell_type": "code",
   "execution_count": 10,
   "id": "9b6cb959",
   "metadata": {},
   "outputs": [
    {
     "name": "stdout",
     "output_type": "stream",
     "text": [
      "Epoch 1\n",
      "-------------------------------\n",
      "loss: 0.822773  [   10/  400]\n",
      "loss: 0.584339  [  110/  400]\n",
      "loss: 0.547312  [  210/  400]\n",
      "loss: 0.492907  [  310/  400]\n",
      "Test Error: \n",
      " Accuracy: 99.5%, Avg loss: 0.493613 \n",
      "\n",
      "Epoch 2\n",
      "-------------------------------\n",
      "loss: 0.521913  [   10/  400]\n",
      "loss: 0.541909  [  110/  400]\n",
      "loss: 0.444593  [  210/  400]\n",
      "loss: 0.484125  [  310/  400]\n",
      "Test Error: \n",
      " Accuracy: 100.0%, Avg loss: 0.455073 \n",
      "\n",
      "Epoch 3\n",
      "-------------------------------\n",
      "loss: 0.465106  [   10/  400]\n",
      "loss: 0.478267  [  110/  400]\n",
      "loss: 0.471614  [  210/  400]\n",
      "loss: 0.465876  [  310/  400]\n",
      "Test Error: \n",
      " Accuracy: 100.0%, Avg loss: 0.427130 \n",
      "\n",
      "Epoch 4\n",
      "-------------------------------\n",
      "loss: 0.424858  [   10/  400]\n",
      "loss: 0.420086  [  110/  400]\n",
      "loss: 0.431515  [  210/  400]\n",
      "loss: 0.420472  [  310/  400]\n",
      "Test Error: \n",
      " Accuracy: 100.0%, Avg loss: 0.396076 \n",
      "\n",
      "Epoch 5\n",
      "-------------------------------\n",
      "loss: 0.414942  [   10/  400]\n",
      "loss: 0.384991  [  110/  400]\n",
      "loss: 0.457078  [  210/  400]\n",
      "loss: 0.377611  [  310/  400]\n",
      "Test Error: \n",
      " Accuracy: 100.0%, Avg loss: 0.364367 \n",
      "\n",
      "Done!\n"
     ]
    }
   ],
   "source": [
    "epochs = 5\n",
    "for t in range(epochs):\n",
    "    print(f\"Epoch {t+1}\\n-------------------------------\")\n",
    "    train(train_dataloader, hybrid_net, loss_fn, optimizer)\n",
    "    test(test_dataloader, hybrid_net, loss_fn)\n",
    "print(\"Done!\")"
   ]
  },
  {
   "cell_type": "markdown",
   "id": "4224e379",
   "metadata": {},
   "source": [
    "## Model Validation\n",
    "\n",
    "Evaluate the model’s prediction accuracy on the test dataset by comparing its predicted labels with the true labels. This provides a direct measure of the classification performance of the hybrid neural network."
   ]
  },
  {
   "cell_type": "code",
   "execution_count": 11,
   "id": "38ce7a39",
   "metadata": {},
   "outputs": [
    {
     "data": {
      "image/png": "[encoded data removed]",
      "text/plain": [
       "<Figure size 1000x300 with 8 Axes>"
      ]
     },
     "metadata": {},
     "output_type": "display_data"
    }
   ],
   "source": [
    "count = 0\n",
    "_, axes = plt.subplots(1, 8, figsize=(10, 3))\n",
    "hybrid_net.eval()\n",
    "with torch.no_grad():\n",
    "    for batch_idx, (data, target) in enumerate(test_dataloader):\n",
    "        if count == 8:\n",
    "            break\n",
    "        output = hybrid_net(data[0:1])\n",
    "        pred = output.argmax(dim=1, keepdim=True)\n",
    "        axes[count].imshow(data[0].numpy().squeeze(), cmap=\"gray\", interpolation=\"none\")\n",
    "        axes[count].set_xticks([])\n",
    "        axes[count].set_yticks([])\n",
    "        axes[count].set_title(f\"Predicted {pred.item()}\")\n",
    "        count += 1"
   ]
  },
  {
   "cell_type": "markdown",
   "id": "77f4cf1b",
   "metadata": {},
   "source": [
    "## Environment Information\n",
    "\n",
    "The following versions of software and libraries are used in this tutorial:"
   ]
  },
  {
   "cell_type": "code",
   "execution_count": 12,
   "id": "be7e422e",
   "metadata": {},
   "outputs": [
    {
     "name": "stdout",
     "output_type": "stream",
     "text": [
      "Python version used in this tutorial: 3.13.5\n",
      "Execution environment: Linux 6.12.41\n",
      "\n",
      "isqc version: isQ Compiler 0.2.5\n",
      "isqtools version: 1.3.0\n",
      "NumPy version: 1.3.0\n",
      "Torch version: 2.7.1\n",
      "torchvision version: 0.22.1\n"
     ]
    }
   ],
   "source": [
    "import platform\n",
    "import subprocess\n",
    "from importlib.metadata import version\n",
    "\n",
    "print(f\"Python version used in this tutorial: {platform.python_version()}\")\n",
    "print(f\"Execution environment: {platform.system()} {platform.release()}\\n\")\n",
    "\n",
    "\n",
    "isqc_version = subprocess.check_output(\n",
    "    [\"isqc\", \"-V\"], stderr=subprocess.STDOUT, text=True\n",
    ").strip()\n",
    "print(f\"isqc version: {isqc_version}\")\n",
    "\n",
    "isqtools_version = version(\"isqtools\")\n",
    "print(f\"isqtools version: {isqtools_version}\")\n",
    "\n",
    "numpy_version = version(\"numpy\")\n",
    "print(f\"NumPy version: {isqtools_version}\")\n",
    "\n",
    "torch_version = version(\"torch\")\n",
    "print(f\"Torch version: {torch_version}\")\n",
    "\n",
    "torchvision_version = version(\"torchvision\")\n",
    "print(f\"torchvision version: {torchvision_version}\")"
   ]
  }
 ],
 "metadata": {
  "kernelspec": {
   "display_name": "Python 3",
   "language": "python",
   "name": "python3"
  },
  "language_info": {
   "codemirror_mode": {
    "name": "ipython",
    "version": 3
   },
   "file_extension": ".py",
   "mimetype": "text/x-python",
   "name": "python",
   "nbconvert_exporter": "python",
   "pygments_lexer": "ipython3",
   "version": "3.13.5"
  }
 },
 "nbformat": 4,
 "nbformat_minor": 5
}
