{
 "cells": [
  {
   "cell_type": "markdown",
   "id": "567cfca9",
   "metadata": {},
   "source": [
    "# Variational quantum eigensolver"
   ]
  },
  {
   "cell_type": "markdown",
   "id": "a60edb63",
   "metadata": {},
   "source": [
    "The eigenvalues of the Hamiltonian determine almost all properties in a molecule or material of interest. The ground state for molecule Hamiltonian is of particular interest since the energy gap between the ground state and the first excited state of electrons at room temperature is usually larger. Most molecules are in the ground state.\n",
    "\n",
    "Here, molecular electronic Hamiltonian is represented as $\\hat{H}$. A trial wave function $|\\varphi(\\theta)\\rangle$ is parameterized with $\\vec{\\theta}$, which is called Ansatz. VQE is represented as follows:\n",
    "\n",
    "$$\\frac{\\langle \\varphi(\\vec{\\theta}) | \\hat{H} | \\varphi(\\vec{\\theta}) \\rangle}{\\langle \\varphi(\\vec{\\theta}) | \\varphi(\\vec{\\theta}) \\rangle} \\ge E_0$$\n",
    "\n",
    "$E_0$ is the lowest energy of the molecular electronic Hamiltonian $\\hat{H}$.\n",
    "To estimate $E_0$, the left-hand side of the equation above is minimized by updating the parameters of the Ansatz $|\\varphi(\\theta)\\rangle$.\n",
    "\n",
    "The molecular electronic Hamiltonian $\\hat{H}$ has the second quantized form:\n",
    "\n",
    "$$\\displaystyle \\hat{H} = \\sum_{pq} h_{pq} \\hat{a}_p^\\dagger \\hat{a}_q + \\frac{1}{2} \\sum_{pqrs} h_{pqrs} \\hat{a}_p^\\dagger \\hat{a}_q^\\dagger \\hat{a}_r \\hat{a}_s$$\n",
    "\n",
    "It can be mapped to the linear combination of Pauli operator by Jordan-Wigner transformation or Bravyi-Kitaev transformation as follows:\n",
    "\n",
    "$$\\displaystyle \\hat{H} = \\sum_{\\alpha} \\omega_{\\alpha} \\hat{P}_{\\alpha}$$"
   ]
  },
  {
   "cell_type": "markdown",
   "id": "f8257d72",
   "metadata": {},
   "source": [
    "Then, we calculate the expectation value of the Hamiltonian $\\hat{H}$ with respect to the Ansatz $|\\varphi(\\theta)\\rangle$ by designing a quantum circuit.\n",
    "Finally, we update the parameters in the Ansatz circuit to minimize the energy and obtain $E_0$, the lowest energy of the molecular electronic Hamiltonian.\n",
    "\n",
    "The overview of VQE schematic diagram is as follows:\n",
    "\n",
    "![vqe](./figures/vqe.png)"
   ]
  },
  {
   "cell_type": "markdown",
   "id": "3d23261a",
   "metadata": {},
   "source": [
    "VQE belongs to the class of hybrid quantum-classical algorithms, in which the quantum computer is responsible for executing quantum circuits, while the classical computer updates the parameters of quantum gates in the Ansatz $|\\varphi(\\theta)\\rangle$.\n",
    "\n",
    "Through this process, the lowest energy of the molecular electronic Hamiltonian $\\hat{H}$, denoted as $E_0$, can be obtained, along with the corresponding wave function.\n",
    "\n",
    "To illustrate the algorithm flow, we take the estimation of the ground-state energy of the hydrogen molecule as an example. After applying the Jordan–Wigner transformation in a minimal basis, the Hamiltonian becomes:\n",
    "\n",
    "$$\\hat{H}_{\\text{JW}} = -0.81261\\,I + 0.171201\\,\\sigma_0^z + 0.171201\\,\\sigma_1^z - 0.2227965\\,\\sigma_2^z - 0.2227965\\,\\sigma_3^z + 0.16862325\\,\\sigma_1^z\\sigma_0^z + 0.12054625\\,\\sigma_2^z\\sigma_0^z + 0.165868\\,\\sigma_2^z\\sigma_1^z + 0.165868\\,\\sigma_3^z\\sigma_0^z + 0.12054625\\,\\sigma_3^z\\sigma_1^z + 0.17434925\\,\\sigma_3^z\\sigma_2^z - 0.04532175\\,\\sigma_3^x\\sigma_2^x\\sigma_1^y\\sigma_0^y + 0.04532175\\,\\sigma_3^x\\sigma_2^y\\sigma_1^y\\sigma_0^x + 0.04532175\\,\\sigma_3^y\\sigma_2^x\\sigma_1^x\\sigma_0^y - 0.04532175\\,\\sigma_3^y\\sigma_2^y\\sigma_1^x\\sigma_0^x$$\n",
    "\n",
    "We use two qubits in this example. The Ansatz $|\\varphi(\\theta)\\rangle$ is:\n",
    "\n",
    "![ansatz](./figures/ansatz.png)"
   ]
  },
  {
   "cell_type": "markdown",
   "id": "a2fa8f32",
   "metadata": {},
   "source": [
    "Coefficients of the `H2` Hamiltonian.  \n",
    "Hamiltonian gates: \\(Z_0\\), \\(Z_1\\), \\(Z_0Z_1\\), \\(Y_0Y_1\\), \\(X_0X_1\\).  \n",
    "For more information, see [2](https://journals.aps.org/prx/abstract/10.1103/PhysRevX.6.031007)."
   ]
  },
  {
   "cell_type": "code",
   "execution_count": 1,
   "id": "9785ce75",
   "metadata": {},
   "outputs": [],
   "source": [
    "coeffs = [-0.4804, +0.3435, -0.4347, +0.5716, +0.0910, +0.0910]\n",
    "gates_group = [\n",
    "    ((0, \"Z\"),),\n",
    "    ((1, \"Z\"),),\n",
    "    ((0, \"Z\"), (1, \"Z\")),\n",
    "    ((0, \"Y\"), (1, \"Y\")),\n",
    "    ((0, \"X\"), (1, \"X\")),\n",
    "]"
   ]
  },
  {
   "cell_type": "markdown",
   "id": "a72f1348",
   "metadata": {},
   "source": [
    "We use `tempfile` to run `h2.isq`. We use `isqtools` to compile `isq` file."
   ]
  },
  {
   "cell_type": "code",
   "execution_count": 2,
   "id": "04ce4928",
   "metadata": {},
   "outputs": [],
   "source": [
    "H2_FILE_CONTENT = \"\"\"\\\n",
    "import std;\n",
    "\n",
    "int num_qubits = 2; \n",
    "int pauli_gates[] = [\n",
    "    3, 0,\n",
    "    0, 3,\n",
    "    3, 3,\n",
    "    2, 2,\n",
    "    1, 1\n",
    "];\n",
    "// Hamiltonian gates: Z0, Z1, Z0Z1, Y0Y1, X0X2 \n",
    "unit vqe_measure(qbit q[], int idx) {\n",
    "    // using arrays for pauli measurement\n",
    "    // I:0, X:1, Y:2, Z:3 \n",
    "    int start_idx = num_qubits*idx;\n",
    "    int end_idx = num_qubits*(idx+1);\n",
    "\n",
    "    for i in start_idx:end_idx {\n",
    "        if (pauli_gates[i] == 0) {\n",
    "            // I:0\n",
    "            continue;\n",
    "        }\n",
    "        if (pauli_gates[i] == 1) {\n",
    "            // X:1\n",
    "            H(q[i%num_qubits]);\n",
    "            M(q[i%num_qubits]);\n",
    "        }\n",
    "        if (pauli_gates[i] == 2) {\n",
    "            // Y:2\n",
    "            X2P(q[i%num_qubits]);\n",
    "            M(q[i%num_qubits]);\n",
    "        }\n",
    "        if (pauli_gates[i] == 3) {\n",
    "            // Z:3\n",
    "            M(q[i%num_qubits]);\n",
    "        }\n",
    "    }\n",
    "}\n",
    "\n",
    "unit main(int i_par[], double d_par[]) {\n",
    "\n",
    "    qbit q[2];\n",
    "    X(q[1]);\n",
    "\n",
    "    Ry(1.57, q[0]);\n",
    "    Rx(4.71, q[1]);\n",
    "    CNOT(q[0],q[1]);\n",
    "    Rz(d_par[0], q[1]);\n",
    "    CNOT(q[0],q[1]);\n",
    "    Ry(4.71, q[0]);\n",
    "    Rx(1.57, q[1]);\n",
    "\n",
    "    vqe_measure(q, i_par[0]);\n",
    "}\n",
    "\"\"\""
   ]
  },
  {
   "cell_type": "code",
   "execution_count": 3,
   "id": "a770a43b",
   "metadata": {},
   "outputs": [
    {
     "name": "stdout",
     "output_type": "stream",
     "text": [
      "Initial VQE Energy: -0.25377999999999995 Hartree\n",
      "Epoch 1: -0.31525 Hartree\n",
      "Epoch 2: -0.49435 Hartree\n",
      "Epoch 3: -0.8487359999999999 Hartree\n",
      "Epoch 4: -1.39567 Hartree\n",
      "Epoch 5: -1.781944 Hartree\n",
      "Epoch 6: -1.830828 Hartree\n",
      "Epoch 7: -1.8257819999999998 Hartree\n",
      "Epoch 8: -1.867826 Hartree\n",
      "Epoch 9: -1.797658 Hartree\n",
      "Epoch 10: -1.8597299999999999 Hartree\n",
      "Epoch 11: -1.844166 Hartree\n",
      "Epoch 12: -1.830012 Hartree\n",
      "Epoch 13: -1.845392 Hartree\n",
      "Epoch 14: -1.8336560000000004 Hartree\n",
      "Epoch 15: -1.866408 Hartree\n",
      "Epoch 16: -1.8651860000000005 Hartree\n",
      "Epoch 17: -1.8231420000000003 Hartree\n",
      "Epoch 18: -1.849626 Hartree\n",
      "Epoch 19: -1.86419 Hartree\n",
      "Epoch 20: -1.84699 Hartree\n",
      "Final VQE Energy: -1.84699 Hartree\n",
      "Time: 6.716254711151123\n"
     ]
    }
   ],
   "source": [
    "import tempfile\n",
    "import time\n",
    "from pathlib import Path\n",
    "\n",
    "import numpy as np\n",
    "\n",
    "from isqtools.utils import isqc_compile, isqc_simulate\n",
    "\n",
    "shots = 100\n",
    "learning_rate = 1.0\n",
    "energy_list = []\n",
    "epochs = 20\n",
    "theta = np.array([0.0])\n",
    "\n",
    "\n",
    "def get_expectation(theta):\n",
    "    measure_results = np.zeros(len(gates_group) + 1)\n",
    "    measure_results[0] = 1.0\n",
    "    # The first does not require quantum measurement, which is constant\n",
    "    # As a result, the other 5 coefficients need to be measured\n",
    "    for idx in range(len(gates_group)):\n",
    "        result_dict = isqc_simulate(\n",
    "            str(temp_dir_path / \"h2.so\"),\n",
    "            shots=shots,\n",
    "            int_param=idx,\n",
    "            double_param=theta,\n",
    "        )[0]\n",
    "        result = 0\n",
    "        for res_index, frequency in result_dict.items():\n",
    "            parity = (-1) ** (res_index.count(\"1\") % 2)\n",
    "            # parity checking to get expectation value\n",
    "            result += parity * frequency / shots\n",
    "            # frequency instead of probability\n",
    "        measure_results[idx + 1] = result\n",
    "        # to accumulate every expectation result\n",
    "        # The result is multiplied by coefficient\n",
    "    return np.dot(measure_results, coeffs)\n",
    "\n",
    "\n",
    "def parameter_shift(theta):\n",
    "    # to get gradients\n",
    "    theta = theta.copy()\n",
    "    theta += np.pi / 2\n",
    "    forwards = get_expectation(theta)\n",
    "    theta -= np.pi\n",
    "    backwards = get_expectation(theta)\n",
    "    return 0.5 * (forwards - backwards)\n",
    "\n",
    "\n",
    "with tempfile.TemporaryDirectory() as temp_dir:\n",
    "    temp_dir_path = Path(temp_dir)\n",
    "    temp_file_path = temp_dir_path / \"h2.isq\"\n",
    "    with open(temp_file_path, \"w\") as temp_file:\n",
    "        temp_file.write(H2_FILE_CONTENT)\n",
    "    isqc_compile(file=str(temp_file_path), target=\"qir\")\n",
    "    # compile \"h2.isq\" and generate the qir file \"h2.so\"\n",
    "    energy = get_expectation(theta)\n",
    "    energy_list.append(energy)\n",
    "    print(f\"Initial VQE Energy: {energy_list[0]} Hartree\")\n",
    "    start_time = time.time()\n",
    "    for epoch in range(epochs):\n",
    "        theta -= learning_rate * parameter_shift(theta)\n",
    "        energy = get_expectation(theta)\n",
    "        energy_list.append(energy)\n",
    "        print(f\"Epoch {epoch+1}: {energy} Hartree\")\n",
    "\n",
    "    print(f\"Final VQE Energy: {energy_list[-1]} Hartree\")\n",
    "    print(\"Time:\", time.time() - start_time)"
   ]
  },
  {
   "cell_type": "markdown",
   "id": "01de6c6f",
   "metadata": {},
   "source": [
    "## Environment Information\n",
    "\n",
    "The following versions of software and libraries are used in this tutorial:"
   ]
  },
  {
   "cell_type": "code",
   "execution_count": 4,
   "id": "5fd9fa41",
   "metadata": {},
   "outputs": [
    {
     "name": "stdout",
     "output_type": "stream",
     "text": [
      "Python version used in this tutorial: 3.13.5\n",
      "Execution environment: Linux 6.12.41\n",
      "\n",
      "isqc version: isQ Compiler 0.2.5\n",
      "isqtools version: 1.3.0\n",
      "NumPy version: 1.3.0\n"
     ]
    }
   ],
   "source": [
    "import platform\n",
    "import subprocess\n",
    "from importlib.metadata import version\n",
    "\n",
    "print(f\"Python version used in this tutorial: {platform.python_version()}\")\n",
    "print(f\"Execution environment: {platform.system()} {platform.release()}\\n\")\n",
    "\n",
    "\n",
    "isqc_version = subprocess.check_output(\n",
    "    [\"isqc\", \"-V\"], stderr=subprocess.STDOUT, text=True\n",
    ").strip()\n",
    "print(f\"isqc version: {isqc_version}\")\n",
    "\n",
    "isqtools_version = version(\"isqtools\")\n",
    "print(f\"isqtools version: {isqtools_version}\")\n",
    "\n",
    "numpy_version = version(\"numpy\")\n",
    "print(f\"NumPy version: {isqtools_version}\")"
   ]
  },
  {
   "cell_type": "markdown",
   "id": "dead4969",
   "metadata": {},
   "source": [
    "**Reference**\n",
    "\n",
    "1. J. Tilly, H. Chen, S. Cao, et al. \"The variational quantum eigensolver: a review of methods and best practices.\" *Physics Reports*, 2022, 986: 1-128.\n",
    "2. P. O’Malley et al. \"Scalable Quantum Simulation of Molecular Energies.\" *Physics Review X*, 6, 031007, 2016."
   ]
  }
 ],
 "metadata": {
  "kernelspec": {
   "display_name": "Python 3",
   "language": "python",
   "name": "python3"
  },
  "language_info": {
   "codemirror_mode": {
    "name": "ipython",
    "version": 3
   },
   "file_extension": ".py",
   "mimetype": "text/x-python",
   "name": "python",
   "nbconvert_exporter": "python",
   "pygments_lexer": "ipython3",
   "version": "3.13.5"
  }
 },
 "nbformat": 4,
 "nbformat_minor": 5
}
