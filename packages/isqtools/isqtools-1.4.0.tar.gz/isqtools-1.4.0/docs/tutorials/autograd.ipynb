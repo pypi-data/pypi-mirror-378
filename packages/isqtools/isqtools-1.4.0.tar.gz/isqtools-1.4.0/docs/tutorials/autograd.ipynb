{
 "cells": [
  {
   "cell_type": "markdown",
   "id": "299ec688",
   "metadata": {},
   "source": [
    "# Autograd"
   ]
  },
  {
   "cell_type": "markdown",
   "id": "1c97ef41",
   "metadata": {},
   "source": [
    "## Creating `isQ` Code\n",
    "\n",
    "In general quantum circuit simulations, we recommend using `sample=False`. This simulation method yields exact measurement results of the quantum circuit (i.e., theoretical probability distributions), without concerns about the number of shots. The exact simulation result corresponds to the limit as the number of shots approaches infinity."
   ]
  },
  {
   "cell_type": "markdown",
   "id": "c7ab07b6",
   "metadata": {},
   "source": [
    "When using exact simulation, another benefit is the ability to compute gradients of parameters analytically by using the `AutogradBackend` or `TorchBackend`. First, we construct a quantum circuit that contains parameters `params[]`."
   ]
  },
  {
   "cell_type": "markdown",
   "id": "cfddab8f",
   "metadata": {},
   "source": [
    "This piece of code should be named `gradient.isq` and placed in the same directory."
   ]
  },
  {
   "cell_type": "markdown",
   "id": "13646ad8",
   "metadata": {},
   "source": [
    "```c++\n",
    "import std;\n",
    "\n",
    "\n",
    "param params[];\n",
    "qbit q[1];\n",
    "\n",
    "unit main() {\n",
    "    Ry(params[0], q[0]);\n",
    "    Rx(params[1], q[0]);\n",
    "    M(q[0]);\n",
    "}\n",
    "```"
   ]
  },
  {
   "cell_type": "markdown",
   "id": "1bf8aec7",
   "metadata": {},
   "source": [
    "We use `tempfile`to simulate here."
   ]
  },
  {
   "cell_type": "code",
   "execution_count": 1,
   "id": "70de300f",
   "metadata": {},
   "outputs": [],
   "source": [
    "FILE_CONTENT = \"\"\"\\\n",
    "import std;\n",
    "\n",
    "\n",
    "param params[];\n",
    "qbit q[1];\n",
    "\n",
    "unit main() {\n",
    "    Ry(params[0], q[0]);\n",
    "    Rx(params[1], q[0]);\n",
    "    M(q[0]);\n",
    "}\"\"\""
   ]
  },
  {
   "cell_type": "markdown",
   "id": "e441b6e9",
   "metadata": {},
   "source": [
    "## Automatic Differentiation with Autograd\n",
    "\n",
    "Autograd, a lightweight extension of NumPy, can be used to perform automatic differentiation. First, we use `AutogradBackend` as the simulation backend and set `sample=False` to obtain exact simulation results. Then, we define a NumPy array `params1` and a function `circuit1`.\n",
    "\n",
    "Within the function, we call `qc1.measure(params=params1)`, passing our parameters as a keyword argument. Here, the left side of `params=params1` corresponds to the parameter definition in `gradient.isq`, while the right side refers to the `params1 `array defined in Python. The return value of the function `circuit1` is the first element of the measurement result array, i.e., `results[0]`."
   ]
  },
  {
   "cell_type": "code",
   "execution_count": 2,
   "id": "134fcd21",
   "metadata": {},
   "outputs": [
    {
     "name": "stdout",
     "output_type": "stream",
     "text": [
      "0.6126225961314372\n"
     ]
    }
   ],
   "source": [
    "import tempfile\n",
    "from pathlib import Path\n",
    "\n",
    "import numpy as np\n",
    "from isqtools import IsqCircuit\n",
    "from isqtools.backend import AutogradBackend, TorchBackend\n",
    "\n",
    "with tempfile.TemporaryDirectory() as temp_dir:\n",
    "    temp_dir_path = Path(temp_dir)\n",
    "    temp_file_path = temp_dir_path / \"gradient.isq\"\n",
    "    with open(temp_file_path, \"w\") as temp_file:\n",
    "        temp_file.write(FILE_CONTENT)\n",
    "\n",
    "    autograd_backend = AutogradBackend()\n",
    "\n",
    "    qc1 = IsqCircuit(\n",
    "        file=str(temp_file_path),\n",
    "        backend=autograd_backend,\n",
    "        sample=False,\n",
    "    )\n",
    "\n",
    "    params1 = np.array([0.9, 1.2])\n",
    "\n",
    "    def circuit1(params1):\n",
    "        results = qc1.measure(params=params1)\n",
    "        return results[0]\n",
    "\n",
    "    print(circuit1(params1))"
   ]
  },
  {
   "cell_type": "markdown",
   "id": "3194316d",
   "metadata": {},
   "source": [
    "At this point, we can use the `grad` function from Autograd to compute the derivative of the `circuit1` function. The `grad` function accepts the index of the parameter to differentiate with respect to as its second argument. In this case, since `circuit1` has only one parameter `params1`, we can pass `[0]` as the index for differentiation.\n",
    "\n",
    "The `grad` function returns a callable object, which takes the same input as the original function and returns the gradient with respect to the specified parameter. For more advanced usage, please refer to the official [Autograd documentation](https://github.com/HIPS/autograd)."
   ]
  },
  {
   "cell_type": "code",
   "execution_count": 3,
   "id": "bb899f0c",
   "metadata": {},
   "outputs": [
    {
     "name": "stdout",
     "output_type": "stream",
     "text": [
      "(array([-0.14192229, -0.28968239]),)\n"
     ]
    }
   ],
   "source": [
    "from autograd import grad\n",
    "\n",
    "\n",
    "params1 = np.array([0.9, 1.2])\n",
    "\n",
    "def circuit1(params1):\n",
    "    results = qc1.measure(params=params1)\n",
    "    return results[0]\n",
    "\n",
    "grad_circuit1 = grad(circuit1, [0])\n",
    "print(grad_circuit1(params1))"
   ]
  },
  {
   "cell_type": "markdown",
   "id": "467339f3",
   "metadata": {},
   "source": [
    "## Circuit Visualization\n",
    "\n",
    "We provide a simple interface for visualizing quantum circuits generated from `.qcis` files. Once you have written your quantum circuit, you can use the built-in visualization tools to render the circuit diagram. This helps in understanding the structure and flow of the quantum gates applied in the circuit.\n",
    "\n",
    "The visualization interface supports basic gates and parameterized gates, and is especially useful for debugging and presentation purposes."
   ]
  },
  {
   "cell_type": "code",
   "execution_count": 4,
   "id": "2524dc11",
   "metadata": {},
   "outputs": [
    {
     "data": {
      "image/png": "[encoded data removed]",
      "text/plain": [
       "<Figure size 305x130 with 1 Axes>"
      ]
     },
     "metadata": {},
     "output_type": "display_data"
    }
   ],
   "source": [
    "from isqtools.draw import Drawer\n",
    "\n",
    "\n",
    "dr = Drawer()\n",
    "dr.plot(qc1.qcis)"
   ]
  },
  {
   "cell_type": "markdown",
   "id": "0d08aac6",
   "metadata": {},
   "source": [
    "## Automatic Differentiation with PyTorch\n",
    "\n",
    "Compared to the lightweight Autograd library, PyTorch is a powerful and efficient machine learning framework. PyTorch can fully utilize CPU and GPU resources, offering significantly higher computational efficiency.\n",
    "\n",
    "We highly recommend exploring PyTorch’s basic tutorials as well as its automatic differentiation tutorials to get familiar with its functionality and gradient computation capabilities."
   ]
  },
  {
   "cell_type": "code",
   "execution_count": 5,
   "id": "3358ed88",
   "metadata": {},
   "outputs": [
    {
     "name": "stdout",
     "output_type": "stream",
     "text": [
      "tensor(0.6126, grad_fn=<SelectBackward0>)\n",
      "tensor([-0.1419, -0.2897])\n"
     ]
    },
    {
     "data": {
      "image/png": "[encoded data removed]",
      "text/plain": [
       "<Figure size 305x130 with 1 Axes>"
      ]
     },
     "metadata": {},
     "output_type": "display_data"
    }
   ],
   "source": [
    "import torch\n",
    "\n",
    "with tempfile.TemporaryDirectory() as temp_dir:\n",
    "    temp_dir_path = Path(temp_dir)\n",
    "    temp_file_path = temp_dir_path / \"gradient.isq\"\n",
    "    with open(temp_file_path, \"w\") as temp_file:\n",
    "        temp_file.write(FILE_CONTENT)\n",
    "    torch_backend = TorchBackend()\n",
    "\n",
    "    qc2 = IsqCircuit(\n",
    "        file=str(temp_file_path),\n",
    "        backend=torch_backend,\n",
    "        sample=False,\n",
    "    )\n",
    "\n",
    "    params2 = torch.tensor([0.9, 1.2], requires_grad=True)\n",
    "\n",
    "    def circuit2(params2):\n",
    "        return qc2.measure(params=params2)[0]\n",
    "\n",
    "    result = circuit2(params2)\n",
    "    result.backward()\n",
    "\n",
    "    print(result)\n",
    "    print(params2.grad)\n",
    "    dr = Drawer()\n",
    "    dr.plot(qc2.qcis)"
   ]
  },
  {
   "cell_type": "markdown",
   "id": "f6f2000a",
   "metadata": {},
   "source": [
    "## Environment Information\n",
    "\n",
    "The following versions of software and libraries are used in this tutorial:"
   ]
  },
  {
   "cell_type": "code",
   "execution_count": 6,
   "id": "be9d43bc",
   "metadata": {},
   "outputs": [
    {
     "name": "stdout",
     "output_type": "stream",
     "text": [
      "Python version used in this tutorial: 3.13.5\n",
      "Execution environment: Linux 6.12.41\n",
      "\n",
      "isqc version: isQ Compiler 0.2.5\n",
      "isqtools version: 1.3.0\n",
      "NumPy version: 1.3.0\n",
      "Autograd version: 1.8.0\n",
      "Torch version: 2.7.1\n"
     ]
    }
   ],
   "source": [
    "import platform\n",
    "import subprocess\n",
    "from importlib.metadata import version\n",
    "\n",
    "print(f\"Python version used in this tutorial: {platform.python_version()}\")\n",
    "print(f\"Execution environment: {platform.system()} {platform.release()}\\n\")\n",
    "\n",
    "\n",
    "isqc_version = subprocess.check_output(\n",
    "    [\"isqc\", \"-V\"], stderr=subprocess.STDOUT, text=True\n",
    ").strip()\n",
    "print(f\"isqc version: {isqc_version}\")\n",
    "\n",
    "isqtools_version = version(\"isqtools\")\n",
    "print(f\"isqtools version: {isqtools_version}\")\n",
    "\n",
    "numpy_version = version(\"numpy\")\n",
    "print(f\"NumPy version: {isqtools_version}\")\n",
    "\n",
    "autograd_version = version(\"autograd\")\n",
    "print(f\"Autograd version: {autograd_version}\")\n",
    "\n",
    "torch_version = version(\"torch\")\n",
    "print(f\"Torch version: {torch_version}\")"
   ]
  }
 ],
 "metadata": {
  "kernelspec": {
   "display_name": "Python 3",
   "language": "python",
   "name": "python3"
  },
  "language_info": {
   "codemirror_mode": {
    "name": "ipython",
    "version": 3
   },
   "file_extension": ".py",
   "mimetype": "text/x-python",
   "name": "python",
   "nbconvert_exporter": "python",
   "pygments_lexer": "ipython3",
   "version": "3.13.5"
  }
 },
 "nbformat": 4,
 "nbformat_minor": 5
}
