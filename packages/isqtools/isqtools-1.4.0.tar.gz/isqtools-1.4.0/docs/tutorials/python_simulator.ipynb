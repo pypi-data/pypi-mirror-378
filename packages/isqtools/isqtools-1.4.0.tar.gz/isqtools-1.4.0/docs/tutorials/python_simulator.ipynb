{
 "cells": [
  {
   "cell_type": "markdown",
   "id": "34683d2d",
   "metadata": {},
   "source": [
    "# Python Simulator"
   ]
  },
  {
   "cell_type": "markdown",
   "id": "ac8c279b",
   "metadata": {},
   "source": [
    "In addition to the built-in simulator provided by `isqc`, we also provide an additional simulator based on Python."
   ]
  },
  {
   "cell_type": "markdown",
   "id": "b507f82f",
   "metadata": {
    "vscode": {
     "languageId": "plaintext"
    }
   },
   "source": [
    "## Create isQ Code\n",
    "\n",
    "\n",
    "Name the code file `python_sim_quick_start.isq` and place it in the same directory.\n",
    "\n",
    "This file creates two qubits, applies an `H` gate to each of them, and performs measurement at the end."
   ]
  },
  {
   "cell_type": "markdown",
   "id": "b25f9d08",
   "metadata": {},
   "source": [
    "```c++\n",
    "import std;\n",
    "\n",
    "\n",
    "qbit q[2];\n",
    "\n",
    "unit main() {\n",
    "    H(q[0]);\n",
    "    H(q[1]);\n",
    "    M(q[0]);\n",
    "    M(q[1]);\n",
    "}\n",
    "```"
   ]
  },
  {
   "cell_type": "markdown",
   "id": "656abfde",
   "metadata": {},
   "source": [
    "We use tempfile instead of a real file."
   ]
  },
  {
   "cell_type": "code",
   "execution_count": 1,
   "id": "c523a8c3",
   "metadata": {},
   "outputs": [],
   "source": [
    "FILE_CONTENT = \"\"\"\\\n",
    "import std;\n",
    "\n",
    "\n",
    "qbit q[2];\n",
    "\n",
    "unit main() {\n",
    "    H(q[0]);\n",
    "    H(q[1]);\n",
    "    M(q[0]);\n",
    "    M(q[1]);\n",
    "}\"\"\""
   ]
  },
  {
   "cell_type": "markdown",
   "id": "ce2a59b8",
   "metadata": {},
   "source": [
    "## Create Quantum Circuit\n",
    "\n",
    "We provide IsqCircuit for building quantum circuits, along with three different simulation backends: `NumpyBackend`, `AutogradBackend`, and `TorchBackend`."
   ]
  },
  {
   "cell_type": "markdown",
   "id": "072110ce",
   "metadata": {},
   "source": [
    "First, we use the basic NumPy backend to simulate the circuit."
   ]
  },
  {
   "cell_type": "code",
   "execution_count": 2,
   "id": "2e75eeab",
   "metadata": {},
   "outputs": [
    {
     "name": "stdout",
     "output_type": "stream",
     "text": [
      "Probability results: [0.25 0.25 0.25 0.25]\n",
      "Each item of the array represents these states: `00` `01` `10` `11`\n",
      "\n",
      "Qcis:\n",
      "H Q0\n",
      "H Q1\n",
      "M Q0\n",
      "M Q1\n"
     ]
    }
   ],
   "source": [
    "import tempfile\n",
    "from pathlib import Path\n",
    "\n",
    "from isqtools import IsqCircuit\n",
    "from isqtools.backend import AutogradBackend, NumpyBackend, TorchBackend\n",
    "\n",
    "with tempfile.TemporaryDirectory() as temp_dir:\n",
    "    temp_dir_path = Path(temp_dir)\n",
    "    temp_file_path = temp_dir_path / \"python_sim_quick_start.isq\"\n",
    "    with open(temp_file_path, \"w\") as temp_file:\n",
    "        temp_file.write(FILE_CONTENT)\n",
    "\n",
    "    backend = NumpyBackend()\n",
    "    qc = IsqCircuit(\n",
    "        file=str(temp_file_path),\n",
    "        backend=backend,\n",
    "        sample=False,\n",
    "    )\n",
    "\n",
    "    print(f\"Probability results:\", qc.measure())\n",
    "    print(\n",
    "        \"Each item of the array represents these states:\",\n",
    "        \"`00`\",\n",
    "        \"`01`\",\n",
    "        \"`10`\",\n",
    "        \"`11`\",\n",
    "    )\n",
    "    print()\n",
    "    print(f\"Qcis:\\n{qc}\")"
   ]
  },
  {
   "cell_type": "markdown",
   "id": "8d486cfe",
   "metadata": {},
   "source": [
    "## Non-Sampling Mode\n",
    "\n",
    "When `sample=False`, all three backends—`NumpyBackend`, `AutogradBackend`, and `TorchBackend`—output the corresponding probability distribution.\n",
    "\n",
    "Note that when using `PyTorch` as the backend, the output type is `torch.Tensor`."
   ]
  },
  {
   "cell_type": "code",
   "execution_count": 3,
   "id": "066b7801",
   "metadata": {},
   "outputs": [
    {
     "name": "stdout",
     "output_type": "stream",
     "text": [
      "Probability results of numpy: [0.25 0.25 0.25 0.25], and return type: <class 'numpy.ndarray'>\n",
      "Probability results of autograd: [0.25 0.25 0.25 0.25], and return type: <class 'numpy.ndarray'>\n",
      "Probability results of torch: tensor([0.2500, 0.2500, 0.2500, 0.2500]), and return type: <class 'torch.Tensor'>\n"
     ]
    }
   ],
   "source": [
    "with tempfile.TemporaryDirectory() as temp_dir:\n",
    "    temp_dir_path = Path(temp_dir)\n",
    "    temp_file_path = temp_dir_path / \"python_sim_quick_start.isq\"\n",
    "    with open(temp_file_path, \"w\") as temp_file:\n",
    "        temp_file.write(FILE_CONTENT)\n",
    "\n",
    "    backends = {\n",
    "        \"numpy\": NumpyBackend(),\n",
    "        \"autograd\": AutogradBackend(),\n",
    "        \"torch\": TorchBackend(),\n",
    "    }\n",
    "\n",
    "    for backend_name, backend in backends.items():\n",
    "        qc = IsqCircuit(\n",
    "            file=str(temp_file_path),\n",
    "            backend=backend,\n",
    "            sample=False,\n",
    "        )\n",
    "        print(\n",
    "            f\"Probability results of {backend_name}: {qc.measure()}, \"\n",
    "            f\"and return type: {type(qc.measure())}\"\n",
    "        )"
   ]
  },
  {
   "cell_type": "markdown",
   "id": "1e3a79b7",
   "metadata": {},
   "source": [
    "## Sampling Mode\n",
    "\n",
    "When `sample=True`, all three backends—`NumpyBackend`, `AutogradBackend`, and `TorchBackend`—output the corresponding sampling results. In this mode, you need to specify the number of `shots`; by default, `shots=100`.\n",
    "\n",
    "Note that the output is a Python built-in `dict`, and the order of qubit outcomes is not guaranteed—e.g., `10` may appear before `00`."
   ]
  },
  {
   "cell_type": "code",
   "execution_count": 4,
   "id": "e72e7c6b",
   "metadata": {},
   "outputs": [
    {
     "name": "stdout",
     "output_type": "stream",
     "text": [
      "Sample results of numpy: {'11': 260, '00': 241, '10': 242, '01': 257}, and return type: <class 'dict'>\n",
      "Sample results of autograd: {'00': 229, '01': 262, '10': 270, '11': 239}, and return type: <class 'dict'>\n",
      "Sample results of torch: {'10': 277, '11': 238, '00': 236, '01': 249}, and return type: <class 'dict'>\n"
     ]
    }
   ],
   "source": [
    "with tempfile.TemporaryDirectory() as temp_dir:\n",
    "    temp_dir_path = Path(temp_dir)\n",
    "    temp_file_path = temp_dir_path / \"python_sim_quick_start.isq\"\n",
    "    with open(temp_file_path, \"w\") as temp_file:\n",
    "        temp_file.write(FILE_CONTENT)\n",
    "    for backend_name, backend in backends.items():\n",
    "        qc = IsqCircuit(\n",
    "            file=str(temp_file_path),\n",
    "            backend=backend,\n",
    "            sample=True,\n",
    "            shots=1000,\n",
    "        )\n",
    "        print(\n",
    "            f\"Sample results of {backend_name}: {qc.measure()}, \"\n",
    "            f\"and return type: {type(qc.measure())}\"\n",
    "        )"
   ]
  },
  {
   "cell_type": "markdown",
   "id": "feb3f71a",
   "metadata": {},
   "source": [
    "If you need to compare the order of measurement results, you can convert them using the following method."
   ]
  },
  {
   "cell_type": "code",
   "execution_count": 5,
   "id": "31df3df9",
   "metadata": {},
   "outputs": [
    {
     "name": "stdout",
     "output_type": "stream",
     "text": [
      "Naive sample results {'11': 279, '01': 237, '10': 238, '00': 246}.\n",
      "Ordered Sample results {'00': 246, '01': 237, '10': 238, '11': 279}.\n",
      "Transfer Sample results to array: [0.246 0.237 0.238 0.279].\n"
     ]
    }
   ],
   "source": [
    "res_dict = qc.measure()\n",
    "ordered_res_dict = qc.sort_dict(res_dict)\n",
    "res_dict_array = qc.dict2array(res_dict)\n",
    "print(f\"Naive sample results {res_dict}.\")\n",
    "print(f\"Ordered Sample results {ordered_res_dict}.\")\n",
    "print(f\"Transfer Sample results to array: {res_dict_array}.\")"
   ]
  },
  {
   "cell_type": "markdown",
   "id": "9542ab4b",
   "metadata": {},
   "source": [
    "## Circuit Visualization\n",
    "\n",
    "For the `QCIS` instruction set generated from `isQ` files, we provide a simple interface for circuit visualization."
   ]
  },
  {
   "cell_type": "code",
   "execution_count": 6,
   "id": "aea67591",
   "metadata": {},
   "outputs": [
    {
     "data": {
      "image/png": "[encoded data removed]",
      "text/plain": [
       "<Figure size 240x195 with 1 Axes>"
      ]
     },
     "metadata": {},
     "output_type": "display_data"
    }
   ],
   "source": [
    "from isqtools.draw import Drawer\n",
    "\n",
    "with tempfile.TemporaryDirectory() as temp_dir:\n",
    "    temp_dir_path = Path(temp_dir)\n",
    "    temp_file_path = temp_dir_path / \"python_sim_quick_start.isq\"\n",
    "    with open(temp_file_path, \"w\") as temp_file:\n",
    "        temp_file.write(FILE_CONTENT)\n",
    "    backend = NumpyBackend()\n",
    "    qc = IsqCircuit(\n",
    "        file=str(temp_file_path),\n",
    "        backend=backend,\n",
    "        sample=False,\n",
    "    )\n",
    "\n",
    "    dr = Drawer()\n",
    "    dr.plot(qc.qcis)"
   ]
  },
  {
   "cell_type": "markdown",
   "id": "ed09dfbe",
   "metadata": {},
   "source": [
    "## Environment Information\n",
    "\n",
    "The following versions of software and libraries are used in this tutorial:"
   ]
  },
  {
   "cell_type": "code",
   "execution_count": 7,
   "id": "d08ea070",
   "metadata": {},
   "outputs": [
    {
     "name": "stdout",
     "output_type": "stream",
     "text": [
      "Python version used in this tutorial: 3.13.5\n",
      "Execution environment: Linux 6.12.41\n",
      "\n",
      "isqc version: isQ Compiler 0.2.5\n",
      "isqtools version: 1.3.0\n",
      "NumPy version: 1.3.0\n",
      "Autograd version: 1.8.0\n",
      "Torch version: 2.7.1\n"
     ]
    }
   ],
   "source": [
    "import platform\n",
    "import subprocess\n",
    "from importlib.metadata import version\n",
    "\n",
    "print(f\"Python version used in this tutorial: {platform.python_version()}\")\n",
    "print(f\"Execution environment: {platform.system()} {platform.release()}\\n\")\n",
    "\n",
    "\n",
    "isqc_version = subprocess.check_output(\n",
    "    [\"isqc\", \"-V\"], stderr=subprocess.STDOUT, text=True\n",
    ").strip()\n",
    "print(f\"isqc version: {isqc_version}\")\n",
    "\n",
    "isqtools_version = version(\"isqtools\")\n",
    "print(f\"isqtools version: {isqtools_version}\")\n",
    "\n",
    "numpy_version = version(\"numpy\")\n",
    "print(f\"NumPy version: {isqtools_version}\")\n",
    "\n",
    "autograd_version = version(\"autograd\")\n",
    "print(f\"Autograd version: {autograd_version}\")\n",
    "\n",
    "torch_version = version(\"torch\")\n",
    "print(f\"Torch version: {torch_version}\")"
   ]
  }
 ],
 "metadata": {
  "kernelspec": {
   "display_name": "Python 3",
   "language": "python",
   "name": "python3"
  },
  "language_info": {
   "codemirror_mode": {
    "name": "ipython",
    "version": 3
   },
   "file_extension": ".py",
   "mimetype": "text/x-python",
   "name": "python",
   "nbconvert_exporter": "python",
   "pygments_lexer": "ipython3",
   "version": "3.13.5"
  }
 },
 "nbformat": 4,
 "nbformat_minor": 5
}
