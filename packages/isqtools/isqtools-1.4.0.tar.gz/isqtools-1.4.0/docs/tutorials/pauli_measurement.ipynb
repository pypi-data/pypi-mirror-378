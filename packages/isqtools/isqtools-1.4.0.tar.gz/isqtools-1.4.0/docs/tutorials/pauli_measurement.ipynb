{
 "cells": [
  {
   "cell_type": "markdown",
   "id": "56a2bcf0",
   "metadata": {},
   "source": [
    "# Pauli Measurement\n",
    "\n",
    "In the field of quantum machine learning, Pauli measurements are commonly used to obtain the expectation value of a quantum circuit."
   ]
  },
  {
   "cell_type": "markdown",
   "id": "3f777337",
   "metadata": {},
   "source": [
    "## Creating isQ Code\n",
    "\n",
    "Create a new `.isq` file named `pauli_measurement.isq`, and place it in the same directory. This file should define a quantum circuit that includes the necessary operations for performing measurements in the Pauli basis."
   ]
  },
  {
   "cell_type": "markdown",
   "id": "591f3a03",
   "metadata": {},
   "source": [
    "```c++\n",
    "import std;\n",
    "\n",
    "qbit q[1];\n",
    "int pauli_inx[] = [2]; // this means Z0\n",
    "\n",
    "// using arrays for pauli measurement\n",
    "// X:0, Y:1, Z:2, I:3\n",
    "// examples:\n",
    "// int pauli_inx[] = {2, 2} -> Z0Z1\n",
    "// int pauli_inx[] = {0, 1, 2, 3} -> X0Y1Z2I3\n",
    "// int pauli_inx[] = {1} -> Y0\n",
    "\n",
    "unit pauli(int puali_idx[], qbit q[]) {\n",
    "    for i in 0:puali_idx.length {\n",
    "        if (puali_idx[i] == 0) {\n",
    "            H(q[i]);\n",
    "            M(q[i]);\n",
    "        }\n",
    "        if (puali_idx[i] == 1) {\n",
    "            X2P(q[i]);\n",
    "            M(q[i]);\n",
    "        }\n",
    "        if (puali_idx[i] == 2) {\n",
    "            M(q[i]);\n",
    "        }\n",
    "        if (puali_idx[i] == 3) {\n",
    "            continue;\n",
    "        }\n",
    "    }\n",
    "}\n",
    "\n",
    "unit main() {\n",
    "    Ry(1.0, q[0]);\n",
    "    pauli(pauli_inx, q);\n",
    "    // Z0 measure\n",
    "}\n",
    "```"
   ]
  },
  {
   "cell_type": "markdown",
   "id": "f9791f3c",
   "metadata": {},
   "source": [
    "We use `tempfile`to simulate here."
   ]
  },
  {
   "cell_type": "code",
   "execution_count": 1,
   "id": "a4e05b8c",
   "metadata": {},
   "outputs": [],
   "source": [
    "FILE_CONTENT = \"\"\"\\\n",
    "import std;\n",
    "\n",
    "qbit q[1];\n",
    "int pauli_inx[] = [2]; // this means Z0\n",
    "\n",
    "// using arrays for pauli measurement\n",
    "// X:0, Y:1, Z:2, I:3\n",
    "// examples:\n",
    "// int pauli_inx[] = {2, 2} -> Z0Z1\n",
    "// int pauli_inx[] = {0, 1, 2, 3} -> X0Y1Z2I3\n",
    "// int pauli_inx[] = {1} -> Y0\n",
    "\n",
    "unit pauli(int puali_idx[], qbit q[]) {\n",
    "    for i in 0:puali_idx.length {\n",
    "        if (puali_idx[i] == 0) {\n",
    "            H(q[i]);\n",
    "            M(q[i]);\n",
    "        }\n",
    "        if (puali_idx[i] == 1) {\n",
    "            X2P(q[i]);\n",
    "            M(q[i]);\n",
    "        }\n",
    "        if (puali_idx[i] == 2) {\n",
    "            M(q[i]);\n",
    "        }\n",
    "        if (puali_idx[i] == 3) {\n",
    "            continue;\n",
    "        }\n",
    "    }\n",
    "}\n",
    "\n",
    "unit main() {\n",
    "    Ry(1.0, q[0]);\n",
    "    pauli(pauli_inx, q);\n",
    "    // Z0 measure\n",
    "}\"\"\""
   ]
  },
  {
   "cell_type": "markdown",
   "id": "b49e66dc",
   "metadata": {},
   "source": [
    "## Pauli Measurement\n",
    "\n",
    "The file `pauli_measurement.isq` provides an example of how to perform Pauli measurements. Please refer carefully to the comments in the `.isq` file for detailed explanations.\n",
    "\n",
    "After creating an instance of `IsqCircuit` (e.g., `qc`), you can perform a Pauli measurement by calling `qc.pauli_measure()`. This function returns the result of the Pauli measurement, with the output value ranging from −1 to 1."
   ]
  },
  {
   "cell_type": "code",
   "execution_count": 2,
   "id": "8c10ae53",
   "metadata": {},
   "outputs": [
    {
     "name": "stdout",
     "output_type": "stream",
     "text": [
      "0.5403023058681398\n"
     ]
    },
    {
     "data": {
      "image/png": "[encoded data removed]",
      "text/plain": [
       "<Figure size 240x130 with 1 Axes>"
      ]
     },
     "metadata": {},
     "output_type": "display_data"
    }
   ],
   "source": [
    "import tempfile\n",
    "from pathlib import Path\n",
    "\n",
    "from isqtools import IsqCircuit\n",
    "from isqtools.backend import NumpyBackend\n",
    "from isqtools.draw import Drawer\n",
    "\n",
    "with tempfile.TemporaryDirectory() as temp_dir:\n",
    "    temp_dir_path = Path(temp_dir)\n",
    "    temp_file_path = temp_dir_path / \"pauli_measurement.isq\"\n",
    "    with open(temp_file_path, \"w\") as temp_file:\n",
    "        temp_file.write(FILE_CONTENT)\n",
    "    backend = NumpyBackend()\n",
    "    qc = IsqCircuit(\n",
    "        file=str(temp_file_path),\n",
    "        backend=backend,\n",
    "        sample=False,\n",
    "    )\n",
    "\n",
    "    print(qc.pauli_measure())\n",
    "    dr = Drawer()\n",
    "    dr.plot(qc.qcis)"
   ]
  },
  {
   "cell_type": "markdown",
   "id": "4fc1ecd6",
   "metadata": {},
   "source": [
    "## Environment Information\n",
    "\n",
    "The following versions of software and libraries are used in this tutorial:"
   ]
  },
  {
   "cell_type": "code",
   "execution_count": 3,
   "id": "14196253",
   "metadata": {},
   "outputs": [
    {
     "name": "stdout",
     "output_type": "stream",
     "text": [
      "Python version used in this tutorial: 3.13.5\n",
      "Execution environment: Linux 6.12.41\n",
      "\n",
      "isqc version: isQ Compiler 0.2.5\n",
      "isqtools version: 1.3.0\n",
      "NumPy version: 2.3.1\n"
     ]
    }
   ],
   "source": [
    "import platform\n",
    "import subprocess\n",
    "from importlib.metadata import version\n",
    "\n",
    "print(f\"Python version used in this tutorial: {platform.python_version()}\")\n",
    "print(f\"Execution environment: {platform.system()} {platform.release()}\\n\")\n",
    "\n",
    "\n",
    "isqc_version = subprocess.check_output(\n",
    "    [\"isqc\", \"-V\"], stderr=subprocess.STDOUT, text=True\n",
    ").strip()\n",
    "print(f\"isqc version: {isqc_version}\")\n",
    "\n",
    "isqtools_version = version(\"isqtools\")\n",
    "print(f\"isqtools version: {isqtools_version}\")\n",
    "\n",
    "numpy_version = version(\"numpy\")\n",
    "print(f\"NumPy version: {numpy_version}\")"
   ]
  }
 ],
 "metadata": {
  "kernelspec": {
   "display_name": "Python 3",
   "language": "python",
   "name": "python3"
  },
  "language_info": {
   "codemirror_mode": {
    "name": "ipython",
    "version": 3
   },
   "file_extension": ".py",
   "mimetype": "text/x-python",
   "name": "python",
   "nbconvert_exporter": "python",
   "pygments_lexer": "ipython3",
   "version": "3.13.5"
  }
 },
 "nbformat": 4,
 "nbformat_minor": 5
}
