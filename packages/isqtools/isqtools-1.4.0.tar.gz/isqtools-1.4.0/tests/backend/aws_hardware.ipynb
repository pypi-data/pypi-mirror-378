{
 "cells": [
  {
   "cell_type": "code",
   "execution_count": 1,
   "id": "b89f7707",
   "metadata": {},
   "outputs": [
    {
     "name": "stdout",
     "output_type": "stream",
     "text": [
      "this machine's task number in queue is:  {<QueueType.NORMAL: 'Normal'>: '3', <QueueType.PRIORITY: 'Priority'>: '0'}\n",
      "arn:aws:braket:us-west-1:236637390150:quantum-task/fe88571f-1ae8-422a-a855-39f4f5838779\n"
     ]
    }
   ],
   "source": [
    "import tempfile\n",
    "from pathlib import Path\n",
    "from braket.devices import Devices\n",
    "\n",
    "from isqtools import IsqCircuit\n",
    "from isqtools.backend import AwsBackend\n",
    "\n",
    "TEST_FILE_CONTENT = \"\"\"\n",
    "import std;\n",
    "unit main() {\n",
    "    qbit q[2];\n",
    "    H(q[0]);\n",
    "    X(q[1]);\n",
    "    M(q[0]);\n",
    "    M(q[1]);\n",
    "}\n",
    "\"\"\"\n",
    "\n",
    "\n",
    "with tempfile.TemporaryDirectory() as temp_dir:\n",
    "    temp_dir_path = Path(temp_dir)\n",
    "    temp_file_path = temp_dir_path / \"temp_file.isq\"\n",
    "    with open(temp_file_path, \"w\") as temp_file:\n",
    "        temp_file.write(TEST_FILE_CONTENT)\n",
    "\n",
    "    backend = AwsBackend(machine_name=Devices.Rigetti.Ankaa3)\n",
    "\n",
    "    qc = IsqCircuit(\n",
    "        file=str(temp_file_path),\n",
    "        sample=True,\n",
    "        shots=100,\n",
    "        backend=backend,\n",
    "    )\n",
    "    result = qc.measure()\n",
    "    print(result)\n"
   ]
  },
  {
   "cell_type": "code",
   "execution_count": 1,
   "id": "0a20cef2",
   "metadata": {},
   "outputs": [
    {
     "name": "stdout",
     "output_type": "stream",
     "text": [
      "{'01': 49, '11': 44, '10': 2, '00': 5}\n"
     ]
    }
   ],
   "source": [
    "from isqtools.backend import AwsBackend\n",
    "id = \"arn:aws:braket:us-west-1:236637390150:quantum-task/fe88571f-1ae8-422a-a855-39f4f5838779\"\n",
    "\n",
    "backend = AwsBackend()\n",
    "\n",
    "result = backend.query_sample_result(id)\n",
    "print(result)"
   ]
  },
  {
   "cell_type": "code",
   "execution_count": 6,
   "id": "e85d3723",
   "metadata": {},
   "outputs": [
    {
     "name": "stdout",
     "output_type": "stream",
     "text": [
      "this machine's task number in queue is:  {<QueueType.NORMAL: 'Normal'>: '1', <QueueType.PRIORITY: 'Priority'>: '0'}\n",
      "arn:aws:braket:us-east-1:236637390150:quantum-task/502063bc-2738-4fe4-85c4-bcf4507ca302\n"
     ]
    }
   ],
   "source": [
    "import tempfile\n",
    "from pathlib import Path\n",
    "from braket.devices import Devices\n",
    "\n",
    "from isqtools import IsqCircuit\n",
    "from isqtools.backend import AwsBackend\n",
    "\n",
    "TEST_FILE_CONTENT = \"\"\"\n",
    "import std;\n",
    "unit main() {\n",
    "    qbit q[2];\n",
    "    H(q[0]);\n",
    "    X(q[1]);\n",
    "    M(q[0]);\n",
    "    M(q[1]);\n",
    "}\n",
    "\"\"\"\n",
    "\n",
    "\n",
    "with tempfile.TemporaryDirectory() as temp_dir:\n",
    "    temp_dir_path = Path(temp_dir)\n",
    "    temp_file_path = temp_dir_path / \"temp_file.isq\"\n",
    "    with open(temp_file_path, \"w\") as temp_file:\n",
    "        temp_file.write(TEST_FILE_CONTENT)\n",
    "\n",
    "    backend = AwsBackend(machine_name=Devices.IonQ.ForteEnterprise1)\n",
    "\n",
    "    qc = IsqCircuit(\n",
    "        file=str(temp_file_path),\n",
    "        sample=True,\n",
    "        shots=100,\n",
    "        backend=backend,\n",
    "    )\n",
    "    result = qc.measure()\n",
    "    print(result)\n"
   ]
  },
  {
   "cell_type": "code",
   "execution_count": 3,
   "id": "ab9caee4",
   "metadata": {},
   "outputs": [
    {
     "name": "stdout",
     "output_type": "stream",
     "text": [
      "{'00': 1, '10': 2, '01': 55, '11': 42}\n"
     ]
    }
   ],
   "source": [
    "from isqtools.backend import AwsBackend\n",
    "id = \"arn:aws:braket:us-east-1:236637390150:quantum-task/502063bc-2738-4fe4-85c4-bcf4507ca302\"\n",
    "\n",
    "backend = AwsBackend()\n",
    "\n",
    "result = backend.query_sample_result(id)\n",
    "print(result)"
   ]
  },
  {
   "cell_type": "code",
   "execution_count": 10,
   "id": "f6e7a632",
   "metadata": {},
   "outputs": [
    {
     "name": "stdout",
     "output_type": "stream",
     "text": [
      "this machine's task number in queue is:  {<QueueType.NORMAL: 'Normal'>: '0', <QueueType.PRIORITY: 'Priority'>: '0'}\n",
      "arn:aws:braket:eu-north-1:236637390150:quantum-task/31eb4a11-3fcb-4a28-b3bf-56927873a366\n"
     ]
    }
   ],
   "source": [
    "import tempfile\n",
    "from pathlib import Path\n",
    "from braket.devices import Devices\n",
    "\n",
    "from isqtools import IsqCircuit\n",
    "from isqtools.backend import AwsBackend\n",
    "\n",
    "TEST_FILE_CONTENT = \"\"\"\n",
    "import std;\n",
    "unit main() {\n",
    "    qbit q[2];\n",
    "    H(q[0]);\n",
    "    X(q[1]);\n",
    "    M(q[0]);\n",
    "    M(q[1]);\n",
    "}\n",
    "\"\"\"\n",
    "\n",
    "\n",
    "with tempfile.TemporaryDirectory() as temp_dir:\n",
    "    temp_dir_path = Path(temp_dir)\n",
    "    temp_file_path = temp_dir_path / \"temp_file.isq\"\n",
    "    with open(temp_file_path, \"w\") as temp_file:\n",
    "        temp_file.write(TEST_FILE_CONTENT)\n",
    "\n",
    "    backend = AwsBackend(machine_name=Devices.IQM.Garnet)\n",
    "\n",
    "    qc = IsqCircuit(\n",
    "        file=str(temp_file_path),\n",
    "        sample=True,\n",
    "        shots=100,\n",
    "        backend=backend,\n",
    "    )\n",
    "    result = qc.measure()\n",
    "    print(result)\n"
   ]
  },
  {
   "cell_type": "code",
   "execution_count": 4,
   "id": "1b53783a",
   "metadata": {},
   "outputs": [
    {
     "name": "stdout",
     "output_type": "stream",
     "text": [
      "{'11': 39, '01': 59, '10': 1, '00': 1}\n"
     ]
    }
   ],
   "source": [
    "from isqtools.backend import AwsBackend\n",
    "id = \"arn:aws:braket:eu-north-1:236637390150:quantum-task/31eb4a11-3fcb-4a28-b3bf-56927873a366\"\n",
    "\n",
    "backend = AwsBackend()\n",
    "\n",
    "result = backend.query_sample_result(id)\n",
    "print(result)"
   ]
  }
 ],
 "metadata": {
  "kernelspec": {
   "display_name": "isqtools (3.13.6)",
   "language": "python",
   "name": "python3"
  },
  "language_info": {
   "codemirror_mode": {
    "name": "ipython",
    "version": 3
   },
   "file_extension": ".py",
   "mimetype": "text/x-python",
   "name": "python",
   "nbconvert_exporter": "python",
   "pygments_lexer": "ipython3",
   "version": "3.13.6"
  }
 },
 "nbformat": 4,
 "nbformat_minor": 5
}
