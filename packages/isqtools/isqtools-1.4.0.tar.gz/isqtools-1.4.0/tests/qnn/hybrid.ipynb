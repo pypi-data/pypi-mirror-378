{
 "cells": [
  {
   "cell_type": "code",
   "execution_count": 1,
   "id": "40cdc9e7-754e-461d-8e9e-f14c3caa96ec",
   "metadata": {},
   "outputs": [],
   "source": [
    "import random\n",
    "\n",
    "import matplotlib.pyplot as plt\n",
    "import numpy as np\n",
    "import torch\n",
    "import torch.nn as nn\n",
    "import torch.optim as optim\n",
    "import torchvision\n",
    "from torch.utils.data import DataLoader\n",
    "\n",
    "from isqtools import IsqCircuit\n",
    "from isqtools.backend import TorchBackend\n",
    "from isqtools.neural_networks import TorchLayer\n",
    "\n",
    "\n",
    "def setup_seed(seed):\n",
    "    torch.manual_seed(seed)\n",
    "    torch.cuda.manual_seed_all(seed)\n",
    "    np.random.seed(seed)\n",
    "    random.seed(seed)\n",
    "\n",
    "\n",
    "setup_seed(222)"
   ]
  },
  {
   "cell_type": "code",
   "execution_count": 2,
   "id": "7f746e46-eeb5-4442-8959-54355eb1276e",
   "metadata": {},
   "outputs": [],
   "source": [
    "epochs = 1\n",
    "train_samples = 200\n",
    "batch_size_train = 10\n",
    "\n",
    "test_samples = 100\n",
    "batch_size_test = 10\n",
    "\n",
    "device = \"cpu\""
   ]
  },
  {
   "cell_type": "code",
   "execution_count": 4,
   "id": "8d6103a5-c51e-48ee-bde0-84e61d3d4aae",
   "metadata": {},
   "outputs": [],
   "source": [
    "train_data = torchvision.datasets.MNIST(\n",
    "    \"./data/\",\n",
    "    train=True,\n",
    "    download=True,\n",
    "    transform=torchvision.transforms.Compose(\n",
    "        [\n",
    "            torchvision.transforms.ToTensor(),\n",
    "            torchvision.transforms.Normalize(\n",
    "                (0.1307,),\n",
    "                (0.3081,),\n",
    "            ),\n",
    "        ]\n",
    "    ),\n",
    ")\n",
    "test_data = torchvision.datasets.MNIST(\n",
    "    \"./data/\",\n",
    "    train=False,\n",
    "    download=True,\n",
    "    transform=torchvision.transforms.Compose(\n",
    "        [\n",
    "            torchvision.transforms.ToTensor(),\n",
    "            torchvision.transforms.Normalize(\n",
    "                (0.1307,),\n",
    "                (0.3081,),\n",
    "            ),\n",
    "        ]\n",
    "    ),\n",
    ")\n",
    "\n",
    "idx = np.append(\n",
    "    np.where(train_data.targets == 0)[0][:train_samples],\n",
    "    np.where(train_data.targets == 1)[0][:train_samples],\n",
    ")\n",
    "\n",
    "train_data.data = train_data.data[idx]\n",
    "train_data.targets = train_data.targets[idx]\n",
    "\n",
    "train_dataloader = DataLoader(\n",
    "    train_data,\n",
    "    batch_size=batch_size_train,\n",
    "    shuffle=True,\n",
    ")\n",
    "# 数据 标签 X_train， y_train\n",
    "\n",
    "\n",
    "idx = np.append(\n",
    "    np.where(test_data.targets == 0)[0][:test_samples],\n",
    "    np.where(test_data.targets == 1)[0][:test_samples],\n",
    ")\n",
    "\n",
    "test_data.data = test_data.data[idx]\n",
    "test_data.targets = test_data.targets[idx]\n",
    "\n",
    "test_dataloader = DataLoader(test_data, batch_size=batch_size_test, shuffle=True)\n",
    "\n",
    "# 数据 标签 X_test， y_test"
   ]
  },
  {
   "cell_type": "code",
   "execution_count": 5,
   "id": "7acb82a5-cd9b-47e1-b7cb-4d16c7460c56",
   "metadata": {},
   "outputs": [
    {
     "data": {
      "image/png": "[encoded data removed]",
      "text/plain": [
       "<Figure size 1000x300 with 8 Axes>"
      ]
     },
     "metadata": {},
     "output_type": "display_data"
    }
   ],
   "source": [
    "test_plot_data, test_plot_targets = next(iter(test_dataloader))\n",
    "\n",
    "_, axes = plt.subplots(1, 8, figsize=(10, 3))\n",
    "for i in range(8):\n",
    "    axes[i].imshow(test_plot_data[i][0], cmap=\"gray\", interpolation=\"none\")\n",
    "    axes[i].set_title(f\"Number: {test_plot_targets[i]}\")\n",
    "    axes[i].set_xticks([])\n",
    "    axes[i].set_yticks([])"
   ]
  },
  {
   "cell_type": "code",
   "execution_count": 6,
   "id": "2c780852-3a54-4078-b4c6-3a081cb964c8",
   "metadata": {},
   "outputs": [],
   "source": [
    "backend = TorchBackend()\n",
    "\n",
    "qc = IsqCircuit(\n",
    "    file=\"hybrid.isq\",\n",
    "    backend=backend,\n",
    "    sample=False,\n",
    ")\n",
    "\n",
    "\n",
    "def circuit(inputs, weights):\n",
    "    param = {\n",
    "        \"inputs\": inputs,\n",
    "        \"weights\": weights,\n",
    "    }\n",
    "    result = qc.measure(**param)\n",
    "    return torch.cat((result[0].view(-1), result[2].view(-1)))\n",
    "\n",
    "\n",
    "qnn = TorchLayer(\n",
    "    circuit=circuit,\n",
    "    num_weights=12,\n",
    "    is_vmap=True,\n",
    ")"
   ]
  },
  {
   "cell_type": "code",
   "execution_count": 7,
   "id": "518b61b1-f52b-48c0-bc8a-d9f65c957a69",
   "metadata": {},
   "outputs": [
    {
     "data": {
      "image/png": "[encoded data removed]",
      "text/plain": [
       "<Figure size 890x195 with 1 Axes>"
      ]
     },
     "metadata": {},
     "output_type": "display_data"
    }
   ],
   "source": [
    "from isqtools.draw import Drawer\n",
    "\n",
    "dr = Drawer()\n",
    "dr.plot(qc.qcis)"
   ]
  },
  {
   "cell_type": "code",
   "execution_count": 8,
   "id": "c745a97f-adf7-4f32-b7b3-49b1942aedeb",
   "metadata": {},
   "outputs": [],
   "source": [
    "class HybridNet(nn.Module):\n",
    "    def __init__(self, qnn):\n",
    "        super().__init__()\n",
    "        self.conv = nn.Sequential(\n",
    "            nn.Conv2d(1, 10, kernel_size=5),\n",
    "            nn.MaxPool2d(2),\n",
    "            nn.ReLU(),\n",
    "            nn.Conv2d(10, 20, kernel_size=5),\n",
    "            nn.Dropout2d(),\n",
    "            nn.MaxPool2d(2),\n",
    "            nn.ReLU(),\n",
    "            nn.Flatten(),\n",
    "        )\n",
    "\n",
    "        self.fc = nn.Sequential(\n",
    "            nn.Linear(320, 50),\n",
    "            nn.ReLU(),\n",
    "            nn.Linear(50, 2),\n",
    "            qnn,\n",
    "            nn.Linear(2, 2),\n",
    "        )\n",
    "\n",
    "    def forward(self, x):\n",
    "        x = self.conv(x)\n",
    "        x = self.fc(x)\n",
    "        return x"
   ]
  },
  {
   "cell_type": "code",
   "execution_count": 9,
   "id": "dc80a49e-2d6a-4bd3-95f8-77ce36efa2dc",
   "metadata": {},
   "outputs": [],
   "source": [
    "hybrid_net = HybridNet(qnn)\n",
    "loss_fn = nn.CrossEntropyLoss()\n",
    "optimizer = optim.Adam(hybrid_net.parameters(), lr=0.001)"
   ]
  },
  {
   "cell_type": "code",
   "execution_count": 10,
   "id": "847a439f-780f-4bba-9199-ed8f05a5cd2b",
   "metadata": {},
   "outputs": [],
   "source": [
    "def train(dataloader, model, loss_fn, optimizer):\n",
    "    size = len(dataloader.dataset)\n",
    "    model.train()\n",
    "    for batch, (X, y) in enumerate(dataloader):\n",
    "        X, y = X.to(device), y.to(device)\n",
    "        # Compute prediction error\n",
    "        pred = model(X)\n",
    "        loss = loss_fn(pred, y)\n",
    "        # Backpropagation\n",
    "        loss.backward()\n",
    "        optimizer.step()\n",
    "        optimizer.zero_grad()\n",
    "\n",
    "        if batch % 10 == 0:\n",
    "            loss, current = loss.item(), (batch + 1) * len(X)\n",
    "            print(f\"loss: {loss:>7f}  [{current:>5d}/{size:>5d}]\")"
   ]
  },
  {
   "cell_type": "code",
   "execution_count": 11,
   "id": "067cca37-c2a7-43c5-9193-e0a265a2d65a",
   "metadata": {},
   "outputs": [],
   "source": [
    "def test(dataloader, model, loss_fn):\n",
    "    size = len(dataloader.dataset)\n",
    "\n",
    "    num_batches = len(dataloader)\n",
    "    model.eval()\n",
    "    test_loss, correct = 0, 0\n",
    "    with torch.no_grad():\n",
    "        for X, y in dataloader:\n",
    "            X, y = X.to(device), y.to(device)\n",
    "            pred = model(X)\n",
    "            test_loss += loss_fn(pred, y).item()\n",
    "            correct += (pred.argmax(1) == y).type(torch.float).sum().item()\n",
    "    test_loss /= num_batches\n",
    "    correct /= size\n",
    "    print(\n",
    "        f\"Test Error: \\n Accuracy: {(100*correct):>0.1f}%, Avg loss: {test_loss:>8f} \\n\"\n",
    "    )"
   ]
  },
  {
   "cell_type": "code",
   "execution_count": 12,
   "id": "fc4a48f4-f3c4-4673-8b06-9dc7ea1502ec",
   "metadata": {},
   "outputs": [
    {
     "name": "stdout",
     "output_type": "stream",
     "text": [
      "Epoch 1\n",
      "-------------------------------\n",
      "loss: 0.822773  [   10/  400]\n",
      "loss: 0.584339  [  110/  400]\n",
      "loss: 0.547312  [  210/  400]\n",
      "loss: 0.492907  [  310/  400]\n",
      "Test Error: \n",
      " Accuracy: 99.5%, Avg loss: 0.493613 \n",
      "\n",
      "Epoch 2\n",
      "-------------------------------\n",
      "loss: 0.521913  [   10/  400]\n",
      "loss: 0.541909  [  110/  400]\n",
      "loss: 0.444593  [  210/  400]\n",
      "loss: 0.484125  [  310/  400]\n",
      "Test Error: \n",
      " Accuracy: 100.0%, Avg loss: 0.455073 \n",
      "\n",
      "Epoch 3\n",
      "-------------------------------\n",
      "loss: 0.465106  [   10/  400]\n",
      "loss: 0.478267  [  110/  400]\n",
      "loss: 0.471615  [  210/  400]\n",
      "loss: 0.465875  [  310/  400]\n",
      "Test Error: \n",
      " Accuracy: 100.0%, Avg loss: 0.427130 \n",
      "\n",
      "Epoch 4\n",
      "-------------------------------\n",
      "loss: 0.424858  [   10/  400]\n",
      "loss: 0.420086  [  110/  400]\n",
      "loss: 0.431514  [  210/  400]\n",
      "loss: 0.420472  [  310/  400]\n",
      "Test Error: \n",
      " Accuracy: 100.0%, Avg loss: 0.396076 \n",
      "\n",
      "Epoch 5\n",
      "-------------------------------\n",
      "loss: 0.414942  [   10/  400]\n",
      "loss: 0.384991  [  110/  400]\n",
      "loss: 0.457082  [  210/  400]\n",
      "loss: 0.377609  [  310/  400]\n",
      "Test Error: \n",
      " Accuracy: 100.0%, Avg loss: 0.364367 \n",
      "\n",
      "Done!\n"
     ]
    }
   ],
   "source": [
    "epochs = 5\n",
    "for t in range(epochs):\n",
    "    print(f\"Epoch {t+1}\\n-------------------------------\")\n",
    "    train(train_dataloader, hybrid_net, loss_fn, optimizer)\n",
    "    test(test_dataloader, hybrid_net, loss_fn)\n",
    "print(\"Done!\")"
   ]
  },
  {
   "cell_type": "code",
   "execution_count": 13,
   "id": "cf95c2bc-caee-42f5-8aac-a760fafa6612",
   "metadata": {},
   "outputs": [
    {
     "data": {
      "image/png": "[encoded data removed]",
      "text/plain": [
       "<Figure size 1000x300 with 8 Axes>"
      ]
     },
     "metadata": {},
     "output_type": "display_data"
    }
   ],
   "source": [
    "count = 0\n",
    "_, axes = plt.subplots(1, 8, figsize=(10, 3))\n",
    "hybrid_net.eval()\n",
    "with torch.no_grad():\n",
    "    for batch_idx, (data, target) in enumerate(test_dataloader):\n",
    "        if count == 8:\n",
    "            break\n",
    "        output = hybrid_net(data[0:1])\n",
    "        pred = output.argmax(dim=1, keepdim=True)\n",
    "        axes[count].imshow(data[0].numpy().squeeze(), cmap=\"gray\", interpolation=\"none\")\n",
    "        axes[count].set_xticks([])\n",
    "        axes[count].set_yticks([])\n",
    "        axes[count].set_title(f\"Predicted {pred.item()}\")\n",
    "        count += 1"
   ]
  }
 ],
 "metadata": {
  "kernelspec": {
   "display_name": "Python 3 (ipykernel)",
   "language": "python",
   "name": "python3"
  },
  "language_info": {
   "codemirror_mode": {
    "name": "ipython",
    "version": 3
   },
   "file_extension": ".py",
   "mimetype": "text/x-python",
   "name": "python",
   "nbconvert_exporter": "python",
   "pygments_lexer": "ipython3",
   "version": "3.12.4"
  }
 },
 "nbformat": 4,
 "nbformat_minor": 5
}
