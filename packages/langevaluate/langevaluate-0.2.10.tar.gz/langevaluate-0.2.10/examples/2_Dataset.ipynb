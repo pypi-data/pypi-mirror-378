{
 "cells": [
  {
   "cell_type": "markdown",
   "metadata": {},
   "source": [
    "# LLM (Multiple Choice Question) 평가 튜토리얼\n",
    "\n",
    "## LLMDataset\n",
    "\n",
    "이 튜토리얼에서는 LLMDataset Class에 대해서 배울 것입니다.\n",
    "\n",
    "### LLMDataset의 주요 기능\n",
    "- 여러가지 데이터 쉬운 데이터 조작 함수 제공\n",
    "- 파일 입출력 함수 제공\n",
    "- huggingface 통합"
   ]
  },
  {
   "cell_type": "code",
   "execution_count": 1,
   "metadata": {},
   "outputs": [],
   "source": [
    "from typing import List\n",
    "from langmetrics.llmtestcase import LLMTestCase\n",
    "from langmetrics.llmdataset import LLMDataset"
   ]
  },
  {
   "cell_type": "markdown",
   "metadata": {},
   "source": [
    "## LLMDatset 기본 사용법\n",
    "### 3.1 데이터셋 생성\n",
    "LLMDatset은 LLMTestCase 객체들의 리스트로 생성할 수 있습니다."
   ]
  },
  {
   "cell_type": "code",
   "execution_count": 2,
   "metadata": {},
   "outputs": [],
   "source": [
    "# 여러 테스트 케이스로 데이터셋 생성\n",
    "test_cases = [\n",
    "    LLMTestCase(\n",
    "        input=\"대한민국의 수도는?\",\n",
    "        choices=[\"서울\", \"부산\", \"대구\", \"인천\"],\n",
    "        expected_output=\"서울\"\n",
    "    ),\n",
    "    LLMTestCase(\n",
    "        input=\"1 + 1 = ?\",\n",
    "        choices=[\"1\", \"2\", \"3\", \"4\"],\n",
    "        expected_output=\"2\"\n",
    "    )\n",
    "]\n",
    "\n",
    "dataset = LLMDataset(test_cases=test_cases)"
   ]
  },
  {
   "cell_type": "markdown",
   "metadata": {},
   "source": [
    "### 3.2 기본 Datset 작업\n",
    "\n",
    "Dataset Class는 대부분의 파이썬 리스트 기능들이 구현되어 있습니다. 또한 Dataframe의 몇몇 기능 또한 추가되어 편리하게 사용할 수 있습니다."
   ]
  },
  {
   "cell_type": "code",
   "execution_count": 3,
   "metadata": {},
   "outputs": [
    {
     "name": "stdout",
     "output_type": "stream",
     "text": [
      "데이터셋 크기: 2\n",
      "문제: 대한민국의 수도는?\n",
      "선택지: ['서울', '부산', '대구', '인천']\n",
      "문제: 1 + 1 = ?\n",
      "선택지: ['1', '2', '3', '4']\n"
     ]
    }
   ],
   "source": [
    "# 데이터셋 크기 확인\n",
    "print(f\"데이터셋 크기: {len(dataset)}\")\n",
    "\n",
    "# 특정 문제 접근\n",
    "first_question = dataset[0]\n",
    "\n",
    "# 데이터셋 순회\n",
    "for question in dataset:\n",
    "    print(f\"문제: {question.input}\")\n",
    "    print(f\"선택지: {question.choices}\")"
   ]
  },
  {
   "cell_type": "markdown",
   "metadata": {},
   "source": [
    "### 3.2 데이터 추가"
   ]
  },
  {
   "cell_type": "code",
   "execution_count": 4,
   "metadata": {},
   "outputs": [],
   "source": [
    "# 단일 문제 추가\n",
    "new_question = LLMTestCase(\n",
    "    input=\"Python은 인터프리터 언어인가요?\",\n",
    "    choices=[\"예\", \"아니오\"],\n",
    "    expected_output=\"예\"\n",
    ")\n",
    "dataset.append(new_question)"
   ]
  },
  {
   "cell_type": "code",
   "execution_count": 5,
   "metadata": {},
   "outputs": [
    {
     "name": "stdout",
     "output_type": "stream",
     "text": [
      "3\n"
     ]
    }
   ],
   "source": [
    "print(len(dataset))"
   ]
  },
  {
   "cell_type": "code",
   "execution_count": 6,
   "metadata": {},
   "outputs": [],
   "source": [
    "# 테스트케이스 여러개 추가\n",
    "new_testcases: List[LLMTestCase] = [\n",
    "    LLMTestCase(\n",
    "        input=\"What is 2 + 2?\",\n",
    "        choices=[\"3\", \"4\", \"5\", \"6\"],\n",
    "        expected_output=\"B\"\n",
    "    ),\n",
    "    LLMTestCase(\n",
    "        input=\"Which planet is known as the Red Planet?\",\n",
    "        choices=[\"Venus\", \"Mars\", \"Jupiter\", \"Saturn\"],\n",
    "        expected_output=\"B\"\n",
    "    )\n",
    "]\n",
    "dataset.extend(new_testcases)"
   ]
  },
  {
   "cell_type": "code",
   "execution_count": 7,
   "metadata": {},
   "outputs": [
    {
     "name": "stdout",
     "output_type": "stream",
     "text": [
      "5\n"
     ]
    }
   ],
   "source": [
    "print(len(dataset))"
   ]
  },
  {
   "cell_type": "code",
   "execution_count": 8,
   "metadata": {},
   "outputs": [],
   "source": [
    "# MCQDataset 테스트케이스 여러개 추가\n",
    "new_testcases = LLMDataset(new_testcases)\n",
    "dataset.extend(new_testcases)"
   ]
  },
  {
   "cell_type": "code",
   "execution_count": 9,
   "metadata": {},
   "outputs": [
    {
     "name": "stdout",
     "output_type": "stream",
     "text": [
      "7\n"
     ]
    }
   ],
   "source": [
    "print(len(dataset))"
   ]
  },
  {
   "cell_type": "code",
   "execution_count": 10,
   "metadata": {},
   "outputs": [
    {
     "data": {
      "text/plain": [
       "LLMDataset(Polars DataFrame with 7 rows)"
      ]
     },
     "execution_count": 10,
     "metadata": {},
     "output_type": "execute_result"
    }
   ],
   "source": [
    "dataset"
   ]
  },
  {
   "cell_type": "markdown",
   "metadata": {},
   "source": [
    "### 3.3 데이터 조작\n",
    "\n",
    "데이터 조작을 위하여 다음 함수들을 제공합니다.\n",
    "\n",
    "- `filter`: 조건에 맞는 테스트 케이스만 선택\n",
    "- `map`: 각 테스트 케이스를 변환\n",
    "- `split`: 훈련/테스트 세트로 분할\n",
    "- `sample`: 무작위 샘플링"
   ]
  },
  {
   "cell_type": "code",
   "execution_count": 11,
   "metadata": {},
   "outputs": [
    {
     "data": {
      "text/html": [
       "<div><style>\n",
       ".dataframe > thead > tr,\n",
       ".dataframe > tbody > tr {\n",
       "  text-align: right;\n",
       "  white-space: pre-wrap;\n",
       "}\n",
       "</style>\n",
       "<small>shape: (7, 7)</small><table border=\"1\" class=\"dataframe\"><thead><tr><th>input</th><th>output</th><th>expected_output</th><th>context</th><th>retrieval_context</th><th>reasoning</th><th>choices</th></tr><tr><td>str</td><td>null</td><td>str</td><td>null</td><td>null</td><td>null</td><td>list[str]</td></tr></thead><tbody><tr><td>&quot;대한민국의 수도는?&quot;</td><td>null</td><td>&quot;서울&quot;</td><td>null</td><td>null</td><td>null</td><td>[&quot;서울&quot;, &quot;부산&quot;, … &quot;인천&quot;]</td></tr><tr><td>&quot;1 + 1 = ?&quot;</td><td>null</td><td>&quot;2&quot;</td><td>null</td><td>null</td><td>null</td><td>[&quot;1&quot;, &quot;2&quot;, … &quot;4&quot;]</td></tr><tr><td>&quot;Python은 인터프리터 언어인가요?&quot;</td><td>null</td><td>&quot;예&quot;</td><td>null</td><td>null</td><td>null</td><td>[&quot;예&quot;, &quot;아니오&quot;]</td></tr><tr><td>&quot;What is 2 + 2?&quot;</td><td>null</td><td>&quot;B&quot;</td><td>null</td><td>null</td><td>null</td><td>[&quot;3&quot;, &quot;4&quot;, … &quot;6&quot;]</td></tr><tr><td>&quot;Which planet is known as the R…</td><td>null</td><td>&quot;B&quot;</td><td>null</td><td>null</td><td>null</td><td>[&quot;Venus&quot;, &quot;Mars&quot;, … &quot;Saturn&quot;]</td></tr><tr><td>&quot;What is 2 + 2?&quot;</td><td>null</td><td>&quot;B&quot;</td><td>null</td><td>null</td><td>null</td><td>[&quot;3&quot;, &quot;4&quot;, … &quot;6&quot;]</td></tr><tr><td>&quot;Which planet is known as the R…</td><td>null</td><td>&quot;B&quot;</td><td>null</td><td>null</td><td>null</td><td>[&quot;Venus&quot;, &quot;Mars&quot;, … &quot;Saturn&quot;]</td></tr></tbody></table></div>"
      ],
      "text/plain": [
       "shape: (7, 7)\n",
       "┌────────────────┬────────┬────────────────┬─────────┬────────────────┬───────────┬────────────────┐\n",
       "│ input          ┆ output ┆ expected_outpu ┆ context ┆ retrieval_cont ┆ reasoning ┆ choices        │\n",
       "│ ---            ┆ ---    ┆ t              ┆ ---     ┆ ext            ┆ ---       ┆ ---            │\n",
       "│ str            ┆ null   ┆ ---            ┆ null    ┆ ---            ┆ null      ┆ list[str]      │\n",
       "│                ┆        ┆ str            ┆         ┆ null           ┆           ┆                │\n",
       "╞════════════════╪════════╪════════════════╪═════════╪════════════════╪═══════════╪════════════════╡\n",
       "│ 대한민국의     ┆ null   ┆ 서울           ┆ null    ┆ null           ┆ null      ┆ [\"서울\",       │\n",
       "│ 수도는?        ┆        ┆                ┆         ┆                ┆           ┆ \"부산\", …      │\n",
       "│                ┆        ┆                ┆         ┆                ┆           ┆ \"인천\"]        │\n",
       "│ 1 + 1 = ?      ┆ null   ┆ 2              ┆ null    ┆ null           ┆ null      ┆ [\"1\", \"2\", …   │\n",
       "│                ┆        ┆                ┆         ┆                ┆           ┆ \"4\"]           │\n",
       "│ Python은       ┆ null   ┆ 예             ┆ null    ┆ null           ┆ null      ┆ [\"예\",         │\n",
       "│ 인터프리터     ┆        ┆                ┆         ┆                ┆           ┆ \"아니오\"]      │\n",
       "│ 언어인가요?    ┆        ┆                ┆         ┆                ┆           ┆                │\n",
       "│ What is 2 + 2? ┆ null   ┆ B              ┆ null    ┆ null           ┆ null      ┆ [\"3\", \"4\", …   │\n",
       "│                ┆        ┆                ┆         ┆                ┆           ┆ \"6\"]           │\n",
       "│ Which planet   ┆ null   ┆ B              ┆ null    ┆ null           ┆ null      ┆ [\"Venus\",      │\n",
       "│ is known as    ┆        ┆                ┆         ┆                ┆           ┆ \"Mars\", …      │\n",
       "│ the R…         ┆        ┆                ┆         ┆                ┆           ┆ \"Saturn\"]      │\n",
       "│ What is 2 + 2? ┆ null   ┆ B              ┆ null    ┆ null           ┆ null      ┆ [\"3\", \"4\", …   │\n",
       "│                ┆        ┆                ┆         ┆                ┆           ┆ \"6\"]           │\n",
       "│ Which planet   ┆ null   ┆ B              ┆ null    ┆ null           ┆ null      ┆ [\"Venus\",      │\n",
       "│ is known as    ┆        ┆                ┆         ┆                ┆           ┆ \"Mars\", …      │\n",
       "│ the R…         ┆        ┆                ┆         ┆                ┆           ┆ \"Saturn\"]      │\n",
       "└────────────────┴────────┴────────────────┴─────────┴────────────────┴───────────┴────────────────┘"
      ]
     },
     "execution_count": 11,
     "metadata": {},
     "output_type": "execute_result"
    }
   ],
   "source": [
    "dataset.df"
   ]
  },
  {
   "cell_type": "code",
   "execution_count": 12,
   "metadata": {},
   "outputs": [
    {
     "data": {
      "text/html": [
       "<div><style>\n",
       ".dataframe > thead > tr,\n",
       ".dataframe > tbody > tr {\n",
       "  text-align: right;\n",
       "  white-space: pre-wrap;\n",
       "}\n",
       "</style>\n",
       "<small>shape: (7, 7)</small><table border=\"1\" class=\"dataframe\"><thead><tr><th>input</th><th>output</th><th>expected_output</th><th>context</th><th>retrieval_context</th><th>reasoning</th><th>choices</th></tr><tr><td>str</td><td>null</td><td>str</td><td>null</td><td>null</td><td>str</td><td>list[str]</td></tr></thead><tbody><tr><td>&quot;대한민국의 수도는?&quot;</td><td>null</td><td>&quot;서울&quot;</td><td>null</td><td>null</td><td>&quot;기본 추론&quot;</td><td>[&quot;서울&quot;, &quot;부산&quot;, … &quot;인천&quot;]</td></tr><tr><td>&quot;1 + 1 = ?&quot;</td><td>null</td><td>&quot;2&quot;</td><td>null</td><td>null</td><td>&quot;기본 추론&quot;</td><td>[&quot;1&quot;, &quot;2&quot;, … &quot;4&quot;]</td></tr><tr><td>&quot;Python은 인터프리터 언어인가요?&quot;</td><td>null</td><td>&quot;예&quot;</td><td>null</td><td>null</td><td>&quot;기본 추론&quot;</td><td>[&quot;예&quot;, &quot;아니오&quot;]</td></tr><tr><td>&quot;What is 2 + 2?&quot;</td><td>null</td><td>&quot;B&quot;</td><td>null</td><td>null</td><td>&quot;기본 추론&quot;</td><td>[&quot;3&quot;, &quot;4&quot;, … &quot;6&quot;]</td></tr><tr><td>&quot;Which planet is known as the R…</td><td>null</td><td>&quot;B&quot;</td><td>null</td><td>null</td><td>&quot;기본 추론&quot;</td><td>[&quot;Venus&quot;, &quot;Mars&quot;, … &quot;Saturn&quot;]</td></tr><tr><td>&quot;What is 2 + 2?&quot;</td><td>null</td><td>&quot;B&quot;</td><td>null</td><td>null</td><td>&quot;기본 추론&quot;</td><td>[&quot;3&quot;, &quot;4&quot;, … &quot;6&quot;]</td></tr><tr><td>&quot;Which planet is known as the R…</td><td>null</td><td>&quot;B&quot;</td><td>null</td><td>null</td><td>&quot;기본 추론&quot;</td><td>[&quot;Venus&quot;, &quot;Mars&quot;, … &quot;Saturn&quot;]</td></tr></tbody></table></div>"
      ],
      "text/plain": [
       "shape: (7, 7)\n",
       "┌────────────────┬────────┬────────────────┬─────────┬────────────────┬───────────┬────────────────┐\n",
       "│ input          ┆ output ┆ expected_outpu ┆ context ┆ retrieval_cont ┆ reasoning ┆ choices        │\n",
       "│ ---            ┆ ---    ┆ t              ┆ ---     ┆ ext            ┆ ---       ┆ ---            │\n",
       "│ str            ┆ null   ┆ ---            ┆ null    ┆ ---            ┆ str       ┆ list[str]      │\n",
       "│                ┆        ┆ str            ┆         ┆ null           ┆           ┆                │\n",
       "╞════════════════╪════════╪════════════════╪═════════╪════════════════╪═══════════╪════════════════╡\n",
       "│ 대한민국의     ┆ null   ┆ 서울           ┆ null    ┆ null           ┆ 기본 추론 ┆ [\"서울\",       │\n",
       "│ 수도는?        ┆        ┆                ┆         ┆                ┆           ┆ \"부산\", …      │\n",
       "│                ┆        ┆                ┆         ┆                ┆           ┆ \"인천\"]        │\n",
       "│ 1 + 1 = ?      ┆ null   ┆ 2              ┆ null    ┆ null           ┆ 기본 추론 ┆ [\"1\", \"2\", …   │\n",
       "│                ┆        ┆                ┆         ┆                ┆           ┆ \"4\"]           │\n",
       "│ Python은       ┆ null   ┆ 예             ┆ null    ┆ null           ┆ 기본 추론 ┆ [\"예\",         │\n",
       "│ 인터프리터     ┆        ┆                ┆         ┆                ┆           ┆ \"아니오\"]      │\n",
       "│ 언어인가요?    ┆        ┆                ┆         ┆                ┆           ┆                │\n",
       "│ What is 2 + 2? ┆ null   ┆ B              ┆ null    ┆ null           ┆ 기본 추론 ┆ [\"3\", \"4\", …   │\n",
       "│                ┆        ┆                ┆         ┆                ┆           ┆ \"6\"]           │\n",
       "│ Which planet   ┆ null   ┆ B              ┆ null    ┆ null           ┆ 기본 추론 ┆ [\"Venus\",      │\n",
       "│ is known as    ┆        ┆                ┆         ┆                ┆           ┆ \"Mars\", …      │\n",
       "│ the R…         ┆        ┆                ┆         ┆                ┆           ┆ \"Saturn\"]      │\n",
       "│ What is 2 + 2? ┆ null   ┆ B              ┆ null    ┆ null           ┆ 기본 추론 ┆ [\"3\", \"4\", …   │\n",
       "│                ┆        ┆                ┆         ┆                ┆           ┆ \"6\"]           │\n",
       "│ Which planet   ┆ null   ┆ B              ┆ null    ┆ null           ┆ 기본 추론 ┆ [\"Venus\",      │\n",
       "│ is known as    ┆        ┆                ┆         ┆                ┆           ┆ \"Mars\", …      │\n",
       "│ the R…         ┆        ┆                ┆         ┆                ┆           ┆ \"Saturn\"]      │\n",
       "└────────────────┴────────┴────────────────┴─────────┴────────────────┴───────────┴────────────────┘"
      ]
     },
     "execution_count": 12,
     "metadata": {},
     "output_type": "execute_result"
    }
   ],
   "source": [
    "import polars as pl\n",
    "\n",
    "# 모든 문제에 추론 추가\n",
    "dataset.df = dataset.df.with_columns(\n",
    "    reasoning = pl.col(\"reasoning\").fill_null(\"기본 추론\")\n",
    ")\n",
    "\n",
    "dataset.df"
   ]
  },
  {
   "cell_type": "code",
   "execution_count": 13,
   "metadata": {},
   "outputs": [],
   "source": [
    "# 추론이 있는 문제만 필터링\n",
    "filtered = dataset.df.filter(pl.col('reasoning').is_not_null())"
   ]
  },
  {
   "cell_type": "code",
   "execution_count": 14,
   "metadata": {},
   "outputs": [
    {
     "data": {
      "text/html": [
       "<div><style>\n",
       ".dataframe > thead > tr,\n",
       ".dataframe > tbody > tr {\n",
       "  text-align: right;\n",
       "  white-space: pre-wrap;\n",
       "}\n",
       "</style>\n",
       "<small>shape: (7, 7)</small><table border=\"1\" class=\"dataframe\"><thead><tr><th>input</th><th>output</th><th>expected_output</th><th>context</th><th>retrieval_context</th><th>reasoning</th><th>choices</th></tr><tr><td>str</td><td>null</td><td>str</td><td>null</td><td>null</td><td>str</td><td>list[str]</td></tr></thead><tbody><tr><td>&quot;대한민국의 수도는?&quot;</td><td>null</td><td>&quot;서울&quot;</td><td>null</td><td>null</td><td>&quot;기본 추론&quot;</td><td>[&quot;서울&quot;, &quot;부산&quot;, … &quot;인천&quot;]</td></tr><tr><td>&quot;1 + 1 = ?&quot;</td><td>null</td><td>&quot;2&quot;</td><td>null</td><td>null</td><td>&quot;기본 추론&quot;</td><td>[&quot;1&quot;, &quot;2&quot;, … &quot;4&quot;]</td></tr><tr><td>&quot;Python은 인터프리터 언어인가요?&quot;</td><td>null</td><td>&quot;예&quot;</td><td>null</td><td>null</td><td>&quot;기본 추론&quot;</td><td>[&quot;예&quot;, &quot;아니오&quot;]</td></tr><tr><td>&quot;What is 2 + 2?&quot;</td><td>null</td><td>&quot;B&quot;</td><td>null</td><td>null</td><td>&quot;기본 추론&quot;</td><td>[&quot;3&quot;, &quot;4&quot;, … &quot;6&quot;]</td></tr><tr><td>&quot;Which planet is known as the R…</td><td>null</td><td>&quot;B&quot;</td><td>null</td><td>null</td><td>&quot;기본 추론&quot;</td><td>[&quot;Venus&quot;, &quot;Mars&quot;, … &quot;Saturn&quot;]</td></tr><tr><td>&quot;What is 2 + 2?&quot;</td><td>null</td><td>&quot;B&quot;</td><td>null</td><td>null</td><td>&quot;기본 추론&quot;</td><td>[&quot;3&quot;, &quot;4&quot;, … &quot;6&quot;]</td></tr><tr><td>&quot;Which planet is known as the R…</td><td>null</td><td>&quot;B&quot;</td><td>null</td><td>null</td><td>&quot;기본 추론&quot;</td><td>[&quot;Venus&quot;, &quot;Mars&quot;, … &quot;Saturn&quot;]</td></tr></tbody></table></div>"
      ],
      "text/plain": [
       "shape: (7, 7)\n",
       "┌────────────────┬────────┬────────────────┬─────────┬────────────────┬───────────┬────────────────┐\n",
       "│ input          ┆ output ┆ expected_outpu ┆ context ┆ retrieval_cont ┆ reasoning ┆ choices        │\n",
       "│ ---            ┆ ---    ┆ t              ┆ ---     ┆ ext            ┆ ---       ┆ ---            │\n",
       "│ str            ┆ null   ┆ ---            ┆ null    ┆ ---            ┆ str       ┆ list[str]      │\n",
       "│                ┆        ┆ str            ┆         ┆ null           ┆           ┆                │\n",
       "╞════════════════╪════════╪════════════════╪═════════╪════════════════╪═══════════╪════════════════╡\n",
       "│ 대한민국의     ┆ null   ┆ 서울           ┆ null    ┆ null           ┆ 기본 추론 ┆ [\"서울\",       │\n",
       "│ 수도는?        ┆        ┆                ┆         ┆                ┆           ┆ \"부산\", …      │\n",
       "│                ┆        ┆                ┆         ┆                ┆           ┆ \"인천\"]        │\n",
       "│ 1 + 1 = ?      ┆ null   ┆ 2              ┆ null    ┆ null           ┆ 기본 추론 ┆ [\"1\", \"2\", …   │\n",
       "│                ┆        ┆                ┆         ┆                ┆           ┆ \"4\"]           │\n",
       "│ Python은       ┆ null   ┆ 예             ┆ null    ┆ null           ┆ 기본 추론 ┆ [\"예\",         │\n",
       "│ 인터프리터     ┆        ┆                ┆         ┆                ┆           ┆ \"아니오\"]      │\n",
       "│ 언어인가요?    ┆        ┆                ┆         ┆                ┆           ┆                │\n",
       "│ What is 2 + 2? ┆ null   ┆ B              ┆ null    ┆ null           ┆ 기본 추론 ┆ [\"3\", \"4\", …   │\n",
       "│                ┆        ┆                ┆         ┆                ┆           ┆ \"6\"]           │\n",
       "│ Which planet   ┆ null   ┆ B              ┆ null    ┆ null           ┆ 기본 추론 ┆ [\"Venus\",      │\n",
       "│ is known as    ┆        ┆                ┆         ┆                ┆           ┆ \"Mars\", …      │\n",
       "│ the R…         ┆        ┆                ┆         ┆                ┆           ┆ \"Saturn\"]      │\n",
       "│ What is 2 + 2? ┆ null   ┆ B              ┆ null    ┆ null           ┆ 기본 추론 ┆ [\"3\", \"4\", …   │\n",
       "│                ┆        ┆                ┆         ┆                ┆           ┆ \"6\"]           │\n",
       "│ Which planet   ┆ null   ┆ B              ┆ null    ┆ null           ┆ 기본 추론 ┆ [\"Venus\",      │\n",
       "│ is known as    ┆        ┆                ┆         ┆                ┆           ┆ \"Mars\", …      │\n",
       "│ the R…         ┆        ┆                ┆         ┆                ┆           ┆ \"Saturn\"]      │\n",
       "└────────────────┴────────┴────────────────┴─────────┴────────────────┴───────────┴────────────────┘"
      ]
     },
     "execution_count": 14,
     "metadata": {},
     "output_type": "execute_result"
    }
   ],
   "source": [
    "filtered"
   ]
  },
  {
   "cell_type": "markdown",
   "metadata": {},
   "source": [
    "데이터셋의 테스트 케이스들을 리스트 형태로 변환하고 싶다면 `to_list`와 `list`를 사용할 수 있습니다. \n",
    "`to_list`는 `dict_format` 인자를 사용하여 테스트 케이스를 dictionary 형태로 변환 시킬 수 있습니다."
   ]
  },
  {
   "cell_type": "markdown",
   "metadata": {},
   "source": [
    "### 3.4 데이터셋 분할 및 샘플링\n",
    "\n",
    "데이터셋 분할과 sampling을 위하여 다음 함수들을 사용할 수 있습니다."
   ]
  },
  {
   "cell_type": "code",
   "execution_count": 15,
   "metadata": {},
   "outputs": [],
   "source": [
    "# 80% 훈련, 20% 테스트로 분할\n",
    "train_set, test_set = dataset.split(test_size=0.2)"
   ]
  },
  {
   "cell_type": "code",
   "execution_count": 16,
   "metadata": {},
   "outputs": [],
   "source": [
    "# 특정 개수만큼 샘플링\n",
    "sampled = dataset.sample(n=5)\n",
    "\n",
    "# 비율로 샘플링\n",
    "sampled = dataset.sample(frac=0.3)"
   ]
  },
  {
   "cell_type": "code",
   "execution_count": 17,
   "metadata": {},
   "outputs": [
    {
     "data": {
      "text/html": [
       "<div><style>\n",
       ".dataframe > thead > tr,\n",
       ".dataframe > tbody > tr {\n",
       "  text-align: right;\n",
       "  white-space: pre-wrap;\n",
       "}\n",
       "</style>\n",
       "<small>shape: (2, 7)</small><table border=\"1\" class=\"dataframe\"><thead><tr><th>input</th><th>output</th><th>expected_output</th><th>context</th><th>retrieval_context</th><th>reasoning</th><th>choices</th></tr><tr><td>str</td><td>null</td><td>str</td><td>null</td><td>null</td><td>str</td><td>list[str]</td></tr></thead><tbody><tr><td>&quot;What is 2 + 2?&quot;</td><td>null</td><td>&quot;B&quot;</td><td>null</td><td>null</td><td>&quot;기본 추론&quot;</td><td>[&quot;3&quot;, &quot;4&quot;, … &quot;6&quot;]</td></tr><tr><td>&quot;1 + 1 = ?&quot;</td><td>null</td><td>&quot;2&quot;</td><td>null</td><td>null</td><td>&quot;기본 추론&quot;</td><td>[&quot;1&quot;, &quot;2&quot;, … &quot;4&quot;]</td></tr></tbody></table></div>"
      ],
      "text/plain": [
       "shape: (2, 7)\n",
       "┌────────────────┬────────┬────────────────┬─────────┬────────────────┬───────────┬────────────────┐\n",
       "│ input          ┆ output ┆ expected_outpu ┆ context ┆ retrieval_cont ┆ reasoning ┆ choices        │\n",
       "│ ---            ┆ ---    ┆ t              ┆ ---     ┆ ext            ┆ ---       ┆ ---            │\n",
       "│ str            ┆ null   ┆ ---            ┆ null    ┆ ---            ┆ str       ┆ list[str]      │\n",
       "│                ┆        ┆ str            ┆         ┆ null           ┆           ┆                │\n",
       "╞════════════════╪════════╪════════════════╪═════════╪════════════════╪═══════════╪════════════════╡\n",
       "│ What is 2 + 2? ┆ null   ┆ B              ┆ null    ┆ null           ┆ 기본 추론 ┆ [\"3\", \"4\", …   │\n",
       "│                ┆        ┆                ┆         ┆                ┆           ┆ \"6\"]           │\n",
       "│ 1 + 1 = ?      ┆ null   ┆ 2              ┆ null    ┆ null           ┆ 기본 추론 ┆ [\"1\", \"2\", …   │\n",
       "│                ┆        ┆                ┆         ┆                ┆           ┆ \"4\"]           │\n",
       "└────────────────┴────────┴────────────────┴─────────┴────────────────┴───────────┴────────────────┘"
      ]
     },
     "execution_count": 17,
     "metadata": {},
     "output_type": "execute_result"
    }
   ],
   "source": [
    "sampled.df"
   ]
  },
  {
   "cell_type": "markdown",
   "metadata": {},
   "source": [
    "## 4. 파일 입출력\n",
    "### 4.1 list 형식"
   ]
  },
  {
   "cell_type": "code",
   "execution_count": 18,
   "metadata": {},
   "outputs": [
    {
     "data": {
      "text/plain": [
       "[LLMTestCase(input='What is 2 + 2?', output=None, expected_output='B', context=None, retrieval_context=None, reasoning='기본 추론', choices=['3', '4', '5', '6']),\n",
       " LLMTestCase(input='1 + 1 = ?', output=None, expected_output='2', context=None, retrieval_context=None, reasoning='기본 추론', choices=['1', '2', '3', '4'])]"
      ]
     },
     "execution_count": 18,
     "metadata": {},
     "output_type": "execute_result"
    }
   ],
   "source": [
    "# JSON으로 저장\n",
    "sampled.to_list()"
   ]
  },
  {
   "cell_type": "markdown",
   "metadata": {},
   "source": [
    "### 4.2 dict 형식"
   ]
  },
  {
   "cell_type": "code",
   "execution_count": 19,
   "metadata": {},
   "outputs": [
    {
     "data": {
      "text/plain": [
       "{'input': ['대한민국의 수도는?',\n",
       "  '1 + 1 = ?',\n",
       "  'Python은 인터프리터 언어인가요?',\n",
       "  'What is 2 + 2?',\n",
       "  'Which planet is known as the Red Planet?',\n",
       "  'What is 2 + 2?',\n",
       "  'Which planet is known as the Red Planet?'],\n",
       " 'output': [None, None, None, None, None, None, None],\n",
       " 'expected_output': ['서울', '2', '예', 'B', 'B', 'B', 'B'],\n",
       " 'context': [None, None, None, None, None, None, None],\n",
       " 'retrieval_context': [None, None, None, None, None, None, None],\n",
       " 'reasoning': ['기본 추론', '기본 추론', '기본 추론', '기본 추론', '기본 추론', '기본 추론', '기본 추론'],\n",
       " 'choices': [['서울', '부산', '대구', '인천'],\n",
       "  ['1', '2', '3', '4'],\n",
       "  ['예', '아니오'],\n",
       "  ['3', '4', '5', '6'],\n",
       "  ['Venus', 'Mars', 'Jupiter', 'Saturn'],\n",
       "  ['3', '4', '5', '6'],\n",
       "  ['Venus', 'Mars', 'Jupiter', 'Saturn']]}"
      ]
     },
     "execution_count": 19,
     "metadata": {},
     "output_type": "execute_result"
    }
   ],
   "source": [
    "dataset.to_dict()"
   ]
  },
  {
   "cell_type": "markdown",
   "metadata": {},
   "source": [
    "### 5.4 Huggingface 통합"
   ]
  },
  {
   "cell_type": "code",
   "execution_count": 20,
   "metadata": {},
   "outputs": [
    {
     "name": "stdout",
     "output_type": "stream",
     "text": [
      "다음 열들이 모두 Null이어서 제외됩니다: output, context, retrieval_context\n"
     ]
    },
    {
     "data": {
      "application/vnd.jupyter.widget-view+json": {
       "model_id": "472d0cd5834f43148a0789b521749b90",
       "version_major": 2,
       "version_minor": 0
      },
      "text/plain": [
       "Uploading the dataset shards:   0%|          | 0/1 [00:00<?, ?it/s]"
      ]
     },
     "metadata": {},
     "output_type": "display_data"
    },
    {
     "data": {
      "application/vnd.jupyter.widget-view+json": {
       "model_id": "c374b159366e4c75b1f1ae6174a1bd7d",
       "version_major": 2,
       "version_minor": 0
      },
      "text/plain": [
       "Creating parquet from Arrow format:   0%|          | 0/1 [00:00<?, ?ba/s]"
      ]
     },
     "metadata": {},
     "output_type": "display_data"
    },
    {
     "name": "stderr",
     "output_type": "stream",
     "text": [
      "No files have been modified since last commit. Skipping to prevent empty commit.\n"
     ]
    },
    {
     "data": {
      "text/plain": [
       "CommitInfo(commit_url='https://huggingface.co/datasets/kkksklsn/mcq-dataset/commit/95d108fc4fc23577cd22179ca492c34c3e0f9553', commit_message='7개의 예시가 포함된 데이터셋 업로드', commit_description='', oid='95d108fc4fc23577cd22179ca492c34c3e0f9553', pr_url=None, pr_revision=None, pr_num=None)"
      ]
     },
     "execution_count": 20,
     "metadata": {},
     "output_type": "execute_result"
    }
   ],
   "source": [
    "# Hugging Face Hub에 업로드\n",
    "your_username = 'kkksklsn'\n",
    "dataset.push_to_hub(\n",
    "    repo_id=f\"{your_username}/mcq-dataset\",\n",
    "    private=True\n",
    ")\n",
    "\n",
    "# # Hugging Face Hub에서 로드\n",
    "# dataset = LLMDataset.from_huggingface_hub(f\"{your_username}/mcq-dataset\")"
   ]
  },
  {
   "cell_type": "code",
   "execution_count": 21,
   "metadata": {},
   "outputs": [],
   "source": [
    "dataset = LLMDataset.from_huggingface_hub(f\"{your_username}/mcq-dataset\")"
   ]
  },
  {
   "cell_type": "code",
   "execution_count": 22,
   "metadata": {},
   "outputs": [
    {
     "data": {
      "text/html": [
       "<div><style>\n",
       ".dataframe > thead > tr,\n",
       ".dataframe > tbody > tr {\n",
       "  text-align: right;\n",
       "  white-space: pre-wrap;\n",
       "}\n",
       "</style>\n",
       "<small>shape: (7, 7)</small><table border=\"1\" class=\"dataframe\"><thead><tr><th>input</th><th>output</th><th>expected_output</th><th>context</th><th>retrieval_context</th><th>reasoning</th><th>choices</th></tr><tr><td>str</td><td>null</td><td>str</td><td>null</td><td>null</td><td>str</td><td>list[str]</td></tr></thead><tbody><tr><td>&quot;대한민국의 수도는?&quot;</td><td>null</td><td>&quot;서울&quot;</td><td>null</td><td>null</td><td>&quot;기본 추론&quot;</td><td>[&quot;서울&quot;, &quot;부산&quot;, … &quot;인천&quot;]</td></tr><tr><td>&quot;1 + 1 = ?&quot;</td><td>null</td><td>&quot;2&quot;</td><td>null</td><td>null</td><td>&quot;기본 추론&quot;</td><td>[&quot;1&quot;, &quot;2&quot;, … &quot;4&quot;]</td></tr><tr><td>&quot;Python은 인터프리터 언어인가요?&quot;</td><td>null</td><td>&quot;예&quot;</td><td>null</td><td>null</td><td>&quot;기본 추론&quot;</td><td>[&quot;예&quot;, &quot;아니오&quot;]</td></tr><tr><td>&quot;What is 2 + 2?&quot;</td><td>null</td><td>&quot;B&quot;</td><td>null</td><td>null</td><td>&quot;기본 추론&quot;</td><td>[&quot;3&quot;, &quot;4&quot;, … &quot;6&quot;]</td></tr><tr><td>&quot;Which planet is known as the R…</td><td>null</td><td>&quot;B&quot;</td><td>null</td><td>null</td><td>&quot;기본 추론&quot;</td><td>[&quot;Venus&quot;, &quot;Mars&quot;, … &quot;Saturn&quot;]</td></tr><tr><td>&quot;What is 2 + 2?&quot;</td><td>null</td><td>&quot;B&quot;</td><td>null</td><td>null</td><td>&quot;기본 추론&quot;</td><td>[&quot;3&quot;, &quot;4&quot;, … &quot;6&quot;]</td></tr><tr><td>&quot;Which planet is known as the R…</td><td>null</td><td>&quot;B&quot;</td><td>null</td><td>null</td><td>&quot;기본 추론&quot;</td><td>[&quot;Venus&quot;, &quot;Mars&quot;, … &quot;Saturn&quot;]</td></tr></tbody></table></div>"
      ],
      "text/plain": [
       "shape: (7, 7)\n",
       "┌────────────────┬────────┬────────────────┬─────────┬────────────────┬───────────┬────────────────┐\n",
       "│ input          ┆ output ┆ expected_outpu ┆ context ┆ retrieval_cont ┆ reasoning ┆ choices        │\n",
       "│ ---            ┆ ---    ┆ t              ┆ ---     ┆ ext            ┆ ---       ┆ ---            │\n",
       "│ str            ┆ null   ┆ ---            ┆ null    ┆ ---            ┆ str       ┆ list[str]      │\n",
       "│                ┆        ┆ str            ┆         ┆ null           ┆           ┆                │\n",
       "╞════════════════╪════════╪════════════════╪═════════╪════════════════╪═══════════╪════════════════╡\n",
       "│ 대한민국의     ┆ null   ┆ 서울           ┆ null    ┆ null           ┆ 기본 추론 ┆ [\"서울\",       │\n",
       "│ 수도는?        ┆        ┆                ┆         ┆                ┆           ┆ \"부산\", …      │\n",
       "│                ┆        ┆                ┆         ┆                ┆           ┆ \"인천\"]        │\n",
       "│ 1 + 1 = ?      ┆ null   ┆ 2              ┆ null    ┆ null           ┆ 기본 추론 ┆ [\"1\", \"2\", …   │\n",
       "│                ┆        ┆                ┆         ┆                ┆           ┆ \"4\"]           │\n",
       "│ Python은       ┆ null   ┆ 예             ┆ null    ┆ null           ┆ 기본 추론 ┆ [\"예\",         │\n",
       "│ 인터프리터     ┆        ┆                ┆         ┆                ┆           ┆ \"아니오\"]      │\n",
       "│ 언어인가요?    ┆        ┆                ┆         ┆                ┆           ┆                │\n",
       "│ What is 2 + 2? ┆ null   ┆ B              ┆ null    ┆ null           ┆ 기본 추론 ┆ [\"3\", \"4\", …   │\n",
       "│                ┆        ┆                ┆         ┆                ┆           ┆ \"6\"]           │\n",
       "│ Which planet   ┆ null   ┆ B              ┆ null    ┆ null           ┆ 기본 추론 ┆ [\"Venus\",      │\n",
       "│ is known as    ┆        ┆                ┆         ┆                ┆           ┆ \"Mars\", …      │\n",
       "│ the R…         ┆        ┆                ┆         ┆                ┆           ┆ \"Saturn\"]      │\n",
       "│ What is 2 + 2? ┆ null   ┆ B              ┆ null    ┆ null           ┆ 기본 추론 ┆ [\"3\", \"4\", …   │\n",
       "│                ┆        ┆                ┆         ┆                ┆           ┆ \"6\"]           │\n",
       "│ Which planet   ┆ null   ┆ B              ┆ null    ┆ null           ┆ 기본 추론 ┆ [\"Venus\",      │\n",
       "│ is known as    ┆        ┆                ┆         ┆                ┆           ┆ \"Mars\", …      │\n",
       "│ the R…         ┆        ┆                ┆         ┆                ┆           ┆ \"Saturn\"]      │\n",
       "└────────────────┴────────┴────────────────┴─────────┴────────────────┴───────────┴────────────────┘"
      ]
     },
     "execution_count": 22,
     "metadata": {},
     "output_type": "execute_result"
    }
   ],
   "source": [
    "dataset.df"
   ]
  },
  {
   "cell_type": "code",
   "execution_count": null,
   "metadata": {},
   "outputs": [],
   "source": []
  }
 ],
 "metadata": {
  "kernelspec": {
   "display_name": "base",
   "language": "python",
   "name": "python3"
  },
  "language_info": {
   "codemirror_mode": {
    "name": "ipython",
    "version": 3
   },
   "file_extension": ".py",
   "mimetype": "text/x-python",
   "name": "python",
   "nbconvert_exporter": "python",
   "pygments_lexer": "ipython3",
   "version": "3.10.13"
  }
 },
 "nbformat": 4,
 "nbformat_minor": 2
}
