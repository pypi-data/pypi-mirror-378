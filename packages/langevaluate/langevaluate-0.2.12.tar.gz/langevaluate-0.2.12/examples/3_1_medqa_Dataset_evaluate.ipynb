{
 "cells": [
  {
   "cell_type": "markdown",
   "metadata": {},
   "source": [
    "# MCQ (Multiple Choice Question) 평가 튜토리얼\n",
    "\n",
    "## MCQDataset\n",
    "\n",
    "이 튜토리얼에서는 Huggingface의 객관식 dataset을 불러와서 평가 후 재업로드하는 과정까지 경험해볼 것입니다."
   ]
  },
  {
   "cell_type": "markdown",
   "metadata": {},
   "source": [
    "### 1. 데이터셋 불러오기\n",
    "먼저 HuggingFace Hub에서 데이터셋을 불러오는 방법을 알아보겠습니다:"
   ]
  },
  {
   "cell_type": "code",
   "execution_count": 13,
   "metadata": {},
   "outputs": [],
   "source": [
    "from langmetrics.llmdataset import LLMDataset\n",
    "from langmetrics.llmtestcase import LLMTestCase\n",
    "from datasets import load_dataset\n",
    "import pandas as pd\n",
    "from dotenv import load_dotenv"
   ]
  },
  {
   "cell_type": "code",
   "execution_count": 14,
   "metadata": {},
   "outputs": [
    {
     "data": {
      "text/plain": [
       "True"
      ]
     },
     "execution_count": 14,
     "metadata": {},
     "output_type": "execute_result"
    }
   ],
   "source": [
    "load_dotenv(override=True)"
   ]
  },
  {
   "cell_type": "code",
   "execution_count": null,
   "metadata": {},
   "outputs": [],
   "source": [
    "dataset = load_dataset('sickgpt/001_MedQA_raw')"
   ]
  },
  {
   "cell_type": "code",
   "execution_count": null,
   "metadata": {},
   "outputs": [
    {
     "data": {
      "text/plain": [
       "DatasetDict({\n",
       "    train: Dataset({\n",
       "        features: ['question', 'expected_output', 'choices'],\n",
       "        num_rows: 10178\n",
       "    })\n",
       "    test: Dataset({\n",
       "        features: ['question', 'expected_output', 'choices'],\n",
       "        num_rows: 1273\n",
       "    })\n",
       "})"
      ]
     },
     "execution_count": 4,
     "metadata": {},
     "output_type": "execute_result"
    }
   ],
   "source": [
    "dataset"
   ]
  },
  {
   "cell_type": "markdown",
   "metadata": {},
   "source": [
    "이제 LLMDataset을 이용해서 불러와봅시다."
   ]
  },
  {
   "cell_type": "markdown",
   "metadata": {},
   "source": [
    "먼저 LLMTestCase는 input, choices, expected_output을 고정으로 받습니다. 그런데 위에 Dataset은 input이 question이라는 열로 되어있네요. field_mapping 인자를 이용해서 column을 매핑해주겠습니다."
   ]
  },
  {
   "cell_type": "code",
   "execution_count": null,
   "metadata": {},
   "outputs": [
    {
     "data": {
      "text/plain": [
       "{'input': str,\n",
       " 'output': typing.Optional[str],\n",
       " 'expected_output': str,\n",
       " 'context': typing.Optional[typing.List[str]],\n",
       " 'retrieval_context': typing.Optional[typing.List[str]],\n",
       " 'choices': typing.Optional[str]}"
      ]
     },
     "execution_count": 5,
     "metadata": {},
     "output_type": "execute_result"
    }
   ],
   "source": [
    "LLMTestCase.__annotations__"
   ]
  },
  {
   "cell_type": "code",
   "execution_count": null,
   "metadata": {},
   "outputs": [],
   "source": [
    "# 예시 사용법\n",
    "field_mapping = {\n",
    "    'input': 'question',  # 데이터셋의 'question' 필드를 'input'으로 매핑\n",
    "    'expected_output': 'expected_output',\n",
    "    'choices': 'choices'\n",
    "}"
   ]
  },
  {
   "cell_type": "code",
   "execution_count": null,
   "metadata": {},
   "outputs": [],
   "source": [
    "dataset = LLMDataset.from_huggingface_hub('sickgpt/001_MedQA_raw', field_mapping=field_mapping)"
   ]
  },
  {
   "cell_type": "code",
   "execution_count": null,
   "metadata": {},
   "outputs": [
    {
     "name": "stdout",
     "output_type": "stream",
     "text": [
      "10178\n"
     ]
    }
   ],
   "source": [
    "print(len(dataset))"
   ]
  },
  {
   "cell_type": "code",
   "execution_count": null,
   "metadata": {},
   "outputs": [],
   "source": [
    "test_dataset = LLMDataset.from_huggingface_hub('sickgpt/001_MedQA_raw', field_mapping=field_mapping, split='test')"
   ]
  },
  {
   "cell_type": "code",
   "execution_count": 10,
   "metadata": {},
   "outputs": [
    {
     "data": {
      "text/plain": [
       "1273"
      ]
     },
     "execution_count": 10,
     "metadata": {},
     "output_type": "execute_result"
    }
   ],
   "source": [
    "len(test_dataset)"
   ]
  },
  {
   "cell_type": "code",
   "execution_count": 11,
   "metadata": {},
   "outputs": [
    {
     "data": {
      "text/plain": [
       "LLMDataset(Pandas DataFrame with 10178 rows)"
      ]
     },
     "execution_count": 11,
     "metadata": {},
     "output_type": "execute_result"
    }
   ],
   "source": [
    "dataset"
   ]
  },
  {
   "cell_type": "markdown",
   "metadata": {},
   "source": [
    "이제 evaluate을 진행해봅시다."
   ]
  },
  {
   "cell_type": "code",
   "execution_count": 12,
   "metadata": {},
   "outputs": [
    {
     "ename": "ModuleNotFoundError",
     "evalue": "No module named 'ahocorasick'",
     "output_type": "error",
     "traceback": [
      "\u001b[0;31m---------------------------------------------------------------------------\u001b[0m",
      "\u001b[0;31mModuleNotFoundError\u001b[0m                       Traceback (most recent call last)",
      "Cell \u001b[0;32mIn[12], line 1\u001b[0m\n\u001b[0;32m----> 1\u001b[0m \u001b[38;5;28;01mfrom\u001b[39;00m\u001b[38;5;250m \u001b[39m\u001b[38;5;21;01mlangmetrics\u001b[39;00m\u001b[38;5;21;01m.\u001b[39;00m\u001b[38;5;21;01mllmfactory\u001b[39;00m\u001b[38;5;250m \u001b[39m\u001b[38;5;28;01mimport\u001b[39;00m LLMFactory\n\u001b[1;32m      2\u001b[0m \u001b[38;5;28;01mfrom\u001b[39;00m\u001b[38;5;250m \u001b[39m\u001b[38;5;21;01mlangmetrics\u001b[39;00m\u001b[38;5;21;01m.\u001b[39;00m\u001b[38;5;21;01mconfig\u001b[39;00m\u001b[38;5;250m \u001b[39m\u001b[38;5;28;01mimport\u001b[39;00m ModelConfig\n",
      "File \u001b[0;32m/workspace/langmetrics/src/langmetrics/llmfactory/__init__.py:1\u001b[0m\n\u001b[0;32m----> 1\u001b[0m \u001b[38;5;28;01mfrom\u001b[39;00m\u001b[38;5;250m \u001b[39m\u001b[38;5;21;01m.\u001b[39;00m\u001b[38;5;21;01mllmfactory\u001b[39;00m\u001b[38;5;250m \u001b[39m\u001b[38;5;28;01mimport\u001b[39;00m LLMFactory\n\u001b[1;32m      2\u001b[0m \u001b[38;5;28;01mfrom\u001b[39;00m\u001b[38;5;250m \u001b[39m\u001b[38;5;21;01m.\u001b[39;00m\u001b[38;5;21;01mbase_factory\u001b[39;00m\u001b[38;5;250m \u001b[39m\u001b[38;5;28;01mimport\u001b[39;00m BaseFactory\n\u001b[1;32m      4\u001b[0m __all__ \u001b[38;5;241m=\u001b[39m [\u001b[38;5;124m'\u001b[39m\u001b[38;5;124mLLMFactory\u001b[39m\u001b[38;5;124m'\u001b[39m, \u001b[38;5;124m'\u001b[39m\u001b[38;5;124mBaseFactory\u001b[39m\u001b[38;5;124m'\u001b[39m]\n",
      "File \u001b[0;32m/workspace/langmetrics/src/langmetrics/llmfactory/llmfactory.py:1\u001b[0m\n\u001b[0;32m----> 1\u001b[0m \u001b[38;5;28;01mfrom\u001b[39;00m\u001b[38;5;250m \u001b[39m\u001b[38;5;21;01mlangmetrics\u001b[39;00m\u001b[38;5;21;01m.\u001b[39;00m\u001b[38;5;21;01mconfig\u001b[39;00m\u001b[38;5;250m \u001b[39m\u001b[38;5;28;01mimport\u001b[39;00m ModelConfig, NaverModelConfig, LocalModelConfig, GeminiModelConfig\n\u001b[1;32m      2\u001b[0m \u001b[38;5;28;01mfrom\u001b[39;00m\u001b[38;5;250m \u001b[39m\u001b[38;5;21;01mtyping\u001b[39;00m\u001b[38;5;250m \u001b[39m\u001b[38;5;28;01mimport\u001b[39;00m Any, Optional\n\u001b[1;32m      3\u001b[0m \u001b[38;5;28;01mimport\u001b[39;00m\u001b[38;5;250m \u001b[39m\u001b[38;5;21;01mos\u001b[39;00m\n",
      "File \u001b[0;32m/workspace/langmetrics/src/langmetrics/config/__init__.py:1\u001b[0m\n\u001b[0;32m----> 1\u001b[0m \u001b[38;5;28;01mfrom\u001b[39;00m\u001b[38;5;250m \u001b[39m\u001b[38;5;21;01m.\u001b[39;00m\u001b[38;5;21;01mevaluation_config\u001b[39;00m\u001b[38;5;250m \u001b[39m\u001b[38;5;28;01mimport\u001b[39;00m EvaluationConfig\n\u001b[1;32m      2\u001b[0m \u001b[38;5;28;01mfrom\u001b[39;00m\u001b[38;5;250m \u001b[39m\u001b[38;5;21;01m.\u001b[39;00m\u001b[38;5;21;01mmodel_config\u001b[39;00m\u001b[38;5;250m \u001b[39m\u001b[38;5;28;01mimport\u001b[39;00m ModelConfig, NaverModelConfig, LocalModelConfig, GeminiModelConfig\n\u001b[1;32m      4\u001b[0m __all__ \u001b[38;5;241m=\u001b[39m [\u001b[38;5;124m'\u001b[39m\u001b[38;5;124mDB_Config\u001b[39m\u001b[38;5;124m'\u001b[39m, \u001b[38;5;124m'\u001b[39m\u001b[38;5;124mEvaluationConfig\u001b[39m\u001b[38;5;124m'\u001b[39m, \u001b[38;5;124m'\u001b[39m\u001b[38;5;124mModelConfig\u001b[39m\u001b[38;5;124m'\u001b[39m, \u001b[38;5;124m'\u001b[39m\u001b[38;5;124mNaverModelConfig\u001b[39m\u001b[38;5;124m'\u001b[39m, \u001b[38;5;124m'\u001b[39m\u001b[38;5;124mLocalModelConfig\u001b[39m\u001b[38;5;124m'\u001b[39m, \u001b[38;5;124m'\u001b[39m\u001b[38;5;124mGeminiModelConfig\u001b[39m\u001b[38;5;124m'\u001b[39m]\n",
      "File \u001b[0;32m/workspace/langmetrics/src/langmetrics/config/evaluation_config.py:3\u001b[0m\n\u001b[1;32m      1\u001b[0m \u001b[38;5;28;01mfrom\u001b[39;00m\u001b[38;5;250m \u001b[39m\u001b[38;5;21;01mdataclasses\u001b[39;00m\u001b[38;5;250m \u001b[39m\u001b[38;5;28;01mimport\u001b[39;00m dataclass\n\u001b[1;32m      2\u001b[0m \u001b[38;5;28;01mfrom\u001b[39;00m\u001b[38;5;250m \u001b[39m\u001b[38;5;21;01mtyping\u001b[39;00m\u001b[38;5;250m \u001b[39m\u001b[38;5;28;01mimport\u001b[39;00m Literal, Union, List\n\u001b[0;32m----> 3\u001b[0m \u001b[38;5;28;01mfrom\u001b[39;00m\u001b[38;5;250m \u001b[39m\u001b[38;5;21;01mlangmetrics\u001b[39;00m\u001b[38;5;21;01m.\u001b[39;00m\u001b[38;5;21;01mmetrics\u001b[39;00m\u001b[38;5;21;01m.\u001b[39;00m\u001b[38;5;21;01mbase_metric\u001b[39;00m\u001b[38;5;250m \u001b[39m\u001b[38;5;28;01mimport\u001b[39;00m BaseMetric\n\u001b[1;32m      4\u001b[0m \u001b[38;5;28;01mfrom\u001b[39;00m\u001b[38;5;250m \u001b[39m\u001b[38;5;21;01mimportlib\u001b[39;00m\u001b[38;5;250m \u001b[39m\u001b[38;5;28;01mimport\u001b[39;00m import_module\n\u001b[1;32m      7\u001b[0m \u001b[38;5;66;03m# 각 평가 방법별로 가능한 스코어 타입을 정의\u001b[39;00m\n",
      "File \u001b[0;32m/workspace/langmetrics/src/langmetrics/metrics/__init__.py:1\u001b[0m\n\u001b[0;32m----> 1\u001b[0m \u001b[38;5;28;01mfrom\u001b[39;00m\u001b[38;5;250m \u001b[39m\u001b[38;5;21;01mlangmetrics\u001b[39;00m\u001b[38;5;21;01m.\u001b[39;00m\u001b[38;5;21;01mmetrics\u001b[39;00m\u001b[38;5;21;01m.\u001b[39;00m\u001b[38;5;21;01mbase_metric\u001b[39;00m\u001b[38;5;250m \u001b[39m\u001b[38;5;28;01mimport\u001b[39;00m BaseMetric\n\u001b[1;32m      2\u001b[0m \u001b[38;5;28;01mfrom\u001b[39;00m\u001b[38;5;250m \u001b[39m\u001b[38;5;21;01mlangmetrics\u001b[39;00m\u001b[38;5;21;01m.\u001b[39;00m\u001b[38;5;21;01mmetrics\u001b[39;00m\u001b[38;5;21;01m.\u001b[39;00m\u001b[38;5;21;01mbase_template\u001b[39;00m\u001b[38;5;250m \u001b[39m\u001b[38;5;28;01mimport\u001b[39;00m BaseTemplate\n\u001b[1;32m      3\u001b[0m \u001b[38;5;28;01mfrom\u001b[39;00m\u001b[38;5;250m \u001b[39m\u001b[38;5;21;01mlangmetrics\u001b[39;00m\u001b[38;5;21;01m.\u001b[39;00m\u001b[38;5;21;01mmetrics\u001b[39;00m\u001b[38;5;21;01m.\u001b[39;00m\u001b[38;5;21;01mmcq_choice\u001b[39;00m\u001b[38;5;21;01m.\u001b[39;00m\u001b[38;5;21;01mmcq_template\u001b[39;00m\u001b[38;5;250m \u001b[39m\u001b[38;5;28;01mimport\u001b[39;00m MCQTemplate\n",
      "File \u001b[0;32m/workspace/langmetrics/src/langmetrics/metrics/base_metric.py:6\u001b[0m\n\u001b[1;32m      4\u001b[0m \u001b[38;5;28;01mfrom\u001b[39;00m\u001b[38;5;250m \u001b[39m\u001b[38;5;21;01mlangmetrics\u001b[39;00m\u001b[38;5;21;01m.\u001b[39;00m\u001b[38;5;21;01mllmdataset\u001b[39;00m\u001b[38;5;250m \u001b[39m\u001b[38;5;28;01mimport\u001b[39;00m LLMDataset\n\u001b[1;32m      5\u001b[0m \u001b[38;5;28;01mfrom\u001b[39;00m\u001b[38;5;250m \u001b[39m\u001b[38;5;21;01mlangmetrics\u001b[39;00m\u001b[38;5;21;01m.\u001b[39;00m\u001b[38;5;21;01mllmresult\u001b[39;00m\u001b[38;5;250m \u001b[39m\u001b[38;5;28;01mimport\u001b[39;00m LLMResult\n\u001b[0;32m----> 6\u001b[0m \u001b[38;5;28;01mfrom\u001b[39;00m\u001b[38;5;250m \u001b[39m\u001b[38;5;21;01mlangmetrics\u001b[39;00m\u001b[38;5;21;01m.\u001b[39;00m\u001b[38;5;21;01mutils\u001b[39;00m\u001b[38;5;250m \u001b[39m\u001b[38;5;28;01mimport\u001b[39;00m trimAndLoadJson\n\u001b[1;32m      7\u001b[0m \u001b[38;5;28;01mimport\u001b[39;00m\u001b[38;5;250m \u001b[39m\u001b[38;5;21;01masyncio\u001b[39;00m\n\u001b[1;32m      8\u001b[0m \u001b[38;5;28;01mfrom\u001b[39;00m\u001b[38;5;250m \u001b[39m\u001b[38;5;21;01mtqdm\u001b[39;00m\u001b[38;5;21;01m.\u001b[39;00m\u001b[38;5;21;01masyncio\u001b[39;00m\u001b[38;5;250m \u001b[39m\u001b[38;5;28;01mimport\u001b[39;00m tqdm\n",
      "File \u001b[0;32m/workspace/langmetrics/src/langmetrics/utils/__init__.py:1\u001b[0m\n\u001b[0;32m----> 1\u001b[0m \u001b[38;5;28;01mfrom\u001b[39;00m\u001b[38;5;250m \u001b[39m\u001b[38;5;21;01m.\u001b[39;00m\u001b[38;5;21;01mutils\u001b[39;00m\u001b[38;5;250m \u001b[39m\u001b[38;5;28;01mimport\u001b[39;00m \u001b[38;5;241m*\u001b[39m\n",
      "File \u001b[0;32m/workspace/langmetrics/src/langmetrics/utils/utils.py:16\u001b[0m\n\u001b[1;32m     14\u001b[0m \u001b[38;5;28;01mimport\u001b[39;00m\u001b[38;5;250m \u001b[39m\u001b[38;5;21;01mpsutil\u001b[39;00m\n\u001b[1;32m     15\u001b[0m \u001b[38;5;28;01mimport\u001b[39;00m\u001b[38;5;250m \u001b[39m\u001b[38;5;21;01msignal\u001b[39;00m\n\u001b[0;32m---> 16\u001b[0m \u001b[38;5;28;01mimport\u001b[39;00m\u001b[38;5;250m \u001b[39m\u001b[38;5;21;01mahocorasick\u001b[39;00m\n\u001b[1;32m     17\u001b[0m \u001b[38;5;28;01mfrom\u001b[39;00m\u001b[38;5;250m \u001b[39m\u001b[38;5;21;01mtyping\u001b[39;00m\u001b[38;5;250m \u001b[39m\u001b[38;5;28;01mimport\u001b[39;00m List, Set\n\u001b[1;32m     18\u001b[0m \u001b[38;5;28;01mimport\u001b[39;00m\u001b[38;5;250m \u001b[39m\u001b[38;5;21;01mtomlkit\u001b[39;00m\n",
      "\u001b[0;31mModuleNotFoundError\u001b[0m: No module named 'ahocorasick'"
     ]
    }
   ],
   "source": [
    "from langmetrics.llmfactory import LLMFactory\n",
    "from langmetrics.config import ModelConfig"
   ]
  },
  {
   "cell_type": "code",
   "execution_count": null,
   "metadata": {},
   "outputs": [
    {
     "data": {
      "text/plain": [
       "['gpt-4o',\n",
       " 'gpt-4o-mini',\n",
       " 'deepseek-v3',\n",
       " 'deepseek-reasoner',\n",
       " 'claude-3.7-sonnet',\n",
       " 'claude-3.5-sonnet',\n",
       " 'claude-3.5-haiku',\n",
       " 'naver',\n",
       " 'gemini-2.0-flash']"
      ]
     },
     "execution_count": 13,
     "metadata": {},
     "output_type": "execute_result"
    }
   ],
   "source": [
    "LLMFactory.get_model_list()"
   ]
  },
  {
   "cell_type": "code",
   "execution_count": null,
   "metadata": {},
   "outputs": [],
   "source": [
    "# # 커스텀 모델 설정 생성\n",
    "# custom_config = ModelConfig(\n",
    "#     model_name=\"Qwen/Qwen2.5-3B-Instruct\",\n",
    "#     api_base=\"http://qwen3b:8000/v1\",\n",
    "#     api_key='EMPTY',\n",
    "#     max_tokens=32000,\n",
    "#     seed=66,\n",
    "#     provider=\"openai\"\n",
    "# )"
   ]
  },
  {
   "cell_type": "code",
   "execution_count": null,
   "metadata": {},
   "outputs": [],
   "source": [
    "# # localllm은 서버를 local에서 실행시키기 때문에 부팅되는 시간이 존재합니다.\n",
    "# custom_llm = LLMFactory.create_llm(custom_config, temperature=1.0)"
   ]
  },
  {
   "cell_type": "code",
   "execution_count": 16,
   "metadata": {},
   "outputs": [],
   "source": [
    "from langmetrics.llmfactory import LLMFactory\n",
    "# LLM 모델 생성\n",
    "deepseek_llm= LLMFactory.create_llm('gpt-4o-mini')"
   ]
  },
  {
   "cell_type": "code",
   "execution_count": 17,
   "metadata": {},
   "outputs": [],
   "source": [
    "from langmetrics.metrics import MCQMetric\n",
    "metric = MCQMetric(\n",
    "    output_model=deepseek_llm,\n",
    "    template_language='ko',  # 'ko' 또는 'en'\n",
    "    output_template_type='reasoning'  # 'reasoning' 또는 'only_answer'\n",
    ")"
   ]
  },
  {
   "cell_type": "markdown",
   "metadata": {},
   "source": [
    "async를 통해서 빠르게 추론을 할 것입니다."
   ]
  },
  {
   "cell_type": "code",
   "execution_count": null,
   "metadata": {},
   "outputs": [],
   "source": []
  },
  {
   "cell_type": "code",
   "execution_count": 18,
   "metadata": {},
   "outputs": [],
   "source": [
    "import nest_asyncio\n",
    "nest_asyncio.apply()"
   ]
  },
  {
   "cell_type": "code",
   "execution_count": 24,
   "metadata": {},
   "outputs": [
    {
     "name": "stderr",
     "output_type": "stream",
     "text": [
      "100%|██████████| 500/500 [00:12<00:00, 40.08it/s] \n"
     ]
    }
   ],
   "source": [
    "results = await metric.ameasure(dataset[:500])"
   ]
  },
  {
   "cell_type": "code",
   "execution_count": 25,
   "metadata": {},
   "outputs": [
    {
     "data": {
      "text/plain": [
       "LLMDataset(Pandas DataFrame with 500 rows)"
      ]
     },
     "execution_count": 25,
     "metadata": {},
     "output_type": "execute_result"
    }
   ],
   "source": [
    "results"
   ]
  },
  {
   "cell_type": "code",
   "execution_count": 21,
   "metadata": {},
   "outputs": [],
   "source": [
    "# r1_results = await r1_metric.ameasure(test_dataset[:10])"
   ]
  },
  {
   "cell_type": "markdown",
   "metadata": {},
   "source": [
    "약 1200개의 달하는 test를 단 30초만에 모두 추론한 것을 확인할 수 있습니다!"
   ]
  },
  {
   "cell_type": "code",
   "execution_count": null,
   "metadata": {},
   "outputs": [],
   "source": [
    "dataset = LLMDataset.from_huggingface_hub('sickgpt/001_MedQA_raw', field_mapping=field_mapping)"
   ]
  },
  {
   "cell_type": "code",
   "execution_count": 26,
   "metadata": {},
   "outputs": [
    {
     "data": {
      "text/html": [
       "<div>\n",
       "<style scoped>\n",
       "    .dataframe tbody tr th:only-of-type {\n",
       "        vertical-align: middle;\n",
       "    }\n",
       "\n",
       "    .dataframe tbody tr th {\n",
       "        vertical-align: top;\n",
       "    }\n",
       "\n",
       "    .dataframe thead th {\n",
       "        text-align: right;\n",
       "    }\n",
       "</style>\n",
       "<table border=\"1\" class=\"dataframe\">\n",
       "  <thead>\n",
       "    <tr style=\"text-align: right;\">\n",
       "      <th></th>\n",
       "      <th>input</th>\n",
       "      <th>output</th>\n",
       "      <th>scoring_model_output</th>\n",
       "      <th>expected_output</th>\n",
       "      <th>context</th>\n",
       "      <th>retrieval_context</th>\n",
       "      <th>choices</th>\n",
       "      <th>score</th>\n",
       "      <th>metadata</th>\n",
       "    </tr>\n",
       "  </thead>\n",
       "  <tbody>\n",
       "    <tr>\n",
       "      <th>0</th>\n",
       "      <td>A 23-year-old pregnant woman at 22 weeks gesta...</td>\n",
       "      <td>{\\n  \"reasoning\": \"이 경우, 환자는 22주차의 임신 중이며, 배뇨 ...</td>\n",
       "      <td>None</td>\n",
       "      <td>D</td>\n",
       "      <td>None</td>\n",
       "      <td>None</td>\n",
       "      <td>[Ampicillin, Ceftriaxone, Doxycycline, Nitrofu...</td>\n",
       "      <td>1</td>\n",
       "      <td>{'output_model_name': 'gpt-4o-mini', 'token_us...</td>\n",
       "    </tr>\n",
       "    <tr>\n",
       "      <th>1</th>\n",
       "      <td>A 3-month-old baby died suddenly at night whil...</td>\n",
       "      <td>{\\n  \"reasoning\": \"이 문제는 아기의 갑작스러운 사망 원인과 예방 조...</td>\n",
       "      <td>None</td>\n",
       "      <td>A</td>\n",
       "      <td>None</td>\n",
       "      <td>None</td>\n",
       "      <td>[Placing the infant in a supine position on a ...</td>\n",
       "      <td>1</td>\n",
       "      <td>{'output_model_name': 'gpt-4o-mini', 'token_us...</td>\n",
       "    </tr>\n",
       "    <tr>\n",
       "      <th>2</th>\n",
       "      <td>A mother brings her 3-week-old infant to the p...</td>\n",
       "      <td>{\\n  \"reasoning\": \"이 아기는 생후 3주이며, 최근 4일간 수유 후 ...</td>\n",
       "      <td>None</td>\n",
       "      <td>A</td>\n",
       "      <td>None</td>\n",
       "      <td>None</td>\n",
       "      <td>[Abnormal migration of ventral pancreatic bud,...</td>\n",
       "      <td>0</td>\n",
       "      <td>{'output_model_name': 'gpt-4o-mini', 'token_us...</td>\n",
       "    </tr>\n",
       "    <tr>\n",
       "      <th>3</th>\n",
       "      <td>A pulmonary autopsy specimen from a 58-year-ol...</td>\n",
       "      <td>{\\n  \"reasoning\": \"환자는 수술 후 회복 중 갑작스러운 호흡 곤란과 ...</td>\n",
       "      <td>None</td>\n",
       "      <td>A</td>\n",
       "      <td>None</td>\n",
       "      <td>None</td>\n",
       "      <td>[Thromboembolism, Pulmonary ischemia, Pulmonar...</td>\n",
       "      <td>1</td>\n",
       "      <td>{'output_model_name': 'gpt-4o-mini', 'token_us...</td>\n",
       "    </tr>\n",
       "    <tr>\n",
       "      <th>4</th>\n",
       "      <td>A 20-year-old woman presents with menorrhagia ...</td>\n",
       "      <td>{\\n  \"reasoning\": \"환자는 생리량이 많고, 멍이 잘 드는 증상을 보이...</td>\n",
       "      <td>None</td>\n",
       "      <td>D</td>\n",
       "      <td>None</td>\n",
       "      <td>None</td>\n",
       "      <td>[Hemophilia A, Lupus anticoagulant, Protein C ...</td>\n",
       "      <td>1</td>\n",
       "      <td>{'output_model_name': 'gpt-4o-mini', 'token_us...</td>\n",
       "    </tr>\n",
       "    <tr>\n",
       "      <th>...</th>\n",
       "      <td>...</td>\n",
       "      <td>...</td>\n",
       "      <td>...</td>\n",
       "      <td>...</td>\n",
       "      <td>...</td>\n",
       "      <td>...</td>\n",
       "      <td>...</td>\n",
       "      <td>...</td>\n",
       "      <td>...</td>\n",
       "    </tr>\n",
       "    <tr>\n",
       "      <th>495</th>\n",
       "      <td>A 54-year-old man is brought to the physician ...</td>\n",
       "      <td>{\\n  \"reasoning\": \"환자는 54세 남성으로, 걷는 데 점점 어려움을 ...</td>\n",
       "      <td>None</td>\n",
       "      <td>A</td>\n",
       "      <td>None</td>\n",
       "      <td>None</td>\n",
       "      <td>[Multiple system atrophy, Friedreich ataxia, C...</td>\n",
       "      <td>0</td>\n",
       "      <td>{'output_model_name': 'gpt-4o-mini', 'token_us...</td>\n",
       "    </tr>\n",
       "    <tr>\n",
       "      <th>496</th>\n",
       "      <td>A 28-year-old primigravid woman at 36 weeks' g...</td>\n",
       "      <td>{\\n  \"reasoning\": \"환자는 36주 임신 상태에서 규칙적인 자궁 수축을...</td>\n",
       "      <td>None</td>\n",
       "      <td>C</td>\n",
       "      <td>None</td>\n",
       "      <td>None</td>\n",
       "      <td>[Offer local or regional anesthesia, Admit for...</td>\n",
       "      <td>1</td>\n",
       "      <td>{'output_model_name': 'gpt-4o-mini', 'token_us...</td>\n",
       "    </tr>\n",
       "    <tr>\n",
       "      <th>497</th>\n",
       "      <td>A 28-year-old woman is brought to the emergenc...</td>\n",
       "      <td>{\\n  \"reasoning\": \"환자의 증상은 어린 시절부터 지속된 실신과 함께 ...</td>\n",
       "      <td>None</td>\n",
       "      <td>C</td>\n",
       "      <td>None</td>\n",
       "      <td>None</td>\n",
       "      <td>[Calcium gluconate, Flecainide, Magnesium sulf...</td>\n",
       "      <td>0</td>\n",
       "      <td>{'output_model_name': 'gpt-4o-mini', 'token_us...</td>\n",
       "    </tr>\n",
       "    <tr>\n",
       "      <th>498</th>\n",
       "      <td>A 61-year-old G4P3 presents with a 5-year hist...</td>\n",
       "      <td>{\\n  \"reasoning\": \"환자는 기침, 재채기, 신체적 노력 시 무의식적으...</td>\n",
       "      <td>None</td>\n",
       "      <td>D</td>\n",
       "      <td>None</td>\n",
       "      <td>None</td>\n",
       "      <td>[Normal residual volume, involuntary detrusor ...</td>\n",
       "      <td>1</td>\n",
       "      <td>{'output_model_name': 'gpt-4o-mini', 'token_us...</td>\n",
       "    </tr>\n",
       "    <tr>\n",
       "      <th>499</th>\n",
       "      <td>A 20-year-old woman is brought in by police fo...</td>\n",
       "      <td>{\\n  \"reasoning\": \"이 환자는 비정상적인 행동을 보이며, 특히 박탈감...</td>\n",
       "      <td>None</td>\n",
       "      <td>C</td>\n",
       "      <td>None</td>\n",
       "      <td>None</td>\n",
       "      <td>[Electroconvulsive therapy, Fluoxetine, Halope...</td>\n",
       "      <td>0</td>\n",
       "      <td>{'output_model_name': 'gpt-4o-mini', 'token_us...</td>\n",
       "    </tr>\n",
       "  </tbody>\n",
       "</table>\n",
       "<p>500 rows × 9 columns</p>\n",
       "</div>"
      ],
      "text/plain": [
       "                                                 input  \\\n",
       "0    A 23-year-old pregnant woman at 22 weeks gesta...   \n",
       "1    A 3-month-old baby died suddenly at night whil...   \n",
       "2    A mother brings her 3-week-old infant to the p...   \n",
       "3    A pulmonary autopsy specimen from a 58-year-ol...   \n",
       "4    A 20-year-old woman presents with menorrhagia ...   \n",
       "..                                                 ...   \n",
       "495  A 54-year-old man is brought to the physician ...   \n",
       "496  A 28-year-old primigravid woman at 36 weeks' g...   \n",
       "497  A 28-year-old woman is brought to the emergenc...   \n",
       "498  A 61-year-old G4P3 presents with a 5-year hist...   \n",
       "499  A 20-year-old woman is brought in by police fo...   \n",
       "\n",
       "                                                output scoring_model_output  \\\n",
       "0    {\\n  \"reasoning\": \"이 경우, 환자는 22주차의 임신 중이며, 배뇨 ...                 None   \n",
       "1    {\\n  \"reasoning\": \"이 문제는 아기의 갑작스러운 사망 원인과 예방 조...                 None   \n",
       "2    {\\n  \"reasoning\": \"이 아기는 생후 3주이며, 최근 4일간 수유 후 ...                 None   \n",
       "3    {\\n  \"reasoning\": \"환자는 수술 후 회복 중 갑작스러운 호흡 곤란과 ...                 None   \n",
       "4    {\\n  \"reasoning\": \"환자는 생리량이 많고, 멍이 잘 드는 증상을 보이...                 None   \n",
       "..                                                 ...                  ...   \n",
       "495  {\\n  \"reasoning\": \"환자는 54세 남성으로, 걷는 데 점점 어려움을 ...                 None   \n",
       "496  {\\n  \"reasoning\": \"환자는 36주 임신 상태에서 규칙적인 자궁 수축을...                 None   \n",
       "497  {\\n  \"reasoning\": \"환자의 증상은 어린 시절부터 지속된 실신과 함께 ...                 None   \n",
       "498  {\\n  \"reasoning\": \"환자는 기침, 재채기, 신체적 노력 시 무의식적으...                 None   \n",
       "499  {\\n  \"reasoning\": \"이 환자는 비정상적인 행동을 보이며, 특히 박탈감...                 None   \n",
       "\n",
       "    expected_output context retrieval_context  \\\n",
       "0                 D    None              None   \n",
       "1                 A    None              None   \n",
       "2                 A    None              None   \n",
       "3                 A    None              None   \n",
       "4                 D    None              None   \n",
       "..              ...     ...               ...   \n",
       "495               A    None              None   \n",
       "496               C    None              None   \n",
       "497               C    None              None   \n",
       "498               D    None              None   \n",
       "499               C    None              None   \n",
       "\n",
       "                                               choices  score  \\\n",
       "0    [Ampicillin, Ceftriaxone, Doxycycline, Nitrofu...      1   \n",
       "1    [Placing the infant in a supine position on a ...      1   \n",
       "2    [Abnormal migration of ventral pancreatic bud,...      0   \n",
       "3    [Thromboembolism, Pulmonary ischemia, Pulmonar...      1   \n",
       "4    [Hemophilia A, Lupus anticoagulant, Protein C ...      1   \n",
       "..                                                 ...    ...   \n",
       "495  [Multiple system atrophy, Friedreich ataxia, C...      0   \n",
       "496  [Offer local or regional anesthesia, Admit for...      1   \n",
       "497  [Calcium gluconate, Flecainide, Magnesium sulf...      0   \n",
       "498  [Normal residual volume, involuntary detrusor ...      1   \n",
       "499  [Electroconvulsive therapy, Fluoxetine, Halope...      0   \n",
       "\n",
       "                                              metadata  \n",
       "0    {'output_model_name': 'gpt-4o-mini', 'token_us...  \n",
       "1    {'output_model_name': 'gpt-4o-mini', 'token_us...  \n",
       "2    {'output_model_name': 'gpt-4o-mini', 'token_us...  \n",
       "3    {'output_model_name': 'gpt-4o-mini', 'token_us...  \n",
       "4    {'output_model_name': 'gpt-4o-mini', 'token_us...  \n",
       "..                                                 ...  \n",
       "495  {'output_model_name': 'gpt-4o-mini', 'token_us...  \n",
       "496  {'output_model_name': 'gpt-4o-mini', 'token_us...  \n",
       "497  {'output_model_name': 'gpt-4o-mini', 'token_us...  \n",
       "498  {'output_model_name': 'gpt-4o-mini', 'token_us...  \n",
       "499  {'output_model_name': 'gpt-4o-mini', 'token_us...  \n",
       "\n",
       "[500 rows x 9 columns]"
      ]
     },
     "execution_count": 26,
     "metadata": {},
     "output_type": "execute_result"
    }
   ],
   "source": [
    "results.df"
   ]
  },
  {
   "cell_type": "code",
   "execution_count": 25,
   "metadata": {},
   "outputs": [
    {
     "name": "stdout",
     "output_type": "stream",
     "text": [
      "[0, 0, 0, 0, 1, 1, 0, 0, 1, 1, 0, 1, 0, 0, 1, 0, 0, 1, 0, 0, 1, 0, 0, 0, 0, 1, 1, 1, 0, 1, 0, 1, 1, 0, 0, 0, 1, 0, 0, 0, 1, 1, 0, 1, 1, 1, 0, 1, 1, 1, 1, 1, 0, 1, 0, 1, 0, 0, 1, 1, 0, 0, 1, 0, 0, 1, 1, 0, 0, 0, 0, 0, 0, 0, 0, 0, 1, 0, 1, 0, 1, 1, 1, 1, 0, 0, 1, 1, 1, 1, 0, 0, 1, 0, 0, 1, 1, 0, 1, 1, 0, 0, 1, 0, 0, 1, 1, 0, 0, 0, 0, 1, 0, 0, 1, 0, 1, 1, 0, 0, 1, 0, 1, 1, 1, 0, 1, 0, 1, 1, 1, 0, 1, 1, 1, 0, 0, 1, 1, 0, 0, 0, 0, 1, 1, 1, 1, 0, 0, 1, 0, 0, 0, 0, 0, 0, 1, 1, 0, 1, 1, 0, 1, 1, 0, 1, 1, 0, 1, 1, 0, 0, 0, 1, 1, 0, 0, 1, 1, 1, 0, 1, 1, 0, 1, 1, 0, 1, 1, 1, 1, 1, 1, 0, 0, 0, 0, 0, 1, 1, 1, 1, 0, 0, 0, 1, 0, 0, 0, 0, 1, 1, 1, 0, 1, 1, 1, 1, 1, 1, 1, 1, 0, 0, 0, 1, 0, 0, 0, 1, 0, 1, 1, 1, 0, 0, 1, 0, 1, 1, 0, 1, 1, 0, 0, 0, 0, 0, 0, 0, 0, 0, 0, 0, 1, 1, 0, 1, 0, 1, 0, 0, 1, 0, 0, 0, 0, 0, 0, 1, 0, 1, 1, 0, 1, 0, 1, 1, 0, 1, 0, 1, 1, 0, 1, 1, 0, 0, 0, 0, 0, 0, 0, 1, 0, 0, 1, 1, 0, 0, 1, 0, 1, 0, 0, 1, 1, 1, 0, 1, 0, 0, 1, 1, 1, 1, 0, 0, 0, 1, 0, 0, 1, 1, 1, 0, 1, 1, 1, 1, 1, 1, 0, 1, 1, 1, 1, 1, 0, 1, 1, 1, 1, 0, 1, 1, 1, 0, 1, 0, 0, 1, 1, 1, 0, 0, 0, 0, 1, 1, 0, 1, 0, 0, 1, 1, 1, 0, 0, 0, 0, 1, 1, 0, 0, 0, 0, 0, 1, 1, 1, 1, 1, 0, 1, 0, 1, 0, 0, 0, 0, 1, 1, 0, 1, 1, 1, 0, 1, 0, 1, 0, 1, 1, 0, 0, 1, 1, 1, 1, 0, 1, 1, 1, 0, 1, 0, 1, 0, 0, 0, 0, 0, 0, 0, 0, 0, 0, 1, 0, 0, 1, 0, 0, 0, 0, 1, 0, 0, 0, 1, 1, 0, 1, 0, 1, 1, 1, 0, 0, 1, 1, 0, 0, 0, 0, 0, 0, 1, 0, 0, 1, 1, 1, 0, 1, 1, 0, 0, 0, 1, 0, 0, 0, 0, 0, 0, 0, 0, 0, 1, 0, 0, 0, 0, 1, 1, 0]\n"
     ]
    }
   ],
   "source": [
    "print([i.score for i in results])"
   ]
  },
  {
   "cell_type": "code",
   "execution_count": 26,
   "metadata": {},
   "outputs": [],
   "source": [
    "scores = sum([i.score for i in results]) / len(results)"
   ]
  },
  {
   "cell_type": "code",
   "execution_count": 30,
   "metadata": {},
   "outputs": [
    {
     "name": "stdout",
     "output_type": "stream",
     "text": [
      "0.47540983606557374\n"
     ]
    }
   ],
   "source": [
    "print(scores)"
   ]
  },
  {
   "cell_type": "code",
   "execution_count": 28,
   "metadata": {},
   "outputs": [
    {
     "name": "stdout",
     "output_type": "stream",
     "text": [
      "LLMResult(input='A 35-year-old woman presents to her primary care provider concerned that she may be pregnant. She has a history of regular menstruation every 4 weeks that lasts about 4 days with mild to moderate bleeding, but she missed her last period 2 weeks ago. A home pregnancy test was positive. She has a 6-year history of hyperthyroidism that is well-controlled with daily methimazole. She is currently asymptomatic and has no complaints or concerns. A blood specimen is taken and confirms the diagnosis. Additionally, her thyroid-stimulating hormone (TSH) is 2.0 μU/mL. Which of the following is the next best step in the management of this patient?', student_answer='{\\n    \"reasoning\": \"<Pregnant patients with hyperthyroidism are typically managed by discontinuing methimazole as it can cross the placenta and potentially harm the fetus. Given that this patient\\'s TSH is 2.0 μU/mL, which is mildly elevated, they are still within a range that suggests hyperthyroidism but is not dangerously high. Thyroid-stimulating hormone (TSH) should be closely monitored in pregnancy. However, continuation of treatment with a safer alternative, such as methimazole or propylthiouracil, is usually preferred. In conclusion, the most appropriate next step is to discontinue methimazole and start a more suitable antithyroid medication.>\",\\n    \"answer\": \"A\"\\n}', teacher_answer=None, expected_output='B', context=None, retrieval_context=None, reasoning=\"<Pregnant patients with hyperthyroidism are typically managed by discontinuing methimazole as it can cross the placenta and potentially harm the fetus. Given that this patient's TSH is 2.0 μU/mL, which is mildly elevated, they are still within a range that suggests hyperthyroidism but is not dangerously high. Thyroid-stimulating hormone (TSH) should be closely monitored in pregnancy. However, continuation of treatment with a safer alternative, such as methimazole or propylthiouracil, is usually preferred. In conclusion, the most appropriate next step is to discontinue methimazole and start a more suitable antithyroid medication.>\", choices=['Continue methimazole', 'Discontinue methimazole, start propylthiouracil', 'Add glucocorticoids', 'Refer for radioiodine therapy'], score=0, metadata={'student_template_language': 'en', 'student_model_name': 'Qwen/Qwen2.5-3B-Instruct', 'student_token_usage': {'completion_tokens': 158, 'prompt_tokens': 301, 'total_tokens': 459}})\n"
     ]
    }
   ],
   "source": [
    "print(results[0])"
   ]
  },
  {
   "cell_type": "code",
   "execution_count": 29,
   "metadata": {},
   "outputs": [
    {
     "data": {
      "text/plain": [
       "0      {'student_template_language': 'en', 'student_m...\n",
       "1      {'student_template_language': 'en', 'student_m...\n",
       "2      {'student_template_language': 'en', 'student_m...\n",
       "3      {'student_template_language': 'en', 'student_m...\n",
       "4      {'student_template_language': 'en', 'student_m...\n",
       "                             ...                        \n",
       "483    {'student_template_language': 'en', 'student_m...\n",
       "484    {'student_template_language': 'en', 'student_m...\n",
       "485    {'student_template_language': 'en', 'student_m...\n",
       "486    {'student_template_language': 'en', 'student_m...\n",
       "487    {'student_template_language': 'en', 'student_m...\n",
       "Name: metadata, Length: 488, dtype: object"
      ]
     },
     "execution_count": 29,
     "metadata": {},
     "output_type": "execute_result"
    }
   ],
   "source": [
    "results.df['metadata']"
   ]
  },
  {
   "cell_type": "code",
   "execution_count": 27,
   "metadata": {},
   "outputs": [],
   "source": [
    "dataset = load_dataset('sickgpt/001_MedQA_processed', split='train')"
   ]
  },
  {
   "cell_type": "code",
   "execution_count": 30,
   "metadata": {},
   "outputs": [
    {
     "data": {
      "text/plain": [
       "Dataset({\n",
       "    features: ['question', 'expected_output', 'choices', 'question_ko', 'voca', 'answer', 'situation', 'tone', 'realqa_ko'],\n",
       "    num_rows: 10180\n",
       "})"
      ]
     },
     "execution_count": 30,
     "metadata": {},
     "output_type": "execute_result"
    }
   ],
   "source": [
    "dataset[]"
   ]
  },
  {
   "cell_type": "code",
   "execution_count": 31,
   "metadata": {},
   "outputs": [],
   "source": [
    "processed_df = dataset.to_pandas()"
   ]
  },
  {
   "cell_type": "code",
   "execution_count": 34,
   "metadata": {},
   "outputs": [
    {
     "data": {
      "text/html": [
       "<div>\n",
       "<style scoped>\n",
       "    .dataframe tbody tr th:only-of-type {\n",
       "        vertical-align: middle;\n",
       "    }\n",
       "\n",
       "    .dataframe tbody tr th {\n",
       "        vertical-align: top;\n",
       "    }\n",
       "\n",
       "    .dataframe thead th {\n",
       "        text-align: right;\n",
       "    }\n",
       "</style>\n",
       "<table border=\"1\" class=\"dataframe\">\n",
       "  <thead>\n",
       "    <tr style=\"text-align: right;\">\n",
       "      <th></th>\n",
       "      <th>question_ko</th>\n",
       "    </tr>\n",
       "  </thead>\n",
       "  <tbody>\n",
       "    <tr>\n",
       "      <th>0</th>\n",
       "      <td>23세 임신 22주 여성이 배뇨 시 작열감을 호소하며 내원했다. 증상은 하루 전 시...</td>\n",
       "    </tr>\n",
       "    <tr>\n",
       "      <th>1</th>\n",
       "      <td>3개월 된 아이가 밤에 잠든 상태에서 갑자기 사망했다. 어머니는 아침에 깨어난 후에...</td>\n",
       "    </tr>\n",
       "    <tr>\n",
       "      <th>2</th>\n",
       "      <td>3주 된 영아를 데리고 온 어머니는 아이의 수유 습관이 걱정되어 소아청소년과 의사를...</td>\n",
       "    </tr>\n",
       "    <tr>\n",
       "      <th>3</th>\n",
       "      <td>급성 저산소성 호흡부전으로 사망한 58세 여성의 폐 부검 표본을 검사했다. 3개월 ...</td>\n",
       "    </tr>\n",
       "    <tr>\n",
       "      <th>4</th>\n",
       "      <td>20세 여성이 지난 몇 년 동안 월경과다를 주소로 내원했다. \"항상 생리량이 많았다...</td>\n",
       "    </tr>\n",
       "    <tr>\n",
       "      <th>...</th>\n",
       "      <td>...</td>\n",
       "    </tr>\n",
       "    <tr>\n",
       "      <th>495</th>\n",
       "      <td>54세 남성이 지난 3개월 동안 걷기가 점점 어려워져 아내와 함께 병원을 찾았다. ...</td>\n",
       "    </tr>\n",
       "    <tr>\n",
       "      <th>496</th>\n",
       "      <td>36주 임신 중인 28세 초임 여성이 2시간 동안 지속된 자궁 수축으로 응급실을 방...</td>\n",
       "    </tr>\n",
       "    <tr>\n",
       "      <th>497</th>\n",
       "      <td>28세 여성이 직장에서 실신한 후 머리를 부딪혀 친구와 함께 응급실로 이송되었다. ...</td>\n",
       "    </tr>\n",
       "    <tr>\n",
       "      <th>498</th>\n",
       "      <td>61세 여성으로 산과력 4-3-?-?이며, 기침, 재채기, 신체 활동 시 비자발적인...</td>\n",
       "    </tr>\n",
       "    <tr>\n",
       "      <th>499</th>\n",
       "      <td>20세 여성이 야간에 박물관에 침입하려다 경찰에 의해 연행되었다. 환자는 자신이 거...</td>\n",
       "    </tr>\n",
       "  </tbody>\n",
       "</table>\n",
       "<p>500 rows × 1 columns</p>\n",
       "</div>"
      ],
      "text/plain": [
       "                                           question_ko\n",
       "0    23세 임신 22주 여성이 배뇨 시 작열감을 호소하며 내원했다. 증상은 하루 전 시...\n",
       "1    3개월 된 아이가 밤에 잠든 상태에서 갑자기 사망했다. 어머니는 아침에 깨어난 후에...\n",
       "2    3주 된 영아를 데리고 온 어머니는 아이의 수유 습관이 걱정되어 소아청소년과 의사를...\n",
       "3    급성 저산소성 호흡부전으로 사망한 58세 여성의 폐 부검 표본을 검사했다. 3개월 ...\n",
       "4    20세 여성이 지난 몇 년 동안 월경과다를 주소로 내원했다. \"항상 생리량이 많았다...\n",
       "..                                                 ...\n",
       "495  54세 남성이 지난 3개월 동안 걷기가 점점 어려워져 아내와 함께 병원을 찾았다. ...\n",
       "496  36주 임신 중인 28세 초임 여성이 2시간 동안 지속된 자궁 수축으로 응급실을 방...\n",
       "497  28세 여성이 직장에서 실신한 후 머리를 부딪혀 친구와 함께 응급실로 이송되었다. ...\n",
       "498  61세 여성으로 산과력 4-3-?-?이며, 기침, 재채기, 신체 활동 시 비자발적인...\n",
       "499  20세 여성이 야간에 박물관에 침입하려다 경찰에 의해 연행되었다. 환자는 자신이 거...\n",
       "\n",
       "[500 rows x 1 columns]"
      ]
     },
     "execution_count": 34,
     "metadata": {},
     "output_type": "execute_result"
    }
   ],
   "source": [
    "processed_df[:500][['question_ko']]"
   ]
  },
  {
   "cell_type": "code",
   "execution_count": 47,
   "metadata": {},
   "outputs": [],
   "source": [
    "template = metric.template_for_answer"
   ]
  },
  {
   "cell_type": "code",
   "execution_count": 48,
   "metadata": {},
   "outputs": [
    {
     "name": "stdout",
     "output_type": "stream",
     "text": [
      "input_variables=['choices', 'question'] input_types={} partial_variables={} messages=[SystemMessagePromptTemplate(prompt=PromptTemplate(input_variables=[], input_types={}, partial_variables={}, template='당신은 유능한 전문가입니다.'), additional_kwargs={}), HumanMessagePromptTemplate(prompt=PromptTemplate(input_variables=['choices', 'question'], input_types={}, partial_variables={}, template='다음의 객관식 문제를 풀어주세요.\\n추론 과정을 설명하고 정답은 알파벳(A, B, C, D 등)으로만 답해주세요.\\n\\n**\\n중요 : 반드시 JSON 형식으로만 답변해주세요. \\'reasoning\\' 키에는 추론 과정을 한국어로 작성합니다.\\nJSON 예시:\\n{{\\n\"reasoning\": \"<추론_과정. 차근차근 생각하세요.>. 따라서 답은 <정답>입니다\",\\n\"answer\": \"<정답>\"\\n}}\\n**\\n\\n문제:\\n{question}\\n\\n보기:\\n{choices}\\n\\nJSON:\\n'), additional_kwargs={})]\n"
     ]
    }
   ],
   "source": [
    "print(template)"
   ]
  },
  {
   "cell_type": "code",
   "execution_count": null,
   "metadata": {},
   "outputs": [],
   "source": []
  },
  {
   "cell_type": "code",
   "execution_count": null,
   "metadata": {},
   "outputs": [],
   "source": [
    "template.format_promt()"
   ]
  },
  {
   "cell_type": "code",
   "execution_count": 35,
   "metadata": {},
   "outputs": [],
   "source": [
    "results = results.df"
   ]
  },
  {
   "cell_type": "code",
   "execution_count": 52,
   "metadata": {},
   "outputs": [
    {
     "name": "stdout",
     "output_type": "stream",
     "text": [
      "input_variables=['choices', 'question'] input_types={} partial_variables={} messages=[SystemMessagePromptTemplate(prompt=PromptTemplate(input_variables=[], input_types={}, partial_variables={}, template='당신은 유능한 전문가입니다.'), additional_kwargs={}), HumanMessagePromptTemplate(prompt=PromptTemplate(input_variables=['choices', 'question'], input_types={}, partial_variables={}, template='다음의 객관식 문제를 풀어주세요.\\n추론 과정을 설명하고 정답은 알파벳(A, B, C, D 등)으로만 답해주세요.\\n\\n**\\n중요 : 반드시 JSON 형식으로만 답변해주세요. \\'reasoning\\' 키에는 추론 과정을 한국어로 작성합니다.\\nJSON 예시:\\n{{\\n\"reasoning\": \"<추론_과정. 차근차근 생각하세요.>. 따라서 답은 <정답>입니다\",\\n\"answer\": \"<정답>\"\\n}}\\n**\\n\\n문제:\\n{question}\\n\\n보기:\\n{choices}\\n\\nJSON:\\n'), additional_kwargs={})]\n"
     ]
    }
   ],
   "source": [
    "print(template)"
   ]
  },
  {
   "cell_type": "code",
   "execution_count": null,
   "metadata": {},
   "outputs": [],
   "source": [
    "template.format_prompt('')"
   ]
  },
  {
   "cell_type": "code",
   "execution_count": 54,
   "metadata": {},
   "outputs": [
    {
     "data": {
      "text/plain": [
       "'23세 임신 22주 여성이 배뇨 시 작열감을 호소하며 내원했다. 증상은 하루 전 시작되었고, 물을 더 많이 마시고 크랜베리 추출물을 복용했음에도 악화되었다고 한다. 그 외에는 전반적으로 기분이 좋으며, 임신 관리를 위해 의사와 정기적으로 상담 중이다. 체온은 36.5°C, 혈압은 122/77 mmHg, 맥박은 80회/분, 호흡은 19회/분, 산소포화도는 98%이다. 신체 검사에서 갈비척추각 압통은 없었고, 임신자궁이 있었다. 이 환자에게 가장 적절한 치료는?'"
      ]
     },
     "execution_count": 54,
     "metadata": {},
     "output_type": "execute_result"
    }
   ],
   "source": [
    "final_dfs.iloc[0]['question_ko']"
   ]
  },
  {
   "cell_type": "code",
   "execution_count": 56,
   "metadata": {},
   "outputs": [
    {
     "data": {
      "text/plain": [
       "['Ampicillin', 'Ceftriaxone', 'Doxycycline', 'Nitrofurantoin']"
      ]
     },
     "execution_count": 56,
     "metadata": {},
     "output_type": "execute_result"
    }
   ],
   "source": [
    "final_dfs.iloc[0]['choices']"
   ]
  },
  {
   "cell_type": "code",
   "execution_count": 58,
   "metadata": {},
   "outputs": [
    {
     "data": {
      "text/plain": [
       "'다음의 객관식 문제를 풀어주세요.\\n추론 과정을 설명하고 정답은 알파벳(A, B, C, D 등)으로만 답해주세요.\\n\\n**\\n중요 : 반드시 JSON 형식으로만 답변해주세요. \\'reasoning\\' 키에는 추론 과정을 한국어로 작성합니다.\\nJSON 예시:\\n{\\n\"reasoning\": \"<추론_과정. 차근차근 생각하세요.>. 따라서 답은 <정답>입니다\",\\n\"answer\": \"<정답>\"\\n}\\n**\\n\\n문제:\\n23세 임신 22주 여성이 배뇨 시 작열감을 호소하며 내원했다. 증상은 하루 전 시작되었고, 물을 더 많이 마시고 크랜베리 추출물을 복용했음에도 악화되었다고 한다. 그 외에는 전반적으로 기분이 좋으며, 임신 관리를 위해 의사와 정기적으로 상담 중이다. 체온은 36.5°C, 혈압은 122/77 mmHg, 맥박은 80회/분, 호흡은 19회/분, 산소포화도는 98%이다. 신체 검사에서 갈비척추각 압통은 없었고, 임신자궁이 있었다. 이 환자에게 가장 적절한 치료는?\\n\\n보기:\\nA: Ampicillin\\nB: Ceftriaxone\\nC: Doxycycline\\nD: Nitrofurantoin\\n\\nJSON:\\n'"
      ]
     },
     "execution_count": 58,
     "metadata": {},
     "output_type": "execute_result"
    }
   ],
   "source": [
    "choices_str = '\\n'.join(f\"{chr(65 + i)}: {value}\" for i, value in enumerate(final_dfs.iloc[0]['choices']))\n",
    "template.format_messages(question=final_dfs.iloc[0]['question_ko'], choices=choices_str)[1].content"
   ]
  },
  {
   "cell_type": "code",
   "execution_count": null,
   "metadata": {},
   "outputs": [],
   "source": []
  },
  {
   "cell_type": "code",
   "execution_count": 38,
   "metadata": {},
   "outputs": [],
   "source": [
    "results['question_ko'] = processed_df[:500][['question_ko']]"
   ]
  },
  {
   "cell_type": "code",
   "execution_count": 77,
   "metadata": {},
   "outputs": [],
   "source": [
    "final_dfs = results[results['score'] == 1][['question_ko', 'output', 'choices']]"
   ]
  },
  {
   "cell_type": "code",
   "execution_count": 78,
   "metadata": {},
   "outputs": [],
   "source": [
    "def formatting_question(question_ko, choices):\n",
    "    choices_str = '\\n'.join(f\"{chr(65 + i)}: {value}\" for i, value in enumerate(choices))\n",
    "    return template.format_messages(question=question_ko, choices=choices_str)[1].content"
   ]
  },
  {
   "cell_type": "code",
   "execution_count": 79,
   "metadata": {},
   "outputs": [],
   "source": [
    "final_dfs['formatting_question'] = final_dfs.apply(lambda row: formatting_question(row['question_ko'], row['choices']), axis=1)"
   ]
  },
  {
   "cell_type": "code",
   "execution_count": 80,
   "metadata": {},
   "outputs": [],
   "source": [
    "def process(question_ko, output):\n",
    "    return [{\"role\": \"system\", \"content\" : question_ko}, {\"role\": \"assistant\", \"content\" : output}]"
   ]
  },
  {
   "cell_type": "code",
   "execution_count": 81,
   "metadata": {},
   "outputs": [],
   "source": [
    "final_dfs['dialogue'] = final_dfs.apply(lambda row: process(row['formatting_question'], row['output']), axis=1)"
   ]
  },
  {
   "cell_type": "code",
   "execution_count": 82,
   "metadata": {},
   "outputs": [],
   "source": [
    "final_dfs = final_dfs[['question_ko', 'dialogue']]"
   ]
  },
  {
   "cell_type": "code",
   "execution_count": 85,
   "metadata": {},
   "outputs": [],
   "source": [
    "final_dfs.to_json(\"medqa_4o_mini.json\", orient=\"records\", force_ascii=False, lines=True)"
   ]
  },
  {
   "cell_type": "code",
   "execution_count": null,
   "metadata": {},
   "outputs": [],
   "source": []
  }
 ],
 "metadata": {
  "kernelspec": {
   "display_name": "magpie",
   "language": "python",
   "name": "python3"
  },
  "language_info": {
   "codemirror_mode": {
    "name": "ipython",
    "version": 3
   },
   "file_extension": ".py",
   "mimetype": "text/x-python",
   "name": "python",
   "nbconvert_exporter": "python",
   "pygments_lexer": "ipython3",
   "version": "3.10.16"
  }
 },
 "nbformat": 4,
 "nbformat_minor": 2
}
