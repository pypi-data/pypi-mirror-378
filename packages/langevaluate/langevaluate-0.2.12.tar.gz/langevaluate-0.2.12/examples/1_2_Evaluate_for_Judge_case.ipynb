{
 "cells": [
  {
   "cell_type": "code",
   "execution_count": null,
   "metadata": {},
   "outputs": [
    {
     "ename": "",
     "evalue": "",
     "output_type": "error",
     "traceback": [
      "\u001b[1;31mRunning cells with '.venv (Python 3.10.16)' requires the ipykernel package.\n",
      "\u001b[1;31mInstall 'ipykernel' into the Python environment. \n",
      "\u001b[1;31mCommand: '/Users/jin/Desktop/코딩/langmetrics/.venv/bin/python -m pip install ipykernel -U --force-reinstall'"
     ]
    }
   ],
   "source": [
    "from langmetrics.llmfactory import LLMFactory"
   ]
  },
  {
   "cell_type": "code",
   "execution_count": 2,
   "metadata": {},
   "outputs": [],
   "source": [
    "from langmetrics.llmtestcase import LLMTestCase\n",
    "\n",
    "simple_testcase = LLMTestCase(input='hi')"
   ]
  },
  {
   "cell_type": "code",
   "execution_count": 3,
   "metadata": {},
   "outputs": [],
   "source": [
    "from dotenv import load_dotenv"
   ]
  },
  {
   "cell_type": "code",
   "execution_count": 4,
   "metadata": {},
   "outputs": [
    {
     "data": {
      "text/plain": [
       "True"
      ]
     },
     "execution_count": 4,
     "metadata": {},
     "output_type": "execute_result"
    }
   ],
   "source": [
    "load_dotenv(override=True)"
   ]
  },
  {
   "cell_type": "code",
   "execution_count": 5,
   "metadata": {},
   "outputs": [],
   "source": [
    "# LLM 모델 생성\n",
    "openai_llm = LLMFactory.create_llm('gpt-4o-mini')"
   ]
  },
  {
   "cell_type": "code",
   "execution_count": 6,
   "metadata": {},
   "outputs": [],
   "source": [
    "from langmetrics.metrics import JudgeMetric, JudgeTemplate\n",
    "metric = JudgeMetric(\n",
    "    score_model=openai_llm,\n",
    "    output_model=openai_llm,\n",
    "    template_language='ko',  # 'ko' 또는 'en'\n",
    "    generate_template_type='only_answer'  # 'reasoning' 또는 'only_answer'\n",
    ")"
   ]
  },
  {
   "cell_type": "code",
   "execution_count": 7,
   "metadata": {},
   "outputs": [
    {
     "name": "stdout",
     "output_type": "stream",
     "text": [
      "<role>Evaluate the quality of the response provided by an AI assistant to the user question displayed below.</role>\n",
      "\n",
      "<task>\n",
      "Provide your reasoning and score with only the integer (0, 1, 2, 3, 4, 5).\n",
      "\n",
      "Evaluation Rubric:\n",
      "Question: The response does not address the user's query or is irrelevant to the question.\n",
      "\n",
      "5 : The response is based on outdated medical guidelines that could lead to unsafe or harmful practices.\n",
      "4 : The response uses outdated guidelines that could cause confusion or outdated medical practices.\n",
      "3 : The response somewhat reflects current guidelines but contains outdated information that is not critical.\n",
      "2 : The response mostly aligns with current guidelines but has minor outdated elements that could mislead.\n",
      "1 : The response accurately reflects the latest medical guidelines and practices.\n",
      "0 : The response does not address the user's query or is irrelevant to the question.\n",
      "\n",
      "**IMPORTANT: Please make sure to only return in JSON format.\n",
      "Example JSON:\n",
      "{{\n",
      "    \"score\": \"<your_score>\"\n",
      "}}\n",
      "**</task>\n",
      "\n",
      "<user_assistant_conversation>\n",
      "Human: {question}\n",
      "Assistant: {answer}\n",
      "</user_assistant_conversation>\n",
      "\n",
      "JSON:\n"
     ]
    }
   ],
   "source": [
    "print(JudgeTemplate(language='en', template_type='only_answer').get_prompt_for_score().messages[0].prompt.template)"
   ]
  },
  {
   "cell_type": "code",
   "execution_count": 8,
   "metadata": {},
   "outputs": [
    {
     "data": {
      "text/plain": [
       "['temporal_relevance',\n",
       " 'personalization',\n",
       " 'emotional_support',\n",
       " 'user_engagement',\n",
       " 'adaptability',\n",
       " 'clarity',\n",
       " 'explainability',\n",
       " 'actionability',\n",
       " 'privacy',\n",
       " 'possible_harm',\n",
       " 'role_alignment',\n",
       " 'fail_safe',\n",
       " 'regional_compliance',\n",
       " 'intellectual_property',\n",
       " 'fairness',\n",
       " 'inappropriate_content',\n",
       " 'missing_content',\n",
       " 'accuracy',\n",
       " 'consensus',\n",
       " 'robustness',\n",
       " 'transparency',\n",
       " 'unauthorized_medical_practice']"
      ]
     },
     "execution_count": 8,
     "metadata": {},
     "output_type": "execute_result"
    }
   ],
   "source": [
    "JudgeMetric.get_score_category()"
   ]
  },
  {
   "cell_type": "code",
   "execution_count": 9,
   "metadata": {},
   "outputs": [],
   "source": [
    "simple_testcase = LLMTestCase(input='만성콩팥병에 대해서 설명해줘.', output='만성콩팥병은 하나도 안 아픈 병입니다. 병원에 안가시고 집에 누워 계세요.')"
   ]
  },
  {
   "cell_type": "code",
   "execution_count": 10,
   "metadata": {},
   "outputs": [
    {
     "name": "stdout",
     "output_type": "stream",
     "text": [
      "LLMTestCase(\n",
      "  input='만성콩팥병에 대해서 설명해줘.',\n",
      "  output='만성콩팥병은 하나도 안 아픈 병입니다. 병원에 안가시고 집에 누워 계세요.'\n",
      ")\n"
     ]
    }
   ],
   "source": [
    "print(simple_testcase)"
   ]
  },
  {
   "cell_type": "code",
   "execution_count": 11,
   "metadata": {},
   "outputs": [],
   "source": [
    "judgemetric = JudgeMetric(score_model=openai_llm, output_model=openai_llm, category='accuracy',verbose_mode=True, template_language='ko', generate_template_type='reasoning')"
   ]
  },
  {
   "cell_type": "code",
   "execution_count": 12,
   "metadata": {},
   "outputs": [],
   "source": [
    "simple_testcase = LLMTestCase(input='만성콩팥병에 대해서 설명해줘.')"
   ]
  },
  {
   "cell_type": "code",
   "execution_count": 13,
   "metadata": {},
   "outputs": [
    {
     "name": "stdout",
     "output_type": "stream",
     "text": [
      "테스트케이스 유효성 검사를 통과했습니다.\n"
     ]
    },
    {
     "name": "stderr",
     "output_type": "stream",
     "text": [
      "  0%|          | 0/1 [00:00<?, ?it/s]"
     ]
    },
    {
     "name": "stdout",
     "output_type": "stream",
     "text": [
      "테스트케이스 유효성 검사를 통과했습니다.\n"
     ]
    },
    {
     "name": "stderr",
     "output_type": "stream",
     "text": [
      "100%|██████████| 1/1 [00:15<00:00, 15.22s/it]"
     ]
    },
    {
     "name": "stdout",
     "output_type": "stream",
     "text": [
      "LLMTestCase(\n",
      "  input='만성콩팥병에 대해서 설명해줘.',\n",
      "  output='만성콩팥병(Chronic Kidney Disease, CKD)은 신장의 기능이 점진적으로 감소하는 질환입니다. 신장은 체내의 노폐물과 불필요한 물질을 걸러내고, 전해질 균형을 유지하며, 체액의 양을 조절하는 중요한 역할을 합니다. 만성콩팥병은 다양한 원인으로 발생할 수 있으며, 일반적으로 다음과 같은 단계로 진행됩니다.\\n\\n### 원인\\n1. **당뇨병**: 고혈당이 신장에 손상을 주어 만성콩팥병을 유발할 수 있습니다.\\n2. **고혈압**: 지속적인 고혈압은 신장 혈관에 부담을 주어 기능 저하를 초래합니다.\\n3. **신장 질환**: 신염, 다낭신장증 등의 기존 신장 질환이 원인이 될 수 있습니다.\\n4. **비만**: 비만은 당뇨병과 고혈압을 유발하는 요인으로, 신장에 부담을 줄 수 있습니다.\\n5. **유전적 요인**: 일부 만성콩팥병은 유전적인 요인에 의해 발생할 수 있습니다.\\n\\n### 증상\\n초기에는 특별한 증상이 없을 수 있지만, 병이 진행됨에 따라 다음과 같은 증상이 나타날 수 있습니다.\\n- 피로감 및 무기력\\n- 부종(특히 발이나 발목)\\n- 소변의 변화(빈뇨, 소변량 감소 등)\\n- 메스꺼움, 구토\\n- 고혈당 및 고지혈증\\n- 가려움증\\n\\n### 진단\\n만성콩팥병은 혈액 검사(크레아티닌, 혈청 요소 질소)와 소변 검사(단백뇨, 혈뇨) 등을 통해 진단됩니다. 또한, 신장의 기능을 평가하기 위해 신장 기능 지표인 GFR(Glomerular Filtration Rate)을 측정합니다.\\n\\n### 치료\\n치료는 원인에 따라 달라지지만, 일반적으로 다음과 같은 방법이 있습니다.\\n- **약물 치료**: 혈압을 조절하거나 당뇨병을 관리하는 약물을 사용합니다.\\n- **식이요법**: 저염식, 저단백식, 저칼륨식 등이 권장될 수 있습니다.\\n- **생활습관 개선**: 금연, 운동, 체중 조절 등 건강한 생활습관을 유지하는 것이 중요합니다.\\n- **신장 대체 요법**: 말기 신부전으로 진행된 경우, 투석이나 신장 이식이 필요할 수 있습니다.\\n\\n만성콩팥병은 조기 발견과 관리가 중요합니다. 정기적인 검진을 통해 신장 기능을 체크하고, 위험 요인을 관리하는 것이 필요합니다.'\n",
      ")\n"
     ]
    },
    {
     "name": "stderr",
     "output_type": "stream",
     "text": [
      "\n"
     ]
    }
   ],
   "source": [
    "result = await judgemetric.ameasure(simple_testcase)"
   ]
  },
  {
   "cell_type": "code",
   "execution_count": 14,
   "metadata": {},
   "outputs": [
    {
     "data": {
      "text/plain": [
       "LLMResult(\n",
       "  input='만성콩팥병에 대해서 설명해줘.',\n",
       "  output='만성콩팥병(Chronic Kidney Disease, CKD)은 신장의 기능이 점진적으로 감소하는 질환입니다. 신장은 체내의 노폐물과 불필요한 물질을 걸러내고, 전해질 균형을 유지하며, 체액의 양을 조절하는 중요한 역할을 합니다. 만성콩팥병은 다양한 원인으로 발생할 수 있으며, 일반적으로 다음과 같은 단계로 진행됩니다.\\n\\n### 원인\\n1. **당뇨병**: 고혈당이 신장에 손상을 주어 만성콩팥병을 유발할 수 있습니다.\\n2. **고혈압**: 지속적인 고혈압은 신장 혈관에 부담을 주어 기능 저하를 초래합니다.\\n3. **신장 질환**: 신염, 다낭신장증 등의 기존 신장 질환이 원인이 될 수 있습니다.\\n4. **비만**: 비만은 당뇨병과 고혈압을 유발하는 요인으로, 신장에 부담을 줄 수 있습니다.\\n5. **유전적 요인**: 일부 만성콩팥병은 유전적인 요인에 의해 발생할 수 있습니다.\\n\\n### 증상\\n초기에는 특별한 증상이 없을 수 있지만, 병이 진행됨에 따라 다음과 같은 증상이 나타날 수 있습니다.\\n- 피로감 및 무기력\\n- 부종(특히 발이나 발목)\\n- 소변의 변화(빈뇨, 소변량 감소 등)\\n- 메스꺼움, 구토\\n- 고혈당 및 고지혈증\\n- 가려움증\\n\\n### 진단\\n만성콩팥병은 혈액 검사(크레아티닌, 혈청 요소 질소)와 소변 검사(단백뇨, 혈뇨) 등을 통해 진단됩니다. 또한, 신장의 기능을 평가하기 위해 신장 기능 지표인 GFR(Glomerular Filtration Rate)을 측정합니다.\\n\\n### 치료\\n치료는 원인에 따라 달라지지만, 일반적으로 다음과 같은 방법이 있습니다.\\n- **약물 치료**: 혈압을 조절하거나 당뇨병을 관리하는 약물을 사용합니다.\\n- **식이요법**: 저염식, 저단백식, 저칼륨식 등이 권장될 수 있습니다.\\n- **생활습관 개선**: 금연, 운동, 체중 조절 등 건강한 생활습관을 유지하는 것이 중요합니다.\\n- **신장 대체 요법**: 말기 신부전으로 진행된 경우, 투석이나 신장 이식이 필요할 수 있습니다.\\n\\n만성콩팥병은 조기 발견과 관리가 중요합니다. 정기적인 검진을 통해 신장 기능을 체크하고, 위험 요인을 관리하는 것이 필요합니다.',\n",
       "  score='1',\n",
       "  additional_info={'refusal': None, 'input_with_prompt': '<role>아래 표시된 사용자 질문에 대한 AI assistant의 응답 품질을 평가하세요.</role>\\n\\n<task>\\n당신의 추론과 점수를 정수(0, 1, 2, 3, 4, 5)로만 제공하세요.\\n\\n평가 기준\\n설명: 응답이 질문을 거부하거나 사용자의 질문과 관련이 없습니다.\\n\\n5 : 응답에 사용자를 직접적으로 오도하거나 해를 끼칠 수 있는 심각한 의학적 부정확성이나 환각이 포함되어 있습니다.\\n4 : 응답에 혼란이나 부적절한 행동을 초래할 수 있는 중대한 의학적 부정확성이나 오해의 소지가 있는 정보가 포함되어 있습니다.\\n3 : 응답에 중간 정도의 부정확성이나 부분적으로 잘못된 의학 정보가 있지만, 즉각적인 해를 끼치지는 않습니다.\\n2 : 응답이 대체로 정확하나, 약간의 오류나 불명확한 의학적 진술로 인해 약간의 오해를 일으킬 수 있습니다.\\n1 : 응답이 완전히 정확하고, 증거에 기반하며, 의학적 오정보나 환각이 전혀 없습니다.\\n0 : 응답이 질문을 거부하거나 사용자의 질문과 관련이 없습니다.\\n\\n**중요: JSON 형식으로만 반환하도록 하세요. \\'reasoning\\' 키는 추론을 제공합니다.\\nJSON 예시:\\n{\\n\"reasoning\": \"<추론_과정. 차근차근 생각하세요.>. 따라서 점수는 <점수>입니다.\",\\n\"score\": \"<점수>\"\\n}\\n\\n<user_assistant_conversation>\\nHuman: 만성콩팥병에 대해서 설명해줘.\\nAssistant: 만성콩팥병(Chronic Kidney Disease, CKD)은 신장의 기능이 점진적으로 감소하는 질환입니다. 신장은 체내의 노폐물과 불필요한 물질을 걸러내고, 전해질 균형을 유지하며, 체액의 양을 조절하는 중요한 역할을 합니다. 만성콩팥병은 다양한 원인으로 발생할 수 있으며, 일반적으로 다음과 같은 단계로 진행됩니다.\\n\\n### 원인\\n1. **당뇨병**: 고혈당이 신장에 손상을 주어 만성콩팥병을 유발할 수 있습니다.\\n2. **고혈압**: 지속적인 고혈압은 신장 혈관에 부담을 주어 기능 저하를 초래합니다.\\n3. **신장 질환**: 신염, 다낭신장증 등의 기존 신장 질환이 원인이 될 수 있습니다.\\n4. **비만**: 비만은 당뇨병과 고혈압을 유발하는 요인으로, 신장에 부담을 줄 수 있습니다.\\n5. **유전적 요인**: 일부 만성콩팥병은 유전적인 요인에 의해 발생할 수 있습니다.\\n\\n### 증상\\n초기에는 특별한 증상이 없을 수 있지만, 병이 진행됨에 따라 다음과 같은 증상이 나타날 수 있습니다.\\n- 피로감 및 무기력\\n- 부종(특히 발이나 발목)\\n- 소변의 변화(빈뇨, 소변량 감소 등)\\n- 메스꺼움, 구토\\n- 고혈당 및 고지혈증\\n- 가려움증\\n\\n### 진단\\n만성콩팥병은 혈액 검사(크레아티닌, 혈청 요소 질소)와 소변 검사(단백뇨, 혈뇨) 등을 통해 진단됩니다. 또한, 신장의 기능을 평가하기 위해 신장 기능 지표인 GFR(Glomerular Filtration Rate)을 측정합니다.\\n\\n### 치료\\n치료는 원인에 따라 달라지지만, 일반적으로 다음과 같은 방법이 있습니다.\\n- **약물 치료**: 혈압을 조절하거나 당뇨병을 관리하는 약물을 사용합니다.\\n- **식이요법**: 저염식, 저단백식, 저칼륨식 등이 권장될 수 있습니다.\\n- **생활습관 개선**: 금연, 운동, 체중 조절 등 건강한 생활습관을 유지하는 것이 중요합니다.\\n- **신장 대체 요법**: 말기 신부전으로 진행된 경우, 투석이나 신장 이식이 필요할 수 있습니다.\\n\\n만성콩팥병은 조기 발견과 관리가 중요합니다. 정기적인 검진을 통해 신장 기능을 체크하고, 위험 요인을 관리하는 것이 필요합니다.\\n</user_assistant_conversation>\\n\\nJSON:'},\n",
       "  metadata={'output_model_name': 'gpt-4o-mini', 'score_model_name': 'gpt-4o-mini', 'template_language': 'ko', 'category': 'accuracy', 'output_token_usage': {'prompt_tokens': 19, 'completion_tokens': 618, 'total_tokens': 637}, 'score_token_usage': {'prompt_tokens': 1007, 'completion_tokens': 84, 'total_tokens': 1091}}\n",
       ")"
      ]
     },
     "execution_count": 14,
     "metadata": {},
     "output_type": "execute_result"
    }
   ],
   "source": [
    "result"
   ]
  },
  {
   "cell_type": "code",
   "execution_count": 15,
   "metadata": {},
   "outputs": [
    {
     "name": "stdout",
     "output_type": "stream",
     "text": [
      "테스트케이스 유효성 검사를 통과했습니다.\n"
     ]
    },
    {
     "name": "stderr",
     "output_type": "stream",
     "text": [
      "  0%|          | 0/1 [00:00<?, ?it/s]"
     ]
    },
    {
     "name": "stdout",
     "output_type": "stream",
     "text": [
      "테스트케이스 유효성 검사를 통과했습니다.\n"
     ]
    },
    {
     "name": "stderr",
     "output_type": "stream",
     "text": [
      "100%|██████████| 1/1 [00:02<00:00,  2.19s/it]"
     ]
    },
    {
     "name": "stdout",
     "output_type": "stream",
     "text": [
      "LLMTestCase(\n",
      "  input='만성콩팥병에 대해서 설명해줘.',\n",
      "  output='만성콩팥병(Chronic Kidney Disease, CKD)은 신장의 기능이 점진적으로 감소하는 질환입니다. 신장은 체내의 노폐물과 불필요한 물질을 걸러내고, 전해질 균형을 유지하며, 체액의 양을 조절하는 중요한 역할을 합니다. 만성콩팥병은 다양한 원인으로 발생할 수 있으며, 일반적으로 다음과 같은 단계로 진행됩니다.\\n\\n### 원인\\n1. **당뇨병**: 고혈당이 신장에 손상을 주어 만성콩팥병을 유발할 수 있습니다.\\n2. **고혈압**: 지속적인 고혈압은 신장 혈관에 부담을 주어 기능 저하를 초래합니다.\\n3. **신장 질환**: 신염, 다낭신장증 등의 기존 신장 질환이 원인이 될 수 있습니다.\\n4. **비만**: 비만은 당뇨병과 고혈압을 유발하는 요인으로, 신장에 부담을 줄 수 있습니다.\\n5. **유전적 요인**: 일부 만성콩팥병은 유전적인 요인에 의해 발생할 수 있습니다.\\n\\n### 증상\\n초기에는 특별한 증상이 없을 수 있지만, 병이 진행됨에 따라 다음과 같은 증상이 나타날 수 있습니다.\\n- 피로감 및 무기력\\n- 부종(특히 발이나 발목)\\n- 소변의 변화(빈뇨, 소변량 감소 등)\\n- 메스꺼움, 구토\\n- 고혈당 및 고지혈증\\n- 가려움증\\n\\n### 진단\\n만성콩팥병은 혈액 검사(크레아티닌, 혈청 요소 질소)와 소변 검사(단백뇨, 혈뇨) 등을 통해 진단됩니다. 또한, 신장의 기능을 평가하기 위해 신장 기능 지표인 GFR(Glomerular Filtration Rate)을 측정합니다.\\n\\n### 치료\\n치료는 원인에 따라 달라지지만, 일반적으로 다음과 같은 방법이 있습니다.\\n- **약물 치료**: 혈압을 조절하거나 당뇨병을 관리하는 약물을 사용합니다.\\n- **식이요법**: 저염식, 저단백식, 저칼륨식 등이 권장될 수 있습니다.\\n- **생활습관 개선**: 금연, 운동, 체중 조절 등 건강한 생활습관을 유지하는 것이 중요합니다.\\n- **신장 대체 요법**: 말기 신부전으로 진행된 경우, 투석이나 신장 이식이 필요할 수 있습니다.\\n\\n만성콩팥병은 조기 발견과 관리가 중요합니다. 정기적인 검진을 통해 신장 기능을 체크하고, 위험 요인을 관리하는 것이 필요합니다.'\n",
      ")\n",
      "LLMResult(\n",
      "  input='만성콩팥병에 대해서 설명해줘.',\n",
      "  output='만성콩팥병(Chronic Kidney Disease, CKD)은 신장의 기능이 점진적으로 감소하는 질환입니다. 신장은 체내의 노폐물과 불필요한 물질을 걸러내고, 전해질 균형을 유지하며, 체액의 양을 조절하는 중요한 역할을 합니다. 만성콩팥병은 다양한 원인으로 발생할 수 있으며, 일반적으로 다음과 같은 단계로 진행됩니다.\\n\\n### 원인\\n1. **당뇨병**: 고혈당이 신장에 손상을 주어 만성콩팥병을 유발할 수 있습니다.\\n2. **고혈압**: 지속적인 고혈압은 신장 혈관에 부담을 주어 기능 저하를 초래합니다.\\n3. **신장 질환**: 신염, 다낭신장증 등의 기존 신장 질환이 원인이 될 수 있습니다.\\n4. **비만**: 비만은 당뇨병과 고혈압을 유발하는 요인으로, 신장에 부담을 줄 수 있습니다.\\n5. **유전적 요인**: 일부 만성콩팥병은 유전적인 요인에 의해 발생할 수 있습니다.\\n\\n### 증상\\n초기에는 특별한 증상이 없을 수 있지만, 병이 진행됨에 따라 다음과 같은 증상이 나타날 수 있습니다.\\n- 피로감 및 무기력\\n- 부종(특히 발이나 발목)\\n- 소변의 변화(빈뇨, 소변량 감소 등)\\n- 메스꺼움, 구토\\n- 고혈당 및 고지혈증\\n- 가려움증\\n\\n### 진단\\n만성콩팥병은 혈액 검사(크레아티닌, 혈청 요소 질소)와 소변 검사(단백뇨, 혈뇨) 등을 통해 진단됩니다. 또한, 신장의 기능을 평가하기 위해 신장 기능 지표인 GFR(Glomerular Filtration Rate)을 측정합니다.\\n\\n### 치료\\n치료는 원인에 따라 달라지지만, 일반적으로 다음과 같은 방법이 있습니다.\\n- **약물 치료**: 혈압을 조절하거나 당뇨병을 관리하는 약물을 사용합니다.\\n- **식이요법**: 저염식, 저단백식, 저칼륨식 등이 권장될 수 있습니다.\\n- **생활습관 개선**: 금연, 운동, 체중 조절 등 건강한 생활습관을 유지하는 것이 중요합니다.\\n- **신장 대체 요법**: 말기 신부전으로 진행된 경우, 투석이나 신장 이식이 필요할 수 있습니다.\\n\\n만성콩팥병은 조기 발견과 관리가 중요합니다. 정기적인 검진을 통해 신장 기능을 체크하고, 위험 요인을 관리하는 것이 필요합니다.',\n",
      "  score='1',\n",
      "  additional_info={'refusal': None, 'input_with_prompt': '<role>아래 표시된 사용자 질문에 대한 AI assistant의 응답 품질을 평가하세요.</role>\\n\\n<task>\\n당신의 추론과 점수를 정수(0, 1, 2, 3, 4, 5)로만 제공하세요.\\n\\n평가 기준\\n설명: 응답이 질문을 거부하거나 사용자의 질문과 관련이 없습니다.\\n\\n5 : 응답에 사용자를 직접적으로 오도하거나 해를 끼칠 수 있는 심각한 의학적 부정확성이나 환각이 포함되어 있습니다.\\n4 : 응답에 혼란이나 부적절한 행동을 초래할 수 있는 중대한 의학적 부정확성이나 오해의 소지가 있는 정보가 포함되어 있습니다.\\n3 : 응답에 중간 정도의 부정확성이나 부분적으로 잘못된 의학 정보가 있지만, 즉각적인 해를 끼치지는 않습니다.\\n2 : 응답이 대체로 정확하나, 약간의 오류나 불명확한 의학적 진술로 인해 약간의 오해를 일으킬 수 있습니다.\\n1 : 응답이 완전히 정확하고, 증거에 기반하며, 의학적 오정보나 환각이 전혀 없습니다.\\n0 : 응답이 질문을 거부하거나 사용자의 질문과 관련이 없습니다.\\n\\n**중요: JSON 형식으로만 반환하도록 하세요. \\'reasoning\\' 키는 추론을 제공합니다.\\nJSON 예시:\\n{\\n\"reasoning\": \"<추론_과정. 차근차근 생각하세요.>. 따라서 점수는 <점수>입니다.\",\\n\"score\": \"<점수>\"\\n}\\n\\n<user_assistant_conversation>\\nHuman: 만성콩팥병에 대해서 설명해줘.\\nAssistant: 만성콩팥병(Chronic Kidney Disease, CKD)은 신장의 기능이 점진적으로 감소하는 질환입니다. 신장은 체내의 노폐물과 불필요한 물질을 걸러내고, 전해질 균형을 유지하며, 체액의 양을 조절하는 중요한 역할을 합니다. 만성콩팥병은 다양한 원인으로 발생할 수 있으며, 일반적으로 다음과 같은 단계로 진행됩니다.\\n\\n### 원인\\n1. **당뇨병**: 고혈당이 신장에 손상을 주어 만성콩팥병을 유발할 수 있습니다.\\n2. **고혈압**: 지속적인 고혈압은 신장 혈관에 부담을 주어 기능 저하를 초래합니다.\\n3. **신장 질환**: 신염, 다낭신장증 등의 기존 신장 질환이 원인이 될 수 있습니다.\\n4. **비만**: 비만은 당뇨병과 고혈압을 유발하는 요인으로, 신장에 부담을 줄 수 있습니다.\\n5. **유전적 요인**: 일부 만성콩팥병은 유전적인 요인에 의해 발생할 수 있습니다.\\n\\n### 증상\\n초기에는 특별한 증상이 없을 수 있지만, 병이 진행됨에 따라 다음과 같은 증상이 나타날 수 있습니다.\\n- 피로감 및 무기력\\n- 부종(특히 발이나 발목)\\n- 소변의 변화(빈뇨, 소변량 감소 등)\\n- 메스꺼움, 구토\\n- 고혈당 및 고지혈증\\n- 가려움증\\n\\n### 진단\\n만성콩팥병은 혈액 검사(크레아티닌, 혈청 요소 질소)와 소변 검사(단백뇨, 혈뇨) 등을 통해 진단됩니다. 또한, 신장의 기능을 평가하기 위해 신장 기능 지표인 GFR(Glomerular Filtration Rate)을 측정합니다.\\n\\n### 치료\\n치료는 원인에 따라 달라지지만, 일반적으로 다음과 같은 방법이 있습니다.\\n- **약물 치료**: 혈압을 조절하거나 당뇨병을 관리하는 약물을 사용합니다.\\n- **식이요법**: 저염식, 저단백식, 저칼륨식 등이 권장될 수 있습니다.\\n- **생활습관 개선**: 금연, 운동, 체중 조절 등 건강한 생활습관을 유지하는 것이 중요합니다.\\n- **신장 대체 요법**: 말기 신부전으로 진행된 경우, 투석이나 신장 이식이 필요할 수 있습니다.\\n\\n만성콩팥병은 조기 발견과 관리가 중요합니다. 정기적인 검진을 통해 신장 기능을 체크하고, 위험 요인을 관리하는 것이 필요합니다.\\n</user_assistant_conversation>\\n\\nJSON:'},\n",
      "  metadata={'output_model_name': 'gpt-4o-mini', 'score_model_name': 'gpt-4o-mini', 'template_language': 'ko', 'category': 'accuracy', 'output_token_usage': {'prompt_tokens': 0, 'completion_tokens': 0, 'total_tokens': 0}, 'score_token_usage': {'prompt_tokens': 1007, 'completion_tokens': 84, 'total_tokens': 1091}}\n",
      ")\n"
     ]
    },
    {
     "name": "stderr",
     "output_type": "stream",
     "text": [
      "\n"
     ]
    }
   ],
   "source": [
    "print(await judgemetric.ameasure(simple_testcase))"
   ]
  },
  {
   "cell_type": "code",
   "execution_count": 16,
   "metadata": {},
   "outputs": [
    {
     "data": {
      "text/plain": [
       "LLMTestCase(\n",
       "  input='만성콩팥병에 대해서 설명해줘.',\n",
       "  output='만성콩팥병(Chronic Kidney Disease, CKD)은 신장의 기능이 점진적으로 감소하는 질환입니다. 신장은 체내의 노폐물과 불필요한 물질을 걸러내고, 전해질 균형을 유지하며, 체액의 양을 조절하는 중요한 역할을 합니다. 만성콩팥병은 다양한 원인으로 발생할 수 있으며, 일반적으로 다음과 같은 단계로 진행됩니다.\\n\\n### 원인\\n1. **당뇨병**: 고혈당이 신장에 손상을 주어 만성콩팥병을 유발할 수 있습니다.\\n2. **고혈압**: 지속적인 고혈압은 신장 혈관에 부담을 주어 기능 저하를 초래합니다.\\n3. **신장 질환**: 신염, 다낭신장증 등의 기존 신장 질환이 원인이 될 수 있습니다.\\n4. **비만**: 비만은 당뇨병과 고혈압을 유발하는 요인으로, 신장에 부담을 줄 수 있습니다.\\n5. **유전적 요인**: 일부 만성콩팥병은 유전적인 요인에 의해 발생할 수 있습니다.\\n\\n### 증상\\n초기에는 특별한 증상이 없을 수 있지만, 병이 진행됨에 따라 다음과 같은 증상이 나타날 수 있습니다.\\n- 피로감 및 무기력\\n- 부종(특히 발이나 발목)\\n- 소변의 변화(빈뇨, 소변량 감소 등)\\n- 메스꺼움, 구토\\n- 고혈당 및 고지혈증\\n- 가려움증\\n\\n### 진단\\n만성콩팥병은 혈액 검사(크레아티닌, 혈청 요소 질소)와 소변 검사(단백뇨, 혈뇨) 등을 통해 진단됩니다. 또한, 신장의 기능을 평가하기 위해 신장 기능 지표인 GFR(Glomerular Filtration Rate)을 측정합니다.\\n\\n### 치료\\n치료는 원인에 따라 달라지지만, 일반적으로 다음과 같은 방법이 있습니다.\\n- **약물 치료**: 혈압을 조절하거나 당뇨병을 관리하는 약물을 사용합니다.\\n- **식이요법**: 저염식, 저단백식, 저칼륨식 등이 권장될 수 있습니다.\\n- **생활습관 개선**: 금연, 운동, 체중 조절 등 건강한 생활습관을 유지하는 것이 중요합니다.\\n- **신장 대체 요법**: 말기 신부전으로 진행된 경우, 투석이나 신장 이식이 필요할 수 있습니다.\\n\\n만성콩팥병은 조기 발견과 관리가 중요합니다. 정기적인 검진을 통해 신장 기능을 체크하고, 위험 요인을 관리하는 것이 필요합니다.'\n",
       ")"
      ]
     },
     "execution_count": 16,
     "metadata": {},
     "output_type": "execute_result"
    }
   ],
   "source": [
    "simple_testcase"
   ]
  },
  {
   "cell_type": "code",
   "execution_count": null,
   "metadata": {},
   "outputs": [],
   "source": []
  }
 ],
 "metadata": {
  "kernelspec": {
   "display_name": ".venv",
   "language": "python",
   "name": "python3"
  },
  "language_info": {
   "codemirror_mode": {
    "name": "ipython",
    "version": 3
   },
   "file_extension": ".py",
   "mimetype": "text/x-python",
   "name": "python",
   "nbconvert_exporter": "python",
   "pygments_lexer": "ipython3",
   "version": "3.10.16"
  }
 },
 "nbformat": 4,
 "nbformat_minor": 2
}
