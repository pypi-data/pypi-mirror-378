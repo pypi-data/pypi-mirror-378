{
 "cells": [
  {
   "cell_type": "markdown",
   "metadata": {},
   "source": [
    "# MCQ (Multiple Choice Question) 평가 튜토리얼\n",
    "\n",
    "## MCQDataset\n",
    "\n",
    "이 튜토리얼에서는 Huggingface의 객관식 dataset을 불러와서 평가 후 재업로드하는 과정까지 경험해볼 것입니다."
   ]
  },
  {
   "cell_type": "markdown",
   "metadata": {},
   "source": [
    "### 1. 데이터셋 불러오기\n",
    "먼저 HuggingFace Hub에서 데이터셋을 불러오는 방법을 알아보겠습니다:"
   ]
  },
  {
   "cell_type": "code",
   "execution_count": 2,
   "metadata": {},
   "outputs": [],
   "source": [
    "from langmetrics.llmdataset import LLMDataset\n",
    "from langmetrics.llmtestcase import LLMTestCase\n",
    "from datasets import load_dataset\n",
    "import pandas as pd\n",
    "from dotenv import load_dotenv"
   ]
  },
  {
   "cell_type": "code",
   "execution_count": 3,
   "metadata": {},
   "outputs": [
    {
     "data": {
      "text/plain": [
       "True"
      ]
     },
     "execution_count": 3,
     "metadata": {},
     "output_type": "execute_result"
    }
   ],
   "source": [
    "load_dotenv(override=True)"
   ]
  },
  {
   "cell_type": "code",
   "execution_count": 4,
   "metadata": {},
   "outputs": [],
   "source": [
    "test_dataset = LLMDataset.from_huggingface_hub('sickgpt/015_KorMedMCQA_test', split='train')"
   ]
  },
  {
   "cell_type": "code",
   "execution_count": 5,
   "metadata": {},
   "outputs": [
    {
     "data": {
      "text/plain": [
       "3009"
      ]
     },
     "execution_count": 5,
     "metadata": {},
     "output_type": "execute_result"
    }
   ],
   "source": [
    "len(test_dataset)"
   ]
  },
  {
   "cell_type": "markdown",
   "metadata": {},
   "source": [
    "이제 evaluate을 진행해봅시다."
   ]
  },
  {
   "cell_type": "code",
   "execution_count": 6,
   "metadata": {},
   "outputs": [],
   "source": [
    "from langmetrics.llmfactory import LLMFactory\n",
    "from langmetrics.config import ModelConfig, LocalModelConfig"
   ]
  },
  {
   "cell_type": "code",
   "execution_count": 7,
   "metadata": {},
   "outputs": [
    {
     "data": {
      "text/plain": [
       "['gpt-4o',\n",
       " 'gpt-4o-mini',\n",
       " 'deepseek-v3',\n",
       " 'deepseek-reasoner',\n",
       " 'claude-3.7-sonnet',\n",
       " 'claude-3.5-sonnet',\n",
       " 'claude-3.5-haiku',\n",
       " 'naver',\n",
       " 'gemini-2.0-flash']"
      ]
     },
     "execution_count": 7,
     "metadata": {},
     "output_type": "execute_result"
    }
   ],
   "source": [
    "LLMFactory.get_model_list()"
   ]
  },
  {
   "cell_type": "code",
   "execution_count": 8,
   "metadata": {},
   "outputs": [],
   "source": [
    "# 커스텀 모델 설정 생성\n",
    "custom_config = LocalModelConfig(\n",
    "    model_name=\"Qwen/Qwen2.5-32B-Instruct\",\n",
    "    lora_model_path=\"/workspace/project/2025/model/llm/sickllm/qwen_32b_lora_ver1/epoch_0\",\n",
    "    lora_name=\"qwen\",\n",
    ")"
   ]
  },
  {
   "cell_type": "code",
   "execution_count": 9,
   "metadata": {},
   "outputs": [],
   "source": [
    "# # 커스텀 모델 설정 생성\n",
    "# custom_config = ModelConfig(\n",
    "#     model_name=\"Qwen/Qwen2.5-3B-Instruct\",\n",
    "#     api_base=\"http://qwen3b:8000/v1\",\n",
    "#     api_key='EMPTY',\n",
    "#     max_tokens=32000,\n",
    "#     seed=66,\n",
    "#     provider=\"openai\"\n",
    "# )"
   ]
  },
  {
   "cell_type": "code",
   "execution_count": 10,
   "metadata": {},
   "outputs": [
    {
     "name": "stdout",
     "output_type": "stream",
     "text": [
      "waiting llm server boot\n",
      "\n",
      "\n",
      "                    참고: 보통 서버는 별도의 터미널에서 실행됩니다.\n",
      "                    현재 CI 병렬 환경에서 실행 중이므로 실제 성능과는 차이가 있을 수 있습니다.\n",
      "                    \n"
     ]
    }
   ],
   "source": [
    "# localllm은 서버를 local에서 실행시키기 때문에 부팅되는 시간이 존재합니다.\n",
    "custom_llm = LLMFactory.create_llm(custom_config, temperature=0)"
   ]
  },
  {
   "cell_type": "markdown",
   "metadata": {},
   "source": [
    "한글 데이터셋 이므로 template을 한글 사용"
   ]
  },
  {
   "cell_type": "code",
   "execution_count": 11,
   "metadata": {},
   "outputs": [],
   "source": [
    "from langmetrics.metrics import MCQMetric\n",
    "metric = MCQMetric(\n",
    "    output_model=custom_llm,\n",
    "    template_language='ko',  # 'ko' 또는 'en'\n",
    "    output_template_type='reasoning'  # 'reasoning' 또는 'only_answer'\n",
    ")"
   ]
  },
  {
   "cell_type": "markdown",
   "metadata": {},
   "source": [
    "async를 통해서 빠르게 추론을 할 것입니다."
   ]
  },
  {
   "cell_type": "code",
   "execution_count": 12,
   "metadata": {},
   "outputs": [],
   "source": [
    "import nest_asyncio\n",
    "nest_asyncio.apply()"
   ]
  },
  {
   "cell_type": "code",
   "execution_count": 13,
   "metadata": {},
   "outputs": [
    {
     "name": "stdout",
     "output_type": "stream",
     "text": [
      "LLMTestCase(\n",
      "  input='2개월 남아가 BCG예방접종 1개월 뒤 주사 부위에 이상반응이 생겨서 예방접종을 실시한 소아청소년과의원을 찾아왔다. 이때 「감염병의 예방 및 관리에 관한 법률」에 따라 예방접종 후 이상반응으로 진단한 원장이 이상반응 발생신고서를 제출해야 할 대상은?',\n",
      "  expected_output='C',\n",
      "  choices=['대한의사협회장', '보건복지부장관', '남아 소재지 관할 보건소장', '남아 소재지 관할 시장 ∙ 군수 ∙ 구청장', '남아 소재지 관할 시 ∙ 도지사']\n",
      ")\n"
     ]
    }
   ],
   "source": [
    "print(test_dataset[0])"
   ]
  },
  {
   "cell_type": "code",
   "execution_count": 16,
   "metadata": {},
   "outputs": [
    {
     "name": "stderr",
     "output_type": "stream",
     "text": [
      " 11%|█▏        | 341/3009 [05:44<17:00,  2.61it/s]   "
     ]
    },
    {
     "name": "stdout",
     "output_type": "stream",
     "text": [
      "Unexpected error in trimAndLoadJson: Evaluation LLM outputted an invalid JSON. Please use a better evaluation model., retry 1/60\n"
     ]
    },
    {
     "name": "stderr",
     "output_type": "stream",
     "text": [
      " 27%|██▋       | 803/3009 [08:14<10:54,  3.37it/s]"
     ]
    },
    {
     "name": "stdout",
     "output_type": "stream",
     "text": [
      "Unexpected error in trimAndLoadJson: Evaluation LLM outputted an invalid JSON. Please use a better evaluation model., retry 1/60\n"
     ]
    },
    {
     "name": "stderr",
     "output_type": "stream",
     "text": [
      " 29%|██▉       | 883/3009 [08:48<15:56,  2.22it/s]"
     ]
    },
    {
     "name": "stdout",
     "output_type": "stream",
     "text": [
      "Unexpected error in trimAndLoadJson: Evaluation LLM outputted an invalid JSON. Please use a better evaluation model., retry 2/60\n"
     ]
    },
    {
     "name": "stderr",
     "output_type": "stream",
     "text": [
      " 30%|██▉       | 902/3009 [08:55<12:40,  2.77it/s]"
     ]
    },
    {
     "name": "stdout",
     "output_type": "stream",
     "text": [
      "Unexpected error in trimAndLoadJson: Evaluation LLM outputted an invalid JSON. Please use a better evaluation model., retry 1/60\n"
     ]
    },
    {
     "name": "stderr",
     "output_type": "stream",
     "text": [
      " 36%|███▌      | 1072/3009 [09:57<14:28,  2.23it/s]"
     ]
    },
    {
     "name": "stdout",
     "output_type": "stream",
     "text": [
      "Unexpected error in trimAndLoadJson: Evaluation LLM outputted an invalid JSON. Please use a better evaluation model., retry 1/60\n"
     ]
    },
    {
     "name": "stderr",
     "output_type": "stream",
     "text": [
      " 37%|███▋      | 1108/3009 [10:08<10:38,  2.98it/s]"
     ]
    },
    {
     "ename": "CancelledError",
     "evalue": "",
     "output_type": "error",
     "traceback": [
      "\u001b[0;31m---------------------------------------------------------------------------\u001b[0m",
      "\u001b[0;31mCancelledError\u001b[0m                            Traceback (most recent call last)",
      "Cell \u001b[0;32mIn[16], line 1\u001b[0m\n\u001b[0;32m----> 1\u001b[0m results \u001b[38;5;241m=\u001b[39m \u001b[38;5;28;01mawait\u001b[39;00m metric\u001b[38;5;241m.\u001b[39mameasure(test_dataset)\n",
      "File \u001b[0;32m/workspace/langmetrics/src/langmetrics/metrics/mcq_choice/mcq_metric.py:161\u001b[0m, in \u001b[0;36mMCQMetric.ameasure\u001b[0;34m(self, testcase, max_concurrent, **kwargs)\u001b[0m\n\u001b[1;32m    159\u001b[0m \u001b[38;5;66;03m# validate case\u001b[39;00m\n\u001b[1;32m    160\u001b[0m tasks \u001b[38;5;241m=\u001b[39m [\u001b[38;5;28mself\u001b[39m\u001b[38;5;241m.\u001b[39m_a_process_single_case(case, \u001b[38;5;241m*\u001b[39m\u001b[38;5;241m*\u001b[39mkwargs) \u001b[38;5;28;01mfor\u001b[39;00m case \u001b[38;5;129;01min\u001b[39;00m testcases]\n\u001b[0;32m--> 161\u001b[0m results \u001b[38;5;241m=\u001b[39m \u001b[38;5;28;01mawait\u001b[39;00m \u001b[38;5;28mself\u001b[39m\u001b[38;5;241m.\u001b[39mgather_with_concurrency(\n\u001b[1;32m    162\u001b[0m     max_concurrent \u001b[38;5;129;01mor\u001b[39;00m \u001b[38;5;28mself\u001b[39m\u001b[38;5;241m.\u001b[39msemaphore\u001b[38;5;241m.\u001b[39m_value, \n\u001b[1;32m    163\u001b[0m     \u001b[38;5;241m*\u001b[39mtasks\n\u001b[1;32m    164\u001b[0m )\n\u001b[1;32m    165\u001b[0m \u001b[38;5;28;01mreturn\u001b[39;00m results[\u001b[38;5;241m0\u001b[39m] \u001b[38;5;28;01mif\u001b[39;00m \u001b[38;5;28misinstance\u001b[39m(testcase, LLMTestCase) \u001b[38;5;28;01melse\u001b[39;00m ResultDataset(results)\n",
      "File \u001b[0;32m/workspace/langmetrics/src/langmetrics/metrics/base_metric.py:174\u001b[0m, in \u001b[0;36mBaseMetric.gather_with_concurrency\u001b[0;34m(self, n, *coros)\u001b[0m\n\u001b[1;32m    171\u001b[0m     \u001b[38;5;28;01masync\u001b[39;00m \u001b[38;5;28;01mwith\u001b[39;00m sem:\n\u001b[1;32m    172\u001b[0m         \u001b[38;5;28;01mreturn\u001b[39;00m \u001b[38;5;28;01mawait\u001b[39;00m coro\n\u001b[0;32m--> 174\u001b[0m \u001b[38;5;28;01mreturn\u001b[39;00m \u001b[38;5;28;01mawait\u001b[39;00m tqdm\u001b[38;5;241m.\u001b[39mgather(\u001b[38;5;241m*\u001b[39m(gated_coro(semaphore, c) \u001b[38;5;28;01mfor\u001b[39;00m c \u001b[38;5;129;01min\u001b[39;00m coros))\n",
      "File \u001b[0;32m/opt/conda/envs/magpie/lib/python3.10/site-packages/tqdm/asyncio.py:79\u001b[0m, in \u001b[0;36mtqdm_asyncio.gather\u001b[0;34m(cls, loop, timeout, total, *fs, **tqdm_kwargs)\u001b[0m\n\u001b[1;32m     76\u001b[0m     \u001b[38;5;28;01mreturn\u001b[39;00m i, \u001b[38;5;28;01mawait\u001b[39;00m f\n\u001b[1;32m     78\u001b[0m ifs \u001b[38;5;241m=\u001b[39m [wrap_awaitable(i, f) \u001b[38;5;28;01mfor\u001b[39;00m i, f \u001b[38;5;129;01min\u001b[39;00m \u001b[38;5;28menumerate\u001b[39m(fs)]\n\u001b[0;32m---> 79\u001b[0m res \u001b[38;5;241m=\u001b[39m [\u001b[38;5;28;01mawait\u001b[39;00m f \u001b[38;5;28;01mfor\u001b[39;00m f \u001b[38;5;129;01min\u001b[39;00m \u001b[38;5;28mcls\u001b[39m\u001b[38;5;241m.\u001b[39mas_completed(ifs, loop\u001b[38;5;241m=\u001b[39mloop, timeout\u001b[38;5;241m=\u001b[39mtimeout,\n\u001b[1;32m     80\u001b[0m                                          total\u001b[38;5;241m=\u001b[39mtotal, \u001b[38;5;241m*\u001b[39m\u001b[38;5;241m*\u001b[39mtqdm_kwargs)]\n\u001b[1;32m     81\u001b[0m \u001b[38;5;28;01mreturn\u001b[39;00m [i \u001b[38;5;28;01mfor\u001b[39;00m _, i \u001b[38;5;129;01min\u001b[39;00m \u001b[38;5;28msorted\u001b[39m(res)]\n",
      "File \u001b[0;32m/opt/conda/envs/magpie/lib/python3.10/site-packages/tqdm/asyncio.py:79\u001b[0m, in \u001b[0;36m<listcomp>\u001b[0;34m(.0)\u001b[0m\n\u001b[1;32m     76\u001b[0m     \u001b[38;5;28;01mreturn\u001b[39;00m i, \u001b[38;5;28;01mawait\u001b[39;00m f\n\u001b[1;32m     78\u001b[0m ifs \u001b[38;5;241m=\u001b[39m [wrap_awaitable(i, f) \u001b[38;5;28;01mfor\u001b[39;00m i, f \u001b[38;5;129;01min\u001b[39;00m \u001b[38;5;28menumerate\u001b[39m(fs)]\n\u001b[0;32m---> 79\u001b[0m res \u001b[38;5;241m=\u001b[39m [\u001b[38;5;28;01mawait\u001b[39;00m f \u001b[38;5;28;01mfor\u001b[39;00m f \u001b[38;5;129;01min\u001b[39;00m \u001b[38;5;28mcls\u001b[39m\u001b[38;5;241m.\u001b[39mas_completed(ifs, loop\u001b[38;5;241m=\u001b[39mloop, timeout\u001b[38;5;241m=\u001b[39mtimeout,\n\u001b[1;32m     80\u001b[0m                                          total\u001b[38;5;241m=\u001b[39mtotal, \u001b[38;5;241m*\u001b[39m\u001b[38;5;241m*\u001b[39mtqdm_kwargs)]\n\u001b[1;32m     81\u001b[0m \u001b[38;5;28;01mreturn\u001b[39;00m [i \u001b[38;5;28;01mfor\u001b[39;00m _, i \u001b[38;5;129;01min\u001b[39;00m \u001b[38;5;28msorted\u001b[39m(res)]\n",
      "File \u001b[0;32m/opt/conda/envs/magpie/lib/python3.10/asyncio/tasks.py:567\u001b[0m, in \u001b[0;36mas_completed.<locals>._wait_for_one\u001b[0;34m()\u001b[0m\n\u001b[1;32m    566\u001b[0m \u001b[38;5;28;01masync\u001b[39;00m \u001b[38;5;28;01mdef\u001b[39;00m\u001b[38;5;250m \u001b[39m\u001b[38;5;21m_wait_for_one\u001b[39m():\n\u001b[0;32m--> 567\u001b[0m     f \u001b[38;5;241m=\u001b[39m \u001b[38;5;28;01mawait\u001b[39;00m done\u001b[38;5;241m.\u001b[39mget()\n\u001b[1;32m    568\u001b[0m     \u001b[38;5;28;01mif\u001b[39;00m f \u001b[38;5;129;01mis\u001b[39;00m \u001b[38;5;28;01mNone\u001b[39;00m:\n\u001b[1;32m    569\u001b[0m         \u001b[38;5;66;03m# Dummy value from _on_timeout().\u001b[39;00m\n\u001b[1;32m    570\u001b[0m         \u001b[38;5;28;01mraise\u001b[39;00m exceptions\u001b[38;5;241m.\u001b[39mTimeoutError\n",
      "File \u001b[0;32m/opt/conda/envs/magpie/lib/python3.10/asyncio/queues.py:159\u001b[0m, in \u001b[0;36mQueue.get\u001b[0;34m(self)\u001b[0m\n\u001b[1;32m    157\u001b[0m \u001b[38;5;28mself\u001b[39m\u001b[38;5;241m.\u001b[39m_getters\u001b[38;5;241m.\u001b[39mappend(getter)\n\u001b[1;32m    158\u001b[0m \u001b[38;5;28;01mtry\u001b[39;00m:\n\u001b[0;32m--> 159\u001b[0m     \u001b[38;5;28;01mawait\u001b[39;00m getter\n\u001b[1;32m    160\u001b[0m \u001b[38;5;28;01mexcept\u001b[39;00m:\n\u001b[1;32m    161\u001b[0m     getter\u001b[38;5;241m.\u001b[39mcancel()  \u001b[38;5;66;03m# Just in case getter is not done yet.\u001b[39;00m\n",
      "File \u001b[0;32m/opt/conda/envs/magpie/lib/python3.10/asyncio/futures.py:285\u001b[0m, in \u001b[0;36mFuture.__await__\u001b[0;34m(self)\u001b[0m\n\u001b[1;32m    283\u001b[0m \u001b[38;5;28;01mif\u001b[39;00m \u001b[38;5;129;01mnot\u001b[39;00m \u001b[38;5;28mself\u001b[39m\u001b[38;5;241m.\u001b[39mdone():\n\u001b[1;32m    284\u001b[0m     \u001b[38;5;28mself\u001b[39m\u001b[38;5;241m.\u001b[39m_asyncio_future_blocking \u001b[38;5;241m=\u001b[39m \u001b[38;5;28;01mTrue\u001b[39;00m\n\u001b[0;32m--> 285\u001b[0m     \u001b[38;5;28;01myield\u001b[39;00m \u001b[38;5;28mself\u001b[39m  \u001b[38;5;66;03m# This tells Task to wait for completion.\u001b[39;00m\n\u001b[1;32m    286\u001b[0m \u001b[38;5;28;01mif\u001b[39;00m \u001b[38;5;129;01mnot\u001b[39;00m \u001b[38;5;28mself\u001b[39m\u001b[38;5;241m.\u001b[39mdone():\n\u001b[1;32m    287\u001b[0m     \u001b[38;5;28;01mraise\u001b[39;00m \u001b[38;5;167;01mRuntimeError\u001b[39;00m(\u001b[38;5;124m\"\u001b[39m\u001b[38;5;124mawait wasn\u001b[39m\u001b[38;5;124m'\u001b[39m\u001b[38;5;124mt used with future\u001b[39m\u001b[38;5;124m\"\u001b[39m)\n",
      "File \u001b[0;32m/opt/conda/envs/magpie/lib/python3.10/asyncio/tasks.py:304\u001b[0m, in \u001b[0;36mTask.__wakeup\u001b[0;34m(self, future)\u001b[0m\n\u001b[1;32m    302\u001b[0m \u001b[38;5;28;01mdef\u001b[39;00m\u001b[38;5;250m \u001b[39m\u001b[38;5;21m__wakeup\u001b[39m(\u001b[38;5;28mself\u001b[39m, future):\n\u001b[1;32m    303\u001b[0m     \u001b[38;5;28;01mtry\u001b[39;00m:\n\u001b[0;32m--> 304\u001b[0m         \u001b[43mfuture\u001b[49m\u001b[38;5;241;43m.\u001b[39;49m\u001b[43mresult\u001b[49m\u001b[43m(\u001b[49m\u001b[43m)\u001b[49m\n\u001b[1;32m    305\u001b[0m     \u001b[38;5;28;01mexcept\u001b[39;00m \u001b[38;5;167;01mBaseException\u001b[39;00m \u001b[38;5;28;01mas\u001b[39;00m exc:\n\u001b[1;32m    306\u001b[0m         \u001b[38;5;66;03m# This may also be a cancellation.\u001b[39;00m\n\u001b[1;32m    307\u001b[0m         \u001b[38;5;28mself\u001b[39m\u001b[38;5;241m.\u001b[39m__step(exc)\n",
      "File \u001b[0;32m/opt/conda/envs/magpie/lib/python3.10/asyncio/futures.py:196\u001b[0m, in \u001b[0;36mFuture.result\u001b[0;34m(self)\u001b[0m\n\u001b[1;32m    194\u001b[0m \u001b[38;5;28;01mif\u001b[39;00m \u001b[38;5;28mself\u001b[39m\u001b[38;5;241m.\u001b[39m_state \u001b[38;5;241m==\u001b[39m _CANCELLED:\n\u001b[1;32m    195\u001b[0m     exc \u001b[38;5;241m=\u001b[39m \u001b[38;5;28mself\u001b[39m\u001b[38;5;241m.\u001b[39m_make_cancelled_error()\n\u001b[0;32m--> 196\u001b[0m     \u001b[38;5;28;01mraise\u001b[39;00m exc\n\u001b[1;32m    197\u001b[0m \u001b[38;5;28;01mif\u001b[39;00m \u001b[38;5;28mself\u001b[39m\u001b[38;5;241m.\u001b[39m_state \u001b[38;5;241m!=\u001b[39m _FINISHED:\n\u001b[1;32m    198\u001b[0m     \u001b[38;5;28;01mraise\u001b[39;00m exceptions\u001b[38;5;241m.\u001b[39mInvalidStateError(\u001b[38;5;124m'\u001b[39m\u001b[38;5;124mResult is not ready.\u001b[39m\u001b[38;5;124m'\u001b[39m)\n",
      "\u001b[0;31mCancelledError\u001b[0m: "
     ]
    },
    {
     "name": "stdout",
     "output_type": "stream",
     "text": [
      "Unexpected error in trimAndLoadJson: Evaluation LLM outputted an invalid JSON. Please use a better evaluation model., retry 1/60\n",
      "Unexpected error in trimAndLoadJson: Evaluation LLM outputted an invalid JSON. Please use a better evaluation model., retry 1/60\n",
      "Unexpected error in trimAndLoadJson: Evaluation LLM outputted an invalid JSON. Please use a better evaluation model., retry 1/60\n",
      "Unexpected error in trimAndLoadJson: Evaluation LLM outputted an invalid JSON. Please use a better evaluation model., retry 1/60\n",
      "Unexpected error in trimAndLoadJson: Evaluation LLM outputted an invalid JSON. Please use a better evaluation model., retry 3/60\n",
      "Unexpected error in trimAndLoadJson: Evaluation LLM outputted an invalid JSON. Please use a better evaluation model., retry 1/60\n",
      "Unexpected error in trimAndLoadJson: Evaluation LLM outputted an invalid JSON. Please use a better evaluation model., retry 2/60\n",
      "Unexpected error in trimAndLoadJson: Evaluation LLM outputted an invalid JSON. Please use a better evaluation model., retry 1/60\n",
      "Unexpected error in trimAndLoadJson: Evaluation LLM outputted an invalid JSON. Please use a better evaluation model., retry 2/60\n",
      "Unexpected error in trimAndLoadJson: Evaluation LLM outputted an invalid JSON. Please use a better evaluation model., retry 2/60\n",
      "Unexpected error in trimAndLoadJson: Evaluation LLM outputted an invalid JSON. Please use a better evaluation model., retry 4/60\n",
      "Unexpected error in trimAndLoadJson: Evaluation LLM outputted an invalid JSON. Please use a better evaluation model., retry 2/60\n"
     ]
    }
   ],
   "source": [
    "results = await metric.ameasure(test_dataset)"
   ]
  },
  {
   "cell_type": "markdown",
   "metadata": {},
   "source": [
    "약 1200개의 달하는 test를 단 30초만에 모두 추론한 것을 확인할 수 있습니다!"
   ]
  },
  {
   "cell_type": "code",
   "execution_count": 16,
   "metadata": {},
   "outputs": [],
   "source": [
    "results.df.to_csv('qwen_32b_epoch0.csv', index=False)"
   ]
  },
  {
   "cell_type": "code",
   "execution_count": 17,
   "metadata": {},
   "outputs": [],
   "source": [
    "scores = sum([i.score for i in results]) / len(results)"
   ]
  },
  {
   "cell_type": "code",
   "execution_count": 18,
   "metadata": {},
   "outputs": [
    {
     "name": "stdout",
     "output_type": "stream",
     "text": [
      "0.7121967431040213\n"
     ]
    }
   ],
   "source": [
    "print(scores)"
   ]
  },
  {
   "cell_type": "code",
   "execution_count": 19,
   "metadata": {},
   "outputs": [],
   "source": [
    "custom_llm.shutdown()"
   ]
  },
  {
   "cell_type": "code",
   "execution_count": null,
   "metadata": {},
   "outputs": [
    {
     "name": "stdout",
     "output_type": "stream",
     "text": [
      "waiting llm server boot\n",
      "\n",
      "\n",
      "                    참고: 보통 서버는 별도의 터미널에서 실행됩니다.\n",
      "                    현재 CI 병렬 환경에서 실행 중이므로 실제 성능과는 차이가 있을 수 있습니다.\n",
      "                    \n"
     ]
    },
    {
     "ename": "NameError",
     "evalue": "name 'metric' is not defined",
     "output_type": "error",
     "traceback": [
      "\u001b[0;31m---------------------------------------------------------------------------\u001b[0m",
      "\u001b[0;31mNameError\u001b[0m                                 Traceback (most recent call last)",
      "Cell \u001b[0;32mIn[7], line 13\u001b[0m\n\u001b[1;32m     10\u001b[0m \u001b[38;5;66;03m# localllm은 서버를 local에서 실행시키기 때문에 부팅되는 시간이 존재합니다.\u001b[39;00m\n\u001b[1;32m     11\u001b[0m custom_llm \u001b[38;5;241m=\u001b[39m LLMFactory\u001b[38;5;241m.\u001b[39mcreate_llm(custom_config, temperature\u001b[38;5;241m=\u001b[39m\u001b[38;5;241m0.5\u001b[39m)\n\u001b[0;32m---> 13\u001b[0m results \u001b[38;5;241m=\u001b[39m \u001b[38;5;28;01mawait\u001b[39;00m metric\u001b[38;5;241m.\u001b[39mameasure(test_dataset)\n\u001b[1;32m     15\u001b[0m custom_llm\u001b[38;5;241m.\u001b[39mshutdown()\n\u001b[1;32m     17\u001b[0m results\u001b[38;5;241m.\u001b[39mdf\u001b[38;5;241m.\u001b[39mto_csv(\u001b[38;5;124m'\u001b[39m\u001b[38;5;124mqwen_32b_epoch1.csv\u001b[39m\u001b[38;5;124m'\u001b[39m, index\u001b[38;5;241m=\u001b[39m\u001b[38;5;28;01mFalse\u001b[39;00m)\n",
      "\u001b[0;31mNameError\u001b[0m: name 'metric' is not defined"
     ]
    }
   ],
   "source": [
    "test_dataset = LLMDataset.from_huggingface_hub('sickgpt/015_KorMedMCQA_test', split='train')\n",
    "\n",
    "# 커스텀 모델 설정 생성\n",
    "custom_config = LocalModelConfig(\n",
    "    model_name=\"Qwen/Qwen2.5-32B-Instruct\",\n",
    "    lora_model_path=\"/workspace/project/2025/model/llm/sickllm/qwen_32b_lora_ver1/epoch_1\",\n",
    "    lora_name=\"qwen\",\n",
    ")\n",
    "\n",
    "# localllm은 서버를 local에서 실행시키기 때문에 부팅되는 시간이 존재합니다.\n",
    "custom_llm = LLMFactory.create_llm(custom_config, temperature=0)\n",
    "# custom_llm.shutdown()"
   ]
  },
  {
   "cell_type": "code",
   "execution_count": 9,
   "metadata": {},
   "outputs": [
    {
     "name": "stderr",
     "output_type": "stream",
     "text": [
      " 10%|▉         | 292/3009 [03:52<20:16,  2.23it/s]   "
     ]
    },
    {
     "name": "stdout",
     "output_type": "stream",
     "text": [
      "Unexpected error in trimAndLoadJson: Evaluation LLM outputted an invalid JSON. Please use a better evaluation model., retry 1/60\n"
     ]
    },
    {
     "name": "stderr",
     "output_type": "stream",
     "text": [
      " 12%|█▏        | 360/3009 [04:19<15:36,  2.83it/s]"
     ]
    },
    {
     "ename": "CancelledError",
     "evalue": "",
     "output_type": "error",
     "traceback": [
      "\u001b[0;31m---------------------------------------------------------------------------\u001b[0m",
      "\u001b[0;31mCancelledError\u001b[0m                            Traceback (most recent call last)",
      "Cell \u001b[0;32mIn[9], line 1\u001b[0m\n\u001b[0;32m----> 1\u001b[0m results \u001b[38;5;241m=\u001b[39m \u001b[38;5;28;01mawait\u001b[39;00m metric\u001b[38;5;241m.\u001b[39mameasure(test_dataset)\n\u001b[1;32m      3\u001b[0m custom_llm\u001b[38;5;241m.\u001b[39mshutdown()\n\u001b[1;32m      5\u001b[0m results\u001b[38;5;241m.\u001b[39mdf\u001b[38;5;241m.\u001b[39mto_csv(\u001b[38;5;124m'\u001b[39m\u001b[38;5;124mqwen_32b_epoch1.csv\u001b[39m\u001b[38;5;124m'\u001b[39m, index\u001b[38;5;241m=\u001b[39m\u001b[38;5;28;01mFalse\u001b[39;00m)\n",
      "File \u001b[0;32m/workspace/langmetrics/src/langmetrics/metrics/mcq_choice/mcq_metric.py:160\u001b[0m, in \u001b[0;36mMCQMetric.ameasure\u001b[0;34m(self, testcase, max_concurrent)\u001b[0m\n\u001b[1;32m    158\u001b[0m \u001b[38;5;66;03m# validate case\u001b[39;00m\n\u001b[1;32m    159\u001b[0m tasks \u001b[38;5;241m=\u001b[39m [\u001b[38;5;28mself\u001b[39m\u001b[38;5;241m.\u001b[39m_a_process_single_case(case) \u001b[38;5;28;01mfor\u001b[39;00m case \u001b[38;5;129;01min\u001b[39;00m testcases]\n\u001b[0;32m--> 160\u001b[0m results \u001b[38;5;241m=\u001b[39m \u001b[38;5;28;01mawait\u001b[39;00m \u001b[38;5;28mself\u001b[39m\u001b[38;5;241m.\u001b[39mgather_with_concurrency(\n\u001b[1;32m    161\u001b[0m     max_concurrent \u001b[38;5;129;01mor\u001b[39;00m \u001b[38;5;28mself\u001b[39m\u001b[38;5;241m.\u001b[39msemaphore\u001b[38;5;241m.\u001b[39m_value, \n\u001b[1;32m    162\u001b[0m     \u001b[38;5;241m*\u001b[39mtasks\n\u001b[1;32m    163\u001b[0m )\n\u001b[1;32m    164\u001b[0m \u001b[38;5;28;01mreturn\u001b[39;00m results[\u001b[38;5;241m0\u001b[39m] \u001b[38;5;28;01mif\u001b[39;00m \u001b[38;5;28misinstance\u001b[39m(testcase, LLMTestCase) \u001b[38;5;28;01melse\u001b[39;00m ResultDataset(results)\n",
      "File \u001b[0;32m/workspace/langmetrics/src/langmetrics/metrics/base_metric.py:174\u001b[0m, in \u001b[0;36mBaseMetric.gather_with_concurrency\u001b[0;34m(self, n, *coros)\u001b[0m\n\u001b[1;32m    171\u001b[0m     \u001b[38;5;28;01masync\u001b[39;00m \u001b[38;5;28;01mwith\u001b[39;00m sem:\n\u001b[1;32m    172\u001b[0m         \u001b[38;5;28;01mreturn\u001b[39;00m \u001b[38;5;28;01mawait\u001b[39;00m coro\n\u001b[0;32m--> 174\u001b[0m \u001b[38;5;28;01mreturn\u001b[39;00m \u001b[38;5;28;01mawait\u001b[39;00m tqdm\u001b[38;5;241m.\u001b[39mgather(\u001b[38;5;241m*\u001b[39m(gated_coro(semaphore, c) \u001b[38;5;28;01mfor\u001b[39;00m c \u001b[38;5;129;01min\u001b[39;00m coros))\n",
      "File \u001b[0;32m/opt/conda/envs/magpie/lib/python3.10/site-packages/tqdm/asyncio.py:79\u001b[0m, in \u001b[0;36mtqdm_asyncio.gather\u001b[0;34m(cls, loop, timeout, total, *fs, **tqdm_kwargs)\u001b[0m\n\u001b[1;32m     76\u001b[0m     \u001b[38;5;28;01mreturn\u001b[39;00m i, \u001b[38;5;28;01mawait\u001b[39;00m f\n\u001b[1;32m     78\u001b[0m ifs \u001b[38;5;241m=\u001b[39m [wrap_awaitable(i, f) \u001b[38;5;28;01mfor\u001b[39;00m i, f \u001b[38;5;129;01min\u001b[39;00m \u001b[38;5;28menumerate\u001b[39m(fs)]\n\u001b[0;32m---> 79\u001b[0m res \u001b[38;5;241m=\u001b[39m [\u001b[38;5;28;01mawait\u001b[39;00m f \u001b[38;5;28;01mfor\u001b[39;00m f \u001b[38;5;129;01min\u001b[39;00m \u001b[38;5;28mcls\u001b[39m\u001b[38;5;241m.\u001b[39mas_completed(ifs, loop\u001b[38;5;241m=\u001b[39mloop, timeout\u001b[38;5;241m=\u001b[39mtimeout,\n\u001b[1;32m     80\u001b[0m                                          total\u001b[38;5;241m=\u001b[39mtotal, \u001b[38;5;241m*\u001b[39m\u001b[38;5;241m*\u001b[39mtqdm_kwargs)]\n\u001b[1;32m     81\u001b[0m \u001b[38;5;28;01mreturn\u001b[39;00m [i \u001b[38;5;28;01mfor\u001b[39;00m _, i \u001b[38;5;129;01min\u001b[39;00m \u001b[38;5;28msorted\u001b[39m(res)]\n",
      "File \u001b[0;32m/opt/conda/envs/magpie/lib/python3.10/site-packages/tqdm/asyncio.py:79\u001b[0m, in \u001b[0;36m<listcomp>\u001b[0;34m(.0)\u001b[0m\n\u001b[1;32m     76\u001b[0m     \u001b[38;5;28;01mreturn\u001b[39;00m i, \u001b[38;5;28;01mawait\u001b[39;00m f\n\u001b[1;32m     78\u001b[0m ifs \u001b[38;5;241m=\u001b[39m [wrap_awaitable(i, f) \u001b[38;5;28;01mfor\u001b[39;00m i, f \u001b[38;5;129;01min\u001b[39;00m \u001b[38;5;28menumerate\u001b[39m(fs)]\n\u001b[0;32m---> 79\u001b[0m res \u001b[38;5;241m=\u001b[39m [\u001b[38;5;28;01mawait\u001b[39;00m f \u001b[38;5;28;01mfor\u001b[39;00m f \u001b[38;5;129;01min\u001b[39;00m \u001b[38;5;28mcls\u001b[39m\u001b[38;5;241m.\u001b[39mas_completed(ifs, loop\u001b[38;5;241m=\u001b[39mloop, timeout\u001b[38;5;241m=\u001b[39mtimeout,\n\u001b[1;32m     80\u001b[0m                                          total\u001b[38;5;241m=\u001b[39mtotal, \u001b[38;5;241m*\u001b[39m\u001b[38;5;241m*\u001b[39mtqdm_kwargs)]\n\u001b[1;32m     81\u001b[0m \u001b[38;5;28;01mreturn\u001b[39;00m [i \u001b[38;5;28;01mfor\u001b[39;00m _, i \u001b[38;5;129;01min\u001b[39;00m \u001b[38;5;28msorted\u001b[39m(res)]\n",
      "File \u001b[0;32m/opt/conda/envs/magpie/lib/python3.10/asyncio/tasks.py:567\u001b[0m, in \u001b[0;36mas_completed.<locals>._wait_for_one\u001b[0;34m()\u001b[0m\n\u001b[1;32m    566\u001b[0m \u001b[38;5;28;01masync\u001b[39;00m \u001b[38;5;28;01mdef\u001b[39;00m\u001b[38;5;250m \u001b[39m\u001b[38;5;21m_wait_for_one\u001b[39m():\n\u001b[0;32m--> 567\u001b[0m     f \u001b[38;5;241m=\u001b[39m \u001b[38;5;28;01mawait\u001b[39;00m done\u001b[38;5;241m.\u001b[39mget()\n\u001b[1;32m    568\u001b[0m     \u001b[38;5;28;01mif\u001b[39;00m f \u001b[38;5;129;01mis\u001b[39;00m \u001b[38;5;28;01mNone\u001b[39;00m:\n\u001b[1;32m    569\u001b[0m         \u001b[38;5;66;03m# Dummy value from _on_timeout().\u001b[39;00m\n\u001b[1;32m    570\u001b[0m         \u001b[38;5;28;01mraise\u001b[39;00m exceptions\u001b[38;5;241m.\u001b[39mTimeoutError\n",
      "File \u001b[0;32m/opt/conda/envs/magpie/lib/python3.10/asyncio/queues.py:159\u001b[0m, in \u001b[0;36mQueue.get\u001b[0;34m(self)\u001b[0m\n\u001b[1;32m    157\u001b[0m \u001b[38;5;28mself\u001b[39m\u001b[38;5;241m.\u001b[39m_getters\u001b[38;5;241m.\u001b[39mappend(getter)\n\u001b[1;32m    158\u001b[0m \u001b[38;5;28;01mtry\u001b[39;00m:\n\u001b[0;32m--> 159\u001b[0m     \u001b[38;5;28;01mawait\u001b[39;00m getter\n\u001b[1;32m    160\u001b[0m \u001b[38;5;28;01mexcept\u001b[39;00m:\n\u001b[1;32m    161\u001b[0m     getter\u001b[38;5;241m.\u001b[39mcancel()  \u001b[38;5;66;03m# Just in case getter is not done yet.\u001b[39;00m\n",
      "\u001b[0;31mCancelledError\u001b[0m: "
     ]
    },
    {
     "name": "stdout",
     "output_type": "stream",
     "text": [
      "Unexpected error in trimAndLoadJson: Evaluation LLM outputted an invalid JSON. Please use a better evaluation model., retry 1/60\n",
      "Unexpected error in trimAndLoadJson: Evaluation LLM outputted an invalid JSON. Please use a better evaluation model., retry 1/60\n",
      "Unexpected error in trimAndLoadJson: Evaluation LLM outputted an invalid JSON. Please use a better evaluation model., retry 1/60\n",
      "Unexpected error in trimAndLoadJson: Evaluation LLM outputted an invalid JSON. Please use a better evaluation model., retry 1/60\n",
      "Unexpected error in trimAndLoadJson: Evaluation LLM outputted an invalid JSON. Please use a better evaluation model., retry 1/60\n",
      "Unexpected error in trimAndLoadJson: Evaluation LLM outputted an invalid JSON. Please use a better evaluation model., retry 1/60\n",
      "API Error: Connection error., retry 1/60\n",
      "API Error: Connection error., retry 1/60\n",
      "API Error: Connection error., retry 1/60\n",
      "API Error: Connection error., retry 1/60\n",
      "API Error: Connection error., retry 1/60\n",
      "API Error: Connection error., retry 2/60\n",
      "API Error: Connection error., retry 1/60\n",
      "API Error: Connection error., retry 1/60\n",
      "API Error: Connection error., retry 1/60\n",
      "API Error: Connection error., retry 1/60\n",
      "API Error: Connection error., retry 1/60\n",
      "API Error: Connection error., retry 1/60\n",
      "API Error: Connection error., retry 1/60\n",
      "API Error: Connection error., retry 1/60\n",
      "API Error: Connection error., retry 1/60\n",
      "API Error: Connection error., retry 1/60\n",
      "API Error: Connection error., retry 1/60\n",
      "API Error: Connection error., retry 1/60\n",
      "API Error: Connection error., retry 1/60\n",
      "API Error: Connection error., retry 1/60\n",
      "API Error: Connection error., retry 1/60\n",
      "API Error: Connection error., retry 1/60\n",
      "API Error: Connection error., retry 1/60\n",
      "API Error: Connection error., retry 1/60\n",
      "API Error: Connection error., retry 1/60\n",
      "API Error: Connection error., retry 1/60\n",
      "API Error: Connection error., retry 1/60\n",
      "API Error: Connection error., retry 1/60\n",
      "API Error: Connection error., retry 2/60\n",
      "API Error: Connection error., retry 1/60\n",
      "API Error: Connection error., retry 1/60\n",
      "API Error: Connection error., retry 1/60\n",
      "API Error: Connection error., retry 1/60\n",
      "API Error: Connection error., retry 1/60\n",
      "API Error: Connection error., retry 1/60\n",
      "API Error: Connection error., retry 1/60\n",
      "API Error: Connection error., retry 2/60\n",
      "API Error: Connection error., retry 1/60\n",
      "API Error: Connection error., retry 2/60\n",
      "API Error: Connection error., retry 1/60\n",
      "API Error: Connection error., retry 1/60\n",
      "API Error: Connection error., retry 1/60\n",
      "API Error: Connection error., retry 1/60\n",
      "API Error: Connection error., retry 1/60\n",
      "API Error: Connection error., retry 1/60\n",
      "API Error: Connection error., retry 1/60\n",
      "API Error: Connection error., retry 1/60\n",
      "API Error: Connection error., retry 1/60\n",
      "API Error: Connection error., retry 1/60\n",
      "API Error: Connection error., retry 1/60\n",
      "API Error: Connection error., retry 1/60\n",
      "API Error: Connection error., retry 1/60\n",
      "API Error: Connection error., retry 2/60\n",
      "API Error: Connection error., retry 1/60\n",
      "API Error: Connection error., retry 1/60\n",
      "API Error: Connection error., retry 1/60\n",
      "API Error: Connection error., retry 1/60\n",
      "API Error: Connection error., retry 1/60\n",
      "API Error: Connection error., retry 1/60\n",
      "API Error: Connection error., retry 1/60\n",
      "API Error: Connection error., retry 1/60\n",
      "API Error: Connection error., retry 2/60\n",
      "API Error: Connection error., retry 1/60\n",
      "API Error: Connection error., retry 1/60\n",
      "API Error: Connection error., retry 1/60\n",
      "API Error: Connection error., retry 1/60\n",
      "API Error: Connection error., retry 1/60\n",
      "API Error: Connection error., retry 1/60\n",
      "API Error: Connection error., retry 1/60\n",
      "API Error: Connection error., retry 1/60\n",
      "API Error: Connection error., retry 1/60\n",
      "API Error: Connection error., retry 1/60\n",
      "API Error: Connection error., retry 1/60\n",
      "API Error: Connection error., retry 1/60\n",
      "API Error: Connection error., retry 1/60\n",
      "API Error: Connection error., retry 1/60\n",
      "API Error: Connection error., retry 1/60\n",
      "API Error: Connection error., retry 1/60\n",
      "API Error: Connection error., retry 1/60\n",
      "API Error: Connection error., retry 1/60\n",
      "API Error: Connection error., retry 1/60\n",
      "API Error: Connection error., retry 1/60\n",
      "API Error: Connection error., retry 1/60\n",
      "API Error: Connection error., retry 1/60\n",
      "API Error: Connection error., retry 1/60\n",
      "API Error: Connection error., retry 1/60\n",
      "API Error: Connection error., retry 1/60\n",
      "API Error: Connection error., retry 1/60\n",
      "API Error: Connection error., retry 1/60\n",
      "API Error: Connection error., retry 1/60\n",
      "API Error: Connection error., retry 1/60\n",
      "API Error: Connection error., retry 1/60\n",
      "API Error: Connection error., retry 1/60\n",
      "API Error: Connection error., retry 1/60\n",
      "API Error: Connection error., retry 1/60\n",
      "API Error: Connection error., retry 1/60\n",
      "API Error: Connection error., retry 1/60\n",
      "API Error: Connection error., retry 1/60\n",
      "API Error: Connection error., retry 1/60\n",
      "API Error: Connection error., retry 1/60\n",
      "API Error: Connection error., retry 1/60\n",
      "API Error: Connection error., retry 1/60\n",
      "API Error: Connection error., retry 1/60\n",
      "API Error: Connection error., retry 1/60\n",
      "API Error: Connection error., retry 1/60\n",
      "API Error: Connection error., retry 1/60\n",
      "API Error: Connection error., retry 1/60\n",
      "API Error: Connection error., retry 1/60\n",
      "API Error: Connection error., retry 1/60\n",
      "API Error: Connection error., retry 1/60\n",
      "API Error: Connection error., retry 1/60\n",
      "API Error: Connection error., retry 1/60\n",
      "API Error: Connection error., retry 1/60\n",
      "API Error: Connection error., retry 1/60\n",
      "API Error: Connection error., retry 1/60\n",
      "API Error: Connection error., retry 1/60\n",
      "API Error: Connection error., retry 1/60\n",
      "API Error: Connection error., retry 1/60\n",
      "API Error: Connection error., retry 1/60\n",
      "API Error: Connection error., retry 1/60\n",
      "API Error: Connection error., retry 1/60\n",
      "API Error: Connection error., retry 1/60\n",
      "API Error: Connection error., retry 1/60\n",
      "API Error: Connection error., retry 1/60\n",
      "API Error: Connection error., retry 1/60\n",
      "API Error: Connection error., retry 1/60\n",
      "API Error: Connection error., retry 1/60\n",
      "API Error: Connection error., retry 1/60\n",
      "API Error: Connection error., retry 1/60\n",
      "API Error: Connection error., retry 1/60\n",
      "API Error: Connection error., retry 1/60\n",
      "API Error: Connection error., retry 1/60\n",
      "API Error: Connection error., retry 1/60\n",
      "API Error: Connection error., retry 1/60\n",
      "API Error: Connection error., retry 1/60\n",
      "API Error: Connection error., retry 1/60\n",
      "API Error: Connection error., retry 1/60\n",
      "API Error: Connection error., retry 1/60\n",
      "API Error: Connection error., retry 1/60\n",
      "API Error: Connection error., retry 1/60\n",
      "API Error: Connection error., retry 1/60\n",
      "API Error: Connection error., retry 1/60\n",
      "API Error: Connection error., retry 1/60\n",
      "API Error: Connection error., retry 1/60\n",
      "API Error: Connection error., retry 1/60\n",
      "API Error: Connection error., retry 1/60\n",
      "API Error: Connection error., retry 1/60\n",
      "API Error: Connection error., retry 1/60\n",
      "API Error: Connection error., retry 1/60\n",
      "API Error: Connection error., retry 1/60\n",
      "API Error: Connection error., retry 1/60\n",
      "API Error: Connection error., retry 1/60\n",
      "API Error: Connection error., retry 1/60\n",
      "API Error: Connection error., retry 1/60\n",
      "API Error: Connection error., retry 1/60\n",
      "API Error: Connection error., retry 1/60\n",
      "API Error: Connection error., retry 1/60\n",
      "API Error: Connection error., retry 1/60\n",
      "API Error: Connection error., retry 1/60\n",
      "API Error: Connection error., retry 1/60\n",
      "API Error: Connection error., retry 1/60\n",
      "API Error: Connection error., retry 1/60\n",
      "API Error: Connection error., retry 1/60\n",
      "API Error: Connection error., retry 1/60\n",
      "API Error: Connection error., retry 1/60\n",
      "API Error: Connection error., retry 1/60\n",
      "API Error: Connection error., retry 1/60\n",
      "API Error: Connection error., retry 1/60\n",
      "API Error: Connection error., retry 1/60\n",
      "API Error: Connection error., retry 1/60\n",
      "API Error: Connection error., retry 1/60\n",
      "API Error: Connection error., retry 1/60\n",
      "API Error: Connection error., retry 1/60\n",
      "API Error: Connection error., retry 1/60\n",
      "API Error: Connection error., retry 1/60\n",
      "API Error: Connection error., retry 1/60\n",
      "API Error: Connection error., retry 1/60\n",
      "API Error: Connection error., retry 1/60\n",
      "API Error: Connection error., retry 1/60\n",
      "API Error: Connection error., retry 1/60\n",
      "API Error: Connection error., retry 1/60\n",
      "API Error: Connection error., retry 1/60\n",
      "API Error: Connection error., retry 1/60\n",
      "API Error: Connection error., retry 1/60\n",
      "API Error: Connection error., retry 1/60\n",
      "API Error: Connection error., retry 1/60\n",
      "API Error: Connection error., retry 1/60\n",
      "API Error: Connection error., retry 1/60\n",
      "API Error: Connection error., retry 1/60\n",
      "API Error: Connection error., retry 1/60\n",
      "API Error: Connection error., retry 1/60\n",
      "API Error: Connection error., retry 1/60\n",
      "API Error: Connection error., retry 1/60\n",
      "API Error: Connection error., retry 1/60\n",
      "API Error: Connection error., retry 1/60\n",
      "API Error: Connection error., retry 1/60\n",
      "API Error: Connection error., retry 1/60\n",
      "API Error: Connection error., retry 1/60\n",
      "API Error: Connection error., retry 1/60\n",
      "API Error: Connection error., retry 1/60\n",
      "API Error: Connection error., retry 1/60\n",
      "API Error: Connection error., retry 1/60\n",
      "API Error: Connection error., retry 1/60\n",
      "API Error: Connection error., retry 1/60\n",
      "API Error: Connection error., retry 1/60\n",
      "API Error: Connection error., retry 1/60\n",
      "API Error: Connection error., retry 1/60\n",
      "API Error: Connection error., retry 1/60\n",
      "API Error: Connection error., retry 1/60\n",
      "API Error: Connection error., retry 1/60\n",
      "API Error: Connection error., retry 1/60\n",
      "API Error: Connection error., retry 1/60\n",
      "API Error: Connection error., retry 1/60\n",
      "API Error: Connection error., retry 1/60\n",
      "API Error: Connection error., retry 1/60\n",
      "API Error: Connection error., retry 1/60\n",
      "API Error: Connection error., retry 1/60\n",
      "API Error: Connection error., retry 1/60\n",
      "API Error: Connection error., retry 1/60\n",
      "API Error: Connection error., retry 1/60\n",
      "API Error: Connection error., retry 1/60\n",
      "API Error: Connection error., retry 1/60\n",
      "API Error: Connection error., retry 1/60\n",
      "API Error: Connection error., retry 1/60\n",
      "API Error: Connection error., retry 1/60\n",
      "API Error: Connection error., retry 1/60\n",
      "API Error: Connection error., retry 1/60\n",
      "API Error: Connection error., retry 1/60\n",
      "API Error: Connection error., retry 1/60\n",
      "API Error: Connection error., retry 1/60\n",
      "API Error: Connection error., retry 1/60\n",
      "API Error: Connection error., retry 1/60\n",
      "API Error: Connection error., retry 1/60\n",
      "API Error: Connection error., retry 1/60\n",
      "API Error: Connection error., retry 1/60\n",
      "API Error: Connection error., retry 1/60\n",
      "API Error: Connection error., retry 1/60\n",
      "API Error: Connection error., retry 1/60\n",
      "API Error: Connection error., retry 1/60\n",
      "API Error: Connection error., retry 1/60\n",
      "API Error: Connection error., retry 1/60\n",
      "API Error: Connection error., retry 1/60\n",
      "API Error: Connection error., retry 1/60\n",
      "API Error: Connection error., retry 1/60\n",
      "API Error: Connection error., retry 1/60\n",
      "API Error: Connection error., retry 1/60\n",
      "API Error: Connection error., retry 1/60\n",
      "API Error: Connection error., retry 1/60\n",
      "API Error: Connection error., retry 1/60\n",
      "API Error: Connection error., retry 1/60\n",
      "API Error: Connection error., retry 1/60\n",
      "API Error: Connection error., retry 1/60\n",
      "API Error: Connection error., retry 1/60\n",
      "API Error: Connection error., retry 1/60\n",
      "API Error: Connection error., retry 1/60\n",
      "API Error: Connection error., retry 1/60\n",
      "API Error: Connection error., retry 1/60\n",
      "API Error: Connection error., retry 1/60\n",
      "API Error: Connection error., retry 1/60\n",
      "API Error: Connection error., retry 1/60\n",
      "API Error: Connection error., retry 1/60\n",
      "API Error: Connection error., retry 1/60\n",
      "API Error: Connection error., retry 1/60\n",
      "API Error: Connection error., retry 1/60\n",
      "API Error: Connection error., retry 1/60\n",
      "API Error: Connection error., retry 1/60\n",
      "API Error: Connection error., retry 1/60\n",
      "API Error: Connection error., retry 1/60\n",
      "API Error: Connection error., retry 1/60\n",
      "API Error: Connection error., retry 1/60\n",
      "API Error: Connection error., retry 1/60\n",
      "API Error: Connection error., retry 1/60\n",
      "API Error: Connection error., retry 1/60\n",
      "API Error: Connection error., retry 1/60\n",
      "API Error: Connection error., retry 1/60\n",
      "API Error: Connection error., retry 1/60\n",
      "API Error: Connection error., retry 1/60\n",
      "API Error: Connection error., retry 1/60\n",
      "API Error: Connection error., retry 1/60\n",
      "API Error: Connection error., retry 1/60\n",
      "API Error: Connection error., retry 1/60\n",
      "API Error: Connection error., retry 1/60\n",
      "API Error: Connection error., retry 1/60\n",
      "API Error: Connection error., retry 1/60\n",
      "API Error: Connection error., retry 1/60\n",
      "API Error: Connection error., retry 1/60\n",
      "API Error: Connection error., retry 1/60\n",
      "API Error: Connection error., retry 1/60\n",
      "API Error: Connection error., retry 1/60\n",
      "API Error: Connection error., retry 1/60\n",
      "API Error: Connection error., retry 1/60\n",
      "API Error: Connection error., retry 1/60\n",
      "API Error: Connection error., retry 1/60\n",
      "API Error: Connection error., retry 1/60\n",
      "API Error: Connection error., retry 1/60\n",
      "API Error: Connection error., retry 1/60\n",
      "API Error: Connection error., retry 1/60\n",
      "API Error: Connection error., retry 1/60\n",
      "API Error: Connection error., retry 1/60\n",
      "API Error: Connection error., retry 1/60\n",
      "API Error: Connection error., retry 1/60\n",
      "API Error: Connection error., retry 1/60\n",
      "API Error: Connection error., retry 1/60\n",
      "API Error: Connection error., retry 1/60\n",
      "API Error: Connection error., retry 1/60\n",
      "API Error: Connection error., retry 1/60\n",
      "API Error: Connection error., retry 1/60\n",
      "API Error: Connection error., retry 1/60\n",
      "API Error: Connection error., retry 1/60\n",
      "API Error: Connection error., retry 1/60\n",
      "API Error: Connection error., retry 1/60\n",
      "API Error: Connection error., retry 1/60\n",
      "API Error: Connection error., retry 1/60\n",
      "API Error: Connection error., retry 1/60\n",
      "API Error: Connection error., retry 1/60\n",
      "API Error: Connection error., retry 1/60\n",
      "API Error: Connection error., retry 1/60\n",
      "API Error: Connection error., retry 1/60\n",
      "API Error: Connection error., retry 1/60\n",
      "API Error: Connection error., retry 1/60\n",
      "API Error: Connection error., retry 1/60\n",
      "API Error: Connection error., retry 1/60\n",
      "API Error: Connection error., retry 1/60\n",
      "API Error: Connection error., retry 1/60\n",
      "API Error: Connection error., retry 1/60\n",
      "API Error: Connection error., retry 1/60\n",
      "API Error: Connection error., retry 1/60\n",
      "API Error: Connection error., retry 1/60\n",
      "API Error: Connection error., retry 1/60\n",
      "API Error: Connection error., retry 1/60\n",
      "API Error: Connection error., retry 1/60\n",
      "API Error: Connection error., retry 1/60\n",
      "API Error: Connection error., retry 1/60\n",
      "API Error: Connection error., retry 1/60\n",
      "API Error: Connection error., retry 1/60\n",
      "API Error: Connection error., retry 1/60\n",
      "API Error: Connection error., retry 1/60\n",
      "API Error: Connection error., retry 1/60\n",
      "API Error: Connection error., retry 1/60\n",
      "API Error: Connection error., retry 1/60\n",
      "API Error: Connection error., retry 1/60\n",
      "API Error: Connection error., retry 1/60\n",
      "API Error: Connection error., retry 1/60\n",
      "API Error: Connection error., retry 1/60\n",
      "API Error: Connection error., retry 1/60\n",
      "API Error: Connection error., retry 1/60\n",
      "API Error: Connection error., retry 1/60\n",
      "API Error: Connection error., retry 1/60\n",
      "API Error: Connection error., retry 1/60\n",
      "API Error: Connection error., retry 1/60\n",
      "API Error: Connection error., retry 1/60\n",
      "API Error: Connection error., retry 1/60\n",
      "API Error: Connection error., retry 1/60\n",
      "API Error: Connection error., retry 1/60\n",
      "API Error: Connection error., retry 1/60\n",
      "API Error: Connection error., retry 1/60\n",
      "API Error: Connection error., retry 1/60\n",
      "API Error: Connection error., retry 1/60\n",
      "API Error: Connection error., retry 1/60\n",
      "API Error: Connection error., retry 1/60\n",
      "API Error: Connection error., retry 1/60\n",
      "API Error: Connection error., retry 1/60\n",
      "API Error: Connection error., retry 1/60\n",
      "API Error: Connection error., retry 1/60\n",
      "API Error: Connection error., retry 1/60\n",
      "API Error: Connection error., retry 1/60\n",
      "API Error: Connection error., retry 1/60\n",
      "API Error: Connection error., retry 1/60\n",
      "API Error: Connection error., retry 1/60\n",
      "API Error: Connection error., retry 1/60\n",
      "API Error: Connection error., retry 1/60\n",
      "API Error: Connection error., retry 1/60\n",
      "API Error: Connection error., retry 1/60\n",
      "API Error: Connection error., retry 1/60\n",
      "API Error: Connection error., retry 1/60\n",
      "API Error: Connection error., retry 1/60\n",
      "API Error: Connection error., retry 1/60\n",
      "API Error: Connection error., retry 1/60\n",
      "API Error: Connection error., retry 1/60\n",
      "API Error: Connection error., retry 1/60\n",
      "API Error: Connection error., retry 1/60\n",
      "API Error: Connection error., retry 1/60\n",
      "API Error: Connection error., retry 1/60\n",
      "API Error: Connection error., retry 1/60\n",
      "API Error: Connection error., retry 1/60\n",
      "API Error: Connection error., retry 1/60\n",
      "API Error: Connection error., retry 1/60\n",
      "API Error: Connection error., retry 1/60\n",
      "API Error: Connection error., retry 1/60\n",
      "API Error: Connection error., retry 1/60\n",
      "API Error: Connection error., retry 1/60\n",
      "API Error: Connection error., retry 1/60\n",
      "API Error: Connection error., retry 1/60\n",
      "API Error: Connection error., retry 1/60\n",
      "API Error: Connection error., retry 1/60\n",
      "API Error: Connection error., retry 1/60\n",
      "API Error: Connection error., retry 1/60\n",
      "API Error: Connection error., retry 1/60\n",
      "API Error: Connection error., retry 1/60\n",
      "API Error: Connection error., retry 1/60\n",
      "API Error: Connection error., retry 1/60\n",
      "API Error: Connection error., retry 1/60\n",
      "API Error: Connection error., retry 1/60\n",
      "API Error: Connection error., retry 1/60\n",
      "API Error: Connection error., retry 1/60\n",
      "API Error: Connection error., retry 1/60\n",
      "API Error: Connection error., retry 1/60\n",
      "API Error: Connection error., retry 1/60\n",
      "API Error: Connection error., retry 1/60\n",
      "API Error: Connection error., retry 1/60\n",
      "API Error: Connection error., retry 1/60\n",
      "API Error: Connection error., retry 1/60\n",
      "API Error: Connection error., retry 1/60\n",
      "API Error: Connection error., retry 1/60\n",
      "API Error: Connection error., retry 1/60\n",
      "API Error: Connection error., retry 1/60\n",
      "API Error: Connection error., retry 1/60\n",
      "API Error: Connection error., retry 1/60\n",
      "API Error: Connection error., retry 1/60\n",
      "API Error: Connection error., retry 1/60\n",
      "API Error: Connection error., retry 1/60\n",
      "API Error: Connection error., retry 1/60\n",
      "API Error: Connection error., retry 1/60\n",
      "API Error: Connection error., retry 1/60\n",
      "API Error: Connection error., retry 1/60\n",
      "API Error: Connection error., retry 1/60\n",
      "API Error: Connection error., retry 1/60\n",
      "API Error: Connection error., retry 1/60\n",
      "API Error: Connection error., retry 1/60\n",
      "API Error: Connection error., retry 1/60\n",
      "API Error: Connection error., retry 1/60\n",
      "API Error: Connection error., retry 1/60\n",
      "API Error: Connection error., retry 1/60\n",
      "API Error: Connection error., retry 1/60\n",
      "API Error: Connection error., retry 1/60\n",
      "API Error: Connection error., retry 1/60\n",
      "API Error: Connection error., retry 1/60\n",
      "API Error: Connection error., retry 1/60\n",
      "API Error: Connection error., retry 1/60\n",
      "API Error: Connection error., retry 1/60\n",
      "API Error: Connection error., retry 1/60\n",
      "API Error: Connection error., retry 1/60\n",
      "API Error: Connection error., retry 1/60\n",
      "API Error: Connection error., retry 1/60\n",
      "API Error: Connection error., retry 1/60\n",
      "API Error: Connection error., retry 1/60\n",
      "API Error: Connection error., retry 1/60\n",
      "API Error: Connection error., retry 1/60\n",
      "API Error: Connection error., retry 1/60\n",
      "API Error: Connection error., retry 1/60\n",
      "API Error: Connection error., retry 1/60\n",
      "API Error: Connection error., retry 1/60\n",
      "API Error: Connection error., retry 1/60\n",
      "API Error: Connection error., retry 1/60\n",
      "API Error: Connection error., retry 1/60\n",
      "API Error: Connection error., retry 1/60\n",
      "API Error: Connection error., retry 1/60\n",
      "API Error: Connection error., retry 1/60\n",
      "API Error: Connection error., retry 1/60\n",
      "API Error: Connection error., retry 1/60\n",
      "API Error: Connection error., retry 1/60\n",
      "API Error: Connection error., retry 1/60\n",
      "API Error: Connection error., retry 1/60\n",
      "API Error: Connection error., retry 1/60\n",
      "API Error: Connection error., retry 1/60\n",
      "API Error: Connection error., retry 1/60\n",
      "API Error: Connection error., retry 1/60\n",
      "API Error: Connection error., retry 1/60\n",
      "API Error: Connection error., retry 1/60\n",
      "API Error: Connection error., retry 1/60\n",
      "API Error: Connection error., retry 1/60\n",
      "API Error: Connection error., retry 1/60\n",
      "API Error: Connection error., retry 1/60\n",
      "API Error: Connection error., retry 1/60\n",
      "API Error: Connection error., retry 1/60\n",
      "API Error: Connection error., retry 1/60\n",
      "API Error: Connection error., retry 1/60\n",
      "API Error: Connection error., retry 1/60\n",
      "API Error: Connection error., retry 1/60\n",
      "API Error: Connection error., retry 1/60\n",
      "API Error: Connection error., retry 1/60\n",
      "API Error: Connection error., retry 1/60\n",
      "API Error: Connection error., retry 1/60\n",
      "API Error: Connection error., retry 1/60\n",
      "API Error: Connection error., retry 1/60\n",
      "API Error: Connection error., retry 1/60\n",
      "API Error: Connection error., retry 1/60\n",
      "API Error: Connection error., retry 1/60\n",
      "API Error: Connection error., retry 1/60\n",
      "API Error: Connection error., retry 1/60\n",
      "API Error: Connection error., retry 1/60\n",
      "API Error: Connection error., retry 1/60\n",
      "API Error: Connection error., retry 1/60\n",
      "API Error: Connection error., retry 1/60\n",
      "API Error: Connection error., retry 1/60\n",
      "API Error: Connection error., retry 1/60\n",
      "API Error: Connection error., retry 1/60\n",
      "API Error: Connection error., retry 1/60\n",
      "API Error: Connection error., retry 1/60\n",
      "API Error: Connection error., retry 1/60\n"
     ]
    }
   ],
   "source": [
    "results = await metric.ameasure(test_dataset)\n",
    "\n",
    "custom_llm.shutdown()\n",
    "\n",
    "results.df.to_csv('qwen_32b_epoch1.csv', index=False)\n",
    "\n",
    "scores = sum([i.score for i in results]) / len(results)\n",
    "\n",
    "print(scores)\n"
   ]
  },
  {
   "cell_type": "code",
   "execution_count": null,
   "metadata": {},
   "outputs": [],
   "source": [
    "scores = sum([i.score for i in results]) / len(results)\n",
    "\n",
    "print(scores)"
   ]
  },
  {
   "cell_type": "code",
   "execution_count": null,
   "metadata": {},
   "outputs": [
    {
     "name": "stdout",
     "output_type": "stream",
     "text": [
      "waiting llm server boot\n"
     ]
    }
   ],
   "source": [
    "test_dataset = LLMDataset.from_huggingface_hub('sickgpt/015_KorMedMCQA_test', split='train')\n",
    "\n",
    "# 커스텀 모델 설정 생성\n",
    "custom_config = LocalModelConfig(\n",
    "    model_name=\"Qwen/Qwen2.5-32B-Instruct\",\n",
    ")\n",
    "\n",
    "# localllm은 서버를 local에서 실행시키기 때문에 부팅되는 시간이 존재합니다.\n",
    "custom_llm = LLMFactory.create_llm(custom_config, temperature=0)\n",
    "\n",
    "results = await metric.ameasure(test_dataset)\n",
    "\n",
    "custom_llm.shutdown()\n",
    "\n",
    "results.df.to_csv('qwen_32b.csv', index=False)\n",
    "\n",
    "# scores = sum([i.score for i in results]) / len(results)\n",
    "\n",
    "# print(scores)\n",
    "\n",
    "# custom_llm.shutdown_server()"
   ]
  },
  {
   "cell_type": "code",
   "execution_count": null,
   "metadata": {},
   "outputs": [],
   "source": [
    "scores = sum([i.score for i in results]) / len(results)\n",
    "\n",
    "print(scores)"
   ]
  },
  {
   "cell_type": "code",
   "execution_count": null,
   "metadata": {},
   "outputs": [],
   "source": []
  }
 ],
 "metadata": {
  "kernelspec": {
   "display_name": "magpie",
   "language": "python",
   "name": "python3"
  },
  "language_info": {
   "codemirror_mode": {
    "name": "ipython",
    "version": 3
   },
   "file_extension": ".py",
   "mimetype": "text/x-python",
   "name": "python",
   "nbconvert_exporter": "python",
   "pygments_lexer": "ipython3",
   "version": "3.10.16"
  }
 },
 "nbformat": 4,
 "nbformat_minor": 2
}
