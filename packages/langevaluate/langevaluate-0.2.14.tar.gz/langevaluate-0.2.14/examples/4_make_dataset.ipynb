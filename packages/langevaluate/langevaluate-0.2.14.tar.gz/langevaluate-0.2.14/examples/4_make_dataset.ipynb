{
 "cells": [
  {
   "cell_type": "markdown",
   "metadata": {},
   "source": [
    "# MCQ (Multiple Choice Question) 평가 튜토리얼\n",
    "\n",
    "## MCQDataset\n",
    "\n",
    "이 튜토리얼에서는 Huggingface의 객관식 dataset을 불러와서 평가 후 재업로드하는 과정까지 경험해볼 것입니다."
   ]
  },
  {
   "cell_type": "markdown",
   "metadata": {},
   "source": [
    "### 1. 데이터셋 불러오기\n",
    "먼저 HuggingFace Hub에서 데이터셋을 불러오는 방법을 알아보겠습니다:"
   ]
  },
  {
   "cell_type": "code",
   "execution_count": 1,
   "metadata": {},
   "outputs": [],
   "source": [
    "from langmetrics.llmfactory import LLMFactory\n",
    "from dotenv import load_dotenv\n",
    "from langmetrics.config import ModelConfig\n",
    "import os"
   ]
  },
  {
   "cell_type": "code",
   "execution_count": 2,
   "metadata": {},
   "outputs": [
    {
     "data": {
      "text/plain": [
       "True"
      ]
     },
     "execution_count": 2,
     "metadata": {},
     "output_type": "execute_result"
    }
   ],
   "source": [
    "load_dotenv(override=True)"
   ]
  },
  {
   "cell_type": "code",
   "execution_count": 3,
   "metadata": {},
   "outputs": [
    {
     "data": {
      "text/plain": [
       "['gpt-4o',\n",
       " 'gpt-4o-mini',\n",
       " 'deepseek-v3',\n",
       " 'deepseek-reasoner',\n",
       " 'claude-3.7-sonnet',\n",
       " 'claude-3.5-sonnet',\n",
       " 'claude-3.5-haiku',\n",
       " 'naver',\n",
       " 'gemini-2.0-flash']"
      ]
     },
     "execution_count": 3,
     "metadata": {},
     "output_type": "execute_result"
    }
   ],
   "source": [
    "LLMFactory.get_model_list()"
   ]
  },
  {
   "cell_type": "code",
   "execution_count": 7,
   "metadata": {},
   "outputs": [],
   "source": [
    "deepseek_config =  ModelConfig(\n",
    "            model_name=\"deepseek-chat\",\n",
    "            api_base=\"https://api.deepseek.com\",\n",
    "            api_key=os.getenv(\"DEEPSEEK_API_KEY\"),\n",
    "            max_tokens=500,\n",
    "            seed=66,\n",
    "            provider=\"deepseek\"\n",
    "        )"
   ]
  },
  {
   "cell_type": "code",
   "execution_count": 8,
   "metadata": {},
   "outputs": [
    {
     "name": "stdout",
     "output_type": "stream",
     "text": [
      "ModelConfig(model_name='deepseek-chat', api_key='sk-73508341cbe64cc3916f480fd37e91f2', api_base='https://api.deepseek.com', seed=66, max_tokens=500, rpm=None, provider='deepseek')\n"
     ]
    }
   ],
   "source": [
    "# localllm은 서버를 local에서 실행시키기 때문에 부팅되는 시간이 존재합니다.\n",
    "custom_llm = LLMFactory.create_llm(deepseek_config, temperature=1.0)"
   ]
  },
  {
   "cell_type": "markdown",
   "metadata": {},
   "source": [
    "한글 데이터셋 이므로 template을 한글 사용"
   ]
  },
  {
   "cell_type": "code",
   "execution_count": null,
   "metadata": {},
   "outputs": [],
   "source": []
  },
  {
   "cell_type": "code",
   "execution_count": 25,
   "metadata": {},
   "outputs": [],
   "source": [
    "from langmetrics.metrics import MCQMetric\n",
    "metric = MCQMetric(\n",
    "    answer_model=custom_llm,\n",
    "    template_language='ko',  # 'ko' 또는 'en'\n",
    "    generate_template_type='reasoning'  # 'reasoning' 또는 'only_answer'\n",
    ")"
   ]
  },
  {
   "cell_type": "markdown",
   "metadata": {},
   "source": [
    "async를 통해서 빠르게 추론을 할 것입니다."
   ]
  },
  {
   "cell_type": "code",
   "execution_count": 16,
   "metadata": {},
   "outputs": [],
   "source": [
    "import nest_asyncio\n",
    "nest_asyncio.apply()"
   ]
  },
  {
   "cell_type": "code",
   "execution_count": 17,
   "metadata": {},
   "outputs": [
    {
     "name": "stdout",
     "output_type": "stream",
     "text": [
      "LLMTestCase(input='2개월 남아가 BCG예방접종 1개월 뒤 주사 부위에 이상반응이 생겨서 예방접종을 실시한 소아청소년과의원을 찾아왔다. 이때 「감염병의 예방 및 관리에 관한 법률」에 따라 예방접종 후 이상반응으로 진단한 원장이 이상반응 발생신고서를 제출해야 할 대상은?', output=None, expected_output='C', context=None, retrieval_context=None, reasoning=None, choices=['대한의사협회장', '보건복지부장관', '남아 소재지 관할 보건소장', '남아 소재지 관할 시장 ∙ 군수 ∙ 구청장', '남아 소재지 관할 시 ∙ 도지사'])\n"
     ]
    }
   ],
   "source": [
    "print(test_dataset[0])"
   ]
  },
  {
   "cell_type": "code",
   "execution_count": 18,
   "metadata": {},
   "outputs": [],
   "source": [
    "results = await metric.ameasure(test_dataset, batch_size=512)"
   ]
  },
  {
   "cell_type": "code",
   "execution_count": 19,
   "metadata": {},
   "outputs": [
    {
     "data": {
      "text/plain": [
       "LLMDataset(Pandas DataFrame with 3009 rows)"
      ]
     },
     "execution_count": 19,
     "metadata": {},
     "output_type": "execute_result"
    }
   ],
   "source": [
    "results"
   ]
  },
  {
   "cell_type": "code",
   "execution_count": 20,
   "metadata": {},
   "outputs": [],
   "source": [
    "# r1_results = await r1_metric.ameasure(test_dataset[:10])"
   ]
  },
  {
   "cell_type": "markdown",
   "metadata": {},
   "source": [
    "약 1200개의 달하는 test를 단 30초만에 모두 추론한 것을 확인할 수 있습니다!"
   ]
  },
  {
   "cell_type": "code",
   "execution_count": 21,
   "metadata": {},
   "outputs": [
    {
     "data": {
      "text/plain": [
       "'{\\n\"reasoning\": \"BCG 예방접종 후 이상반응으로 진단한 원장은 이진단을 환자에게 신고해야 하며, 이를 위해 의료기관의 소재지에 있는 보건소 또는 구청에 보고해야 합니다. 이진단은 심각도를 고려하여 \\'주의 사항\\', \\'중요 사항\\', 또는 \\'요구 사항\\' 중 하나를 선택하여 보고합니다. 남아의 소재지 관할 보건소장이 보고처이므로, 보건소 또는 구청장이 아니라 보건소장이 더 적합합니다. 또한, 보건소장의 성명은 보건복지부의 영역이므로 보건복지부장관의 보고처는 아닙니다. 따라서 남아 소재지 관할 보건소장이 더 적절합니다.\",\\n\"answer\": \"C\"\\n}'"
      ]
     },
     "execution_count": 21,
     "metadata": {},
     "output_type": "execute_result"
    }
   ],
   "source": [
    "results.df['student_answer'][0]"
   ]
  },
  {
   "cell_type": "code",
   "execution_count": 22,
   "metadata": {},
   "outputs": [
    {
     "data": {
      "text/html": [
       "<div>\n",
       "<style scoped>\n",
       "    .dataframe tbody tr th:only-of-type {\n",
       "        vertical-align: middle;\n",
       "    }\n",
       "\n",
       "    .dataframe tbody tr th {\n",
       "        vertical-align: top;\n",
       "    }\n",
       "\n",
       "    .dataframe thead th {\n",
       "        text-align: right;\n",
       "    }\n",
       "</style>\n",
       "<table border=\"1\" class=\"dataframe\">\n",
       "  <thead>\n",
       "    <tr style=\"text-align: right;\">\n",
       "      <th></th>\n",
       "      <th>input</th>\n",
       "      <th>student_answer</th>\n",
       "      <th>teacher_answer</th>\n",
       "      <th>expected_output</th>\n",
       "      <th>context</th>\n",
       "      <th>retrieval_context</th>\n",
       "      <th>reasoning</th>\n",
       "      <th>choices</th>\n",
       "      <th>score</th>\n",
       "      <th>metadata</th>\n",
       "    </tr>\n",
       "  </thead>\n",
       "  <tbody>\n",
       "    <tr>\n",
       "      <th>0</th>\n",
       "      <td>2개월 남아가 BCG예방접종 1개월 뒤 주사 부위에 이상반응이 생겨서 예방접종을 실...</td>\n",
       "      <td>{\\n\"reasoning\": \"BCG 예방접종 후 이상반응으로 진단한 원장은 이진단...</td>\n",
       "      <td>None</td>\n",
       "      <td>C</td>\n",
       "      <td>None</td>\n",
       "      <td>None</td>\n",
       "      <td>BCG 예방접종 후 이상반응으로 진단한 원장은 이진단을 환자에게 신고해야 하며, 이...</td>\n",
       "      <td>[대한의사협회장, 보건복지부장관, 남아 소재지 관할 보건소장, 남아 소재지 관할 시...</td>\n",
       "      <td>1</td>\n",
       "      <td>{'student_template_language': 'ko', 'student_m...</td>\n",
       "    </tr>\n",
       "    <tr>\n",
       "      <th>1</th>\n",
       "      <td>‘A’ 종합병원은 폐암으로 진단받은 환자 ‘B’에게 방사선치료와 항암화학요법을 시행...</td>\n",
       "      <td>{\\n\"reasoning\": \"방사선치료와 항암화학요법이 국민건강보험법을 통해 지원...</td>\n",
       "      <td>None</td>\n",
       "      <td>C</td>\n",
       "      <td>None</td>\n",
       "      <td>None</td>\n",
       "      <td>방사선치료와 항암화학요법이 국민건강보험법을 통해 지원되는 환자 치료항목으로 분류되어...</td>\n",
       "      <td>[보건복지부, 국민건강보험공단, 건강보험심사평가원, 의료기관인증위원회, 한국의료분쟁...</td>\n",
       "      <td>0</td>\n",
       "      <td>{'student_template_language': 'ko', 'student_m...</td>\n",
       "    </tr>\n",
       "    <tr>\n",
       "      <th>2</th>\n",
       "      <td>의사 ‘A’는 군지역에서 개인 의원을 운영하고 있다. 자녀 교육의 목적으로 2개월 ...</td>\n",
       "      <td>{\\n\"reasoning\": \"의사가 개인 의원을 운영하므로, 이는 개인의 사업으로...</td>\n",
       "      <td>None</td>\n",
       "      <td>A</td>\n",
       "      <td>None</td>\n",
       "      <td>None</td>\n",
       "      <td>의사가 개인 의원을 운영하므로, 이는 개인의 사업으로 기간별로 휴업을 신고해야 할 ...</td>\n",
       "      <td>[군수에게 휴업 신고, 도지사에게 휴업 신고, 보건복지부장관에게 휴업 신고, 국민건...</td>\n",
       "      <td>0</td>\n",
       "      <td>{'student_template_language': 'ko', 'student_m...</td>\n",
       "    </tr>\n",
       "    <tr>\n",
       "      <th>3</th>\n",
       "      <td>종합병원에 근무하는 의사 ‘A’는 미국에서 개최되는 학회에 참석하기 위하여 7일간 ...</td>\n",
       "      <td>{\\n\"reasoning\": \"이 문제에서 중요한 요소는 ‘A’ 의사의 부재기간 동...</td>\n",
       "      <td>None</td>\n",
       "      <td>C</td>\n",
       "      <td>None</td>\n",
       "      <td>None</td>\n",
       "      <td>이 문제에서 중요한 요소는 ‘A’ 의사의 부재기간 동안 환자 ‘B’가 진단서 요청을...</td>\n",
       "      <td>[진료한 의사 ‘A’가 없어서 발급할 수 없다고 안내한다., 원무과장이 ‘A’에게 ...</td>\n",
       "      <td>1</td>\n",
       "      <td>{'student_template_language': 'ko', 'student_m...</td>\n",
       "    </tr>\n",
       "    <tr>\n",
       "      <th>4</th>\n",
       "      <td>의원을 운영 중인 원장 ‘A’는 허리통증에 대한 최신 치료법을 광고하고 있다. ‘A...</td>\n",
       "      <td>{\\n\"reasoning\": \"원장 'A'가 자신의 허리통증 치료 기법에 대해 확신...</td>\n",
       "      <td>None</td>\n",
       "      <td>E</td>\n",
       "      <td>None</td>\n",
       "      <td>None</td>\n",
       "      <td>원장 'A'가 자신의 허리통증 치료 기법에 대해 확신했지만, 치료법이 실제로 모든 ...</td>\n",
       "      <td>[조치 없음, 경고, 벌금 부과, 과태료 부과, 1년의 범위에서 의료업 정지]</td>\n",
       "      <td>0</td>\n",
       "      <td>{'student_template_language': 'ko', 'student_m...</td>\n",
       "    </tr>\n",
       "    <tr>\n",
       "      <th>...</th>\n",
       "      <td>...</td>\n",
       "      <td>...</td>\n",
       "      <td>...</td>\n",
       "      <td>...</td>\n",
       "      <td>...</td>\n",
       "      <td>...</td>\n",
       "      <td>...</td>\n",
       "      <td>...</td>\n",
       "      <td>...</td>\n",
       "      <td>...</td>\n",
       "    </tr>\n",
       "    <tr>\n",
       "      <th>3004</th>\n",
       "      <td>「응급의료에 관한 법률」상 2급 응급구조사의 업무가 아닌 것은?</td>\n",
       "      <td>{\\n\"reasoning\": \"응급의료에 관한 법률에서는 2급 응급구조사의 업무를 ...</td>\n",
       "      <td>None</td>\n",
       "      <td>A</td>\n",
       "      <td>None</td>\n",
       "      <td>None</td>\n",
       "      <td>응급의료에 관한 법률에서는 2급 응급구조사의 업무를 다음과 같이 규정하고 있습니다:...</td>\n",
       "      <td>[정맥로의 확보, 기본 심폐소생술, 구강내 이물질의 제거, 외부출혈의 지혈 및 창상...</td>\n",
       "      <td>0</td>\n",
       "      <td>{'student_template_language': 'ko', 'student_m...</td>\n",
       "    </tr>\n",
       "    <tr>\n",
       "      <th>3005</th>\n",
       "      <td>「보건의료기본법」상 국가와 지방자치단체가 평생국민건강관리체계를 구축하기 위하여 시행...</td>\n",
       "      <td>{\\n\"reasoning\": \"「보건의료기본법」은 주로 국민의 건강 기간별 관리체계...</td>\n",
       "      <td>None</td>\n",
       "      <td>C</td>\n",
       "      <td>None</td>\n",
       "      <td>None</td>\n",
       "      <td>「보건의료기본법」은 주로 국민의 건강 기간별 관리체계를 목표로 하고 있다. 따라서 ...</td>\n",
       "      <td>[정신 보건의료, 환경 보건의료, 정신 보건의료, 구강 보건의료, 학교 보건의료, ...</td>\n",
       "      <td>0</td>\n",
       "      <td>{'student_template_language': 'ko', 'student_m...</td>\n",
       "    </tr>\n",
       "    <tr>\n",
       "      <th>3006</th>\n",
       "      <td>「국민건강증진법」상 주류제조의 면허를 받은 자는 \"과다한 음주는 건강에 해롭다.\"라...</td>\n",
       "      <td>{\\n\"reasoning\": \"「국민건강증진법」에서는 주류제조의 면허를 받은 자에 ...</td>\n",
       "      <td>None</td>\n",
       "      <td>A</td>\n",
       "      <td>None</td>\n",
       "      <td>None</td>\n",
       "      <td>「국민건강증진법」에서는 주류제조의 면허를 받은 자에 대해 '과다한 음주는 건강에 해...</td>\n",
       "      <td>[1도, 3도, 7도, 11도, 17도]</td>\n",
       "      <td>0</td>\n",
       "      <td>{'student_template_language': 'ko', 'student_m...</td>\n",
       "    </tr>\n",
       "    <tr>\n",
       "      <th>3007</th>\n",
       "      <td>「혈액관리법」상 혈액관리업무를 할 수 있는 자 중, 채혈을 할 수 없는 자는?</td>\n",
       "      <td>{\\n\"reasoning\": \"이 문제에서는 각 경우에 대해 한대 한대의 정보를 분...</td>\n",
       "      <td>None</td>\n",
       "      <td>E</td>\n",
       "      <td>None</td>\n",
       "      <td>None</td>\n",
       "      <td>이 문제에서는 각 경우에 대해 한대 한대의 정보를 분석하여 채혈을 할 수 없는 자가...</td>\n",
       "      <td>[의원, 치과의원, 한의원, 대한적십자사, 혈액제제 제조업자]</td>\n",
       "      <td>0</td>\n",
       "      <td>{'student_template_language': 'ko', 'student_m...</td>\n",
       "    </tr>\n",
       "    <tr>\n",
       "      <th>3008</th>\n",
       "      <td>「호스피스·완화의료 및 임종과정에 있는 환자의 연명의료결정에 관한 법률」상 호스피스...</td>\n",
       "      <td>{\\n\"reasoning\": \"호스피스·완화의료의 대상에 해당하는 질환을 알아보면,...</td>\n",
       "      <td>None</td>\n",
       "      <td>B</td>\n",
       "      <td>None</td>\n",
       "      <td>None</td>\n",
       "      <td>호스피스·완화의료의 대상에 해당하는 질환을 알아보면, 암, 만성 폐쇄성 호흡기질환 ...</td>\n",
       "      <td>[암, 당뇨병, 만성 간경화, 후천성면역결핍증, 만성 폐쇄성 호흡기절환]</td>\n",
       "      <td>0</td>\n",
       "      <td>{'student_template_language': 'ko', 'student_m...</td>\n",
       "    </tr>\n",
       "  </tbody>\n",
       "</table>\n",
       "<p>3009 rows × 10 columns</p>\n",
       "</div>"
      ],
      "text/plain": [
       "                                                  input  \\\n",
       "0     2개월 남아가 BCG예방접종 1개월 뒤 주사 부위에 이상반응이 생겨서 예방접종을 실...   \n",
       "1     ‘A’ 종합병원은 폐암으로 진단받은 환자 ‘B’에게 방사선치료와 항암화학요법을 시행...   \n",
       "2     의사 ‘A’는 군지역에서 개인 의원을 운영하고 있다. 자녀 교육의 목적으로 2개월 ...   \n",
       "3     종합병원에 근무하는 의사 ‘A’는 미국에서 개최되는 학회에 참석하기 위하여 7일간 ...   \n",
       "4     의원을 운영 중인 원장 ‘A’는 허리통증에 대한 최신 치료법을 광고하고 있다. ‘A...   \n",
       "...                                                 ...   \n",
       "3004                「응급의료에 관한 법률」상 2급 응급구조사의 업무가 아닌 것은?   \n",
       "3005  「보건의료기본법」상 국가와 지방자치단체가 평생국민건강관리체계를 구축하기 위하여 시행...   \n",
       "3006  「국민건강증진법」상 주류제조의 면허를 받은 자는 \"과다한 음주는 건강에 해롭다.\"라...   \n",
       "3007        「혈액관리법」상 혈액관리업무를 할 수 있는 자 중, 채혈을 할 수 없는 자는?   \n",
       "3008  「호스피스·완화의료 및 임종과정에 있는 환자의 연명의료결정에 관한 법률」상 호스피스...   \n",
       "\n",
       "                                         student_answer teacher_answer  \\\n",
       "0     {\\n\"reasoning\": \"BCG 예방접종 후 이상반응으로 진단한 원장은 이진단...           None   \n",
       "1     {\\n\"reasoning\": \"방사선치료와 항암화학요법이 국민건강보험법을 통해 지원...           None   \n",
       "2     {\\n\"reasoning\": \"의사가 개인 의원을 운영하므로, 이는 개인의 사업으로...           None   \n",
       "3     {\\n\"reasoning\": \"이 문제에서 중요한 요소는 ‘A’ 의사의 부재기간 동...           None   \n",
       "4     {\\n\"reasoning\": \"원장 'A'가 자신의 허리통증 치료 기법에 대해 확신...           None   \n",
       "...                                                 ...            ...   \n",
       "3004  {\\n\"reasoning\": \"응급의료에 관한 법률에서는 2급 응급구조사의 업무를 ...           None   \n",
       "3005  {\\n\"reasoning\": \"「보건의료기본법」은 주로 국민의 건강 기간별 관리체계...           None   \n",
       "3006  {\\n\"reasoning\": \"「국민건강증진법」에서는 주류제조의 면허를 받은 자에 ...           None   \n",
       "3007  {\\n\"reasoning\": \"이 문제에서는 각 경우에 대해 한대 한대의 정보를 분...           None   \n",
       "3008  {\\n\"reasoning\": \"호스피스·완화의료의 대상에 해당하는 질환을 알아보면,...           None   \n",
       "\n",
       "     expected_output context retrieval_context  \\\n",
       "0                  C    None              None   \n",
       "1                  C    None              None   \n",
       "2                  A    None              None   \n",
       "3                  C    None              None   \n",
       "4                  E    None              None   \n",
       "...              ...     ...               ...   \n",
       "3004               A    None              None   \n",
       "3005               C    None              None   \n",
       "3006               A    None              None   \n",
       "3007               E    None              None   \n",
       "3008               B    None              None   \n",
       "\n",
       "                                              reasoning  \\\n",
       "0     BCG 예방접종 후 이상반응으로 진단한 원장은 이진단을 환자에게 신고해야 하며, 이...   \n",
       "1     방사선치료와 항암화학요법이 국민건강보험법을 통해 지원되는 환자 치료항목으로 분류되어...   \n",
       "2     의사가 개인 의원을 운영하므로, 이는 개인의 사업으로 기간별로 휴업을 신고해야 할 ...   \n",
       "3     이 문제에서 중요한 요소는 ‘A’ 의사의 부재기간 동안 환자 ‘B’가 진단서 요청을...   \n",
       "4     원장 'A'가 자신의 허리통증 치료 기법에 대해 확신했지만, 치료법이 실제로 모든 ...   \n",
       "...                                                 ...   \n",
       "3004  응급의료에 관한 법률에서는 2급 응급구조사의 업무를 다음과 같이 규정하고 있습니다:...   \n",
       "3005  「보건의료기본법」은 주로 국민의 건강 기간별 관리체계를 목표로 하고 있다. 따라서 ...   \n",
       "3006  「국민건강증진법」에서는 주류제조의 면허를 받은 자에 대해 '과다한 음주는 건강에 해...   \n",
       "3007  이 문제에서는 각 경우에 대해 한대 한대의 정보를 분석하여 채혈을 할 수 없는 자가...   \n",
       "3008  호스피스·완화의료의 대상에 해당하는 질환을 알아보면, 암, 만성 폐쇄성 호흡기질환 ...   \n",
       "\n",
       "                                                choices  score  \\\n",
       "0     [대한의사협회장, 보건복지부장관, 남아 소재지 관할 보건소장, 남아 소재지 관할 시...      1   \n",
       "1     [보건복지부, 국민건강보험공단, 건강보험심사평가원, 의료기관인증위원회, 한국의료분쟁...      0   \n",
       "2     [군수에게 휴업 신고, 도지사에게 휴업 신고, 보건복지부장관에게 휴업 신고, 국민건...      0   \n",
       "3     [진료한 의사 ‘A’가 없어서 발급할 수 없다고 안내한다., 원무과장이 ‘A’에게 ...      1   \n",
       "4           [조치 없음, 경고, 벌금 부과, 과태료 부과, 1년의 범위에서 의료업 정지]      0   \n",
       "...                                                 ...    ...   \n",
       "3004  [정맥로의 확보, 기본 심폐소생술, 구강내 이물질의 제거, 외부출혈의 지혈 및 창상...      0   \n",
       "3005  [정신 보건의료, 환경 보건의료, 정신 보건의료, 구강 보건의료, 학교 보건의료, ...      0   \n",
       "3006                             [1도, 3도, 7도, 11도, 17도]      0   \n",
       "3007                 [의원, 치과의원, 한의원, 대한적십자사, 혈액제제 제조업자]      0   \n",
       "3008           [암, 당뇨병, 만성 간경화, 후천성면역결핍증, 만성 폐쇄성 호흡기절환]      0   \n",
       "\n",
       "                                               metadata  \n",
       "0     {'student_template_language': 'ko', 'student_m...  \n",
       "1     {'student_template_language': 'ko', 'student_m...  \n",
       "2     {'student_template_language': 'ko', 'student_m...  \n",
       "3     {'student_template_language': 'ko', 'student_m...  \n",
       "4     {'student_template_language': 'ko', 'student_m...  \n",
       "...                                                 ...  \n",
       "3004  {'student_template_language': 'ko', 'student_m...  \n",
       "3005  {'student_template_language': 'ko', 'student_m...  \n",
       "3006  {'student_template_language': 'ko', 'student_m...  \n",
       "3007  {'student_template_language': 'ko', 'student_m...  \n",
       "3008  {'student_template_language': 'ko', 'student_m...  \n",
       "\n",
       "[3009 rows x 10 columns]"
      ]
     },
     "execution_count": 22,
     "metadata": {},
     "output_type": "execute_result"
    }
   ],
   "source": [
    "results.df"
   ]
  },
  {
   "cell_type": "code",
   "execution_count": 23,
   "metadata": {},
   "outputs": [],
   "source": [
    "scores = sum([i.score for i in results]) / len(results)"
   ]
  },
  {
   "cell_type": "code",
   "execution_count": 24,
   "metadata": {},
   "outputs": [
    {
     "name": "stdout",
     "output_type": "stream",
     "text": [
      "0.3765370555001662\n"
     ]
    }
   ],
   "source": [
    "print(scores)"
   ]
  },
  {
   "cell_type": "code",
   "execution_count": null,
   "metadata": {},
   "outputs": [],
   "source": []
  },
  {
   "cell_type": "code",
   "execution_count": null,
   "metadata": {},
   "outputs": [],
   "source": []
  },
  {
   "cell_type": "code",
   "execution_count": null,
   "metadata": {},
   "outputs": [],
   "source": []
  },
  {
   "cell_type": "code",
   "execution_count": null,
   "metadata": {},
   "outputs": [],
   "source": []
  }
 ],
 "metadata": {
  "kernelspec": {
   "display_name": "magpie",
   "language": "python",
   "name": "python3"
  },
  "language_info": {
   "codemirror_mode": {
    "name": "ipython",
    "version": 3
   },
   "file_extension": ".py",
   "mimetype": "text/x-python",
   "name": "python",
   "nbconvert_exporter": "python",
   "pygments_lexer": "ipython3",
   "version": "3.10.16"
  }
 },
 "nbformat": 4,
 "nbformat_minor": 2
}
