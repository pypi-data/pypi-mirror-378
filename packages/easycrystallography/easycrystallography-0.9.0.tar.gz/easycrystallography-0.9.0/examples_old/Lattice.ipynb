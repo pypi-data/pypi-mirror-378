{
 "cells": [
  {
   "cell_type": "markdown",
   "source": [
    "# Lattices\n",
    "\n",
    "This notebook is an introduction to the `Lattice` class and the derived classes.\n",
    "\n",
    "## The lattice class\n",
    "\n"
   ],
   "metadata": {
    "collapsed": false,
    "pycharm": {
     "name": "#%% md\n"
    }
   }
  },
  {
   "cell_type": "code",
   "execution_count": 6,
   "outputs": [],
   "source": [
    "from easycrystallography.Components.Lattice import Lattice"
   ],
   "metadata": {
    "collapsed": false,
    "pycharm": {
     "name": "#%%\n"
    }
   }
  },
  {
   "cell_type": "markdown",
   "source": [
    "A default lattice can be created by calling the constructor."
   ],
   "metadata": {
    "collapsed": false,
    "pycharm": {
     "name": "#%% md\n"
    }
   }
  },
  {
   "cell_type": "code",
   "execution_count": 7,
   "outputs": [
    {
     "name": "stdout",
     "output_type": "stream",
     "text": [
      "<Lattice: (a: 3.00 Å, b: 3.00 Å, c: 3.00Å, alpha: 90.00 deg, beta: 90.00 deg, gamma: 90.00 deg>\n"
     ]
    }
   ],
   "source": [
    "l1 = Lattice()\n",
    "print(l1)"
   ],
   "metadata": {
    "collapsed": false,
    "pycharm": {
     "name": "#%%\n"
    }
   }
  },
  {
   "cell_type": "markdown",
   "source": [
    "The lattice parameters can be defined at creation, either partially or fully."
   ],
   "metadata": {
    "collapsed": false,
    "pycharm": {
     "name": "#%% md\n"
    }
   }
  },
  {
   "cell_type": "code",
   "execution_count": 8,
   "outputs": [
    {
     "name": "stdout",
     "output_type": "stream",
     "text": [
      "<Lattice: (a: 2.00 Å, b: 3.00 Å, c: 4.00Å, alpha: 90.00 deg, beta: 90.00 deg, gamma: 90.00 deg>\n",
      "<Lattice: (a: 2.00 Å, b: 3.00 Å, c: 4.00Å, alpha: 90.00 deg, beta: 60.00 deg, gamma: 90.00 deg>\n"
     ]
    }
   ],
   "source": [
    "l2 = Lattice(length_a=2, length_b=3, length_c=4)\n",
    "print(l2)\n",
    "l3 = Lattice(length_a=2, length_b=3, length_c=4, angle_alpha=90, angle_beta=60, angle_gamma=90)\n",
    "print(l3)"
   ],
   "metadata": {
    "collapsed": false,
    "pycharm": {
     "name": "#%%\n"
    }
   }
  },
  {
   "cell_type": "markdown",
   "source": [
    "The lattice parameters can be modified after creation"
   ],
   "metadata": {
    "collapsed": false,
    "pycharm": {
     "name": "#%% md\n"
    }
   }
  },
  {
   "cell_type": "code",
   "execution_count": 9,
   "outputs": [
    {
     "name": "stdout",
     "output_type": "stream",
     "text": [
      "<Lattice: (a: 2.00 Å, b: 3.00 Å, c: 3.00Å, alpha: 90.00 deg, beta: 90.00 deg, gamma: 90.00 deg>\n"
     ]
    }
   ],
   "source": [
    "l1.length_a = 2.0\n",
    "print(l1)"
   ],
   "metadata": {
    "collapsed": false,
    "pycharm": {
     "name": "#%%\n"
    }
   }
  },
  {
   "cell_type": "markdown",
   "source": [
    "There are also common aliases which can be used:\n",
    "\n",
    "| Internal Name | Alias | Description |\n",
    "| --- | --- | --- |\n",
    "| `length_a` | `a` | Unit cell length `a` in Angstrom |\n",
    "| `length_b` | `b` | Unit cell length `b` in Angstrom |\n",
    "| `length_c` | `c` | Unit cell length `c` in Angstrom |"
   ],
   "metadata": {
    "collapsed": false,
    "pycharm": {
     "name": "#%% md\n"
    }
   }
  },
  {
   "cell_type": "code",
   "execution_count": null,
   "outputs": [],
   "source": [],
   "metadata": {
    "collapsed": false,
    "pycharm": {
     "name": "#%%\n"
    }
   }
  }
 ],
 "metadata": {
  "kernelspec": {
   "display_name": "Python 3",
   "language": "python",
   "name": "python3"
  },
  "language_info": {
   "codemirror_mode": {
    "name": "ipython",
    "version": 2
   },
   "file_extension": ".py",
   "mimetype": "text/x-python",
   "name": "python",
   "nbconvert_exporter": "python",
   "pygments_lexer": "ipython2",
   "version": "2.7.6"
  }
 },
 "nbformat": 4,
 "nbformat_minor": 0
}