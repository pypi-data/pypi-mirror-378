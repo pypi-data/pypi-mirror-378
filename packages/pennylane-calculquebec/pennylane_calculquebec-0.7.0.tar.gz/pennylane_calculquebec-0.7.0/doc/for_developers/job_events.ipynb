{
 "cells": [
  {
   "cell_type": "markdown",
   "metadata": {},
   "source": [
    "You can run code when jobs reach a specific state by using callbacks from the pennylane device."
   ]
  },
  {
   "cell_type": "markdown",
   "metadata": {},
   "source": [
    "First create your device and choose a circuit name and a project"
   ]
  },
  {
   "cell_type": "code",
   "execution_count": null,
   "metadata": {},
   "outputs": [],
   "source": [
    "import pennylane as qml\n",
    "from pennylane_calculquebec.API.client import MonarqClient\n",
    "\n",
    "client = MonarqClient(\"your host\", \"your user\", \"your access token\")\n",
    "dev = qml.device(\"monarq.default\", client=client, shots=1000)\n",
    "\n",
    "dev.circuit_name = \"a circuit\"\n",
    "dev.project_name = \"default\""
   ]
  },
  {
   "cell_type": "markdown",
   "metadata": {},
   "source": [
    "Then, define callback functions"
   ]
  },
  {
   "cell_type": "code",
   "execution_count": 6,
   "metadata": {},
   "outputs": [],
   "source": [
    "def job_started(id):\n",
    "    print(f\"job {id} is started\")\n",
    "\n",
    "\n",
    "def job_status_changed(id, status):\n",
    "    print(f\"job {id} status is {status}\")\n",
    "\n",
    "\n",
    "def job_completed(id):\n",
    "    print(f\"job {id} is completed\")"
   ]
  },
  {
   "cell_type": "markdown",
   "metadata": {},
   "source": [
    "Then, hook your callback functions to the events in the device"
   ]
  },
  {
   "cell_type": "code",
   "execution_count": 7,
   "metadata": {},
   "outputs": [],
   "source": [
    "dev.job_started = job_started\n",
    "dev.job_status_changed = job_status_changed\n",
    "dev.job_completed = job_completed"
   ]
  },
  {
   "cell_type": "markdown",
   "metadata": {},
   "source": [
    "Create your circuit and run it"
   ]
  },
  {
   "cell_type": "code",
   "execution_count": 8,
   "metadata": {},
   "outputs": [
    {
     "name": "stdout",
     "output_type": "stream",
     "text": [
      "job 4f3dccdb-0b0d-4fa0-960c-f8b12262095d is started\n",
      "job 4f3dccdb-0b0d-4fa0-960c-f8b12262095d status is RUNNING\n",
      "job 4f3dccdb-0b0d-4fa0-960c-f8b12262095d status is SUCCEEDED\n",
      "job 4f3dccdb-0b0d-4fa0-960c-f8b12262095d is completed\n",
      "{'0': array(101), '1': array(899)}\n"
     ]
    }
   ],
   "source": [
    "@qml.qnode(dev)\n",
    "def circuit():\n",
    "    qml.X(0)\n",
    "    return qml.counts()\n",
    "\n",
    "\n",
    "print(circuit())"
   ]
  }
 ],
 "metadata": {
  "kernelspec": {
   "display_name": "Python 3",
   "language": "python",
   "name": "python3"
  },
  "language_info": {
   "codemirror_mode": {
    "name": "ipython",
    "version": 3
   },
   "file_extension": ".py",
   "mimetype": "text/x-python",
   "name": "python",
   "nbconvert_exporter": "python",
   "pygments_lexer": "ipython3",
   "version": "3.10.11"
  }
 },
 "nbformat": 4,
 "nbformat_minor": 2
}
