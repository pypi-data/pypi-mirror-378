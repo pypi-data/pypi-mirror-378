{
 "cells": [
  {
   "cell_type": "markdown",
   "metadata": {},
   "source": [
    "## Client\n",
    "\n",
    "In order to run jobs on Monarq, you will need to provide information to the device :\n",
    "\n",
    "- host : the url to which monarq can be communicated with.\n",
    "- user : your identifier\n",
    "- access token : the access pass that identifies you as a rightful user\n",
    "- project name : (optional) the name of the project you want to run the job on "
   ]
  },
  {
   "cell_type": "markdown",
   "metadata": {},
   "source": [
    "in order to provide those informations to the device, you will need to store them in a ```ApiClient```. This is done by :"
   ]
  },
  {
   "cell_type": "markdown",
   "metadata": {},
   "source": [
    "- importing the client class :"
   ]
  },
  {
   "cell_type": "code",
   "execution_count": 1,
   "metadata": {},
   "outputs": [],
   "source": [
    "import pennylane as qml\n",
    "from pennylane_calculquebec.API.client import MonarqClient"
   ]
  },
  {
   "cell_type": "markdown",
   "metadata": {},
   "source": [
    "- creating a client and supplying your informations to it :"
   ]
  },
  {
   "cell_type": "code",
   "execution_count": null,
   "metadata": {},
   "outputs": [],
   "source": [
    "# change the information in the client for your credentials\n",
    "my_client = MonarqClient(\n",
    "    \"your host\", \"your user\", \"your access token\", \"your project name\"\n",
    ")"
   ]
  },
  {
   "cell_type": "markdown",
   "metadata": {},
   "source": [
    "- passing the client to the device :"
   ]
  },
  {
   "cell_type": "code",
   "execution_count": 3,
   "metadata": {},
   "outputs": [],
   "source": [
    "# this will create a device that lets you communicate with MonarQ using your credentials\n",
    "dev = qml.device(\"monarq.default\", client=my_client, shots=1000)"
   ]
  }
 ],
 "metadata": {
  "kernelspec": {
   "display_name": "Python 3",
   "language": "python",
   "name": "python3"
  },
  "language_info": {
   "codemirror_mode": {
    "name": "ipython",
    "version": 3
   },
   "file_extension": ".py",
   "mimetype": "text/x-python",
   "name": "python",
   "nbconvert_exporter": "python",
   "pygments_lexer": "ipython3",
   "version": "3.10.11"
  }
 },
 "nbformat": 4,
 "nbformat_minor": 2
}
