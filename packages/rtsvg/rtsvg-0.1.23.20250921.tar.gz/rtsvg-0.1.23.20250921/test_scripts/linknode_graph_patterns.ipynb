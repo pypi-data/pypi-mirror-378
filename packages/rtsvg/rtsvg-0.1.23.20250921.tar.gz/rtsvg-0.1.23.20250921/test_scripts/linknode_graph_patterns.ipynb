{
 "cells": [
  {
   "cell_type": "code",
   "execution_count": null,
   "id": "6cb6d609",
   "metadata": {},
   "outputs": [],
   "source": [
    "import polars as pl\n",
    "import networkx as nx\n",
    "import rtsvg\n",
    "from linknode_graph_patterns import LinkNodeGraphPatterns\n",
    "rt = rtsvg.RACETrack()\n",
    "def graphAsDataFrame(_g_):\n",
    "    _lu_ = {'fm':[], 'to':[]}\n",
    "    for _e_ in _g_.edges: _lu_['fm'].append(_e_[0]), _lu_['to'].append(_e_[1])\n",
    "    return pl.DataFrame(_lu_)\n",
    "_patterns_ = LinkNodeGraphPatterns()\n",
    "_tiles_    = []\n",
    "for _type_ in _patterns_.types:\n",
    "    g      = _patterns_.createPattern(_type_)    \n",
    "    df     = graphAsDataFrame(g)\n",
    "    params = {'df':df, 'relationships':[('fm','to')], 'w':256, 'h':256, 'node_size':'small', 'link_arrow':False}\n",
    "    pos_nx = nx.spring_layout(g)\n",
    "    _tiles_.append(rt.link(pos=pos_nx,  **params))\n",
    "    pos_ref = rt.springLayout(g)\n",
    "    _tiles_.append(rt.link(pos=pos_ref, **params))\n",
    "    pos_psl = rtsvg.PolarsSpringLayout(g).results()\n",
    "    _tiles_.append(rt.link(pos=pos_psl, **params))\n",
    "rt.table(_tiles_, per_row=3, spacer=10)"
   ]
  },
  {
   "cell_type": "code",
   "execution_count": null,
   "id": "db46530f",
   "metadata": {},
   "outputs": [],
   "source": []
  }
 ],
 "metadata": {
  "kernelspec": {
   "display_name": ".venv (3.12.3)",
   "language": "python",
   "name": "python3"
  },
  "language_info": {
   "codemirror_mode": {
    "name": "ipython",
    "version": 3
   },
   "file_extension": ".py",
   "mimetype": "text/x-python",
   "name": "python",
   "nbconvert_exporter": "python",
   "pygments_lexer": "ipython3",
   "version": "3.12.3"
  }
 },
 "nbformat": 4,
 "nbformat_minor": 5
}
