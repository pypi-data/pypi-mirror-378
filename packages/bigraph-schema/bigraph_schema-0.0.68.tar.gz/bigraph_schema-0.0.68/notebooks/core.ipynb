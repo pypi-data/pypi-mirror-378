{
 "cells": [
  {
   "cell_type": "markdown",
   "id": "d42edcd7-e61f-4c30-94ee-a01f79988c7c",
   "metadata": {},
   "source": [
    "# bigraph-schema\n",
    "\n",
    "`bigraph-schema` is a library to define schemas for and operate on bigraphical states, for use in composite biological simulations. "
   ]
  },
  {
   "cell_type": "markdown",
   "id": "b106e3a4-ddf1-485f-81e4-318018193660",
   "metadata": {},
   "source": [
    "## what is a bigraph?\n",
    "\n",
    "A bigraph has three components - a set of nodes, a \"place graph\" over those nodes (a tree), and a \"link graph\" involving the same set of nodes (a hypergraph). \n",
    "\n",
    "<center><img src=\"https://raw.githubusercontent.com/vivarium-collective/bigraph-schema/main/notebooks/images/place-link.png\" width=\"60%\"/></center>\n",
    "\n",
    "Bigraphs were invented by [Robin Milner](https://en.wikipedia.org/wiki/Robin_Milner) who made a series of \"process calculi\" culminating in [bigraphs](https://www.cl.cam.ac.uk/archive/rm135/Bigraphs-draft.pdf) - he later implemented all of his previous process calculi as instances of bigraphs. Traditional \"chemical reaction network\" formalisms are instances of the π-calculus, the predecessor to bigraphs. Adding the tree (place graph) to the hypergraph allows us to express ideas of containment, nesting, and scale relationships, all critical things for biological applications. Also, even though the place and link graphs could be considered independent, their potential for interaction through shared nodes opens a new universe of relationships and transformations a system could embody. "
   ]
  },
  {
   "cell_type": "markdown",
   "id": "83bc1ebc-fe31-4ed6-b964-a754655c8ef4",
   "metadata": {},
   "source": [
    "## reactions\n",
    "\n",
    "In addition to this structure, bigraphs are also capable of \"motion\" in the form of \"reactions\" - a pair of bigraphs used as a match and substitution respectively (known as the \"redex\" and the \"reactum\"). This means bigraphs update their structure and relationships over the course of a simulation. \n",
    "\n",
    "Given a reaction that looks like this (the *redex* is on the left, *reactum* on the right):\n",
    "\n",
    "<center><img src=\"https://raw.githubusercontent.com/vivarium-collective/bigraph-schema/main/notebooks/images/redex-reactum.png\" width=\"60%\"/></center>\n",
    "\n",
    "and some bigraphical state that matches the redex of the reaction:\n",
    "\n",
    "<center><img src=\"https://raw.githubusercontent.com/vivarium-collective/bigraph-schema/main/notebooks/images/reaction-before.png\" width=\"40%\"/></center>\n",
    "\n",
    "We can apply the reaction to the bigraph to achieve the resulting bigraph:\n",
    "\n",
    "<center><img src=\"https://raw.githubusercontent.com/vivarium-collective/bigraph-schema/main/notebooks/images/reaction-after.png\" width=\"40%\"/></center>"
   ]
  },
  {
   "cell_type": "markdown",
   "id": "9dbb1b69-da69-4049-88bf-fadff21fa7ef",
   "metadata": {},
   "source": [
    "## types\n",
    "\n",
    "In addition to these core bigraphical properties, the states `bigraph-schema` works with are typed in a way that allows us to perform type-specific operations on values contained in the nodes or subtrees of the bigraph. Beyond providing these typed methods, the types also guide the composition of the larger systems out of smaller ones - edges are defined by the types of their inputs and outputs, so as we link our state together we can verify all of these connections are valid and make sense. \n",
    "\n",
    "The way to declare the structure of types is by defining a \"schema\" - a nested state which describes the types of all the nodes embedded in the place graph. We will show how to define and use schemas throughout this notebook. "
   ]
  },
  {
   "cell_type": "markdown",
   "id": "e799ceff-ee1f-4416-936c-f16a0d18da43",
   "metadata": {},
   "source": [
    "## edges\n",
    "\n",
    "An \"edge\" in `bigraph-schema` refers to a hyperedge which is defined by the types of its inputs and outputs - these two schemas together are the edge's \"interface\". Where the nesting of the schema reflects the \"place\" graph component of the bigraph, the edges encode the \"link\" graph, and these links themselves can be updated during the simulation. When using `bigraph-schema` in biological and general simulation applications, the hyperedges become \"processes\" which generate updates informed by the input states they are linked to, and these updates get applied to the output states the edge is linked to. "
   ]
  },
  {
   "cell_type": "markdown",
   "id": "7b02fbfc-a8e7-4fb1-8ff4-2ef9405fc842",
   "metadata": {},
   "source": [
    "## states and schemas\n",
    "\n",
    "There is a distinction between a \"schema\", which encodes a description of states, and a \"state\", which holds the actual values which may or may not match any given schema. In `bigraph-schema` we need both of these things to perform any given operation - that said there are also methods to \"infer\" a given schema out of minimal type information provided in the state. In general there is a one to many relationship between a schema and states matching that schema - this gives us motivation to \"register\" schemas we use over and over again as new types, which will be described as well. "
   ]
  },
  {
   "cell_type": "markdown",
   "id": "f987ce1a-3cd3-4bc6-aea1-f7a046b25cbc",
   "metadata": {},
   "source": [
    "## core\n",
    "\n",
    "Let's start by importing the `TypeSystem` and creating an instance of it (codename `core` since we're going to use it a lot):"
   ]
  },
  {
   "cell_type": "code",
   "execution_count": 1,
   "id": "3d33f18d-3afb-4fbf-8bfe-75964a0b1841",
   "metadata": {},
   "outputs": [],
   "source": [
    "from bigraph_schema import TypeSystem\n",
    "core = TypeSystem()"
   ]
  },
  {
   "cell_type": "markdown",
   "id": "c481e570-ed32-406a-823e-6735e429473d",
   "metadata": {},
   "source": [
    "`core` uses a schema you provide to perform various operations on a given state or states. Let's see what types we have available:"
   ]
  },
  {
   "cell_type": "code",
   "execution_count": 3,
   "id": "a25c1f5b-13ed-4a1e-a1ab-bfcb8b850021",
   "metadata": {},
   "outputs": [
    {
     "data": {
      "text/plain": [
       "dict_keys(['any', 'tuple', 'union', 'boolean', 'number', 'integer', 'float', 'string', 'list', 'tree', 'map', 'array', 'maybe', 'path', 'wires', 'schema', 'edge', 'length', 'time', 'current', 'luminosity', 'mass', 'substance', 'temperature', '', 'length/time', 'length^2*mass/time', 'current*time', 'length^2*mass/temperature*time^2', 'length/time^2', 'mass/length*time^2', 'current*time^2/length^2*mass', 'length^2*mass/current^2*time^3', '/substance', 'length^2*mass/substance*temperature*time^2', 'current*time/substance', 'current^2*time^3/length^2*mass', 'length^2*mass/current*time^2', 'mass/temperature^4*time^3', 'length^4*mass/time^3', 'length*temperature', '/temperature*time', 'length^3/mass*time^2', '/length', 'length*mass/current^2*time^2', 'current^2*time^4/length^3*mass', 'length^3*mass/current^2*time^4', 'length^2', '/time', 'length^3', 'length^3/time', 'length*mass/time^2', 'length^2*mass/time^2', 'length^2*mass/time^3', 'mass/length^3', 'mass/length*time', 'length^2/time', 'length*time/mass', 'substance/length^3', 'substance/time', 'length^2/time^2', 'current*time/mass', 'mass/time^2', 'luminosity/length^2', 'mass/time^3', 'length^2*mass/current*time^3', 'length*mass/current*time^3', 'current^2*time^4/length^2*mass', 'length^2*mass/current^2*time^2', 'mass/current*time^2', 'current*length*time', 'current*length^2*time', 'current*length^2', 'printing_unit', 'printing_unit/length', '/printing_unit', 'mass/length', 'length/mass', 'length^1_5*mass^0_5/time', 'length^0_5*mass^0_5/time', 'length^1_5*mass^0_5/time^2', 'mass^0_5/length^0_5*time', 'time/length', 'length^0_5*mass^0_5', 'mass^0_5/length^1_5', 'time^2/length'])"
      ]
     },
     "execution_count": 3,
     "metadata": {},
     "output_type": "execute_result"
    }
   ],
   "source": [
    "core.types().keys()"
   ]
  },
  {
   "cell_type": "markdown",
   "id": "d000d4c6-d859-427e-bc98-cce92b3ac091",
   "metadata": {},
   "source": [
    "That's a lot of types! Looking through the list we see that most of them have to do with units - we'll get to unit types later, but for now we can see they are defined in terms of general notions (length or mass) rather than specific units (kilometer or gram) because we care about what is able to connect to what: for instance, all length units are compatible through scaling, that's the point of units!"
   ]
  },
  {
   "cell_type": "markdown",
   "id": "8f0b0764-16b5-4be9-96e5-7da46614ddef",
   "metadata": {},
   "source": [
    "## basic types\n",
    "\n",
    "Some of the basic types you probably already understand are:\n",
    "* `float`: the computational equivalent of a real number - attempting to emulate a continuous number line with notable limitations.\n",
    "* `integer`: positive and negative whole numbers.\n",
    "* `boolean`: a two-valued type, here known as \"true\" and \"false\".\n",
    "* `string`: a type for text, by default standard unicode. "
   ]
  },
  {
   "cell_type": "markdown",
   "id": "f0e97f19-49d8-4b61-a69d-f89dd0e536df",
   "metadata": {},
   "source": [
    "Let's see what one of these types looks like - we'll take a simple one as an example, how about \"float\"? :"
   ]
  },
  {
   "cell_type": "code",
   "execution_count": 5,
   "id": "c0caa21b-1506-44d9-8eaa-13dae215a107",
   "metadata": {},
   "outputs": [
    {
     "data": {
      "text/plain": [
       "{'_type': 'float',\n",
       " '_check': 'check_float',\n",
       " '_apply': 'accumulate',\n",
       " '_serialize': 'to_string',\n",
       " '_description': '64-bit floating point precision number',\n",
       " '_default': '0.0',\n",
       " '_deserialize': 'deserialize_float',\n",
       " '_divide': 'divide_float',\n",
       " '_inherit': ['number']}"
      ]
     },
     "execution_count": 5,
     "metadata": {},
     "output_type": "execute_result"
    }
   ],
   "source": [
    "core.access('float')"
   ]
  },
  {
   "cell_type": "markdown",
   "id": "22790b2f-4978-479c-8060-fd9ebe73ff31",
   "metadata": {},
   "source": [
    "We see here that types are defined through a series of keys, with any type specific information signified by key starting with an `_` (underscore). Schemas and states in `bigraph-schema` claim the namespace of keys beginning with an underscore and reserves it for type information. A type may contain keys without underscores, but this signifies a subschema living under that key - in the end all the \"leaves\" of a schema tree resolve into type keys (keys with an underscore)."
   ]
  },
  {
   "cell_type": "code",
   "execution_count": 8,
   "id": "71304c9e-8915-4122-9c5e-cd287851e385",
   "metadata": {},
   "outputs": [
    {
     "data": {
      "text/plain": [
       "{'base': {'_type': 'integer',\n",
       "  '_check': 'check_integer',\n",
       "  '_apply': 'accumulate',\n",
       "  '_serialize': 'to_string',\n",
       "  '_description': '64-bit integer',\n",
       "  '_default': '0',\n",
       "  '_deserialize': 'deserialize_integer',\n",
       "  '_inherit': ['number']},\n",
       " 'state': {'_type': 'string',\n",
       "  '_default': '',\n",
       "  '_check': 'check_string',\n",
       "  '_apply': 'replace',\n",
       "  '_serialize': 'serialize_string',\n",
       "  '_deserialize': 'deserialize_string',\n",
       "  '_description': '64-bit integer'}}"
      ]
     },
     "execution_count": 8,
     "metadata": {},
     "output_type": "execute_result"
    }
   ],
   "source": [
    "# a nested type with keys 'base' and 'state'\n",
    "core.access({\n",
    "    'base': 'integer', \n",
    "    'state': 'string'})"
   ]
  },
  {
   "cell_type": "markdown",
   "id": "a72474bc-086a-4167-8fb4-53e6e0e4001e",
   "metadata": {},
   "source": [
    "What are all these keys?\n",
    "\n",
    "Some, like `_type`, `_definition`, and `_inherit`, are information about the type itself. The others are all references to methods. Many of the methods in `core` rely on type-specific functions like this to operate, and we encode them as references to the function rather than a function itself to meet the requirement that our type descriptions are simply data and can be ie communicated across the network. This also allows the methods to be easily overridable to change behavior (`_apply` for instance we often want a different method here). This does rely on the definitions existing somewhere, and for the behavior of these functions to be sufficiently defined by tests for each method if the simulation is going to be replicated in another environment. We defer these considerations while providing now for their eventual resolution by insisting all values are serializable. This also allows for a future where the functions defining these methods are themselves somehow \"universally\" serializable, and instead of references we just store the serialized definition as the value. \n",
    "\n",
    "* `_type`: This key is just the name of the type itself\n",
    "* `_check`: This is the name of a function that the float type uses to verify some state is actually a float. \n",
    "* `_apply`: The apply method takes two states which match the schema and returns some kind of \"merge\" of those states - it is up to each type method to determine what this means. Here we are using `accumulate` which just calls `+` on the two values. This works great if the values can be added. If not some other more sophisticated method would be required.\n",
    "* `_serialize`, `_deserialize`: These are inverses of each other and are used to take complex values and turn them into something that can be communicated across the wire. One of the principles of `bigraph-schema` is that in order to operate in any distributed or multi-language environment, any state can be encoded as a string for the purposes of communication with other nodes in a large scale simulation. This principle is realized through a universal means of serialization and deserialization - all states are encodable and transmittable.\n",
    "* `_description`: This allows anyone defining a type to explain what their type is all about.\n",
    "* `_default`: If a value of this type is ever needed and no state information is provided, we deserialize the type's default value.\n",
    "* `_inherit`: You can use existing types as a starting point to define new types. This relationship also helps us when merging schemas so that we can always select the most specific definition of each component of the resulting schema. "
   ]
  },
  {
   "cell_type": "markdown",
   "id": "33e53562-0e65-43f7-a134-f41ca49857ac",
   "metadata": {},
   "source": [
    "## check\n",
    "\n",
    "Let's take a look at how to use a schema now that we have one. First we can `check` different values to see if they match our schema:"
   ]
  },
  {
   "cell_type": "code",
   "execution_count": 9,
   "id": "723e4d35-251f-45a0-bd13-79577a05faaf",
   "metadata": {},
   "outputs": [
    {
     "data": {
      "text/plain": [
       "True"
      ]
     },
     "execution_count": 9,
     "metadata": {},
     "output_type": "execute_result"
    }
   ],
   "source": [
    "core.check('float', 1.5)"
   ]
  },
  {
   "cell_type": "code",
   "execution_count": 10,
   "id": "2d66ca35-a17a-435e-a1c9-2bab5affe8d5",
   "metadata": {},
   "outputs": [
    {
     "data": {
      "text/plain": [
       "False"
      ]
     },
     "execution_count": 10,
     "metadata": {},
     "output_type": "execute_result"
    }
   ],
   "source": [
    "core.check('float', 'not a float')"
   ]
  },
  {
   "cell_type": "code",
   "execution_count": 11,
   "id": "7dc63b69-c922-4077-b290-bdcdf674997b",
   "metadata": {},
   "outputs": [
    {
     "data": {
      "text/plain": [
       "False"
      ]
     },
     "execution_count": 11,
     "metadata": {},
     "output_type": "execute_result"
    }
   ],
   "source": [
    "core.check('integer', 1.5)"
   ]
  },
  {
   "cell_type": "code",
   "execution_count": 12,
   "id": "b02092aa-389c-4c07-a322-1c012944188f",
   "metadata": {},
   "outputs": [
    {
     "data": {
      "text/plain": [
       "True"
      ]
     },
     "execution_count": 12,
     "metadata": {},
     "output_type": "execute_result"
    }
   ],
   "source": [
    "core.check('integer', 5)"
   ]
  },
  {
   "cell_type": "markdown",
   "id": "40f19d79-6054-4624-bc8a-7e5165d22c61",
   "metadata": {},
   "source": [
    "Let's do a few more but with a nested type.... we made one above (base/state keys) but don't want to have to retype it every time we want to use it. We can register a new type and then define schemas according to that:"
   ]
  },
  {
   "cell_type": "code",
   "execution_count": 14,
   "id": "ce87189a-a630-4cda-b9a9-f3eea5665bc7",
   "metadata": {},
   "outputs": [
    {
     "data": {
      "text/plain": [
       "{'base': {'_type': 'integer',\n",
       "  '_check': 'check_integer',\n",
       "  '_apply': 'accumulate',\n",
       "  '_serialize': 'to_string',\n",
       "  '_description': '64-bit integer',\n",
       "  '_default': '0',\n",
       "  '_deserialize': 'deserialize_integer',\n",
       "  '_inherit': ['number']},\n",
       " 'state': {'_type': 'string',\n",
       "  '_default': '',\n",
       "  '_check': 'check_string',\n",
       "  '_apply': 'replace',\n",
       "  '_serialize': 'serialize_string',\n",
       "  '_deserialize': 'deserialize_string',\n",
       "  '_description': '64-bit integer'},\n",
       " '_type': 'histone'}"
      ]
     },
     "execution_count": 14,
     "metadata": {},
     "output_type": "execute_result"
    }
   ],
   "source": [
    "# the keys 'base' and 'state' are part of the type\n",
    "core.register(\n",
    "    'histone', {\n",
    "        'base': 'integer', \n",
    "        'state': 'string'})\n",
    "\n",
    "# now it behaves like any other type\n",
    "core.access('histone')"
   ]
  },
  {
   "cell_type": "markdown",
   "id": "051c3e56-93d8-4daf-b6eb-9a50900d7ba4",
   "metadata": {},
   "source": [
    "See how we still have the `_type` key on each leaf, but also a new `_type` key at the top level called `histone`. This is how you can form nested types. "
   ]
  },
  {
   "cell_type": "markdown",
   "id": "a194e6a4-d528-4bd7-8f2d-18421082568d",
   "metadata": {},
   "source": [
    "Now we can call `check` with our newly registered type:"
   ]
  },
  {
   "cell_type": "code",
   "execution_count": 15,
   "id": "a8098d90-5736-485c-8e34-3b807619d822",
   "metadata": {},
   "outputs": [
    {
     "data": {
      "text/plain": [
       "False"
      ]
     },
     "execution_count": 15,
     "metadata": {},
     "output_type": "execute_result"
    }
   ],
   "source": [
    "# not nested\n",
    "core.check('histone', 5)"
   ]
  },
  {
   "cell_type": "code",
   "execution_count": 16,
   "id": "8468e14d-fd5b-4bd9-aba6-975c070a0802",
   "metadata": {},
   "outputs": [
    {
     "data": {
      "text/plain": [
       "False"
      ]
     },
     "execution_count": 16,
     "metadata": {},
     "output_type": "execute_result"
    }
   ],
   "source": [
    "# nested but missing 'base' and 'state' keys\n",
    "core.check('histone', {'c': 11})"
   ]
  },
  {
   "cell_type": "code",
   "execution_count": 17,
   "id": "9865f102-34c7-4957-b41f-d982d3050e30",
   "metadata": {},
   "outputs": [
    {
     "data": {
      "text/plain": [
       "False"
      ]
     },
     "execution_count": 17,
     "metadata": {},
     "output_type": "execute_result"
    }
   ],
   "source": [
    "# only one key, and wrong type anyway\n",
    "core.check('histone', {'base': 'not a float'})"
   ]
  },
  {
   "cell_type": "code",
   "execution_count": 18,
   "id": "4ef3a4eb-37ab-439c-a906-e9debc88b6ad",
   "metadata": {},
   "outputs": [
    {
     "data": {
      "text/plain": [
       "False"
      ]
     },
     "execution_count": 18,
     "metadata": {},
     "output_type": "execute_result"
    }
   ],
   "source": [
    "# right type, still missing the 'state' key\n",
    "core.check('histone', {'base': 1111221})"
   ]
  },
  {
   "cell_type": "code",
   "execution_count": 19,
   "id": "aa1b204c-cf22-40f5-a1f8-76a60975ad92",
   "metadata": {},
   "outputs": [
    {
     "data": {
      "text/plain": [
       "False"
      ]
     },
     "execution_count": 19,
     "metadata": {},
     "output_type": "execute_result"
    }
   ],
   "source": [
    "# all the keys now, but 'state' is supposed to be a string\n",
    "core.check('histone', {'base': 1111221, 'state': 5})"
   ]
  },
  {
   "cell_type": "code",
   "execution_count": 21,
   "id": "fc572ef5-9667-45f7-bf8c-c8d04ebe3fa3",
   "metadata": {},
   "outputs": [
    {
     "data": {
      "text/plain": [
       "True"
      ]
     },
     "execution_count": 21,
     "metadata": {},
     "output_type": "execute_result"
    }
   ],
   "source": [
    "# here we go\n",
    "core.check('histone', {'base': 1111221, 'state': 'M'})"
   ]
  },
  {
   "cell_type": "code",
   "execution_count": 22,
   "id": "80d242bb-e710-40c6-8347-59898a2babe0",
   "metadata": {},
   "outputs": [
    {
     "data": {
      "text/plain": [
       "True"
      ]
     },
     "execution_count": 22,
     "metadata": {},
     "output_type": "execute_result"
    }
   ],
   "source": [
    "# notably we can have more keys, as long as the ones in our schema match\n",
    "core.check('histone', {'base': 1111221, 'state': 'M', 'c': 'this is okay'})"
   ]
  },
  {
   "cell_type": "markdown",
   "id": "104fbdbd-95bd-4fc0-81d3-4b0d90991dc1",
   "metadata": {},
   "source": [
    "## other methods \n",
    "\n",
    "Okay, so now that we can check a state matches our schemas, what else can we do with them? There are a number of methods, here are a few:\n",
    "* `core.default(schema)`: generate the default value of a given schema.\n",
    "* `core.fill(schema, state)`: take an incomplete state and fill it with whatever is missing relative to the schema.\n",
    "* `core.complete(schema, state)`: given any schema fragment and state fragment, return as much of the state and schema as we are able to infer (kind of a bidirectional `fill`).\n",
    "* `core.de/serialize(schema, state)`: serialize a state according to the given schema so that it can later be recovered by deserialize.\n",
    "* `core.slice(schema, state, path)`: given a path into a state, slice into the state according to the schema.\n",
    "* `core.equivalent(schema, left, right)`: returns `True` if both left and right are equivalent states according to the given schema.\n",
    "* `core.apply(schema, state, update)`: given an existing state and an update that match a schema, return a state with that update applied according to the type system.\n",
    "* `core.view_edge(schema, state, path)`: transform the state into the form expected by an edge (residing at the given path) according to its current inputs state.\n",
    "* `core.project_edge(schema, state, path, view)`: transform a view in the form of an edge's outputs schema into states aligned with the edge's outputs state.\n",
    "* `core.match(schema, state, pattern)`: find instances of a pattern inside of the state.\n",
    "* `core.react(schema, state, reaction)`: apply a bigraphical reaction (redex/reactum) to a given state.\n",
    "* `core.fold(schema, state, method, values)`: fold a method over the state according to the schema, parameterized by a set of values.\n",
    "* `core.inherits_from(schema, descendant, ancestor)`: returns `True` if you can trace a path of inheritance from descendant schema to ancestor schema.\n",
    "* `core.resolve_schemas(schema, update)`: merges two schemas and returns the schema which has the most specific type of the two at each point in the schema.\n",
    "* `core.import_types(package)`: given a package containing a bundle of related types, register them all and make them available to ongoing operations. "
   ]
  },
  {
   "cell_type": "markdown",
   "id": "399bb2d1-d667-45bb-aded-7ac194edad7c",
   "metadata": {},
   "source": [
    "This is a brief outline of these methods, let's go through a selection of them in more detail. But first, let's take make sure we understand type parameters. "
   ]
  },
  {
   "cell_type": "markdown",
   "id": "7fe1d902-3c69-42af-b1ff-7bc7cf135121",
   "metadata": {},
   "source": [
    "## type parameters\n",
    "\n",
    "Basic types like `float` and `string` are atomic - they don't break down any further. The system allows for types with type parameters as well, which means the type itself is not complete until the parameter is specified, making it a complete type:\n",
    "* `list[element]`: The element can be any other schema and defines the schema for each element in the list.\n",
    "* `map[value]`: A map is a flat key/value store with the keys as strings and the value parameterized by whatever schema is in `value`.\n",
    "* `tree[leaf]`: Tree is the recursive form of `map` whose values can themselves be trees or instances of the `leaf` type.\n",
    "* `tuple[0,1,...]`: A tuple type has a specific number of elements and type for each element. \n",
    "* `array[tuple[0,1,...],data]`: The array type can have arbitrary dimensions which are represented by a tuple of integers.\n",
    "* `maybe[value]`: A maybe type can be the schema of its value or also be empty. If a type is not wrapped in `maybe` the system demands it has a value of the given schema at all times.\n",
    "* `union[0,1,...]`: A union type is a collection of types the value could be. This works by checking each type one at a time and picking the first one that matches, so it matters the order you define the union to be.\n",
    "\n",
    "How do these types work under the hood? Let's take a look at `list`, with a type parameter of `boolean`:"
   ]
  },
  {
   "cell_type": "code",
   "execution_count": 24,
   "id": "19fab013-4954-4ab1-bc3a-a9b977d61cf1",
   "metadata": {},
   "outputs": [
    {
     "data": {
      "text/plain": [
       "{'_type': 'list',\n",
       " '_default': [],\n",
       " '_check': 'check_list',\n",
       " '_slice': 'slice_list',\n",
       " '_apply': 'apply_list',\n",
       " '_serialize': 'serialize_list',\n",
       " '_deserialize': 'deserialize_list',\n",
       " '_fold': 'fold_list',\n",
       " '_divide': 'divide_list',\n",
       " '_type_parameters': ['element'],\n",
       " '_description': 'general list type (or sublists)',\n",
       " '_element': {'_type': 'boolean',\n",
       "  '_default': False,\n",
       "  '_check': 'check_boolean',\n",
       "  '_apply': 'apply_boolean',\n",
       "  '_serialize': 'serialize_boolean',\n",
       "  '_deserialize': 'deserialize_boolean'}}"
      ]
     },
     "execution_count": 24,
     "metadata": {},
     "output_type": "execute_result"
    }
   ],
   "source": [
    "core.access('list[boolean]')"
   ]
  },
  {
   "cell_type": "markdown",
   "id": "4f13700b-f7c9-4974-93f5-fa23b365f57a",
   "metadata": {},
   "source": [
    "One thing we notice right away is that there's a lot of keys in here we didn't see in float: `_slice`, `_fold`, `_divide`, and also `_type_parameters` and `_element`, though maybe you can already tell what those are for. The first three are for additional methods the `list` type supports, while `_type_parameters` describes the kind of type parameters the type could have and the order they will appear in, where the values in the `_type_parameters` list indicate which additional keys will describe the actual type of those type parameters (in this case the `element` parameter, stored in the `_element` key). The value of the `_element` key in turn is the schema for `boolean`, exactly what we would need to know if we want to operate on each element in the list. If it had been a `list[float]` we had accessed, this would be the schema for float instead. "
   ]
  },
  {
   "cell_type": "markdown",
   "id": "01be4b45-6dc9-4de4-b1dc-8db972786c49",
   "metadata": {},
   "source": [
    "## default\n",
    "\n",
    "Get the default value of a given schema.... let's take a look at a few:"
   ]
  },
  {
   "cell_type": "code",
   "execution_count": 25,
   "id": "4e8dcbed-1dc1-447a-9e54-6730d2e55b28",
   "metadata": {},
   "outputs": [
    {
     "data": {
      "text/plain": [
       "0.0"
      ]
     },
     "execution_count": 25,
     "metadata": {},
     "output_type": "execute_result"
    }
   ],
   "source": [
    "core.default('float')"
   ]
  },
  {
   "cell_type": "code",
   "execution_count": 26,
   "id": "445c24dd-9840-432d-a77e-5827e77b68c1",
   "metadata": {},
   "outputs": [
    {
     "data": {
      "text/plain": [
       "''"
      ]
     },
     "execution_count": 26,
     "metadata": {},
     "output_type": "execute_result"
    }
   ],
   "source": [
    "core.default('string')"
   ]
  },
  {
   "cell_type": "code",
   "execution_count": 27,
   "id": "065c4043-004b-4696-8738-8289f553b788",
   "metadata": {},
   "outputs": [
    {
     "data": {
      "text/plain": [
       "{'base': 0, 'state': ''}"
      ]
     },
     "execution_count": 27,
     "metadata": {},
     "output_type": "execute_result"
    }
   ],
   "source": [
    "core.default('histone')"
   ]
  },
  {
   "cell_type": "markdown",
   "id": "42da9f40-7f03-40f3-835a-6cfa947de525",
   "metadata": {},
   "source": [
    "## fill\n",
    "\n",
    "`fill` is kind of like `default` except it uses as much of a given state as it is able to:"
   ]
  },
  {
   "cell_type": "code",
   "execution_count": 28,
   "id": "cb4aabb7-d4ff-4a35-bbd4-f79ba8d3e763",
   "metadata": {},
   "outputs": [
    {
     "data": {
      "text/plain": [
       "{'state': 'M', 'base': 0}"
      ]
     },
     "execution_count": 28,
     "metadata": {},
     "output_type": "execute_result"
    }
   ],
   "source": [
    "core.fill('histone', {'state': 'M'})"
   ]
  },
  {
   "cell_type": "markdown",
   "id": "67dc4cb5-9c0d-45ca-b6b3-1a0af8e9bd44",
   "metadata": {},
   "source": [
    "This is useful to take partial states and fill them in with a complete schema to initialize a simulation, for instance. "
   ]
  },
  {
   "cell_type": "markdown",
   "id": "55797d93-07ad-4235-9e82-261a766f1353",
   "metadata": {},
   "source": [
    "## paths and slice\n",
    "\n",
    "One of the benefits of the \"place\" graph is that we can work with addresses (or \"paths\") into the tree to find or mark specific nodes for further computation. In order to traverse the tree to a given path you can use `core.slice()`:"
   ]
  },
  {
   "cell_type": "code",
   "execution_count": 29,
   "id": "b85bcdd3-6a10-4ed3-a954-9c616d3d1f45",
   "metadata": {},
   "outputs": [
    {
     "data": {
      "text/plain": [
       "5"
      ]
     },
     "execution_count": 29,
     "metadata": {},
     "output_type": "execute_result"
    }
   ],
   "source": [
    "directory = {\n",
    "    'root': {\n",
    "        'bin': {\n",
    "            'run'},\n",
    "        'home': {\n",
    "            'you': {\n",
    "                'data': 5}}}}\n",
    "\n",
    "# navigate through the tree to find whatever lives at the given path\n",
    "data_schema, data = core.slice(\n",
    "    'tree[integer]', \n",
    "    directory, \n",
    "    ['root', 'home', 'you', 'data'])\n",
    "\n",
    "data"
   ]
  },
  {
   "cell_type": "markdown",
   "id": "e6c580fd-163f-466c-9e26-091e17fc2604",
   "metadata": {},
   "source": [
    "Here we see that slice also returns the schema it finds at the node the path points to. This can be used for further core operations local to that node. \n",
    "\n",
    "`path` is also a type:"
   ]
  },
  {
   "cell_type": "code",
   "execution_count": 30,
   "id": "1ee2b430-477d-4d55-b4d7-8d29d302487f",
   "metadata": {},
   "outputs": [
    {
     "data": {
      "text/plain": [
       "{'_type': 'path',\n",
       " '_default': [],\n",
       " '_check': 'check_list',\n",
       " '_slice': 'slice_list',\n",
       " '_apply': 'apply_path',\n",
       " '_serialize': 'serialize_list',\n",
       " '_deserialize': 'deserialize_list',\n",
       " '_fold': 'fold_list',\n",
       " '_divide': 'divide_list',\n",
       " '_type_parameters': ['element'],\n",
       " '_description': 'general list type (or sublists)',\n",
       " '_element': {'_type': 'string',\n",
       "  '_default': '',\n",
       "  '_check': 'check_string',\n",
       "  '_apply': 'replace',\n",
       "  '_serialize': 'serialize_string',\n",
       "  '_deserialize': 'deserialize_string',\n",
       "  '_description': '64-bit integer'},\n",
       " '_inherit': ['list[string]']}"
      ]
     },
     "execution_count": 30,
     "metadata": {},
     "output_type": "execute_result"
    }
   ],
   "source": [
    "core.access('path')"
   ]
  },
  {
   "cell_type": "markdown",
   "id": "91196745-732a-4ab0-a5ff-8c7e57f08210",
   "metadata": {},
   "source": [
    "We see it inherits from `list[string]` - it receives all the methods from list and has it's `_element` pre-filled with the schema for `string`. This means we can use it for any other core operations:"
   ]
  },
  {
   "cell_type": "code",
   "execution_count": 31,
   "id": "cb29529d-2045-4c05-b8ad-5161548010d6",
   "metadata": {},
   "outputs": [
    {
     "data": {
      "text/plain": [
       "False"
      ]
     },
     "execution_count": 31,
     "metadata": {},
     "output_type": "execute_result"
    }
   ],
   "source": [
    "core.check('path', 5)"
   ]
  },
  {
   "cell_type": "code",
   "execution_count": 32,
   "id": "c76ba6de-d63c-4976-891c-79e88ea6a0f4",
   "metadata": {},
   "outputs": [
    {
     "data": {
      "text/plain": [
       "[]"
      ]
     },
     "execution_count": 32,
     "metadata": {},
     "output_type": "execute_result"
    }
   ],
   "source": [
    "core.default('path')"
   ]
  },
  {
   "cell_type": "code",
   "execution_count": 33,
   "id": "bbbf39c0-5dd8-4f96-8a56-fbfb2aac7a18",
   "metadata": {},
   "outputs": [
    {
     "data": {
      "text/plain": [
       "True"
      ]
     },
     "execution_count": 33,
     "metadata": {},
     "output_type": "execute_result"
    }
   ],
   "source": [
    "core.check('tree[path]', {'a': {'b': ['a', 'x']}, 'x': {'y': ['b']}})"
   ]
  },
  {
   "cell_type": "code",
   "execution_count": 34,
   "id": "7c02539a-3a91-41e0-a881-348b0c733044",
   "metadata": {},
   "outputs": [
    {
     "data": {
      "text/plain": [
       "{'a': {'b': ['a', 'x']}, 'x': {'y': ['b']}, 'z': 0.0}"
      ]
     },
     "execution_count": 34,
     "metadata": {},
     "output_type": "execute_result"
    }
   ],
   "source": [
    "core.fill({'a': 'tree[path]', 'z': 'float'}, {'a': {'b': ['a', 'x']}, 'x': {'y': ['b']}})"
   ]
  },
  {
   "cell_type": "markdown",
   "id": "1d749210-d345-4239-a957-e8a9825d7161",
   "metadata": {},
   "source": [
    "## edges\n",
    "\n",
    "There is a special type in `bigraph-schema` called an `edge` which represents the hyperedges from the \"link\" graph in bigraph theory. Each edge is defined by its \"interface\" - the schema for its inputs and outputs. Once the interface is defined, it can be wired, or \"linked\" into the graph by providing a set of paths. \n",
    "\n",
    "Let's make an edge schema to use as an example for various things:"
   ]
  },
  {
   "cell_type": "code",
   "execution_count": 35,
   "id": "c176d455-6040-446c-b0ee-5bce851337ca",
   "metadata": {},
   "outputs": [],
   "source": [
    "edge_schema = {\n",
    "    '_type': 'edge',\n",
    "    '_inputs': {\n",
    "        'concentration': 'float',\n",
    "        'field': 'map[boolean]'},\n",
    "    '_outputs': {\n",
    "        'target': 'boolean',\n",
    "        'total': 'integer',\n",
    "        'delta': 'float'}}"
   ]
  },
  {
   "cell_type": "markdown",
   "id": "b2c77b64-beff-42ed-b04e-04edc89ee217",
   "metadata": {},
   "source": [
    "Great, let's see what it looks like when we access this.... in general the access will unfold the type to its maximal form, recursively looking up each type definition and substituting it in. That's why the output looks so verbose:"
   ]
  },
  {
   "cell_type": "code",
   "execution_count": 36,
   "id": "1bd6147e-8ea3-4bdc-8090-d6c9a4b09d61",
   "metadata": {},
   "outputs": [
    {
     "data": {
      "text/plain": [
       "{'_type': 'edge',\n",
       " '_inputs': {'concentration': 'float', 'field': 'map[boolean]'},\n",
       " '_outputs': {'target': 'boolean', 'total': 'integer', 'delta': 'float'},\n",
       " '_default': {'inputs': {}, 'outputs': {}},\n",
       " '_apply': 'apply_edge',\n",
       " '_serialize': 'serialize_edge',\n",
       " '_deserialize': 'deserialize_edge',\n",
       " '_check': 'check_edge',\n",
       " '_type_parameters': ['inputs', 'outputs'],\n",
       " '_description': 'hyperedges in the bigraph, with inputs and outputs as type parameters',\n",
       " 'inputs': {'_type': 'wires',\n",
       "  '_default': {},\n",
       "  '_check': 'check_tree',\n",
       "  '_slice': 'slice_tree',\n",
       "  '_apply': 'apply_tree',\n",
       "  '_serialize': 'serialize_tree',\n",
       "  '_deserialize': 'deserialize_tree',\n",
       "  '_fold': 'fold_tree',\n",
       "  '_divide': 'divide_tree',\n",
       "  '_type_parameters': ['leaf'],\n",
       "  '_description': 'mapping from str to some type in a potentially nested form',\n",
       "  '_leaf': {'_type': 'path',\n",
       "   '_default': [],\n",
       "   '_check': 'check_list',\n",
       "   '_slice': 'slice_list',\n",
       "   '_apply': 'apply_path',\n",
       "   '_serialize': 'serialize_list',\n",
       "   '_deserialize': 'deserialize_list',\n",
       "   '_fold': 'fold_list',\n",
       "   '_divide': 'divide_list',\n",
       "   '_type_parameters': ['element'],\n",
       "   '_description': 'general list type (or sublists)',\n",
       "   '_element': {'_type': 'string',\n",
       "    '_default': '',\n",
       "    '_check': 'check_string',\n",
       "    '_apply': 'replace',\n",
       "    '_serialize': 'serialize_string',\n",
       "    '_deserialize': 'deserialize_string',\n",
       "    '_description': '64-bit integer'},\n",
       "   '_inherit': ['list[string]']},\n",
       "  '_inherit': ['tree[path]']},\n",
       " 'outputs': {'_type': 'wires',\n",
       "  '_default': {},\n",
       "  '_check': 'check_tree',\n",
       "  '_slice': 'slice_tree',\n",
       "  '_apply': 'apply_tree',\n",
       "  '_serialize': 'serialize_tree',\n",
       "  '_deserialize': 'deserialize_tree',\n",
       "  '_fold': 'fold_tree',\n",
       "  '_divide': 'divide_tree',\n",
       "  '_type_parameters': ['leaf'],\n",
       "  '_description': 'mapping from str to some type in a potentially nested form',\n",
       "  '_leaf': {'_type': 'path',\n",
       "   '_default': [],\n",
       "   '_check': 'check_list',\n",
       "   '_slice': 'slice_list',\n",
       "   '_apply': 'apply_path',\n",
       "   '_serialize': 'serialize_list',\n",
       "   '_deserialize': 'deserialize_list',\n",
       "   '_fold': 'fold_list',\n",
       "   '_divide': 'divide_list',\n",
       "   '_type_parameters': ['element'],\n",
       "   '_description': 'general list type (or sublists)',\n",
       "   '_element': {'_type': 'string',\n",
       "    '_default': '',\n",
       "    '_check': 'check_string',\n",
       "    '_apply': 'replace',\n",
       "    '_serialize': 'serialize_string',\n",
       "    '_deserialize': 'deserialize_string',\n",
       "    '_description': '64-bit integer'},\n",
       "   '_inherit': ['list[string]']},\n",
       "  '_inherit': ['tree[path]']}}"
      ]
     },
     "execution_count": 36,
     "metadata": {},
     "output_type": "execute_result"
    }
   ],
   "source": [
    "core.access(edge_schema)"
   ]
  },
  {
   "cell_type": "markdown",
   "id": "910d5912-22ca-453a-a46f-913f70662436",
   "metadata": {},
   "source": [
    "One thing we can see about an edge is that it has both `inputs` and `outputs` keys, and `_inputs` and `_outputs` (with underscores) as well. What is going on here? \n",
    "\n",
    "One clue is that the `_type_parameters` list for the `_edge` type is `['inputs', 'outputs']`, which means `edge` is a type with two type parameters, `_inputs` and `_outputs`. This explains the underscore keys, they are the actual schemas for these type parameters, defining what type of edge this is. \n",
    "\n",
    "The other keys are `inputs` and `outputs` states and have their own subschema, which match the names of the type parameters by design but ultimately only by convention. The subschemas for these states are of type `wires`, which itself inherits from `tree[path]`. Wires are how we link together the \"ports\" of each edge (its inputs and outputs schemas) with actual places in the tree matching those types. \n",
    "\n",
    "An example will be helpful, and we can introduce another core method, `complete()`, which is like a bidirectional `fill` that is aware of edges and how type constraints propagate through wires. Here is an example edge state we can use:"
   ]
  },
  {
   "cell_type": "code",
   "execution_count": 37,
   "id": "839a285e-ae1f-4663-aef3-2789bb57f98f",
   "metadata": {},
   "outputs": [],
   "source": [
    "edge_state = {\n",
    "    'inputs': {\n",
    "        'concentration': ['molecules', 'glucose'],\n",
    "        'field': ['states']},\n",
    "    'outputs': {\n",
    "        'target': ['states', 'growth'],\n",
    "        'total': ['emitter', 'total molecules'],\n",
    "        'delta': ['molecules', 'glucose']}}"
   ]
  },
  {
   "cell_type": "markdown",
   "id": "2bf7ed56-c466-47de-b825-ae800c875b8d",
   "metadata": {},
   "source": [
    "The form of the keys here is the same as the schema, an `inputs` and `outputs` key with subkeys, but the values are different. Here all the types have been replaced by paths. These are the places in the tree where we will \"link\" one of the ports of this edge according to the input and output schemas."
   ]
  },
  {
   "cell_type": "markdown",
   "id": "be70a23b-3a40-44e5-bf45-c7457aa6b625",
   "metadata": {},
   "source": [
    "## complete\n",
    "\n",
    "Type constraints can come from many places. We can put them directly in the schema and in that way enforce what kind of states are allowed. We can also supply type hints in the form of `_type` and associated type parameter keys in the state itself to generate the right schema that fits the state. Type constraints can also flow from edges whose wires tell us that something that matches its interface must live wherever that path is pointing. To call upon all these kinds of type inference we can appeal to `core.complete()`, which takes all of this into account:"
   ]
  },
  {
   "cell_type": "code",
   "execution_count": 39,
   "id": "6d8ea9a3-fb8f-4290-8a73-2a01e7784ae2",
   "metadata": {},
   "outputs": [
    {
     "data": {
      "text/plain": [
       "{'edge': {'inputs': {'concentration': ['molecules', 'glucose'],\n",
       "   'field': ['states']},\n",
       "  'outputs': {'target': ['states', 'growth'],\n",
       "   'total': ['emitter', 'total molecules'],\n",
       "   'delta': ['molecules', 'glucose']}},\n",
       " 'molecules': {'glucose': 10.0},\n",
       " 'states': {'growth': False},\n",
       " 'emitter': {'total molecules': 0}}"
      ]
     },
     "execution_count": 39,
     "metadata": {},
     "output_type": "execute_result"
    }
   ],
   "source": [
    "full_schema, full_state = core.complete(\n",
    "    {'edge': edge_schema},\n",
    "    {'edge': edge_state, 'molecules': {'glucose': 10.0}})\n",
    "full_state"
   ]
  },
  {
   "cell_type": "code",
   "execution_count": 40,
   "id": "8b6527c9",
   "metadata": {},
   "outputs": [
    {
     "data": {
      "text/plain": [
       "{'edge': {'_type': 'edge',\n",
       "  '_inputs': {'concentration': 'float', 'field': 'map[boolean]'},\n",
       "  '_outputs': {'target': 'boolean', 'total': 'integer', 'delta': 'float'},\n",
       "  '_default': {'inputs': {}, 'outputs': {}},\n",
       "  '_apply': 'apply_edge',\n",
       "  '_serialize': 'serialize_edge',\n",
       "  '_deserialize': 'deserialize_edge',\n",
       "  '_check': 'check_edge',\n",
       "  '_type_parameters': ['inputs', 'outputs'],\n",
       "  '_description': 'hyperedges in the bigraph, with inputs and outputs as type parameters',\n",
       "  'inputs': {'_type': 'wires',\n",
       "   '_default': {},\n",
       "   '_check': 'check_tree',\n",
       "   '_slice': 'slice_tree',\n",
       "   '_apply': 'apply_tree',\n",
       "   '_serialize': 'serialize_tree',\n",
       "   '_deserialize': 'deserialize_tree',\n",
       "   '_fold': 'fold_tree',\n",
       "   '_divide': 'divide_tree',\n",
       "   '_type_parameters': ['leaf'],\n",
       "   '_description': 'mapping from str to some type in a potentially nested form',\n",
       "   '_leaf': {'_type': 'path',\n",
       "    '_default': [],\n",
       "    '_check': 'check_list',\n",
       "    '_slice': 'slice_list',\n",
       "    '_apply': 'apply_path',\n",
       "    '_serialize': 'serialize_list',\n",
       "    '_deserialize': 'deserialize_list',\n",
       "    '_fold': 'fold_list',\n",
       "    '_divide': 'divide_list',\n",
       "    '_type_parameters': ['element'],\n",
       "    '_description': 'general list type (or sublists)',\n",
       "    '_element': {'_type': 'string',\n",
       "     '_default': '',\n",
       "     '_check': 'check_string',\n",
       "     '_apply': 'replace',\n",
       "     '_serialize': 'serialize_string',\n",
       "     '_deserialize': 'deserialize_string',\n",
       "     '_description': '64-bit integer'},\n",
       "    '_inherit': ['list[string]']},\n",
       "   '_inherit': ['tree[path]']},\n",
       "  'outputs': {'_type': 'wires',\n",
       "   '_default': {},\n",
       "   '_check': 'check_tree',\n",
       "   '_slice': 'slice_tree',\n",
       "   '_apply': 'apply_tree',\n",
       "   '_serialize': 'serialize_tree',\n",
       "   '_deserialize': 'deserialize_tree',\n",
       "   '_fold': 'fold_tree',\n",
       "   '_divide': 'divide_tree',\n",
       "   '_type_parameters': ['leaf'],\n",
       "   '_description': 'mapping from str to some type in a potentially nested form',\n",
       "   '_leaf': {'_type': 'path',\n",
       "    '_default': [],\n",
       "    '_check': 'check_list',\n",
       "    '_slice': 'slice_list',\n",
       "    '_apply': 'apply_path',\n",
       "    '_serialize': 'serialize_list',\n",
       "    '_deserialize': 'deserialize_list',\n",
       "    '_fold': 'fold_list',\n",
       "    '_divide': 'divide_list',\n",
       "    '_type_parameters': ['element'],\n",
       "    '_description': 'general list type (or sublists)',\n",
       "    '_element': {'_type': 'string',\n",
       "     '_default': '',\n",
       "     '_check': 'check_string',\n",
       "     '_apply': 'replace',\n",
       "     '_serialize': 'serialize_string',\n",
       "     '_deserialize': 'deserialize_string',\n",
       "     '_description': '64-bit integer'},\n",
       "    '_inherit': ['list[string]']},\n",
       "   '_inherit': ['tree[path]']}},\n",
       " 'molecules': {'glucose': {'_type': 'float',\n",
       "   '_check': 'check_float',\n",
       "   '_apply': 'accumulate',\n",
       "   '_serialize': 'to_string',\n",
       "   '_description': '64-bit floating point precision number',\n",
       "   '_default': '0.0',\n",
       "   '_deserialize': 'deserialize_float',\n",
       "   '_divide': 'divide_float',\n",
       "   '_inherit': ['number'],\n",
       "   'molecules': {'glucose': {'edge': {'_type': 'edge',\n",
       "      '_inputs': {'concentration': 'float', 'field': 'map[boolean]'},\n",
       "      '_outputs': {'target': 'boolean', 'total': 'integer', 'delta': 'float'},\n",
       "      '_default': {'inputs': {}, 'outputs': {}},\n",
       "      '_apply': 'apply_edge',\n",
       "      '_serialize': 'serialize_edge',\n",
       "      '_deserialize': 'deserialize_edge',\n",
       "      '_check': 'check_edge',\n",
       "      '_type_parameters': ['inputs', 'outputs'],\n",
       "      '_description': 'hyperedges in the bigraph, with inputs and outputs as type parameters',\n",
       "      'inputs': {'_type': 'wires',\n",
       "       '_default': {},\n",
       "       '_check': 'check_tree',\n",
       "       '_slice': 'slice_tree',\n",
       "       '_apply': 'apply_tree',\n",
       "       '_serialize': 'serialize_tree',\n",
       "       '_deserialize': 'deserialize_tree',\n",
       "       '_fold': 'fold_tree',\n",
       "       '_divide': 'divide_tree',\n",
       "       '_type_parameters': ['leaf'],\n",
       "       '_description': 'mapping from str to some type in a potentially nested form',\n",
       "       '_leaf': {'_type': 'path',\n",
       "        '_default': [],\n",
       "        '_check': 'check_list',\n",
       "        '_slice': 'slice_list',\n",
       "        '_apply': 'apply_path',\n",
       "        '_serialize': 'serialize_list',\n",
       "        '_deserialize': 'deserialize_list',\n",
       "        '_fold': 'fold_list',\n",
       "        '_divide': 'divide_list',\n",
       "        '_type_parameters': ['element'],\n",
       "        '_description': 'general list type (or sublists)',\n",
       "        '_element': {'_type': 'string',\n",
       "         '_default': '',\n",
       "         '_check': 'check_string',\n",
       "         '_apply': 'replace',\n",
       "         '_serialize': 'serialize_string',\n",
       "         '_deserialize': 'deserialize_string',\n",
       "         '_description': '64-bit integer'},\n",
       "        '_inherit': ['list[string]']},\n",
       "       '_inherit': ['tree[path]']},\n",
       "      'outputs': {'_type': 'wires',\n",
       "       '_default': {},\n",
       "       '_check': 'check_tree',\n",
       "       '_slice': 'slice_tree',\n",
       "       '_apply': 'apply_tree',\n",
       "       '_serialize': 'serialize_tree',\n",
       "       '_deserialize': 'deserialize_tree',\n",
       "       '_fold': 'fold_tree',\n",
       "       '_divide': 'divide_tree',\n",
       "       '_type_parameters': ['leaf'],\n",
       "       '_description': 'mapping from str to some type in a potentially nested form',\n",
       "       '_leaf': {'_type': 'path',\n",
       "        '_default': [],\n",
       "        '_check': 'check_list',\n",
       "        '_slice': 'slice_list',\n",
       "        '_apply': 'apply_path',\n",
       "        '_serialize': 'serialize_list',\n",
       "        '_deserialize': 'deserialize_list',\n",
       "        '_fold': 'fold_list',\n",
       "        '_divide': 'divide_list',\n",
       "        '_type_parameters': ['element'],\n",
       "        '_description': 'general list type (or sublists)',\n",
       "        '_element': {'_type': 'string',\n",
       "         '_default': '',\n",
       "         '_check': 'check_string',\n",
       "         '_apply': 'replace',\n",
       "         '_serialize': 'serialize_string',\n",
       "         '_deserialize': 'deserialize_string',\n",
       "         '_description': '64-bit integer'},\n",
       "        '_inherit': ['list[string]']},\n",
       "       '_inherit': ['tree[path]']}},\n",
       "     'molecules': {'glucose': {...}},\n",
       "     'states': {'_type': 'map',\n",
       "      '_default': {},\n",
       "      '_apply': 'apply_map',\n",
       "      '_serialize': 'serialize_map',\n",
       "      '_deserialize': 'deserialize_map',\n",
       "      '_check': 'check_map',\n",
       "      '_slice': 'slice_map',\n",
       "      '_fold': 'fold_map',\n",
       "      '_divide': 'divide_map',\n",
       "      '_type_parameters': ['value'],\n",
       "      '_description': 'flat mapping from keys of strings to values of any type',\n",
       "      '_value': {'_type': 'boolean',\n",
       "       '_default': False,\n",
       "       '_check': 'check_boolean',\n",
       "       '_apply': 'apply_boolean',\n",
       "       '_serialize': 'serialize_boolean',\n",
       "       '_deserialize': 'deserialize_boolean'},\n",
       "      'growth': {'_type': 'boolean',\n",
       "       '_default': False,\n",
       "       '_check': 'check_boolean',\n",
       "       '_apply': 'apply_boolean',\n",
       "       '_serialize': 'serialize_boolean',\n",
       "       '_deserialize': 'deserialize_boolean'}},\n",
       "     'emitter': {'total molecules': {'_type': 'integer',\n",
       "       '_check': 'check_integer',\n",
       "       '_apply': 'accumulate',\n",
       "       '_serialize': 'to_string',\n",
       "       '_description': '64-bit integer',\n",
       "       '_default': '0',\n",
       "       '_deserialize': 'deserialize_integer',\n",
       "       '_inherit': ['number']}}}}}},\n",
       " 'states': {'_type': 'map',\n",
       "  '_default': {},\n",
       "  '_apply': 'apply_map',\n",
       "  '_serialize': 'serialize_map',\n",
       "  '_deserialize': 'deserialize_map',\n",
       "  '_check': 'check_map',\n",
       "  '_slice': 'slice_map',\n",
       "  '_fold': 'fold_map',\n",
       "  '_divide': 'divide_map',\n",
       "  '_type_parameters': ['value'],\n",
       "  '_description': 'flat mapping from keys of strings to values of any type',\n",
       "  '_value': {'_type': 'boolean',\n",
       "   '_default': False,\n",
       "   '_check': 'check_boolean',\n",
       "   '_apply': 'apply_boolean',\n",
       "   '_serialize': 'serialize_boolean',\n",
       "   '_deserialize': 'deserialize_boolean'},\n",
       "  'growth': {'_type': 'boolean',\n",
       "   '_default': False,\n",
       "   '_check': 'check_boolean',\n",
       "   '_apply': 'apply_boolean',\n",
       "   '_serialize': 'serialize_boolean',\n",
       "   '_deserialize': 'deserialize_boolean'}},\n",
       " 'emitter': {'total molecules': {'_type': 'integer',\n",
       "   '_check': 'check_integer',\n",
       "   '_apply': 'accumulate',\n",
       "   '_serialize': 'to_string',\n",
       "   '_description': '64-bit integer',\n",
       "   '_default': '0',\n",
       "   '_deserialize': 'deserialize_integer',\n",
       "   '_inherit': ['number']}}}"
      ]
     },
     "execution_count": 40,
     "metadata": {},
     "output_type": "execute_result"
    }
   ],
   "source": [
    "full_schema"
   ]
  },
  {
   "cell_type": "markdown",
   "id": "06b49c3e",
   "metadata": {},
   "source": [
    "## view and project\n",
    "\n",
    "The point of edge interfaces is that the process designer shouldn't need to worry how their process is going to be wired in to a particular simulation, they can define the behavior of the `update(inputs, interval)` method in terms of its inputs and outputs schema in a simple and idealized form and let the wiring allow it to fit in any (type-matching) way with respect to a given structured state. \n",
    "\n",
    "Along these lines, we need a way to \"view\" a state from the perspective of an edge and its inputs, and also to \"project\" the outputs from the form the edge defined to the one implied by its outputs. "
   ]
  },
  {
   "cell_type": "markdown",
   "id": "3b859449",
   "metadata": {},
   "source": [
    "Here are the input paths for our edge, ie the mapping from how the process sees the values it operates on to the actual places in the state where those values live. "
   ]
  },
  {
   "cell_type": "code",
   "execution_count": 41,
   "id": "57334859",
   "metadata": {},
   "outputs": [
    {
     "data": {
      "text/plain": [
       "{'concentration': ['molecules', 'glucose'], 'field': ['states']}"
      ]
     },
     "execution_count": 41,
     "metadata": {},
     "output_type": "execute_result"
    }
   ],
   "source": [
    "full_state['edge']['inputs']"
   ]
  },
  {
   "cell_type": "markdown",
   "id": "d5f22a21",
   "metadata": {},
   "source": [
    "When we \"view\" the state we receive it in the form the edge expects based on its schema and inputs:"
   ]
  },
  {
   "cell_type": "code",
   "execution_count": 42,
   "id": "db5153dd",
   "metadata": {},
   "outputs": [
    {
     "data": {
      "text/plain": [
       "{'concentration': 10.0, 'field': {'growth': False}}"
      ]
     },
     "execution_count": 42,
     "metadata": {},
     "output_type": "execute_result"
    }
   ],
   "source": [
    "core.view_edge(full_schema, full_state, ['edge'])"
   ]
  },
  {
   "cell_type": "markdown",
   "id": "a914d902",
   "metadata": {},
   "source": [
    "When instead we \"project\" we are taking a state that's produced by the edge according to its outputs schema and translating that back into wherever the output paths are pointing in the total state:"
   ]
  },
  {
   "cell_type": "code",
   "execution_count": 43,
   "id": "003daf71",
   "metadata": {},
   "outputs": [
    {
     "data": {
      "text/plain": [
       "{'target': ['states', 'growth'],\n",
       " 'total': ['emitter', 'total molecules'],\n",
       " 'delta': ['molecules', 'glucose']}"
      ]
     },
     "execution_count": 43,
     "metadata": {},
     "output_type": "execute_result"
    }
   ],
   "source": [
    "full_state['edge']['outputs']"
   ]
  },
  {
   "cell_type": "code",
   "execution_count": 44,
   "id": "314e0726",
   "metadata": {},
   "outputs": [
    {
     "data": {
      "text/plain": [
       "{'states': {'growth': True},\n",
       " 'emitter': {'total molecules': 55},\n",
       " 'molecules': {'glucose': -0.001}}"
      ]
     },
     "execution_count": 44,
     "metadata": {},
     "output_type": "execute_result"
    }
   ],
   "source": [
    "projection = core.project_edge(\n",
    "    full_schema, \n",
    "    full_state, \n",
    "    ['edge'], \n",
    "    {'target': True, 'total': 55, 'delta': -0.001})\n",
    "projection"
   ]
  },
  {
   "cell_type": "markdown",
   "id": "ad6a98cc",
   "metadata": {},
   "source": [
    "## apply\n",
    "\n",
    "So what can we do with `view_edge` and `project_edge`? We can formulate inputs into the edge from the surrounding state in the perspective the edge expects (view), the edge can perform some computation on it, produce an update in the form of its outputs, then translate that back into the original form of the outer state (project, which could be totally different as long as the types of each of the ports match). Once we have an update in the form of the outer state we can \"apply\" that update back onto the original state, thereby incorporating into the simulation state a change contributed by one of the edges in that simulation. By iterating this you can perform an entire simulation, producing a timeseries of structure and states that can be further analyzed or composed with other simulations. "
   ]
  },
  {
   "cell_type": "markdown",
   "id": "0b726f3c",
   "metadata": {},
   "source": [
    "As an example, let's use the projection of the update we computed above:"
   ]
  },
  {
   "cell_type": "code",
   "execution_count": 46,
   "id": "b314bfb7",
   "metadata": {},
   "outputs": [
    {
     "data": {
      "text/plain": [
       "{'edge': {'inputs': {'concentration': ['molecules', 'glucose'],\n",
       "   'field': ['states']},\n",
       "  'outputs': {'target': ['states', 'growth'],\n",
       "   'total': ['emitter', 'total molecules'],\n",
       "   'delta': ['molecules', 'glucose']}},\n",
       " 'molecules': {'glucose': 9.999},\n",
       " 'states': {'growth': True},\n",
       " 'emitter': {'total molecules': 55}}"
      ]
     },
     "execution_count": 46,
     "metadata": {},
     "output_type": "execute_result"
    }
   ],
   "source": [
    "core.apply(\n",
    "    full_schema, \n",
    "    full_state, \n",
    "    projection)"
   ]
  },
  {
   "cell_type": "markdown",
   "id": "2aa4d1fb",
   "metadata": {},
   "source": [
    "In this case we see the apply added the update to the existing value. Sometimes this is what we want (this is the meaning of the \"accumulate\" apply method) and sometimes its not. We can also override any of the methods in the schema (notice the original `full_state` is unchanged - applying an update always leaves the original state alone):"
   ]
  },
  {
   "cell_type": "code",
   "execution_count": 47,
   "id": "d0a228ce",
   "metadata": {},
   "outputs": [
    {
     "data": {
      "text/plain": [
       "{'edge': {'inputs': {'concentration': ['molecules', 'glucose'],\n",
       "   'field': ['states']},\n",
       "  'outputs': {'target': ['states', 'growth'],\n",
       "   'total': ['emitter', 'total molecules'],\n",
       "   'delta': ['molecules', 'glucose']}},\n",
       " 'molecules': {'glucose': 10.0},\n",
       " 'states': {'growth': False},\n",
       " 'emitter': {'total molecules': 0}}"
      ]
     },
     "execution_count": 47,
     "metadata": {},
     "output_type": "execute_result"
    }
   ],
   "source": [
    "full_state"
   ]
  },
  {
   "cell_type": "code",
   "execution_count": 48,
   "id": "65693903",
   "metadata": {},
   "outputs": [
    {
     "data": {
      "text/plain": [
       "{'edge': {'inputs': {'concentration': ['molecules', 'glucose'],\n",
       "   'field': ['states']},\n",
       "  'outputs': {'target': ['states', 'growth'],\n",
       "   'total': ['emitter', 'total molecules'],\n",
       "   'delta': ['molecules', 'glucose']}},\n",
       " 'molecules': {'glucose': -0.001},\n",
       " 'states': {'growth': True},\n",
       " 'emitter': {'total molecules': 55}}"
      ]
     },
     "execution_count": 48,
     "metadata": {},
     "output_type": "execute_result"
    }
   ],
   "source": [
    "full_schema['molecules']['glucose']['_apply'] = 'set'\n",
    "core.apply(full_schema, full_state, projection)"
   ]
  },
  {
   "cell_type": "code",
   "execution_count": null,
   "id": "b5c4e2e9",
   "metadata": {},
   "outputs": [],
   "source": []
  }
 ],
 "metadata": {
  "kernelspec": {
   "display_name": "Python 3 (ipykernel)",
   "language": "python",
   "name": "python3"
  },
  "language_info": {
   "codemirror_mode": {
    "name": "ipython",
    "version": 3
   },
   "file_extension": ".py",
   "mimetype": "text/x-python",
   "name": "python",
   "nbconvert_exporter": "python",
   "pygments_lexer": "ipython3",
   "version": "3.9.6"
  }
 },
 "nbformat": 4,
 "nbformat_minor": 5
}
