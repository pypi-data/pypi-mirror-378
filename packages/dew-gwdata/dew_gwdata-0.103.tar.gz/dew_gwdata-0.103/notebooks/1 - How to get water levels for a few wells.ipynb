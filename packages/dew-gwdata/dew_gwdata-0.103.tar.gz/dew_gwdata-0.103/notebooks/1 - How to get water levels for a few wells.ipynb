{
 "cells": [
  {
   "cell_type": "markdown",
   "metadata": {},
   "source": [
    "# 1 - How to get water levels for a few wells\n",
    "\n",
    "Import the main package."
   ]
  },
  {
   "cell_type": "code",
   "execution_count": 1,
   "metadata": {},
   "outputs": [],
   "source": [
    "import dew_gwdata"
   ]
  },
  {
   "cell_type": "markdown",
   "metadata": {},
   "source": [
    "Get a connection to SA Geodata"
   ]
  },
  {
   "cell_type": "code",
   "execution_count": 2,
   "metadata": {},
   "outputs": [],
   "source": [
    "db = dew_gwdata.sageodata()"
   ]
  },
  {
   "cell_type": "code",
   "execution_count": 3,
   "metadata": {},
   "outputs": [
    {
     "data": {
      "text/plain": [
       "<dew_gwdata._sageodata.SAGeodataConnection to gwquery@pirsapd07.pirsa.sa.gov.au:1521/DMEP.World>"
      ]
     },
     "execution_count": 3,
     "metadata": {},
     "output_type": "execute_result"
    }
   ],
   "source": [
    "db"
   ]
  },
  {
   "cell_type": "markdown",
   "metadata": {},
   "source": [
    "Query for some specific wells by unit number and obs. no. Each of these are separate wells, but it doesn't matter if there duplicates."
   ]
  },
  {
   "cell_type": "code",
   "execution_count": 4,
   "metadata": {},
   "outputs": [],
   "source": [
    "wells = db.find_wells(\"lkw040 lkw64 5928-201,602802321\")"
   ]
  },
  {
   "cell_type": "code",
   "execution_count": 5,
   "metadata": {},
   "outputs": [
    {
     "data": {
      "text/plain": [
       "['5928-201', 'LKW040', '6028-2321', 'LKW064']"
      ]
     },
     "execution_count": 5,
     "metadata": {},
     "output_type": "execute_result"
    }
   ],
   "source": [
    "wells"
   ]
  },
  {
   "cell_type": "markdown",
   "metadata": {},
   "source": [
    "This is an ``sa_gwdata.Wells`` object, which closely mimics a Python list. \n",
    "It contains ``sa_gwdata.Well`` objects - see [more information here](https://python-sa-gwdata.readthedocs.io/en/latest/python.html#sa_gwdata.Well)."
   ]
  },
  {
   "cell_type": "markdown",
   "metadata": {},
   "source": [
    "Now let's get a summary of details about these wells using a one ``dew_gwdata``'s predefined SA Geodata queries."
   ]
  },
  {
   "cell_type": "code",
   "execution_count": 6,
   "metadata": {
    "scrolled": false
   },
   "outputs": [
    {
     "name": "stdout",
     "output_type": "stream",
     "text": [
      "<class 'pandas.core.frame.DataFrame'>\n",
      "RangeIndex: 4 entries, 0 to 3\n",
      "Data columns (total 12 columns):\n",
      "well_id        4 non-null object\n",
      "dh_no          4 non-null int64\n",
      "unit_long      4 non-null int64\n",
      "unit_hyphen    4 non-null object\n",
      "obs_no         2 non-null object\n",
      "dh_name        2 non-null object\n",
      "easting        4 non-null float64\n",
      "northing       4 non-null float64\n",
      "zone           4 non-null int64\n",
      "latitude       4 non-null float64\n",
      "longitude      4 non-null float64\n",
      "aquifer        2 non-null object\n",
      "dtypes: float64(4), int64(3), object(5)\n",
      "memory usage: 344.0+ bytes\n"
     ]
    }
   ],
   "source": [
    "df = db.drillhole_details(wells)\n",
    "df.info()"
   ]
  },
  {
   "cell_type": "markdown",
   "metadata": {},
   "source": [
    "Let's only look at the columns which contain well identifers."
   ]
  },
  {
   "cell_type": "code",
   "execution_count": 7,
   "metadata": {},
   "outputs": [
    {
     "data": {
      "text/html": [
       "<div>\n",
       "<style scoped>\n",
       "    .dataframe tbody tr th:only-of-type {\n",
       "        vertical-align: middle;\n",
       "    }\n",
       "\n",
       "    .dataframe tbody tr th {\n",
       "        vertical-align: top;\n",
       "    }\n",
       "\n",
       "    .dataframe thead th {\n",
       "        text-align: right;\n",
       "    }\n",
       "</style>\n",
       "<table border=\"1\" class=\"dataframe\">\n",
       "  <thead>\n",
       "    <tr style=\"text-align: right;\">\n",
       "      <th></th>\n",
       "      <th>well_id</th>\n",
       "      <th>dh_no</th>\n",
       "      <th>unit_long</th>\n",
       "      <th>unit_hyphen</th>\n",
       "      <th>obs_no</th>\n",
       "      <th>dh_name</th>\n",
       "      <th>easting</th>\n",
       "      <th>northing</th>\n",
       "      <th>zone</th>\n",
       "      <th>latitude</th>\n",
       "      <th>longitude</th>\n",
       "      <th>aquifer</th>\n",
       "    </tr>\n",
       "  </thead>\n",
       "  <tbody>\n",
       "    <tr>\n",
       "      <th>0</th>\n",
       "      <td>5928-201</td>\n",
       "      <td>7205</td>\n",
       "      <td>592800201</td>\n",
       "      <td>5928-201</td>\n",
       "      <td>None</td>\n",
       "      <td>None</td>\n",
       "      <td>545780.36</td>\n",
       "      <td>6168904.38</td>\n",
       "      <td>53</td>\n",
       "      <td>-34.620707</td>\n",
       "      <td>135.499398</td>\n",
       "      <td>None</td>\n",
       "    </tr>\n",
       "    <tr>\n",
       "      <th>1</th>\n",
       "      <td>LKW040</td>\n",
       "      <td>7310</td>\n",
       "      <td>592800306</td>\n",
       "      <td>5928-306</td>\n",
       "      <td>LKW040</td>\n",
       "      <td>CB TWS INVESTIGATION 3</td>\n",
       "      <td>544296.75</td>\n",
       "      <td>6167305.54</td>\n",
       "      <td>53</td>\n",
       "      <td>-34.635190</td>\n",
       "      <td>135.483298</td>\n",
       "      <td>Tbw</td>\n",
       "    </tr>\n",
       "    <tr>\n",
       "      <th>2</th>\n",
       "      <td>6028-2321</td>\n",
       "      <td>198986</td>\n",
       "      <td>602802321</td>\n",
       "      <td>6028-2321</td>\n",
       "      <td>None</td>\n",
       "      <td>None</td>\n",
       "      <td>546676.68</td>\n",
       "      <td>6167528.47</td>\n",
       "      <td>53</td>\n",
       "      <td>-34.633074</td>\n",
       "      <td>135.509251</td>\n",
       "      <td>None</td>\n",
       "    </tr>\n",
       "    <tr>\n",
       "      <th>3</th>\n",
       "      <td>LKW064</td>\n",
       "      <td>283736</td>\n",
       "      <td>592800459</td>\n",
       "      <td>5928-459</td>\n",
       "      <td>LKW064</td>\n",
       "      <td>COFFIN BAY 2</td>\n",
       "      <td>545648.71</td>\n",
       "      <td>6168123.45</td>\n",
       "      <td>53</td>\n",
       "      <td>-34.627755</td>\n",
       "      <td>135.498004</td>\n",
       "      <td>Qpcb</td>\n",
       "    </tr>\n",
       "  </tbody>\n",
       "</table>\n",
       "</div>"
      ],
      "text/plain": [
       "     well_id   dh_no  unit_long unit_hyphen  obs_no                 dh_name  \\\n",
       "0   5928-201    7205  592800201    5928-201    None                    None   \n",
       "1     LKW040    7310  592800306    5928-306  LKW040  CB TWS INVESTIGATION 3   \n",
       "2  6028-2321  198986  602802321   6028-2321    None                    None   \n",
       "3     LKW064  283736  592800459    5928-459  LKW064            COFFIN BAY 2   \n",
       "\n",
       "     easting    northing  zone   latitude   longitude aquifer  \n",
       "0  545780.36  6168904.38    53 -34.620707  135.499398    None  \n",
       "1  544296.75  6167305.54    53 -34.635190  135.483298     Tbw  \n",
       "2  546676.68  6167528.47    53 -34.633074  135.509251    None  \n",
       "3  545648.71  6168123.45    53 -34.627755  135.498004    Qpcb  "
      ]
     },
     "execution_count": 7,
     "metadata": {},
     "output_type": "execute_result"
    }
   ],
   "source": [
    "df"
   ]
  },
  {
   "cell_type": "markdown",
   "metadata": {},
   "source": [
    "Note the column **well_id**. This will contain the obs_no if it exists, otherwise it'll contain the unit number in hyphenated form.\n",
    "\n",
    "These columns should be present in the same order and format in all the predefined queries."
   ]
  },
  {
   "cell_type": "markdown",
   "metadata": {},
   "source": [
    "Now let's get water levels!\n",
    "\n",
    "You can query SA Geodata directly, or use a handy list of predefined queries, similar to Lloyd's Access database. These queries are not very well documented - you can see the SQL for them [here](http://envtelem04:3000/groundwater/dew_gwdata/src/branch/master/dew_gwdata/sageodata_queries). Each is basically a method on the ``db`` object.\n",
    "\n",
    "The query for water level data is called \"water_levels\". So:"
   ]
  },
  {
   "cell_type": "code",
   "execution_count": 8,
   "metadata": {},
   "outputs": [],
   "source": [
    "swls = db.water_levels(wells)"
   ]
  },
  {
   "cell_type": "markdown",
   "metadata": {},
   "source": [
    "And the method ``db.water_levels(...)`` returned a DataFrame, according to the [predefined query for it](http://envtelem04:3000/kinverarity/wsamdata/src/branch/master/wsamdata/sageodata/queries/water_levels.sql):"
   ]
  },
  {
   "cell_type": "code",
   "execution_count": 9,
   "metadata": {},
   "outputs": [
    {
     "name": "stdout",
     "output_type": "stream",
     "text": [
      "<class 'pandas.core.frame.DataFrame'>\n",
      "RangeIndex: 322 entries, 0 to 321\n",
      "Data columns (total 28 columns):\n",
      "well_id            322 non-null object\n",
      "dh_no              322 non-null int64\n",
      "unit_long          322 non-null int64\n",
      "unit_hyphen        322 non-null object\n",
      "obs_no             320 non-null object\n",
      "dh_name            320 non-null object\n",
      "easting            322 non-null float64\n",
      "northing           322 non-null float64\n",
      "zone               322 non-null int64\n",
      "latitude           322 non-null float64\n",
      "longitude          322 non-null float64\n",
      "aquifer            320 non-null object\n",
      "obs_date           322 non-null datetime64[ns]\n",
      "swl                321 non-null float64\n",
      "dtw                322 non-null float64\n",
      "rswl               321 non-null float64\n",
      "pressure           0 non-null object\n",
      "temperature        1 non-null float64\n",
      "dry_ind            0 non-null object\n",
      "anomalous_ind      322 non-null object\n",
      "pumping_ind        322 non-null object\n",
      "measured_during    322 non-null object\n",
      "data_source        322 non-null object\n",
      "comments           10 non-null object\n",
      "created_by         322 non-null object\n",
      "creation_date      322 non-null datetime64[ns]\n",
      "modified_by        151 non-null object\n",
      "modified_date      151 non-null datetime64[ns]\n",
      "dtypes: datetime64[ns](3), float64(8), int64(3), object(14)\n",
      "memory usage: 52.9+ KB\n"
     ]
    }
   ],
   "source": [
    "swls.info()"
   ]
  },
  {
   "cell_type": "code",
   "execution_count": 11,
   "metadata": {},
   "outputs": [
    {
     "data": {
      "text/html": [
       "<div>\n",
       "<style scoped>\n",
       "    .dataframe tbody tr th:only-of-type {\n",
       "        vertical-align: middle;\n",
       "    }\n",
       "\n",
       "    .dataframe tbody tr th {\n",
       "        vertical-align: top;\n",
       "    }\n",
       "\n",
       "    .dataframe thead th {\n",
       "        text-align: right;\n",
       "    }\n",
       "</style>\n",
       "<table border=\"1\" class=\"dataframe\">\n",
       "  <thead>\n",
       "    <tr style=\"text-align: right;\">\n",
       "      <th></th>\n",
       "      <th>well_id</th>\n",
       "      <th>obs_date</th>\n",
       "      <th>swl</th>\n",
       "      <th>dtw</th>\n",
       "      <th>rswl</th>\n",
       "      <th>dry_ind</th>\n",
       "      <th>measured_during</th>\n",
       "      <th>data_source</th>\n",
       "    </tr>\n",
       "  </thead>\n",
       "  <tbody>\n",
       "    <tr>\n",
       "      <th>0</th>\n",
       "      <td>5928-201</td>\n",
       "      <td>1950-11-01</td>\n",
       "      <td>2.44</td>\n",
       "      <td>2.44</td>\n",
       "      <td>1.87</td>\n",
       "      <td>None</td>\n",
       "      <td>U</td>\n",
       "      <td>DEWNR</td>\n",
       "    </tr>\n",
       "    <tr>\n",
       "      <th>1</th>\n",
       "      <td>LKW040</td>\n",
       "      <td>1985-04-02</td>\n",
       "      <td>NaN</td>\n",
       "      <td>2.64</td>\n",
       "      <td>NaN</td>\n",
       "      <td>None</td>\n",
       "      <td>D</td>\n",
       "      <td>DEWNR</td>\n",
       "    </tr>\n",
       "    <tr>\n",
       "      <th>2</th>\n",
       "      <td>LKW040</td>\n",
       "      <td>1986-11-07</td>\n",
       "      <td>3.06</td>\n",
       "      <td>3.37</td>\n",
       "      <td>1.28</td>\n",
       "      <td>None</td>\n",
       "      <td>M</td>\n",
       "      <td>DEWNR</td>\n",
       "    </tr>\n",
       "    <tr>\n",
       "      <th>3</th>\n",
       "      <td>LKW040</td>\n",
       "      <td>1986-12-02</td>\n",
       "      <td>3.16</td>\n",
       "      <td>3.47</td>\n",
       "      <td>1.18</td>\n",
       "      <td>None</td>\n",
       "      <td>M</td>\n",
       "      <td>DEWNR</td>\n",
       "    </tr>\n",
       "    <tr>\n",
       "      <th>4</th>\n",
       "      <td>LKW040</td>\n",
       "      <td>1987-01-02</td>\n",
       "      <td>3.18</td>\n",
       "      <td>3.49</td>\n",
       "      <td>1.16</td>\n",
       "      <td>None</td>\n",
       "      <td>M</td>\n",
       "      <td>DEWNR</td>\n",
       "    </tr>\n",
       "  </tbody>\n",
       "</table>\n",
       "</div>"
      ],
      "text/plain": [
       "    well_id   obs_date   swl   dtw  rswl dry_ind measured_during data_source\n",
       "0  5928-201 1950-11-01  2.44  2.44  1.87    None               U       DEWNR\n",
       "1    LKW040 1985-04-02   NaN  2.64   NaN    None               D       DEWNR\n",
       "2    LKW040 1986-11-07  3.06  3.37  1.28    None               M       DEWNR\n",
       "3    LKW040 1986-12-02  3.16  3.47  1.18    None               M       DEWNR\n",
       "4    LKW040 1987-01-02  3.18  3.49  1.16    None               M       DEWNR"
      ]
     },
     "execution_count": 11,
     "metadata": {},
     "output_type": "execute_result"
    }
   ],
   "source": [
    "swls[\n",
    "    [\n",
    "        \"well_id\",\n",
    "        \"obs_date\",\n",
    "        \"swl\",\n",
    "        \"dtw\",\n",
    "        \"rswl\",\n",
    "        \"dry_ind\",\n",
    "        \"measured_during\",\n",
    "        \"data_source\",\n",
    "    ]\n",
    "].head()"
   ]
  },
  {
   "cell_type": "markdown",
   "metadata": {},
   "source": [
    "How many water level measurements are there for each well?"
   ]
  },
  {
   "cell_type": "code",
   "execution_count": 13,
   "metadata": {},
   "outputs": [
    {
     "data": {
      "text/plain": [
       "well_id\n",
       "5928-201       1\n",
       "6028-2321      1\n",
       "LKW040       313\n",
       "LKW064         6\n",
       "Name: obs_date, dtype: int64"
      ]
     },
     "execution_count": 13,
     "metadata": {},
     "output_type": "execute_result"
    }
   ],
   "source": [
    "swls.groupby(\"well_id\").obs_date.nunique()"
   ]
  },
  {
   "cell_type": "markdown",
   "metadata": {},
   "source": [
    "How about the first and last?"
   ]
  },
  {
   "cell_type": "code",
   "execution_count": 14,
   "metadata": {},
   "outputs": [
    {
     "data": {
      "text/html": [
       "<div>\n",
       "<style scoped>\n",
       "    .dataframe tbody tr th:only-of-type {\n",
       "        vertical-align: middle;\n",
       "    }\n",
       "\n",
       "    .dataframe tbody tr th {\n",
       "        vertical-align: top;\n",
       "    }\n",
       "\n",
       "    .dataframe thead th {\n",
       "        text-align: right;\n",
       "    }\n",
       "</style>\n",
       "<table border=\"1\" class=\"dataframe\">\n",
       "  <thead>\n",
       "    <tr style=\"text-align: right;\">\n",
       "      <th></th>\n",
       "      <th>min</th>\n",
       "      <th>max</th>\n",
       "    </tr>\n",
       "    <tr>\n",
       "      <th>well_id</th>\n",
       "      <th></th>\n",
       "      <th></th>\n",
       "    </tr>\n",
       "  </thead>\n",
       "  <tbody>\n",
       "    <tr>\n",
       "      <th>5928-201</th>\n",
       "      <td>1950-11-01</td>\n",
       "      <td>1950-11-01 00:00:00</td>\n",
       "    </tr>\n",
       "    <tr>\n",
       "      <th>6028-2321</th>\n",
       "      <td>2004-02-27</td>\n",
       "      <td>2004-02-27 00:00:00</td>\n",
       "    </tr>\n",
       "    <tr>\n",
       "      <th>LKW040</th>\n",
       "      <td>1985-04-02</td>\n",
       "      <td>2019-07-11 00:00:00</td>\n",
       "    </tr>\n",
       "    <tr>\n",
       "      <th>LKW064</th>\n",
       "      <td>2014-11-30</td>\n",
       "      <td>2019-04-03 12:30:01</td>\n",
       "    </tr>\n",
       "  </tbody>\n",
       "</table>\n",
       "</div>"
      ],
      "text/plain": [
       "                 min                 max\n",
       "well_id                                 \n",
       "5928-201  1950-11-01 1950-11-01 00:00:00\n",
       "6028-2321 2004-02-27 2004-02-27 00:00:00\n",
       "LKW040    1985-04-02 2019-07-11 00:00:00\n",
       "LKW064    2014-11-30 2019-04-03 12:30:01"
      ]
     },
     "execution_count": 14,
     "metadata": {},
     "output_type": "execute_result"
    }
   ],
   "source": [
    "swls.groupby(\"well_id\").obs_date.agg([\"min\", \"max\"])"
   ]
  },
  {
   "cell_type": "code",
   "execution_count": null,
   "metadata": {},
   "outputs": [],
   "source": []
  }
 ],
 "metadata": {
  "kernelspec": {
   "display_name": "Python 3 (ipykernel)",
   "language": "python",
   "name": "python3"
  },
  "language_info": {
   "codemirror_mode": {
    "name": "ipython",
    "version": 3
   },
   "file_extension": ".py",
   "mimetype": "text/x-python",
   "name": "python",
   "nbconvert_exporter": "python",
   "pygments_lexer": "ipython3",
   "version": "3.10.10"
  }
 },
 "nbformat": 4,
 "nbformat_minor": 2
}
