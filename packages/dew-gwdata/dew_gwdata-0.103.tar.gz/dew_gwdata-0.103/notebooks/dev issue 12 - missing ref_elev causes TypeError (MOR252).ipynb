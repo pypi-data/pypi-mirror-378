{
 "cells": [
  {
   "cell_type": "code",
   "execution_count": 1,
   "metadata": {},
   "outputs": [],
   "source": [
    "import dew_gwdata as gd"
   ]
  },
  {
   "cell_type": "code",
   "execution_count": 2,
   "metadata": {},
   "outputs": [],
   "source": [
    "db = gd.sageodata()"
   ]
  },
  {
   "cell_type": "code",
   "execution_count": 3,
   "metadata": {},
   "outputs": [],
   "source": [
    "wells = db.find_wells(\"MOR252\")"
   ]
  },
  {
   "cell_type": "code",
   "execution_count": 8,
   "metadata": {},
   "outputs": [],
   "source": [
    "mwls = db.water_levels(wells)"
   ]
  },
  {
   "cell_type": "code",
   "execution_count": 10,
   "metadata": {},
   "outputs": [],
   "source": [
    "wls = gd.fetch_hydstra_dtw_data(wells)"
   ]
  },
  {
   "cell_type": "code",
   "execution_count": 11,
   "metadata": {},
   "outputs": [
    {
     "data": {
      "text/html": [
       "<div>\n",
       "<style scoped>\n",
       "    .dataframe tbody tr th:only-of-type {\n",
       "        vertical-align: middle;\n",
       "    }\n",
       "\n",
       "    .dataframe tbody tr th {\n",
       "        vertical-align: top;\n",
       "    }\n",
       "\n",
       "    .dataframe thead th {\n",
       "        text-align: right;\n",
       "    }\n",
       "</style>\n",
       "<table border=\"1\" class=\"dataframe\">\n",
       "  <thead>\n",
       "    <tr style=\"text-align: right;\">\n",
       "      <th></th>\n",
       "      <th>0</th>\n",
       "      <th>1</th>\n",
       "    </tr>\n",
       "  </thead>\n",
       "  <tbody>\n",
       "    <tr>\n",
       "      <th>well_id</th>\n",
       "      <td>MOR252</td>\n",
       "      <td>MOR252</td>\n",
       "    </tr>\n",
       "    <tr>\n",
       "      <th>dh_no</th>\n",
       "      <td>187188</td>\n",
       "      <td>187188</td>\n",
       "    </tr>\n",
       "    <tr>\n",
       "      <th>unit_long</th>\n",
       "      <td>672803413</td>\n",
       "      <td>672803413</td>\n",
       "    </tr>\n",
       "    <tr>\n",
       "      <th>unit_hyphen</th>\n",
       "      <td>6728-3413</td>\n",
       "      <td>6728-3413</td>\n",
       "    </tr>\n",
       "    <tr>\n",
       "      <th>obs_no</th>\n",
       "      <td>MOR252</td>\n",
       "      <td>MOR252</td>\n",
       "    </tr>\n",
       "    <tr>\n",
       "      <th>dh_name</th>\n",
       "      <td>E 14C</td>\n",
       "      <td>E 14C</td>\n",
       "    </tr>\n",
       "    <tr>\n",
       "      <th>easting</th>\n",
       "      <td>326575</td>\n",
       "      <td>326575</td>\n",
       "    </tr>\n",
       "    <tr>\n",
       "      <th>northing</th>\n",
       "      <td>6.17622e+06</td>\n",
       "      <td>6.17622e+06</td>\n",
       "    </tr>\n",
       "    <tr>\n",
       "      <th>zone</th>\n",
       "      <td>54</td>\n",
       "      <td>54</td>\n",
       "    </tr>\n",
       "    <tr>\n",
       "      <th>latitude</th>\n",
       "      <td>-34.5411</td>\n",
       "      <td>-34.5411</td>\n",
       "    </tr>\n",
       "    <tr>\n",
       "      <th>longitude</th>\n",
       "      <td>139.11</td>\n",
       "      <td>139.11</td>\n",
       "    </tr>\n",
       "    <tr>\n",
       "      <th>aquifer</th>\n",
       "      <td>Eec</td>\n",
       "      <td>Eec</td>\n",
       "    </tr>\n",
       "    <tr>\n",
       "      <th>elev_no</th>\n",
       "      <td>113302</td>\n",
       "      <td>296458</td>\n",
       "    </tr>\n",
       "    <tr>\n",
       "      <th>ref_point_type</th>\n",
       "      <td>None</td>\n",
       "      <td>None</td>\n",
       "    </tr>\n",
       "    <tr>\n",
       "      <th>ref_elev</th>\n",
       "      <td>None</td>\n",
       "      <td>None</td>\n",
       "    </tr>\n",
       "    <tr>\n",
       "      <th>elev_date</th>\n",
       "      <td>2003-05-23 00:00:00</td>\n",
       "      <td>2009-06-05 00:00:00</td>\n",
       "    </tr>\n",
       "    <tr>\n",
       "      <th>ground_elev</th>\n",
       "      <td>418.02</td>\n",
       "      <td>417.81</td>\n",
       "    </tr>\n",
       "    <tr>\n",
       "      <th>vert_accuracy</th>\n",
       "      <td>None</td>\n",
       "      <td>None</td>\n",
       "    </tr>\n",
       "    <tr>\n",
       "      <th>survey_meth</th>\n",
       "      <td>SUR</td>\n",
       "      <td>DEM</td>\n",
       "    </tr>\n",
       "    <tr>\n",
       "      <th>applied_date</th>\n",
       "      <td>2001-01-31 00:00:00</td>\n",
       "      <td>NaT</td>\n",
       "    </tr>\n",
       "    <tr>\n",
       "      <th>ref_height</th>\n",
       "      <td>None</td>\n",
       "      <td>None</td>\n",
       "    </tr>\n",
       "    <tr>\n",
       "      <th>dist_elev_point_to_ground</th>\n",
       "      <td>None</td>\n",
       "      <td>None</td>\n",
       "    </tr>\n",
       "    <tr>\n",
       "      <th>comments</th>\n",
       "      <td>None</td>\n",
       "      <td>Ground elevations have been calculated using t...</td>\n",
       "    </tr>\n",
       "    <tr>\n",
       "      <th>created_by</th>\n",
       "      <td>GAHJM</td>\n",
       "      <td>GALDS</td>\n",
       "    </tr>\n",
       "    <tr>\n",
       "      <th>creation_date</th>\n",
       "      <td>2001-11-14 12:25:02</td>\n",
       "      <td>2009-07-02 17:15:22</td>\n",
       "    </tr>\n",
       "    <tr>\n",
       "      <th>modified_by</th>\n",
       "      <td>GADZU</td>\n",
       "      <td>None</td>\n",
       "    </tr>\n",
       "    <tr>\n",
       "      <th>modified_date</th>\n",
       "      <td>2003-08-06 10:26:01</td>\n",
       "      <td>NaT</td>\n",
       "    </tr>\n",
       "  </tbody>\n",
       "</table>\n",
       "</div>"
      ],
      "text/plain": [
       "                                             0  \\\n",
       "well_id                                 MOR252   \n",
       "dh_no                                   187188   \n",
       "unit_long                            672803413   \n",
       "unit_hyphen                          6728-3413   \n",
       "obs_no                                  MOR252   \n",
       "dh_name                                  E 14C   \n",
       "easting                                 326575   \n",
       "northing                           6.17622e+06   \n",
       "zone                                        54   \n",
       "latitude                              -34.5411   \n",
       "longitude                               139.11   \n",
       "aquifer                                    Eec   \n",
       "elev_no                                 113302   \n",
       "ref_point_type                            None   \n",
       "ref_elev                                  None   \n",
       "elev_date                  2003-05-23 00:00:00   \n",
       "ground_elev                             418.02   \n",
       "vert_accuracy                             None   \n",
       "survey_meth                                SUR   \n",
       "applied_date               2001-01-31 00:00:00   \n",
       "ref_height                                None   \n",
       "dist_elev_point_to_ground                 None   \n",
       "comments                                  None   \n",
       "created_by                               GAHJM   \n",
       "creation_date              2001-11-14 12:25:02   \n",
       "modified_by                              GADZU   \n",
       "modified_date              2003-08-06 10:26:01   \n",
       "\n",
       "                                                                           1  \n",
       "well_id                                                               MOR252  \n",
       "dh_no                                                                 187188  \n",
       "unit_long                                                          672803413  \n",
       "unit_hyphen                                                        6728-3413  \n",
       "obs_no                                                                MOR252  \n",
       "dh_name                                                                E 14C  \n",
       "easting                                                               326575  \n",
       "northing                                                         6.17622e+06  \n",
       "zone                                                                      54  \n",
       "latitude                                                            -34.5411  \n",
       "longitude                                                             139.11  \n",
       "aquifer                                                                  Eec  \n",
       "elev_no                                                               296458  \n",
       "ref_point_type                                                          None  \n",
       "ref_elev                                                                None  \n",
       "elev_date                                                2009-06-05 00:00:00  \n",
       "ground_elev                                                           417.81  \n",
       "vert_accuracy                                                           None  \n",
       "survey_meth                                                              DEM  \n",
       "applied_date                                                             NaT  \n",
       "ref_height                                                              None  \n",
       "dist_elev_point_to_ground                                               None  \n",
       "comments                   Ground elevations have been calculated using t...  \n",
       "created_by                                                             GALDS  \n",
       "creation_date                                            2009-07-02 17:15:22  \n",
       "modified_by                                                             None  \n",
       "modified_date                                                            NaT  "
      ]
     },
     "execution_count": 11,
     "metadata": {},
     "output_type": "execute_result"
    }
   ],
   "source": [
    "elevs = db.elevation_surveys(wells)\n",
    "elevs.T"
   ]
  },
  {
   "cell_type": "code",
   "execution_count": 12,
   "metadata": {},
   "outputs": [],
   "source": [
    "wls[\"rswl\"] = gd.transform_dtw_to_rswl(\n",
    "    wls,\n",
    "    elevs,\n",
    ")"
   ]
  },
  {
   "cell_type": "code",
   "execution_count": 13,
   "metadata": {},
   "outputs": [],
   "source": [
    "import wrap_technote as tn"
   ]
  },
  {
   "cell_type": "code",
   "execution_count": 14,
   "metadata": {},
   "outputs": [
    {
     "name": "stderr",
     "output_type": "stream",
     "text": [
      "C:\\Users\\kinverarity\\AppData\\Roaming\\Python\\Python37\\site-packages\\pandas\\plotting\\_matplotlib\\converter.py:102: FutureWarning: Using an implicitly registered datetime converter for a matplotlib plotting method. The converter was registered by pandas on import. Future versions of pandas will require you to explicitly register matplotlib converters.\n",
      "\n",
      "To register the converters:\n",
      "\t>>> from pandas.plotting import register_matplotlib_converters\n",
      "\t>>> register_matplotlib_converters()\n",
      "  warnings.warn(msg, FutureWarning)\n"
     ]
    },
    {
     "data": {
      "text/plain": [
       "<matplotlib.axes._subplots.AxesSubplot at 0x1e070a5b438>"
      ]
     },
     "execution_count": 14,
     "metadata": {},
     "output_type": "execute_result"
    },
    {
     "data": {
      "image/png": "[encoded data removed]",
      "text/plain": [
       "<Figure size 432x288 with 1 Axes>"
      ]
     },
     "metadata": {
      "needs_background": "light"
     },
     "output_type": "display_data"
    }
   ],
   "source": [
    "tn.plot_wls_with_logger(mwls, wls)"
   ]
  },
  {
   "cell_type": "code",
   "execution_count": null,
   "metadata": {},
   "outputs": [],
   "source": []
  }
 ],
 "metadata": {
  "kernelspec": {
   "display_name": "gw",
   "language": "python",
   "name": "gw"
  },
  "language_info": {
   "codemirror_mode": {
    "name": "ipython",
    "version": 3
   },
   "file_extension": ".py",
   "mimetype": "text/x-python",
   "name": "python",
   "nbconvert_exporter": "python",
   "pygments_lexer": "ipython3",
   "version": "3.7.3"
  }
 },
 "nbformat": 4,
 "nbformat_minor": 2
}
