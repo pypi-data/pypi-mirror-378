{
 "cells": [
  {
   "cell_type": "markdown",
   "metadata": {},
   "source": [
    "# 2 - Find all wells in a PWA or PWRA"
   ]
  },
  {
   "cell_type": "code",
   "execution_count": 1,
   "metadata": {},
   "outputs": [],
   "source": [
    "import dew_gwdata\n",
    "\n",
    "db = dew_gwdata.sageodata()"
   ]
  },
  {
   "cell_type": "markdown",
   "metadata": {},
   "source": [
    "Let's get all the wells in the McLaren Vale PWA.\n",
    "\n",
    "First thing, how do we know how to refer exactly to this PWA?\n",
    "\n",
    "We can find out using a convienent pandas Series called ``lookups`` which exists on the SAGeodataConnection."
   ]
  },
  {
   "cell_type": "code",
   "execution_count": 3,
   "metadata": {},
   "outputs": [
    {
     "data": {
      "text/plain": [
       "field\n",
       "pwa                                  Musgrave\n",
       "pwa                           Southern Basins\n",
       "pwa                              McLaren Vale\n",
       "pwa                  Northern Adelaide Plains\n",
       "pwa                                     Noora\n",
       "pwa                                 Padthaway\n",
       "pwa                          Central Adelaide\n",
       "pwa                                 Far North\n",
       "pwa                                    Mallee\n",
       "pwa                  Peake, Roby and Sherlock\n",
       "pwa                       Tintinara-Coonalpyn\n",
       "pwa                     Lower Limestone Coast\n",
       "pwa                              Angas-Bremer\n",
       "pwa                                   Tatiara\n",
       "pwra               Eastern Mount Lofty Ranges\n",
       "pwra                                  Baroota\n",
       "pwra           Marne River and Saunders Creek\n",
       "pwra                           Barossa Valley\n",
       "pwra                             Clare Valley\n",
       "pwra               Western Mount Lofty Ranges\n",
       "nrm                            Eyre Peninsula\n",
       "nrm               South Australian Arid Lands\n",
       "nrm                                South East\n",
       "nrm                          Northern & Yorke\n",
       "nrm                       Alinytjara Wilurara\n",
       "nrm                Adelaide & Mt Lofty Ranges\n",
       "nrm     South Australian Murray-Darling Basin\n",
       "nrm                           Kangaroo Island\n",
       "Name: value, dtype: object"
      ]
     },
     "execution_count": 3,
     "metadata": {},
     "output_type": "execute_result"
    }
   ],
   "source": [
    "db.lookups"
   ]
  },
  {
   "cell_type": "markdown",
   "metadata": {},
   "source": [
    "Now we know it's called \"McLaren Vale\". So let's run the query!"
   ]
  },
  {
   "cell_type": "code",
   "execution_count": 4,
   "metadata": {},
   "outputs": [],
   "source": [
    "wells = db.drillhole_details_by_pwa(\"McLaren Vale\")"
   ]
  },
  {
   "cell_type": "markdown",
   "metadata": {},
   "source": [
    "Remember, all queries return pandas DataFrames."
   ]
  },
  {
   "cell_type": "code",
   "execution_count": 5,
   "metadata": {
    "scrolled": true
   },
   "outputs": [
    {
     "data": {
      "text/html": [
       "<div>\n",
       "<style scoped>\n",
       "    .dataframe tbody tr th:only-of-type {\n",
       "        vertical-align: middle;\n",
       "    }\n",
       "\n",
       "    .dataframe tbody tr th {\n",
       "        vertical-align: top;\n",
       "    }\n",
       "\n",
       "    .dataframe thead th {\n",
       "        text-align: right;\n",
       "    }\n",
       "</style>\n",
       "<table border=\"1\" class=\"dataframe\">\n",
       "  <thead>\n",
       "    <tr style=\"text-align: right;\">\n",
       "      <th></th>\n",
       "      <th>well_id</th>\n",
       "      <th>dh_no</th>\n",
       "      <th>unit_long</th>\n",
       "      <th>unit_hyphen</th>\n",
       "      <th>obs_no</th>\n",
       "      <th>dh_name</th>\n",
       "      <th>easting</th>\n",
       "      <th>northing</th>\n",
       "      <th>zone</th>\n",
       "      <th>latitude</th>\n",
       "      <th>longitude</th>\n",
       "      <th>aquifer</th>\n",
       "    </tr>\n",
       "  </thead>\n",
       "  <tbody>\n",
       "    <tr>\n",
       "      <th>0</th>\n",
       "      <td>6627-14065</td>\n",
       "      <td>248218</td>\n",
       "      <td>662714065</td>\n",
       "      <td>6627-14065</td>\n",
       "      <td>None</td>\n",
       "      <td>None</td>\n",
       "      <td>284375.43</td>\n",
       "      <td>6099095.85</td>\n",
       "      <td>54</td>\n",
       "      <td>-35.228034</td>\n",
       "      <td>138.630669</td>\n",
       "      <td>Nds</td>\n",
       "    </tr>\n",
       "    <tr>\n",
       "      <th>1</th>\n",
       "      <td>6527-568</td>\n",
       "      <td>26564</td>\n",
       "      <td>652700568</td>\n",
       "      <td>6527-568</td>\n",
       "      <td>None</td>\n",
       "      <td>None</td>\n",
       "      <td>269314.30</td>\n",
       "      <td>6095440.70</td>\n",
       "      <td>54</td>\n",
       "      <td>-35.257609</td>\n",
       "      <td>138.464288</td>\n",
       "      <td>Qpa</td>\n",
       "    </tr>\n",
       "    <tr>\n",
       "      <th>2</th>\n",
       "      <td>WLG044</td>\n",
       "      <td>26565</td>\n",
       "      <td>652700569</td>\n",
       "      <td>6527-569</td>\n",
       "      <td>WLG044</td>\n",
       "      <td>None</td>\n",
       "      <td>270906.82</td>\n",
       "      <td>6096136.56</td>\n",
       "      <td>54</td>\n",
       "      <td>-35.251705</td>\n",
       "      <td>138.481972</td>\n",
       "      <td>Te2</td>\n",
       "    </tr>\n",
       "    <tr>\n",
       "      <th>3</th>\n",
       "      <td>6527-570</td>\n",
       "      <td>26566</td>\n",
       "      <td>652700570</td>\n",
       "      <td>6527-570</td>\n",
       "      <td>None</td>\n",
       "      <td>None</td>\n",
       "      <td>271210.32</td>\n",
       "      <td>6096107.73</td>\n",
       "      <td>54</td>\n",
       "      <td>-35.252035</td>\n",
       "      <td>138.485297</td>\n",
       "      <td>Teb</td>\n",
       "    </tr>\n",
       "    <tr>\n",
       "      <th>4</th>\n",
       "      <td>WLG032</td>\n",
       "      <td>26568</td>\n",
       "      <td>652700572</td>\n",
       "      <td>6527-572</td>\n",
       "      <td>WLG032</td>\n",
       "      <td>STREAM SAMPLING</td>\n",
       "      <td>271538.26</td>\n",
       "      <td>6094829.79</td>\n",
       "      <td>54</td>\n",
       "      <td>-35.263621</td>\n",
       "      <td>138.488543</td>\n",
       "      <td>None</td>\n",
       "    </tr>\n",
       "  </tbody>\n",
       "</table>\n",
       "</div>"
      ],
      "text/plain": [
       "      well_id   dh_no  unit_long unit_hyphen  obs_no          dh_name  \\\n",
       "0  6627-14065  248218  662714065  6627-14065    None             None   \n",
       "1    6527-568   26564  652700568    6527-568    None             None   \n",
       "2      WLG044   26565  652700569    6527-569  WLG044             None   \n",
       "3    6527-570   26566  652700570    6527-570    None             None   \n",
       "4      WLG032   26568  652700572    6527-572  WLG032  STREAM SAMPLING   \n",
       "\n",
       "     easting    northing  zone   latitude   longitude aquifer  \n",
       "0  284375.43  6099095.85    54 -35.228034  138.630669     Nds  \n",
       "1  269314.30  6095440.70    54 -35.257609  138.464288     Qpa  \n",
       "2  270906.82  6096136.56    54 -35.251705  138.481972     Te2  \n",
       "3  271210.32  6096107.73    54 -35.252035  138.485297     Teb  \n",
       "4  271538.26  6094829.79    54 -35.263621  138.488543    None  "
      ]
     },
     "execution_count": 5,
     "metadata": {},
     "output_type": "execute_result"
    }
   ],
   "source": [
    "wells.head()"
   ]
  },
  {
   "cell_type": "markdown",
   "metadata": {},
   "source": [
    "Let's have a look at the Prescribed Water Resource Areas:"
   ]
  },
  {
   "cell_type": "code",
   "execution_count": 6,
   "metadata": {},
   "outputs": [
    {
     "data": {
      "text/plain": [
       "pwra        Eastern Mount Lofty Ranges\n",
       "pwra                           Baroota\n",
       "pwra    Marne River and Saunders Creek\n",
       "pwra                    Barossa Valley\n",
       "pwra                      Clare Valley\n",
       "pwra        Western Mount Lofty Ranges\n",
       "Name: value, dtype: object"
      ]
     },
     "execution_count": 6,
     "metadata": {},
     "output_type": "execute_result"
    }
   ],
   "source": [
    "db.lookups[\"pwra\"]"
   ]
  },
  {
   "cell_type": "code",
   "execution_count": 7,
   "metadata": {},
   "outputs": [],
   "source": [
    "wells = db.drillhole_details_by_pwra(\"Marne River and Saunders Creek\")"
   ]
  },
  {
   "cell_type": "code",
   "execution_count": 8,
   "metadata": {},
   "outputs": [
    {
     "name": "stdout",
     "output_type": "stream",
     "text": [
      "<class 'pandas.core.frame.DataFrame'>\n",
      "RangeIndex: 1569 entries, 0 to 1568\n",
      "Data columns (total 12 columns):\n",
      "well_id        1569 non-null object\n",
      "dh_no          1569 non-null int64\n",
      "unit_long      1569 non-null int64\n",
      "unit_hyphen    1569 non-null object\n",
      "obs_no         101 non-null object\n",
      "dh_name        213 non-null object\n",
      "easting        1569 non-null float64\n",
      "northing       1569 non-null float64\n",
      "zone           1569 non-null int64\n",
      "latitude       1569 non-null float64\n",
      "longitude      1569 non-null float64\n",
      "aquifer        1114 non-null object\n",
      "dtypes: float64(4), int64(3), object(5)\n",
      "memory usage: 116.5+ KB\n"
     ]
    }
   ],
   "source": [
    "wells.info()"
   ]
  },
  {
   "cell_type": "markdown",
   "metadata": {},
   "source": [
    "Now let's say we want to get the construction details for all of these wells."
   ]
  },
  {
   "cell_type": "code",
   "execution_count": 9,
   "metadata": {},
   "outputs": [],
   "source": [
    "details = db.construction_events(wells)"
   ]
  },
  {
   "cell_type": "code",
   "execution_count": 10,
   "metadata": {},
   "outputs": [
    {
     "name": "stdout",
     "output_type": "stream",
     "text": [
      "<class 'pandas.core.frame.DataFrame'>\n",
      "Int64Index: 1891 entries, 0 to 618\n",
      "Data columns (total 66 columns):\n",
      "well_id                 1891 non-null object\n",
      "dh_no                   1891 non-null int64\n",
      "unit_long               1891 non-null int64\n",
      "unit_hyphen             1891 non-null object\n",
      "obs_no                  142 non-null object\n",
      "dh_name                 219 non-null object\n",
      "easting                 1891 non-null float64\n",
      "northing                1891 non-null float64\n",
      "zone                    1891 non-null int64\n",
      "latitude                1891 non-null float64\n",
      "longitude               1891 non-null float64\n",
      "aquifer                 1426 non-null object\n",
      "construction_aquifer    365 non-null object\n",
      "completion_no           1891 non-null int64\n",
      "completion_date         1749 non-null datetime64[ns]\n",
      "event_type              1891 non-null object\n",
      "start_depth             1891 non-null float64\n",
      "total_depth             1340 non-null float64\n",
      "current_depth           1567 non-null float64\n",
      "final_depth             1254 non-null float64\n",
      "permit_no               667 non-null object\n",
      "drill_method            615 non-null object\n",
      "drill_from              577 non-null float64\n",
      "drill_to                577 non-null float64\n",
      "drill_diam              340 non-null float64\n",
      "casing_material         414 non-null object\n",
      "casing_from             819 non-null float64\n",
      "casing_to               744 non-null float64\n",
      "casing_diam             812 non-null float64\n",
      "casing_min_diam         864 non-null float64\n",
      "pzone_type              562 non-null object\n",
      "pzone_material          90 non-null object\n",
      "pzone_from              448 non-null float64\n",
      "pzone_to                448 non-null float64\n",
      "pzone_diam              122 non-null float64\n",
      "pcement_from            27 non-null float64\n",
      "pcement_to              27 non-null float64\n",
      "development_method      75 non-null object\n",
      "development_duration    53 non-null float64\n",
      "final_swl               338 non-null float64\n",
      "final_yield             333 non-null float64\n",
      "comments                293 non-null object\n",
      "screened                1891 non-null object\n",
      "pcemented               1891 non-null object\n",
      "developed               1891 non-null object\n",
      "abandoned               1891 non-null object\n",
      "backfilled              1891 non-null object\n",
      "dry                     1891 non-null object\n",
      "enlarged                1891 non-null object\n",
      "flowing                 1891 non-null object\n",
      "replacement             1891 non-null object\n",
      "rehabilitated           1891 non-null object\n",
      "latest                  1286 non-null object\n",
      "max_case                475 non-null float64\n",
      "orig_case               750 non-null float64\n",
      "orig_case               750 non-null float64\n",
      "lod_case                75 non-null float64\n",
      "orig_case               750 non-null float64\n",
      "orig_case               750 non-null float64\n",
      "from_flag               1611 non-null object\n",
      "core_flag               1891 non-null object\n",
      "commenced_date          263 non-null datetime64[ns]\n",
      "created_by              1891 non-null object\n",
      "creation_date           1891 non-null datetime64[ns]\n",
      "modified_by             1422 non-null object\n",
      "modified_date           1422 non-null datetime64[ns]\n",
      "dtypes: datetime64[ns](4), float64(29), int64(4), object(29)\n",
      "memory usage: 775.6+ KB\n"
     ]
    }
   ],
   "source": [
    "details.info()"
   ]
  },
  {
   "cell_type": "markdown",
   "metadata": {},
   "source": [
    "For fun...\n",
    "\n",
    "let's see how many wells have a construction event in each year.\n",
    "\n",
    "First we need to filter for only event_types \"C\" - others are survey events."
   ]
  },
  {
   "cell_type": "code",
   "execution_count": 11,
   "metadata": {},
   "outputs": [],
   "source": [
    "details2 = details[details.event_type == \"C\"]\n",
    "ts = details.groupby(details.completion_date.dt.year).well_id.count()"
   ]
  },
  {
   "cell_type": "code",
   "execution_count": 12,
   "metadata": {},
   "outputs": [
    {
     "data": {
      "text/plain": [
       "completion_date\n",
       "1909.0     1\n",
       "1910.0     1\n",
       "1914.0     5\n",
       "1921.0     1\n",
       "1925.0     1\n",
       "1926.0     1\n",
       "1927.0     3\n",
       "1930.0     1\n",
       "1934.0     3\n",
       "1936.0     1\n",
       "1938.0     3\n",
       "1939.0     4\n",
       "1940.0     8\n",
       "1941.0    14\n",
       "1942.0     1\n",
       "1943.0     1\n",
       "1944.0     2\n",
       "1945.0     1\n",
       "1946.0     2\n",
       "1947.0     3\n",
       "1948.0    91\n",
       "1949.0     7\n",
       "1950.0    85\n",
       "1951.0    15\n",
       "1952.0    16\n",
       "1953.0    13\n",
       "1954.0    21\n",
       "1955.0     4\n",
       "1956.0     2\n",
       "1957.0     8\n",
       "          ..\n",
       "1990.0    70\n",
       "1991.0    12\n",
       "1992.0    27\n",
       "1993.0    41\n",
       "1994.0    35\n",
       "1995.0    32\n",
       "1996.0    30\n",
       "1997.0    34\n",
       "1998.0    29\n",
       "1999.0    45\n",
       "2000.0    24\n",
       "2001.0    25\n",
       "2002.0    23\n",
       "2003.0    30\n",
       "2004.0    29\n",
       "2005.0    19\n",
       "2006.0     5\n",
       "2007.0     7\n",
       "2008.0    13\n",
       "2009.0    15\n",
       "2010.0     7\n",
       "2011.0     8\n",
       "2012.0    14\n",
       "2013.0     5\n",
       "2014.0    13\n",
       "2015.0    12\n",
       "2016.0    16\n",
       "2017.0     9\n",
       "2018.0     8\n",
       "2019.0     5\n",
       "Name: well_id, Length: 92, dtype: int64"
      ]
     },
     "execution_count": 12,
     "metadata": {},
     "output_type": "execute_result"
    }
   ],
   "source": [
    "ts"
   ]
  },
  {
   "cell_type": "markdown",
   "metadata": {},
   "source": [
    "That's a lot of data - let's make a bar chart to visualise it more easily"
   ]
  },
  {
   "cell_type": "markdown",
   "metadata": {},
   "source": [
    "First import matplotlib and change the DPI to make things bigger."
   ]
  },
  {
   "cell_type": "code",
   "execution_count": 15,
   "metadata": {},
   "outputs": [],
   "source": [
    "import matplotlib.pyplot as plt"
   ]
  },
  {
   "cell_type": "code",
   "execution_count": 16,
   "metadata": {},
   "outputs": [],
   "source": [
    "plt.rcParams[\"figure.dpi\"] = 120"
   ]
  },
  {
   "cell_type": "code",
   "execution_count": 18,
   "metadata": {},
   "outputs": [
    {
     "data": {
      "image/png": "[encoded data removed]",
      "text/plain": [
       "<Figure size 720x480 with 1 Axes>"
      ]
     },
     "metadata": {
      "needs_background": "light"
     },
     "output_type": "display_data"
    }
   ],
   "source": [
    "fig = plt.figure()\n",
    "ax = fig.add_subplot(111)\n",
    "ax.bar(ts.index.values, ts.values)\n",
    "_ = plt.setp(ax.get_xticklabels(), rotation=60, ha=\"right\")\n",
    "_ = ax.set_ylabel(\"No. of wells constructed/rehab-ed per year\")"
   ]
  },
  {
   "cell_type": "code",
   "execution_count": 19,
   "metadata": {},
   "outputs": [],
   "source": [
    "# Ignore this cell! It's just here so that you can see the figure on Gitea.\n",
    "fig.savefig(\"nb2_fig1.png\")"
   ]
  },
  {
   "cell_type": "markdown",
   "metadata": {},
   "source": [
    "![](http://envtelem04:3000/groundwater/dew_gwdata/raw/branch/master/notebooks/nb2_fig1.png)\n",
    "\n",
    "Wow, 1979 was a big year"
   ]
  },
  {
   "cell_type": "code",
   "execution_count": null,
   "metadata": {},
   "outputs": [],
   "source": []
  }
 ],
 "metadata": {
  "kernelspec": {
   "display_name": "dev",
   "language": "python",
   "name": "dev"
  },
  "language_info": {
   "codemirror_mode": {
    "name": "ipython",
    "version": 3
   },
   "file_extension": ".py",
   "mimetype": "text/x-python",
   "name": "python",
   "nbconvert_exporter": "python",
   "pygments_lexer": "ipython3",
   "version": "3.7.1"
  }
 },
 "nbformat": 4,
 "nbformat_minor": 2
}
