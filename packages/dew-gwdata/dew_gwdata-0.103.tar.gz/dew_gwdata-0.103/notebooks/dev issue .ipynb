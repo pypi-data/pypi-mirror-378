{
 "cells": [
  {
   "cell_type": "code",
   "execution_count": 1,
   "metadata": {},
   "outputs": [],
   "source": [
    "import pandas as pd\n",
    "import dew_gwdata as gd"
   ]
  },
  {
   "cell_type": "code",
   "execution_count": 2,
   "metadata": {},
   "outputs": [],
   "source": [
    "db = gd.sageodata()"
   ]
  },
  {
   "cell_type": "code",
   "execution_count": 3,
   "metadata": {},
   "outputs": [
    {
     "data": {
      "text/plain": [
       "['6628-28077']"
      ]
     },
     "execution_count": 3,
     "metadata": {},
     "output_type": "execute_result"
    }
   ],
   "source": [
    "wells = db.find_wells(\"6628-28077\")\n",
    "wells"
   ]
  },
  {
   "cell_type": "code",
   "execution_count": 4,
   "metadata": {},
   "outputs": [
    {
     "data": {
      "text/plain": [
       "[288058]"
      ]
     },
     "execution_count": 4,
     "metadata": {},
     "output_type": "execute_result"
    }
   ],
   "source": [
    "# wells = db.find_wells(\"MOR201\")\n",
    "wells.dh_no"
   ]
  },
  {
   "cell_type": "code",
   "execution_count": 5,
   "metadata": {},
   "outputs": [
    {
     "data": {
      "text/plain": [
       "Series([], Name: rswl, dtype: float64)"
      ]
     },
     "execution_count": 5,
     "metadata": {},
     "output_type": "execute_result"
    }
   ],
   "source": [
    "pd.Series(name=\"rswl\")"
   ]
  },
  {
   "cell_type": "code",
   "execution_count": 6,
   "metadata": {},
   "outputs": [
    {
     "data": {
      "text/html": [
       "<div>\n",
       "<style scoped>\n",
       "    .dataframe tbody tr th:only-of-type {\n",
       "        vertical-align: middle;\n",
       "    }\n",
       "\n",
       "    .dataframe tbody tr th {\n",
       "        vertical-align: top;\n",
       "    }\n",
       "\n",
       "    .dataframe thead th {\n",
       "        text-align: right;\n",
       "    }\n",
       "</style>\n",
       "<table border=\"1\" class=\"dataframe\">\n",
       "  <thead>\n",
       "    <tr style=\"text-align: right;\">\n",
       "      <th></th>\n",
       "      <th>well_id</th>\n",
       "      <th>dh_no</th>\n",
       "      <th>unit_long</th>\n",
       "      <th>unit_hyphen</th>\n",
       "      <th>obs_no</th>\n",
       "      <th>dh_name</th>\n",
       "      <th>easting</th>\n",
       "      <th>northing</th>\n",
       "      <th>zone</th>\n",
       "      <th>latitude</th>\n",
       "      <th>...</th>\n",
       "      <th>anomalous_ind</th>\n",
       "      <th>pumping_ind</th>\n",
       "      <th>measured_during</th>\n",
       "      <th>data_source</th>\n",
       "      <th>comments</th>\n",
       "      <th>created_by</th>\n",
       "      <th>creation_date</th>\n",
       "      <th>modified_by</th>\n",
       "      <th>modified_date</th>\n",
       "      <th>database</th>\n",
       "    </tr>\n",
       "  </thead>\n",
       "  <tbody>\n",
       "    <tr>\n",
       "      <th>0</th>\n",
       "      <td>6628-28077</td>\n",
       "      <td>288058</td>\n",
       "      <td>662828077</td>\n",
       "      <td>6628-28077</td>\n",
       "      <td>None</td>\n",
       "      <td>None</td>\n",
       "      <td>276952.76</td>\n",
       "      <td>6155737.53</td>\n",
       "      <td>54</td>\n",
       "      <td>-34.71611</td>\n",
       "      <td>...</td>\n",
       "      <td>N</td>\n",
       "      <td>N</td>\n",
       "      <td>D</td>\n",
       "      <td>DEWNR</td>\n",
       "      <td>None</td>\n",
       "      <td>GAHJM</td>\n",
       "      <td>2016-01-27 10:32:50</td>\n",
       "      <td>None</td>\n",
       "      <td>None</td>\n",
       "      <td>SA Geodata</td>\n",
       "    </tr>\n",
       "    <tr>\n",
       "      <th>1</th>\n",
       "      <td>6628-28077</td>\n",
       "      <td>288058</td>\n",
       "      <td>662828077</td>\n",
       "      <td>6628-28077</td>\n",
       "      <td>None</td>\n",
       "      <td>None</td>\n",
       "      <td>276952.76</td>\n",
       "      <td>6155737.53</td>\n",
       "      <td>54</td>\n",
       "      <td>-34.71611</td>\n",
       "      <td>...</td>\n",
       "      <td>N</td>\n",
       "      <td>N</td>\n",
       "      <td>F</td>\n",
       "      <td>DEW</td>\n",
       "      <td>None</td>\n",
       "      <td>MHUTCHESSON</td>\n",
       "      <td>2019-11-08 12:01:56</td>\n",
       "      <td>None</td>\n",
       "      <td>None</td>\n",
       "      <td>SA Geodata</td>\n",
       "    </tr>\n",
       "  </tbody>\n",
       "</table>\n",
       "<p>2 rows × 29 columns</p>\n",
       "</div>"
      ],
      "text/plain": [
       "      well_id   dh_no  unit_long unit_hyphen obs_no dh_name    easting  \\\n",
       "0  6628-28077  288058  662828077  6628-28077   None    None  276952.76   \n",
       "1  6628-28077  288058  662828077  6628-28077   None    None  276952.76   \n",
       "\n",
       "     northing  zone  latitude  ...  anomalous_ind pumping_ind measured_during  \\\n",
       "0  6155737.53    54 -34.71611  ...              N           N               D   \n",
       "1  6155737.53    54 -34.71611  ...              N           N               F   \n",
       "\n",
       "   data_source  comments   created_by       creation_date modified_by  \\\n",
       "0        DEWNR      None        GAHJM 2016-01-27 10:32:50        None   \n",
       "1          DEW      None  MHUTCHESSON 2019-11-08 12:01:56        None   \n",
       "\n",
       "  modified_date    database  \n",
       "0          None  SA Geodata  \n",
       "1          None  SA Geodata  \n",
       "\n",
       "[2 rows x 29 columns]"
      ]
     },
     "execution_count": 6,
     "metadata": {},
     "output_type": "execute_result"
    }
   ],
   "source": [
    "df = gd.fetch_wl_data(wells)\n",
    "df.head()"
   ]
  },
  {
   "cell_type": "code",
   "execution_count": 7,
   "metadata": {},
   "outputs": [
    {
     "data": {
      "text/html": [
       "<div>\n",
       "<style scoped>\n",
       "    .dataframe tbody tr th:only-of-type {\n",
       "        vertical-align: middle;\n",
       "    }\n",
       "\n",
       "    .dataframe tbody tr th {\n",
       "        vertical-align: top;\n",
       "    }\n",
       "\n",
       "    .dataframe thead th {\n",
       "        text-align: right;\n",
       "    }\n",
       "</style>\n",
       "<table border=\"1\" class=\"dataframe\">\n",
       "  <thead>\n",
       "    <tr style=\"text-align: right;\">\n",
       "      <th></th>\n",
       "      <th>well_id</th>\n",
       "      <th>obs_date</th>\n",
       "      <th>unit_long</th>\n",
       "      <th>dtw</th>\n",
       "      <th>quality_code</th>\n",
       "    </tr>\n",
       "  </thead>\n",
       "  <tbody>\n",
       "  </tbody>\n",
       "</table>\n",
       "</div>"
      ],
      "text/plain": [
       "Empty DataFrame\n",
       "Columns: [well_id, obs_date, unit_long, dtw, quality_code]\n",
       "Index: []"
      ]
     },
     "execution_count": 7,
     "metadata": {},
     "output_type": "execute_result"
    }
   ],
   "source": [
    "# sdf = db.water_levels(wells)\n",
    "hdf = gd.fetch_hydstra_dtw_data(wells)\n",
    "hdf.head()"
   ]
  },
  {
   "cell_type": "code",
   "execution_count": null,
   "metadata": {},
   "outputs": [],
   "source": []
  }
 ],
 "metadata": {
  "kernelspec": {
   "display_name": "gw",
   "language": "python",
   "name": "gw"
  },
  "language_info": {
   "codemirror_mode": {
    "name": "ipython",
    "version": 3
   },
   "file_extension": ".py",
   "mimetype": "text/x-python",
   "name": "python",
   "nbconvert_exporter": "python",
   "pygments_lexer": "ipython3",
   "version": "3.7.3"
  }
 },
 "nbformat": 4,
 "nbformat_minor": 2
}
