{
 "cells": [
  {
   "cell_type": "raw",
   "metadata": {},
   "source": [
    "Adding columns to dataframes\n",
    "============================"
   ]
  },
  {
   "cell_type": "raw",
   "metadata": {},
   "source": [
    "dew_gwdata has a few different functions which add new columns to spreadsheets. They all are typically given a particular pandas DataFrame as an arguemnt, and return a copy with some additional columns:\n",
    "\n",
    "* :func:`dew_gwdata.depth_to_elev` - this obtains DEM elevations and adds a new \"_mahd\" column for any column in the supplied dataframe with \"depth\" in its name. Intended for use with lithological, stratigraphic, or hydrostratigraphic data.\n",
    "* :func:`dew_gwdata.add_construction_activity_column` - this works on the dataframe obtained from :meth:`sageodata_db::SAGeodataConnection.construction_events` by adding a single \"activity\" column which summarises almost a dozen columns succinctly. At some point SA Geodata itself will be fixed so that this function is unnecessary.\n",
    "* :func:`dew_gwdata.apply_latest_status` - this works on the dataframe obtained from :meth:`sageodata_db::SAGeodataConnection.drillhole_status` by adding a single \"latest_status\" column which filters the status codes only to those relevant to the most recent date, and orders and concatenates them. At some point SA Geodata itself will be fixed so that this function is unnecessary.\n",
    "\n",
    "See details of these functions:\n",
    "\n",
    "``depth_to_elev``\n",
    "-----------------\n",
    ".. autofunction:: dew_gwdata::depth_to_elev\n",
    "\n",
    "``add_construction_activity_column``\n",
    "------------------------------------\n",
    ".. autofunction:: dew_gwdata::add_construction_activity_column\n",
    "\n",
    "``apply_latest_status``\n",
    "-----------------------\n",
    ".. autofunction:: dew_gwdata::apply_latest_status"
   ]
  },
  {
   "cell_type": "code",
   "execution_count": null,
   "metadata": {},
   "outputs": [],
   "source": []
  }
 ],
 "metadata": {
  "kernelspec": {
   "display_name": "Python 3 (ipykernel)",
   "language": "python",
   "name": "python3"
  },
  "language_info": {
   "codemirror_mode": {
    "name": "ipython",
    "version": 3
   },
   "file_extension": ".py",
   "mimetype": "text/x-python",
   "name": "python",
   "nbconvert_exporter": "python",
   "pygments_lexer": "ipython3",
   "version": "3.10.10"
  }
 },
 "nbformat": 4,
 "nbformat_minor": 4
}
