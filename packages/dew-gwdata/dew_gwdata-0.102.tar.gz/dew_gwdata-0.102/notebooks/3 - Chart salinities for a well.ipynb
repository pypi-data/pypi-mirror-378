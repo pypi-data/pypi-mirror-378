{
 "cells": [
  {
   "cell_type": "markdown",
   "metadata": {},
   "source": [
    "# 3 - Chart salinities for a well"
   ]
  },
  {
   "cell_type": "code",
   "execution_count": 1,
   "metadata": {},
   "outputs": [],
   "source": [
    "import dew_gwdata\n",
    "\n",
    "db = dew_gwdata.sageodata()"
   ]
  },
  {
   "cell_type": "markdown",
   "metadata": {},
   "source": [
    "This time we will nest the function calls:"
   ]
  },
  {
   "cell_type": "code",
   "execution_count": 2,
   "metadata": {},
   "outputs": [],
   "source": [
    "df = db.salinities(  # this is a predefined query which will return all the salinity observations for the wells passed as an argument\n",
    "    db.find_wells(\n",
    "        \"LKW039\"\n",
    "    )  # this returns a list containing one Well object, for LKW039\n",
    ")"
   ]
  },
  {
   "cell_type": "code",
   "execution_count": 3,
   "metadata": {},
   "outputs": [
    {
     "name": "stdout",
     "output_type": "stream",
     "text": [
      "<class 'pandas.core.frame.DataFrame'>\n",
      "RangeIndex: 183 entries, 0 to 182\n",
      "Data columns (total 35 columns):\n",
      "well_id              183 non-null object\n",
      "dh_no                183 non-null int64\n",
      "unit_long            183 non-null int64\n",
      "unit_hyphen          183 non-null object\n",
      "obs_no               183 non-null object\n",
      "dh_name              183 non-null object\n",
      "easting              183 non-null float64\n",
      "northing             183 non-null float64\n",
      "zone                 183 non-null int64\n",
      "latitude             183 non-null float64\n",
      "longitude            183 non-null float64\n",
      "aquifer              183 non-null object\n",
      "collected_date       183 non-null datetime64[ns]\n",
      "tds                  181 non-null float64\n",
      "ec                   181 non-null float64\n",
      "ph                   34 non-null float64\n",
      "sample_temp          4 non-null float64\n",
      "sample_type          183 non-null object\n",
      "series_type          183 non-null object\n",
      "anomalous_ind        183 non-null object\n",
      "test_place           98 non-null object\n",
      "extract_method       178 non-null object\n",
      "measured_during      183 non-null object\n",
      "collected_by         28 non-null object\n",
      "collected_company    0 non-null object\n",
      "data_source          169 non-null object\n",
      "field_id             0 non-null object\n",
      "amg_easting          183 non-null float64\n",
      "amg_northing         183 non-null float64\n",
      "amg_zone             183 non-null int64\n",
      "comments             30 non-null object\n",
      "created_by           183 non-null object\n",
      "creation_date        183 non-null datetime64[ns]\n",
      "modified_by          81 non-null object\n",
      "modified_date        81 non-null datetime64[ns]\n",
      "dtypes: datetime64[ns](3), float64(10), int64(4), object(18)\n",
      "memory usage: 37.2+ KB\n"
     ]
    }
   ],
   "source": [
    "df.info()"
   ]
  },
  {
   "cell_type": "markdown",
   "metadata": {},
   "source": [
    "Let's see what kind of different sample extraction methods have been used:"
   ]
  },
  {
   "cell_type": "code",
   "execution_count": 4,
   "metadata": {},
   "outputs": [
    {
     "data": {
      "text/html": [
       "<div>\n",
       "<style scoped>\n",
       "    .dataframe tbody tr th:only-of-type {\n",
       "        vertical-align: middle;\n",
       "    }\n",
       "\n",
       "    .dataframe tbody tr th {\n",
       "        vertical-align: top;\n",
       "    }\n",
       "\n",
       "    .dataframe thead th {\n",
       "        text-align: right;\n",
       "    }\n",
       "</style>\n",
       "<table border=\"1\" class=\"dataframe\">\n",
       "  <thead>\n",
       "    <tr style=\"text-align: right;\">\n",
       "      <th></th>\n",
       "      <th>count</th>\n",
       "      <th>min</th>\n",
       "      <th>max</th>\n",
       "    </tr>\n",
       "    <tr>\n",
       "      <th>extract_method</th>\n",
       "      <th></th>\n",
       "      <th></th>\n",
       "      <th></th>\n",
       "    </tr>\n",
       "  </thead>\n",
       "  <tbody>\n",
       "    <tr>\n",
       "      <th>BAIL</th>\n",
       "      <td>150</td>\n",
       "      <td>1985-03-18</td>\n",
       "      <td>2013-11-20</td>\n",
       "    </tr>\n",
       "    <tr>\n",
       "      <th>PUMP</th>\n",
       "      <td>28</td>\n",
       "      <td>1985-03-25</td>\n",
       "      <td>2016-04-18</td>\n",
       "    </tr>\n",
       "  </tbody>\n",
       "</table>\n",
       "</div>"
      ],
      "text/plain": [
       "                count        min        max\n",
       "extract_method                             \n",
       "BAIL              150 1985-03-18 2013-11-20\n",
       "PUMP               28 1985-03-25 2016-04-18"
      ]
     },
     "execution_count": 4,
     "metadata": {},
     "output_type": "execute_result"
    }
   ],
   "source": [
    "df.groupby(\"extract_method\").collected_date.agg([\"count\", \"min\", \"max\"])"
   ]
  },
  {
   "cell_type": "markdown",
   "metadata": {},
   "source": [
    "So it has mostly been bailed, but there are pumped samples, and the pumped samples are more recent too.\n",
    "\n",
    "Let's make a chart."
   ]
  },
  {
   "cell_type": "code",
   "execution_count": 5,
   "metadata": {},
   "outputs": [],
   "source": [
    "import matplotlib.pyplot as plt"
   ]
  },
  {
   "cell_type": "code",
   "execution_count": 6,
   "metadata": {},
   "outputs": [],
   "source": [
    "# Make the default plots bigger!\n",
    "%matplotlib inline\n",
    "plt.rcParams[\"figure.dpi\"] = 120"
   ]
  },
  {
   "cell_type": "code",
   "execution_count": 7,
   "metadata": {},
   "outputs": [
    {
     "name": "stderr",
     "output_type": "stream",
     "text": [
      "E:\\Telemetry\\kinverarity\\Anaconda3\\envs\\dev\\lib\\site-packages\\pandas\\plotting\\_converter.py:129: FutureWarning: Using an implicitly registered datetime converter for a matplotlib plotting method. The converter was registered by pandas on import. Future versions of pandas will require you to explicitly register matplotlib converters.\n",
      "\n",
      "To register the converters:\n",
      "\t>>> from pandas.plotting import register_matplotlib_converters\n",
      "\t>>> register_matplotlib_converters()\n",
      "  warnings.warn(msg, FutureWarning)\n"
     ]
    },
    {
     "data": {
      "text/plain": [
       "<matplotlib.legend.Legend at 0x1183adb0>"
      ]
     },
     "execution_count": 7,
     "metadata": {},
     "output_type": "execute_result"
    },
    {
     "data": {
      "image/png": "[encoded data removed]",
      "text/plain": [
       "<Figure size 720x480 with 1 Axes>"
      ]
     },
     "metadata": {
      "needs_background": "light"
     },
     "output_type": "display_data"
    }
   ],
   "source": [
    "fig, ax = plt.subplots()\n",
    "\n",
    "for method, group_df in df.groupby(\"extract_method\"):\n",
    "\n",
    "    # Sort by date:\n",
    "    group_df = group_df.sort_values(\"collected_date\")\n",
    "\n",
    "    # Label the line by the extraction_method\n",
    "    ax.plot(group_df.collected_date, group_df.tds, marker=\"o\", label=method)\n",
    "\n",
    "ax.legend()"
   ]
  },
  {
   "cell_type": "code",
   "execution_count": 8,
   "metadata": {},
   "outputs": [],
   "source": [
    "# Ignore this cell! It's just here so that you can see the figure on Gitea.\n",
    "fig.savefig(\"nb3_fig1.png\")"
   ]
  },
  {
   "cell_type": "markdown",
   "metadata": {},
   "source": [
    "![](http://envtelem04:3000/groundwater/dew_gwdata/raw/branch/master/notebooks/nb3_fig1.png)"
   ]
  },
  {
   "cell_type": "markdown",
   "metadata": {},
   "source": []
  }
 ],
 "metadata": {
  "kernelspec": {
   "display_name": "dev",
   "language": "python",
   "name": "dev"
  },
  "language_info": {
   "codemirror_mode": {
    "name": "ipython",
    "version": 3
   },
   "file_extension": ".py",
   "mimetype": "text/x-python",
   "name": "python",
   "nbconvert_exporter": "python",
   "pygments_lexer": "ipython3",
   "version": "3.7.1"
  }
 },
 "nbformat": 4,
 "nbformat_minor": 2
}
