{
 "cells": [
  {
   "cell_type": "code",
   "execution_count": 35,
   "metadata": {},
   "outputs": [],
   "source": [
    "import matplotlib.pyplot as plt\n",
    "import matplotlib as mpl\n",
    "import dew_gwdata as gd\n",
    "import pandas as pd"
   ]
  },
  {
   "cell_type": "code",
   "execution_count": 2,
   "metadata": {},
   "outputs": [],
   "source": [
    "%matplotlib inline\n",
    "plt.rcParams[\"figure.dpi\"] = 120"
   ]
  },
  {
   "cell_type": "code",
   "execution_count": 3,
   "metadata": {},
   "outputs": [],
   "source": [
    "db = gd.sageodata()"
   ]
  },
  {
   "cell_type": "code",
   "execution_count": 76,
   "metadata": {},
   "outputs": [],
   "source": [
    "sal = db.salinities(db.find_wells(\"lkw039\"))"
   ]
  },
  {
   "cell_type": "code",
   "execution_count": 79,
   "metadata": {},
   "outputs": [],
   "source": [
    "EXTRACT_METHOD_LUT = {\n",
    "    \"AIRL\": \"Air Lift\",\n",
    "    \"BAIL\": \"Bailer\",\n",
    "    \"BUCK\": \"Bucket\",\n",
    "    \"EST\": \"Estimated\",\n",
    "    \"FLOW\": \"Flow\",\n",
    "    \"HAND\": \"Hand\",\n",
    "    \"PUMP\": \"Pump\",\n",
    "    \"UKN\": \"Unknown\",\n",
    "    \"WMLL\": \"Windmill\",\n",
    "    \"?\": \"?\",\n",
    "}\n",
    "\n",
    "measured_during_lut = {\n",
    "    \"A\": \"Aquifer Test\",\n",
    "    \"D\": \"Drilling\",\n",
    "    \"F\": \"Field Survey\",\n",
    "    \"S\": \"Final Sample on drilling completion\",\n",
    "    \"G\": \"Geophysical Logging\",\n",
    "    \"L\": \"Landowner Sample\",\n",
    "    \"M\": \"Monitoring\",\n",
    "    \"R\": \"Rehabilitation\",\n",
    "    \"U\": \"Unknown\",\n",
    "    \"W\": \"Well Yield\",\n",
    "    \"?\": \"?\",\n",
    "}\n",
    "\n",
    "extract_method_markers = {\n",
    "    \"AIRL\": \"$a$\",\n",
    "    \"BAIL\": \"v\",\n",
    "    \"BUCK\": \">\",\n",
    "    \"EST\": \"$?$\",\n",
    "    \"FLOW\": \"P\",\n",
    "    \"HAND\": \"<\",\n",
    "    \"PUMP\": \"o\",\n",
    "    \"UKN\": \".\",\n",
    "    \"WMLL\": \"o\",\n",
    "    \"?\": \".\",\n",
    "}\n",
    "\n",
    "meas_during_colours = {\n",
    "    \"M\": \"tab:cyan\",  # 'Monitoring',\n",
    "    \"F\": \"tab:blue\",  # 'Field Survey',\n",
    "    \"A\": \"tab:green\",  # 'Aquifer Test',\n",
    "    \"W\": \"tab:olive\",  # 'Well Yield',\n",
    "    \"L\": \"tab:pink\",  # 'Landowner Sample',\n",
    "    \"G\": \"tab:purple\",  # 'Geophysical Logging',\n",
    "    \"D\": \"tab:red\",  # 'Drilling',\n",
    "    \"S\": \"tab:orange\",  # 'Final Sample on drilling completion',\n",
    "    \"R\": \"tab:brown\",  # 'Rehabilitation',\n",
    "    \"U\": \"tab:gray\",  # 'Unknown',\n",
    "    \"?\": \"black\",  # '?'\n",
    "}\n",
    "\n",
    "\n",
    "def plot_salinity(\n",
    "    df, dt_col=\"collected_date\", sal_col=\"tds\", ax=None, fontsize=\"medium\"\n",
    "):\n",
    "    if ax is None:\n",
    "        fig = plt.figure()\n",
    "        ax = fig.add_subplot(111)\n",
    "    dfx = pd.DataFrame(df)\n",
    "    mdurings = []\n",
    "    emeths = []\n",
    "    if \"measured_during\" in dfx and \"extract_method\" in dfx:\n",
    "        dfx.loc[pd.isnull(dfx.extract_method), \"extract_method\"] = \"?\"\n",
    "        dfx.loc[pd.isnull(dfx.measured_during), \"measured_during\"] = \"?\"\n",
    "        for mduring, df1 in dfx.groupby(\"measured_during\"):\n",
    "            mfc = meas_during_colours[mduring]\n",
    "            mdurings.append(mduring)\n",
    "            for emeth, df2 in df1.groupby(\"extract_method\"):\n",
    "                marker = extract_method_markers[emeth]\n",
    "                ax.plot(\n",
    "                    df2[dt_col],\n",
    "                    df2[sal_col],\n",
    "                    ls=\"\",\n",
    "                    marker=marker,\n",
    "                    mfc=mfc,\n",
    "                    mec=\"grey\",\n",
    "                    mew=0.5,\n",
    "                )\n",
    "                emeths.append(emeth)\n",
    "    if \"anomalous_ind\" in df:\n",
    "        valid = df.anomalous_ind == \"N\"\n",
    "        ax.plot(\n",
    "            dfx[valid][dt_col],\n",
    "            dfx[valid][sal_col],\n",
    "            lw=0.5,\n",
    "            marker=\"None\",\n",
    "            color=\"tab:blue\",\n",
    "        )\n",
    "        ax.plot(\n",
    "            dfx[~valid][dt_col], dfx[~valid][sal_col], ls=\"\", marker=\"X\", color=\"black\"\n",
    "        )\n",
    "    else:\n",
    "        ax.plot(dfx[dt_col], dfx[sal_col], lw=0.5, marker=\"None\", color=\"tab:blue\")\n",
    "    for mduring in set(mdurings):\n",
    "        ax.plot(\n",
    "            [],\n",
    "            [],\n",
    "            ls=\"\",\n",
    "            mew=0.5,\n",
    "            mec=\"grey\",\n",
    "            marker=\"8\",\n",
    "            mfc=meas_during_colours[mduring],\n",
    "            label=f\"M.D. {measured_during_lut[mduring]}\",\n",
    "        )\n",
    "    for emeth in set(emeths):\n",
    "        ax.plot(\n",
    "            [],\n",
    "            [],\n",
    "            ls=\"\",\n",
    "            mew=0.5,\n",
    "            mec=\"grey\",\n",
    "            marker=extract_method_markers[emeth],\n",
    "            mfc=\"white\",\n",
    "            label=f\"E.M. {EXTRACT_METHOD_LUT[emeth]}\",\n",
    "        )\n",
    "    ax.set_ylabel(sal_col, fontsize=fontsize)\n",
    "    ax.set_xlabel(dt_col, fontsize=fontsize)\n",
    "    plt.setp(ax.get_xticklabels(), fontsize=fontsize)\n",
    "    plt.setp(ax.get_yticklabels(), fontsize=fontsize)\n",
    "    ax.spines[\"top\"].set_visible(False)\n",
    "    ax.spines[\"right\"].set_visible(False)\n",
    "    ax.legend(loc=\"best\", frameon=False, fontsize=5)"
   ]
  },
  {
   "cell_type": "code",
   "execution_count": 88,
   "metadata": {},
   "outputs": [
    {
     "data": {
      "image/png": "[encoded data removed]",
      "text/plain": [
       "<Figure size 480x240 with 1 Axes>"
      ]
     },
     "metadata": {
      "needs_background": "light"
     },
     "output_type": "display_data"
    }
   ],
   "source": [
    "fig = plt.figure(figsize=(4, 2))\n",
    "ax = fig.add_subplot(111)\n",
    "plot_salinity(sal, sal_col=\"tds\", ax=ax, fontsize=\"xx-small\")"
   ]
  },
  {
   "cell_type": "code",
   "execution_count": null,
   "metadata": {},
   "outputs": [],
   "source": []
  }
 ],
 "metadata": {
  "kernelspec": {
   "display_name": "gw",
   "language": "python",
   "name": "gw"
  },
  "language_info": {
   "codemirror_mode": {
    "name": "ipython",
    "version": 3
   },
   "file_extension": ".py",
   "mimetype": "text/x-python",
   "name": "python",
   "nbconvert_exporter": "python",
   "pygments_lexer": "ipython3",
   "version": "3.7.3"
  }
 },
 "nbformat": 4,
 "nbformat_minor": 2
}
