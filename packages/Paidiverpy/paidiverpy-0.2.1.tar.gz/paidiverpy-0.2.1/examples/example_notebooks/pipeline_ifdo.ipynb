{
 "cells": [
  {
   "cell_type": "markdown",
   "id": "63ce0734-aad1-48c2-948c-f6ad0606132f",
   "metadata": {},
   "source": [
    "## Run a pipeline using a dataset with a IFDO standard metadata"
   ]
  },
  {
   "cell_type": "markdown",
   "id": "cdbd6fb8-f668-4a18-bbb7-f92a3bdf2172",
   "metadata": {},
   "source": [
    "This process will run the entire pipeline described in a configuration file. This dataset has a IFDO standard metadata file"
   ]
  },
  {
   "cell_type": "markdown",
   "id": "7fb91a03-cf9d-411b-9db2-4315109ba149",
   "metadata": {},
   "source": [
    "This is just a part of the dataset. The full dataset with the metadata file (IFDO Standard) are available here: https://www.bodc.ac.uk/data/published_data_library/catalogue/10.5285/090239b1-b7dd-1030-e063-6c86abc-0e183"
   ]
  },
  {
   "cell_type": "markdown",
   "id": "a84c85ff-2ab4-4b8a-b42a-bce7675d9993",
   "metadata": {},
   "source": [
    "## Instantiate the class"
   ]
  },
  {
   "cell_type": "code",
   "execution_count": 1,
   "id": "f00299ae-1140-494b-99be-9fa8867c0ac8",
   "metadata": {},
   "outputs": [],
   "source": [
    "%load_ext autoreload\n",
    "%autoreload 2\n",
    "from paidiverpy.pipeline import Pipeline"
   ]
  },
  {
   "cell_type": "code",
   "execution_count": 2,
   "id": "46f413c1-b9a5-4dc1-a27d-9cba7f9c745c",
   "metadata": {
    "scrolled": true
   },
   "outputs": [
    {
     "name": "stderr",
     "output_type": "stream",
     "text": [
      "WARNING:root:Failed to validate the IFDO metadata.\n",
      "You can continue, but some functions may not work properly.\n",
      "Please set verbose to 3 (DEBUG) to see the validation errors.\n",
      "WARNING:root:Metadata does not have a camera-position type column. It should have one of the following columns: ['camera-position', 'camera_position', 'altitude_m', 'altitude_metre', 'altitude_meters', 'altitude_meter', 'image-altitude-meters']. \n",
      "\n",
      "WARNING:root:Metadata does not have a depth type column. It should have one of the following columns: ['depth', 'depth_m', 'depth_metres', 'depth_metre', 'depth_meters', 'depth_meter', 'image-depth']. \n",
      "\n",
      "WARNING:root:Metadata does not have a pitch type column. It should have one of the following columns: ['pitch', 'Pitch', 'Pitch_deg', 'pitch_deg', 'image-camera-pitch-degrees']. \n",
      "\n",
      "WARNING:root:Metadata does not have a roll type column. It should have one of the following columns: ['roll', 'Roll', 'Roll_deg', 'roll_deg', 'image-camera-roll-degrees']. \n",
      "\n",
      "WARNING:root:Some functions may not work properly.\n"
     ]
    }
   ],
   "source": [
    "pipeline = Pipeline(config_file_path=\"../config_files/config_benthic_ifdo.yml\", verbose=3)"
   ]
  },
  {
   "cell_type": "code",
   "execution_count": 3,
   "id": "310d8998-6ac7-4db4-a706-50270b6895ee",
   "metadata": {},
   "outputs": [
    {
     "data": {
      "text/html": [
       "<div><svg style=\"position: absolute; width: 0; height: 0; overflow: hidden\">\n",
       "<defs>\n",
       "<symbol id=\"arrow-right\" viewBox=\"0 0 330 330\">\n",
       "  <path id=\"XMLID_222_\" d=\"M250.606,154.389l-150-149.996c-5.857-5.858-15.355-5.858-21.213,0.001\n",
       "\tc-5.857,5.858-5.857,15.355,0.001,21.213l139.393,139.39L79.393,304.394c-5.857,5.858-5.857,15.355,0.001,21.213\n",
       "\tC82.322,328.536,86.161,330,90,330s7.678-1.464,10.607-4.394l149.999-150.004c2.814-2.813,4.394-6.628,4.394-10.606\n",
       "\tC255,161.018,253.42,157.202,250.606,154.389z\"/>\n",
       "</defs>\n",
       "</svg>\n",
       "<style>/* CSS stylesheet for displaying Paidiverpy objects in jupyterlab.\n",
       " *\n",
       " */\n",
       "\n",
       ":root {\n",
       "  --ppy-font-color: var(--jp-content-font-color, rgba(0, 0, 0, 1));\n",
       "  --ppy-font-color-brown: var(--jp-content-font-color-brown, brown);\n",
       "  --ppy-font-color-olive: var(--jp-content-font-color-olive, olive);\n",
       "  --ppy-font-color-teal: var(--jp-content-font-color-teal, teal);\n",
       "  --ppy-font-color-blue: var(--jp-content-font-color-blue, blue);\n",
       "  --ppy-font-color-gray: var(--jp-content-font-color-gray, gray);\n",
       "  --ppy-border-color: var(--jp-border-color2, #e0e0e0);\n",
       "  --ppy-disabled-color: var(--jp-layout-color3, #bdbdbd);\n",
       "  --ppy-background-color: var(--jp-layout-color, white);\n",
       "  --ppy-background-color2: var(--jp-layout-color3, rgba(212, 212, 212, 0.15));\n",
       "}\n",
       "\n",
       "\n",
       "html[theme=\"dark\"],\n",
       "html[data-theme=\"dark\"],\n",
       "body[data-theme=\"dark\"],\n",
       "body.vscode-dark {\n",
       "  --ppy-font-color: rgba(255, 255, 255, 1);\n",
       "  --ppy-font-color-brown: brown;\n",
       "  --ppy-font-color-olive: olive;\n",
       "  --ppy-font-color-teal: teal;\n",
       "  --ppy-font-color-blue: blue;\n",
       "  --ppy-font-color-gray: gray;\n",
       "  --ppy-border-color: #1f1f1f;\n",
       "  --ppy-disabled-color: #515151;\n",
       "  --ppy-background-color: #111111;\n",
       "}\n",
       "\n",
       ".ppy-background-color {\n",
       "  background-color: var(--ppy-background-color) !important;\n",
       "}\n",
       "\n",
       ".ppy-font-color-brown {\n",
       "  color: var(--ppy-font-color-brown) !important;\n",
       "}\n",
       "\n",
       ".ppy-font-color {\n",
       "  color: var(--ppy-font-color) !important;\n",
       "}\n",
       ".ppy-h2 {\n",
       "  font-size: 20px !important;\n",
       "}\n",
       ".ppy-h3 {\n",
       "  font-size: 13px !important;\n",
       "}\n",
       ".ppy-p {\n",
       "  font-size: 10px;\n",
       "}\n",
       ".ppy-p-error {\n",
       "  color: var(--ppy-font-color-brown);\n",
       "  font-weight: bold;\n",
       "  display: block;\n",
       "}\n",
       "\n",
       ".ppy-text-repr-fallback {\n",
       "  /* fallback to plain text repr when CSS is not injected (untrusted notebook) */\n",
       "  display: none;\n",
       "}\n",
       "\n",
       ".ppy-pipeline-wrap{\n",
       "  display: flex;\n",
       "  flex-wrap: wrap;\n",
       "  align-items: center;\n",
       "}\n",
       "\n",
       ".ppy-pipeline {\n",
       "  float:left;\n",
       "  cursor: pointer;\n",
       "  padding: 10px;\n",
       "  width: max-content;\n",
       "  height: 150px;\n",
       "  margin: 10px;\n",
       "  border: 1px solid #000;\n",
       "  text-align: center;\n",
       "  /* line-height: 80px; */\n",
       "}\n",
       "\n",
       ".ppy-pipeline-clear-fix {\n",
       "  clear: both;\n",
       "}\n",
       "\n",
       ".ppy-pipeline-parameters-all {\n",
       "  padding: 10px;\n",
       "  margin: 10px;\n",
       "}\n",
       "\n",
       ".ppy-images-step-header {\n",
       "  cursor: pointer;\n",
       "  font-weight: bold;\n",
       "  margin-top: 10px;\n",
       "  margin-bottom: 5px;\n",
       "}\n",
       ".ppy-images-metadata {\n",
       "  margin-left: 20px;\n",
       "  margin-bottom: 10px;\n",
       "}\n",
       ".ppy-images {\n",
       "  display: flex;\n",
       "  flex-wrap: wrap;\n",
       "  gap: 10px;\n",
       "  margin-left: 20px;\n",
       "}\n",
       "\n",
       ".ppy-show-more-button, .ppy-hide-button {\n",
       "  margin-left: 20px;\n",
       "  background-color: #007bff;\n",
       "  color: white;\n",
       "  border: none;\n",
       "  padding: 5px 10px;\n",
       "  cursor: pointer;\n",
       "}\n",
       "\n",
       "\n",
       ".ppy-pipeline-arrow {\n",
       "  float:left;\n",
       "  width: 50px;\n",
       "  height: 80px;\n",
       "  margin: 10px;\n",
       "  text-align: center;\n",
       "  line-height: 80px;\n",
       "}\n",
       "\n",
       ".ppy-images-img{\n",
       "  display: block;\n",
       "  max-width: 200px;\n",
       "  margin: 10px;\n",
       "}\n",
       "\n",
       ".ppy-images-toggle-arrow {\n",
       "  cursor: pointer;\n",
       "  margin-left: 5px;\n",
       "}\n",
       "\n",
       ".ppy-images-image-p {\n",
       "  cursor: pointer;\n",
       "}\n",
       "\n",
       ".ppy-arrow-right {\n",
       "  display: inline-block;\n",
       "  vertical-align: middle;\n",
       "  width: 1em;\n",
       "  height: 1.5em !important;\n",
       "  stroke-width: 0;\n",
       "  stroke: currentColor;\n",
       "  fill: currentColor;\n",
       "}\n",
       "\n",
       "\n",
       ".ppy-json-block {\n",
       "  font-family: monospace;\n",
       "  background: var(--ppy-background-color);\n",
       "  padding: 1em;\n",
       "  border-radius: 6px;\n",
       "}\n",
       ".ppy-json-key {\n",
       "  color: var(--ppy-font-color-brown);\n",
       "}\n",
       ".ppy-json-string {\n",
       "  color: var(--ppy-font-color-olive);\n",
       "}\n",
       ".ppy-json-number {\n",
       "  color: var(--ppy-font-color-teal);\n",
       "}\n",
       ".ppy-json-bool {\n",
       "  color: var(--ppy-font-color-blue);\n",
       "}\n",
       ".ppy-json-null {\n",
       "  color: var(--ppy-font-color-gray);\n",
       "}\n",
       "\n",
       "\n",
       ".ppy-pn-title-0 {\n",
       "  font-size: 30px;\n",
       "}\n",
       "\n",
       ".ppy-pn-title-1 {\n",
       "  font-size: 20px;\n",
       "}\n",
       ".ppy-pn-title-2 {\n",
       "  font-size: 17px;\n",
       "}\n",
       ".ppy-pn-title-3 {\n",
       "  font-size: 14px;\n",
       "}\n",
       ".ppy-pn-title-4 {\n",
       "  font-size: 12px;\n",
       "}\n",
       "\n",
       ".ppy-pn-bold {\n",
       "  font-weight: bold;\n",
       "}\n",
       ".ppy-pn-italic {\n",
       "  font-style: italic;\n",
       "}\n",
       ".ppy-pn-description {\n",
       "  font-size: 14px;\n",
       "  margin-bottom: 1px;\n",
       "}\n",
       "\n",
       ".bk-root {\n",
       "  width: 100% !important;\n",
       "  max-width: 100% !important;\n",
       "  box-sizing: border-box;\n",
       "}\n",
       "\n",
       "input, .bk-input, .bk-input-group {\n",
       "  margin-top: 0px;\n",
       "  margin-bottom: 3px;\n",
       "  padding-top: 0px;\n",
       "  padding-bottom: 0px;\n",
       "}\n",
       "\n",
       ".ppy-pn-header-button .bk-btn {\n",
       "  background: none !important;\n",
       "  border: none !important;\n",
       "  font-weight: bold;\n",
       "  font-size: 16px;\n",
       "  text-align: left;\n",
       "  padding-left: 0;\n",
       "  cursor: pointer;\n",
       "  box-shadow: none !important;\n",
       "  color: black;\n",
       "}\n",
       "\n",
       ".ppy-pn-danger-modal{\n",
       "  border: 2px solid red;\n",
       "  border-radius: 10px;\n",
       "  box-shadow: 0px 0px 10px rgba(255, 0, 0, 0.5);\n",
       "}\n",
       "\n",
       ".ppy-pn-config-form{\n",
       "  padding: 10px;\n",
       "  margin-top: 10px;\n",
       "  margin-bottom: 10px;\n",
       "  background-color: var(--ppy-background-color2);\n",
       "  border-radius: 5px;\n",
       "  box-shadow: 0px 0px 10px rgba(0, 0, 0, 0.1);\n",
       "}\n",
       "\n",
       "\n",
       ".ppy-pn-align-right {\n",
       "  display: flex;\n",
       "  justify-content: flex-end;\n",
       "}\n",
       "</style><script>function toggleMetadata(stepIndex, randomId) {\n",
       "  var metadata = document.getElementById(\"ppy-images-metadata-\" + randomId + \"-\" + stepIndex);\n",
       "  var arrow = document.getElementById(\"ppy-images-arrow-\" + randomId + \"-\" + stepIndex);\n",
       "  if (metadata.style.display === \"none\") {\n",
       "      metadata.style.display = \"block\";\n",
       "      arrow.innerHTML = \"▼\";\n",
       "      arrow.classList.remove(\"ppy-font-color\");\n",
       "      arrow.classList.add(\"ppy-font-color-brown\");\n",
       "  } else {\n",
       "      metadata.style.display = \"none\";\n",
       "      arrow.innerHTML = \"►\";\n",
       "      arrow.classList.remove(\"ppy-font-color-brown\");\n",
       "      arrow.classList.add(\"ppy-font-color\");\n",
       "  }\n",
       "}\n",
       "function toggleImage(imageId, randomId) {\n",
       "  var img = document.getElementById(imageId);\n",
       "  var arrow = document.getElementById(\"ppy-images-arrow-\" + randomId + \"-\" + imageId);\n",
       "  if (img.style.display === \"none\") {\n",
       "      img.style.display = \"block\";\n",
       "      arrow.innerHTML = \"▼\";\n",
       "      arrow.classList.remove(\"ppy-font-color\");\n",
       "      arrow.classList.add(\"ppy-font-color-brown\");\n",
       "  } else {\n",
       "      img.style.display = \"none\";\n",
       "      arrow.innerHTML = \"►\";\n",
       "      arrow.classList.remove(\"ppy-font-color-brown\");\n",
       "      arrow.classList.add(\"ppy-font-color\");\n",
       "  }\n",
       "}\n",
       "function showMore(stepIndex) {\n",
       "  var moreImages = document.getElementById(\"ppy-more-images-\" + stepIndex);\n",
       "  var showMoreButton = document.getElementById(\"ppy-show-more-button-\" + stepIndex);\n",
       "  var hideButton = document.getElementById(\"ppy-hide-button-\" + stepIndex);\n",
       "  moreImages.style.display = \"flex\";\n",
       "  showMoreButton.style.display = \"none\";\n",
       "  hideButton.style.display = \"inline-block\";\n",
       "}\n",
       "function hide(stepIndex) {\n",
       "  var moreImages = document.getElementById(\"ppy-more-images-\" + stepIndex);\n",
       "  var showMoreButton = document.getElementById(\"ppy-show-more-button-\" + stepIndex);\n",
       "  var hideButton = document.getElementById(\"ppy-hide-button-\" + stepIndex);\n",
       "  moreImages.style.display = \"none\";\n",
       "  showMoreButton.style.display = \"inline-block\";\n",
       "  hideButton.style.display = \"none\";\n",
       "}\n",
       "\n",
       "\n",
       "function showParameters(id, randomId) {\n",
       "  var currentTarget = document.getElementById('ppy-pipeline-' + randomId + '-' + id);\n",
       "  var square = document.getElementsByClassName('ppy-pipeline-' + randomId);\n",
       "  var allParams = document.getElementsByClassName('ppy-pipeline-parameters-' + randomId);\n",
       "  var selectedParams = document.getElementById('ppy-pipeline-parameters-' + randomId + '-' + id);\n",
       "  var idWasVisible = false;\n",
       "  if (selectedParams) {\n",
       "      var idWasVisible = selectedParams.style.display === 'block';\n",
       "  }\n",
       "  for (var i = 0; i < square.length; i++) {\n",
       "      square[i].classList.remove('ppy-font-color-brown');\n",
       "      square[i].classList.add('ppy-font-color');\n",
       "  }\n",
       "  for (var i = 0; i < allParams.length; i++) {\n",
       "      allParams[i].style.display = 'none';\n",
       "  }\n",
       "  // Show the selected parameter section\n",
       "  if (selectedParams) {\n",
       "      if (idWasVisible) {\n",
       "          selectedParams.style.display = 'none';\n",
       "          currentTarget.classList.remove('ppy-font-color-brown');\n",
       "          currentTarget.classList.add('ppy-font-color');\n",
       "      } else {\n",
       "          selectedParams.style.display = 'block';\n",
       "          currentTarget.classList.remove('ppy-font-color');\n",
       "          currentTarget.classList.add('ppy-font-color-brown');\n",
       "      }\n",
       "  }\n",
       "}\n",
       "\n",
       "hljs.highlightAll();\n",
       "</script><link rel=\"stylesheet\" href=\"https://cdnjs.cloudflare.com/ajax/libs/highlight.js/11.9.0/styles/github.min.css\"><script src=\"https://cdnjs.cloudflare.com/ajax/libs/highlight.js/11.9.0/highlight.min.js\"></script><script>hljs.highlightAll();</script><pre class='ppy-text-repr-fallback'>&lt;paidiverpy.pipeline.pipeline.Pipeline object at 0x7dcf24367430&gt;</pre><div>\n",
       "    <div class=\"ppy-pipeline-wrap\">\n",
       "        \n",
       "    <div id=\"ppy-pipeline-nel-general\" title=\"Click to see more information\"\n",
       "        class=\"ppy-pipeline ppy-pipeline-nel\"\n",
       "        onclick=\"showParameters('general', 'nel')\">\n",
       "        <h2 class=\"ppy-h2\">Raw</h2>\n",
       "        <h3 class=\"ppy-h3\">Type: Open</h2>\n",
       "    </div>\n",
       "    <div class=\"ppy-pipeline-arrow\"><svg class='icon ppy-arrow-right'><use xlink:href='#arrow-right'></use></svg></div>\n",
       "            <div id=\"ppy-pipeline-nel-step-0\" title=\"Click to see more information\"\n",
       "                class=\"ppy-pipeline ppy-pipeline-nel\" onclick=\"showParameters('step-0', 'nel')\">\n",
       "                <h2 class=\"ppy-h2\">Colour_correction</h2>\n",
       "                <h3 class=\"ppy-h3\">Type: Colour</h2>\n",
       "            </div>\n",
       "        <div class='ppy-pipeline-arrow'><svg class='icon ppy-arrow-right'><use xlink:href='#arrow-right'></use></svg></div>\n",
       "            <div id=\"ppy-pipeline-nel-step-1\" title=\"Click to see more information\"\n",
       "                class=\"ppy-pipeline ppy-pipeline-nel\" onclick=\"showParameters('step-1', 'nel')\">\n",
       "                <h2 class=\"ppy-h2\">Datetime</h2>\n",
       "                <h3 class=\"ppy-h3\">Type: Sampling</h2>\n",
       "            </div>\n",
       "        <div class='ppy-pipeline-arrow'><svg class='icon ppy-arrow-right'><use xlink:href='#arrow-right'></use></svg></div>\n",
       "            <div id=\"ppy-pipeline-nel-step-2\" title=\"Click to see more information\"\n",
       "                class=\"ppy-pipeline ppy-pipeline-nel\" onclick=\"showParameters('step-2', 'nel')\">\n",
       "                <h2 class=\"ppy-h2\">Colour_correction</h2>\n",
       "                <h3 class=\"ppy-h3\">Type: Colour</h2>\n",
       "            </div>\n",
       "        <div class='ppy-pipeline-arrow'><svg class='icon ppy-arrow-right'><use xlink:href='#arrow-right'></use></svg></div>\n",
       "            <div id=\"ppy-pipeline-nel-step-3\" title=\"Click to see more information\"\n",
       "                class=\"ppy-pipeline ppy-pipeline-nel\" onclick=\"showParameters('step-3', 'nel')\">\n",
       "                <h2 class=\"ppy-h2\">Sharpen</h2>\n",
       "                <h3 class=\"ppy-h3\">Type: Colour</h2>\n",
       "            </div>\n",
       "        <div class='ppy-pipeline-arrow'><svg class='icon ppy-arrow-right'><use xlink:href='#arrow-right'></use></svg></div><div class=\"ppy-pipeline-clear-fix\"></div>\n",
       "            <div id=\"ppy-pipeline-nel-step-4\" title=\"Click to see more information\"\n",
       "                class=\"ppy-pipeline ppy-pipeline-nel\" onclick=\"showParameters('step-4', 'nel')\">\n",
       "                <h2 class=\"ppy-h2\">Contrast</h2>\n",
       "                <h3 class=\"ppy-h3\">Type: Colour</h2>\n",
       "            </div>\n",
       "        \n",
       "    </div>\n",
       "    <div id=\"ppy-pipeline-parameters\" class=\"ppy-pipeline-parameters-all\">\n",
       "            <div id=\"ppy-pipeline-parameters-nel-step-0\"\n",
       "                class=\"ppy-pipeline-parameters ppy-pipeline-parameters-nel\"\n",
       "                style=\"display: none;\">\n",
       "                <h4 class=\"ppy-h4\">Parameters:</h4>\n",
       "                <pre class=\"ppy-json-block\"><span class=\"ppy-json-key\">name</span>: <span class=\"ppy-json-string\">\"colour_correction\"</span>\n",
       "<span class=\"ppy-json-key\">step_name</span>: <span class=\"ppy-json-string\">\"colour\"</span>\n",
       "<span class=\"ppy-json-key\">test</span>: <span class=\"ppy-json-number\">False</span>\n",
       "<span class=\"ppy-json-key\">params</span>:\n",
       "  <span class=\"ppy-json-key\">method</span>: <span class=\"ppy-json-string\">\"opencv\"</span>\n",
       "  <span class=\"ppy-json-key\">invert_colours</span>: <span class=\"ppy-json-number\">False</span>\n",
       "  <span class=\"ppy-json-key\">raise_error</span>: <span class=\"ppy-json-number\">False</span>\n",
       "<span class=\"ppy-json-key\">mode</span>: <span class=\"ppy-json-string\">\"grayscale\"</span></pre>\n",
       "            </div>\n",
       "        \n",
       "            <div id=\"ppy-pipeline-parameters-nel-step-1\"\n",
       "                class=\"ppy-pipeline-parameters ppy-pipeline-parameters-nel\"\n",
       "                style=\"display: none;\">\n",
       "                <h4 class=\"ppy-h4\">Parameters:</h4>\n",
       "                <pre class=\"ppy-json-block\"><span class=\"ppy-json-key\">name</span>: <span class=\"ppy-json-string\">\"datetime\"</span>\n",
       "<span class=\"ppy-json-key\">step_name</span>: <span class=\"ppy-json-string\">\"sampling\"</span>\n",
       "<span class=\"ppy-json-key\">test</span>: <span class=\"ppy-json-number\">False</span>\n",
       "<span class=\"ppy-json-key\">params</span>:\n",
       "  <span class=\"ppy-json-key\">min</span>: <span class=\"ppy-json-string\">\"2016-05-11 04:14:00\"</span>\n",
       "  <span class=\"ppy-json-key\">max</span>: <span class=\"ppy-json-string\">\"2016-05-11 09:27:00\"</span>\n",
       "  <span class=\"ppy-json-key\">raise_error</span>: <span class=\"ppy-json-number\">False</span>\n",
       "<span class=\"ppy-json-key\">mode</span>: <span class=\"ppy-json-string\">\"datetime\"</span></pre>\n",
       "            </div>\n",
       "        \n",
       "            <div id=\"ppy-pipeline-parameters-nel-step-2\"\n",
       "                class=\"ppy-pipeline-parameters ppy-pipeline-parameters-nel\"\n",
       "                style=\"display: none;\">\n",
       "                <h4 class=\"ppy-h4\">Parameters:</h4>\n",
       "                <pre class=\"ppy-json-block\"><span class=\"ppy-json-key\">name</span>: <span class=\"ppy-json-string\">\"colour_correction\"</span>\n",
       "<span class=\"ppy-json-key\">step_name</span>: <span class=\"ppy-json-string\">\"colour\"</span>\n",
       "<span class=\"ppy-json-key\">test</span>: <span class=\"ppy-json-number\">False</span>\n",
       "<span class=\"ppy-json-key\">params</span>:\n",
       "  <span class=\"ppy-json-key\">sigma</span>: <span class=\"ppy-json-number\">1.0</span>\n",
       "  <span class=\"ppy-json-key\">raise_error</span>: <span class=\"ppy-json-number\">False</span>\n",
       "<span class=\"ppy-json-key\">mode</span>: <span class=\"ppy-json-string\">\"gaussian_blur\"</span></pre>\n",
       "            </div>\n",
       "        \n",
       "            <div id=\"ppy-pipeline-parameters-nel-step-3\"\n",
       "                class=\"ppy-pipeline-parameters ppy-pipeline-parameters-nel\"\n",
       "                style=\"display: none;\">\n",
       "                <h4 class=\"ppy-h4\">Parameters:</h4>\n",
       "                <pre class=\"ppy-json-block\"><span class=\"ppy-json-key\">name</span>: <span class=\"ppy-json-string\">\"sharpen\"</span>\n",
       "<span class=\"ppy-json-key\">step_name</span>: <span class=\"ppy-json-string\">\"colour\"</span>\n",
       "<span class=\"ppy-json-key\">test</span>: <span class=\"ppy-json-number\">False</span>\n",
       "<span class=\"ppy-json-key\">params</span>:\n",
       "  <span class=\"ppy-json-key\">alpha</span>: <span class=\"ppy-json-number\">1.5</span>\n",
       "  <span class=\"ppy-json-key\">beta</span>: <span class=\"ppy-json-number\">-0.5</span>\n",
       "  <span class=\"ppy-json-key\">raise_error</span>: <span class=\"ppy-json-number\">False</span>\n",
       "<span class=\"ppy-json-key\">mode</span>: <span class=\"ppy-json-string\">\"sharpen\"</span></pre>\n",
       "            </div>\n",
       "        \n",
       "            <div id=\"ppy-pipeline-parameters-nel-step-4\"\n",
       "                class=\"ppy-pipeline-parameters ppy-pipeline-parameters-nel\"\n",
       "                style=\"display: none;\">\n",
       "                <h4 class=\"ppy-h4\">Parameters:</h4>\n",
       "                <pre class=\"ppy-json-block\"><span class=\"ppy-json-key\">name</span>: <span class=\"ppy-json-string\">\"contrast\"</span>\n",
       "<span class=\"ppy-json-key\">step_name</span>: <span class=\"ppy-json-string\">\"colour\"</span>\n",
       "<span class=\"ppy-json-key\">test</span>: <span class=\"ppy-json-number\">False</span>\n",
       "<span class=\"ppy-json-key\">params</span>:\n",
       "  <span class=\"ppy-json-key\">method</span>: <span class=\"ppy-json-string\">\"clahe\"</span>\n",
       "  <span class=\"ppy-json-key\">clip_limit</span>: <span class=\"ppy-json-number\">0.01</span>\n",
       "  <span class=\"ppy-json-key\">gamma_value</span>: <span class=\"ppy-json-number\">0.5</span>\n",
       "  <span class=\"ppy-json-key\">raise_error</span>: <span class=\"ppy-json-number\">False</span>\n",
       "<span class=\"ppy-json-key\">mode</span>: <span class=\"ppy-json-string\">\"contrast\"</span></pre>\n",
       "            </div>\n",
       "        \n",
       "        <div id=\"ppy-pipeline-parameters-nel-general\" class=\"ppy-pipeline-parameters ppy-pipeline-parameters-nel\"\n",
       "            style=\"display: none;\">\n",
       "            <h4 class=\"ppy-h4\">Parameters:</h4>\n",
       "            <pre class=\"ppy-json-block\"><span class=\"ppy-json-key\">name</span>: <span class=\"ppy-json-string\">\"raw\"</span>\n",
       "<span class=\"ppy-json-key\">step_name</span>: <span class=\"ppy-json-string\">\"open\"</span>\n",
       "<span class=\"ppy-json-key\">sample_data</span>: <span class=\"ppy-json-string\">\"benthic_ifdo\"</span>\n",
       "<span class=\"ppy-json-key\">input_path</span>: <span class=\"ppy-json-string\">\"/home/tobfer/.paidiverpy_cache/benthic_ifdo/images\"</span>\n",
       "<span class=\"ppy-json-key\">output_path</span>: <span class=\"ppy-json-string\">\"output\"</span>\n",
       "<span class=\"ppy-json-key\">metadata_path</span>: <span class=\"ppy-json-string\">\"/home/tobfer/.paidiverpy_cache/benthic_ifdo/metadata/metadata_benthic_ifdo.json\"</span>\n",
       "<span class=\"ppy-json-key\">metadata_type</span>: <span class=\"ppy-json-string\">\"IFDO\"</span>\n",
       "<span class=\"ppy-json-key\">image_open_args</span>: <span class=\"ppy-json-string\">\"JPG\"</span>\n",
       "<span class=\"ppy-json-key\">n_jobs</span>: <span class=\"ppy-json-number\">8</span>\n",
       "<span class=\"ppy-json-key\">track_changes</span>: <span class=\"ppy-json-number\">True</span>\n",
       "<span class=\"ppy-json-key\">sampling</span>:\n",
       "  - <span class=\"ppy-json-key\">name</span>: <span class=\"ppy-json-string\">\"sampling\"</span>\n",
       "    <span class=\"ppy-json-key\">step_name</span>: <span class=\"ppy-json-string\">\"sampling\"</span>\n",
       "    <span class=\"ppy-json-key\">test</span>: <span class=\"ppy-json-number\">False</span>\n",
       "    <span class=\"ppy-json-key\">params</span>:\n",
       "      <span class=\"ppy-json-key\">value</span>: <span class=\"ppy-json-number\">5</span>\n",
       "      <span class=\"ppy-json-key\">raise_error</span>: <span class=\"ppy-json-number\">False</span>\n",
       "    <span class=\"ppy-json-key\">mode</span>: <span class=\"ppy-json-string\">\"fixed\"</span></pre>\n",
       "        </div>\n",
       "    </div>\n",
       "    </div></div>"
      ],
      "text/plain": [
       "<paidiverpy.pipeline.pipeline.Pipeline at 0x7dcf24367430>"
      ]
     },
     "execution_count": 3,
     "metadata": {},
     "output_type": "execute_result"
    }
   ],
   "source": [
    "# See the pipeline steps. Click in a step to see more information about it\n",
    "pipeline"
   ]
  },
  {
   "cell_type": "code",
   "execution_count": 4,
   "id": "e61c25b4-79fd-4f28-94bb-e68aab8d0e94",
   "metadata": {},
   "outputs": [
    {
     "data": {
      "text/html": [
       "<div>\n",
       "<style scoped>\n",
       "    .dataframe tbody tr th:only-of-type {\n",
       "        vertical-align: middle;\n",
       "    }\n",
       "\n",
       "    .dataframe tbody tr th {\n",
       "        vertical-align: top;\n",
       "    }\n",
       "\n",
       "    .dataframe thead th {\n",
       "        text-align: right;\n",
       "    }\n",
       "</style>\n",
       "<table border=\"1\" class=\"dataframe\">\n",
       "  <thead>\n",
       "    <tr style=\"text-align: right;\">\n",
       "      <th></th>\n",
       "      <th>filename</th>\n",
       "      <th>image-datetime</th>\n",
       "      <th>image-longitude</th>\n",
       "      <th>image-latitude</th>\n",
       "      <th>ID</th>\n",
       "      <th>image-area-square-meter</th>\n",
       "      <th>image-media-type</th>\n",
       "      <th>flag</th>\n",
       "      <th>point</th>\n",
       "    </tr>\n",
       "  </thead>\n",
       "  <tbody>\n",
       "    <tr>\n",
       "      <th>0</th>\n",
       "      <td>M58_10441297_12987744807147.jpg</td>\n",
       "      <td>2016-05-11 09:09:41</td>\n",
       "      <td>-7.712106</td>\n",
       "      <td>50.394186</td>\n",
       "      <td>854D01B1-BA2E-487C-8B33-7C46AFD8F45F</td>\n",
       "      <td>9.944266</td>\n",
       "      <td>JPEG</td>\n",
       "      <td>0</td>\n",
       "      <td>POINT (-7.71210609 50.39418572)</td>\n",
       "    </tr>\n",
       "    <tr>\n",
       "      <th>2</th>\n",
       "      <td>M58_10441297_12987744853552.jpg</td>\n",
       "      <td>2016-05-11 09:09:41</td>\n",
       "      <td>-7.712127</td>\n",
       "      <td>50.393598</td>\n",
       "      <td>E0404921-BE11-44C3-A510-6BC19249FD72</td>\n",
       "      <td>6.528180</td>\n",
       "      <td>JPEG</td>\n",
       "      <td>0</td>\n",
       "      <td>POINT (-7.71212678 50.39359794)</td>\n",
       "    </tr>\n",
       "    <tr>\n",
       "      <th>3</th>\n",
       "      <td>M58_10441297_12987744857927.jpg</td>\n",
       "      <td>2016-05-11 09:09:42</td>\n",
       "      <td>-7.712127</td>\n",
       "      <td>50.393542</td>\n",
       "      <td>90180FAB-4ECD-4FD9-9910-D5777D7C6807</td>\n",
       "      <td>5.396471</td>\n",
       "      <td>JPEG</td>\n",
       "      <td>0</td>\n",
       "      <td>POINT (-7.71212745 50.3935421)</td>\n",
       "    </tr>\n",
       "    <tr>\n",
       "      <th>4</th>\n",
       "      <td>M58_10441297_12987744866443.jpg</td>\n",
       "      <td>2016-05-11 09:09:43</td>\n",
       "      <td>-7.712128</td>\n",
       "      <td>50.393434</td>\n",
       "      <td>6B2C533C-A4ED-4C1B-8E57-DF1E59178460</td>\n",
       "      <td>4.965196</td>\n",
       "      <td>JPEG</td>\n",
       "      <td>0</td>\n",
       "      <td>POINT (-7.71212845 50.39343391)</td>\n",
       "    </tr>\n",
       "    <tr>\n",
       "      <th>5</th>\n",
       "      <td>M58_10441297_12987744870740.jpg</td>\n",
       "      <td>2016-05-11 09:09:43</td>\n",
       "      <td>-7.712129</td>\n",
       "      <td>50.393379</td>\n",
       "      <td>1FAE580D-D517-41C6-91DF-43BF558EEB8C</td>\n",
       "      <td>5.758141</td>\n",
       "      <td>JPEG</td>\n",
       "      <td>0</td>\n",
       "      <td>POINT (-7.71212869 50.39337918)</td>\n",
       "    </tr>\n",
       "    <tr>\n",
       "      <th>...</th>\n",
       "      <td>...</td>\n",
       "      <td>...</td>\n",
       "      <td>...</td>\n",
       "      <td>...</td>\n",
       "      <td>...</td>\n",
       "      <td>...</td>\n",
       "      <td>...</td>\n",
       "      <td>...</td>\n",
       "      <td>...</td>\n",
       "    </tr>\n",
       "    <tr>\n",
       "      <th>68</th>\n",
       "      <td>M58_10441297_12987745210189.jpg</td>\n",
       "      <td>2016-05-11 09:26:12</td>\n",
       "      <td>-7.712126</td>\n",
       "      <td>50.389057</td>\n",
       "      <td>4F48B60A-763E-4944-9330-33BC8C7A6BBA</td>\n",
       "      <td>6.608393</td>\n",
       "      <td>JPEG</td>\n",
       "      <td>0</td>\n",
       "      <td>POINT (-7.71212552 50.38905667)</td>\n",
       "    </tr>\n",
       "    <tr>\n",
       "      <th>67</th>\n",
       "      <td>M58_10441297_12987745203643.jpg</td>\n",
       "      <td>2016-05-11 09:26:12</td>\n",
       "      <td>-7.712124</td>\n",
       "      <td>50.389139</td>\n",
       "      <td>4B8B7C4F-0B84-4275-8EC2-00AA7B26979C</td>\n",
       "      <td>6.561429</td>\n",
       "      <td>JPEG</td>\n",
       "      <td>0</td>\n",
       "      <td>POINT (-7.71212437 50.38913914)</td>\n",
       "    </tr>\n",
       "    <tr>\n",
       "      <th>84</th>\n",
       "      <td>M58_10441297_12987745296126.jpg</td>\n",
       "      <td>2016-05-11 09:26:13</td>\n",
       "      <td>-7.712128</td>\n",
       "      <td>50.387952</td>\n",
       "      <td>47C291CF-7946-4F1F-A81F-F653B0A2FBEC</td>\n",
       "      <td>7.280598</td>\n",
       "      <td>JPEG</td>\n",
       "      <td>0</td>\n",
       "      <td>POINT (-7.71212751 50.38795235)</td>\n",
       "    </tr>\n",
       "    <tr>\n",
       "      <th>90</th>\n",
       "      <td>M58_10441297_12987745324485.jpg</td>\n",
       "      <td>2016-05-11 09:26:13</td>\n",
       "      <td>-7.712128</td>\n",
       "      <td>50.387586</td>\n",
       "      <td>729B5E32-7789-432F-9A0F-CE972898098E</td>\n",
       "      <td>8.073981</td>\n",
       "      <td>JPEG</td>\n",
       "      <td>0</td>\n",
       "      <td>POINT (-7.71212792 50.38758626)</td>\n",
       "    </tr>\n",
       "    <tr>\n",
       "      <th>86</th>\n",
       "      <td>M58_10441297_12987745304704.jpg</td>\n",
       "      <td>2016-05-11 09:26:13</td>\n",
       "      <td>-7.712128</td>\n",
       "      <td>50.387841</td>\n",
       "      <td>BEE5CF1F-8E81-44FA-9CD6-9528FFCEEE29</td>\n",
       "      <td>7.671566</td>\n",
       "      <td>JPEG</td>\n",
       "      <td>0</td>\n",
       "      <td>POINT (-7.71212782 50.38784142)</td>\n",
       "    </tr>\n",
       "  </tbody>\n",
       "</table>\n",
       "<p>99 rows × 9 columns</p>\n",
       "</div>"
      ],
      "text/plain": [
       "                           filename      image-datetime  image-longitude  \\\n",
       "0   M58_10441297_12987744807147.jpg 2016-05-11 09:09:41        -7.712106   \n",
       "2   M58_10441297_12987744853552.jpg 2016-05-11 09:09:41        -7.712127   \n",
       "3   M58_10441297_12987744857927.jpg 2016-05-11 09:09:42        -7.712127   \n",
       "4   M58_10441297_12987744866443.jpg 2016-05-11 09:09:43        -7.712128   \n",
       "5   M58_10441297_12987744870740.jpg 2016-05-11 09:09:43        -7.712129   \n",
       "..                              ...                 ...              ...   \n",
       "68  M58_10441297_12987745210189.jpg 2016-05-11 09:26:12        -7.712126   \n",
       "67  M58_10441297_12987745203643.jpg 2016-05-11 09:26:12        -7.712124   \n",
       "84  M58_10441297_12987745296126.jpg 2016-05-11 09:26:13        -7.712128   \n",
       "90  M58_10441297_12987745324485.jpg 2016-05-11 09:26:13        -7.712128   \n",
       "86  M58_10441297_12987745304704.jpg 2016-05-11 09:26:13        -7.712128   \n",
       "\n",
       "    image-latitude                                    ID  \\\n",
       "0        50.394186  854D01B1-BA2E-487C-8B33-7C46AFD8F45F   \n",
       "2        50.393598  E0404921-BE11-44C3-A510-6BC19249FD72   \n",
       "3        50.393542  90180FAB-4ECD-4FD9-9910-D5777D7C6807   \n",
       "4        50.393434  6B2C533C-A4ED-4C1B-8E57-DF1E59178460   \n",
       "5        50.393379  1FAE580D-D517-41C6-91DF-43BF558EEB8C   \n",
       "..             ...                                   ...   \n",
       "68       50.389057  4F48B60A-763E-4944-9330-33BC8C7A6BBA   \n",
       "67       50.389139  4B8B7C4F-0B84-4275-8EC2-00AA7B26979C   \n",
       "84       50.387952  47C291CF-7946-4F1F-A81F-F653B0A2FBEC   \n",
       "90       50.387586  729B5E32-7789-432F-9A0F-CE972898098E   \n",
       "86       50.387841  BEE5CF1F-8E81-44FA-9CD6-9528FFCEEE29   \n",
       "\n",
       "    image-area-square-meter image-media-type  flag  \\\n",
       "0                  9.944266             JPEG     0   \n",
       "2                  6.528180             JPEG     0   \n",
       "3                  5.396471             JPEG     0   \n",
       "4                  4.965196             JPEG     0   \n",
       "5                  5.758141             JPEG     0   \n",
       "..                      ...              ...   ...   \n",
       "68                 6.608393             JPEG     0   \n",
       "67                 6.561429             JPEG     0   \n",
       "84                 7.280598             JPEG     0   \n",
       "90                 8.073981             JPEG     0   \n",
       "86                 7.671566             JPEG     0   \n",
       "\n",
       "                              point  \n",
       "0   POINT (-7.71210609 50.39418572)  \n",
       "2   POINT (-7.71212678 50.39359794)  \n",
       "3    POINT (-7.71212745 50.3935421)  \n",
       "4   POINT (-7.71212845 50.39343391)  \n",
       "5   POINT (-7.71212869 50.39337918)  \n",
       "..                              ...  \n",
       "68  POINT (-7.71212552 50.38905667)  \n",
       "67  POINT (-7.71212437 50.38913914)  \n",
       "84  POINT (-7.71212751 50.38795235)  \n",
       "90  POINT (-7.71212792 50.38758626)  \n",
       "86  POINT (-7.71212782 50.38784142)  \n",
       "\n",
       "[99 rows x 9 columns]"
      ]
     },
     "execution_count": 4,
     "metadata": {},
     "output_type": "execute_result"
    }
   ],
   "source": [
    "pipeline.get_metadata()"
   ]
  },
  {
   "cell_type": "code",
   "execution_count": 5,
   "id": "a9eaecbf-710d-4091-95cc-b73850fa5ab7",
   "metadata": {},
   "outputs": [
    {
     "name": "stdout",
     "output_type": "stream",
     "text": [
      "\u001b[92m☁ paidiverpy ☁  |       INFO | 2025-09-11 16:49:23 | Processing images using 8 cores\u001b[0m\n"
     ]
    },
    {
     "name": "stderr",
     "output_type": "stream",
     "text": [
      "INFO:paidiverpy:Processing images using 8 cores\n"
     ]
    },
    {
     "name": "stdout",
     "output_type": "stream",
     "text": [
      "\u001b[92m☁ paidiverpy ☁  |       INFO | 2025-09-11 16:49:23 | Running step 0: raw - OpenLayer\u001b[0m\n"
     ]
    },
    {
     "name": "stderr",
     "output_type": "stream",
     "text": [
      "INFO:paidiverpy:Running step 0: raw - OpenLayer\n"
     ]
    },
    {
     "name": "stdout",
     "output_type": "stream",
     "text": [
      "[########################################] | 100% Completed | 1.36 ss\n",
      "\u001b[92m☁ paidiverpy ☁  |       INFO | 2025-09-11 16:49:27 | Step 0 completed\u001b[0m\n"
     ]
    },
    {
     "name": "stderr",
     "output_type": "stream",
     "text": [
      "INFO:paidiverpy:Step 0 completed\n"
     ]
    },
    {
     "name": "stdout",
     "output_type": "stream",
     "text": [
      "\u001b[92m☁ paidiverpy ☁  |       INFO | 2025-09-11 16:49:27 | Running step 1: colour_correction - ColourLayer\u001b[0m\n"
     ]
    },
    {
     "name": "stderr",
     "output_type": "stream",
     "text": [
      "INFO:paidiverpy:Running step 1: colour_correction - ColourLayer\n"
     ]
    },
    {
     "name": "stdout",
     "output_type": "stream",
     "text": [
      "\u001b[92m☁ paidiverpy ☁  |       INFO | 2025-09-11 16:49:27 | Step 1 completed\u001b[0m\n"
     ]
    },
    {
     "name": "stderr",
     "output_type": "stream",
     "text": [
      "INFO:paidiverpy:Step 1 completed\n"
     ]
    },
    {
     "name": "stdout",
     "output_type": "stream",
     "text": [
      "\u001b[92m☁ paidiverpy ☁  |       INFO | 2025-09-11 16:49:27 | Running step 2: datetime - SamplingLayer\u001b[0m\n"
     ]
    },
    {
     "name": "stderr",
     "output_type": "stream",
     "text": [
      "INFO:paidiverpy:Running step 2: datetime - SamplingLayer\n"
     ]
    },
    {
     "name": "stdout",
     "output_type": "stream",
     "text": [
      "\u001b[92m☁ paidiverpy ☁  |       INFO | 2025-09-11 16:49:27 | Number of images before the sampling step: 5. Total number of images after: 5\u001b[0m\n"
     ]
    },
    {
     "name": "stderr",
     "output_type": "stream",
     "text": [
      "INFO:paidiverpy:Number of images before the sampling step: 5. Total number of images after: 5\n"
     ]
    },
    {
     "name": "stdout",
     "output_type": "stream",
     "text": [
      "\u001b[92m☁ paidiverpy ☁  |       INFO | 2025-09-11 16:49:27 | Step 2 completed\u001b[0m\n"
     ]
    },
    {
     "name": "stderr",
     "output_type": "stream",
     "text": [
      "INFO:paidiverpy:Step 2 completed\n"
     ]
    },
    {
     "name": "stdout",
     "output_type": "stream",
     "text": [
      "\u001b[92m☁ paidiverpy ☁  |       INFO | 2025-09-11 16:49:27 | Running step 3: colour_correction - ColourLayer\u001b[0m\n"
     ]
    },
    {
     "name": "stderr",
     "output_type": "stream",
     "text": [
      "INFO:paidiverpy:Running step 3: colour_correction - ColourLayer\n"
     ]
    },
    {
     "name": "stdout",
     "output_type": "stream",
     "text": [
      "\u001b[92m☁ paidiverpy ☁  |       INFO | 2025-09-11 16:49:28 | Step 3 completed\u001b[0m\n"
     ]
    },
    {
     "name": "stderr",
     "output_type": "stream",
     "text": [
      "INFO:paidiverpy:Step 3 completed\n"
     ]
    },
    {
     "name": "stdout",
     "output_type": "stream",
     "text": [
      "\u001b[92m☁ paidiverpy ☁  |       INFO | 2025-09-11 16:49:28 | Running step 4: sharpen - ColourLayer\u001b[0m\n"
     ]
    },
    {
     "name": "stderr",
     "output_type": "stream",
     "text": [
      "INFO:paidiverpy:Running step 4: sharpen - ColourLayer\n"
     ]
    },
    {
     "name": "stdout",
     "output_type": "stream",
     "text": [
      "\u001b[92m☁ paidiverpy ☁  |       INFO | 2025-09-11 16:49:31 | Step 4 completed\u001b[0m\n"
     ]
    },
    {
     "name": "stderr",
     "output_type": "stream",
     "text": [
      "INFO:paidiverpy:Step 4 completed\n"
     ]
    },
    {
     "name": "stdout",
     "output_type": "stream",
     "text": [
      "\u001b[92m☁ paidiverpy ☁  |       INFO | 2025-09-11 16:49:31 | Running step 5: contrast - ColourLayer\u001b[0m\n"
     ]
    },
    {
     "name": "stderr",
     "output_type": "stream",
     "text": [
      "INFO:paidiverpy:Running step 5: contrast - ColourLayer\n"
     ]
    },
    {
     "name": "stdout",
     "output_type": "stream",
     "text": [
      "\u001b[92m☁ paidiverpy ☁  |       INFO | 2025-09-11 16:50:00 | Step 5 completed\u001b[0m\n"
     ]
    },
    {
     "name": "stderr",
     "output_type": "stream",
     "text": [
      "INFO:paidiverpy:Step 5 completed\n"
     ]
    },
    {
     "name": "stdout",
     "output_type": "stream",
     "text": [
      "[########################################] | 100% Completed | 70.16 ss\n",
      "CPU times: user 1min 47s, sys: 4min 36s, total: 6min 23s\n",
      "Wall time: 1min 47s\n"
     ]
    }
   ],
   "source": [
    "%%time\n",
    "# Run the pipeline\n",
    "pipeline.run()"
   ]
  },
  {
   "cell_type": "code",
   "execution_count": 6,
   "id": "a5aa8ca4-9231-4769-8b12-b4f3d435a29a",
   "metadata": {},
   "outputs": [
    {
     "data": {
      "text/html": [
       "<div><svg style=\"position: absolute; width: 0; height: 0; overflow: hidden\">\n",
       "<defs>\n",
       "<symbol id=\"arrow-right\" viewBox=\"0 0 330 330\">\n",
       "  <path id=\"XMLID_222_\" d=\"M250.606,154.389l-150-149.996c-5.857-5.858-15.355-5.858-21.213,0.001\n",
       "\tc-5.857,5.858-5.857,15.355,0.001,21.213l139.393,139.39L79.393,304.394c-5.857,5.858-5.857,15.355,0.001,21.213\n",
       "\tC82.322,328.536,86.161,330,90,330s7.678-1.464,10.607-4.394l149.999-150.004c2.814-2.813,4.394-6.628,4.394-10.606\n",
       "\tC255,161.018,253.42,157.202,250.606,154.389z\"/>\n",
       "</defs>\n",
       "</svg>\n",
       "<style>/* CSS stylesheet for displaying Paidiverpy objects in jupyterlab.\n",
       " *\n",
       " */\n",
       "\n",
       ":root {\n",
       "  --ppy-font-color: var(--jp-content-font-color, rgba(0, 0, 0, 1));\n",
       "  --ppy-font-color-brown: var(--jp-content-font-color-brown, brown);\n",
       "  --ppy-font-color-olive: var(--jp-content-font-color-olive, olive);\n",
       "  --ppy-font-color-teal: var(--jp-content-font-color-teal, teal);\n",
       "  --ppy-font-color-blue: var(--jp-content-font-color-blue, blue);\n",
       "  --ppy-font-color-gray: var(--jp-content-font-color-gray, gray);\n",
       "  --ppy-border-color: var(--jp-border-color2, #e0e0e0);\n",
       "  --ppy-disabled-color: var(--jp-layout-color3, #bdbdbd);\n",
       "  --ppy-background-color: var(--jp-layout-color, white);\n",
       "  --ppy-background-color2: var(--jp-layout-color3, rgba(212, 212, 212, 0.15));\n",
       "}\n",
       "\n",
       "\n",
       "html[theme=\"dark\"],\n",
       "html[data-theme=\"dark\"],\n",
       "body[data-theme=\"dark\"],\n",
       "body.vscode-dark {\n",
       "  --ppy-font-color: rgba(255, 255, 255, 1);\n",
       "  --ppy-font-color-brown: brown;\n",
       "  --ppy-font-color-olive: olive;\n",
       "  --ppy-font-color-teal: teal;\n",
       "  --ppy-font-color-blue: blue;\n",
       "  --ppy-font-color-gray: gray;\n",
       "  --ppy-border-color: #1f1f1f;\n",
       "  --ppy-disabled-color: #515151;\n",
       "  --ppy-background-color: #111111;\n",
       "}\n",
       "\n",
       ".ppy-background-color {\n",
       "  background-color: var(--ppy-background-color) !important;\n",
       "}\n",
       "\n",
       ".ppy-font-color-brown {\n",
       "  color: var(--ppy-font-color-brown) !important;\n",
       "}\n",
       "\n",
       ".ppy-font-color {\n",
       "  color: var(--ppy-font-color) !important;\n",
       "}\n",
       ".ppy-h2 {\n",
       "  font-size: 20px !important;\n",
       "}\n",
       ".ppy-h3 {\n",
       "  font-size: 13px !important;\n",
       "}\n",
       ".ppy-p {\n",
       "  font-size: 10px;\n",
       "}\n",
       ".ppy-p-error {\n",
       "  color: var(--ppy-font-color-brown);\n",
       "  font-weight: bold;\n",
       "  display: block;\n",
       "}\n",
       "\n",
       ".ppy-text-repr-fallback {\n",
       "  /* fallback to plain text repr when CSS is not injected (untrusted notebook) */\n",
       "  display: none;\n",
       "}\n",
       "\n",
       ".ppy-pipeline-wrap{\n",
       "  display: flex;\n",
       "  flex-wrap: wrap;\n",
       "  align-items: center;\n",
       "}\n",
       "\n",
       ".ppy-pipeline {\n",
       "  float:left;\n",
       "  cursor: pointer;\n",
       "  padding: 10px;\n",
       "  width: max-content;\n",
       "  height: 150px;\n",
       "  margin: 10px;\n",
       "  border: 1px solid #000;\n",
       "  text-align: center;\n",
       "  /* line-height: 80px; */\n",
       "}\n",
       "\n",
       ".ppy-pipeline-clear-fix {\n",
       "  clear: both;\n",
       "}\n",
       "\n",
       ".ppy-pipeline-parameters-all {\n",
       "  padding: 10px;\n",
       "  margin: 10px;\n",
       "}\n",
       "\n",
       ".ppy-images-step-header {\n",
       "  cursor: pointer;\n",
       "  font-weight: bold;\n",
       "  margin-top: 10px;\n",
       "  margin-bottom: 5px;\n",
       "}\n",
       ".ppy-images-metadata {\n",
       "  margin-left: 20px;\n",
       "  margin-bottom: 10px;\n",
       "}\n",
       ".ppy-images {\n",
       "  display: flex;\n",
       "  flex-wrap: wrap;\n",
       "  gap: 10px;\n",
       "  margin-left: 20px;\n",
       "}\n",
       "\n",
       ".ppy-show-more-button, .ppy-hide-button {\n",
       "  margin-left: 20px;\n",
       "  background-color: #007bff;\n",
       "  color: white;\n",
       "  border: none;\n",
       "  padding: 5px 10px;\n",
       "  cursor: pointer;\n",
       "}\n",
       "\n",
       "\n",
       ".ppy-pipeline-arrow {\n",
       "  float:left;\n",
       "  width: 50px;\n",
       "  height: 80px;\n",
       "  margin: 10px;\n",
       "  text-align: center;\n",
       "  line-height: 80px;\n",
       "}\n",
       "\n",
       ".ppy-images-img{\n",
       "  display: block;\n",
       "  max-width: 200px;\n",
       "  margin: 10px;\n",
       "}\n",
       "\n",
       ".ppy-images-toggle-arrow {\n",
       "  cursor: pointer;\n",
       "  margin-left: 5px;\n",
       "}\n",
       "\n",
       ".ppy-images-image-p {\n",
       "  cursor: pointer;\n",
       "}\n",
       "\n",
       ".ppy-arrow-right {\n",
       "  display: inline-block;\n",
       "  vertical-align: middle;\n",
       "  width: 1em;\n",
       "  height: 1.5em !important;\n",
       "  stroke-width: 0;\n",
       "  stroke: currentColor;\n",
       "  fill: currentColor;\n",
       "}\n",
       "\n",
       "\n",
       ".ppy-json-block {\n",
       "  font-family: monospace;\n",
       "  background: var(--ppy-background-color);\n",
       "  padding: 1em;\n",
       "  border-radius: 6px;\n",
       "}\n",
       ".ppy-json-key {\n",
       "  color: var(--ppy-font-color-brown);\n",
       "}\n",
       ".ppy-json-string {\n",
       "  color: var(--ppy-font-color-olive);\n",
       "}\n",
       ".ppy-json-number {\n",
       "  color: var(--ppy-font-color-teal);\n",
       "}\n",
       ".ppy-json-bool {\n",
       "  color: var(--ppy-font-color-blue);\n",
       "}\n",
       ".ppy-json-null {\n",
       "  color: var(--ppy-font-color-gray);\n",
       "}\n",
       "\n",
       "\n",
       ".ppy-pn-title-0 {\n",
       "  font-size: 30px;\n",
       "}\n",
       "\n",
       ".ppy-pn-title-1 {\n",
       "  font-size: 20px;\n",
       "}\n",
       ".ppy-pn-title-2 {\n",
       "  font-size: 17px;\n",
       "}\n",
       ".ppy-pn-title-3 {\n",
       "  font-size: 14px;\n",
       "}\n",
       ".ppy-pn-title-4 {\n",
       "  font-size: 12px;\n",
       "}\n",
       "\n",
       ".ppy-pn-bold {\n",
       "  font-weight: bold;\n",
       "}\n",
       ".ppy-pn-italic {\n",
       "  font-style: italic;\n",
       "}\n",
       ".ppy-pn-description {\n",
       "  font-size: 14px;\n",
       "  margin-bottom: 1px;\n",
       "}\n",
       "\n",
       ".bk-root {\n",
       "  width: 100% !important;\n",
       "  max-width: 100% !important;\n",
       "  box-sizing: border-box;\n",
       "}\n",
       "\n",
       "input, .bk-input, .bk-input-group {\n",
       "  margin-top: 0px;\n",
       "  margin-bottom: 3px;\n",
       "  padding-top: 0px;\n",
       "  padding-bottom: 0px;\n",
       "}\n",
       "\n",
       ".ppy-pn-header-button .bk-btn {\n",
       "  background: none !important;\n",
       "  border: none !important;\n",
       "  font-weight: bold;\n",
       "  font-size: 16px;\n",
       "  text-align: left;\n",
       "  padding-left: 0;\n",
       "  cursor: pointer;\n",
       "  box-shadow: none !important;\n",
       "  color: black;\n",
       "}\n",
       "\n",
       ".ppy-pn-danger-modal{\n",
       "  border: 2px solid red;\n",
       "  border-radius: 10px;\n",
       "  box-shadow: 0px 0px 10px rgba(255, 0, 0, 0.5);\n",
       "}\n",
       "\n",
       ".ppy-pn-config-form{\n",
       "  padding: 10px;\n",
       "  margin-top: 10px;\n",
       "  margin-bottom: 10px;\n",
       "  background-color: var(--ppy-background-color2);\n",
       "  border-radius: 5px;\n",
       "  box-shadow: 0px 0px 10px rgba(0, 0, 0, 0.1);\n",
       "}\n",
       "\n",
       "\n",
       ".ppy-pn-align-right {\n",
       "  display: flex;\n",
       "  justify-content: flex-end;\n",
       "}\n",
       "</style><script>function toggleMetadata(stepIndex, randomId) {\n",
       "  var metadata = document.getElementById(\"ppy-images-metadata-\" + randomId + \"-\" + stepIndex);\n",
       "  var arrow = document.getElementById(\"ppy-images-arrow-\" + randomId + \"-\" + stepIndex);\n",
       "  if (metadata.style.display === \"none\") {\n",
       "      metadata.style.display = \"block\";\n",
       "      arrow.innerHTML = \"▼\";\n",
       "      arrow.classList.remove(\"ppy-font-color\");\n",
       "      arrow.classList.add(\"ppy-font-color-brown\");\n",
       "  } else {\n",
       "      metadata.style.display = \"none\";\n",
       "      arrow.innerHTML = \"►\";\n",
       "      arrow.classList.remove(\"ppy-font-color-brown\");\n",
       "      arrow.classList.add(\"ppy-font-color\");\n",
       "  }\n",
       "}\n",
       "function toggleImage(imageId, randomId) {\n",
       "  var img = document.getElementById(imageId);\n",
       "  var arrow = document.getElementById(\"ppy-images-arrow-\" + randomId + \"-\" + imageId);\n",
       "  if (img.style.display === \"none\") {\n",
       "      img.style.display = \"block\";\n",
       "      arrow.innerHTML = \"▼\";\n",
       "      arrow.classList.remove(\"ppy-font-color\");\n",
       "      arrow.classList.add(\"ppy-font-color-brown\");\n",
       "  } else {\n",
       "      img.style.display = \"none\";\n",
       "      arrow.innerHTML = \"►\";\n",
       "      arrow.classList.remove(\"ppy-font-color-brown\");\n",
       "      arrow.classList.add(\"ppy-font-color\");\n",
       "  }\n",
       "}\n",
       "function showMore(stepIndex) {\n",
       "  var moreImages = document.getElementById(\"ppy-more-images-\" + stepIndex);\n",
       "  var showMoreButton = document.getElementById(\"ppy-show-more-button-\" + stepIndex);\n",
       "  var hideButton = document.getElementById(\"ppy-hide-button-\" + stepIndex);\n",
       "  moreImages.style.display = \"flex\";\n",
       "  showMoreButton.style.display = \"none\";\n",
       "  hideButton.style.display = \"inline-block\";\n",
       "}\n",
       "function hide(stepIndex) {\n",
       "  var moreImages = document.getElementById(\"ppy-more-images-\" + stepIndex);\n",
       "  var showMoreButton = document.getElementById(\"ppy-show-more-button-\" + stepIndex);\n",
       "  var hideButton = document.getElementById(\"ppy-hide-button-\" + stepIndex);\n",
       "  moreImages.style.display = \"none\";\n",
       "  showMoreButton.style.display = \"inline-block\";\n",
       "  hideButton.style.display = \"none\";\n",
       "}\n",
       "\n",
       "\n",
       "function showParameters(id, randomId) {\n",
       "  var currentTarget = document.getElementById('ppy-pipeline-' + randomId + '-' + id);\n",
       "  var square = document.getElementsByClassName('ppy-pipeline-' + randomId);\n",
       "  var allParams = document.getElementsByClassName('ppy-pipeline-parameters-' + randomId);\n",
       "  var selectedParams = document.getElementById('ppy-pipeline-parameters-' + randomId + '-' + id);\n",
       "  var idWasVisible = false;\n",
       "  if (selectedParams) {\n",
       "      var idWasVisible = selectedParams.style.display === 'block';\n",
       "  }\n",
       "  for (var i = 0; i < square.length; i++) {\n",
       "      square[i].classList.remove('ppy-font-color-brown');\n",
       "      square[i].classList.add('ppy-font-color');\n",
       "  }\n",
       "  for (var i = 0; i < allParams.length; i++) {\n",
       "      allParams[i].style.display = 'none';\n",
       "  }\n",
       "  // Show the selected parameter section\n",
       "  if (selectedParams) {\n",
       "      if (idWasVisible) {\n",
       "          selectedParams.style.display = 'none';\n",
       "          currentTarget.classList.remove('ppy-font-color-brown');\n",
       "          currentTarget.classList.add('ppy-font-color');\n",
       "      } else {\n",
       "          selectedParams.style.display = 'block';\n",
       "          currentTarget.classList.remove('ppy-font-color');\n",
       "          currentTarget.classList.add('ppy-font-color-brown');\n",
       "      }\n",
       "  }\n",
       "}\n",
       "\n",
       "hljs.highlightAll();\n",
       "</script><link rel=\"stylesheet\" href=\"https://cdnjs.cloudflare.com/ajax/libs/highlight.js/11.9.0/styles/github.min.css\"><script src=\"https://cdnjs.cloudflare.com/ajax/libs/highlight.js/11.9.0/highlight.min.js\"></script><script>hljs.highlightAll();</script><pre class='ppy-text-repr-fallback'>&lt;paidiverpy.images_layer.ImagesLayer object at 0x7dcf24366fe0&gt;</pre><div>\n",
       "            <div class='ppy-h2 ppy-images-step-header' onclick='toggleMetadata(0, \"frr\")'>\n",
       "                Step 0: raw\n",
       "                <span id='ppy-images-arrow-frr-0'\n",
       "                    class='ppy-images-toggle-arrow ppy-font-color-brown'>▼\n",
       "                </span>\n",
       "            </div>\n",
       "            <div id='ppy-images-metadata-frr-0' class='ppy-images-metadata' style='display:block;'><div class='ppy-images'>\n",
       "        <div>\n",
       "            <p onclick='toggleImage(\"image-frr-0-0\", \"frr\")' class=\"ppy-images-image-p\" >\n",
       "                Image: M58_10441297_12987744962270.jpg\n",
       "                <span id='ppy-images-arrow-frr-image-frr-0-0' class='ppy-images-toggle-arrow ppy-font-color-brown'>▼</span>\n",
       "            </p>\n",
       "        \n",
       "            <img id='image-frr-0-0'\n",
       "                src='data:image/jpeg;base64,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'\n",
       "                class='ppy-images-img'/></div>\n",
       "            \n",
       "        <div>\n",
       "            <p onclick='toggleImage(\"image-frr-0-1\", \"frr\")' class=\"ppy-images-image-p\" >\n",
       "                Image: M58_10441297_12987745125097.jpg\n",
       "                <span id='ppy-images-arrow-frr-image-frr-0-1' class='ppy-images-toggle-arrow ppy-font-color-brown'>▼</span>\n",
       "            </p>\n",
       "        \n",
       "            <img id='image-frr-0-1'\n",
       "                src='data:image/jpeg;base64,/9j/4AAQSkZJRgABAQAAAQABAAD/2wBDAAgGBgcGBQgHBwcJCQgKDBQNDAsLDBkSEw8UHRofHh0aHBwgJC4nICIsIxwcKDcpLDAxNDQ0Hyc5PTgyPC4zNDL/2wBDAQkJCQwLDBgNDRgyIRwhMjIyMjIyMjIyMjIyMjIyMjIyMjIyMjIyMjIyMjIyMjIyMjIyMjIyMjIyMjIyMjIyMjL/wAARCAD6AEIDASIAAhEBAxEB/8QAHwAAAQUBAQEBAQEAAAAAAAAAAAECAwQFBgcICQoL/8QAtRAAAgEDAwIEAwUFBAQAAAF9AQIDAAQRBRIhMUEGE1FhByJxFDKBkaEII0KxwRVS0fAkM2JyggkKFhcYGRolJicoKSo0NTY3ODk6Q0RFRkdISUpTVFVWV1hZWmNkZWZnaGlqc3R1dnd4eXqDhIWGh4iJipKTlJWWl5iZmqKjpKWmp6ipqrKztLW2t7i5usLDxMXGx8jJytLT1NXW19jZ2uHi4+Tl5ufo6erx8vP09fb3+Pn6/8QAHwEAAwEBAQEBAQEBAQAAAAAAAAECAwQFBgcICQoL/8QAtREAAgECBAQDBAcFBAQAAQJ3AAECAxEEBSExBhJBUQdhcRMiMoEIFEKRobHBCSMzUvAVYnLRChYkNOEl8RcYGRomJygpKjU2Nzg5OkNERUZHSElKU1RVVldYWVpjZGVmZ2hpanN0dXZ3eHl6goOEhYaHiImKkpOUlZaXmJmaoqOkpaanqKmqsrO0tba3uLm6wsPExcbHyMnK0tPU1dbX2Nna4uPk5ebn6Onq8vP09fb3+Pn6/9oADAMBAAIRAxEAPwDxDR1zdsfRK3j1yMVjaKp/fOPYVsAmIc4JNRIpCoys2wMPoBTHjKE4HBH50ivuJbHftTZGJwW7VIxGBA4x+FCs+05P50iPyxPA6U3cdwz0NMAb5j04rAuiGupSOm410LnAwCBXNOcyMfUmqiSxtFFFUI3NFT/R2b1k/pWnNG0iFh94dh/KqWkDZYocD5iSPzq95hDYAGaze5a2K8RIBLqcdqfwB0ByasHOM8YNVJS4c84XtS3AUsMY+WmtxnHUinBcjJAoIzkY9xQBWkcrGzEdAa5+ty7fbby+uCM1h1cSWFFFFUI6WyAFnAuAcLnmrRXKluhFZ0Wq2u2KIJJxgDgdfzrYEfBx396zZSKnncYA/OhyGGA2CamW0IPBB9qa1s5cBdoPTrS0GQEscDPAqJ2cOfSrjWzjAJXAprQN2xmi4GZqA22bsc5JAxWLXRX1jPcRBEK5yCcmse7sZbLZ5pU7um01cWSyrRRRVCJ7JN97Avq4/nXYBsVyukIX1OEDsSf0rrlGRgjBqJlIRCN+QQCR09ahLtK24YXPC+tORlEjICSRnBPWmk7HTtjrmoGNfei7mJJHelVhtJLDmpLl2VPlAIPeq6qCgU9e9CAfklSRj2rC1xj50KnspP61vOyxx5x7AVzesSeZe9MYQCrjuJlCiiirJNTQVzqBb+6hNdOi7gS4x9K57w+gLXDHjCgZ/wA/St9jJIh28Bhjms5blIQIpkMmc56YoYF5TkDj+VJDgAK5G7pgdqlUBQBUFESc5U4K56UOMLhcACnMq5JBx7UxuB+FMQ0qrIQRkGuW1Ig6hNjoDj9K6kniuQum33Urern+dXATIqKKKsk6Lw6NtrM46l8D8v8A69bKPnhhggd6y9DG3TlP95if6Vq9eg6VlLcpDVVV6AZ7mmlgOh9hTsbtxIqMoZG4G3bwRUjDdlcYxjuaaOvLce9SMoAAzzTNmBzk59aYDJCAN3oMg1xzHLE+prrbiaNLObHUI2PyrkauImFFFFWSKGYdGI/Gut0tgLCBTnO3v71yNdraqqQRgkDaoH6VMthocj5d8DI71XY7V2k9DwamX5PmAyrdfzp4RHdgRkEcVmUNjzsIz1ppwrhs1O0KwxZZgDjpmq4ZWBzgDFC1AXG7ooOaztWCpYOcAE4A4960UZAnyn6ZrL1x82af7T1S3B7HP0UUVoQOjXfKi+rAV3CjCHAz7Vxtgm+/gXr84rtVbaN3YjpiomVEjiOxjG2PoakDBG3Y6CoZELOJVXA75qZ8eWGHP0rMoryMsrg46cCjauNpwCOuaWPuxA5PpTWjBcnJ5pgQhDkqOQKy9d+VIEHua2GbYDsXB9awdbctNCD1CZx9TVR3Jexl0UUVoSXtIUtqUeO2T+ldYrAqQeDjvXN6Bxeu+M7U/mRXRLvIJkUHJ647VnLcpEjA4G08EdKii3CViTlV7GnxNtfBHbmo5crLvVsDvUjEdmkkwmRx09KQjDYJzUwf5Qe5FMJzxQAw+1c3rTbtRYf3VAros5/hrltQbdfzH/axVxWomVqKKKskt2N+9izsiKxYAfN2roLDU5r6EkxoH3YAH9a5Sun0FAmn7/7zH/CpkkNGkC6uNwXHcimyjGflGD0IqUliMdPwqJjtfHJHpWZQ4biuWxntioSxLnPGOKlOCetNkUbTyDmgBrMCBjv61kT6TE8skjSSZYljwK0zxg1FdMEt5mDYIQ/yqkxM5SiiitCQrq9PjMGm28gPDLlh9a5SuutsG3iQZyqAH8qmQ0XhhgDntxUWSHyv4jNNKGNFA3Fm4CgdSe1P8h4928YJ5OT0rMvUS4BdBsXk9eetRKD8pbOemKdhj15PpUefnIJwe1CEOIDJgcmqGo7Uspf72MfrV1WYPkjA6ZrN1k4tcg8MwGKpbiZg0UUVoSOjXfIq+pArtAqL8qqcVyNiu++gXtvH867IOr8Lnj9aiRSI95V4ZVBHlvk1oXhR13r0I9aqFlQZ459RUDM7BRk7B0GelZNXZadkOkdUUDqT6VGj7yRs6d6kZEK7u49BxTCflDH8BVEgxB4bNY+tsPIiUdC2a1yO5HSsPXCBJCo7AmqjuJmTRRRWhJZsHSO9jeRgqrk5P0rqba7tpxsgmDOBkgA1xtbXh5f3k7kZwAKmSGmbkiPIFXOF701w4Xao4zx61YXsM849KYGwTkY9qzKIlSQIRgAj1qHY+4EqTg8jtVtj07ntim4IHzYz7UARMMZ4zmsbVLO5uLpTFEzKFAzmtw8+lIenNUnYDkjZ3AJBiORRU1xdH7TLg8bz/Oir1IKVdD4eUi3lbHV8fp/9euerptDXbYJ1+ZiRSlsNbmrghiV4zSOQTtyCcZxSOSEJXkgcVAuAAwYbiMnNZlEpbCZ5XnvRuDDjn1qR0PlqQOvNRBypLLxQAmfmxkUxu5JzxSnBYnoW5z2qG4by4JWOeEJ/SmBybnc7N6nNFJRWpAV1+lrs02Ef7OfzrkK7W3QRW8QP8KAfpUTGieNQM5NVZIdow+Qu7r61KrliccD0xTZUYPudiwHFQWTgnGP4R0z1qCTH4UIuQSRjHGTTcA5AzQgEOxQvJNU752FhcE46Y/OrZ5461naqdmnsueWYCqRLOfooorQkfEu+ZF9WArtYk88neflU42iuNs/+P2D/AK6L/Ouyi4kkxxzUTGgkAUnL4A6VHuaRdrdOtLcdV+tNPCvipKJFcGML3HUVEwC9OD6ClH3E+tH8VAEa53Djg1m66y/Z41Hd8/pWtJ0H0rB1n/ll+P8ASnHcTMqiiitCT//Z'\n",
       "                class='ppy-images-img'/></div>\n",
       "            \n",
       "        <div>\n",
       "            <p onclick='toggleImage(\"image-frr-0-2\", \"frr\")' class=\"ppy-images-image-p\" >\n",
       "                Image: M58_10441297_12987745138003.jpg\n",
       "                <span id='ppy-images-arrow-frr-image-frr-0-2' class='ppy-images-toggle-arrow ppy-font-color-brown'>▼</span>\n",
       "            </p>\n",
       "        \n",
       "            <img id='image-frr-0-2'\n",
       "                src='data:image/jpeg;base64,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'\n",
       "                class='ppy-images-img'/></div>\n",
       "            \n",
       "        <div>\n",
       "            <p onclick='toggleImage(\"image-frr-0-3\", \"frr\")' class=\"ppy-images-image-p\" >\n",
       "                Image: M58_10441297_12987745271204.jpg\n",
       "                <span id='ppy-images-arrow-frr-image-frr-0-3' class='ppy-images-toggle-arrow ppy-font-color-brown'>▼</span>\n",
       "            </p>\n",
       "        \n",
       "            <img id='image-frr-0-3'\n",
       "                src='data:image/jpeg;base64,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'\n",
       "                class='ppy-images-img'/></div>\n",
       "            \n",
       "        <div>\n",
       "            <p onclick='toggleImage(\"image-frr-0-4\", \"frr\")' class=\"ppy-images-image-p\" >\n",
       "                Image: M58_10441297_12987745328781.jpg\n",
       "                <span id='ppy-images-arrow-frr-image-frr-0-4' class='ppy-images-toggle-arrow ppy-font-color-brown'>▼</span>\n",
       "            </p>\n",
       "        \n",
       "            <img id='image-frr-0-4'\n",
       "                src='data:image/jpeg;base64,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'\n",
       "                class='ppy-images-img'/></div>\n",
       "            </div></div>\n",
       "            <div class='ppy-h2 ppy-images-step-header' onclick='toggleMetadata(1, \"frr\")'>\n",
       "                Step 1: colour_correction\n",
       "                <span id='ppy-images-arrow-frr-1'\n",
       "                    class='ppy-images-toggle-arrow ppy-font-color-brown'>▼\n",
       "                </span>\n",
       "            </div>\n",
       "            <div id='ppy-images-metadata-frr-1' class='ppy-images-metadata' style='display:block;'><div class='ppy-images'>\n",
       "        <div>\n",
       "            <p onclick='toggleImage(\"image-frr-1-0\", \"frr\")' class=\"ppy-images-image-p\" >\n",
       "                Image: M58_10441297_12987744962270.jpg\n",
       "                <span id='ppy-images-arrow-frr-image-frr-1-0' class='ppy-images-toggle-arrow ppy-font-color-brown'>▼</span>\n",
       "            </p>\n",
       "        \n",
       "            <img id='image-frr-1-0'\n",
       "                src='data:image/jpeg;base64,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'\n",
       "                class='ppy-images-img'/></div>\n",
       "            \n",
       "        <div>\n",
       "            <p onclick='toggleImage(\"image-frr-1-1\", \"frr\")' class=\"ppy-images-image-p\" >\n",
       "                Image: M58_10441297_12987745125097.jpg\n",
       "                <span id='ppy-images-arrow-frr-image-frr-1-1' class='ppy-images-toggle-arrow ppy-font-color-brown'>▼</span>\n",
       "            </p>\n",
       "        \n",
       "            <img id='image-frr-1-1'\n",
       "                src='data:image/jpeg;base64,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'\n",
       "                class='ppy-images-img'/></div>\n",
       "            \n",
       "        <div>\n",
       "            <p onclick='toggleImage(\"image-frr-1-2\", \"frr\")' class=\"ppy-images-image-p\" >\n",
       "                Image: M58_10441297_12987745138003.jpg\n",
       "                <span id='ppy-images-arrow-frr-image-frr-1-2' class='ppy-images-toggle-arrow ppy-font-color-brown'>▼</span>\n",
       "            </p>\n",
       "        \n",
       "            <img id='image-frr-1-2'\n",
       "                src='data:image/jpeg;base64,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'\n",
       "                class='ppy-images-img'/></div>\n",
       "            \n",
       "        <div>\n",
       "            <p onclick='toggleImage(\"image-frr-1-3\", \"frr\")' class=\"ppy-images-image-p\" >\n",
       "                Image: M58_10441297_12987745271204.jpg\n",
       "                <span id='ppy-images-arrow-frr-image-frr-1-3' class='ppy-images-toggle-arrow ppy-font-color-brown'>▼</span>\n",
       "            </p>\n",
       "        \n",
       "            <img id='image-frr-1-3'\n",
       "                src='data:image/jpeg;base64,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'\n",
       "                class='ppy-images-img'/></div>\n",
       "            \n",
       "        <div>\n",
       "            <p onclick='toggleImage(\"image-frr-1-4\", \"frr\")' class=\"ppy-images-image-p\" >\n",
       "                Image: M58_10441297_12987745328781.jpg\n",
       "                <span id='ppy-images-arrow-frr-image-frr-1-4' class='ppy-images-toggle-arrow ppy-font-color-brown'>▼</span>\n",
       "            </p>\n",
       "        \n",
       "            <img id='image-frr-1-4'\n",
       "                src='data:image/jpeg;base64,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'\n",
       "                class='ppy-images-img'/></div>\n",
       "            </div></div>\n",
       "            <div class='ppy-h2 ppy-images-step-header' onclick='toggleMetadata(2, \"frr\")'>\n",
       "                Step 2: datetime\n",
       "                <span id='ppy-images-arrow-frr-2'\n",
       "                    class='ppy-images-toggle-arrow ppy-font-color-brown'>▼\n",
       "                </span>\n",
       "            </div>\n",
       "            <div id='ppy-images-metadata-frr-2' class='ppy-images-metadata' style='display:block;'><div class='ppy-images'>\n",
       "        <div>\n",
       "            <p onclick='toggleImage(\"image-frr-2-0\", \"frr\")' class=\"ppy-images-image-p\" >\n",
       "                Image: M58_10441297_12987744962270.jpg\n",
       "                <span id='ppy-images-arrow-frr-image-frr-2-0' class='ppy-images-toggle-arrow ppy-font-color-brown'>▼</span>\n",
       "            </p>\n",
       "        \n",
       "            <img id='image-frr-2-0'\n",
       "                src='data:image/jpeg;base64,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'\n",
       "                class='ppy-images-img'/></div>\n",
       "            \n",
       "        <div>\n",
       "            <p onclick='toggleImage(\"image-frr-2-1\", \"frr\")' class=\"ppy-images-image-p\" >\n",
       "                Image: M58_10441297_12987745125097.jpg\n",
       "                <span id='ppy-images-arrow-frr-image-frr-2-1' class='ppy-images-toggle-arrow ppy-font-color-brown'>▼</span>\n",
       "            </p>\n",
       "        \n",
       "            <img id='image-frr-2-1'\n",
       "                src='data:image/jpeg;base64,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'\n",
       "                class='ppy-images-img'/></div>\n",
       "            \n",
       "        <div>\n",
       "            <p onclick='toggleImage(\"image-frr-2-2\", \"frr\")' class=\"ppy-images-image-p\" >\n",
       "                Image: M58_10441297_12987745138003.jpg\n",
       "                <span id='ppy-images-arrow-frr-image-frr-2-2' class='ppy-images-toggle-arrow ppy-font-color-brown'>▼</span>\n",
       "            </p>\n",
       "        \n",
       "            <img id='image-frr-2-2'\n",
       "                src='data:image/jpeg;base64,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'\n",
       "                class='ppy-images-img'/></div>\n",
       "            \n",
       "        <div>\n",
       "            <p onclick='toggleImage(\"image-frr-2-3\", \"frr\")' class=\"ppy-images-image-p\" >\n",
       "                Image: M58_10441297_12987745271204.jpg\n",
       "                <span id='ppy-images-arrow-frr-image-frr-2-3' class='ppy-images-toggle-arrow ppy-font-color-brown'>▼</span>\n",
       "            </p>\n",
       "        \n",
       "            <img id='image-frr-2-3'\n",
       "                src='data:image/jpeg;base64,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'\n",
       "                class='ppy-images-img'/></div>\n",
       "            \n",
       "        <div>\n",
       "            <p onclick='toggleImage(\"image-frr-2-4\", \"frr\")' class=\"ppy-images-image-p\" >\n",
       "                Image: M58_10441297_12987745328781.jpg\n",
       "                <span id='ppy-images-arrow-frr-image-frr-2-4' class='ppy-images-toggle-arrow ppy-font-color-brown'>▼</span>\n",
       "            </p>\n",
       "        \n",
       "            <img id='image-frr-2-4'\n",
       "                src='data:image/jpeg;base64,/9j/4AAQSkZJRgABAQAAAQABAAD/2wBDAAgGBgcGBQgHBwcJCQgKDBQNDAsLDBkSEw8UHRofHh0aHBwgJC4nICIsIxwcKDcpLDAxNDQ0Hyc5PTgyPC4zNDL/wAALCAD6ADoBAREA/8QAHwAAAQUBAQEBAQEAAAAAAAAAAAECAwQFBgcICQoL/8QAtRAAAgEDAwIEAwUFBAQAAAF9AQIDAAQRBRIhMUEGE1FhByJxFDKBkaEII0KxwRVS0fAkM2JyggkKFhcYGRolJicoKSo0NTY3ODk6Q0RFRkdISUpTVFVWV1hZWmNkZWZnaGlqc3R1dnd4eXqDhIWGh4iJipKTlJWWl5iZmqKjpKWmp6ipqrKztLW2t7i5usLDxMXGx8jJytLT1NXW19jZ2uHi4+Tl5ufo6erx8vP09fb3+Pn6/9oACAEBAAA/APGfDy5lnb2Aroi3H0poxkimtkHr+VNaNWBJGTSdFxj9aMDOe/rXM3E5FzKN3Rz/ADrQ8OriKZs/xD8eP/r1t9snvR2ppBHJoIwPrTGwRjFMkwV5PFchKd0zt6sTXR+Ho/8AQXb1c/yFavvSHikycnI4oLccDmo2x261E7DynYY+UGuPrqdEXGmx84ySeD71p49aY27PSk9KB0z3qNjx0qvdsEspmHXYf5VyddZpqr/Z1uOhxn696vIyk/KTheTmmiYSY4IJP4EUDC5ByKYD1pDwOBn2qjqbFdNl7ZAH61zNdjZxj7JGEJyEUH8qmA2q2RyfSo0SQDkfL29qkYEDPX3puB0ApKztabbYEY+8wFc5XQ6HeT3EsiyOCqqMDFdBtXAPeoyAfmH61GcdKYc7twA2DrUCzh5Nu3ANF3bQ3ChJFJA56kc1gyw2ySuojPysR96rnh1eZ291H8632behCkg+tNt0ZVO9ifQU4pknPGKjRkOTwy8g1HIqoQyADJ7UgkD+1cncSk3MpHQuf51ueHVP2OY+r/0rZfdkfrTCGJ9yO1Nt4mizl8g9qRshSwH4UgHy4I596awCodtcax3MT6nNdPoA26dn1cmtPOcCgt2B9qQkU0sQOP1FMbPXOaguG2wSt6IT+lcjXWaMu3S4ffJ/Wr/U5xTe/FAHekA9PxqM7TwDVXUTssZj/sEVytdjpgKabBj+4DVoA03IblaTOBwefSkOR9ajAG045qjq526fJg9cD9a5quq0m/juIfJRGBjQAlsY9K0wCRnIpgXBwOO9BQ4z6UFCwwKjaMoMZqlqFtJdWvloyjJBya5t4DHIyFhlSRWx4cX5p27fKP510DdQBgUpIUfypuWZSMU7oOBULZ9KiI+vFchO264kPqxP61u+HVzbzH1bHH0raXIAz+lKRnB7YpFyc0hyDTWcnrx2qGQhVJ7iuOJySfWuk0EFbAnHBcn9BWqjfMVB5NOyV4b8aQEdvTOKar+YCcED0PY0wnjpUF3lLaVuMBCf0rkK6nRFI0+M+pJ/WtJQVmY5xk0u5mlG45X070cGRiWNMfAAAOaj5Gaq6mxWwmOf4COPeuUrr9IG3TYBj+HP61eJwc96QYyfWmsuOh/CmseMnr9KYT6E1Q1c406Q+uAPzrma6/SpoWtI445FZkQbgO1X+vJH5U3vnmg/NzikKqV5yKiKYz6VnatFLNZhIkZiWHArm2UqxUjBBwRW74aX57hv90fzroCPU0pGR/LFMDho8rwfekLZznpTM8e9NI4PPHvXGSndM59WJroPDQxFM3csB+lbpAakZCCCOlIPun3NRNnJ44pufrUc3CFuwBNcZ1NdP4dGLFzjrIf5CtlWIGKbJPtdVKE575pH4PFRnnvxTWBNV7twtnMT2Q/yrkK6rQQP7NX1LMa1F65zmlwuckcjnNNY/NnOajI9BTWJxwKpak23T5/dcVytdhoqKNLhyueCf1NXPLCkFS230zQSep+lLwe9NbjiowBg9s1m6wSthJ6HA/WuarsdLVhYQDcMFAavL1I60088Hr6UmBgUhBPIpjDtkCsnXDiyAHdx/WudxWpoOTqQyTgITXWBiVzjtQCO3NNl3qF2gc+tI3J5A45HvTSR7UwkMudn5iuauZwLqYcffbt71J4fjL3r47J/UV1R5Xp3pNo6578UuEXLuTwMc9KazKV4PB5qPPHHNMbkZJri523XEp9XJ/Wtnw1kTXDAchQP1ros5GKRR+8AK8etJerug+Qn5Tz7ioI0cNkcLjpTyMDGP1qNmwuTXFscsT6mt/w2uVuD7qP510BKr1IBPHNKxOAAM+tNIwCMcGmgdugqMtxjuDzUFy2y3kb0U/yrja6Pw4v+izHsX/pWzLGXVQvJ6808A85I+gpeQajY9hxUZ4z6mqt+2ywn9dhFcjXUeHBixY+rk/yrWLdcUZINITzgfnTXHOKjIqjqp26bN7gD9a5aur0H/kFD/eatQ8DimnoPpSCmHt9aSs7Wv+QdJ9R/OuYr/9k='\n",
       "                class='ppy-images-img'/></div>\n",
       "            </div></div>\n",
       "            <div class='ppy-h2 ppy-images-step-header' onclick='toggleMetadata(3, \"frr\")'>\n",
       "                Step 3: colour_correction\n",
       "                <span id='ppy-images-arrow-frr-3'\n",
       "                    class='ppy-images-toggle-arrow ppy-font-color-brown'>▼\n",
       "                </span>\n",
       "            </div>\n",
       "            <div id='ppy-images-metadata-frr-3' class='ppy-images-metadata' style='display:block;'><div class='ppy-images'>\n",
       "        <div>\n",
       "            <p onclick='toggleImage(\"image-frr-3-0\", \"frr\")' class=\"ppy-images-image-p\" >\n",
       "                Image: M58_10441297_12987744962270.jpg\n",
       "                <span id='ppy-images-arrow-frr-image-frr-3-0' class='ppy-images-toggle-arrow ppy-font-color-brown'>▼</span>\n",
       "            </p>\n",
       "        \n",
       "            <img id='image-frr-3-0'\n",
       "                src='data:image/jpeg;base64,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'\n",
       "                class='ppy-images-img'/></div>\n",
       "            \n",
       "        <div>\n",
       "            <p onclick='toggleImage(\"image-frr-3-1\", \"frr\")' class=\"ppy-images-image-p\" >\n",
       "                Image: M58_10441297_12987745125097.jpg\n",
       "                <span id='ppy-images-arrow-frr-image-frr-3-1' class='ppy-images-toggle-arrow ppy-font-color-brown'>▼</span>\n",
       "            </p>\n",
       "        \n",
       "            <img id='image-frr-3-1'\n",
       "                src='data:image/jpeg;base64,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'\n",
       "                class='ppy-images-img'/></div>\n",
       "            \n",
       "        <div>\n",
       "            <p onclick='toggleImage(\"image-frr-3-2\", \"frr\")' class=\"ppy-images-image-p\" >\n",
       "                Image: M58_10441297_12987745138003.jpg\n",
       "                <span id='ppy-images-arrow-frr-image-frr-3-2' class='ppy-images-toggle-arrow ppy-font-color-brown'>▼</span>\n",
       "            </p>\n",
       "        \n",
       "            <img id='image-frr-3-2'\n",
       "                src='data:image/jpeg;base64,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'\n",
       "                class='ppy-images-img'/></div>\n",
       "            \n",
       "        <div>\n",
       "            <p onclick='toggleImage(\"image-frr-3-3\", \"frr\")' class=\"ppy-images-image-p\" >\n",
       "                Image: M58_10441297_12987745271204.jpg\n",
       "                <span id='ppy-images-arrow-frr-image-frr-3-3' class='ppy-images-toggle-arrow ppy-font-color-brown'>▼</span>\n",
       "            </p>\n",
       "        \n",
       "            <img id='image-frr-3-3'\n",
       "                src='data:image/jpeg;base64,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'\n",
       "                class='ppy-images-img'/></div>\n",
       "            \n",
       "        <div>\n",
       "            <p onclick='toggleImage(\"image-frr-3-4\", \"frr\")' class=\"ppy-images-image-p\" >\n",
       "                Image: M58_10441297_12987745328781.jpg\n",
       "                <span id='ppy-images-arrow-frr-image-frr-3-4' class='ppy-images-toggle-arrow ppy-font-color-brown'>▼</span>\n",
       "            </p>\n",
       "        \n",
       "            <img id='image-frr-3-4'\n",
       "                src='data:image/jpeg;base64,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'\n",
       "                class='ppy-images-img'/></div>\n",
       "            </div></div>\n",
       "            <div class='ppy-h2 ppy-images-step-header' onclick='toggleMetadata(4, \"frr\")'>\n",
       "                Step 4: sharpen\n",
       "                <span id='ppy-images-arrow-frr-4'\n",
       "                    class='ppy-images-toggle-arrow ppy-font-color-brown'>▼\n",
       "                </span>\n",
       "            </div>\n",
       "            <div id='ppy-images-metadata-frr-4' class='ppy-images-metadata' style='display:block;'><div class='ppy-images'>\n",
       "        <div>\n",
       "            <p onclick='toggleImage(\"image-frr-4-0\", \"frr\")' class=\"ppy-images-image-p\" >\n",
       "                Image: M58_10441297_12987744962270.jpg\n",
       "                <span id='ppy-images-arrow-frr-image-frr-4-0' class='ppy-images-toggle-arrow ppy-font-color-brown'>▼</span>\n",
       "            </p>\n",
       "        \n",
       "            <img id='image-frr-4-0'\n",
       "                src='data:image/jpeg;base64,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'\n",
       "                class='ppy-images-img'/></div>\n",
       "            \n",
       "        <div>\n",
       "            <p onclick='toggleImage(\"image-frr-4-1\", \"frr\")' class=\"ppy-images-image-p\" >\n",
       "                Image: M58_10441297_12987745125097.jpg\n",
       "                <span id='ppy-images-arrow-frr-image-frr-4-1' class='ppy-images-toggle-arrow ppy-font-color-brown'>▼</span>\n",
       "            </p>\n",
       "        \n",
       "            <img id='image-frr-4-1'\n",
       "                src='data:image/jpeg;base64,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'\n",
       "                class='ppy-images-img'/></div>\n",
       "            \n",
       "        <div>\n",
       "            <p onclick='toggleImage(\"image-frr-4-2\", \"frr\")' class=\"ppy-images-image-p\" >\n",
       "                Image: M58_10441297_12987745138003.jpg\n",
       "                <span id='ppy-images-arrow-frr-image-frr-4-2' class='ppy-images-toggle-arrow ppy-font-color-brown'>▼</span>\n",
       "            </p>\n",
       "        \n",
       "            <img id='image-frr-4-2'\n",
       "                src='data:image/jpeg;base64,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'\n",
       "                class='ppy-images-img'/></div>\n",
       "            \n",
       "        <div>\n",
       "            <p onclick='toggleImage(\"image-frr-4-3\", \"frr\")' class=\"ppy-images-image-p\" >\n",
       "                Image: M58_10441297_12987745271204.jpg\n",
       "                <span id='ppy-images-arrow-frr-image-frr-4-3' class='ppy-images-toggle-arrow ppy-font-color-brown'>▼</span>\n",
       "            </p>\n",
       "        \n",
       "            <img id='image-frr-4-3'\n",
       "                src='data:image/jpeg;base64,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'\n",
       "                class='ppy-images-img'/></div>\n",
       "            \n",
       "        <div>\n",
       "            <p onclick='toggleImage(\"image-frr-4-4\", \"frr\")' class=\"ppy-images-image-p\" >\n",
       "                Image: M58_10441297_12987745328781.jpg\n",
       "                <span id='ppy-images-arrow-frr-image-frr-4-4' class='ppy-images-toggle-arrow ppy-font-color-brown'>▼</span>\n",
       "            </p>\n",
       "        \n",
       "            <img id='image-frr-4-4'\n",
       "                src='data:image/jpeg;base64,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'\n",
       "                class='ppy-images-img'/></div>\n",
       "            </div></div>\n",
       "            <div class='ppy-h2 ppy-images-step-header' onclick='toggleMetadata(5, \"frr\")'>\n",
       "                Step 5: contrast\n",
       "                <span id='ppy-images-arrow-frr-5'\n",
       "                    class='ppy-images-toggle-arrow ppy-font-color-brown'>▼\n",
       "                </span>\n",
       "            </div>\n",
       "            <div id='ppy-images-metadata-frr-5' class='ppy-images-metadata' style='display:block;'><div class='ppy-images'>\n",
       "        <div>\n",
       "            <p onclick='toggleImage(\"image-frr-5-0\", \"frr\")' class=\"ppy-images-image-p\" >\n",
       "                Image: M58_10441297_12987744962270.jpg\n",
       "                <span id='ppy-images-arrow-frr-image-frr-5-0' class='ppy-images-toggle-arrow ppy-font-color-brown'>▼</span>\n",
       "            </p>\n",
       "        \n",
       "            <img id='image-frr-5-0'\n",
       "                src='data:image/jpeg;base64,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'\n",
       "                class='ppy-images-img'/></div>\n",
       "            \n",
       "        <div>\n",
       "            <p onclick='toggleImage(\"image-frr-5-1\", \"frr\")' class=\"ppy-images-image-p\" >\n",
       "                Image: M58_10441297_12987745125097.jpg\n",
       "                <span id='ppy-images-arrow-frr-image-frr-5-1' class='ppy-images-toggle-arrow ppy-font-color-brown'>▼</span>\n",
       "            </p>\n",
       "        \n",
       "            <img id='image-frr-5-1'\n",
       "                src='data:image/jpeg;base64,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'\n",
       "                class='ppy-images-img'/></div>\n",
       "            \n",
       "        <div>\n",
       "            <p onclick='toggleImage(\"image-frr-5-2\", \"frr\")' class=\"ppy-images-image-p\" >\n",
       "                Image: M58_10441297_12987745138003.jpg\n",
       "                <span id='ppy-images-arrow-frr-image-frr-5-2' class='ppy-images-toggle-arrow ppy-font-color-brown'>▼</span>\n",
       "            </p>\n",
       "        \n",
       "            <img id='image-frr-5-2'\n",
       "                src='data:image/jpeg;base64,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'\n",
       "                class='ppy-images-img'/></div>\n",
       "            \n",
       "        <div>\n",
       "            <p onclick='toggleImage(\"image-frr-5-3\", \"frr\")' class=\"ppy-images-image-p\" >\n",
       "                Image: M58_10441297_12987745271204.jpg\n",
       "                <span id='ppy-images-arrow-frr-image-frr-5-3' class='ppy-images-toggle-arrow ppy-font-color-brown'>▼</span>\n",
       "            </p>\n",
       "        \n",
       "            <img id='image-frr-5-3'\n",
       "                src='data:image/jpeg;base64,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'\n",
       "                class='ppy-images-img'/></div>\n",
       "            \n",
       "        <div>\n",
       "            <p onclick='toggleImage(\"image-frr-5-4\", \"frr\")' class=\"ppy-images-image-p\" >\n",
       "                Image: M58_10441297_12987745328781.jpg\n",
       "                <span id='ppy-images-arrow-frr-image-frr-5-4' class='ppy-images-toggle-arrow ppy-font-color-brown'>▼</span>\n",
       "            </p>\n",
       "        \n",
       "            <img id='image-frr-5-4'\n",
       "                src='data:image/jpeg;base64,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'\n",
       "                class='ppy-images-img'/></div>\n",
       "            </div></div></div></div>"
      ],
      "text/plain": [
       "<paidiverpy.images_layer.ImagesLayer at 0x7dcf24366fe0>"
      ]
     },
     "execution_count": 6,
     "metadata": {},
     "output_type": "execute_result"
    }
   ],
   "source": [
    "# See the images output\n",
    "pipeline.images"
   ]
  },
  {
   "cell_type": "code",
   "execution_count": null,
   "id": "acc95544-7c0f-46ba-b891-eda809ad568a",
   "metadata": {},
   "outputs": [
    {
     "name": "stdout",
     "output_type": "stream",
     "text": [
      "\u001b[92m☁ paidiverpy ☁  |       INFO | 2025-09-11 16:51:16 | Processing images using 8 cores\u001b[0m\n"
     ]
    },
    {
     "name": "stderr",
     "output_type": "stream",
     "text": [
      "INFO:paidiverpy:Processing images using 8 cores\n"
     ]
    },
    {
     "name": "stdout",
     "output_type": "stream",
     "text": [
      "\u001b[92m☁ paidiverpy ☁  |       INFO | 2025-09-11 16:51:16 | Running step 3: colour_correction - ColourLayer\u001b[0m\n"
     ]
    },
    {
     "name": "stderr",
     "output_type": "stream",
     "text": [
      "INFO:paidiverpy:Running step 3: colour_correction - ColourLayer\n"
     ]
    },
    {
     "name": "stdout",
     "output_type": "stream",
     "text": [
      "\u001b[92m☁ paidiverpy ☁  |       INFO | 2025-09-11 16:51:17 | Step 3 completed\u001b[0m\n"
     ]
    },
    {
     "name": "stderr",
     "output_type": "stream",
     "text": [
      "INFO:paidiverpy:Step 3 completed\n"
     ]
    },
    {
     "name": "stdout",
     "output_type": "stream",
     "text": [
      "\u001b[92m☁ paidiverpy ☁  |       INFO | 2025-09-11 16:51:17 | Running step 4: sharpen - ColourLayer\u001b[0m\n"
     ]
    },
    {
     "name": "stderr",
     "output_type": "stream",
     "text": [
      "INFO:paidiverpy:Running step 4: sharpen - ColourLayer\n"
     ]
    },
    {
     "name": "stdout",
     "output_type": "stream",
     "text": [
      "\u001b[92m☁ paidiverpy ☁  |       INFO | 2025-09-11 16:51:30 | Step 4 completed\u001b[0m\n"
     ]
    },
    {
     "name": "stderr",
     "output_type": "stream",
     "text": [
      "INFO:paidiverpy:Step 4 completed\n"
     ]
    },
    {
     "name": "stdout",
     "output_type": "stream",
     "text": [
      "\u001b[92m☁ paidiverpy ☁  |       INFO | 2025-09-11 16:51:30 | Running step 5: contrast - ColourLayer\u001b[0m\n"
     ]
    },
    {
     "name": "stderr",
     "output_type": "stream",
     "text": [
      "INFO:paidiverpy:Running step 5: contrast - ColourLayer\n"
     ]
    },
    {
     "name": "stdout",
     "output_type": "stream",
     "text": [
      "\r",
      "[####################                    ] | 50% Completed | 1.35 s"
     ]
    },
    {
     "name": "stdout",
     "output_type": "stream",
     "text": [
      "\r",
      "[####################                    ] | 50% Completed | 1.47 s"
     ]
    },
    {
     "name": "stdout",
     "output_type": "stream",
     "text": [
      "\r",
      "[####################                    ] | 50% Completed | 1.58 s"
     ]
    },
    {
     "name": "stdout",
     "output_type": "stream",
     "text": [
      "\r",
      "[####################                    ] | 50% Completed | 1.72 s"
     ]
    },
    {
     "name": "stdout",
     "output_type": "stream",
     "text": [
      "\r",
      "[####################                    ] | 50% Completed | 1.83 s"
     ]
    },
    {
     "name": "stdout",
     "output_type": "stream",
     "text": [
      "\r",
      "[####################                    ] | 50% Completed | 1.96 s"
     ]
    },
    {
     "name": "stdout",
     "output_type": "stream",
     "text": [
      "\r",
      "[####################                    ] | 50% Completed | 2.12 s"
     ]
    },
    {
     "name": "stdout",
     "output_type": "stream",
     "text": [
      "\r",
      "[####################                    ] | 50% Completed | 2.23 s"
     ]
    },
    {
     "name": "stdout",
     "output_type": "stream",
     "text": [
      "\r",
      "[####################                    ] | 50% Completed | 2.33 s"
     ]
    },
    {
     "name": "stdout",
     "output_type": "stream",
     "text": [
      "\r",
      "[####################                    ] | 50% Completed | 2.44 s"
     ]
    },
    {
     "name": "stdout",
     "output_type": "stream",
     "text": [
      "\r",
      "[####################                    ] | 50% Completed | 2.56 s"
     ]
    },
    {
     "name": "stdout",
     "output_type": "stream",
     "text": [
      "\r",
      "[####################                    ] | 50% Completed | 2.66 s"
     ]
    },
    {
     "name": "stdout",
     "output_type": "stream",
     "text": [
      "\r",
      "[####################                    ] | 50% Completed | 2.77 s"
     ]
    },
    {
     "name": "stdout",
     "output_type": "stream",
     "text": [
      "\r",
      "[####################                    ] | 50% Completed | 2.87 s"
     ]
    },
    {
     "name": "stdout",
     "output_type": "stream",
     "text": [
      "\r",
      "[####################                    ] | 50% Completed | 3.02 s"
     ]
    },
    {
     "name": "stdout",
     "output_type": "stream",
     "text": [
      "\r",
      "[####################                    ] | 50% Completed | 3.13 s"
     ]
    },
    {
     "name": "stdout",
     "output_type": "stream",
     "text": [
      "\r",
      "[####################                    ] | 50% Completed | 3.24 s"
     ]
    },
    {
     "name": "stdout",
     "output_type": "stream",
     "text": [
      "\r",
      "[####################                    ] | 50% Completed | 3.35 s"
     ]
    },
    {
     "name": "stdout",
     "output_type": "stream",
     "text": [
      "\r",
      "[####################                    ] | 50% Completed | 3.45 s"
     ]
    },
    {
     "name": "stdout",
     "output_type": "stream",
     "text": [
      "\r",
      "[####################                    ] | 50% Completed | 3.56 s"
     ]
    },
    {
     "name": "stdout",
     "output_type": "stream",
     "text": [
      "\r",
      "[####################                    ] | 50% Completed | 3.66 s"
     ]
    },
    {
     "name": "stdout",
     "output_type": "stream",
     "text": [
      "\r",
      "[####################                    ] | 50% Completed | 3.76 s"
     ]
    },
    {
     "name": "stdout",
     "output_type": "stream",
     "text": [
      "\r",
      "[####################                    ] | 50% Completed | 3.86 s"
     ]
    },
    {
     "name": "stdout",
     "output_type": "stream",
     "text": [
      "\r",
      "[####################                    ] | 50% Completed | 3.96 s"
     ]
    },
    {
     "name": "stdout",
     "output_type": "stream",
     "text": [
      "\r",
      "[####################                    ] | 50% Completed | 4.08 s"
     ]
    },
    {
     "name": "stdout",
     "output_type": "stream",
     "text": [
      "\r",
      "[####################                    ] | 50% Completed | 4.18 s"
     ]
    },
    {
     "name": "stdout",
     "output_type": "stream",
     "text": [
      "\r",
      "[####################                    ] | 50% Completed | 4.28 s"
     ]
    },
    {
     "name": "stdout",
     "output_type": "stream",
     "text": [
      "\r",
      "[####################                    ] | 50% Completed | 4.39 s"
     ]
    },
    {
     "name": "stdout",
     "output_type": "stream",
     "text": [
      "\r",
      "[####################                    ] | 50% Completed | 4.50 s"
     ]
    },
    {
     "name": "stdout",
     "output_type": "stream",
     "text": [
      "\r",
      "[####################                    ] | 50% Completed | 4.60 s"
     ]
    },
    {
     "name": "stdout",
     "output_type": "stream",
     "text": [
      "\r",
      "[########################                ] | 60% Completed | 4.71 s"
     ]
    },
    {
     "name": "stdout",
     "output_type": "stream",
     "text": [
      "\r",
      "[########################                ] | 60% Completed | 4.81 s"
     ]
    },
    {
     "name": "stdout",
     "output_type": "stream",
     "text": [
      "\r",
      "[########################                ] | 60% Completed | 4.91 s"
     ]
    },
    {
     "name": "stdout",
     "output_type": "stream",
     "text": [
      "\r",
      "[########################                ] | 60% Completed | 5.02 s"
     ]
    },
    {
     "name": "stdout",
     "output_type": "stream",
     "text": [
      "\r",
      "[########################                ] | 60% Completed | 5.12 s"
     ]
    },
    {
     "name": "stdout",
     "output_type": "stream",
     "text": [
      "\r",
      "[############################            ] | 70% Completed | 5.22 s"
     ]
    },
    {
     "name": "stdout",
     "output_type": "stream",
     "text": [
      "\r",
      "[############################            ] | 70% Completed | 5.33 s"
     ]
    },
    {
     "name": "stdout",
     "output_type": "stream",
     "text": [
      "\r",
      "[############################            ] | 70% Completed | 5.43 s"
     ]
    },
    {
     "name": "stdout",
     "output_type": "stream",
     "text": [
      "\r",
      "[############################            ] | 70% Completed | 5.53 s"
     ]
    },
    {
     "name": "stdout",
     "output_type": "stream",
     "text": [
      "\r",
      "[############################            ] | 70% Completed | 5.64 s"
     ]
    },
    {
     "name": "stdout",
     "output_type": "stream",
     "text": [
      "\r",
      "[################################        ] | 80% Completed | 5.74 s"
     ]
    },
    {
     "name": "stdout",
     "output_type": "stream",
     "text": [
      "\r",
      "[################################        ] | 80% Completed | 5.85 s"
     ]
    },
    {
     "name": "stdout",
     "output_type": "stream",
     "text": [
      "\r",
      "[################################        ] | 80% Completed | 5.96 s"
     ]
    },
    {
     "name": "stdout",
     "output_type": "stream",
     "text": [
      "\r",
      "[################################        ] | 80% Completed | 6.06 s"
     ]
    },
    {
     "name": "stdout",
     "output_type": "stream",
     "text": [
      "\r",
      "[################################        ] | 80% Completed | 6.16 s"
     ]
    },
    {
     "name": "stdout",
     "output_type": "stream",
     "text": [
      "\r",
      "[################################        ] | 80% Completed | 6.27 s"
     ]
    },
    {
     "name": "stdout",
     "output_type": "stream",
     "text": [
      "\r",
      "[################################        ] | 80% Completed | 6.37 s"
     ]
    },
    {
     "name": "stdout",
     "output_type": "stream",
     "text": [
      "\r",
      "[################################        ] | 80% Completed | 6.47 s"
     ]
    },
    {
     "name": "stdout",
     "output_type": "stream",
     "text": [
      "\r",
      "[################################        ] | 80% Completed | 6.57 s"
     ]
    },
    {
     "name": "stdout",
     "output_type": "stream",
     "text": [
      "\r",
      "[################################        ] | 80% Completed | 6.67 s"
     ]
    },
    {
     "name": "stdout",
     "output_type": "stream",
     "text": [
      "\r",
      "[################################        ] | 80% Completed | 6.78 s"
     ]
    },
    {
     "name": "stdout",
     "output_type": "stream",
     "text": [
      "\r",
      "[################################        ] | 80% Completed | 6.88 s"
     ]
    },
    {
     "name": "stdout",
     "output_type": "stream",
     "text": [
      "\r",
      "[################################        ] | 80% Completed | 6.99 s"
     ]
    },
    {
     "name": "stdout",
     "output_type": "stream",
     "text": [
      "\r",
      "[################################        ] | 80% Completed | 7.09 s"
     ]
    },
    {
     "name": "stdout",
     "output_type": "stream",
     "text": [
      "\r",
      "[################################        ] | 80% Completed | 7.19 s"
     ]
    },
    {
     "name": "stdout",
     "output_type": "stream",
     "text": [
      "\r",
      "[################################        ] | 80% Completed | 7.30 s"
     ]
    },
    {
     "name": "stdout",
     "output_type": "stream",
     "text": [
      "\r",
      "[################################        ] | 80% Completed | 7.40 s"
     ]
    },
    {
     "name": "stdout",
     "output_type": "stream",
     "text": [
      "\r",
      "[################################        ] | 80% Completed | 7.51 s"
     ]
    },
    {
     "name": "stdout",
     "output_type": "stream",
     "text": [
      "\r",
      "[################################        ] | 80% Completed | 7.61 s"
     ]
    },
    {
     "name": "stdout",
     "output_type": "stream",
     "text": [
      "\r",
      "[####################################    ] | 90% Completed | 7.71 s"
     ]
    },
    {
     "name": "stdout",
     "output_type": "stream",
     "text": [
      "\r",
      "[####################################    ] | 90% Completed | 7.82 s"
     ]
    },
    {
     "name": "stdout",
     "output_type": "stream",
     "text": [
      "\r",
      "[####################################    ] | 90% Completed | 7.92 s"
     ]
    },
    {
     "name": "stdout",
     "output_type": "stream",
     "text": [
      "\r",
      "[####################################    ] | 90% Completed | 8.03 s"
     ]
    },
    {
     "name": "stdout",
     "output_type": "stream",
     "text": [
      "\r",
      "[####################################    ] | 90% Completed | 8.13 s"
     ]
    },
    {
     "name": "stdout",
     "output_type": "stream",
     "text": [
      "\r",
      "[####################################    ] | 90% Completed | 8.23 s"
     ]
    },
    {
     "name": "stdout",
     "output_type": "stream",
     "text": [
      "\r",
      "[####################################    ] | 90% Completed | 8.34 s"
     ]
    },
    {
     "name": "stdout",
     "output_type": "stream",
     "text": [
      "\r",
      "[####################################    ] | 90% Completed | 8.45 s"
     ]
    },
    {
     "name": "stdout",
     "output_type": "stream",
     "text": [
      "\r",
      "[####################################    ] | 90% Completed | 8.55 s"
     ]
    },
    {
     "name": "stdout",
     "output_type": "stream",
     "text": [
      "\r",
      "[####################################    ] | 90% Completed | 8.65 s"
     ]
    },
    {
     "name": "stdout",
     "output_type": "stream",
     "text": [
      "\r",
      "[####################################    ] | 90% Completed | 8.75 s"
     ]
    },
    {
     "name": "stdout",
     "output_type": "stream",
     "text": [
      "\r",
      "[####################################    ] | 90% Completed | 8.86 s"
     ]
    },
    {
     "name": "stdout",
     "output_type": "stream",
     "text": [
      "\r",
      "[####################################    ] | 90% Completed | 8.96 s"
     ]
    },
    {
     "name": "stdout",
     "output_type": "stream",
     "text": [
      "\r",
      "[####################################    ] | 90% Completed | 9.06 s"
     ]
    },
    {
     "name": "stdout",
     "output_type": "stream",
     "text": [
      "\r",
      "[####################################    ] | 90% Completed | 9.17 s"
     ]
    },
    {
     "name": "stdout",
     "output_type": "stream",
     "text": [
      "\r",
      "[########################################] | 100% Completed | 9.27 s"
     ]
    },
    {
     "name": "stdout",
     "output_type": "stream",
     "text": [
      "\n"
     ]
    },
    {
     "name": "stdout",
     "output_type": "stream",
     "text": [
      "\u001b[92m☁ paidiverpy ☁  |       INFO | 2025-03-06 10:29:46 | Step 5 completed\u001b[0m\n"
     ]
    },
    {
     "name": "stderr",
     "output_type": "stream",
     "text": [
      "INFO:paidiverpy:Step 5 completed\n"
     ]
    }
   ],
   "source": [
    "# You can also rerun your processing from a specific step\n",
    "pipeline.run(from_step=2)"
   ]
  },
  {
   "cell_type": "code",
   "execution_count": null,
   "id": "51f20ade-f53a-4ecc-bc61-414ced84bd15",
   "metadata": {},
   "outputs": [],
   "source": [
    "pipeline.images"
   ]
  },
  {
   "cell_type": "markdown",
   "id": "9c053ad8-1b71-45a0-8e5a-341fc3f03427",
   "metadata": {},
   "source": [
    "If you want to compare the differences of the same image in all steps, you can choose an specific image, as you can see in the example below:"
   ]
  },
  {
   "cell_type": "code",
   "execution_count": null,
   "id": "c54b4db6-4549-45f4-a566-826e4a74ef55",
   "metadata": {
    "scrolled": true
   },
   "outputs": [],
   "source": [
    "pipeline.images.show(image_number=3)"
   ]
  },
  {
   "cell_type": "markdown",
   "id": "fb9612da-5411-4497-91f6-898ec5694bc1",
   "metadata": {},
   "source": [
    "# Export Images to file"
   ]
  },
  {
   "cell_type": "code",
   "execution_count": null,
   "id": "60f534ca-c9aa-4295-a65a-684ba9648048",
   "metadata": {},
   "outputs": [],
   "source": [
    "pipeline.save_images(image_format=\"png\")"
   ]
  },
  {
   "cell_type": "code",
   "execution_count": null,
   "id": "aa0ffd26-3e6b-43eb-b0b3-3601cab3adf9",
   "metadata": {},
   "outputs": [],
   "source": []
  }
 ],
 "metadata": {
  "kernelspec": {
   "display_name": "Python 3 (ipykernel)",
   "language": "python",
   "name": "python3"
  },
  "language_info": {
   "codemirror_mode": {
    "name": "ipython",
    "version": 3
   },
   "file_extension": ".py",
   "mimetype": "text/x-python",
   "name": "python",
   "nbconvert_exporter": "python",
   "pygments_lexer": "ipython3",
   "version": "3.10.12"
  }
 },
 "nbformat": 4,
 "nbformat_minor": 5
}
