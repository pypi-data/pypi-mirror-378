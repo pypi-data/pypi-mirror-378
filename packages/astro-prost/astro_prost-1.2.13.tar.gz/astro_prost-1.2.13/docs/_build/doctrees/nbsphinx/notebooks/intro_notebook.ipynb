{
 "cells": [
  {
   "cell_type": "markdown",
   "id": "textblock1",
   "metadata": {
    "cell_marker": "\"\"\""
   },
   "source": [
    "# Introducing Jupyter Notebooks in Sphinx\n",
    "\n",
    "This notebook showcases very basic functionality of rendering your jupyter notebooks as tutorials inside your sphinx documentation.\n",
    "\n",
    "As part of the LINCC Frameworks python project template, your notebooks will be executed AND rendered at document build time.\n",
    "\n",
    "You can read more about Sphinx, ReadTheDocs, and building notebooks in [LINCC's documentation](https://lincc-ppt.readthedocs.io/en/latest/practices/sphinx.html)"
   ]
  },
  {
   "cell_type": "code",
   "execution_count": 1,
   "id": "codeblock1",
   "metadata": {
    "execution": {
     "iopub.execute_input": "2024-10-15T03:34:11.413865Z",
     "iopub.status.busy": "2024-10-15T03:34:11.413487Z",
     "iopub.status.idle": "2024-10-15T03:34:11.422921Z",
     "shell.execute_reply": "2024-10-15T03:34:11.422355Z"
    }
   },
   "outputs": [],
   "source": [
    "def sierpinsky(order):\n",
    "    \"\"\"Define a method that will create a Sierpinsky triangle of given order,\n",
    "    and will print it out.\"\"\"\n",
    "    triangles = [\"*\"]\n",
    "    for i in range(order):\n",
    "        spaces = \" \" * (2**i)\n",
    "        triangles = [spaces + triangle + spaces for triangle in triangles] + [\n",
    "            triangle + \" \" + triangle for triangle in triangles\n",
    "        ]\n",
    "    print(f\"Printing order {order} triangle\")\n",
    "    print(\"\\n\".join(triangles))"
   ]
  },
  {
   "cell_type": "markdown",
   "id": "textblock2",
   "metadata": {
    "cell_marker": "\"\"\"",
    "lines_to_next_cell": 1
   },
   "source": [
    "Then, call our method a few times. This will happen on the fly during notebook rendering."
   ]
  },
  {
   "cell_type": "code",
   "execution_count": 2,
   "id": "codeblock2",
   "metadata": {
    "execution": {
     "iopub.execute_input": "2024-10-15T03:34:11.426875Z",
     "iopub.status.busy": "2024-10-15T03:34:11.426583Z",
     "iopub.status.idle": "2024-10-15T03:34:11.430346Z",
     "shell.execute_reply": "2024-10-15T03:34:11.429788Z"
    }
   },
   "outputs": [
    {
     "name": "stdout",
     "output_type": "stream",
     "text": [
      "Printing order 0 triangle\n",
      "*\n",
      "Printing order 1 triangle\n",
      " * \n",
      "* *\n",
      "Printing order 2 triangle\n",
      "   *   \n",
      "  * *  \n",
      " *   * \n",
      "* * * *\n"
     ]
    }
   ],
   "source": [
    "for order in range(3):\n",
    "    sierpinsky(order)"
   ]
  },
  {
   "cell_type": "code",
   "execution_count": 3,
   "id": "codeblock3",
   "metadata": {
    "execution": {
     "iopub.execute_input": "2024-10-15T03:34:11.435531Z",
     "iopub.status.busy": "2024-10-15T03:34:11.435218Z",
     "iopub.status.idle": "2024-10-15T03:34:11.438721Z",
     "shell.execute_reply": "2024-10-15T03:34:11.438206Z"
    }
   },
   "outputs": [
    {
     "name": "stdout",
     "output_type": "stream",
     "text": [
      "Printing order 4 triangle\n",
      "               *               \n",
      "              * *              \n",
      "             *   *             \n",
      "            * * * *            \n",
      "           *       *           \n",
      "          * *     * *          \n",
      "         *   *   *   *         \n",
      "        * * * * * * * *        \n",
      "       *               *       \n",
      "      * *             * *      \n",
      "     *   *           *   *     \n",
      "    * * * *         * * * *    \n",
      "   *       *       *       *   \n",
      "  * *     * *     * *     * *  \n",
      " *   *   *   *   *   *   *   * \n",
      "* * * * * * * * * * * * * * * *\n"
     ]
    }
   ],
   "source": [
    "sierpinsky(4)"
   ]
  }
 ],
 "metadata": {
  "jupytext": {
   "cell_markers": "\"\"\""
  },
  "kernelspec": {
   "display_name": "Python 3",
   "language": "python",
   "name": "python3"
  },
  "language_info": {
   "codemirror_mode": {
    "name": "ipython",
    "version": 3
   },
   "file_extension": ".py",
   "mimetype": "text/x-python",
   "name": "python",
   "nbconvert_exporter": "python",
   "pygments_lexer": "ipython3",
   "version": "3.12.7"
  }
 },
 "nbformat": 4,
 "nbformat_minor": 5
}
