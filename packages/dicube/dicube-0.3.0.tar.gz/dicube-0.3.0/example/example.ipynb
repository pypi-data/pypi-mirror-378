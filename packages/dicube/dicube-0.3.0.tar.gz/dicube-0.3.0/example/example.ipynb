{
 "cells": [
  {
   "cell_type": "markdown",
   "metadata": {
    "vscode": {
     "languageId": "raw"
    }
   },
   "source": [
    "# DiCube Performance Comparison\n",
    "\n",
    "Simple comparison of medical image formats:\n",
    "- **DICOM vs DCB**: Traditional DICOM format vs DiCube compressed format\n",
    "- **NIfTI vs DCB**: Neuroimaging format vs DiCube compressed format\n"
   ]
  },
  {
   "cell_type": "code",
   "execution_count": 1,
   "metadata": {},
   "outputs": [
    {
     "name": "stdout",
     "output_type": "stream",
     "text": [
      "✅ Performance utilities defined\n"
     ]
    }
   ],
   "source": [
    "# Performance measurement utilities\n",
    "import contextlib\n",
    "from pathlib import Path\n",
    "\n",
    "@contextlib.contextmanager\n",
    "def timer():\n",
    "    \"\"\"Context manager for timing operations\"\"\"\n",
    "    import time\n",
    "    start = time.time()\n",
    "    yield lambda: time.time() - start\n",
    "    \n",
    "def get_folder_size(folder_path):\n",
    "    \"\"\"Calculate total size of files in a folder\"\"\"\n",
    "    return sum(f.stat().st_size for f in Path(folder_path).glob(\"*\"))\n",
    "\n",
    "def get_file_size(file_path):\n",
    "    \"\"\"Get size of a single file\"\"\"\n",
    "    return Path(file_path).stat().st_size\n",
    "\n",
    "def format_size(size_bytes):\n",
    "    \"\"\"Format size in bytes to MB\"\"\"\n",
    "    return size_bytes / 1024 / 1024\n",
    "\n",
    "def print_results(title, results):\n",
    "    \"\"\"Print formatted performance results\"\"\"\n",
    "    print(f\"\\n📊 {title}:\")\n",
    "    df = pd.DataFrame(results).round(3)\n",
    "    print(df.to_string(index=False))\n",
    "\n",
    "print(\"✅ Performance utilities defined\")\n"
   ]
  },
  {
   "cell_type": "code",
   "execution_count": 2,
   "metadata": {},
   "outputs": [
    {
     "name": "stdout",
     "output_type": "stream",
     "text": [
      "✅ All libraries imported successfully\n"
     ]
    }
   ],
   "source": [
    "import numpy as np\n",
    "import pandas as pd\n",
    "import time\n",
    "import tempfile\n",
    "import os\n",
    "from pathlib import Path\n",
    "\n",
    "# DICOM libraries\n",
    "import pydicom\n",
    "import dicube\n",
    "\n",
    "# NIfTI libraries  \n",
    "import nibabel as nib\n",
    "\n",
    "os.chdir(\"../\")\n",
    "\n",
    "print(\"✅ All libraries imported successfully\")\n",
    "\n"
   ]
  },
  {
   "cell_type": "code",
   "execution_count": 3,
   "metadata": {},
   "outputs": [
    {
     "name": "stdout",
     "output_type": "stream",
     "text": [
      "✅ PyDICOM helper functions defined\n"
     ]
    }
   ],
   "source": [
    "def load_dicom_with_pydicom(dicom_folder):\n",
    "    \"\"\"Load DICOM files using pydicom and return pixel arrays\"\"\"\n",
    "    dicom_files = sorted([f for f in Path(dicom_folder).glob(\"*.dcm\")])\n",
    "    datasets = []\n",
    "    pixel_arrays = []\n",
    "    \n",
    "    for dcm_file in dicom_files:\n",
    "        ds = pydicom.dcmread(dcm_file)\n",
    "        datasets.append(ds)\n",
    "        pixel_arrays.append(ds.pixel_array)\n",
    "    \n",
    "    return datasets, np.array(pixel_arrays)\n",
    "\n",
    "def save_dicom_with_pydicom(datasets, pixel_arrays, output_folder):\n",
    "    \"\"\"Save DICOM files using pydicom\"\"\"\n",
    "    os.makedirs(output_folder, exist_ok=True)\n",
    "    \n",
    "    for i, (ds, pixel_array) in enumerate(zip(datasets, pixel_arrays)):\n",
    "        # Update pixel data\n",
    "        ds.PixelData = pixel_array.tobytes()\n",
    "        \n",
    "        # Save to new location\n",
    "        output_path = Path(output_folder) / f\"slice_{i:04d}.dcm\"\n",
    "        ds.save_as(output_path)\n",
    "\n",
    "print(\"✅ PyDICOM helper functions defined\")\n"
   ]
  },
  {
   "cell_type": "markdown",
   "metadata": {
    "vscode": {
     "languageId": "raw"
    }
   },
   "source": [
    "## DICOM Format Comparison\n"
   ]
  },
  {
   "cell_type": "code",
   "execution_count": 7,
   "metadata": {},
   "outputs": [
    {
     "name": "stdout",
     "output_type": "stream",
     "text": [
      "✅ DICOM folder found: testdata/dicom/sample_150\n",
      "\n",
      "🔄 Testing PyDICOM...\n",
      "\n",
      "🔄 Testing DicomCubeImage...\n",
      "\n",
      "📊 DICOM Comparison Results:\n",
      "    Method  Load Time (s)  Save Time (s)  File Size (MB)  Compression Ratio\n",
      "   PyDICOM          0.215          0.247          75.223              0.997\n",
      "DCB (OJPH)          0.630          0.556          36.239              2.070\n"
     ]
    }
   ],
   "source": [
    "# Core functions for DICOM comparison\n",
    "def test_pydicom_performance(dicom_folder, output_dir):\n",
    "    \"\"\"Test PyDICOM loading and saving performance\"\"\"\n",
    "    with timer() as get_time:\n",
    "        datasets, pixel_arrays = load_dicom_with_pydicom(dicom_folder)\n",
    "    load_time = get_time()\n",
    "    \n",
    "    with timer() as get_time:\n",
    "        save_dicom_with_pydicom(datasets, pixel_arrays, output_dir)\n",
    "    save_time = get_time()\n",
    "    \n",
    "    folder_size = get_folder_size(output_dir)\n",
    "    \n",
    "    return {\n",
    "        'data': (datasets, pixel_arrays),\n",
    "        'load_time': load_time,\n",
    "        'save_time': save_time,\n",
    "        'file_size': folder_size,\n",
    "        'shape': pixel_arrays.shape,\n",
    "        'dtype': pixel_arrays.dtype\n",
    "    }\n",
    "\n",
    "def test_dicube_performance(dicom_folder, dcb_file):\n",
    "    \"\"\"Test DiCube loading and saving performance\"\"\"\n",
    "    # Load from DICOM folder\n",
    "    with timer() as get_time:\n",
    "        dicube_image = dicube.load_from_dicom_folder(dicom_folder)\n",
    "    load_time = get_time()\n",
    "    \n",
    "    # Save as DCB\n",
    "    with timer() as get_time:\n",
    "        dicube.save(dicube_image, str(dcb_file), file_type=\"s\")\n",
    "    save_time = get_time()\n",
    "    \n",
    "    # Load DCB file\n",
    "    with timer() as get_time:\n",
    "        loaded_image = dicube.load(str(dcb_file))\n",
    "    dcb_load_time = get_time()\n",
    "    \n",
    "    file_size = get_file_size(dcb_file)\n",
    "    data_consistent = np.array_equal(dicube_image.raw_image, loaded_image.raw_image)\n",
    "    \n",
    "    return {\n",
    "        'original_image': dicube_image,\n",
    "        'loaded_image': loaded_image,\n",
    "        'load_time': dcb_load_time,\n",
    "        'save_time': save_time,\n",
    "        'file_size': file_size,\n",
    "        'shape': dicube_image.shape,\n",
    "        'dtype': dicube_image.raw_image.dtype,\n",
    "        'data_consistent': data_consistent\n",
    "    }\n",
    "\n",
    "# Run DICOM comparison\n",
    "dicom_folder = \"testdata/dicom/sample_150\"\n",
    "\n",
    "if not os.path.exists(dicom_folder):\n",
    "    print(f\"❌ DICOM folder not found: {dicom_folder}\")\n",
    "else:\n",
    "    print(f\"✅ DICOM folder found: {dicom_folder}\")\n",
    "    \n",
    "    with tempfile.TemporaryDirectory() as tmpdir:\n",
    "        tmpdir = Path(tmpdir)\n",
    "        \n",
    "        # Test PyDICOM\n",
    "        print(\"\\n🔄 Testing PyDICOM...\")\n",
    "        pydicom_result = test_pydicom_performance(dicom_folder, pydicom_output)\n",
    "        datasets, pixel_arrays = pydicom_result['data']\n",
    "        \n",
    "        # Test DiCube\n",
    "        print(\"\\n🔄 Testing DicomCubeImage...\")\n",
    "        dcb_file = tmpdir / \"test.dcbs\"\n",
    "        dicube_result = test_dicube_performance(dicom_folder, dcb_file)\n",
    "        \n",
    "        \n",
    "        # Prepare results for comparison\n",
    "        results = [\n",
    "            {\n",
    "                'Method': 'PyDICOM',\n",
    "                'Load Time (s)': pydicom_result['load_time'],\n",
    "                'Save Time (s)': pydicom_result['save_time'],\n",
    "                'File Size (MB)': format_size(pydicom_result['file_size']),\n",
    "                'Compression Ratio': pixel_arrays.nbytes / pydicom_result['file_size']\n",
    "            },\n",
    "            {\n",
    "                'Method': 'DCB (OJPH)',\n",
    "                'Load Time (s)': dicube_result['load_time'],\n",
    "                'Save Time (s)': dicube_result['save_time'],\n",
    "                'File Size (MB)': format_size(dicube_result['file_size']),\n",
    "                'Compression Ratio': pixel_arrays.nbytes / dicube_result['file_size']\n",
    "            }\n",
    "        ]\n",
    "        \n",
    "    print_results(\"DICOM Comparison Results\", results)\n"
   ]
  },
  {
   "cell_type": "markdown",
   "metadata": {
    "vscode": {
     "languageId": "raw"
    }
   },
   "source": [
    "## NIfTI Format Comparison\n"
   ]
  },
  {
   "cell_type": "code",
   "execution_count": null,
   "metadata": {},
   "outputs": [
    {
     "name": "stdout",
     "output_type": "stream",
     "text": [
      "✅ NIfTI file found: testdata/nifti/CT_Philips.nii.gz\n",
      "  Original file size: 7.45 MB\n",
      "\n",
      "🔄 Testing NiBabel...\n",
      "\n",
      "🔄 Testing DicomCubeImage...\n",
      "\n",
      "📊 NIfTI Comparison Results:\n",
      "    Method  Load Time (s)  Save Time (s)  File Size (MB)  Compression Ratio\n",
      "   NiBabel          0.151          0.251           8.049              2.604\n",
      "DCB (OJPH)          0.166          0.162           5.135              4.081\n"
     ]
    }
   ],
   "source": [
    "def load_nifti_with_nibabel(nifti_file):\n",
    "    \"\"\"Load NIfTI file using nibabel\"\"\"\n",
    "    nii = nib.load(nifti_file)\n",
    "    data = np.asarray(nii.dataobj, dtype=nii.dataobj.dtype)\n",
    "    return nii, data\n",
    "\n",
    "def save_nifti_with_nibabel(data, affine, output_file):\n",
    "    \"\"\"Save NIfTI file using nibabel\"\"\"\n",
    "    nii = nib.Nifti1Image(data, affine)\n",
    "    nib.save(nii, output_file)\n",
    "\n",
    "\n",
    "# Core functions for NIfTI comparison\n",
    "def test_nibabel_performance(nifti_file, output_file):\n",
    "    \"\"\"Test NiBabel loading and saving performance\"\"\"\n",
    "    with timer() as get_time:\n",
    "        nii, nifti_data = load_nifti_with_nibabel(nifti_file)\n",
    "    load_time = get_time()\n",
    "    \n",
    "    with timer() as get_time:\n",
    "        save_nifti_with_nibabel(nifti_data, nii.affine, output_file)\n",
    "    save_time = get_time()\n",
    "    \n",
    "    file_size = get_file_size(output_file)\n",
    "    \n",
    "    return {\n",
    "        'data': (nii, nifti_data),\n",
    "        'load_time': load_time,\n",
    "        'save_time': save_time,\n",
    "        'file_size': file_size,\n",
    "        'shape': nifti_data.shape,\n",
    "        'dtype': nifti_data.dtype\n",
    "    }\n",
    "\n",
    "def test_dicube_nifti_performance(nifti_file, dcb_file):\n",
    "    \"\"\"Test DiCube NIfTI loading and saving performance\"\"\"\n",
    "    # Load from NIfTI\n",
    "    with timer() as get_time:\n",
    "        dicube_image = dicube.load_from_nifti(nifti_file)\n",
    "    load_time = get_time()\n",
    "    \n",
    "    # Save as DCB\n",
    "    with timer() as get_time:\n",
    "        dicube.save(dicube_image, str(dcb_file), file_type=\"s\")\n",
    "    save_time = get_time()\n",
    "    \n",
    "    # Load DCB file\n",
    "    with timer() as get_time:\n",
    "        loaded_image = dicube.load(str(dcb_file))\n",
    "    dcb_load_time = get_time()\n",
    "    \n",
    "    file_size = get_file_size(dcb_file)\n",
    "    data_consistent = np.array_equal(dicube_image.raw_image, loaded_image.raw_image)\n",
    "    \n",
    "    return {\n",
    "        'original_image': dicube_image,\n",
    "        'loaded_image': loaded_image,\n",
    "        'load_time': dcb_load_time,\n",
    "        'save_time': save_time,\n",
    "        'file_size': file_size,\n",
    "        'shape': dicube_image.shape,\n",
    "        'dtype': dicube_image.raw_image.dtype,\n",
    "        'data_consistent': data_consistent\n",
    "    }\n",
    "\n",
    "# Run NIfTI comparison\n",
    "nifti_file = \"testdata/nifti/CT_Philips.nii.gz\"\n",
    "\n",
    "if not os.path.exists(nifti_file):\n",
    "    print(f\"❌ NIfTI file not found: {nifti_file}\")\n",
    "else:\n",
    "    print(f\"✅ NIfTI file found: {nifti_file}\")\n",
    "    \n",
    "    original_size = get_file_size(nifti_file)\n",
    "    print(f\"  Original file size: {format_size(original_size):.2f} MB\")\n",
    "    \n",
    "    with tempfile.TemporaryDirectory() as tmpdir:\n",
    "        tmpdir = Path(tmpdir)\n",
    "        \n",
    "        # Test NiBabel\n",
    "        print(\"\\n🔄 Testing NiBabel...\")\n",
    "        nibabel_output = tmpdir / \"nibabel_output.nii.gz\"\n",
    "        nibabel_result = test_nibabel_performance(nifti_file, nibabel_output)\n",
    "        \n",
    "        nii, nifti_data = nibabel_result['data']\n",
    "        \n",
    "        # Test DiCube\n",
    "        print(\"\\n🔄 Testing DicomCubeImage...\")\n",
    "        dcb_file = tmpdir / \"test_nifti.dcbs\"\n",
    "        dicube_result = test_dicube_nifti_performance(nifti_file, dcb_file)\n",
    "        \n",
    "        \n",
    "        # Prepare results for comparison\n",
    "        results = [\n",
    "            {\n",
    "                'Method': 'NiBabel',\n",
    "                'Load Time (s)': nibabel_result['load_time'],\n",
    "                'Save Time (s)': nibabel_result['save_time'],\n",
    "                'File Size (MB)': format_size(nibabel_result['file_size']),\n",
    "                'Compression Ratio': nifti_data.nbytes / nibabel_result['file_size']\n",
    "            },\n",
    "            {\n",
    "                'Method': 'DCB (OJPH)',\n",
    "                'Load Time (s)': dicube_result['load_time'],\n",
    "                'Save Time (s)': dicube_result['save_time'],\n",
    "                'File Size (MB)': format_size(dicube_result['file_size']),\n",
    "                'Compression Ratio': nifti_data.nbytes / dicube_result['file_size']\n",
    "            }\n",
    "        ]\n",
    "        \n",
    "    print_results(\"NIfTI Comparison Results\", results)\n"
   ]
  },
  {
   "cell_type": "markdown",
   "metadata": {
    "vscode": {
     "languageId": "raw"
    }
   },
   "source": [
    "## Summary\n",
    "\n",
    "This notebook demonstrates the performance comparison between traditional medical image formats and DiCube's compressed format:\n",
    "\n",
    "**Key Findings:**\n",
    "- **DCB files** typically offer significantly better compression ratios\n",
    "- **DCB files** maintain data integrity (lossless compression)\n",
    "- **DCB files** often have faster read/write times due to optimized compression\n",
    "- **Single file storage** makes DCB files easier to manage and transfer\n",
    "\n",
    "**Use Cases:**\n",
    "- **Storage optimization**: Use DCB for long-term archival with space savings\n",
    "- **Fast I/O**: DCB files are optimized for quick access\n",
    "- **Compatibility**: DCB files can be converted back to DICOM/NIfTI when needed\n"
   ]
  }
 ],
 "metadata": {
  "kernelspec": {
   "display_name": "Python 3",
   "language": "python",
   "name": "python3"
  },
  "language_info": {
   "codemirror_mode": {
    "name": "ipython",
    "version": 3
   },
   "file_extension": ".py",
   "mimetype": "text/x-python",
   "name": "python",
   "nbconvert_exporter": "python",
   "pygments_lexer": "ipython3",
   "version": "3.10.13"
  }
 },
 "nbformat": 4,
 "nbformat_minor": 2
}
