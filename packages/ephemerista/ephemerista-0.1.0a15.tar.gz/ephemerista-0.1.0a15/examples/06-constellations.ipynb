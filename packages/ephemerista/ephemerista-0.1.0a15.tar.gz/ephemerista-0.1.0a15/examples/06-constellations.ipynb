{
 "cells": [
  {
   "cell_type": "markdown",
   "metadata": {},
   "source": [
    "# Constellations"
   ]
  },
  {
   "cell_type": "code",
   "execution_count": null,
   "metadata": {},
   "outputs": [],
   "source": [
    "import ephemerista\n",
    "\n",
    "ephemerista.init(eop_path=\"../tests/resources/finals2000A.all.csv\", spk_path=\"../tests/resources/de440s.bsp\")"
   ]
  },
  {
   "cell_type": "markdown",
   "metadata": {},
   "source": [
    "## Walker Star Constellation"
   ]
  },
  {
   "cell_type": "code",
   "execution_count": null,
   "metadata": {},
   "outputs": [],
   "source": [
    "from ephemerista.constellation.design import StreetOfCoverage, WalkerStar\n",
    "from ephemerista.time import Time, TimeDelta\n",
    "\n",
    "constel = WalkerStar(\n",
    "    time=Time.from_iso(\"TDB\", \"2016-05-30T12:00:00\"),\n",
    "    nsats=18,\n",
    "    nplanes=6,\n",
    "    semi_major_axis=7000,\n",
    "    inclination=45,\n",
    "    eccentricity=0.0,\n",
    "    periapsis_argument=90,\n",
    ")"
   ]
  },
  {
   "cell_type": "code",
   "execution_count": null,
   "metadata": {},
   "outputs": [],
   "source": [
    "# Inspect the Constellation\n",
    "constel.to_dataframe()"
   ]
  },
  {
   "cell_type": "code",
   "execution_count": null,
   "metadata": {},
   "outputs": [],
   "source": [
    "# Investigate satellites\n",
    "constel.to_dataframe(\"satellites\")"
   ]
  },
  {
   "cell_type": "code",
   "execution_count": null,
   "metadata": {},
   "outputs": [],
   "source": [
    "import geojson_pydantic\n",
    "\n",
    "with open(\"half_earth.geojson\") as f:\n",
    "    aoi = geojson_pydantic.FeatureCollection.model_validate_json(f.read())"
   ]
  },
  {
   "cell_type": "code",
   "execution_count": null,
   "metadata": {},
   "outputs": [],
   "source": [
    "from ephemerista.constellation.design import Constellation\n",
    "from ephemerista.scenarios import Scenario\n",
    "\n",
    "start_time = Time.from_iso(\"TDB\", \"2016-05-30T12:00:00\")\n",
    "end_time = start_time + TimeDelta.from_hours(24)\n",
    "\n",
    "scenario = Scenario(\n",
    "    name=\"Coverage analysis with constellation\",\n",
    "    start_time=start_time,\n",
    "    end_time=end_time,\n",
    "    areas_of_interest=aoi.features,\n",
    "    constellations=[Constellation(model=constel)],\n",
    "    auto_discretize=True,\n",
    "    discretization_resolution=5,\n",
    ")"
   ]
  },
  {
   "cell_type": "code",
   "execution_count": null,
   "metadata": {},
   "outputs": [],
   "source": [
    "from ephemerista.analysis.coverage import Coverage\n",
    "\n",
    "cov = Coverage(scenario=scenario)\n",
    "results = cov.analyze()"
   ]
  },
  {
   "cell_type": "code",
   "execution_count": null,
   "metadata": {},
   "outputs": [],
   "source": [
    "fig = results.plot_mpl()"
   ]
  },
  {
   "cell_type": "markdown",
   "metadata": {},
   "source": [
    "## Street-of-Coverage constellation"
   ]
  },
  {
   "cell_type": "markdown",
   "metadata": {},
   "source": [
    "In this example we model the Iridum constellation to showcase the Street-of-Coverage constellations."
   ]
  },
  {
   "cell_type": "code",
   "execution_count": null,
   "metadata": {},
   "outputs": [],
   "source": [
    "iridium = StreetOfCoverage(\n",
    "    time=Time.from_iso(\"TDB\", \"2016-05-30T12:00:00\"),\n",
    "    nsats=66,\n",
    "    nplanes=6,\n",
    "    semi_major_axis=7158,\n",
    "    inclination=86.4,\n",
    "    eccentricity=0.0,\n",
    "    periapsis_argument=0,\n",
    "    coverage_fold=1,\n",
    ")"
   ]
  },
  {
   "cell_type": "code",
   "execution_count": null,
   "metadata": {},
   "outputs": [],
   "source": [
    "# Inspect the Constellation\n",
    "iridium.to_dataframe()"
   ]
  },
  {
   "cell_type": "code",
   "execution_count": null,
   "metadata": {},
   "outputs": [],
   "source": [
    "# Investigate satellites\n",
    "iridium.to_dataframe(\"satellites\")"
   ]
  },
  {
   "cell_type": "code",
   "execution_count": null,
   "metadata": {},
   "outputs": [],
   "source": [
    "scenario_short = Scenario(\n",
    "    name=\"Coverage analysis with constellation\",\n",
    "    start_time=start_time,\n",
    "    end_time=start_time + TimeDelta.from_hours(2),\n",
    "    areas_of_interest=aoi.features,\n",
    "    constellations=[Constellation(model=iridium)],\n",
    "    auto_discretize=True,\n",
    "    discretization_resolution=5,\n",
    ")"
   ]
  },
  {
   "cell_type": "code",
   "execution_count": null,
   "metadata": {},
   "outputs": [],
   "source": [
    "from ephemerista.analysis.coverage import Coverage\n",
    "\n",
    "cov = Coverage(scenario=scenario_short)\n",
    "results = cov.analyze()"
   ]
  },
  {
   "cell_type": "code",
   "execution_count": null,
   "metadata": {},
   "outputs": [],
   "source": [
    "fig = results.plot_mpl()"
   ]
  },
  {
   "cell_type": "markdown",
   "metadata": {},
   "source": [
    "Which allows us to verify that the Iridium constellation successfully provides global coverage at all times."
   ]
  },
  {
   "cell_type": "markdown",
   "metadata": {},
   "source": []
  }
 ],
 "metadata": {
  "kernelspec": {
   "display_name": "ephemerista",
   "language": "python",
   "name": "python3"
  },
  "language_info": {
   "codemirror_mode": {
    "name": "ipython",
    "version": 3
   },
   "file_extension": ".py",
   "mimetype": "text/x-python",
   "name": "python",
   "nbconvert_exporter": "python",
   "pygments_lexer": "ipython3",
   "version": "3.12.4"
  }
 },
 "nbformat": 4,
 "nbformat_minor": 2
}
