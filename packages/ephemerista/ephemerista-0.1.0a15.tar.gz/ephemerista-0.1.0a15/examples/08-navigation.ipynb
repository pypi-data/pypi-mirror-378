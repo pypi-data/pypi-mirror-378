{
 "cells": [
  {
   "cell_type": "markdown",
   "metadata": {},
   "source": [
    "# Navigation"
   ]
  },
  {
   "cell_type": "code",
   "execution_count": null,
   "metadata": {},
   "outputs": [],
   "source": [
    "%load_ext autoreload\n",
    "%autoreload 2"
   ]
  },
  {
   "cell_type": "code",
   "execution_count": 16,
   "metadata": {},
   "outputs": [],
   "source": [
    "import ephemerista\n",
    "from ephemerista.analysis.navigation import Navigation\n",
    "from ephemerista.assets import Asset, GroundStation, Spacecraft\n",
    "from ephemerista.propagators.sgp4 import SGP4\n",
    "from ephemerista.scenarios import Scenario\n",
    "from ephemerista.time import Time"
   ]
  },
  {
   "cell_type": "code",
   "execution_count": null,
   "metadata": {},
   "outputs": [],
   "source": [
    "ephemerista.init(eop_path=\"../tests/resources/finals2000A.all.csv\", spk_path=\"../tests/resources/de440s.bsp\")"
   ]
  },
  {
   "cell_type": "code",
   "execution_count": 18,
   "metadata": {},
   "outputs": [],
   "source": [
    "with open(\"../tests/resources/navigation/galileo_tle.txt\") as f:\n",
    "    lines = f.readlines()\n",
    "\n",
    "start_time = Time.from_components(\"TAI\", 2025, 1, 27)\n",
    "end_time = Time.from_components(\"TAI\", 2025, 1, 28)\n",
    "\n",
    "assets = [Asset(name=\"ESOC\", model=GroundStation.from_lla(8.622778, 49.871111))]\n",
    "for i in range(0, len(lines), 3):\n",
    "    tle = lines[i : i + 3]\n",
    "    name = tle[0].strip()\n",
    "    assets.append(Asset(name=name, model=Spacecraft(propagator=SGP4(tle=\"\".join(tle)))))\n",
    "\n",
    "scenario = Scenario(start_time=start_time, end_time=end_time, assets=assets)"
   ]
  },
  {
   "cell_type": "code",
   "execution_count": null,
   "metadata": {},
   "outputs": [],
   "source": [
    "observer = scenario[\"ESOC\"]\n",
    "nav = Navigation(scenario=scenario).analyze()"
   ]
  },
  {
   "cell_type": "code",
   "execution_count": null,
   "metadata": {},
   "outputs": [],
   "source": [
    "nav.depth_of_coverage[observer.asset_id]"
   ]
  },
  {
   "cell_type": "code",
   "execution_count": null,
   "metadata": {},
   "outputs": [],
   "source": [
    "nav.plot(observer.asset_id)"
   ]
  },
  {
   "cell_type": "code",
   "execution_count": null,
   "metadata": {},
   "outputs": [],
   "source": []
  }
 ],
 "metadata": {
  "kernelspec": {
   "display_name": ".venv",
   "language": "python",
   "name": "python3"
  },
  "language_info": {
   "codemirror_mode": {
    "name": "ipython",
    "version": 3
   },
   "file_extension": ".py",
   "mimetype": "text/x-python",
   "name": "python",
   "nbconvert_exporter": "python",
   "pygments_lexer": "ipython3",
   "version": "3.12.8"
  }
 },
 "nbformat": 4,
 "nbformat_minor": 2
}
