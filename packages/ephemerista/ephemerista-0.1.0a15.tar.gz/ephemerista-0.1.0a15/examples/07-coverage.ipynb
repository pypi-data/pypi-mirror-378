{
 "cells": [
  {
   "cell_type": "markdown",
   "metadata": {
    "editable": true,
    "slideshow": {
     "slide_type": ""
    },
    "tags": []
   },
   "source": [
    "# Coverage analysis"
   ]
  },
  {
   "cell_type": "code",
   "execution_count": null,
   "metadata": {},
   "outputs": [],
   "source": [
    "import ephemerista\n",
    "from ephemerista.analysis.coverage import Coverage\n",
    "from ephemerista.assets import Asset, Spacecraft\n",
    "from ephemerista.propagators.sgp4 import SGP4\n",
    "from ephemerista.scenarios import Scenario\n",
    "from ephemerista.time import TimeDelta"
   ]
  },
  {
   "cell_type": "code",
   "execution_count": null,
   "metadata": {},
   "outputs": [],
   "source": [
    "ephemerista.init(eop_path=\"../tests/resources/finals2000A.all.csv\", spk_path=\"../tests/resources/de440s.bsp\")"
   ]
  },
  {
   "cell_type": "code",
   "execution_count": null,
   "metadata": {},
   "outputs": [],
   "source": [
    "tle = \"\"\"SENTINEL-6\n",
    "1 46984U 20086A   24319.21552651 -.00000061  00000+0  71254-6 0  9995\n",
    "2 46984  66.0411 259.6585 0007844 270.2444  89.7673 12.80930600186045\n",
    "\"\"\"\n",
    "\n",
    "propagator = SGP4(tle=tle)\n",
    "sc = Asset(model=Spacecraft(propagator=propagator), name=\"PHASMA\")"
   ]
  },
  {
   "cell_type": "code",
   "execution_count": null,
   "metadata": {},
   "outputs": [],
   "source": [
    "start_time = propagator.time\n",
    "end_time_one_orbit = start_time + TimeDelta.from_minutes(112)\n",
    "end_time_longer = start_time + TimeDelta.from_hours(24 * 5)"
   ]
  },
  {
   "cell_type": "markdown",
   "metadata": {},
   "source": [
    "### Option 1: load multi polygon (PolygonFeatureCollection) from geojson file"
   ]
  },
  {
   "cell_type": "markdown",
   "metadata": {},
   "source": [
    "The `load_geojson_multipolygon` method takes an additional argument `min_elevation_deg` to define at which minimum elevation from the ground location the visibility must be computed. Here we use a value of 0° to model a ground station. "
   ]
  },
  {
   "cell_type": "code",
   "execution_count": null,
   "metadata": {
    "editable": true,
    "slideshow": {
     "slide_type": ""
    },
    "tags": []
   },
   "outputs": [],
   "source": [
    "from ephemerista.analysis.coverage import load_geojson_multipolygon\n",
    "\n",
    "feature_list = load_geojson_multipolygon(\"simple_polygons.geojson\", min_elevation_deg=0.0)"
   ]
  },
  {
   "cell_type": "code",
   "execution_count": null,
   "metadata": {},
   "outputs": [],
   "source": [
    "scenario_a_few_polygons = Scenario(\n",
    "    assets=[sc],\n",
    "    name=\"Coverage analysis\",\n",
    "    start_time=start_time,\n",
    "    end_time=end_time_longer,\n",
    "    areas_of_interest=feature_list,\n",
    "    auto_discretize=False,\n",
    ")"
   ]
  },
  {
   "cell_type": "code",
   "execution_count": null,
   "metadata": {},
   "outputs": [],
   "source": [
    "cov_a_few_polygons = Coverage(scenario=scenario_a_few_polygons)\n",
    "results_a_few_polygons = cov_a_few_polygons.analyze()"
   ]
  },
  {
   "cell_type": "code",
   "execution_count": null,
   "metadata": {},
   "outputs": [],
   "source": [
    "display(results_a_few_polygons.to_geodataframe())"
   ]
  },
  {
   "cell_type": "markdown",
   "metadata": {},
   "source": [
    "#### Matplotlib: coverage percentage"
   ]
  },
  {
   "cell_type": "code",
   "execution_count": null,
   "metadata": {},
   "outputs": [],
   "source": [
    "import matplotlib.pyplot as plt\n",
    "\n",
    "ax = results_a_few_polygons.plot_mpl()\n",
    "plt.show()"
   ]
  },
  {
   "cell_type": "markdown",
   "metadata": {},
   "source": [
    "#### Plotly: coverage percentage"
   ]
  },
  {
   "cell_type": "code",
   "execution_count": null,
   "metadata": {},
   "outputs": [],
   "source": [
    "fig = results_a_few_polygons.plot_plotly()\n",
    "fig.show()"
   ]
  },
  {
   "cell_type": "markdown",
   "metadata": {},
   "source": [
    "#### Plotly: maximum time gap"
   ]
  },
  {
   "cell_type": "code",
   "execution_count": null,
   "metadata": {},
   "outputs": [],
   "source": [
    "fig = results_a_few_polygons.plot_plotly(data_to_plot=\"max_time_gaps\")\n",
    "fig.show()"
   ]
  },
  {
   "cell_type": "markdown",
   "metadata": {},
   "source": [
    "### Option 2: using h3 to polygonize a region"
   ]
  },
  {
   "cell_type": "markdown",
   "metadata": {},
   "source": [
    "The `polygonize_aoi` method takes an additional argument `min_elevation_deg` to define at which minimum elevation from the ground locations the visibility must be computed.\n",
    "\n",
    "In this example we use 70° minimum elevation to model an optical satellite which can depoint a bit off-nadir but not too much in order not to loose too much image quality."
   ]
  },
  {
   "cell_type": "code",
   "execution_count": null,
   "metadata": {},
   "outputs": [],
   "source": [
    "import geojson_pydantic\n",
    "\n",
    "with open(\"single_aoi.geojson\") as f:\n",
    "    aoi = geojson_pydantic.FeatureCollection.model_validate_json(f.read())"
   ]
  },
  {
   "cell_type": "code",
   "execution_count": null,
   "metadata": {},
   "outputs": [],
   "source": [
    "from ephemerista.scenarios import polygonize_aoi, polygonize_aoi_rectangles\n",
    "\n",
    "feature_list = polygonize_aoi(\n",
    "    aoi_geom_dict=aoi.__geo_interface__[\"features\"][0][\"geometry\"], res=1, min_elevation_deg=70.0\n",
    ")"
   ]
  },
  {
   "cell_type": "markdown",
   "metadata": {},
   "source": [
    "### One orbit"
   ]
  },
  {
   "cell_type": "code",
   "execution_count": null,
   "metadata": {},
   "outputs": [],
   "source": [
    "scenario_one_orbit = Scenario(\n",
    "    assets=[sc],\n",
    "    name=\"Coverage analysis\",\n",
    "    start_time=start_time,\n",
    "    end_time=end_time_one_orbit,\n",
    "    areas_of_interest=feature_list,\n",
    "    auto_discretize=False,\n",
    ")"
   ]
  },
  {
   "cell_type": "code",
   "execution_count": null,
   "metadata": {},
   "outputs": [],
   "source": [
    "cov_one_orbit = Coverage(scenario=scenario_one_orbit)\n",
    "results_one_orbit = cov_one_orbit.analyze()"
   ]
  },
  {
   "cell_type": "code",
   "execution_count": null,
   "metadata": {},
   "outputs": [],
   "source": [
    "display(results_one_orbit.to_geodataframe())"
   ]
  },
  {
   "cell_type": "markdown",
   "metadata": {},
   "source": [
    "#### Matplotlib"
   ]
  },
  {
   "cell_type": "code",
   "execution_count": null,
   "metadata": {},
   "outputs": [],
   "source": [
    "import matplotlib.pyplot as plt\n",
    "\n",
    "ax = results_one_orbit.plot_mpl(legend=True, cmap=\"viridis\")\n",
    "plt.show()"
   ]
  },
  {
   "cell_type": "markdown",
   "metadata": {},
   "source": [
    "#### Plotly: coverage percentage"
   ]
  },
  {
   "cell_type": "code",
   "execution_count": null,
   "metadata": {},
   "outputs": [],
   "source": [
    "fig = results_one_orbit.plot_plotly(color_continuous_scale=\"Jet\", opacity=0.5)\n",
    "fig.show()"
   ]
  },
  {
   "cell_type": "markdown",
   "metadata": {},
   "source": [
    "#### Plotly: worst time gaps in days"
   ]
  },
  {
   "cell_type": "markdown",
   "metadata": {},
   "source": [
    "The cells without any coverage during the simulation are not visible. Cells with only one visibility event during the simulation receive a time gap equal to the simulation duration, because it is not possible to compute the real time gap."
   ]
  },
  {
   "cell_type": "code",
   "execution_count": null,
   "metadata": {},
   "outputs": [],
   "source": [
    "fig = results_one_orbit.plot_plotly(data_to_plot=\"max_time_gaps\", color_continuous_scale=\"Jet\", opacity=0.4)\n",
    "fig.show()"
   ]
  },
  {
   "cell_type": "markdown",
   "metadata": {},
   "source": [
    "### 5 days"
   ]
  },
  {
   "cell_type": "code",
   "execution_count": null,
   "metadata": {
    "jupyter": {
     "source_hidden": true
    }
   },
   "outputs": [],
   "source": [
    "scenario_longer = Scenario(\n",
    "    assets=[sc],\n",
    "    name=\"Coverage analysis\",\n",
    "    start_time=start_time,\n",
    "    end_time=end_time_longer,\n",
    "    areas_of_interest=feature_list,\n",
    "    auto_discretize=False,\n",
    ")"
   ]
  },
  {
   "cell_type": "code",
   "execution_count": null,
   "metadata": {},
   "outputs": [],
   "source": [
    "cov_longer = Coverage(scenario=scenario_longer)\n",
    "results_longer = cov_longer.analyze()"
   ]
  },
  {
   "cell_type": "raw",
   "metadata": {},
   "source": [
    "display(results_longer.to_geodataframe())"
   ]
  },
  {
   "cell_type": "markdown",
   "metadata": {},
   "source": [
    "#### Matplotlib"
   ]
  },
  {
   "cell_type": "code",
   "execution_count": null,
   "metadata": {},
   "outputs": [],
   "source": [
    "import matplotlib.pyplot as plt\n",
    "\n",
    "ax = results_longer.plot_mpl(legend=True, cmap=\"viridis\")\n",
    "plt.show()"
   ]
  },
  {
   "cell_type": "markdown",
   "metadata": {},
   "source": [
    "#### Plotly: coverage percentage"
   ]
  },
  {
   "cell_type": "code",
   "execution_count": null,
   "metadata": {
    "editable": true,
    "slideshow": {
     "slide_type": ""
    },
    "tags": []
   },
   "outputs": [],
   "source": [
    "fig = results_longer.plot_plotly(color_continuous_scale=\"Jet\", opacity=0.5)\n",
    "fig.show()"
   ]
  },
  {
   "cell_type": "markdown",
   "metadata": {},
   "source": [
    "#### Plotly: worst time gaps in days"
   ]
  },
  {
   "cell_type": "markdown",
   "metadata": {},
   "source": [
    "The cells without any coverage during the simulation are not visible."
   ]
  },
  {
   "cell_type": "code",
   "execution_count": null,
   "metadata": {
    "editable": true,
    "slideshow": {
     "slide_type": ""
    },
    "tags": []
   },
   "outputs": [],
   "source": [
    "fig = results_longer.plot_plotly(data_to_plot=\"max_time_gaps\", color_continuous_scale=\"jet\", opacity=0.4)\n",
    "fig.show()"
   ]
  },
  {
   "cell_type": "markdown",
   "metadata": {},
   "source": [
    "### Option 3: using rectangles to polygonize a region"
   ]
  },
  {
   "cell_type": "markdown",
   "metadata": {},
   "source": [
    "The `polygonize_aoi_rectangles` method takes an additional argument `min_elevation_deg` to define at which minimum elevation from the ground locations the visibility must be computed.\n",
    "\n",
    "In this example we use 70° minimum elevation to model an optical satellite which can depoint a bit off-nadir but not too much in order not to loose too much image quality."
   ]
  },
  {
   "cell_type": "code",
   "execution_count": null,
   "metadata": {},
   "outputs": [],
   "source": [
    "import geojson_pydantic\n",
    "\n",
    "with open(\"single_aoi.geojson\") as f:\n",
    "    aoi = geojson_pydantic.FeatureCollection.model_validate_json(f.read())"
   ]
  },
  {
   "cell_type": "code",
   "execution_count": null,
   "metadata": {},
   "outputs": [],
   "source": [
    "feature_list = polygonize_aoi_rectangles(\n",
    "    aoi_geom_dict=aoi.__geo_interface__[\"features\"][0][\"geometry\"], vertex_degrees=5, min_elevation_deg=70.0\n",
    ")"
   ]
  },
  {
   "cell_type": "markdown",
   "metadata": {},
   "source": [
    "### One orbit"
   ]
  },
  {
   "cell_type": "code",
   "execution_count": null,
   "metadata": {},
   "outputs": [],
   "source": [
    "scenario_one_orbit = Scenario(\n",
    "    assets=[sc],\n",
    "    name=\"Coverage analysis\",\n",
    "    start_time=start_time,\n",
    "    end_time=end_time_one_orbit,\n",
    "    areas_of_interest=feature_list,\n",
    "    auto_discretize=False,\n",
    ")"
   ]
  },
  {
   "cell_type": "code",
   "execution_count": null,
   "metadata": {},
   "outputs": [],
   "source": [
    "cov_one_orbit = Coverage(scenario=scenario_one_orbit)\n",
    "results_one_orbit = cov_one_orbit.analyze()"
   ]
  },
  {
   "cell_type": "code",
   "execution_count": null,
   "metadata": {
    "editable": true,
    "slideshow": {
     "slide_type": ""
    },
    "tags": []
   },
   "outputs": [],
   "source": [
    "display(results_one_orbit.to_geodataframe())"
   ]
  },
  {
   "cell_type": "markdown",
   "metadata": {},
   "source": [
    "#### Matplotlib"
   ]
  },
  {
   "cell_type": "code",
   "execution_count": null,
   "metadata": {},
   "outputs": [],
   "source": [
    "import matplotlib.pyplot as plt\n",
    "\n",
    "ax = results_one_orbit.plot_mpl(legend=True, cmap=\"viridis\")\n",
    "plt.show()"
   ]
  },
  {
   "cell_type": "markdown",
   "metadata": {},
   "source": [
    "#### Plotly: coverage percentage"
   ]
  },
  {
   "cell_type": "code",
   "execution_count": null,
   "metadata": {
    "editable": true,
    "slideshow": {
     "slide_type": ""
    },
    "tags": []
   },
   "outputs": [],
   "source": [
    "fig = results_one_orbit.plot_plotly(color_continuous_scale=\"Jet\", opacity=0.5)\n",
    "fig.show()"
   ]
  },
  {
   "cell_type": "markdown",
   "metadata": {},
   "source": [
    "#### Plotly: worst time gaps in days"
   ]
  },
  {
   "cell_type": "markdown",
   "metadata": {},
   "source": [
    "The cells without any coverage during the simulation are not visible. Cells with only one visibility event during the simulation receive a time gap equal to the simulation duration, because it is not possible to compute the real time gap."
   ]
  },
  {
   "cell_type": "code",
   "execution_count": null,
   "metadata": {},
   "outputs": [],
   "source": [
    "fig = results_one_orbit.plot_plotly(data_to_plot=\"max_time_gaps\", color_continuous_scale=\"Jet\", opacity=0.4)\n",
    "fig.show()"
   ]
  },
  {
   "cell_type": "markdown",
   "metadata": {},
   "source": [
    "### 5 days"
   ]
  },
  {
   "cell_type": "code",
   "execution_count": null,
   "metadata": {},
   "outputs": [],
   "source": [
    "scenario_longer = Scenario(\n",
    "    assets=[sc],\n",
    "    name=\"Coverage analysis\",\n",
    "    start_time=start_time,\n",
    "    end_time=end_time_longer,\n",
    "    areas_of_interest=feature_list,\n",
    "    auto_discretize=False,\n",
    ")"
   ]
  },
  {
   "cell_type": "code",
   "execution_count": null,
   "metadata": {},
   "outputs": [],
   "source": [
    "cov_longer = Coverage(scenario=scenario_longer)\n",
    "results_longer = cov_longer.analyze()"
   ]
  },
  {
   "cell_type": "code",
   "execution_count": null,
   "metadata": {},
   "outputs": [],
   "source": [
    "display(results_longer.to_geodataframe())"
   ]
  },
  {
   "cell_type": "markdown",
   "metadata": {},
   "source": [
    "#### Matplotlib"
   ]
  },
  {
   "cell_type": "code",
   "execution_count": null,
   "metadata": {},
   "outputs": [],
   "source": [
    "import matplotlib.pyplot as plt\n",
    "\n",
    "ax = results_longer.plot_mpl(legend=True, cmap=\"viridis\")\n",
    "plt.show()"
   ]
  },
  {
   "cell_type": "markdown",
   "metadata": {},
   "source": [
    "#### Plotly: coverage percentage"
   ]
  },
  {
   "cell_type": "code",
   "execution_count": null,
   "metadata": {},
   "outputs": [],
   "source": [
    "fig = results_longer.plot_plotly(color_continuous_scale=\"Jet\", opacity=0.5)\n",
    "fig.show()"
   ]
  },
  {
   "cell_type": "markdown",
   "metadata": {},
   "source": [
    "#### Plotly: worst time gaps in days"
   ]
  },
  {
   "cell_type": "markdown",
   "metadata": {},
   "source": [
    "The cells without any coverage during the simulation are not visible."
   ]
  },
  {
   "cell_type": "code",
   "execution_count": null,
   "metadata": {},
   "outputs": [],
   "source": [
    "fig = results_longer.plot_plotly(data_to_plot=\"max_time_gaps\", color_continuous_scale=\"jet\", opacity=0.4)\n",
    "fig.show()"
   ]
  }
 ],
 "metadata": {
  "kernelspec": {
   "display_name": ".venv",
   "language": "python",
   "name": "python3"
  },
  "language_info": {
   "codemirror_mode": {
    "name": "ipython",
    "version": 3
   },
   "file_extension": ".py",
   "mimetype": "text/x-python",
   "name": "python",
   "nbconvert_exporter": "python",
   "pygments_lexer": "ipython3",
   "version": "3.12.4"
  }
 },
 "nbformat": 4,
 "nbformat_minor": 4
}
