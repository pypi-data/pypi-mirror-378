{
 "cells": [
  {
   "cell_type": "markdown",
   "metadata": {},
   "source": [
    "# Ground tracks plots"
   ]
  },
  {
   "cell_type": "code",
   "execution_count": null,
   "metadata": {},
   "outputs": [],
   "source": [
    "%load_ext autoreload\n",
    "%autoreload 2"
   ]
  },
  {
   "cell_type": "code",
   "execution_count": null,
   "metadata": {},
   "outputs": [],
   "source": [
    "import plotly.graph_objects as go\n",
    "\n",
    "import ephemerista\n",
    "from ephemerista.assets import Asset, GroundStation\n",
    "from ephemerista.plot.groundtrack import GroundTrack\n",
    "from ephemerista.propagators.sgp4 import SGP4\n",
    "from ephemerista.time import TimeDelta"
   ]
  },
  {
   "cell_type": "code",
   "execution_count": null,
   "metadata": {},
   "outputs": [],
   "source": [
    "ephemerista.init(eop_path=\"../tests/resources/finals2000A.all.csv\", spk_path=\"../tests/resources/de440s.bsp\")"
   ]
  },
  {
   "cell_type": "code",
   "execution_count": null,
   "metadata": {},
   "outputs": [],
   "source": [
    "# Propgate a trajectory\n",
    "iss_tle = \"\"\"ISS (ZARYA)\n",
    "1 25544U 98067A   24187.33936543 -.00002171  00000+0 -30369-4 0  9995\n",
    "2 25544  51.6384 225.3932 0010337  32.2603  75.0138 15.49573527461367\"\"\"\n",
    "\n",
    "propagator = SGP4(tle=iss_tle)\n",
    "start_time = propagator.time\n",
    "end_time = start_time + TimeDelta.from_hours(6)\n",
    "times = start_time.trange(end_time, step=float(TimeDelta.from_minutes(1)))\n",
    "trajectory = propagator.propagate(times)"
   ]
  },
  {
   "cell_type": "markdown",
   "metadata": {},
   "source": [
    "### Plot 3D trajectory"
   ]
  },
  {
   "cell_type": "code",
   "execution_count": null,
   "metadata": {},
   "outputs": [],
   "source": [
    "fig = go.Figure()\n",
    "\n",
    "fig.add_trace(trajectory.origin.plot_3d_surface())\n",
    "fig.add_trace(trajectory.plot_3d())\n",
    "\n",
    "fig.update_layout(\n",
    "    title=f\"3D trajectory, {trajectory.origin.name}-centered {trajectory.frame.abbreviation} frame\",\n",
    ")\n",
    "fig.show()"
   ]
  },
  {
   "cell_type": "markdown",
   "metadata": {},
   "source": [
    "### Plot ground track in 3D"
   ]
  },
  {
   "cell_type": "code",
   "execution_count": null,
   "metadata": {},
   "outputs": [],
   "source": [
    "### Plot Spherical ground track\n",
    "gt = GroundTrack(trajectory, label=\"ISS\")\n",
    "gt.plot()"
   ]
  },
  {
   "cell_type": "markdown",
   "metadata": {},
   "source": [
    "### Plot classical ground track"
   ]
  },
  {
   "cell_type": "code",
   "execution_count": null,
   "metadata": {},
   "outputs": [],
   "source": [
    "# Change projection type\n",
    "gt.update_projection(\"equirectangular\")\n",
    "gt.plot()"
   ]
  },
  {
   "cell_type": "markdown",
   "metadata": {},
   "source": [
    "### Generate ground station network "
   ]
  },
  {
   "cell_type": "code",
   "execution_count": null,
   "metadata": {},
   "outputs": [],
   "source": [
    "station_data = [\n",
    "    (\"Kiruna\", 67.858428, 20.966880),\n",
    "    (\"Esrange Space Center\", 67.8833, 21.1833),\n",
    "    (\"Kourou\", 5.2360, -52.7686),\n",
    "    (\"Redu\", 50.00205516, 5.14518047),\n",
    "    (\"Cebreros\", 40.3726, -4.4739),\n",
    "    (\"New Norcia\", -30.9855, 116.2041),\n",
    "]\n",
    "stations = [Asset(model=GroundStation.from_lla(lon, lat), name=name) for name, lat, lon in station_data]"
   ]
  },
  {
   "cell_type": "markdown",
   "metadata": {},
   "source": [
    "### Add ground station to ground tracks"
   ]
  },
  {
   "cell_type": "code",
   "execution_count": null,
   "metadata": {},
   "outputs": [],
   "source": [
    "gt.plot_ground_station_network(stations)"
   ]
  },
  {
   "cell_type": "code",
   "execution_count": null,
   "metadata": {},
   "outputs": [],
   "source": []
  }
 ],
 "metadata": {
  "kernelspec": {
   "display_name": ".venv",
   "language": "python",
   "name": "python3"
  },
  "language_info": {
   "codemirror_mode": {
    "name": "ipython",
    "version": 3
   },
   "file_extension": ".py",
   "mimetype": "text/x-python",
   "name": "python",
   "nbconvert_exporter": "python",
   "pygments_lexer": "ipython3",
   "version": "3.12.3"
  }
 },
 "nbformat": 4,
 "nbformat_minor": 2
}
