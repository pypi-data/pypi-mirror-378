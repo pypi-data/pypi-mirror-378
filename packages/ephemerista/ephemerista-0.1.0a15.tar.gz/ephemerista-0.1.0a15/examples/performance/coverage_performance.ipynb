{
 "cells": [
  {
   "cell_type": "markdown",
   "metadata": {
    "editable": true,
    "slideshow": {
     "slide_type": ""
    },
    "tags": []
   },
   "source": [
    "# Coverage performance analysis"
   ]
  },
  {
   "cell_type": "code",
   "execution_count": null,
   "metadata": {},
   "outputs": [],
   "source": [
    "# Just for line magics exceding the line length:\n",
    "# ruff: noqa: E501\n",
    "\n",
    "# Some notebook working parameters that can be changed:\n",
    "do_time_comparisions = True\n",
    "do_profiles = True\n",
    "time_loops = 10\n",
    "\n",
    "available_aoi_files = [\n",
    "    \"../single_aoi.geojson\",\n",
    "    \"single_aoi_crosses_antimeridian.geojson\",\n",
    "    \"single_aoi_crosses_antimeridian_counter.geojson\",\n",
    "]\n",
    "available_aoi_files_index = 0"
   ]
  },
  {
   "cell_type": "code",
   "execution_count": null,
   "metadata": {},
   "outputs": [],
   "source": [
    "import ephemerista\n",
    "from ephemerista.analysis.coverage import Coverage\n",
    "from ephemerista.analysis.visibility import Visibility  # noqa: F401\n",
    "from ephemerista.assets import Asset, GroundStation, Spacecraft  # noqa: F401\n",
    "from ephemerista.propagators.sgp4 import SGP4\n",
    "from ephemerista.scenarios import Scenario\n",
    "from ephemerista.time import TimeDelta"
   ]
  },
  {
   "cell_type": "code",
   "execution_count": null,
   "metadata": {},
   "outputs": [],
   "source": [
    "%%time\n",
    "ephemerista.init(\n",
    "    eop_path=\"../../tests/resources/finals2000A.all.csv\",\n",
    "    spk_path=\"../../tests/resources/de440s.bsp\",\n",
    ")"
   ]
  },
  {
   "cell_type": "code",
   "execution_count": null,
   "metadata": {},
   "outputs": [],
   "source": [
    "%%time\n",
    "tle = \"\"\"SENTINEL-6\n",
    "1 46984U 20086A   24319.21552651 -.00000061  00000+0  71254-6 0  9995\n",
    "2 46984  66.0411 259.6585 0007844 270.2444  89.7673 12.80930600186045\n",
    "\"\"\"\n",
    "\n",
    "propagator = SGP4(tle=tle)\n",
    "sc = Asset(model=Spacecraft(propagator=propagator), name=\"PHASMA\")"
   ]
  },
  {
   "cell_type": "code",
   "execution_count": null,
   "metadata": {},
   "outputs": [],
   "source": [
    "%%time\n",
    "start_time = propagator.time\n",
    "end_time_one_orbit = start_time + TimeDelta.from_minutes(112)\n",
    "end_time_five_days = start_time + TimeDelta.from_hours(24 * 5)"
   ]
  },
  {
   "cell_type": "markdown",
   "metadata": {},
   "source": [
    "# Comparing hexagonal and rectangle region polygonization"
   ]
  },
  {
   "cell_type": "markdown",
   "metadata": {},
   "source": [
    "The `polygonize_aoi` method takes an additional argument `min_elevation_deg` to define at which minimum elevation from the ground locations the visibility must be computed.\n",
    "\n",
    "In this example we use 70° minimum elevation to model an optical satellite which can depoint a bit off-nadir but not too much in order not to loose too much image quality."
   ]
  },
  {
   "cell_type": "code",
   "execution_count": null,
   "metadata": {},
   "outputs": [],
   "source": [
    "import geojson_pydantic\n",
    "\n",
    "from ephemerista.scenarios import polygonize_aoi, polygonize_aoi_rectangles\n",
    "\n",
    "if do_profiles:\n",
    "    %load_ext line_profiler"
   ]
  },
  {
   "cell_type": "code",
   "execution_count": null,
   "metadata": {
    "editable": true,
    "slideshow": {
     "slide_type": ""
    },
    "tags": []
   },
   "outputs": [],
   "source": [
    "with open(available_aoi_files[available_aoi_files_index]) as f:\n",
    "    aoi = geojson_pydantic.FeatureCollection.model_validate_json(f.read())"
   ]
  },
  {
   "cell_type": "code",
   "execution_count": null,
   "metadata": {},
   "outputs": [],
   "source": [
    "def plot_feature_list(\n",
    "    aoi: list | None = None,\n",
    "    feature_list: list | None = None,\n",
    "    title=\"AOI Sub-Polygons\",\n",
    "    only_indexes: list[int] | None = None,\n",
    "):\n",
    "    \"\"\"\n",
    "    Plot a list of polygon features using matplotlib and shapely.\n",
    "    \"\"\"\n",
    "    import matplotlib.pyplot as plt\n",
    "    from shapely.geometry import shape\n",
    "\n",
    "    plt.figure(figsize=(16, 6))\n",
    "    if aoi:\n",
    "        for feature in aoi:\n",
    "            geom = shape(feature.geometry)\n",
    "            x, y = geom.exterior.xy\n",
    "            plt.plot(x, y, color=\"lime\", linewidth=3)\n",
    "\n",
    "    if feature_list:\n",
    "        index = -1\n",
    "        for feature in feature_list:\n",
    "            index = index + 1\n",
    "            if only_indexes and index not in only_indexes:\n",
    "                continue\n",
    "\n",
    "            geom = shape(feature.geometry)\n",
    "            x, y = geom.exterior.xy\n",
    "            plt.plot(x, y, marker=\"o\")\n",
    "\n",
    "    plt.title(title)\n",
    "    plt.xlabel(\"Longitude\")\n",
    "    plt.ylabel(\"Latitude\")\n",
    "    plt.grid(True)\n",
    "    plt.show()"
   ]
  },
  {
   "cell_type": "markdown",
   "metadata": {},
   "source": [
    "The following Figure shows the area defined by the AOI and how the polygons cover it. It can be misleading for the case of AOIs crossing the antimeridian, as they are [ploted as if it goes the other way around the globe](https://www.gadom.ski/antimeridian/latest/#whats-the-problem)."
   ]
  },
  {
   "cell_type": "code",
   "execution_count": null,
   "metadata": {},
   "outputs": [],
   "source": [
    "plot_feature_list(aoi=aoi.features, title=\"AOI features\")"
   ]
  },
  {
   "cell_type": "code",
   "execution_count": null,
   "metadata": {},
   "outputs": [],
   "source": [
    "%%time\n",
    "if do_time_comparisions:\n",
    "    for _i in range(time_loops):\n",
    "        feature_list_hex = polygonize_aoi(\n",
    "            aoi_geom_dict=aoi.__geo_interface__[\"features\"][0][\"geometry\"],\n",
    "            res=1,\n",
    "            min_elevation_deg=70.0,\n",
    "        )\n",
    "else:\n",
    "    feature_list_hex = polygonize_aoi(\n",
    "        aoi_geom_dict=aoi.__geo_interface__[\"features\"][0][\"geometry\"],\n",
    "        res=1,\n",
    "        min_elevation_deg=70.0,\n",
    "    )"
   ]
  },
  {
   "cell_type": "code",
   "execution_count": null,
   "metadata": {
    "editable": true,
    "slideshow": {
     "slide_type": ""
    },
    "tags": []
   },
   "outputs": [],
   "source": [
    "if do_profiles:\n",
    "    %lprun  -u 1 -f polygonize_aoi polygonize_aoi(aoi_geom_dict=aoi.__geo_interface__[\"features\"][0][\"geometry\"], res=1, min_elevation_deg=70.0)"
   ]
  },
  {
   "cell_type": "code",
   "execution_count": null,
   "metadata": {},
   "outputs": [],
   "source": [
    "%%time\n",
    "if do_time_comparisions:\n",
    "    for _i in range(time_loops):\n",
    "        feature_list_rectangle = polygonize_aoi_rectangles(\n",
    "            aoi_geom_dict=aoi.__geo_interface__[\"features\"][0][\"geometry\"],\n",
    "            vertex_degrees=6,\n",
    "            min_elevation_deg=70.0,\n",
    "        )\n",
    "else:\n",
    "    feature_list_rectangle = polygonize_aoi_rectangles(\n",
    "        aoi_geom_dict=aoi.__geo_interface__[\"features\"][0][\"geometry\"],\n",
    "        vertex_degrees=6,\n",
    "        min_elevation_deg=70.0,\n",
    "    )"
   ]
  },
  {
   "cell_type": "code",
   "execution_count": null,
   "metadata": {
    "editable": true,
    "slideshow": {
     "slide_type": ""
    },
    "tags": []
   },
   "outputs": [],
   "source": [
    "if do_profiles:\n",
    "    %lprun  -u 1 -f polygonize_aoi_rectangles polygonize_aoi_rectangles(aoi_geom_dict=aoi.__geo_interface__[\"features\"][0][\"geometry\"], vertex_degrees=6, min_elevation_deg=70.0)"
   ]
  },
  {
   "cell_type": "code",
   "execution_count": null,
   "metadata": {},
   "outputs": [],
   "source": [
    "plot_feature_list(aoi=aoi, feature_list=feature_list_hex, title=\"feature_list_hex\")\n",
    "plot_feature_list(aoi=aoi, feature_list=feature_list_rectangle, title=\"feature_list_rectangle\")"
   ]
  },
  {
   "cell_type": "markdown",
   "metadata": {},
   "source": [
    "## Scenarios"
   ]
  },
  {
   "cell_type": "code",
   "execution_count": null,
   "metadata": {},
   "outputs": [],
   "source": [
    "def get_scenario(feature_list, start_time=start_time, end_time=end_time_one_orbit):\n",
    "    return Scenario(\n",
    "        assets=[sc],\n",
    "        name=\"Coverage analysis\",\n",
    "        start_time=start_time,\n",
    "        end_time=end_time,\n",
    "        areas_of_interest=feature_list,\n",
    "    )"
   ]
  },
  {
   "cell_type": "code",
   "execution_count": null,
   "metadata": {},
   "outputs": [],
   "source": [
    "def get_coverage_results(scenario):\n",
    "    cov_one_orbit = Coverage(scenario=scenario)\n",
    "    results_one_orbit = cov_one_orbit.analyze()\n",
    "    return cov_one_orbit, results_one_orbit"
   ]
  },
  {
   "cell_type": "markdown",
   "metadata": {},
   "source": [
    "### One orbit scenario (hexagonal polygons)"
   ]
  },
  {
   "cell_type": "code",
   "execution_count": null,
   "metadata": {},
   "outputs": [],
   "source": [
    "%%time\n",
    "scenario_one_orbit_hex = get_scenario(feature_list_hex)"
   ]
  },
  {
   "cell_type": "code",
   "execution_count": null,
   "metadata": {},
   "outputs": [],
   "source": [
    "%%time\n",
    "cov_one_orbit_hex, results_one_orbit_hex = get_coverage_results(scenario_one_orbit_hex)"
   ]
  },
  {
   "cell_type": "code",
   "execution_count": null,
   "metadata": {
    "editable": true,
    "slideshow": {
     "slide_type": ""
    },
    "tags": []
   },
   "outputs": [],
   "source": [
    "if do_profiles:\n",
    "    %lprun -u 1 -f Coverage.analyze -f Visibility.analyze cov_one_orbit_hex.analyze()"
   ]
  },
  {
   "cell_type": "markdown",
   "metadata": {},
   "source": [
    "### One orbit scenario (rectangles)"
   ]
  },
  {
   "cell_type": "code",
   "execution_count": null,
   "metadata": {},
   "outputs": [],
   "source": [
    "%%time\n",
    "scenario_one_orbit_rectangle = get_scenario(feature_list_rectangle)"
   ]
  },
  {
   "cell_type": "code",
   "execution_count": null,
   "metadata": {},
   "outputs": [],
   "source": [
    "%%time\n",
    "cov_one_orbit_rectangle, results_one_orbit_rectangle = get_coverage_results(scenario_one_orbit_rectangle)"
   ]
  },
  {
   "cell_type": "code",
   "execution_count": null,
   "metadata": {
    "editable": true,
    "slideshow": {
     "slide_type": ""
    },
    "tags": []
   },
   "outputs": [],
   "source": [
    "if do_profiles:\n",
    "    %lprun  -u 1 -f Coverage.analyze -f GroundStation.propagate -f Visibility.analyze -f Spacecraft.propagate cov_one_orbit_rectangle.analyze()"
   ]
  },
  {
   "cell_type": "markdown",
   "metadata": {},
   "source": [
    "### 5 days orbit scenario (hexagonal polygons)"
   ]
  },
  {
   "cell_type": "code",
   "execution_count": null,
   "metadata": {},
   "outputs": [],
   "source": [
    "%%time\n",
    "scenario_five_days_hex = get_scenario(feature_list_hex, end_time=end_time_five_days)"
   ]
  },
  {
   "cell_type": "code",
   "execution_count": null,
   "metadata": {},
   "outputs": [],
   "source": [
    "%%time\n",
    "cov_five_days_hex, results_five_days_hex = get_coverage_results(scenario_five_days_hex)"
   ]
  },
  {
   "cell_type": "code",
   "execution_count": null,
   "metadata": {
    "editable": true,
    "slideshow": {
     "slide_type": ""
    },
    "tags": []
   },
   "outputs": [],
   "source": [
    "if do_profiles:\n",
    "    %lprun -u 1 -f Coverage.analyze cov_five_days_hex.analyze()"
   ]
  },
  {
   "cell_type": "markdown",
   "metadata": {},
   "source": [
    "### 5 days orbit scenario (rectangles)"
   ]
  },
  {
   "cell_type": "code",
   "execution_count": null,
   "metadata": {},
   "outputs": [],
   "source": [
    "%%time\n",
    "scenario_five_days_rectangle = get_scenario(feature_list_rectangle, end_time=end_time_five_days)"
   ]
  },
  {
   "cell_type": "code",
   "execution_count": null,
   "metadata": {},
   "outputs": [],
   "source": [
    "%%time\n",
    "cov_five_days_rectangle, results_five_days_rectangle = get_coverage_results(scenario_five_days_rectangle)"
   ]
  },
  {
   "cell_type": "code",
   "execution_count": null,
   "metadata": {
    "editable": true,
    "slideshow": {
     "slide_type": ""
    },
    "tags": []
   },
   "outputs": [],
   "source": [
    "if do_profiles:\n",
    "    %lprun -u 1 -f Coverage.analyze cov_five_days_rectangle.analyze()"
   ]
  },
  {
   "cell_type": "markdown",
   "metadata": {},
   "source": [
    "## display results"
   ]
  },
  {
   "cell_type": "code",
   "execution_count": null,
   "metadata": {},
   "outputs": [],
   "source": [
    "import matplotlib.pyplot as plt"
   ]
  },
  {
   "cell_type": "code",
   "execution_count": null,
   "metadata": {
    "editable": true,
    "raw_mimetype": "",
    "slideshow": {
     "slide_type": ""
    },
    "tags": []
   },
   "outputs": [],
   "source": [
    "display(results_one_orbit_hex.to_geodataframe())\n",
    "display(results_one_orbit_rectangle.to_geodataframe())\n",
    "display(results_five_days_hex.to_geodataframe())\n",
    "display(results_five_days_rectangle.to_geodataframe())"
   ]
  },
  {
   "cell_type": "code",
   "execution_count": null,
   "metadata": {},
   "outputs": [],
   "source": [
    "ax = results_one_orbit_hex.plot_mpl(legend=True, cmap=\"viridis\")\n",
    "plt.show()\n",
    "ax = results_one_orbit_rectangle.plot_mpl(legend=True, cmap=\"viridis\")\n",
    "plt.show()\n",
    "ax = results_five_days_hex.plot_mpl(legend=True, cmap=\"viridis\")\n",
    "plt.show()\n",
    "ax = results_five_days_rectangle.plot_mpl(legend=True, cmap=\"viridis\")\n",
    "plt.show()"
   ]
  },
  {
   "cell_type": "code",
   "execution_count": null,
   "metadata": {},
   "outputs": [],
   "source": [
    "fig = results_one_orbit_hex.plot_plotly(color_continuous_scale=\"Jet\", opacity=0.5)\n",
    "fig.show()\n",
    "fig = results_one_orbit_rectangle.plot_plotly(color_continuous_scale=\"Jet\", opacity=0.5)\n",
    "fig.show()\n",
    "fig = results_five_days_hex.plot_plotly(color_continuous_scale=\"Jet\", opacity=0.5)\n",
    "fig.show()\n",
    "fig = results_five_days_rectangle.plot_plotly(color_continuous_scale=\"Jet\", opacity=0.5)\n",
    "fig.show()"
   ]
  }
 ],
 "metadata": {
  "kernelspec": {
   "display_name": "ephemerista",
   "language": "python",
   "name": "python3"
  },
  "language_info": {
   "codemirror_mode": {
    "name": "ipython",
    "version": 3
   },
   "file_extension": ".py",
   "mimetype": "text/x-python",
   "name": "python",
   "nbconvert_exporter": "python",
   "pygments_lexer": "ipython3",
   "version": "3.12.10"
  }
 },
 "nbformat": 4,
 "nbformat_minor": 4
}
