{
 "cells": [
  {
   "cell_type": "markdown",
   "metadata": {},
   "source": [
    "# Link budgets"
   ]
  },
  {
   "cell_type": "code",
   "execution_count": null,
   "metadata": {},
   "outputs": [],
   "source": [
    "%load_ext autoreload\n",
    "%autoreload 2"
   ]
  },
  {
   "cell_type": "code",
   "execution_count": null,
   "metadata": {},
   "outputs": [],
   "source": "import ephemerista\nfrom ephemerista.analysis.link_budget import LinkBudget\nfrom ephemerista.angles import Angle\nfrom ephemerista.assets import Asset, GroundStation, Spacecraft\nfrom ephemerista.comms.antennas import SimpleAntenna\nfrom ephemerista.comms.channels import Channel\nfrom ephemerista.comms.frequencies import Frequency\nfrom ephemerista.comms.receiver import SimpleReceiver\nfrom ephemerista.comms.systems import CommunicationSystem\nfrom ephemerista.comms.transmitter import Transmitter\nfrom ephemerista.propagators.sgp4 import SGP4\nfrom ephemerista.scenarios import Scenario\nfrom ephemerista.time import TimeDelta"
  },
  {
   "cell_type": "code",
   "execution_count": null,
   "metadata": {},
   "outputs": [],
   "source": [
    "ephemerista.init(eop_path=\"../tests/resources/finals2000A.all.csv\", spk_path=\"../tests/resources/de440s.bsp\")"
   ]
  },
  {
   "cell_type": "markdown",
   "metadata": {},
   "source": [
    "## Link budget without interference"
   ]
  },
  {
   "cell_type": "code",
   "execution_count": null,
   "metadata": {},
   "outputs": [],
   "source": [
    "uplink = Channel(link_type=\"uplink\", modulation=\"BPSK\", data_rate=430502, required_eb_n0=2.3, margin=3)\n",
    "downlink = Channel(link_type=\"downlink\", modulation=\"BPSK\", data_rate=861004, required_eb_n0=4.2, margin=3)"
   ]
  },
  {
   "cell_type": "code",
   "execution_count": null,
   "metadata": {},
   "outputs": [],
   "source": "# S-Band\nfrequency = Frequency.megahertz(8308)"
  },
  {
   "cell_type": "code",
   "execution_count": null,
   "metadata": {},
   "outputs": [],
   "source": "gs_antenna = SimpleAntenna(gain_db=30, beamwidth_deg=5, design_frequency=frequency)\ngs_transmitter = Transmitter(power=4, frequency=frequency, line_loss=1.0)\ngs_receiver = SimpleReceiver(system_noise_temperature=889, frequency=frequency)\ngs_system = CommunicationSystem(\n    channels=[uplink.channel_id, downlink.channel_id],\n    transmitter=gs_transmitter,\n    receiver=gs_receiver,\n    antenna=gs_antenna,\n)"
  },
  {
   "cell_type": "code",
   "execution_count": null,
   "metadata": {},
   "outputs": [],
   "source": "sc_antenna = SimpleAntenna(gain_db=6.5, beamwidth_deg=60, design_frequency=frequency)\nsc_transmitter = Transmitter(power=1.348, frequency=frequency, line_loss=1.0)\nsc_receiver = SimpleReceiver(system_noise_temperature=429, frequency=frequency)\nsc_system = CommunicationSystem(\n    channels=[uplink.channel_id, downlink.channel_id],\n    transmitter=sc_transmitter,\n    receiver=sc_receiver,\n    antenna=sc_antenna,\n)"
  },
  {
   "cell_type": "code",
   "execution_count": null,
   "metadata": {},
   "outputs": [],
   "source": [
    "station_coordinates = [\n",
    "    (38.017, 23.731),\n",
    "    (36.971, 22.141),\n",
    "    (39.326, -82.101),\n",
    "    (50.750, 6.211),\n",
    "]\n",
    "\n",
    "stations = [\n",
    "    Asset(\n",
    "        model=GroundStation.from_lla(longitude, latitude, minimum_elevation=Angle.from_degrees(10)),\n",
    "        name=f\"Station {i}\",\n",
    "        comms=[gs_system],\n",
    "    )\n",
    "    for i, (latitude, longitude) in enumerate(station_coordinates)\n",
    "]"
   ]
  },
  {
   "cell_type": "code",
   "execution_count": null,
   "metadata": {},
   "outputs": [],
   "source": [
    "tle1 = \"\"\"\n",
    "1 99878U 14900A   24103.76319466  .00000000  00000-0 -11394-2 0    01\n",
    "2 99878  97.5138 156.7457 0016734 205.2381 161.2435 15.13998005    06\n",
    "\"\"\"\n",
    "\n",
    "propagator1 = SGP4(tle=tle1)\n",
    "sc1 = Asset(model=Spacecraft(propagator=propagator1), name=\"PHASMA\", comms=[sc_system])"
   ]
  },
  {
   "cell_type": "markdown",
   "metadata": {},
   "source": [
    "Set all ground stations to track the spacecraft, and set the spacecraft to track the first ground station.\n",
    "\n",
    "Note: if no tracking is specified, the antenna's boresight vector is used for computing pattern angle losses (in LVLH frame for a spacecraft, and in topocentric frame for a ground station)."
   ]
  },
  {
   "cell_type": "code",
   "execution_count": null,
   "metadata": {},
   "outputs": [],
   "source": [
    "for station in stations:\n",
    "    station.track(sc1.asset_id)\n",
    "\n",
    "sc1.track(stations[0].asset_id)"
   ]
  },
  {
   "cell_type": "code",
   "execution_count": null,
   "metadata": {},
   "outputs": [],
   "source": [
    "start_time = propagator1.time\n",
    "end_time = start_time + TimeDelta.from_days(1)\n",
    "\n",
    "scenario1 = Scenario(\n",
    "    assets=[*stations, sc1],\n",
    "    channels=[uplink, downlink],\n",
    "    name=\"PHASMA Link Budget\",\n",
    "    start_time=start_time,\n",
    "    end_time=end_time,\n",
    ")"
   ]
  },
  {
   "cell_type": "markdown",
   "metadata": {},
   "source": [
    "Showing the overview of the ground station passes as a dataframe."
   ]
  },
  {
   "cell_type": "code",
   "execution_count": null,
   "metadata": {},
   "outputs": [],
   "source": [
    "lb = LinkBudget(scenario=scenario1)\n",
    "results = lb.analyze()\n",
    "results.to_dataframe(stations[0], sc1)"
   ]
  },
  {
   "cell_type": "markdown",
   "metadata": {},
   "source": [
    "Showing the detailed metrics of a single pass as a dataframe"
   ]
  },
  {
   "cell_type": "code",
   "execution_count": null,
   "metadata": {},
   "outputs": [],
   "source": [
    "results[stations[0], sc1][0].to_dataframe()"
   ]
  },
  {
   "cell_type": "markdown",
   "metadata": {},
   "source": [
    "Showing plots between the first ground station and the spacecraft. As both are tracking each other, both the TX and the RX angles are always 0."
   ]
  },
  {
   "cell_type": "code",
   "execution_count": null,
   "metadata": {},
   "outputs": [],
   "source": [
    "results[stations[0], sc1][0].plot()"
   ]
  },
  {
   "cell_type": "markdown",
   "metadata": {},
   "source": [
    "Showing a similar plot but between the second ground station and the spacecraft. And the spacecraft is not tracking this ground station but another one nearby, the TX angle is not zero but relatively low."
   ]
  },
  {
   "cell_type": "code",
   "execution_count": null,
   "metadata": {},
   "outputs": [],
   "source": [
    "results[stations[1], sc1][0].plot()"
   ]
  },
  {
   "cell_type": "markdown",
   "metadata": {},
   "source": [
    "Plotting the environmental attenuations"
   ]
  },
  {
   "cell_type": "code",
   "execution_count": null,
   "metadata": {},
   "outputs": [],
   "source": [
    "results[stations[0], sc1][0].plot_attenuations(lb.percentage_exceed)"
   ]
  },
  {
   "cell_type": "markdown",
   "metadata": {},
   "source": [
    "## Link budget with interference analysis"
   ]
  },
  {
   "cell_type": "markdown",
   "metadata": {},
   "source": [
    "Adding a nearby spacecraft to the scenario to demonstrate downlink interference. \n",
    "\n",
    "As the scenario already contains several ground stations close to each other, there will be uplink interference too."
   ]
  },
  {
   "cell_type": "code",
   "execution_count": null,
   "metadata": {},
   "outputs": [],
   "source": [
    "tle2 = \"\"\"\n",
    "1 99878U 14900A   24103.76319466  .00000000  00000-0 -11394-2 0    01\n",
    "2 99878  97.5138 156.7457 0016734 205.2381 191.2435 15.13998005    09\n",
    "\"\"\"\n",
    "\n",
    "propagator2 = SGP4(tle=tle2)\n",
    "sc2 = Asset(model=Spacecraft(propagator=propagator1), name=\"INTERFERER\", comms=[sc_system])\n",
    "\n",
    "scenario2 = Scenario(\n",
    "    assets=[*stations, sc1, sc2],\n",
    "    channels=[uplink, downlink],\n",
    "    name=\"PHASMA Link Budget with interference\",\n",
    "    start_time=start_time,\n",
    "    end_time=end_time,\n",
    ")\n",
    "\n",
    "lb2 = LinkBudget(scenario=scenario2, with_interference=True)\n",
    "results_with_interference = lb2.analyze()"
   ]
  },
  {
   "cell_type": "code",
   "execution_count": null,
   "metadata": {},
   "outputs": [],
   "source": [
    "results_with_interference.to_dataframe(stations[0], sc1, with_interference=True)"
   ]
  },
  {
   "cell_type": "markdown",
   "metadata": {},
   "source": [
    "Normal link budget without interference"
   ]
  },
  {
   "cell_type": "code",
   "execution_count": null,
   "metadata": {},
   "outputs": [],
   "source": [
    "idx_pass = 1"
   ]
  },
  {
   "cell_type": "code",
   "execution_count": null,
   "metadata": {},
   "outputs": [],
   "source": [
    "results_with_interference[stations[0], sc1][idx_pass].plot(plot_interference=False)"
   ]
  },
  {
   "cell_type": "markdown",
   "metadata": {},
   "source": [
    "Same link budget but with interference"
   ]
  },
  {
   "cell_type": "code",
   "execution_count": null,
   "metadata": {},
   "outputs": [],
   "source": [
    "results_with_interference[stations[0], sc1][idx_pass].to_dataframe()"
   ]
  },
  {
   "cell_type": "code",
   "execution_count": null,
   "metadata": {},
   "outputs": [],
   "source": [
    "results_with_interference[stations[0], sc1][idx_pass].plot(plot_interference=True)"
   ]
  }
 ],
 "metadata": {
  "kernelspec": {
   "display_name": ".venv",
   "language": "python",
   "name": "python3"
  },
  "language_info": {
   "codemirror_mode": {
    "name": "ipython",
    "version": 3
   },
   "file_extension": ".py",
   "mimetype": "text/x-python",
   "name": "python",
   "nbconvert_exporter": "python",
   "pygments_lexer": "ipython3",
   "version": "3.12.4"
  }
 },
 "nbformat": 4,
 "nbformat_minor": 2
}