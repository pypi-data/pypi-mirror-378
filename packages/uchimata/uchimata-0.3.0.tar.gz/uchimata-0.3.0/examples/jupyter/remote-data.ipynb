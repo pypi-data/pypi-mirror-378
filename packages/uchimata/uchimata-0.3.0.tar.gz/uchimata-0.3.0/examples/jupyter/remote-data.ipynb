{
 "cells": [
  {
   "cell_type": "code",
   "execution_count": null,
   "id": "0a1c740e",
   "metadata": {},
   "outputs": [],
   "source": [
    "# /// script\n",
    "# requires-python = \">=3.11\"\n",
    "# dependencies = [\n",
    "#     \"uchimata\",\n",
    "#     \"numpy\",\n",
    "#     \"pandas\",\n",
    "# ]\n",
    "# ///"
   ]
  },
  {
   "cell_type": "code",
   "execution_count": null,
   "id": "c97d78c4-8d9a-4c7c-abcd-46ac75bda106",
   "metadata": {},
   "outputs": [],
   "source": [
    "import uchimata\n",
    "import requests\n",
    "\n",
    "def fetchFile(url):\n",
    "    response = requests.get(url)\n",
    "    if (response.status_code == 200):\n",
    "        file = response.content\n",
    "        return file\n",
    "    else:\n",
    "        print(\"Error fetching the remote file\")\n",
    "        return None\n",
    "\n",
    "vc = {\n",
    "    \"color\": {\n",
    "        \"field\": \"chr\",\n",
    "        \"colorScale\": \"Spectral\",\n",
    "    }\n",
    "}\n",
    "\n",
    "url = \"https://pub-5c3f8ce35c924114a178c6e929fc3ac7.r2.dev/Tan-2018_GSM3271347_gm12878_01.arrow\"\n",
    "model = fetchFile(url)\n",
    "uchimata.Widget(structure=model, viewconfig=vc)"
   ]
  },
  {
   "cell_type": "code",
   "execution_count": null,
   "id": "a83a088e-bdab-4365-94d0-0d9158e8851b",
   "metadata": {},
   "outputs": [],
   "source": []
  }
 ],
 "metadata": {
  "kernelspec": {
   "display_name": "Python 3 (ipykernel)",
   "language": "python",
   "name": "python3"
  },
  "language_info": {
   "codemirror_mode": {
    "name": "ipython",
    "version": 3
   },
   "file_extension": ".py",
   "mimetype": "text/x-python",
   "name": "python",
   "nbconvert_exporter": "python",
   "pygments_lexer": "ipython3",
   "version": "3.11.9"
  }
 },
 "nbformat": 4,
 "nbformat_minor": 5
}
