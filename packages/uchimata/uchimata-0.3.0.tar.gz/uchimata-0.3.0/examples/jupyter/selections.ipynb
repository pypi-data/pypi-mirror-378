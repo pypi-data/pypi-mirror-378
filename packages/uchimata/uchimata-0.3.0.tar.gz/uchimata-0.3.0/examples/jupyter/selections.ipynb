{
 "cells": [
  {
   "cell_type": "code",
   "execution_count": null,
   "id": "5f617a4b-abd3-41f4-bfb5-4a84c006dda2",
   "metadata": {},
   "outputs": [],
   "source": [
    "import requests\n",
    "import uchimata"
   ]
  },
  {
   "cell_type": "code",
   "execution_count": null,
   "id": "13cf0906-dd50-4aa0-8d89-866bd98dc1d1",
   "metadata": {},
   "outputs": [],
   "source": [
    "def fetchFile(url):\n",
    "    response = requests.get(url)\n",
    "    if (response.status_code == 200):\n",
    "        file = response.content\n",
    "        return file\n",
    "    else:\n",
    "        print(\"Error fetching the remote file\")\n",
    "        return None\n",
    "\n",
    "url = \"https://pub-5c3f8ce35c924114a178c6e929fc3ac7.r2.dev/Tan-2018_GSM3271347_gm12878_01.arrow\"\n",
    "model = fetchFile(url)\n",
    "w = uchimata.Widget(structure=model)"
   ]
  },
  {
   "cell_type": "code",
   "execution_count": null,
   "id": "e12c0d9e-ce55-46f8-94c1-c1d951a702f5",
   "metadata": {},
   "outputs": [],
   "source": [
    "w"
   ]
  },
  {
   "cell_type": "code",
   "execution_count": null,
   "id": "95fe0e12-5877-4d0e-999d-91d6b0517faf",
   "metadata": {},
   "outputs": [],
   "source": [
    "d = uchimata.select(model, \"1(mat)\")\n",
    "w = uchimata.Widget(structure=d)\n",
    "w"
   ]
  },
  {
   "cell_type": "code",
   "execution_count": null,
   "id": "e46de88e-0716-46a1-8e0f-1ac4a71c87ac",
   "metadata": {},
   "outputs": [],
   "source": []
  }
 ],
 "metadata": {
  "kernelspec": {
   "display_name": "Python 3 (ipykernel)",
   "language": "python",
   "name": "python3"
  },
  "language_info": {
   "codemirror_mode": {
    "name": "ipython",
    "version": 3
   },
   "file_extension": ".py",
   "mimetype": "text/x-python",
   "name": "python",
   "nbconvert_exporter": "python",
   "pygments_lexer": "ipython3",
   "version": "3.11.9"
  }
 },
 "nbformat": 4,
 "nbformat_minor": 5
}
