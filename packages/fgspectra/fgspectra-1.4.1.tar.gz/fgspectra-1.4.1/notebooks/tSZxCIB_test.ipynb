{
 "cells": [
  {
   "cell_type": "markdown",
   "metadata": {},
   "source": [
    "# Test: tSZxCIB\n",
    "\n",
    "Here we compute the difference between the tSZxCIB template used in Choi et al 2020 computed using fgspectra and the [Fortran](https://lambda.gsfc.nasa.gov/product/act/act_dr4_likelihood_get.cfm) implementation."
   ]
  },
  {
   "cell_type": "code",
   "execution_count": 1,
   "metadata": {},
   "outputs": [],
   "source": [
    "%matplotlib inline"
   ]
  },
  {
   "cell_type": "code",
   "execution_count": 2,
   "metadata": {},
   "outputs": [],
   "source": [
    "import numpy as np\n",
    "import matplotlib.pyplot as plt\n",
    "from fgspectra import cross as fgc\n",
    "from fgspectra import frequency as fgf\n",
    "from fgspectra import power as fgp"
   ]
  },
  {
   "cell_type": "markdown",
   "metadata": {},
   "source": [
    "Define parameters needed to compute the model"
   ]
  },
  {
   "cell_type": "code",
   "execution_count": 4,
   "metadata": {},
   "outputs": [],
   "source": [
    "fg_params = {\n",
    "    \"xi\": 0.1998220e00,\n",
    "    \"a_tSZ\": 0.5806115e01,\n",
    "    \"a_c\": 0.3648102e01,\n",
    "    \"T_d\": 9.7,\n",
    "    \"beta_p\": 0.2447908e01,\n",
    "}\n",
    "\n",
    "freqs = np.array([98, 150])\n",
    "nu_0 = 150.0\n",
    "ell_0 = 3000\n",
    "ell = np.arange(2, 7926)\n",
    "\n",
    "\n",
    "tSZ_and_CIB = fgc.SZxCIB_Choi2020()"
   ]
  },
  {
   "cell_type": "markdown",
   "metadata": {},
   "source": [
    "Now we can compute the sum of tSZ, CIB and tSZxCIB using fgspectra"
   ]
  },
  {
   "cell_type": "code",
   "execution_count": 5,
   "metadata": {},
   "outputs": [],
   "source": [
    "test = tSZ_and_CIB(\n",
    "    {\n",
    "        \"kwseq\": (\n",
    "            {\"nu\": freqs, \"nu_0\": nu_0},\n",
    "            {\n",
    "                \"nu\": freqs,\n",
    "                \"nu_0\": nu_0,\n",
    "                \"temp\": fg_params[\"T_d\"],\n",
    "                \"beta\": fg_params[\"beta_p\"],\n",
    "            },\n",
    "        )\n",
    "    },\n",
    "    {\n",
    "        \"kwseq\": (\n",
    "            {\"ell\": ell, \"ell_0\": ell_0, \"amp\": fg_params[\"a_tSZ\"]},\n",
    "            {\"ell\": ell, \"ell_0\": ell_0, \"amp\": fg_params[\"a_c\"]},\n",
    "            {\n",
    "                \"ell\": ell,\n",
    "                \"ell_0\": ell_0,\n",
    "                \"amp\": -fg_params[\"xi\"]\n",
    "                * np.sqrt(fg_params[\"a_tSZ\"] * fg_params[\"a_c\"]),\n",
    "            },\n",
    "        )\n",
    "    },\n",
    ")\n",
    "\n",
    "test_dict = {}\n",
    "\n",
    "for c1, f1 in enumerate(freqs):\n",
    "    for c2, f2 in enumerate(freqs):\n",
    "        test_dict[f1, f2] = test[c1, c2]"
   ]
  },
  {
   "cell_type": "markdown",
   "metadata": {},
   "source": [
    "The file 'sum_CIB_tSZ_tSZxCIB_fortran_routine.txt' contains the sum of tSZ, CIB and tSZxCIB computed using the implementation in the likelihood fortran code. You check the numerical differences:"
   ]
  },
  {
   "cell_type": "code",
   "execution_count": 6,
   "metadata": {},
   "outputs": [],
   "source": [
    "tSZ_and_CIB_f90Routine = np.loadtxt(\n",
    "    \"sum_CIB_tSZ_tSZxCIB_fortran_routine.txt\", unpack=True\n",
    ")\n",
    "\n",
    "reldiff_98x98 = (\n",
    "    np.abs(test_dict[98, 98] - tSZ_and_CIB_f90Routine[0, :])\n",
    "    / tSZ_and_CIB_f90Routine[0, :]\n",
    ")"
   ]
  },
  {
   "cell_type": "code",
   "execution_count": 7,
   "metadata": {},
   "outputs": [
    {
     "data": {
      "text/plain": [
       "6.856095485299012e-16"
      ]
     },
     "execution_count": 7,
     "metadata": {},
     "output_type": "execute_result"
    }
   ],
   "source": [
    "reldiff_98x98.max()"
   ]
  },
  {
   "cell_type": "code",
   "execution_count": null,
   "metadata": {},
   "outputs": [],
   "source": []
  }
 ],
 "metadata": {
  "kernelspec": {
   "display_name": "Python 3",
   "language": "python",
   "name": "python3"
  },
  "language_info": {
   "codemirror_mode": {
    "name": "ipython",
    "version": 3
   },
   "file_extension": ".py",
   "mimetype": "text/x-python",
   "name": "python",
   "nbconvert_exporter": "python",
   "pygments_lexer": "ipython3",
   "version": "3.7.9"
  }
 },
 "nbformat": 4,
 "nbformat_minor": 4
}
