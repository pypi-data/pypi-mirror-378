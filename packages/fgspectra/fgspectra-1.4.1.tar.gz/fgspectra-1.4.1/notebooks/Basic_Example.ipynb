{
 "cells": [
  {
   "cell_type": "code",
   "execution_count": 1,
   "metadata": {},
   "outputs": [],
   "source": [
    "%matplotlib inline"
   ]
  },
  {
   "cell_type": "code",
   "execution_count": 2,
   "metadata": {},
   "outputs": [],
   "source": [
    "from fgspectra import cross as fgc\n",
    "from fgspectra import power as fgp\n",
    "from fgspectra import frequency as fgf\n",
    "import numpy as np\n",
    "import matplotlib.pyplot as plt"
   ]
  },
  {
   "cell_type": "markdown",
   "metadata": {},
   "source": [
    "## Initialize a Model\n",
    "\n",
    "fgspectra makes it easy to build factorizable foreground models -- those that are separated into frequency and $\\ell$-dependent parts. You just pass into `FactorizedCrossSpectrum` the SED and $C_{\\ell}$ models, and get an object which behaves like the function you want."
   ]
  },
  {
   "cell_type": "code",
   "execution_count": 3,
   "metadata": {},
   "outputs": [],
   "source": [
    "tSZ = fgc.FactorizedCrossSpectrum(fgf.ThermalSZ(), fgp.tSZ_150_bat())"
   ]
  },
  {
   "cell_type": "markdown",
   "metadata": {},
   "source": [
    "You can build these models interactively in the Python interpeter or Jupyter. Just `print()` the model, and it will tell you the input parameters."
   ]
  },
  {
   "cell_type": "code",
   "execution_count": 4,
   "metadata": {},
   "outputs": [
    {
     "name": "stdout",
     "output_type": "stream",
     "text": [
      "FactorizedCrossSpectrum:\n",
      "- ThermalSZ (SED):\n",
      "    nu: null\n",
      "    nu_0: null\n",
      "- tSZ_150_bat (Cl):\n",
      "    amp: 1.0\n",
      "    ell: null\n",
      "    ell_0: null\n",
      "\n"
     ]
    }
   ],
   "source": [
    "print(tSZ)"
   ]
  },
  {
   "cell_type": "markdown",
   "metadata": {},
   "source": [
    "You call the `tSZ` with the SED arguments and the Cl arguments as a tuple. The arguments with default values are optional. Let's first leave all the default arguments in place:"
   ]
  },
  {
   "cell_type": "code",
   "execution_count": 5,
   "metadata": {},
   "outputs": [
    {
     "data": {
      "text/plain": [
       "array([[[1.]]])"
      ]
     },
     "execution_count": 5,
     "metadata": {},
     "output_type": "execute_result"
    }
   ],
   "source": [
    "freqs = np.array([150.0])\n",
    "ells = np.array([150])\n",
    "tSZ(\n",
    "    {\"nu\": freqs, \"nu_0\": 150.0},  # SED parameters\n",
    "    {\"ell\": ells, \"ell_0\": 150},  # Cl parameters\n",
    ")"
   ]
  },
  {
   "cell_type": "markdown",
   "metadata": {},
   "source": [
    "Now let's change some parameters. The parameters to each sub-model (i.e. SED or power spectrum) are passed as a tuple with the frequencies and ells. We set the spectrum to 1 at frequency `nu_0` -- let's change it to 50."
   ]
  },
  {
   "cell_type": "code",
   "execution_count": 6,
   "metadata": {},
   "outputs": [
    {
     "data": {
      "text/plain": [
       "array([[[0.25921065]]])"
      ]
     },
     "execution_count": 6,
     "metadata": {},
     "output_type": "execute_result"
    }
   ],
   "source": [
    "tSZ(\n",
    "    {\"nu\": freqs, \"nu_0\": 50.0},  # SED parameters\n",
    "    {\"ell\": ells, \"ell_0\": 150},  # Cl parameters\n",
    ")"
   ]
  },
  {
   "cell_type": "markdown",
   "metadata": {},
   "source": [
    "Of course `fgspectra` is meant to generate spectra. Let's generate a frequency and ell cross spectrum -- just pass in larger arrays. The shape of the result array will be \n",
    "\n",
    "$$(\\mathrm{freq}) \\times (\\mathrm{freq}) \\times (\\ell)$$."
   ]
  },
  {
   "cell_type": "code",
   "execution_count": 7,
   "metadata": {},
   "outputs": [],
   "source": [
    "freqs = np.array([150.0, 220.0])\n",
    "ells = np.arange(3000)\n",
    "\n",
    "spec = tSZ(\n",
    "    {\"nu\": freqs, \"nu_0\": 150.0},  # SED parameters\n",
    "    {\"ell\": ells, \"ell_0\": 150},  # Cl parameters\n",
    ")"
   ]
  },
  {
   "cell_type": "code",
   "execution_count": 8,
   "metadata": {},
   "outputs": [
    {
     "data": {
      "text/plain": [
       "(2, 2, 3000)"
      ]
     },
     "execution_count": 8,
     "metadata": {},
     "output_type": "execute_result"
    }
   ],
   "source": [
    "spec.shape"
   ]
  },
  {
   "cell_type": "markdown",
   "metadata": {},
   "source": [
    "Let's plot the different frequency cross spectra."
   ]
  },
  {
   "cell_type": "code",
   "execution_count": 9,
   "metadata": {},
   "outputs": [
    {
     "data": {
      "image/png": "[encoded data removed]",
      "text/plain": [
       "<Figure size 432x288 with 1 Axes>"
      ]
     },
     "metadata": {
      "needs_background": "light"
     },
     "output_type": "display_data"
    }
   ],
   "source": [
    "plt.plot(spec[0, 0], label=\"150x150\")\n",
    "plt.plot(spec[0, 1], label=\"150x220\")\n",
    "plt.plot(spec[1, 1], label=\"220x220\")\n",
    "plt.legend();"
   ]
  },
  {
   "cell_type": "code",
   "execution_count": null,
   "metadata": {},
   "outputs": [],
   "source": []
  }
 ],
 "metadata": {
  "kernelspec": {
   "display_name": "Python 3 (ipykernel)",
   "language": "python",
   "name": "python3"
  },
  "language_info": {
   "codemirror_mode": {
    "name": "ipython",
    "version": 3
   },
   "file_extension": ".py",
   "mimetype": "text/x-python",
   "name": "python",
   "nbconvert_exporter": "python",
   "pygments_lexer": "ipython3",
   "version": "3.8.11"
  }
 },
 "nbformat": 4,
 "nbformat_minor": 2
}
