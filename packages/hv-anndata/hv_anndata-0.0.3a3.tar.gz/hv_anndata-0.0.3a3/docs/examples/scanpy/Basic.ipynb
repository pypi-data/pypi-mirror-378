{
 "cells": [
  {
   "cell_type": "markdown",
   "id": "0",
   "metadata": {},
   "source": [
    "# Basic plotting tools\n",
    "\n",
    "hv resources\n",
    "- Gallery: https://holoviews.org/reference/\n",
    "- https://holoviews.org/user_guide/Customizing_Plots.html\n",
    "- https://holoviews.org/user_guide/Style_Mapping.html\n",
    "- https://holoviews.org/user_guide/Colormaps.html\n",
    "- https://holoviews.org/user_guide/Plotting_with_Bokeh.html"
   ]
  },
  {
   "cell_type": "code",
   "execution_count": null,
   "id": "1",
   "metadata": {},
   "outputs": [],
   "source": [
    "import holoviews as hv\n",
    "\n",
    "import hv_anndata\n",
    "from hv_anndata import ACCESSOR as A\n",
    "from hv_anndata import register\n",
    "\n",
    "register()\n",
    "\n",
    "hv.extension(\"bokeh\")"
   ]
  },
  {
   "cell_type": "code",
   "execution_count": null,
   "id": "2",
   "metadata": {},
   "outputs": [],
   "source": [
    "import numpy as np\n",
    "import scanpy as sc\n",
    "\n",
    "rng = np.random.default_rng()"
   ]
  },
  {
   "cell_type": "code",
   "execution_count": null,
   "id": "3",
   "metadata": {},
   "outputs": [],
   "source": [
    "adata = sc.datasets.pbmc68k_reduced()\n",
    "adata.layers[\"counts\"] = adata.raw.X\n",
    "del adata.raw\n",
    "sc.tl.umap(adata)\n",
    "adata"
   ]
  },
  {
   "cell_type": "markdown",
   "id": "4",
   "metadata": {},
   "source": [
    "{func}`scanpy.pl.scatter`\n",
    "\n",
    "missing features:\n",
    "- `use_raw` (deprecated!)\n",
    "- `na_color` (not super important)\n",
    "\n",
    "missing convenience:\n",
    "- `basis` for easy X&Y"
   ]
  },
  {
   "cell_type": "code",
   "execution_count": null,
   "id": "5",
   "metadata": {},
   "outputs": [],
   "source": [
    "# add NAs to check how missing values look\n",
    "adata_scatter = adata.copy()\n",
    "adata_scatter.obs.loc[\n",
    "    (\n",
    "        (adata_scatter.obs[\"bulk_labels\"] == \"Dendritic\")\n",
    "        & rng.choice([True, False], size=len(adata_scatter))\n",
    "    ),\n",
    "    \"bulk_labels\",\n",
    "] = np.nan\n",
    "\n",
    "hv.Scatter(\n",
    "    adata_scatter, A.obsm[\"X_umap\"][0], [A.obsm[\"X_umap\"][1], A.obs[\"bulk_labels\"]]\n",
    ").opts(\n",
    "    color=A.obs[\"bulk_labels\"], cmap=\"tab10\", aspect=\"square\", legend_position=\"right\"\n",
    ")"
   ]
  },
  {
   "cell_type": "markdown",
   "id": "6",
   "metadata": {},
   "source": [
    "{func}`scanpy.pl.heatmap`\n",
    "\n",
    "missing:\n",
    "- `groupby` / [TickBar](https://github.com/holoviz/holoviews/issues/6658)\n",
    "- `standard_scale` (see implemantation in {class}`hv_anndata.Dotmap`)\n",
    "  - maybe done using [`dim` expressions](https://holoviews.org/user_guide/Transforming_Elements.html)?\n",
    "- dendrogram doesn’t work on heatmap (again ndim problem: dendrogram should tread `(n, 1)` as 1D)"
   ]
  },
  {
   "cell_type": "code",
   "execution_count": null,
   "id": "7",
   "metadata": {},
   "outputs": [],
   "source": [
    "markers = [\"C1QA\", \"PSAP\", \"CD79A\", \"CD79B\", \"CST3\", \"LYZ\"]\n",
    "hm = hv.HeatMap(\n",
    "    adata[:, markers],\n",
    "    [A.obs.index, A.var.index],\n",
    "    [A[:, :], A.obs[\"bulk_labels\"], A.obs[\"n_counts\"]],\n",
    ").opts(xticks=0, colorbar=True, frame_width=800, frame_height=100)\n",
    "try:\n",
    "    hm = hv.operation.dendrogram(\n",
    "        hm,\n",
    "        adjoint_dims=[A.obs[\"bulk_labels\"]],\n",
    "        main_dim=A.obs[\"n_counts\"],\n",
    "        linkage_metric=\"euclidean\",\n",
    "    )\n",
    "except Exception:  # noqa: BLE001\n",
    "    import traceback\n",
    "\n",
    "    traceback.print_exc()\n",
    "hm"
   ]
  },
  {
   "cell_type": "markdown",
   "id": "8",
   "metadata": {},
   "source": [
    "{func}`scanpy.pl.dotplot`\n",
    "\n",
    "missing:\n",
    "- `var_group_*` (highlight groups of `var_names` by drawing brackets)"
   ]
  },
  {
   "cell_type": "code",
   "execution_count": null,
   "id": "9",
   "metadata": {},
   "outputs": [],
   "source": [
    "markers = [\"C1QA\", \"PSAP\", \"CD79A\", \"CD79B\", \"CST3\", \"LYZ\"]\n",
    "dm = hv_anndata.Dotmap(adata=adata, marker_genes=markers, groupby=\"bulk_labels\")\n",
    "dm"
   ]
  },
  {
   "cell_type": "code",
   "execution_count": null,
   "id": "10",
   "metadata": {},
   "outputs": [],
   "source": [
    "hv.operation.dendrogram(\n",
    "    dm.plot(), adjoint_dims=[\"cluster\"], main_dim=\"mean_expression\", invert=True\n",
    ")"
   ]
  },
  {
   "cell_type": "markdown",
   "id": "11",
   "metadata": {},
   "source": [
    "{func}`scanpy.pl.tracksplot`\n",
    "\n",
    "missing:\n",
    "- `shared_xaxis=False` doesn’t seem to work on GridSpace\n",
    "- GridSpace can only be 2D or row-only, not col-only\n",
    "- [GridSpace `show_legend` broken](https://github.com/holoviz/holoviews/issues/5438)"
   ]
  },
  {
   "cell_type": "code",
   "execution_count": null,
   "id": "12",
   "metadata": {},
   "outputs": [],
   "source": [
    "markers = [\"C1QA\", \"PSAP\", \"CD79A\", \"CD79B\", \"CST3\", \"LYZ\"]\n",
    "hv.NdLayout(\n",
    "    {\n",
    "        m: hv.Curve(adata, [A.obs.index], [A[:, m], A.obs[\"bulk_labels\"]])\n",
    "        .opts(\n",
    "            xticks=0,\n",
    "            xlabel=\"\",\n",
    "            ylabel=m,\n",
    "            title=\"\",\n",
    "            frame_height=50,\n",
    "            frame_width=900,\n",
    "            show_legend=False,\n",
    "        )\n",
    "        .groupby(A.obs[\"bulk_labels\"], hv.NdOverlay)\n",
    "        for m in markers\n",
    "    },\n",
    "    kdims=[\"marker\"],\n",
    ").cols(1)"
   ]
  },
  {
   "cell_type": "code",
   "execution_count": null,
   "id": "13",
   "metadata": {},
   "outputs": [],
   "source": [
    "markers = [\"C1QA\", \"PSAP\", \"CD79A\", \"CD79B\", \"CST3\", \"LYZ\"]\n",
    "hv.GridSpace(\n",
    "    {\n",
    "        (0, m): hv.Curve(adata, [A.obs.index], [A[:, m], A.obs[\"bulk_labels\"]])\n",
    "        .opts(frame_height=50, frame_width=900)\n",
    "        .groupby(A.obs[\"bulk_labels\"], hv.NdOverlay)\n",
    "        for m in markers\n",
    "    },\n",
    "    kdims=[\"_\", \"marker\"],\n",
    ").opts(show_legend=True, xaxis=None)"
   ]
  },
  {
   "cell_type": "markdown",
   "id": "14",
   "metadata": {},
   "source": [
    "{func}`scanpy.pl.violin`\n",
    "\n",
    "missing:\n",
    "- `density_norm`"
   ]
  },
  {
   "cell_type": "code",
   "execution_count": null,
   "id": "15",
   "metadata": {},
   "outputs": [],
   "source": [
    "hv.Layout([\n",
    "    hv.Violin(adata, vdims=[A.obs[col]]).opts(\n",
    "        ylabel=\"\", title=col, show_grid=True, ylim=(0, None)\n",
    "    )\n",
    "    for col in [\"percent_mito\", \"n_counts\", \"n_genes\"]\n",
    "]).opts(axiswise=True)"
   ]
  },
  {
   "cell_type": "code",
   "execution_count": null,
   "id": "16",
   "metadata": {},
   "outputs": [],
   "source": [
    "# hv.Violin(adata, [A.obs[\"bulk_labels\"]], [A.obs[\"S_score\"]]).groupby(\n",
    "#    A.obs[\"bulk_labels\"], hv.NdOverlay\n",
    "# ).opts(width=500, xrotation=30)\n",
    "hv.Violin(adata, [A.obs[\"bulk_labels\"]], [A.obs[\"S_score\"]]).opts(\n",
    "    width=500, xrotation=30, violin_fill_color=A.obs[\"bulk_labels\"]\n",
    ")"
   ]
  },
  {
   "cell_type": "markdown",
   "id": "17",
   "metadata": {},
   "source": [
    "{func}`scanpy.pl.stacked_violin`\n",
    "\n",
    "missing:\n",
    "- see tracksplot above\n",
    "- can’t do `.hist()` or `.operations.dendrogram` on GridSpace\n",
    "- slow!"
   ]
  },
  {
   "cell_type": "code",
   "execution_count": null,
   "id": "18",
   "metadata": {},
   "outputs": [],
   "source": [
    "markers = [\"C1QA\", \"PSAP\", \"CD79A\", \"CD79B\", \"CST3\", \"LYZ\"]\n",
    "hv.GridSpace(\n",
    "    {\n",
    "        (marker, label): hv.Violin(\n",
    "            adata[adata.obs[\"bulk_labels\"] == label].copy(), vdims=[A[:, marker]]\n",
    "        ).opts(frame_height=50, frame_width=50, inner=None)\n",
    "        for marker in markers\n",
    "        for label in adata.obs[\"bulk_labels\"].cat.categories\n",
    "    },\n",
    "    [\"marker\", \"bulk label\"],\n",
    ")"
   ]
  },
  {
   "cell_type": "markdown",
   "id": "19",
   "metadata": {},
   "source": [
    "{func}`scanpy.pl.matrixplot`\n",
    "\n",
    "missing:\n",
    "- `aspect=\"equal\"` breaks (bokeh tries to divide `None/None`)\n",
    "- hist doesn’t align properly"
   ]
  },
  {
   "cell_type": "code",
   "execution_count": null,
   "id": "20",
   "metadata": {},
   "outputs": [],
   "source": [
    "markers = [\"C1QA\", \"PSAP\", \"CD79A\", \"CD79B\", \"CST3\", \"LYZ\"]\n",
    "hv.HeatMap(\n",
    "    sc.get.aggregate(adata[:, markers], \"bulk_labels\", \"mean\"),\n",
    "    [A.obs.index, A.var.index],\n",
    "    [A.layers[\"mean\"][:, :]],\n",
    ").opts(xrotation=30, frame_height=180, frame_width=300).hist(num_bins=6)"
   ]
  },
  {
   "cell_type": "markdown",
   "id": "21",
   "metadata": {},
   "source": [
    "{func}`scanpy.pl.clustermap`\n",
    "\n",
    "missing:\n",
    "- TickBar (see above)"
   ]
  },
  {
   "cell_type": "code",
   "execution_count": null,
   "id": "22",
   "metadata": {},
   "outputs": [],
   "source": [
    "hv_anndata.ClusterMap(adata=adata)"
   ]
  },
  {
   "cell_type": "markdown",
   "id": "23",
   "metadata": {},
   "source": [
    "{func}`scanpy.pl.dendrogram`: {class}`holoviews.operation.dendrogram`"
   ]
  }
 ],
 "metadata": {
  "kernelspec": {
   "display_name": "hv-anndata",
   "language": "python",
   "name": "hv-anndata"
  },
  "language_info": {
   "codemirror_mode": {
    "name": "ipython",
    "version": 3
   },
   "file_extension": ".py",
   "mimetype": "text/x-python",
   "name": "python",
   "nbconvert_exporter": "python",
   "pygments_lexer": "ipython3",
   "version": "3.13.7"
  }
 },
 "nbformat": 4,
 "nbformat_minor": 5
}
