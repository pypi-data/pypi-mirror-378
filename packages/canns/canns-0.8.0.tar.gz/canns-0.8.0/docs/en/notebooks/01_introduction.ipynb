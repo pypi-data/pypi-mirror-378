{
 "cells": [
  {
   "cell_type": "markdown",
   "metadata": {},
   "source": [
    "# Introduction to CANNs\n",
    "\n",
    "[![Binder](https://mybinder.org/badge_logo.svg)](https://mybinder.org/v2/gh/routhleck/canns/HEAD?filepath=docs%2Fen%2Fnotebooks%2F01_introduction.ipynb)\n",
    "[![Open In Colab](https://colab.research.google.com/assets/colab-badge.svg)](https://colab.research.google.com/github/routhleck/canns/blob/master/docs/en/notebooks/01_introduction.ipynb)\n",
    "\n",
    "Welcome to the CANNs (Continuous Attractor Neural Networks) library! This notebook provides an introduction to the key concepts and capabilities of this powerful neural network modeling framework.\n",
    "\n",
    "## What are Continuous Attractor Neural Networks?\n",
    "\n",
    "Continuous Attractor Neural Networks (CANNs) are a special class of neural network models that can maintain stable activity patterns in continuous state spaces. Unlike traditional neural networks that work with discrete inputs and outputs, CANNs excel at:\n",
    "\n",
    "- **Spatial Representation**: Encoding continuous spatial positions through population activity\n",
    "- **Working Memory**: Maintaining and updating dynamic information over time\n",
    "- **Path Integration**: Computing position changes based on movement information\n",
    "- **Smooth Tracking**: Following continuously changing targets\n",
    "\n",
    "## Key Features of the CANNs Library\n",
    "\n",
    "### 🏗️ Rich Model Library\n",
    "- **CANN1D/2D**: One and two-dimensional continuous attractor networks\n",
    "- **SFA Models**: Models with Slow Feature Analysis integration\n",
    "- **Hierarchical Networks**: Multi-layer architectures for complex information processing\n",
    "\n",
    "### 🎮 Task-Oriented Design\n",
    "- **Path Integration**: Spatial navigation and position estimation tasks\n",
    "- **Target Tracking**: Smooth continuous tracking of dynamic targets\n",
    "- **Extensible Framework**: Easy addition of custom task types\n",
    "\n",
    "### 📊 Powerful Analysis Tools\n",
    "- **Real-time Visualization**: Energy landscapes, neural activity animations\n",
    "- **Statistical Analysis**: Firing rates, tuning curves, population dynamics\n",
    "- **Data Processing**: z-score normalization, time series analysis\n",
    "\n",
    "### ⚡ High Performance Computing\n",
    "- **JAX Acceleration**: Efficient numerical computation based on JAX\n",
    "- **GPU Support**: CUDA and TPU hardware acceleration\n",
    "- **Parallel Processing**: Optimized for large-scale network simulations\n",
    "\n",
    "## Installation\n",
    "\n",
    "The CANNs library can be installed using pip with different configurations based on your hardware:"
   ]
  },
  {
   "cell_type": "code",
   "execution_count": null,
   "metadata": {},
   "outputs": [],
   "source": [
    "# Install CANNs (run this in your terminal, not in the notebook)\n",
    "# Basic installation (CPU)\n",
    "# !pip install canns\n",
    "\n",
    "# GPU support (Linux)\n",
    "# !pip install canns[cuda12]\n",
    "\n",
    "# TPU support (Linux)\n",
    "# !pip install canns[tpu]"
   ]
  },
  {
   "cell_type": "markdown",
   "metadata": {},
   "source": [
    "## Basic Usage Example\n",
    "\n",
    "Let's start with a simple example to demonstrate the basic usage of the CANNs library:"
   ]
  },
  {
   "cell_type": "code",
   "metadata": {
    "ExecuteTime": {
     "end_time": "2025-07-29T05:55:21.242806Z",
     "start_time": "2025-07-29T05:55:18.286219Z"
    }
   },
   "source": "import brainstate\nfrom canns.models.basic import CANN1D\nfrom canns.task.tracking import SmoothTracking1D\nfrom canns.analyzer.visualize import energy_landscape_1d_animation, PlotConfigs\nimport numpy as np\n\n# Set computation environment\nbrainstate.environ.set(dt=0.1)\nprint(\"BrainState environment configured with dt=0.1\")",
   "outputs": [],
   "execution_count": null
  },
  {
   "cell_type": "code",
   "execution_count": null,
   "metadata": {},
   "outputs": [],
   "source": [
    "# Create a 1D CANN network\n",
    "cann = CANN1D(num=512)\n",
    "cann.init_state()\n",
    "\n",
    "print(f\"Created CANN1D with {cann.num} neurons\")\n",
    "print(f\"Network shape: {cann.shape}\")\n",
    "print(f\"Feature space range: [{cann.x.min():.2f}, {cann.x.max():.2f}]\")"
   ]
  },
  {
   "cell_type": "markdown",
   "metadata": {},
   "source": [
    "## Understanding the Network Structure\n",
    "\n",
    "Let's explore the basic properties of our CANN network:"
   ]
  },
  {
   "cell_type": "code",
   "execution_count": null,
   "metadata": {},
   "outputs": [],
   "source": [
    "# Examine the connectivity matrix\n",
    "import matplotlib.pyplot as plt\n",
    "\n",
    "# Plot the connectivity matrix (a small portion for visualization)\n",
    "fig, (ax1, ax2) = plt.subplots(1, 2, figsize=(12, 4))\n",
    "\n",
    "# Plot connectivity pattern\n",
    "center_idx = cann.num // 2\n",
    "connectivity_slice = cann.conn_mat[center_idx, :]\n",
    "ax1.plot(cann.x, connectivity_slice)\n",
    "ax1.set_title('Connectivity Pattern (from center neuron)')\n",
    "ax1.set_xlabel('Position')\n",
    "ax1.set_ylabel('Connection Strength')\n",
    "ax1.grid(True)\n",
    "\n",
    "# Plot network positions\n",
    "ax2.plot(cann.x, np.zeros_like(cann.x), 'ko', markersize=2)\n",
    "ax2.set_title('Neuron Positions in Feature Space')\n",
    "ax2.set_xlabel('Position')\n",
    "ax2.set_ylabel('Neurons')\n",
    "ax2.set_ylim(-0.5, 0.5)\n",
    "ax2.grid(True)\n",
    "\n",
    "plt.tight_layout()\n",
    "plt.show()"
   ]
  },
  {
   "cell_type": "markdown",
   "metadata": {},
   "source": [
    "## Creating a Simple Tracking Task\n",
    "\n",
    "Now let's create a smooth tracking task to see the network in action:"
   ]
  },
  {
   "cell_type": "code",
   "execution_count": null,
   "metadata": {},
   "outputs": [],
   "source": [
    "# Define a smooth tracking task\n",
    "task = SmoothTracking1D(\n",
    "    cann_instance=cann,\n",
    "    Iext=(1., 0.75, 2., 1.75, 3.),  # External input sequence\n",
    "    duration=(10., 10., 10., 10.),   # Duration of each phase\n",
    "    time_step=brainstate.environ.get_dt(),\n",
    ")\n",
    "\n",
    "# Get task data\n",
    "task.get_data()\n",
    "\n",
    "print(f\"Task created with {len(task.data)} time steps\")\n",
    "print(f\"Input sequence: {task.Iext}\")\n",
    "print(f\"Phase durations: {task.duration}\")"
   ]
  },
  {
   "cell_type": "markdown",
   "metadata": {},
   "source": [
    "## Running the Simulation\n",
    "\n",
    "Let's run the network simulation and observe its behavior:"
   ]
  },
  {
   "cell_type": "code",
   "execution_count": null,
   "metadata": {},
   "outputs": [],
   "source": [
    "# Define simulation step\n",
    "def run_step(t, inputs):\n",
    "    cann(inputs)\n",
    "    return cann.u.value, cann.inp.value\n",
    "\n",
    "# Run simulation\n",
    "print(\"Running simulation...\")\n",
    "us, inps = brainstate.compile.for_loop(\n",
    "    run_step,\n",
    "    task.run_steps,\n",
    "    task.data,\n",
    "    pbar=brainstate.compile.ProgressBar(10)\n",
    ")\n",
    "\n",
    "print(f\"Simulation completed!\")\n",
    "print(f\"Output shape: {us.shape}\")\n",
    "print(f\"Input shape: {inps.shape}\")"
   ]
  },
  {
   "cell_type": "markdown",
   "metadata": {},
   "source": [
    "## Visualizing the Results\n",
    "\n",
    "Now let's visualize the network activity and see how it tracks the input:"
   ]
  },
  {
   "cell_type": "code",
   "execution_count": null,
   "metadata": {},
   "outputs": [],
   "source": [
    "# Plot static snapshots at different time points\n",
    "fig, axes = plt.subplots(2, 2, figsize=(12, 8))\n",
    "axes = axes.flatten()\n",
    "\n",
    "time_points = [0, len(us)//4, len(us)//2, len(us)-1]\n",
    "titles = ['Initial', 'Quarter', 'Half', 'Final']\n",
    "\n",
    "for i, (t, title) in enumerate(zip(time_points, titles)):\n",
    "    axes[i].plot(cann.x, us[t], 'b-', label='Network Activity', linewidth=2)\n",
    "    axes[i].plot(cann.x, inps[t], 'r--', label='External Input', alpha=0.7)\n",
    "    axes[i].set_title(f'{title} State (t={t})')\n",
    "    axes[i].set_xlabel('Position')\n",
    "    axes[i].set_ylabel('Activity')\n",
    "    axes[i].legend()\n",
    "    axes[i].grid(True)\n",
    "\n",
    "plt.tight_layout()\n",
    "plt.show()"
   ]
  },
  {
   "cell_type": "code",
   "execution_count": null,
   "metadata": {},
   "outputs": [],
   "source": "# Create energy landscape animation - using new config approach\nprint(\"Generating energy landscape animation...\")\n\n# Using new config-based approach\nconfig = PlotConfigs.energy_landscape_1d_animation(\n    time_steps_per_second=50,\n    fps=10,\n    title='1D CANN Smooth Tracking Demo',\n    xlabel='Position',\n    ylabel='Activity',\n    save_path='introduction_demo.gif',\n    show=True\n)\n\nenergy_landscape_1d_animation(\n    data_sets={'u': (cann.x, us), 'Iext': (cann.x, inps)},\n    config=config\n)\nprint(\"Animation saved as 'introduction_demo.gif'\")\n\n# Old-style approach still works (for reference):\n# energy_landscape_1d_animation(\n#     {'u': (cann.x, us), 'Iext': (cann.x, inps)},\n#     time_steps_per_second=50,\n#     fps=10,\n#     title='1D CANN Smooth Tracking Demo (Old Style)',\n#     xlabel='Position',\n#     ylabel='Activity',\n#     save_path='introduction_demo_old.gif',\n#     show=False,\n# )"
  },
  {
   "cell_type": "markdown",
   "metadata": {},
   "source": [
    "## Key Observations\n",
    "\n",
    "From this basic example, you should observe:\n",
    "\n",
    "1. **Smooth Tracking**: The network activity (blue line) smoothly follows the external input (red dashed line)\n",
    "2. **Continuous Representation**: The activity forms a smooth bump that moves continuously through the feature space\n",
    "3. **Stable Dynamics**: The network maintains stable activity patterns even when the input changes\n",
    "4. **Population Coding**: Multiple neurons contribute to representing each position\n",
    "\n",
    "## What's Next?\n",
    "\n",
    "This introduction covered the basics of the CANNs library. In the following notebooks, you'll learn about:\n",
    "\n",
    "- **Quick Start**: Getting up and running quickly with common use cases\n",
    "- **Core Concepts**: Deep dive into the mathematical foundations\n",
    "- **1D Networks**: Detailed exploration of one-dimensional CANNs\n",
    "- **2D Networks**: Two-dimensional spatial representations\n",
    "- **Hierarchical Models**: Multi-layer architectures\n",
    "- **Custom Tasks**: Creating your own tasks and experiments\n",
    "- **Visualization**: Advanced plotting and analysis techniques\n",
    "- **Performance**: Optimization and scaling for large simulations\n",
    "\n",
    "## Resources\n",
    "\n",
    "- **GitHub Repository**: https://github.com/routhleck/canns\n",
    "- **Documentation**: [ReadTheDocs](https://canns.readthedocs.io/)\n",
    "- **Examples**: Check the `examples/` directory in the repository\n",
    "- **Issues & Support**: https://github.com/routhleck/canns/issues\n",
    "\n",
    "Ready to explore more? Let's move on to the [Quick Start Guide](02_quickstart.ipynb)!"
   ]
  }
 ],
 "metadata": {
  "kernelspec": {
   "display_name": "Python 3",
   "language": "python",
   "name": "python3"
  },
  "language_info": {
   "codemirror_mode": {
    "name": "ipython",
    "version": 3
   },
   "file_extension": ".py",
   "mimetype": "text/x-python",
   "name": "python",
   "nbconvert_exporter": "python",
   "pygments_lexer": "ipython3",
   "version": "3.11.0"
  }
 },
 "nbformat": 4,
 "nbformat_minor": 4
}