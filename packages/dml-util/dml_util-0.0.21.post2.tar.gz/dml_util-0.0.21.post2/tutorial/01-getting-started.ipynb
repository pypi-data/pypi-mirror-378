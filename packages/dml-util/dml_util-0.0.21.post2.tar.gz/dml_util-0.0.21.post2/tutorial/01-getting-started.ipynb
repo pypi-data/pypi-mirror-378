{
 "cells": [
  {
   "cell_type": "markdown",
   "metadata": {},
   "source": [
    "# Tutorial 1: Getting Started with DaggerML\n",
    "\n",
    "Welcome to DaggerML! This tutorial will introduce you to the basic concepts of creating and working with DAGs (Directed Acyclic Graphs) using DaggerML.\n",
    "\n",
    "## What is DaggerML?\n",
    "\n",
    "DaggerML is a framework for building reproducible computational workflows. It helps you:\n",
    "- Create data pipelines as DAGs\n",
    "- Cache intermediate results automatically\n",
    "- Execute code in various environments (local, cloud, containers)\n",
    "- Track dependencies and data lineage\n",
    "\n",
    "## Key Concepts\n",
    "\n",
    "1. **DAG**: A directed acyclic graph representing your computation\n",
    "2. **Nodes**: Individual data values or computation results in the DAG\n",
    "3. **Functions**: Reusable computational units decorated with `@funkify`\n",
    "4. **Caching**: Automatic memoization of results based on inputs\n",
    "\n",
    "Let's start with the basics!"
   ]
  },
  {
   "cell_type": "code",
   "execution_count": null,
   "metadata": {},
   "outputs": [],
   "source": [
    "# First, let's import the necessary modules\n",
    "import os\n",
    "\n",
    "from daggerml import Dml\n",
    "\n",
    "from dml_util import funkify\n",
    "\n",
    "# Create a DaggerML instance\n",
    "# This manages our computational workspace\n",
    "dml = Dml(repo=\"tutorial\", branch=\"main\")\n",
    "dml(\"repo\", \"create\", \"tutorial\")\n",
    "os.environ.update({\"DML_S3_BUCKET\": \"does-not-matter\", \"DML_S3_PREFIX\": \"does-not-matter\"})\n",
    "print(\"DaggerML instance created successfully!\")"
   ]
  },
  {
   "cell_type": "markdown",
   "metadata": {},
   "source": [
    "## Creating Your First DAG\n",
    "\n",
    "A DAG in DaggerML is created using the `dml.new()` method. Let's create a simple DAG that stores some basic data."
   ]
  },
  {
   "cell_type": "code",
   "execution_count": null,
   "metadata": {},
   "outputs": [],
   "source": [
    "# Create a new DAG\n",
    "dag = dml.new(\"01-my-first-dag\", \"Learning the basics of DaggerML\")\n",
    "\n",
    "# Add some literal values to the DAG\n",
    "dag.number = 42\n",
    "dag.text = \"Hello DaggerML!\"\n",
    "dag.my_list = [1, 2, 3, 4, 5]\n",
    "dag.my_dict = {\"name\": \"Alice\", \"age\": 30, \"city\": \"San Francisco\"}\n",
    "\n",
    "print(\"DAG created with literal values\")\n",
    "print(f\"Number: {dag.number.value()}\")\n",
    "print(f\"Text: {dag.text.value()}\")\n",
    "print(f\"List: {dag.my_list.value()}\")\n",
    "print(f\"Dict: {dag.my_dict.value()}\")"
   ]
  },
  {
   "cell_type": "markdown",
   "metadata": {},
   "source": [
    "## Understanding Nodes vs Values\n",
    "\n",
    "In DaggerML, when you assign data to a DAG, it becomes a \"Node\". Nodes are references to data, while `.value()` gives you the actual data."
   ]
  },
  {
   "cell_type": "code",
   "execution_count": null,
   "metadata": {},
   "outputs": [],
   "source": [
    "# dag.number is a Node object\n",
    "print(f\"dag.number type: {type(dag.number)}\")\n",
    "print(f\"dag.number: {dag.number}\")\n",
    "\n",
    "# dag.number.value() gives us the actual value\n",
    "print(f\"dag.number.value() type: {type(dag.number.value())}\")\n",
    "print(f\"dag.number.value(): {dag.number.value()}\")\n",
    "\n",
    "# You can also access nested data\n",
    "print(f\"Name from dict: {type(dag.my_dict['name'])}\")\n",
    "print(f\"Name from dict: {dag.my_dict['name'].value()}\")\n",
    "print(f\"First list item: {dag.my_list[0].value()}\")"
   ]
  },
  {
   "cell_type": "markdown",
   "metadata": {},
   "source": [
    "## Working with Collections\n",
    "\n",
    "DaggerML automatically handles collections (lists, dictionaries) and makes their elements accessible as nodes."
   ]
  },
  {
   "cell_type": "code",
   "execution_count": null,
   "metadata": {},
   "outputs": [],
   "source": [
    "# Working with lists\n",
    "first_three = dag.my_list[:3]  # This creates a new node with the first 3 elements\n",
    "print(f\"First three elements: {first_three.value()}\")\n",
    "\n",
    "# Working with dictionaries\n",
    "person_name = dag.my_dict[\"name\"]\n",
    "print(f\"Person's name: {person_name.value()}\")\n",
    "\n",
    "# You can create new collections from existing nodes\n",
    "dag.processed_list = [x for x in dag.my_list]  # This creates nodes for each element\n",
    "print(f\"Processed list: {dag.processed_list.value()}\")\n",
    "\n",
    "# Combining data from different nodes\n",
    "dag.summary = {\n",
    "    \"count\": len(dag.my_list),\n",
    "    \"first_item\": dag.my_list[0],\n",
    "    \"person\": dag.my_dict[\"name\"]\n",
    "}\n",
    "print(f\"Summary: {dag.summary.value()}\")"
   ]
  },
  {
   "cell_type": "markdown",
   "metadata": {},
   "source": [
    "## Inspecting Your DAG\n",
    "\n",
    "You can explore what's in your DAG using the `.keys()` method."
   ]
  },
  {
   "cell_type": "code",
   "execution_count": null,
   "metadata": {},
   "outputs": [],
   "source": [
    "# See all the named nodes in your DAG\n",
    "print(\"All named nodes in the DAG:\")\n",
    "for key in sorted(dag.keys()):\n",
    "    print(f\"  {key}\")\n",
    "\n",
    "# You can also access nodes by name\n",
    "print(f\"\\nAccessing by name - dag['text']: {dag['text'].value()}\")"
   ]
  },
  {
   "cell_type": "markdown",
   "metadata": {},
   "source": [
    "## Your First Function with @funkify\n",
    "\n",
    "The `@funkify` decorator turns regular Python functions into DAG-aware functions. These functions receive a `dag` parameter that contains their inputs and can store outputs.\n",
    "\n",
    "The key thing to take away here is that it's dags all the way down with daggerml. Function calls are just nodes in our dag, but they are implemented as dags so that you can use all of your daggerml goodness in your function code."
   ]
  },
  {
   "cell_type": "code",
   "execution_count": null,
   "metadata": {},
   "outputs": [],
   "source": [
    "@funkify\n",
    "def standardize(dag):\n",
    "    \"\"\"Calculate the standard score (z-score) from a list of numbers.\"\"\"\n",
    "    # Get the input list from dag.argv[1] (first argument after the function itself)\n",
    "    numbers = dag.argv[1].value()\n",
    "\n",
    "    # Store intermediate results in the DAG\n",
    "    sum_ = sum(numbers)\n",
    "    cnt_ = len(numbers)\n",
    "    dag.count = cnt_\n",
    "    dag.sum = sum_\n",
    "    dag.mean = mean = sum_ / cnt_ if cnt_ > 0 else 0\n",
    "    dag.std_dev = std = (sum((x - mean) ** 2 for x in numbers) / cnt_) ** 0.5 if cnt_ > 0 else 0\n",
    "    dag.z_scores = [(x - mean) / std for x in numbers] if std > 0 else [0] * cnt_\n",
    "    return dag.z_scores\n",
    "\n",
    "# Add the function to our DAG\n",
    "dag.standardize = standardize\n",
    "\n",
    "# Call the function with our list\n",
    "dag.z_scores = dag.standardize(dag.my_list)\n",
    "\n",
    "print(\"Z-scores calculated!\")\n",
    "print(f\"Result: {dag.z_scores.value()}\")"
   ]
  },
  {
   "cell_type": "markdown",
   "metadata": {},
   "source": [
    "## Understanding Function Arguments\n",
    "\n",
    "When you call a funkified function, the arguments are available in `dag.argv`:\n",
    "- `dag.argv[0]` is the function itself\n",
    "- `dag.argv[1]` is the first argument you passed\n",
    "- `dag.argv[2]` is the second argument, etc.\n",
    "- `dag.argv[1:]` gives you all arguments except the function"
   ]
  },
  {
   "cell_type": "code",
   "execution_count": null,
   "metadata": {},
   "outputs": [],
   "source": [
    "@funkify\n",
    "def demonstrate_arguments(dag):\n",
    "    \"\"\"Show how arguments work in funkified functions.\"\"\"\n",
    "    # You can get all arguments except the function\n",
    "    all_args = dag.argv[1:].value()\n",
    "    dag.n_args = len(all_args)\n",
    "    dag.msg = f\"Received {dag.n_args.value()} arguments: {all_args}\"\n",
    "    return dag.msg\n",
    "\n",
    "# Add to DAG and test\n",
    "dag.demo_function = demonstrate_arguments\n",
    "dag.demo_result = dag.demo_function(\"hello\", 42, [1, 2, 3])\n",
    "\n",
    "print(f\"Demo result: {dag.demo_result.value()}\")"
   ]
  },
  {
   "cell_type": "markdown",
   "metadata": {},
   "source": [
    "## Saving and Loading DAGs\n",
    "\n",
    "One of DaggerML's powerful features is the ability to save and load entire DAGs for later use."
   ]
  },
  {
   "cell_type": "code",
   "execution_count": null,
   "metadata": {},
   "outputs": [],
   "source": [
    "# Commit the DAG with a final result\n",
    "dag.result = {\n",
    "    \"original_data\": {\n",
    "        \"number\": dag.number,\n",
    "        \"text\": dag.text,\n",
    "        \"list\": dag.my_list,\n",
    "        \"dict\": dag.my_dict\n",
    "    },\n",
    "    \"z_scores\": dag.z_scores,\n",
    "    \"demo_output\": dag.demo_result\n",
    "}\n",
    "\n",
    "print(\"DAG is ready! Final result structure:\")\n",
    "for key, value in dag.result.value().items():\n",
    "    print(f\"  {key}: {type(value).__name__}\")\n",
    "\n",
    "# Commit the DAG to save all our work\n",
    "print(\"\\nDAG committed successfully!\")\n",
    "print(\"This DAG can now be loaded and reused in other workflows.\")"
   ]
  },
  {
   "cell_type": "markdown",
   "metadata": {},
   "source": [
    "## Loading a Committed DAG\n",
    "\n",
    "Now that we've committed our DAG, let's demonstrate how to load it back and access its data. This is one of DaggerML's powerful features - you can save your computational results and reload them later."
   ]
  },
  {
   "cell_type": "code",
   "execution_count": null,
   "metadata": {},
   "outputs": [],
   "source": [
    "# Create a new DAG to demonstrate loading\n",
    "new_dag = dml.new(\"01-loading-example\", \"Demonstrating how to load committed DAGs\")\n",
    "\n",
    "# Load the result from our previously committed DAG\n",
    "# We use the commit hash to load the specific version\n",
    "old_dag = dml.load(\"01-my-first-dag\")\n",
    "\n",
    "print(\"Successfully loaded the committed DAG!\")\n",
    "print(f\"Loaded result type: {type(old_dag.result)}\")\n",
    "print(f\"Loaded result: {old_dag.result.value()}\")\n",
    "\n",
    "# Store the loaded result in our new DAG\n",
    "new_dag.loaded_data = old_dag.result"
   ]
  },
  {
   "cell_type": "markdown",
   "metadata": {},
   "source": [
    "## Accessing Specific Named Nodes from Loaded DAGs\n",
    "\n",
    "You can also load specific named nodes from a committed DAG, rather than loading the entire final result. This is useful when you only need certain parts of a large computational workflow. You do this the same way you would get nodes from a running dag (because they are dags). The only condition is that you can't add nodes to a completed dag."
   ]
  },
  {
   "cell_type": "code",
   "execution_count": null,
   "metadata": {},
   "outputs": [],
   "source": [
    "for key in sorted(old_dag.keys()):\n",
    "    print(f\"  {key}: {type(old_dag[key].value())}\")"
   ]
  },
  {
   "cell_type": "markdown",
   "metadata": {},
   "source": [
    "## Practical Use Cases for Loading DAGs\n",
    "\n",
    "Loading committed DAGs is particularly useful for:\n",
    "\n",
    "1. **Resuming work**: Continue from where you left off in a previous session\n",
    "2. **Sharing results**: Load computational results created by teammates\n",
    "3. **Building pipelines**: Use outputs from one DAG as inputs to another\n",
    "4. **Debugging**: Load intermediate results to investigate issues\n",
    "5. **Reproducibility**: Ensure exact results can be recreated later\n",
    "6. **Sharing code**: You can share functions coupled with the appropriate infrastructure without having to share *how* to get set up on that infra.\n",
    "\n",
    "Let's demonstrate building on loaded data:"
   ]
  },
  {
   "cell_type": "code",
   "execution_count": null,
   "metadata": {},
   "outputs": [],
   "source": [
    "# Build new computations using loaded data\n",
    "@funkify\n",
    "def analyze_loaded_data(dag):\n",
    "    \"\"\"Analyze the loaded z-scores and create a summary report.\"\"\"\n",
    "    z_scores = dag.argv[1].value()\n",
    "\n",
    "    dag.min_z = min(z_scores)\n",
    "    dag.max_z = max(z_scores)\n",
    "    dag.range_z = dag.max_z.value() - dag.min_z.value()\n",
    "\n",
    "    # Count how many are above/below average\n",
    "    dag.above_avg = sum(1 for z in z_scores if z > 0)\n",
    "    dag.below_avg = sum(1 for z in z_scores if z < 0)\n",
    "\n",
    "    dag.analysis_summary = {\n",
    "        \"min_z_score\": dag.min_z,\n",
    "        \"max_z_score\": dag.max_z,\n",
    "        \"z_score_range\": dag.range_z,\n",
    "        \"above_average_count\": dag.above_avg,\n",
    "        \"below_average_count\": dag.below_avg\n",
    "    }\n",
    "\n",
    "    return dag.analysis_summary\n",
    "\n",
    "# Add the function to our new DAG and use it with loaded data\n",
    "new_dag.original_z_scores = old_dag.z_scores\n",
    "new_dag.analyze_function = analyze_loaded_data\n",
    "new_dag.analysis_result = new_dag.analyze_function(new_dag.original_z_scores)\n",
    "\n",
    "print(\"Analysis of loaded z-scores:\")\n",
    "analysis = new_dag.analysis_result.value()\n",
    "for key, value in analysis.items():\n",
    "    if hasattr(value, 'value'):\n",
    "        print(f\"  {key}: {value.value()}\")\n",
    "    else:\n",
    "        print(f\"  {key}: {value}\")"
   ]
  },
  {
   "cell_type": "markdown",
   "metadata": {},
   "source": [
    "### Loading functions\n",
    "\n",
    "You can load a lot more than just data, you can load functions too! For example, below we import the `standardize` function from our first dag and run it in this dag without knowing anything about the implementation. This dependency is tracked under the hood."
   ]
  },
  {
   "cell_type": "code",
   "execution_count": null,
   "metadata": {},
   "outputs": [],
   "source": [
    "new_dag.standardize = old_dag.standardize\n",
    "new_dag.standardized_z_scores = new_dag.standardize(new_dag.original_z_scores[:-2])\n",
    "print(f\"{new_dag.standardized_z_scores.value() = }\")"
   ]
  },
  {
   "cell_type": "code",
   "execution_count": null,
   "metadata": {},
   "outputs": [],
   "source": [
    "# Commit this new analysis DAG too\n",
    "new_dag.result = new_dag.analysis_result\n",
    "print(\"Now we have two related DAGs - the original and the analysis!\")"
   ]
  },
  {
   "cell_type": "markdown",
   "metadata": {},
   "source": [
    "## What We've Learned\n",
    "\n",
    "In this tutorial, you've learned:\n",
    "\n",
    "1. ✅ How to create a DaggerML instance and DAG\n",
    "2. ✅ How to add literal values (numbers, strings, lists, dicts) to a DAG\n",
    "3. ✅ The difference between Nodes and values (using `.value()`)\n",
    "4. ✅ How to work with collections and access nested data\n",
    "5. ✅ How to inspect your DAG with `.keys()`\n",
    "6. ✅ How to create functions with `@funkify`\n",
    "7. ✅ How function arguments work in DAGs (`dag.argv`)\n",
    "8. ✅ How to store intermediate and final results\n",
    "9. ✅ **How to commit DAGs to save your computational work**\n",
    "10. ✅ **How to create new DAGs and load results from committed DAGs**\n",
    "11. ✅ **How to load specific named nodes from committed DAGs**\n",
    "12. ✅ **How to build new computations using loaded data**\n",
    "\n",
    "## Key Takeaways\n",
    "\n",
    "**DAG Persistence**: DaggerML automatically saves all your computational work when you commit a DAG. This includes:\n",
    "- All named nodes and their values\n",
    "- Intermediate computation results\n",
    "- Function outputs and internal state\n",
    "\n",
    "**Flexible Loading**: You can load either:\n",
    "- The final result of a DAG\n",
    "- Any specific named node from a committed DAG\n",
    "- This enables powerful workflow composition and reuse\n",
    "\n",
    "**Computational Lineage**: Every commit creates a permanent record of your computational workflow, making your work reproducible and shareable.\n",
    "\n",
    "## Next Steps\n",
    "\n",
    "In the next tutorial, we'll learn about:\n",
    "- Function composition and chaining\n",
    "- Advanced caching strategies and how they improve performance\n",
    "- Working with different data types and external data sources\n",
    "- Error handling in DAGs and recovery strategies\n",
    "\n",
    "Great job completing your first DaggerML tutorial! 🎉\n",
    "\n",
    "You now understand the fundamental concepts of DAGs, nodes, functions, and persistence - the building blocks for powerful computational workflows."
   ]
  }
 ],
 "metadata": {
  "kernelspec": {
   "display_name": "dml-util",
   "language": "python",
   "name": "python3"
  },
  "language_info": {
   "codemirror_mode": {
    "name": "ipython",
    "version": 3
   },
   "file_extension": ".py",
   "mimetype": "text/x-python",
   "name": "python",
   "nbconvert_exporter": "python",
   "pygments_lexer": "ipython3",
   "version": "3.11.13"
  }
 },
 "nbformat": 4,
 "nbformat_minor": 4
}
